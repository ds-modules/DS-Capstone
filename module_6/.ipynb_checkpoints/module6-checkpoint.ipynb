{
 "cells": [
  {
   "cell_type": "markdown",
   "metadata": {
    "cell_id": "f82a5a28-6e2e-41a9-9528-3276755921ab",
    "deepnote_cell_type": "markdown",
    "tags": []
   },
   "source": [
    "# Module 6: Data Visualization \n",
    "\n",
    "After cleaning your data, let's get to know the data a bit better with a data analyst's best friend -- graphs.\n",
    "\n",
    "Data visualization is a very important skill to have while analyzing your data and while presenting your findings to others, \n",
    "since it displays the patterns in the data in a clear format that's easier for others to understand. \n",
    "Often times, a good graph is better than whole paragraphs of explanation. \n",
    "\n",
    "For Data visualization, let's take a look at a rather cute topic: penguins.\n",
    "\n",
    "This dataset can be found [here](https://www.kaggle.com/parulpandey/palmer-archipelago-antarctica-penguin-data)"
   ]
  },
  {
   "cell_type": "code",
   "execution_count": null,
   "metadata": {
    "cell_id": "00001-beac069b-2856-476a-b835-c830b039b83c",
    "deepnote_cell_type": "code",
    "tags": []
   },
   "outputs": [
    {
     "name": "stderr",
     "output_type": "stream",
     "text": [
      "/opt/venv/lib/python3.7/site-packages/datascience/tables.py:17: MatplotlibDeprecationWarning: The 'warn' parameter of use() is deprecated since Matplotlib 3.1 and will be removed in 3.3.  If any parameter follows 'warn', they should be pass as keyword, not positionally.\n",
      "  matplotlib.use('agg', warn=False)\n",
      "/opt/venv/lib/python3.7/site-packages/datascience/util.py:10: MatplotlibDeprecationWarning: The 'warn' parameter of use() is deprecated since Matplotlib 3.1 and will be removed in 3.3.  If any parameter follows 'warn', they should be pass as keyword, not positionally.\n",
      "  matplotlib.use('agg', warn=False)\n"
     ]
    }
   ],
   "source": [
    "import matplotlib.pyplot as plt\n",
    "#import seaborn as sns\n",
    "import pandas as pd\n",
    "import numpy as np\n",
    "from datascience import *\n",
    "\n",
    "## reference back to data8 curriculum"
   ]
  },
  {
   "cell_type": "code",
   "execution_count": null,
   "metadata": {
    "cell_id": "d7debe1d-444a-4b1b-ae10-041cb5e7c529",
    "deepnote_cell_type": "code",
    "tags": []
   },
   "outputs": [
    {
     "data": {
      "application/vnd.deepnote.dataframe.v2+json": {
       "column_count": 7,
       "columns": [
        {
         "dtype": "object",
         "name": "species",
         "stats": {
          "categories": [
           {
            "count": 5,
            "name": "Adelie"
           }
          ],
          "nan_count": 0,
          "unique_count": 1
         }
        },
        {
         "dtype": "object",
         "name": "island",
         "stats": {
          "categories": [
           {
            "count": 5,
            "name": "Torgersen"
           }
          ],
          "nan_count": 0,
          "unique_count": 1
         }
        },
        {
         "dtype": "float64",
         "name": "culmen_length_mm",
         "stats": {
          "histogram": [
           {
            "bin_end": 37.06,
            "bin_start": 36.7,
            "count": 1
           },
           {
            "bin_end": 37.42,
            "bin_start": 37.06,
            "count": 0
           },
           {
            "bin_end": 37.78,
            "bin_start": 37.42,
            "count": 0
           },
           {
            "bin_end": 38.14,
            "bin_start": 37.78,
            "count": 0
           },
           {
            "bin_end": 38.5,
            "bin_start": 38.14,
            "count": 0
           },
           {
            "bin_end": 38.86,
            "bin_start": 38.5,
            "count": 0
           },
           {
            "bin_end": 39.22,
            "bin_start": 38.86,
            "count": 1
           },
           {
            "bin_end": 39.58,
            "bin_start": 39.22,
            "count": 2
           },
           {
            "bin_end": 39.94,
            "bin_start": 39.58,
            "count": 0
           },
           {
            "bin_end": 40.3,
            "bin_start": 39.94,
            "count": 1
           }
          ],
          "max": 40.3,
          "min": 36.7,
          "nan_count": 0,
          "unique_count": 5
         }
        },
        {
         "dtype": "float64",
         "name": "culmen_depth_mm",
         "stats": {
          "histogram": [
           {
            "bin_end": 17.72,
            "bin_start": 17.4,
            "count": 1
           },
           {
            "bin_end": 18.04,
            "bin_start": 17.72,
            "count": 1
           },
           {
            "bin_end": 18.36,
            "bin_start": 18.04,
            "count": 0
           },
           {
            "bin_end": 18.68,
            "bin_start": 18.36,
            "count": 0
           },
           {
            "bin_end": 19,
            "bin_start": 18.68,
            "count": 1
           },
           {
            "bin_end": 19.32,
            "bin_start": 19,
            "count": 1
           },
           {
            "bin_end": 19.64,
            "bin_start": 19.32,
            "count": 0
           },
           {
            "bin_end": 19.96,
            "bin_start": 19.64,
            "count": 0
           },
           {
            "bin_end": 20.28,
            "bin_start": 19.96,
            "count": 0
           },
           {
            "bin_end": 20.6,
            "bin_start": 20.28,
            "count": 1
           }
          ],
          "max": 20.6,
          "min": 17.4,
          "nan_count": 0,
          "unique_count": 5
         }
        },
        {
         "dtype": "float64",
         "name": "flipper_length_mm",
         "stats": {
          "histogram": [
           {
            "bin_end": 182.4,
            "bin_start": 181,
            "count": 1
           },
           {
            "bin_end": 183.8,
            "bin_start": 182.4,
            "count": 0
           },
           {
            "bin_end": 185.2,
            "bin_start": 183.8,
            "count": 0
           },
           {
            "bin_end": 186.6,
            "bin_start": 185.2,
            "count": 1
           },
           {
            "bin_end": 188,
            "bin_start": 186.6,
            "count": 0
           },
           {
            "bin_end": 189.4,
            "bin_start": 188,
            "count": 0
           },
           {
            "bin_end": 190.8,
            "bin_start": 189.4,
            "count": 1
           },
           {
            "bin_end": 192.2,
            "bin_start": 190.8,
            "count": 0
           },
           {
            "bin_end": 193.6,
            "bin_start": 192.2,
            "count": 1
           },
           {
            "bin_end": 195,
            "bin_start": 193.6,
            "count": 1
           }
          ],
          "max": 195,
          "min": 181,
          "nan_count": 0,
          "unique_count": 5
         }
        },
        {
         "dtype": "float64",
         "name": "body_mass_g",
         "stats": {
          "histogram": [
           {
            "bin_end": 3305,
            "bin_start": 3250,
            "count": 1
           },
           {
            "bin_end": 3360,
            "bin_start": 3305,
            "count": 0
           },
           {
            "bin_end": 3415,
            "bin_start": 3360,
            "count": 0
           },
           {
            "bin_end": 3470,
            "bin_start": 3415,
            "count": 1
           },
           {
            "bin_end": 3525,
            "bin_start": 3470,
            "count": 0
           },
           {
            "bin_end": 3580,
            "bin_start": 3525,
            "count": 0
           },
           {
            "bin_end": 3635,
            "bin_start": 3580,
            "count": 0
           },
           {
            "bin_end": 3690,
            "bin_start": 3635,
            "count": 1
           },
           {
            "bin_end": 3745,
            "bin_start": 3690,
            "count": 0
           },
           {
            "bin_end": 3800,
            "bin_start": 3745,
            "count": 2
           }
          ],
          "max": 3800,
          "min": 3250,
          "nan_count": 0,
          "unique_count": 5
         }
        },
        {
         "dtype": "object",
         "name": "sex",
         "stats": {
          "categories": [
           {
            "count": 3,
            "name": "FEMALE"
           },
           {
            "count": 2,
            "name": "MALE"
           }
          ],
          "nan_count": 0,
          "unique_count": 2
         }
        },
        {
         "dtype": "int64",
         "name": "_deepnote_index_column"
        }
       ],
       "row_count": 5,
       "rows_bottom": null,
       "rows_top": [
        {
         "_deepnote_index_column": 0,
         "body_mass_g": 3750,
         "culmen_depth_mm": 18.7,
         "culmen_length_mm": 39.1,
         "flipper_length_mm": 181,
         "island": "Torgersen",
         "sex": "MALE",
         "species": "Adelie"
        },
        {
         "_deepnote_index_column": 1,
         "body_mass_g": 3800,
         "culmen_depth_mm": 17.4,
         "culmen_length_mm": 39.5,
         "flipper_length_mm": 186,
         "island": "Torgersen",
         "sex": "FEMALE",
         "species": "Adelie"
        },
        {
         "_deepnote_index_column": 2,
         "body_mass_g": 3250,
         "culmen_depth_mm": 18,
         "culmen_length_mm": 40.3,
         "flipper_length_mm": 195,
         "island": "Torgersen",
         "sex": "FEMALE",
         "species": "Adelie"
        },
        {
         "_deepnote_index_column": 4,
         "body_mass_g": 3450,
         "culmen_depth_mm": 19.3,
         "culmen_length_mm": 36.7,
         "flipper_length_mm": 193,
         "island": "Torgersen",
         "sex": "FEMALE",
         "species": "Adelie"
        },
        {
         "_deepnote_index_column": 5,
         "body_mass_g": 3650,
         "culmen_depth_mm": 20.6,
         "culmen_length_mm": 39.3,
         "flipper_length_mm": 190,
         "island": "Torgersen",
         "sex": "MALE",
         "species": "Adelie"
        }
       ]
      },
      "text/html": [
       "<div>\n",
       "<style scoped>\n",
       "    .dataframe tbody tr th:only-of-type {\n",
       "        vertical-align: middle;\n",
       "    }\n",
       "\n",
       "    .dataframe tbody tr th {\n",
       "        vertical-align: top;\n",
       "    }\n",
       "\n",
       "    .dataframe thead th {\n",
       "        text-align: right;\n",
       "    }\n",
       "</style>\n",
       "<table border=\"1\" class=\"dataframe\">\n",
       "  <thead>\n",
       "    <tr style=\"text-align: right;\">\n",
       "      <th></th>\n",
       "      <th>species</th>\n",
       "      <th>island</th>\n",
       "      <th>culmen_length_mm</th>\n",
       "      <th>culmen_depth_mm</th>\n",
       "      <th>flipper_length_mm</th>\n",
       "      <th>body_mass_g</th>\n",
       "      <th>sex</th>\n",
       "    </tr>\n",
       "  </thead>\n",
       "  <tbody>\n",
       "    <tr>\n",
       "      <th>0</th>\n",
       "      <td>Adelie</td>\n",
       "      <td>Torgersen</td>\n",
       "      <td>39.1</td>\n",
       "      <td>18.7</td>\n",
       "      <td>181.0</td>\n",
       "      <td>3750.0</td>\n",
       "      <td>MALE</td>\n",
       "    </tr>\n",
       "    <tr>\n",
       "      <th>1</th>\n",
       "      <td>Adelie</td>\n",
       "      <td>Torgersen</td>\n",
       "      <td>39.5</td>\n",
       "      <td>17.4</td>\n",
       "      <td>186.0</td>\n",
       "      <td>3800.0</td>\n",
       "      <td>FEMALE</td>\n",
       "    </tr>\n",
       "    <tr>\n",
       "      <th>2</th>\n",
       "      <td>Adelie</td>\n",
       "      <td>Torgersen</td>\n",
       "      <td>40.3</td>\n",
       "      <td>18.0</td>\n",
       "      <td>195.0</td>\n",
       "      <td>3250.0</td>\n",
       "      <td>FEMALE</td>\n",
       "    </tr>\n",
       "    <tr>\n",
       "      <th>4</th>\n",
       "      <td>Adelie</td>\n",
       "      <td>Torgersen</td>\n",
       "      <td>36.7</td>\n",
       "      <td>19.3</td>\n",
       "      <td>193.0</td>\n",
       "      <td>3450.0</td>\n",
       "      <td>FEMALE</td>\n",
       "    </tr>\n",
       "    <tr>\n",
       "      <th>5</th>\n",
       "      <td>Adelie</td>\n",
       "      <td>Torgersen</td>\n",
       "      <td>39.3</td>\n",
       "      <td>20.6</td>\n",
       "      <td>190.0</td>\n",
       "      <td>3650.0</td>\n",
       "      <td>MALE</td>\n",
       "    </tr>\n",
       "  </tbody>\n",
       "</table>\n",
       "</div>"
      ],
      "text/plain": [
       "  species     island  culmen_length_mm  culmen_depth_mm  flipper_length_mm  \\\n",
       "0  Adelie  Torgersen              39.1             18.7              181.0   \n",
       "1  Adelie  Torgersen              39.5             17.4              186.0   \n",
       "2  Adelie  Torgersen              40.3             18.0              195.0   \n",
       "4  Adelie  Torgersen              36.7             19.3              193.0   \n",
       "5  Adelie  Torgersen              39.3             20.6              190.0   \n",
       "\n",
       "   body_mass_g     sex  \n",
       "0       3750.0    MALE  \n",
       "1       3800.0  FEMALE  \n",
       "2       3250.0  FEMALE  \n",
       "4       3450.0  FEMALE  \n",
       "5       3650.0    MALE  "
      ]
     },
     "execution_count": 58,
     "metadata": {},
     "output_type": "execute_result"
    }
   ],
   "source": [
    "\n",
    "penguins = pd.read_csv(\"penguins_size.csv\")\n",
    "penguins = penguins.dropna()\n",
    "\n",
    "##don't worry about this line, it just reads in a dataframe in pandas and converts it to a table object in datascience\n",
    "penguins_tbl = Table.from_df(penguins)\n",
    "penguins.head()"
   ]
  },
  {
   "cell_type": "markdown",
   "metadata": {
    "cell_id": "813b506b-0591-452c-83c4-b1f1875a7eba",
    "deepnote_cell_type": "markdown",
    "tags": []
   },
   "source": [
    "## Plots You've Used In Data8  \n",
    "\n",
    "Let's fist take a look at some plots we are already familiar with from data 8, notably barplots, histograms, scatter plots, and line plots. \n",
    "\n",
    "If you need to touch up on these concepts, here's the graph section of the [textbook](https://www.inferentialthinking.com/chapters/07/Visualization.html)"
   ]
  },
  {
   "cell_type": "markdown",
   "metadata": {
    "cell_id": "9e926c87-9506-46a6-95ba-56e51e19ac4b",
    "deepnote_cell_type": "markdown",
    "tags": []
   },
   "source": [
    "## Bar plots\n",
    "\n",
    "Barplots are best used when you are trying to compare numerical properties of different categories. \n",
    "\n",
    "There are five distinct penguin species in this dataset, and barplots can make comparing the mean body mass of the three species fairly easy.\n",
    "\n",
    "In data8, the syntax to generate bar plots is  `tbl.barh(\"category_col\", \"numeric_col\")` as shown below"
   ]
  },
  {
   "cell_type": "code",
   "execution_count": null,
   "metadata": {
    "cell_id": "00006-aaee4458-5641-493c-a1cc-5ef66a03162b",
    "deepnote_cell_type": "code",
    "tags": []
   },
   "outputs": [
    {
     "data": {
      "image/png": "[encoded data removed]",
      "text/plain": [
       "<Figure size 432x288 with 1 Axes>"
      ]
     },
     "metadata": {
      "needs_background": "light"
     },
     "output_type": "display_data"
    }
   ],
   "source": [
    "species_body_mass_tbl = penguins_tbl.group(\"species\", np.mean)\n",
    "\n",
    "species_body_mass_tbl.barh(\"species\", \"body_mass_g mean\")"
   ]
  },
  {
   "cell_type": "markdown",
   "metadata": {
    "cell_id": "00007-981a87db-f3d0-4bb9-aca6-0338c25696c1",
    "deepnote_cell_type": "markdown",
    "tags": []
   },
   "source": [
    "While using the `matplotlib` package to graph, however, we are making a plot object with the first `plt.bar(x, y)` command,\n",
    "then the two other `plt.bar()` commands are adding more bars to the same graph object. \n",
    "The same hold true for other graphing commands in matplotlib such as `plt.hist()`, `plt.scatter()`, `plt.plot()`, etc. \n"
   ]
  },
  {
   "cell_type": "code",
   "execution_count": null,
   "metadata": {
    "cell_id": "ca194cd6-b9a2-414d-a34b-f7b01860b11f",
    "deepnote_cell_type": "code",
    "tags": []
   },
   "outputs": [
    {
     "data": {
      "image/png": "[encoded data removed]",
      "text/plain": [
       "<Figure size 432x288 with 1 Axes>"
      ]
     },
     "metadata": {
      "needs_background": "light"
     },
     "output_type": "display_data"
    }
   ],
   "source": [
    "species_body_mass = penguins.groupby(\"species\").agg({\"body_mass_g\": np.mean})\n",
    "\n",
    "#try commenting out some of the code to see the plot object adding/deleting bars in action!\n",
    "plt.bar(0, species_body_mass.loc[\"Adelie\"][\"body_mass_g\"], label = \"Adelie\")\n",
    "plt.bar(1, species_body_mass.loc[\"Chinstrap\"][\"body_mass_g\"], label = \"Chinstrap\")\n",
    "plt.bar(2, species_body_mass.loc[\"Gentoo\"][\"body_mass_g\"], label = \"Gentoo\")\n",
    "\n",
    "plt.legend();\n"
   ]
  },
  {
   "cell_type": "markdown",
   "metadata": {
    "cell_id": "165630c0-6397-482b-8636-363010979d9c",
    "deepnote_cell_type": "markdown",
    "tags": []
   },
   "source": [
    "From the plot above, we can see that the species Gentoo on Biscoe island is significantly heavier in weight than all other penguin species in this dataset. "
   ]
  },
  {
   "cell_type": "markdown",
   "metadata": {
    "cell_id": "141d0687-25bf-4447-a862-b6d2a725c2d0",
    "deepnote_cell_type": "markdown",
    "tags": []
   },
   "source": [
    "## Histograms\n",
    "\n",
    "As discussed in data8, histograms are best used to see the distribution of one single numeric variable. \n",
    "\n",
    "From the bar plot above, we already know that the Gentoo penguins have the highest mean body mass, but can this be caused by a few abnormally heavy Gentoo penguins? Let's find out using a histogram."
   ]
  },
  {
   "cell_type": "code",
   "execution_count": null,
   "metadata": {
    "cell_id": "cc045f56-e12d-47b5-83d8-de27d2c6a7a8",
    "deepnote_cell_type": "code",
    "tags": []
   },
   "outputs": [
    {
     "data": {
      "image/png": "[encoded data removed]",
      "text/plain": [
       "<Figure size 432x288 with 1 Axes>"
      ]
     },
     "metadata": {
      "needs_background": "light"
     },
     "output_type": "display_data"
    }
   ],
   "source": [
    "gentoo = penguins[penguins.species == \"Gentoo\"]\n",
    "\n",
    "plt.hist(gentoo[\"body_mass_g\"]);"
   ]
  },
  {
   "cell_type": "markdown",
   "metadata": {
    "cell_id": "00012-bcf05812-7504-4189-bc54-1716358086c1",
    "deepnote_cell_type": "markdown",
    "tags": []
   },
   "source": [
    "you might have noticed that the y-axis of the histogram above is not the same y axis you got introduced to in data8, \n",
    "this is because the dafult histogram-drawing method in matplotlib just sets the y-axis to `count`\n",
    "-the number of datapoints that falls within that bin.\n",
    "\n",
    "To change the y-axis to the normal %per unit, we need to set `density=True` in the function call.\n",
    "\n",
    "If you are interested in learning more about the optional arguments for the matplotlib histogram function, you can visit their function documentation page [here](https://matplotlib.org/3.3.1/api/_as_gen/matplotlib.pyplot.hist.html)"
   ]
  },
  {
   "cell_type": "code",
   "execution_count": null,
   "metadata": {
    "cell_id": "00013-8bad51ca-ec11-4e76-931e-5299d62a170b",
    "deepnote_cell_type": "code",
    "tags": []
   },
   "outputs": [],
   "source": [
    "plt.hist(gentoo[\"body_mass_g\"], density=True);"
   ]
  },
  {
   "cell_type": "markdown",
   "metadata": {
    "cell_id": "e8fc0eab-758b-40d0-922e-19d1503a1e2f",
    "deepnote_cell_type": "markdown",
    "tags": []
   },
   "source": [
    "the histogram displayed a rather normal looking curve with no apparent skewness, guess the Gentoo penguins are just heavier in general after all."
   ]
  },
  {
   "cell_type": "markdown",
   "metadata": {
    "cell_id": "7c6250ba-20d9-4e92-84d4-d68577ecea7a",
    "deepnote_cell_type": "markdown",
    "tags": []
   },
   "source": [
    "## Scatter plots\n",
    "\n",
    "scatter plots are most useful when we are trying to determine the relationship between two numeric variables. \n",
    "For example, would a heavier body mass in penguins imply a longer flipper?\n",
    "Let's draw a scatter plot of body mass vs flipper length for species Gentoo and Chinstrap to compare. "
   ]
  },
  {
   "cell_type": "code",
   "execution_count": null,
   "metadata": {
    "cell_id": "673cf66b-4988-4bd0-8833-558bbe20c566",
    "deepnote_cell_type": "code",
    "tags": []
   },
   "outputs": [
    {
     "data": {
      "image/png": "[encoded data removed]",
      "text/plain": [
       "<Figure size 432x288 with 1 Axes>"
      ]
     },
     "metadata": {
      "needs_background": "light"
     },
     "output_type": "display_data"
    }
   ],
   "source": [
    "chinstrap = penguins[penguins.species == \"Chinstrap\"]\n",
    "\n",
    "plt.scatter(chinstrap[\"flipper_length_mm\"], chinstrap[\"body_mass_g\"], label = \"Chinstrap\")\n",
    "plt.scatter(gentoo[\"flipper_length_mm\"], gentoo[\"body_mass_g\"], label = \"Gentoo\")\n",
    "plt.legend();"
   ]
  },
  {
   "cell_type": "markdown",
   "metadata": {
    "cell_id": "d4874835-741a-4132-af9a-13aaf76c0677",
    "deepnote_cell_type": "markdown",
    "tags": []
   },
   "source": [
    "From the scatter plot above, we can safely conclude that for species Chinstrap and Gentoo, their flipper length is positively associated wih body mass. "
   ]
  },
  {
   "cell_type": "markdown",
   "metadata": {
    "cell_id": "eccdd619-ab9c-49aa-8894-2715e1758480",
    "deepnote_cell_type": "markdown",
    "tags": []
   },
   "source": [
    "## Line plots\n",
    "\n",
    "Line plots are often used for displaying a trend over time. \n",
    "This functionality makes them the top graph of choice when looking at stock market or any other time series data. \n",
    "The penguin dataset, however, does not include time as a variable, and line plots are not suitable for visualizing this dataset. \n"
   ]
  },
  {
   "cell_type": "markdown",
   "metadata": {
    "cell_id": "f66c20c3-a789-451d-9905-f7ca47ef8c19",
    "deepnote_cell_type": "markdown",
    "tags": []
   },
   "source": [
    "## 2. Customizing your Plots\n",
    "Titles, Axes, Plotsize, Legends, Axes ticks, Font size"
   ]
  },
  {
   "cell_type": "markdown",
   "metadata": {
    "cell_id": "2c1d86b1-7ca5-4c03-838a-78aff5abb2e8",
    "deepnote_cell_type": "markdown",
    "tags": []
   },
   "source": [
    "There are a lot of ways you can customize your plot in `matplotlib`. Some of the most commonly ones are shown below."
   ]
  },
  {
   "cell_type": "markdown",
   "metadata": {
    "cell_id": "39db4d45-8c9f-4408-a3d7-a2bad99c0973",
    "deepnote_cell_type": "markdown",
    "tags": []
   },
   "source": [
    "Any good plot must have a title for the plot, as well as axis lables. \n",
    "These are necessary for a user to fully understand what is being displayed. \n",
    "\n",
    "* To add a title to a plot, we can use `plt.title(\"title\")`.\n",
    "* For the x axis label, we can use `plt.xlabel(\"label\")`.\n",
    "* For the y axis label, we can use `plt.ylabel(\"label\")`."
   ]
  },
  {
   "cell_type": "code",
   "execution_count": null,
   "metadata": {
    "cell_id": "0219a3b6-887b-4b3f-8224-57b457e9b5e8",
    "deepnote_cell_type": "code",
    "tags": []
   },
   "outputs": [
    {
     "data": {
      "image/png": "[encoded data removed]",
      "text/plain": [
       "<Figure size 432x288 with 1 Axes>"
      ]
     },
     "metadata": {
      "needs_background": "light"
     },
     "output_type": "display_data"
    }
   ],
   "source": [
    "plt.scatter(gentoo[\"flipper_length_mm\"], gentoo[\"body_mass_g\"])\n",
    "plt.title(\"Flipper Length vs Body Mass for Gentoo penguins\")\n",
    "plt.xlabel(\"Flipper length in mm\")\n",
    "plt.ylabel(\"Body mass in g\");"
   ]
  },
  {
   "cell_type": "markdown",
   "metadata": {
    "cell_id": "f237e1b0-3556-4e60-92f5-b6c5a4feab2a",
    "deepnote_cell_type": "markdown",
    "tags": []
   },
   "source": [
    "For all three commands shown above, we can use optional parameters `fontsize` to change the size of the labels."
   ]
  },
  {
   "cell_type": "code",
   "execution_count": null,
   "metadata": {
    "cell_id": "b76b9a45-d86d-4e75-91c8-c368470101b8",
    "deepnote_cell_type": "code",
    "tags": []
   },
   "outputs": [
    {
     "data": {
      "image/png": "[encoded data removed]",
      "text/plain": [
       "<Figure size 432x288 with 1 Axes>"
      ]
     },
     "metadata": {
      "needs_background": "light"
     },
     "output_type": "display_data"
    }
   ],
   "source": [
    "plt.scatter(gentoo[\"flipper_length_mm\"], gentoo[\"body_mass_g\"])\n",
    "plt.title(\"Flipper Length vs Body Mass for Gentoo penguins\", fontsize= 16)\n",
    "plt.xlabel(\"Flipper length in mm\", fontsize= 14 )\n",
    "plt.ylabel(\"Body mass in g\", fontsize= 14);"
   ]
  },
  {
   "cell_type": "markdown",
   "metadata": {
    "cell_id": "fa8c873f-2df8-48e7-a126-2aba20e1ef57",
    "deepnote_cell_type": "markdown",
    "tags": []
   },
   "source": [
    "Another important part of a plot is the legend. For this, let recreate the scatter plot from before.\n",
    "\n",
    "Notice that in creating this, we have used the parameter `label` in the `plot.scatter()` command. The label mentioned is the then used as the text in the legend made using `plt.legend`."
   ]
  },
  {
   "cell_type": "code",
   "execution_count": null,
   "metadata": {
    "cell_id": "1c424535-736b-43fa-8bc1-01a089cc6056",
    "deepnote_cell_type": "code",
    "tags": []
   },
   "outputs": [
    {
     "data": {
      "image/png": "[encoded data removed]",
      "text/plain": [
       "<Figure size 432x288 with 1 Axes>"
      ]
     },
     "metadata": {
      "needs_background": "light"
     },
     "output_type": "display_data"
    }
   ],
   "source": [
    "plt.scatter(chinstrap[\"flipper_length_mm\"], chinstrap[\"body_mass_g\"], label = \"Chinstrap\")\n",
    "plt.scatter(gentoo[\"flipper_length_mm\"], gentoo[\"body_mass_g\"], label = \"Gentoo\")\n",
    "plt.legend();"
   ]
  },
  {
   "cell_type": "markdown",
   "metadata": {
    "cell_id": "00026-406c5ba9-a94b-4c43-8493-801b08564ef6",
    "deepnote_cell_type": "markdown",
    "tags": []
   },
   "source": [
    "Another way to ge the same plot is to pass in the labels as a list in `plt.legend`. \n",
    "Here we have to be careful with the order of the labels. The first label in the list is automatically assigned to the first dataset and so on."
   ]
  },
  {
   "cell_type": "code",
   "execution_count": null,
   "metadata": {
    "cell_id": "00026-7fc28b75-ca79-48d7-a120-2ad27b6b60a7",
    "deepnote_cell_type": "code",
    "tags": []
   },
   "outputs": [
    {
     "data": {
      "image/png": "[encoded data removed]",
      "text/plain": [
       "<Figure size 432x288 with 1 Axes>"
      ]
     },
     "metadata": {
      "needs_background": "light"
     },
     "output_type": "display_data"
    }
   ],
   "source": [
    "plt.scatter(chinstrap[\"flipper_length_mm\"], chinstrap[\"body_mass_g\"])\n",
    "plt.scatter(gentoo[\"flipper_length_mm\"], gentoo[\"body_mass_g\"])\n",
    "plt.legend([\"Chinstrap\",\"Gentoo\"]);"
   ]
  },
  {
   "cell_type": "markdown",
   "metadata": {
    "cell_id": "359f5fed-6283-4925-a053-ea18f4ce681c",
    "deepnote_cell_type": "markdown",
    "tags": []
   },
   "source": [
    "Notice that by default matplotlib will itself chose where 'best' to place the legend in the plot. \n",
    "But we can use the optional parameter `loc` to set the location ourselves. Here we will palce it in the 'lower right' corner.\n",
    "All the options for legend placement can be found [here](https://matplotlib.org/3.1.1/api/_as_gen/matplotlib.pyplot.legend.html)."
   ]
  },
  {
   "cell_type": "code",
   "execution_count": null,
   "metadata": {
    "cell_id": "4dadcbd3-03b3-42c0-97d0-0bc6451949a7",
    "deepnote_cell_type": "code",
    "tags": []
   },
   "outputs": [
    {
     "data": {
      "image/png": "[encoded data removed]",
      "text/plain": [
       "<Figure size 432x288 with 1 Axes>"
      ]
     },
     "metadata": {
      "needs_background": "light"
     },
     "output_type": "display_data"
    }
   ],
   "source": [
    "plt.scatter(chinstrap[\"flipper_length_mm\"], chinstrap[\"body_mass_g\"], label = \"Chinstrap\")\n",
    "plt.scatter(gentoo[\"flipper_length_mm\"], gentoo[\"body_mass_g\"], label = \"Gentoo\")\n",
    "plt.legend(loc= 'lower right');"
   ]
  },
  {
   "cell_type": "markdown",
   "metadata": {
    "cell_id": "d8439e36-7055-47d9-8ba8-7cdb1e90d1f5",
    "deepnote_cell_type": "markdown",
    "tags": []
   },
   "source": [
    "To change the size of the text in the legend, we can use the parameter `fontsize` in the `plot.legend()` command like this. "
   ]
  },
  {
   "cell_type": "code",
   "execution_count": null,
   "metadata": {
    "cell_id": "7a8892a1-ae0c-4ef1-b8b8-696382ef5d23",
    "deepnote_cell_type": "code",
    "tags": []
   },
   "outputs": [
    {
     "data": {
      "image/png": "[encoded data removed]",
      "text/plain": [
       "<Figure size 432x288 with 1 Axes>"
      ]
     },
     "metadata": {
      "needs_background": "light"
     },
     "output_type": "display_data"
    }
   ],
   "source": [
    "# fontsize has to be in plt.legend(), not where you mention labels\n",
    "plt.scatter(chinstrap[\"flipper_length_mm\"], chinstrap[\"body_mass_g\"], label = \"Chinstrap\")\n",
    "plt.scatter(gentoo[\"flipper_length_mm\"], gentoo[\"body_mass_g\"], label = \"Gentoo\")\n",
    "plt.legend(loc= 'lower right', fontsize = 14);\n"
   ]
  },
  {
   "cell_type": "markdown",
   "metadata": {
    "cell_id": "2d2db1e7-b6b3-4ebe-ba6f-2a604299281e",
    "deepnote_cell_type": "markdown",
    "tags": []
   },
   "source": [
    "Another important elements is the axis ticks. In the following plot, the x-axis ticks are in intervals of 5."
   ]
  },
  {
   "cell_type": "code",
   "execution_count": null,
   "metadata": {
    "cell_id": "8acc31ba-707b-4c90-817f-a4302fb4abbd",
    "deepnote_cell_type": "code",
    "tags": []
   },
   "outputs": [
    {
     "data": {
      "image/png": "[encoded data removed]",
      "text/plain": [
       "<Figure size 432x288 with 1 Axes>"
      ]
     },
     "metadata": {
      "needs_background": "light"
     },
     "output_type": "display_data"
    }
   ],
   "source": [
    "plt.scatter(gentoo[\"flipper_length_mm\"], gentoo[\"body_mass_g\"])\n",
    "plt.title(\"Flipper Length vs Body Mass for Gentoo penguins\")\n",
    "plt.xlabel(\"Flipper length in mm\")\n",
    "plt.ylabel(\"Body mass in g\");"
   ]
  },
  {
   "cell_type": "markdown",
   "metadata": {
    "cell_id": "00034-ca1f8409-1f43-4c85-a619-c3fee3695af2",
    "deepnote_cell_type": "markdown",
    "tags": []
   },
   "source": [
    "By default, python will choose the range for x-axis and y-axis. But we can set the range ouselves as well using `plt.xlim([lower_limit, higher_limit])` for the x-axis and `plt.ylim([lower_limit, higher_limit])` for the y-axis. "
   ]
  },
  {
   "cell_type": "code",
   "execution_count": null,
   "metadata": {
    "cell_id": "00034-538615c8-e6e6-4521-a771-27790c4bfe52",
    "deepnote_cell_type": "code",
    "tags": []
   },
   "outputs": [
    {
     "data": {
      "text/plain": [
       "(3500.0, 7000.0)"
      ]
     },
     "execution_count": 57,
     "metadata": {},
     "output_type": "execute_result"
    },
    {
     "data": {
      "image/png": "[encoded data removed]",
      "text/plain": [
       "<Figure size 432x288 with 1 Axes>"
      ]
     },
     "metadata": {
      "needs_background": "light"
     },
     "output_type": "display_data"
    }
   ],
   "source": [
    "plt.scatter(gentoo[\"flipper_length_mm\"], gentoo[\"body_mass_g\"])\n",
    "plt.title(\"Flipper Length vs Body Mass for Gentoo penguins\")\n",
    "plt.xlabel(\"Flipper length in mm\")\n",
    "plt.ylabel(\"Body mass in g\")\n",
    "plt.xlim([200, 240])\n",
    "plt.ylim([3500, 7000])"
   ]
  },
  {
   "cell_type": "markdown",
   "metadata": {
    "cell_id": "4a62cbbf-1faf-4a37-998e-3c43c66b0a72",
    "deepnote_cell_type": "markdown",
    "tags": []
   },
   "source": [
    "We have the option to change the freqency of the x-axis ticks using `plt.xticks(array_with_ticks)`"
   ]
  },
  {
   "cell_type": "code",
   "execution_count": null,
   "metadata": {
    "cell_id": "9841aa3d-c354-4328-9817-42b8786a6daf",
    "deepnote_cell_type": "code",
    "tags": []
   },
   "outputs": [],
   "source": [
    "import numpy as np"
   ]
  },
  {
   "cell_type": "code",
   "execution_count": null,
   "metadata": {
    "cell_id": "c17508ca-eeab-4bab-8533-23fb507c1f7d",
    "deepnote_cell_type": "code",
    "tags": []
   },
   "outputs": [
    {
     "data": {
      "image/png": "[encoded data removed]",
      "text/plain": [
       "<Figure size 432x288 with 1 Axes>"
      ]
     },
     "metadata": {
      "needs_background": "light"
     },
     "output_type": "display_data"
    }
   ],
   "source": [
    "# Here we are using intervals of 3. \n",
    "# Therefore, we are genating an array that starts at 200 and increments by 3.\n",
    "plt.scatter(gentoo[\"flipper_length_mm\"], gentoo[\"body_mass_g\"])\n",
    "plt.title(\"Flipper Length vs Body Mass for Gentoo penguins\")\n",
    "plt.xlabel(\"Flipper length in mm\")\n",
    "plt.ylabel(\"Body mass in g\")\n",
    "plt.xticks(np.arange(200, 239, 3));"
   ]
  },
  {
   "cell_type": "markdown",
   "metadata": {
    "cell_id": "64be92ce-c994-4a71-a825-e43b5b8d7860",
    "deepnote_cell_type": "markdown",
    "tags": []
   },
   "source": [
    "Similarly, for y-axis ticks, we can use `plt.yticks(array_with_ticks)`."
   ]
  },
  {
   "cell_type": "code",
   "execution_count": null,
   "metadata": {
    "cell_id": "d6efa20d-0d4d-4dbe-929c-8b0fd3e02c17",
    "deepnote_cell_type": "code",
    "tags": []
   },
   "outputs": [
    {
     "data": {
      "image/png": "[encoded data removed]",
      "text/plain": [
       "<Figure size 432x288 with 1 Axes>"
      ]
     },
     "metadata": {
      "needs_background": "light"
     },
     "output_type": "display_data"
    }
   ],
   "source": [
    "# Here we are using intervals of 500. \n",
    "# Therefore, we are genating an array that starts at 4000 and increments by 500.\n",
    "plt.scatter(gentoo[\"flipper_length_mm\"], gentoo[\"body_mass_g\"])\n",
    "plt.title(\"Flipper Length vs Body Mass for Gentoo penguins\")\n",
    "plt.xlabel(\"Flipper length in mm\")\n",
    "plt.ylabel(\"Body mass in g\")\n",
    "plt.xticks(np.arange(200, 239, 3))\n",
    "plt.yticks(np.arange(4000, 7000, 500));"
   ]
  },
  {
   "cell_type": "markdown",
   "metadata": {
    "cell_id": "00037-019bd248-228e-4ed9-92a6-3a22ff37b561",
    "deepnote_cell_type": "markdown",
    "tags": []
   },
   "source": [
    "## Subplots\n",
    "\n",
    "Another good functionality that `matplotlib` plots offer is subplots. \n",
    "Rememeber from the first section that each plot is actually a graph object, and we are just adding points/bars to the same graph object each time.\n",
    "\n",
    "With subplots, however, we are creating multiple graph objects with one command, and adding plots to each of the graphs seperately.\n",
    "\n",
    "To generate subplots, use the command `plt.subplots(row_number, column_number)` as shown below, here the `figsize=(width, length)` is just regulating how big the entire graph figure should be.\n",
    "\n"
   ]
  },
  {
   "cell_type": "code",
   "execution_count": null,
   "metadata": {
    "cell_id": "00038-5392acdb-9fed-4ede-b3bc-7ac32ec09eaf",
    "deepnote_cell_type": "code",
    "tags": []
   },
   "outputs": [
    {
     "data": {
      "image/png": "[encoded data removed]",
      "text/plain": [
       "<Figure size 1080x360 with 3 Axes>"
      ]
     },
     "metadata": {
      "needs_background": "light"
     },
     "output_type": "display_data"
    }
   ],
   "source": [
    "fig, ax = plt.subplots(1, 3, figsize=(15, 5))"
   ]
  },
  {
   "cell_type": "markdown",
   "metadata": {
    "cell_id": "00039-3e336217-0d8e-49d4-bd0b-086f4b5a2167",
    "deepnote_cell_type": "markdown",
    "tags": []
   },
   "source": [
    "To add plots to a specific subplot, we need to specify the row and column indices of the graph we want to plot on using `ax[row_inex, col_index]`, \n",
    "if there is just one row, the syntax changes to `ax[col_index]`. \n",
    "Similarly, if there is just one column, the syntax changes to `ax[row_index]`.\n",
    "\n",
    "For example, if we want a scatter plot of Flipper Length vs Body Mass for Gentoo penguins on the first subplot(the left most subplot),\n",
    "we need to specify `ax[0].scatter()`, where `ax[0]` signifies we want the plot to be on the first subplot."
   ]
  },
  {
   "cell_type": "code",
   "execution_count": null,
   "metadata": {
    "cell_id": "00040-fb21df46-6827-4647-975f-189f255d7701",
    "deepnote_cell_type": "code",
    "tags": []
   },
   "outputs": [
    {
     "data": {
      "text/plain": [
       "<matplotlib.legend.Legend at 0x7fb297ed0940>"
      ]
     },
     "execution_count": 46,
     "metadata": {},
     "output_type": "execute_result"
    },
    {
     "data": {
      "image/png": "[encoded data removed]",
      "text/plain": [
       "<Figure size 1080x360 with 3 Axes>"
      ]
     },
     "metadata": {
      "needs_background": "light"
     },
     "output_type": "display_data"
    }
   ],
   "source": [
    "fig, ax = plt.subplots(1, 3, figsize=(15, 5))\n",
    "adelie = penguins[penguins.species == \"Adelie\"]\n",
    "ax[0].scatter(adelie[\"flipper_length_mm\"], adelie[\"body_mass_g\"], label = \"Adelie\")\n",
    "\n",
    "ax[0].legend()"
   ]
  },
  {
   "cell_type": "markdown",
   "metadata": {
    "cell_id": "00041-9cd0187e-6029-4dd9-88f2-c6471a3de580",
    "deepnote_cell_type": "markdown",
    "tags": []
   },
   "source": [
    "Let's add scatter plots for the rest of the subplots. \n",
    "The syntax for setting title and axes range is slightly different for subplots, but it's nothing that a google search won't find. \n",
    "Don't be afraid to use search engines when doing your own project, if you are stuck on a piece of code, chances are many other people had the same problem. \n",
    "\n",
    "\n",
    "Besides slight syntax changes on some of the commands, \n",
    "each of the `ax[row, column]` objects are just regular graph objects returned by `plt.plot()` and the alike. \n"
   ]
  },
  {
   "cell_type": "code",
   "execution_count": null,
   "metadata": {
    "cell_id": "00042-d3a18c47-0ddb-4558-8137-8058fafe44b4",
    "deepnote_cell_type": "code",
    "tags": []
   },
   "outputs": [
    {
     "data": {
      "text/plain": [
       "(2500.0, 6500.0)"
      ]
     },
     "execution_count": 50,
     "metadata": {},
     "output_type": "execute_result"
    },
    {
     "data": {
      "image/png": "[encoded data removed]",
      "text/plain": [
       "<Figure size 1080x360 with 3 Axes>"
      ]
     },
     "metadata": {
      "needs_background": "light"
     },
     "output_type": "display_data"
    }
   ],
   "source": [
    "fig, ax = plt.subplots(1, 3, figsize=(15, 5))\n",
    "adelie = penguins[penguins.species == \"Adelie\"]\n",
    "ax[0].scatter(adelie[\"flipper_length_mm\"], adelie[\"body_mass_g\"], label = \"Adelie\")\n",
    "ax[1].scatter(gentoo[\"flipper_length_mm\"], gentoo[\"body_mass_g\"], label = \"Gentoo\")\n",
    "ax[2].scatter(chinstrap[\"flipper_length_mm\"], chinstrap[\"body_mass_g\"], label = \"Chinstrap\")\n",
    "\n",
    "ax[0].set_title(\"Adelie\")\n",
    "ax[1].set_title(\"Gentoo\")\n",
    "ax[2].set_title(\"Chinstrap\")\n",
    "\n",
    "\n",
    "ax[0].set_xlim(170, 240)\n",
    "ax[0].set_ylim(2500, 6500)\n",
    "ax[1].set_xlim(170, 240)\n",
    "ax[1].set_ylim(2500, 6500)\n",
    "ax[2].set_xlim(170, 240)\n",
    "ax[2].set_ylim(2500, 6500)"
   ]
  },
  {
   "cell_type": "markdown",
   "metadata": {
    "cell_id": "2e5ac659-0cab-4b62-a9e2-4b834e652fc4",
    "deepnote_cell_type": "markdown",
    "tags": []
   },
   "source": [
    "## 3. Good and Bad Data Visualization Practices"
   ]
  },
  {
   "cell_type": "markdown",
   "metadata": {
    "cell_id": "3a6e2df1-1159-467f-9c0e-05d5a6a41d74",
    "deepnote_cell_type": "markdown",
    "tags": []
   },
   "source": [
    "Lab visualizations are great for understanding our data in a grphical fashion but as data scientists we must be\n",
    "cognizant of when our visualizations start veering from infromative to misleading. Misleading graphs and bad visualizations\n",
    "can range from comical to downright damaging."
   ]
  },
  {
   "cell_type": "markdown",
   "metadata": {
    "cell_id": "9274f1d7-4a2b-4da4-8f46-7cbb77752284",
    "deepnote_cell_type": "markdown",
    "tags": []
   },
   "source": [
    "A comical example of bad graphs is given by XKCD:\n",
    "![image](https://imgs.xkcd.com/comics/y_axis_2x.png)"
   ]
  },
  {
   "cell_type": "markdown",
   "metadata": {
    "cell_id": "0608ac2d-d6c1-41bd-89d1-bc1c70e6dd34",
    "deepnote_cell_type": "markdown",
    "tags": []
   },
   "source": [
    "Though it seems silly to zoom into a line and exaggerate the feautures, we as data scientists may fall into this trap.\n",
    "To connect back to what we learned in Data 8, let's say thatwe create this visualization: "
   ]
  },
  {
   "cell_type": "code",
   "execution_count": null,
   "metadata": {
    "cell_id": "00040-f1f86fbe-b2e7-42b0-8b5f-5774e9f391d2",
    "deepnote_cell_type": "code",
    "tags": []
   },
   "outputs": [
    {
     "data": {
      "text/plain": [
       "Text(0, 0.5, 'Body mass in g')"
      ]
     },
     "execution_count": 11,
     "metadata": {},
     "output_type": "execute_result"
    },
    {
     "data": {
      "image/png": "[encoded data removed]",
      "text/plain": [
       "<Figure size 432x288 with 1 Axes>"
      ]
     },
     "metadata": {
      "needs_background": "light"
     },
     "output_type": "display_data"
    }
   ],
   "source": [
    "plt.scatter(np.random.rand(100,1), np.random.rand(100,1))\n",
    "plt.title(\"Random Points\")\n",
    "plt.xlabel(\"Random x Points\")\n",
    "plt.ylabel(\"Random y points\")"
   ]
  },
  {
   "cell_type": "markdown",
   "metadata": {
    "cell_id": "00042-1e770aed-b5b9-4d0e-ae56-46b66c80d1f2",
    "deepnote_cell_type": "markdown",
    "tags": []
   },
   "source": [
    "It's obvious that the graph just shows random data. However, if we screw around with the visualization lines:"
   ]
  },
  {
   "cell_type": "code",
   "execution_count": null,
   "metadata": {
    "cell_id": "00043-02d96843-263b-44f9-816e-b8a4fbb49c11",
    "deepnote_cell_type": "code",
    "tags": []
   },
   "outputs": [
    {
     "data": {
      "image/png": "[encoded data removed]",
      "text/plain": [
       "<Figure size 432x288 with 1 Axes>"
      ]
     },
     "metadata": {
      "needs_background": "light"
     },
     "output_type": "display_data"
    }
   ],
   "source": [
    "plt.scatter(np.random.rand(100,1), np.random.rand(100,1))\n",
    "plt.title(\"Random Points\")\n",
    "plt.xlabel(\"Random x Points\")\n",
    "plt.ylabel(\"Random y points\") \n",
    "plt.yticks(np.arange(-50, 20, 3));"
   ]
  },
  {
   "cell_type": "markdown",
   "metadata": {
    "cell_id": "00044-7178a3d2-efc9-4d92-b47b-ee8464b489e8",
    "deepnote_cell_type": "markdown",
    "tags": []
   },
   "source": [
    "We have the potential of misleading our audience that there exists a linear relationship between the random x-points \n",
    "and the random y-points when that was clearly not the case the previous graph. Though if you read the laxis labels\n",
    "and view where the tick marks are, it's obvious that this graph is misleading. As data scientists, we would love to \n",
    "assume that the individuals looking at our graphs would dive deep into the visualization minutiae but sadly we cannot\n",
    "hold that assumption."
   ]
  },
  {
   "cell_type": "markdown",
   "metadata": {
    "cell_id": "18b5bd44-7aaa-4c9b-a483-96cd27376ae2",
    "deepnote_cell_type": "markdown",
    "tags": []
   },
   "source": [
    "Though it seems silly that our audience won't realize these blatant lies, it sadly is very commonplace in the world.\n",
    "Take this absolutely insidious graph for example:\n",
    "\n",
    "![image](https://www.gannett-cdn.com/presto/2020/06/06/USAT/0941fd23-0dd7-4f28-98a6-152ffb374245-Screen_Shot_2020-06-06_at_3.15.08_PM.png)\n",
    "\n",
    "Though the percentage changes are trivial and can be attributed to random chance, the visualization is created to\n",
    "create the illusion of correlation when in reality none exist. Though data scientists are not trying to intentionally\n",
    "mislead people, we must be cautious in the _potential_ to mislead people instead which is why these examples are brought up.\n"
   ]
  },
  {
   "cell_type": "markdown",
   "metadata": {
    "cell_id": "1ea4a886-ace4-4b4a-a468-661236ad3353",
    "deepnote_cell_type": "markdown",
    "tags": []
   },
   "source": [
    "Another pitfall that we may fall into could be survivorship bias. A visualization of this bias is shown below:\n",
    "<img src=https://upload.wikimedia.org/wikipedia/commons/9/98/Survivorship-bias.png width=\"400\">\n",
    "This visualization is the composition of data acquired from returning battle planes during World War II. The red dots\n",
    "indicate where the plane was shot by enemy fighte airrcraft during dogfights. The reason for collecting this data is to\n",
    "figure out where to reinforce planes for future fighter aircrafts. Given this visualization, where should you put\n",
    "reinforcements?"
   ]
  },
  {
   "cell_type": "markdown",
   "metadata": {
    "cell_id": "00047-36e0bdd8-4c85-485c-b629-7d782e3376fc",
    "deepnote_cell_type": "markdown",
    "tags": []
   },
   "source": [
    "If you said \"where the red dots are\", then you have just fallen for survivorship bias! Common sense tells us to put\n",
    "reinforcements where the red dots are since that's where all of the bullet holes are. However, what about the engines?\n",
    "What about the cockpit? What about the tail? Surprisingly, it seems the enemy fighters selectively choose to _not_ \n",
    "shoot at critical plane plane features and instead just aim for the wings and body. There's obviously something amiss.\n",
    "\n",
    "The key point here is that this is the data from planes that _returned_. Planes that were shot at the engine or the\n",
    "cockpit ended up _not coming back to be a data point_. This graph is a view from the survivors that were lucky enough\n",
    "to return and the downed planes ended up not being a data point in this graphic.\n",
    "\n",
    "This is survivorship bias: concentrating on the data that did make it into the study and completeley overlooking and\n",
    "neglecting the data that did not."
   ]
  },
  {
   "cell_type": "markdown",
   "metadata": {
    "cell_id": "21b66253-5e12-49a0-abc8-2d236504bb3a",
    "deepnote_cell_type": "markdown",
    "tags": []
   },
   "source": [
    "## 4. Visualization Design"
   ]
  },
  {
   "cell_type": "markdown",
   "metadata": {
    "cell_id": "00060-a8aac58d-a84b-48f3-bf2c-ac17b77f93b4",
    "deepnote_cell_type": "markdown",
    "tags": []
   },
   "source": [
    "Any unnecessary shapes, colors, images, and features that are present in your data visualization are known as \"chart junk\". \n",
    "Generally speaking, we want to be able to communicate information as succinctly and clearly as possible while minimizing the amount of distraction and clutter. \n",
    "In certain cases, chart junk can even lead to misleading visualizations.\n",
    "\n",
    "Let's take a look at the visualization below:"
   ]
  },
  {
   "cell_type": "markdown",
   "metadata": {
    "cell_id": "00062-b0429de1-3a63-4af9-8158-fbcf0885d977",
    "deepnote_cell_type": "markdown",
    "tags": []
   },
   "source": [
    "![Picture title](3dbar.png)"
   ]
  },
  {
   "cell_type": "markdown",
   "metadata": {
    "cell_id": "00063-cd123c60-bbab-4c0e-9942-b70dabf0fa35",
    "deepnote_cell_type": "markdown",
    "tags": []
   },
   "source": [
    "Source: https://www.getnerdyhr.com/3d-pie-charts-are-evil/"
   ]
  },
  {
   "cell_type": "markdown",
   "metadata": {
    "cell_id": "00064-f36f8520-cee9-4320-912a-dc1be96f47ee",
    "deepnote_cell_type": "markdown",
    "tags": []
   },
   "source": [
    "Pie charts are known to be a poor visualization tool because humans have trouble interpreting area. \n",
    "If we add another dimension to the visualization and make a 3D pie chart, the visualization becomes harder to read because humans are even worse at interperting volume.\n",
    "From the chart above, it appears that Paul has the most sales.\n",
    "\n",
    "Below is the same pie chart rotated 130 degrees:"
   ]
  },
  {
   "cell_type": "markdown",
   "metadata": {
    "cell_id": "00064-7bf432b6-8884-4d04-bc09-60b0fa4eb56e",
    "deepnote_cell_type": "markdown",
    "tags": []
   },
   "source": [
    "![Picture title](3dpie2.png)"
   ]
  },
  {
   "cell_type": "markdown",
   "metadata": {
    "cell_id": "00064-f02e5270-e1d7-4041-9e93-933e93bcb2fb",
    "deepnote_cell_type": "markdown",
    "tags": []
   },
   "source": [
    "Without changing anything about the actual data, it now appears that Bryan generated the most sales.\n",
    "Looking at the actual data however, we see that Paul and Bryan actually have the exact same amount of sales! \n",
    "\n",
    "Hopefully, this exercise has convinced you that adding unnecessary features to a visualization can cause it to be misleading and uninsightful and to not use pie charts."
   ]
  },
  {
   "cell_type": "markdown",
   "metadata": {
    "cell_id": "00066-c56d05a0-2243-4c99-833f-6d6b380151bc",
    "deepnote_cell_type": "markdown",
    "tags": []
   },
   "source": [
    "![Picture title](sales.png)"
   ]
  },
  {
   "cell_type": "markdown",
   "metadata": {
    "cell_id": "00067-a89804db-b4e1-45e4-a8f5-a7791bf381e9",
    "deepnote_cell_type": "markdown",
    "tags": []
   },
   "source": [
    "It may be too strong of a statement however to say that visual embellishments and unnecessarily complex designs have no place in data visualizations. \n",
    "\n",
    "In fact, in a research paper written in 2010 titled \"[Useful Junk? The Effects of Visual Embellishment\n",
    "on Comprehension and Memorability of Charts](http://www.stat.columbia.edu/~gelman/communication/Bateman2010.pdf)\", the authors ran a variety of experiments comparing embelleshed and plain visualizations and \n",
    "concluded that \n",
    "\"people’s accuracy in describing the embellished charts was no worse than for plain charts, and that their recall after a two-to-three-week gap was significantly better."
   ]
  },
  {
   "cell_type": "markdown",
   "metadata": {
    "cell_id": "00061-693a967a-0952-4177-8d61-a26fb8b72644",
    "deepnote_cell_type": "markdown",
    "tags": []
   },
   "source": [
    "![Picture title](chart-junk.png)"
   ]
  },
  {
   "cell_type": "markdown",
   "metadata": {
    "cell_id": "00068-3e28f694-bb35-490d-9ab9-0695a94eb76f",
    "deepnote_cell_type": "markdown",
    "tags": []
   },
   "source": [
    "Source: [Useful Junk? The Effects of Visual Embellishment\n",
    "on Comprehension and Memorability of Charts](http://www.stat.columbia.edu/~gelman/communication/Bateman2010.pdf)"
   ]
  },
  {
   "cell_type": "markdown",
   "metadata": {
    "cell_id": "00069-21afc210-2c10-4ff1-8259-800e2bbb51b3",
    "deepnote_cell_type": "markdown",
    "tags": []
   },
   "source": [
    "The visualizations above convey the same data but have drastically different design choices. \n",
    "However, despite the significant amount of chart junk in the right visualization, the area of the bars are roughly the same and display the same trends as the visualization on the left.\n",
    "\n",
    "Which one do you like better?"
   ]
  },
  {
   "cell_type": "markdown",
   "metadata": {
    "cell_id": "00070-37cce98d-6008-4cf9-947f-56f94c18a349",
    "deepnote_cell_type": "markdown",
    "tags": []
   },
   "source": [
    "## New markdown cell"
   ]
  }
 ],
 "metadata": {
  "deepnote_execution_queue": [],
  "deepnote_notebook_id": "95bbb995-c0a2-4e61-a9bc-c91e57e49e4e",
  "kernelspec": {
   "display_name": "Python 3",
   "language": "python",
   "name": "python3"
  },
  "language_info": {
   "codemirror_mode": {
    "name": "ipython",
    "version": 3
   },
   "file_extension": ".py",
   "mimetype": "text/x-python",
   "name": "python",
   "nbconvert_exporter": "python",
   "pygments_lexer": "ipython3",
   "version": "3.6.5"
  }
 },
 "nbformat": 4,
 "nbformat_minor": 2
}
