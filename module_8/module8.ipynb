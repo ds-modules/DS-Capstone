{
 "cells": [
  {
   "cell_type": "markdown",
   "metadata": {
    "cell_id": "00000-fe31e7a1-1ca6-4660-bcd0-3ac06c071f90",
    "deepnote_cell_type": "markdown",
    "output_cleared": false
   },
   "source": [
    "# Multivariable Regression and Bias\n",
    "\n",
    "Extension of single variable regression to Multiple Regression, add sklearn component to it and explain the coeficients (Varun)\n",
    "\n",
    "Video: Prediction, and list reason why the model is fit for prediction(some aren't, example?), use a different dataset(Varun, Grace)\n",
    "\n",
    "Video: Reading and evaluating residual plots, need the residuals to be centered around 0, normal evaluation(?). （Grace）\n",
    "\n",
    "Video - feature selection and validation using RMSE + train/test split （Andrei）\n",
    "\n",
    "Accuracy and the related stats: TP, FP, TN, FN, sensitivity, specificity (Ervin)\n"
   ]
  },
  {
   "cell_type": "code",
   "execution_count": 22,
   "metadata": {
    "cell_id": "00001-82d56c20-62db-44a2-a5c6-73fa53ef53de",
    "deepnote_cell_type": "code",
    "execution_millis": 2180,
    "execution_start": 1605555508320,
    "output_cleared": false,
    "source_hash": "392a5c1d",
    "tags": [
     "remove_cell"
    ]
   },
   "outputs": [],
   "source": [
    "import numpy as np\n",
    "import pandas as pd\n",
    "import matplotlib.pyplot as plt\n",
    "from sklearn import linear_model as lm\n",
    "from sklearn.metrics import mean_squared_error\n",
    "from scipy.optimize import minimize\n",
    "import warnings\n",
    "warnings.simplefilter(\"ignore\")\n",
    "from mpl_toolkits.mplot3d import Axes3D\n",
    "from matplotlib import patches\n",
    "%matplotlib inline\n",
    "from ipywidgets import interact, interactive, fixed\n",
    "import ipywidgets as widgets\n",
    "\n",
    "nlsy = pd.read_csv('nlsy_cleaned_small.csv')\n",
    "nlsy['college'] = nlsy['college'].astype(float)\n",
    "nlsy['AFQT'] = nlsy[\"AFQT\"].astype(float)"
   ]
  },
  {
   "cell_type": "markdown",
   "metadata": {
    "cell_id": "00002-3178ea7e-defd-4ce1-8f79-ec704bce580d",
    "deepnote_cell_type": "markdown",
    "output_cleared": false
   },
   "source": [
    "Our procedure earlier showed that we expect to see roughly a 70% increase in earnings in people who went to college vs. people who did not go to college. Does this imply that your decision to go to college was worthwhile, and now you can expect to have roughly 70% higher earnings compared to the version of you who did not go to college?\n",
    "\n",
    "Let's go back to our discussion of experiments from earlier. In an ideal experiment, we would want a good sample of people who are about to graduate high school, and then randomly assign them to either a treatment group that gets sent to college, and a control group that does not. If you are in the treatment group you *must* go to college, and if you are in the control group you *cannot* go to college. Since the decision to go to college in this case is completely random, we can safely assume that the treatment and control groups are on average identical in attributes, apart from college attendance. We can therefore compare their log earnings in the future to see the effect of going to college.\n",
    "\n",
    "Clearly this experiment is impossible to perform. We cannot randomly assign people to go to college. What's different between this ideal experiment and our regression from earlier? What's the issue with comparing the differences in log earnings for people in our sample who happened to go to college and those who did not?\n",
    "\n",
    "In our sample, the treatment (went to college) and control (did not go to college) groups are not identical in every way except for college! People aren't randomly assigned college, they *choose* to go to college. The factors that cause someone to go to college are complex and lead to differences between people who chose to go to college and those who did not. When we perform regression on the variable `college`, since the groups in the sample are different, not only are we capturing the effect of going to college, but we are also capturing the effects of everything else that is different about the two groups that also affects earnings.\n",
    "\n",
    "Imagine another variable that captures the wealth of your family. College can be very expensive, so it might be the case that the wealthier your family is, the more likely you are to go to college. Also, it's easy to imagine that the wealthier your family is, the wealthier you are likely to be in the future. This implies that the group of people in the sample who went to college will tend to be wealthier than the group that did not. Also, the group of people who went to college is expected to earn more not necessarily because they went to college, but simply because they are wealthier.\n",
    "\n",
    "Therefore, when we do regression to measure the differences in earnings between people who went to college and those who did not, we also capture differences in earnings between people who grew up wealthier and those who did not. Because of this, we *over-estimate* the effect of going to college. $\\hat{\\beta}$ captures the average observed benefit of going to college *and* being wealthier, but we're only interested in college. This is called *omitted variable bias*. Family wealth is an omitted variable in this regression and it's causing our results to be biased.\n",
    "\n",
    "Let's think of another example of omitted variable bias. In the NLSY dataset, there is a variable called `AFQT`. AFQT is a score on a particular standardized test that all people in the sample took. Let's use AFQT as a proxy measurement for the abstract idea of academic capability. While a standardized test is by no means the sole indication of someone's ability or intelligence, let's ignore that very complicated issue for now and assume that AFQT does an O.K. job at capturing this ability variable that is otherwise very difficult to measure.\n",
    "\n",
    "Is there omitted variable bias from AFQT? Almost certainly. It seems fair to believe that people who choose to go to college are on average more academically-capable, and it also seems fair to say that on average we expect more capable people to earn more. Therefore, $\\hat{\\beta}$ above might be capturing the effects of being more capable, along with the effects of going to college.\n",
    "\n",
    "How can we fix this issue? Multivariable regression."
   ]
  },
  {
   "cell_type": "markdown",
   "metadata": {
    "cell_id": "00003-9bead01e-3b06-4156-be58-ab6217f6c703",
    "deepnote_cell_type": "markdown",
    "output_cleared": false
   },
   "source": [
    "## Multivariable Regression"
   ]
  },
  {
   "cell_type": "markdown",
   "metadata": {
    "cell_id": "00004-34220d28-85fe-48d7-817a-4760b3506495",
    "deepnote_cell_type": "markdown",
    "output_cleared": false
   },
   "source": [
    "So far we have only been regressing outcome variable $y$ onto one explanatory variable $x$. To find the regression line, we choose $\\hat{\\alpha}$ and $\\hat{\\beta}$ that minimize the mean squared error. But what if we believe that $y$ is actually determined by two variables, $x_1$ and $x_2$? Specifically, what if the \"true\" model is\n",
    "\n",
    "$$\n",
    "y = \\alpha + \\beta_1 x_{1} + \\beta_2 x_{2} + \\epsilon\n",
    "$$\n",
    "\n",
    "and we would like to estimate\n",
    "\n",
    "$$\n",
    "\\hat{y} = \\hat{\\alpha} + \\hat{\\beta}_1 x_{1} + \\hat{\\beta}_2 x_{2}\n",
    "$$\n",
    "\n",
    "Now our challenge is choosing $\\hat{\\alpha}$, $\\hat{\\beta}_1$, *and* $\\hat{\\beta}_2$ that minimize the mean squared error. To this end, we will use the `minimize` function to minimize a function `to_minimize` that takes in model parameters and returns the model's RMSE."
   ]
  },
  {
   "cell_type": "code",
   "execution_count": 23,
   "metadata": {
    "cell_id": "00005-a6b36df1-f4c0-47be-b0cf-d5b4fa31d37a",
    "deepnote_cell_type": "code",
    "execution_millis": 158,
    "execution_start": 1605555515008,
    "output_cleared": false,
    "source_hash": "84148760"
   },
   "outputs": [
    {
     "data": {
      "text/plain": [
       "array([9.95630229e+00, 4.30124617e-01, 8.37218402e-03])"
      ]
     },
     "execution_count": 23,
     "metadata": {},
     "output_type": "execute_result"
    }
   ],
   "source": [
    "def rmse(target, pred):\n",
    "    return np.sqrt(mean_squared_error(target, pred)) \n",
    "\n",
    "def to_minimize(params):\n",
    "    intercept, beta_1, beta_2 = params\n",
    "    predictions = intercept + beta_1 * nlsy['college'] + beta_2 * nlsy['AFQT']\n",
    "    actual = nlsy['log_earn_1999']\n",
    "    return rmse(predictions, actual)\n",
    "\n",
    "minimize(to_minimize, [0, 0, 0]).x"
   ]
  },
  {
   "cell_type": "markdown",
   "metadata": {
    "cell_id": "00006-656083d2-9041-4f35-88e5-eea18d9a1a80",
    "deepnote_cell_type": "markdown",
    "output_cleared": false
   },
   "source": [
    "We see that `minimize` return an $\\hat{\\alpha}$ of 9.956, a $\\hat{\\beta}_1$ of 0.430, and a $\\hat{\\beta}_2$ of 0.008. Let's perform the regression using `scikit-learn` and see what we get. As before, we use the same `LinearRegression` model for both single and multivariable regression. Recall that previously, our design matrix $X$ only consisted of one column, but now it should contain two, for each explanatory variable."
   ]
  },
  {
   "cell_type": "code",
   "execution_count": 24,
   "metadata": {
    "cell_id": "00007-f9a010fc-8d11-4334-a6ef-4daff15849f8",
    "deepnote_cell_type": "code",
    "execution_millis": 13,
    "execution_start": 1605555515635,
    "output_cleared": false,
    "source_hash": "9e4d74c0"
   },
   "outputs": [
    {
     "name": "stdout",
     "output_type": "stream",
     "text": [
      "[9.956300947350114, 0.4301233843374295, 0.008372219011608924]\n"
     ]
    }
   ],
   "source": [
    "y = nlsy['log_earn_1999']\n",
    "X = nlsy[['college', 'AFQT']]\n",
    "\n",
    "model1 = lm.LinearRegression().fit(X, y)\n",
    "print([model1.intercept_, model1.coef_[0], model1.coef_[1]])"
   ]
  },
  {
   "cell_type": "markdown",
   "metadata": {
    "cell_id": "00009-b082eb9d-d485-4260-8892-a4f522397975",
    "deepnote_cell_type": "markdown",
    "output_cleared": false,
    "tags": []
   },
   "source": [
    "The intercept and coefficients match up to the manually calculated values above. "
   ]
  },
  {
   "cell_type": "markdown",
   "metadata": {
    "cell_id": "00008-2a180260-57e7-46d1-be4f-2279c7187e4b",
    "deepnote_cell_type": "markdown",
    "output_cleared": false
   },
   "source": [
    "Here $\\hat{\\beta}_1$ is 0.43, compared to 0.72 from the earlier biased (single variable) regression. That's huge! This implies that when we control for a person's ability (i.e. we get rid of that source of bias), we only see that on average going to college is associated with a 43% increase in earnings instead of 72%.\n",
    "\n",
    "These observations validate our claim that AFQT was probably an omitted variable causing $\\hat{\\beta}_1$ to be biased. When interpreting $\\hat{\\beta}$ coefficients, you should always be mindful of potential sources of bias that could make your coefficients misleading and not useful from a statistical context."
   ]
  },
  {
   "cell_type": "markdown",
   "metadata": {
    "cell_id": "00009-f0e27760-2ef3-49bc-8995-d637b6f88b12",
    "deepnote_cell_type": "markdown",
    "output_cleared": false
   },
   "source": [
    "**Note:** A linear regression model makes predictions for $y$ which we've been calling $\\hat{y}$. If you imagine that you are the model and are tasked with predicting people's earnings, you will almost certainly want more than just their years of schooling to make an accurate prediction. The more relevant variables you are given, the better predictions you are likely to make compared to just using one variable. The variable needs to be relevant though; the day of the week a person was born on is probably not useful in predicting earnings. This is just another way of thinking about the usefulness of multivariable regression."
   ]
  },
  {
   "cell_type": "markdown",
   "metadata": {
    "cell_id": "00010-ed43e8dc-90b6-4237-8980-1fb26b3c686b",
    "deepnote_cell_type": "markdown",
    "output_cleared": false
   },
   "source": [
    "### Visualizing Multivariable Regression\n",
    "\n",
    "The 3D plots below show us our variables of interest and the regression plane from two different angles."
   ]
  },
  {
   "cell_type": "code",
   "execution_count": 25,
   "metadata": {
    "cell_id": "00011-14a6805e-d7c3-426f-bfe8-1698f3ebd8ab",
    "deepnote_cell_type": "code",
    "execution_millis": 538,
    "execution_start": 1605555517453,
    "output_cleared": false,
    "source_hash": "7f15d928",
    "tags": [
     "remove_input"
    ]
   },
   "outputs": [
    {
     "data": {
      "image/png": "[encoded data removed]",
      "text/plain": [
       "<Figure size 576x576 with 1 Axes>"
      ]
     },
     "metadata": {
      "needs_background": "light"
     },
     "output_type": "display_data"
    }
   ],
   "source": [
    "ax = plt.figure(figsize=(8,8)).add_subplot(111, projection='3d')\n",
    "ax.scatter(nlsy[\"AFQT\"], \n",
    "           nlsy[\"college\"], \n",
    "           nlsy['log_earn_1999'])\n",
    "plt.xlabel(\"AFQT\")\n",
    "plt.ylabel(\"college\")\n",
    "ax.set_zlabel(\"log_earn_1999\")\n",
    "plt.title(\"Data Points\", pad=30, size=15);"
   ]
  },
  {
   "cell_type": "code",
   "execution_count": 26,
   "metadata": {
    "cell_id": "00012-12ad353c-ed3b-42b6-8a39-22d358def548",
    "deepnote_cell_type": "code",
    "execution_millis": 1448,
    "execution_start": 1605555517996,
    "output_cleared": false,
    "source_hash": "6fe72056",
    "tags": [
     "remove_input"
    ]
   },
   "outputs": [
    {
     "data": {
      "image/png": "[encoded data removed]",
      "text/plain": [
       "<Figure size 576x576 with 1 Axes>"
      ]
     },
     "metadata": {
      "needs_background": "light"
     },
     "output_type": "display_data"
    }
   ],
   "source": [
    "X,Y = np.meshgrid(np.arange(0,100,1), np.arange(0,1,0.01))\n",
    "Z = 0.0084 * X + 0.4301 * Y + 9.9563\n",
    "ax = plt.figure(figsize=(8,8)).add_subplot(111, projection='3d')\n",
    "ax.scatter(nlsy[\"AFQT\"], \n",
    "           nlsy[\"college\"], \n",
    "           nlsy['log_earn_1999'])\n",
    "ax.plot_surface(X, Y, Z, alpha=0.5)\n",
    "plt.xlabel(\"AFQT\")\n",
    "plt.ylabel(\"college\")\n",
    "ax.set_zlabel(\"log_earn_1999\")\n",
    "plt.title(\"Data Points + Regression Plane\", pad=30, size=15);"
   ]
  },
  {
   "cell_type": "markdown",
   "metadata": {
    "cell_id": "00015-b3c2396c-a8ca-45c4-855e-5bca678f4429",
    "deepnote_cell_type": "markdown",
    "output_cleared": false,
    "tags": []
   },
   "source": [
    "Here is the same visualization with axes switched."
   ]
  },
  {
   "cell_type": "code",
   "execution_count": 27,
   "metadata": {
    "cell_id": "00013-702bc06f-2a52-4279-98ff-73845d64ebe2",
    "deepnote_cell_type": "code",
    "execution_millis": 1284,
    "execution_start": 1605555519478,
    "output_cleared": false,
    "source_hash": "c3489800",
    "tags": [
     "remove_input"
    ]
   },
   "outputs": [
    {
     "data": {
      "image/png": "[encoded data removed]",
      "text/plain": [
       "<Figure size 576x576 with 1 Axes>"
      ]
     },
     "metadata": {
      "needs_background": "light"
     },
     "output_type": "display_data"
    }
   ],
   "source": [
    "X,Y = np.meshgrid(np.arange(0,1,0.01), np.arange(0,100,1))\n",
    "Z = 0.4301 * X + 0.0084 * Y + 9.9563\n",
    "ax = plt.figure(figsize=(8,8)).add_subplot(111, projection='3d')\n",
    "ax.scatter(nlsy[\"college\"], \n",
    "           nlsy[\"AFQT\"], \n",
    "           nlsy['log_earn_1999'])\n",
    "ax.plot_surface(X, Y, Z, alpha=0.1)\n",
    "plt.ylabel(\"AFQT\")\n",
    "plt.xlabel(\"college\")\n",
    "ax.set_zlabel(\"log_earn_1999\")\n",
    "plt.title(\"Data Points + Regression Plane\", pad=30, size=15);"
   ]
  },
  {
   "cell_type": "markdown",
   "metadata": {
    "cell_id": "00014-856c6144-cac0-4f84-bb0a-6e2c4d05f3b1",
    "deepnote_cell_type": "markdown",
    "output_cleared": false
   },
   "source": [
    "The regression plane, instead of the regression line, represents the values for log earnings that the regression model would predict for any given college and AFQT input. It's a plane now because there are two possible inputs, as opposed to one."
   ]
  },
  {
   "cell_type": "markdown",
   "metadata": {
    "cell_id": "00015-88a10cab-c150-45a0-8e54-8120aafd1959",
    "deepnote_cell_type": "markdown",
    "output_cleared": false
   },
   "source": [
    "## Colinearity and Dummy Variables"
   ]
  },
  {
   "cell_type": "markdown",
   "metadata": {
    "cell_id": "00016-d4ca2ebe-d1a8-4cb9-a9f0-7c6e2b9b8d0e",
    "deepnote_cell_type": "markdown",
    "output_cleared": false
   },
   "source": [
    "When we do regression onto the variable `college`, why don't we also include a variable that measures not going to college? In other words, why don't we regress on college and the opposite of college so that way we can get an estimate of the average earnings of college-goers and non-college-goers. Why do we do this roundabout way of using the intercept term and a difference in means?\n",
    "\n",
    "Imagine we have a dataset with a variable for college, a variable for not going to college, and the intercept term. The issue with this is that there is now redundant information.\n",
    "\n",
    "Let's look at just one element of the sample. Let's say this person went to college, so this person's features are the following:\n",
    "* College = 1\n",
    "* Not College = 0\n",
    "* Intercept term = 1\n",
    "\n",
    "Clearly there is a redundancy here; you can guess one of the variables from the others. More specifically, by redundancy we mean that *one variable can be written as a linear combination of the other variables*. In fact, there are three different combinations:\n",
    "* Intercept = College + Not College\n",
    "* Not College = Intercept - College\n",
    "* College = Intercept - Not College\n",
    "\n",
    "These equalities aren't just true for this one person; they actually hold true for any possible person in the sample. This is because of the way we defined \"college\" and \"not college\". You can't simultaneously be in both, and so adding them together you get 1, which is just the intercept term.\n",
    "\n",
    "In general, we have redundancy whenever we have *mutually exclusive* and *exhaustive* dummy variables in combination with an intercept term.\n",
    "* Mutually exclusive: You cannot be in more than one dummy variable.\n",
    "* Exhaustive: You must be in at least one dummy variable.\n",
    "\n",
    "You can see that \"college\" and \"not college\" satisfy these conditions. So why is this redundancy an issue? It becomes ambiguous what the values for $\\hat{\\alpha}$, $\\hat{\\beta}_1$, and $\\hat{\\beta}_2$ should be in the model where we include all three terms:\n",
    "\n",
    "$$\n",
    "\\text{log earnings} = \\hat{\\alpha} + \\hat{\\beta}_1 \\text{college} + \\hat{\\beta}_2 \\text{not college}\n",
    "$$\n",
    "\n",
    "Consider a case where we expect people who went to college to have log earnings of 10 and those who did not go to college to have log earnings of 8. What values for $\\hat{\\beta}$ and $\\hat{\\alpha}$ make sense?\n",
    "\n",
    "* $\\hat{\\beta}_1 = 10$\n",
    "* $\\hat{\\beta}_2 = 8$\n",
    "* $\\hat{\\alpha} = 0$\n",
    "\n",
    "These are valid values for $\\hat{\\beta}$ and $\\hat{\\alpha}$ that satisfy the condition above. To see why, consider a person with college:\n",
    "\n",
    "$$\n",
    "\\text{log earnings} = \\hat{\\alpha} + \\hat{\\beta}_1 \\cdot 1 + \\hat{\\beta}_2 \\cdot 0 \n",
    "\\text{log earnings} = \\hat{\\alpha} + \\hat{\\beta}_1 \n",
    "\\text{log earnings} = 0 + 10 = 10\n",
    "$$\n",
    "\n",
    "and a person without college:\n",
    "\n",
    "$$\n",
    "\\text{log earnings} = \\hat{\\alpha} + \\hat{\\beta}_1 \\cdot 0 + \\hat{\\beta}_2 \\cdot 1 \n",
    "\\text{log earnings} = \\hat{\\alpha} + \\hat{\\beta}_2 \n",
    "\\text{log earnings} = 0 + 8 = 8\n",
    "$$\n",
    "\n",
    "* $\\hat{\\beta}_1 = 2$\n",
    "* $\\hat{\\beta}_2 = 0$\n",
    "* $\\hat{\\alpha} = 8$\n",
    "\n",
    "also make sense. To see why, consider a person with college:\n",
    "\n",
    "$$\n",
    "\\text{log earnings} = \\hat{\\alpha} + \\hat{\\beta}_1 \\cdot 1 + \\hat{\\beta}_2 \\cdot 0\n",
    "\\text{log earnings} = \\hat{\\alpha} + \\hat{\\beta}_1 \n",
    "\\text{log earnings} = 8 + 2 = 10\n",
    "$$\n",
    "\n",
    "and a person without college:\n",
    "\n",
    "$$\n",
    "\\text{log earnings} = \\hat{\\alpha} + \\hat{\\beta}_1 \\cdot 0 + \\hat{\\beta}_2 \\cdot 1\n",
    "\\text{log earnings} = \\hat{\\alpha} + \\hat{\\beta}_2 \n",
    "\\text{log earnings} = 8 + 0 = 8\n",
    "$$\n",
    "\n",
    "It turns out, there are actually infinitely many solutions for $\\hat{\\beta}$ that satisfy the condition where people who went to college have mean log earnings of 10 and people who did not go to college have mean log earnings of 8. This holds true for all situations where you regress on a constant and a set of mutually exclusive and exhaustive dummies. There is no unique solution for $\\hat{\\beta}$, which is a problem for econometricians who want unique and interpretable coefficients.\n",
    "\n",
    "In fact, there is mathematical justification for this as well. At some point in the math involved in performing regression, having redundant variables causes a division by 0. This is particularly upsetting for your computer, and it will complain.\n",
    "\n",
    "So how do we avoid this problem? We deliberately exclude one of the variables. It can technically either be one of the dummy variables or the intercept term, but we usually really want to have an intercept term present in our regression for other reasons. So we usually get rid of one of the dummy variables. Notice that we implicitly did this earlier. We did not include \"not college\" in our first regression."
   ]
  },
  {
   "cell_type": "markdown",
   "metadata": {
    "cell_id": "00019-b1a9c4fc-19e7-469b-ac98-c79ee2b1e90d",
    "deepnote_cell_type": "markdown",
    "output_cleared": false,
    "tags": []
   },
   "source": [
    "## Building a Multivariate Regression Model "
   ]
  },
  {
   "cell_type": "markdown",
   "metadata": {
    "cell_id": "00020-9305a490-9b1c-4e10-9465-e558680e3eb6",
    "deepnote_cell_type": "markdown",
    "output_cleared": false,
    "tags": []
   },
   "source": [
    "### Car Data EDA and Visualization"
   ]
  },
  {
   "cell_type": "markdown",
   "metadata": {
    "cell_id": "00021-640de71b-9464-4d5c-8001-7834f8a517a0",
    "deepnote_cell_type": "markdown",
    "output_cleared": false,
    "tags": []
   },
   "source": [
    "Now that we have understand the math behind multiple regression and have seen an example visualized, it's time to build our own model from the very start! \n",
    "We'll be using a dataset containing various characteristics about used cars on the market, and will be predicting their selling price based on these characteristics. Before we begin, take a look at the description of the dataset and it's variables here: https://www.kaggle.com/nehalbirla/vehicle-dataset-from-cardekho."
   ]
  },
  {
   "cell_type": "code",
   "execution_count": 28,
   "metadata": {
    "cell_id": "00022-21795b4c-a8a9-4f1b-85a2-789a0339c4a0",
    "deepnote_cell_type": "code",
    "execution_millis": 78,
    "execution_start": 1605555521369,
    "output_cleared": false,
    "source_hash": "403da0d5",
    "tags": []
   },
   "outputs": [
    {
     "data": {
      "text/html": [
       "<div>\n",
       "<style scoped>\n",
       "    .dataframe tbody tr th:only-of-type {\n",
       "        vertical-align: middle;\n",
       "    }\n",
       "\n",
       "    .dataframe tbody tr th {\n",
       "        vertical-align: top;\n",
       "    }\n",
       "\n",
       "    .dataframe thead th {\n",
       "        text-align: right;\n",
       "    }\n",
       "</style>\n",
       "<table border=\"1\" class=\"dataframe\">\n",
       "  <thead>\n",
       "    <tr style=\"text-align: right;\">\n",
       "      <th></th>\n",
       "      <th>name</th>\n",
       "      <th>year</th>\n",
       "      <th>selling_price</th>\n",
       "      <th>km_driven</th>\n",
       "      <th>fuel</th>\n",
       "      <th>seller_type</th>\n",
       "      <th>transmission</th>\n",
       "      <th>owner</th>\n",
       "    </tr>\n",
       "  </thead>\n",
       "  <tbody>\n",
       "    <tr>\n",
       "      <th>0</th>\n",
       "      <td>Maruti 800 AC</td>\n",
       "      <td>2007</td>\n",
       "      <td>60000</td>\n",
       "      <td>70000</td>\n",
       "      <td>Petrol</td>\n",
       "      <td>Individual</td>\n",
       "      <td>Manual</td>\n",
       "      <td>First Owner</td>\n",
       "    </tr>\n",
       "    <tr>\n",
       "      <th>1</th>\n",
       "      <td>Maruti Wagon R LXI Minor</td>\n",
       "      <td>2007</td>\n",
       "      <td>135000</td>\n",
       "      <td>50000</td>\n",
       "      <td>Petrol</td>\n",
       "      <td>Individual</td>\n",
       "      <td>Manual</td>\n",
       "      <td>First Owner</td>\n",
       "    </tr>\n",
       "    <tr>\n",
       "      <th>2</th>\n",
       "      <td>Hyundai Verna 1.6 SX</td>\n",
       "      <td>2012</td>\n",
       "      <td>600000</td>\n",
       "      <td>100000</td>\n",
       "      <td>Diesel</td>\n",
       "      <td>Individual</td>\n",
       "      <td>Manual</td>\n",
       "      <td>First Owner</td>\n",
       "    </tr>\n",
       "    <tr>\n",
       "      <th>3</th>\n",
       "      <td>Datsun RediGO T Option</td>\n",
       "      <td>2017</td>\n",
       "      <td>250000</td>\n",
       "      <td>46000</td>\n",
       "      <td>Petrol</td>\n",
       "      <td>Individual</td>\n",
       "      <td>Manual</td>\n",
       "      <td>First Owner</td>\n",
       "    </tr>\n",
       "    <tr>\n",
       "      <th>4</th>\n",
       "      <td>Honda Amaze VX i-DTEC</td>\n",
       "      <td>2014</td>\n",
       "      <td>450000</td>\n",
       "      <td>141000</td>\n",
       "      <td>Diesel</td>\n",
       "      <td>Individual</td>\n",
       "      <td>Manual</td>\n",
       "      <td>Second Owner</td>\n",
       "    </tr>\n",
       "  </tbody>\n",
       "</table>\n",
       "</div>"
      ],
      "text/plain": [
       "                       name  year  selling_price  km_driven    fuel  \\\n",
       "0             Maruti 800 AC  2007          60000      70000  Petrol   \n",
       "1  Maruti Wagon R LXI Minor  2007         135000      50000  Petrol   \n",
       "2      Hyundai Verna 1.6 SX  2012         600000     100000  Diesel   \n",
       "3    Datsun RediGO T Option  2017         250000      46000  Petrol   \n",
       "4     Honda Amaze VX i-DTEC  2014         450000     141000  Diesel   \n",
       "\n",
       "  seller_type transmission         owner  \n",
       "0  Individual       Manual   First Owner  \n",
       "1  Individual       Manual   First Owner  \n",
       "2  Individual       Manual   First Owner  \n",
       "3  Individual       Manual   First Owner  \n",
       "4  Individual       Manual  Second Owner  "
      ]
     },
     "execution_count": 28,
     "metadata": {},
     "output_type": "execute_result"
    }
   ],
   "source": [
    "cars = pd.read_csv('car_data.csv')\n",
    "cars.head()"
   ]
  },
  {
   "cell_type": "markdown",
   "metadata": {
    "cell_id": "00021-7614f4e6-cf27-4972-a306-386046db5bfc",
    "deepnote_cell_type": "markdown",
    "output_cleared": false,
    "tags": []
   },
   "source": []
  },
  {
   "cell_type": "markdown",
   "metadata": {
    "cell_id": "00021-8e266246-adb2-47ee-baea-dd9dbf79eb5a",
    "deepnote_cell_type": "markdown",
    "output_cleared": false,
    "tags": []
   },
   "source": [
    "### Dummy Variables and One-Hot Encoding"
   ]
  },
  {
   "cell_type": "markdown",
   "metadata": {
    "cell_id": "00026-92090016-bdf5-428a-9be7-dd3ca010894c",
    "deepnote_cell_type": "markdown",
    "output_cleared": false,
    "tags": []
   },
   "source": [
    "We would like to predict the price of the car based on its other attributes. \n",
    "For our purposes, it may be beneficial to not consider the name variable when predicting the price of the car, \n",
    "since we want to evaluate all car models equally. \n",
    "Note that this assumption may not be correct in the actual car market, which can also lead to a intersting reserch question to ask: Do specific car models sell for a higher price than average on the second had market? \n",
    "\n",
    "But I digress, for our purposes, we want to consider the whole market, and not model our regression to specifc car models. So in the following cell, we will first remove the `name` column from the data frame."
   ]
  },
  {
   "cell_type": "code",
   "execution_count": 29,
   "metadata": {
    "cell_id": "00026-c925143b-e74f-4370-8802-0d95380c0ad9",
    "deepnote_cell_type": "code",
    "execution_millis": 136,
    "execution_start": 1605555523266,
    "output_cleared": false,
    "source_hash": "e6d5ac18",
    "tags": []
   },
   "outputs": [
    {
     "data": {
      "text/html": [
       "<div>\n",
       "<style scoped>\n",
       "    .dataframe tbody tr th:only-of-type {\n",
       "        vertical-align: middle;\n",
       "    }\n",
       "\n",
       "    .dataframe tbody tr th {\n",
       "        vertical-align: top;\n",
       "    }\n",
       "\n",
       "    .dataframe thead th {\n",
       "        text-align: right;\n",
       "    }\n",
       "</style>\n",
       "<table border=\"1\" class=\"dataframe\">\n",
       "  <thead>\n",
       "    <tr style=\"text-align: right;\">\n",
       "      <th></th>\n",
       "      <th>year</th>\n",
       "      <th>selling_price</th>\n",
       "      <th>km_driven</th>\n",
       "      <th>fuel_Diesel</th>\n",
       "      <th>fuel_Electric</th>\n",
       "      <th>fuel_LPG</th>\n",
       "      <th>fuel_Petrol</th>\n",
       "      <th>seller_type_Individual</th>\n",
       "      <th>seller_type_Trustmark Dealer</th>\n",
       "      <th>transmission_Manual</th>\n",
       "      <th>owner_Fourth &amp; Above Owner</th>\n",
       "      <th>owner_Second Owner</th>\n",
       "      <th>owner_Test Drive Car</th>\n",
       "      <th>owner_Third Owner</th>\n",
       "    </tr>\n",
       "  </thead>\n",
       "  <tbody>\n",
       "    <tr>\n",
       "      <th>0</th>\n",
       "      <td>2007</td>\n",
       "      <td>60000</td>\n",
       "      <td>70000</td>\n",
       "      <td>0</td>\n",
       "      <td>0</td>\n",
       "      <td>0</td>\n",
       "      <td>1</td>\n",
       "      <td>1</td>\n",
       "      <td>0</td>\n",
       "      <td>1</td>\n",
       "      <td>0</td>\n",
       "      <td>0</td>\n",
       "      <td>0</td>\n",
       "      <td>0</td>\n",
       "    </tr>\n",
       "    <tr>\n",
       "      <th>1</th>\n",
       "      <td>2007</td>\n",
       "      <td>135000</td>\n",
       "      <td>50000</td>\n",
       "      <td>0</td>\n",
       "      <td>0</td>\n",
       "      <td>0</td>\n",
       "      <td>1</td>\n",
       "      <td>1</td>\n",
       "      <td>0</td>\n",
       "      <td>1</td>\n",
       "      <td>0</td>\n",
       "      <td>0</td>\n",
       "      <td>0</td>\n",
       "      <td>0</td>\n",
       "    </tr>\n",
       "    <tr>\n",
       "      <th>2</th>\n",
       "      <td>2012</td>\n",
       "      <td>600000</td>\n",
       "      <td>100000</td>\n",
       "      <td>1</td>\n",
       "      <td>0</td>\n",
       "      <td>0</td>\n",
       "      <td>0</td>\n",
       "      <td>1</td>\n",
       "      <td>0</td>\n",
       "      <td>1</td>\n",
       "      <td>0</td>\n",
       "      <td>0</td>\n",
       "      <td>0</td>\n",
       "      <td>0</td>\n",
       "    </tr>\n",
       "    <tr>\n",
       "      <th>3</th>\n",
       "      <td>2017</td>\n",
       "      <td>250000</td>\n",
       "      <td>46000</td>\n",
       "      <td>0</td>\n",
       "      <td>0</td>\n",
       "      <td>0</td>\n",
       "      <td>1</td>\n",
       "      <td>1</td>\n",
       "      <td>0</td>\n",
       "      <td>1</td>\n",
       "      <td>0</td>\n",
       "      <td>0</td>\n",
       "      <td>0</td>\n",
       "      <td>0</td>\n",
       "    </tr>\n",
       "    <tr>\n",
       "      <th>4</th>\n",
       "      <td>2014</td>\n",
       "      <td>450000</td>\n",
       "      <td>141000</td>\n",
       "      <td>1</td>\n",
       "      <td>0</td>\n",
       "      <td>0</td>\n",
       "      <td>0</td>\n",
       "      <td>1</td>\n",
       "      <td>0</td>\n",
       "      <td>1</td>\n",
       "      <td>0</td>\n",
       "      <td>1</td>\n",
       "      <td>0</td>\n",
       "      <td>0</td>\n",
       "    </tr>\n",
       "    <tr>\n",
       "      <th>...</th>\n",
       "      <td>...</td>\n",
       "      <td>...</td>\n",
       "      <td>...</td>\n",
       "      <td>...</td>\n",
       "      <td>...</td>\n",
       "      <td>...</td>\n",
       "      <td>...</td>\n",
       "      <td>...</td>\n",
       "      <td>...</td>\n",
       "      <td>...</td>\n",
       "      <td>...</td>\n",
       "      <td>...</td>\n",
       "      <td>...</td>\n",
       "      <td>...</td>\n",
       "    </tr>\n",
       "    <tr>\n",
       "      <th>4335</th>\n",
       "      <td>2014</td>\n",
       "      <td>409999</td>\n",
       "      <td>80000</td>\n",
       "      <td>1</td>\n",
       "      <td>0</td>\n",
       "      <td>0</td>\n",
       "      <td>0</td>\n",
       "      <td>1</td>\n",
       "      <td>0</td>\n",
       "      <td>1</td>\n",
       "      <td>0</td>\n",
       "      <td>1</td>\n",
       "      <td>0</td>\n",
       "      <td>0</td>\n",
       "    </tr>\n",
       "    <tr>\n",
       "      <th>4336</th>\n",
       "      <td>2014</td>\n",
       "      <td>409999</td>\n",
       "      <td>80000</td>\n",
       "      <td>1</td>\n",
       "      <td>0</td>\n",
       "      <td>0</td>\n",
       "      <td>0</td>\n",
       "      <td>1</td>\n",
       "      <td>0</td>\n",
       "      <td>1</td>\n",
       "      <td>0</td>\n",
       "      <td>1</td>\n",
       "      <td>0</td>\n",
       "      <td>0</td>\n",
       "    </tr>\n",
       "    <tr>\n",
       "      <th>4337</th>\n",
       "      <td>2009</td>\n",
       "      <td>110000</td>\n",
       "      <td>83000</td>\n",
       "      <td>0</td>\n",
       "      <td>0</td>\n",
       "      <td>0</td>\n",
       "      <td>1</td>\n",
       "      <td>1</td>\n",
       "      <td>0</td>\n",
       "      <td>1</td>\n",
       "      <td>0</td>\n",
       "      <td>1</td>\n",
       "      <td>0</td>\n",
       "      <td>0</td>\n",
       "    </tr>\n",
       "    <tr>\n",
       "      <th>4338</th>\n",
       "      <td>2016</td>\n",
       "      <td>865000</td>\n",
       "      <td>90000</td>\n",
       "      <td>1</td>\n",
       "      <td>0</td>\n",
       "      <td>0</td>\n",
       "      <td>0</td>\n",
       "      <td>1</td>\n",
       "      <td>0</td>\n",
       "      <td>1</td>\n",
       "      <td>0</td>\n",
       "      <td>0</td>\n",
       "      <td>0</td>\n",
       "      <td>0</td>\n",
       "    </tr>\n",
       "    <tr>\n",
       "      <th>4339</th>\n",
       "      <td>2016</td>\n",
       "      <td>225000</td>\n",
       "      <td>40000</td>\n",
       "      <td>0</td>\n",
       "      <td>0</td>\n",
       "      <td>0</td>\n",
       "      <td>1</td>\n",
       "      <td>1</td>\n",
       "      <td>0</td>\n",
       "      <td>1</td>\n",
       "      <td>0</td>\n",
       "      <td>0</td>\n",
       "      <td>0</td>\n",
       "      <td>0</td>\n",
       "    </tr>\n",
       "  </tbody>\n",
       "</table>\n",
       "<p>4340 rows × 14 columns</p>\n",
       "</div>"
      ],
      "text/plain": [
       "      year  selling_price  km_driven  fuel_Diesel  fuel_Electric  fuel_LPG  \\\n",
       "0     2007          60000      70000            0              0         0   \n",
       "1     2007         135000      50000            0              0         0   \n",
       "2     2012         600000     100000            1              0         0   \n",
       "3     2017         250000      46000            0              0         0   \n",
       "4     2014         450000     141000            1              0         0   \n",
       "...    ...            ...        ...          ...            ...       ...   \n",
       "4335  2014         409999      80000            1              0         0   \n",
       "4336  2014         409999      80000            1              0         0   \n",
       "4337  2009         110000      83000            0              0         0   \n",
       "4338  2016         865000      90000            1              0         0   \n",
       "4339  2016         225000      40000            0              0         0   \n",
       "\n",
       "      fuel_Petrol  seller_type_Individual  seller_type_Trustmark Dealer  \\\n",
       "0               1                       1                             0   \n",
       "1               1                       1                             0   \n",
       "2               0                       1                             0   \n",
       "3               1                       1                             0   \n",
       "4               0                       1                             0   \n",
       "...           ...                     ...                           ...   \n",
       "4335            0                       1                             0   \n",
       "4336            0                       1                             0   \n",
       "4337            1                       1                             0   \n",
       "4338            0                       1                             0   \n",
       "4339            1                       1                             0   \n",
       "\n",
       "      transmission_Manual  owner_Fourth & Above Owner  owner_Second Owner  \\\n",
       "0                       1                           0                   0   \n",
       "1                       1                           0                   0   \n",
       "2                       1                           0                   0   \n",
       "3                       1                           0                   0   \n",
       "4                       1                           0                   1   \n",
       "...                   ...                         ...                 ...   \n",
       "4335                    1                           0                   1   \n",
       "4336                    1                           0                   1   \n",
       "4337                    1                           0                   1   \n",
       "4338                    1                           0                   0   \n",
       "4339                    1                           0                   0   \n",
       "\n",
       "      owner_Test Drive Car  owner_Third Owner  \n",
       "0                        0                  0  \n",
       "1                        0                  0  \n",
       "2                        0                  0  \n",
       "3                        0                  0  \n",
       "4                        0                  0  \n",
       "...                    ...                ...  \n",
       "4335                     0                  0  \n",
       "4336                     0                  0  \n",
       "4337                     0                  0  \n",
       "4338                     0                  0  \n",
       "4339                     0                  0  \n",
       "\n",
       "[4340 rows x 14 columns]"
      ]
     },
     "execution_count": 29,
     "metadata": {},
     "output_type": "execute_result"
    }
   ],
   "source": [
    "cars = cars.drop(columns=['name'])\n",
    "cars_with_dummies = pd.get_dummies(cars, drop_first=True)\n",
    "cars_with_dummies"
   ]
  },
  {
   "cell_type": "markdown",
   "metadata": {
    "cell_id": "00025-7a138d49-0b8e-4d46-866e-bf3ef2dd12d7",
    "deepnote_cell_type": "markdown",
    "output_cleared": false,
    "tags": []
   },
   "source": [
    "As you saw above in the explanation of multicollinearity, we have to numerically encode categorical variables in order to use them for the purposes of regression. \n",
    "This process is called one-hot encoding, where each possible value in a category gets its own column with a binary 1/0 value corresponding to what category it belongs in.\n",
    "As stated above, one column from each category must be dropped to prevent redundancy. \n",
    "\n",
    "Luckily, pandas has a function `get_dummies` which does this work for you!\n",
    "It even has an optional argument \"drop_first\" that will automatically drop one of the columns per category. \n",
    "Once again, we do this because including every variable would make linear combinations of columns possible with the intercept term.\n",
    "Removing one of the encoded columns prevents this, and allows our design matrix to be full rank."
   ]
  },
  {
   "cell_type": "markdown",
   "metadata": {
    "cell_id": "00028-b1594272-a7cd-4719-bae2-d43d8a09464b",
    "deepnote_cell_type": "markdown",
    "output_cleared": false,
    "tags": []
   },
   "source": [
    "## Building the model and prediction\n",
    "After getting the dummy variables, let's try fitting a multivariate regression model to our cars data! \n",
    "We are trying to predict the price of the care using all the other information we have in the table. "
   ]
  },
  {
   "cell_type": "code",
   "execution_count": 30,
   "metadata": {
    "cell_id": "00029-32889177-99ce-42bd-94a5-c204aa108406",
    "deepnote_cell_type": "code",
    "execution_millis": 41,
    "execution_start": 1605555568175,
    "output_cleared": false,
    "source_hash": "e72ae831",
    "tags": []
   },
   "outputs": [
    {
     "data": {
      "text/plain": [
       "LinearRegression()"
      ]
     },
     "execution_count": 30,
     "metadata": {},
     "output_type": "execute_result"
    }
   ],
   "source": [
    "from sklearn import linear_model as lm\n",
    "\n",
    "# assign model to a variable \n",
    "model1 = lm.LinearRegression()\n",
    "\n",
    "#our x, the predictor variables\n",
    "X = cars_with_dummies.drop(columns=['selling_price'])\n",
    "# our y, the price of the cars\n",
    "y = cars_with_dummies['selling_price']\n",
    "# fit model based on data\n",
    "model1.fit(X, y)\n",
    "\n"
   ]
  },
  {
   "cell_type": "markdown",
   "metadata": {
    "cell_id": "00030-fe58f06b-0eb3-448d-8878-14f323067b80",
    "deepnote_cell_type": "markdown",
    "output_cleared": false,
    "tags": []
   },
   "source": [
    "Now what? What can we do with this newly fitted model? \n",
    "\n",
    "A very tempting thing is to try out our model and try to predict on the same X variables that we fit out data to, and see how the model did.\n",
    "And we're going to do exactly that. \n",
    "\n",
    "In `sklearn`, we can use our fitted models to predict using `model.predict(X)`, where X is the new data we want to predict on. \n",
    "Note that the new data passed in for prediction must be in the exact same format as the data we used to make the model.\n",
    "This means it should have the same columns, in the same order."
   ]
  },
  {
   "cell_type": "code",
   "execution_count": 31,
   "metadata": {
    "cell_id": "00031-542bf64c-d9d7-4c40-adf1-bcd5dd6bb3c6",
    "deepnote_cell_type": "code",
    "execution_millis": 14,
    "execution_start": 1605555619186,
    "output_cleared": false,
    "source_hash": "a128cb7d",
    "tags": []
   },
   "outputs": [
    {
     "name": "stdout",
     "output_type": "stream",
     "text": [
      "425388.2429394575\n",
      "504127.3117511521 578482.0792187806\n"
     ]
    }
   ],
   "source": [
    "predictions = model1.predict(X)\n",
    "actual = y\n",
    "print(rmse(actual, predictions))\n",
    "print(np.mean(actual), np.std(actual))"
   ]
  },
  {
   "cell_type": "markdown",
   "metadata": {
    "cell_id": "00032-1471743e-3b49-45e1-9770-1477bbcdb7d9",
    "deepnote_cell_type": "markdown",
    "output_cleared": false,
    "tags": []
   },
   "source": [
    "one thing to note about the plot above is that since we used multiple variables to predict for y, our X-axis is actually multi-dimensional. \n",
    "But since higher-dimensional graph are very hard to interpret, we no longer plot X, y, and the regression line as the first step to verify how well our model fits the data. \n",
    "\n",
    "In the code chunk above, we first printed out the RMSE of the regression, which, at first glance can seem like a very large number, but after we print out the mean and standard deviation of the actual y, the RMSE no longer seem as outrageously large. \n",
    "Although it is still quite a bit larger than we could have hoped for.\n",
    "\n",
    "Taking a closer look at the mean and standard deviation of y, we realize that the standard deviation of y is actually larger then the mean of y, how can this be? let's take a closer look. "
   ]
  },
  {
   "cell_type": "code",
   "execution_count": 32,
   "metadata": {
    "cell_id": "00033-e66c89f7-4ce7-43a6-96b2-65c1a2d906d8",
    "deepnote_cell_type": "code",
    "execution_millis": 177,
    "execution_start": 1605555644059,
    "output_cleared": false,
    "source_hash": "9b738cfc",
    "tags": []
   },
   "outputs": [
    {
     "data": {
      "image/png": "[encoded data removed]",
      "text/plain": [
       "<Figure size 432x288 with 1 Axes>"
      ]
     },
     "metadata": {
      "needs_background": "light"
     },
     "output_type": "display_data"
    }
   ],
   "source": [
    "plt.hist(y)\n",
    "plt.xlabel(\"price\")\n",
    "plt.show()"
   ]
  },
  {
   "cell_type": "markdown",
   "metadata": {
    "cell_id": "00034-0855d3f6-33e7-4256-b42d-484e8ffc543b",
    "deepnote_cell_type": "markdown",
    "output_cleared": false,
    "tags": []
   },
   "source": [
    "Our y values seem to be quite skewed! \n",
    "With a linear regression, extreme values tend to have a lot of influence on the slope and intercept of the model. \n",
    "If we want our model to fit better to a larger proportion of the data, we need to get rid of these extreme values when fitting the model. Let's try that next.\n",
    "\n",
    "The 10^6 cutoff here is completely subjective and is up to the data analyst to decide. \n",
    "We chose 10^6 simply because as college students, any car that sells for more then $1,000,000 second hand seems outrageous!"
   ]
  },
  {
   "cell_type": "code",
   "execution_count": 33,
   "metadata": {
    "cell_id": "00035-08af666a-1b26-460f-a10e-0843b813c8f9",
    "deepnote_cell_type": "code",
    "execution_millis": 15,
    "execution_start": 1605555798723,
    "output_cleared": false,
    "source_hash": "f3fb675e",
    "tags": []
   },
   "outputs": [
    {
     "name": "stdout",
     "output_type": "stream",
     "text": [
      "151699.1009755904\n",
      "374996.3530005043 226111.1722817133\n"
     ]
    }
   ],
   "source": [
    "non_extreme_cars_with_dummies = cars_with_dummies[cars_with_dummies['selling_price'] <1000000]\n",
    "\n",
    "# assign model to a variable \n",
    "model2 = lm.LinearRegression()\n",
    "\n",
    "# fit model based on data\n",
    "\n",
    "#our x, the predictor variables\n",
    "X = non_extreme_cars_with_dummies.drop(columns=['selling_price'])\n",
    "# our y, the price of the cars\n",
    "y = non_extreme_cars_with_dummies['selling_price']\n",
    "model2.fit(X, y)\n",
    "predictions = model2.predict(X)\n",
    "actual = y\n",
    "print(rmse(actual, predictions))\n",
    "print(np.mean(actual), np.std(actual))"
   ]
  },
  {
   "cell_type": "markdown",
   "metadata": {
    "cell_id": "00036-c37bd1b8-b527-4d7b-ac2c-747bdc0c61ee",
    "deepnote_cell_type": "markdown",
    "tags": []
   },
   "source": [
    "Much better!"
   ]
  },
  {
   "cell_type": "markdown",
   "metadata": {
    "cell_id": "00036-a78e3ff6-5fb3-458f-b9c2-5e570e001fd2",
    "deepnote_cell_type": "markdown",
    "output_cleared": false,
    "tags": []
   },
   "source": [
    "## Residual analysis\n",
    "\n",
    "Another way to assess the fit of out model is through the residual of the regression: actual - predicted. \n",
    "If our model fit the data well, then the residual should be very close to the distribution of random noise. \n",
    "Much like most things in the natural world, we ususally assume that random noise follow a normal distribution, this time centered around 0. \n",
    "How did our model do? Does the distribution of the residuals look roughly normal? Let's find out:\n"
   ]
  },
  {
   "cell_type": "code",
   "execution_count": 34,
   "metadata": {
    "cell_id": "00037-17884e7c-89b3-49db-a964-a1861d50c4ed",
    "deepnote_cell_type": "code",
    "execution_millis": 164,
    "execution_start": 1605555873682,
    "output_cleared": false,
    "source_hash": "74e2e6e0",
    "tags": []
   },
   "outputs": [
    {
     "data": {
      "image/png": "[encoded data removed]",
      "text/plain": [
       "<Figure size 432x288 with 1 Axes>"
      ]
     },
     "metadata": {
      "needs_background": "light"
     },
     "output_type": "display_data"
    },
    {
     "name": "stdout",
     "output_type": "stream",
     "text": [
      "8.404916185233788e-09\n"
     ]
    }
   ],
   "source": [
    "residual = actual-predictions\n",
    "plt.hist(residual)\n",
    "plt.xlabel(\"residual($)\")\n",
    "plt.show()\n",
    "print(np.mean(residual))"
   ]
  },
  {
   "cell_type": "markdown",
   "metadata": {
    "cell_id": "00038-70f52b09-e0ec-4b47-a9e2-7ae5d26a6288",
    "deepnote_cell_type": "markdown",
    "output_cleared": false,
    "tags": []
   },
   "source": [
    "Not bad! The histogram is roughly normal and the average of our sample residuals is very close to zero. \n",
    "We can see a slight skew towards the right, which may have been caused by the very expensive cars that are still not filtered out from our data. \n",
    "But otherwise the distribution of residuals is similar to what we would expect: roughly normal. \n",
    "\n",
    "One down side of multivariate regression is that we can't really visually diagnose how well the regression fits the data, since our data will be n-ish-dimensional, depending on how many features there are. \n",
    "This is why looking at and analyzing the distribution of the residuals is so important: it gives us some insight on how the model is actually fitting the data.\n",
    "If we see a residual plot that does not look like a normal distribution at all, then maybe it's time to re-assess our assumptions about our data: \n",
    "Does it actually follow a linear model? \n",
    "Or does it follow some other model that we need to transform the data first before applying linear regression?\n",
    "Is the residual plot not normal due to outliers, or due to a wrong assumption about which underlying model the data follows? \n",
    "\n",
    "We don't want to use a model that does not describe/represent the data well, which is why residual analysis should always be done after fitting a regression model. "
   ]
  },
  {
   "cell_type": "markdown",
   "metadata": {
    "cell_id": "00021-f096d331-e032-4d36-8368-3757027a8e32",
    "deepnote_cell_type": "markdown",
    "output_cleared": false,
    "tags": []
   },
   "source": [
    "### Train-Test Split"
   ]
  },
  {
   "cell_type": "markdown",
   "metadata": {
    "cell_id": "00027-9efc832d-710b-46fb-958c-d42a94eaadd8",
    "deepnote_cell_type": "markdown",
    "output_cleared": false,
    "tags": []
   },
   "source": [
    "Before we start training the model, how do we test that our model will be successful on new data sets, and helps us predict and make decisions? For this reason, it's important to keep a subset of the data to the side. \n",
    "This is the \"test\" data, which will be used to evaluate the accuracy of the model once we have finalized it.\n",
    "The idea behind this is to train the model on the majority of the dataset (the training set), and make adjustments as necessary if we find that the accuracy is not up to par. \n",
    "The testing set will then be used as a FINAL barometer for how well the model performs. \n",
    "\n",
    "If adjustments are made after evaluating on the test set, then it is now part of the training set, and a new set of data must be found for testing.\n",
    "Thus, when we make the initial train-test split, it's important to stick to it-- make as many changes and tweaks as you want based on the training data, but once you test, you are either done with the model, or that data is now part of training."
   ]
  },
  {
   "cell_type": "markdown",
   "metadata": {
    "cell_id": "00020-d6b4a720-7b74-4d28-8cd3-82af69438a26",
    "deepnote_cell_type": "markdown",
    "output_cleared": false,
    "tags": []
   },
   "source": [
    "## Performance Statistics"
   ]
  },
  {
   "cell_type": "markdown",
   "metadata": {
    "cell_id": "00017-db459d2f-c498-4c74-8f57-ed876c3e489f",
    "deepnote_cell_type": "markdown",
    "output_cleared": false
   },
   "source": [
    " When running binary classifications, data scientists need to know and understand how well their models perform. Thankfully, there are numerous statistics to help us \n",
    " understand model performance!\n",
    "\n",
    "We'll use the `cars` dataframe again."
   ]
  },
  {
   "cell_type": "code",
   "execution_count": 35,
   "metadata": {
    "cell_id": "00044-017a3b16-c0bb-4b0d-ae81-06d775f82aa9",
    "deepnote_cell_type": "code",
    "tags": []
   },
   "outputs": [
    {
     "data": {
      "text/html": [
       "<div>\n",
       "<style scoped>\n",
       "    .dataframe tbody tr th:only-of-type {\n",
       "        vertical-align: middle;\n",
       "    }\n",
       "\n",
       "    .dataframe tbody tr th {\n",
       "        vertical-align: top;\n",
       "    }\n",
       "\n",
       "    .dataframe thead th {\n",
       "        text-align: right;\n",
       "    }\n",
       "</style>\n",
       "<table border=\"1\" class=\"dataframe\">\n",
       "  <thead>\n",
       "    <tr style=\"text-align: right;\">\n",
       "      <th></th>\n",
       "      <th>year</th>\n",
       "      <th>selling_price</th>\n",
       "      <th>km_driven</th>\n",
       "      <th>fuel</th>\n",
       "      <th>seller_type</th>\n",
       "      <th>transmission</th>\n",
       "      <th>owner</th>\n",
       "    </tr>\n",
       "  </thead>\n",
       "  <tbody>\n",
       "    <tr>\n",
       "      <th>0</th>\n",
       "      <td>2007</td>\n",
       "      <td>60000</td>\n",
       "      <td>70000</td>\n",
       "      <td>Petrol</td>\n",
       "      <td>Individual</td>\n",
       "      <td>Manual</td>\n",
       "      <td>First Owner</td>\n",
       "    </tr>\n",
       "    <tr>\n",
       "      <th>1</th>\n",
       "      <td>2007</td>\n",
       "      <td>135000</td>\n",
       "      <td>50000</td>\n",
       "      <td>Petrol</td>\n",
       "      <td>Individual</td>\n",
       "      <td>Manual</td>\n",
       "      <td>First Owner</td>\n",
       "    </tr>\n",
       "    <tr>\n",
       "      <th>2</th>\n",
       "      <td>2012</td>\n",
       "      <td>600000</td>\n",
       "      <td>100000</td>\n",
       "      <td>Diesel</td>\n",
       "      <td>Individual</td>\n",
       "      <td>Manual</td>\n",
       "      <td>First Owner</td>\n",
       "    </tr>\n",
       "    <tr>\n",
       "      <th>3</th>\n",
       "      <td>2017</td>\n",
       "      <td>250000</td>\n",
       "      <td>46000</td>\n",
       "      <td>Petrol</td>\n",
       "      <td>Individual</td>\n",
       "      <td>Manual</td>\n",
       "      <td>First Owner</td>\n",
       "    </tr>\n",
       "    <tr>\n",
       "      <th>4</th>\n",
       "      <td>2014</td>\n",
       "      <td>450000</td>\n",
       "      <td>141000</td>\n",
       "      <td>Diesel</td>\n",
       "      <td>Individual</td>\n",
       "      <td>Manual</td>\n",
       "      <td>Second Owner</td>\n",
       "    </tr>\n",
       "    <tr>\n",
       "      <th>...</th>\n",
       "      <td>...</td>\n",
       "      <td>...</td>\n",
       "      <td>...</td>\n",
       "      <td>...</td>\n",
       "      <td>...</td>\n",
       "      <td>...</td>\n",
       "      <td>...</td>\n",
       "    </tr>\n",
       "    <tr>\n",
       "      <th>4335</th>\n",
       "      <td>2014</td>\n",
       "      <td>409999</td>\n",
       "      <td>80000</td>\n",
       "      <td>Diesel</td>\n",
       "      <td>Individual</td>\n",
       "      <td>Manual</td>\n",
       "      <td>Second Owner</td>\n",
       "    </tr>\n",
       "    <tr>\n",
       "      <th>4336</th>\n",
       "      <td>2014</td>\n",
       "      <td>409999</td>\n",
       "      <td>80000</td>\n",
       "      <td>Diesel</td>\n",
       "      <td>Individual</td>\n",
       "      <td>Manual</td>\n",
       "      <td>Second Owner</td>\n",
       "    </tr>\n",
       "    <tr>\n",
       "      <th>4337</th>\n",
       "      <td>2009</td>\n",
       "      <td>110000</td>\n",
       "      <td>83000</td>\n",
       "      <td>Petrol</td>\n",
       "      <td>Individual</td>\n",
       "      <td>Manual</td>\n",
       "      <td>Second Owner</td>\n",
       "    </tr>\n",
       "    <tr>\n",
       "      <th>4338</th>\n",
       "      <td>2016</td>\n",
       "      <td>865000</td>\n",
       "      <td>90000</td>\n",
       "      <td>Diesel</td>\n",
       "      <td>Individual</td>\n",
       "      <td>Manual</td>\n",
       "      <td>First Owner</td>\n",
       "    </tr>\n",
       "    <tr>\n",
       "      <th>4339</th>\n",
       "      <td>2016</td>\n",
       "      <td>225000</td>\n",
       "      <td>40000</td>\n",
       "      <td>Petrol</td>\n",
       "      <td>Individual</td>\n",
       "      <td>Manual</td>\n",
       "      <td>First Owner</td>\n",
       "    </tr>\n",
       "  </tbody>\n",
       "</table>\n",
       "<p>4340 rows × 7 columns</p>\n",
       "</div>"
      ],
      "text/plain": [
       "      year  selling_price  km_driven    fuel seller_type transmission  \\\n",
       "0     2007          60000      70000  Petrol  Individual       Manual   \n",
       "1     2007         135000      50000  Petrol  Individual       Manual   \n",
       "2     2012         600000     100000  Diesel  Individual       Manual   \n",
       "3     2017         250000      46000  Petrol  Individual       Manual   \n",
       "4     2014         450000     141000  Diesel  Individual       Manual   \n",
       "...    ...            ...        ...     ...         ...          ...   \n",
       "4335  2014         409999      80000  Diesel  Individual       Manual   \n",
       "4336  2014         409999      80000  Diesel  Individual       Manual   \n",
       "4337  2009         110000      83000  Petrol  Individual       Manual   \n",
       "4338  2016         865000      90000  Diesel  Individual       Manual   \n",
       "4339  2016         225000      40000  Petrol  Individual       Manual   \n",
       "\n",
       "             owner  \n",
       "0      First Owner  \n",
       "1      First Owner  \n",
       "2      First Owner  \n",
       "3      First Owner  \n",
       "4     Second Owner  \n",
       "...            ...  \n",
       "4335  Second Owner  \n",
       "4336  Second Owner  \n",
       "4337  Second Owner  \n",
       "4338   First Owner  \n",
       "4339   First Owner  \n",
       "\n",
       "[4340 rows x 7 columns]"
      ]
     },
     "execution_count": 35,
     "metadata": {},
     "output_type": "execute_result"
    }
   ],
   "source": [
    "cars"
   ]
  },
  {
   "cell_type": "markdown",
   "metadata": {
    "cell_id": "00023-3c116827-bc61-41fc-8bd2-1b873b0a0b07",
    "deepnote_cell_type": "markdown",
    "output_cleared": false,
    "tags": []
   },
   "source": [
    "The column called `transmission` has information on whether or not the car is manual or automatic. Since there are only two options, we can encode this as a binary variable. We'll define this variable to be 1 if the car is manual and 0 if it is automatic. We'll then try to predict whether or not the car is manual using a technique called logistic regression. You don't have to be familiar with this technique right now, just know that it predicts either a 1 or a 0. These predictions will be saved in the `manual_pred` column."
   ]
  },
  {
   "cell_type": "code",
   "execution_count": 37,
   "metadata": {
    "cell_id": "00024-6417bd1f-acfa-4f07-b90d-5f5a48588e4c",
    "deepnote_cell_type": "code",
    "execution_millis": 52,
    "execution_start": 1604261564815,
    "output_cleared": false,
    "source_hash": "9ac2861b",
    "tags": []
   },
   "outputs": [],
   "source": [
    "cars['manual'] = cars['transmission'] == 'Manual'\n",
    "cars['manual_pred'] = lm.LogisticRegression().fit(cars[['year', 'selling_price', 'km_driven']], cars['manual']).predict(cars[['year', 'selling_price', 'km_driven']])"
   ]
  },
  {
   "cell_type": "markdown",
   "metadata": {
    "cell_id": "00024-17e530e3-a35f-49a0-97d3-8997f51225d6",
    "deepnote_cell_type": "markdown",
    "output_cleared": false,
    "tags": []
   },
   "source": [
    "From here we can start discussing our performance statistics! One of the first performance statistics that we will learn are the number of true positives (TP) \n",
    "and true negatives (TN). This is simply the number of cases that were classified correctly! We can easily show that below by comparing our predictions with our \n",
    "actual values:"
   ]
  },
  {
   "cell_type": "code",
   "execution_count": 40,
   "metadata": {
    "cell_id": "00027-9d32189c-bf27-4921-9477-c5aff77b52ba",
    "deepnote_cell_type": "code",
    "execution_millis": 22,
    "execution_start": 1604261565228,
    "output_cleared": false,
    "source_hash": "74dc5b1d",
    "tags": []
   },
   "outputs": [
    {
     "name": "stdout",
     "output_type": "stream",
     "text": [
      "The number of True Positives is 3855 and the number of True Negatives is 158.\n",
      "Out of the 4340 entries in our dataset, this accounts for 92.46543778801843% of our data.\n"
     ]
    }
   ],
   "source": [
    "cars_positive_df = cars[cars['manual_pred'] == 1]\n",
    "tp = np.count_nonzero(cars_positive_df['manual_pred'] == cars_positive_df['manual'])\n",
    "\n",
    "cars_negative_df = cars[cars['manual_pred'] == 0]\n",
    "tn = np.count_nonzero(cars_negative_df['manual_pred'] == cars_negative_df['manual'])\n",
    "\n",
    "print(f\"The number of True Positives is {tp} and the number of True Negatives is {tn}.\")\n",
    "print(f\"Out of the {cars.shape[0]} entries in our dataset, this accounts for {100 * (tn + tp) / (cars.shape[0])}% of our data.\")"
   ]
  },
  {
   "cell_type": "markdown",
   "metadata": {
    "cell_id": "00027-fa79c169-aa8c-41cc-91aa-f5aa34b42f40",
    "deepnote_cell_type": "markdown",
    "output_cleared": false,
    "tags": []
   },
   "source": [
    "From here, we can expand from just these True Positive and True Negative values to False Negatives and False Negatives. The methodology to extracting \n",
    "False Positives (FP) and False Negatives (FN) is similar to extracting the TP and TN values."
   ]
  },
  {
   "cell_type": "code",
   "execution_count": 41,
   "metadata": {
    "cell_id": "00028-6b27f6e4-e6ba-4b70-afdc-54c627763da9",
    "deepnote_cell_type": "code",
    "execution_millis": 41,
    "execution_start": 1604261565568,
    "output_cleared": false,
    "source_hash": "c06189e5",
    "tags": []
   },
   "outputs": [
    {
     "name": "stdout",
     "output_type": "stream",
     "text": [
      "The number of False Positives is 290 and the number of False Negatives is 37.\n",
      "Out of the 4340 entries in our dataset, this accounts for 7.534562211981567% of our data.\n"
     ]
    }
   ],
   "source": [
    "cars_positive_df = cars[cars['manual_pred'] == 1]\n",
    "fp = np.count_nonzero(cars_positive_df['manual_pred'] != cars_positive_df['manual'])\n",
    "\n",
    "cars_negative_df = cars[cars['manual_pred'] == 0]\n",
    "fn = np.count_nonzero(cars_negative_df['manual_pred'] != cars_negative_df['manual'])\n",
    "\n",
    "print(f\"The number of False Positives is {fp} and the number of False Negatives is {fn}.\")\n",
    "print(f\"Out of the {cars.shape[0]} entries in our dataset, this accounts for {100 * (fn + fp) / (cars.shape[0])}% of our data.\")"
   ]
  },
  {
   "cell_type": "markdown",
   "metadata": {
    "cell_id": "00029-4c17e5ed-9821-4f0c-9f42-4dbb64972f00",
    "deepnote_cell_type": "markdown",
    "output_cleared": false,
    "tags": []
   },
   "source": [
    "From just these counts, we can extract the false negative _rate_ and the false positive _rate_ for our model which are useful to know. By simply dividing the \n",
    "number of false predictions with the total number of predictions, we can extract these rates:"
   ]
  },
  {
   "cell_type": "code",
   "execution_count": 42,
   "metadata": {
    "cell_id": "00030-c800cd01-4f57-46fa-a4ed-9d6a4c928af5",
    "deepnote_cell_type": "code",
    "output_cleared": false,
    "source_hash": "84367cf4",
    "tags": []
   },
   "outputs": [
    {
     "name": "stdout",
     "output_type": "stream",
     "text": [
      "The false positive rate is 6.682027649769585% whereas the false negative rate is 0.8525345622119815%\n"
     ]
    }
   ],
   "source": [
    "fp_rate = fp / cars.shape[0]\n",
    "fn_rate = fn / cars.shape[0]\n",
    "\n",
    "print(f\"The false positive rate is {fp_rate * 100}% whereas the false negative rate is {fn_rate * 100}%\")"
   ]
  },
  {
   "cell_type": "markdown",
   "metadata": {
    "cell_id": "00054-f6b6b9be-f3c5-4369-a35b-0093a4c16512",
    "deepnote_cell_type": "markdown",
    "output_cleared": false,
    "tags": []
   },
   "source": [
    "## Train-Test Split"
   ]
  },
  {
   "cell_type": "markdown",
   "metadata": {
    "cell_id": "00054-ea6b9351-8f47-4c85-9119-98957259148c",
    "deepnote_cell_type": "markdown",
    "output_cleared": false,
    "tags": []
   },
   "source": [
    "So far we've been fitting a model onto a dataset such that the model is the \"best\" linear predictor for the data, meaning that the sum of squared errors between the actual outcome values of each point and the model's predicted values is as small as possible. If we feed in a point in out dataset into the model, we can be confident that the predicted value of that point will be as close to the actual value of the point as possible, under the constraint that the model has to account for every other point in the dataset as well. But what about new observations that don't appear in the dataset? For instance, in the example of predicting a person's earnings based on their education and other variables, we can fit a model to some existing data that we have, but how confident can we be that if we were to predict the earnings of a person which did not appear in our dataset, our prediction would be close?\n",
    "\n",
    "This is an important question to be able to answer, as typically in data science we construct models so that we might be able to make predictions on new observations that we haven't seen before. While at first it might seem like our model should certainly be able to predict new observations just as well as observations in our dataset, this isn't necessarily the case. Many times our models \"overfit\" to the data, meaning they learn the dataset a little too well, such that they actually lose their ability to accurately predict previously-unseen examples. For instance, consider a dataset of people and their education and earnings information, but just by pure chance the average earnings of people with high school degrees is slightly lower in our dataset than in the population. In this case our model will fit slightly lower earnings for people with high school degrees than it should. You can't really blame it, it's just doing its best to learn from the data we've given it. Now, when we get more samples from the population, our model will predict slightly lower earnings for people who only completed high school than it probably should. This is overfitting.\n",
    "\n",
    "Overfitting is a problem because after you train your model, you typically want to have some measure of its accuracy. How would you measure this? Well so far, the only way we would know how to would be to make predictions for each point in our dataset and see on average how close we are to the correct outcome value. But if our model overfits the data, then that means its predictions will be closer to the outcome values in our data than to new observations that it hadn't seen before. The accuracy we calculate from our data will be higher than it really should be! We would be getting an overestimate to how good our model really is.\n",
    "\n",
    "To protect against overfitting, we perform something called a *train-test split*. What this means is that before we do any data science at all, we set aside a small portion of our dataset for *testing*, and the rest we keep for *training*. Training is what we've been doing this whole time so far to our datasets. After we've trained our model, have found a measure if its accuracy, and are satisfied with the outcome, we then turn to *testing*. Using that small portion of the dataset we set aside, we make one more measure of the model's accuracy, but this time only using these set aside points. Since these points were set aside before we did any further work, we know for certain that our model could not have overfit to them in particular. Therefore, when we compute the accuracy of our model on these test points, we can have a much better idea on how our model will perform on new never-before-seen data, because technically these test points *are* new and have never been seen before!\n",
    "\n",
    "Of course, in order for this to work at all you must be careful to never use your test points at any point in your modelling, otherwise they no longer replicate unseen points (your model has seen them). In fact, you shouldn't even really use the test set to make decisions when you have to choose which of two models is the better one. Let's see why: suppose you've trained two models and they both do equally-well on the training set. So now you revert to the test set and find that one of them gets slightly higher accuracy there, so you take that one and discard the other. Now, because you've made a modelling decision based on these test points, it is actually possible that you are overfitting these points! It's possible that by pure chance the model you selected happened to be better-calibrated to predict the specific points in the test set (remember the test set is just a small random sample of points from some overall population) and not necessarily any arbitrary unseen point. Of course it could also be possible that the model you chose was genuinely the better model, and the accuracy from the test set simply reflected this, but there's no way to be completely sure without collecting more data! For this reaosn, we typically only use the test set for reporting the final accuracy of a model before either putting the model to use or publishing the model results (whichever was the purpose of creating the model in the first place) and *not* making decisions on how to further develop the model. This would fall under *training*."
   ]
  },
  {
   "cell_type": "markdown",
   "metadata": {
    "cell_id": "00055-87024248-9856-4a3c-acde-99873ee93287",
    "deepnote_cell_type": "markdown",
    "output_cleared": false,
    "tags": []
   },
   "source": [
    "Let's look at a demonstration. We'll use the cars dataset once again."
   ]
  },
  {
   "cell_type": "code",
   "execution_count": null,
   "metadata": {
    "cell_id": "00055-8951f703-2888-4452-8fee-cbf2a61ee737",
    "deepnote_cell_type": "code",
    "execution_millis": 4,
    "execution_start": 1605556393180,
    "output_cleared": false,
    "source_hash": "5ddf5c57",
    "tags": []
   },
   "outputs": [
    {
     "data": {
      "application/vnd.deepnote.dataframe.v2+json": {
       "column_count": 14,
       "columns": [
        {
         "dtype": "int64",
         "name": "year",
         "stats": {
          "histogram": [
           {
            "bin_end": 2008,
            "bin_start": 2007,
            "count": 2
           },
           {
            "bin_end": 2009,
            "bin_start": 2008,
            "count": 0
           },
           {
            "bin_end": 2010,
            "bin_start": 2009,
            "count": 0
           },
           {
            "bin_end": 2011,
            "bin_start": 2010,
            "count": 0
           },
           {
            "bin_end": 2012,
            "bin_start": 2011,
            "count": 0
           },
           {
            "bin_end": 2013,
            "bin_start": 2012,
            "count": 1
           },
           {
            "bin_end": 2014,
            "bin_start": 2013,
            "count": 0
           },
           {
            "bin_end": 2015,
            "bin_start": 2014,
            "count": 1
           },
           {
            "bin_end": 2016,
            "bin_start": 2015,
            "count": 0
           },
           {
            "bin_end": 2017,
            "bin_start": 2016,
            "count": 1
           }
          ],
          "max": 2017,
          "min": 2007,
          "nan_count": 0,
          "unique_count": 4
         }
        },
        {
         "dtype": "int64",
         "name": "selling_price",
         "stats": {
          "histogram": [
           {
            "bin_end": 114000,
            "bin_start": 60000,
            "count": 1
           },
           {
            "bin_end": 168000,
            "bin_start": 114000,
            "count": 1
           },
           {
            "bin_end": 222000,
            "bin_start": 168000,
            "count": 0
           },
           {
            "bin_end": 276000,
            "bin_start": 222000,
            "count": 1
           },
           {
            "bin_end": 330000,
            "bin_start": 276000,
            "count": 0
           },
           {
            "bin_end": 384000,
            "bin_start": 330000,
            "count": 0
           },
           {
            "bin_end": 438000,
            "bin_start": 384000,
            "count": 0
           },
           {
            "bin_end": 492000,
            "bin_start": 438000,
            "count": 1
           },
           {
            "bin_end": 546000,
            "bin_start": 492000,
            "count": 0
           },
           {
            "bin_end": 600000,
            "bin_start": 546000,
            "count": 1
           }
          ],
          "max": 600000,
          "min": 60000,
          "nan_count": 0,
          "unique_count": 5
         }
        },
        {
         "dtype": "int64",
         "name": "km_driven",
         "stats": {
          "histogram": [
           {
            "bin_end": 55500,
            "bin_start": 46000,
            "count": 2
           },
           {
            "bin_end": 65000,
            "bin_start": 55500,
            "count": 0
           },
           {
            "bin_end": 74500,
            "bin_start": 65000,
            "count": 1
           },
           {
            "bin_end": 84000,
            "bin_start": 74500,
            "count": 0
           },
           {
            "bin_end": 93500,
            "bin_start": 84000,
            "count": 0
           },
           {
            "bin_end": 103000,
            "bin_start": 93500,
            "count": 1
           },
           {
            "bin_end": 112500,
            "bin_start": 103000,
            "count": 0
           },
           {
            "bin_end": 122000,
            "bin_start": 112500,
            "count": 0
           },
           {
            "bin_end": 131500,
            "bin_start": 122000,
            "count": 0
           },
           {
            "bin_end": 141000,
            "bin_start": 131500,
            "count": 1
           }
          ],
          "max": 141000,
          "min": 46000,
          "nan_count": 0,
          "unique_count": 5
         }
        },
        {
         "dtype": "uint8",
         "name": "fuel_Diesel",
         "stats": {
          "histogram": [
           {
            "bin_end": 0.1,
            "bin_start": 0,
            "count": 3
           },
           {
            "bin_end": 0.2,
            "bin_start": 0.1,
            "count": 0
           },
           {
            "bin_end": 0.30000000000000004,
            "bin_start": 0.2,
            "count": 0
           },
           {
            "bin_end": 0.4,
            "bin_start": 0.30000000000000004,
            "count": 0
           },
           {
            "bin_end": 0.5,
            "bin_start": 0.4,
            "count": 0
           },
           {
            "bin_end": 0.6000000000000001,
            "bin_start": 0.5,
            "count": 0
           },
           {
            "bin_end": 0.7000000000000001,
            "bin_start": 0.6000000000000001,
            "count": 0
           },
           {
            "bin_end": 0.8,
            "bin_start": 0.7000000000000001,
            "count": 0
           },
           {
            "bin_end": 0.9,
            "bin_start": 0.8,
            "count": 0
           },
           {
            "bin_end": 1,
            "bin_start": 0.9,
            "count": 2
           }
          ],
          "max": 1,
          "min": 0,
          "nan_count": 0,
          "unique_count": 2
         }
        },
        {
         "dtype": "uint8",
         "name": "fuel_Electric",
         "stats": {
          "histogram": [
           {
            "bin_end": -0.4,
            "bin_start": -0.5,
            "count": 0
           },
           {
            "bin_end": -0.3,
            "bin_start": -0.4,
            "count": 0
           },
           {
            "bin_end": -0.19999999999999996,
            "bin_start": -0.3,
            "count": 0
           },
           {
            "bin_end": -0.09999999999999998,
            "bin_start": -0.19999999999999996,
            "count": 0
           },
           {
            "bin_end": 0,
            "bin_start": -0.09999999999999998,
            "count": 0
           },
           {
            "bin_end": 0.10000000000000009,
            "bin_start": 0,
            "count": 5
           },
           {
            "bin_end": 0.20000000000000007,
            "bin_start": 0.10000000000000009,
            "count": 0
           },
           {
            "bin_end": 0.30000000000000004,
            "bin_start": 0.20000000000000007,
            "count": 0
           },
           {
            "bin_end": 0.4,
            "bin_start": 0.30000000000000004,
            "count": 0
           },
           {
            "bin_end": 0.5,
            "bin_start": 0.4,
            "count": 0
           }
          ],
          "max": 0,
          "min": 0,
          "nan_count": 0,
          "unique_count": 1
         }
        },
        {
         "dtype": "uint8",
         "name": "fuel_LPG",
         "stats": {
          "histogram": [
           {
            "bin_end": -0.4,
            "bin_start": -0.5,
            "count": 0
           },
           {
            "bin_end": -0.3,
            "bin_start": -0.4,
            "count": 0
           },
           {
            "bin_end": -0.19999999999999996,
            "bin_start": -0.3,
            "count": 0
           },
           {
            "bin_end": -0.09999999999999998,
            "bin_start": -0.19999999999999996,
            "count": 0
           },
           {
            "bin_end": 0,
            "bin_start": -0.09999999999999998,
            "count": 0
           },
           {
            "bin_end": 0.10000000000000009,
            "bin_start": 0,
            "count": 5
           },
           {
            "bin_end": 0.20000000000000007,
            "bin_start": 0.10000000000000009,
            "count": 0
           },
           {
            "bin_end": 0.30000000000000004,
            "bin_start": 0.20000000000000007,
            "count": 0
           },
           {
            "bin_end": 0.4,
            "bin_start": 0.30000000000000004,
            "count": 0
           },
           {
            "bin_end": 0.5,
            "bin_start": 0.4,
            "count": 0
           }
          ],
          "max": 0,
          "min": 0,
          "nan_count": 0,
          "unique_count": 1
         }
        },
        {
         "dtype": "uint8",
         "name": "fuel_Petrol",
         "stats": {
          "histogram": [
           {
            "bin_end": 0.1,
            "bin_start": 0,
            "count": 2
           },
           {
            "bin_end": 0.2,
            "bin_start": 0.1,
            "count": 0
           },
           {
            "bin_end": 0.30000000000000004,
            "bin_start": 0.2,
            "count": 0
           },
           {
            "bin_end": 0.4,
            "bin_start": 0.30000000000000004,
            "count": 0
           },
           {
            "bin_end": 0.5,
            "bin_start": 0.4,
            "count": 0
           },
           {
            "bin_end": 0.6000000000000001,
            "bin_start": 0.5,
            "count": 0
           },
           {
            "bin_end": 0.7000000000000001,
            "bin_start": 0.6000000000000001,
            "count": 0
           },
           {
            "bin_end": 0.8,
            "bin_start": 0.7000000000000001,
            "count": 0
           },
           {
            "bin_end": 0.9,
            "bin_start": 0.8,
            "count": 0
           },
           {
            "bin_end": 1,
            "bin_start": 0.9,
            "count": 3
           }
          ],
          "max": 1,
          "min": 0,
          "nan_count": 0,
          "unique_count": 2
         }
        },
        {
         "dtype": "uint8",
         "name": "seller_type_Individual",
         "stats": {
          "histogram": [
           {
            "bin_end": 0.6,
            "bin_start": 0.5,
            "count": 0
           },
           {
            "bin_end": 0.7,
            "bin_start": 0.6,
            "count": 0
           },
           {
            "bin_end": 0.8,
            "bin_start": 0.7,
            "count": 0
           },
           {
            "bin_end": 0.9,
            "bin_start": 0.8,
            "count": 0
           },
           {
            "bin_end": 1,
            "bin_start": 0.9,
            "count": 0
           },
           {
            "bin_end": 1.1,
            "bin_start": 1,
            "count": 5
           },
           {
            "bin_end": 1.2000000000000002,
            "bin_start": 1.1,
            "count": 0
           },
           {
            "bin_end": 1.3,
            "bin_start": 1.2000000000000002,
            "count": 0
           },
           {
            "bin_end": 1.4,
            "bin_start": 1.3,
            "count": 0
           },
           {
            "bin_end": 1.5,
            "bin_start": 1.4,
            "count": 0
           }
          ],
          "max": 1,
          "min": 1,
          "nan_count": 0,
          "unique_count": 1
         }
        },
        {
         "dtype": "uint8",
         "name": "seller_type_Trustmark Dealer",
         "stats": {
          "histogram": [
           {
            "bin_end": -0.4,
            "bin_start": -0.5,
            "count": 0
           },
           {
            "bin_end": -0.3,
            "bin_start": -0.4,
            "count": 0
           },
           {
            "bin_end": -0.19999999999999996,
            "bin_start": -0.3,
            "count": 0
           },
           {
            "bin_end": -0.09999999999999998,
            "bin_start": -0.19999999999999996,
            "count": 0
           },
           {
            "bin_end": 0,
            "bin_start": -0.09999999999999998,
            "count": 0
           },
           {
            "bin_end": 0.10000000000000009,
            "bin_start": 0,
            "count": 5
           },
           {
            "bin_end": 0.20000000000000007,
            "bin_start": 0.10000000000000009,
            "count": 0
           },
           {
            "bin_end": 0.30000000000000004,
            "bin_start": 0.20000000000000007,
            "count": 0
           },
           {
            "bin_end": 0.4,
            "bin_start": 0.30000000000000004,
            "count": 0
           },
           {
            "bin_end": 0.5,
            "bin_start": 0.4,
            "count": 0
           }
          ],
          "max": 0,
          "min": 0,
          "nan_count": 0,
          "unique_count": 1
         }
        },
        {
         "dtype": "uint8",
         "name": "transmission_Manual",
         "stats": {
          "histogram": [
           {
            "bin_end": 0.6,
            "bin_start": 0.5,
            "count": 0
           },
           {
            "bin_end": 0.7,
            "bin_start": 0.6,
            "count": 0
           },
           {
            "bin_end": 0.8,
            "bin_start": 0.7,
            "count": 0
           },
           {
            "bin_end": 0.9,
            "bin_start": 0.8,
            "count": 0
           },
           {
            "bin_end": 1,
            "bin_start": 0.9,
            "count": 0
           },
           {
            "bin_end": 1.1,
            "bin_start": 1,
            "count": 5
           },
           {
            "bin_end": 1.2000000000000002,
            "bin_start": 1.1,
            "count": 0
           },
           {
            "bin_end": 1.3,
            "bin_start": 1.2000000000000002,
            "count": 0
           },
           {
            "bin_end": 1.4,
            "bin_start": 1.3,
            "count": 0
           },
           {
            "bin_end": 1.5,
            "bin_start": 1.4,
            "count": 0
           }
          ],
          "max": 1,
          "min": 1,
          "nan_count": 0,
          "unique_count": 1
         }
        },
        {
         "dtype": "uint8",
         "name": "owner_Fourth & Above Owner",
         "stats": {
          "histogram": [
           {
            "bin_end": -0.4,
            "bin_start": -0.5,
            "count": 0
           },
           {
            "bin_end": -0.3,
            "bin_start": -0.4,
            "count": 0
           },
           {
            "bin_end": -0.19999999999999996,
            "bin_start": -0.3,
            "count": 0
           },
           {
            "bin_end": -0.09999999999999998,
            "bin_start": -0.19999999999999996,
            "count": 0
           },
           {
            "bin_end": 0,
            "bin_start": -0.09999999999999998,
            "count": 0
           },
           {
            "bin_end": 0.10000000000000009,
            "bin_start": 0,
            "count": 5
           },
           {
            "bin_end": 0.20000000000000007,
            "bin_start": 0.10000000000000009,
            "count": 0
           },
           {
            "bin_end": 0.30000000000000004,
            "bin_start": 0.20000000000000007,
            "count": 0
           },
           {
            "bin_end": 0.4,
            "bin_start": 0.30000000000000004,
            "count": 0
           },
           {
            "bin_end": 0.5,
            "bin_start": 0.4,
            "count": 0
           }
          ],
          "max": 0,
          "min": 0,
          "nan_count": 0,
          "unique_count": 1
         }
        },
        {
         "dtype": "uint8",
         "name": "owner_Second Owner",
         "stats": {
          "histogram": [
           {
            "bin_end": 0.1,
            "bin_start": 0,
            "count": 4
           },
           {
            "bin_end": 0.2,
            "bin_start": 0.1,
            "count": 0
           },
           {
            "bin_end": 0.30000000000000004,
            "bin_start": 0.2,
            "count": 0
           },
           {
            "bin_end": 0.4,
            "bin_start": 0.30000000000000004,
            "count": 0
           },
           {
            "bin_end": 0.5,
            "bin_start": 0.4,
            "count": 0
           },
           {
            "bin_end": 0.6000000000000001,
            "bin_start": 0.5,
            "count": 0
           },
           {
            "bin_end": 0.7000000000000001,
            "bin_start": 0.6000000000000001,
            "count": 0
           },
           {
            "bin_end": 0.8,
            "bin_start": 0.7000000000000001,
            "count": 0
           },
           {
            "bin_end": 0.9,
            "bin_start": 0.8,
            "count": 0
           },
           {
            "bin_end": 1,
            "bin_start": 0.9,
            "count": 1
           }
          ],
          "max": 1,
          "min": 0,
          "nan_count": 0,
          "unique_count": 2
         }
        },
        {
         "dtype": "uint8",
         "name": "owner_Test Drive Car",
         "stats": {
          "histogram": [
           {
            "bin_end": -0.4,
            "bin_start": -0.5,
            "count": 0
           },
           {
            "bin_end": -0.3,
            "bin_start": -0.4,
            "count": 0
           },
           {
            "bin_end": -0.19999999999999996,
            "bin_start": -0.3,
            "count": 0
           },
           {
            "bin_end": -0.09999999999999998,
            "bin_start": -0.19999999999999996,
            "count": 0
           },
           {
            "bin_end": 0,
            "bin_start": -0.09999999999999998,
            "count": 0
           },
           {
            "bin_end": 0.10000000000000009,
            "bin_start": 0,
            "count": 5
           },
           {
            "bin_end": 0.20000000000000007,
            "bin_start": 0.10000000000000009,
            "count": 0
           },
           {
            "bin_end": 0.30000000000000004,
            "bin_start": 0.20000000000000007,
            "count": 0
           },
           {
            "bin_end": 0.4,
            "bin_start": 0.30000000000000004,
            "count": 0
           },
           {
            "bin_end": 0.5,
            "bin_start": 0.4,
            "count": 0
           }
          ],
          "max": 0,
          "min": 0,
          "nan_count": 0,
          "unique_count": 1
         }
        },
        {
         "dtype": "uint8",
         "name": "owner_Third Owner",
         "stats": {
          "histogram": [
           {
            "bin_end": -0.4,
            "bin_start": -0.5,
            "count": 0
           },
           {
            "bin_end": -0.3,
            "bin_start": -0.4,
            "count": 0
           },
           {
            "bin_end": -0.19999999999999996,
            "bin_start": -0.3,
            "count": 0
           },
           {
            "bin_end": -0.09999999999999998,
            "bin_start": -0.19999999999999996,
            "count": 0
           },
           {
            "bin_end": 0,
            "bin_start": -0.09999999999999998,
            "count": 0
           },
           {
            "bin_end": 0.10000000000000009,
            "bin_start": 0,
            "count": 5
           },
           {
            "bin_end": 0.20000000000000007,
            "bin_start": 0.10000000000000009,
            "count": 0
           },
           {
            "bin_end": 0.30000000000000004,
            "bin_start": 0.20000000000000007,
            "count": 0
           },
           {
            "bin_end": 0.4,
            "bin_start": 0.30000000000000004,
            "count": 0
           },
           {
            "bin_end": 0.5,
            "bin_start": 0.4,
            "count": 0
           }
          ],
          "max": 0,
          "min": 0,
          "nan_count": 0,
          "unique_count": 1
         }
        },
        {
         "dtype": "int64",
         "name": "_deepnote_index_column"
        }
       ],
       "row_count": 5,
       "rows_bottom": null,
       "rows_top": [
        {
         "_deepnote_index_column": 0,
         "fuel_Diesel": 0,
         "fuel_Electric": 0,
         "fuel_LPG": 0,
         "fuel_Petrol": 1,
         "km_driven": 70000,
         "owner_Fourth & Above Owner": 0,
         "owner_Second Owner": 0,
         "owner_Test Drive Car": 0,
         "owner_Third Owner": 0,
         "seller_type_Individual": 1,
         "seller_type_Trustmark Dealer": 0,
         "selling_price": 60000,
         "transmission_Manual": 1,
         "year": 2007
        },
        {
         "_deepnote_index_column": 1,
         "fuel_Diesel": 0,
         "fuel_Electric": 0,
         "fuel_LPG": 0,
         "fuel_Petrol": 1,
         "km_driven": 50000,
         "owner_Fourth & Above Owner": 0,
         "owner_Second Owner": 0,
         "owner_Test Drive Car": 0,
         "owner_Third Owner": 0,
         "seller_type_Individual": 1,
         "seller_type_Trustmark Dealer": 0,
         "selling_price": 135000,
         "transmission_Manual": 1,
         "year": 2007
        },
        {
         "_deepnote_index_column": 2,
         "fuel_Diesel": 1,
         "fuel_Electric": 0,
         "fuel_LPG": 0,
         "fuel_Petrol": 0,
         "km_driven": 100000,
         "owner_Fourth & Above Owner": 0,
         "owner_Second Owner": 0,
         "owner_Test Drive Car": 0,
         "owner_Third Owner": 0,
         "seller_type_Individual": 1,
         "seller_type_Trustmark Dealer": 0,
         "selling_price": 600000,
         "transmission_Manual": 1,
         "year": 2012
        },
        {
         "_deepnote_index_column": 3,
         "fuel_Diesel": 0,
         "fuel_Electric": 0,
         "fuel_LPG": 0,
         "fuel_Petrol": 1,
         "km_driven": 46000,
         "owner_Fourth & Above Owner": 0,
         "owner_Second Owner": 0,
         "owner_Test Drive Car": 0,
         "owner_Third Owner": 0,
         "seller_type_Individual": 1,
         "seller_type_Trustmark Dealer": 0,
         "selling_price": 250000,
         "transmission_Manual": 1,
         "year": 2017
        },
        {
         "_deepnote_index_column": 4,
         "fuel_Diesel": 1,
         "fuel_Electric": 0,
         "fuel_LPG": 0,
         "fuel_Petrol": 0,
         "km_driven": 141000,
         "owner_Fourth & Above Owner": 0,
         "owner_Second Owner": 1,
         "owner_Test Drive Car": 0,
         "owner_Third Owner": 0,
         "seller_type_Individual": 1,
         "seller_type_Trustmark Dealer": 0,
         "selling_price": 450000,
         "transmission_Manual": 1,
         "year": 2014
        }
       ]
      },
      "text/html": [
       "<div>\n",
       "<style scoped>\n",
       "    .dataframe tbody tr th:only-of-type {\n",
       "        vertical-align: middle;\n",
       "    }\n",
       "\n",
       "    .dataframe tbody tr th {\n",
       "        vertical-align: top;\n",
       "    }\n",
       "\n",
       "    .dataframe thead th {\n",
       "        text-align: right;\n",
       "    }\n",
       "</style>\n",
       "<table border=\"1\" class=\"dataframe\">\n",
       "  <thead>\n",
       "    <tr style=\"text-align: right;\">\n",
       "      <th></th>\n",
       "      <th>year</th>\n",
       "      <th>selling_price</th>\n",
       "      <th>km_driven</th>\n",
       "      <th>fuel_Diesel</th>\n",
       "      <th>fuel_Electric</th>\n",
       "      <th>fuel_LPG</th>\n",
       "      <th>fuel_Petrol</th>\n",
       "      <th>seller_type_Individual</th>\n",
       "      <th>seller_type_Trustmark Dealer</th>\n",
       "      <th>transmission_Manual</th>\n",
       "      <th>owner_Fourth &amp; Above Owner</th>\n",
       "      <th>owner_Second Owner</th>\n",
       "      <th>owner_Test Drive Car</th>\n",
       "      <th>owner_Third Owner</th>\n",
       "    </tr>\n",
       "  </thead>\n",
       "  <tbody>\n",
       "    <tr>\n",
       "      <th>0</th>\n",
       "      <td>2007</td>\n",
       "      <td>60000</td>\n",
       "      <td>70000</td>\n",
       "      <td>0</td>\n",
       "      <td>0</td>\n",
       "      <td>0</td>\n",
       "      <td>1</td>\n",
       "      <td>1</td>\n",
       "      <td>0</td>\n",
       "      <td>1</td>\n",
       "      <td>0</td>\n",
       "      <td>0</td>\n",
       "      <td>0</td>\n",
       "      <td>0</td>\n",
       "    </tr>\n",
       "    <tr>\n",
       "      <th>1</th>\n",
       "      <td>2007</td>\n",
       "      <td>135000</td>\n",
       "      <td>50000</td>\n",
       "      <td>0</td>\n",
       "      <td>0</td>\n",
       "      <td>0</td>\n",
       "      <td>1</td>\n",
       "      <td>1</td>\n",
       "      <td>0</td>\n",
       "      <td>1</td>\n",
       "      <td>0</td>\n",
       "      <td>0</td>\n",
       "      <td>0</td>\n",
       "      <td>0</td>\n",
       "    </tr>\n",
       "    <tr>\n",
       "      <th>2</th>\n",
       "      <td>2012</td>\n",
       "      <td>600000</td>\n",
       "      <td>100000</td>\n",
       "      <td>1</td>\n",
       "      <td>0</td>\n",
       "      <td>0</td>\n",
       "      <td>0</td>\n",
       "      <td>1</td>\n",
       "      <td>0</td>\n",
       "      <td>1</td>\n",
       "      <td>0</td>\n",
       "      <td>0</td>\n",
       "      <td>0</td>\n",
       "      <td>0</td>\n",
       "    </tr>\n",
       "    <tr>\n",
       "      <th>3</th>\n",
       "      <td>2017</td>\n",
       "      <td>250000</td>\n",
       "      <td>46000</td>\n",
       "      <td>0</td>\n",
       "      <td>0</td>\n",
       "      <td>0</td>\n",
       "      <td>1</td>\n",
       "      <td>1</td>\n",
       "      <td>0</td>\n",
       "      <td>1</td>\n",
       "      <td>0</td>\n",
       "      <td>0</td>\n",
       "      <td>0</td>\n",
       "      <td>0</td>\n",
       "    </tr>\n",
       "    <tr>\n",
       "      <th>4</th>\n",
       "      <td>2014</td>\n",
       "      <td>450000</td>\n",
       "      <td>141000</td>\n",
       "      <td>1</td>\n",
       "      <td>0</td>\n",
       "      <td>0</td>\n",
       "      <td>0</td>\n",
       "      <td>1</td>\n",
       "      <td>0</td>\n",
       "      <td>1</td>\n",
       "      <td>0</td>\n",
       "      <td>1</td>\n",
       "      <td>0</td>\n",
       "      <td>0</td>\n",
       "    </tr>\n",
       "  </tbody>\n",
       "</table>\n",
       "</div>"
      ],
      "text/plain": [
       "   year  selling_price  km_driven  fuel_Diesel  fuel_Electric  fuel_LPG  \\\n",
       "0  2007          60000      70000            0              0         0   \n",
       "1  2007         135000      50000            0              0         0   \n",
       "2  2012         600000     100000            1              0         0   \n",
       "3  2017         250000      46000            0              0         0   \n",
       "4  2014         450000     141000            1              0         0   \n",
       "\n",
       "   fuel_Petrol  seller_type_Individual  seller_type_Trustmark Dealer  \\\n",
       "0            1                       1                             0   \n",
       "1            1                       1                             0   \n",
       "2            0                       1                             0   \n",
       "3            1                       1                             0   \n",
       "4            0                       1                             0   \n",
       "\n",
       "   transmission_Manual  owner_Fourth & Above Owner  owner_Second Owner  \\\n",
       "0                    1                           0                   0   \n",
       "1                    1                           0                   0   \n",
       "2                    1                           0                   0   \n",
       "3                    1                           0                   0   \n",
       "4                    1                           0                   1   \n",
       "\n",
       "   owner_Test Drive Car  owner_Third Owner  \n",
       "0                     0                  0  \n",
       "1                     0                  0  \n",
       "2                     0                  0  \n",
       "3                     0                  0  \n",
       "4                     0                  0  "
      ]
     },
     "execution_count": 16,
     "metadata": {},
     "output_type": "execute_result"
    }
   ],
   "source": [
    "cars_with_dummies.head()"
   ]
  },
  {
   "cell_type": "code",
   "execution_count": null,
   "metadata": {
    "cell_id": "00057-826bf1c6-d9e1-4edd-b1de-2149a268d499",
    "deepnote_cell_type": "code",
    "execution_millis": 6,
    "execution_start": 1605557081650,
    "output_cleared": false,
    "source_hash": "27a2cd33",
    "tags": []
   },
   "outputs": [
    {
     "name": "stdout",
     "output_type": "stream",
     "text": [
      "Shape of X_test:  (868, 14)     Shape of y_test:  (868, 1)\n",
      "Shape of X_train: (3472, 14)     Shape of y_train: (3472, 1)\n"
     ]
    }
   ],
   "source": [
    "from sklearn.model_selection import train_test_split\n",
    "\n",
    "# X, the design matrix of features\n",
    "X = cars_with_dummies.drop(columns=[\"selling_price\"])\n",
    "# intercept term\n",
    "X[\"const\"] = 1\n",
    "\n",
    "#y, the true values corresponding to X\n",
    "y = cars_with_dummies[[\"selling_price\"]]\n",
    "\n",
    "# create the TT split with this method from sklearn\n",
    "X_train, X_test, y_train, y_test = train_test_split(X, y, test_size=0.20, random_state=35)\n",
    "\n",
    "print(\"Shape of X_test: \", X_test.shape, \"    Shape of y_test: \", y_test.shape)\n",
    "print(\"Shape of X_train:\", X_train.shape, \"    Shape of y_train:\", y_train.shape)"
   ]
  },
  {
   "cell_type": "code",
   "execution_count": null,
   "metadata": {
    "cell_id": "00059-3f6227f8-088e-4182-bb28-8a5ba2b111ba",
    "deepnote_cell_type": "code",
    "execution_millis": 3,
    "execution_start": 1605557082404,
    "output_cleared": false,
    "source_hash": "232b8c54",
    "tags": []
   },
   "outputs": [],
   "source": [
    "y_train = y_train.reset_index(drop=True)\n",
    "y_test = y_test.reset_index(drop=True)"
   ]
  },
  {
   "cell_type": "code",
   "execution_count": null,
   "metadata": {
    "cell_id": "00057-4d842920-7847-4eca-8668-a3ea8a0d29b7",
    "deepnote_cell_type": "code",
    "execution_millis": 30,
    "execution_start": 1605557084639,
    "output_cleared": false,
    "source_hash": "518a9c04",
    "tags": []
   },
   "outputs": [
    {
     "name": "stdout",
     "output_type": "stream",
     "text": [
      "RMSE of model on training set:  418670.47085559653\n"
     ]
    }
   ],
   "source": [
    "car_train_model = lm.LinearRegression(fit_intercept=True).fit(X_train, y_train)\n",
    "y_train_pred = car_train_model.predict(X_train)\n",
    "\n",
    "print(\"RMSE of model on training set: \", rmse(y_train, y_train_pred))"
   ]
  },
  {
   "cell_type": "code",
   "execution_count": null,
   "metadata": {
    "cell_id": "00058-71d6d0e1-558d-4a2f-b470-13f348630f5e",
    "deepnote_cell_type": "code",
    "execution_millis": 21,
    "execution_start": 1605557086029,
    "output_cleared": false,
    "source_hash": "786ac504",
    "tags": []
   },
   "outputs": [
    {
     "name": "stdout",
     "output_type": "stream",
     "text": [
      "RMSE of model on test set:  452014.4414562764\n"
     ]
    }
   ],
   "source": [
    "y_test_pred = car_train_model.predict(X_test)\n",
    "\n",
    "print(\"RMSE of model on test set: \", rmse(y_test, y_test_pred))"
   ]
  },
  {
   "cell_type": "markdown",
   "metadata": {
    "cell_id": "00063-0e67bca6-9b48-4e8b-a8c2-22ce5f9c920a",
    "deepnote_cell_type": "markdown",
    "tags": []
   },
   "source": [
    "As you can see here, the training RMSE was a good indication of the testing RMSE, but it underpredicted the level of error.\n",
    "This makes sense intuitively, as the model was trained on the training set and as such will predict it with a higher level of accuracy than unseen data. \n",
    "It is possible for test RMSE to be lower than training RMSE, but it is rare. "
   ]
  },
  {
   "cell_type": "code",
   "execution_count": null,
   "metadata": {
    "cell_id": "00060-2cb613a6-b53a-40a3-9029-f392fdb86999",
    "deepnote_cell_type": "code",
    "execution_millis": 52,
    "execution_start": 1605557093216,
    "output_cleared": false,
    "source_hash": "67bef5db",
    "tags": []
   },
   "outputs": [
    {
     "name": "stdout",
     "output_type": "stream",
     "text": [
      "RMSE of model on entire set:  425548.3304986208\n"
     ]
    }
   ],
   "source": [
    "model = lm.LinearRegression(fit_intercept=False).fit(X, y)\n",
    "y_pred = car_train_model.predict(X)\n",
    "\n",
    "print(\"RMSE of model on entire set: \", rmse(y, y_pred))"
   ]
  },
  {
   "cell_type": "markdown",
   "metadata": {
    "cell_id": "00065-8a8affef-4356-4c28-b536-0837a3c78f45",
    "deepnote_cell_type": "markdown",
    "tags": []
   },
   "source": [
    "Now, we can see the RMSE on the entirety of the dataset. \n",
    "Once again, the training data does a pretty good job at estimating the error for the whole set (it does comprise 80% of it), but will underpredict as explained above. "
   ]
  },
  {
   "cell_type": "code",
   "execution_count": null,
   "metadata": {
    "cell_id": "00059-94ee64ba-e47f-44aa-83a7-3e8e2fa04f0e",
    "deepnote_cell_type": "code",
    "execution_millis": 6,
    "execution_start": 1603044732219,
    "output_cleared": false,
    "source_hash": "935a695c",
    "tags": []
   },
   "outputs": [
    {
     "data": {
      "text/plain": [
       "array([[ 3.67976997e+04, -8.41269335e-01,  2.85683308e+05,\n",
       "        -1.86264515e-08,  5.48927654e+04,  2.55343934e+03,\n",
       "        -8.19666089e+04,  1.05281843e+05, -9.06183099e+05,\n",
       "        -1.33715191e+04, -4.48061063e+04,  1.30260555e+05,\n",
       "        -3.61615720e+04, -7.27724306e+07]])"
      ]
     },
     "execution_count": 20,
     "metadata": {},
     "output_type": "execute_result"
    }
   ],
   "source": [
    "cps_model.coef_"
   ]
  }
 ],
 "metadata": {
  "celltoolbar": "Tags",
  "deepnote_execution_queue": [],
  "deepnote_notebook_id": "aa045216-8971-4d0a-9593-ee136badd07f",
  "history": [
   {
    "code": "import numpy as np\nimport pandas as pd\nimport matplotlib.pyplot as plt\nfrom sklearn import linear_model as lm\nfrom sklearn.metrics import mean_squared_error\nfrom scipy.optimize import minimize\nimport warnings\nwarnings.simplefilter(\"ignore\")\nfrom mpl_toolkits.mplot3d import Axes3D\nfrom matplotlib import patches\n%matplotlib inline\nfrom ipywidgets import interact, interactive, fixed\nimport ipywidgets as widgets\n\nnlsy = pd.read_csv('nlsy_cleaned_small.csv')\nnlsy['college'] = nlsy['college'].astype(float)\nnlsy['AFQT'] = nlsy[\"AFQT\"].astype(float)",
    "id": "d69d2cbf0b1147f8b110c94a63381997",
    "idx": 1,
    "time": "2021-01-29T01:19:06.093Z",
    "type": "execution"
   },
   {
    "id": "d69d2cbf0b1147f8b110c94a63381997",
    "time": "2021-01-29T01:19:06.176Z",
    "type": "completion"
   },
   {
    "code": "def rmse(target, pred):\n    return np.sqrt(mean_squared_error(target, pred)) \n\ndef to_minimize(params):\n    intercept, beta_1, beta_2 = params\n    predictions = intercept + beta_1 * nlsy['college'] + beta_2 * nlsy['AFQT']\n    actual = nlsy['log_earn_1999']\n    return rmse(predictions, actual)\n\nminimize(to_minimize, [0, 0, 0]).x",
    "id": "63e45af5a8074cf3b081f4e1884b57d5",
    "idx": 5,
    "time": "2021-01-29T01:19:08.263Z",
    "type": "execution"
   },
   {
    "id": "63e45af5a8074cf3b081f4e1884b57d5",
    "time": "2021-01-29T01:19:08.427Z",
    "type": "completion"
   },
   {
    "code": "y = nlsy['log_earn_1999']\nX = nlsy[['college', 'AFQT']]\n\nmodel1 = lm.LinearRegression().fit(X, y)\nprint([model1.intercept_, model1.coef_[0], model1.coef_[1]])",
    "id": "339b246f264c4354818f4845bf0bffe0",
    "idx": 7,
    "time": "2021-01-29T01:19:08.873Z",
    "type": "execution"
   },
   {
    "id": "339b246f264c4354818f4845bf0bffe0",
    "time": "2021-01-29T01:19:08.935Z",
    "type": "completion"
   },
   {
    "code": "ax = plt.figure(figsize=(8,8)).add_subplot(111, projection='3d')\nax.scatter(nlsy[\"AFQT\"], \n           nlsy[\"college\"], \n           nlsy['log_earn_1999'])\nplt.xlabel(\"AFQT\")\nplt.ylabel(\"college\")\nax.set_zlabel(\"log_earn_1999\")\nplt.title(\"Data Points\", pad=30, size=15);",
    "id": "39856b509f2042ebaac913dcc1369507",
    "idx": 12,
    "time": "2021-01-29T01:19:10.093Z",
    "type": "execution"
   },
   {
    "code": "X,Y = np.meshgrid(np.arange(0,100,1), np.arange(0,1,0.01))\nZ = 0.0084 * X + 0.4301 * Y + 9.9563\nax = plt.figure(figsize=(8,8)).add_subplot(111, projection='3d')\nax.scatter(nlsy[\"AFQT\"], \n           nlsy[\"college\"], \n           nlsy['log_earn_1999'])\nax.plot_surface(X, Y, Z, alpha=0.5)\nplt.xlabel(\"AFQT\")\nplt.ylabel(\"college\")\nax.set_zlabel(\"log_earn_1999\")\nplt.title(\"Data Points + Regression Plane\", pad=30, size=15);",
    "id": "016f23288cae410683c35383aa3ea1de",
    "idx": 13,
    "time": "2021-01-29T01:19:10.317Z",
    "type": "execution"
   },
   {
    "code": "X,Y = np.meshgrid(np.arange(0,1,0.01), np.arange(0,100,1))\nZ = 0.4301 * X + 0.0084 * Y + 9.9563\nax = plt.figure(figsize=(8,8)).add_subplot(111, projection='3d')\nax.scatter(nlsy[\"college\"], \n           nlsy[\"AFQT\"], \n           nlsy['log_earn_1999'])\nax.plot_surface(X, Y, Z, alpha=0.1)\nplt.ylabel(\"AFQT\")\nplt.xlabel(\"college\")\nax.set_zlabel(\"log_earn_1999\")\nplt.title(\"Data Points + Regression Plane\", pad=30, size=15);",
    "id": "28497fd6d9494b219ca5cfdea5d8ebc0",
    "idx": 15,
    "time": "2021-01-29T01:19:10.713Z",
    "type": "execution"
   },
   {
    "id": "39856b509f2042ebaac913dcc1369507",
    "time": "2021-01-29T01:19:10.795Z",
    "type": "completion"
   },
   {
    "id": "016f23288cae410683c35383aa3ea1de",
    "time": "2021-01-29T01:19:11.418Z",
    "type": "completion"
   },
   {
    "id": "28497fd6d9494b219ca5cfdea5d8ebc0",
    "time": "2021-01-29T01:19:12.192Z",
    "type": "completion"
   },
   {
    "code": "cars = pd.read_csv('car_data.csv')\ncars.head()",
    "id": "35c0a5c61bcf49ef85453c2452eb4882",
    "idx": 22,
    "time": "2021-01-29T01:19:12.534Z",
    "type": "execution"
   },
   {
    "id": "35c0a5c61bcf49ef85453c2452eb4882",
    "time": "2021-01-29T01:19:12.614Z",
    "type": "completion"
   },
   {
    "code": "cars = cars.drop(columns=['name'])\ncars_with_dummies = pd.get_dummies(cars, drop_first=True)\ncars_with_dummies",
    "id": "7daa7238db7d44fc817f76b607a73c9a",
    "idx": 26,
    "time": "2021-01-29T01:19:13.905Z",
    "type": "execution"
   },
   {
    "id": "7daa7238db7d44fc817f76b607a73c9a",
    "time": "2021-01-29T01:19:13.999Z",
    "type": "completion"
   },
   {
    "code": "from sklearn import linear_model as lm\n\n# assign model to a variable \nmodel1 = lm.LinearRegression()\n\n#our x, the predictor variables\nX = cars_with_dummies.drop(columns=['selling_price'])\n# our y, the price of the cars\ny = cars_with_dummies['selling_price']\n# fit model based on data\nmodel1.fit(X, y)\n\n",
    "id": "982072af35ac4a179b1cc8ad3f95da18",
    "idx": 29,
    "time": "2021-01-29T01:19:14.925Z",
    "type": "execution"
   },
   {
    "id": "982072af35ac4a179b1cc8ad3f95da18",
    "time": "2021-01-29T01:19:14.993Z",
    "type": "completion"
   },
   {
    "code": "predictions = model1.predict(X)\nactual = y\nprint(rmse(actual, predictions))\nprint(np.mean(actual), np.std(actual))",
    "id": "0d18faa054224fc49a2b45c9ca821f10",
    "idx": 31,
    "time": "2021-01-29T01:19:15.609Z",
    "type": "execution"
   },
   {
    "id": "0d18faa054224fc49a2b45c9ca821f10",
    "time": "2021-01-29T01:19:15.680Z",
    "type": "completion"
   },
   {
    "code": "plt.hist(y)\nplt.xlabel(\"price\")\nplt.show()",
    "id": "11d3f2a50d734d9a9e6a93b3246e9d6c",
    "idx": 33,
    "time": "2021-01-29T01:19:16.280Z",
    "type": "execution"
   },
   {
    "id": "11d3f2a50d734d9a9e6a93b3246e9d6c",
    "time": "2021-01-29T01:19:16.488Z",
    "type": "completion"
   },
   {
    "code": "non_extreme_cars_with_dummies = cars_with_dummies[cars_with_dummies['selling_price'] <1000000]\n\n# assign model to a variable \nmodel2 = lm.LinearRegression()\n\n# fit model based on data\n\n#our x, the predictor variables\nX = non_extreme_cars_with_dummies.drop(columns=['selling_price'])\n# our y, the price of the cars\ny = non_extreme_cars_with_dummies['selling_price']\nmodel2.fit(X, y)\npredictions = model2.predict(X)\nactual = y\nprint(rmse(actual, predictions))\nprint(np.mean(actual), np.std(actual))",
    "id": "2387ec4d770d4a2483b3fac6b3d74b4f",
    "idx": 35,
    "time": "2021-01-29T01:19:16.971Z",
    "type": "execution"
   },
   {
    "id": "2387ec4d770d4a2483b3fac6b3d74b4f",
    "time": "2021-01-29T01:19:17.060Z",
    "type": "completion"
   },
   {
    "code": "residual = actual-predictions\nplt.hist(residual)\nplt.xlabel(\"residual($)\")\nplt.show()\nprint(np.mean(residual))",
    "id": "bce4facd5f9e40db850ae27fcc4b351b",
    "idx": 38,
    "time": "2021-01-29T01:19:18.056Z",
    "type": "execution"
   },
   {
    "id": "bce4facd5f9e40db850ae27fcc4b351b",
    "time": "2021-01-29T01:19:18.270Z",
    "type": "completion"
   },
   {
    "code": "cars",
    "id": "0a83bb62d2af4802802b31e44ca8f0e9",
    "idx": 44,
    "time": "2021-01-29T01:19:28.353Z",
    "type": "execution"
   },
   {
    "id": "0a83bb62d2af4802802b31e44ca8f0e9",
    "time": "2021-01-29T01:19:28.434Z",
    "type": "completion"
   },
   {
    "code": "cars['manual'] = cars['transmission'] == 1\ncars['manual_pred'] = lm.LogisticRegression().fit(cars[['year', 'selling_price', 'km_driven']], cars['manual']).predict(cars[['year', 'selling_price', 'km_driven']])",
    "id": "6e636440cd5942c387c5a5831c5d8ee1",
    "idx": 46,
    "time": "2021-01-29T01:25:57.799Z",
    "type": "execution"
   },
   {
    "id": "6e636440cd5942c387c5a5831c5d8ee1",
    "time": "2021-01-29T01:25:57.876Z",
    "type": "completion"
   },
   {
    "code": "cars['manual'] = cars['transmission'] == 'Manual'\ncars['manual_pred'] = lm.LogisticRegression().fit(cars[['year', 'selling_price', 'km_driven']], cars['manual']).predict(cars[['year', 'selling_price', 'km_driven']])",
    "id": "6e636440cd5942c387c5a5831c5d8ee1",
    "idx": 46,
    "time": "2021-01-29T01:26:10.202Z",
    "type": "execution"
   },
   {
    "id": "6e636440cd5942c387c5a5831c5d8ee1",
    "time": "2021-01-29T01:26:10.350Z",
    "type": "completion"
   },
   {
    "code": "cars_positive_df = cars[cars['manual_pred'] == 1]\ntp = np.count_nonzero(cars['manual_pred'] == cars['manual'])\n\ncars_negative_df = cars[cars['manual_pred'] == 0]\ntn = np.count_nonzero(cars['manual_pred'] == cars['manual'])\n\nprint(f\"The number of True Positives is {tp} and the number of True Negatives is {tn}.\")\nprint(f\"Out of the {cars.shape[0]} entries in our dataset, this accounts for {100 * (tn + tp) / (dataset_total_num)}% of our data.\")",
    "id": "4c8f25d076c440e98a48339c02720583",
    "idx": 48,
    "time": "2021-01-29T01:34:18.973Z",
    "type": "execution"
   },
   {
    "id": "4c8f25d076c440e98a48339c02720583",
    "time": "2021-01-29T01:34:19.045Z",
    "type": "completion"
   },
   {
    "code": "cars_positive_df = cars[cars['manual_pred'] == 1]\ntp = np.count_nonzero(cars['manual_pred'] == cars['manual'])\n\ncars_negative_df = cars[cars['manual_pred'] == 0]\ntn = np.count_nonzero(cars['manual_pred'] == cars['manual'])\n\nprint(f\"The number of True Positives is {tp} and the number of True Negatives is {tn}.\")\nprint(f\"Out of the {cars.shape[0]} entries in our dataset, this accounts for {100 * (tn + tp) / (cars.shape[0])}% of our data.\")",
    "id": "4c8f25d076c440e98a48339c02720583",
    "idx": 48,
    "time": "2021-01-29T01:34:31.520Z",
    "type": "execution"
   },
   {
    "id": "4c8f25d076c440e98a48339c02720583",
    "time": "2021-01-29T01:34:31.587Z",
    "type": "completion"
   },
   {
    "code": "cars_positive_df = cars[cars['manual_pred'] == 1]\ntp = np.count_nonzero(cars_positive_df['manual_pred'] == cars_positive_df['manual'])\n\ncars_negative_df = cars[cars['manual_pred'] == 0]\ntn = np.count_nonzero(cars_negative_df['manual_pred'] == cars_negative_df['manual'])\n\nprint(f\"The number of True Positives is {tp} and the number of True Negatives is {tn}.\")\nprint(f\"Out of the {cars.shape[0]} entries in our dataset, this accounts for {100 * (tn + tp) / (cars.shape[0])}% of our data.\")",
    "id": "4c8f25d076c440e98a48339c02720583",
    "idx": 48,
    "time": "2021-01-29T01:35:32.704Z",
    "type": "execution"
   },
   {
    "id": "4c8f25d076c440e98a48339c02720583",
    "time": "2021-01-29T01:35:32.777Z",
    "type": "completion"
   },
   {
    "code": "cars_positive_df = cars[cars['manual_pred'] == 1]\nfp = np.count_nonzero(cars_positive_df['manual_pred'] != cars_positive_df['manual'])\n\ncars_negative_df = cars[cars['manual_pred'] == 0]\nfn = np.count_nonzero(cars_negative_df['manual_pred'] != cars_negative_df['manual'])\n\nprint(f\"The number of False Positives is {fp} and the number of False Negatives is {fn}.\")\nprint(f\"Out of the {cars.shape[0]} entries in our dataset, this accounts for {100 * (fn + fp) / (cars.shape[0])}% of our data.\")",
    "id": "587794fdc6e24399ba023923632dfa9e",
    "idx": 50,
    "time": "2021-01-29T01:37:13.322Z",
    "type": "execution"
   },
   {
    "id": "587794fdc6e24399ba023923632dfa9e",
    "time": "2021-01-29T01:37:13.389Z",
    "type": "completion"
   },
   {
    "code": "fp_rate = fp / cars.shape[0]\nfn_rate = fn / cars.shape[0]\n\nprint(f\"The false positive rate is {fp_rate * 100}% whereas the false negative rate is {fn_rate * 100}%\")",
    "id": "09f8102118d04703bddcddb7264caedc",
    "idx": 52,
    "time": "2021-01-29T01:37:58.522Z",
    "type": "execution"
   },
   {
    "id": "09f8102118d04703bddcddb7264caedc",
    "time": "2021-01-29T01:37:58.583Z",
    "type": "completion"
   }
  ],
  "kernelspec": {
   "display_name": "Python 3",
   "language": "python",
   "name": "python3"
  },
  "language_info": {
   "codemirror_mode": {
    "name": "ipython",
    "version": 3
   },
   "file_extension": ".py",
   "mimetype": "text/x-python",
   "name": "python",
   "nbconvert_exporter": "python",
   "pygments_lexer": "ipython3",
   "version": "3.8.6"
  }
 },
 "nbformat": 4,
 "nbformat_minor": 4
}
