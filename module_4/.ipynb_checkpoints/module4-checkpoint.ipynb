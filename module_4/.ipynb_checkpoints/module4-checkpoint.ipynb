{
 "cells": [
  {
   "cell_type": "markdown",
   "metadata": {
    "cell_id": "61320765-1895-4482-b550-dea3b2a3416a",
    "deepnote_cell_type": "markdown",
    "tags": []
   },
   "source": [
    "# Module 4: Exploratory Data Analysis\n",
    "\n"
   ]
  },
  {
   "cell_type": "code",
   "execution_count": null,
   "metadata": {
    "cell_id": "18f7ff50-406d-485d-94ba-f91dfd38a740",
    "deepnote_cell_type": "code",
    "output_cleared": false,
    "tags": []
   },
   "outputs": [],
   "source": [
    "import pandas as pd\n",
    "import numpy as np\n",
    "\n",
    "## intergrating data science life cycle concepts in EDA, link data 8 skills to EDA. "
   ]
  },
  {
   "cell_type": "markdown",
   "metadata": {
    "cell_id": "7b716317-9419-43b9-86b6-1c85ead1df92",
    "deepnote_cell_type": "markdown",
    "tags": []
   },
   "source": [
    "## Finding Data"
   ]
  },
  {
   "cell_type": "markdown",
   "metadata": {
    "cell_id": "0c3fa5cd-a483-4491-8451-8369a37bf2ca",
    "deepnote_cell_type": "markdown",
    "tags": []
   },
   "source": [
    "Being a data scientists means that we're going to be dealing with a lot of data, but how exactly do we _get_ \n",
    "this data? Sometimes you would collect this data yourself through observation or perhaps the data is given\n",
    "to you like in Data 8, but what if you're starting a new project and you have no data to begin with? In that\n",
    "case, you would have to find this data yourself. Where would you even begin to start with the task of finding\n",
    "data?! Thankfully, it's a lot easier now than you think!\n",
    "\n",
    "One of the first resources that we recommend diving into is [Kaggle](https://www.kaggle.com/datasets) which is\n",
    "a large central repository of datasets. You can find topics such as [COVID-19](https://www.kaggle.com/allen-institute-for-ai/CORD-19-research-challenge)\n",
    "and the [MNIST](https://www.kaggle.com/c/digit-recognizer) dataset for more traditional sort of projects or\n",
    "even fun topics like [Pokemon statistics](https://www.kaggle.com/abcsds/pokemon) and [Titanic](https://www.kaggle.com/c/titanic)\n",
    "dataset.\n",
    "\n",
    "Another way to search for datasets is to just [Google](https://www.google.com/) for datasets that you want!\n",
    "Google even has a [dataset search](https://datasetsearch.research.google.com/) feature built by Google's\n",
    "research department that can help narrow down results to actual datasets rather than the full collection of\n",
    "human knowledge that Google provides.\n",
    "\n",
    "Finally, there are domain specfic dataset sources that you can use. For example, for genome data, one can use\n",
    "[NCBI](https://www.ncbi.nlm.nih.gov/genome/) to source everything. There's also Reddit's [r/datasets](https://www.reddit.com/r/datasets/)\n",
    "to further source information and to try and find domain specific knowledge."
   ]
  },
  {
   "cell_type": "markdown",
   "metadata": {
    "cell_id": "2ca03d0a-0751-41b3-80bc-8700185b37db",
    "deepnote_cell_type": "markdown",
    "tags": []
   },
   "source": [
    "### Reading in data files with pandas\n",
    "\n",
    "include link"
   ]
  },
  {
   "cell_type": "markdown",
   "metadata": {
    "cell_id": "9bb10b94-e744-45ee-99cf-895f1df812f4",
    "deepnote_cell_type": "markdown",
    "tags": []
   },
   "source": [
    "The data that you find online can come in several different forms, the most common of which being csv. \n",
    "csv files are just comma separated data files, and in pandas, there's a specific function for reading in csv files:\n",
    "\n",
    "`df = pd.read_csv(file_path)`\n",
    "\n",
    "Similar to csv files are tsv files. tsv files are the same structure as csv files, but the data is separated by tabs. \n",
    "To read in tsv files in pandas, we again use the `read_csv` function:\n",
    "\n",
    "`pd.read_csv(file_path, sep='\\t')`\n",
    "\n",
    "The sep = '\\t' just signifies that the file is seperated by tabs instead of the default \",\".\n",
    "\n",
    "Some other file types you might run into in your search for data are xlsx files, json files, and html files. \n",
    "Luckily in pandas, there's a specific function to read each of these files into a Data Frame. \n",
    "\n",
    "For xlsx files, use:\n",
    "`df = pd.read_excel(file_path)`\n",
    "\n",
    "For json files, use:\n",
    "`df = pd.read_json(file_path)`\n",
    "\n",
    "For html files, use:\n",
    "`df = pd.read_html(file_path)`"
   ]
  },
  {
   "cell_type": "markdown",
   "metadata": {
    "cell_id": "5fa1dd4d-ee27-4755-aecf-4876a62071a0",
    "deepnote_cell_type": "markdown",
    "tags": []
   },
   "source": [
    "## Exploratory Data Analysis (EDA)"
   ]
  },
  {
   "cell_type": "markdown",
   "metadata": {
    "cell_id": "4c54beb8-621d-4d0c-86c8-3204c3643145",
    "deepnote_cell_type": "markdown",
    "tags": []
   },
   "source": [
    "The first step of EDA is determining the \"shape\" of our data. \n",
    "In general, rectangular structures tend to be easier to manipulate and analyze, and data cleaning often involves getting our data into a rectangular shape."
   ]
  },
  {
   "cell_type": "markdown",
   "metadata": {
    "cell_id": "592d034b-d49c-4137-84cf-e4c75fdef4ac",
    "deepnote_cell_type": "markdown",
    "tags": []
   },
   "source": [
    "\n",
    "\n",
    "In this section, we will be working with the [2016 Global Ecological Footprint](https://www.kaggle.com/footprintnetwork/ecological-footprint) dataset from Kaggle. \n",
    "The following description can be found from the website:\n",
    "\n",
    "*The ecological footprint measures the ecological assets that a given population requires to produce the natural resources it consumes (including plant-based food and fiber products, livestock and fish products, timber and other forest products, space for urban infrastructure) and to absorb its waste, especially carbon emissions. The footprint tracks the use of six categories of productive surface areas: cropland, grazing land, fishing grounds, built-up (or urban) land, forest area, and carbon demand on land.*\n",
    "\n",
    "*A nation’s biocapacity represents the productivity of its ecological assets, including cropland, grazing land, forest land, fishing grounds, and built-up land. These areas, especially if left unharvested, can also absorb much of the waste we generate, especially our carbon emissions.*\n",
    "\n",
    "*Both the ecological footprint and biocapacity are expressed in global hectares — globally comparable, standardized hectares with world average productivity.*\n",
    "\n",
    "*If a population’s ecological footprint exceeds the region’s biocapacity, that region runs an ecological deficit. Its demand for the goods and services that its land and seas can provide — fruits and vegetables, meat, fish, wood, cotton for clothing, and carbon dioxide absorption — exceeds what the region’s ecosystems can renew. A region in ecological deficit meets demand by importing, liquidating its own ecological assets (such as overfishing), and/or emitting carbon dioxide into the atmosphere. If a region’s biocapacity exceeds its ecological footprint, it has an ecological reserve.*"
   ]
  },
  {
   "cell_type": "code",
   "execution_count": null,
   "metadata": {
    "cell_id": "dfe85617-ab96-4f50-96e8-5f0edf3974d4",
    "deepnote_cell_type": "code",
    "output_cleared": false,
    "tags": []
   },
   "outputs": [
    {
     "data": {
      "application/vnd.deepnote.dataframe.v2+json": {
       "column_count": 21,
       "columns": [
        {
         "dtype": "object",
         "name": "Country",
         "stats": {
          "categories": [
           {
            "count": 1,
            "name": "Afghanistan"
           },
           {
            "count": 1,
            "name": "Albania"
           },
           {
            "count": 186,
            "name": "186 others"
           }
          ],
          "nan_count": 0,
          "unique_count": 188
         }
        },
        {
         "dtype": "object",
         "name": "Region",
         "stats": {
          "categories": [
           {
            "count": 52,
            "name": "Africa"
           },
           {
            "count": 39,
            "name": "Latin America"
           },
           {
            "count": 97,
            "name": "5 others"
           }
          ],
          "nan_count": 0,
          "unique_count": 7
         }
        },
        {
         "dtype": "float64",
         "name": "Population (millions)",
         "stats": {
          "histogram": [
           {
            "bin_end": 140.804,
            "bin_start": 0,
            "count": 179
           },
           {
            "bin_end": 281.608,
            "bin_start": 140.804,
            "count": 6
           },
           {
            "bin_end": 422.41200000000003,
            "bin_start": 281.608,
            "count": 1
           },
           {
            "bin_end": 563.216,
            "bin_start": 422.41200000000003,
            "count": 0
           },
           {
            "bin_end": 704.02,
            "bin_start": 563.216,
            "count": 0
           },
           {
            "bin_end": 844.8240000000001,
            "bin_start": 704.02,
            "count": 0
           },
           {
            "bin_end": 985.628,
            "bin_start": 844.8240000000001,
            "count": 0
           },
           {
            "bin_end": 1126.432,
            "bin_start": 985.628,
            "count": 0
           },
           {
            "bin_end": 1267.236,
            "bin_start": 1126.432,
            "count": 1
           },
           {
            "bin_end": 1408.04,
            "bin_start": 1267.236,
            "count": 1
           }
          ],
          "max": 1408.04,
          "min": 0,
          "nan_count": 0,
          "unique_count": 179
         }
        },
        {
         "dtype": "float64",
         "name": "HDI",
         "stats": {
          "histogram": [
           {
            "bin_end": 0.4,
            "bin_start": 0.34,
            "count": 6
           },
           {
            "bin_end": 0.45999999999999996,
            "bin_start": 0.4,
            "count": 10
           },
           {
            "bin_end": 0.52,
            "bin_start": 0.45999999999999996,
            "count": 19
           },
           {
            "bin_end": 0.58,
            "bin_start": 0.52,
            "count": 12
           },
           {
            "bin_end": 0.6399999999999999,
            "bin_start": 0.58,
            "count": 13
           },
           {
            "bin_end": 0.7,
            "bin_start": 0.6399999999999999,
            "count": 16
           },
           {
            "bin_end": 0.7599999999999999,
            "bin_start": 0.7,
            "count": 31
           },
           {
            "bin_end": 0.8199999999999998,
            "bin_start": 0.7599999999999999,
            "count": 23
           },
           {
            "bin_end": 0.8799999999999999,
            "bin_start": 0.8199999999999998,
            "count": 20
           },
           {
            "bin_end": 0.94,
            "bin_start": 0.8799999999999999,
            "count": 22
           }
          ],
          "max": 0.94,
          "min": 0.34,
          "nan_count": 16,
          "unique_count": 58
         }
        },
        {
         "dtype": "object",
         "name": "GDP per Capita",
         "stats": {
          "categories": [
           {
            "count": 1,
            "name": "$614.66"
           },
           {
            "count": 172,
            "name": "172 others"
           },
           {
            "count": 15,
            "name": "Missing"
           }
          ],
          "nan_count": 15,
          "unique_count": 173
         }
        },
        {
         "dtype": "float64",
         "name": "Cropland Footprint",
         "stats": {
          "histogram": [
           {
            "bin_end": 0.331,
            "bin_start": 0.07,
            "count": 37
           },
           {
            "bin_end": 0.5920000000000001,
            "bin_start": 0.331,
            "count": 69
           },
           {
            "bin_end": 0.853,
            "bin_start": 0.5920000000000001,
            "count": 45
           },
           {
            "bin_end": 1.114,
            "bin_start": 0.853,
            "count": 11
           },
           {
            "bin_end": 1.3750000000000002,
            "bin_start": 1.114,
            "count": 6
           },
           {
            "bin_end": 1.6360000000000001,
            "bin_start": 1.3750000000000002,
            "count": 2
           },
           {
            "bin_end": 1.897,
            "bin_start": 1.6360000000000001,
            "count": 1
           },
           {
            "bin_end": 2.158,
            "bin_start": 1.897,
            "count": 0
           },
           {
            "bin_end": 2.419,
            "bin_start": 2.158,
            "count": 1
           },
           {
            "bin_end": 2.68,
            "bin_start": 2.419,
            "count": 1
           }
          ],
          "max": 2.68,
          "min": 0.07,
          "nan_count": 15,
          "unique_count": 87
         }
        },
        {
         "dtype": "float64",
         "name": "Grazing Footprint",
         "stats": {
          "histogram": [
           {
            "bin_end": 0.34700000000000003,
            "bin_start": 0,
            "count": 138
           },
           {
            "bin_end": 0.6940000000000001,
            "bin_start": 0.34700000000000003,
            "count": 23
           },
           {
            "bin_end": 1.0410000000000001,
            "bin_start": 0.6940000000000001,
            "count": 7
           },
           {
            "bin_end": 1.3880000000000001,
            "bin_start": 1.0410000000000001,
            "count": 3
           },
           {
            "bin_end": 1.735,
            "bin_start": 1.3880000000000001,
            "count": 1
           },
           {
            "bin_end": 2.0820000000000003,
            "bin_start": 1.735,
            "count": 0
           },
           {
            "bin_end": 2.4290000000000003,
            "bin_start": 2.0820000000000003,
            "count": 0
           },
           {
            "bin_end": 2.7760000000000002,
            "bin_start": 2.4290000000000003,
            "count": 0
           },
           {
            "bin_end": 3.123,
            "bin_start": 2.7760000000000002,
            "count": 0
           },
           {
            "bin_end": 3.47,
            "bin_start": 3.123,
            "count": 1
           }
          ],
          "max": 3.47,
          "min": 0,
          "nan_count": 15,
          "unique_count": 62
         }
        },
        {
         "dtype": "float64",
         "name": "Forest Footprint",
         "stats": {
          "histogram": [
           {
            "bin_end": 0.312,
            "bin_start": 0.01,
            "count": 102
           },
           {
            "bin_end": 0.614,
            "bin_start": 0.312,
            "count": 41
           },
           {
            "bin_end": 0.9159999999999999,
            "bin_start": 0.614,
            "count": 20
           },
           {
            "bin_end": 1.218,
            "bin_start": 0.9159999999999999,
            "count": 5
           },
           {
            "bin_end": 1.52,
            "bin_start": 1.218,
            "count": 3
           },
           {
            "bin_end": 1.8219999999999998,
            "bin_start": 1.52,
            "count": 0
           },
           {
            "bin_end": 2.1239999999999997,
            "bin_start": 1.8219999999999998,
            "count": 1
           },
           {
            "bin_end": 2.4259999999999997,
            "bin_start": 2.1239999999999997,
            "count": 0
           },
           {
            "bin_end": 2.7279999999999998,
            "bin_start": 2.4259999999999997,
            "count": 0
           },
           {
            "bin_end": 3.03,
            "bin_start": 2.7279999999999998,
            "count": 1
           }
          ],
          "max": 3.03,
          "min": 0.01,
          "nan_count": 15,
          "unique_count": 69
         }
        },
        {
         "dtype": "float64",
         "name": "Carbon Footprint",
         "stats": {
          "histogram": [
           {
            "bin_end": 1.2650000000000001,
            "bin_start": 0,
            "count": 90
           },
           {
            "bin_end": 2.5300000000000002,
            "bin_start": 1.2650000000000001,
            "count": 37
           },
           {
            "bin_end": 3.7950000000000004,
            "bin_start": 2.5300000000000002,
            "count": 23
           },
           {
            "bin_end": 5.0600000000000005,
            "bin_start": 3.7950000000000004,
            "count": 14
           },
           {
            "bin_end": 6.325000000000001,
            "bin_start": 5.0600000000000005,
            "count": 4
           },
           {
            "bin_end": 7.590000000000001,
            "bin_start": 6.325000000000001,
            "count": 3
           },
           {
            "bin_end": 8.855,
            "bin_start": 7.590000000000001,
            "count": 0
           },
           {
            "bin_end": 10.120000000000001,
            "bin_start": 8.855,
            "count": 1
           },
           {
            "bin_end": 11.385000000000002,
            "bin_start": 10.120000000000001,
            "count": 0
           },
           {
            "bin_end": 12.65,
            "bin_start": 11.385000000000002,
            "count": 1
           }
          ],
          "max": 12.65,
          "min": 0,
          "nan_count": 15,
          "unique_count": 140
         }
        },
        {
         "dtype": "float64",
         "name": "Fish Footprint",
         "stats": {
          "histogram": [
           {
            "bin_end": 0.08199999999999999,
            "bin_start": 0,
            "count": 100
           },
           {
            "bin_end": 0.16399999999999998,
            "bin_start": 0.08199999999999999,
            "count": 33
           },
           {
            "bin_end": 0.24599999999999997,
            "bin_start": 0.16399999999999998,
            "count": 17
           },
           {
            "bin_end": 0.32799999999999996,
            "bin_start": 0.24599999999999997,
            "count": 7
           },
           {
            "bin_end": 0.4099999999999999,
            "bin_start": 0.32799999999999996,
            "count": 5
           },
           {
            "bin_end": 0.49199999999999994,
            "bin_start": 0.4099999999999999,
            "count": 4
           },
           {
            "bin_end": 0.574,
            "bin_start": 0.49199999999999994,
            "count": 1
           },
           {
            "bin_end": 0.6559999999999999,
            "bin_start": 0.574,
            "count": 1
           },
           {
            "bin_end": 0.7379999999999999,
            "bin_start": 0.6559999999999999,
            "count": 3
           },
           {
            "bin_end": 0.82,
            "bin_start": 0.7379999999999999,
            "count": 2
           }
          ],
          "max": 0.82,
          "min": 0,
          "nan_count": 15,
          "unique_count": 43
         }
        },
        {
         "dtype": "float64",
         "name": "Total Ecological Footprint",
         "stats": {
          "histogram": [
           {
            "bin_end": 1.96,
            "bin_start": 0.42,
            "count": 67
           },
           {
            "bin_end": 3.5,
            "bin_start": 1.96,
            "count": 52
           },
           {
            "bin_end": 5.04,
            "bin_start": 3.5,
            "count": 28
           },
           {
            "bin_end": 6.58,
            "bin_start": 5.04,
            "count": 24
           },
           {
            "bin_end": 8.120000000000001,
            "bin_start": 6.58,
            "count": 10
           },
           {
            "bin_end": 9.66,
            "bin_start": 8.120000000000001,
            "count": 4
           },
           {
            "bin_end": 11.200000000000001,
            "bin_start": 9.66,
            "count": 1
           },
           {
            "bin_end": 12.74,
            "bin_start": 11.200000000000001,
            "count": 1
           },
           {
            "bin_end": 14.28,
            "bin_start": 12.74,
            "count": 0
           },
           {
            "bin_end": 15.82,
            "bin_start": 14.28,
            "count": 1
           }
          ],
          "max": 15.82,
          "min": 0.42,
          "nan_count": 0,
          "unique_count": 156
         }
        },
        {
         "dtype": "float64",
         "name": "Cropland",
         "stats": {
          "histogram": [
           {
            "bin_end": 0.542,
            "bin_start": 0,
            "count": 121
           },
           {
            "bin_end": 1.084,
            "bin_start": 0.542,
            "count": 35
           },
           {
            "bin_end": 1.6260000000000001,
            "bin_start": 1.084,
            "count": 8
           },
           {
            "bin_end": 2.168,
            "bin_start": 1.6260000000000001,
            "count": 2
           },
           {
            "bin_end": 2.71,
            "bin_start": 2.168,
            "count": 3
           },
           {
            "bin_end": 3.2520000000000002,
            "bin_start": 2.71,
            "count": 3
           },
           {
            "bin_end": 3.7940000000000005,
            "bin_start": 3.2520000000000002,
            "count": 0
           },
           {
            "bin_end": 4.336,
            "bin_start": 3.7940000000000005,
            "count": 0
           },
           {
            "bin_end": 4.878,
            "bin_start": 4.336,
            "count": 0
           },
           {
            "bin_end": 5.42,
            "bin_start": 4.878,
            "count": 1
           }
          ],
          "max": 5.42,
          "min": 0,
          "nan_count": 15,
          "unique_count": 91
         }
        },
        {
         "dtype": "float64",
         "name": "Grazing Land",
         "stats": {
          "histogram": [
           {
            "bin_end": 0.8230000000000001,
            "bin_start": 0,
            "count": 151
           },
           {
            "bin_end": 1.6460000000000001,
            "bin_start": 0.8230000000000001,
            "count": 9
           },
           {
            "bin_end": 2.4690000000000003,
            "bin_start": 1.6460000000000001,
            "count": 5
           },
           {
            "bin_end": 3.2920000000000003,
            "bin_start": 2.4690000000000003,
            "count": 4
           },
           {
            "bin_end": 4.115,
            "bin_start": 3.2920000000000003,
            "count": 1
           },
           {
            "bin_end": 4.938000000000001,
            "bin_start": 4.115,
            "count": 1
           },
           {
            "bin_end": 5.761,
            "bin_start": 4.938000000000001,
            "count": 0
           },
           {
            "bin_end": 6.5840000000000005,
            "bin_start": 5.761,
            "count": 1
           },
           {
            "bin_end": 7.407000000000001,
            "bin_start": 6.5840000000000005,
            "count": 0
           },
           {
            "bin_end": 8.23,
            "bin_start": 7.407000000000001,
            "count": 1
           }
          ],
          "max": 8.23,
          "min": 0,
          "nan_count": 15,
          "unique_count": 69
         }
        },
        {
         "dtype": "float64",
         "name": "Forest Land",
         "stats": {
          "histogram": [
           {
            "bin_end": 9.516,
            "bin_start": 0,
            "count": 168
           },
           {
            "bin_end": 19.032,
            "bin_start": 9.516,
            "count": 1
           },
           {
            "bin_end": 28.548000000000002,
            "bin_start": 19.032,
            "count": 1
           },
           {
            "bin_end": 38.064,
            "bin_start": 28.548000000000002,
            "count": 0
           },
           {
            "bin_end": 47.58,
            "bin_start": 38.064,
            "count": 0
           },
           {
            "bin_end": 57.096000000000004,
            "bin_start": 47.58,
            "count": 0
           },
           {
            "bin_end": 66.612,
            "bin_start": 57.096000000000004,
            "count": 1
           },
           {
            "bin_end": 76.128,
            "bin_start": 66.612,
            "count": 0
           },
           {
            "bin_end": 85.644,
            "bin_start": 76.128,
            "count": 1
           },
           {
            "bin_end": 95.16,
            "bin_start": 85.644,
            "count": 1
           }
          ],
          "max": 95.16,
          "min": 0,
          "nan_count": 15,
          "unique_count": 99
         }
        },
        {
         "dtype": "float64",
         "name": "Fishing Water",
         "stats": {
          "histogram": [
           {
            "bin_end": 1.607,
            "bin_start": 0,
            "count": 157
           },
           {
            "bin_end": 3.214,
            "bin_start": 1.607,
            "count": 9
           },
           {
            "bin_end": 4.821,
            "bin_start": 3.214,
            "count": 2
           },
           {
            "bin_end": 6.428,
            "bin_start": 4.821,
            "count": 2
           },
           {
            "bin_end": 8.035,
            "bin_start": 6.428,
            "count": 1
           },
           {
            "bin_end": 9.642,
            "bin_start": 8.035,
            "count": 1
           },
           {
            "bin_end": 11.249,
            "bin_start": 9.642,
            "count": 0
           },
           {
            "bin_end": 12.856,
            "bin_start": 11.249,
            "count": 0
           },
           {
            "bin_end": 14.463,
            "bin_start": 12.856,
            "count": 0
           },
           {
            "bin_end": 16.07,
            "bin_start": 14.463,
            "count": 1
           }
          ],
          "max": 16.07,
          "min": 0,
          "nan_count": 15,
          "unique_count": 73
         }
        },
        {
         "dtype": "float64",
         "name": "Urban Land",
         "stats": {
          "histogram": [
           {
            "bin_end": 0.027000000000000003,
            "bin_start": 0,
            "count": 29
           },
           {
            "bin_end": 0.054000000000000006,
            "bin_start": 0.027000000000000003,
            "count": 62
           },
           {
            "bin_end": 0.08100000000000002,
            "bin_start": 0.054000000000000006,
            "count": 36
           },
           {
            "bin_end": 0.10800000000000001,
            "bin_start": 0.08100000000000002,
            "count": 14
           },
           {
            "bin_end": 0.135,
            "bin_start": 0.10800000000000001,
            "count": 13
           },
           {
            "bin_end": 0.16200000000000003,
            "bin_start": 0.135,
            "count": 8
           },
           {
            "bin_end": 0.18900000000000003,
            "bin_start": 0.16200000000000003,
            "count": 3
           },
           {
            "bin_end": 0.21600000000000003,
            "bin_start": 0.18900000000000003,
            "count": 2
           },
           {
            "bin_end": 0.24300000000000002,
            "bin_start": 0.21600000000000003,
            "count": 3
           },
           {
            "bin_end": 0.27,
            "bin_start": 0.24300000000000002,
            "count": 3
           }
          ],
          "max": 0.27,
          "min": 0,
          "nan_count": 15,
          "unique_count": 24
         }
        },
        {
         "dtype": "float64",
         "name": "Total Biocapacity",
         "stats": {
          "histogram": [
           {
            "bin_end": 11.18,
            "bin_start": 0.05,
            "count": 179
           },
           {
            "bin_end": 22.31,
            "bin_start": 11.18,
            "count": 5
           },
           {
            "bin_end": 33.44,
            "bin_start": 22.31,
            "count": 1
           },
           {
            "bin_end": 44.56999999999999,
            "bin_start": 33.44,
            "count": 0
           },
           {
            "bin_end": 55.69999999999999,
            "bin_start": 44.56999999999999,
            "count": 0
           },
           {
            "bin_end": 66.83,
            "bin_start": 55.69999999999999,
            "count": 1
           },
           {
            "bin_end": 77.96,
            "bin_start": 66.83,
            "count": 0
           },
           {
            "bin_end": 89.08999999999999,
            "bin_start": 77.96,
            "count": 0
           },
           {
            "bin_end": 100.21999999999998,
            "bin_start": 89.08999999999999,
            "count": 1
           },
           {
            "bin_end": 111.35,
            "bin_start": 100.21999999999998,
            "count": 1
           }
          ],
          "max": 111.35,
          "min": 0.05,
          "nan_count": 0,
          "unique_count": 150
         }
        },
        {
         "dtype": "float64",
         "name": "Biocapacity Deficit or Reserve",
         "stats": {
          "histogram": [
           {
            "bin_end": -1.8249999999999993,
            "bin_start": -14.14,
            "count": 52
           },
           {
            "bin_end": 10.490000000000002,
            "bin_start": -1.8249999999999993,
            "count": 131
           },
           {
            "bin_end": 22.805000000000007,
            "bin_start": 10.490000000000002,
            "count": 1
           },
           {
            "bin_end": 35.120000000000005,
            "bin_start": 22.805000000000007,
            "count": 1
           },
           {
            "bin_end": 47.435,
            "bin_start": 35.120000000000005,
            "count": 0
           },
           {
            "bin_end": 59.750000000000014,
            "bin_start": 47.435,
            "count": 0
           },
           {
            "bin_end": 72.06500000000001,
            "bin_start": 59.750000000000014,
            "count": 1
           },
           {
            "bin_end": 84.38000000000001,
            "bin_start": 72.06500000000001,
            "count": 0
           },
           {
            "bin_end": 96.69500000000001,
            "bin_start": 84.38000000000001,
            "count": 1
           },
           {
            "bin_end": 109.01,
            "bin_start": 96.69500000000001,
            "count": 1
           }
          ],
          "max": 109.01,
          "min": -14.14,
          "nan_count": 0,
          "unique_count": 165
         }
        },
        {
         "dtype": "float64",
         "name": "Earths Required",
         "stats": {
          "histogram": [
           {
            "bin_end": 1.13,
            "bin_start": 0.24,
            "count": 66
           },
           {
            "bin_end": 2.02,
            "bin_start": 1.13,
            "count": 53
           },
           {
            "bin_end": 2.91,
            "bin_start": 2.02,
            "count": 28
           },
           {
            "bin_end": 3.8,
            "bin_start": 2.91,
            "count": 24
           },
           {
            "bin_end": 4.69,
            "bin_start": 3.8,
            "count": 10
           },
           {
            "bin_end": 5.58,
            "bin_start": 4.69,
            "count": 4
           },
           {
            "bin_end": 6.470000000000001,
            "bin_start": 5.58,
            "count": 1
           },
           {
            "bin_end": 7.36,
            "bin_start": 6.470000000000001,
            "count": 1
           },
           {
            "bin_end": 8.25,
            "bin_start": 7.36,
            "count": 0
           },
           {
            "bin_end": 9.14,
            "bin_start": 8.25,
            "count": 1
           }
          ],
          "max": 9.14,
          "min": 0.24,
          "nan_count": 0,
          "unique_count": 150
         }
        },
        {
         "dtype": "float64",
         "name": "Countries Required",
         "stats": {
          "histogram": [
           {
            "bin_end": 15.964999999999998,
            "bin_start": 0.02,
            "count": 181
           },
           {
            "bin_end": 31.909999999999997,
            "bin_start": 15.964999999999998,
            "count": 5
           },
           {
            "bin_end": 47.855,
            "bin_start": 31.909999999999997,
            "count": 1
           },
           {
            "bin_end": 63.8,
            "bin_start": 47.855,
            "count": 0
           },
           {
            "bin_end": 79.74499999999999,
            "bin_start": 63.8,
            "count": 0
           },
           {
            "bin_end": 95.68999999999998,
            "bin_start": 79.74499999999999,
            "count": 0
           },
           {
            "bin_end": 111.63499999999999,
            "bin_start": 95.68999999999998,
            "count": 0
           },
           {
            "bin_end": 127.57999999999998,
            "bin_start": 111.63499999999999,
            "count": 0
           },
           {
            "bin_end": 143.525,
            "bin_start": 127.57999999999998,
            "count": 0
           },
           {
            "bin_end": 159.47,
            "bin_start": 143.525,
            "count": 1
           }
          ],
          "max": 159.47,
          "min": 0.02,
          "nan_count": 0,
          "unique_count": 162
         }
        },
        {
         "dtype": "object",
         "name": "Data Quality",
         "stats": {
          "categories": [
           {
            "count": 66,
            "name": "5"
           },
           {
            "count": 60,
            "name": "6"
           },
           {
            "count": 62,
            "name": "5 others"
           }
          ],
          "nan_count": 0,
          "unique_count": 7
         }
        },
        {
         "dtype": "int64",
         "name": "_deepnote_index_column"
        }
       ],
       "row_count": 188,
       "rows_bottom": [
        {
         "Biocapacity Deficit or Reserve": -0.91,
         "Carbon Footprint": 0.81,
         "Countries Required": 2.5,
         "Country": "Syrian Arab Republic",
         "Cropland": 0.41,
         "Cropland Footprint": 0.52,
         "Data Quality": "5",
         "Earths Required": 0.87,
         "Fish Footprint": 0.01,
         "Fishing Water": 0,
         "Forest Footprint": 0.04,
         "Forest Land": 0.04,
         "GDP per Capita": "nan",
         "Grazing Footprint": 0.09,
         "Grazing Land": 0.1,
         "HDI": 0.62,
         "Population (millions)": 21.89,
         "Region": "Middle East/Central Asia",
         "Total Biocapacity": 0.6,
         "Total Ecological Footprint": 1.51,
         "Urban Land": 0.05,
         "_deepnote_index_column": 164
        },
        {
         "Biocapacity Deficit or Reserve": -0.38,
         "Carbon Footprint": 0.13,
         "Countries Required": 1.71,
         "Country": "Tajikistan",
         "Cropland": 0.29,
         "Cropland Footprint": 0.46,
         "Data Quality": "5",
         "Earths Required": 0.52,
         "Fish Footprint": 0,
         "Fishing Water": 0.01,
         "Forest Footprint": 0.1,
         "Forest Land": 0.01,
         "GDP per Capita": "$836.17",
         "Grazing Footprint": 0.14,
         "Grazing Land": 0.14,
         "HDI": 0.62,
         "Population (millions)": 8.01,
         "Region": "Middle East/Central Asia",
         "Total Biocapacity": 0.53,
         "Total Ecological Footprint": 0.91,
         "Urban Land": 0.08,
         "_deepnote_index_column": 165
        },
        {
         "Biocapacity Deficit or Reserve": -0.24,
         "Carbon Footprint": 0.17,
         "Countries Required": 1.23,
         "Country": "Tanzania, United Republic of",
         "Cropland": 0.46,
         "Cropland Footprint": 0.44,
         "Data Quality": "6",
         "Earths Required": 0.76,
         "Fish Footprint": 0.09,
         "Fishing Water": 0.06,
         "Forest Footprint": 0.23,
         "Forest Land": 0.17,
         "GDP per Capita": "$765.33",
         "Grazing Footprint": 0.34,
         "Grazing Land": 0.34,
         "HDI": 0.51,
         "Population (millions)": 47.78,
         "Region": "Africa",
         "Total Biocapacity": 1.08,
         "Total Ecological Footprint": 1.32,
         "Urban Land": 0.06,
         "_deepnote_index_column": 166
        },
        {
         "Biocapacity Deficit or Reserve": -1.42,
         "Carbon Footprint": 1.54,
         "Countries Required": 2.14,
         "Country": "Thailand",
         "Cropland": 0.77,
         "Cropland Footprint": 0.67,
         "Data Quality": "6",
         "Earths Required": 1.54,
         "Fish Footprint": 0.13,
         "Fishing Water": 0.19,
         "Forest Footprint": 0.24,
         "Forest Land": 0.2,
         "GDP per Capita": "$5,479.29",
         "Grazing Footprint": 0.02,
         "Grazing Land": 0.01,
         "HDI": 0.72,
         "Population (millions)": 66.78,
         "Region": "Asia-Pacific",
         "Total Biocapacity": 1.24,
         "Total Ecological Footprint": 2.66,
         "Urban Land": 0.07,
         "_deepnote_index_column": 167
        },
        {
         "Biocapacity Deficit or Reserve": 1.3,
         "Carbon Footprint": 0.06,
         "Countries Required": 0.27,
         "Country": "Timor-Leste",
         "Cropland": 0.21,
         "Cropland Footprint": 0.25,
         "Data Quality": "3B",
         "Earths Required": 0.28,
         "Fish Footprint": 0.02,
         "Fishing Water": 0.94,
         "Forest Footprint": 0.04,
         "Forest Land": 0.52,
         "GDP per Capita": "$5,167.86",
         "Grazing Footprint": 0.07,
         "Grazing Land": 0.06,
         "HDI": 0.6,
         "Population (millions)": 1.11,
         "Region": "Asia-Pacific",
         "Total Biocapacity": 1.78,
         "Total Ecological Footprint": 0.48,
         "Urban Land": 0.04,
         "_deepnote_index_column": 168
        },
        {
         "Biocapacity Deficit or Reserve": -0.6,
         "Carbon Footprint": 0.31,
         "Countries Required": 2.13,
         "Country": "Togo",
         "Cropland": 0.34,
         "Cropland Footprint": 0.34,
         "Data Quality": "6",
         "Earths Required": 0.65,
         "Fish Footprint": 0.08,
         "Fishing Water": 0.02,
         "Forest Footprint": 0.27,
         "Forest Land": 0.03,
         "GDP per Capita": "$580.86",
         "Grazing Footprint": 0.1,
         "Grazing Land": 0.12,
         "HDI": 0.47,
         "Population (millions)": 6.64,
         "Region": "Africa",
         "Total Biocapacity": 0.53,
         "Total Ecological Footprint": 1.13,
         "Urban Land": 0.02,
         "_deepnote_index_column": 169
        },
        {
         "Biocapacity Deficit or Reserve": -1.22,
         "Carbon Footprint": 0.88,
         "Countries Required": 1.82,
         "Country": "Tonga",
         "Cropland": 0.83,
         "Cropland Footprint": 1.19,
         "Data Quality": "3B",
         "Earths Required": 1.56,
         "Fish Footprint": 0.18,
         "Fishing Water": 0.52,
         "Forest Footprint": 0.14,
         "Forest Land": 0.11,
         "GDP per Capita": "$4,330.90",
         "Grazing Footprint": 0.32,
         "Grazing Land": 0.02,
         "HDI": 0.72,
         "Population (millions)": 0.1,
         "Region": "Asia-Pacific",
         "Total Biocapacity": 1.48,
         "Total Ecological Footprint": 2.7,
         "Urban Land": 0,
         "_deepnote_index_column": 170
        },
        {
         "Biocapacity Deficit or Reserve": -6.36,
         "Carbon Footprint": 6.89,
         "Countries Required": 5.07,
         "Country": "Trinidad and Tobago",
         "Cropland": 0.04,
         "Cropland Footprint": 0.46,
         "Data Quality": "3B",
         "Earths Required": 4.57,
         "Fish Footprint": 0.11,
         "Fishing Water": 1.37,
         "Forest Footprint": 0.27,
         "Forest Land": 0.15,
         "GDP per Capita": "$18,310.80",
         "Grazing Footprint": 0.19,
         "Grazing Land": 0.01,
         "HDI": 0.77,
         "Population (millions)": 1.34,
         "Region": "Latin America",
         "Total Biocapacity": 1.56,
         "Total Ecological Footprint": 7.92,
         "Urban Land": 0,
         "_deepnote_index_column": 171
        },
        {
         "Biocapacity Deficit or Reserve": -1.4,
         "Carbon Footprint": 1.11,
         "Countries Required": 2.51,
         "Country": "Tunisia",
         "Cropland": 0.53,
         "Cropland Footprint": 0.76,
         "Data Quality": "5",
         "Earths Required": 1.35,
         "Fish Footprint": 0.06,
         "Fishing Water": 0.24,
         "Forest Footprint": 0.28,
         "Forest Land": 0.05,
         "GDP per Capita": "$4,305.07",
         "Grazing Footprint": 0.09,
         "Grazing Land": 0.08,
         "HDI": 0.72,
         "Population (millions)": 10.88,
         "Region": "Africa",
         "Total Biocapacity": 0.93,
         "Total Ecological Footprint": 2.34,
         "Urban Land": 0.04,
         "_deepnote_index_column": 172
        },
        {
         "Biocapacity Deficit or Reserve": -1.81,
         "Carbon Footprint": 1.92,
         "Countries Required": 2.19,
         "Country": "Turkey",
         "Cropland": 0.75,
         "Cropland Footprint": 0.87,
         "Data Quality": "5",
         "Earths Required": 1.92,
         "Fish Footprint": 0.04,
         "Fishing Water": 0.04,
         "Forest Footprint": 0.34,
         "Forest Land": 0.6,
         "GDP per Capita": "$10,437.70",
         "Grazing Footprint": 0.12,
         "Grazing Land": 0.09,
         "HDI": 0.76,
         "Population (millions)": 74,
         "Region": "Middle East/Central Asia",
         "Total Biocapacity": 1.52,
         "Total Ecological Footprint": 3.33,
         "Urban Land": 0.04,
         "_deepnote_index_column": 173
        },
        {
         "Biocapacity Deficit or Reserve": -2.68,
         "Carbon Footprint": 4.13,
         "Countries Required": 1.96,
         "Country": "Turkmenistan",
         "Cropland": 0.6,
         "Cropland Footprint": 0.73,
         "Data Quality": "6",
         "Earths Required": 3.16,
         "Fish Footprint": 0.01,
         "Fishing Water": 0.13,
         "Forest Footprint": 0.08,
         "Forest Land": 0.02,
         "GDP per Capita": "$5,290.14",
         "Grazing Footprint": 0.44,
         "Grazing Land": 1.96,
         "HDI": 0.68,
         "Population (millions)": 5.17,
         "Region": "Middle East/Central Asia",
         "Total Biocapacity": 2.79,
         "Total Ecological Footprint": 5.47,
         "Urban Land": 0.09,
         "_deepnote_index_column": 174
        },
        {
         "Biocapacity Deficit or Reserve": -0.66,
         "Carbon Footprint": 0.08,
         "Countries Required": 2.12,
         "Country": "Uganda",
         "Cropland": 0.35,
         "Cropland Footprint": 0.34,
         "Data Quality": "6",
         "Earths Required": 0.72,
         "Fish Footprint": 0.11,
         "Fishing Water": 0.04,
         "Forest Footprint": 0.54,
         "Forest Land": 0.01,
         "GDP per Capita": "$601.35",
         "Grazing Footprint": 0.15,
         "Grazing Land": 0.15,
         "HDI": 0.48,
         "Population (millions)": 36.35,
         "Region": "Africa",
         "Total Biocapacity": 0.59,
         "Total Ecological Footprint": 1.24,
         "Urban Land": 0.04,
         "_deepnote_index_column": 175
        },
        {
         "Biocapacity Deficit or Reserve": -0.58,
         "Carbon Footprint": 1.92,
         "Countries Required": 1.25,
         "Country": "Ukraine",
         "Cropland": 1.5,
         "Cropland Footprint": 0.62,
         "Data Quality": "5",
         "Earths Required": 1.64,
         "Fish Footprint": 0.06,
         "Fishing Water": 0.15,
         "Forest Footprint": 0.16,
         "Forest Land": 0.43,
         "GDP per Capita": "$3,589.63",
         "Grazing Footprint": 0.01,
         "Grazing Land": 0.12,
         "HDI": 0.74,
         "Population (millions)": 45.53,
         "Region": "Northern/Eastern Europe",
         "Total Biocapacity": 2.27,
         "Total Ecological Footprint": 2.84,
         "Urban Land": 0.07,
         "_deepnote_index_column": 176
        },
        {
         "Biocapacity Deficit or Reserve": -3.62,
         "Carbon Footprint": 3.14,
         "Countries Required": 3.76,
         "Country": "United Kingdom",
         "Cropland": 0.6,
         "Cropland Footprint": 0.82,
         "Data Quality": "6",
         "Earths Required": 2.85,
         "Fish Footprint": 0.08,
         "Fishing Water": 0.3,
         "Forest Footprint": 0.45,
         "Forest Land": 0.12,
         "GDP per Capita": "$40,980.50",
         "Grazing Footprint": 0.28,
         "Grazing Land": 0.12,
         "HDI": 0.9,
         "Population (millions)": 63.03,
         "Region": "European Union",
         "Total Biocapacity": 1.32,
         "Total Ecological Footprint": 4.94,
         "Urban Land": 0.18,
         "_deepnote_index_column": 177
        },
        {
         "Biocapacity Deficit or Reserve": -7.37,
         "Carbon Footprint": 6.37,
         "Countries Required": 14.160714285714299,
         "Country": "United Arab Emirates",
         "Cropland": 0.02,
         "Cropland Footprint": 0.8,
         "Data Quality": "6",
         "Earths Required": 4.58,
         "Fish Footprint": 0.19,
         "Fishing Water": 0.47,
         "Forest Footprint": 0.38,
         "Forest Land": 0.07,
         "GDP per Capita": "$40,817.40",
         "Grazing Footprint": 0.19,
         "Grazing Land": 0,
         "HDI": 0.83,
         "Population (millions)": 9.206,
         "Region": "Middle East/Central Asia",
         "Total Biocapacity": 0.56,
         "Total Ecological Footprint": 7.93,
         "Urban Land": 0,
         "_deepnote_index_column": 178
        },
        {
         "Biocapacity Deficit or Reserve": -4.46,
         "Carbon Footprint": 5.9,
         "Countries Required": 2.19,
         "Country": "United States of America",
         "Cropland": 1.49,
         "Cropland Footprint": 1.13,
         "Data Quality": "6",
         "Earths Required": 4.75,
         "Fish Footprint": 0.12,
         "Fishing Water": 0.33,
         "Forest Footprint": 0.67,
         "Forest Land": 1.57,
         "GDP per Capita": "$49,725.00",
         "Grazing Footprint": 0.3,
         "Grazing Land": 0.28,
         "HDI": 0.91,
         "Population (millions)": 317.5,
         "Region": "North America",
         "Total Biocapacity": 3.76,
         "Total Ecological Footprint": 8.22,
         "Urban Land": 0.09,
         "_deepnote_index_column": 179
        },
        {
         "Biocapacity Deficit or Reserve": 7.41,
         "Carbon Footprint": 0.98,
         "Countries Required": 0.28,
         "Country": "Uruguay",
         "Cropland": 1.89,
         "Cropland Footprint": 0.19,
         "Data Quality": "3B",
         "Earths Required": 1.68,
         "Fish Footprint": 0.05,
         "Fishing Water": 2.18,
         "Forest Footprint": 0.55,
         "Forest Land": 1.22,
         "GDP per Capita": "$14,238.10",
         "Grazing Footprint": 0.98,
         "Grazing Land": 4.86,
         "HDI": 0.79,
         "Population (millions)": 3.4,
         "Region": "Latin America",
         "Total Biocapacity": 10.32,
         "Total Ecological Footprint": 2.91,
         "Urban Land": 0.17,
         "_deepnote_index_column": 180
        },
        {
         "Biocapacity Deficit or Reserve": -1.4,
         "Carbon Footprint": 1.41,
         "Countries Required": 2.52,
         "Country": "Uzbekistan",
         "Cropland": 0.56,
         "Cropland Footprint": 0.62,
         "Data Quality": "6",
         "Earths Required": 1.34,
         "Fish Footprint": 0,
         "Fishing Water": 0.03,
         "Forest Footprint": 0.08,
         "Forest Land": 0.06,
         "GDP per Capita": "$1,560.85",
         "Grazing Footprint": 0.13,
         "Grazing Land": 0.2,
         "HDI": 0.67,
         "Population (millions)": 28.54,
         "Region": "Middle East/Central Asia",
         "Total Biocapacity": 0.92,
         "Total Ecological Footprint": 2.32,
         "Urban Land": 0.08,
         "_deepnote_index_column": 181
        },
        {
         "Biocapacity Deficit or Reserve": -0.79,
         "Carbon Footprint": 2.13,
         "Countries Required": 1.28,
         "Country": "Venezuela, Bolivarian Republic of",
         "Cropland": 0.14,
         "Cropland Footprint": 0.45,
         "Data Quality": "5",
         "Earths Required": 2.06,
         "Fish Footprint": 0.09,
         "Fishing Water": 0.24,
         "Forest Footprint": 0.12,
         "Forest Land": 1.79,
         "GDP per Capita": "$10,237.80",
         "Grazing Footprint": 0.74,
         "Grazing Land": 0.57,
         "HDI": 0.763846,
         "Population (millions)": 29.96,
         "Region": "Latin America",
         "Total Biocapacity": 2.78,
         "Total Ecological Footprint": 3.57,
         "Urban Land": 0.04,
         "_deepnote_index_column": 182
        },
        {
         "Biocapacity Deficit or Reserve": -0.65,
         "Carbon Footprint": 0.79,
         "Countries Required": 1.66,
         "Country": "Viet Nam",
         "Cropland": 0.55,
         "Cropland Footprint": 0.5,
         "Data Quality": "6",
         "Earths Required": 0.95,
         "Fish Footprint": 0.05,
         "Fishing Water": 0.16,
         "Forest Footprint": 0.19,
         "Forest Land": 0.17,
         "GDP per Capita": "$1,532.31",
         "Grazing Footprint": 0.01,
         "Grazing Land": 0.01,
         "HDI": 0.66,
         "Population (millions)": 90.8,
         "Region": "Asia-Pacific",
         "Total Biocapacity": 1,
         "Total Ecological Footprint": 1.65,
         "Urban Land": 0.1,
         "_deepnote_index_column": 183
        },
        {
         "Biocapacity Deficit or Reserve": -0.56,
         "Carbon Footprint": "nan",
         "Countries Required": 1.37,
         "Country": "Wallis and Futuna Islands",
         "Cropland": "nan",
         "Cropland Footprint": "nan",
         "Data Quality": "3T",
         "Earths Required": 1.19,
         "Fish Footprint": "nan",
         "Fishing Water": "nan",
         "Forest Footprint": "nan",
         "Forest Land": "nan",
         "GDP per Capita": "nan",
         "Grazing Footprint": "nan",
         "Grazing Land": "nan",
         "HDI": "nan",
         "Population (millions)": 0.01,
         "Region": "Asia-Pacific",
         "Total Biocapacity": 1.51,
         "Total Ecological Footprint": 2.07,
         "Urban Land": "nan",
         "_deepnote_index_column": 184
        },
        {
         "Biocapacity Deficit or Reserve": -0.53,
         "Carbon Footprint": 0.42,
         "Countries Required": 2.06,
         "Country": "Yemen",
         "Cropland": 0.09,
         "Cropland Footprint": 0.34,
         "Data Quality": "5",
         "Earths Required": 0.59,
         "Fish Footprint": 0.04,
         "Fishing Water": 0.2,
         "Forest Footprint": 0.04,
         "Forest Land": 0.04,
         "GDP per Capita": "$1,302.30",
         "Grazing Footprint": 0.14,
         "Grazing Land": 0.12,
         "HDI": 0.5,
         "Population (millions)": 23.85,
         "Region": "Middle East/Central Asia",
         "Total Biocapacity": 0.5,
         "Total Ecological Footprint": 1.03,
         "Urban Land": 0.04,
         "_deepnote_index_column": 185
        },
        {
         "Biocapacity Deficit or Reserve": 1.24,
         "Carbon Footprint": 0.24,
         "Countries Required": 0.44,
         "Country": "Zambia",
         "Cropland": 0.24,
         "Cropland Footprint": 0.19,
         "Data Quality": "6",
         "Earths Required": 0.57,
         "Fish Footprint": 0.01,
         "Fishing Water": 0.02,
         "Forest Footprint": 0.33,
         "Forest Land": 0.99,
         "GDP per Capita": "$1,740.64",
         "Grazing Footprint": 0.18,
         "Grazing Land": 0.94,
         "HDI": 0.58,
         "Population (millions)": 14.08,
         "Region": "Africa",
         "Total Biocapacity": 2.23,
         "Total Ecological Footprint": 0.99,
         "Urban Land": 0.04,
         "_deepnote_index_column": 186
        },
        {
         "Biocapacity Deficit or Reserve": -0.75,
         "Carbon Footprint": 0.53,
         "Countries Required": 2.2,
         "Country": "Zimbabwe",
         "Cropland": 0.15,
         "Cropland Footprint": 0.2,
         "Data Quality": "6",
         "Earths Required": 0.79,
         "Fish Footprint": 0.01,
         "Fishing Water": 0.01,
         "Forest Footprint": 0.29,
         "Forest Land": 0.12,
         "GDP per Capita": "$865.91",
         "Grazing Footprint": 0.32,
         "Grazing Land": 0.32,
         "HDI": 0.49,
         "Population (millions)": 13.72,
         "Region": "Africa",
         "Total Biocapacity": 0.62,
         "Total Ecological Footprint": 1.37,
         "Urban Land": 0.02,
         "_deepnote_index_column": 187
        }
       ],
       "rows_top": [
        {
         "Biocapacity Deficit or Reserve": -0.3,
         "Carbon Footprint": 0.18,
         "Countries Required": 1.6,
         "Country": "Afghanistan",
         "Cropland": 0.24,
         "Cropland Footprint": 0.3,
         "Data Quality": "6",
         "Earths Required": 0.46,
         "Fish Footprint": 0,
         "Fishing Water": 0,
         "Forest Footprint": 0.08,
         "Forest Land": 0.02,
         "GDP per Capita": "$614.66",
         "Grazing Footprint": 0.2,
         "Grazing Land": 0.2,
         "HDI": 0.46,
         "Population (millions)": 29.82,
         "Region": "Middle East/Central Asia",
         "Total Biocapacity": 0.5,
         "Total Ecological Footprint": 0.79,
         "Urban Land": 0.04,
         "_deepnote_index_column": 0
        },
        {
         "Biocapacity Deficit or Reserve": -1.03,
         "Carbon Footprint": 0.87,
         "Countries Required": 1.87,
         "Country": "Albania",
         "Cropland": 0.55,
         "Cropland Footprint": 0.78,
         "Data Quality": "6",
         "Earths Required": 1.27,
         "Fish Footprint": 0.02,
         "Fishing Water": 0.07,
         "Forest Footprint": 0.25,
         "Forest Land": 0.29,
         "GDP per Capita": "$4,534.37",
         "Grazing Footprint": 0.22,
         "Grazing Land": 0.21,
         "HDI": 0.73,
         "Population (millions)": 3.16,
         "Region": "Northern/Eastern Europe",
         "Total Biocapacity": 1.18,
         "Total Ecological Footprint": 2.21,
         "Urban Land": 0.06,
         "_deepnote_index_column": 1
        },
        {
         "Biocapacity Deficit or Reserve": -1.53,
         "Carbon Footprint": 1.14,
         "Countries Required": 3.61,
         "Country": "Algeria",
         "Cropland": 0.24,
         "Cropland Footprint": 0.6,
         "Data Quality": "5",
         "Earths Required": 1.22,
         "Fish Footprint": 0.01,
         "Fishing Water": 0.01,
         "Forest Footprint": 0.17,
         "Forest Land": 0.03,
         "GDP per Capita": "$5,430.57",
         "Grazing Footprint": 0.16,
         "Grazing Land": 0.27,
         "HDI": 0.73,
         "Population (millions)": 38.48,
         "Region": "Africa",
         "Total Biocapacity": 0.59,
         "Total Ecological Footprint": 2.12,
         "Urban Land": 0.03,
         "_deepnote_index_column": 2
        },
        {
         "Biocapacity Deficit or Reserve": 1.61,
         "Carbon Footprint": 0.2,
         "Countries Required": 0.37,
         "Country": "Angola",
         "Cropland": 0.2,
         "Cropland Footprint": 0.33,
         "Data Quality": "6",
         "Earths Required": 0.54,
         "Fish Footprint": 0.09,
         "Fishing Water": 0.26,
         "Forest Footprint": 0.12,
         "Forest Land": 0.64,
         "GDP per Capita": "$4,665.91",
         "Grazing Footprint": 0.15,
         "Grazing Land": 1.42,
         "HDI": 0.52,
         "Population (millions)": 20.82,
         "Region": "Africa",
         "Total Biocapacity": 2.55,
         "Total Ecological Footprint": 0.93,
         "Urban Land": 0.04,
         "_deepnote_index_column": 3
        },
        {
         "Biocapacity Deficit or Reserve": -4.44,
         "Carbon Footprint": "nan",
         "Countries Required": 5.7,
         "Country": "Antigua and Barbuda",
         "Cropland": "nan",
         "Cropland Footprint": "nan",
         "Data Quality": "2",
         "Earths Required": 3.11,
         "Fish Footprint": "nan",
         "Fishing Water": "nan",
         "Forest Footprint": "nan",
         "Forest Land": "nan",
         "GDP per Capita": "$13,205.10",
         "Grazing Footprint": "nan",
         "Grazing Land": "nan",
         "HDI": 0.78,
         "Population (millions)": 0.09,
         "Region": "Latin America",
         "Total Biocapacity": 0.94,
         "Total Ecological Footprint": 5.38,
         "Urban Land": "nan",
         "_deepnote_index_column": 4
        },
        {
         "Biocapacity Deficit or Reserve": 3.78,
         "Carbon Footprint": 1.08,
         "Countries Required": 0.45,
         "Country": "Argentina",
         "Cropland": 2.64,
         "Cropland Footprint": 0.78,
         "Data Quality": "6",
         "Earths Required": 1.82,
         "Fish Footprint": 0.1,
         "Fishing Water": 1.67,
         "Forest Footprint": 0.29,
         "Forest Land": 0.66,
         "GDP per Capita": "$13,540.00",
         "Grazing Footprint": 0.79,
         "Grazing Land": 1.86,
         "HDI": 0.83,
         "Population (millions)": 41.09,
         "Region": "Latin America",
         "Total Biocapacity": 6.92,
         "Total Ecological Footprint": 3.14,
         "Urban Land": 0.1,
         "_deepnote_index_column": 5
        },
        {
         "Biocapacity Deficit or Reserve": -1.35,
         "Carbon Footprint": 0.89,
         "Countries Required": 2.52,
         "Country": "Armenia",
         "Cropland": 0.44,
         "Cropland Footprint": 0.74,
         "Data Quality": "3B",
         "Earths Required": 1.29,
         "Fish Footprint": 0.01,
         "Fishing Water": 0.02,
         "Forest Footprint": 0.34,
         "Forest Land": 0.1,
         "GDP per Capita": "$3,426.39",
         "Grazing Footprint": 0.18,
         "Grazing Land": 0.26,
         "HDI": 0.73,
         "Population (millions)": 2.97,
         "Region": "Middle East/Central Asia",
         "Total Biocapacity": 0.89,
         "Total Ecological Footprint": 2.23,
         "Urban Land": 0.07,
         "_deepnote_index_column": 6
        },
        {
         "Biocapacity Deficit or Reserve": -11.31,
         "Carbon Footprint": "nan",
         "Countries Required": 20.69,
         "Country": "Aruba",
         "Cropland": "nan",
         "Cropland Footprint": "nan",
         "Data Quality": "2",
         "Earths Required": 6.86,
         "Fish Footprint": "nan",
         "Fishing Water": "nan",
         "Forest Footprint": "nan",
         "Forest Land": "nan",
         "GDP per Capita": "nan",
         "Grazing Footprint": "nan",
         "Grazing Land": "nan",
         "HDI": "nan",
         "Population (millions)": 0.1,
         "Region": "Latin America",
         "Total Biocapacity": 0.57,
         "Total Ecological Footprint": 11.88,
         "Urban Land": "nan",
         "_deepnote_index_column": 7
        },
        {
         "Biocapacity Deficit or Reserve": 7.26,
         "Carbon Footprint": 4.85,
         "Countries Required": 0.56,
         "Country": "Australia",
         "Cropland": 5.42,
         "Cropland Footprint": 2.68,
         "Data Quality": "5",
         "Earths Required": 5.37,
         "Fish Footprint": 0.11,
         "Fishing Water": 3.19,
         "Forest Footprint": 0.89,
         "Forest Land": 2.01,
         "GDP per Capita": "$66,604.20",
         "Grazing Footprint": 0.63,
         "Grazing Land": 5.81,
         "HDI": 0.93,
         "Population (millions)": 23.05,
         "Region": "Asia-Pacific",
         "Total Biocapacity": 16.57,
         "Total Ecological Footprint": 9.31,
         "Urban Land": 0.14,
         "_deepnote_index_column": 8
        },
        {
         "Biocapacity Deficit or Reserve": -3,
         "Carbon Footprint": 4.14,
         "Countries Required": 1.98,
         "Country": "Austria",
         "Cropland": 0.71,
         "Cropland Footprint": 0.82,
         "Data Quality": "5",
         "Earths Required": 3.5,
         "Fish Footprint": 0.06,
         "Fishing Water": 0,
         "Forest Footprint": 0.63,
         "Forest Land": 2.04,
         "GDP per Capita": "$51,274.10",
         "Grazing Footprint": 0.27,
         "Grazing Land": 0.16,
         "HDI": 0.88,
         "Population (millions)": 8.46,
         "Region": "European Union",
         "Total Biocapacity": 3.07,
         "Total Ecological Footprint": 6.06,
         "Urban Land": 0.15,
         "_deepnote_index_column": 9
        },
        {
         "Biocapacity Deficit or Reserve": -1.46,
         "Carbon Footprint": 1.25,
         "Countries Required": 2.72,
         "Country": "Azerbaijan",
         "Cropland": 0.46,
         "Cropland Footprint": 0.66,
         "Data Quality": "6",
         "Earths Required": 1.33,
         "Fish Footprint": 0.01,
         "Fishing Water": 0.02,
         "Forest Footprint": 0.11,
         "Forest Land": 0.11,
         "GDP per Capita": "$7,106.04",
         "Grazing Footprint": 0.22,
         "Grazing Land": 0.2,
         "HDI": 0.75,
         "Population (millions)": 9.31,
         "Region": "Middle East/Central Asia",
         "Total Biocapacity": 0.85,
         "Total Ecological Footprint": 2.31,
         "Urban Land": 0.06,
         "_deepnote_index_column": 10
        },
        {
         "Biocapacity Deficit or Reserve": 2.71,
         "Carbon Footprint": 4.46,
         "Countries Required": 0.72,
         "Country": "Bahamas",
         "Cropland": 0.05,
         "Cropland Footprint": 0.97,
         "Data Quality": "3L",
         "Earths Required": 3.95,
         "Fish Footprint": 0.14,
         "Fishing Water": 8.27,
         "Forest Footprint": 0.19,
         "Forest Land": 1.18,
         "GDP per Capita": "$22,647.30",
         "Grazing Footprint": 1.05,
         "Grazing Land": 0,
         "HDI": 0.78,
         "Population (millions)": 0.37,
         "Region": "Latin America",
         "Total Biocapacity": 9.55,
         "Total Ecological Footprint": 6.84,
         "Urban Land": 0.04,
         "_deepnote_index_column": 11
        },
        {
         "Biocapacity Deficit or Reserve": -6.91,
         "Carbon Footprint": 6.19,
         "Countries Required": 12.96,
         "Country": "Bahrain",
         "Cropland": 0.01,
         "Cropland Footprint": 0.52,
         "Data Quality": "3L",
         "Earths Required": 4.33,
         "Fish Footprint": 0.07,
         "Fishing Water": 0.46,
         "Forest Footprint": 0.16,
         "Forest Land": 0,
         "GDP per Capita": "$24,299.00",
         "Grazing Footprint": 0.45,
         "Grazing Land": 0,
         "HDI": 0.82,
         "Population (millions)": 1.32,
         "Region": "Middle East/Central Asia",
         "Total Biocapacity": 0.58,
         "Total Ecological Footprint": 7.49,
         "Urban Land": 0.1,
         "_deepnote_index_column": 12
        },
        {
         "Biocapacity Deficit or Reserve": -0.35,
         "Carbon Footprint": 0.26,
         "Countries Required": 1.92,
         "Country": "Bangladesh",
         "Cropland": 0.25,
         "Cropland Footprint": 0.29,
         "Data Quality": "6",
         "Earths Required": 0.42,
         "Fish Footprint": 0.02,
         "Fishing Water": 0.05,
         "Forest Footprint": 0.08,
         "Forest Land": 0,
         "GDP per Capita": "$857.50",
         "Grazing Footprint": 0,
         "Grazing Land": 0,
         "HDI": 0.56,
         "Population (millions)": 154.7,
         "Region": "Asia-Pacific",
         "Total Biocapacity": 0.38,
         "Total Ecological Footprint": 0.72,
         "Urban Land": 0.07,
         "_deepnote_index_column": 13
        },
        {
         "Biocapacity Deficit or Reserve": -4.29,
         "Carbon Footprint": 3.28,
         "Countries Required": 23.79,
         "Country": "Barbados",
         "Cropland": 0.08,
         "Cropland Footprint": 0.56,
         "Data Quality": "5",
         "Earths Required": 2.58,
         "Fish Footprint": 0.22,
         "Fishing Water": 0.04,
         "Forest Footprint": 0.14,
         "Forest Land": 0.02,
         "GDP per Capita": "$15,722.80",
         "Grazing Footprint": 0.24,
         "Grazing Land": 0,
         "HDI": 0.79,
         "Population (millions)": 0.28,
         "Region": "Latin America",
         "Total Biocapacity": 0.19,
         "Total Ecological Footprint": 4.48,
         "Urban Land": 0.04,
         "_deepnote_index_column": 14
        },
        {
         "Biocapacity Deficit or Reserve": -1.45,
         "Carbon Footprint": 2.57,
         "Countries Required": 1.4,
         "Country": "Belarus",
         "Cropland": 1.52,
         "Cropland Footprint": 1.32,
         "Data Quality": "6",
         "Earths Required": 2.94,
         "Fish Footprint": 0.08,
         "Fishing Water": 0.02,
         "Forest Footprint": 0.91,
         "Forest Land": 1.71,
         "GDP per Capita": "$6,300.45",
         "Grazing Footprint": 0.12,
         "Grazing Land": 0.3,
         "HDI": 0.8,
         "Population (millions)": 9.4,
         "Region": "Northern/Eastern Europe",
         "Total Biocapacity": 3.64,
         "Total Ecological Footprint": 5.09,
         "Urban Land": 0.09,
         "_deepnote_index_column": 15
        },
        {
         "Biocapacity Deficit or Reserve": -6.25,
         "Carbon Footprint": 4.43,
         "Countries Required": 6.27,
         "Country": "Belgium",
         "Cropland": 0.56,
         "Cropland Footprint": 1.15,
         "Data Quality": "6",
         "Earths Required": 4.3,
         "Fish Footprint": 0.12,
         "Fishing Water": 0.04,
         "Forest Footprint": 0.99,
         "Forest Land": 0.28,
         "GDP per Capita": "$48,053.30",
         "Grazing Footprint": 0.48,
         "Grazing Land": 0.03,
         "HDI": 0.89,
         "Population (millions)": 11.06,
         "Region": "European Union",
         "Total Biocapacity": 1.19,
         "Total Ecological Footprint": 7.44,
         "Urban Land": 0.27,
         "_deepnote_index_column": 16
        },
        {
         "Biocapacity Deficit or Reserve": -0.53,
         "Carbon Footprint": 0.51,
         "Countries Required": 1.61,
         "Country": "Benin",
         "Cropland": 0.44,
         "Cropland Footprint": 0.49,
         "Data Quality": "6",
         "Earths Required": 0.81,
         "Fish Footprint": 0.08,
         "Fishing Water": 0.02,
         "Forest Footprint": 0.26,
         "Forest Land": 0.34,
         "GDP per Capita": "$746.83",
         "Grazing Footprint": 0.04,
         "Grazing Land": 0.04,
         "HDI": 0.48,
         "Population (millions)": 10.05,
         "Region": "Africa",
         "Total Biocapacity": 0.88,
         "Total Ecological Footprint": 1.41,
         "Urban Land": 0.04,
         "_deepnote_index_column": 17
        },
        {
         "Biocapacity Deficit or Reserve": -5.64,
         "Carbon Footprint": "nan",
         "Countries Required": 44.05,
         "Country": "Bermuda",
         "Cropland": "nan",
         "Cropland Footprint": "nan",
         "Data Quality": "3T",
         "Earths Required": 3.33,
         "Fish Footprint": "nan",
         "Fishing Water": "nan",
         "Forest Footprint": "nan",
         "Forest Land": "nan",
         "GDP per Capita": "$70,626.30",
         "Grazing Footprint": "nan",
         "Grazing Land": "nan",
         "HDI": "nan",
         "Population (millions)": 0.06,
         "Region": "North America",
         "Total Biocapacity": 0.13,
         "Total Ecological Footprint": 5.77,
         "Urban Land": "nan",
         "_deepnote_index_column": 18
        },
        {
         "Biocapacity Deficit or Reserve": 0.43,
         "Carbon Footprint": 0.63,
         "Countries Required": 0.92,
         "Country": "Bhutan",
         "Cropland": 0.28,
         "Cropland Footprint": 0.5,
         "Data Quality": "3B",
         "Earths Required": 2.8,
         "Fish Footprint": 0.02,
         "Fishing Water": 0.01,
         "Forest Footprint": 3.03,
         "Forest Land": 4.38,
         "GDP per Capita": "$2,395.00",
         "Grazing Footprint": 0.42,
         "Grazing Land": 0.34,
         "HDI": 0.59,
         "Population (millions)": 0.74,
         "Region": "Asia-Pacific",
         "Total Biocapacity": 5.27,
         "Total Ecological Footprint": 4.84,
         "Urban Land": 0.25,
         "_deepnote_index_column": 19
        },
        {
         "Biocapacity Deficit or Reserve": 13.77,
         "Carbon Footprint": 0.67,
         "Countries Required": 0.18,
         "Country": "Bolivia",
         "Cropland": 0.59,
         "Cropland Footprint": 0.37,
         "Data Quality": "5",
         "Earths Required": 1.71,
         "Fish Footprint": 0.01,
         "Fishing Water": 0.05,
         "Forest Footprint": 0.17,
         "Forest Land": 13.86,
         "GDP per Capita": "$2,253.09",
         "Grazing Footprint": 1.69,
         "Grazing Land": 2.18,
         "HDI": 0.65,
         "Population (millions)": 10.5,
         "Region": "Latin America",
         "Total Biocapacity": 16.73,
         "Total Ecological Footprint": 2.96,
         "Urban Land": 0.06,
         "_deepnote_index_column": 20
        },
        {
         "Biocapacity Deficit or Reserve": -1.49,
         "Carbon Footprint": 1.74,
         "Countries Required": 1.91,
         "Country": "Bosnia and Herzegovina",
         "Cropland": 0.3,
         "Cropland Footprint": 0.63,
         "Data Quality": "5",
         "Earths Required": 1.8,
         "Fish Footprint": 0.02,
         "Fishing Water": 0,
         "Forest Footprint": 0.44,
         "Forest Land": 1.13,
         "GDP per Capita": "$4,708.85",
         "Grazing Footprint": 0.27,
         "Grazing Land": 0.19,
         "HDI": 0.73,
         "Population (millions)": 3.83,
         "Region": "Northern/Eastern Europe",
         "Total Biocapacity": 1.63,
         "Total Ecological Footprint": 3.12,
         "Urban Land": 0.02,
         "_deepnote_index_column": 21
        },
        {
         "Biocapacity Deficit or Reserve": -0.35,
         "Carbon Footprint": 2.36,
         "Countries Required": 1.1,
         "Country": "Botswana",
         "Cropland": 0.06,
         "Cropland Footprint": 0.3,
         "Data Quality": "3B",
         "Earths Required": 2.21,
         "Fish Footprint": 0.01,
         "Fishing Water": 0.27,
         "Forest Footprint": 0.24,
         "Forest Land": 0.63,
         "GDP per Capita": "$7,743.50",
         "Grazing Footprint": 0.89,
         "Grazing Land": 2.49,
         "HDI": 0.69,
         "Population (millions)": 2,
         "Region": "Africa",
         "Total Biocapacity": 3.47,
         "Total Ecological Footprint": 3.83,
         "Urban Land": 0.02,
         "_deepnote_index_column": 22
        }
       ]
      },
      "text/html": [
       "<div>\n",
       "<style scoped>\n",
       "    .dataframe tbody tr th:only-of-type {\n",
       "        vertical-align: middle;\n",
       "    }\n",
       "\n",
       "    .dataframe tbody tr th {\n",
       "        vertical-align: top;\n",
       "    }\n",
       "\n",
       "    .dataframe thead th {\n",
       "        text-align: right;\n",
       "    }\n",
       "</style>\n",
       "<table border=\"1\" class=\"dataframe\">\n",
       "  <thead>\n",
       "    <tr style=\"text-align: right;\">\n",
       "      <th></th>\n",
       "      <th>Country</th>\n",
       "      <th>Region</th>\n",
       "      <th>Population (millions)</th>\n",
       "      <th>HDI</th>\n",
       "      <th>GDP per Capita</th>\n",
       "      <th>Cropland Footprint</th>\n",
       "      <th>Grazing Footprint</th>\n",
       "      <th>Forest Footprint</th>\n",
       "      <th>Carbon Footprint</th>\n",
       "      <th>Fish Footprint</th>\n",
       "      <th>...</th>\n",
       "      <th>Cropland</th>\n",
       "      <th>Grazing Land</th>\n",
       "      <th>Forest Land</th>\n",
       "      <th>Fishing Water</th>\n",
       "      <th>Urban Land</th>\n",
       "      <th>Total Biocapacity</th>\n",
       "      <th>Biocapacity Deficit or Reserve</th>\n",
       "      <th>Earths Required</th>\n",
       "      <th>Countries Required</th>\n",
       "      <th>Data Quality</th>\n",
       "    </tr>\n",
       "  </thead>\n",
       "  <tbody>\n",
       "    <tr>\n",
       "      <th>0</th>\n",
       "      <td>Afghanistan</td>\n",
       "      <td>Middle East/Central Asia</td>\n",
       "      <td>29.82</td>\n",
       "      <td>0.46</td>\n",
       "      <td>$614.66</td>\n",
       "      <td>0.30</td>\n",
       "      <td>0.20</td>\n",
       "      <td>0.08</td>\n",
       "      <td>0.18</td>\n",
       "      <td>0.00</td>\n",
       "      <td>...</td>\n",
       "      <td>0.24</td>\n",
       "      <td>0.20</td>\n",
       "      <td>0.02</td>\n",
       "      <td>0.00</td>\n",
       "      <td>0.04</td>\n",
       "      <td>0.50</td>\n",
       "      <td>-0.30</td>\n",
       "      <td>0.46</td>\n",
       "      <td>1.60</td>\n",
       "      <td>6</td>\n",
       "    </tr>\n",
       "    <tr>\n",
       "      <th>1</th>\n",
       "      <td>Albania</td>\n",
       "      <td>Northern/Eastern Europe</td>\n",
       "      <td>3.16</td>\n",
       "      <td>0.73</td>\n",
       "      <td>$4,534.37</td>\n",
       "      <td>0.78</td>\n",
       "      <td>0.22</td>\n",
       "      <td>0.25</td>\n",
       "      <td>0.87</td>\n",
       "      <td>0.02</td>\n",
       "      <td>...</td>\n",
       "      <td>0.55</td>\n",
       "      <td>0.21</td>\n",
       "      <td>0.29</td>\n",
       "      <td>0.07</td>\n",
       "      <td>0.06</td>\n",
       "      <td>1.18</td>\n",
       "      <td>-1.03</td>\n",
       "      <td>1.27</td>\n",
       "      <td>1.87</td>\n",
       "      <td>6</td>\n",
       "    </tr>\n",
       "    <tr>\n",
       "      <th>2</th>\n",
       "      <td>Algeria</td>\n",
       "      <td>Africa</td>\n",
       "      <td>38.48</td>\n",
       "      <td>0.73</td>\n",
       "      <td>$5,430.57</td>\n",
       "      <td>0.60</td>\n",
       "      <td>0.16</td>\n",
       "      <td>0.17</td>\n",
       "      <td>1.14</td>\n",
       "      <td>0.01</td>\n",
       "      <td>...</td>\n",
       "      <td>0.24</td>\n",
       "      <td>0.27</td>\n",
       "      <td>0.03</td>\n",
       "      <td>0.01</td>\n",
       "      <td>0.03</td>\n",
       "      <td>0.59</td>\n",
       "      <td>-1.53</td>\n",
       "      <td>1.22</td>\n",
       "      <td>3.61</td>\n",
       "      <td>5</td>\n",
       "    </tr>\n",
       "    <tr>\n",
       "      <th>3</th>\n",
       "      <td>Angola</td>\n",
       "      <td>Africa</td>\n",
       "      <td>20.82</td>\n",
       "      <td>0.52</td>\n",
       "      <td>$4,665.91</td>\n",
       "      <td>0.33</td>\n",
       "      <td>0.15</td>\n",
       "      <td>0.12</td>\n",
       "      <td>0.20</td>\n",
       "      <td>0.09</td>\n",
       "      <td>...</td>\n",
       "      <td>0.20</td>\n",
       "      <td>1.42</td>\n",
       "      <td>0.64</td>\n",
       "      <td>0.26</td>\n",
       "      <td>0.04</td>\n",
       "      <td>2.55</td>\n",
       "      <td>1.61</td>\n",
       "      <td>0.54</td>\n",
       "      <td>0.37</td>\n",
       "      <td>6</td>\n",
       "    </tr>\n",
       "    <tr>\n",
       "      <th>4</th>\n",
       "      <td>Antigua and Barbuda</td>\n",
       "      <td>Latin America</td>\n",
       "      <td>0.09</td>\n",
       "      <td>0.78</td>\n",
       "      <td>$13,205.10</td>\n",
       "      <td>NaN</td>\n",
       "      <td>NaN</td>\n",
       "      <td>NaN</td>\n",
       "      <td>NaN</td>\n",
       "      <td>NaN</td>\n",
       "      <td>...</td>\n",
       "      <td>NaN</td>\n",
       "      <td>NaN</td>\n",
       "      <td>NaN</td>\n",
       "      <td>NaN</td>\n",
       "      <td>NaN</td>\n",
       "      <td>0.94</td>\n",
       "      <td>-4.44</td>\n",
       "      <td>3.11</td>\n",
       "      <td>5.70</td>\n",
       "      <td>2</td>\n",
       "    </tr>\n",
       "    <tr>\n",
       "      <th>...</th>\n",
       "      <td>...</td>\n",
       "      <td>...</td>\n",
       "      <td>...</td>\n",
       "      <td>...</td>\n",
       "      <td>...</td>\n",
       "      <td>...</td>\n",
       "      <td>...</td>\n",
       "      <td>...</td>\n",
       "      <td>...</td>\n",
       "      <td>...</td>\n",
       "      <td>...</td>\n",
       "      <td>...</td>\n",
       "      <td>...</td>\n",
       "      <td>...</td>\n",
       "      <td>...</td>\n",
       "      <td>...</td>\n",
       "      <td>...</td>\n",
       "      <td>...</td>\n",
       "      <td>...</td>\n",
       "      <td>...</td>\n",
       "      <td>...</td>\n",
       "    </tr>\n",
       "    <tr>\n",
       "      <th>183</th>\n",
       "      <td>Viet Nam</td>\n",
       "      <td>Asia-Pacific</td>\n",
       "      <td>90.80</td>\n",
       "      <td>0.66</td>\n",
       "      <td>$1,532.31</td>\n",
       "      <td>0.50</td>\n",
       "      <td>0.01</td>\n",
       "      <td>0.19</td>\n",
       "      <td>0.79</td>\n",
       "      <td>0.05</td>\n",
       "      <td>...</td>\n",
       "      <td>0.55</td>\n",
       "      <td>0.01</td>\n",
       "      <td>0.17</td>\n",
       "      <td>0.16</td>\n",
       "      <td>0.10</td>\n",
       "      <td>1.00</td>\n",
       "      <td>-0.65</td>\n",
       "      <td>0.95</td>\n",
       "      <td>1.66</td>\n",
       "      <td>6</td>\n",
       "    </tr>\n",
       "    <tr>\n",
       "      <th>184</th>\n",
       "      <td>Wallis and Futuna Islands</td>\n",
       "      <td>Asia-Pacific</td>\n",
       "      <td>0.01</td>\n",
       "      <td>NaN</td>\n",
       "      <td>NaN</td>\n",
       "      <td>NaN</td>\n",
       "      <td>NaN</td>\n",
       "      <td>NaN</td>\n",
       "      <td>NaN</td>\n",
       "      <td>NaN</td>\n",
       "      <td>...</td>\n",
       "      <td>NaN</td>\n",
       "      <td>NaN</td>\n",
       "      <td>NaN</td>\n",
       "      <td>NaN</td>\n",
       "      <td>NaN</td>\n",
       "      <td>1.51</td>\n",
       "      <td>-0.56</td>\n",
       "      <td>1.19</td>\n",
       "      <td>1.37</td>\n",
       "      <td>3T</td>\n",
       "    </tr>\n",
       "    <tr>\n",
       "      <th>185</th>\n",
       "      <td>Yemen</td>\n",
       "      <td>Middle East/Central Asia</td>\n",
       "      <td>23.85</td>\n",
       "      <td>0.50</td>\n",
       "      <td>$1,302.30</td>\n",
       "      <td>0.34</td>\n",
       "      <td>0.14</td>\n",
       "      <td>0.04</td>\n",
       "      <td>0.42</td>\n",
       "      <td>0.04</td>\n",
       "      <td>...</td>\n",
       "      <td>0.09</td>\n",
       "      <td>0.12</td>\n",
       "      <td>0.04</td>\n",
       "      <td>0.20</td>\n",
       "      <td>0.04</td>\n",
       "      <td>0.50</td>\n",
       "      <td>-0.53</td>\n",
       "      <td>0.59</td>\n",
       "      <td>2.06</td>\n",
       "      <td>5</td>\n",
       "    </tr>\n",
       "    <tr>\n",
       "      <th>186</th>\n",
       "      <td>Zambia</td>\n",
       "      <td>Africa</td>\n",
       "      <td>14.08</td>\n",
       "      <td>0.58</td>\n",
       "      <td>$1,740.64</td>\n",
       "      <td>0.19</td>\n",
       "      <td>0.18</td>\n",
       "      <td>0.33</td>\n",
       "      <td>0.24</td>\n",
       "      <td>0.01</td>\n",
       "      <td>...</td>\n",
       "      <td>0.24</td>\n",
       "      <td>0.94</td>\n",
       "      <td>0.99</td>\n",
       "      <td>0.02</td>\n",
       "      <td>0.04</td>\n",
       "      <td>2.23</td>\n",
       "      <td>1.24</td>\n",
       "      <td>0.57</td>\n",
       "      <td>0.44</td>\n",
       "      <td>6</td>\n",
       "    </tr>\n",
       "    <tr>\n",
       "      <th>187</th>\n",
       "      <td>Zimbabwe</td>\n",
       "      <td>Africa</td>\n",
       "      <td>13.72</td>\n",
       "      <td>0.49</td>\n",
       "      <td>$865.91</td>\n",
       "      <td>0.20</td>\n",
       "      <td>0.32</td>\n",
       "      <td>0.29</td>\n",
       "      <td>0.53</td>\n",
       "      <td>0.01</td>\n",
       "      <td>...</td>\n",
       "      <td>0.15</td>\n",
       "      <td>0.32</td>\n",
       "      <td>0.12</td>\n",
       "      <td>0.01</td>\n",
       "      <td>0.02</td>\n",
       "      <td>0.62</td>\n",
       "      <td>-0.75</td>\n",
       "      <td>0.79</td>\n",
       "      <td>2.20</td>\n",
       "      <td>6</td>\n",
       "    </tr>\n",
       "  </tbody>\n",
       "</table>\n",
       "<p>188 rows × 21 columns</p>\n",
       "</div>"
      ],
      "text/plain": [
       "                       Country                    Region  \\\n",
       "0                  Afghanistan  Middle East/Central Asia   \n",
       "1                      Albania   Northern/Eastern Europe   \n",
       "2                      Algeria                    Africa   \n",
       "3                       Angola                    Africa   \n",
       "4          Antigua and Barbuda             Latin America   \n",
       "..                         ...                       ...   \n",
       "183                   Viet Nam              Asia-Pacific   \n",
       "184  Wallis and Futuna Islands              Asia-Pacific   \n",
       "185                      Yemen  Middle East/Central Asia   \n",
       "186                     Zambia                    Africa   \n",
       "187                   Zimbabwe                    Africa   \n",
       "\n",
       "     Population (millions)   HDI GDP per Capita  Cropland Footprint  \\\n",
       "0                    29.82  0.46        $614.66                0.30   \n",
       "1                     3.16  0.73      $4,534.37                0.78   \n",
       "2                    38.48  0.73      $5,430.57                0.60   \n",
       "3                    20.82  0.52      $4,665.91                0.33   \n",
       "4                     0.09  0.78     $13,205.10                 NaN   \n",
       "..                     ...   ...            ...                 ...   \n",
       "183                  90.80  0.66      $1,532.31                0.50   \n",
       "184                   0.01   NaN            NaN                 NaN   \n",
       "185                  23.85  0.50      $1,302.30                0.34   \n",
       "186                  14.08  0.58      $1,740.64                0.19   \n",
       "187                  13.72  0.49        $865.91                0.20   \n",
       "\n",
       "     Grazing Footprint  Forest Footprint  Carbon Footprint  Fish Footprint  \\\n",
       "0                 0.20              0.08              0.18            0.00   \n",
       "1                 0.22              0.25              0.87            0.02   \n",
       "2                 0.16              0.17              1.14            0.01   \n",
       "3                 0.15              0.12              0.20            0.09   \n",
       "4                  NaN               NaN               NaN             NaN   \n",
       "..                 ...               ...               ...             ...   \n",
       "183               0.01              0.19              0.79            0.05   \n",
       "184                NaN               NaN               NaN             NaN   \n",
       "185               0.14              0.04              0.42            0.04   \n",
       "186               0.18              0.33              0.24            0.01   \n",
       "187               0.32              0.29              0.53            0.01   \n",
       "\n",
       "     ...  Cropland  Grazing Land  Forest Land  Fishing Water  Urban Land  \\\n",
       "0    ...      0.24          0.20         0.02           0.00        0.04   \n",
       "1    ...      0.55          0.21         0.29           0.07        0.06   \n",
       "2    ...      0.24          0.27         0.03           0.01        0.03   \n",
       "3    ...      0.20          1.42         0.64           0.26        0.04   \n",
       "4    ...       NaN           NaN          NaN            NaN         NaN   \n",
       "..   ...       ...           ...          ...            ...         ...   \n",
       "183  ...      0.55          0.01         0.17           0.16        0.10   \n",
       "184  ...       NaN           NaN          NaN            NaN         NaN   \n",
       "185  ...      0.09          0.12         0.04           0.20        0.04   \n",
       "186  ...      0.24          0.94         0.99           0.02        0.04   \n",
       "187  ...      0.15          0.32         0.12           0.01        0.02   \n",
       "\n",
       "     Total Biocapacity  Biocapacity Deficit or Reserve  Earths Required  \\\n",
       "0                 0.50                           -0.30             0.46   \n",
       "1                 1.18                           -1.03             1.27   \n",
       "2                 0.59                           -1.53             1.22   \n",
       "3                 2.55                            1.61             0.54   \n",
       "4                 0.94                           -4.44             3.11   \n",
       "..                 ...                             ...              ...   \n",
       "183               1.00                           -0.65             0.95   \n",
       "184               1.51                           -0.56             1.19   \n",
       "185               0.50                           -0.53             0.59   \n",
       "186               2.23                            1.24             0.57   \n",
       "187               0.62                           -0.75             0.79   \n",
       "\n",
       "     Countries Required  Data Quality  \n",
       "0                  1.60             6  \n",
       "1                  1.87             6  \n",
       "2                  3.61             5  \n",
       "3                  0.37             6  \n",
       "4                  5.70             2  \n",
       "..                  ...           ...  \n",
       "183                1.66             6  \n",
       "184                1.37            3T  \n",
       "185                2.06             5  \n",
       "186                0.44             6  \n",
       "187                2.20             6  \n",
       "\n",
       "[188 rows x 21 columns]"
      ]
     },
     "execution_count": 2,
     "metadata": {},
     "output_type": "execute_result"
    }
   ],
   "source": [
    "countries = pd.read_csv('countries.csv')\n",
    "countries"
   ]
  },
  {
   "cell_type": "code",
   "execution_count": null,
   "metadata": {
    "cell_id": "26c4c671-8430-41b2-be25-343327f39ece",
    "deepnote_cell_type": "code",
    "output_cleared": false,
    "tags": []
   },
   "outputs": [
    {
     "data": {
      "text/plain": [
       "(188, 21)"
      ]
     },
     "execution_count": 3,
     "metadata": {},
     "output_type": "execute_result"
    }
   ],
   "source": [
    "countries.shape"
   ]
  },
  {
   "cell_type": "markdown",
   "metadata": {
    "cell_id": "ed76c868-fbb7-45ef-8730-446e71bc662a",
    "deepnote_cell_type": "markdown",
    "tags": []
   },
   "source": [
    "We see that the `countries` dataset has `188` rows and `21` columns, so our dataset is already rectangular. Next, let's look at the columns and their data types.\n",
    "\n",
    "We can see the type of each column by calling `df.dtypes`"
   ]
  },
  {
   "cell_type": "code",
   "execution_count": null,
   "metadata": {
    "cell_id": "39f163ee-fe2e-4220-949c-f16a06065c8a",
    "deepnote_cell_type": "code",
    "tags": []
   },
   "outputs": [
    {
     "data": {
      "text/plain": [
       "Country                            object\n",
       "Region                             object\n",
       "Population (millions)             float64\n",
       "HDI                               float64\n",
       "GDP per Capita                     object\n",
       "Cropland Footprint                float64\n",
       "Grazing Footprint                 float64\n",
       "Forest Footprint                  float64\n",
       "Carbon Footprint                  float64\n",
       "Fish Footprint                    float64\n",
       "Total Ecological Footprint        float64\n",
       "Cropland                          float64\n",
       "Grazing Land                      float64\n",
       "Forest Land                       float64\n",
       "Fishing Water                     float64\n",
       "Urban Land                        float64\n",
       "Total Biocapacity                 float64\n",
       "Biocapacity Deficit or Reserve    float64\n",
       "Earths Required                   float64\n",
       "Countries Required                float64\n",
       "Data Quality                       object\n",
       "dtype: object"
      ]
     },
     "execution_count": 40,
     "metadata": {},
     "output_type": "execute_result"
    }
   ],
   "source": [
    "countries.dtypes"
   ]
  },
  {
   "cell_type": "markdown",
   "metadata": {
    "cell_id": "05c5a570-9cc9-401b-807c-92117ca195f8",
    "deepnote_cell_type": "markdown",
    "tags": []
   },
   "source": [
    "We can see that most of the data types are what we expect them to be. Categorial variables like `Region` are represented as \"objects\" in pandas, which are effectively the same as strings.\n",
    "\n",
    "We also see that the `GDP per Capita` column is also of type `object`, but it should be a numeric variable because it is a value that we can calculate, sort, and apply numeric functions on. \n",
    "\n",
    "Let's look at why it is an `object` and not a numeric type.\n"
   ]
  },
  {
   "cell_type": "code",
   "execution_count": null,
   "metadata": {
    "cell_id": "ed519f6d-fde7-43c0-bd68-4609faf432ed",
    "deepnote_cell_type": "code",
    "tags": []
   },
   "outputs": [
    {
     "data": {
      "text/plain": [
       "0         $614.66\n",
       "1       $4,534.37\n",
       "2       $5,430.57\n",
       "3       $4,665.91\n",
       "4      $13,205.10\n",
       "          ...    \n",
       "183     $1,532.31\n",
       "184           NaN\n",
       "185     $1,302.30\n",
       "186     $1,740.64\n",
       "187       $865.91\n",
       "Name: GDP per Capita, Length: 188, dtype: object"
      ]
     },
     "execution_count": 41,
     "metadata": {},
     "output_type": "execute_result"
    }
   ],
   "source": [
    "countries['GDP per Capita']"
   ]
  },
  {
   "cell_type": "markdown",
   "metadata": {
    "cell_id": "d1549256-ec92-455b-9283-fd088427ef7d",
    "deepnote_cell_type": "markdown",
    "tags": []
   },
   "source": [
    "Interestingly, we see that `GDP per Capita` is represented as a string which goes against our intuition that GDP is a numeric quantity. "
   ]
  },
  {
   "cell_type": "code",
   "execution_count": null,
   "metadata": {
    "cell_id": "3c58e0e1-6673-40a5-ac97-59383ff96998",
    "deepnote_cell_type": "code",
    "tags": []
   },
   "outputs": [
    {
     "data": {
      "text/plain": [
       "0       $614.66\n",
       "1     $4,534.37\n",
       "2     $5,430.57\n",
       "3     $4,665.91\n",
       "4    $13,205.10\n",
       "Name: GDP per Capita, dtype: object"
      ]
     },
     "execution_count": 42,
     "metadata": {},
     "output_type": "execute_result"
    }
   ],
   "source": [
    "countries['GDP per Capita'].head()"
   ]
  },
  {
   "cell_type": "markdown",
   "metadata": {
    "cell_id": "e84f70c0-be09-4609-8352-3dec701bd831",
    "deepnote_cell_type": "markdown",
    "tags": []
   },
   "source": [
    "We see that the values contain the '$' symbol and the ',' symbol. We need to get rid of these strings and convert the data to a numeric type such as `float`.\n",
    "\n",
    "Pandas has a function to replace patterns in strings. The `.str.replace(pat, repl)` method searches for all instances of `pat` in a series and replaces it with `repl`.\n",
    "\n",
    "The expression below looks for all instances of `,` and `$` and replaces it with the empty string."
   ]
  },
  {
   "cell_type": "code",
   "execution_count": null,
   "metadata": {
    "cell_id": "c74ff17a-7f7d-4d2e-ad45-f87944377b79",
    "deepnote_cell_type": "code",
    "tags": []
   },
   "outputs": [
    {
     "data": {
      "text/plain": [
       "0        614.66\n",
       "1       4534.37\n",
       "2       5430.57\n",
       "3       4665.91\n",
       "4      13205.10\n",
       "         ...   \n",
       "183     1532.31\n",
       "184         NaN\n",
       "185     1302.30\n",
       "186     1740.64\n",
       "187      865.91\n",
       "Name: GDP per Capita, Length: 188, dtype: object"
      ]
     },
     "execution_count": 43,
     "metadata": {},
     "output_type": "execute_result"
    }
   ],
   "source": [
    "countries['GDP per Capita'] = countries['GDP per Capita'].str.replace(pat=',', repl = '').str.replace('$', '')\n",
    "countries['GDP per Capita']"
   ]
  },
  {
   "cell_type": "markdown",
   "metadata": {
    "cell_id": "1be46dac-5b83-47aa-b2b6-931785071d85",
    "deepnote_cell_type": "markdown",
    "tags": []
   },
   "source": [
    "Despite removing the problematic symbols, our series is still of type `object`. \n",
    "\n",
    "To convert it to a float, we can use the function `series.astype(type)`."
   ]
  },
  {
   "cell_type": "code",
   "execution_count": null,
   "metadata": {
    "cell_id": "96c3cc0b-f443-45ce-be41-2eb9c7738cd5",
    "deepnote_cell_type": "code",
    "tags": []
   },
   "outputs": [
    {
     "data": {
      "text/plain": [
       "0        614.66\n",
       "1       4534.37\n",
       "2       5430.57\n",
       "3       4665.91\n",
       "4      13205.10\n",
       "         ...   \n",
       "183     1532.31\n",
       "184         NaN\n",
       "185     1302.30\n",
       "186     1740.64\n",
       "187      865.91\n",
       "Name: GDP per Capita, Length: 188, dtype: float64"
      ]
     },
     "execution_count": 44,
     "metadata": {},
     "output_type": "execute_result"
    }
   ],
   "source": [
    "countries['GDP per Capita'] = countries['GDP per Capita'].astype(float)\n",
    "countries['GDP per Capita']"
   ]
  },
  {
   "cell_type": "code",
   "execution_count": null,
   "metadata": {
    "cell_id": "b63ad612-1fce-4c6e-93f6-baf58324d6e3",
    "deepnote_cell_type": "code",
    "tags": []
   },
   "outputs": [
    {
     "ename": "ImportError",
     "evalue": "cannot import name '_is_url' from 'pandas.io.common' (/opt/venv/lib/python3.7/site-packages/pandas/io/common.py)",
     "output_type": "error",
     "traceback": [
      "\u001b[0;31m---------------------------------------------------------------------------\u001b[0m",
      "\u001b[0;31mImportError\u001b[0m                               Traceback (most recent call last)",
      "\u001b[0;32m/opt/venv/lib/python3.7/site-packages/IPython/core/formatters.py\u001b[0m in \u001b[0;36m__call__\u001b[0;34m(self, obj)\u001b[0m\n\u001b[1;32m    343\u001b[0m             \u001b[0mmethod\u001b[0m \u001b[0;34m=\u001b[0m \u001b[0mget_real_method\u001b[0m\u001b[0;34m(\u001b[0m\u001b[0mobj\u001b[0m\u001b[0;34m,\u001b[0m \u001b[0mself\u001b[0m\u001b[0;34m.\u001b[0m\u001b[0mprint_method\u001b[0m\u001b[0;34m)\u001b[0m\u001b[0;34m\u001b[0m\u001b[0;34m\u001b[0m\u001b[0m\n\u001b[1;32m    344\u001b[0m             \u001b[0;32mif\u001b[0m \u001b[0mmethod\u001b[0m \u001b[0;32mis\u001b[0m \u001b[0;32mnot\u001b[0m \u001b[0;32mNone\u001b[0m\u001b[0;34m:\u001b[0m\u001b[0;34m\u001b[0m\u001b[0;34m\u001b[0m\u001b[0m\n\u001b[0;32m--> 345\u001b[0;31m                 \u001b[0;32mreturn\u001b[0m \u001b[0mmethod\u001b[0m\u001b[0;34m(\u001b[0m\u001b[0;34m)\u001b[0m\u001b[0;34m\u001b[0m\u001b[0;34m\u001b[0m\u001b[0m\n\u001b[0m\u001b[1;32m    346\u001b[0m             \u001b[0;32mreturn\u001b[0m \u001b[0;32mNone\u001b[0m\u001b[0;34m\u001b[0m\u001b[0;34m\u001b[0m\u001b[0m\n\u001b[1;32m    347\u001b[0m         \u001b[0;32melse\u001b[0m\u001b[0;34m:\u001b[0m\u001b[0;34m\u001b[0m\u001b[0;34m\u001b[0m\u001b[0m\n",
      "\u001b[0;32m/opt/venv/lib/python3.7/site-packages/pandas/core/frame.py\u001b[0m in \u001b[0;36m_repr_html_\u001b[0;34m(self)\u001b[0m\n\u001b[1;32m    732\u001b[0m         \u001b[0;36m1\u001b[0m     \u001b[0;36m2\u001b[0m     \u001b[0;36m5\u001b[0m\u001b[0;34m\u001b[0m\u001b[0;34m\u001b[0m\u001b[0m\n\u001b[1;32m    733\u001b[0m         \u001b[0;36m2\u001b[0m     \u001b[0;36m3\u001b[0m     \u001b[0;36m6\u001b[0m\u001b[0;34m\u001b[0m\u001b[0;34m\u001b[0m\u001b[0m\n\u001b[0;32m--> 734\u001b[0;31m         \"\"\"\n\u001b[0m\u001b[1;32m    735\u001b[0m \u001b[0;34m\u001b[0m\u001b[0m\n\u001b[1;32m    736\u001b[0m         formatter = fmt.DataFrameFormatter(\n",
      "\u001b[0;32m/opt/venv/lib/python3.7/site-packages/pandas/io/formats/format.py\u001b[0m in \u001b[0;36mto_html\u001b[0;34m(self, buf, encoding, classes, notebook, border)\u001b[0m\n\u001b[1;32m    977\u001b[0m     \u001b[0mna_rep\u001b[0m\u001b[0;34m\u001b[0m\u001b[0;34m\u001b[0m\u001b[0m\n\u001b[1;32m    978\u001b[0m     \u001b[0mdigits\u001b[0m\u001b[0;34m\u001b[0m\u001b[0;34m\u001b[0m\u001b[0m\n\u001b[0;32m--> 979\u001b[0;31m     \u001b[0mspace\u001b[0m\u001b[0;34m\u001b[0m\u001b[0;34m\u001b[0m\u001b[0m\n\u001b[0m\u001b[1;32m    980\u001b[0m     \u001b[0mjustify\u001b[0m\u001b[0;34m\u001b[0m\u001b[0;34m\u001b[0m\u001b[0m\n\u001b[1;32m    981\u001b[0m     \u001b[0mdecimal\u001b[0m\u001b[0;34m\u001b[0m\u001b[0;34m\u001b[0m\u001b[0m\n",
      "\u001b[0;32m/opt/venv/lib/python3.7/site-packages/pandas/io/formats/html.py\u001b[0m in \u001b[0;36m<module>\u001b[0;34m\u001b[0m\n\u001b[1;32m     13\u001b[0m \u001b[0;32mfrom\u001b[0m \u001b[0mpandas\u001b[0m \u001b[0;32mimport\u001b[0m \u001b[0moption_context\u001b[0m\u001b[0;34m\u001b[0m\u001b[0;34m\u001b[0m\u001b[0m\n\u001b[1;32m     14\u001b[0m \u001b[0;34m\u001b[0m\u001b[0m\n\u001b[0;32m---> 15\u001b[0;31m \u001b[0;32mfrom\u001b[0m \u001b[0mpandas\u001b[0m\u001b[0;34m.\u001b[0m\u001b[0mio\u001b[0m\u001b[0;34m.\u001b[0m\u001b[0mcommon\u001b[0m \u001b[0;32mimport\u001b[0m \u001b[0m_is_url\u001b[0m\u001b[0;34m\u001b[0m\u001b[0;34m\u001b[0m\u001b[0m\n\u001b[0m\u001b[1;32m     16\u001b[0m from pandas.io.formats.format import (\n\u001b[1;32m     17\u001b[0m     \u001b[0mDataFrameFormatter\u001b[0m\u001b[0;34m,\u001b[0m\u001b[0;34m\u001b[0m\u001b[0;34m\u001b[0m\u001b[0m\n",
      "\u001b[0;31mImportError\u001b[0m: cannot import name '_is_url' from 'pandas.io.common' (/opt/venv/lib/python3.7/site-packages/pandas/io/common.py)"
     ]
    },
    {
     "data": {
      "application/vnd.deepnote.dataframe.v2+json": {
       "column_count": 21,
       "columns": [
        {
         "dtype": "object",
         "name": "Country",
         "stats": {
          "categories": [
           {
            "count": 1,
            "name": "Afghanistan"
           },
           {
            "count": 1,
            "name": "Albania"
           },
           {
            "count": 186,
            "name": "186 others"
           }
          ],
          "nan_count": 0,
          "unique_count": 188
         }
        },
        {
         "dtype": "object",
         "name": "Region",
         "stats": {
          "categories": [
           {
            "count": 52,
            "name": "Africa"
           },
           {
            "count": 39,
            "name": "Latin America"
           },
           {
            "count": 97,
            "name": "5 others"
           }
          ],
          "nan_count": 0,
          "unique_count": 7
         }
        },
        {
         "dtype": "float64",
         "name": "Population (millions)",
         "stats": {
          "histogram": [
           {
            "bin_end": 140.804,
            "bin_start": 0,
            "count": 179
           },
           {
            "bin_end": 281.608,
            "bin_start": 140.804,
            "count": 6
           },
           {
            "bin_end": 422.41200000000003,
            "bin_start": 281.608,
            "count": 1
           },
           {
            "bin_end": 563.216,
            "bin_start": 422.41200000000003,
            "count": 0
           },
           {
            "bin_end": 704.02,
            "bin_start": 563.216,
            "count": 0
           },
           {
            "bin_end": 844.8240000000001,
            "bin_start": 704.02,
            "count": 0
           },
           {
            "bin_end": 985.628,
            "bin_start": 844.8240000000001,
            "count": 0
           },
           {
            "bin_end": 1126.432,
            "bin_start": 985.628,
            "count": 0
           },
           {
            "bin_end": 1267.236,
            "bin_start": 1126.432,
            "count": 1
           },
           {
            "bin_end": 1408.04,
            "bin_start": 1267.236,
            "count": 1
           }
          ],
          "max": 1408.04,
          "min": 0,
          "nan_count": 0,
          "unique_count": 179
         }
        },
        {
         "dtype": "float64",
         "name": "HDI",
         "stats": {
          "histogram": [
           {
            "bin_end": 0.4,
            "bin_start": 0.34,
            "count": 6
           },
           {
            "bin_end": 0.45999999999999996,
            "bin_start": 0.4,
            "count": 10
           },
           {
            "bin_end": 0.52,
            "bin_start": 0.45999999999999996,
            "count": 19
           },
           {
            "bin_end": 0.58,
            "bin_start": 0.52,
            "count": 12
           },
           {
            "bin_end": 0.6399999999999999,
            "bin_start": 0.58,
            "count": 13
           },
           {
            "bin_end": 0.7,
            "bin_start": 0.6399999999999999,
            "count": 16
           },
           {
            "bin_end": 0.7599999999999999,
            "bin_start": 0.7,
            "count": 31
           },
           {
            "bin_end": 0.8199999999999998,
            "bin_start": 0.7599999999999999,
            "count": 23
           },
           {
            "bin_end": 0.8799999999999999,
            "bin_start": 0.8199999999999998,
            "count": 20
           },
           {
            "bin_end": 0.94,
            "bin_start": 0.8799999999999999,
            "count": 22
           }
          ],
          "max": 0.94,
          "min": 0.34,
          "nan_count": 16,
          "unique_count": 58
         }
        },
        {
         "dtype": "object",
         "name": "GDP per Capita",
         "stats": {
          "categories": [
           {
            "count": 1,
            "name": "$614.66"
           },
           {
            "count": 172,
            "name": "172 others"
           },
           {
            "count": 15,
            "name": "Missing"
           }
          ],
          "nan_count": 15,
          "unique_count": 173
         }
        },
        {
         "dtype": "float64",
         "name": "Cropland Footprint",
         "stats": {
          "histogram": [
           {
            "bin_end": 0.331,
            "bin_start": 0.07,
            "count": 37
           },
           {
            "bin_end": 0.5920000000000001,
            "bin_start": 0.331,
            "count": 69
           },
           {
            "bin_end": 0.853,
            "bin_start": 0.5920000000000001,
            "count": 45
           },
           {
            "bin_end": 1.114,
            "bin_start": 0.853,
            "count": 11
           },
           {
            "bin_end": 1.3750000000000002,
            "bin_start": 1.114,
            "count": 6
           },
           {
            "bin_end": 1.6360000000000001,
            "bin_start": 1.3750000000000002,
            "count": 2
           },
           {
            "bin_end": 1.897,
            "bin_start": 1.6360000000000001,
            "count": 1
           },
           {
            "bin_end": 2.158,
            "bin_start": 1.897,
            "count": 0
           },
           {
            "bin_end": 2.419,
            "bin_start": 2.158,
            "count": 1
           },
           {
            "bin_end": 2.68,
            "bin_start": 2.419,
            "count": 1
           }
          ],
          "max": 2.68,
          "min": 0.07,
          "nan_count": 15,
          "unique_count": 87
         }
        },
        {
         "dtype": "float64",
         "name": "Grazing Footprint",
         "stats": {
          "histogram": [
           {
            "bin_end": 0.34700000000000003,
            "bin_start": 0,
            "count": 138
           },
           {
            "bin_end": 0.6940000000000001,
            "bin_start": 0.34700000000000003,
            "count": 23
           },
           {
            "bin_end": 1.0410000000000001,
            "bin_start": 0.6940000000000001,
            "count": 7
           },
           {
            "bin_end": 1.3880000000000001,
            "bin_start": 1.0410000000000001,
            "count": 3
           },
           {
            "bin_end": 1.735,
            "bin_start": 1.3880000000000001,
            "count": 1
           },
           {
            "bin_end": 2.0820000000000003,
            "bin_start": 1.735,
            "count": 0
           },
           {
            "bin_end": 2.4290000000000003,
            "bin_start": 2.0820000000000003,
            "count": 0
           },
           {
            "bin_end": 2.7760000000000002,
            "bin_start": 2.4290000000000003,
            "count": 0
           },
           {
            "bin_end": 3.123,
            "bin_start": 2.7760000000000002,
            "count": 0
           },
           {
            "bin_end": 3.47,
            "bin_start": 3.123,
            "count": 1
           }
          ],
          "max": 3.47,
          "min": 0,
          "nan_count": 15,
          "unique_count": 62
         }
        },
        {
         "dtype": "float64",
         "name": "Forest Footprint",
         "stats": {
          "histogram": [
           {
            "bin_end": 0.312,
            "bin_start": 0.01,
            "count": 102
           },
           {
            "bin_end": 0.614,
            "bin_start": 0.312,
            "count": 41
           },
           {
            "bin_end": 0.9159999999999999,
            "bin_start": 0.614,
            "count": 20
           },
           {
            "bin_end": 1.218,
            "bin_start": 0.9159999999999999,
            "count": 5
           },
           {
            "bin_end": 1.52,
            "bin_start": 1.218,
            "count": 3
           },
           {
            "bin_end": 1.8219999999999998,
            "bin_start": 1.52,
            "count": 0
           },
           {
            "bin_end": 2.1239999999999997,
            "bin_start": 1.8219999999999998,
            "count": 1
           },
           {
            "bin_end": 2.4259999999999997,
            "bin_start": 2.1239999999999997,
            "count": 0
           },
           {
            "bin_end": 2.7279999999999998,
            "bin_start": 2.4259999999999997,
            "count": 0
           },
           {
            "bin_end": 3.03,
            "bin_start": 2.7279999999999998,
            "count": 1
           }
          ],
          "max": 3.03,
          "min": 0.01,
          "nan_count": 15,
          "unique_count": 69
         }
        },
        {
         "dtype": "float64",
         "name": "Carbon Footprint",
         "stats": {
          "histogram": [
           {
            "bin_end": 1.2650000000000001,
            "bin_start": 0,
            "count": 90
           },
           {
            "bin_end": 2.5300000000000002,
            "bin_start": 1.2650000000000001,
            "count": 37
           },
           {
            "bin_end": 3.7950000000000004,
            "bin_start": 2.5300000000000002,
            "count": 23
           },
           {
            "bin_end": 5.0600000000000005,
            "bin_start": 3.7950000000000004,
            "count": 14
           },
           {
            "bin_end": 6.325000000000001,
            "bin_start": 5.0600000000000005,
            "count": 4
           },
           {
            "bin_end": 7.590000000000001,
            "bin_start": 6.325000000000001,
            "count": 3
           },
           {
            "bin_end": 8.855,
            "bin_start": 7.590000000000001,
            "count": 0
           },
           {
            "bin_end": 10.120000000000001,
            "bin_start": 8.855,
            "count": 1
           },
           {
            "bin_end": 11.385000000000002,
            "bin_start": 10.120000000000001,
            "count": 0
           },
           {
            "bin_end": 12.65,
            "bin_start": 11.385000000000002,
            "count": 1
           }
          ],
          "max": 12.65,
          "min": 0,
          "nan_count": 15,
          "unique_count": 140
         }
        },
        {
         "dtype": "float64",
         "name": "Fish Footprint",
         "stats": {
          "histogram": [
           {
            "bin_end": 0.08199999999999999,
            "bin_start": 0,
            "count": 100
           },
           {
            "bin_end": 0.16399999999999998,
            "bin_start": 0.08199999999999999,
            "count": 33
           },
           {
            "bin_end": 0.24599999999999997,
            "bin_start": 0.16399999999999998,
            "count": 17
           },
           {
            "bin_end": 0.32799999999999996,
            "bin_start": 0.24599999999999997,
            "count": 7
           },
           {
            "bin_end": 0.4099999999999999,
            "bin_start": 0.32799999999999996,
            "count": 5
           },
           {
            "bin_end": 0.49199999999999994,
            "bin_start": 0.4099999999999999,
            "count": 4
           },
           {
            "bin_end": 0.574,
            "bin_start": 0.49199999999999994,
            "count": 1
           },
           {
            "bin_end": 0.6559999999999999,
            "bin_start": 0.574,
            "count": 1
           },
           {
            "bin_end": 0.7379999999999999,
            "bin_start": 0.6559999999999999,
            "count": 3
           },
           {
            "bin_end": 0.82,
            "bin_start": 0.7379999999999999,
            "count": 2
           }
          ],
          "max": 0.82,
          "min": 0,
          "nan_count": 15,
          "unique_count": 43
         }
        },
        {
         "dtype": "float64",
         "name": "Total Ecological Footprint",
         "stats": {
          "histogram": [
           {
            "bin_end": 1.96,
            "bin_start": 0.42,
            "count": 67
           },
           {
            "bin_end": 3.5,
            "bin_start": 1.96,
            "count": 52
           },
           {
            "bin_end": 5.04,
            "bin_start": 3.5,
            "count": 28
           },
           {
            "bin_end": 6.58,
            "bin_start": 5.04,
            "count": 24
           },
           {
            "bin_end": 8.120000000000001,
            "bin_start": 6.58,
            "count": 10
           },
           {
            "bin_end": 9.66,
            "bin_start": 8.120000000000001,
            "count": 4
           },
           {
            "bin_end": 11.200000000000001,
            "bin_start": 9.66,
            "count": 1
           },
           {
            "bin_end": 12.74,
            "bin_start": 11.200000000000001,
            "count": 1
           },
           {
            "bin_end": 14.28,
            "bin_start": 12.74,
            "count": 0
           },
           {
            "bin_end": 15.82,
            "bin_start": 14.28,
            "count": 1
           }
          ],
          "max": 15.82,
          "min": 0.42,
          "nan_count": 0,
          "unique_count": 156
         }
        },
        {
         "dtype": "float64",
         "name": "Cropland",
         "stats": {
          "histogram": [
           {
            "bin_end": 0.542,
            "bin_start": 0,
            "count": 121
           },
           {
            "bin_end": 1.084,
            "bin_start": 0.542,
            "count": 35
           },
           {
            "bin_end": 1.6260000000000001,
            "bin_start": 1.084,
            "count": 8
           },
           {
            "bin_end": 2.168,
            "bin_start": 1.6260000000000001,
            "count": 2
           },
           {
            "bin_end": 2.71,
            "bin_start": 2.168,
            "count": 3
           },
           {
            "bin_end": 3.2520000000000002,
            "bin_start": 2.71,
            "count": 3
           },
           {
            "bin_end": 3.7940000000000005,
            "bin_start": 3.2520000000000002,
            "count": 0
           },
           {
            "bin_end": 4.336,
            "bin_start": 3.7940000000000005,
            "count": 0
           },
           {
            "bin_end": 4.878,
            "bin_start": 4.336,
            "count": 0
           },
           {
            "bin_end": 5.42,
            "bin_start": 4.878,
            "count": 1
           }
          ],
          "max": 5.42,
          "min": 0,
          "nan_count": 15,
          "unique_count": 91
         }
        },
        {
         "dtype": "float64",
         "name": "Grazing Land",
         "stats": {
          "histogram": [
           {
            "bin_end": 0.8230000000000001,
            "bin_start": 0,
            "count": 151
           },
           {
            "bin_end": 1.6460000000000001,
            "bin_start": 0.8230000000000001,
            "count": 9
           },
           {
            "bin_end": 2.4690000000000003,
            "bin_start": 1.6460000000000001,
            "count": 5
           },
           {
            "bin_end": 3.2920000000000003,
            "bin_start": 2.4690000000000003,
            "count": 4
           },
           {
            "bin_end": 4.115,
            "bin_start": 3.2920000000000003,
            "count": 1
           },
           {
            "bin_end": 4.938000000000001,
            "bin_start": 4.115,
            "count": 1
           },
           {
            "bin_end": 5.761,
            "bin_start": 4.938000000000001,
            "count": 0
           },
           {
            "bin_end": 6.5840000000000005,
            "bin_start": 5.761,
            "count": 1
           },
           {
            "bin_end": 7.407000000000001,
            "bin_start": 6.5840000000000005,
            "count": 0
           },
           {
            "bin_end": 8.23,
            "bin_start": 7.407000000000001,
            "count": 1
           }
          ],
          "max": 8.23,
          "min": 0,
          "nan_count": 15,
          "unique_count": 69
         }
        },
        {
         "dtype": "float64",
         "name": "Forest Land",
         "stats": {
          "histogram": [
           {
            "bin_end": 9.516,
            "bin_start": 0,
            "count": 168
           },
           {
            "bin_end": 19.032,
            "bin_start": 9.516,
            "count": 1
           },
           {
            "bin_end": 28.548000000000002,
            "bin_start": 19.032,
            "count": 1
           },
           {
            "bin_end": 38.064,
            "bin_start": 28.548000000000002,
            "count": 0
           },
           {
            "bin_end": 47.58,
            "bin_start": 38.064,
            "count": 0
           },
           {
            "bin_end": 57.096000000000004,
            "bin_start": 47.58,
            "count": 0
           },
           {
            "bin_end": 66.612,
            "bin_start": 57.096000000000004,
            "count": 1
           },
           {
            "bin_end": 76.128,
            "bin_start": 66.612,
            "count": 0
           },
           {
            "bin_end": 85.644,
            "bin_start": 76.128,
            "count": 1
           },
           {
            "bin_end": 95.16,
            "bin_start": 85.644,
            "count": 1
           }
          ],
          "max": 95.16,
          "min": 0,
          "nan_count": 15,
          "unique_count": 99
         }
        },
        {
         "dtype": "float64",
         "name": "Fishing Water",
         "stats": {
          "histogram": [
           {
            "bin_end": 1.607,
            "bin_start": 0,
            "count": 157
           },
           {
            "bin_end": 3.214,
            "bin_start": 1.607,
            "count": 9
           },
           {
            "bin_end": 4.821,
            "bin_start": 3.214,
            "count": 2
           },
           {
            "bin_end": 6.428,
            "bin_start": 4.821,
            "count": 2
           },
           {
            "bin_end": 8.035,
            "bin_start": 6.428,
            "count": 1
           },
           {
            "bin_end": 9.642,
            "bin_start": 8.035,
            "count": 1
           },
           {
            "bin_end": 11.249,
            "bin_start": 9.642,
            "count": 0
           },
           {
            "bin_end": 12.856,
            "bin_start": 11.249,
            "count": 0
           },
           {
            "bin_end": 14.463,
            "bin_start": 12.856,
            "count": 0
           },
           {
            "bin_end": 16.07,
            "bin_start": 14.463,
            "count": 1
           }
          ],
          "max": 16.07,
          "min": 0,
          "nan_count": 15,
          "unique_count": 73
         }
        },
        {
         "dtype": "float64",
         "name": "Urban Land",
         "stats": {
          "histogram": [
           {
            "bin_end": 0.027000000000000003,
            "bin_start": 0,
            "count": 29
           },
           {
            "bin_end": 0.054000000000000006,
            "bin_start": 0.027000000000000003,
            "count": 62
           },
           {
            "bin_end": 0.08100000000000002,
            "bin_start": 0.054000000000000006,
            "count": 36
           },
           {
            "bin_end": 0.10800000000000001,
            "bin_start": 0.08100000000000002,
            "count": 14
           },
           {
            "bin_end": 0.135,
            "bin_start": 0.10800000000000001,
            "count": 13
           },
           {
            "bin_end": 0.16200000000000003,
            "bin_start": 0.135,
            "count": 8
           },
           {
            "bin_end": 0.18900000000000003,
            "bin_start": 0.16200000000000003,
            "count": 3
           },
           {
            "bin_end": 0.21600000000000003,
            "bin_start": 0.18900000000000003,
            "count": 2
           },
           {
            "bin_end": 0.24300000000000002,
            "bin_start": 0.21600000000000003,
            "count": 3
           },
           {
            "bin_end": 0.27,
            "bin_start": 0.24300000000000002,
            "count": 3
           }
          ],
          "max": 0.27,
          "min": 0,
          "nan_count": 15,
          "unique_count": 24
         }
        },
        {
         "dtype": "float64",
         "name": "Total Biocapacity",
         "stats": {
          "histogram": [
           {
            "bin_end": 11.18,
            "bin_start": 0.05,
            "count": 179
           },
           {
            "bin_end": 22.31,
            "bin_start": 11.18,
            "count": 5
           },
           {
            "bin_end": 33.44,
            "bin_start": 22.31,
            "count": 1
           },
           {
            "bin_end": 44.56999999999999,
            "bin_start": 33.44,
            "count": 0
           },
           {
            "bin_end": 55.69999999999999,
            "bin_start": 44.56999999999999,
            "count": 0
           },
           {
            "bin_end": 66.83,
            "bin_start": 55.69999999999999,
            "count": 1
           },
           {
            "bin_end": 77.96,
            "bin_start": 66.83,
            "count": 0
           },
           {
            "bin_end": 89.08999999999999,
            "bin_start": 77.96,
            "count": 0
           },
           {
            "bin_end": 100.21999999999998,
            "bin_start": 89.08999999999999,
            "count": 1
           },
           {
            "bin_end": 111.35,
            "bin_start": 100.21999999999998,
            "count": 1
           }
          ],
          "max": 111.35,
          "min": 0.05,
          "nan_count": 0,
          "unique_count": 150
         }
        },
        {
         "dtype": "float64",
         "name": "Biocapacity Deficit or Reserve",
         "stats": {
          "histogram": [
           {
            "bin_end": -1.8249999999999993,
            "bin_start": -14.14,
            "count": 52
           },
           {
            "bin_end": 10.490000000000002,
            "bin_start": -1.8249999999999993,
            "count": 131
           },
           {
            "bin_end": 22.805000000000007,
            "bin_start": 10.490000000000002,
            "count": 1
           },
           {
            "bin_end": 35.120000000000005,
            "bin_start": 22.805000000000007,
            "count": 1
           },
           {
            "bin_end": 47.435,
            "bin_start": 35.120000000000005,
            "count": 0
           },
           {
            "bin_end": 59.750000000000014,
            "bin_start": 47.435,
            "count": 0
           },
           {
            "bin_end": 72.06500000000001,
            "bin_start": 59.750000000000014,
            "count": 1
           },
           {
            "bin_end": 84.38000000000001,
            "bin_start": 72.06500000000001,
            "count": 0
           },
           {
            "bin_end": 96.69500000000001,
            "bin_start": 84.38000000000001,
            "count": 1
           },
           {
            "bin_end": 109.01,
            "bin_start": 96.69500000000001,
            "count": 1
           }
          ],
          "max": 109.01,
          "min": -14.14,
          "nan_count": 0,
          "unique_count": 165
         }
        },
        {
         "dtype": "float64",
         "name": "Earths Required",
         "stats": {
          "histogram": [
           {
            "bin_end": 1.13,
            "bin_start": 0.24,
            "count": 66
           },
           {
            "bin_end": 2.02,
            "bin_start": 1.13,
            "count": 53
           },
           {
            "bin_end": 2.91,
            "bin_start": 2.02,
            "count": 28
           },
           {
            "bin_end": 3.8,
            "bin_start": 2.91,
            "count": 24
           },
           {
            "bin_end": 4.69,
            "bin_start": 3.8,
            "count": 10
           },
           {
            "bin_end": 5.58,
            "bin_start": 4.69,
            "count": 4
           },
           {
            "bin_end": 6.470000000000001,
            "bin_start": 5.58,
            "count": 1
           },
           {
            "bin_end": 7.36,
            "bin_start": 6.470000000000001,
            "count": 1
           },
           {
            "bin_end": 8.25,
            "bin_start": 7.36,
            "count": 0
           },
           {
            "bin_end": 9.14,
            "bin_start": 8.25,
            "count": 1
           }
          ],
          "max": 9.14,
          "min": 0.24,
          "nan_count": 0,
          "unique_count": 150
         }
        },
        {
         "dtype": "float64",
         "name": "Countries Required",
         "stats": {
          "histogram": [
           {
            "bin_end": 15.964999999999998,
            "bin_start": 0.02,
            "count": 181
           },
           {
            "bin_end": 31.909999999999997,
            "bin_start": 15.964999999999998,
            "count": 5
           },
           {
            "bin_end": 47.855,
            "bin_start": 31.909999999999997,
            "count": 1
           },
           {
            "bin_end": 63.8,
            "bin_start": 47.855,
            "count": 0
           },
           {
            "bin_end": 79.74499999999999,
            "bin_start": 63.8,
            "count": 0
           },
           {
            "bin_end": 95.68999999999998,
            "bin_start": 79.74499999999999,
            "count": 0
           },
           {
            "bin_end": 111.63499999999999,
            "bin_start": 95.68999999999998,
            "count": 0
           },
           {
            "bin_end": 127.57999999999998,
            "bin_start": 111.63499999999999,
            "count": 0
           },
           {
            "bin_end": 143.525,
            "bin_start": 127.57999999999998,
            "count": 0
           },
           {
            "bin_end": 159.47,
            "bin_start": 143.525,
            "count": 1
           }
          ],
          "max": 159.47,
          "min": 0.02,
          "nan_count": 0,
          "unique_count": 162
         }
        },
        {
         "dtype": "object",
         "name": "Data Quality",
         "stats": {
          "categories": [
           {
            "count": 66,
            "name": "5"
           },
           {
            "count": 60,
            "name": "6"
           },
           {
            "count": 62,
            "name": "5 others"
           }
          ],
          "nan_count": 0,
          "unique_count": 7
         }
        }
       ],
       "row_count": 188,
       "rows_bottom": {
        "164": {
         "Biocapacity Deficit or Reserve": -0.91,
         "Carbon Footprint": 0.81,
         "Countries Required": 2.5,
         "Country": "Syrian Arab Republic",
         "Cropland": 0.41,
         "Cropland Footprint": 0.52,
         "Data Quality": "5",
         "Earths Required": 0.87,
         "Fish Footprint": 0.01,
         "Fishing Water": 0,
         "Forest Footprint": 0.04,
         "Forest Land": 0.04,
         "GDP per Capita": "nan",
         "Grazing Footprint": 0.09,
         "Grazing Land": 0.1,
         "HDI": 0.62,
         "Population (millions)": 21.89,
         "Region": "Middle East/Central Asia",
         "Total Biocapacity": 0.6,
         "Total Ecological Footprint": 1.51,
         "Urban Land": 0.05
        },
        "165": {
         "Biocapacity Deficit or Reserve": -0.38,
         "Carbon Footprint": 0.13,
         "Countries Required": 1.71,
         "Country": "Tajikistan",
         "Cropland": 0.29,
         "Cropland Footprint": 0.46,
         "Data Quality": "5",
         "Earths Required": 0.52,
         "Fish Footprint": 0,
         "Fishing Water": 0.01,
         "Forest Footprint": 0.1,
         "Forest Land": 0.01,
         "GDP per Capita": "$836.17",
         "Grazing Footprint": 0.14,
         "Grazing Land": 0.14,
         "HDI": 0.62,
         "Population (millions)": 8.01,
         "Region": "Middle East/Central Asia",
         "Total Biocapacity": 0.53,
         "Total Ecological Footprint": 0.91,
         "Urban Land": 0.08
        },
        "166": {
         "Biocapacity Deficit or Reserve": -0.24,
         "Carbon Footprint": 0.17,
         "Countries Required": 1.23,
         "Country": "Tanzania, United Republic of",
         "Cropland": 0.46,
         "Cropland Footprint": 0.44,
         "Data Quality": "6",
         "Earths Required": 0.76,
         "Fish Footprint": 0.09,
         "Fishing Water": 0.06,
         "Forest Footprint": 0.23,
         "Forest Land": 0.17,
         "GDP per Capita": "$765.33",
         "Grazing Footprint": 0.34,
         "Grazing Land": 0.34,
         "HDI": 0.51,
         "Population (millions)": 47.78,
         "Region": "Africa",
         "Total Biocapacity": 1.08,
         "Total Ecological Footprint": 1.32,
         "Urban Land": 0.06
        },
        "167": {
         "Biocapacity Deficit or Reserve": -1.42,
         "Carbon Footprint": 1.54,
         "Countries Required": 2.14,
         "Country": "Thailand",
         "Cropland": 0.77,
         "Cropland Footprint": 0.67,
         "Data Quality": "6",
         "Earths Required": 1.54,
         "Fish Footprint": 0.13,
         "Fishing Water": 0.19,
         "Forest Footprint": 0.24,
         "Forest Land": 0.2,
         "GDP per Capita": "$5,479.29",
         "Grazing Footprint": 0.02,
         "Grazing Land": 0.01,
         "HDI": 0.72,
         "Population (millions)": 66.78,
         "Region": "Asia-Pacific",
         "Total Biocapacity": 1.24,
         "Total Ecological Footprint": 2.66,
         "Urban Land": 0.07
        },
        "168": {
         "Biocapacity Deficit or Reserve": 1.3,
         "Carbon Footprint": 0.06,
         "Countries Required": 0.27,
         "Country": "Timor-Leste",
         "Cropland": 0.21,
         "Cropland Footprint": 0.25,
         "Data Quality": "3B",
         "Earths Required": 0.28,
         "Fish Footprint": 0.02,
         "Fishing Water": 0.94,
         "Forest Footprint": 0.04,
         "Forest Land": 0.52,
         "GDP per Capita": "$5,167.86",
         "Grazing Footprint": 0.07,
         "Grazing Land": 0.06,
         "HDI": 0.6,
         "Population (millions)": 1.11,
         "Region": "Asia-Pacific",
         "Total Biocapacity": 1.78,
         "Total Ecological Footprint": 0.48,
         "Urban Land": 0.04
        },
        "169": {
         "Biocapacity Deficit or Reserve": -0.6,
         "Carbon Footprint": 0.31,
         "Countries Required": 2.13,
         "Country": "Togo",
         "Cropland": 0.34,
         "Cropland Footprint": 0.34,
         "Data Quality": "6",
         "Earths Required": 0.65,
         "Fish Footprint": 0.08,
         "Fishing Water": 0.02,
         "Forest Footprint": 0.27,
         "Forest Land": 0.03,
         "GDP per Capita": "$580.86",
         "Grazing Footprint": 0.1,
         "Grazing Land": 0.12,
         "HDI": 0.47,
         "Population (millions)": 6.64,
         "Region": "Africa",
         "Total Biocapacity": 0.53,
         "Total Ecological Footprint": 1.13,
         "Urban Land": 0.02
        },
        "170": {
         "Biocapacity Deficit or Reserve": -1.22,
         "Carbon Footprint": 0.88,
         "Countries Required": 1.82,
         "Country": "Tonga",
         "Cropland": 0.83,
         "Cropland Footprint": 1.19,
         "Data Quality": "3B",
         "Earths Required": 1.56,
         "Fish Footprint": 0.18,
         "Fishing Water": 0.52,
         "Forest Footprint": 0.14,
         "Forest Land": 0.11,
         "GDP per Capita": "$4,330.90",
         "Grazing Footprint": 0.32,
         "Grazing Land": 0.02,
         "HDI": 0.72,
         "Population (millions)": 0.1,
         "Region": "Asia-Pacific",
         "Total Biocapacity": 1.48,
         "Total Ecological Footprint": 2.7,
         "Urban Land": 0
        },
        "171": {
         "Biocapacity Deficit or Reserve": -6.36,
         "Carbon Footprint": 6.89,
         "Countries Required": 5.07,
         "Country": "Trinidad and Tobago",
         "Cropland": 0.04,
         "Cropland Footprint": 0.46,
         "Data Quality": "3B",
         "Earths Required": 4.57,
         "Fish Footprint": 0.11,
         "Fishing Water": 1.37,
         "Forest Footprint": 0.27,
         "Forest Land": 0.15,
         "GDP per Capita": "$18,310.80",
         "Grazing Footprint": 0.19,
         "Grazing Land": 0.01,
         "HDI": 0.77,
         "Population (millions)": 1.34,
         "Region": "Latin America",
         "Total Biocapacity": 1.56,
         "Total Ecological Footprint": 7.92,
         "Urban Land": 0
        },
        "172": {
         "Biocapacity Deficit or Reserve": -1.4,
         "Carbon Footprint": 1.11,
         "Countries Required": 2.51,
         "Country": "Tunisia",
         "Cropland": 0.53,
         "Cropland Footprint": 0.76,
         "Data Quality": "5",
         "Earths Required": 1.35,
         "Fish Footprint": 0.06,
         "Fishing Water": 0.24,
         "Forest Footprint": 0.28,
         "Forest Land": 0.05,
         "GDP per Capita": "$4,305.07",
         "Grazing Footprint": 0.09,
         "Grazing Land": 0.08,
         "HDI": 0.72,
         "Population (millions)": 10.88,
         "Region": "Africa",
         "Total Biocapacity": 0.93,
         "Total Ecological Footprint": 2.34,
         "Urban Land": 0.04
        },
        "173": {
         "Biocapacity Deficit or Reserve": -1.81,
         "Carbon Footprint": 1.92,
         "Countries Required": 2.19,
         "Country": "Turkey",
         "Cropland": 0.75,
         "Cropland Footprint": 0.87,
         "Data Quality": "5",
         "Earths Required": 1.92,
         "Fish Footprint": 0.04,
         "Fishing Water": 0.04,
         "Forest Footprint": 0.34,
         "Forest Land": 0.6,
         "GDP per Capita": "$10,437.70",
         "Grazing Footprint": 0.12,
         "Grazing Land": 0.09,
         "HDI": 0.76,
         "Population (millions)": 74,
         "Region": "Middle East/Central Asia",
         "Total Biocapacity": 1.52,
         "Total Ecological Footprint": 3.33,
         "Urban Land": 0.04
        },
        "174": {
         "Biocapacity Deficit or Reserve": -2.68,
         "Carbon Footprint": 4.13,
         "Countries Required": 1.96,
         "Country": "Turkmenistan",
         "Cropland": 0.6,
         "Cropland Footprint": 0.73,
         "Data Quality": "6",
         "Earths Required": 3.16,
         "Fish Footprint": 0.01,
         "Fishing Water": 0.13,
         "Forest Footprint": 0.08,
         "Forest Land": 0.02,
         "GDP per Capita": "$5,290.14",
         "Grazing Footprint": 0.44,
         "Grazing Land": 1.96,
         "HDI": 0.68,
         "Population (millions)": 5.17,
         "Region": "Middle East/Central Asia",
         "Total Biocapacity": 2.79,
         "Total Ecological Footprint": 5.47,
         "Urban Land": 0.09
        },
        "175": {
         "Biocapacity Deficit or Reserve": -0.66,
         "Carbon Footprint": 0.08,
         "Countries Required": 2.12,
         "Country": "Uganda",
         "Cropland": 0.35,
         "Cropland Footprint": 0.34,
         "Data Quality": "6",
         "Earths Required": 0.72,
         "Fish Footprint": 0.11,
         "Fishing Water": 0.04,
         "Forest Footprint": 0.54,
         "Forest Land": 0.01,
         "GDP per Capita": "$601.35",
         "Grazing Footprint": 0.15,
         "Grazing Land": 0.15,
         "HDI": 0.48,
         "Population (millions)": 36.35,
         "Region": "Africa",
         "Total Biocapacity": 0.59,
         "Total Ecological Footprint": 1.24,
         "Urban Land": 0.04
        },
        "176": {
         "Biocapacity Deficit or Reserve": -0.58,
         "Carbon Footprint": 1.92,
         "Countries Required": 1.25,
         "Country": "Ukraine",
         "Cropland": 1.5,
         "Cropland Footprint": 0.62,
         "Data Quality": "5",
         "Earths Required": 1.64,
         "Fish Footprint": 0.06,
         "Fishing Water": 0.15,
         "Forest Footprint": 0.16,
         "Forest Land": 0.43,
         "GDP per Capita": "$3,589.63",
         "Grazing Footprint": 0.01,
         "Grazing Land": 0.12,
         "HDI": 0.74,
         "Population (millions)": 45.53,
         "Region": "Northern/Eastern Europe",
         "Total Biocapacity": 2.27,
         "Total Ecological Footprint": 2.84,
         "Urban Land": 0.07
        },
        "177": {
         "Biocapacity Deficit or Reserve": -3.62,
         "Carbon Footprint": 3.14,
         "Countries Required": 3.76,
         "Country": "United Kingdom",
         "Cropland": 0.6,
         "Cropland Footprint": 0.82,
         "Data Quality": "6",
         "Earths Required": 2.85,
         "Fish Footprint": 0.08,
         "Fishing Water": 0.3,
         "Forest Footprint": 0.45,
         "Forest Land": 0.12,
         "GDP per Capita": "$40,980.50",
         "Grazing Footprint": 0.28,
         "Grazing Land": 0.12,
         "HDI": 0.9,
         "Population (millions)": 63.03,
         "Region": "European Union",
         "Total Biocapacity": 1.32,
         "Total Ecological Footprint": 4.94,
         "Urban Land": 0.18
        },
        "178": {
         "Biocapacity Deficit or Reserve": -7.37,
         "Carbon Footprint": 6.37,
         "Countries Required": 14.160714285714299,
         "Country": "United Arab Emirates",
         "Cropland": 0.02,
         "Cropland Footprint": 0.8,
         "Data Quality": "6",
         "Earths Required": 4.58,
         "Fish Footprint": 0.19,
         "Fishing Water": 0.47,
         "Forest Footprint": 0.38,
         "Forest Land": 0.07,
         "GDP per Capita": "$40,817.40",
         "Grazing Footprint": 0.19,
         "Grazing Land": 0,
         "HDI": 0.83,
         "Population (millions)": 9.206,
         "Region": "Middle East/Central Asia",
         "Total Biocapacity": 0.56,
         "Total Ecological Footprint": 7.93,
         "Urban Land": 0
        },
        "179": {
         "Biocapacity Deficit or Reserve": -4.46,
         "Carbon Footprint": 5.9,
         "Countries Required": 2.19,
         "Country": "United States of America",
         "Cropland": 1.49,
         "Cropland Footprint": 1.13,
         "Data Quality": "6",
         "Earths Required": 4.75,
         "Fish Footprint": 0.12,
         "Fishing Water": 0.33,
         "Forest Footprint": 0.67,
         "Forest Land": 1.57,
         "GDP per Capita": "$49,725.00",
         "Grazing Footprint": 0.3,
         "Grazing Land": 0.28,
         "HDI": 0.91,
         "Population (millions)": 317.5,
         "Region": "North America",
         "Total Biocapacity": 3.76,
         "Total Ecological Footprint": 8.22,
         "Urban Land": 0.09
        },
        "180": {
         "Biocapacity Deficit or Reserve": 7.41,
         "Carbon Footprint": 0.98,
         "Countries Required": 0.28,
         "Country": "Uruguay",
         "Cropland": 1.89,
         "Cropland Footprint": 0.19,
         "Data Quality": "3B",
         "Earths Required": 1.68,
         "Fish Footprint": 0.05,
         "Fishing Water": 2.18,
         "Forest Footprint": 0.55,
         "Forest Land": 1.22,
         "GDP per Capita": "$14,238.10",
         "Grazing Footprint": 0.98,
         "Grazing Land": 4.86,
         "HDI": 0.79,
         "Population (millions)": 3.4,
         "Region": "Latin America",
         "Total Biocapacity": 10.32,
         "Total Ecological Footprint": 2.91,
         "Urban Land": 0.17
        },
        "181": {
         "Biocapacity Deficit or Reserve": -1.4,
         "Carbon Footprint": 1.41,
         "Countries Required": 2.52,
         "Country": "Uzbekistan",
         "Cropland": 0.56,
         "Cropland Footprint": 0.62,
         "Data Quality": "6",
         "Earths Required": 1.34,
         "Fish Footprint": 0,
         "Fishing Water": 0.03,
         "Forest Footprint": 0.08,
         "Forest Land": 0.06,
         "GDP per Capita": "$1,560.85",
         "Grazing Footprint": 0.13,
         "Grazing Land": 0.2,
         "HDI": 0.67,
         "Population (millions)": 28.54,
         "Region": "Middle East/Central Asia",
         "Total Biocapacity": 0.92,
         "Total Ecological Footprint": 2.32,
         "Urban Land": 0.08
        },
        "182": {
         "Biocapacity Deficit or Reserve": -0.79,
         "Carbon Footprint": 2.13,
         "Countries Required": 1.28,
         "Country": "Venezuela, Bolivarian Republic of",
         "Cropland": 0.14,
         "Cropland Footprint": 0.45,
         "Data Quality": "5",
         "Earths Required": 2.06,
         "Fish Footprint": 0.09,
         "Fishing Water": 0.24,
         "Forest Footprint": 0.12,
         "Forest Land": 1.79,
         "GDP per Capita": "$10,237.80",
         "Grazing Footprint": 0.74,
         "Grazing Land": 0.57,
         "HDI": 0.763846,
         "Population (millions)": 29.96,
         "Region": "Latin America",
         "Total Biocapacity": 2.78,
         "Total Ecological Footprint": 3.57,
         "Urban Land": 0.04
        },
        "183": {
         "Biocapacity Deficit or Reserve": -0.65,
         "Carbon Footprint": 0.79,
         "Countries Required": 1.66,
         "Country": "Viet Nam",
         "Cropland": 0.55,
         "Cropland Footprint": 0.5,
         "Data Quality": "6",
         "Earths Required": 0.95,
         "Fish Footprint": 0.05,
         "Fishing Water": 0.16,
         "Forest Footprint": 0.19,
         "Forest Land": 0.17,
         "GDP per Capita": "$1,532.31",
         "Grazing Footprint": 0.01,
         "Grazing Land": 0.01,
         "HDI": 0.66,
         "Population (millions)": 90.8,
         "Region": "Asia-Pacific",
         "Total Biocapacity": 1,
         "Total Ecological Footprint": 1.65,
         "Urban Land": 0.1
        },
        "184": {
         "Biocapacity Deficit or Reserve": -0.56,
         "Carbon Footprint": "nan",
         "Countries Required": 1.37,
         "Country": "Wallis and Futuna Islands",
         "Cropland": "nan",
         "Cropland Footprint": "nan",
         "Data Quality": "3T",
         "Earths Required": 1.19,
         "Fish Footprint": "nan",
         "Fishing Water": "nan",
         "Forest Footprint": "nan",
         "Forest Land": "nan",
         "GDP per Capita": "nan",
         "Grazing Footprint": "nan",
         "Grazing Land": "nan",
         "HDI": "nan",
         "Population (millions)": 0.01,
         "Region": "Asia-Pacific",
         "Total Biocapacity": 1.51,
         "Total Ecological Footprint": 2.07,
         "Urban Land": "nan"
        },
        "185": {
         "Biocapacity Deficit or Reserve": -0.53,
         "Carbon Footprint": 0.42,
         "Countries Required": 2.06,
         "Country": "Yemen",
         "Cropland": 0.09,
         "Cropland Footprint": 0.34,
         "Data Quality": "5",
         "Earths Required": 0.59,
         "Fish Footprint": 0.04,
         "Fishing Water": 0.2,
         "Forest Footprint": 0.04,
         "Forest Land": 0.04,
         "GDP per Capita": "$1,302.30",
         "Grazing Footprint": 0.14,
         "Grazing Land": 0.12,
         "HDI": 0.5,
         "Population (millions)": 23.85,
         "Region": "Middle East/Central Asia",
         "Total Biocapacity": 0.5,
         "Total Ecological Footprint": 1.03,
         "Urban Land": 0.04
        },
        "186": {
         "Biocapacity Deficit or Reserve": 1.24,
         "Carbon Footprint": 0.24,
         "Countries Required": 0.44,
         "Country": "Zambia",
         "Cropland": 0.24,
         "Cropland Footprint": 0.19,
         "Data Quality": "6",
         "Earths Required": 0.57,
         "Fish Footprint": 0.01,
         "Fishing Water": 0.02,
         "Forest Footprint": 0.33,
         "Forest Land": 0.99,
         "GDP per Capita": "$1,740.64",
         "Grazing Footprint": 0.18,
         "Grazing Land": 0.94,
         "HDI": 0.58,
         "Population (millions)": 14.08,
         "Region": "Africa",
         "Total Biocapacity": 2.23,
         "Total Ecological Footprint": 0.99,
         "Urban Land": 0.04
        },
        "187": {
         "Biocapacity Deficit or Reserve": -0.75,
         "Carbon Footprint": 0.53,
         "Countries Required": 2.2,
         "Country": "Zimbabwe",
         "Cropland": 0.15,
         "Cropland Footprint": 0.2,
         "Data Quality": "6",
         "Earths Required": 0.79,
         "Fish Footprint": 0.01,
         "Fishing Water": 0.01,
         "Forest Footprint": 0.29,
         "Forest Land": 0.12,
         "GDP per Capita": "$865.91",
         "Grazing Footprint": 0.32,
         "Grazing Land": 0.32,
         "HDI": 0.49,
         "Population (millions)": 13.72,
         "Region": "Africa",
         "Total Biocapacity": 0.62,
         "Total Ecological Footprint": 1.37,
         "Urban Land": 0.02
        }
       },
       "rows_top": {
        "0": {
         "Biocapacity Deficit or Reserve": -0.3,
         "Carbon Footprint": 0.18,
         "Countries Required": 1.6,
         "Country": "Afghanistan",
         "Cropland": 0.24,
         "Cropland Footprint": 0.3,
         "Data Quality": "6",
         "Earths Required": 0.46,
         "Fish Footprint": 0,
         "Fishing Water": 0,
         "Forest Footprint": 0.08,
         "Forest Land": 0.02,
         "GDP per Capita": "$614.66",
         "Grazing Footprint": 0.2,
         "Grazing Land": 0.2,
         "HDI": 0.46,
         "Population (millions)": 29.82,
         "Region": "Middle East/Central Asia",
         "Total Biocapacity": 0.5,
         "Total Ecological Footprint": 0.79,
         "Urban Land": 0.04
        },
        "1": {
         "Biocapacity Deficit or Reserve": -1.03,
         "Carbon Footprint": 0.87,
         "Countries Required": 1.87,
         "Country": "Albania",
         "Cropland": 0.55,
         "Cropland Footprint": 0.78,
         "Data Quality": "6",
         "Earths Required": 1.27,
         "Fish Footprint": 0.02,
         "Fishing Water": 0.07,
         "Forest Footprint": 0.25,
         "Forest Land": 0.29,
         "GDP per Capita": "$4,534.37",
         "Grazing Footprint": 0.22,
         "Grazing Land": 0.21,
         "HDI": 0.73,
         "Population (millions)": 3.16,
         "Region": "Northern/Eastern Europe",
         "Total Biocapacity": 1.18,
         "Total Ecological Footprint": 2.21,
         "Urban Land": 0.06
        },
        "10": {
         "Biocapacity Deficit or Reserve": -1.46,
         "Carbon Footprint": 1.25,
         "Countries Required": 2.72,
         "Country": "Azerbaijan",
         "Cropland": 0.46,
         "Cropland Footprint": 0.66,
         "Data Quality": "6",
         "Earths Required": 1.33,
         "Fish Footprint": 0.01,
         "Fishing Water": 0.02,
         "Forest Footprint": 0.11,
         "Forest Land": 0.11,
         "GDP per Capita": "$7,106.04",
         "Grazing Footprint": 0.22,
         "Grazing Land": 0.2,
         "HDI": 0.75,
         "Population (millions)": 9.31,
         "Region": "Middle East/Central Asia",
         "Total Biocapacity": 0.85,
         "Total Ecological Footprint": 2.31,
         "Urban Land": 0.06
        },
        "11": {
         "Biocapacity Deficit or Reserve": 2.71,
         "Carbon Footprint": 4.46,
         "Countries Required": 0.72,
         "Country": "Bahamas",
         "Cropland": 0.05,
         "Cropland Footprint": 0.97,
         "Data Quality": "3L",
         "Earths Required": 3.95,
         "Fish Footprint": 0.14,
         "Fishing Water": 8.27,
         "Forest Footprint": 0.19,
         "Forest Land": 1.18,
         "GDP per Capita": "$22,647.30",
         "Grazing Footprint": 1.05,
         "Grazing Land": 0,
         "HDI": 0.78,
         "Population (millions)": 0.37,
         "Region": "Latin America",
         "Total Biocapacity": 9.55,
         "Total Ecological Footprint": 6.84,
         "Urban Land": 0.04
        },
        "12": {
         "Biocapacity Deficit or Reserve": -6.91,
         "Carbon Footprint": 6.19,
         "Countries Required": 12.96,
         "Country": "Bahrain",
         "Cropland": 0.01,
         "Cropland Footprint": 0.52,
         "Data Quality": "3L",
         "Earths Required": 4.33,
         "Fish Footprint": 0.07,
         "Fishing Water": 0.46,
         "Forest Footprint": 0.16,
         "Forest Land": 0,
         "GDP per Capita": "$24,299.00",
         "Grazing Footprint": 0.45,
         "Grazing Land": 0,
         "HDI": 0.82,
         "Population (millions)": 1.32,
         "Region": "Middle East/Central Asia",
         "Total Biocapacity": 0.58,
         "Total Ecological Footprint": 7.49,
         "Urban Land": 0.1
        },
        "13": {
         "Biocapacity Deficit or Reserve": -0.35,
         "Carbon Footprint": 0.26,
         "Countries Required": 1.92,
         "Country": "Bangladesh",
         "Cropland": 0.25,
         "Cropland Footprint": 0.29,
         "Data Quality": "6",
         "Earths Required": 0.42,
         "Fish Footprint": 0.02,
         "Fishing Water": 0.05,
         "Forest Footprint": 0.08,
         "Forest Land": 0,
         "GDP per Capita": "$857.50",
         "Grazing Footprint": 0,
         "Grazing Land": 0,
         "HDI": 0.56,
         "Population (millions)": 154.7,
         "Region": "Asia-Pacific",
         "Total Biocapacity": 0.38,
         "Total Ecological Footprint": 0.72,
         "Urban Land": 0.07
        },
        "14": {
         "Biocapacity Deficit or Reserve": -4.29,
         "Carbon Footprint": 3.28,
         "Countries Required": 23.79,
         "Country": "Barbados",
         "Cropland": 0.08,
         "Cropland Footprint": 0.56,
         "Data Quality": "5",
         "Earths Required": 2.58,
         "Fish Footprint": 0.22,
         "Fishing Water": 0.04,
         "Forest Footprint": 0.14,
         "Forest Land": 0.02,
         "GDP per Capita": "$15,722.80",
         "Grazing Footprint": 0.24,
         "Grazing Land": 0,
         "HDI": 0.79,
         "Population (millions)": 0.28,
         "Region": "Latin America",
         "Total Biocapacity": 0.19,
         "Total Ecological Footprint": 4.48,
         "Urban Land": 0.04
        },
        "15": {
         "Biocapacity Deficit or Reserve": -1.45,
         "Carbon Footprint": 2.57,
         "Countries Required": 1.4,
         "Country": "Belarus",
         "Cropland": 1.52,
         "Cropland Footprint": 1.32,
         "Data Quality": "6",
         "Earths Required": 2.94,
         "Fish Footprint": 0.08,
         "Fishing Water": 0.02,
         "Forest Footprint": 0.91,
         "Forest Land": 1.71,
         "GDP per Capita": "$6,300.45",
         "Grazing Footprint": 0.12,
         "Grazing Land": 0.3,
         "HDI": 0.8,
         "Population (millions)": 9.4,
         "Region": "Northern/Eastern Europe",
         "Total Biocapacity": 3.64,
         "Total Ecological Footprint": 5.09,
         "Urban Land": 0.09
        },
        "16": {
         "Biocapacity Deficit or Reserve": -6.25,
         "Carbon Footprint": 4.43,
         "Countries Required": 6.27,
         "Country": "Belgium",
         "Cropland": 0.56,
         "Cropland Footprint": 1.15,
         "Data Quality": "6",
         "Earths Required": 4.3,
         "Fish Footprint": 0.12,
         "Fishing Water": 0.04,
         "Forest Footprint": 0.99,
         "Forest Land": 0.28,
         "GDP per Capita": "$48,053.30",
         "Grazing Footprint": 0.48,
         "Grazing Land": 0.03,
         "HDI": 0.89,
         "Population (millions)": 11.06,
         "Region": "European Union",
         "Total Biocapacity": 1.19,
         "Total Ecological Footprint": 7.44,
         "Urban Land": 0.27
        },
        "17": {
         "Biocapacity Deficit or Reserve": -0.53,
         "Carbon Footprint": 0.51,
         "Countries Required": 1.61,
         "Country": "Benin",
         "Cropland": 0.44,
         "Cropland Footprint": 0.49,
         "Data Quality": "6",
         "Earths Required": 0.81,
         "Fish Footprint": 0.08,
         "Fishing Water": 0.02,
         "Forest Footprint": 0.26,
         "Forest Land": 0.34,
         "GDP per Capita": "$746.83",
         "Grazing Footprint": 0.04,
         "Grazing Land": 0.04,
         "HDI": 0.48,
         "Population (millions)": 10.05,
         "Region": "Africa",
         "Total Biocapacity": 0.88,
         "Total Ecological Footprint": 1.41,
         "Urban Land": 0.04
        },
        "18": {
         "Biocapacity Deficit or Reserve": -5.64,
         "Carbon Footprint": "nan",
         "Countries Required": 44.05,
         "Country": "Bermuda",
         "Cropland": "nan",
         "Cropland Footprint": "nan",
         "Data Quality": "3T",
         "Earths Required": 3.33,
         "Fish Footprint": "nan",
         "Fishing Water": "nan",
         "Forest Footprint": "nan",
         "Forest Land": "nan",
         "GDP per Capita": "$70,626.30",
         "Grazing Footprint": "nan",
         "Grazing Land": "nan",
         "HDI": "nan",
         "Population (millions)": 0.06,
         "Region": "North America",
         "Total Biocapacity": 0.13,
         "Total Ecological Footprint": 5.77,
         "Urban Land": "nan"
        },
        "19": {
         "Biocapacity Deficit or Reserve": 0.43,
         "Carbon Footprint": 0.63,
         "Countries Required": 0.92,
         "Country": "Bhutan",
         "Cropland": 0.28,
         "Cropland Footprint": 0.5,
         "Data Quality": "3B",
         "Earths Required": 2.8,
         "Fish Footprint": 0.02,
         "Fishing Water": 0.01,
         "Forest Footprint": 3.03,
         "Forest Land": 4.38,
         "GDP per Capita": "$2,395.00",
         "Grazing Footprint": 0.42,
         "Grazing Land": 0.34,
         "HDI": 0.59,
         "Population (millions)": 0.74,
         "Region": "Asia-Pacific",
         "Total Biocapacity": 5.27,
         "Total Ecological Footprint": 4.84,
         "Urban Land": 0.25
        },
        "2": {
         "Biocapacity Deficit or Reserve": -1.53,
         "Carbon Footprint": 1.14,
         "Countries Required": 3.61,
         "Country": "Algeria",
         "Cropland": 0.24,
         "Cropland Footprint": 0.6,
         "Data Quality": "5",
         "Earths Required": 1.22,
         "Fish Footprint": 0.01,
         "Fishing Water": 0.01,
         "Forest Footprint": 0.17,
         "Forest Land": 0.03,
         "GDP per Capita": "$5,430.57",
         "Grazing Footprint": 0.16,
         "Grazing Land": 0.27,
         "HDI": 0.73,
         "Population (millions)": 38.48,
         "Region": "Africa",
         "Total Biocapacity": 0.59,
         "Total Ecological Footprint": 2.12,
         "Urban Land": 0.03
        },
        "20": {
         "Biocapacity Deficit or Reserve": 13.77,
         "Carbon Footprint": 0.67,
         "Countries Required": 0.18,
         "Country": "Bolivia",
         "Cropland": 0.59,
         "Cropland Footprint": 0.37,
         "Data Quality": "5",
         "Earths Required": 1.71,
         "Fish Footprint": 0.01,
         "Fishing Water": 0.05,
         "Forest Footprint": 0.17,
         "Forest Land": 13.86,
         "GDP per Capita": "$2,253.09",
         "Grazing Footprint": 1.69,
         "Grazing Land": 2.18,
         "HDI": 0.65,
         "Population (millions)": 10.5,
         "Region": "Latin America",
         "Total Biocapacity": 16.73,
         "Total Ecological Footprint": 2.96,
         "Urban Land": 0.06
        },
        "21": {
         "Biocapacity Deficit or Reserve": -1.49,
         "Carbon Footprint": 1.74,
         "Countries Required": 1.91,
         "Country": "Bosnia and Herzegovina",
         "Cropland": 0.3,
         "Cropland Footprint": 0.63,
         "Data Quality": "5",
         "Earths Required": 1.8,
         "Fish Footprint": 0.02,
         "Fishing Water": 0,
         "Forest Footprint": 0.44,
         "Forest Land": 1.13,
         "GDP per Capita": "$4,708.85",
         "Grazing Footprint": 0.27,
         "Grazing Land": 0.19,
         "HDI": 0.73,
         "Population (millions)": 3.83,
         "Region": "Northern/Eastern Europe",
         "Total Biocapacity": 1.63,
         "Total Ecological Footprint": 3.12,
         "Urban Land": 0.02
        },
        "22": {
         "Biocapacity Deficit or Reserve": -0.35,
         "Carbon Footprint": 2.36,
         "Countries Required": 1.1,
         "Country": "Botswana",
         "Cropland": 0.06,
         "Cropland Footprint": 0.3,
         "Data Quality": "3B",
         "Earths Required": 2.21,
         "Fish Footprint": 0.01,
         "Fishing Water": 0.27,
         "Forest Footprint": 0.24,
         "Forest Land": 0.63,
         "GDP per Capita": "$7,743.50",
         "Grazing Footprint": 0.89,
         "Grazing Land": 2.49,
         "HDI": 0.69,
         "Population (millions)": 2,
         "Region": "Africa",
         "Total Biocapacity": 3.47,
         "Total Ecological Footprint": 3.83,
         "Urban Land": 0.02
        },
        "3": {
         "Biocapacity Deficit or Reserve": 1.61,
         "Carbon Footprint": 0.2,
         "Countries Required": 0.37,
         "Country": "Angola",
         "Cropland": 0.2,
         "Cropland Footprint": 0.33,
         "Data Quality": "6",
         "Earths Required": 0.54,
         "Fish Footprint": 0.09,
         "Fishing Water": 0.26,
         "Forest Footprint": 0.12,
         "Forest Land": 0.64,
         "GDP per Capita": "$4,665.91",
         "Grazing Footprint": 0.15,
         "Grazing Land": 1.42,
         "HDI": 0.52,
         "Population (millions)": 20.82,
         "Region": "Africa",
         "Total Biocapacity": 2.55,
         "Total Ecological Footprint": 0.93,
         "Urban Land": 0.04
        },
        "4": {
         "Biocapacity Deficit or Reserve": -4.44,
         "Carbon Footprint": "nan",
         "Countries Required": 5.7,
         "Country": "Antigua and Barbuda",
         "Cropland": "nan",
         "Cropland Footprint": "nan",
         "Data Quality": "2",
         "Earths Required": 3.11,
         "Fish Footprint": "nan",
         "Fishing Water": "nan",
         "Forest Footprint": "nan",
         "Forest Land": "nan",
         "GDP per Capita": "$13,205.10",
         "Grazing Footprint": "nan",
         "Grazing Land": "nan",
         "HDI": 0.78,
         "Population (millions)": 0.09,
         "Region": "Latin America",
         "Total Biocapacity": 0.94,
         "Total Ecological Footprint": 5.38,
         "Urban Land": "nan"
        },
        "5": {
         "Biocapacity Deficit or Reserve": 3.78,
         "Carbon Footprint": 1.08,
         "Countries Required": 0.45,
         "Country": "Argentina",
         "Cropland": 2.64,
         "Cropland Footprint": 0.78,
         "Data Quality": "6",
         "Earths Required": 1.82,
         "Fish Footprint": 0.1,
         "Fishing Water": 1.67,
         "Forest Footprint": 0.29,
         "Forest Land": 0.66,
         "GDP per Capita": "$13,540.00",
         "Grazing Footprint": 0.79,
         "Grazing Land": 1.86,
         "HDI": 0.83,
         "Population (millions)": 41.09,
         "Region": "Latin America",
         "Total Biocapacity": 6.92,
         "Total Ecological Footprint": 3.14,
         "Urban Land": 0.1
        },
        "6": {
         "Biocapacity Deficit or Reserve": -1.35,
         "Carbon Footprint": 0.89,
         "Countries Required": 2.52,
         "Country": "Armenia",
         "Cropland": 0.44,
         "Cropland Footprint": 0.74,
         "Data Quality": "3B",
         "Earths Required": 1.29,
         "Fish Footprint": 0.01,
         "Fishing Water": 0.02,
         "Forest Footprint": 0.34,
         "Forest Land": 0.1,
         "GDP per Capita": "$3,426.39",
         "Grazing Footprint": 0.18,
         "Grazing Land": 0.26,
         "HDI": 0.73,
         "Population (millions)": 2.97,
         "Region": "Middle East/Central Asia",
         "Total Biocapacity": 0.89,
         "Total Ecological Footprint": 2.23,
         "Urban Land": 0.07
        },
        "7": {
         "Biocapacity Deficit or Reserve": -11.31,
         "Carbon Footprint": "nan",
         "Countries Required": 20.69,
         "Country": "Aruba",
         "Cropland": "nan",
         "Cropland Footprint": "nan",
         "Data Quality": "2",
         "Earths Required": 6.86,
         "Fish Footprint": "nan",
         "Fishing Water": "nan",
         "Forest Footprint": "nan",
         "Forest Land": "nan",
         "GDP per Capita": "nan",
         "Grazing Footprint": "nan",
         "Grazing Land": "nan",
         "HDI": "nan",
         "Population (millions)": 0.1,
         "Region": "Latin America",
         "Total Biocapacity": 0.57,
         "Total Ecological Footprint": 11.88,
         "Urban Land": "nan"
        },
        "8": {
         "Biocapacity Deficit or Reserve": 7.26,
         "Carbon Footprint": 4.85,
         "Countries Required": 0.56,
         "Country": "Australia",
         "Cropland": 5.42,
         "Cropland Footprint": 2.68,
         "Data Quality": "5",
         "Earths Required": 5.37,
         "Fish Footprint": 0.11,
         "Fishing Water": 3.19,
         "Forest Footprint": 0.89,
         "Forest Land": 2.01,
         "GDP per Capita": "$66,604.20",
         "Grazing Footprint": 0.63,
         "Grazing Land": 5.81,
         "HDI": 0.93,
         "Population (millions)": 23.05,
         "Region": "Asia-Pacific",
         "Total Biocapacity": 16.57,
         "Total Ecological Footprint": 9.31,
         "Urban Land": 0.14
        },
        "9": {
         "Biocapacity Deficit or Reserve": -3,
         "Carbon Footprint": 4.14,
         "Countries Required": 1.98,
         "Country": "Austria",
         "Cropland": 0.71,
         "Cropland Footprint": 0.82,
         "Data Quality": "5",
         "Earths Required": 3.5,
         "Fish Footprint": 0.06,
         "Fishing Water": 0,
         "Forest Footprint": 0.63,
         "Forest Land": 2.04,
         "GDP per Capita": "$51,274.10",
         "Grazing Footprint": 0.27,
         "Grazing Land": 0.16,
         "HDI": 0.88,
         "Population (millions)": 8.46,
         "Region": "European Union",
         "Total Biocapacity": 3.07,
         "Total Ecological Footprint": 6.06,
         "Urban Land": 0.15
        }
       }
      },
      "text/plain": [
       "                       Country                    Region  \\\n",
       "0                  Afghanistan  Middle East/Central Asia   \n",
       "1                      Albania   Northern/Eastern Europe   \n",
       "2                      Algeria                    Africa   \n",
       "3                       Angola                    Africa   \n",
       "4          Antigua and Barbuda             Latin America   \n",
       "..                         ...                       ...   \n",
       "183                   Viet Nam              Asia-Pacific   \n",
       "184  Wallis and Futuna Islands              Asia-Pacific   \n",
       "185                      Yemen  Middle East/Central Asia   \n",
       "186                     Zambia                    Africa   \n",
       "187                   Zimbabwe                    Africa   \n",
       "\n",
       "     Population (millions)   HDI GDP per Capita  Cropland Footprint  \\\n",
       "0                    29.82  0.46        $614.66                0.30   \n",
       "1                     3.16  0.73      $4,534.37                0.78   \n",
       "2                    38.48  0.73      $5,430.57                0.60   \n",
       "3                    20.82  0.52      $4,665.91                0.33   \n",
       "4                     0.09  0.78     $13,205.10                 NaN   \n",
       "..                     ...   ...            ...                 ...   \n",
       "183                  90.80  0.66      $1,532.31                0.50   \n",
       "184                   0.01   NaN            NaN                 NaN   \n",
       "185                  23.85  0.50      $1,302.30                0.34   \n",
       "186                  14.08  0.58      $1,740.64                0.19   \n",
       "187                  13.72  0.49        $865.91                0.20   \n",
       "\n",
       "     Grazing Footprint  Forest Footprint  Carbon Footprint  Fish Footprint  \\\n",
       "0                 0.20              0.08              0.18            0.00   \n",
       "1                 0.22              0.25              0.87            0.02   \n",
       "2                 0.16              0.17              1.14            0.01   \n",
       "3                 0.15              0.12              0.20            0.09   \n",
       "4                  NaN               NaN               NaN             NaN   \n",
       "..                 ...               ...               ...             ...   \n",
       "183               0.01              0.19              0.79            0.05   \n",
       "184                NaN               NaN               NaN             NaN   \n",
       "185               0.14              0.04              0.42            0.04   \n",
       "186               0.18              0.33              0.24            0.01   \n",
       "187               0.32              0.29              0.53            0.01   \n",
       "\n",
       "     ...  Cropland  Grazing Land  Forest Land  Fishing Water  Urban Land  \\\n",
       "0    ...      0.24          0.20         0.02           0.00        0.04   \n",
       "1    ...      0.55          0.21         0.29           0.07        0.06   \n",
       "2    ...      0.24          0.27         0.03           0.01        0.03   \n",
       "3    ...      0.20          1.42         0.64           0.26        0.04   \n",
       "4    ...       NaN           NaN          NaN            NaN         NaN   \n",
       "..   ...       ...           ...          ...            ...         ...   \n",
       "183  ...      0.55          0.01         0.17           0.16        0.10   \n",
       "184  ...       NaN           NaN          NaN            NaN         NaN   \n",
       "185  ...      0.09          0.12         0.04           0.20        0.04   \n",
       "186  ...      0.24          0.94         0.99           0.02        0.04   \n",
       "187  ...      0.15          0.32         0.12           0.01        0.02   \n",
       "\n",
       "     Total Biocapacity  Biocapacity Deficit or Reserve  Earths Required  \\\n",
       "0                 0.50                           -0.30             0.46   \n",
       "1                 1.18                           -1.03             1.27   \n",
       "2                 0.59                           -1.53             1.22   \n",
       "3                 2.55                            1.61             0.54   \n",
       "4                 0.94                           -4.44             3.11   \n",
       "..                 ...                             ...              ...   \n",
       "183               1.00                           -0.65             0.95   \n",
       "184               1.51                           -0.56             1.19   \n",
       "185               0.50                           -0.53             0.59   \n",
       "186               2.23                            1.24             0.57   \n",
       "187               0.62                           -0.75             0.79   \n",
       "\n",
       "     Countries Required  Data Quality  \n",
       "0                  1.60             6  \n",
       "1                  1.87             6  \n",
       "2                  3.61             5  \n",
       "3                  0.37             6  \n",
       "4                  5.70             2  \n",
       "..                  ...           ...  \n",
       "183                1.66             6  \n",
       "184                1.37            3T  \n",
       "185                2.06             5  \n",
       "186                0.44             6  \n",
       "187                2.20             6  \n",
       "\n",
       "[188 rows x 21 columns]"
      ]
     },
     "execution_count": 55,
     "metadata": {},
     "output_type": "execute_result"
    }
   ],
   "source": [
    "countries"
   ]
  },
  {
   "cell_type": "markdown",
   "metadata": {
    "cell_id": "f20402a3-5e2e-4d71-8f7c-b27e29f5f3d6",
    "deepnote_cell_type": "markdown",
    "tags": []
   },
   "source": [
    "## Exploratory Data Analysis: Granularity"
   ]
  },
  {
   "cell_type": "markdown",
   "metadata": {
    "cell_id": "2b65ad5a-3d45-4f01-bec2-ec8a840a7611",
    "deepnote_cell_type": "markdown",
    "tags": []
   },
   "source": [
    "*Granularity* refers to the scale or level of detail present in a dataset.\n",
    "For example, for the `countries` dataframe, the smallest \"piece\" of information that we are concerned with is on the country level. \n",
    "\n",
    "Different levels that we may deal with could be data on the continental level, data on a province/state level, or even data on a city/zip code level.\n",
    "These are all different levels of granularity that may appear in data. The country level is large enough to deal with a world\n",
    "view but if we are concerned with regional changes in certain data, the country scale would be too large to deal with.\n",
    "\n",
    "Granularity of your data is important to determine whether or not a dataset is a good fit for your project.\n",
    "\n",
    "In the case of the `countries` dataset, we can elevate our level of granularity up to the region or continental level\n",
    "by grouping by region and summing up all of our numerical fields. Notice how we can move *up* in granularity but\n",
    "we typically cannot move *down* in granularity. Our lowest level of granularity cannot be further reduced\n",
    "unless we have new data to augment what we already have."
   ]
  },
  {
   "cell_type": "code",
   "execution_count": null,
   "metadata": {
    "cell_id": "931eeacf-aa1f-43b8-8a2c-9d021de1af34",
    "deepnote_cell_type": "code",
    "tags": []
   },
   "outputs": [
    {
     "ename": "ImportError",
     "evalue": "cannot import name '_is_url' from 'pandas.io.common' (/opt/venv/lib/python3.7/site-packages/pandas/io/common.py)",
     "output_type": "error",
     "traceback": [
      "\u001b[0;31m---------------------------------------------------------------------------\u001b[0m",
      "\u001b[0;31mImportError\u001b[0m                               Traceback (most recent call last)",
      "\u001b[0;32m/opt/venv/lib/python3.7/site-packages/IPython/core/formatters.py\u001b[0m in \u001b[0;36m__call__\u001b[0;34m(self, obj)\u001b[0m\n\u001b[1;32m    343\u001b[0m             \u001b[0mmethod\u001b[0m \u001b[0;34m=\u001b[0m \u001b[0mget_real_method\u001b[0m\u001b[0;34m(\u001b[0m\u001b[0mobj\u001b[0m\u001b[0;34m,\u001b[0m \u001b[0mself\u001b[0m\u001b[0;34m.\u001b[0m\u001b[0mprint_method\u001b[0m\u001b[0;34m)\u001b[0m\u001b[0;34m\u001b[0m\u001b[0;34m\u001b[0m\u001b[0m\n\u001b[1;32m    344\u001b[0m             \u001b[0;32mif\u001b[0m \u001b[0mmethod\u001b[0m \u001b[0;32mis\u001b[0m \u001b[0;32mnot\u001b[0m \u001b[0;32mNone\u001b[0m\u001b[0;34m:\u001b[0m\u001b[0;34m\u001b[0m\u001b[0;34m\u001b[0m\u001b[0m\n\u001b[0;32m--> 345\u001b[0;31m                 \u001b[0;32mreturn\u001b[0m \u001b[0mmethod\u001b[0m\u001b[0;34m(\u001b[0m\u001b[0;34m)\u001b[0m\u001b[0;34m\u001b[0m\u001b[0;34m\u001b[0m\u001b[0m\n\u001b[0m\u001b[1;32m    346\u001b[0m             \u001b[0;32mreturn\u001b[0m \u001b[0;32mNone\u001b[0m\u001b[0;34m\u001b[0m\u001b[0;34m\u001b[0m\u001b[0m\n\u001b[1;32m    347\u001b[0m         \u001b[0;32melse\u001b[0m\u001b[0;34m:\u001b[0m\u001b[0;34m\u001b[0m\u001b[0;34m\u001b[0m\u001b[0m\n",
      "\u001b[0;32m/opt/venv/lib/python3.7/site-packages/pandas/core/frame.py\u001b[0m in \u001b[0;36m_repr_html_\u001b[0;34m(self)\u001b[0m\n\u001b[1;32m    732\u001b[0m         \u001b[0;36m1\u001b[0m     \u001b[0;36m2\u001b[0m     \u001b[0;36m5\u001b[0m\u001b[0;34m\u001b[0m\u001b[0;34m\u001b[0m\u001b[0m\n\u001b[1;32m    733\u001b[0m         \u001b[0;36m2\u001b[0m     \u001b[0;36m3\u001b[0m     \u001b[0;36m6\u001b[0m\u001b[0;34m\u001b[0m\u001b[0;34m\u001b[0m\u001b[0m\n\u001b[0;32m--> 734\u001b[0;31m         \"\"\"\n\u001b[0m\u001b[1;32m    735\u001b[0m \u001b[0;34m\u001b[0m\u001b[0m\n\u001b[1;32m    736\u001b[0m         formatter = fmt.DataFrameFormatter(\n",
      "\u001b[0;32m/opt/venv/lib/python3.7/site-packages/pandas/io/formats/format.py\u001b[0m in \u001b[0;36mto_html\u001b[0;34m(self, buf, encoding, classes, notebook, border)\u001b[0m\n\u001b[1;32m    977\u001b[0m     \u001b[0mna_rep\u001b[0m\u001b[0;34m\u001b[0m\u001b[0;34m\u001b[0m\u001b[0m\n\u001b[1;32m    978\u001b[0m     \u001b[0mdigits\u001b[0m\u001b[0;34m\u001b[0m\u001b[0;34m\u001b[0m\u001b[0m\n\u001b[0;32m--> 979\u001b[0;31m     \u001b[0mspace\u001b[0m\u001b[0;34m\u001b[0m\u001b[0;34m\u001b[0m\u001b[0m\n\u001b[0m\u001b[1;32m    980\u001b[0m     \u001b[0mjustify\u001b[0m\u001b[0;34m\u001b[0m\u001b[0;34m\u001b[0m\u001b[0m\n\u001b[1;32m    981\u001b[0m     \u001b[0mdecimal\u001b[0m\u001b[0;34m\u001b[0m\u001b[0;34m\u001b[0m\u001b[0m\n",
      "\u001b[0;32m/opt/venv/lib/python3.7/site-packages/pandas/io/formats/html.py\u001b[0m in \u001b[0;36m<module>\u001b[0;34m\u001b[0m\n\u001b[1;32m     13\u001b[0m \u001b[0;32mfrom\u001b[0m \u001b[0mpandas\u001b[0m \u001b[0;32mimport\u001b[0m \u001b[0moption_context\u001b[0m\u001b[0;34m\u001b[0m\u001b[0;34m\u001b[0m\u001b[0m\n\u001b[1;32m     14\u001b[0m \u001b[0;34m\u001b[0m\u001b[0m\n\u001b[0;32m---> 15\u001b[0;31m \u001b[0;32mfrom\u001b[0m \u001b[0mpandas\u001b[0m\u001b[0;34m.\u001b[0m\u001b[0mio\u001b[0m\u001b[0;34m.\u001b[0m\u001b[0mcommon\u001b[0m \u001b[0;32mimport\u001b[0m \u001b[0m_is_url\u001b[0m\u001b[0;34m\u001b[0m\u001b[0;34m\u001b[0m\u001b[0m\n\u001b[0m\u001b[1;32m     16\u001b[0m from pandas.io.formats.format import (\n\u001b[1;32m     17\u001b[0m     \u001b[0mDataFrameFormatter\u001b[0m\u001b[0;34m,\u001b[0m\u001b[0;34m\u001b[0m\u001b[0;34m\u001b[0m\u001b[0m\n",
      "\u001b[0;31mImportError\u001b[0m: cannot import name '_is_url' from 'pandas.io.common' (/opt/venv/lib/python3.7/site-packages/pandas/io/common.py)"
     ]
    },
    {
     "data": {
      "application/vnd.deepnote.dataframe.v2+json": {
       "column_count": 17,
       "columns": [
        {
         "dtype": "float64",
         "name": "Population (millions)",
         "stats": {
          "histogram": [
           {
            "bin_end": 602.3790000000001,
            "bin_start": 238.18,
            "count": 4
           },
           {
            "bin_end": 966.5780000000004,
            "bin_start": 602.3790000000001,
            "count": 1
           },
           {
            "bin_end": 1330.7770000000007,
            "bin_start": 966.5780000000004,
            "count": 1
           },
           {
            "bin_end": 1694.9760000000008,
            "bin_start": 1330.7770000000007,
            "count": 0
           },
           {
            "bin_end": 2059.1750000000006,
            "bin_start": 1694.9760000000008,
            "count": 0
           },
           {
            "bin_end": 2423.374000000001,
            "bin_start": 2059.1750000000006,
            "count": 0
           },
           {
            "bin_end": 2787.5730000000012,
            "bin_start": 2423.374000000001,
            "count": 0
           },
           {
            "bin_end": 3151.7720000000013,
            "bin_start": 2787.5730000000012,
            "count": 0
           },
           {
            "bin_end": 3515.9710000000014,
            "bin_start": 3151.7720000000013,
            "count": 0
           },
           {
            "bin_end": 3880.170000000002,
            "bin_start": 3515.9710000000014,
            "count": 1
           }
          ],
          "max": 3880.170000000002,
          "min": 238.18,
          "nan_count": 0,
          "unique_count": 7
         }
        },
        {
         "dtype": "float64",
         "name": "HDI",
         "stats": {
          "histogram": [
           {
            "bin_end": 4.165,
            "bin_start": 1.82,
            "count": 1
           },
           {
            "bin_end": 6.510000000000001,
            "bin_start": 4.165,
            "count": 0
           },
           {
            "bin_end": 8.855,
            "bin_start": 6.510000000000001,
            "count": 0
           },
           {
            "bin_end": 11.200000000000001,
            "bin_start": 8.855,
            "count": 1
           },
           {
            "bin_end": 13.545000000000002,
            "bin_start": 11.200000000000001,
            "count": 0
           },
           {
            "bin_end": 15.89,
            "bin_start": 13.545000000000002,
            "count": 0
           },
           {
            "bin_end": 18.235000000000003,
            "bin_start": 15.89,
            "count": 1
           },
           {
            "bin_end": 20.580000000000002,
            "bin_start": 18.235000000000003,
            "count": 1
           },
           {
            "bin_end": 22.925,
            "bin_start": 20.580000000000002,
            "count": 1
           },
           {
            "bin_end": 25.270000000000003,
            "bin_start": 22.925,
            "count": 2
           }
          ],
          "max": 25.270000000000003,
          "min": 1.82,
          "nan_count": 0,
          "unique_count": 7
         }
        },
        {
         "dtype": "float64",
         "name": "Cropland Footprint",
         "stats": {
          "histogram": [
           {
            "bin_end": 4.6899999999999995,
            "bin_start": 2.59,
            "count": 1
           },
           {
            "bin_end": 6.79,
            "bin_start": 4.6899999999999995,
            "count": 0
           },
           {
            "bin_end": 8.89,
            "bin_start": 6.79,
            "count": 1
           },
           {
            "bin_end": 10.99,
            "bin_start": 8.89,
            "count": 0
           },
           {
            "bin_end": 13.09,
            "bin_start": 10.99,
            "count": 0
           },
           {
            "bin_end": 15.190000000000001,
            "bin_start": 13.09,
            "count": 2
           },
           {
            "bin_end": 17.29,
            "bin_start": 15.190000000000001,
            "count": 0
           },
           {
            "bin_end": 19.39,
            "bin_start": 17.29,
            "count": 1
           },
           {
            "bin_end": 21.490000000000002,
            "bin_start": 19.39,
            "count": 1
           },
           {
            "bin_end": 23.59,
            "bin_start": 21.490000000000002,
            "count": 1
           }
          ],
          "max": 23.59,
          "min": 2.59,
          "nan_count": 0,
          "unique_count": 7
         }
        },
        {
         "dtype": "float64",
         "name": "Grazing Footprint",
         "stats": {
          "histogram": [
           {
            "bin_end": 1.8239999999999998,
            "bin_start": 0.63,
            "count": 2
           },
           {
            "bin_end": 3.0179999999999993,
            "bin_start": 1.8239999999999998,
            "count": 0
           },
           {
            "bin_end": 4.211999999999999,
            "bin_start": 3.0179999999999993,
            "count": 0
           },
           {
            "bin_end": 5.405999999999999,
            "bin_start": 4.211999999999999,
            "count": 1
           },
           {
            "bin_end": 6.599999999999999,
            "bin_start": 5.405999999999999,
            "count": 1
           },
           {
            "bin_end": 7.793999999999998,
            "bin_start": 6.599999999999999,
            "count": 0
           },
           {
            "bin_end": 8.988,
            "bin_start": 7.793999999999998,
            "count": 1
           },
           {
            "bin_end": 10.181999999999999,
            "bin_start": 8.988,
            "count": 0
           },
           {
            "bin_end": 11.375999999999998,
            "bin_start": 10.181999999999999,
            "count": 0
           },
           {
            "bin_end": 12.569999999999999,
            "bin_start": 11.375999999999998,
            "count": 2
           }
          ],
          "max": 12.569999999999999,
          "min": 0.63,
          "nan_count": 0,
          "unique_count": 7
         }
        },
        {
         "dtype": "float64",
         "name": "Forest Footprint",
         "stats": {
          "histogram": [
           {
            "bin_end": 3.233,
            "bin_start": 1.87,
            "count": 1
           },
           {
            "bin_end": 4.596,
            "bin_start": 3.233,
            "count": 1
           },
           {
            "bin_end": 5.9590000000000005,
            "bin_start": 4.596,
            "count": 1
           },
           {
            "bin_end": 7.322,
            "bin_start": 5.9590000000000005,
            "count": 0
           },
           {
            "bin_end": 8.684999999999999,
            "bin_start": 7.322,
            "count": 0
           },
           {
            "bin_end": 10.048000000000002,
            "bin_start": 8.684999999999999,
            "count": 0
           },
           {
            "bin_end": 11.411000000000001,
            "bin_start": 10.048000000000002,
            "count": 1
           },
           {
            "bin_end": 12.774000000000001,
            "bin_start": 11.411000000000001,
            "count": 1
           },
           {
            "bin_end": 14.137,
            "bin_start": 12.774000000000001,
            "count": 0
           },
           {
            "bin_end": 15.499999999999998,
            "bin_start": 14.137,
            "count": 2
           }
          ],
          "max": 15.499999999999998,
          "min": 1.87,
          "nan_count": 0,
          "unique_count": 7
         }
        },
        {
         "dtype": "float64",
         "name": "Carbon Footprint",
         "stats": {
          "histogram": [
           {
            "bin_end": 17.644,
            "bin_start": 10.9,
            "count": 1
           },
           {
            "bin_end": 24.387999999999995,
            "bin_start": 17.644,
            "count": 1
           },
           {
            "bin_end": 31.13199999999999,
            "bin_start": 24.387999999999995,
            "count": 1
           },
           {
            "bin_end": 37.87599999999999,
            "bin_start": 31.13199999999999,
            "count": 0
           },
           {
            "bin_end": 44.61999999999998,
            "bin_start": 37.87599999999999,
            "count": 0
           },
           {
            "bin_end": 51.36399999999998,
            "bin_start": 44.61999999999998,
            "count": 1
           },
           {
            "bin_end": 58.107999999999976,
            "bin_start": 51.36399999999998,
            "count": 1
           },
           {
            "bin_end": 64.85199999999998,
            "bin_start": 58.107999999999976,
            "count": 0
           },
           {
            "bin_end": 71.59599999999998,
            "bin_start": 64.85199999999998,
            "count": 1
           },
           {
            "bin_end": 78.33999999999997,
            "bin_start": 71.59599999999998,
            "count": 1
           }
          ],
          "max": 78.33999999999997,
          "min": 10.9,
          "nan_count": 0,
          "unique_count": 7
         }
        },
        {
         "dtype": "float64",
         "name": "Fish Footprint",
         "stats": {
          "histogram": [
           {
            "bin_end": 0.9129999999999997,
            "bin_start": 0.24,
            "count": 2
           },
           {
            "bin_end": 1.5859999999999994,
            "bin_start": 0.9129999999999997,
            "count": 1
           },
           {
            "bin_end": 2.2589999999999995,
            "bin_start": 1.5859999999999994,
            "count": 0
           },
           {
            "bin_end": 2.9319999999999986,
            "bin_start": 2.2589999999999995,
            "count": 1
           },
           {
            "bin_end": 3.6049999999999986,
            "bin_start": 2.9319999999999986,
            "count": 0
           },
           {
            "bin_end": 4.277999999999999,
            "bin_start": 3.6049999999999986,
            "count": 0
           },
           {
            "bin_end": 4.950999999999998,
            "bin_start": 4.277999999999999,
            "count": 2
           },
           {
            "bin_end": 5.623999999999998,
            "bin_start": 4.950999999999998,
            "count": 0
           },
           {
            "bin_end": 6.296999999999998,
            "bin_start": 5.623999999999998,
            "count": 0
           },
           {
            "bin_end": 6.969999999999997,
            "bin_start": 6.296999999999998,
            "count": 1
           }
          ],
          "max": 6.969999999999997,
          "min": 0.24,
          "nan_count": 0,
          "unique_count": 7
         }
        },
        {
         "dtype": "float64",
         "name": "Total Ecological Footprint",
         "stats": {
          "histogram": [
           {
            "bin_end": 34.18,
            "bin_start": 22.16,
            "count": 1
           },
           {
            "bin_end": 46.2,
            "bin_start": 34.18,
            "count": 1
           },
           {
            "bin_end": 58.22,
            "bin_start": 46.2,
            "count": 0
           },
           {
            "bin_end": 70.24000000000001,
            "bin_start": 58.22,
            "count": 0
           },
           {
            "bin_end": 82.26,
            "bin_start": 70.24000000000001,
            "count": 0
           },
           {
            "bin_end": 94.28,
            "bin_start": 82.26,
            "count": 2
           },
           {
            "bin_end": 106.30000000000001,
            "bin_start": 94.28,
            "count": 1
           },
           {
            "bin_end": 118.32000000000001,
            "bin_start": 106.30000000000001,
            "count": 0
           },
           {
            "bin_end": 130.34,
            "bin_start": 118.32000000000001,
            "count": 0
           },
           {
            "bin_end": 142.36,
            "bin_start": 130.34,
            "count": 2
           }
          ],
          "max": 142.36,
          "min": 22.16,
          "nan_count": 0,
          "unique_count": 7
         }
        },
        {
         "dtype": "float64",
         "name": "Cropland",
         "stats": {
          "histogram": [
           {
            "bin_end": 6.736,
            "bin_start": 4.6,
            "count": 1
           },
           {
            "bin_end": 8.872,
            "bin_start": 6.736,
            "count": 2
           },
           {
            "bin_end": 11.008,
            "bin_start": 8.872,
            "count": 0
           },
           {
            "bin_end": 13.144,
            "bin_start": 11.008,
            "count": 0
           },
           {
            "bin_end": 15.28,
            "bin_start": 13.144,
            "count": 2
           },
           {
            "bin_end": 17.416,
            "bin_start": 15.28,
            "count": 1
           },
           {
            "bin_end": 19.552,
            "bin_start": 17.416,
            "count": 0
           },
           {
            "bin_end": 21.688000000000002,
            "bin_start": 19.552,
            "count": 0
           },
           {
            "bin_end": 23.823999999999998,
            "bin_start": 21.688000000000002,
            "count": 0
           },
           {
            "bin_end": 25.96,
            "bin_start": 23.823999999999998,
            "count": 1
           }
          ],
          "max": 25.96,
          "min": 4.6,
          "nan_count": 0,
          "unique_count": 7
         }
        },
        {
         "dtype": "float64",
         "name": "Grazing Land",
         "stats": {
          "histogram": [
           {
            "bin_end": 3.4910000000000014,
            "bin_start": 0.5700000000000001,
            "count": 3
           },
           {
            "bin_end": 6.412000000000003,
            "bin_start": 3.4910000000000014,
            "count": 0
           },
           {
            "bin_end": 9.333000000000004,
            "bin_start": 6.412000000000003,
            "count": 1
           },
           {
            "bin_end": 12.254000000000005,
            "bin_start": 9.333000000000004,
            "count": 0
           },
           {
            "bin_end": 15.175000000000006,
            "bin_start": 12.254000000000005,
            "count": 0
           },
           {
            "bin_end": 18.096000000000007,
            "bin_start": 15.175000000000006,
            "count": 1
           },
           {
            "bin_end": 21.01700000000001,
            "bin_start": 18.096000000000007,
            "count": 1
           },
           {
            "bin_end": 23.93800000000001,
            "bin_start": 21.01700000000001,
            "count": 0
           },
           {
            "bin_end": 26.85900000000001,
            "bin_start": 23.93800000000001,
            "count": 0
           },
           {
            "bin_end": 29.780000000000012,
            "bin_start": 26.85900000000001,
            "count": 1
           }
          ],
          "max": 29.780000000000012,
          "min": 0.5700000000000001,
          "nan_count": 0,
          "unique_count": 7
         }
        },
        {
         "dtype": "float64",
         "name": "Forest Land",
         "stats": {
          "histogram": [
           {
            "bin_end": 30.27,
            "bin_start": 2.2800000000000002,
            "count": 4
           },
           {
            "bin_end": 58.26,
            "bin_start": 30.27,
            "count": 2
           },
           {
            "bin_end": 86.25,
            "bin_start": 58.26,
            "count": 0
           },
           {
            "bin_end": 114.24,
            "bin_start": 86.25,
            "count": 0
           },
           {
            "bin_end": 142.23,
            "bin_start": 114.24,
            "count": 0
           },
           {
            "bin_end": 170.22,
            "bin_start": 142.23,
            "count": 0
           },
           {
            "bin_end": 198.20999999999998,
            "bin_start": 170.22,
            "count": 0
           },
           {
            "bin_end": 226.2,
            "bin_start": 198.20999999999998,
            "count": 0
           },
           {
            "bin_end": 254.19,
            "bin_start": 226.2,
            "count": 0
           },
           {
            "bin_end": 282.17999999999995,
            "bin_start": 254.19,
            "count": 1
           }
          ],
          "max": 282.17999999999995,
          "min": 2.2800000000000002,
          "nan_count": 0,
          "unique_count": 7
         }
        },
        {
         "dtype": "float64",
         "name": "Fishing Water",
         "stats": {
          "histogram": [
           {
            "bin_end": 6.478000000000001,
            "bin_start": 2.04,
            "count": 3
           },
           {
            "bin_end": 10.916,
            "bin_start": 6.478000000000001,
            "count": 1
           },
           {
            "bin_end": 15.354000000000003,
            "bin_start": 10.916,
            "count": 0
           },
           {
            "bin_end": 19.792,
            "bin_start": 15.354000000000003,
            "count": 2
           },
           {
            "bin_end": 24.230000000000004,
            "bin_start": 19.792,
            "count": 0
           },
           {
            "bin_end": 28.668000000000003,
            "bin_start": 24.230000000000004,
            "count": 0
           },
           {
            "bin_end": 33.106,
            "bin_start": 28.668000000000003,
            "count": 0
           },
           {
            "bin_end": 37.544000000000004,
            "bin_start": 33.106,
            "count": 0
           },
           {
            "bin_end": 41.982000000000006,
            "bin_start": 37.544000000000004,
            "count": 0
           },
           {
            "bin_end": 46.42,
            "bin_start": 41.982000000000006,
            "count": 1
           }
          ],
          "max": 46.42,
          "min": 2.04,
          "nan_count": 0,
          "unique_count": 7
         }
        },
        {
         "dtype": "float64",
         "name": "Urban Land",
         "stats": {
          "histogram": [
           {
            "bin_end": 0.469,
            "bin_start": 0.16,
            "count": 1
           },
           {
            "bin_end": 0.7779999999999999,
            "bin_start": 0.469,
            "count": 1
           },
           {
            "bin_end": 1.0869999999999997,
            "bin_start": 0.7779999999999999,
            "count": 0
           },
           {
            "bin_end": 1.3959999999999997,
            "bin_start": 1.0869999999999997,
            "count": 0
           },
           {
            "bin_end": 1.7049999999999996,
            "bin_start": 1.3959999999999997,
            "count": 1
           },
           {
            "bin_end": 2.014,
            "bin_start": 1.7049999999999996,
            "count": 2
           },
           {
            "bin_end": 2.3229999999999995,
            "bin_start": 2.014,
            "count": 1
           },
           {
            "bin_end": 2.6319999999999997,
            "bin_start": 2.3229999999999995,
            "count": 0
           },
           {
            "bin_end": 2.941,
            "bin_start": 2.6319999999999997,
            "count": 0
           },
           {
            "bin_end": 3.2499999999999996,
            "bin_start": 2.941,
            "count": 1
           }
          ],
          "max": 3.2499999999999996,
          "min": 0.16,
          "nan_count": 0,
          "unique_count": 7
         }
        },
        {
         "dtype": "float64",
         "name": "Total Biocapacity",
         "stats": {
          "histogram": [
           {
            "bin_end": 55.208000000000006,
            "bin_start": 19.9,
            "count": 3
           },
           {
            "bin_end": 90.51600000000002,
            "bin_start": 55.208000000000006,
            "count": 0
           },
           {
            "bin_end": 125.82400000000001,
            "bin_start": 90.51600000000002,
            "count": 3
           },
           {
            "bin_end": 161.13200000000003,
            "bin_start": 125.82400000000001,
            "count": 0
           },
           {
            "bin_end": 196.44000000000003,
            "bin_start": 161.13200000000003,
            "count": 0
           },
           {
            "bin_end": 231.74800000000005,
            "bin_start": 196.44000000000003,
            "count": 0
           },
           {
            "bin_end": 267.05600000000004,
            "bin_start": 231.74800000000005,
            "count": 0
           },
           {
            "bin_end": 302.36400000000003,
            "bin_start": 267.05600000000004,
            "count": 0
           },
           {
            "bin_end": 337.672,
            "bin_start": 302.36400000000003,
            "count": 0
           },
           {
            "bin_end": 372.98,
            "bin_start": 337.672,
            "count": 1
           }
          ],
          "max": 372.98,
          "min": 19.9,
          "nan_count": 0,
          "unique_count": 7
         }
        },
        {
         "dtype": "float64",
         "name": "Biocapacity Deficit or Reserve",
         "stats": {
          "histogram": [
           {
            "bin_end": -40.069,
            "bin_start": -70.87,
            "count": 2
           },
           {
            "bin_end": -9.267999999999994,
            "bin_start": -40.069,
            "count": 1
           },
           {
            "bin_end": 21.533000000000015,
            "bin_start": -9.267999999999994,
            "count": 2
           },
           {
            "bin_end": 52.33400000000002,
            "bin_start": 21.533000000000015,
            "count": 1
           },
           {
            "bin_end": 83.13500000000002,
            "bin_start": 52.33400000000002,
            "count": 0
           },
           {
            "bin_end": 113.93600000000004,
            "bin_start": 83.13500000000002,
            "count": 0
           },
           {
            "bin_end": 144.73700000000002,
            "bin_start": 113.93600000000004,
            "count": 0
           },
           {
            "bin_end": 175.53800000000004,
            "bin_start": 144.73700000000002,
            "count": 0
           },
           {
            "bin_end": 206.33900000000006,
            "bin_start": 175.53800000000004,
            "count": 0
           },
           {
            "bin_end": 237.14000000000004,
            "bin_start": 206.33900000000006,
            "count": 1
           }
          ],
          "max": 237.14000000000004,
          "min": -70.87,
          "nan_count": 0,
          "unique_count": 7
         }
        },
        {
         "dtype": "float64",
         "name": "Earths Required",
         "stats": {
          "histogram": [
           {
            "bin_end": 19.743000000000002,
            "bin_start": 12.8,
            "count": 1
           },
           {
            "bin_end": 26.686,
            "bin_start": 19.743000000000002,
            "count": 1
           },
           {
            "bin_end": 33.629000000000005,
            "bin_start": 26.686,
            "count": 0
           },
           {
            "bin_end": 40.572,
            "bin_start": 33.629000000000005,
            "count": 0
           },
           {
            "bin_end": 47.515,
            "bin_start": 40.572,
            "count": 0
           },
           {
            "bin_end": 54.458,
            "bin_start": 47.515,
            "count": 2
           },
           {
            "bin_end": 61.400999999999996,
            "bin_start": 54.458,
            "count": 1
           },
           {
            "bin_end": 68.344,
            "bin_start": 61.400999999999996,
            "count": 0
           },
           {
            "bin_end": 75.28699999999999,
            "bin_start": 68.344,
            "count": 0
           },
           {
            "bin_end": 82.22999999999999,
            "bin_start": 75.28699999999999,
            "count": 2
           }
          ],
          "max": 82.22999999999999,
          "min": 12.8,
          "nan_count": 0,
          "unique_count": 7
         }
        },
        {
         "dtype": "float64",
         "name": "Countries Required",
         "stats": {
          "histogram": [
           {
            "bin_end": 42.638999999999996,
            "bin_start": 21.43,
            "count": 1
           },
           {
            "bin_end": 63.84799999999999,
            "bin_start": 42.638999999999996,
            "count": 1
           },
           {
            "bin_end": 85.05699999999999,
            "bin_start": 63.84799999999999,
            "count": 1
           },
           {
            "bin_end": 106.26599999999999,
            "bin_start": 85.05699999999999,
            "count": 1
           },
           {
            "bin_end": 127.475,
            "bin_start": 106.26599999999999,
            "count": 0
           },
           {
            "bin_end": 148.68399999999997,
            "bin_start": 127.475,
            "count": 2
           },
           {
            "bin_end": 169.89299999999997,
            "bin_start": 148.68399999999997,
            "count": 0
           },
           {
            "bin_end": 191.10199999999998,
            "bin_start": 169.89299999999997,
            "count": 0
           },
           {
            "bin_end": 212.31099999999998,
            "bin_start": 191.10199999999998,
            "count": 0
           },
           {
            "bin_end": 233.51999999999998,
            "bin_start": 212.31099999999998,
            "count": 1
           }
          ],
          "max": 233.51999999999998,
          "min": 21.43,
          "nan_count": 0,
          "unique_count": 7
         }
        }
       ],
       "row_count": 7,
       "rows_bottom": null,
       "rows_top": {
        "Africa": {
         "Biocapacity Deficit or Reserve": 30.78000000000001,
         "Carbon Footprint": 29.040000000000006,
         "Countries Required": 100.36000000000001,
         "Cropland": 15.200000000000001,
         "Cropland Footprint": 19.480000000000004,
         "Earths Required": 50.15999999999999,
         "Fish Footprint": 4.6899999999999995,
         "Fishing Water": 18.19,
         "Forest Footprint": 15.499999999999998,
         "Forest Land": 51.11000000000001,
         "Grazing Footprint": 11.48,
         "Grazing Land": 29.780000000000012,
         "HDI": 25.270000000000003,
         "Population (millions)": 1034.6400000000003,
         "Total Biocapacity": 117.66,
         "Total Ecological Footprint": 86.88999999999997,
         "Urban Land": 1.980000000000001
        },
        "Asia-Pacific": {
         "Biocapacity Deficit or Reserve": -4.719999999999999,
         "Carbon Footprint": 45.420000000000016,
         "Countries Required": 233.51999999999998,
         "Cropland": 16.51,
         "Cropland Footprint": 17.960000000000004,
         "Earths Required": 56.60000000000001,
         "Fish Footprint": 6.969999999999997,
         "Fishing Water": 18.090000000000003,
         "Forest Footprint": 11.219999999999997,
         "Forest Land": 35.48000000000001,
         "Grazing Footprint": 7.970000000000001,
         "Grazing Land": 18.070000000000004,
         "HDI": 19.249999999999996,
         "Population (millions)": 3880.170000000002,
         "Total Biocapacity": 93.29,
         "Total Ecological Footprint": 98.01999999999998,
         "Urban Land": 2.2900000000000005
        },
        "European Union": {
         "Biocapacity Deficit or Reserve": -47.5,
         "Carbon Footprint": 78.33999999999997,
         "Countries Required": 72.84,
         "Cropland": 25.96,
         "Cropland Footprint": 23.59,
         "Earths Required": 82.22999999999999,
         "Fish Footprint": 2.7799999999999994,
         "Fishing Water": 9.39,
         "Forest Footprint": 15.4,
         "Forest Land": 29.360000000000007,
         "Grazing Footprint": 6.250000000000001,
         "Grazing Land": 2.9200000000000004,
         "HDI": 22.479999999999993,
         "Population (millions)": 503.9799999999999,
         "Total Biocapacity": 94.86999999999999,
         "Total Ecological Footprint": 142.36,
         "Urban Land": 3.2499999999999996
        },
        "Latin America": {
         "Biocapacity Deficit or Reserve": 237.14000000000004,
         "Carbon Footprint": 56.410000000000004,
         "Countries Required": 145.29,
         "Cropland": 15.26,
         "Cropland Footprint": 14.85,
         "Earths Required": 78.44000000000003,
         "Fish Footprint": 4.369999999999999,
         "Fishing Water": 46.42,
         "Forest Footprint": 11.909999999999997,
         "Forest Land": 282.17999999999995,
         "Grazing Footprint": 12.569999999999999,
         "Grazing Land": 19.179999999999996,
         "HDI": 23.053846000000004,
         "Population (millions)": 605.4099999999999,
         "Total Biocapacity": 372.98,
         "Total Ecological Footprint": 135.87,
         "Urban Land": 1.8000000000000007
        },
        "Middle East/Central Asia": {
         "Biocapacity Deficit or Reserve": -70.87,
         "Carbon Footprint": 67.82000000000001,
         "Countries Required": 138.8407142857143,
         "Cropland": 6.92,
         "Cropland Footprint": 13.77,
         "Earths Required": 53.84,
         "Fish Footprint": 1.4800000000000002,
         "Fishing Water": 5.09,
         "Forest Footprint": 3.7,
         "Forest Land": 2.2800000000000002,
         "Grazing Footprint": 4.87,
         "Grazing Land": 6.52,
         "HDI": 16.72,
         "Population (millions)": 405.58600000000007,
         "Total Biocapacity": 22.41,
         "Total Ecological Footprint": 93.24999999999997,
         "Urban Land": 1.5800000000000005
        },
        "North America": {
         "Biocapacity Deficit or Reserve": -2.2699999999999996,
         "Carbon Footprint": 10.9,
         "Countries Required": 46.74999999999999,
         "Cropland": 4.6,
         "Cropland Footprint": 2.59,
         "Earths Required": 12.8,
         "Fish Footprint": 0.24,
         "Fishing Water": 3.74,
         "Forest Footprint": 1.87,
         "Forest Land": 10.69,
         "Grazing Footprint": 0.63,
         "Grazing Land": 0.5700000000000001,
         "HDI": 1.82,
         "Population (millions)": 352.4,
         "Total Biocapacity": 19.9,
         "Total Ecological Footprint": 22.16,
         "Urban Land": 0.16
        },
        "Northern/Eastern Europe": {
         "Biocapacity Deficit or Reserve": -10.57,
         "Carbon Footprint": 24.32,
         "Countries Required": 21.43,
         "Cropland": 7.5600000000000005,
         "Cropland Footprint": 7.79,
         "Earths Required": 26.089999999999996,
         "Fish Footprint": 0.6600000000000001,
         "Fishing Water": 2.04,
         "Forest Footprint": 5.07,
         "Forest Land": 14.339999999999998,
         "Grazing Footprint": 1.76,
         "Grazing Land": 1.9500000000000002,
         "HDI": 9.459999999999999,
         "Population (millions)": 238.18,
         "Total Biocapacity": 34.59,
         "Total Ecological Footprint": 45.16000000000001,
         "Urban Land": 0.5499999999999999
        }
       }
      },
      "text/plain": [
       "                          Population (millions)        HDI  \\\n",
       "Region                                                       \n",
       "Africa                                 1034.640  25.270000   \n",
       "Asia-Pacific                           3880.170  19.250000   \n",
       "European Union                          503.980  22.480000   \n",
       "Latin America                           605.410  23.053846   \n",
       "Middle East/Central Asia                405.586  16.720000   \n",
       "North America                           352.400   1.820000   \n",
       "Northern/Eastern Europe                 238.180   9.460000   \n",
       "\n",
       "                          Cropland Footprint  Grazing Footprint  \\\n",
       "Region                                                            \n",
       "Africa                                 19.48              11.48   \n",
       "Asia-Pacific                           17.96               7.97   \n",
       "European Union                         23.59               6.25   \n",
       "Latin America                          14.85              12.57   \n",
       "Middle East/Central Asia               13.77               4.87   \n",
       "North America                           2.59               0.63   \n",
       "Northern/Eastern Europe                 7.79               1.76   \n",
       "\n",
       "                          Forest Footprint  Carbon Footprint  Fish Footprint  \\\n",
       "Region                                                                         \n",
       "Africa                               15.50             29.04            4.69   \n",
       "Asia-Pacific                         11.22             45.42            6.97   \n",
       "European Union                       15.40             78.34            2.78   \n",
       "Latin America                        11.91             56.41            4.37   \n",
       "Middle East/Central Asia              3.70             67.82            1.48   \n",
       "North America                         1.87             10.90            0.24   \n",
       "Northern/Eastern Europe               5.07             24.32            0.66   \n",
       "\n",
       "                          Total Ecological Footprint  Cropland  Grazing Land  \\\n",
       "Region                                                                         \n",
       "Africa                                         86.89     15.20         29.78   \n",
       "Asia-Pacific                                   98.02     16.51         18.07   \n",
       "European Union                                142.36     25.96          2.92   \n",
       "Latin America                                 135.87     15.26         19.18   \n",
       "Middle East/Central Asia                       93.25      6.92          6.52   \n",
       "North America                                  22.16      4.60          0.57   \n",
       "Northern/Eastern Europe                        45.16      7.56          1.95   \n",
       "\n",
       "                          Forest Land  Fishing Water  Urban Land  \\\n",
       "Region                                                             \n",
       "Africa                          51.11          18.19        1.98   \n",
       "Asia-Pacific                    35.48          18.09        2.29   \n",
       "European Union                  29.36           9.39        3.25   \n",
       "Latin America                  282.18          46.42        1.80   \n",
       "Middle East/Central Asia         2.28           5.09        1.58   \n",
       "North America                   10.69           3.74        0.16   \n",
       "Northern/Eastern Europe         14.34           2.04        0.55   \n",
       "\n",
       "                          Total Biocapacity  Biocapacity Deficit or Reserve  \\\n",
       "Region                                                                        \n",
       "Africa                               117.66                           30.78   \n",
       "Asia-Pacific                          93.29                           -4.72   \n",
       "European Union                        94.87                          -47.50   \n",
       "Latin America                        372.98                          237.14   \n",
       "Middle East/Central Asia              22.41                          -70.87   \n",
       "North America                         19.90                           -2.27   \n",
       "Northern/Eastern Europe               34.59                          -10.57   \n",
       "\n",
       "                          Earths Required  Countries Required  \n",
       "Region                                                         \n",
       "Africa                              50.16          100.360000  \n",
       "Asia-Pacific                        56.60          233.520000  \n",
       "European Union                      82.23           72.840000  \n",
       "Latin America                       78.44          145.290000  \n",
       "Middle East/Central Asia            53.84          138.840714  \n",
       "North America                       12.80           46.750000  \n",
       "Northern/Eastern Europe             26.09           21.430000  "
      ]
     },
     "execution_count": 67,
     "metadata": {},
     "output_type": "execute_result"
    }
   ],
   "source": [
    "countries.groupby([\"Region\"]).sum()  # Elevation of our granularity to the continental level"
   ]
  },
  {
   "cell_type": "markdown",
   "metadata": {
    "cell_id": "b50aeba3-01f1-4b27-b37d-c18b49d0a26a",
    "deepnote_cell_type": "markdown",
    "tags": []
   },
   "source": [
    "## EDA: Scope"
   ]
  },
  {
   "cell_type": "markdown",
   "metadata": {
    "cell_id": "3aaf6ce5-650d-4e84-898f-7678213c9cf6",
    "deepnote_cell_type": "markdown",
    "tags": []
   },
   "source": [
    "*Scope* on the other hand is concerned with what *kind* of data your dataset contains. For example, the `countries`\n",
    "dataframe has data concerning ecological footprint and GDP which is useful on a project regarding ecological impact\n",
    "by country since this is our dataset's specialty or scope. However, if we were doing a project regarding the impact\n",
    "countries have on the global economy, the `countries` dataframe is rather ill-suited to carry out this task. We would\n",
    "want our dataset's scope to instead be centered around financial institutions for each country and so on."
   ]
  },
  {
   "cell_type": "markdown",
   "metadata": {
    "cell_id": "9341590c-3652-487a-aef5-edd969298172",
    "deepnote_cell_type": "markdown",
    "tags": []
   },
   "source": [
    "## EDA: Temporality"
   ]
  },
  {
   "cell_type": "markdown",
   "metadata": {
    "cell_id": "56e0aa68-3a71-4416-8a0f-396ee46427f3",
    "deepnote_cell_type": "markdown",
    "tags": []
   },
   "source": [
    "*Temporality* is a concept referring to how the data is situated in regards to time. This can involve the time/date the data was collected or entered into the database. It can also be important to consider location in some cases, as different time zones can get tricky.\n",
    "\n",
    "One important thing to note is that this dataset contains values from 2016. Depending on your need, you may want to search for more current data. \n",
    "If that is not available, it is a good practice to note in your research why you had to work with 2016 data.\n",
    "\n",
    "While exploring any dataset, one thing we need to keep in mind is when the data is collected. \n",
    "\n",
    "If the dataset is not up to date, then:\n",
    "\n",
    "1. Are our findings still valid/useful? \n",
    "2. What changes could have made an impact on the findings of your research from when the data was collected till present?\n",
    "3. Is there a way we can account for those changes and their impact in our own research?\n",
    "4. Was is collected in the same time frame we wish to study from?\n",
    "\n",
    "Temporality is always something we should keep in mind while doing research, no matter what patterns the data discloses. "
   ]
  },
  {
   "cell_type": "markdown",
   "metadata": {
    "cell_id": "cbed77d0-ef03-49c8-842e-59b08da87f17",
    "deepnote_cell_type": "markdown",
    "tags": []
   },
   "source": [
    "## EDA: Faithfulness"
   ]
  },
  {
   "cell_type": "markdown",
   "metadata": {
    "cell_id": "00030-67b47ad7-3677-47bf-a316-928d62d14863",
    "deepnote_cell_type": "markdown",
    "tags": []
   },
   "source": [
    "*Faithfulness* has to do with the reliability and accuracy of the data at hand. This can include errors as small as typos or shifted fields, or go as far as data falsification and incorrect values.\n",
    "\n",
    "Some things to consider when guaging the reliability of the data:\n",
    "- Does my data contain unrealistic or “incorrect” values?\n",
    "    - Dates in the future for events in the past\n",
    "    - Locations that don’t exist\n",
    "    - Negative counts\n",
    "- Was the data entered by hand?\n",
    "    - Spelling errors, fields shifted …\n",
    "    - Did the form require fields or provide default values?\n",
    "- Does my data violate obvious dependencies?\n",
    "    - E.g., age and birthday don’t match\n",
    "- Are there obvious signs of data falsification?\n",
    "    - Repeated names, fake looking email addresses, repeated use of uncommon names or fields."
   ]
  },
  {
   "cell_type": "markdown",
   "metadata": {
    "cell_id": "9588c491-eecd-420f-a6b8-00aeb236a960",
    "deepnote_cell_type": "markdown",
    "tags": []
   },
   "source": [
    "Let's have explore the `Data Quality` column of the dataset. First, we will look at the values are in the column and their frequency."
   ]
  },
  {
   "cell_type": "code",
   "execution_count": null,
   "metadata": {
    "cell_id": "e841a221-eeb2-45a3-a040-16d94d198b7f",
    "deepnote_cell_type": "code",
    "tags": []
   },
   "outputs": [
    {
     "data": {
      "text/plain": [
       "5     66\n",
       "6     60\n",
       "3B    29\n",
       "3L    18\n",
       "3T     7\n",
       "2      6\n",
       "4      2\n",
       "Name: Data Quality, dtype: int64"
      ]
     },
     "execution_count": 13,
     "metadata": {},
     "output_type": "execute_result"
    }
   ],
   "source": [
    "countries[\"Data Quality\"].value_counts()"
   ]
  },
  {
   "cell_type": "markdown",
   "metadata": {
    "cell_id": "e85ac5de-6404-442e-b8d5-f8c47a73c749",
    "deepnote_cell_type": "markdown",
    "tags": []
   },
   "source": [
    "If we go to the source of this data - [2016 Global Ecological Footprint](https://www.kaggle.com/footprintnetwork/ecological-footprint) dataset from Kaggle - there is no description of what the values on this column mean. \n",
    "\n",
    "1. Does it rank the data quality of the countries? \n",
    "2. What does each value represent? \n",
    "3. Are lower or higher values better? \n",
    "\n",
    "And so on. There are many questions that we cannot answer."
   ]
  },
  {
   "cell_type": "markdown",
   "metadata": {
    "cell_id": "de968ebe-d094-4021-b3cd-9f6e2e7de5c5",
    "deepnote_cell_type": "markdown",
    "tags": []
   },
   "source": [
    "If we explore further, there is a [post](https://www.kaggle.com/footprintnetwork/ecological-footprint/discussion/74703) in the discussion tab of kaggle website. Take a minute to navigate to the post and read it."
   ]
  },
  {
   "cell_type": "markdown",
   "metadata": {
    "cell_id": "230cf9de-cc53-4b37-9ff6-472aef2c13f5",
    "deepnote_cell_type": "markdown",
    "tags": []
   },
   "source": [
    "There seems to be some inconsistency with the data that we cannot explain yet. As it stands, the 'faithfulness' of the data is in question. \n",
    "\n",
    "From here, depending on the situation, we can either ignore this column of data, research further about what the data means, or perform some analysis on this data but with a note explaing the faithfulness problem."
   ]
  }
 ],
 "metadata": {
  "deepnote_execution_queue": [],
  "deepnote_notebook_id": "2a003ab7-e8fa-47b6-8912-329f1e34f53b",
  "kernelspec": {
   "display_name": "Python 3",
   "language": "python",
   "name": "python3"
  },
  "language_info": {
   "codemirror_mode": {
    "name": "ipython",
    "version": 3
   },
   "file_extension": ".py",
   "mimetype": "text/x-python",
   "name": "python",
   "nbconvert_exporter": "python",
   "pygments_lexer": "ipython3",
   "version": "3.6.5"
  }
 },
 "nbformat": 4,
 "nbformat_minor": 2
}
