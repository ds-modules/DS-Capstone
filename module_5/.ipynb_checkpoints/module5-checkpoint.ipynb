{
 "cells": [
  {
   "cell_type": "markdown",
   "metadata": {
    "cell_id": "815a5e9b-4524-4ae2-bf16-13fb220be569",
    "deepnote_cell_type": "markdown",
    "tags": []
   },
   "source": [
    "# Module 5: Data Cleaning and String Methods\n",
    "\n",
    "Often times, the data sets downloaded online are not in the perfect format for you to start your analysis. \n",
    "More often than not, you'll be spending the bulk of your time cleaning and manipulating the data that you accquired. \n",
    "In this module, We will be showing you how to deal with missing values, converting columns to different data types, \n",
    "and introducing a new data type that formats dates - `datetime` \n",
    "\n",
    "Let's first take a look at the landslides dataset from the kaggle data cleaning challenge. \n",
    "This dataset records the Global Landslide Catalog (GLC) that was developed with the goal of identifying rainfall-triggered landslide \n",
    "events around the world, regardless of size, impacts, or location. \n",
    "The GLC considers all types of mass movements triggered by rainfall that have been reported in the media, disaster databases, scientific reports, or other sources."
   ]
  },
  {
   "cell_type": "markdown",
   "metadata": {
    "cell_id": "fdd53f69-e811-4e77-b978-80f370104774",
    "deepnote_cell_type": "markdown",
    "tags": []
   },
   "source": [
    "Dataset downloaded from: [https://www.kaggle.com/rtatman/data-cleaning-challenge-parsing-dates](https://www.kaggle.com/rtatman/data-cleaning-challenge-parsing-dates)\n",
    "Optional: if you want to download this dataset from this source, scroll down to the `input(3)` section, under `Data Sources` --> `Landslides After Rainfall, 2007-2016` --> `catalog.csv`."
   ]
  },
  {
   "cell_type": "code",
   "execution_count": null,
   "metadata": {
    "cell_id": "74491ea0-f61c-40f6-a092-844549b93557",
    "deepnote_cell_type": "code",
    "tags": []
   },
   "outputs": [
    {
     "data": {
      "application/vnd.deepnote.dataframe.v2+json": {
       "column_count": 23,
       "columns": [
        {
         "dtype": "int64",
         "name": "id",
         "stats": {
          "histogram": [
           {
            "bin_end": 36.7,
            "bin_start": 34,
            "count": 1
           },
           {
            "bin_end": 39.4,
            "bin_start": 36.7,
            "count": 0
           },
           {
            "bin_end": 42.1,
            "bin_start": 39.4,
            "count": 1
           },
           {
            "bin_end": 44.8,
            "bin_start": 42.1,
            "count": 0
           },
           {
            "bin_end": 47.5,
            "bin_start": 44.8,
            "count": 0
           },
           {
            "bin_end": 50.2,
            "bin_start": 47.5,
            "count": 0
           },
           {
            "bin_end": 52.900000000000006,
            "bin_start": 50.2,
            "count": 0
           },
           {
            "bin_end": 55.6,
            "bin_start": 52.900000000000006,
            "count": 0
           },
           {
            "bin_end": 58.3,
            "bin_start": 55.6,
            "count": 1
           },
           {
            "bin_end": 61,
            "bin_start": 58.3,
            "count": 2
           }
          ],
          "max": 61,
          "min": 34,
          "nan_count": 0,
          "unique_count": 5
         }
        },
        {
         "dtype": "object",
         "name": "date",
         "stats": {
          "categories": [
           {
            "count": 1,
            "name": "3/2/07"
           },
           {
            "count": 1,
            "name": "3/22/07"
           },
           {
            "count": 3,
            "name": "3 others"
           }
          ],
          "nan_count": 0,
          "unique_count": 5
         }
        },
        {
         "dtype": "object",
         "name": "time",
         "stats": {
          "categories": [
           {
            "count": 1,
            "name": "Night"
           },
           {
            "count": 4,
            "name": "Missing"
           }
          ],
          "nan_count": 4,
          "unique_count": 1
         }
        },
        {
         "dtype": "object",
         "name": "continent_code",
         "stats": {
          "categories": [
           {
            "count": 5,
            "name": "Missing"
           }
          ],
          "nan_count": 5,
          "unique_count": 0
         }
        },
        {
         "dtype": "object",
         "name": "country_name",
         "stats": {
          "categories": [
           {
            "count": 4,
            "name": "United States"
           },
           {
            "count": 1,
            "name": "Canada"
           }
          ],
          "nan_count": 0,
          "unique_count": 2
         }
        },
        {
         "dtype": "object",
         "name": "country_code",
         "stats": {
          "categories": [
           {
            "count": 4,
            "name": "US"
           },
           {
            "count": 1,
            "name": "CA"
           }
          ],
          "nan_count": 0,
          "unique_count": 2
         }
        },
        {
         "dtype": "object",
         "name": "state/province",
         "stats": {
          "categories": [
           {
            "count": 1,
            "name": "Virginia"
           },
           {
            "count": 1,
            "name": "Ohio"
           },
           {
            "count": 3,
            "name": "3 others"
           }
          ],
          "nan_count": 0,
          "unique_count": 5
         }
        },
        {
         "dtype": "int64",
         "name": "population",
         "stats": {
          "histogram": [
           {
            "bin_end": 10491.3,
            "bin_start": 6903,
            "count": 1
           },
           {
            "bin_end": 14079.6,
            "bin_start": 10491.3,
            "count": 0
           },
           {
            "bin_end": 17667.9,
            "bin_start": 14079.6,
            "count": 3
           },
           {
            "bin_end": 21256.2,
            "bin_start": 17667.9,
            "count": 0
           },
           {
            "bin_end": 24844.5,
            "bin_start": 21256.2,
            "count": 0
           },
           {
            "bin_end": 28432.800000000003,
            "bin_start": 24844.5,
            "count": 0
           },
           {
            "bin_end": 32021.100000000002,
            "bin_start": 28432.800000000003,
            "count": 0
           },
           {
            "bin_end": 35609.4,
            "bin_start": 32021.100000000002,
            "count": 0
           },
           {
            "bin_end": 39197.7,
            "bin_start": 35609.4,
            "count": 0
           },
           {
            "bin_end": 42786,
            "bin_start": 39197.7,
            "count": 1
           }
          ],
          "max": 42786,
          "min": 6903,
          "nan_count": 0,
          "unique_count": 5
         }
        },
        {
         "dtype": "object",
         "name": "city/town",
         "stats": {
          "categories": [
           {
            "count": 1,
            "name": "Cherry Hill"
           },
           {
            "count": 1,
            "name": "New Philadelphia"
           },
           {
            "count": 3,
            "name": "3 others"
           }
          ],
          "nan_count": 0,
          "unique_count": 5
         }
        },
        {
         "dtype": "float64",
         "name": "distance",
         "stats": {
          "histogram": [
           {
            "bin_end": 3.194335,
            "bin_start": 2.91977,
            "count": 2
           },
           {
            "bin_end": 3.4689,
            "bin_start": 3.194335,
            "count": 2
           },
           {
            "bin_end": 3.7434650000000005,
            "bin_start": 3.4689,
            "count": 0
           },
           {
            "bin_end": 4.01803,
            "bin_start": 3.7434650000000005,
            "count": 0
           },
           {
            "bin_end": 4.292595,
            "bin_start": 4.01803,
            "count": 0
           },
           {
            "bin_end": 4.56716,
            "bin_start": 4.292595,
            "count": 0
           },
           {
            "bin_end": 4.841725,
            "bin_start": 4.56716,
            "count": 0
           },
           {
            "bin_end": 5.11629,
            "bin_start": 4.841725,
            "count": 0
           },
           {
            "bin_end": 5.390855,
            "bin_start": 5.11629,
            "count": 0
           },
           {
            "bin_end": 5.66542,
            "bin_start": 5.390855,
            "count": 1
           }
          ],
          "max": 5.66542,
          "min": 2.91977,
          "nan_count": 0,
          "unique_count": 5
         }
        },
        {
         "dtype": "object",
         "name": "location_description",
         "stats": {
          "categories": [
           {
            "count": 1,
            "name": "Unknown"
           },
           {
            "count": 3,
            "name": "3 others"
           },
           {
            "count": 1,
            "name": "Missing"
           }
          ],
          "nan_count": 1,
          "unique_count": 4
         }
        },
        {
         "dtype": "float64",
         "name": "latitude",
         "stats": {
          "histogram": [
           {
            "bin_end": 38.221509999999995,
            "bin_start": 37.4325,
            "count": 1
           },
           {
            "bin_end": 39.01052,
            "bin_start": 38.221509999999995,
            "count": 1
           },
           {
            "bin_end": 39.79953,
            "bin_start": 39.01052,
            "count": 0
           },
           {
            "bin_end": 40.58854,
            "bin_start": 39.79953,
            "count": 2
           },
           {
            "bin_end": 41.37755,
            "bin_start": 40.58854,
            "count": 0
           },
           {
            "bin_end": 42.166560000000004,
            "bin_start": 41.37755,
            "count": 0
           },
           {
            "bin_end": 42.95557,
            "bin_start": 42.166560000000004,
            "count": 0
           },
           {
            "bin_end": 43.74458,
            "bin_start": 42.95557,
            "count": 0
           },
           {
            "bin_end": 44.533590000000004,
            "bin_start": 43.74458,
            "count": 0
           },
           {
            "bin_end": 45.3226,
            "bin_start": 44.533590000000004,
            "count": 1
           }
          ],
          "max": 45.3226,
          "min": 37.4325,
          "nan_count": 0,
          "unique_count": 5
         }
        },
        {
         "dtype": "float64",
         "name": "longitude",
         "stats": {
          "histogram": [
           {
            "bin_end": -81.6215,
            "bin_start": -82.4931,
            "count": 1
           },
           {
            "bin_end": -80.7499,
            "bin_start": -81.6215,
            "count": 1
           },
           {
            "bin_end": -79.8783,
            "bin_start": -80.7499,
            "count": 1
           },
           {
            "bin_end": -79.0067,
            "bin_start": -79.8783,
            "count": 0
           },
           {
            "bin_end": -78.1351,
            "bin_start": -79.0067,
            "count": 0
           },
           {
            "bin_end": -77.26350000000001,
            "bin_start": -78.1351,
            "count": 1
           },
           {
            "bin_end": -76.3919,
            "bin_start": -77.26350000000001,
            "count": 0
           },
           {
            "bin_end": -75.5203,
            "bin_start": -76.3919,
            "count": 0
           },
           {
            "bin_end": -74.6487,
            "bin_start": -75.5203,
            "count": 0
           },
           {
            "bin_end": -73.7771,
            "bin_start": -74.6487,
            "count": 1
           }
          ],
          "max": -73.7771,
          "min": -82.4931,
          "nan_count": 0,
          "unique_count": 5
         }
        },
        {
         "dtype": "object",
         "name": "geolocation",
         "stats": {
          "categories": [
           {
            "count": 1,
            "name": "(38.600900000000003, -77.268199999999993)"
           },
           {
            "count": 1,
            "name": "(40.517499999999998, -81.430499999999995)"
           },
           {
            "count": 3,
            "name": "3 others"
           }
          ],
          "nan_count": 0,
          "unique_count": 5
         }
        },
        {
         "dtype": "object",
         "name": "hazard_type",
         "stats": {
          "categories": [
           {
            "count": 5,
            "name": "Landslide"
           }
          ],
          "nan_count": 0,
          "unique_count": 1
         }
        },
        {
         "dtype": "object",
         "name": "landslide_type",
         "stats": {
          "categories": [
           {
            "count": 4,
            "name": "Landslide"
           },
           {
            "count": 1,
            "name": "Riverbank collapse"
           }
          ],
          "nan_count": 0,
          "unique_count": 2
         }
        },
        {
         "dtype": "object",
         "name": "landslide_size",
         "stats": {
          "categories": [
           {
            "count": 5,
            "name": "Small"
           }
          ],
          "nan_count": 0,
          "unique_count": 1
         }
        },
        {
         "dtype": "object",
         "name": "trigger",
         "stats": {
          "categories": [
           {
            "count": 4,
            "name": "Rain"
           },
           {
            "count": 1,
            "name": "Downpour"
           }
          ],
          "nan_count": 0,
          "unique_count": 2
         }
        },
        {
         "dtype": "object",
         "name": "storm_name",
         "stats": {
          "categories": [
           {
            "count": 5,
            "name": "Missing"
           }
          ],
          "nan_count": 5,
          "unique_count": 0
         }
        },
        {
         "dtype": "float64",
         "name": "injuries",
         "stats": {
          "histogram": [
           {
            "bin_end": 0.1,
            "bin_start": 0,
            "count": 0
           },
           {
            "bin_end": 0.2,
            "bin_start": 0.1,
            "count": 0
           },
           {
            "bin_end": 0.30000000000000004,
            "bin_start": 0.2,
            "count": 0
           },
           {
            "bin_end": 0.4,
            "bin_start": 0.30000000000000004,
            "count": 0
           },
           {
            "bin_end": 0.5,
            "bin_start": 0.4,
            "count": 0
           },
           {
            "bin_end": 0.6000000000000001,
            "bin_start": 0.5,
            "count": 0
           },
           {
            "bin_end": 0.7000000000000001,
            "bin_start": 0.6000000000000001,
            "count": 0
           },
           {
            "bin_end": 0.8,
            "bin_start": 0.7000000000000001,
            "count": 0
           },
           {
            "bin_end": 0.9,
            "bin_start": 0.8,
            "count": 0
           },
           {
            "bin_end": 1,
            "bin_start": 0.9,
            "count": 0
           }
          ],
          "max": null,
          "min": null,
          "nan_count": 5,
          "unique_count": 0
         }
        },
        {
         "dtype": "float64",
         "name": "fatalities",
         "stats": {
          "histogram": [
           {
            "bin_end": -0.4,
            "bin_start": -0.5,
            "count": 0
           },
           {
            "bin_end": -0.3,
            "bin_start": -0.4,
            "count": 0
           },
           {
            "bin_end": -0.19999999999999996,
            "bin_start": -0.3,
            "count": 0
           },
           {
            "bin_end": -0.09999999999999998,
            "bin_start": -0.19999999999999996,
            "count": 0
           },
           {
            "bin_end": 0,
            "bin_start": -0.09999999999999998,
            "count": 0
           },
           {
            "bin_end": 0.10000000000000009,
            "bin_start": 0,
            "count": 1
           },
           {
            "bin_end": 0.20000000000000007,
            "bin_start": 0.10000000000000009,
            "count": 0
           },
           {
            "bin_end": 0.30000000000000004,
            "bin_start": 0.20000000000000007,
            "count": 0
           },
           {
            "bin_end": 0.4,
            "bin_start": 0.30000000000000004,
            "count": 0
           },
           {
            "bin_end": 0.5,
            "bin_start": 0.4,
            "count": 0
           }
          ],
          "max": 0,
          "min": 0,
          "nan_count": 4,
          "unique_count": 1
         }
        },
        {
         "dtype": "object",
         "name": "source_name",
         "stats": {
          "categories": [
           {
            "count": 1,
            "name": "NBC 4 news"
           },
           {
            "count": 1,
            "name": "Canton Rep.com"
           },
           {
            "count": 3,
            "name": "3 others"
           }
          ],
          "nan_count": 0,
          "unique_count": 5
         }
        },
        {
         "dtype": "object",
         "name": "source_link",
         "stats": {
          "categories": [
           {
            "count": 1,
            "name": "http://www.nbc4.com/news/11186871/detail.html"
           },
           {
            "count": 3,
            "name": "3 others"
           },
           {
            "count": 1,
            "name": "Missing"
           }
          ],
          "nan_count": 1,
          "unique_count": 4
         }
        },
        {
         "dtype": "int64",
         "name": "_deepnote_index_column"
        }
       ],
       "row_count": 5,
       "rows_bottom": null,
       "rows_top": [
        {
         "_deepnote_index_column": 0,
         "city/town": "Cherry Hill",
         "continent_code": "nan",
         "country_code": "US",
         "country_name": "United States",
         "date": "3/2/07",
         "distance": 3.40765,
         "fatalities": "nan",
         "geolocation": "(38.600900000000003, -77.268199999999993)",
         "hazard_type": "Landslide",
         "id": 34,
         "injuries": "nan",
         "landslide_size": "Small",
         "landslide_type": "Landslide",
         "latitude": 38.6009,
         "location_description": "Unknown",
         "longitude": -77.2682,
         "population": 16000,
         "source_link": "http://www.nbc4.com/news/11186871/detail.html",
         "source_name": "NBC 4 news",
         "state/province": "Virginia",
         "storm_name": "nan",
         "time": "Night",
         "trigger": "Rain"
        },
        {
         "_deepnote_index_column": 1,
         "city/town": "New Philadelphia",
         "continent_code": "nan",
         "country_code": "US",
         "country_name": "United States",
         "date": "3/22/07",
         "distance": 3.3352199999999996,
         "fatalities": "nan",
         "geolocation": "(40.517499999999998, -81.430499999999995)",
         "hazard_type": "Landslide",
         "id": 42,
         "injuries": "nan",
         "landslide_size": "Small",
         "landslide_type": "Landslide",
         "latitude": 40.5175,
         "location_description": "nan",
         "longitude": -81.4305,
         "population": 17288,
         "source_link": "http://www.cantonrep.com/index.php?ID=345054&Category=9&subCategoryID=0",
         "source_name": "Canton Rep.com",
         "state/province": "Ohio",
         "storm_name": "nan",
         "time": "nan",
         "trigger": "Rain"
        },
        {
         "_deepnote_index_column": 2,
         "city/town": "Wilkinsburg",
         "continent_code": "nan",
         "country_code": "US",
         "country_name": "United States",
         "date": "4/6/07",
         "distance": 2.91977,
         "fatalities": "nan",
         "geolocation": "(40.4377, -79.915999999999997)",
         "hazard_type": "Landslide",
         "id": 56,
         "injuries": "nan",
         "landslide_size": "Small",
         "landslide_type": "Landslide",
         "latitude": 40.4377,
         "location_description": "Urban area",
         "longitude": -79.916,
         "population": 15930,
         "source_link": "https://web.archive.org/web/20080423132842/http://www.thepittsburghchannel.com/news/11846833/detail.html",
         "source_name": "The Pittsburgh Channel.com",
         "state/province": "Pennsylvania",
         "storm_name": "nan",
         "time": "nan",
         "trigger": "Rain"
        },
        {
         "_deepnote_index_column": 3,
         "city/town": "Châteauguay",
         "continent_code": "nan",
         "country_code": "CA",
         "country_name": "Canada",
         "date": "4/14/07",
         "distance": 2.9868200000000003,
         "fatalities": "nan",
         "geolocation": "(45.322600000000001, -73.777100000000004)",
         "hazard_type": "Landslide",
         "id": 59,
         "injuries": "nan",
         "landslide_size": "Small",
         "landslide_type": "Riverbank collapse",
         "latitude": 45.3226,
         "location_description": "Above river",
         "longitude": -73.7771,
         "population": 42786,
         "source_link": "http://www.hebdos.net/lsc/edition162007/articles.asp?article_id=166976",
         "source_name": "Le Soleil",
         "state/province": "Quebec",
         "storm_name": "nan",
         "time": "nan",
         "trigger": "Rain"
        },
        {
         "_deepnote_index_column": 4,
         "city/town": "Pikeville",
         "continent_code": "nan",
         "country_code": "US",
         "country_name": "United States",
         "date": "4/15/07",
         "distance": 5.66542,
         "fatalities": 0,
         "geolocation": "(37.432499999999997, -82.493099999999998)",
         "hazard_type": "Landslide",
         "id": 61,
         "injuries": "nan",
         "landslide_size": "Small",
         "landslide_type": "Landslide",
         "latitude": 37.4325,
         "location_description": "Below road",
         "longitude": -82.4931,
         "population": 6903,
         "source_link": "nan",
         "source_name": "Matthew Crawford (KGS)",
         "state/province": "Kentucky",
         "storm_name": "nan",
         "time": "nan",
         "trigger": "Downpour"
        }
       ]
      },
      "text/html": [
       "<div>\n",
       "<style scoped>\n",
       "    .dataframe tbody tr th:only-of-type {\n",
       "        vertical-align: middle;\n",
       "    }\n",
       "\n",
       "    .dataframe tbody tr th {\n",
       "        vertical-align: top;\n",
       "    }\n",
       "\n",
       "    .dataframe thead th {\n",
       "        text-align: right;\n",
       "    }\n",
       "</style>\n",
       "<table border=\"1\" class=\"dataframe\">\n",
       "  <thead>\n",
       "    <tr style=\"text-align: right;\">\n",
       "      <th></th>\n",
       "      <th>id</th>\n",
       "      <th>date</th>\n",
       "      <th>time</th>\n",
       "      <th>continent_code</th>\n",
       "      <th>country_name</th>\n",
       "      <th>country_code</th>\n",
       "      <th>state/province</th>\n",
       "      <th>population</th>\n",
       "      <th>city/town</th>\n",
       "      <th>distance</th>\n",
       "      <th>...</th>\n",
       "      <th>geolocation</th>\n",
       "      <th>hazard_type</th>\n",
       "      <th>landslide_type</th>\n",
       "      <th>landslide_size</th>\n",
       "      <th>trigger</th>\n",
       "      <th>storm_name</th>\n",
       "      <th>injuries</th>\n",
       "      <th>fatalities</th>\n",
       "      <th>source_name</th>\n",
       "      <th>source_link</th>\n",
       "    </tr>\n",
       "  </thead>\n",
       "  <tbody>\n",
       "    <tr>\n",
       "      <th>0</th>\n",
       "      <td>34</td>\n",
       "      <td>3/2/07</td>\n",
       "      <td>Night</td>\n",
       "      <td>NaN</td>\n",
       "      <td>United States</td>\n",
       "      <td>US</td>\n",
       "      <td>Virginia</td>\n",
       "      <td>16000</td>\n",
       "      <td>Cherry Hill</td>\n",
       "      <td>3.40765</td>\n",
       "      <td>...</td>\n",
       "      <td>(38.600900000000003, -77.268199999999993)</td>\n",
       "      <td>Landslide</td>\n",
       "      <td>Landslide</td>\n",
       "      <td>Small</td>\n",
       "      <td>Rain</td>\n",
       "      <td>NaN</td>\n",
       "      <td>NaN</td>\n",
       "      <td>NaN</td>\n",
       "      <td>NBC 4 news</td>\n",
       "      <td>http://www.nbc4.com/news/11186871/detail.html</td>\n",
       "    </tr>\n",
       "    <tr>\n",
       "      <th>1</th>\n",
       "      <td>42</td>\n",
       "      <td>3/22/07</td>\n",
       "      <td>NaN</td>\n",
       "      <td>NaN</td>\n",
       "      <td>United States</td>\n",
       "      <td>US</td>\n",
       "      <td>Ohio</td>\n",
       "      <td>17288</td>\n",
       "      <td>New Philadelphia</td>\n",
       "      <td>3.33522</td>\n",
       "      <td>...</td>\n",
       "      <td>(40.517499999999998, -81.430499999999995)</td>\n",
       "      <td>Landslide</td>\n",
       "      <td>Landslide</td>\n",
       "      <td>Small</td>\n",
       "      <td>Rain</td>\n",
       "      <td>NaN</td>\n",
       "      <td>NaN</td>\n",
       "      <td>NaN</td>\n",
       "      <td>Canton Rep.com</td>\n",
       "      <td>http://www.cantonrep.com/index.php?ID=345054&amp;C...</td>\n",
       "    </tr>\n",
       "    <tr>\n",
       "      <th>2</th>\n",
       "      <td>56</td>\n",
       "      <td>4/6/07</td>\n",
       "      <td>NaN</td>\n",
       "      <td>NaN</td>\n",
       "      <td>United States</td>\n",
       "      <td>US</td>\n",
       "      <td>Pennsylvania</td>\n",
       "      <td>15930</td>\n",
       "      <td>Wilkinsburg</td>\n",
       "      <td>2.91977</td>\n",
       "      <td>...</td>\n",
       "      <td>(40.4377, -79.915999999999997)</td>\n",
       "      <td>Landslide</td>\n",
       "      <td>Landslide</td>\n",
       "      <td>Small</td>\n",
       "      <td>Rain</td>\n",
       "      <td>NaN</td>\n",
       "      <td>NaN</td>\n",
       "      <td>NaN</td>\n",
       "      <td>The Pittsburgh Channel.com</td>\n",
       "      <td>https://web.archive.org/web/20080423132842/htt...</td>\n",
       "    </tr>\n",
       "    <tr>\n",
       "      <th>3</th>\n",
       "      <td>59</td>\n",
       "      <td>4/14/07</td>\n",
       "      <td>NaN</td>\n",
       "      <td>NaN</td>\n",
       "      <td>Canada</td>\n",
       "      <td>CA</td>\n",
       "      <td>Quebec</td>\n",
       "      <td>42786</td>\n",
       "      <td>Châteauguay</td>\n",
       "      <td>2.98682</td>\n",
       "      <td>...</td>\n",
       "      <td>(45.322600000000001, -73.777100000000004)</td>\n",
       "      <td>Landslide</td>\n",
       "      <td>Riverbank collapse</td>\n",
       "      <td>Small</td>\n",
       "      <td>Rain</td>\n",
       "      <td>NaN</td>\n",
       "      <td>NaN</td>\n",
       "      <td>NaN</td>\n",
       "      <td>Le Soleil</td>\n",
       "      <td>http://www.hebdos.net/lsc/edition162007/articl...</td>\n",
       "    </tr>\n",
       "    <tr>\n",
       "      <th>4</th>\n",
       "      <td>61</td>\n",
       "      <td>4/15/07</td>\n",
       "      <td>NaN</td>\n",
       "      <td>NaN</td>\n",
       "      <td>United States</td>\n",
       "      <td>US</td>\n",
       "      <td>Kentucky</td>\n",
       "      <td>6903</td>\n",
       "      <td>Pikeville</td>\n",
       "      <td>5.66542</td>\n",
       "      <td>...</td>\n",
       "      <td>(37.432499999999997, -82.493099999999998)</td>\n",
       "      <td>Landslide</td>\n",
       "      <td>Landslide</td>\n",
       "      <td>Small</td>\n",
       "      <td>Downpour</td>\n",
       "      <td>NaN</td>\n",
       "      <td>NaN</td>\n",
       "      <td>0.0</td>\n",
       "      <td>Matthew Crawford (KGS)</td>\n",
       "      <td>NaN</td>\n",
       "    </tr>\n",
       "  </tbody>\n",
       "</table>\n",
       "<p>5 rows × 23 columns</p>\n",
       "</div>"
      ],
      "text/plain": [
       "   id     date   time continent_code   country_name country_code  \\\n",
       "0  34   3/2/07  Night            NaN  United States           US   \n",
       "1  42  3/22/07    NaN            NaN  United States           US   \n",
       "2  56   4/6/07    NaN            NaN  United States           US   \n",
       "3  59  4/14/07    NaN            NaN         Canada           CA   \n",
       "4  61  4/15/07    NaN            NaN  United States           US   \n",
       "\n",
       "  state/province  population         city/town  distance  ...  \\\n",
       "0       Virginia       16000       Cherry Hill   3.40765  ...   \n",
       "1           Ohio       17288  New Philadelphia   3.33522  ...   \n",
       "2   Pennsylvania       15930       Wilkinsburg   2.91977  ...   \n",
       "3         Quebec       42786       Châteauguay   2.98682  ...   \n",
       "4       Kentucky        6903         Pikeville   5.66542  ...   \n",
       "\n",
       "                                 geolocation  hazard_type      landslide_type  \\\n",
       "0  (38.600900000000003, -77.268199999999993)    Landslide           Landslide   \n",
       "1  (40.517499999999998, -81.430499999999995)    Landslide           Landslide   \n",
       "2             (40.4377, -79.915999999999997)    Landslide           Landslide   \n",
       "3  (45.322600000000001, -73.777100000000004)    Landslide  Riverbank collapse   \n",
       "4  (37.432499999999997, -82.493099999999998)    Landslide           Landslide   \n",
       "\n",
       "  landslide_size   trigger storm_name injuries fatalities  \\\n",
       "0          Small      Rain        NaN      NaN        NaN   \n",
       "1          Small      Rain        NaN      NaN        NaN   \n",
       "2          Small      Rain        NaN      NaN        NaN   \n",
       "3          Small      Rain        NaN      NaN        NaN   \n",
       "4          Small  Downpour        NaN      NaN        0.0   \n",
       "\n",
       "                  source_name  \\\n",
       "0                  NBC 4 news   \n",
       "1              Canton Rep.com   \n",
       "2  The Pittsburgh Channel.com   \n",
       "3                   Le Soleil   \n",
       "4      Matthew Crawford (KGS)   \n",
       "\n",
       "                                         source_link  \n",
       "0      http://www.nbc4.com/news/11186871/detail.html  \n",
       "1  http://www.cantonrep.com/index.php?ID=345054&C...  \n",
       "2  https://web.archive.org/web/20080423132842/htt...  \n",
       "3  http://www.hebdos.net/lsc/edition162007/articl...  \n",
       "4                                                NaN  \n",
       "\n",
       "[5 rows x 23 columns]"
      ]
     },
     "execution_count": 70,
     "metadata": {},
     "output_type": "execute_result"
    }
   ],
   "source": [
    "import pandas as pd\n",
    "import seaborn as sns\n",
    "import numpy as np\n",
    "landslides = pd.read_csv('landslides.csv')\n",
    "landslides.head()\n",
    "pd.options.display.max_columns = None"
   ]
  },
  {
   "cell_type": "markdown",
   "metadata": {
    "cell_id": "0ffa1b72-4cd0-48ad-9588-fc73388dc6a0",
    "deepnote_cell_type": "markdown",
    "tags": []
   },
   "source": [
    "## Dropping missing values and NaN imputations\n",
    "\n",
    "Before doing any analysis on the data, it's always good to check your data for missing values. \n",
    "If the data is missing from the CSV you read in, the missing values will often be portrayed as `NaN`, which is the dafualt way pandas encode missing values. \n",
    "Sometimes the missing values are caused by unintentional manual or programatic errors, but there are other times where the data is actually missing.\n",
    "Before you deal with the missing values, it's always better to read the description of the data to understand where the missing data might be from, and seeing where the missing data are distributed in case the pattern of missing data also discloses more information.\n",
    "\n",
    "It is ultimately a subjective decision to keep the `NaN` values or not. If the missing values you are seeing is due to manual input errors, then imputing the data might be a good option for you.\n",
    "However, if it's programatic error that caused the missing values, then it might be more beneficial for you to discover what the programatic error is, and to correct the error so the missing values can be read in correctly. \n",
    "With the actual missing values, same thought process apllies: what is the pattern of the missing data? What is the reason for the missing data?\n",
    "Often times, it is much better to find the underlying reason for the missing data and fill it in accordingly. \n",
    "\n",
    "It can be tempting to fill in all missing values as `0`, but often times, this is not the best course of action. \n",
    "For example, if your data records the home sale prices, then just replacing the missing sale prices with `0` may imply that the property is actually sold for $0. \n"
   ]
  },
  {
   "cell_type": "markdown",
   "metadata": {
    "cell_id": "cf649471-0242-4824-b844-d87cfcb9721e",
    "deepnote_cell_type": "markdown",
    "tags": []
   },
   "source": [
    "### Type of missing values\n",
    "\n",
    "There are many types of missing values, the most common of which being `NaN`. \n",
    "In some datasets, however, they would input the missing data as 1, -9999, or infinity. \n",
    "Sometimes the `NaN` values are already dealt with in the data, where the missing values for strings may be encoded as \"N/A\" or \"missing\".\n",
    "If the missing data is time, it might be presented as 00:00:00 UTC, January first, 1970. \n",
    "This is because Linux is following the tradition set by Unix of counting time in seconds since its official \"birthday,\" - called \"epoch\" in computing terms - which is Jan. 1, 1970.\n",
    "This date is also referred to as the default Unix time.\n",
    "\n",
    "In the landslide dataset we loaded above, the missing values are of type `NaN`"
   ]
  },
  {
   "cell_type": "markdown",
   "metadata": {
    "cell_id": "eb9d7932-86ed-4c50-9cfa-9e842aa80331",
    "deepnote_cell_type": "markdown",
    "tags": []
   },
   "source": [
    "Before dealing with the missing values, let's look at how many rows and how many columns our data has. \n",
    "This will give us a rough idea on how much of the data is missing from a specific column later on. "
   ]
  },
  {
   "cell_type": "code",
   "execution_count": null,
   "metadata": {
    "cell_id": "90df047d-f38e-46b7-b925-0fbb13f5681f",
    "deepnote_cell_type": "code",
    "tags": []
   },
   "outputs": [
    {
     "data": {
      "text/plain": [
       "(1693, 23)"
      ]
     },
     "execution_count": 9,
     "metadata": {},
     "output_type": "execute_result"
    }
   ],
   "source": [
    "landslides.shape"
   ]
  },
  {
   "cell_type": "markdown",
   "metadata": {
    "cell_id": "f9d5afe2-b446-4c69-ac3e-e67120f2ac0d",
    "deepnote_cell_type": "markdown",
    "tags": []
   },
   "source": [
    "In pandas, `df.isnull()` will return a data frame of `True` and `False` values, where `True` signifies that there is a missing value at\n",
    " that specifc row and column"
   ]
  },
  {
   "cell_type": "code",
   "execution_count": null,
   "metadata": {
    "cell_id": "0ce83a23-ef84-4881-be0c-87c7b7a2686f",
    "deepnote_cell_type": "code",
    "tags": []
   },
   "outputs": [
    {
     "data": {
      "application/vnd.deepnote.dataframe.v2+json": {
       "column_count": 23,
       "columns": [
        {
         "dtype": "bool",
         "name": "id",
         "stats": {
          "categories": [
           {
            "count": 5,
            "name": "False"
           }
          ],
          "nan_count": 0,
          "unique_count": 1
         }
        },
        {
         "dtype": "bool",
         "name": "date",
         "stats": {
          "categories": [
           {
            "count": 5,
            "name": "False"
           }
          ],
          "nan_count": 0,
          "unique_count": 1
         }
        },
        {
         "dtype": "bool",
         "name": "time",
         "stats": {
          "categories": [
           {
            "count": 4,
            "name": "True"
           },
           {
            "count": 1,
            "name": "False"
           }
          ],
          "nan_count": 0,
          "unique_count": 2
         }
        },
        {
         "dtype": "bool",
         "name": "continent_code",
         "stats": {
          "categories": [
           {
            "count": 5,
            "name": "True"
           }
          ],
          "nan_count": 0,
          "unique_count": 1
         }
        },
        {
         "dtype": "bool",
         "name": "country_name",
         "stats": {
          "categories": [
           {
            "count": 5,
            "name": "False"
           }
          ],
          "nan_count": 0,
          "unique_count": 1
         }
        },
        {
         "dtype": "bool",
         "name": "country_code",
         "stats": {
          "categories": [
           {
            "count": 5,
            "name": "False"
           }
          ],
          "nan_count": 0,
          "unique_count": 1
         }
        },
        {
         "dtype": "bool",
         "name": "state/province",
         "stats": {
          "categories": [
           {
            "count": 5,
            "name": "False"
           }
          ],
          "nan_count": 0,
          "unique_count": 1
         }
        },
        {
         "dtype": "bool",
         "name": "population",
         "stats": {
          "categories": [
           {
            "count": 5,
            "name": "False"
           }
          ],
          "nan_count": 0,
          "unique_count": 1
         }
        },
        {
         "dtype": "bool",
         "name": "city/town",
         "stats": {
          "categories": [
           {
            "count": 5,
            "name": "False"
           }
          ],
          "nan_count": 0,
          "unique_count": 1
         }
        },
        {
         "dtype": "bool",
         "name": "distance",
         "stats": {
          "categories": [
           {
            "count": 5,
            "name": "False"
           }
          ],
          "nan_count": 0,
          "unique_count": 1
         }
        },
        {
         "dtype": "bool",
         "name": "location_description",
         "stats": {
          "categories": [
           {
            "count": 4,
            "name": "False"
           },
           {
            "count": 1,
            "name": "True"
           }
          ],
          "nan_count": 0,
          "unique_count": 2
         }
        },
        {
         "dtype": "bool",
         "name": "latitude",
         "stats": {
          "categories": [
           {
            "count": 5,
            "name": "False"
           }
          ],
          "nan_count": 0,
          "unique_count": 1
         }
        },
        {
         "dtype": "bool",
         "name": "longitude",
         "stats": {
          "categories": [
           {
            "count": 5,
            "name": "False"
           }
          ],
          "nan_count": 0,
          "unique_count": 1
         }
        },
        {
         "dtype": "bool",
         "name": "geolocation",
         "stats": {
          "categories": [
           {
            "count": 5,
            "name": "False"
           }
          ],
          "nan_count": 0,
          "unique_count": 1
         }
        },
        {
         "dtype": "bool",
         "name": "hazard_type",
         "stats": {
          "categories": [
           {
            "count": 5,
            "name": "False"
           }
          ],
          "nan_count": 0,
          "unique_count": 1
         }
        },
        {
         "dtype": "bool",
         "name": "landslide_type",
         "stats": {
          "categories": [
           {
            "count": 5,
            "name": "False"
           }
          ],
          "nan_count": 0,
          "unique_count": 1
         }
        },
        {
         "dtype": "bool",
         "name": "landslide_size",
         "stats": {
          "categories": [
           {
            "count": 5,
            "name": "False"
           }
          ],
          "nan_count": 0,
          "unique_count": 1
         }
        },
        {
         "dtype": "bool",
         "name": "trigger",
         "stats": {
          "categories": [
           {
            "count": 5,
            "name": "False"
           }
          ],
          "nan_count": 0,
          "unique_count": 1
         }
        },
        {
         "dtype": "bool",
         "name": "storm_name",
         "stats": {
          "categories": [
           {
            "count": 5,
            "name": "True"
           }
          ],
          "nan_count": 0,
          "unique_count": 1
         }
        },
        {
         "dtype": "bool",
         "name": "injuries",
         "stats": {
          "categories": [
           {
            "count": 5,
            "name": "True"
           }
          ],
          "nan_count": 0,
          "unique_count": 1
         }
        },
        {
         "dtype": "bool",
         "name": "fatalities",
         "stats": {
          "categories": [
           {
            "count": 4,
            "name": "True"
           },
           {
            "count": 1,
            "name": "False"
           }
          ],
          "nan_count": 0,
          "unique_count": 2
         }
        },
        {
         "dtype": "bool",
         "name": "source_name",
         "stats": {
          "categories": [
           {
            "count": 5,
            "name": "False"
           }
          ],
          "nan_count": 0,
          "unique_count": 1
         }
        },
        {
         "dtype": "bool",
         "name": "source_link",
         "stats": {
          "categories": [
           {
            "count": 4,
            "name": "False"
           },
           {
            "count": 1,
            "name": "True"
           }
          ],
          "nan_count": 0,
          "unique_count": 2
         }
        },
        {
         "dtype": "int64",
         "name": "_deepnote_index_column"
        }
       ],
       "row_count": 5,
       "rows_bottom": null,
       "rows_top": [
        {
         "_deepnote_index_column": 0,
         "city/town": false,
         "continent_code": true,
         "country_code": false,
         "country_name": false,
         "date": false,
         "distance": false,
         "fatalities": true,
         "geolocation": false,
         "hazard_type": false,
         "id": false,
         "injuries": true,
         "landslide_size": false,
         "landslide_type": false,
         "latitude": false,
         "location_description": false,
         "longitude": false,
         "population": false,
         "source_link": false,
         "source_name": false,
         "state/province": false,
         "storm_name": true,
         "time": false,
         "trigger": false
        },
        {
         "_deepnote_index_column": 1,
         "city/town": false,
         "continent_code": true,
         "country_code": false,
         "country_name": false,
         "date": false,
         "distance": false,
         "fatalities": true,
         "geolocation": false,
         "hazard_type": false,
         "id": false,
         "injuries": true,
         "landslide_size": false,
         "landslide_type": false,
         "latitude": false,
         "location_description": true,
         "longitude": false,
         "population": false,
         "source_link": false,
         "source_name": false,
         "state/province": false,
         "storm_name": true,
         "time": true,
         "trigger": false
        },
        {
         "_deepnote_index_column": 2,
         "city/town": false,
         "continent_code": true,
         "country_code": false,
         "country_name": false,
         "date": false,
         "distance": false,
         "fatalities": true,
         "geolocation": false,
         "hazard_type": false,
         "id": false,
         "injuries": true,
         "landslide_size": false,
         "landslide_type": false,
         "latitude": false,
         "location_description": false,
         "longitude": false,
         "population": false,
         "source_link": false,
         "source_name": false,
         "state/province": false,
         "storm_name": true,
         "time": true,
         "trigger": false
        },
        {
         "_deepnote_index_column": 3,
         "city/town": false,
         "continent_code": true,
         "country_code": false,
         "country_name": false,
         "date": false,
         "distance": false,
         "fatalities": true,
         "geolocation": false,
         "hazard_type": false,
         "id": false,
         "injuries": true,
         "landslide_size": false,
         "landslide_type": false,
         "latitude": false,
         "location_description": false,
         "longitude": false,
         "population": false,
         "source_link": false,
         "source_name": false,
         "state/province": false,
         "storm_name": true,
         "time": true,
         "trigger": false
        },
        {
         "_deepnote_index_column": 4,
         "city/town": false,
         "continent_code": true,
         "country_code": false,
         "country_name": false,
         "date": false,
         "distance": false,
         "fatalities": false,
         "geolocation": false,
         "hazard_type": false,
         "id": false,
         "injuries": true,
         "landslide_size": false,
         "landslide_type": false,
         "latitude": false,
         "location_description": false,
         "longitude": false,
         "population": false,
         "source_link": true,
         "source_name": false,
         "state/province": false,
         "storm_name": true,
         "time": true,
         "trigger": false
        }
       ]
      },
      "text/html": [
       "<div>\n",
       "<style scoped>\n",
       "    .dataframe tbody tr th:only-of-type {\n",
       "        vertical-align: middle;\n",
       "    }\n",
       "\n",
       "    .dataframe tbody tr th {\n",
       "        vertical-align: top;\n",
       "    }\n",
       "\n",
       "    .dataframe thead th {\n",
       "        text-align: right;\n",
       "    }\n",
       "</style>\n",
       "<table border=\"1\" class=\"dataframe\">\n",
       "  <thead>\n",
       "    <tr style=\"text-align: right;\">\n",
       "      <th></th>\n",
       "      <th>id</th>\n",
       "      <th>date</th>\n",
       "      <th>time</th>\n",
       "      <th>continent_code</th>\n",
       "      <th>country_name</th>\n",
       "      <th>country_code</th>\n",
       "      <th>state/province</th>\n",
       "      <th>population</th>\n",
       "      <th>city/town</th>\n",
       "      <th>distance</th>\n",
       "      <th>...</th>\n",
       "      <th>geolocation</th>\n",
       "      <th>hazard_type</th>\n",
       "      <th>landslide_type</th>\n",
       "      <th>landslide_size</th>\n",
       "      <th>trigger</th>\n",
       "      <th>storm_name</th>\n",
       "      <th>injuries</th>\n",
       "      <th>fatalities</th>\n",
       "      <th>source_name</th>\n",
       "      <th>source_link</th>\n",
       "    </tr>\n",
       "  </thead>\n",
       "  <tbody>\n",
       "    <tr>\n",
       "      <th>0</th>\n",
       "      <td>False</td>\n",
       "      <td>False</td>\n",
       "      <td>False</td>\n",
       "      <td>True</td>\n",
       "      <td>False</td>\n",
       "      <td>False</td>\n",
       "      <td>False</td>\n",
       "      <td>False</td>\n",
       "      <td>False</td>\n",
       "      <td>False</td>\n",
       "      <td>...</td>\n",
       "      <td>False</td>\n",
       "      <td>False</td>\n",
       "      <td>False</td>\n",
       "      <td>False</td>\n",
       "      <td>False</td>\n",
       "      <td>True</td>\n",
       "      <td>True</td>\n",
       "      <td>True</td>\n",
       "      <td>False</td>\n",
       "      <td>False</td>\n",
       "    </tr>\n",
       "    <tr>\n",
       "      <th>1</th>\n",
       "      <td>False</td>\n",
       "      <td>False</td>\n",
       "      <td>True</td>\n",
       "      <td>True</td>\n",
       "      <td>False</td>\n",
       "      <td>False</td>\n",
       "      <td>False</td>\n",
       "      <td>False</td>\n",
       "      <td>False</td>\n",
       "      <td>False</td>\n",
       "      <td>...</td>\n",
       "      <td>False</td>\n",
       "      <td>False</td>\n",
       "      <td>False</td>\n",
       "      <td>False</td>\n",
       "      <td>False</td>\n",
       "      <td>True</td>\n",
       "      <td>True</td>\n",
       "      <td>True</td>\n",
       "      <td>False</td>\n",
       "      <td>False</td>\n",
       "    </tr>\n",
       "    <tr>\n",
       "      <th>2</th>\n",
       "      <td>False</td>\n",
       "      <td>False</td>\n",
       "      <td>True</td>\n",
       "      <td>True</td>\n",
       "      <td>False</td>\n",
       "      <td>False</td>\n",
       "      <td>False</td>\n",
       "      <td>False</td>\n",
       "      <td>False</td>\n",
       "      <td>False</td>\n",
       "      <td>...</td>\n",
       "      <td>False</td>\n",
       "      <td>False</td>\n",
       "      <td>False</td>\n",
       "      <td>False</td>\n",
       "      <td>False</td>\n",
       "      <td>True</td>\n",
       "      <td>True</td>\n",
       "      <td>True</td>\n",
       "      <td>False</td>\n",
       "      <td>False</td>\n",
       "    </tr>\n",
       "    <tr>\n",
       "      <th>3</th>\n",
       "      <td>False</td>\n",
       "      <td>False</td>\n",
       "      <td>True</td>\n",
       "      <td>True</td>\n",
       "      <td>False</td>\n",
       "      <td>False</td>\n",
       "      <td>False</td>\n",
       "      <td>False</td>\n",
       "      <td>False</td>\n",
       "      <td>False</td>\n",
       "      <td>...</td>\n",
       "      <td>False</td>\n",
       "      <td>False</td>\n",
       "      <td>False</td>\n",
       "      <td>False</td>\n",
       "      <td>False</td>\n",
       "      <td>True</td>\n",
       "      <td>True</td>\n",
       "      <td>True</td>\n",
       "      <td>False</td>\n",
       "      <td>False</td>\n",
       "    </tr>\n",
       "    <tr>\n",
       "      <th>4</th>\n",
       "      <td>False</td>\n",
       "      <td>False</td>\n",
       "      <td>True</td>\n",
       "      <td>True</td>\n",
       "      <td>False</td>\n",
       "      <td>False</td>\n",
       "      <td>False</td>\n",
       "      <td>False</td>\n",
       "      <td>False</td>\n",
       "      <td>False</td>\n",
       "      <td>...</td>\n",
       "      <td>False</td>\n",
       "      <td>False</td>\n",
       "      <td>False</td>\n",
       "      <td>False</td>\n",
       "      <td>False</td>\n",
       "      <td>True</td>\n",
       "      <td>True</td>\n",
       "      <td>False</td>\n",
       "      <td>False</td>\n",
       "      <td>True</td>\n",
       "    </tr>\n",
       "  </tbody>\n",
       "</table>\n",
       "<p>5 rows × 23 columns</p>\n",
       "</div>"
      ],
      "text/plain": [
       "      id   date   time  continent_code  country_name  country_code  \\\n",
       "0  False  False  False            True         False         False   \n",
       "1  False  False   True            True         False         False   \n",
       "2  False  False   True            True         False         False   \n",
       "3  False  False   True            True         False         False   \n",
       "4  False  False   True            True         False         False   \n",
       "\n",
       "   state/province  population  city/town  distance  ...  geolocation  \\\n",
       "0           False       False      False     False  ...        False   \n",
       "1           False       False      False     False  ...        False   \n",
       "2           False       False      False     False  ...        False   \n",
       "3           False       False      False     False  ...        False   \n",
       "4           False       False      False     False  ...        False   \n",
       "\n",
       "   hazard_type  landslide_type  landslide_size  trigger  storm_name  injuries  \\\n",
       "0        False           False           False    False        True      True   \n",
       "1        False           False           False    False        True      True   \n",
       "2        False           False           False    False        True      True   \n",
       "3        False           False           False    False        True      True   \n",
       "4        False           False           False    False        True      True   \n",
       "\n",
       "   fatalities  source_name  source_link  \n",
       "0        True        False        False  \n",
       "1        True        False        False  \n",
       "2        True        False        False  \n",
       "3        True        False        False  \n",
       "4       False        False         True  \n",
       "\n",
       "[5 rows x 23 columns]"
      ]
     },
     "execution_count": 10,
     "metadata": {},
     "output_type": "execute_result"
    }
   ],
   "source": [
    "landslides.isnull().head()"
   ]
  },
  {
   "cell_type": "markdown",
   "metadata": {
    "cell_id": "b41cddbe-57e5-4fbd-b93e-b567fcf1710c",
    "deepnote_cell_type": "markdown",
    "tags": []
   },
   "source": [
    "If you want to see a summary of all columns with their corresponding number of missing values, use `df.isnull().sum()`.\n",
    "This is because `True` values are internally stored as ones, and the `False` values are stored as zeros."
   ]
  },
  {
   "cell_type": "code",
   "execution_count": null,
   "metadata": {
    "cell_id": "3a58812e-6903-417d-a55d-7e557d012113",
    "deepnote_cell_type": "code",
    "tags": []
   },
   "outputs": [
    {
     "data": {
      "text/plain": [
       "id                         0\n",
       "date                       3\n",
       "time                    1064\n",
       "continent_code          1529\n",
       "country_name               0\n",
       "country_code               0\n",
       "state/province             1\n",
       "population                 0\n",
       "city/town                  4\n",
       "distance                   1\n",
       "location_description    1142\n",
       "latitude                   1\n",
       "longitude                  1\n",
       "geolocation                1\n",
       "hazard_type                0\n",
       "landslide_type             1\n",
       "landslide_size             1\n",
       "trigger                    2\n",
       "storm_name              1561\n",
       "injuries                1178\n",
       "fatalities               247\n",
       "source_name              821\n",
       "source_link              100\n",
       "dtype: int64"
      ]
     },
     "execution_count": 11,
     "metadata": {},
     "output_type": "execute_result"
    }
   ],
   "source": [
    "landslides.isnull().sum()"
   ]
  },
  {
   "cell_type": "markdown",
   "metadata": {
    "cell_id": "a434735b-ae4d-4bbd-8421-b65bac1843fa",
    "deepnote_cell_type": "markdown",
    "tags": []
   },
   "source": [
    "Interestingly enough, there are a lot of columns with less than three missing values. \n",
    "Are the same rows causing these missing values on all of the columns? Let's find out."
   ]
  },
  {
   "cell_type": "code",
   "execution_count": null,
   "metadata": {
    "cell_id": "a0261968-f527-4a90-a40a-fb6e4c2e65b1",
    "deepnote_cell_type": "code",
    "tags": []
   },
   "outputs": [
    {
     "data": {
      "application/vnd.deepnote.dataframe.v2+json": {
       "column_count": 23,
       "columns": [
        {
         "dtype": "int64",
         "name": "id",
         "stats": {
          "histogram": [
           {
            "bin_end": 3176.6,
            "bin_start": 3176.5,
            "count": 0
           },
           {
            "bin_end": 3176.7,
            "bin_start": 3176.6,
            "count": 0
           },
           {
            "bin_end": 3176.8,
            "bin_start": 3176.7,
            "count": 0
           },
           {
            "bin_end": 3176.9,
            "bin_start": 3176.8,
            "count": 0
           },
           {
            "bin_end": 3177,
            "bin_start": 3176.9,
            "count": 0
           },
           {
            "bin_end": 3177.1,
            "bin_start": 3177,
            "count": 1
           },
           {
            "bin_end": 3177.2,
            "bin_start": 3177.1,
            "count": 0
           },
           {
            "bin_end": 3177.3,
            "bin_start": 3177.2,
            "count": 0
           },
           {
            "bin_end": 3177.4,
            "bin_start": 3177.3,
            "count": 0
           },
           {
            "bin_end": 3177.5,
            "bin_start": 3177.4,
            "count": 0
           }
          ],
          "max": 3177,
          "min": 3177,
          "nan_count": 0,
          "unique_count": 1
         }
        },
        {
         "dtype": "object",
         "name": "date",
         "stats": {
          "categories": [
           {
            "count": 1,
            "name": "3/7/11"
           }
          ],
          "nan_count": 0,
          "unique_count": 1
         }
        },
        {
         "dtype": "object",
         "name": "time",
         "stats": {
          "categories": [
           {
            "count": 1,
            "name": "2:00:00"
           }
          ],
          "nan_count": 0,
          "unique_count": 1
         }
        },
        {
         "dtype": "object",
         "name": "continent_code",
         "stats": {
          "categories": [
           {
            "count": 1,
            "name": "Missing"
           }
          ],
          "nan_count": 1,
          "unique_count": 0
         }
        },
        {
         "dtype": "object",
         "name": "country_name",
         "stats": {
          "categories": [
           {
            "count": 1,
            "name": "United States"
           }
          ],
          "nan_count": 0,
          "unique_count": 1
         }
        },
        {
         "dtype": "object",
         "name": "country_code",
         "stats": {
          "categories": [
           {
            "count": 1,
            "name": "US"
           }
          ],
          "nan_count": 0,
          "unique_count": 1
         }
        },
        {
         "dtype": "object",
         "name": "state/province",
         "stats": {
          "categories": [
           {
            "count": 1,
            "name": "Connecticut"
           }
          ],
          "nan_count": 0,
          "unique_count": 1
         }
        },
        {
         "dtype": "int64",
         "name": "population",
         "stats": {
          "histogram": [
           {
            "bin_end": 28141.6,
            "bin_start": 28141.5,
            "count": 0
           },
           {
            "bin_end": 28141.7,
            "bin_start": 28141.6,
            "count": 0
           },
           {
            "bin_end": 28141.8,
            "bin_start": 28141.7,
            "count": 0
           },
           {
            "bin_end": 28141.9,
            "bin_start": 28141.8,
            "count": 0
           },
           {
            "bin_end": 28142,
            "bin_start": 28141.9,
            "count": 0
           },
           {
            "bin_end": 28142.1,
            "bin_start": 28142,
            "count": 1
           },
           {
            "bin_end": 28142.2,
            "bin_start": 28142.1,
            "count": 0
           },
           {
            "bin_end": 28142.3,
            "bin_start": 28142.2,
            "count": 0
           },
           {
            "bin_end": 28142.4,
            "bin_start": 28142.3,
            "count": 0
           },
           {
            "bin_end": 28142.5,
            "bin_start": 28142.4,
            "count": 0
           }
          ],
          "max": 28142,
          "min": 28142,
          "nan_count": 0,
          "unique_count": 1
         }
        },
        {
         "dtype": "object",
         "name": "city/town",
         "stats": {
          "categories": [
           {
            "count": 1,
            "name": "New Milford"
           }
          ],
          "nan_count": 0,
          "unique_count": 1
         }
        },
        {
         "dtype": "float64",
         "name": "distance",
         "stats": {
          "histogram": [
           {
            "bin_end": 0.1,
            "bin_start": 0,
            "count": 0
           },
           {
            "bin_end": 0.2,
            "bin_start": 0.1,
            "count": 0
           },
           {
            "bin_end": 0.30000000000000004,
            "bin_start": 0.2,
            "count": 0
           },
           {
            "bin_end": 0.4,
            "bin_start": 0.30000000000000004,
            "count": 0
           },
           {
            "bin_end": 0.5,
            "bin_start": 0.4,
            "count": 0
           },
           {
            "bin_end": 0.6000000000000001,
            "bin_start": 0.5,
            "count": 0
           },
           {
            "bin_end": 0.7000000000000001,
            "bin_start": 0.6000000000000001,
            "count": 0
           },
           {
            "bin_end": 0.8,
            "bin_start": 0.7000000000000001,
            "count": 0
           },
           {
            "bin_end": 0.9,
            "bin_start": 0.8,
            "count": 0
           },
           {
            "bin_end": 1,
            "bin_start": 0.9,
            "count": 0
           }
          ],
          "max": null,
          "min": null,
          "nan_count": 1,
          "unique_count": 0
         }
        },
        {
         "dtype": "object",
         "name": "location_description",
         "stats": {
          "categories": [
           {
            "count": 1,
            "name": "Missing"
           }
          ],
          "nan_count": 1,
          "unique_count": 0
         }
        },
        {
         "dtype": "float64",
         "name": "latitude",
         "stats": {
          "histogram": [
           {
            "bin_end": 0.1,
            "bin_start": 0,
            "count": 0
           },
           {
            "bin_end": 0.2,
            "bin_start": 0.1,
            "count": 0
           },
           {
            "bin_end": 0.30000000000000004,
            "bin_start": 0.2,
            "count": 0
           },
           {
            "bin_end": 0.4,
            "bin_start": 0.30000000000000004,
            "count": 0
           },
           {
            "bin_end": 0.5,
            "bin_start": 0.4,
            "count": 0
           },
           {
            "bin_end": 0.6000000000000001,
            "bin_start": 0.5,
            "count": 0
           },
           {
            "bin_end": 0.7000000000000001,
            "bin_start": 0.6000000000000001,
            "count": 0
           },
           {
            "bin_end": 0.8,
            "bin_start": 0.7000000000000001,
            "count": 0
           },
           {
            "bin_end": 0.9,
            "bin_start": 0.8,
            "count": 0
           },
           {
            "bin_end": 1,
            "bin_start": 0.9,
            "count": 0
           }
          ],
          "max": null,
          "min": null,
          "nan_count": 1,
          "unique_count": 0
         }
        },
        {
         "dtype": "float64",
         "name": "longitude",
         "stats": {
          "histogram": [
           {
            "bin_end": 0.1,
            "bin_start": 0,
            "count": 0
           },
           {
            "bin_end": 0.2,
            "bin_start": 0.1,
            "count": 0
           },
           {
            "bin_end": 0.30000000000000004,
            "bin_start": 0.2,
            "count": 0
           },
           {
            "bin_end": 0.4,
            "bin_start": 0.30000000000000004,
            "count": 0
           },
           {
            "bin_end": 0.5,
            "bin_start": 0.4,
            "count": 0
           },
           {
            "bin_end": 0.6000000000000001,
            "bin_start": 0.5,
            "count": 0
           },
           {
            "bin_end": 0.7000000000000001,
            "bin_start": 0.6000000000000001,
            "count": 0
           },
           {
            "bin_end": 0.8,
            "bin_start": 0.7000000000000001,
            "count": 0
           },
           {
            "bin_end": 0.9,
            "bin_start": 0.8,
            "count": 0
           },
           {
            "bin_end": 1,
            "bin_start": 0.9,
            "count": 0
           }
          ],
          "max": null,
          "min": null,
          "nan_count": 1,
          "unique_count": 0
         }
        },
        {
         "dtype": "object",
         "name": "geolocation",
         "stats": {
          "categories": [
           {
            "count": 1,
            "name": "Missing"
           }
          ],
          "nan_count": 1,
          "unique_count": 0
         }
        },
        {
         "dtype": "object",
         "name": "hazard_type",
         "stats": {
          "categories": [
           {
            "count": 1,
            "name": "Landslide"
           }
          ],
          "nan_count": 0,
          "unique_count": 1
         }
        },
        {
         "dtype": "object",
         "name": "landslide_type",
         "stats": {
          "categories": [
           {
            "count": 1,
            "name": "Mudslide"
           }
          ],
          "nan_count": 0,
          "unique_count": 1
         }
        },
        {
         "dtype": "object",
         "name": "landslide_size",
         "stats": {
          "categories": [
           {
            "count": 1,
            "name": "Medium"
           }
          ],
          "nan_count": 0,
          "unique_count": 1
         }
        },
        {
         "dtype": "object",
         "name": "trigger",
         "stats": {
          "categories": [
           {
            "count": 1,
            "name": "Downpour"
           }
          ],
          "nan_count": 0,
          "unique_count": 1
         }
        },
        {
         "dtype": "object",
         "name": "storm_name",
         "stats": {
          "categories": [
           {
            "count": 1,
            "name": "Missing"
           }
          ],
          "nan_count": 1,
          "unique_count": 0
         }
        },
        {
         "dtype": "float64",
         "name": "injuries",
         "stats": {
          "histogram": [
           {
            "bin_end": 0.1,
            "bin_start": 0,
            "count": 0
           },
           {
            "bin_end": 0.2,
            "bin_start": 0.1,
            "count": 0
           },
           {
            "bin_end": 0.30000000000000004,
            "bin_start": 0.2,
            "count": 0
           },
           {
            "bin_end": 0.4,
            "bin_start": 0.30000000000000004,
            "count": 0
           },
           {
            "bin_end": 0.5,
            "bin_start": 0.4,
            "count": 0
           },
           {
            "bin_end": 0.6000000000000001,
            "bin_start": 0.5,
            "count": 0
           },
           {
            "bin_end": 0.7000000000000001,
            "bin_start": 0.6000000000000001,
            "count": 0
           },
           {
            "bin_end": 0.8,
            "bin_start": 0.7000000000000001,
            "count": 0
           },
           {
            "bin_end": 0.9,
            "bin_start": 0.8,
            "count": 0
           },
           {
            "bin_end": 1,
            "bin_start": 0.9,
            "count": 0
           }
          ],
          "max": null,
          "min": null,
          "nan_count": 1,
          "unique_count": 0
         }
        },
        {
         "dtype": "float64",
         "name": "fatalities",
         "stats": {
          "histogram": [
           {
            "bin_end": -0.4,
            "bin_start": -0.5,
            "count": 0
           },
           {
            "bin_end": -0.3,
            "bin_start": -0.4,
            "count": 0
           },
           {
            "bin_end": -0.19999999999999996,
            "bin_start": -0.3,
            "count": 0
           },
           {
            "bin_end": -0.09999999999999998,
            "bin_start": -0.19999999999999996,
            "count": 0
           },
           {
            "bin_end": 0,
            "bin_start": -0.09999999999999998,
            "count": 0
           },
           {
            "bin_end": 0.10000000000000009,
            "bin_start": 0,
            "count": 1
           },
           {
            "bin_end": 0.20000000000000007,
            "bin_start": 0.10000000000000009,
            "count": 0
           },
           {
            "bin_end": 0.30000000000000004,
            "bin_start": 0.20000000000000007,
            "count": 0
           },
           {
            "bin_end": 0.4,
            "bin_start": 0.30000000000000004,
            "count": 0
           },
           {
            "bin_end": 0.5,
            "bin_start": 0.4,
            "count": 0
           }
          ],
          "max": 0,
          "min": 0,
          "nan_count": 0,
          "unique_count": 1
         }
        },
        {
         "dtype": "object",
         "name": "source_name",
         "stats": {
          "categories": [
           {
            "count": 1,
            "name": "Missing"
           }
          ],
          "nan_count": 1,
          "unique_count": 0
         }
        },
        {
         "dtype": "object",
         "name": "source_link",
         "stats": {
          "categories": [
           {
            "count": 1,
            "name": "http://www.newstimes.com/local/article/New-Milford-Kent-hit-hard-by-flooding-1046004.php"
           }
          ],
          "nan_count": 0,
          "unique_count": 1
         }
        },
        {
         "dtype": "int64",
         "name": "_deepnote_index_column"
        }
       ],
       "row_count": 1,
       "rows_bottom": null,
       "rows_top": [
        {
         "_deepnote_index_column": 596,
         "city/town": "New Milford",
         "continent_code": "nan",
         "country_code": "US",
         "country_name": "United States",
         "date": "3/7/11",
         "distance": "nan",
         "fatalities": 0,
         "geolocation": "nan",
         "hazard_type": "Landslide",
         "id": 3177,
         "injuries": "nan",
         "landslide_size": "Medium",
         "landslide_type": "Mudslide",
         "latitude": "nan",
         "location_description": "nan",
         "longitude": "nan",
         "population": 28142,
         "source_link": "http://www.newstimes.com/local/article/New-Milford-Kent-hit-hard-by-flooding-1046004.php",
         "source_name": "nan",
         "state/province": "Connecticut",
         "storm_name": "nan",
         "time": "2:00:00",
         "trigger": "Downpour"
        }
       ]
      },
      "text/html": [
       "<div>\n",
       "<style scoped>\n",
       "    .dataframe tbody tr th:only-of-type {\n",
       "        vertical-align: middle;\n",
       "    }\n",
       "\n",
       "    .dataframe tbody tr th {\n",
       "        vertical-align: top;\n",
       "    }\n",
       "\n",
       "    .dataframe thead th {\n",
       "        text-align: right;\n",
       "    }\n",
       "</style>\n",
       "<table border=\"1\" class=\"dataframe\">\n",
       "  <thead>\n",
       "    <tr style=\"text-align: right;\">\n",
       "      <th></th>\n",
       "      <th>id</th>\n",
       "      <th>date</th>\n",
       "      <th>time</th>\n",
       "      <th>continent_code</th>\n",
       "      <th>country_name</th>\n",
       "      <th>country_code</th>\n",
       "      <th>state/province</th>\n",
       "      <th>population</th>\n",
       "      <th>city/town</th>\n",
       "      <th>distance</th>\n",
       "      <th>...</th>\n",
       "      <th>geolocation</th>\n",
       "      <th>hazard_type</th>\n",
       "      <th>landslide_type</th>\n",
       "      <th>landslide_size</th>\n",
       "      <th>trigger</th>\n",
       "      <th>storm_name</th>\n",
       "      <th>injuries</th>\n",
       "      <th>fatalities</th>\n",
       "      <th>source_name</th>\n",
       "      <th>source_link</th>\n",
       "    </tr>\n",
       "  </thead>\n",
       "  <tbody>\n",
       "    <tr>\n",
       "      <th>596</th>\n",
       "      <td>3177</td>\n",
       "      <td>3/7/11</td>\n",
       "      <td>2:00:00</td>\n",
       "      <td>NaN</td>\n",
       "      <td>United States</td>\n",
       "      <td>US</td>\n",
       "      <td>Connecticut</td>\n",
       "      <td>28142</td>\n",
       "      <td>New Milford</td>\n",
       "      <td>NaN</td>\n",
       "      <td>...</td>\n",
       "      <td>NaN</td>\n",
       "      <td>Landslide</td>\n",
       "      <td>Mudslide</td>\n",
       "      <td>Medium</td>\n",
       "      <td>Downpour</td>\n",
       "      <td>NaN</td>\n",
       "      <td>NaN</td>\n",
       "      <td>0.0</td>\n",
       "      <td>NaN</td>\n",
       "      <td>http://www.newstimes.com/local/article/New-Mil...</td>\n",
       "    </tr>\n",
       "  </tbody>\n",
       "</table>\n",
       "<p>1 rows × 23 columns</p>\n",
       "</div>"
      ],
      "text/plain": [
       "       id    date     time continent_code   country_name country_code  \\\n",
       "596  3177  3/7/11  2:00:00            NaN  United States           US   \n",
       "\n",
       "    state/province  population    city/town  distance  ... geolocation  \\\n",
       "596    Connecticut       28142  New Milford       NaN  ...         NaN   \n",
       "\n",
       "     hazard_type  landslide_type landslide_size   trigger storm_name injuries  \\\n",
       "596    Landslide        Mudslide         Medium  Downpour        NaN      NaN   \n",
       "\n",
       "    fatalities source_name                                        source_link  \n",
       "596        0.0         NaN  http://www.newstimes.com/local/article/New-Mil...  \n",
       "\n",
       "[1 rows x 23 columns]"
      ]
     },
     "execution_count": 12,
     "metadata": {},
     "output_type": "execute_result"
    }
   ],
   "source": [
    "landslides[landslides['latitude'].isnull()]"
   ]
  },
  {
   "cell_type": "code",
   "execution_count": null,
   "metadata": {
    "cell_id": "75b2f86c-948b-40c3-a0e9-f22aa2d0fdb1",
    "deepnote_cell_type": "code",
    "tags": []
   },
   "outputs": [
    {
     "data": {
      "application/vnd.deepnote.dataframe.v2+json": {
       "column_count": 23,
       "columns": [
        {
         "dtype": "int64",
         "name": "id",
         "stats": {
          "histogram": [
           {
            "bin_end": 7136.6,
            "bin_start": 7136.5,
            "count": 0
           },
           {
            "bin_end": 7136.7,
            "bin_start": 7136.6,
            "count": 0
           },
           {
            "bin_end": 7136.8,
            "bin_start": 7136.7,
            "count": 0
           },
           {
            "bin_end": 7136.9,
            "bin_start": 7136.8,
            "count": 0
           },
           {
            "bin_end": 7137,
            "bin_start": 7136.9,
            "count": 0
           },
           {
            "bin_end": 7137.1,
            "bin_start": 7137,
            "count": 1
           },
           {
            "bin_end": 7137.2,
            "bin_start": 7137.1,
            "count": 0
           },
           {
            "bin_end": 7137.3,
            "bin_start": 7137.2,
            "count": 0
           },
           {
            "bin_end": 7137.4,
            "bin_start": 7137.3,
            "count": 0
           },
           {
            "bin_end": 7137.5,
            "bin_start": 7137.4,
            "count": 0
           }
          ],
          "max": 7137,
          "min": 7137,
          "nan_count": 0,
          "unique_count": 1
         }
        },
        {
         "dtype": "object",
         "name": "date",
         "stats": {
          "categories": [
           {
            "count": 1,
            "name": "4/17/15"
           }
          ],
          "nan_count": 0,
          "unique_count": 1
         }
        },
        {
         "dtype": "object",
         "name": "time",
         "stats": {
          "categories": [
           {
            "count": 1,
            "name": "17:00"
           }
          ],
          "nan_count": 0,
          "unique_count": 1
         }
        },
        {
         "dtype": "object",
         "name": "continent_code",
         "stats": {
          "categories": [
           {
            "count": 1,
            "name": "Missing"
           }
          ],
          "nan_count": 1,
          "unique_count": 0
         }
        },
        {
         "dtype": "object",
         "name": "country_name",
         "stats": {
          "categories": [
           {
            "count": 1,
            "name": "Canada"
           }
          ],
          "nan_count": 0,
          "unique_count": 1
         }
        },
        {
         "dtype": "object",
         "name": "country_code",
         "stats": {
          "categories": [
           {
            "count": 1,
            "name": "CA"
           }
          ],
          "nan_count": 0,
          "unique_count": 1
         }
        },
        {
         "dtype": "object",
         "name": "state/province",
         "stats": {
          "categories": [
           {
            "count": 1,
            "name": "Nova Scotia"
           }
          ],
          "nan_count": 0,
          "unique_count": 1
         }
        },
        {
         "dtype": "int64",
         "name": "population",
         "stats": {
          "histogram": [
           {
            "bin_end": 2051.6,
            "bin_start": 2051.5,
            "count": 0
           },
           {
            "bin_end": 2051.7,
            "bin_start": 2051.6,
            "count": 0
           },
           {
            "bin_end": 2051.8,
            "bin_start": 2051.7,
            "count": 0
           },
           {
            "bin_end": 2051.9,
            "bin_start": 2051.8,
            "count": 0
           },
           {
            "bin_end": 2052,
            "bin_start": 2051.9,
            "count": 0
           },
           {
            "bin_end": 2052.1,
            "bin_start": 2052,
            "count": 1
           },
           {
            "bin_end": 2052.2,
            "bin_start": 2052.1,
            "count": 0
           },
           {
            "bin_end": 2052.3,
            "bin_start": 2052.2,
            "count": 0
           },
           {
            "bin_end": 2052.4,
            "bin_start": 2052.3,
            "count": 0
           },
           {
            "bin_end": 2052.5,
            "bin_start": 2052.4,
            "count": 0
           }
          ],
          "max": 2052,
          "min": 2052,
          "nan_count": 0,
          "unique_count": 1
         }
        },
        {
         "dtype": "object",
         "name": "city/town",
         "stats": {
          "categories": [
           {
            "count": 1,
            "name": "Digby"
           }
          ],
          "nan_count": 0,
          "unique_count": 1
         }
        },
        {
         "dtype": "float64",
         "name": "distance",
         "stats": {
          "histogram": [
           {
            "bin_end": 11.226239999999999,
            "bin_start": 11.12624,
            "count": 0
           },
           {
            "bin_end": 11.326239999999999,
            "bin_start": 11.226239999999999,
            "count": 0
           },
           {
            "bin_end": 11.42624,
            "bin_start": 11.326239999999999,
            "count": 0
           },
           {
            "bin_end": 11.52624,
            "bin_start": 11.42624,
            "count": 0
           },
           {
            "bin_end": 11.62624,
            "bin_start": 11.52624,
            "count": 0
           },
           {
            "bin_end": 11.726239999999999,
            "bin_start": 11.62624,
            "count": 1
           },
           {
            "bin_end": 11.826239999999999,
            "bin_start": 11.726239999999999,
            "count": 0
           },
           {
            "bin_end": 11.92624,
            "bin_start": 11.826239999999999,
            "count": 0
           },
           {
            "bin_end": 12.02624,
            "bin_start": 11.92624,
            "count": 0
           },
           {
            "bin_end": 12.12624,
            "bin_start": 12.02624,
            "count": 0
           }
          ],
          "max": 11.62624,
          "min": 11.62624,
          "nan_count": 0,
          "unique_count": 1
         }
        },
        {
         "dtype": "object",
         "name": "location_description",
         "stats": {
          "categories": [
           {
            "count": 1,
            "name": "Below road"
           }
          ],
          "nan_count": 0,
          "unique_count": 1
         }
        },
        {
         "dtype": "float64",
         "name": "latitude",
         "stats": {
          "histogram": [
           {
            "bin_end": 44.1644,
            "bin_start": 44.0644,
            "count": 0
           },
           {
            "bin_end": 44.2644,
            "bin_start": 44.1644,
            "count": 0
           },
           {
            "bin_end": 44.364399999999996,
            "bin_start": 44.2644,
            "count": 0
           },
           {
            "bin_end": 44.4644,
            "bin_start": 44.364399999999996,
            "count": 0
           },
           {
            "bin_end": 44.5644,
            "bin_start": 44.4644,
            "count": 0
           },
           {
            "bin_end": 44.6644,
            "bin_start": 44.5644,
            "count": 1
           },
           {
            "bin_end": 44.7644,
            "bin_start": 44.6644,
            "count": 0
           },
           {
            "bin_end": 44.864399999999996,
            "bin_start": 44.7644,
            "count": 0
           },
           {
            "bin_end": 44.9644,
            "bin_start": 44.864399999999996,
            "count": 0
           },
           {
            "bin_end": 45.0644,
            "bin_start": 44.9644,
            "count": 0
           }
          ],
          "max": 44.5644,
          "min": 44.5644,
          "nan_count": 0,
          "unique_count": 1
         }
        },
        {
         "dtype": "float64",
         "name": "longitude",
         "stats": {
          "histogram": [
           {
            "bin_end": -66.03620000000001,
            "bin_start": -66.1362,
            "count": 0
           },
           {
            "bin_end": -65.9362,
            "bin_start": -66.03620000000001,
            "count": 0
           },
           {
            "bin_end": -65.8362,
            "bin_start": -65.9362,
            "count": 0
           },
           {
            "bin_end": -65.7362,
            "bin_start": -65.8362,
            "count": 0
           },
           {
            "bin_end": -65.6362,
            "bin_start": -65.7362,
            "count": 0
           },
           {
            "bin_end": -65.53620000000001,
            "bin_start": -65.6362,
            "count": 1
           },
           {
            "bin_end": -65.4362,
            "bin_start": -65.53620000000001,
            "count": 0
           },
           {
            "bin_end": -65.3362,
            "bin_start": -65.4362,
            "count": 0
           },
           {
            "bin_end": -65.2362,
            "bin_start": -65.3362,
            "count": 0
           },
           {
            "bin_end": -65.1362,
            "bin_start": -65.2362,
            "count": 0
           }
          ],
          "max": -65.6362,
          "min": -65.6362,
          "nan_count": 0,
          "unique_count": 1
         }
        },
        {
         "dtype": "object",
         "name": "geolocation",
         "stats": {
          "categories": [
           {
            "count": 1,
            "name": "(44.564399999999999, -65.636200000000002)"
           }
          ],
          "nan_count": 0,
          "unique_count": 1
         }
        },
        {
         "dtype": "object",
         "name": "hazard_type",
         "stats": {
          "categories": [
           {
            "count": 1,
            "name": "Landslide"
           }
          ],
          "nan_count": 0,
          "unique_count": 1
         }
        },
        {
         "dtype": "object",
         "name": "landslide_type",
         "stats": {
          "categories": [
           {
            "count": 1,
            "name": "Missing"
           }
          ],
          "nan_count": 1,
          "unique_count": 0
         }
        },
        {
         "dtype": "object",
         "name": "landslide_size",
         "stats": {
          "categories": [
           {
            "count": 1,
            "name": "Missing"
           }
          ],
          "nan_count": 1,
          "unique_count": 0
         }
        },
        {
         "dtype": "object",
         "name": "trigger",
         "stats": {
          "categories": [
           {
            "count": 1,
            "name": "Unknown"
           }
          ],
          "nan_count": 0,
          "unique_count": 1
         }
        },
        {
         "dtype": "object",
         "name": "storm_name",
         "stats": {
          "categories": [
           {
            "count": 1,
            "name": "Missing"
           }
          ],
          "nan_count": 1,
          "unique_count": 0
         }
        },
        {
         "dtype": "float64",
         "name": "injuries",
         "stats": {
          "histogram": [
           {
            "bin_end": -0.4,
            "bin_start": -0.5,
            "count": 0
           },
           {
            "bin_end": -0.3,
            "bin_start": -0.4,
            "count": 0
           },
           {
            "bin_end": -0.19999999999999996,
            "bin_start": -0.3,
            "count": 0
           },
           {
            "bin_end": -0.09999999999999998,
            "bin_start": -0.19999999999999996,
            "count": 0
           },
           {
            "bin_end": 0,
            "bin_start": -0.09999999999999998,
            "count": 0
           },
           {
            "bin_end": 0.10000000000000009,
            "bin_start": 0,
            "count": 1
           },
           {
            "bin_end": 0.20000000000000007,
            "bin_start": 0.10000000000000009,
            "count": 0
           },
           {
            "bin_end": 0.30000000000000004,
            "bin_start": 0.20000000000000007,
            "count": 0
           },
           {
            "bin_end": 0.4,
            "bin_start": 0.30000000000000004,
            "count": 0
           },
           {
            "bin_end": 0.5,
            "bin_start": 0.4,
            "count": 0
           }
          ],
          "max": 0,
          "min": 0,
          "nan_count": 0,
          "unique_count": 1
         }
        },
        {
         "dtype": "float64",
         "name": "fatalities",
         "stats": {
          "histogram": [
           {
            "bin_end": -0.4,
            "bin_start": -0.5,
            "count": 0
           },
           {
            "bin_end": -0.3,
            "bin_start": -0.4,
            "count": 0
           },
           {
            "bin_end": -0.19999999999999996,
            "bin_start": -0.3,
            "count": 0
           },
           {
            "bin_end": -0.09999999999999998,
            "bin_start": -0.19999999999999996,
            "count": 0
           },
           {
            "bin_end": 0,
            "bin_start": -0.09999999999999998,
            "count": 0
           },
           {
            "bin_end": 0.10000000000000009,
            "bin_start": 0,
            "count": 1
           },
           {
            "bin_end": 0.20000000000000007,
            "bin_start": 0.10000000000000009,
            "count": 0
           },
           {
            "bin_end": 0.30000000000000004,
            "bin_start": 0.20000000000000007,
            "count": 0
           },
           {
            "bin_end": 0.4,
            "bin_start": 0.30000000000000004,
            "count": 0
           },
           {
            "bin_end": 0.5,
            "bin_start": 0.4,
            "count": 0
           }
          ],
          "max": 0,
          "min": 0,
          "nan_count": 0,
          "unique_count": 1
         }
        },
        {
         "dtype": "object",
         "name": "source_name",
         "stats": {
          "categories": [
           {
            "count": 1,
            "name": "The Digby County Courier"
           }
          ],
          "nan_count": 0,
          "unique_count": 1
         }
        },
        {
         "dtype": "object",
         "name": "source_link",
         "stats": {
          "categories": [
           {
            "count": 1,
            "name": "http://www.digbycourier.ca/News/Local/2015-04-17/article-4115847/Bear-River-landslide-has-closed-River-Road-completely/1"
           }
          ],
          "nan_count": 0,
          "unique_count": 1
         }
        },
        {
         "dtype": "int64",
         "name": "_deepnote_index_column"
        }
       ],
       "row_count": 1,
       "rows_bottom": null,
       "rows_top": [
        {
         "_deepnote_index_column": 1511,
         "city/town": "Digby",
         "continent_code": "nan",
         "country_code": "CA",
         "country_name": "Canada",
         "date": "4/17/15",
         "distance": 11.62624,
         "fatalities": 0,
         "geolocation": "(44.564399999999999, -65.636200000000002)",
         "hazard_type": "Landslide",
         "id": 7137,
         "injuries": 0,
         "landslide_size": "nan",
         "landslide_type": "nan",
         "latitude": 44.5644,
         "location_description": "Below road",
         "longitude": -65.6362,
         "population": 2052,
         "source_link": "http://www.digbycourier.ca/News/Local/2015-04-17/article-4115847/Bear-River-landslide-has-closed-River-Road-completely/1",
         "source_name": "The Digby County Courier",
         "state/province": "Nova Scotia",
         "storm_name": "nan",
         "time": "17:00",
         "trigger": "Unknown"
        }
       ]
      },
      "text/html": [
       "<div>\n",
       "<style scoped>\n",
       "    .dataframe tbody tr th:only-of-type {\n",
       "        vertical-align: middle;\n",
       "    }\n",
       "\n",
       "    .dataframe tbody tr th {\n",
       "        vertical-align: top;\n",
       "    }\n",
       "\n",
       "    .dataframe thead th {\n",
       "        text-align: right;\n",
       "    }\n",
       "</style>\n",
       "<table border=\"1\" class=\"dataframe\">\n",
       "  <thead>\n",
       "    <tr style=\"text-align: right;\">\n",
       "      <th></th>\n",
       "      <th>id</th>\n",
       "      <th>date</th>\n",
       "      <th>time</th>\n",
       "      <th>continent_code</th>\n",
       "      <th>country_name</th>\n",
       "      <th>country_code</th>\n",
       "      <th>state/province</th>\n",
       "      <th>population</th>\n",
       "      <th>city/town</th>\n",
       "      <th>distance</th>\n",
       "      <th>...</th>\n",
       "      <th>geolocation</th>\n",
       "      <th>hazard_type</th>\n",
       "      <th>landslide_type</th>\n",
       "      <th>landslide_size</th>\n",
       "      <th>trigger</th>\n",
       "      <th>storm_name</th>\n",
       "      <th>injuries</th>\n",
       "      <th>fatalities</th>\n",
       "      <th>source_name</th>\n",
       "      <th>source_link</th>\n",
       "    </tr>\n",
       "  </thead>\n",
       "  <tbody>\n",
       "    <tr>\n",
       "      <th>1511</th>\n",
       "      <td>7137</td>\n",
       "      <td>4/17/15</td>\n",
       "      <td>17:00</td>\n",
       "      <td>NaN</td>\n",
       "      <td>Canada</td>\n",
       "      <td>CA</td>\n",
       "      <td>Nova Scotia</td>\n",
       "      <td>2052</td>\n",
       "      <td>Digby</td>\n",
       "      <td>11.62624</td>\n",
       "      <td>...</td>\n",
       "      <td>(44.564399999999999, -65.636200000000002)</td>\n",
       "      <td>Landslide</td>\n",
       "      <td>NaN</td>\n",
       "      <td>NaN</td>\n",
       "      <td>Unknown</td>\n",
       "      <td>NaN</td>\n",
       "      <td>0.0</td>\n",
       "      <td>0.0</td>\n",
       "      <td>The Digby County Courier</td>\n",
       "      <td>http://www.digbycourier.ca/News/Local/2015-04-...</td>\n",
       "    </tr>\n",
       "  </tbody>\n",
       "</table>\n",
       "<p>1 rows × 23 columns</p>\n",
       "</div>"
      ],
      "text/plain": [
       "        id     date   time continent_code country_name country_code  \\\n",
       "1511  7137  4/17/15  17:00            NaN       Canada           CA   \n",
       "\n",
       "     state/province  population city/town  distance  ...  \\\n",
       "1511    Nova Scotia        2052     Digby  11.62624  ...   \n",
       "\n",
       "                                    geolocation  hazard_type  landslide_type  \\\n",
       "1511  (44.564399999999999, -65.636200000000002)    Landslide             NaN   \n",
       "\n",
       "     landslide_size  trigger storm_name injuries fatalities  \\\n",
       "1511            NaN  Unknown        NaN      0.0        0.0   \n",
       "\n",
       "                   source_name  \\\n",
       "1511  The Digby County Courier   \n",
       "\n",
       "                                            source_link  \n",
       "1511  http://www.digbycourier.ca/News/Local/2015-04-...  \n",
       "\n",
       "[1 rows x 23 columns]"
      ]
     },
     "execution_count": 13,
     "metadata": {},
     "output_type": "execute_result"
    }
   ],
   "source": [
    "landslides[landslides['landslide_type'].isnull()]"
   ]
  },
  {
   "cell_type": "markdown",
   "metadata": {
    "cell_id": "51e82b87-6b39-4548-b929-49d61864bb4e",
    "deepnote_cell_type": "markdown",
    "tags": []
   },
   "source": [
    "As it turns out, the two rows above is responsible for the only `NaN` values for 6 columns. \n",
    "Let's delete these rows using their index. \n",
    "\n",
    "Be aware of the impact that deleting these rows might have on your own analysis, and depending on your research, \n",
    "deleting observations with some missing data might not be advisable. \n",
    "For our purposes here, deleting the two observations will not have a negative impact. "
   ]
  },
  {
   "cell_type": "code",
   "execution_count": null,
   "metadata": {
    "cell_id": "63894858-27c7-4bf7-85ac-33580670e5dc",
    "deepnote_cell_type": "code",
    "tags": []
   },
   "outputs": [],
   "source": [
    "landslides=landslides.drop([596, 1511])\n"
   ]
  },
  {
   "cell_type": "markdown",
   "metadata": {
    "cell_id": "a02c7296-f5a8-49a6-8794-c55beb8ac485",
    "deepnote_cell_type": "markdown",
    "tags": []
   },
   "source": [
    "Now let's look at the summary of all columns with their corresponding number of missing values again. "
   ]
  },
  {
   "cell_type": "code",
   "execution_count": null,
   "metadata": {
    "cell_id": "90478483-acaf-4ac9-b322-95769d6d6118",
    "deepnote_cell_type": "code",
    "tags": []
   },
   "outputs": [
    {
     "data": {
      "text/plain": [
       "id                         0\n",
       "date                       3\n",
       "time                    1064\n",
       "continent_code          1527\n",
       "country_name               0\n",
       "country_code               0\n",
       "state/province             1\n",
       "population                 0\n",
       "city/town                  4\n",
       "distance                   0\n",
       "location_description    1141\n",
       "latitude                   0\n",
       "longitude                  0\n",
       "geolocation                0\n",
       "hazard_type                0\n",
       "landslide_type             0\n",
       "landslide_size             0\n",
       "trigger                    2\n",
       "storm_name              1559\n",
       "injuries                1177\n",
       "fatalities               247\n",
       "source_name              820\n",
       "source_link              100\n",
       "dtype: int64"
      ]
     },
     "execution_count": 15,
     "metadata": {},
     "output_type": "execute_result"
    }
   ],
   "source": [
    "landslides.isnull().sum()"
   ]
  },
  {
   "cell_type": "markdown",
   "metadata": {
    "cell_id": "0b102838-a578-4402-8cd9-b7c9eaf3fdae",
    "deepnote_cell_type": "markdown",
    "tags": []
   },
   "source": [
    "From the summary above, we can see that some of the columns have a very high proportion of missing values: \n",
    "there are only 1693 rows in the dataset in general, and column `continent_code` has  1527 values missing!\n",
    "\n",
    "Apart from the column `continent_code`, some of the columns with high proportions of missing values are \n",
    "`time`, `location_description`, `storm_name`, `injuries`, `fatalities`, `source_name`, and `source_link`.\n",
    "\n",
    "For analysis purposes, if some of these columns aren't very useful they could be dropped. \n",
    "For our purposes here, we will keep all of the columns, \n",
    "but we'll be replacing the `NaN` values on some of the non-numerical columns with \"Missing\". \n",
    "This is normally done to reduce the number of bugs caused by missing values in the future. \n",
    "\n",
    "Before we start replacing the missing values, let's first see the data types of each of our columns using `df.dtypes`"
   ]
  },
  {
   "cell_type": "code",
   "execution_count": null,
   "metadata": {
    "cell_id": "72236bf2-8e48-4a2d-9cf5-e1ee4cf69a16",
    "deepnote_cell_type": "code",
    "tags": []
   },
   "outputs": [
    {
     "data": {
      "text/plain": [
       "id                        int64\n",
       "date                     object\n",
       "time                     object\n",
       "continent_code           object\n",
       "country_name             object\n",
       "country_code             object\n",
       "state/province           object\n",
       "population                int64\n",
       "city/town                object\n",
       "distance                float64\n",
       "location_description     object\n",
       "latitude                float64\n",
       "longitude               float64\n",
       "geolocation              object\n",
       "hazard_type              object\n",
       "landslide_type           object\n",
       "landslide_size           object\n",
       "trigger                  object\n",
       "storm_name               object\n",
       "injuries                float64\n",
       "fatalities              float64\n",
       "source_name              object\n",
       "source_link              object\n",
       "dtype: object"
      ]
     },
     "execution_count": 16,
     "metadata": {},
     "output_type": "execute_result"
    }
   ],
   "source": [
    "landslides.dtypes"
   ]
  },
  {
   "cell_type": "markdown",
   "metadata": {
    "cell_id": "ebc1fa3a-69b8-4827-b16b-93be2a21b0c5",
    "deepnote_cell_type": "markdown",
    "tags": []
   },
   "source": [
    "To replace `NaN` values in a column with any string, use `df['col_name'].fillna('string', inplace=True)`. \n",
    "Here, we will be replacing the `NaN` values in columns \n",
    "`time`, `continent_code`, `state/province`, `city/town`, `location_description`, `trigger` `storm_name`, `source_name`, and `source_link`.\n",
    "\n",
    "Here we are filling the missing values for each individual column separately."
   ]
  },
  {
   "cell_type": "code",
   "execution_count": null,
   "metadata": {
    "cell_id": "db8eb79d-d0e6-421c-b5da-b89326d29ef6",
    "deepnote_cell_type": "code",
    "tags": []
   },
   "outputs": [
    {
     "data": {
      "text/plain": [
       "id                         0\n",
       "date                       3\n",
       "time                       0\n",
       "continent_code             0\n",
       "country_name               0\n",
       "country_code               0\n",
       "state/province             0\n",
       "population                 0\n",
       "city/town                  0\n",
       "distance                   0\n",
       "location_description       0\n",
       "latitude                   0\n",
       "longitude                  0\n",
       "geolocation                0\n",
       "hazard_type                0\n",
       "landslide_type             0\n",
       "landslide_size             0\n",
       "trigger                    0\n",
       "storm_name                 0\n",
       "injuries                1177\n",
       "fatalities               247\n",
       "source_name                0\n",
       "source_link                0\n",
       "dtype: int64"
      ]
     },
     "execution_count": 17,
     "metadata": {},
     "output_type": "execute_result"
    }
   ],
   "source": [
    "landslides['time'].fillna(\"Missing\", inplace=True)\n",
    "landslides['continent_code'].fillna(\"Missing\", inplace=True)\n",
    "landslides['state/province'].fillna(\"Missing\", inplace=True)\n",
    "landslides['city/town'].fillna(\"Missing\", inplace=True)\n",
    "landslides['location_description'].fillna(\"Missing\", inplace=True)\n",
    "landslides['trigger'].fillna(\"Missing\", inplace=True)\n",
    "landslides['storm_name'].fillna(\"Missing\", inplace=True)\n",
    "landslides['source_name'].fillna(\"Missing\", inplace=True)\n",
    "landslides['source_link'].fillna(\"Missing\", inplace=True)\n",
    "landslides.isnull().sum()"
   ]
  },
  {
   "cell_type": "markdown",
   "metadata": {
    "cell_id": "6f2ff86d-afd5-400d-b986-f6fa911f826a",
    "deepnote_cell_type": "markdown",
    "tags": []
   },
   "source": [
    "Alternatively, we can pass in a dictionary to `.fillna()` where the keys are the columns that we want to fill and the associated values are the \n",
    "strings(or other data) we want to replace the missing data with."
   ]
  },
  {
   "cell_type": "code",
   "execution_count": null,
   "metadata": {
    "cell_id": "9a656b6e-877f-427b-aee2-2663c2064e0e",
    "deepnote_cell_type": "code",
    "tags": []
   },
   "outputs": [
    {
     "data": {
      "text/plain": [
       "id                         0\n",
       "date                       3\n",
       "time                    1064\n",
       "continent_code          1529\n",
       "country_name               0\n",
       "country_code               0\n",
       "state/province             1\n",
       "population                 0\n",
       "city/town                  4\n",
       "distance                   1\n",
       "location_description    1142\n",
       "latitude                   1\n",
       "longitude                  1\n",
       "geolocation                1\n",
       "hazard_type                0\n",
       "landslide_type             1\n",
       "landslide_size             1\n",
       "trigger                    2\n",
       "storm_name              1561\n",
       "injuries                1178\n",
       "fatalities               247\n",
       "source_name              821\n",
       "source_link              100\n",
       "dtype: int64"
      ]
     },
     "execution_count": 16,
     "metadata": {},
     "output_type": "execute_result"
    }
   ],
   "source": [
    "replace_dict = {'time': 'Missing', \n",
    "                'continent_code': 'Missing',\n",
    "                'state/province': 'Missing',\n",
    "                'city/town': 'Missing',\n",
    "                'location_description': 'Missing',\n",
    "                'trigger': 'Missing',\n",
    "                'storm_name': 'Missing',\n",
    "                'source_name': 'Missing',\n",
    "                'source_link': 'Missing'}\n",
    "\n",
    "landslides = landslides.fillna(replace_dict)\n",
    "\n",
    "landslides.isnull().sum()"
   ]
  },
  {
   "cell_type": "markdown",
   "metadata": {
    "cell_id": "cbc4c4ed-4a8a-456e-89da-45df6e26ec4e",
    "deepnote_cell_type": "markdown",
    "tags": []
   },
   "source": [
    "For the missing values in injuries and fatalities, let's replace them with the median value from their respective columns. \n",
    "We chose to replace these with the median instead of the mean here because the mean is easily skewed by extreme values, \n",
    "which is likely present here since larger, named landslides are likely to cause large numbers of injuries and fatalities.\n",
    "\n",
    "With your own data, you need to make a subjective judgement on how you want to impute on the missing values: mean, median, or mode?\n",
    "\n",
    "Here the `df.fillna()` function comes to be useful again, except now we are filling the missing values with the medians of each column instead of \"missing\". \n",
    "We are also not specifying which columns to impute on since the only columns left with missing values are `date`, `injuries`, and `fatalities`. \n",
    "`df.fillna(df.median())` will fill all of the `NaN` values in the numeric columns, and since `injuries` and `fatalities` are the only numeric columns of the three, only these two will be affeced by the `df.fillna()` command below. \n"
   ]
  },
  {
   "cell_type": "code",
   "execution_count": null,
   "metadata": {
    "cell_id": "00256736-8595-4072-b53a-c0675823d591",
    "deepnote_cell_type": "code",
    "tags": []
   },
   "outputs": [
    {
     "data": {
      "text/plain": [
       "id                      0\n",
       "date                    3\n",
       "time                    0\n",
       "continent_code          0\n",
       "country_name            0\n",
       "country_code            0\n",
       "state/province          0\n",
       "population              0\n",
       "city/town               0\n",
       "distance                0\n",
       "location_description    0\n",
       "latitude                0\n",
       "longitude               0\n",
       "geolocation             0\n",
       "hazard_type             0\n",
       "landslide_type          0\n",
       "landslide_size          0\n",
       "trigger                 0\n",
       "storm_name              0\n",
       "injuries                0\n",
       "fatalities              0\n",
       "source_name             0\n",
       "source_link             0\n",
       "dtype: int64"
      ]
     },
     "execution_count": 18,
     "metadata": {},
     "output_type": "execute_result"
    }
   ],
   "source": [
    "landslides.fillna(landslides.median(), inplace=True)\n",
    "landslides.isnull().sum()"
   ]
  },
  {
   "cell_type": "markdown",
   "metadata": {
    "cell_id": "1e026ca5-1496-40f7-9405-81aa44d8c421",
    "deepnote_cell_type": "markdown",
    "tags": []
   },
   "source": [
    "What about the missing date values? Since there's a special way to present dates in pandas, \n",
    "we will discuss the way pandas treat missing date values and datetime objects later on.\n",
    "If you are interested in learning more about imputing on missing data and how to handle missing valies, \n",
    "a good starting point is [this blog](https://medium.com/@drnesr/filling-gaps-of-a-time-series-using-python-d4bfddd8c460)\n"
   ]
  },
  {
   "cell_type": "markdown",
   "metadata": {
    "cell_id": "d2166e89-7e8f-489a-bb1f-fd4a4daf9dd6",
    "deepnote_cell_type": "markdown",
    "tags": []
   },
   "source": [
    "## Type Conversion \n",
    "\n"
   ]
  },
  {
   "cell_type": "markdown",
   "metadata": {
    "cell_id": "3fb64a00-4aea-40b2-ac74-3dfb1aa37c52",
    "deepnote_cell_type": "markdown",
    "tags": []
   },
   "source": [
    "In a pandas dataframe (or series), each column consists of only one type of data. For example, `int64` for integers, `float64` for decimals, `object` for strings, `datetime64` for dates and `bool` for true/false values.\n",
    "\n",
    "Most of these are standard; except `datetime64`. Commonly known as datetime, this is a representation of dates in python but more on this later in the module.\n",
    "\n",
    "When loading in data using `pd.read_csv`, we have the option to set the datas types of the columns ourselves using the optional parameter `dtypes`. If we do not use it, pandas will assign the type itself. Lets have a look at the data types which python has assigned to the landslides table."
   ]
  },
  {
   "cell_type": "code",
   "execution_count": null,
   "metadata": {
    "cell_id": "f25ddfd2-265b-49d1-878e-b46f7b2bbfd2",
    "deepnote_cell_type": "code",
    "tags": []
   },
   "outputs": [
    {
     "data": {
      "text/plain": [
       "id                               int64\n",
       "date                    datetime64[ns]\n",
       "time                            object\n",
       "continent_code                  object\n",
       "country_name                    object\n",
       "country_code                    object\n",
       "state/province                  object\n",
       "population                       int64\n",
       "city/town                       object\n",
       "distance                       float64\n",
       "location_description            object\n",
       "latitude                       float64\n",
       "longitude                      float64\n",
       "geolocation                     object\n",
       "hazard_type                     object\n",
       "landslide_type                  object\n",
       "landslide_size                  object\n",
       "trigger                         object\n",
       "storm_name                      object\n",
       "injuries                       float64\n",
       "fatalities                     float64\n",
       "source_name                     object\n",
       "source_link                     object\n",
       "dtype: object"
      ]
     },
     "execution_count": 97,
     "metadata": {},
     "output_type": "execute_result"
    }
   ],
   "source": [
    "landslides.dtypes"
   ]
  },
  {
   "cell_type": "markdown",
   "metadata": {
    "cell_id": "b3866d98-e425-4050-8e91-5de754857c98",
    "deepnote_cell_type": "markdown",
    "tags": []
   },
   "source": [
    "The column `country_name` is of type `object`. Lets have a look at the actual data type of each element."
   ]
  },
  {
   "cell_type": "code",
   "execution_count": null,
   "metadata": {
    "cell_id": "7ba36c2b-2f86-4658-a41c-f4b58b1877c1",
    "deepnote_cell_type": "code",
    "tags": []
   },
   "outputs": [
    {
     "data": {
      "text/plain": [
       "0       United States\n",
       "1       United States\n",
       "2       United States\n",
       "3              Canada\n",
       "4       United States\n",
       "            ...      \n",
       "1688    United States\n",
       "1689    United States\n",
       "1690    United States\n",
       "1691    United States\n",
       "1692    United States\n",
       "Name: country_name, Length: 1693, dtype: object"
      ]
     },
     "execution_count": 98,
     "metadata": {},
     "output_type": "execute_result"
    }
   ],
   "source": [
    "landslides.country_name"
   ]
  },
  {
   "cell_type": "code",
   "execution_count": null,
   "metadata": {
    "cell_id": "af8a08dd-e0d5-4f59-beb6-3dba6e8a8716",
    "deepnote_cell_type": "code",
    "tags": []
   },
   "outputs": [
    {
     "data": {
      "text/plain": [
       "str"
      ]
     },
     "execution_count": 99,
     "metadata": {},
     "output_type": "execute_result"
    }
   ],
   "source": [
    "type(landslides.country_name[0])"
   ]
  },
  {
   "cell_type": "markdown",
   "metadata": {
    "cell_id": "f3e9a006-f568-444d-b946-8a24933b36fc",
    "deepnote_cell_type": "markdown",
    "tags": []
   },
   "source": [
    "As you can see, the `country_name` column actually contains strings but the series is recognised as an object in pandas. Regardless, we can perform string functions on it."
   ]
  },
  {
   "cell_type": "markdown",
   "metadata": {
    "cell_id": "276de83b-d88b-4bae-b9da-c47dd6686128",
    "deepnote_cell_type": "markdown",
    "tags": []
   },
   "source": [
    "Next, let's have a look at the `latitude` column."
   ]
  },
  {
   "cell_type": "code",
   "execution_count": null,
   "metadata": {
    "cell_id": "7e607463-65f5-4a2a-9172-207a213333d9",
    "deepnote_cell_type": "code",
    "tags": []
   },
   "outputs": [
    {
     "data": {
      "text/plain": [
       "0       38.6009\n",
       "1       40.5175\n",
       "2       40.4377\n",
       "3       45.3226\n",
       "4       37.4325\n",
       "         ...   \n",
       "1688    35.2219\n",
       "1689    38.3987\n",
       "1690    37.4096\n",
       "1691    37.5011\n",
       "1692    43.4771\n",
       "Name: latitude, Length: 1693, dtype: float64"
      ]
     },
     "execution_count": 100,
     "metadata": {},
     "output_type": "execute_result"
    }
   ],
   "source": [
    "landslides.latitude"
   ]
  },
  {
   "cell_type": "markdown",
   "metadata": {
    "cell_id": "057ca2b1-8175-4ad2-9fc6-7654845e151e",
    "deepnote_cell_type": "markdown",
    "tags": []
   },
   "source": [
    "The latitude is of type `float64` as it contains decimal numbers.\n",
    "\n",
    "What about the default dtype of the `id` column? What did pandas read it in as?"
   ]
  },
  {
   "cell_type": "code",
   "execution_count": null,
   "metadata": {
    "cell_id": "51587c83-07cd-43b5-ac24-93610afd30b7",
    "deepnote_cell_type": "code",
    "tags": []
   },
   "outputs": [
    {
     "data": {
      "text/plain": [
       "0         34\n",
       "1         42\n",
       "2         56\n",
       "3         59\n",
       "4         61\n",
       "        ... \n",
       "1688    7535\n",
       "1689    7537\n",
       "1690    7539\n",
       "1691    7540\n",
       "1692    7541\n",
       "Name: id, Length: 1693, dtype: int64"
      ]
     },
     "execution_count": 101,
     "metadata": {},
     "output_type": "execute_result"
    }
   ],
   "source": [
    "landslides.id"
   ]
  },
  {
   "cell_type": "markdown",
   "metadata": {
    "cell_id": "5d63ba6c-7bbc-4469-8ffd-88a74f7f37a2",
    "deepnote_cell_type": "markdown",
    "tags": []
   },
   "source": [
    "It's been read in as `int64` because it contains integer values, which makes sense. \n",
    "But let us think about what `id` represents in our table. \n",
    "While it does contain numbers, its use is to uniquely identify each row. \n",
    "For example, the `id`s of the first two rows are 34 and 42, but it doesn't make sense to perform arithmatic opterations on these two `id`s \n",
    "(i.e you shouldn't try to add them).\n",
    "\n",
    "We can convert the data types of colmuns by using `series.astype(type)`. \n",
    "This function converts the data type of an entire series. \n",
    "Lets convert the data type of column `id` from `int64` to a string. \n",
    "Note that if we use `str` as the 'type' in the code, it will be shown as an object. "
   ]
  },
  {
   "cell_type": "code",
   "execution_count": null,
   "metadata": {
    "cell_id": "914db24e-2989-4854-bab7-b30a54acd7a0",
    "deepnote_cell_type": "code",
    "tags": []
   },
   "outputs": [
    {
     "data": {
      "text/plain": [
       "0         34\n",
       "1         42\n",
       "2         56\n",
       "3         59\n",
       "4         61\n",
       "        ... \n",
       "1688    7535\n",
       "1689    7537\n",
       "1690    7539\n",
       "1691    7540\n",
       "1692    7541\n",
       "Name: id, Length: 1693, dtype: object"
      ]
     },
     "execution_count": 102,
     "metadata": {},
     "output_type": "execute_result"
    }
   ],
   "source": [
    "landslides.id.astype('str')"
   ]
  },
  {
   "cell_type": "markdown",
   "metadata": {
    "cell_id": "e2920f13-6f10-4e8d-b7bf-497dc055e74c",
    "deepnote_cell_type": "markdown",
    "tags": []
   },
   "source": [
    "Note we are displaying a converted version of the `id` column above, but have not changed the original column. \n",
    "To do that, we have to reassign the converted version back to the orignal dataframe like this."
   ]
  },
  {
   "cell_type": "code",
   "execution_count": null,
   "metadata": {
    "cell_id": "ec3ed467-c411-49d0-a18d-b8843e9eea72",
    "deepnote_cell_type": "code",
    "tags": []
   },
   "outputs": [
    {
     "data": {
      "text/plain": [
       "0         34\n",
       "1         42\n",
       "2         56\n",
       "3         59\n",
       "4         61\n",
       "        ... \n",
       "1688    7535\n",
       "1689    7537\n",
       "1690    7539\n",
       "1691    7540\n",
       "1692    7541\n",
       "Name: id, Length: 1691, dtype: object"
      ]
     },
     "execution_count": 36,
     "metadata": {},
     "output_type": "execute_result"
    }
   ],
   "source": [
    "landslides['id'] = landslides.id.astype('str')\n",
    "landslides['id']"
   ]
  },
  {
   "cell_type": "markdown",
   "metadata": {
    "cell_id": "94075006-ef0b-406c-b3eb-d05921a44eef",
    "deepnote_cell_type": "markdown",
    "tags": []
   },
   "source": [
    "## DateTime Objects "
   ]
  },
  {
   "cell_type": "markdown",
   "metadata": {
    "cell_id": "a9ab2e67-e78b-43c8-877f-71323bdb4fce",
    "deepnote_cell_type": "markdown",
    "tags": []
   },
   "source": [
    "`datetime` objects are the standard representation of dates in `Python` and `pandas`. \n",
    "\n",
    "We can check the type of the `date` column in the landslide dataset by calling `df.series.dtype`\n",
    "\n"
   ]
  },
  {
   "cell_type": "code",
   "execution_count": null,
   "metadata": {
    "cell_id": "bed95604-05e3-48c5-b544-15299e32f46f",
    "deepnote_cell_type": "code",
    "tags": []
   },
   "outputs": [
    {
     "data": {
      "text/plain": [
       "dtype('<M8[ns]')"
      ]
     },
     "execution_count": 18,
     "metadata": {},
     "output_type": "execute_result"
    }
   ],
   "source": [
    "landslides['date'].dtype"
   ]
  },
  {
   "cell_type": "markdown",
   "metadata": {
    "cell_id": "d99f04a4-88c8-4c6f-867e-4e785250c858",
    "deepnote_cell_type": "markdown",
    "tags": []
   },
   "source": [
    "Notice that the date column is represented as an `object` series rather than a `datetime` series. \n",
    "\n",
    "We can convert this series into a datetime series by calling `pd.to_datetime`"
   ]
  },
  {
   "cell_type": "code",
   "execution_count": null,
   "metadata": {
    "cell_id": "0c661cd1-eb37-4be4-8e15-93c45cec7d2b",
    "deepnote_cell_type": "code",
    "tags": []
   },
   "outputs": [
    {
     "data": {
      "text/plain": [
       "0      2007-02-03\n",
       "1      2007-03-22\n",
       "2      2007-06-04\n",
       "3      2007-04-14\n",
       "4      2007-04-15\n",
       "          ...    \n",
       "1688   2015-07-12\n",
       "1689   2016-02-22\n",
       "1690   2016-02-23\n",
       "1691   2016-02-26\n",
       "1692   2016-02-03\n",
       "Name: date, Length: 1693, dtype: datetime64[ns]"
      ]
     },
     "execution_count": 19,
     "metadata": {},
     "output_type": "execute_result"
    }
   ],
   "source": [
    "landslides.date"
   ]
  },
  {
   "cell_type": "markdown",
   "metadata": {
    "cell_id": "f492f9ee-c0aa-4f3e-92ca-16136ce8285f",
    "deepnote_cell_type": "markdown",
    "tags": []
   },
   "source": []
  },
  {
   "cell_type": "code",
   "execution_count": null,
   "metadata": {
    "cell_id": "6a29f872-4bca-4dcd-9c99-f7fb4cc22c1d",
    "deepnote_cell_type": "code",
    "tags": []
   },
   "outputs": [
    {
     "data": {
      "text/plain": [
       "0      2007-02-03\n",
       "1      2007-03-22\n",
       "2      2007-06-04\n",
       "3      2007-04-14\n",
       "4      2007-04-15\n",
       "          ...    \n",
       "1688   2015-07-12\n",
       "1689   2016-02-22\n",
       "1690   2016-02-23\n",
       "1691   2016-02-26\n",
       "1692   2016-02-03\n",
       "Name: date, Length: 1693, dtype: datetime64[ns]"
      ]
     },
     "execution_count": 20,
     "metadata": {},
     "output_type": "execute_result"
    }
   ],
   "source": [
    "pd.to_datetime(landslides['date'])"
   ]
  },
  {
   "cell_type": "markdown",
   "metadata": {
    "cell_id": "1fdbc5e4-3379-493b-a206-cc0939160056",
    "deepnote_cell_type": "markdown",
    "tags": []
   },
   "source": [
    "The datetime conversion automatically converts our dates into the format `YYYY/MM/DD`. \n",
    "Additionally, the `pd.to_datetime` function is not inplace so we will have to reassign the existing `date` column to the returned datetime series. \n",
    "\n",
    "We can also use the `dayfirst` and `yearfirst` argument to specify the format of the original date column."
   ]
  },
  {
   "cell_type": "code",
   "execution_count": null,
   "metadata": {
    "cell_id": "24589f46-8506-496a-aba0-380750da0d8e",
    "deepnote_cell_type": "code",
    "tags": []
   },
   "outputs": [
    {
     "data": {
      "text/plain": [
       "0      2007-02-03\n",
       "1      2007-03-22\n",
       "2      2007-06-04\n",
       "3      2007-04-14\n",
       "4      2007-04-15\n",
       "          ...    \n",
       "1688   2015-07-12\n",
       "1689   2016-02-22\n",
       "1690   2016-02-23\n",
       "1691   2016-02-26\n",
       "1692   2016-02-03\n",
       "Name: date, Length: 1693, dtype: datetime64[ns]"
      ]
     },
     "execution_count": 21,
     "metadata": {},
     "output_type": "execute_result"
    }
   ],
   "source": [
    "landslides['date'] = pd.to_datetime(landslides['date'], dayfirst=False, yearfirst=False)\n",
    "landslides['date']"
   ]
  },
  {
   "cell_type": "markdown",
   "metadata": {
    "cell_id": "e1f025b7-970c-40ca-82ba-4aae8703f1fc",
    "deepnote_cell_type": "markdown",
    "tags": []
   },
   "source": [
    "### Accessing datetime attributes"
   ]
  },
  {
   "cell_type": "markdown",
   "metadata": {
    "cell_id": "c3eecf49-b87f-4f80-87b7-97a0ba740c07",
    "deepnote_cell_type": "markdown",
    "tags": []
   },
   "source": [
    "With datetime objects, we can easily access the day, month, and year attribute of our dates."
   ]
  },
  {
   "cell_type": "code",
   "execution_count": null,
   "metadata": {
    "cell_id": "a144606b-ab40-4141-9162-f1143bbc55c1",
    "deepnote_cell_type": "code",
    "tags": []
   },
   "outputs": [
    {
     "data": {
      "text/plain": [
       "Timestamp('2007-02-03 00:00:00')"
      ]
     },
     "execution_count": 22,
     "metadata": {},
     "output_type": "execute_result"
    }
   ],
   "source": [
    "one_date = landslides.loc[0, 'date']\n",
    "one_date"
   ]
  },
  {
   "cell_type": "code",
   "execution_count": null,
   "metadata": {
    "cell_id": "d736c9db-eb71-4c36-9d1e-f70a9af4af7d",
    "deepnote_cell_type": "code",
    "tags": []
   },
   "outputs": [
    {
     "name": "stdout",
     "output_type": "stream",
     "text": [
      "2007 2 3\n"
     ]
    }
   ],
   "source": [
    "print(one_date.year, one_date.month, one_date.day)"
   ]
  },
  {
   "cell_type": "markdown",
   "metadata": {
    "cell_id": "23419517-76d0-4705-8a03-104852013746",
    "deepnote_cell_type": "markdown",
    "tags": []
   },
   "source": [
    "We can also call datetime methods to get the year, month, and date of the entire datetime series:"
   ]
  },
  {
   "cell_type": "code",
   "execution_count": null,
   "metadata": {
    "cell_id": "043909dc-b89c-46ad-a865-b4b0183e526d",
    "deepnote_cell_type": "code",
    "tags": []
   },
   "outputs": [
    {
     "data": {
      "text/plain": [
       "0       2007.0\n",
       "1       2007.0\n",
       "2       2007.0\n",
       "3       2007.0\n",
       "4       2007.0\n",
       "         ...  \n",
       "1688    2015.0\n",
       "1689    2016.0\n",
       "1690    2016.0\n",
       "1691    2016.0\n",
       "1692    2016.0\n",
       "Name: date, Length: 1693, dtype: float64"
      ]
     },
     "execution_count": 91,
     "metadata": {},
     "output_type": "execute_result"
    }
   ],
   "source": [
    "landslides['date'].dt.year"
   ]
  },
  {
   "cell_type": "code",
   "execution_count": null,
   "metadata": {
    "cell_id": "ccf2f117-758a-4027-93eb-8346eacb8467",
    "deepnote_cell_type": "code",
    "tags": []
   },
   "outputs": [
    {
     "data": {
      "text/plain": [
       "0        3.0\n",
       "1        3.0\n",
       "2        4.0\n",
       "3        4.0\n",
       "4        4.0\n",
       "        ... \n",
       "1688    12.0\n",
       "1689     2.0\n",
       "1690     2.0\n",
       "1691     2.0\n",
       "1692     3.0\n",
       "Name: date, Length: 1693, dtype: float64"
      ]
     },
     "execution_count": 92,
     "metadata": {},
     "output_type": "execute_result"
    }
   ],
   "source": [
    "landslides['date'].dt.month"
   ]
  },
  {
   "cell_type": "code",
   "execution_count": null,
   "metadata": {
    "cell_id": "eaa28390-e9d0-4072-bf56-9f4714fab4f0",
    "deepnote_cell_type": "code",
    "tags": []
   },
   "outputs": [
    {
     "data": {
      "text/plain": [
       "0        2.0\n",
       "1       22.0\n",
       "2        6.0\n",
       "3       14.0\n",
       "4       15.0\n",
       "        ... \n",
       "1688     7.0\n",
       "1689    22.0\n",
       "1690    23.0\n",
       "1691    26.0\n",
       "1692     2.0\n",
       "Name: date, Length: 1693, dtype: float64"
      ]
     },
     "execution_count": 93,
     "metadata": {},
     "output_type": "execute_result"
    }
   ],
   "source": [
    "landslides['date'].dt.day"
   ]
  },
  {
   "cell_type": "markdown",
   "metadata": {
    "cell_id": "efd99dbd-582b-43b8-ab85-47a1426e34ed",
    "deepnote_cell_type": "markdown",
    "tags": []
   },
   "source": [
    "### Grouping and Aggregating"
   ]
  },
  {
   "cell_type": "markdown",
   "metadata": {
    "cell_id": "897a1880-d74d-47ff-8178-cde40465c09e",
    "deepnote_cell_type": "markdown",
    "tags": []
   },
   "source": [
    "With datetime objects, we can easily group and aggregate data by a particular day, month, or year. \n",
    "For example, we can find the average distance for all landslides in a particular month with a simple `.groupby` call."
   ]
  },
  {
   "cell_type": "code",
   "execution_count": null,
   "metadata": {
    "cell_id": "83a84d8d-4cd1-4d1d-b6de-63f5bda612c7",
    "deepnote_cell_type": "code",
    "tags": []
   },
   "outputs": [
    {
     "data": {
      "application/vnd.deepnote.dataframe.v2+json": {
       "column_count": 1,
       "columns": [
        {
         "dtype": "float64",
         "name": "distance",
         "stats": {
          "histogram": [
           {
            "bin_end": 5.931658937394177,
            "bin_start": 5.455915508982036,
            "count": 2
           },
           {
            "bin_end": 6.407402365806318,
            "bin_start": 5.931658937394177,
            "count": 1
           },
           {
            "bin_end": 6.883145794218459,
            "bin_start": 6.407402365806318,
            "count": 0
           },
           {
            "bin_end": 7.358889222630601,
            "bin_start": 6.883145794218459,
            "count": 1
           },
           {
            "bin_end": 7.8346326510427415,
            "bin_start": 7.358889222630601,
            "count": 2
           },
           {
            "bin_end": 8.310376079454883,
            "bin_start": 7.8346326510427415,
            "count": 1
           },
           {
            "bin_end": 8.786119507867024,
            "bin_start": 8.310376079454883,
            "count": 1
           },
           {
            "bin_end": 9.261862936279165,
            "bin_start": 8.786119507867024,
            "count": 2
           },
           {
            "bin_end": 9.737606364691306,
            "bin_start": 9.261862936279165,
            "count": 0
           },
           {
            "bin_end": 10.213349793103447,
            "bin_start": 9.737606364691306,
            "count": 2
           }
          ],
          "max": 10.213349793103447,
          "min": 5.455915508982036,
          "nan_count": 0,
          "unique_count": 12
         }
        },
        {
         "dtype": "float64",
         "name": "_deepnote_index_column"
        }
       ],
       "row_count": 12,
       "rows_bottom": null,
       "rows_top": [
        {
         "_deepnote_index_column": 1,
         "distance": 8.020350153846158
        },
        {
         "_deepnote_index_column": 2,
         "distance": 9.011860689655174
        },
        {
         "_deepnote_index_column": 3,
         "distance": 6.030638666666668
        },
        {
         "_deepnote_index_column": 4,
         "distance": 5.455915508982036
        },
        {
         "_deepnote_index_column": 5,
         "distance": 7.599642266009852
        },
        {
         "_deepnote_index_column": 6,
         "distance": 9.846973484848487
        },
        {
         "_deepnote_index_column": 7,
         "distance": 8.879942047619053
        },
        {
         "_deepnote_index_column": 8,
         "distance": 10.213349793103447
        },
        {
         "_deepnote_index_column": 9,
         "distance": 8.620496847290637
        },
        {
         "_deepnote_index_column": 10,
         "distance": 7.047629920634918
        },
        {
         "_deepnote_index_column": 11,
         "distance": 5.78559254385965
        },
        {
         "_deepnote_index_column": 12,
         "distance": 7.472365344827587
        }
       ]
      },
      "text/html": [
       "<div>\n",
       "<style scoped>\n",
       "    .dataframe tbody tr th:only-of-type {\n",
       "        vertical-align: middle;\n",
       "    }\n",
       "\n",
       "    .dataframe tbody tr th {\n",
       "        vertical-align: top;\n",
       "    }\n",
       "\n",
       "    .dataframe thead th {\n",
       "        text-align: right;\n",
       "    }\n",
       "</style>\n",
       "<table border=\"1\" class=\"dataframe\">\n",
       "  <thead>\n",
       "    <tr style=\"text-align: right;\">\n",
       "      <th></th>\n",
       "      <th>distance</th>\n",
       "    </tr>\n",
       "    <tr>\n",
       "      <th>date</th>\n",
       "      <th></th>\n",
       "    </tr>\n",
       "  </thead>\n",
       "  <tbody>\n",
       "    <tr>\n",
       "      <th>1.0</th>\n",
       "      <td>8.020350</td>\n",
       "    </tr>\n",
       "    <tr>\n",
       "      <th>2.0</th>\n",
       "      <td>9.011861</td>\n",
       "    </tr>\n",
       "    <tr>\n",
       "      <th>3.0</th>\n",
       "      <td>6.030639</td>\n",
       "    </tr>\n",
       "    <tr>\n",
       "      <th>4.0</th>\n",
       "      <td>5.455916</td>\n",
       "    </tr>\n",
       "    <tr>\n",
       "      <th>5.0</th>\n",
       "      <td>7.599642</td>\n",
       "    </tr>\n",
       "    <tr>\n",
       "      <th>6.0</th>\n",
       "      <td>9.846973</td>\n",
       "    </tr>\n",
       "    <tr>\n",
       "      <th>7.0</th>\n",
       "      <td>8.879942</td>\n",
       "    </tr>\n",
       "    <tr>\n",
       "      <th>8.0</th>\n",
       "      <td>10.213350</td>\n",
       "    </tr>\n",
       "    <tr>\n",
       "      <th>9.0</th>\n",
       "      <td>8.620497</td>\n",
       "    </tr>\n",
       "    <tr>\n",
       "      <th>10.0</th>\n",
       "      <td>7.047630</td>\n",
       "    </tr>\n",
       "    <tr>\n",
       "      <th>11.0</th>\n",
       "      <td>5.785593</td>\n",
       "    </tr>\n",
       "    <tr>\n",
       "      <th>12.0</th>\n",
       "      <td>7.472365</td>\n",
       "    </tr>\n",
       "  </tbody>\n",
       "</table>\n",
       "</div>"
      ],
      "text/plain": [
       "       distance\n",
       "date           \n",
       "1.0    8.020350\n",
       "2.0    9.011861\n",
       "3.0    6.030639\n",
       "4.0    5.455916\n",
       "5.0    7.599642\n",
       "6.0    9.846973\n",
       "7.0    8.879942\n",
       "8.0   10.213350\n",
       "9.0    8.620497\n",
       "10.0   7.047630\n",
       "11.0   5.785593\n",
       "12.0   7.472365"
      ]
     },
     "execution_count": 94,
     "metadata": {},
     "output_type": "execute_result"
    }
   ],
   "source": [
    "landslides[['date', 'distance']].groupby(landslides.date.dt.month).mean()"
   ]
  },
  {
   "cell_type": "markdown",
   "metadata": {
    "cell_id": "002f85b6-2764-4580-9780-4a8a0d0c1077",
    "deepnote_cell_type": "markdown",
    "tags": []
   },
   "source": [
    "**Challenge**: How would we add a new column to our dataframe corresponding to the name of the month in which the landslide occurred?\n",
    "\n",
    "*Hint: Use `dt.month_name`*"
   ]
  },
  {
   "cell_type": "code",
   "execution_count": null,
   "metadata": {
    "cell_id": "9fbe02c1-2993-4d81-a8c7-36e260d5c2ab",
    "deepnote_cell_type": "code",
    "tags": []
   },
   "outputs": [
    {
     "data": {
      "text/plain": [
       "0          March\n",
       "1          March\n",
       "2          April\n",
       "3          April\n",
       "4          April\n",
       "          ...   \n",
       "1688    December\n",
       "1689    February\n",
       "1690    February\n",
       "1691    February\n",
       "1692       March\n",
       "Name: month_name, Length: 1691, dtype: object"
      ]
     },
     "execution_count": 92,
     "metadata": {},
     "output_type": "execute_result"
    }
   ],
   "source": [
    "landslides['month_name'] = landslides['date'].dt.month_name()\n",
    "landslides['month_name']"
   ]
  },
  {
   "cell_type": "markdown",
   "metadata": {
    "cell_id": "b501e39b-9db7-42bc-b3b3-5fef5c57158c",
    "deepnote_cell_type": "markdown",
    "tags": []
   },
   "source": [
    "For the missing datetime objects, if they are sequencial in order, then you can try to impute the dates bases on neigboring rows. \n",
    "The most commonly used imputing method for such sequential dates are to replace the missing date with the middle date of the neighboring rows. \n",
    "For some ways to impute missing datetime objects, please visit [this blog](https://medium.com/@drnesr/filling-gaps-of-a-time-series-using-python-d4bfddd8c460).\n",
    "If, however, the dates are not sequential, you can also replace the missing dates with the starting unix time (1970/01/01)."
   ]
  },
  {
   "cell_type": "code",
   "execution_count": null,
   "metadata": {
    "cell_id": "ee4282a6-44e7-41d2-ade2-31e1b9394d0b",
    "deepnote_cell_type": "code",
    "tags": []
   },
   "outputs": [],
   "source": [
    "landslides['date'].fillna(\"1970-01-01\", inplace=True)\n",
    "landslides['date'] = pd.to_datetime(landslides['date'], dayfirst=False, yearfirst=False)\n",
    "landslides['date']"
   ]
  },
  {
   "cell_type": "markdown",
   "metadata": {
    "cell_id": "ee13e9b5-1fb0-4022-9032-5409b33d4eda",
    "deepnote_cell_type": "markdown",
    "tags": []
   },
   "source": [
    "### Filtering"
   ]
  },
  {
   "cell_type": "markdown",
   "metadata": {
    "cell_id": "d5725fc4-8f49-40bd-b791-63d80b07ef67",
    "deepnote_cell_type": "markdown",
    "tags": []
   },
   "source": [
    "Finally, datetime series allows us to quickly query rows within a certain date range with boolean indexing. \n",
    "Normally, numerical comparison between `string` objects doesn't make too much sense, but datetime comparisons work because dates that occur later are considered larger than dates that occured earlier.\n",
    "\n",
    "To filter out the rows that fall between two dates, we simply have to find all the dates that are \"greater\" than the `start` date and \"less\" than the end date.\n",
    "\n",
    "The expression below gets all the landslide entries between Jan 1, 2007 and Jan 1, 2010:"
   ]
  },
  {
   "cell_type": "code",
   "execution_count": null,
   "metadata": {
    "cell_id": "5ea11cd1-516a-486d-86a0-7cb5cced6cd8",
    "deepnote_cell_type": "code",
    "tags": []
   },
   "outputs": [
    {
     "data": {
      "application/vnd.deepnote.dataframe.v2+json": {
       "column_count": 23,
       "columns": [
        {
         "dtype": "int64",
         "name": "id",
         "stats": {
          "histogram": [
           {
            "bin_end": 770.5,
            "bin_start": 34,
            "count": 144
           },
           {
            "bin_end": 1507,
            "bin_start": 770.5,
            "count": 92
           },
           {
            "bin_end": 2243.5,
            "bin_start": 1507,
            "count": 0
           },
           {
            "bin_end": 2980,
            "bin_start": 2243.5,
            "count": 0
           },
           {
            "bin_end": 3716.5,
            "bin_start": 2980,
            "count": 0
           },
           {
            "bin_end": 4453,
            "bin_start": 3716.5,
            "count": 0
           },
           {
            "bin_end": 5189.5,
            "bin_start": 4453,
            "count": 0
           },
           {
            "bin_end": 5926,
            "bin_start": 5189.5,
            "count": 0
           },
           {
            "bin_end": 6662.5,
            "bin_start": 5926,
            "count": 3
           },
           {
            "bin_end": 7399,
            "bin_start": 6662.5,
            "count": 1
           }
          ],
          "max": 7399,
          "min": 34,
          "nan_count": 0,
          "unique_count": 240
         }
        },
        {
         "dtype": "datetime64[ns]",
         "name": "date",
         "stats": {
          "categories": [
           {
            "count": 5,
            "name": "1219708800000000000"
           },
           {
            "count": 4,
            "name": "1193788800000000000"
           },
           {
            "count": 231,
            "name": "180 others"
           }
          ],
          "nan_count": 0,
          "unique_count": 182
         }
        },
        {
         "dtype": "object",
         "name": "time",
         "stats": {
          "categories": [
           {
            "count": 7,
            "name": "Night"
           },
           {
            "count": 15,
            "name": "9 others"
           },
           {
            "count": 218,
            "name": "Missing"
           }
          ],
          "nan_count": 218,
          "unique_count": 10
         }
        },
        {
         "dtype": "object",
         "name": "continent_code",
         "stats": {
          "categories": [
           {
            "count": 27,
            "name": "SA"
           },
           {
            "count": 213,
            "name": "Missing"
           }
          ],
          "nan_count": 213,
          "unique_count": 1
         }
        },
        {
         "dtype": "object",
         "name": "country_name",
         "stats": {
          "categories": [
           {
            "count": 122,
            "name": "United States"
           },
           {
            "count": 14,
            "name": "Colombia"
           },
           {
            "count": 104,
            "name": "20 others"
           }
          ],
          "nan_count": 0,
          "unique_count": 22
         }
        },
        {
         "dtype": "object",
         "name": "country_code",
         "stats": {
          "categories": [
           {
            "count": 122,
            "name": "US"
           },
           {
            "count": 14,
            "name": "CO"
           },
           {
            "count": 104,
            "name": "20 others"
           }
          ],
          "nan_count": 0,
          "unique_count": 22
         }
        },
        {
         "dtype": "object",
         "name": "state/province",
         "stats": {
          "categories": [
           {
            "count": 14,
            "name": "Colorado"
           },
           {
            "count": 10,
            "name": "Pennsylvania"
           },
           {
            "count": 216,
            "name": "105 others"
           }
          ],
          "nan_count": 0,
          "unique_count": 107
         }
        },
        {
         "dtype": "int64",
         "name": "population",
         "stats": {
          "histogram": [
           {
            "bin_end": 1229419.3,
            "bin_start": 0,
            "count": 231
           },
           {
            "bin_end": 2458838.6,
            "bin_start": 1229419.3,
            "count": 7
           },
           {
            "bin_end": 3688257.9000000004,
            "bin_start": 2458838.6,
            "count": 1
           },
           {
            "bin_end": 4917677.2,
            "bin_start": 3688257.9000000004,
            "count": 0
           },
           {
            "bin_end": 6147096.5,
            "bin_start": 4917677.2,
            "count": 0
           },
           {
            "bin_end": 7376515.800000001,
            "bin_start": 6147096.5,
            "count": 0
           },
           {
            "bin_end": 8605935.1,
            "bin_start": 7376515.800000001,
            "count": 0
           },
           {
            "bin_end": 9835354.4,
            "bin_start": 8605935.1,
            "count": 0
           },
           {
            "bin_end": 11064773.700000001,
            "bin_start": 9835354.4,
            "count": 0
           },
           {
            "bin_end": 12294193,
            "bin_start": 11064773.700000001,
            "count": 1
           }
          ],
          "max": 12294193,
          "min": 0,
          "nan_count": 0,
          "unique_count": 212
         }
        },
        {
         "dtype": "object",
         "name": "city/town",
         "stats": {
          "categories": [
           {
            "count": 3,
            "name": "Pikeville"
           },
           {
            "count": 236,
            "name": "213 others"
           },
           {
            "count": 1,
            "name": "Missing"
           }
          ],
          "nan_count": 1,
          "unique_count": 214
         }
        },
        {
         "dtype": "float64",
         "name": "distance",
         "stats": {
          "histogram": [
           {
            "bin_end": 6.760583999999999,
            "bin_start": 0.0027300000000000002,
            "count": 155
           },
           {
            "bin_end": 13.518437999999998,
            "bin_start": 6.760583999999999,
            "count": 51
           },
           {
            "bin_end": 20.276291999999998,
            "bin_start": 13.518437999999998,
            "count": 17
           },
           {
            "bin_end": 27.034145999999996,
            "bin_start": 20.276291999999998,
            "count": 6
           },
           {
            "bin_end": 33.791999999999994,
            "bin_start": 27.034145999999996,
            "count": 4
           },
           {
            "bin_end": 40.549853999999996,
            "bin_start": 33.791999999999994,
            "count": 1
           },
           {
            "bin_end": 47.30770799999999,
            "bin_start": 40.549853999999996,
            "count": 1
           },
           {
            "bin_end": 54.06556199999999,
            "bin_start": 47.30770799999999,
            "count": 1
           },
           {
            "bin_end": 60.823415999999995,
            "bin_start": 54.06556199999999,
            "count": 1
           },
           {
            "bin_end": 67.58126999999999,
            "bin_start": 60.823415999999995,
            "count": 3
           }
          ],
          "max": 67.58126999999999,
          "min": 0.0027300000000000002,
          "nan_count": 0,
          "unique_count": 240
         }
        },
        {
         "dtype": "object",
         "name": "location_description",
         "stats": {
          "categories": [
           {
            "count": 6,
            "name": "Above road"
           },
           {
            "count": 12,
            "name": "7 others"
           },
           {
            "count": 222,
            "name": "Missing"
           }
          ],
          "nan_count": 222,
          "unique_count": 8
         }
        },
        {
         "dtype": "float64",
         "name": "latitude",
         "stats": {
          "histogram": [
           {
            "bin_end": -3.82428,
            "bin_start": -9.2965,
            "count": 7
           },
           {
            "bin_end": 1.6479400000000002,
            "bin_start": -3.82428,
            "count": 5
           },
           {
            "bin_end": 7.12016,
            "bin_start": 1.6479400000000002,
            "count": 9
           },
           {
            "bin_end": 12.59238,
            "bin_start": 7.12016,
            "count": 32
           },
           {
            "bin_end": 18.0646,
            "bin_start": 12.59238,
            "count": 30
           },
           {
            "bin_end": 23.53682,
            "bin_start": 18.0646,
            "count": 31
           },
           {
            "bin_end": 29.00904,
            "bin_start": 23.53682,
            "count": 1
           },
           {
            "bin_end": 34.48126,
            "bin_start": 29.00904,
            "count": 17
           },
           {
            "bin_end": 39.95348,
            "bin_start": 34.48126,
            "count": 58
           },
           {
            "bin_end": 45.4257,
            "bin_start": 39.95348,
            "count": 50
           }
          ],
          "max": 45.4257,
          "min": -9.2965,
          "nan_count": 0,
          "unique_count": 240
         }
        },
        {
         "dtype": "float64",
         "name": "longitude",
         "stats": {
          "histogram": [
           {
            "bin_end": -110.13387999999999,
            "bin_start": -117.3042,
            "count": 24
           },
           {
            "bin_end": -102.96356,
            "bin_start": -110.13387999999999,
            "count": 21
           },
           {
            "bin_end": -95.79324,
            "bin_start": -102.96356,
            "count": 10
           },
           {
            "bin_end": -88.62292,
            "bin_start": -95.79324,
            "count": 34
           },
           {
            "bin_end": -81.4526,
            "bin_start": -88.62292,
            "count": 49
           },
           {
            "bin_end": -74.28228,
            "bin_start": -81.4526,
            "count": 56
           },
           {
            "bin_end": -67.11196000000001,
            "bin_start": -74.28228,
            "count": 27
           },
           {
            "bin_end": -59.94164000000001,
            "bin_start": -67.11196000000001,
            "count": 16
           },
           {
            "bin_end": -52.77132,
            "bin_start": -59.94164000000001,
            "count": 1
           },
           {
            "bin_end": -45.601000000000006,
            "bin_start": -52.77132,
            "count": 2
           }
          ],
          "max": -45.601000000000006,
          "min": -117.3042,
          "nan_count": 0,
          "unique_count": 239
         }
        },
        {
         "dtype": "object",
         "name": "geolocation",
         "stats": {
          "categories": [
           {
            "count": 1,
            "name": "(38.600900000000003, -77.268199999999993)"
           },
           {
            "count": 1,
            "name": "(40.517499999999998, -81.430499999999995)"
           },
           {
            "count": 238,
            "name": "238 others"
           }
          ],
          "nan_count": 0,
          "unique_count": 240
         }
        },
        {
         "dtype": "object",
         "name": "hazard_type",
         "stats": {
          "categories": [
           {
            "count": 240,
            "name": "Landslide"
           }
          ],
          "nan_count": 0,
          "unique_count": 1
         }
        },
        {
         "dtype": "object",
         "name": "landslide_type",
         "stats": {
          "categories": [
           {
            "count": 103,
            "name": "Mudslide"
           },
           {
            "count": 100,
            "name": "Landslide"
           },
           {
            "count": 37,
            "name": "6 others"
           }
          ],
          "nan_count": 0,
          "unique_count": 8
         }
        },
        {
         "dtype": "object",
         "name": "landslide_size",
         "stats": {
          "categories": [
           {
            "count": 134,
            "name": "Medium"
           },
           {
            "count": 92,
            "name": "Small"
           },
           {
            "count": 14,
            "name": "2 others"
           }
          ],
          "nan_count": 0,
          "unique_count": 4
         }
        },
        {
         "dtype": "object",
         "name": "trigger",
         "stats": {
          "categories": [
           {
            "count": 104,
            "name": "Rain"
           },
           {
            "count": 81,
            "name": "Downpour"
           },
           {
            "count": 55,
            "name": "6 others"
           }
          ],
          "nan_count": 0,
          "unique_count": 8
         }
        },
        {
         "dtype": "object",
         "name": "storm_name",
         "stats": {
          "categories": [
           {
            "count": 5,
            "name": "Tropical Storm Noel"
           },
           {
            "count": 36,
            "name": "16 others"
           },
           {
            "count": 199,
            "name": "Missing"
           }
          ],
          "nan_count": 199,
          "unique_count": 17
         }
        },
        {
         "dtype": "float64",
         "name": "injuries",
         "stats": {
          "histogram": [
           {
            "bin_end": 0.5,
            "bin_start": 0,
            "count": 4
           },
           {
            "bin_end": 1,
            "bin_start": 0.5,
            "count": 0
           },
           {
            "bin_end": 1.5,
            "bin_start": 1,
            "count": 0
           },
           {
            "bin_end": 2,
            "bin_start": 1.5,
            "count": 0
           },
           {
            "bin_end": 2.5,
            "bin_start": 2,
            "count": 1
           },
           {
            "bin_end": 3,
            "bin_start": 2.5,
            "count": 0
           },
           {
            "bin_end": 3.5,
            "bin_start": 3,
            "count": 0
           },
           {
            "bin_end": 4,
            "bin_start": 3.5,
            "count": 0
           },
           {
            "bin_end": 4.5,
            "bin_start": 4,
            "count": 0
           },
           {
            "bin_end": 5,
            "bin_start": 4.5,
            "count": 1
           }
          ],
          "max": 5,
          "min": 0,
          "nan_count": 234,
          "unique_count": 3
         }
        },
        {
         "dtype": "float64",
         "name": "fatalities",
         "stats": {
          "histogram": [
           {
            "bin_end": 6.8,
            "bin_start": 0,
            "count": 73
           },
           {
            "bin_end": 13.6,
            "bin_start": 6.8,
            "count": 16
           },
           {
            "bin_end": 20.4,
            "bin_start": 13.6,
            "count": 4
           },
           {
            "bin_end": 27.2,
            "bin_start": 20.4,
            "count": 8
           },
           {
            "bin_end": 34,
            "bin_start": 27.2,
            "count": 1
           },
           {
            "bin_end": 40.8,
            "bin_start": 34,
            "count": 0
           },
           {
            "bin_end": 47.6,
            "bin_start": 40.8,
            "count": 0
           },
           {
            "bin_end": 54.4,
            "bin_start": 47.6,
            "count": 0
           },
           {
            "bin_end": 61.199999999999996,
            "bin_start": 54.4,
            "count": 0
           },
           {
            "bin_end": 68,
            "bin_start": 61.199999999999996,
            "count": 1
           }
          ],
          "max": 68,
          "min": 0,
          "nan_count": 137,
          "unique_count": 25
         }
        },
        {
         "dtype": "object",
         "name": "source_name",
         "stats": {
          "categories": [
           {
            "count": 5,
            "name": "Matthew Crawford (KGS)"
           },
           {
            "count": 75,
            "name": "54 others"
           },
           {
            "count": 160,
            "name": "Missing"
           }
          ],
          "nan_count": 160,
          "unique_count": 55
         }
        },
        {
         "dtype": "object",
         "name": "source_link",
         "stats": {
          "categories": [
           {
            "count": 3,
            "name": "https://www-secure.ifrc.org/dmis/prepare/view_report.asp?ReportID=2908"
           },
           {
            "count": 219,
            "name": "207 others"
           },
           {
            "count": 18,
            "name": "Missing"
           }
          ],
          "nan_count": 18,
          "unique_count": 208
         }
        },
        {
         "dtype": "int64",
         "name": "_deepnote_index_column"
        }
       ],
       "row_count": 240,
       "rows_bottom": [
        {
         "_deepnote_index_column": 218,
         "city/town": "Trenton",
         "continent_code": "nan",
         "country_code": "US",
         "country_name": "United States",
         "date": "2009-09-26T00:00:00.000000",
         "distance": 1.12077,
         "fatalities": "nan",
         "geolocation": "(34.869500000000002, -85.521000000000001)",
         "hazard_type": "Landslide",
         "id": 1194,
         "injuries": "nan",
         "landslide_size": "Medium",
         "landslide_type": "Mudslide",
         "latitude": 34.8695,
         "location_description": "nan",
         "longitude": -85.521,
         "population": 2301,
         "source_link": "http://www.wsbtv.com/weather/21124942/detail.html",
         "source_name": "nan",
         "state/province": "Georgia",
         "storm_name": "nan",
         "time": "nan",
         "trigger": "Downpour"
        },
        {
         "_deepnote_index_column": 219,
         "city/town": "Gatlinburg",
         "continent_code": "nan",
         "country_code": "US",
         "country_name": "United States",
         "date": "2009-09-26T00:00:00.000000",
         "distance": 4.118130000000001,
         "fatalities": "nan",
         "geolocation": "(35.7102, -83.555400000000006)",
         "hazard_type": "Landslide",
         "id": 1195,
         "injuries": "nan",
         "landslide_size": "Small",
         "landslide_type": "Mudslide",
         "latitude": 35.7102,
         "location_description": "nan",
         "longitude": -83.5554,
         "population": 3944,
         "source_link": "http://www.wbir.com/news/local/story.aspx?storyid=100222&provider=gnews",
         "source_name": "nan",
         "state/province": "Tennessee",
         "storm_name": "nan",
         "time": "nan",
         "trigger": "Downpour"
        },
        {
         "_deepnote_index_column": 220,
         "city/town": "Cedar Hill",
         "continent_code": "nan",
         "country_code": "US",
         "country_name": "United States",
         "date": "2009-10-12T00:00:00.000000",
         "distance": 6.206180000000001,
         "fatalities": 0,
         "geolocation": "(32.5383, -96.985399999999998)",
         "hazard_type": "Landslide",
         "id": 1256,
         "injuries": "nan",
         "landslide_size": "Small",
         "landslide_type": "Landslide",
         "latitude": 32.5383,
         "location_description": "nan",
         "longitude": -96.9854,
         "population": 45028,
         "source_link": "http://www.nbcdfw.com/news/local-beat/Dallas-Backyard-Slips-Away-in-Landslide-64328652.html",
         "source_name": "nan",
         "state/province": "Texas",
         "storm_name": "nan",
         "time": "nan",
         "trigger": "Rain"
        },
        {
         "_deepnote_index_column": 221,
         "city/town": "Hyden",
         "continent_code": "nan",
         "country_code": "US",
         "country_name": "United States",
         "date": "2009-10-17T00:00:00.000000",
         "distance": 10.0765,
         "fatalities": "nan",
         "geolocation": "(37.0702, -83.377700000000004)",
         "hazard_type": "Landslide",
         "id": 1265,
         "injuries": "nan",
         "landslide_size": "Small",
         "landslide_type": "Rockfall",
         "latitude": 37.0702,
         "location_description": "nan",
         "longitude": -83.3777,
         "population": 365,
         "source_link": "nan",
         "source_name": "Matthew Crawford (KGS)",
         "state/province": "Kentucky",
         "storm_name": "nan",
         "time": "nan",
         "trigger": "Downpour"
        },
        {
         "_deepnote_index_column": 222,
         "city/town": "Carrefour",
         "continent_code": "nan",
         "country_code": "HT",
         "country_name": "Haiti",
         "date": "2009-10-20T00:00:00.000000",
         "distance": 1.31659,
         "fatalities": 4,
         "geolocation": "(18.534700000000001, -72.409700000000001)",
         "hazard_type": "Landslide",
         "id": 1266,
         "injuries": "nan",
         "landslide_size": "Small",
         "landslide_type": "Landslide",
         "latitude": 18.5347,
         "location_description": "nan",
         "longitude": -72.4097,
         "population": 442156,
         "source_link": "http://www.etaiwannews.com/etn/news_content.php?id=1088959&lang=eng_news",
         "source_name": "nan",
         "state/province": "Ouest",
         "storm_name": "nan",
         "time": "nan",
         "trigger": "Downpour"
        },
        {
         "_deepnote_index_column": 223,
         "city/town": "San Vicente",
         "continent_code": "nan",
         "country_code": "SV",
         "country_name": "El Salvador",
         "date": "2009-11-08T00:00:00.000000",
         "distance": 7.60946,
         "fatalities": 23,
         "geolocation": "(13.6409, -88.869900000000001)",
         "hazard_type": "Landslide",
         "id": 1285,
         "injuries": "nan",
         "landslide_size": "Very_large",
         "landslide_type": "Complex",
         "latitude": 13.6409,
         "location_description": "nan",
         "longitude": -88.8699,
         "population": 41504,
         "source_link": "http://www.google.com/hostednews/ap/article/ALeqM5j0XCCb1n12DyhoBoDzGj_hTyEtrAD9BRKPRG0",
         "source_name": "nan",
         "state/province": "San Vicente",
         "storm_name": "Tropical Cyclone Ida",
         "time": "nan",
         "trigger": "Tropical cyclone"
        },
        {
         "_deepnote_index_column": 224,
         "city/town": "Antiguo Cuscatlán",
         "continent_code": "nan",
         "country_code": "SV",
         "country_name": "El Salvador",
         "date": "2009-11-08T00:00:00.000000",
         "distance": 4.86219,
         "fatalities": 4,
         "geolocation": "(13.7156, -89.252099999999999)",
         "hazard_type": "Landslide",
         "id": 1286,
         "injuries": "nan",
         "landslide_size": "Medium",
         "landslide_type": "Mudslide",
         "latitude": 13.7156,
         "location_description": "nan",
         "longitude": -89.2521,
         "population": 33767,
         "source_link": "http://www.google.com/hostednews/ap/article/ALeqM5j0XCCb1n12DyhoBoDzGj_hTyEtrAD9BRKPRG0",
         "source_name": "nan",
         "state/province": "La Libertad",
         "storm_name": "Tropical Cyclone Ida",
         "time": "nan",
         "trigger": "Tropical cyclone"
        },
        {
         "_deepnote_index_column": 225,
         "city/town": "San Vicente",
         "continent_code": "nan",
         "country_code": "SV",
         "country_name": "El Salvador",
         "date": "2009-11-08T00:00:00.000000",
         "distance": 5.90726,
         "fatalities": "nan",
         "geolocation": "(13.609400000000001, -88.848799999999997)",
         "hazard_type": "Landslide",
         "id": 1287,
         "injuries": "nan",
         "landslide_size": "Medium",
         "landslide_type": "Rockfall",
         "latitude": 13.6094,
         "location_description": "nan",
         "longitude": -88.8488,
         "population": 41504,
         "source_link": "http://news.bbc.co.uk/2/hi/in_depth/8349333.stm",
         "source_name": "nan",
         "state/province": "San Vicente",
         "storm_name": "Tropical Cyclone Ida",
         "time": "nan",
         "trigger": "Tropical cyclone"
        },
        {
         "_deepnote_index_column": 226,
         "city/town": "San Vicente",
         "continent_code": "nan",
         "country_code": "SV",
         "country_name": "El Salvador",
         "date": "2009-11-08T00:00:00.000000",
         "distance": 4.03125,
         "fatalities": "nan",
         "geolocation": "(13.646599999999999, -88.834699999999998)",
         "hazard_type": "Landslide",
         "id": 1288,
         "injuries": "nan",
         "landslide_size": "Medium",
         "landslide_type": "Mudslide",
         "latitude": 13.6466,
         "location_description": "nan",
         "longitude": -88.8347,
         "population": 41504,
         "source_link": "http://news.yahoo.com/s/afp/20091109/wl_afp/salvadorweatherstorm_20091109100952",
         "source_name": "nan",
         "state/province": "San Vicente",
         "storm_name": "Tropical Cyclone Ida",
         "time": "nan",
         "trigger": "Tropical cyclone"
        },
        {
         "_deepnote_index_column": 227,
         "city/town": "East Ridge",
         "continent_code": "nan",
         "country_code": "US",
         "country_name": "United States",
         "date": "2009-11-11T00:00:00.000000",
         "distance": 2.60684,
         "fatalities": 0,
         "geolocation": "(35.037599999999998, -85.254999999999995)",
         "hazard_type": "Landslide",
         "id": 1294,
         "injuries": "nan",
         "landslide_size": "Medium",
         "landslide_type": "Mudslide",
         "latitude": 35.0376,
         "location_description": "nan",
         "longitude": -85.255,
         "population": 20979,
         "source_link": "http://geology.com/news/2009/tennessee-rockslide-spectacular-video.shtml",
         "source_name": "nan",
         "state/province": "Tennessee",
         "storm_name": "nan",
         "time": "nan",
         "trigger": "Rain"
        },
        {
         "_deepnote_index_column": 228,
         "city/town": "San Vito",
         "continent_code": "nan",
         "country_code": "CR",
         "country_name": "Costa Rica",
         "date": "2009-11-13T00:00:00.000000",
         "distance": 18.00524,
         "fatalities": 1,
         "geolocation": "(8.8020999999999994, -83.133499999999998)",
         "hazard_type": "Landslide",
         "id": 1296,
         "injuries": "nan",
         "landslide_size": "Medium",
         "landslide_type": "Landslide",
         "latitude": 8.8021,
         "location_description": "nan",
         "longitude": -83.1335,
         "population": 3981,
         "source_link": "http://www.ticotimes.net/dailyarchive/2009_11/1116092.cfm",
         "source_name": "nan",
         "state/province": "Puntarenas",
         "storm_name": "nan",
         "time": "nan",
         "trigger": "Earthquake"
        },
        {
         "_deepnote_index_column": 229,
         "city/town": "Alton",
         "continent_code": "nan",
         "country_code": "US",
         "country_name": "United States",
         "date": "2009-11-17T00:00:00.000000",
         "distance": 1.54044,
         "fatalities": 0,
         "geolocation": "(38.898000000000003, -90.199299999999994)",
         "hazard_type": "Landslide",
         "id": 1307,
         "injuries": "nan",
         "landslide_size": "Small",
         "landslide_type": "Mudslide",
         "latitude": 38.898,
         "location_description": "nan",
         "longitude": -90.1993,
         "population": 27865,
         "source_link": "http://www.thetelegraph.com/news/park-33219-street-down.html",
         "source_name": "nan",
         "state/province": "Illinois",
         "storm_name": "nan",
         "time": "nan",
         "trigger": "Downpour"
        },
        {
         "_deepnote_index_column": 230,
         "city/town": "Chattanooga",
         "continent_code": "nan",
         "country_code": "US",
         "country_name": "United States",
         "date": "2009-12-09T00:00:00.000000",
         "distance": 5.97545,
         "fatalities": 0,
         "geolocation": "(35.0672, -85.369699999999995)",
         "hazard_type": "Landslide",
         "id": 1353,
         "injuries": "nan",
         "landslide_size": "Small",
         "landslide_type": "Mudslide",
         "latitude": 35.0672,
         "location_description": "nan",
         "longitude": -85.3697,
         "population": 167674,
         "source_link": "nan",
         "source_name": "nan",
         "state/province": "Tennessee",
         "storm_name": "nan",
         "time": "nan",
         "trigger": "Downpour"
        },
        {
         "_deepnote_index_column": 231,
         "city/town": "Signal Mountain",
         "continent_code": "nan",
         "country_code": "US",
         "country_name": "United States",
         "date": "2009-12-09T00:00:00.000000",
         "distance": 2.05274,
         "fatalities": 0,
         "geolocation": "(35.105200000000004, -85.336100000000002)",
         "hazard_type": "Landslide",
         "id": 1354,
         "injuries": "nan",
         "landslide_size": "Small",
         "landslide_type": "Mudslide",
         "latitude": 35.1052,
         "location_description": "nan",
         "longitude": -85.3361,
         "population": 7554,
         "source_link": "nan",
         "source_name": "nan",
         "state/province": "Tennessee",
         "storm_name": "nan",
         "time": "nan",
         "trigger": "Downpour"
        },
        {
         "_deepnote_index_column": 232,
         "city/town": "Signal Mountain",
         "continent_code": "nan",
         "country_code": "US",
         "country_name": "United States",
         "date": "2009-12-09T00:00:00.000000",
         "distance": 2.47169,
         "fatalities": 0,
         "geolocation": "(35.130699999999997, -85.318600000000004)",
         "hazard_type": "Landslide",
         "id": 1355,
         "injuries": "nan",
         "landslide_size": "Small",
         "landslide_type": "Mudslide",
         "latitude": 35.1307,
         "location_description": "nan",
         "longitude": -85.3186,
         "population": 7554,
         "source_link": "http://www.chattanoogan.com/articles/article_164622.asp",
         "source_name": "nan",
         "state/province": "Tennessee",
         "storm_name": "nan",
         "time": "nan",
         "trigger": "Downpour"
        },
        {
         "_deepnote_index_column": 233,
         "city/town": "Louisiana",
         "continent_code": "nan",
         "country_code": "US",
         "country_name": "United States",
         "date": "2009-12-12T00:00:00.000000",
         "distance": 7.601539999999999,
         "fatalities": 0,
         "geolocation": "(39.405200000000001, -90.983599999999996)",
         "hazard_type": "Landslide",
         "id": 1357,
         "injuries": "nan",
         "landslide_size": "Small",
         "landslide_type": "Landslide",
         "latitude": 39.4052,
         "location_description": "nan",
         "longitude": -90.9836,
         "population": 3364,
         "source_link": "http://www.koamtv.com/Global/story.asp?S=11679374",
         "source_name": "nan",
         "state/province": "Missouri",
         "storm_name": "nan",
         "time": "nan",
         "trigger": "Rain"
        },
        {
         "_deepnote_index_column": 234,
         "city/town": "Running Springs",
         "continent_code": "nan",
         "country_code": "US",
         "country_name": "United States",
         "date": "2009-12-13T00:00:00.000000",
         "distance": 8.91845,
         "fatalities": 0,
         "geolocation": "(34.2425, -117.0219)",
         "hazard_type": "Landslide",
         "id": 1358,
         "injuries": "nan",
         "landslide_size": "Small",
         "landslide_type": "Complex",
         "latitude": 34.2425,
         "location_description": "nan",
         "longitude": -117.0219,
         "population": 4862,
         "source_link": "http://www.rimoftheworld.net/4512",
         "source_name": "nan",
         "state/province": "California",
         "storm_name": "nan",
         "time": "nan",
         "trigger": "Downpour"
        },
        {
         "_deepnote_index_column": 235,
         "city/town": "Purvis",
         "continent_code": "nan",
         "country_code": "US",
         "country_name": "United States",
         "date": "2009-12-18T00:00:00.000000",
         "distance": 17.4013,
         "fatalities": 0,
         "geolocation": "(31.134499999999999, -89.227599999999995)",
         "hazard_type": "Landslide",
         "id": 1367,
         "injuries": "nan",
         "landslide_size": "Small",
         "landslide_type": "Mudslide",
         "latitude": 31.1345,
         "location_description": "nan",
         "longitude": -89.2276,
         "population": 2175,
         "source_link": "http://www.clarionledger.com/article/20091219/NEWS/912190329/1001/RSS01",
         "source_name": "nan",
         "state/province": "Mississippi",
         "storm_name": "nan",
         "time": "nan",
         "trigger": "Downpour"
        },
        {
         "_deepnote_index_column": 1294,
         "city/town": "Granby",
         "continent_code": "nan",
         "country_code": "US",
         "country_name": "United States",
         "date": "2007-06-01T00:00:00.000000",
         "distance": 5.53226,
         "fatalities": 0,
         "geolocation": "(40.0929, -105.87520000000001)",
         "hazard_type": "Landslide",
         "id": 6253,
         "injuries": 0,
         "landslide_size": "Medium",
         "landslide_type": "Landslide",
         "latitude": 40.0929,
         "location_description": "Other",
         "longitude": -105.8752,
         "population": 1864,
         "source_link": "http://www.skyhidailynews.com/news/13393638-113/county-landfill-state-curran",
         "source_name": "Sky-Hi News",
         "state/province": "Colorado",
         "storm_name": "nan",
         "time": "nan",
         "trigger": "Unknown"
        },
        {
         "_deepnote_index_column": 1302,
         "city/town": "Logan",
         "continent_code": "nan",
         "country_code": "US",
         "country_name": "United States",
         "date": "2009-06-11T00:00:00.000000",
         "distance": 1.79637,
         "fatalities": 3,
         "geolocation": "(41.738500000000002, -111.81319999999999)",
         "hazard_type": "Landslide",
         "id": 6303,
         "injuries": 0,
         "landslide_size": "Small",
         "landslide_type": "Landslide",
         "latitude": 41.7385,
         "location_description": "Above river",
         "longitude": -111.8132,
         "population": 48174,
         "source_link": "http://www.sltrib.com/news/1739780-155/logan-canal-leavey-ashcroft-hill-lee",
         "source_name": "Salt Lake Tribune",
         "state/province": "Utah",
         "storm_name": "nan",
         "time": "nan",
         "trigger": "Flooding"
        },
        {
         "_deepnote_index_column": 1345,
         "city/town": "Camp Springs",
         "continent_code": "nan",
         "country_code": "US",
         "country_name": "United States",
         "date": "2008-05-11T00:00:00.000000",
         "distance": 1.8754,
         "fatalities": 0,
         "geolocation": "(38.816200000000002, -76.921599999999998)",
         "hazard_type": "Landslide",
         "id": 6585,
         "injuries": 0,
         "landslide_size": "Medium",
         "landslide_type": "Other",
         "latitude": 38.8162,
         "location_description": "Above river",
         "longitude": -76.9216,
         "population": 19096,
         "source_link": "http://www.princegeorgescountymd.gov/sites/Sustainable/Services/FloodManagement/Documents/PG-Laurel_HazardMitPlan.pdf",
         "source_name": "Hazard Mitigation Plan",
         "state/province": "Maryland",
         "storm_name": "nan",
         "time": "5:45",
         "trigger": "Continuous rain"
        },
        {
         "_deepnote_index_column": 1563,
         "city/town": "Homestead",
         "continent_code": "nan",
         "country_code": "US",
         "country_name": "United States",
         "date": "2007-04-13T00:00:00.000000",
         "distance": 3.7449,
         "fatalities": 0,
         "geolocation": "(40.426699999999997, -79.946799999999996)",
         "hazard_type": "Landslide",
         "id": 7399,
         "injuries": 0,
         "landslide_size": "Medium",
         "landslide_type": "Landslide",
         "latitude": 40.4267,
         "location_description": "Unknown",
         "longitude": -79.9468,
         "population": 3165,
         "source_link": "https://web.archive.org/web/20080423132842/http://www.thepittsburghchannel.com/news/11846833/detail.html",
         "source_name": "WTAE",
         "state/province": "Pennsylvania",
         "storm_name": "nan",
         "time": "nan",
         "trigger": "Unknown"
        }
       ],
       "rows_top": [
        {
         "_deepnote_index_column": 0,
         "city/town": "Cherry Hill",
         "continent_code": "nan",
         "country_code": "US",
         "country_name": "United States",
         "date": "2007-03-02T00:00:00.000000",
         "distance": 3.40765,
         "fatalities": "nan",
         "geolocation": "(38.600900000000003, -77.268199999999993)",
         "hazard_type": "Landslide",
         "id": 34,
         "injuries": "nan",
         "landslide_size": "Small",
         "landslide_type": "Landslide",
         "latitude": 38.6009,
         "location_description": "Unknown",
         "longitude": -77.2682,
         "population": 16000,
         "source_link": "http://www.nbc4.com/news/11186871/detail.html",
         "source_name": "NBC 4 news",
         "state/province": "Virginia",
         "storm_name": "nan",
         "time": "Night",
         "trigger": "Rain"
        },
        {
         "_deepnote_index_column": 1,
         "city/town": "New Philadelphia",
         "continent_code": "nan",
         "country_code": "US",
         "country_name": "United States",
         "date": "2007-03-22T00:00:00.000000",
         "distance": 3.3352199999999996,
         "fatalities": "nan",
         "geolocation": "(40.517499999999998, -81.430499999999995)",
         "hazard_type": "Landslide",
         "id": 42,
         "injuries": "nan",
         "landslide_size": "Small",
         "landslide_type": "Landslide",
         "latitude": 40.5175,
         "location_description": "nan",
         "longitude": -81.4305,
         "population": 17288,
         "source_link": "http://www.cantonrep.com/index.php?ID=345054&Category=9&subCategoryID=0",
         "source_name": "Canton Rep.com",
         "state/province": "Ohio",
         "storm_name": "nan",
         "time": "nan",
         "trigger": "Rain"
        },
        {
         "_deepnote_index_column": 2,
         "city/town": "Wilkinsburg",
         "continent_code": "nan",
         "country_code": "US",
         "country_name": "United States",
         "date": "2007-04-06T00:00:00.000000",
         "distance": 2.91977,
         "fatalities": "nan",
         "geolocation": "(40.4377, -79.915999999999997)",
         "hazard_type": "Landslide",
         "id": 56,
         "injuries": "nan",
         "landslide_size": "Small",
         "landslide_type": "Landslide",
         "latitude": 40.4377,
         "location_description": "Urban area",
         "longitude": -79.916,
         "population": 15930,
         "source_link": "https://web.archive.org/web/20080423132842/http://www.thepittsburghchannel.com/news/11846833/detail.html",
         "source_name": "The Pittsburgh Channel.com",
         "state/province": "Pennsylvania",
         "storm_name": "nan",
         "time": "nan",
         "trigger": "Rain"
        },
        {
         "_deepnote_index_column": 3,
         "city/town": "Châteauguay",
         "continent_code": "nan",
         "country_code": "CA",
         "country_name": "Canada",
         "date": "2007-04-14T00:00:00.000000",
         "distance": 2.9868200000000003,
         "fatalities": "nan",
         "geolocation": "(45.322600000000001, -73.777100000000004)",
         "hazard_type": "Landslide",
         "id": 59,
         "injuries": "nan",
         "landslide_size": "Small",
         "landslide_type": "Riverbank collapse",
         "latitude": 45.3226,
         "location_description": "Above river",
         "longitude": -73.7771,
         "population": 42786,
         "source_link": "http://www.hebdos.net/lsc/edition162007/articles.asp?article_id=166976",
         "source_name": "Le Soleil",
         "state/province": "Quebec",
         "storm_name": "nan",
         "time": "nan",
         "trigger": "Rain"
        },
        {
         "_deepnote_index_column": 4,
         "city/town": "Pikeville",
         "continent_code": "nan",
         "country_code": "US",
         "country_name": "United States",
         "date": "2007-04-15T00:00:00.000000",
         "distance": 5.66542,
         "fatalities": 0,
         "geolocation": "(37.432499999999997, -82.493099999999998)",
         "hazard_type": "Landslide",
         "id": 61,
         "injuries": "nan",
         "landslide_size": "Small",
         "landslide_type": "Landslide",
         "latitude": 37.4325,
         "location_description": "Below road",
         "longitude": -82.4931,
         "population": 6903,
         "source_link": "nan",
         "source_name": "Matthew Crawford (KGS)",
         "state/province": "Kentucky",
         "storm_name": "nan",
         "time": "nan",
         "trigger": "Downpour"
        },
        {
         "_deepnote_index_column": 5,
         "city/town": "Pikeville",
         "continent_code": "nan",
         "country_code": "US",
         "country_name": "United States",
         "date": "2007-04-20T00:00:00.000000",
         "distance": 0.23715,
         "fatalities": "nan",
         "geolocation": "(37.481400000000001, -82.518600000000006)",
         "hazard_type": "Landslide",
         "id": 64,
         "injuries": "nan",
         "landslide_size": "Small",
         "landslide_type": "Landslide",
         "latitude": 37.4814,
         "location_description": "nan",
         "longitude": -82.5186,
         "population": 6903,
         "source_link": "http://www.news-expressky.com/articles/2007/04/19/top_story/01mudslide.txt",
         "source_name": "Applalachain news-express",
         "state/province": "Kentucky",
         "storm_name": "nan",
         "time": "nan",
         "trigger": "Rain"
        },
        {
         "_deepnote_index_column": 6,
         "city/town": "Dakota Dunes",
         "continent_code": "nan",
         "country_code": "US",
         "country_name": "United States",
         "date": "2007-04-24T00:00:00.000000",
         "distance": 2.48033,
         "fatalities": "nan",
         "geolocation": "(42.494100000000003, -96.457599999999999)",
         "hazard_type": "Landslide",
         "id": 67,
         "injuries": "nan",
         "landslide_size": "Small",
         "landslide_type": "Landslide",
         "latitude": 42.4941,
         "location_description": "nan",
         "longitude": -96.4576,
         "population": 2540,
         "source_link": "http://www.siouxcityjournal.com/articles/2007/04/25/news/top/02a92f1defdd220f862572c800126dfc.txt",
         "source_name": "Sioux City Journnal",
         "state/province": "South Dakota",
         "storm_name": "nan",
         "time": "nan",
         "trigger": "Rain"
        },
        {
         "_deepnote_index_column": 7,
         "city/town": "Pereira",
         "continent_code": "SA",
         "country_code": "CO",
         "country_name": "Colombia",
         "date": "2007-05-21T00:00:00.000000",
         "distance": 0.62022,
         "fatalities": 13,
         "geolocation": "(4.8080999999999996, -75.694100000000006)",
         "hazard_type": "Landslide",
         "id": 77,
         "injuries": "nan",
         "landslide_size": "Large",
         "landslide_type": "Mudslide",
         "latitude": 4.8081,
         "location_description": "nan",
         "longitude": -75.6941,
         "population": 440118,
         "source_link": "http://www.reuters.com/news/video/videoStory?videoId=53594&feedType=RSS&rpc=23",
         "source_name": "Reuters - AlertNet.org",
         "state/province": "Risaralda",
         "storm_name": "nan",
         "time": "nan",
         "trigger": "Rain"
        },
        {
         "_deepnote_index_column": 8,
         "city/town": "Zamora",
         "continent_code": "SA",
         "country_code": "EC",
         "country_name": "Ecuador",
         "date": "2007-06-27T00:00:00.000000",
         "distance": 0.47713999999999995,
         "fatalities": "nan",
         "geolocation": "(-4.0650000000000004, -78.950999999999993)",
         "hazard_type": "Landslide",
         "id": 105,
         "injuries": "nan",
         "landslide_size": "Medium",
         "landslide_type": "Landslide",
         "latitude": -4.065,
         "location_description": "nan",
         "longitude": -78.95100000000001,
         "population": 15276,
         "source_link": "https://www-secure.ifrc.org/dmis/prepare/view_report.asp?ReportID=2908",
         "source_name": "Red Cross - Field reports",
         "state/province": "Zamora-Chinchipe",
         "storm_name": "nan",
         "time": "nan",
         "trigger": "Downpour"
        },
        {
         "_deepnote_index_column": 9,
         "city/town": "Loja",
         "continent_code": "SA",
         "country_code": "EC",
         "country_name": "Ecuador",
         "date": "2007-06-27T00:00:00.000000",
         "distance": 0.35649000000000003,
         "fatalities": "nan",
         "geolocation": "(-3.99, -79.204999999999998)",
         "hazard_type": "Landslide",
         "id": 106,
         "injuries": "nan",
         "landslide_size": "Medium",
         "landslide_type": "Landslide",
         "latitude": -3.99,
         "location_description": "nan",
         "longitude": -79.205,
         "population": 117796,
         "source_link": "https://www-secure.ifrc.org/dmis/prepare/view_report.asp?ReportID=2908",
         "source_name": "Red Cross - Field reports",
         "state/province": "Loja",
         "storm_name": "nan",
         "time": "nan",
         "trigger": "Downpour"
        },
        {
         "_deepnote_index_column": 10,
         "city/town": "Sangolquí",
         "continent_code": "SA",
         "country_code": "EC",
         "country_name": "Ecuador",
         "date": "2007-06-27T00:00:00.000000",
         "distance": 33.94603,
         "fatalities": "nan",
         "geolocation": "(-0.35599999999999998, -78.147999999999996)",
         "hazard_type": "Landslide",
         "id": 107,
         "injuries": "nan",
         "landslide_size": "Medium",
         "landslide_type": "Landslide",
         "latitude": -0.35600000000000004,
         "location_description": "nan",
         "longitude": -78.148,
         "population": 5114,
         "source_link": "https://www-secure.ifrc.org/dmis/prepare/view_report.asp?ReportID=2908",
         "source_name": "Red Cross - Field reports",
         "state/province": "Pichincha",
         "storm_name": "nan",
         "time": "nan",
         "trigger": "Downpour"
        },
        {
         "_deepnote_index_column": 11,
         "city/town": "Haltom City",
         "continent_code": "nan",
         "country_code": "US",
         "country_name": "United States",
         "date": "2007-07-01T00:00:00.000000",
         "distance": 0.036680000000000004,
         "fatalities": "nan",
         "geolocation": "(32.799500000000002, -97.268799999999999)",
         "hazard_type": "Landslide",
         "id": 109,
         "injuries": "nan",
         "landslide_size": "Medium",
         "landslide_type": "Landslide",
         "latitude": 32.7995,
         "location_description": "nan",
         "longitude": -97.2688,
         "population": 42409,
         "source_link": "http://www.nbc5i.com/news/13604036/detail.html",
         "source_name": "NBC5i.com",
         "state/province": "Texas",
         "storm_name": "nan",
         "time": "nan",
         "trigger": "Rain"
        },
        {
         "_deepnote_index_column": 12,
         "city/town": "Laguna Chica (Pueblo Nuevo)",
         "continent_code": "nan",
         "country_code": "MX",
         "country_name": "Mexico",
         "date": "2007-07-04T00:00:00.000000",
         "distance": 9.51003,
         "fatalities": 7,
         "geolocation": "(18.536899999999999, -96.822900000000004)",
         "hazard_type": "Landslide",
         "id": 115,
         "injuries": "nan",
         "landslide_size": "Medium",
         "landslide_type": "Landslide",
         "latitude": 18.5369,
         "location_description": "nan",
         "longitude": -96.8229,
         "population": 1947,
         "source_link": "http://www.nytimes.com/2007/07/04/world/americas/04cnd-mexico.html?_r=1&hp&oref=slogin",
         "source_name": "nytimes.com",
         "state/province": "Veracruz-Llave",
         "storm_name": "nan",
         "time": "nan",
         "trigger": "Rain"
        },
        {
         "_deepnote_index_column": 13,
         "city/town": "Ottawa",
         "continent_code": "nan",
         "country_code": "CA",
         "country_name": "Canada",
         "date": "2007-07-08T00:00:00.000000",
         "distance": 1.7475900000000002,
         "fatalities": "nan",
         "geolocation": "(45.425699999999999, -75.689599999999999)",
         "hazard_type": "Landslide",
         "id": 119,
         "injuries": "nan",
         "landslide_size": "Small",
         "landslide_type": "Landslide",
         "latitude": 45.4257,
         "location_description": "nan",
         "longitude": -75.6896,
         "population": 812129,
         "source_link": "http://www.cfra.com/headlines/index.asp?cat=1&nid=50672",
         "source_name": "nan",
         "state/province": "Ontario",
         "storm_name": "nan",
         "time": "nan",
         "trigger": "Unknown"
        },
        {
         "_deepnote_index_column": 14,
         "city/town": "San Carlos",
         "continent_code": "nan",
         "country_code": "DO",
         "country_name": "Dominican Republic",
         "date": "2007-07-13T00:00:00.000000",
         "distance": 1.70298,
         "fatalities": "nan",
         "geolocation": "(18.4757, -69.914000000000001)",
         "hazard_type": "Landslide",
         "id": 124,
         "injuries": "nan",
         "landslide_size": "Small",
         "landslide_type": "Landslide",
         "latitude": 18.4757,
         "location_description": "nan",
         "longitude": -69.914,
         "population": 13456,
         "source_link": "http://www.dominicantoday.com/app/article.aspx?id=24682",
         "source_name": "Dominican Today",
         "state/province": "Distrito Nacional",
         "storm_name": "nan",
         "time": "Night",
         "trigger": "Unknown"
        },
        {
         "_deepnote_index_column": 15,
         "city/town": "Grand Prairie",
         "continent_code": "nan",
         "country_code": "US",
         "country_name": "United States",
         "date": "2007-07-24T00:00:00.000000",
         "distance": 5.66936,
         "fatalities": "nan",
         "geolocation": "(32.7883, -97.031700000000001)",
         "hazard_type": "Landslide",
         "id": 138,
         "injuries": "nan",
         "landslide_size": "Small",
         "landslide_type": "Landslide",
         "latitude": 32.7883,
         "location_description": "nan",
         "longitude": -97.0317,
         "population": 175396,
         "source_link": "http://www.gptimes.com/?story_20070627130646_story&pg7pg&storycat_GrandPrairie0_storycat",
         "source_name": "Trinity River Authority - Grand Prarie Times",
         "state/province": "Texas",
         "storm_name": "nan",
         "time": "nan",
         "trigger": "Rain"
        },
        {
         "_deepnote_index_column": 16,
         "city/town": "San José Pinula",
         "continent_code": "nan",
         "country_code": "GT",
         "country_name": "Guatemala",
         "date": "2007-08-09T00:00:00.000000",
         "distance": 4.74385,
         "fatalities": 5,
         "geolocation": "(14.566700000000001, -90.45)",
         "hazard_type": "Landslide",
         "id": 165,
         "injuries": "nan",
         "landslide_size": "Medium",
         "landslide_type": "Mudslide",
         "latitude": 14.5667,
         "location_description": "nan",
         "longitude": -90.45,
         "population": 47247,
         "source_link": "http://www.iht.com/articles/ap/2007/08/09/america/LA-GEN-Guatemala-Deadly-Mudslide.php",
         "source_name": "International Herald",
         "state/province": "Guatemala",
         "storm_name": "nan",
         "time": "nan",
         "trigger": "Rain"
        },
        {
         "_deepnote_index_column": 17,
         "city/town": "Port Antonio",
         "continent_code": "nan",
         "country_code": "JM",
         "country_name": "Jamaica",
         "date": "2007-08-11T00:00:00.000000",
         "distance": 7.79027,
         "fatalities": "nan",
         "geolocation": "(18.125800000000002, -76.508200000000002)",
         "hazard_type": "Landslide",
         "id": 174,
         "injuries": "nan",
         "landslide_size": "Medium",
         "landslide_type": "Landslide",
         "latitude": 18.1258,
         "location_description": "nan",
         "longitude": -76.5082,
         "population": 14400,
         "source_link": "http://www.jamaica-gleaner.com/gleaner/20070812/lead/lead2.html",
         "source_name": "Jamaica Gleaner",
         "state/province": "Portland",
         "storm_name": "nan",
         "time": "nan",
         "trigger": "Rain"
        },
        {
         "_deepnote_index_column": 18,
         "city/town": "Meeker",
         "continent_code": "nan",
         "country_code": "US",
         "country_name": "United States",
         "date": "2007-08-14T00:00:00.000000",
         "distance": 10.879489999999999,
         "fatalities": "nan",
         "geolocation": "(39.942500000000003, -107.8818)",
         "hazard_type": "Landslide",
         "id": 185,
         "injuries": "nan",
         "landslide_size": "Medium",
         "landslide_type": "Mudslide",
         "latitude": 39.9425,
         "location_description": "nan",
         "longitude": -107.8818,
         "population": 2475,
         "source_link": "http://www.telluridegateway.com/articles/2007/08/16/news/news02.txt",
         "source_name": "Telluride Daily Planet",
         "state/province": "Colorado",
         "storm_name": "nan",
         "time": "nan",
         "trigger": "Rain"
        },
        {
         "_deepnote_index_column": 19,
         "city/town": "Pont Cassé",
         "continent_code": "nan",
         "country_code": "DM",
         "country_name": "Dominica",
         "date": "2007-08-17T00:00:00.000000",
         "distance": 3.3951599999999997,
         "fatalities": 2,
         "geolocation": "(15.337899999999999, -61.360999999999997)",
         "hazard_type": "Landslide",
         "id": 186,
         "injuries": "nan",
         "landslide_size": "Small",
         "landslide_type": "Mudslide",
         "latitude": 15.3379,
         "location_description": "nan",
         "longitude": -61.361000000000004,
         "population": 702,
         "source_link": "http://www.tribuneindia.com/2007/20070817/himachal.htm",
         "source_name": "Tribune India",
         "state/province": "Saint Paul",
         "storm_name": "Hurricane Dean",
         "time": "nan",
         "trigger": "Tropical cyclone"
        },
        {
         "_deepnote_index_column": 20,
         "city/town": "Caledonia",
         "continent_code": "nan",
         "country_code": "US",
         "country_name": "United States",
         "date": "2007-08-18T00:00:00.000000",
         "distance": 22.31062,
         "fatalities": "nan",
         "geolocation": "(43.595999999999997, -91.2256)",
         "hazard_type": "Landslide",
         "id": 187,
         "injuries": "nan",
         "landslide_size": "Medium",
         "landslide_type": "Landslide",
         "latitude": 43.596000000000004,
         "location_description": "nan",
         "longitude": -91.2256,
         "population": 2868,
         "source_link": "http://www.suntimes.com/news/nation/516414,19flooding.article",
         "source_name": "The Sun Times",
         "state/province": "Minnesota",
         "storm_name": "nan",
         "time": "nan",
         "trigger": "Rain"
        }
       ]
      },
      "text/html": [
       "<div>\n",
       "<style scoped>\n",
       "    .dataframe tbody tr th:only-of-type {\n",
       "        vertical-align: middle;\n",
       "    }\n",
       "\n",
       "    .dataframe tbody tr th {\n",
       "        vertical-align: top;\n",
       "    }\n",
       "\n",
       "    .dataframe thead th {\n",
       "        text-align: right;\n",
       "    }\n",
       "</style>\n",
       "<table border=\"1\" class=\"dataframe\">\n",
       "  <thead>\n",
       "    <tr style=\"text-align: right;\">\n",
       "      <th></th>\n",
       "      <th>id</th>\n",
       "      <th>date</th>\n",
       "      <th>time</th>\n",
       "      <th>continent_code</th>\n",
       "      <th>country_name</th>\n",
       "      <th>country_code</th>\n",
       "      <th>state/province</th>\n",
       "      <th>population</th>\n",
       "      <th>city/town</th>\n",
       "      <th>distance</th>\n",
       "      <th>...</th>\n",
       "      <th>geolocation</th>\n",
       "      <th>hazard_type</th>\n",
       "      <th>landslide_type</th>\n",
       "      <th>landslide_size</th>\n",
       "      <th>trigger</th>\n",
       "      <th>storm_name</th>\n",
       "      <th>injuries</th>\n",
       "      <th>fatalities</th>\n",
       "      <th>source_name</th>\n",
       "      <th>source_link</th>\n",
       "    </tr>\n",
       "  </thead>\n",
       "  <tbody>\n",
       "    <tr>\n",
       "      <th>0</th>\n",
       "      <td>34</td>\n",
       "      <td>2007-03-02</td>\n",
       "      <td>Night</td>\n",
       "      <td>NaN</td>\n",
       "      <td>United States</td>\n",
       "      <td>US</td>\n",
       "      <td>Virginia</td>\n",
       "      <td>16000</td>\n",
       "      <td>Cherry Hill</td>\n",
       "      <td>3.40765</td>\n",
       "      <td>...</td>\n",
       "      <td>(38.600900000000003, -77.268199999999993)</td>\n",
       "      <td>Landslide</td>\n",
       "      <td>Landslide</td>\n",
       "      <td>Small</td>\n",
       "      <td>Rain</td>\n",
       "      <td>NaN</td>\n",
       "      <td>NaN</td>\n",
       "      <td>NaN</td>\n",
       "      <td>NBC 4 news</td>\n",
       "      <td>http://www.nbc4.com/news/11186871/detail.html</td>\n",
       "    </tr>\n",
       "    <tr>\n",
       "      <th>1</th>\n",
       "      <td>42</td>\n",
       "      <td>2007-03-22</td>\n",
       "      <td>NaN</td>\n",
       "      <td>NaN</td>\n",
       "      <td>United States</td>\n",
       "      <td>US</td>\n",
       "      <td>Ohio</td>\n",
       "      <td>17288</td>\n",
       "      <td>New Philadelphia</td>\n",
       "      <td>3.33522</td>\n",
       "      <td>...</td>\n",
       "      <td>(40.517499999999998, -81.430499999999995)</td>\n",
       "      <td>Landslide</td>\n",
       "      <td>Landslide</td>\n",
       "      <td>Small</td>\n",
       "      <td>Rain</td>\n",
       "      <td>NaN</td>\n",
       "      <td>NaN</td>\n",
       "      <td>NaN</td>\n",
       "      <td>Canton Rep.com</td>\n",
       "      <td>http://www.cantonrep.com/index.php?ID=345054&amp;C...</td>\n",
       "    </tr>\n",
       "    <tr>\n",
       "      <th>2</th>\n",
       "      <td>56</td>\n",
       "      <td>2007-04-06</td>\n",
       "      <td>NaN</td>\n",
       "      <td>NaN</td>\n",
       "      <td>United States</td>\n",
       "      <td>US</td>\n",
       "      <td>Pennsylvania</td>\n",
       "      <td>15930</td>\n",
       "      <td>Wilkinsburg</td>\n",
       "      <td>2.91977</td>\n",
       "      <td>...</td>\n",
       "      <td>(40.4377, -79.915999999999997)</td>\n",
       "      <td>Landslide</td>\n",
       "      <td>Landslide</td>\n",
       "      <td>Small</td>\n",
       "      <td>Rain</td>\n",
       "      <td>NaN</td>\n",
       "      <td>NaN</td>\n",
       "      <td>NaN</td>\n",
       "      <td>The Pittsburgh Channel.com</td>\n",
       "      <td>https://web.archive.org/web/20080423132842/htt...</td>\n",
       "    </tr>\n",
       "    <tr>\n",
       "      <th>3</th>\n",
       "      <td>59</td>\n",
       "      <td>2007-04-14</td>\n",
       "      <td>NaN</td>\n",
       "      <td>NaN</td>\n",
       "      <td>Canada</td>\n",
       "      <td>CA</td>\n",
       "      <td>Quebec</td>\n",
       "      <td>42786</td>\n",
       "      <td>Châteauguay</td>\n",
       "      <td>2.98682</td>\n",
       "      <td>...</td>\n",
       "      <td>(45.322600000000001, -73.777100000000004)</td>\n",
       "      <td>Landslide</td>\n",
       "      <td>Riverbank collapse</td>\n",
       "      <td>Small</td>\n",
       "      <td>Rain</td>\n",
       "      <td>NaN</td>\n",
       "      <td>NaN</td>\n",
       "      <td>NaN</td>\n",
       "      <td>Le Soleil</td>\n",
       "      <td>http://www.hebdos.net/lsc/edition162007/articl...</td>\n",
       "    </tr>\n",
       "    <tr>\n",
       "      <th>4</th>\n",
       "      <td>61</td>\n",
       "      <td>2007-04-15</td>\n",
       "      <td>NaN</td>\n",
       "      <td>NaN</td>\n",
       "      <td>United States</td>\n",
       "      <td>US</td>\n",
       "      <td>Kentucky</td>\n",
       "      <td>6903</td>\n",
       "      <td>Pikeville</td>\n",
       "      <td>5.66542</td>\n",
       "      <td>...</td>\n",
       "      <td>(37.432499999999997, -82.493099999999998)</td>\n",
       "      <td>Landslide</td>\n",
       "      <td>Landslide</td>\n",
       "      <td>Small</td>\n",
       "      <td>Downpour</td>\n",
       "      <td>NaN</td>\n",
       "      <td>NaN</td>\n",
       "      <td>0.0</td>\n",
       "      <td>Matthew Crawford (KGS)</td>\n",
       "      <td>NaN</td>\n",
       "    </tr>\n",
       "    <tr>\n",
       "      <th>...</th>\n",
       "      <td>...</td>\n",
       "      <td>...</td>\n",
       "      <td>...</td>\n",
       "      <td>...</td>\n",
       "      <td>...</td>\n",
       "      <td>...</td>\n",
       "      <td>...</td>\n",
       "      <td>...</td>\n",
       "      <td>...</td>\n",
       "      <td>...</td>\n",
       "      <td>...</td>\n",
       "      <td>...</td>\n",
       "      <td>...</td>\n",
       "      <td>...</td>\n",
       "      <td>...</td>\n",
       "      <td>...</td>\n",
       "      <td>...</td>\n",
       "      <td>...</td>\n",
       "      <td>...</td>\n",
       "      <td>...</td>\n",
       "      <td>...</td>\n",
       "    </tr>\n",
       "    <tr>\n",
       "      <th>235</th>\n",
       "      <td>1367</td>\n",
       "      <td>2009-12-18</td>\n",
       "      <td>NaN</td>\n",
       "      <td>NaN</td>\n",
       "      <td>United States</td>\n",
       "      <td>US</td>\n",
       "      <td>Mississippi</td>\n",
       "      <td>2175</td>\n",
       "      <td>Purvis</td>\n",
       "      <td>17.40130</td>\n",
       "      <td>...</td>\n",
       "      <td>(31.134499999999999, -89.227599999999995)</td>\n",
       "      <td>Landslide</td>\n",
       "      <td>Mudslide</td>\n",
       "      <td>Small</td>\n",
       "      <td>Downpour</td>\n",
       "      <td>NaN</td>\n",
       "      <td>NaN</td>\n",
       "      <td>0.0</td>\n",
       "      <td>NaN</td>\n",
       "      <td>http://www.clarionledger.com/article/20091219/...</td>\n",
       "    </tr>\n",
       "    <tr>\n",
       "      <th>1294</th>\n",
       "      <td>6253</td>\n",
       "      <td>2007-06-01</td>\n",
       "      <td>NaN</td>\n",
       "      <td>NaN</td>\n",
       "      <td>United States</td>\n",
       "      <td>US</td>\n",
       "      <td>Colorado</td>\n",
       "      <td>1864</td>\n",
       "      <td>Granby</td>\n",
       "      <td>5.53226</td>\n",
       "      <td>...</td>\n",
       "      <td>(40.0929, -105.87520000000001)</td>\n",
       "      <td>Landslide</td>\n",
       "      <td>Landslide</td>\n",
       "      <td>Medium</td>\n",
       "      <td>Unknown</td>\n",
       "      <td>NaN</td>\n",
       "      <td>0.0</td>\n",
       "      <td>0.0</td>\n",
       "      <td>Sky-Hi News</td>\n",
       "      <td>http://www.skyhidailynews.com/news/13393638-11...</td>\n",
       "    </tr>\n",
       "    <tr>\n",
       "      <th>1302</th>\n",
       "      <td>6303</td>\n",
       "      <td>2009-06-11</td>\n",
       "      <td>NaN</td>\n",
       "      <td>NaN</td>\n",
       "      <td>United States</td>\n",
       "      <td>US</td>\n",
       "      <td>Utah</td>\n",
       "      <td>48174</td>\n",
       "      <td>Logan</td>\n",
       "      <td>1.79637</td>\n",
       "      <td>...</td>\n",
       "      <td>(41.738500000000002, -111.81319999999999)</td>\n",
       "      <td>Landslide</td>\n",
       "      <td>Landslide</td>\n",
       "      <td>Small</td>\n",
       "      <td>Flooding</td>\n",
       "      <td>NaN</td>\n",
       "      <td>0.0</td>\n",
       "      <td>3.0</td>\n",
       "      <td>Salt Lake Tribune</td>\n",
       "      <td>http://www.sltrib.com/news/1739780-155/logan-c...</td>\n",
       "    </tr>\n",
       "    <tr>\n",
       "      <th>1345</th>\n",
       "      <td>6585</td>\n",
       "      <td>2008-05-11</td>\n",
       "      <td>5:45</td>\n",
       "      <td>NaN</td>\n",
       "      <td>United States</td>\n",
       "      <td>US</td>\n",
       "      <td>Maryland</td>\n",
       "      <td>19096</td>\n",
       "      <td>Camp Springs</td>\n",
       "      <td>1.87540</td>\n",
       "      <td>...</td>\n",
       "      <td>(38.816200000000002, -76.921599999999998)</td>\n",
       "      <td>Landslide</td>\n",
       "      <td>Other</td>\n",
       "      <td>Medium</td>\n",
       "      <td>Continuous rain</td>\n",
       "      <td>NaN</td>\n",
       "      <td>0.0</td>\n",
       "      <td>0.0</td>\n",
       "      <td>Hazard Mitigation Plan</td>\n",
       "      <td>http://www.princegeorgescountymd.gov/sites/Sus...</td>\n",
       "    </tr>\n",
       "    <tr>\n",
       "      <th>1563</th>\n",
       "      <td>7399</td>\n",
       "      <td>2007-04-13</td>\n",
       "      <td>NaN</td>\n",
       "      <td>NaN</td>\n",
       "      <td>United States</td>\n",
       "      <td>US</td>\n",
       "      <td>Pennsylvania</td>\n",
       "      <td>3165</td>\n",
       "      <td>Homestead</td>\n",
       "      <td>3.74490</td>\n",
       "      <td>...</td>\n",
       "      <td>(40.426699999999997, -79.946799999999996)</td>\n",
       "      <td>Landslide</td>\n",
       "      <td>Landslide</td>\n",
       "      <td>Medium</td>\n",
       "      <td>Unknown</td>\n",
       "      <td>NaN</td>\n",
       "      <td>0.0</td>\n",
       "      <td>0.0</td>\n",
       "      <td>WTAE</td>\n",
       "      <td>https://web.archive.org/web/20080423132842/htt...</td>\n",
       "    </tr>\n",
       "  </tbody>\n",
       "</table>\n",
       "<p>240 rows × 23 columns</p>\n",
       "</div>"
      ],
      "text/plain": [
       "        id       date   time continent_code   country_name country_code  \\\n",
       "0       34 2007-03-02  Night            NaN  United States           US   \n",
       "1       42 2007-03-22    NaN            NaN  United States           US   \n",
       "2       56 2007-04-06    NaN            NaN  United States           US   \n",
       "3       59 2007-04-14    NaN            NaN         Canada           CA   \n",
       "4       61 2007-04-15    NaN            NaN  United States           US   \n",
       "...    ...        ...    ...            ...            ...          ...   \n",
       "235   1367 2009-12-18    NaN            NaN  United States           US   \n",
       "1294  6253 2007-06-01    NaN            NaN  United States           US   \n",
       "1302  6303 2009-06-11    NaN            NaN  United States           US   \n",
       "1345  6585 2008-05-11   5:45            NaN  United States           US   \n",
       "1563  7399 2007-04-13    NaN            NaN  United States           US   \n",
       "\n",
       "     state/province  population         city/town  distance  ...  \\\n",
       "0          Virginia       16000       Cherry Hill   3.40765  ...   \n",
       "1              Ohio       17288  New Philadelphia   3.33522  ...   \n",
       "2      Pennsylvania       15930       Wilkinsburg   2.91977  ...   \n",
       "3            Quebec       42786       Châteauguay   2.98682  ...   \n",
       "4          Kentucky        6903         Pikeville   5.66542  ...   \n",
       "...             ...         ...               ...       ...  ...   \n",
       "235     Mississippi        2175            Purvis  17.40130  ...   \n",
       "1294       Colorado        1864            Granby   5.53226  ...   \n",
       "1302           Utah       48174             Logan   1.79637  ...   \n",
       "1345       Maryland       19096      Camp Springs   1.87540  ...   \n",
       "1563   Pennsylvania        3165         Homestead   3.74490  ...   \n",
       "\n",
       "                                    geolocation  hazard_type  \\\n",
       "0     (38.600900000000003, -77.268199999999993)    Landslide   \n",
       "1     (40.517499999999998, -81.430499999999995)    Landslide   \n",
       "2                (40.4377, -79.915999999999997)    Landslide   \n",
       "3     (45.322600000000001, -73.777100000000004)    Landslide   \n",
       "4     (37.432499999999997, -82.493099999999998)    Landslide   \n",
       "...                                         ...          ...   \n",
       "235   (31.134499999999999, -89.227599999999995)    Landslide   \n",
       "1294             (40.0929, -105.87520000000001)    Landslide   \n",
       "1302  (41.738500000000002, -111.81319999999999)    Landslide   \n",
       "1345  (38.816200000000002, -76.921599999999998)    Landslide   \n",
       "1563  (40.426699999999997, -79.946799999999996)    Landslide   \n",
       "\n",
       "          landslide_type landslide_size          trigger storm_name injuries  \\\n",
       "0              Landslide          Small             Rain        NaN      NaN   \n",
       "1              Landslide          Small             Rain        NaN      NaN   \n",
       "2              Landslide          Small             Rain        NaN      NaN   \n",
       "3     Riverbank collapse          Small             Rain        NaN      NaN   \n",
       "4              Landslide          Small         Downpour        NaN      NaN   \n",
       "...                  ...            ...              ...        ...      ...   \n",
       "235             Mudslide          Small         Downpour        NaN      NaN   \n",
       "1294           Landslide         Medium          Unknown        NaN      0.0   \n",
       "1302           Landslide          Small         Flooding        NaN      0.0   \n",
       "1345               Other         Medium  Continuous rain        NaN      0.0   \n",
       "1563           Landslide         Medium          Unknown        NaN      0.0   \n",
       "\n",
       "     fatalities                 source_name  \\\n",
       "0           NaN                  NBC 4 news   \n",
       "1           NaN              Canton Rep.com   \n",
       "2           NaN  The Pittsburgh Channel.com   \n",
       "3           NaN                   Le Soleil   \n",
       "4           0.0      Matthew Crawford (KGS)   \n",
       "...         ...                         ...   \n",
       "235         0.0                         NaN   \n",
       "1294        0.0                 Sky-Hi News   \n",
       "1302        3.0           Salt Lake Tribune   \n",
       "1345        0.0      Hazard Mitigation Plan   \n",
       "1563        0.0                        WTAE   \n",
       "\n",
       "                                            source_link  \n",
       "0         http://www.nbc4.com/news/11186871/detail.html  \n",
       "1     http://www.cantonrep.com/index.php?ID=345054&C...  \n",
       "2     https://web.archive.org/web/20080423132842/htt...  \n",
       "3     http://www.hebdos.net/lsc/edition162007/articl...  \n",
       "4                                                   NaN  \n",
       "...                                                 ...  \n",
       "235   http://www.clarionledger.com/article/20091219/...  \n",
       "1294  http://www.skyhidailynews.com/news/13393638-11...  \n",
       "1302  http://www.sltrib.com/news/1739780-155/logan-c...  \n",
       "1345  http://www.princegeorgescountymd.gov/sites/Sus...  \n",
       "1563  https://web.archive.org/web/20080423132842/htt...  \n",
       "\n",
       "[240 rows x 23 columns]"
      ]
     },
     "execution_count": 95,
     "metadata": {},
     "output_type": "execute_result"
    }
   ],
   "source": [
    "landslides[(landslides['date'] > '2007-01-01') & (landslides['date'] < '2010-01-01')]"
   ]
  },
  {
   "cell_type": "markdown",
   "metadata": {
    "cell_id": "9e8d52b0-cad5-42ba-b589-58c51b45b518",
    "deepnote_cell_type": "markdown",
    "tags": []
   },
   "source": [
    "## Basic String Processing "
   ]
  },
  {
   "cell_type": "markdown",
   "metadata": {
    "cell_id": "4d3e8eb4-a79c-49b2-ab92-756f222ebb7e",
    "deepnote_cell_type": "markdown",
    "tags": []
   },
   "source": [
    "In terms of string processing, we can start off with very simple string methods. There are of course the standard python\n",
    "string processing functions but since we would want to parallelize and speed up our data pipeline we'll try to use\n",
    "the pandas `pd` versions as much as possible. The first one we'll use is `pd.series.str.replace(\"a\", \"b\")`. An example of how we\n",
    "use this function is in the next cell:"
   ]
  },
  {
   "cell_type": "code",
   "execution_count": 0,
   "metadata": {
    "cell_id": "b954a6e2-4cfc-4120-a0e9-dc308b0e0f6e",
    "deepnote_cell_type": "code",
    "tags": []
   },
   "outputs": [],
   "source": [
    "landslides[\"state/province\" = landslides[\"state/province\"].replace(\"Virginia\", \"VA\")\n",
    "landslides.head()"
   ]
  },
  {
   "cell_type": "markdown",
   "metadata": {
    "cell_id": "352833bb-c9bd-44f5-871a-31c3b97d319e",
    "deepnote_cell_type": "markdown",
    "tags": []
   },
   "source": [
    "Ignoring the final `.head()` at the end of the expression, we can see that this method goes through every single \n",
    "row in our column and replace all strings with the pattern `a` with `b` instead. So specifically for the code above,\n",
    "all instances of `Virginia` was replaced with `VA` in case we find it easier to work with state/province codes instead.\n",
    "\n",
    "We can do the same thing for every state in terms of converting from state names to region code,\n",
    "but it would be extremely annoying and tedious to call a replace statement for every single state. A far more\n",
    "efficient way to replace states with their codes would be to use a dictionary instead:"
   ]
  },
  {
   "cell_type": "code",
   "execution_count": null,
   "metadata": {
    "cell_id": "f5abaa91-954f-4b41-a00a-f77c2ffab140",
    "deepnote_cell_type": "code",
    "tags": []
   },
   "outputs": [
    {
     "data": {
      "text/plain": [
       "0    VA\n",
       "1    OH\n",
       "2    PA\n",
       "3    QC\n",
       "4    KY\n",
       "Name: state/province, dtype: object"
      ]
     },
     "execution_count": 93,
     "metadata": {},
     "output_type": "execute_result"
    }
   ],
   "source": [
    "landslides[\"state/province\" = landslides[\"state/province\"].replace({\n",
    "    \"Virginia\": \"VA\",\n",
    "    \"Ohio\": \"OH\",\n",
    "    \"Pennsylvania\": \"PA\",\n",
    "    \"Kentucky\": \"KY\",\n",
    "    \"Quebec\": \"QC\"\n",
    "})\n",
    "landslides.head(5)"
   ]
  },
  {
   "cell_type": "markdown",
   "metadata": {
    "cell_id": "ea831cdb-3856-4871-bd39-1a1099f6e0e5",
    "deepnote_cell_type": "markdown",
    "tags": []
   },
   "source": [
    "Another usage of the `.replace` method is to further clean up string columns. For the column `landslides[\"source_link\"]`\n",
    "there are many web URLs that start with `https` rather than `http` which could potentially slow down and break a \n",
    "web scraping module for example."
   ]
  },
  {
   "cell_type": "code",
   "execution_count": null,
   "metadata": {
    "cell_id": "dde38776-c4a5-491e-aead-1d9c91e0ab48",
    "deepnote_cell_type": "code",
    "tags": []
   },
   "outputs": [
    {
     "data": {
      "text/plain": [
       "0        http://www.nbc4.com/news/11186871/detail.html\n",
       "1    http://www.cantonrep.com/index.php?ID=345054&C...\n",
       "2    https://web.archive.org/web/20080423132842/htt...\n",
       "3    http://www.hebdos.net/lsc/edition162007/articl...\n",
       "4                                              Missing\n",
       "Name: source_link, dtype: object"
      ]
     },
     "execution_count": 94,
     "metadata": {},
     "output_type": "execute_result"
    }
   ],
   "source": [
    "landslides[\"source_link\"].head(5)"
   ]
  },
  {
   "cell_type": "markdown",
   "metadata": {
    "cell_id": "2d4165a3-8506-4df8-bd98-db565ba06c56",
    "deepnote_cell_type": "markdown",
    "tags": []
   },
   "source": [
    "The `.replace` method can help us in this situation as well. By specifying a `regex` parameter we can replace substrings\n",
    "with the new string rather than trying to find an exact match with the string we put in (naive exact matching). \n",
    "\n",
    "`regex` is a string matchng library, but don't worry about its syntax or uses too much as it is outside the scope of this module."
   ]
  },
  {
   "cell_type": "code",
   "execution_count": 0,
   "metadata": {
    "cell_id": "60ed96b7-fa1c-408b-9794-60712e47c997",
    "deepnote_cell_type": "code",
    "tags": []
   },
   "outputs": [],
   "source": [
    "landslides[\"source_link\"].replace(\"https\", \"http\", regex = True).head(5)"
   ]
  },
  {
   "cell_type": "markdown",
   "metadata": {
    "cell_id": "cea2036c-a550-4cea-8835-e4731146740b",
    "deepnote_cell_type": "markdown",
    "tags": []
   },
   "source": [
    "Next up is `pd.series.str.contains(\"a\")` which determines whether or not a cell contians a pattern `a` and return `True`\n",
    "if it does. An example of this method in action would be to determine whether or not the `landslides[\"source_name\"]`\n",
    "originates from the Red Cross which is shown below:"
   ]
  },
  {
   "cell_type": "code",
   "execution_count": null,
   "metadata": {
    "cell_id": "7163d7a8-15b1-4dcb-aa59-d00406966f05",
    "deepnote_cell_type": "code",
    "tags": []
   },
   "outputs": [
    {
     "data": {
      "application/vnd.deepnote.dataframe.v2+json": {
       "column_count": 24,
       "columns": [
        {
         "dtype": "int64",
         "name": "id",
         "stats": {
          "histogram": [
           {
            "bin_end": 105.2,
            "bin_start": 105,
            "count": 1
           },
           {
            "bin_end": 105.4,
            "bin_start": 105.2,
            "count": 0
           },
           {
            "bin_end": 105.6,
            "bin_start": 105.4,
            "count": 0
           },
           {
            "bin_end": 105.8,
            "bin_start": 105.6,
            "count": 0
           },
           {
            "bin_end": 106,
            "bin_start": 105.8,
            "count": 0
           },
           {
            "bin_end": 106.2,
            "bin_start": 106,
            "count": 1
           },
           {
            "bin_end": 106.4,
            "bin_start": 106.2,
            "count": 0
           },
           {
            "bin_end": 106.6,
            "bin_start": 106.4,
            "count": 0
           },
           {
            "bin_end": 106.8,
            "bin_start": 106.6,
            "count": 0
           },
           {
            "bin_end": 107,
            "bin_start": 106.8,
            "count": 1
           }
          ],
          "max": 107,
          "min": 105,
          "nan_count": 0,
          "unique_count": 3
         }
        },
        {
         "dtype": "datetime64[ns]",
         "name": "date",
         "stats": {
          "categories": [
           {
            "count": 3,
            "name": "1182902400000000000"
           }
          ],
          "nan_count": 0,
          "unique_count": 1
         }
        },
        {
         "dtype": "object",
         "name": "time",
         "stats": {
          "categories": [
           {
            "count": 3,
            "name": "Missing"
           }
          ],
          "nan_count": 0,
          "unique_count": 1
         }
        },
        {
         "dtype": "object",
         "name": "continent_code",
         "stats": {
          "categories": [
           {
            "count": 3,
            "name": "SA"
           }
          ],
          "nan_count": 0,
          "unique_count": 1
         }
        },
        {
         "dtype": "object",
         "name": "country_name",
         "stats": {
          "categories": [
           {
            "count": 3,
            "name": "Ecuador"
           }
          ],
          "nan_count": 0,
          "unique_count": 1
         }
        },
        {
         "dtype": "object",
         "name": "country_code",
         "stats": {
          "categories": [
           {
            "count": 3,
            "name": "EC"
           }
          ],
          "nan_count": 0,
          "unique_count": 1
         }
        },
        {
         "dtype": "object",
         "name": "state/province",
         "stats": {
          "categories": [
           {
            "count": 1,
            "name": "Zamora-Chinchipe"
           },
           {
            "count": 1,
            "name": "Loja"
           },
           {
            "count": 1,
            "name": "Pichincha"
           }
          ],
          "nan_count": 0,
          "unique_count": 3
         }
        },
        {
         "dtype": "int64",
         "name": "population",
         "stats": {
          "histogram": [
           {
            "bin_end": 16382.2,
            "bin_start": 5114,
            "count": 2
           },
           {
            "bin_end": 27650.4,
            "bin_start": 16382.2,
            "count": 0
           },
           {
            "bin_end": 38918.600000000006,
            "bin_start": 27650.4,
            "count": 0
           },
           {
            "bin_end": 50186.8,
            "bin_start": 38918.600000000006,
            "count": 0
           },
           {
            "bin_end": 61455,
            "bin_start": 50186.8,
            "count": 0
           },
           {
            "bin_end": 72723.20000000001,
            "bin_start": 61455,
            "count": 0
           },
           {
            "bin_end": 83991.40000000001,
            "bin_start": 72723.20000000001,
            "count": 0
           },
           {
            "bin_end": 95259.6,
            "bin_start": 83991.40000000001,
            "count": 0
           },
           {
            "bin_end": 106527.8,
            "bin_start": 95259.6,
            "count": 0
           },
           {
            "bin_end": 117796,
            "bin_start": 106527.8,
            "count": 1
           }
          ],
          "max": 117796,
          "min": 5114,
          "nan_count": 0,
          "unique_count": 3
         }
        },
        {
         "dtype": "object",
         "name": "city/town",
         "stats": {
          "categories": [
           {
            "count": 1,
            "name": "Zamora"
           },
           {
            "count": 1,
            "name": "Loja"
           },
           {
            "count": 1,
            "name": "Sangolquí"
           }
          ],
          "nan_count": 0,
          "unique_count": 3
         }
        },
        {
         "dtype": "float64",
         "name": "distance",
         "stats": {
          "histogram": [
           {
            "bin_end": 3.7154439999999997,
            "bin_start": 0.35649000000000003,
            "count": 2
           },
           {
            "bin_end": 7.0743979999999995,
            "bin_start": 3.7154439999999997,
            "count": 0
           },
           {
            "bin_end": 10.433352,
            "bin_start": 7.0743979999999995,
            "count": 0
           },
           {
            "bin_end": 13.792306,
            "bin_start": 10.433352,
            "count": 0
           },
           {
            "bin_end": 17.15126,
            "bin_start": 13.792306,
            "count": 0
           },
           {
            "bin_end": 20.510213999999998,
            "bin_start": 17.15126,
            "count": 0
           },
           {
            "bin_end": 23.869168,
            "bin_start": 20.510213999999998,
            "count": 0
           },
           {
            "bin_end": 27.228122,
            "bin_start": 23.869168,
            "count": 0
           },
           {
            "bin_end": 30.587076,
            "bin_start": 27.228122,
            "count": 0
           },
           {
            "bin_end": 33.94603,
            "bin_start": 30.587076,
            "count": 1
           }
          ],
          "max": 33.94603,
          "min": 0.35649000000000003,
          "nan_count": 0,
          "unique_count": 3
         }
        },
        {
         "dtype": "object",
         "name": "location_description",
         "stats": {
          "categories": [
           {
            "count": 3,
            "name": "Missing"
           }
          ],
          "nan_count": 0,
          "unique_count": 1
         }
        },
        {
         "dtype": "float64",
         "name": "latitude",
         "stats": {
          "histogram": [
           {
            "bin_end": -3.6941,
            "bin_start": -4.065,
            "count": 2
           },
           {
            "bin_end": -3.3232000000000004,
            "bin_start": -3.6941,
            "count": 0
           },
           {
            "bin_end": -2.9523,
            "bin_start": -3.3232000000000004,
            "count": 0
           },
           {
            "bin_end": -2.5814000000000004,
            "bin_start": -2.9523,
            "count": 0
           },
           {
            "bin_end": -2.2105,
            "bin_start": -2.5814000000000004,
            "count": 0
           },
           {
            "bin_end": -1.8396,
            "bin_start": -2.2105,
            "count": 0
           },
           {
            "bin_end": -1.4687000000000001,
            "bin_start": -1.8396,
            "count": 0
           },
           {
            "bin_end": -1.0977999999999999,
            "bin_start": -1.4687000000000001,
            "count": 0
           },
           {
            "bin_end": -0.7268999999999997,
            "bin_start": -1.0977999999999999,
            "count": 0
           },
           {
            "bin_end": -0.35600000000000004,
            "bin_start": -0.7268999999999997,
            "count": 1
           }
          ],
          "max": -0.35600000000000004,
          "min": -4.065,
          "nan_count": 0,
          "unique_count": 3
         }
        },
        {
         "dtype": "float64",
         "name": "longitude",
         "stats": {
          "histogram": [
           {
            "bin_end": -79.0993,
            "bin_start": -79.205,
            "count": 1
           },
           {
            "bin_end": -78.9936,
            "bin_start": -79.0993,
            "count": 0
           },
           {
            "bin_end": -78.8879,
            "bin_start": -78.9936,
            "count": 1
           },
           {
            "bin_end": -78.7822,
            "bin_start": -78.8879,
            "count": 0
           },
           {
            "bin_end": -78.6765,
            "bin_start": -78.7822,
            "count": 0
           },
           {
            "bin_end": -78.57079999999999,
            "bin_start": -78.6765,
            "count": 0
           },
           {
            "bin_end": -78.46509999999999,
            "bin_start": -78.57079999999999,
            "count": 0
           },
           {
            "bin_end": -78.3594,
            "bin_start": -78.46509999999999,
            "count": 0
           },
           {
            "bin_end": -78.2537,
            "bin_start": -78.3594,
            "count": 0
           },
           {
            "bin_end": -78.148,
            "bin_start": -78.2537,
            "count": 1
           }
          ],
          "max": -78.148,
          "min": -79.205,
          "nan_count": 0,
          "unique_count": 3
         }
        },
        {
         "dtype": "object",
         "name": "geolocation",
         "stats": {
          "categories": [
           {
            "count": 1,
            "name": "(-4.0650000000000004, -78.950999999999993)"
           },
           {
            "count": 1,
            "name": "(-3.99, -79.204999999999998)"
           },
           {
            "count": 1,
            "name": "(-0.35599999999999998, -78.147999999999996)"
           }
          ],
          "nan_count": 0,
          "unique_count": 3
         }
        },
        {
         "dtype": "object",
         "name": "hazard_type",
         "stats": {
          "categories": [
           {
            "count": 3,
            "name": "Landslide"
           }
          ],
          "nan_count": 0,
          "unique_count": 1
         }
        },
        {
         "dtype": "object",
         "name": "landslide_type",
         "stats": {
          "categories": [
           {
            "count": 3,
            "name": "Landslide"
           }
          ],
          "nan_count": 0,
          "unique_count": 1
         }
        },
        {
         "dtype": "object",
         "name": "landslide_size",
         "stats": {
          "categories": [
           {
            "count": 3,
            "name": "Medium"
           }
          ],
          "nan_count": 0,
          "unique_count": 1
         }
        },
        {
         "dtype": "object",
         "name": "trigger",
         "stats": {
          "categories": [
           {
            "count": 3,
            "name": "Downpour"
           }
          ],
          "nan_count": 0,
          "unique_count": 1
         }
        },
        {
         "dtype": "object",
         "name": "storm_name",
         "stats": {
          "categories": [
           {
            "count": 3,
            "name": "Missing"
           }
          ],
          "nan_count": 0,
          "unique_count": 1
         }
        },
        {
         "dtype": "float64",
         "name": "injuries",
         "stats": {
          "histogram": [
           {
            "bin_end": -0.4,
            "bin_start": -0.5,
            "count": 0
           },
           {
            "bin_end": -0.3,
            "bin_start": -0.4,
            "count": 0
           },
           {
            "bin_end": -0.19999999999999996,
            "bin_start": -0.3,
            "count": 0
           },
           {
            "bin_end": -0.09999999999999998,
            "bin_start": -0.19999999999999996,
            "count": 0
           },
           {
            "bin_end": 0,
            "bin_start": -0.09999999999999998,
            "count": 0
           },
           {
            "bin_end": 0.10000000000000009,
            "bin_start": 0,
            "count": 3
           },
           {
            "bin_end": 0.20000000000000007,
            "bin_start": 0.10000000000000009,
            "count": 0
           },
           {
            "bin_end": 0.30000000000000004,
            "bin_start": 0.20000000000000007,
            "count": 0
           },
           {
            "bin_end": 0.4,
            "bin_start": 0.30000000000000004,
            "count": 0
           },
           {
            "bin_end": 0.5,
            "bin_start": 0.4,
            "count": 0
           }
          ],
          "max": 0,
          "min": 0,
          "nan_count": 0,
          "unique_count": 1
         }
        },
        {
         "dtype": "float64",
         "name": "fatalities",
         "stats": {
          "histogram": [
           {
            "bin_end": -0.4,
            "bin_start": -0.5,
            "count": 0
           },
           {
            "bin_end": -0.3,
            "bin_start": -0.4,
            "count": 0
           },
           {
            "bin_end": -0.19999999999999996,
            "bin_start": -0.3,
            "count": 0
           },
           {
            "bin_end": -0.09999999999999998,
            "bin_start": -0.19999999999999996,
            "count": 0
           },
           {
            "bin_end": 0,
            "bin_start": -0.09999999999999998,
            "count": 0
           },
           {
            "bin_end": 0.10000000000000009,
            "bin_start": 0,
            "count": 3
           },
           {
            "bin_end": 0.20000000000000007,
            "bin_start": 0.10000000000000009,
            "count": 0
           },
           {
            "bin_end": 0.30000000000000004,
            "bin_start": 0.20000000000000007,
            "count": 0
           },
           {
            "bin_end": 0.4,
            "bin_start": 0.30000000000000004,
            "count": 0
           },
           {
            "bin_end": 0.5,
            "bin_start": 0.4,
            "count": 0
           }
          ],
          "max": 0,
          "min": 0,
          "nan_count": 0,
          "unique_count": 1
         }
        },
        {
         "dtype": "object",
         "name": "source_name",
         "stats": {
          "categories": [
           {
            "count": 3,
            "name": "Red Cross - Field reports"
           }
          ],
          "nan_count": 0,
          "unique_count": 1
         }
        },
        {
         "dtype": "object",
         "name": "source_link",
         "stats": {
          "categories": [
           {
            "count": 3,
            "name": "https://www-secure.ifrc.org/dmis/prepare/view_report.asp?ReportID=2908"
           }
          ],
          "nan_count": 0,
          "unique_count": 1
         }
        },
        {
         "dtype": "object",
         "name": "month_name",
         "stats": {
          "categories": [
           {
            "count": 3,
            "name": "June"
           }
          ],
          "nan_count": 0,
          "unique_count": 1
         }
        }
       ],
       "row_count": 3,
       "rows_bottom": null,
       "rows_top": {
        "10": {
         "city/town": "Sangolquí",
         "continent_code": "SA",
         "country_code": "EC",
         "country_name": "Ecuador",
         "date": "2007-06-27T00:00:00.000000",
         "distance": 33.94603,
         "fatalities": 0,
         "geolocation": "(-0.35599999999999998, -78.147999999999996)",
         "hazard_type": "Landslide",
         "id": 107,
         "injuries": 0,
         "landslide_size": "Medium",
         "landslide_type": "Landslide",
         "latitude": -0.35600000000000004,
         "location_description": "Missing",
         "longitude": -78.148,
         "month_name": "June",
         "population": 5114,
         "source_link": "https://www-secure.ifrc.org/dmis/prepare/view_report.asp?ReportID=2908",
         "source_name": "Red Cross - Field reports",
         "state/province": "Pichincha",
         "storm_name": "Missing",
         "time": "Missing",
         "trigger": "Downpour"
        },
        "8": {
         "city/town": "Zamora",
         "continent_code": "SA",
         "country_code": "EC",
         "country_name": "Ecuador",
         "date": "2007-06-27T00:00:00.000000",
         "distance": 0.47713999999999995,
         "fatalities": 0,
         "geolocation": "(-4.0650000000000004, -78.950999999999993)",
         "hazard_type": "Landslide",
         "id": 105,
         "injuries": 0,
         "landslide_size": "Medium",
         "landslide_type": "Landslide",
         "latitude": -4.065,
         "location_description": "Missing",
         "longitude": -78.95100000000001,
         "month_name": "June",
         "population": 15276,
         "source_link": "https://www-secure.ifrc.org/dmis/prepare/view_report.asp?ReportID=2908",
         "source_name": "Red Cross - Field reports",
         "state/province": "Zamora-Chinchipe",
         "storm_name": "Missing",
         "time": "Missing",
         "trigger": "Downpour"
        },
        "9": {
         "city/town": "Loja",
         "continent_code": "SA",
         "country_code": "EC",
         "country_name": "Ecuador",
         "date": "2007-06-27T00:00:00.000000",
         "distance": 0.35649000000000003,
         "fatalities": 0,
         "geolocation": "(-3.99, -79.204999999999998)",
         "hazard_type": "Landslide",
         "id": 106,
         "injuries": 0,
         "landslide_size": "Medium",
         "landslide_type": "Landslide",
         "latitude": -3.99,
         "location_description": "Missing",
         "longitude": -79.205,
         "month_name": "June",
         "population": 117796,
         "source_link": "https://www-secure.ifrc.org/dmis/prepare/view_report.asp?ReportID=2908",
         "source_name": "Red Cross - Field reports",
         "state/province": "Loja",
         "storm_name": "Missing",
         "time": "Missing",
         "trigger": "Downpour"
        }
       }
      },
      "text/html": [
       "<div>\n",
       "<style scoped>\n",
       "    .dataframe tbody tr th:only-of-type {\n",
       "        vertical-align: middle;\n",
       "    }\n",
       "\n",
       "    .dataframe tbody tr th {\n",
       "        vertical-align: top;\n",
       "    }\n",
       "\n",
       "    .dataframe thead th {\n",
       "        text-align: right;\n",
       "    }\n",
       "</style>\n",
       "<table border=\"1\" class=\"dataframe\">\n",
       "  <thead>\n",
       "    <tr style=\"text-align: right;\">\n",
       "      <th></th>\n",
       "      <th>id</th>\n",
       "      <th>date</th>\n",
       "      <th>time</th>\n",
       "      <th>continent_code</th>\n",
       "      <th>country_name</th>\n",
       "      <th>country_code</th>\n",
       "      <th>state/province</th>\n",
       "      <th>population</th>\n",
       "      <th>city/town</th>\n",
       "      <th>distance</th>\n",
       "      <th>...</th>\n",
       "      <th>hazard_type</th>\n",
       "      <th>landslide_type</th>\n",
       "      <th>landslide_size</th>\n",
       "      <th>trigger</th>\n",
       "      <th>storm_name</th>\n",
       "      <th>injuries</th>\n",
       "      <th>fatalities</th>\n",
       "      <th>source_name</th>\n",
       "      <th>source_link</th>\n",
       "      <th>month_name</th>\n",
       "    </tr>\n",
       "  </thead>\n",
       "  <tbody>\n",
       "    <tr>\n",
       "      <th>8</th>\n",
       "      <td>105</td>\n",
       "      <td>2007-06-27</td>\n",
       "      <td>Missing</td>\n",
       "      <td>SA</td>\n",
       "      <td>Ecuador</td>\n",
       "      <td>EC</td>\n",
       "      <td>Zamora-Chinchipe</td>\n",
       "      <td>15276</td>\n",
       "      <td>Zamora</td>\n",
       "      <td>0.47714</td>\n",
       "      <td>...</td>\n",
       "      <td>Landslide</td>\n",
       "      <td>Landslide</td>\n",
       "      <td>Medium</td>\n",
       "      <td>Downpour</td>\n",
       "      <td>Missing</td>\n",
       "      <td>0.0</td>\n",
       "      <td>0.0</td>\n",
       "      <td>Red Cross - Field reports</td>\n",
       "      <td>https://www-secure.ifrc.org/dmis/prepare/view_...</td>\n",
       "      <td>June</td>\n",
       "    </tr>\n",
       "    <tr>\n",
       "      <th>9</th>\n",
       "      <td>106</td>\n",
       "      <td>2007-06-27</td>\n",
       "      <td>Missing</td>\n",
       "      <td>SA</td>\n",
       "      <td>Ecuador</td>\n",
       "      <td>EC</td>\n",
       "      <td>Loja</td>\n",
       "      <td>117796</td>\n",
       "      <td>Loja</td>\n",
       "      <td>0.35649</td>\n",
       "      <td>...</td>\n",
       "      <td>Landslide</td>\n",
       "      <td>Landslide</td>\n",
       "      <td>Medium</td>\n",
       "      <td>Downpour</td>\n",
       "      <td>Missing</td>\n",
       "      <td>0.0</td>\n",
       "      <td>0.0</td>\n",
       "      <td>Red Cross - Field reports</td>\n",
       "      <td>https://www-secure.ifrc.org/dmis/prepare/view_...</td>\n",
       "      <td>June</td>\n",
       "    </tr>\n",
       "    <tr>\n",
       "      <th>10</th>\n",
       "      <td>107</td>\n",
       "      <td>2007-06-27</td>\n",
       "      <td>Missing</td>\n",
       "      <td>SA</td>\n",
       "      <td>Ecuador</td>\n",
       "      <td>EC</td>\n",
       "      <td>Pichincha</td>\n",
       "      <td>5114</td>\n",
       "      <td>Sangolquí</td>\n",
       "      <td>33.94603</td>\n",
       "      <td>...</td>\n",
       "      <td>Landslide</td>\n",
       "      <td>Landslide</td>\n",
       "      <td>Medium</td>\n",
       "      <td>Downpour</td>\n",
       "      <td>Missing</td>\n",
       "      <td>0.0</td>\n",
       "      <td>0.0</td>\n",
       "      <td>Red Cross - Field reports</td>\n",
       "      <td>https://www-secure.ifrc.org/dmis/prepare/view_...</td>\n",
       "      <td>June</td>\n",
       "    </tr>\n",
       "  </tbody>\n",
       "</table>\n",
       "<p>3 rows × 24 columns</p>\n",
       "</div>"
      ],
      "text/plain": [
       "     id       date     time continent_code country_name country_code  \\\n",
       "8   105 2007-06-27  Missing             SA      Ecuador           EC   \n",
       "9   106 2007-06-27  Missing             SA      Ecuador           EC   \n",
       "10  107 2007-06-27  Missing             SA      Ecuador           EC   \n",
       "\n",
       "      state/province  population  city/town  distance  ... hazard_type  \\\n",
       "8   Zamora-Chinchipe       15276     Zamora   0.47714  ...   Landslide   \n",
       "9               Loja      117796       Loja   0.35649  ...   Landslide   \n",
       "10         Pichincha        5114  Sangolquí  33.94603  ...   Landslide   \n",
       "\n",
       "    landslide_type  landslide_size   trigger storm_name injuries fatalities  \\\n",
       "8        Landslide          Medium  Downpour    Missing      0.0        0.0   \n",
       "9        Landslide          Medium  Downpour    Missing      0.0        0.0   \n",
       "10       Landslide          Medium  Downpour    Missing      0.0        0.0   \n",
       "\n",
       "                  source_name  \\\n",
       "8   Red Cross - Field reports   \n",
       "9   Red Cross - Field reports   \n",
       "10  Red Cross - Field reports   \n",
       "\n",
       "                                          source_link  month_name  \n",
       "8   https://www-secure.ifrc.org/dmis/prepare/view_...        June  \n",
       "9   https://www-secure.ifrc.org/dmis/prepare/view_...        June  \n",
       "10  https://www-secure.ifrc.org/dmis/prepare/view_...        June  \n",
       "\n",
       "[3 rows x 24 columns]"
      ]
     },
     "execution_count": 95,
     "metadata": {},
     "output_type": "execute_result"
    }
   ],
   "source": [
    "landslides[landslides[\"source_name\"].str.contains(\"Red Cross\")]"
   ]
  },
  {
   "cell_type": "markdown",
   "metadata": {
    "cell_id": "1c7e4712-a8c0-4a50-b99d-48c24512648b",
    "deepnote_cell_type": "markdown",
    "tags": []
   },
   "source": [
    "From the table displayed above, we can see that this method is good for looking up relevant columns that contain a\n",
    "certain string only."
   ]
  },
  {
   "cell_type": "markdown",
   "metadata": {
    "cell_id": "c3993fac-ab9c-43b6-a55c-36bc5295b414",
    "deepnote_cell_type": "markdown",
    "tags": []
   },
   "source": [
    "The third pandas string method is `pd.series.str.get` which simply returns the `i`th element of the string. For\n",
    "example let's say that for some obscure reason we want the 3rd letter of every country, we can easily do that\n",
    "by calling the following:"
   ]
  },
  {
   "cell_type": "code",
   "execution_count": null,
   "metadata": {
    "cell_id": "48993f92-44e2-494a-a8c8-7ce1d2699774",
    "deepnote_cell_type": "code",
    "tags": []
   },
   "outputs": [
    {
     "data": {
      "text/plain": [
       "0       t\n",
       "1       t\n",
       "2       t\n",
       "3       a\n",
       "4       t\n",
       "       ..\n",
       "1688    t\n",
       "1689    t\n",
       "1690    t\n",
       "1691    t\n",
       "1692    t\n",
       "Name: country_name, Length: 1691, dtype: object"
      ]
     },
     "execution_count": 96,
     "metadata": {},
     "output_type": "execute_result"
    }
   ],
   "source": [
    "landslides[\"country_name\"].str.get(3)"
   ]
  },
  {
   "cell_type": "markdown",
   "metadata": {
    "cell_id": "bf74ecda-3732-453c-bebd-6b4ad2475477",
    "deepnote_cell_type": "markdown",
    "tags": []
   },
   "source": [
    "We can achieve the same results using list indexing on strings, but this method is normally faster. "
   ]
  },
  {
   "cell_type": "markdown",
   "metadata": {
    "cell_id": "f98d9788-8241-4fe7-aa5d-c7b0cb43c41f",
    "deepnote_cell_type": "markdown",
    "tags": []
   },
   "source": [
    "Last but not least is `pd.series.str.slice` which is similar to `.get` except we can take _ranges_ of a string.\n",
    "Similar to how we can get the third letter of a country name, we can also take the _first three_ letters of a country\n",
    "name and treat it as our country abbrieviation by running the following code:"
   ]
  },
  {
   "cell_type": "code",
   "execution_count": null,
   "metadata": {
    "cell_id": "151a5ccf-88b1-414b-bab9-38ff97595f42",
    "deepnote_cell_type": "code",
    "tags": []
   },
   "outputs": [
    {
     "data": {
      "text/plain": [
       "0       Uni\n",
       "1       Uni\n",
       "2       Uni\n",
       "3       Can\n",
       "4       Uni\n",
       "       ... \n",
       "1688    Uni\n",
       "1689    Uni\n",
       "1690    Uni\n",
       "1691    Uni\n",
       "1692    Uni\n",
       "Name: country_name, Length: 1691, dtype: object"
      ]
     },
     "execution_count": 97,
     "metadata": {},
     "output_type": "execute_result"
    }
   ],
   "source": [
    "landslides[\"country_name\"].str.slice(0, 3)"
   ]
  },
  {
   "cell_type": "markdown",
   "metadata": {
    "cell_id": "2c4cfe70-9a08-4b07-a285-b41f2f4c4a7e",
    "deepnote_cell_type": "markdown",
    "tags": []
   },
   "source": [
    "Data science is not all about using statistical methods to discover patterns in the data, in fact, \n",
    "most data analysis projects allocate most of the time to pre-processing the data and cleaning the data. \n",
    "\n",
    "Before beginning your analysis, always make sure that the data is clean and in the format you want to eliminate the possibility of bugs and \n",
    "erroneous conclusions.\n",
    "\n",
    "In the next module, we'll be going over a very useful tool for you to get to know your data better and discover some of the patterns in your data -- Data visualization. See you there"
   ]
  }
 ],
 "metadata": {
  "deepnote_execution_queue": [],
  "deepnote_notebook_id": "3923c570-97d0-4728-87ad-c422c9c8df7b",
  "kernelspec": {
   "display_name": "Python 3",
   "language": "python",
   "name": "python3"
  },
  "language_info": {
   "codemirror_mode": {
    "name": "ipython",
    "version": 3
   },
   "file_extension": ".py",
   "mimetype": "text/x-python",
   "name": "python",
   "nbconvert_exporter": "python",
   "pygments_lexer": "ipython3",
   "version": "3.6.5"
  }
 },
 "nbformat": 4,
 "nbformat_minor": 2
}
