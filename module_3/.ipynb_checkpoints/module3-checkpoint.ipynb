{
 "cells": [
  {
   "cell_type": "markdown",
   "metadata": {
    "cell_id": "f529f766-6fd9-4d4b-95ce-059a2c0475a5",
    "deepnote_cell_type": "markdown",
    "output_cleared": false,
    "tags": []
   },
   "source": [
    "# Module 3: From `datascience` to `pandas`: II"
   ]
  },
  {
   "cell_type": "code",
   "execution_count": null,
   "metadata": {
    "cell_id": "7dd4901c-94ef-4b2a-a8a2-12495ffa8f23",
    "deepnote_cell_type": "code",
    "output_cleared": false,
    "tags": []
   },
   "outputs": [
    {
     "name": "stdout",
     "output_type": "stream",
     "text": [
      "Collecting datascience\n",
      "  Downloading datascience-0.16.1.tar.gz (43 kB)\n",
      "\u001b[K     |████████████████████████████████| 43 kB 999 kB/s eta 0:00:011\n",
      "\u001b[?25hCollecting folium>=0.9.1\n",
      "  Downloading folium-0.11.0-py2.py3-none-any.whl (93 kB)\n",
      "\u001b[K     |████████████████████████████████| 93 kB 1.6 MB/s eta 0:00:011\n",
      "\u001b[?25hCollecting sphinx\n",
      "  Downloading Sphinx-3.2.1-py3-none-any.whl (2.9 MB)\n",
      "\u001b[K     |████████████████████████████████| 2.9 MB 21.3 MB/s eta 0:00:01\n",
      "\u001b[?25hRequirement already satisfied: setuptools in /opt/venv/lib/python3.7/site-packages (from datascience) (49.6.0)\n",
      "Requirement already satisfied: matplotlib>=3.0.0 in /opt/venv/lib/python3.7/site-packages (from datascience) (3.3.1)\n",
      "Requirement already satisfied: pandas in /opt/venv/lib/python3.7/site-packages (from datascience) (1.0.5)\n",
      "Requirement already satisfied: scipy in /opt/venv/lib/python3.7/site-packages (from datascience) (1.5.2)\n",
      "Requirement already satisfied: numpy in /opt/venv/lib/python3.7/site-packages (from datascience) (1.19.2)\n",
      "Requirement already satisfied: ipython in /opt/venv/lib/python3.7/site-packages (from datascience) (7.18.1)\n",
      "Collecting pytest\n",
      "  Downloading pytest-6.0.2-py3-none-any.whl (270 kB)\n",
      "\u001b[K     |████████████████████████████████| 270 kB 38.9 MB/s eta 0:00:01\n",
      "\u001b[?25hCollecting coverage\n",
      "  Downloading coverage-5.3-cp37-cp37m-manylinux1_x86_64.whl (229 kB)\n",
      "\u001b[K     |████████████████████████████████| 229 kB 43.6 MB/s eta 0:00:01\n",
      "\u001b[?25hCollecting coveralls\n",
      "  Downloading coveralls-2.1.2-py2.py3-none-any.whl (13 kB)\n",
      "Collecting bokeh\n",
      "  Downloading bokeh-2.2.1.tar.gz (8.8 MB)\n",
      "\u001b[K     |████████████████████████████████| 8.8 MB 32.0 MB/s eta 0:00:01�██████████▍                    | 3.1 MB 32.0 MB/s eta 0:00:01\n",
      "\u001b[?25hRequirement already satisfied: jinja2>=2.9 in /opt/venv/lib/python3.7/site-packages (from folium>=0.9.1->datascience) (2.11.2)\n",
      "Collecting branca>=0.3.0\n",
      "  Downloading branca-0.4.1-py3-none-any.whl (24 kB)\n",
      "Requirement already satisfied: requests in /opt/venv/lib/python3.7/site-packages (from folium>=0.9.1->datascience) (2.24.0)\n",
      "Collecting babel>=1.3\n",
      "  Downloading Babel-2.8.0-py2.py3-none-any.whl (8.6 MB)\n",
      "\u001b[K     |████████████████████████████████| 8.6 MB 34.7 MB/s eta 0:00:01\n",
      "\u001b[?25hCollecting sphinxcontrib-htmlhelp\n",
      "  Downloading sphinxcontrib_htmlhelp-1.0.3-py2.py3-none-any.whl (96 kB)\n",
      "\u001b[K     |████████████████████████████████| 96 kB 4.1 MB/s  eta 0:00:01\n",
      "\u001b[?25hCollecting docutils>=0.12\n",
      "  Downloading docutils-0.16-py2.py3-none-any.whl (548 kB)\n",
      "\u001b[K     |████████████████████████████████| 548 kB 46.2 MB/s eta 0:00:01\n",
      "\u001b[?25hCollecting sphinxcontrib-applehelp\n",
      "  Downloading sphinxcontrib_applehelp-1.0.2-py2.py3-none-any.whl (121 kB)\n",
      "\u001b[K     |████████████████████████████████| 121 kB 46.2 MB/s eta 0:00:01\n",
      "\u001b[?25hCollecting snowballstemmer>=1.1\n",
      "  Downloading snowballstemmer-2.0.0-py2.py3-none-any.whl (97 kB)\n",
      "\u001b[K     |████████████████████████████████| 97 kB 6.8 MB/s  eta 0:00:01\n",
      "\u001b[?25hCollecting sphinxcontrib-jsmath\n",
      "  Downloading sphinxcontrib_jsmath-1.0.1-py2.py3-none-any.whl (5.1 kB)\n",
      "Collecting sphinxcontrib-devhelp\n",
      "  Downloading sphinxcontrib_devhelp-1.0.2-py2.py3-none-any.whl (84 kB)\n",
      "\u001b[K     |████████████████████████████████| 84 kB 3.3 MB/s  eta 0:00:01\n",
      "\u001b[?25hRequirement already satisfied: Pygments>=2.0 in /opt/venv/lib/python3.7/site-packages (from sphinx->datascience) (2.7.0)\n",
      "Collecting sphinxcontrib-serializinghtml\n",
      "  Downloading sphinxcontrib_serializinghtml-1.1.4-py2.py3-none-any.whl (89 kB)\n",
      "\u001b[K     |████████████████████████████████| 89 kB 8.4 MB/s  eta 0:00:01\n",
      "\u001b[?25hCollecting sphinxcontrib-qthelp\n",
      "  Downloading sphinxcontrib_qthelp-1.0.3-py2.py3-none-any.whl (90 kB)\n",
      "\u001b[K     |████████████████████████████████| 90 kB 6.3 MB/s  eta 0:00:01\n",
      "\u001b[?25hCollecting imagesize\n",
      "  Downloading imagesize-1.2.0-py2.py3-none-any.whl (4.8 kB)\n",
      "Collecting alabaster<0.8,>=0.7\n",
      "  Downloading alabaster-0.7.12-py2.py3-none-any.whl (14 kB)\n",
      "Requirement already satisfied: packaging in /opt/venv/lib/python3.7/site-packages (from sphinx->datascience) (20.4)\n",
      "Requirement already satisfied: pyparsing!=2.0.4,!=2.1.2,!=2.1.6,>=2.0.3 in /opt/venv/lib/python3.7/site-packages (from matplotlib>=3.0.0->datascience) (2.4.7)\n",
      "Requirement already satisfied: cycler>=0.10 in /opt/venv/lib/python3.7/site-packages (from matplotlib>=3.0.0->datascience) (0.10.0)\n",
      "Requirement already satisfied: certifi>=2020.06.20 in /opt/venv/lib/python3.7/site-packages (from matplotlib>=3.0.0->datascience) (2020.6.20)\n",
      "Requirement already satisfied: python-dateutil>=2.1 in /opt/venv/lib/python3.7/site-packages (from matplotlib>=3.0.0->datascience) (2.8.1)\n",
      "Requirement already satisfied: pillow>=6.2.0 in /opt/venv/lib/python3.7/site-packages (from matplotlib>=3.0.0->datascience) (7.2.0)\n",
      "Requirement already satisfied: kiwisolver>=1.0.1 in /opt/venv/lib/python3.7/site-packages (from matplotlib>=3.0.0->datascience) (1.2.0)\n",
      "Requirement already satisfied: pytz>=2017.2 in /opt/venv/lib/python3.7/site-packages (from pandas->datascience) (2020.1)\n",
      "Requirement already satisfied: prompt-toolkit!=3.0.0,!=3.0.1,<3.1.0,>=2.0.0 in /opt/venv/lib/python3.7/site-packages (from ipython->datascience) (3.0.7)\n",
      "Requirement already satisfied: jedi>=0.10 in /opt/venv/lib/python3.7/site-packages (from ipython->datascience) (0.17.2)\n",
      "Requirement already satisfied: traitlets>=4.2 in /opt/venv/lib/python3.7/site-packages (from ipython->datascience) (5.0.4)\n",
      "Requirement already satisfied: decorator in /opt/venv/lib/python3.7/site-packages (from ipython->datascience) (4.4.2)\n",
      "Requirement already satisfied: pickleshare in /opt/venv/lib/python3.7/site-packages (from ipython->datascience) (0.7.5)\n",
      "Requirement already satisfied: backcall in /opt/venv/lib/python3.7/site-packages (from ipython->datascience) (0.2.0)\n",
      "Requirement already satisfied: pexpect>4.3; sys_platform != \"win32\" in /opt/venv/lib/python3.7/site-packages (from ipython->datascience) (4.8.0)\n",
      "Collecting iniconfig\n",
      "  Downloading iniconfig-1.0.1-py3-none-any.whl (4.2 kB)\n",
      "Collecting toml\n",
      "  Downloading toml-0.10.1-py2.py3-none-any.whl (19 kB)\n",
      "Requirement already satisfied: importlib-metadata>=0.12; python_version < \"3.8\" in /opt/venv/lib/python3.7/site-packages (from pytest->datascience) (1.7.0)\n",
      "Requirement already satisfied: attrs>=17.4.0 in /opt/venv/lib/python3.7/site-packages (from pytest->datascience) (20.2.0)\n",
      "Collecting pluggy<1.0,>=0.12\n",
      "  Downloading pluggy-0.13.1-py2.py3-none-any.whl (18 kB)\n",
      "Collecting more-itertools>=4.0.0\n",
      "  Downloading more_itertools-8.5.0-py3-none-any.whl (44 kB)\n",
      "\u001b[K     |████████████████████████████████| 44 kB 3.5 MB/s  eta 0:00:01\n",
      "\u001b[?25hCollecting py>=1.8.2\n",
      "  Downloading py-1.9.0-py2.py3-none-any.whl (99 kB)\n",
      "\u001b[K     |████████████████████████████████| 99 kB 7.9 MB/s  eta 0:00:01\n",
      "\u001b[?25hCollecting docopt>=0.6.1\n",
      "  Downloading docopt-0.6.2.tar.gz (25 kB)\n",
      "Collecting PyYAML>=3.10\n",
      "  Downloading PyYAML-5.3.1.tar.gz (269 kB)\n",
      "\u001b[K     |████████████████████████████████| 269 kB 33.9 MB/s eta 0:00:01\n",
      "\u001b[?25hRequirement already satisfied: tornado>=5.1 in /opt/venv/lib/python3.7/site-packages (from bokeh->datascience) (6.0.4)\n",
      "Collecting typing_extensions>=3.7.4\n",
      "  Downloading typing_extensions-3.7.4.3-py3-none-any.whl (22 kB)\n",
      "Requirement already satisfied: MarkupSafe>=0.23 in /opt/venv/lib/python3.7/site-packages (from jinja2>=2.9->folium>=0.9.1->datascience) (1.1.1)\n",
      "Requirement already satisfied: chardet<4,>=3.0.2 in /opt/venv/lib/python3.7/site-packages (from requests->folium>=0.9.1->datascience) (3.0.4)\n",
      "Requirement already satisfied: idna<3,>=2.5 in /opt/venv/lib/python3.7/site-packages (from requests->folium>=0.9.1->datascience) (2.10)\n",
      "Requirement already satisfied: urllib3!=1.25.0,!=1.25.1,<1.26,>=1.21.1 in /opt/venv/lib/python3.7/site-packages (from requests->folium>=0.9.1->datascience) (1.25.10)\n",
      "Requirement already satisfied: six in /opt/venv/lib/python3.7/site-packages (from packaging->sphinx->datascience) (1.15.0)\n",
      "Requirement already satisfied: wcwidth in /opt/venv/lib/python3.7/site-packages (from prompt-toolkit!=3.0.0,!=3.0.1,<3.1.0,>=2.0.0->ipython->datascience) (0.2.5)\n",
      "Requirement already satisfied: parso<0.8.0,>=0.7.0 in /opt/venv/lib/python3.7/site-packages (from jedi>=0.10->ipython->datascience) (0.7.1)\n",
      "Requirement already satisfied: ipython-genutils in /opt/venv/lib/python3.7/site-packages (from traitlets>=4.2->ipython->datascience) (0.2.0)\n",
      "Requirement already satisfied: ptyprocess>=0.5 in /opt/venv/lib/python3.7/site-packages (from pexpect>4.3; sys_platform != \"win32\"->ipython->datascience) (0.6.0)\n",
      "Requirement already satisfied: zipp>=0.5 in /opt/venv/lib/python3.7/site-packages (from importlib-metadata>=0.12; python_version < \"3.8\"->pytest->datascience) (3.1.0)\n",
      "Building wheels for collected packages: datascience, bokeh, docopt, PyYAML\n",
      "  Building wheel for datascience (setup.py) ... \u001b[?25ldone\n",
      "\u001b[?25h  Created wheel for datascience: filename=datascience-0.16.1-py3-none-any.whl size=44483 sha256=61c97b4a135e6daf07818c753c730f92057639f36ce1dfa191ec95e65637c7b1\n",
      "  Stored in directory: /home/jovyan/.cache/pip/wheels/a6/71/8f/a6a615b303f319a08f2fa4224365a29f1f0a8f6de4682d4bc2\n",
      "  Building wheel for bokeh (setup.py) ... \u001b[?25ldone\n",
      "\u001b[?25h  Created wheel for bokeh: filename=bokeh-2.2.1-py3-none-any.whl size=9294618 sha256=b30c81399e1286d7b1fcc3d69f5b8ed9913842704a2df11fe639359f4631487f\n",
      "  Stored in directory: /home/jovyan/.cache/pip/wheels/3b/ef/ce/1a2578df20c16fb3384699bc3cbcf9c91c04056ec0f318767c\n",
      "  Building wheel for docopt (setup.py) ... \u001b[?25ldone\n",
      "\u001b[?25h  Created wheel for docopt: filename=docopt-0.6.2-py2.py3-none-any.whl size=13704 sha256=04421a2a76193679d2217d366613961e8e7ece7e167106a5a20fdc152efbecd2\n",
      "  Stored in directory: /home/jovyan/.cache/pip/wheels/72/b0/3f/1d95f96ff986c7dfffe46ce2be4062f38ebd04b506c77c81b9\n",
      "  Building wheel for PyYAML (setup.py) ... \u001b[?25ldone\n",
      "\u001b[?25h  Created wheel for PyYAML: filename=PyYAML-5.3.1-cp37-cp37m-linux_x86_64.whl size=44619 sha256=61034c72946f88df91c49d7a54aa792c48c956bc771624b64fc6ca434bc53c29\n",
      "  Stored in directory: /home/jovyan/.cache/pip/wheels/5e/03/1e/e1e954795d6f35dfc7b637fe2277bff021303bd9570ecea653\n",
      "Successfully built datascience bokeh docopt PyYAML\n",
      "Installing collected packages: branca, folium, babel, sphinxcontrib-htmlhelp, docutils, sphinxcontrib-applehelp, snowballstemmer, sphinxcontrib-jsmath, sphinxcontrib-devhelp, sphinxcontrib-serializinghtml, sphinxcontrib-qthelp, imagesize, alabaster, sphinx, iniconfig, toml, pluggy, more-itertools, py, pytest, coverage, docopt, coveralls, PyYAML, typing-extensions, bokeh, datascience\n",
      "  Attempting uninstall: pluggy\n",
      "    Found existing installation: pluggy 1.0.0.dev0\n",
      "    Uninstalling pluggy-1.0.0.dev0:\n",
      "      Successfully uninstalled pluggy-1.0.0.dev0\n",
      "Successfully installed PyYAML-5.3.1 alabaster-0.7.12 babel-2.8.0 bokeh-2.2.1 branca-0.4.1 coverage-5.3 coveralls-2.1.2 datascience-0.16.1 docopt-0.6.2 docutils-0.16 folium-0.11.0 imagesize-1.2.0 iniconfig-1.0.1 more-itertools-8.5.0 pluggy-0.13.1 py-1.9.0 pytest-6.0.2 snowballstemmer-2.0.0 sphinx-3.2.1 sphinxcontrib-applehelp-1.0.2 sphinxcontrib-devhelp-1.0.2 sphinxcontrib-htmlhelp-1.0.3 sphinxcontrib-jsmath-1.0.1 sphinxcontrib-qthelp-1.0.3 sphinxcontrib-serializinghtml-1.1.4 toml-0.10.1 typing-extensions-3.7.4.3\n",
      "\u001b[33mWARNING: You are using pip version 20.2.2; however, version 20.2.3 is available.\n",
      "You should consider upgrading via the '/opt/venv/bin/python -m pip install --upgrade pip' command.\u001b[0m\n"
     ]
    }
   ],
   "source": [
    "!pip install datascience\n",
    "import pandas as pd \n",
    "from datascience import *\n",
    "import numpy as np\n"
   ]
  },
  {
   "cell_type": "markdown",
   "metadata": {
    "cell_id": "95699497-cd8d-4e9b-a13d-dfad4d0bc1d5",
    "deepnote_cell_type": "markdown",
    "output_cleared": false,
    "tags": []
   },
   "source": [
    "In this notebook, we will be working with the `cones` table, a very small table about ice cream flavors used simply for pedagogical purposes. \n",
    "The table is loaded using both `datascience` and `pandas` below."
   ]
  },
  {
   "cell_type": "code",
   "execution_count": null,
   "metadata": {
    "cell_id": "5eae77c4-7d5c-4324-91e6-d55d38456228",
    "deepnote_cell_type": "code",
    "output_cleared": false,
    "tags": []
   },
   "outputs": [],
   "source": [
    "cones_tbl = Table().read_table('cones.csv')\n",
    "cones_df = pd.read_csv('cones.csv')"
   ]
  },
  {
   "cell_type": "markdown",
   "metadata": {
    "cell_id": "34afc248-4148-4119-b067-10ad3ac8e419",
    "deepnote_cell_type": "markdown",
    "output_cleared": false,
    "tags": []
   },
   "source": [
    "## Inserting New Columns"
   ]
  },
  {
   "cell_type": "markdown",
   "metadata": {
    "cell_id": "5c0e17b4-6290-42b4-abc3-75b399cf1e0e",
    "deepnote_cell_type": "markdown",
    "output_cleared": false,
    "tags": []
   },
   "source": [
    "First, let's take a look at the `cones` dataframe in `pandas` to see what we are working with. "
   ]
  },
  {
   "cell_type": "code",
   "execution_count": null,
   "metadata": {
    "cell_id": "f5bae271-4e72-4b6a-8423-530cfaa76fef",
    "deepnote_cell_type": "code",
    "output_cleared": false,
    "tags": []
   },
   "outputs": [
    {
     "data": {
      "application/vnd.deepnote.dataframe.v2+json": {
       "column_count": 3,
       "columns": [
        {
         "dtype": "object",
         "name": "Flavor",
         "stats": {
          "categories": [
           {
            "count": 3,
            "name": "chocolate"
           },
           {
            "count": 2,
            "name": "strawberry"
           },
           {
            "count": 1,
            "name": "bubblegum"
           }
          ],
          "nan_count": 0,
          "unique_count": 3
         }
        },
        {
         "dtype": "object",
         "name": "Color",
         "stats": {
          "categories": [
           {
            "count": 3,
            "name": "pink"
           },
           {
            "count": 2,
            "name": "dark brown"
           },
           {
            "count": 1,
            "name": "light brown"
           }
          ],
          "nan_count": 0,
          "unique_count": 3
         }
        },
        {
         "dtype": "float64",
         "name": "Price",
         "stats": {
          "histogram": [
           {
            "bin_end": 3.7199999999999998,
            "bin_start": 3.55,
            "count": 1
           },
           {
            "bin_end": 3.8899999999999997,
            "bin_start": 3.7199999999999998,
            "count": 0
           },
           {
            "bin_end": 4.06,
            "bin_start": 3.8899999999999997,
            "count": 0
           },
           {
            "bin_end": 4.2299999999999995,
            "bin_start": 4.06,
            "count": 0
           },
           {
            "bin_end": 4.4,
            "bin_start": 4.2299999999999995,
            "count": 0
           },
           {
            "bin_end": 4.57,
            "bin_start": 4.4,
            "count": 0
           },
           {
            "bin_end": 4.74,
            "bin_start": 4.57,
            "count": 0
           },
           {
            "bin_end": 4.91,
            "bin_start": 4.74,
            "count": 2
           },
           {
            "bin_end": 5.08,
            "bin_start": 4.91,
            "count": 0
           },
           {
            "bin_end": 5.25,
            "bin_start": 5.08,
            "count": 3
           }
          ],
          "max": 5.25,
          "min": 3.55,
          "nan_count": 0,
          "unique_count": 3
         }
        },
        {
         "dtype": "int64",
         "name": "_deepnote_index_column"
        }
       ],
       "row_count": 6,
       "rows_bottom": null,
       "rows_top": [
        {
         "Color": "pink",
         "Flavor": "strawberry",
         "Price": 3.55,
         "_deepnote_index_column": 0
        },
        {
         "Color": "light brown",
         "Flavor": "chocolate",
         "Price": 4.75,
         "_deepnote_index_column": 1
        },
        {
         "Color": "dark brown",
         "Flavor": "chocolate",
         "Price": 5.25,
         "_deepnote_index_column": 2
        },
        {
         "Color": "pink",
         "Flavor": "strawberry",
         "Price": 5.25,
         "_deepnote_index_column": 3
        },
        {
         "Color": "dark brown",
         "Flavor": "chocolate",
         "Price": 5.25,
         "_deepnote_index_column": 4
        },
        {
         "Color": "pink",
         "Flavor": "bubblegum",
         "Price": 4.75,
         "_deepnote_index_column": 5
        }
       ]
      },
      "text/html": [
       "<div>\n",
       "<style scoped>\n",
       "    .dataframe tbody tr th:only-of-type {\n",
       "        vertical-align: middle;\n",
       "    }\n",
       "\n",
       "    .dataframe tbody tr th {\n",
       "        vertical-align: top;\n",
       "    }\n",
       "\n",
       "    .dataframe thead th {\n",
       "        text-align: right;\n",
       "    }\n",
       "</style>\n",
       "<table border=\"1\" class=\"dataframe\">\n",
       "  <thead>\n",
       "    <tr style=\"text-align: right;\">\n",
       "      <th></th>\n",
       "      <th>Flavor</th>\n",
       "      <th>Color</th>\n",
       "      <th>Price</th>\n",
       "    </tr>\n",
       "  </thead>\n",
       "  <tbody>\n",
       "    <tr>\n",
       "      <th>0</th>\n",
       "      <td>strawberry</td>\n",
       "      <td>pink</td>\n",
       "      <td>3.55</td>\n",
       "    </tr>\n",
       "    <tr>\n",
       "      <th>1</th>\n",
       "      <td>chocolate</td>\n",
       "      <td>light brown</td>\n",
       "      <td>4.75</td>\n",
       "    </tr>\n",
       "    <tr>\n",
       "      <th>2</th>\n",
       "      <td>chocolate</td>\n",
       "      <td>dark brown</td>\n",
       "      <td>5.25</td>\n",
       "    </tr>\n",
       "    <tr>\n",
       "      <th>3</th>\n",
       "      <td>strawberry</td>\n",
       "      <td>pink</td>\n",
       "      <td>5.25</td>\n",
       "    </tr>\n",
       "    <tr>\n",
       "      <th>4</th>\n",
       "      <td>chocolate</td>\n",
       "      <td>dark brown</td>\n",
       "      <td>5.25</td>\n",
       "    </tr>\n",
       "    <tr>\n",
       "      <th>5</th>\n",
       "      <td>bubblegum</td>\n",
       "      <td>pink</td>\n",
       "      <td>4.75</td>\n",
       "    </tr>\n",
       "  </tbody>\n",
       "</table>\n",
       "</div>"
      ],
      "text/plain": [
       "       Flavor        Color  Price\n",
       "0  strawberry         pink   3.55\n",
       "1   chocolate  light brown   4.75\n",
       "2   chocolate   dark brown   5.25\n",
       "3  strawberry         pink   5.25\n",
       "4   chocolate   dark brown   5.25\n",
       "5   bubblegum         pink   4.75"
      ]
     },
     "execution_count": 4,
     "metadata": {},
     "output_type": "execute_result"
    }
   ],
   "source": [
    "cones_df"
   ]
  },
  {
   "cell_type": "markdown",
   "metadata": {
    "cell_id": "6816a6c5-e081-4a57-8bc2-90f1b6d608b0",
    "deepnote_cell_type": "markdown",
    "output_cleared": false,
    "tags": []
   },
   "source": [
    "We have new information about the types of cones for each ice cream! \n",
    "Suppose your friend tells you information on what types of cones each ice cream comes with. \n",
    "We want to add this as a column to our data. "
   ]
  },
  {
   "cell_type": "code",
   "execution_count": null,
   "metadata": {
    "cell_id": "26d08641-dc83-4edb-9bd8-10131aff0448",
    "deepnote_cell_type": "code",
    "output_cleared": false,
    "tags": []
   },
   "outputs": [],
   "source": [
    "type_of_cone = [\"Waffle\", \"Sugar\", \"Sugar\", \"Waffle\", \"Waffle\", \"Sugar\"]"
   ]
  },
  {
   "cell_type": "markdown",
   "metadata": {
    "cell_id": "bdfb30fd-a7cb-4e53-83c7-7b81680c75ee",
    "deepnote_cell_type": "markdown",
    "output_cleared": false,
    "tags": []
   },
   "source": [
    "We can add the new data as a column to the `cones` table by using the `tbl.with_columns()` function in the `datascience` package.\n"
   ]
  },
  {
   "cell_type": "code",
   "execution_count": null,
   "metadata": {
    "cell_id": "ef9b1fd5-692a-481b-b9af-c813e4809b1c",
    "deepnote_cell_type": "code",
    "output_cleared": false,
    "tags": []
   },
   "outputs": [
    {
     "data": {
      "text/html": [
       "<table border=\"1\" class=\"dataframe\">\n",
       "    <thead>\n",
       "        <tr>\n",
       "            <th>Flavor</th> <th>Color</th> <th>Price</th> <th>Type of Cone</th>\n",
       "        </tr>\n",
       "    </thead>\n",
       "    <tbody>\n",
       "        <tr>\n",
       "            <td>strawberry</td> <td>pink       </td> <td>3.55 </td> <td>Waffle      </td>\n",
       "        </tr>\n",
       "        <tr>\n",
       "            <td>chocolate </td> <td>light brown</td> <td>4.75 </td> <td>Sugar       </td>\n",
       "        </tr>\n",
       "        <tr>\n",
       "            <td>chocolate </td> <td>dark brown </td> <td>5.25 </td> <td>Sugar       </td>\n",
       "        </tr>\n",
       "        <tr>\n",
       "            <td>strawberry</td> <td>pink       </td> <td>5.25 </td> <td>Waffle      </td>\n",
       "        </tr>\n",
       "        <tr>\n",
       "            <td>chocolate </td> <td>dark brown </td> <td>5.25 </td> <td>Waffle      </td>\n",
       "        </tr>\n",
       "        <tr>\n",
       "            <td>bubblegum </td> <td>pink       </td> <td>4.75 </td> <td>Sugar       </td>\n",
       "        </tr>\n",
       "    </tbody>\n",
       "</table>"
      ],
      "text/plain": [
       "Flavor     | Color       | Price | Type of Cone\n",
       "strawberry | pink        | 3.55  | Waffle\n",
       "chocolate  | light brown | 4.75  | Sugar\n",
       "chocolate  | dark brown  | 5.25  | Sugar\n",
       "strawberry | pink        | 5.25  | Waffle\n",
       "chocolate  | dark brown  | 5.25  | Waffle\n",
       "bubblegum  | pink        | 4.75  | Sugar"
      ]
     },
     "execution_count": 6,
     "metadata": {},
     "output_type": "execute_result"
    }
   ],
   "source": [
    "cones_tbl = cones_tbl.with_columns(\"Type of Cone\", type_of_cone)\n",
    "cones_tbl"
   ]
  },
  {
   "cell_type": "markdown",
   "metadata": {
    "cell_id": "de27f637-56b9-42b4-b102-55104687d43b",
    "deepnote_cell_type": "markdown",
    "output_cleared": false,
    "tags": []
   },
   "source": [
    "There are many ways to add a new column to a dataframe in `pandas` — the easiest way is shown below. \n",
    "The string inside the bracket denotes the new column name, and you assign it to the list containing the new column. \n",
    " "
   ]
  },
  {
   "cell_type": "code",
   "execution_count": null,
   "metadata": {
    "cell_id": "4b2610b7-c623-4be2-86e0-0a0509454648",
    "deepnote_cell_type": "code",
    "output_cleared": false,
    "tags": []
   },
   "outputs": [
    {
     "data": {
      "application/vnd.deepnote.dataframe.v2+json": {
       "column_count": 4,
       "columns": [
        {
         "dtype": "object",
         "name": "Flavor",
         "stats": {
          "categories": [
           {
            "count": 3,
            "name": "chocolate"
           },
           {
            "count": 2,
            "name": "strawberry"
           },
           {
            "count": 1,
            "name": "bubblegum"
           }
          ],
          "nan_count": 0,
          "unique_count": 3
         }
        },
        {
         "dtype": "object",
         "name": "Color",
         "stats": {
          "categories": [
           {
            "count": 3,
            "name": "pink"
           },
           {
            "count": 2,
            "name": "dark brown"
           },
           {
            "count": 1,
            "name": "light brown"
           }
          ],
          "nan_count": 0,
          "unique_count": 3
         }
        },
        {
         "dtype": "float64",
         "name": "Price",
         "stats": {
          "histogram": [
           {
            "bin_end": 3.7199999999999998,
            "bin_start": 3.55,
            "count": 1
           },
           {
            "bin_end": 3.8899999999999997,
            "bin_start": 3.7199999999999998,
            "count": 0
           },
           {
            "bin_end": 4.06,
            "bin_start": 3.8899999999999997,
            "count": 0
           },
           {
            "bin_end": 4.2299999999999995,
            "bin_start": 4.06,
            "count": 0
           },
           {
            "bin_end": 4.4,
            "bin_start": 4.2299999999999995,
            "count": 0
           },
           {
            "bin_end": 4.57,
            "bin_start": 4.4,
            "count": 0
           },
           {
            "bin_end": 4.74,
            "bin_start": 4.57,
            "count": 0
           },
           {
            "bin_end": 4.91,
            "bin_start": 4.74,
            "count": 2
           },
           {
            "bin_end": 5.08,
            "bin_start": 4.91,
            "count": 0
           },
           {
            "bin_end": 5.25,
            "bin_start": 5.08,
            "count": 3
           }
          ],
          "max": 5.25,
          "min": 3.55,
          "nan_count": 0,
          "unique_count": 3
         }
        },
        {
         "dtype": "object",
         "name": "Type of Cone",
         "stats": {
          "categories": [
           {
            "count": 3,
            "name": "Waffle"
           },
           {
            "count": 3,
            "name": "Sugar"
           }
          ],
          "nan_count": 0,
          "unique_count": 2
         }
        },
        {
         "dtype": "int64",
         "name": "_deepnote_index_column"
        }
       ],
       "row_count": 6,
       "rows_bottom": null,
       "rows_top": [
        {
         "Color": "pink",
         "Flavor": "strawberry",
         "Price": 3.55,
         "Type of Cone": "Waffle",
         "_deepnote_index_column": 0
        },
        {
         "Color": "light brown",
         "Flavor": "chocolate",
         "Price": 4.75,
         "Type of Cone": "Sugar",
         "_deepnote_index_column": 1
        },
        {
         "Color": "dark brown",
         "Flavor": "chocolate",
         "Price": 5.25,
         "Type of Cone": "Sugar",
         "_deepnote_index_column": 2
        },
        {
         "Color": "pink",
         "Flavor": "strawberry",
         "Price": 5.25,
         "Type of Cone": "Waffle",
         "_deepnote_index_column": 3
        },
        {
         "Color": "dark brown",
         "Flavor": "chocolate",
         "Price": 5.25,
         "Type of Cone": "Waffle",
         "_deepnote_index_column": 4
        },
        {
         "Color": "pink",
         "Flavor": "bubblegum",
         "Price": 4.75,
         "Type of Cone": "Sugar",
         "_deepnote_index_column": 5
        }
       ]
      },
      "text/html": [
       "<div>\n",
       "<style scoped>\n",
       "    .dataframe tbody tr th:only-of-type {\n",
       "        vertical-align: middle;\n",
       "    }\n",
       "\n",
       "    .dataframe tbody tr th {\n",
       "        vertical-align: top;\n",
       "    }\n",
       "\n",
       "    .dataframe thead th {\n",
       "        text-align: right;\n",
       "    }\n",
       "</style>\n",
       "<table border=\"1\" class=\"dataframe\">\n",
       "  <thead>\n",
       "    <tr style=\"text-align: right;\">\n",
       "      <th></th>\n",
       "      <th>Flavor</th>\n",
       "      <th>Color</th>\n",
       "      <th>Price</th>\n",
       "      <th>Type of Cone</th>\n",
       "    </tr>\n",
       "  </thead>\n",
       "  <tbody>\n",
       "    <tr>\n",
       "      <th>0</th>\n",
       "      <td>strawberry</td>\n",
       "      <td>pink</td>\n",
       "      <td>3.55</td>\n",
       "      <td>Waffle</td>\n",
       "    </tr>\n",
       "    <tr>\n",
       "      <th>1</th>\n",
       "      <td>chocolate</td>\n",
       "      <td>light brown</td>\n",
       "      <td>4.75</td>\n",
       "      <td>Sugar</td>\n",
       "    </tr>\n",
       "    <tr>\n",
       "      <th>2</th>\n",
       "      <td>chocolate</td>\n",
       "      <td>dark brown</td>\n",
       "      <td>5.25</td>\n",
       "      <td>Sugar</td>\n",
       "    </tr>\n",
       "    <tr>\n",
       "      <th>3</th>\n",
       "      <td>strawberry</td>\n",
       "      <td>pink</td>\n",
       "      <td>5.25</td>\n",
       "      <td>Waffle</td>\n",
       "    </tr>\n",
       "    <tr>\n",
       "      <th>4</th>\n",
       "      <td>chocolate</td>\n",
       "      <td>dark brown</td>\n",
       "      <td>5.25</td>\n",
       "      <td>Waffle</td>\n",
       "    </tr>\n",
       "    <tr>\n",
       "      <th>5</th>\n",
       "      <td>bubblegum</td>\n",
       "      <td>pink</td>\n",
       "      <td>4.75</td>\n",
       "      <td>Sugar</td>\n",
       "    </tr>\n",
       "  </tbody>\n",
       "</table>\n",
       "</div>"
      ],
      "text/plain": [
       "       Flavor        Color  Price Type of Cone\n",
       "0  strawberry         pink   3.55       Waffle\n",
       "1   chocolate  light brown   4.75        Sugar\n",
       "2   chocolate   dark brown   5.25        Sugar\n",
       "3  strawberry         pink   5.25       Waffle\n",
       "4   chocolate   dark brown   5.25       Waffle\n",
       "5   bubblegum         pink   4.75        Sugar"
      ]
     },
     "execution_count": 7,
     "metadata": {},
     "output_type": "execute_result"
    }
   ],
   "source": [
    "cones_df[\"Type of Cone\"] = type_of_cone\n",
    "cones_df"
   ]
  },
  {
   "cell_type": "markdown",
   "metadata": {
    "cell_id": "16adc27f-0cee-4660-bc7b-ca309e5e78d8",
    "deepnote_cell_type": "markdown",
    "output_cleared": false,
    "tags": []
   },
   "source": [
    "Some other methods of adding a new column include `df.insert(index_at, col_name, new_col_data)`.\n",
    "Here the `index_at` argument specifies the index where you want to insert the column at. "
   ]
  },
  {
   "cell_type": "markdown",
   "metadata": {
    "cell_id": "a7b69a0e-9dfa-47af-92ae-1c6812125fcc",
    "deepnote_cell_type": "markdown",
    "output_cleared": false,
    "tags": []
   },
   "source": [
    "If you are interested in familiarizing yourself with more methods to add columns into existing data frames, \n",
    "check out [this website](https://www.geeksforgeeks.org/adding-new-column-to-existing-dataframe-in-pandas/)."
   ]
  },
  {
   "cell_type": "code",
   "execution_count": null,
   "metadata": {
    "cell_id": "4934eb0f-918e-4fa5-9975-cc0ddca24111",
    "deepnote_cell_type": "code",
    "output_cleared": false,
    "tags": []
   },
   "outputs": [
    {
     "data": {
      "application/vnd.deepnote.dataframe.v2+json": {
       "column_count": 5,
       "columns": [
        {
         "dtype": "object",
         "name": "Flavor",
         "stats": {
          "categories": [
           {
            "count": 3,
            "name": "chocolate"
           },
           {
            "count": 2,
            "name": "strawberry"
           },
           {
            "count": 1,
            "name": "bubblegum"
           }
          ],
          "nan_count": 0,
          "unique_count": 3
         }
        },
        {
         "dtype": "object",
         "name": "Color",
         "stats": {
          "categories": [
           {
            "count": 3,
            "name": "pink"
           },
           {
            "count": 2,
            "name": "dark brown"
           },
           {
            "count": 1,
            "name": "light brown"
           }
          ],
          "nan_count": 0,
          "unique_count": 3
         }
        },
        {
         "dtype": "object",
         "name": "Type of Cone2",
         "stats": {
          "categories": [
           {
            "count": 3,
            "name": "Waffle"
           },
           {
            "count": 3,
            "name": "Sugar"
           }
          ],
          "nan_count": 0,
          "unique_count": 2
         }
        },
        {
         "dtype": "float64",
         "name": "Price",
         "stats": {
          "histogram": [
           {
            "bin_end": 3.7199999999999998,
            "bin_start": 3.55,
            "count": 1
           },
           {
            "bin_end": 3.8899999999999997,
            "bin_start": 3.7199999999999998,
            "count": 0
           },
           {
            "bin_end": 4.06,
            "bin_start": 3.8899999999999997,
            "count": 0
           },
           {
            "bin_end": 4.2299999999999995,
            "bin_start": 4.06,
            "count": 0
           },
           {
            "bin_end": 4.4,
            "bin_start": 4.2299999999999995,
            "count": 0
           },
           {
            "bin_end": 4.57,
            "bin_start": 4.4,
            "count": 0
           },
           {
            "bin_end": 4.74,
            "bin_start": 4.57,
            "count": 0
           },
           {
            "bin_end": 4.91,
            "bin_start": 4.74,
            "count": 2
           },
           {
            "bin_end": 5.08,
            "bin_start": 4.91,
            "count": 0
           },
           {
            "bin_end": 5.25,
            "bin_start": 5.08,
            "count": 3
           }
          ],
          "max": 5.25,
          "min": 3.55,
          "nan_count": 0,
          "unique_count": 3
         }
        },
        {
         "dtype": "object",
         "name": "Type of Cone",
         "stats": {
          "categories": [
           {
            "count": 3,
            "name": "Waffle"
           },
           {
            "count": 3,
            "name": "Sugar"
           }
          ],
          "nan_count": 0,
          "unique_count": 2
         }
        },
        {
         "dtype": "int64",
         "name": "_deepnote_index_column"
        }
       ],
       "row_count": 6,
       "rows_bottom": null,
       "rows_top": [
        {
         "Color": "pink",
         "Flavor": "strawberry",
         "Price": 3.55,
         "Type of Cone": "Waffle",
         "Type of Cone2": "Waffle",
         "_deepnote_index_column": 0
        },
        {
         "Color": "light brown",
         "Flavor": "chocolate",
         "Price": 4.75,
         "Type of Cone": "Sugar",
         "Type of Cone2": "Sugar",
         "_deepnote_index_column": 1
        },
        {
         "Color": "dark brown",
         "Flavor": "chocolate",
         "Price": 5.25,
         "Type of Cone": "Sugar",
         "Type of Cone2": "Sugar",
         "_deepnote_index_column": 2
        },
        {
         "Color": "pink",
         "Flavor": "strawberry",
         "Price": 5.25,
         "Type of Cone": "Waffle",
         "Type of Cone2": "Waffle",
         "_deepnote_index_column": 3
        },
        {
         "Color": "dark brown",
         "Flavor": "chocolate",
         "Price": 5.25,
         "Type of Cone": "Waffle",
         "Type of Cone2": "Waffle",
         "_deepnote_index_column": 4
        },
        {
         "Color": "pink",
         "Flavor": "bubblegum",
         "Price": 4.75,
         "Type of Cone": "Sugar",
         "Type of Cone2": "Sugar",
         "_deepnote_index_column": 5
        }
       ]
      },
      "text/html": [
       "<div>\n",
       "<style scoped>\n",
       "    .dataframe tbody tr th:only-of-type {\n",
       "        vertical-align: middle;\n",
       "    }\n",
       "\n",
       "    .dataframe tbody tr th {\n",
       "        vertical-align: top;\n",
       "    }\n",
       "\n",
       "    .dataframe thead th {\n",
       "        text-align: right;\n",
       "    }\n",
       "</style>\n",
       "<table border=\"1\" class=\"dataframe\">\n",
       "  <thead>\n",
       "    <tr style=\"text-align: right;\">\n",
       "      <th></th>\n",
       "      <th>Flavor</th>\n",
       "      <th>Color</th>\n",
       "      <th>Type of Cone2</th>\n",
       "      <th>Price</th>\n",
       "      <th>Type of Cone</th>\n",
       "    </tr>\n",
       "  </thead>\n",
       "  <tbody>\n",
       "    <tr>\n",
       "      <th>0</th>\n",
       "      <td>strawberry</td>\n",
       "      <td>pink</td>\n",
       "      <td>Waffle</td>\n",
       "      <td>3.55</td>\n",
       "      <td>Waffle</td>\n",
       "    </tr>\n",
       "    <tr>\n",
       "      <th>1</th>\n",
       "      <td>chocolate</td>\n",
       "      <td>light brown</td>\n",
       "      <td>Sugar</td>\n",
       "      <td>4.75</td>\n",
       "      <td>Sugar</td>\n",
       "    </tr>\n",
       "    <tr>\n",
       "      <th>2</th>\n",
       "      <td>chocolate</td>\n",
       "      <td>dark brown</td>\n",
       "      <td>Sugar</td>\n",
       "      <td>5.25</td>\n",
       "      <td>Sugar</td>\n",
       "    </tr>\n",
       "    <tr>\n",
       "      <th>3</th>\n",
       "      <td>strawberry</td>\n",
       "      <td>pink</td>\n",
       "      <td>Waffle</td>\n",
       "      <td>5.25</td>\n",
       "      <td>Waffle</td>\n",
       "    </tr>\n",
       "    <tr>\n",
       "      <th>4</th>\n",
       "      <td>chocolate</td>\n",
       "      <td>dark brown</td>\n",
       "      <td>Waffle</td>\n",
       "      <td>5.25</td>\n",
       "      <td>Waffle</td>\n",
       "    </tr>\n",
       "    <tr>\n",
       "      <th>5</th>\n",
       "      <td>bubblegum</td>\n",
       "      <td>pink</td>\n",
       "      <td>Sugar</td>\n",
       "      <td>4.75</td>\n",
       "      <td>Sugar</td>\n",
       "    </tr>\n",
       "  </tbody>\n",
       "</table>\n",
       "</div>"
      ],
      "text/plain": [
       "       Flavor        Color Type of Cone2  Price Type of Cone\n",
       "0  strawberry         pink        Waffle   3.55       Waffle\n",
       "1   chocolate  light brown         Sugar   4.75        Sugar\n",
       "2   chocolate   dark brown         Sugar   5.25        Sugar\n",
       "3  strawberry         pink        Waffle   5.25       Waffle\n",
       "4   chocolate   dark brown        Waffle   5.25       Waffle\n",
       "5   bubblegum         pink         Sugar   4.75        Sugar"
      ]
     },
     "execution_count": 8,
     "metadata": {},
     "output_type": "execute_result"
    }
   ],
   "source": [
    "cones_df.insert(2, \"Type of Cone2\", type_of_cone) \n",
    "cones_df"
   ]
  },
  {
   "cell_type": "markdown",
   "metadata": {
    "cell_id": "fd06f32a-8a00-43da-bb4f-dc0f57e45c0b",
    "deepnote_cell_type": "markdown",
    "output_cleared": false,
    "tags": []
   },
   "source": [
    "## Dropping Columns"
   ]
  },
  {
   "cell_type": "markdown",
   "metadata": {
    "cell_id": "386b02c0-ba00-497a-a21e-9615ff1cda85",
    "deepnote_cell_type": "markdown",
    "output_cleared": false,
    "tags": []
   },
   "source": [
    "Sometimes the dataframe will contain information that you are not interested in. \n",
    "In that case, we may want to drop the irrelevant columns since they could clutter up your table.\n",
    "With `datascience`, the function to drop a column is `tbl.drop(col_name)`.\n"
   ]
  },
  {
   "cell_type": "code",
   "execution_count": null,
   "metadata": {
    "cell_id": "9e1dd8bf-7451-44e5-89ba-ce851932fdf8",
    "deepnote_cell_type": "code",
    "output_cleared": false,
    "tags": []
   },
   "outputs": [
    {
     "data": {
      "text/html": [
       "<table border=\"1\" class=\"dataframe\">\n",
       "    <thead>\n",
       "        <tr>\n",
       "            <th>Flavor</th> <th>Color</th> <th>Price</th>\n",
       "        </tr>\n",
       "    </thead>\n",
       "    <tbody>\n",
       "        <tr>\n",
       "            <td>strawberry</td> <td>pink       </td> <td>3.55 </td>\n",
       "        </tr>\n",
       "        <tr>\n",
       "            <td>chocolate </td> <td>light brown</td> <td>4.75 </td>\n",
       "        </tr>\n",
       "        <tr>\n",
       "            <td>chocolate </td> <td>dark brown </td> <td>5.25 </td>\n",
       "        </tr>\n",
       "        <tr>\n",
       "            <td>strawberry</td> <td>pink       </td> <td>5.25 </td>\n",
       "        </tr>\n",
       "        <tr>\n",
       "            <td>chocolate </td> <td>dark brown </td> <td>5.25 </td>\n",
       "        </tr>\n",
       "        <tr>\n",
       "            <td>bubblegum </td> <td>pink       </td> <td>4.75 </td>\n",
       "        </tr>\n",
       "    </tbody>\n",
       "</table>"
      ],
      "text/plain": [
       "Flavor     | Color       | Price\n",
       "strawberry | pink        | 3.55\n",
       "chocolate  | light brown | 4.75\n",
       "chocolate  | dark brown  | 5.25\n",
       "strawberry | pink        | 5.25\n",
       "chocolate  | dark brown  | 5.25\n",
       "bubblegum  | pink        | 4.75"
      ]
     },
     "execution_count": 9,
     "metadata": {},
     "output_type": "execute_result"
    }
   ],
   "source": [
    "cones_tbl.drop(\"Type of Cone\")"
   ]
  },
  {
   "cell_type": "markdown",
   "metadata": {
    "cell_id": "1029113b-6c81-4cf5-bb66-d7089b314bac",
    "deepnote_cell_type": "markdown",
    "output_cleared": false,
    "tags": []
   },
   "source": [
    "One thing to note is that the drop function in `datascience`, like most other functions, does not actually change the original table."
   ]
  },
  {
   "cell_type": "code",
   "execution_count": null,
   "metadata": {
    "cell_id": "14516d2a-f9fb-41c7-8c62-ab5c12b12560",
    "deepnote_cell_type": "code",
    "output_cleared": false,
    "tags": []
   },
   "outputs": [
    {
     "data": {
      "text/html": [
       "<table border=\"1\" class=\"dataframe\">\n",
       "    <thead>\n",
       "        <tr>\n",
       "            <th>Flavor</th> <th>Color</th> <th>Price</th> <th>Type of Cone</th>\n",
       "        </tr>\n",
       "    </thead>\n",
       "    <tbody>\n",
       "        <tr>\n",
       "            <td>strawberry</td> <td>pink       </td> <td>3.55 </td> <td>Waffle      </td>\n",
       "        </tr>\n",
       "        <tr>\n",
       "            <td>chocolate </td> <td>light brown</td> <td>4.75 </td> <td>Sugar       </td>\n",
       "        </tr>\n",
       "        <tr>\n",
       "            <td>chocolate </td> <td>dark brown </td> <td>5.25 </td> <td>Sugar       </td>\n",
       "        </tr>\n",
       "        <tr>\n",
       "            <td>strawberry</td> <td>pink       </td> <td>5.25 </td> <td>Waffle      </td>\n",
       "        </tr>\n",
       "        <tr>\n",
       "            <td>chocolate </td> <td>dark brown </td> <td>5.25 </td> <td>Waffle      </td>\n",
       "        </tr>\n",
       "        <tr>\n",
       "            <td>bubblegum </td> <td>pink       </td> <td>4.75 </td> <td>Sugar       </td>\n",
       "        </tr>\n",
       "    </tbody>\n",
       "</table>"
      ],
      "text/plain": [
       "Flavor     | Color       | Price | Type of Cone\n",
       "strawberry | pink        | 3.55  | Waffle\n",
       "chocolate  | light brown | 4.75  | Sugar\n",
       "chocolate  | dark brown  | 5.25  | Sugar\n",
       "strawberry | pink        | 5.25  | Waffle\n",
       "chocolate  | dark brown  | 5.25  | Waffle\n",
       "bubblegum  | pink        | 4.75  | Sugar"
      ]
     },
     "execution_count": 10,
     "metadata": {},
     "output_type": "execute_result"
    }
   ],
   "source": [
    "# the cones_tbl is unchanged\n",
    "cones_tbl"
   ]
  },
  {
   "cell_type": "markdown",
   "metadata": {
    "cell_id": "3a820b2b-41fe-4fec-ad86-b99c6f032919",
    "deepnote_cell_type": "markdown",
    "output_cleared": false,
    "tags": []
   },
   "source": [
    "To make changes to the original variable, we need to reassign the new table returned by `tbl.drop` to the original name."
   ]
  },
  {
   "cell_type": "code",
   "execution_count": null,
   "metadata": {
    "cell_id": "d8165a03-307c-42f7-b995-53b6cac485e9",
    "deepnote_cell_type": "code",
    "output_cleared": false,
    "tags": []
   },
   "outputs": [
    {
     "data": {
      "text/html": [
       "<table border=\"1\" class=\"dataframe\">\n",
       "    <thead>\n",
       "        <tr>\n",
       "            <th>Flavor</th> <th>Color</th> <th>Price</th>\n",
       "        </tr>\n",
       "    </thead>\n",
       "    <tbody>\n",
       "        <tr>\n",
       "            <td>strawberry</td> <td>pink       </td> <td>3.55 </td>\n",
       "        </tr>\n",
       "        <tr>\n",
       "            <td>chocolate </td> <td>light brown</td> <td>4.75 </td>\n",
       "        </tr>\n",
       "        <tr>\n",
       "            <td>chocolate </td> <td>dark brown </td> <td>5.25 </td>\n",
       "        </tr>\n",
       "        <tr>\n",
       "            <td>strawberry</td> <td>pink       </td> <td>5.25 </td>\n",
       "        </tr>\n",
       "        <tr>\n",
       "            <td>chocolate </td> <td>dark brown </td> <td>5.25 </td>\n",
       "        </tr>\n",
       "        <tr>\n",
       "            <td>bubblegum </td> <td>pink       </td> <td>4.75 </td>\n",
       "        </tr>\n",
       "    </tbody>\n",
       "</table>"
      ],
      "text/plain": [
       "Flavor     | Color       | Price\n",
       "strawberry | pink        | 3.55\n",
       "chocolate  | light brown | 4.75\n",
       "chocolate  | dark brown  | 5.25\n",
       "strawberry | pink        | 5.25\n",
       "chocolate  | dark brown  | 5.25\n",
       "bubblegum  | pink        | 4.75"
      ]
     },
     "execution_count": 11,
     "metadata": {},
     "output_type": "execute_result"
    }
   ],
   "source": [
    "# now the cones_tbl is changed\n",
    "cones_tbl = cones_tbl.drop(\"Type of Cone\")\n",
    "cones_tbl"
   ]
  },
  {
   "cell_type": "markdown",
   "metadata": {
    "cell_id": "1fe9f9de-a566-4cef-b802-1403fed0913b",
    "deepnote_cell_type": "markdown",
    "output_cleared": false,
    "tags": []
   },
   "source": [
    "To do the same procedure in `pandas`, we use [`df.drop`](https://pandas.pydata.org/pandas-docs/stable/reference/api/pandas.DataFrame.drop.html). \n",
    "However, one main difference is that we would need to specify that we want to drop columns, since `df.drop` can also drop rows. "
   ]
  },
  {
   "cell_type": "code",
   "execution_count": null,
   "metadata": {
    "cell_id": "5ef9b131-078a-4816-9276-762c441e6832",
    "deepnote_cell_type": "code",
    "output_cleared": false,
    "tags": []
   },
   "outputs": [
    {
     "data": {
      "application/vnd.deepnote.dataframe.v2+json": {
       "column_count": 4,
       "columns": [
        {
         "dtype": "object",
         "name": "Flavor",
         "stats": {
          "categories": [
           {
            "count": 3,
            "name": "chocolate"
           },
           {
            "count": 2,
            "name": "strawberry"
           },
           {
            "count": 1,
            "name": "bubblegum"
           }
          ],
          "nan_count": 0,
          "unique_count": 3
         }
        },
        {
         "dtype": "object",
         "name": "Color",
         "stats": {
          "categories": [
           {
            "count": 3,
            "name": "pink"
           },
           {
            "count": 2,
            "name": "dark brown"
           },
           {
            "count": 1,
            "name": "light brown"
           }
          ],
          "nan_count": 0,
          "unique_count": 3
         }
        },
        {
         "dtype": "object",
         "name": "Type of Cone2",
         "stats": {
          "categories": [
           {
            "count": 3,
            "name": "Waffle"
           },
           {
            "count": 3,
            "name": "Sugar"
           }
          ],
          "nan_count": 0,
          "unique_count": 2
         }
        },
        {
         "dtype": "float64",
         "name": "Price",
         "stats": {
          "histogram": [
           {
            "bin_end": 3.7199999999999998,
            "bin_start": 3.55,
            "count": 1
           },
           {
            "bin_end": 3.8899999999999997,
            "bin_start": 3.7199999999999998,
            "count": 0
           },
           {
            "bin_end": 4.06,
            "bin_start": 3.8899999999999997,
            "count": 0
           },
           {
            "bin_end": 4.2299999999999995,
            "bin_start": 4.06,
            "count": 0
           },
           {
            "bin_end": 4.4,
            "bin_start": 4.2299999999999995,
            "count": 0
           },
           {
            "bin_end": 4.57,
            "bin_start": 4.4,
            "count": 0
           },
           {
            "bin_end": 4.74,
            "bin_start": 4.57,
            "count": 0
           },
           {
            "bin_end": 4.91,
            "bin_start": 4.74,
            "count": 2
           },
           {
            "bin_end": 5.08,
            "bin_start": 4.91,
            "count": 0
           },
           {
            "bin_end": 5.25,
            "bin_start": 5.08,
            "count": 3
           }
          ],
          "max": 5.25,
          "min": 3.55,
          "nan_count": 0,
          "unique_count": 3
         }
        },
        {
         "dtype": "int64",
         "name": "_deepnote_index_column"
        }
       ],
       "row_count": 6,
       "rows_bottom": null,
       "rows_top": [
        {
         "Color": "pink",
         "Flavor": "strawberry",
         "Price": 3.55,
         "Type of Cone2": "Waffle",
         "_deepnote_index_column": 0
        },
        {
         "Color": "light brown",
         "Flavor": "chocolate",
         "Price": 4.75,
         "Type of Cone2": "Sugar",
         "_deepnote_index_column": 1
        },
        {
         "Color": "dark brown",
         "Flavor": "chocolate",
         "Price": 5.25,
         "Type of Cone2": "Sugar",
         "_deepnote_index_column": 2
        },
        {
         "Color": "pink",
         "Flavor": "strawberry",
         "Price": 5.25,
         "Type of Cone2": "Waffle",
         "_deepnote_index_column": 3
        },
        {
         "Color": "dark brown",
         "Flavor": "chocolate",
         "Price": 5.25,
         "Type of Cone2": "Waffle",
         "_deepnote_index_column": 4
        },
        {
         "Color": "pink",
         "Flavor": "bubblegum",
         "Price": 4.75,
         "Type of Cone2": "Sugar",
         "_deepnote_index_column": 5
        }
       ]
      },
      "text/html": [
       "<div>\n",
       "<style scoped>\n",
       "    .dataframe tbody tr th:only-of-type {\n",
       "        vertical-align: middle;\n",
       "    }\n",
       "\n",
       "    .dataframe tbody tr th {\n",
       "        vertical-align: top;\n",
       "    }\n",
       "\n",
       "    .dataframe thead th {\n",
       "        text-align: right;\n",
       "    }\n",
       "</style>\n",
       "<table border=\"1\" class=\"dataframe\">\n",
       "  <thead>\n",
       "    <tr style=\"text-align: right;\">\n",
       "      <th></th>\n",
       "      <th>Flavor</th>\n",
       "      <th>Color</th>\n",
       "      <th>Type of Cone2</th>\n",
       "      <th>Price</th>\n",
       "    </tr>\n",
       "  </thead>\n",
       "  <tbody>\n",
       "    <tr>\n",
       "      <th>0</th>\n",
       "      <td>strawberry</td>\n",
       "      <td>pink</td>\n",
       "      <td>Waffle</td>\n",
       "      <td>3.55</td>\n",
       "    </tr>\n",
       "    <tr>\n",
       "      <th>1</th>\n",
       "      <td>chocolate</td>\n",
       "      <td>light brown</td>\n",
       "      <td>Sugar</td>\n",
       "      <td>4.75</td>\n",
       "    </tr>\n",
       "    <tr>\n",
       "      <th>2</th>\n",
       "      <td>chocolate</td>\n",
       "      <td>dark brown</td>\n",
       "      <td>Sugar</td>\n",
       "      <td>5.25</td>\n",
       "    </tr>\n",
       "    <tr>\n",
       "      <th>3</th>\n",
       "      <td>strawberry</td>\n",
       "      <td>pink</td>\n",
       "      <td>Waffle</td>\n",
       "      <td>5.25</td>\n",
       "    </tr>\n",
       "    <tr>\n",
       "      <th>4</th>\n",
       "      <td>chocolate</td>\n",
       "      <td>dark brown</td>\n",
       "      <td>Waffle</td>\n",
       "      <td>5.25</td>\n",
       "    </tr>\n",
       "    <tr>\n",
       "      <th>5</th>\n",
       "      <td>bubblegum</td>\n",
       "      <td>pink</td>\n",
       "      <td>Sugar</td>\n",
       "      <td>4.75</td>\n",
       "    </tr>\n",
       "  </tbody>\n",
       "</table>\n",
       "</div>"
      ],
      "text/plain": [
       "       Flavor        Color Type of Cone2  Price\n",
       "0  strawberry         pink        Waffle   3.55\n",
       "1   chocolate  light brown         Sugar   4.75\n",
       "2   chocolate   dark brown         Sugar   5.25\n",
       "3  strawberry         pink        Waffle   5.25\n",
       "4   chocolate   dark brown        Waffle   5.25\n",
       "5   bubblegum         pink         Sugar   4.75"
      ]
     },
     "execution_count": 12,
     "metadata": {},
     "output_type": "execute_result"
    }
   ],
   "source": [
    "# the drop function without any other arguments does not change the original dataframe\n",
    "cones_df.drop(columns=['Type of Cone'])"
   ]
  },
  {
   "cell_type": "markdown",
   "metadata": {
    "cell_id": "2b7be92e-4446-4f6b-9339-9b13e71c98f4",
    "deepnote_cell_type": "markdown",
    "output_cleared": false,
    "tags": []
   },
   "source": [
    "Note that, similar to its relative in `datascience`, the `drop` function in pandas does not change the original dataframe."
   ]
  },
  {
   "cell_type": "code",
   "execution_count": null,
   "metadata": {
    "cell_id": "522944e9-cb71-4d08-9de0-ec8012270545",
    "deepnote_cell_type": "code",
    "output_cleared": false,
    "tags": []
   },
   "outputs": [
    {
     "data": {
      "application/vnd.deepnote.dataframe.v2+json": {
       "column_count": 5,
       "columns": [
        {
         "dtype": "object",
         "name": "Flavor",
         "stats": {
          "categories": [
           {
            "count": 3,
            "name": "chocolate"
           },
           {
            "count": 2,
            "name": "strawberry"
           },
           {
            "count": 1,
            "name": "bubblegum"
           }
          ],
          "nan_count": 0,
          "unique_count": 3
         }
        },
        {
         "dtype": "object",
         "name": "Color",
         "stats": {
          "categories": [
           {
            "count": 3,
            "name": "pink"
           },
           {
            "count": 2,
            "name": "dark brown"
           },
           {
            "count": 1,
            "name": "light brown"
           }
          ],
          "nan_count": 0,
          "unique_count": 3
         }
        },
        {
         "dtype": "object",
         "name": "Type of Cone2",
         "stats": {
          "categories": [
           {
            "count": 3,
            "name": "Waffle"
           },
           {
            "count": 3,
            "name": "Sugar"
           }
          ],
          "nan_count": 0,
          "unique_count": 2
         }
        },
        {
         "dtype": "float64",
         "name": "Price",
         "stats": {
          "histogram": [
           {
            "bin_end": 3.7199999999999998,
            "bin_start": 3.55,
            "count": 1
           },
           {
            "bin_end": 3.8899999999999997,
            "bin_start": 3.7199999999999998,
            "count": 0
           },
           {
            "bin_end": 4.06,
            "bin_start": 3.8899999999999997,
            "count": 0
           },
           {
            "bin_end": 4.2299999999999995,
            "bin_start": 4.06,
            "count": 0
           },
           {
            "bin_end": 4.4,
            "bin_start": 4.2299999999999995,
            "count": 0
           },
           {
            "bin_end": 4.57,
            "bin_start": 4.4,
            "count": 0
           },
           {
            "bin_end": 4.74,
            "bin_start": 4.57,
            "count": 0
           },
           {
            "bin_end": 4.91,
            "bin_start": 4.74,
            "count": 2
           },
           {
            "bin_end": 5.08,
            "bin_start": 4.91,
            "count": 0
           },
           {
            "bin_end": 5.25,
            "bin_start": 5.08,
            "count": 3
           }
          ],
          "max": 5.25,
          "min": 3.55,
          "nan_count": 0,
          "unique_count": 3
         }
        },
        {
         "dtype": "object",
         "name": "Type of Cone",
         "stats": {
          "categories": [
           {
            "count": 3,
            "name": "Waffle"
           },
           {
            "count": 3,
            "name": "Sugar"
           }
          ],
          "nan_count": 0,
          "unique_count": 2
         }
        },
        {
         "dtype": "int64",
         "name": "_deepnote_index_column"
        }
       ],
       "row_count": 6,
       "rows_bottom": null,
       "rows_top": [
        {
         "Color": "pink",
         "Flavor": "strawberry",
         "Price": 3.55,
         "Type of Cone": "Waffle",
         "Type of Cone2": "Waffle",
         "_deepnote_index_column": 0
        },
        {
         "Color": "light brown",
         "Flavor": "chocolate",
         "Price": 4.75,
         "Type of Cone": "Sugar",
         "Type of Cone2": "Sugar",
         "_deepnote_index_column": 1
        },
        {
         "Color": "dark brown",
         "Flavor": "chocolate",
         "Price": 5.25,
         "Type of Cone": "Sugar",
         "Type of Cone2": "Sugar",
         "_deepnote_index_column": 2
        },
        {
         "Color": "pink",
         "Flavor": "strawberry",
         "Price": 5.25,
         "Type of Cone": "Waffle",
         "Type of Cone2": "Waffle",
         "_deepnote_index_column": 3
        },
        {
         "Color": "dark brown",
         "Flavor": "chocolate",
         "Price": 5.25,
         "Type of Cone": "Waffle",
         "Type of Cone2": "Waffle",
         "_deepnote_index_column": 4
        },
        {
         "Color": "pink",
         "Flavor": "bubblegum",
         "Price": 4.75,
         "Type of Cone": "Sugar",
         "Type of Cone2": "Sugar",
         "_deepnote_index_column": 5
        }
       ]
      },
      "text/html": [
       "<div>\n",
       "<style scoped>\n",
       "    .dataframe tbody tr th:only-of-type {\n",
       "        vertical-align: middle;\n",
       "    }\n",
       "\n",
       "    .dataframe tbody tr th {\n",
       "        vertical-align: top;\n",
       "    }\n",
       "\n",
       "    .dataframe thead th {\n",
       "        text-align: right;\n",
       "    }\n",
       "</style>\n",
       "<table border=\"1\" class=\"dataframe\">\n",
       "  <thead>\n",
       "    <tr style=\"text-align: right;\">\n",
       "      <th></th>\n",
       "      <th>Flavor</th>\n",
       "      <th>Color</th>\n",
       "      <th>Type of Cone2</th>\n",
       "      <th>Price</th>\n",
       "      <th>Type of Cone</th>\n",
       "    </tr>\n",
       "  </thead>\n",
       "  <tbody>\n",
       "    <tr>\n",
       "      <th>0</th>\n",
       "      <td>strawberry</td>\n",
       "      <td>pink</td>\n",
       "      <td>Waffle</td>\n",
       "      <td>3.55</td>\n",
       "      <td>Waffle</td>\n",
       "    </tr>\n",
       "    <tr>\n",
       "      <th>1</th>\n",
       "      <td>chocolate</td>\n",
       "      <td>light brown</td>\n",
       "      <td>Sugar</td>\n",
       "      <td>4.75</td>\n",
       "      <td>Sugar</td>\n",
       "    </tr>\n",
       "    <tr>\n",
       "      <th>2</th>\n",
       "      <td>chocolate</td>\n",
       "      <td>dark brown</td>\n",
       "      <td>Sugar</td>\n",
       "      <td>5.25</td>\n",
       "      <td>Sugar</td>\n",
       "    </tr>\n",
       "    <tr>\n",
       "      <th>3</th>\n",
       "      <td>strawberry</td>\n",
       "      <td>pink</td>\n",
       "      <td>Waffle</td>\n",
       "      <td>5.25</td>\n",
       "      <td>Waffle</td>\n",
       "    </tr>\n",
       "    <tr>\n",
       "      <th>4</th>\n",
       "      <td>chocolate</td>\n",
       "      <td>dark brown</td>\n",
       "      <td>Waffle</td>\n",
       "      <td>5.25</td>\n",
       "      <td>Waffle</td>\n",
       "    </tr>\n",
       "    <tr>\n",
       "      <th>5</th>\n",
       "      <td>bubblegum</td>\n",
       "      <td>pink</td>\n",
       "      <td>Sugar</td>\n",
       "      <td>4.75</td>\n",
       "      <td>Sugar</td>\n",
       "    </tr>\n",
       "  </tbody>\n",
       "</table>\n",
       "</div>"
      ],
      "text/plain": [
       "       Flavor        Color Type of Cone2  Price Type of Cone\n",
       "0  strawberry         pink        Waffle   3.55       Waffle\n",
       "1   chocolate  light brown         Sugar   4.75        Sugar\n",
       "2   chocolate   dark brown         Sugar   5.25        Sugar\n",
       "3  strawberry         pink        Waffle   5.25       Waffle\n",
       "4   chocolate   dark brown        Waffle   5.25       Waffle\n",
       "5   bubblegum         pink         Sugar   4.75        Sugar"
      ]
     },
     "execution_count": 13,
     "metadata": {},
     "output_type": "execute_result"
    }
   ],
   "source": [
    "cones_df"
   ]
  },
  {
   "cell_type": "markdown",
   "metadata": {
    "cell_id": "cf5217f0-24e2-4098-8d22-0d288af43360",
    "deepnote_cell_type": "markdown",
    "output_cleared": false,
    "tags": []
   },
   "source": [
    "Instead, to make changes to the original dataframe, we can specify `inplace = True`. \n",
    "In the code below, we drop 2 columns, `Type of Cone` and `Type of Cone2`, in the dataframe."
   ]
  },
  {
   "cell_type": "code",
   "execution_count": null,
   "metadata": {
    "cell_id": "e5201274-5c5f-47a1-9282-a3a3563814cc",
    "deepnote_cell_type": "code",
    "output_cleared": false,
    "tags": []
   },
   "outputs": [
    {
     "data": {
      "application/vnd.deepnote.dataframe.v2+json": {
       "column_count": 3,
       "columns": [
        {
         "dtype": "object",
         "name": "Flavor",
         "stats": {
          "categories": [
           {
            "count": 3,
            "name": "chocolate"
           },
           {
            "count": 2,
            "name": "strawberry"
           },
           {
            "count": 1,
            "name": "bubblegum"
           }
          ],
          "nan_count": 0,
          "unique_count": 3
         }
        },
        {
         "dtype": "object",
         "name": "Color",
         "stats": {
          "categories": [
           {
            "count": 3,
            "name": "pink"
           },
           {
            "count": 2,
            "name": "dark brown"
           },
           {
            "count": 1,
            "name": "light brown"
           }
          ],
          "nan_count": 0,
          "unique_count": 3
         }
        },
        {
         "dtype": "float64",
         "name": "Price",
         "stats": {
          "histogram": [
           {
            "bin_end": 3.7199999999999998,
            "bin_start": 3.55,
            "count": 1
           },
           {
            "bin_end": 3.8899999999999997,
            "bin_start": 3.7199999999999998,
            "count": 0
           },
           {
            "bin_end": 4.06,
            "bin_start": 3.8899999999999997,
            "count": 0
           },
           {
            "bin_end": 4.2299999999999995,
            "bin_start": 4.06,
            "count": 0
           },
           {
            "bin_end": 4.4,
            "bin_start": 4.2299999999999995,
            "count": 0
           },
           {
            "bin_end": 4.57,
            "bin_start": 4.4,
            "count": 0
           },
           {
            "bin_end": 4.74,
            "bin_start": 4.57,
            "count": 0
           },
           {
            "bin_end": 4.91,
            "bin_start": 4.74,
            "count": 2
           },
           {
            "bin_end": 5.08,
            "bin_start": 4.91,
            "count": 0
           },
           {
            "bin_end": 5.25,
            "bin_start": 5.08,
            "count": 3
           }
          ],
          "max": 5.25,
          "min": 3.55,
          "nan_count": 0,
          "unique_count": 3
         }
        },
        {
         "dtype": "int64",
         "name": "_deepnote_index_column"
        }
       ],
       "row_count": 6,
       "rows_bottom": null,
       "rows_top": [
        {
         "Color": "pink",
         "Flavor": "strawberry",
         "Price": 3.55,
         "_deepnote_index_column": 0
        },
        {
         "Color": "light brown",
         "Flavor": "chocolate",
         "Price": 4.75,
         "_deepnote_index_column": 1
        },
        {
         "Color": "dark brown",
         "Flavor": "chocolate",
         "Price": 5.25,
         "_deepnote_index_column": 2
        },
        {
         "Color": "pink",
         "Flavor": "strawberry",
         "Price": 5.25,
         "_deepnote_index_column": 3
        },
        {
         "Color": "dark brown",
         "Flavor": "chocolate",
         "Price": 5.25,
         "_deepnote_index_column": 4
        },
        {
         "Color": "pink",
         "Flavor": "bubblegum",
         "Price": 4.75,
         "_deepnote_index_column": 5
        }
       ]
      },
      "text/html": [
       "<div>\n",
       "<style scoped>\n",
       "    .dataframe tbody tr th:only-of-type {\n",
       "        vertical-align: middle;\n",
       "    }\n",
       "\n",
       "    .dataframe tbody tr th {\n",
       "        vertical-align: top;\n",
       "    }\n",
       "\n",
       "    .dataframe thead th {\n",
       "        text-align: right;\n",
       "    }\n",
       "</style>\n",
       "<table border=\"1\" class=\"dataframe\">\n",
       "  <thead>\n",
       "    <tr style=\"text-align: right;\">\n",
       "      <th></th>\n",
       "      <th>Flavor</th>\n",
       "      <th>Color</th>\n",
       "      <th>Price</th>\n",
       "    </tr>\n",
       "  </thead>\n",
       "  <tbody>\n",
       "    <tr>\n",
       "      <th>0</th>\n",
       "      <td>strawberry</td>\n",
       "      <td>pink</td>\n",
       "      <td>3.55</td>\n",
       "    </tr>\n",
       "    <tr>\n",
       "      <th>1</th>\n",
       "      <td>chocolate</td>\n",
       "      <td>light brown</td>\n",
       "      <td>4.75</td>\n",
       "    </tr>\n",
       "    <tr>\n",
       "      <th>2</th>\n",
       "      <td>chocolate</td>\n",
       "      <td>dark brown</td>\n",
       "      <td>5.25</td>\n",
       "    </tr>\n",
       "    <tr>\n",
       "      <th>3</th>\n",
       "      <td>strawberry</td>\n",
       "      <td>pink</td>\n",
       "      <td>5.25</td>\n",
       "    </tr>\n",
       "    <tr>\n",
       "      <th>4</th>\n",
       "      <td>chocolate</td>\n",
       "      <td>dark brown</td>\n",
       "      <td>5.25</td>\n",
       "    </tr>\n",
       "    <tr>\n",
       "      <th>5</th>\n",
       "      <td>bubblegum</td>\n",
       "      <td>pink</td>\n",
       "      <td>4.75</td>\n",
       "    </tr>\n",
       "  </tbody>\n",
       "</table>\n",
       "</div>"
      ],
      "text/plain": [
       "       Flavor        Color  Price\n",
       "0  strawberry         pink   3.55\n",
       "1   chocolate  light brown   4.75\n",
       "2   chocolate   dark brown   5.25\n",
       "3  strawberry         pink   5.25\n",
       "4   chocolate   dark brown   5.25\n",
       "5   bubblegum         pink   4.75"
      ]
     },
     "execution_count": 14,
     "metadata": {},
     "output_type": "execute_result"
    }
   ],
   "source": [
    "cones_df.drop(columns=['Type of Cone', 'Type of Cone2'], inplace = True)\n",
    "cones_df"
   ]
  },
  {
   "cell_type": "markdown",
   "metadata": {
    "cell_id": "51b6badb-4b8c-4651-8200-17bb228f82d4",
    "deepnote_cell_type": "markdown",
    "output_cleared": false,
    "tags": []
   },
   "source": [
    "#### Drop a row by index"
   ]
  },
  {
   "cell_type": "markdown",
   "metadata": {
    "cell_id": "23e7af86-f56a-4b0d-bcae-98c24966fabf",
    "deepnote_cell_type": "markdown",
    "output_cleared": false,
    "tags": []
   },
   "source": [
    "The [`df.drop`](https://pandas.pydata.org/pandas-docs/stable/reference/api/pandas.DataFrame.drop.html) function can also drop rows by their index. To do this, we just need to specify the index of the rows we want to drop."
   ]
  },
  {
   "cell_type": "code",
   "execution_count": null,
   "metadata": {
    "cell_id": "6f3f8427-3e25-4675-8675-185335b511bc",
    "deepnote_cell_type": "code",
    "output_cleared": false,
    "tags": []
   },
   "outputs": [
    {
     "data": {
      "application/vnd.deepnote.dataframe.v2+json": {
       "column_count": 3,
       "columns": [
        {
         "dtype": "object",
         "name": "Flavor",
         "stats": {
          "categories": [
           {
            "count": 2,
            "name": "chocolate"
           },
           {
            "count": 1,
            "name": "strawberry"
           },
           {
            "count": 1,
            "name": "bubblegum"
           }
          ],
          "nan_count": 0,
          "unique_count": 3
         }
        },
        {
         "dtype": "object",
         "name": "Color",
         "stats": {
          "categories": [
           {
            "count": 2,
            "name": "dark brown"
           },
           {
            "count": 2,
            "name": "pink"
           }
          ],
          "nan_count": 0,
          "unique_count": 2
         }
        },
        {
         "dtype": "float64",
         "name": "Price",
         "stats": {
          "histogram": [
           {
            "bin_end": 4.8,
            "bin_start": 4.75,
            "count": 1
           },
           {
            "bin_end": 4.85,
            "bin_start": 4.8,
            "count": 0
           },
           {
            "bin_end": 4.9,
            "bin_start": 4.85,
            "count": 0
           },
           {
            "bin_end": 4.95,
            "bin_start": 4.9,
            "count": 0
           },
           {
            "bin_end": 5,
            "bin_start": 4.95,
            "count": 0
           },
           {
            "bin_end": 5.05,
            "bin_start": 5,
            "count": 0
           },
           {
            "bin_end": 5.1,
            "bin_start": 5.05,
            "count": 0
           },
           {
            "bin_end": 5.15,
            "bin_start": 5.1,
            "count": 0
           },
           {
            "bin_end": 5.2,
            "bin_start": 5.15,
            "count": 0
           },
           {
            "bin_end": 5.25,
            "bin_start": 5.2,
            "count": 3
           }
          ],
          "max": 5.25,
          "min": 4.75,
          "nan_count": 0,
          "unique_count": 2
         }
        },
        {
         "dtype": "int64",
         "name": "_deepnote_index_column"
        }
       ],
       "row_count": 4,
       "rows_bottom": null,
       "rows_top": [
        {
         "Color": "dark brown",
         "Flavor": "chocolate",
         "Price": 5.25,
         "_deepnote_index_column": 2
        },
        {
         "Color": "pink",
         "Flavor": "strawberry",
         "Price": 5.25,
         "_deepnote_index_column": 3
        },
        {
         "Color": "dark brown",
         "Flavor": "chocolate",
         "Price": 5.25,
         "_deepnote_index_column": 4
        },
        {
         "Color": "pink",
         "Flavor": "bubblegum",
         "Price": 4.75,
         "_deepnote_index_column": 5
        }
       ]
      },
      "text/html": [
       "<div>\n",
       "<style scoped>\n",
       "    .dataframe tbody tr th:only-of-type {\n",
       "        vertical-align: middle;\n",
       "    }\n",
       "\n",
       "    .dataframe tbody tr th {\n",
       "        vertical-align: top;\n",
       "    }\n",
       "\n",
       "    .dataframe thead th {\n",
       "        text-align: right;\n",
       "    }\n",
       "</style>\n",
       "<table border=\"1\" class=\"dataframe\">\n",
       "  <thead>\n",
       "    <tr style=\"text-align: right;\">\n",
       "      <th></th>\n",
       "      <th>Flavor</th>\n",
       "      <th>Color</th>\n",
       "      <th>Price</th>\n",
       "    </tr>\n",
       "  </thead>\n",
       "  <tbody>\n",
       "    <tr>\n",
       "      <th>2</th>\n",
       "      <td>chocolate</td>\n",
       "      <td>dark brown</td>\n",
       "      <td>5.25</td>\n",
       "    </tr>\n",
       "    <tr>\n",
       "      <th>3</th>\n",
       "      <td>strawberry</td>\n",
       "      <td>pink</td>\n",
       "      <td>5.25</td>\n",
       "    </tr>\n",
       "    <tr>\n",
       "      <th>4</th>\n",
       "      <td>chocolate</td>\n",
       "      <td>dark brown</td>\n",
       "      <td>5.25</td>\n",
       "    </tr>\n",
       "    <tr>\n",
       "      <th>5</th>\n",
       "      <td>bubblegum</td>\n",
       "      <td>pink</td>\n",
       "      <td>4.75</td>\n",
       "    </tr>\n",
       "  </tbody>\n",
       "</table>\n",
       "</div>"
      ],
      "text/plain": [
       "       Flavor       Color  Price\n",
       "2   chocolate  dark brown   5.25\n",
       "3  strawberry        pink   5.25\n",
       "4   chocolate  dark brown   5.25\n",
       "5   bubblegum        pink   4.75"
      ]
     },
     "execution_count": 15,
     "metadata": {},
     "output_type": "execute_result"
    }
   ],
   "source": [
    "# drops the rows with index 0 and 1\n",
    "cones_df.drop([0, 1])"
   ]
  },
  {
   "cell_type": "markdown",
   "metadata": {
    "cell_id": "526af742-15e7-4ea6-a52f-2f789b1744f1",
    "deepnote_cell_type": "markdown",
    "output_cleared": false,
    "tags": []
   },
   "source": [
    "## Renaming Columns "
   ]
  },
  {
   "cell_type": "markdown",
   "metadata": {
    "cell_id": "deda940f-2afb-4f04-82d1-d3be4a612ed8",
    "deepnote_cell_type": "markdown",
    "output_cleared": false,
    "tags": []
   },
   "source": [
    "If the names of the columns that's read in from our dataset are not descriptive, we may want to change the names of the columns.\n",
    "To do this in `datascience`, we use `tbl.relabel(old_name, new_name)`. \n",
    "Note that this operation in `datascience` is in place and modifies the original table."
   ]
  },
  {
   "cell_type": "code",
   "execution_count": null,
   "metadata": {
    "cell_id": "f1aa4f6c-60fd-40a0-96dc-74672483275d",
    "deepnote_cell_type": "code",
    "output_cleared": false,
    "tags": []
   },
   "outputs": [
    {
     "data": {
      "text/html": [
       "<table border=\"1\" class=\"dataframe\">\n",
       "    <thead>\n",
       "        <tr>\n",
       "            <th>Flavor</th> <th>Color</th> <th>Price per Cone</th>\n",
       "        </tr>\n",
       "    </thead>\n",
       "    <tbody>\n",
       "        <tr>\n",
       "            <td>strawberry</td> <td>pink       </td> <td>3.55          </td>\n",
       "        </tr>\n",
       "        <tr>\n",
       "            <td>chocolate </td> <td>light brown</td> <td>4.75          </td>\n",
       "        </tr>\n",
       "        <tr>\n",
       "            <td>chocolate </td> <td>dark brown </td> <td>5.25          </td>\n",
       "        </tr>\n",
       "        <tr>\n",
       "            <td>strawberry</td> <td>pink       </td> <td>5.25          </td>\n",
       "        </tr>\n",
       "        <tr>\n",
       "            <td>chocolate </td> <td>dark brown </td> <td>5.25          </td>\n",
       "        </tr>\n",
       "        <tr>\n",
       "            <td>bubblegum </td> <td>pink       </td> <td>4.75          </td>\n",
       "        </tr>\n",
       "    </tbody>\n",
       "</table>"
      ],
      "text/plain": [
       "Flavor     | Color       | Price per Cone\n",
       "strawberry | pink        | 3.55\n",
       "chocolate  | light brown | 4.75\n",
       "chocolate  | dark brown  | 5.25\n",
       "strawberry | pink        | 5.25\n",
       "chocolate  | dark brown  | 5.25\n",
       "bubblegum  | pink        | 4.75"
      ]
     },
     "execution_count": 16,
     "metadata": {},
     "output_type": "execute_result"
    }
   ],
   "source": [
    "cones_tbl.relabel(\"Price\", \"Price per Cone\")\n",
    "cones_tbl"
   ]
  },
  {
   "cell_type": "markdown",
   "metadata": {
    "cell_id": "fcb79c2e-5da3-41c3-a2cc-5a8a4087b38c",
    "deepnote_cell_type": "markdown",
    "output_cleared": false,
    "tags": []
   },
   "source": [
    "The function to do this with `pandas` is `df.rename`. Since you can also change the index of the rows with `df.rename`, \n",
    "we would also need to specify that we are changing the name of the columns. \n",
    "\n",
    "We do this by passing in a [dictionary](https://www.geeksforgeeks.org/python-dictionary/) to the `columns` parameter, where each key is the name of the old column name and the value corresponding to each key is the new column name.\n",
    "\n",
    "If you are interested in knowing more about `df.rename` and other ways to use it, you can check out the [documentation page](https://pandas.pydata.org/pandas-docs/stable/reference/api/pandas.DataFrame.rename.html)."
   ]
  },
  {
   "cell_type": "code",
   "execution_count": null,
   "metadata": {
    "cell_id": "9f114829-e96a-405a-b2c4-563922e45922",
    "deepnote_cell_type": "code",
    "output_cleared": false,
    "tags": []
   },
   "outputs": [
    {
     "data": {
      "application/vnd.deepnote.dataframe.v2+json": {
       "column_count": 3,
       "columns": [
        {
         "dtype": "object",
         "name": "Flavor",
         "stats": {
          "categories": [
           {
            "count": 3,
            "name": "chocolate"
           },
           {
            "count": 2,
            "name": "strawberry"
           },
           {
            "count": 1,
            "name": "bubblegum"
           }
          ],
          "nan_count": 0,
          "unique_count": 3
         }
        },
        {
         "dtype": "object",
         "name": "Color",
         "stats": {
          "categories": [
           {
            "count": 3,
            "name": "pink"
           },
           {
            "count": 2,
            "name": "dark brown"
           },
           {
            "count": 1,
            "name": "light brown"
           }
          ],
          "nan_count": 0,
          "unique_count": 3
         }
        },
        {
         "dtype": "float64",
         "name": "Price of one Cone",
         "stats": {
          "histogram": [
           {
            "bin_end": 3.7199999999999998,
            "bin_start": 3.55,
            "count": 1
           },
           {
            "bin_end": 3.8899999999999997,
            "bin_start": 3.7199999999999998,
            "count": 0
           },
           {
            "bin_end": 4.06,
            "bin_start": 3.8899999999999997,
            "count": 0
           },
           {
            "bin_end": 4.2299999999999995,
            "bin_start": 4.06,
            "count": 0
           },
           {
            "bin_end": 4.4,
            "bin_start": 4.2299999999999995,
            "count": 0
           },
           {
            "bin_end": 4.57,
            "bin_start": 4.4,
            "count": 0
           },
           {
            "bin_end": 4.74,
            "bin_start": 4.57,
            "count": 0
           },
           {
            "bin_end": 4.91,
            "bin_start": 4.74,
            "count": 2
           },
           {
            "bin_end": 5.08,
            "bin_start": 4.91,
            "count": 0
           },
           {
            "bin_end": 5.25,
            "bin_start": 5.08,
            "count": 3
           }
          ],
          "max": 5.25,
          "min": 3.55,
          "nan_count": 0,
          "unique_count": 3
         }
        },
        {
         "dtype": "int64",
         "name": "_deepnote_index_column"
        }
       ],
       "row_count": 6,
       "rows_bottom": null,
       "rows_top": [
        {
         "Color": "pink",
         "Flavor": "strawberry",
         "Price of one Cone": 3.55,
         "_deepnote_index_column": 0
        },
        {
         "Color": "light brown",
         "Flavor": "chocolate",
         "Price of one Cone": 4.75,
         "_deepnote_index_column": 1
        },
        {
         "Color": "dark brown",
         "Flavor": "chocolate",
         "Price of one Cone": 5.25,
         "_deepnote_index_column": 2
        },
        {
         "Color": "pink",
         "Flavor": "strawberry",
         "Price of one Cone": 5.25,
         "_deepnote_index_column": 3
        },
        {
         "Color": "dark brown",
         "Flavor": "chocolate",
         "Price of one Cone": 5.25,
         "_deepnote_index_column": 4
        },
        {
         "Color": "pink",
         "Flavor": "bubblegum",
         "Price of one Cone": 4.75,
         "_deepnote_index_column": 5
        }
       ]
      },
      "text/html": [
       "<div>\n",
       "<style scoped>\n",
       "    .dataframe tbody tr th:only-of-type {\n",
       "        vertical-align: middle;\n",
       "    }\n",
       "\n",
       "    .dataframe tbody tr th {\n",
       "        vertical-align: top;\n",
       "    }\n",
       "\n",
       "    .dataframe thead th {\n",
       "        text-align: right;\n",
       "    }\n",
       "</style>\n",
       "<table border=\"1\" class=\"dataframe\">\n",
       "  <thead>\n",
       "    <tr style=\"text-align: right;\">\n",
       "      <th></th>\n",
       "      <th>Flavor</th>\n",
       "      <th>Color</th>\n",
       "      <th>Price of one Cone</th>\n",
       "    </tr>\n",
       "  </thead>\n",
       "  <tbody>\n",
       "    <tr>\n",
       "      <th>0</th>\n",
       "      <td>strawberry</td>\n",
       "      <td>pink</td>\n",
       "      <td>3.55</td>\n",
       "    </tr>\n",
       "    <tr>\n",
       "      <th>1</th>\n",
       "      <td>chocolate</td>\n",
       "      <td>light brown</td>\n",
       "      <td>4.75</td>\n",
       "    </tr>\n",
       "    <tr>\n",
       "      <th>2</th>\n",
       "      <td>chocolate</td>\n",
       "      <td>dark brown</td>\n",
       "      <td>5.25</td>\n",
       "    </tr>\n",
       "    <tr>\n",
       "      <th>3</th>\n",
       "      <td>strawberry</td>\n",
       "      <td>pink</td>\n",
       "      <td>5.25</td>\n",
       "    </tr>\n",
       "    <tr>\n",
       "      <th>4</th>\n",
       "      <td>chocolate</td>\n",
       "      <td>dark brown</td>\n",
       "      <td>5.25</td>\n",
       "    </tr>\n",
       "    <tr>\n",
       "      <th>5</th>\n",
       "      <td>bubblegum</td>\n",
       "      <td>pink</td>\n",
       "      <td>4.75</td>\n",
       "    </tr>\n",
       "  </tbody>\n",
       "</table>\n",
       "</div>"
      ],
      "text/plain": [
       "       Flavor        Color  Price of one Cone\n",
       "0  strawberry         pink               3.55\n",
       "1   chocolate  light brown               4.75\n",
       "2   chocolate   dark brown               5.25\n",
       "3  strawberry         pink               5.25\n",
       "4   chocolate   dark brown               5.25\n",
       "5   bubblegum         pink               4.75"
      ]
     },
     "execution_count": 17,
     "metadata": {},
     "output_type": "execute_result"
    }
   ],
   "source": [
    "# rename the column \"Price\" by modifying the original dataframe\n",
    "cones_df.rename(columns={'Price':'Price of one Cone'}, inplace=True)\n",
    "cones_df"
   ]
  },
  {
   "cell_type": "markdown",
   "metadata": {
    "cell_id": "62b463a8-256c-48d5-b163-d6527b3291cd",
    "deepnote_cell_type": "markdown",
    "output_cleared": false,
    "tags": []
   },
   "source": [
    "With `pandas`, we can also specify the names of all columns with a single line of code. This is especially useful when the dataset\n",
    "you read in doesn't come with specified column names. "
   ]
  },
  {
   "cell_type": "code",
   "execution_count": null,
   "metadata": {
    "cell_id": "16b3fc92-23af-4839-b391-98cf9a6ab078",
    "deepnote_cell_type": "code",
    "output_cleared": false,
    "tags": []
   },
   "outputs": [
    {
     "data": {
      "application/vnd.deepnote.dataframe.v2+json": {
       "column_count": 3,
       "columns": [
        {
         "dtype": "object",
         "name": "Flavor",
         "stats": {
          "categories": [
           {
            "count": 3,
            "name": "chocolate"
           },
           {
            "count": 2,
            "name": "strawberry"
           },
           {
            "count": 1,
            "name": "bubblegum"
           }
          ],
          "nan_count": 0,
          "unique_count": 3
         }
        },
        {
         "dtype": "object",
         "name": "Color",
         "stats": {
          "categories": [
           {
            "count": 3,
            "name": "pink"
           },
           {
            "count": 2,
            "name": "dark brown"
           },
           {
            "count": 1,
            "name": "light brown"
           }
          ],
          "nan_count": 0,
          "unique_count": 3
         }
        },
        {
         "dtype": "float64",
         "name": "Price per Cone",
         "stats": {
          "histogram": [
           {
            "bin_end": 3.7199999999999998,
            "bin_start": 3.55,
            "count": 1
           },
           {
            "bin_end": 3.8899999999999997,
            "bin_start": 3.7199999999999998,
            "count": 0
           },
           {
            "bin_end": 4.06,
            "bin_start": 3.8899999999999997,
            "count": 0
           },
           {
            "bin_end": 4.2299999999999995,
            "bin_start": 4.06,
            "count": 0
           },
           {
            "bin_end": 4.4,
            "bin_start": 4.2299999999999995,
            "count": 0
           },
           {
            "bin_end": 4.57,
            "bin_start": 4.4,
            "count": 0
           },
           {
            "bin_end": 4.74,
            "bin_start": 4.57,
            "count": 0
           },
           {
            "bin_end": 4.91,
            "bin_start": 4.74,
            "count": 2
           },
           {
            "bin_end": 5.08,
            "bin_start": 4.91,
            "count": 0
           },
           {
            "bin_end": 5.25,
            "bin_start": 5.08,
            "count": 3
           }
          ],
          "max": 5.25,
          "min": 3.55,
          "nan_count": 0,
          "unique_count": 3
         }
        },
        {
         "dtype": "int64",
         "name": "_deepnote_index_column"
        }
       ],
       "row_count": 6,
       "rows_bottom": null,
       "rows_top": [
        {
         "Color": "pink",
         "Flavor": "strawberry",
         "Price per Cone": 3.55,
         "_deepnote_index_column": 0
        },
        {
         "Color": "light brown",
         "Flavor": "chocolate",
         "Price per Cone": 4.75,
         "_deepnote_index_column": 1
        },
        {
         "Color": "dark brown",
         "Flavor": "chocolate",
         "Price per Cone": 5.25,
         "_deepnote_index_column": 2
        },
        {
         "Color": "pink",
         "Flavor": "strawberry",
         "Price per Cone": 5.25,
         "_deepnote_index_column": 3
        },
        {
         "Color": "dark brown",
         "Flavor": "chocolate",
         "Price per Cone": 5.25,
         "_deepnote_index_column": 4
        },
        {
         "Color": "pink",
         "Flavor": "bubblegum",
         "Price per Cone": 4.75,
         "_deepnote_index_column": 5
        }
       ]
      },
      "text/html": [
       "<div>\n",
       "<style scoped>\n",
       "    .dataframe tbody tr th:only-of-type {\n",
       "        vertical-align: middle;\n",
       "    }\n",
       "\n",
       "    .dataframe tbody tr th {\n",
       "        vertical-align: top;\n",
       "    }\n",
       "\n",
       "    .dataframe thead th {\n",
       "        text-align: right;\n",
       "    }\n",
       "</style>\n",
       "<table border=\"1\" class=\"dataframe\">\n",
       "  <thead>\n",
       "    <tr style=\"text-align: right;\">\n",
       "      <th></th>\n",
       "      <th>Flavor</th>\n",
       "      <th>Color</th>\n",
       "      <th>Price per Cone</th>\n",
       "    </tr>\n",
       "  </thead>\n",
       "  <tbody>\n",
       "    <tr>\n",
       "      <th>0</th>\n",
       "      <td>strawberry</td>\n",
       "      <td>pink</td>\n",
       "      <td>3.55</td>\n",
       "    </tr>\n",
       "    <tr>\n",
       "      <th>1</th>\n",
       "      <td>chocolate</td>\n",
       "      <td>light brown</td>\n",
       "      <td>4.75</td>\n",
       "    </tr>\n",
       "    <tr>\n",
       "      <th>2</th>\n",
       "      <td>chocolate</td>\n",
       "      <td>dark brown</td>\n",
       "      <td>5.25</td>\n",
       "    </tr>\n",
       "    <tr>\n",
       "      <th>3</th>\n",
       "      <td>strawberry</td>\n",
       "      <td>pink</td>\n",
       "      <td>5.25</td>\n",
       "    </tr>\n",
       "    <tr>\n",
       "      <th>4</th>\n",
       "      <td>chocolate</td>\n",
       "      <td>dark brown</td>\n",
       "      <td>5.25</td>\n",
       "    </tr>\n",
       "    <tr>\n",
       "      <th>5</th>\n",
       "      <td>bubblegum</td>\n",
       "      <td>pink</td>\n",
       "      <td>4.75</td>\n",
       "    </tr>\n",
       "  </tbody>\n",
       "</table>\n",
       "</div>"
      ],
      "text/plain": [
       "       Flavor        Color  Price per Cone\n",
       "0  strawberry         pink            3.55\n",
       "1   chocolate  light brown            4.75\n",
       "2   chocolate   dark brown            5.25\n",
       "3  strawberry         pink            5.25\n",
       "4   chocolate   dark brown            5.25\n",
       "5   bubblegum         pink            4.75"
      ]
     },
     "execution_count": 18,
     "metadata": {},
     "output_type": "execute_result"
    }
   ],
   "source": [
    "# change all column labels of cones_df\n",
    "cones_df.columns = [\"Flavor\", \"Color\", \"Price per Cone\"]\n",
    "cones_df"
   ]
  },
  {
   "cell_type": "markdown",
   "metadata": {
    "cell_id": "8956c4d6-b40d-4c68-9cbb-5c9c1fb50f52",
    "deepnote_cell_type": "markdown",
    "output_cleared": false,
    "tags": []
   },
   "source": [
    "With the same `df.columns` command, we can also specify which column name we want to change by doing `df.columns.values[col_index] = new_col_name`.\n"
   ]
  },
  {
   "cell_type": "code",
   "execution_count": null,
   "metadata": {
    "cell_id": "de56e24e-412e-4e83-a0e2-dad59aa16c8b",
    "deepnote_cell_type": "code",
    "output_cleared": false,
    "tags": []
   },
   "outputs": [
    {
     "data": {
      "text/plain": [
       "Index(['Flavor', 'Color', 'Price per Cone'], dtype='object')"
      ]
     },
     "execution_count": 19,
     "metadata": {},
     "output_type": "execute_result"
    }
   ],
   "source": [
    "# lists all column labels of cones_df\n",
    "cones_df.columns"
   ]
  },
  {
   "cell_type": "markdown",
   "metadata": {
    "cell_id": "1cb14056-6021-4b81-baef-bf84d424df67",
    "deepnote_cell_type": "markdown",
    "output_cleared": false,
    "tags": []
   },
   "source": [
    "## Sorting Columns "
   ]
  },
  {
   "cell_type": "markdown",
   "metadata": {
    "cell_id": "5a9a0700-06be-420f-8eb8-23d8a337adcd",
    "deepnote_cell_type": "markdown",
    "output_cleared": false,
    "tags": []
   },
   "source": [
    "What if we want to know the flavor of the most expensive ice-cream? In this case we would like to sort the table by the \"Price per Cone\" column.\n",
    "To do this in `datascience`, we need to use `tbl.sort(col_name)`. The default sorting order in `tbl.sort(col_name)` is `descending = False`,\n",
    "returning a table where the lowest value is on the top. "
   ]
  },
  {
   "cell_type": "code",
   "execution_count": null,
   "metadata": {
    "cell_id": "3bf89249-3f3d-47fa-bc7f-3337865421bc",
    "deepnote_cell_type": "code",
    "output_cleared": false,
    "tags": []
   },
   "outputs": [
    {
     "data": {
      "text/html": [
       "<table border=\"1\" class=\"dataframe\">\n",
       "    <thead>\n",
       "        <tr>\n",
       "            <th>Flavor</th> <th>Color</th> <th>Price per Cone</th>\n",
       "        </tr>\n",
       "    </thead>\n",
       "    <tbody>\n",
       "        <tr>\n",
       "            <td>strawberry</td> <td>pink       </td> <td>3.55          </td>\n",
       "        </tr>\n",
       "        <tr>\n",
       "            <td>chocolate </td> <td>light brown</td> <td>4.75          </td>\n",
       "        </tr>\n",
       "        <tr>\n",
       "            <td>bubblegum </td> <td>pink       </td> <td>4.75          </td>\n",
       "        </tr>\n",
       "        <tr>\n",
       "            <td>chocolate </td> <td>dark brown </td> <td>5.25          </td>\n",
       "        </tr>\n",
       "        <tr>\n",
       "            <td>strawberry</td> <td>pink       </td> <td>5.25          </td>\n",
       "        </tr>\n",
       "        <tr>\n",
       "            <td>chocolate </td> <td>dark brown </td> <td>5.25          </td>\n",
       "        </tr>\n",
       "    </tbody>\n",
       "</table>"
      ],
      "text/plain": [
       "Flavor     | Color       | Price per Cone\n",
       "strawberry | pink        | 3.55\n",
       "chocolate  | light brown | 4.75\n",
       "bubblegum  | pink        | 4.75\n",
       "chocolate  | dark brown  | 5.25\n",
       "strawberry | pink        | 5.25\n",
       "chocolate  | dark brown  | 5.25"
      ]
     },
     "execution_count": 20,
     "metadata": {},
     "output_type": "execute_result"
    }
   ],
   "source": [
    "# sorts the table by \"Price per Cone\", with the default descending = False (ascending)\n",
    "cones_tbl.sort(\"Price per Cone\")"
   ]
  },
  {
   "cell_type": "markdown",
   "metadata": {
    "cell_id": "add79b59-7b23-48d6-83f8-fade36cff86b",
    "deepnote_cell_type": "markdown",
    "output_cleared": false,
    "tags": []
   },
   "source": [
    "Notice that the `tbl.sort` function does not operate in place and does not make changes to the original table. "
   ]
  },
  {
   "cell_type": "code",
   "execution_count": null,
   "metadata": {
    "cell_id": "dff13937-33d8-4151-8596-6e65f79d5586",
    "deepnote_cell_type": "code",
    "output_cleared": false,
    "tags": []
   },
   "outputs": [
    {
     "data": {
      "text/html": [
       "<table border=\"1\" class=\"dataframe\">\n",
       "    <thead>\n",
       "        <tr>\n",
       "            <th>Flavor</th> <th>Color</th> <th>Price per Cone</th>\n",
       "        </tr>\n",
       "    </thead>\n",
       "    <tbody>\n",
       "        <tr>\n",
       "            <td>strawberry</td> <td>pink       </td> <td>3.55          </td>\n",
       "        </tr>\n",
       "        <tr>\n",
       "            <td>chocolate </td> <td>light brown</td> <td>4.75          </td>\n",
       "        </tr>\n",
       "        <tr>\n",
       "            <td>chocolate </td> <td>dark brown </td> <td>5.25          </td>\n",
       "        </tr>\n",
       "        <tr>\n",
       "            <td>strawberry</td> <td>pink       </td> <td>5.25          </td>\n",
       "        </tr>\n",
       "        <tr>\n",
       "            <td>chocolate </td> <td>dark brown </td> <td>5.25          </td>\n",
       "        </tr>\n",
       "        <tr>\n",
       "            <td>bubblegum </td> <td>pink       </td> <td>4.75          </td>\n",
       "        </tr>\n",
       "    </tbody>\n",
       "</table>"
      ],
      "text/plain": [
       "Flavor     | Color       | Price per Cone\n",
       "strawberry | pink        | 3.55\n",
       "chocolate  | light brown | 4.75\n",
       "chocolate  | dark brown  | 5.25\n",
       "strawberry | pink        | 5.25\n",
       "chocolate  | dark brown  | 5.25\n",
       "bubblegum  | pink        | 4.75"
      ]
     },
     "execution_count": 21,
     "metadata": {},
     "output_type": "execute_result"
    }
   ],
   "source": [
    "cones_tbl"
   ]
  },
  {
   "cell_type": "code",
   "execution_count": null,
   "metadata": {
    "cell_id": "57f8cc15-c37f-49e7-9667-98adc754b851",
    "deepnote_cell_type": "code",
    "output_cleared": false,
    "tags": []
   },
   "outputs": [
    {
     "data": {
      "text/html": [
       "<table border=\"1\" class=\"dataframe\">\n",
       "    <thead>\n",
       "        <tr>\n",
       "            <th>Flavor</th> <th>Color</th> <th>Price per Cone</th>\n",
       "        </tr>\n",
       "    </thead>\n",
       "    <tbody>\n",
       "        <tr>\n",
       "            <td>strawberry</td> <td>pink       </td> <td>3.55          </td>\n",
       "        </tr>\n",
       "        <tr>\n",
       "            <td>chocolate </td> <td>light brown</td> <td>4.75          </td>\n",
       "        </tr>\n",
       "        <tr>\n",
       "            <td>bubblegum </td> <td>pink       </td> <td>4.75          </td>\n",
       "        </tr>\n",
       "        <tr>\n",
       "            <td>chocolate </td> <td>dark brown </td> <td>5.25          </td>\n",
       "        </tr>\n",
       "        <tr>\n",
       "            <td>strawberry</td> <td>pink       </td> <td>5.25          </td>\n",
       "        </tr>\n",
       "        <tr>\n",
       "            <td>chocolate </td> <td>dark brown </td> <td>5.25          </td>\n",
       "        </tr>\n",
       "    </tbody>\n",
       "</table>"
      ],
      "text/plain": [
       "Flavor     | Color       | Price per Cone\n",
       "strawberry | pink        | 3.55\n",
       "chocolate  | light brown | 4.75\n",
       "bubblegum  | pink        | 4.75\n",
       "chocolate  | dark brown  | 5.25\n",
       "strawberry | pink        | 5.25\n",
       "chocolate  | dark brown  | 5.25"
      ]
     },
     "execution_count": 22,
     "metadata": {},
     "output_type": "execute_result"
    }
   ],
   "source": [
    "# to change the orignal table, we need to set the new sorted table to the old table\n",
    "cones_tbl_sorted = cones_tbl.sort(\"Price per Cone\")\n",
    "cones_tbl_sorted"
   ]
  },
  {
   "cell_type": "markdown",
   "metadata": {
    "cell_id": "17d09974-ee14-438e-b163-7bd7e32f4434",
    "deepnote_cell_type": "markdown",
    "output_cleared": false,
    "tags": []
   },
   "source": [
    "[`df.sort_values`](https://pandas.pydata.org/pandas-docs/stable/reference/api/pandas.DataFrame.sort_values.html) is the function in `pandas` that sorts the dataframe by a specified column. \n",
    "One major difference between this function and `tbl.sort(col_name)` is that although both functions default to sorting with ascending order, \n",
    "the argument to specify sorting order with `df.sort_values` is `ascending = True/False`. By default, `pandas` sets `ascending=True`."
   ]
  },
  {
   "cell_type": "code",
   "execution_count": null,
   "metadata": {
    "cell_id": "b1baf974-9219-48de-9c23-9633858e8325",
    "deepnote_cell_type": "code",
    "output_cleared": false,
    "tags": []
   },
   "outputs": [
    {
     "data": {
      "application/vnd.deepnote.dataframe.v2+json": {
       "column_count": 3,
       "columns": [
        {
         "dtype": "object",
         "name": "Flavor",
         "stats": {
          "categories": [
           {
            "count": 3,
            "name": "chocolate"
           },
           {
            "count": 2,
            "name": "strawberry"
           },
           {
            "count": 1,
            "name": "bubblegum"
           }
          ],
          "nan_count": 0,
          "unique_count": 3
         }
        },
        {
         "dtype": "object",
         "name": "Color",
         "stats": {
          "categories": [
           {
            "count": 3,
            "name": "pink"
           },
           {
            "count": 2,
            "name": "dark brown"
           },
           {
            "count": 1,
            "name": "light brown"
           }
          ],
          "nan_count": 0,
          "unique_count": 3
         }
        },
        {
         "dtype": "float64",
         "name": "Price per Cone",
         "stats": {
          "histogram": [
           {
            "bin_end": 3.7199999999999998,
            "bin_start": 3.55,
            "count": 1
           },
           {
            "bin_end": 3.8899999999999997,
            "bin_start": 3.7199999999999998,
            "count": 0
           },
           {
            "bin_end": 4.06,
            "bin_start": 3.8899999999999997,
            "count": 0
           },
           {
            "bin_end": 4.2299999999999995,
            "bin_start": 4.06,
            "count": 0
           },
           {
            "bin_end": 4.4,
            "bin_start": 4.2299999999999995,
            "count": 0
           },
           {
            "bin_end": 4.57,
            "bin_start": 4.4,
            "count": 0
           },
           {
            "bin_end": 4.74,
            "bin_start": 4.57,
            "count": 0
           },
           {
            "bin_end": 4.91,
            "bin_start": 4.74,
            "count": 2
           },
           {
            "bin_end": 5.08,
            "bin_start": 4.91,
            "count": 0
           },
           {
            "bin_end": 5.25,
            "bin_start": 5.08,
            "count": 3
           }
          ],
          "max": 5.25,
          "min": 3.55,
          "nan_count": 0,
          "unique_count": 3
         }
        },
        {
         "dtype": "int64",
         "name": "_deepnote_index_column"
        }
       ],
       "row_count": 6,
       "rows_bottom": null,
       "rows_top": [
        {
         "Color": "pink",
         "Flavor": "strawberry",
         "Price per Cone": 3.55,
         "_deepnote_index_column": 0
        },
        {
         "Color": "light brown",
         "Flavor": "chocolate",
         "Price per Cone": 4.75,
         "_deepnote_index_column": 1
        },
        {
         "Color": "pink",
         "Flavor": "bubblegum",
         "Price per Cone": 4.75,
         "_deepnote_index_column": 5
        },
        {
         "Color": "dark brown",
         "Flavor": "chocolate",
         "Price per Cone": 5.25,
         "_deepnote_index_column": 2
        },
        {
         "Color": "pink",
         "Flavor": "strawberry",
         "Price per Cone": 5.25,
         "_deepnote_index_column": 3
        },
        {
         "Color": "dark brown",
         "Flavor": "chocolate",
         "Price per Cone": 5.25,
         "_deepnote_index_column": 4
        }
       ]
      },
      "text/html": [
       "<div>\n",
       "<style scoped>\n",
       "    .dataframe tbody tr th:only-of-type {\n",
       "        vertical-align: middle;\n",
       "    }\n",
       "\n",
       "    .dataframe tbody tr th {\n",
       "        vertical-align: top;\n",
       "    }\n",
       "\n",
       "    .dataframe thead th {\n",
       "        text-align: right;\n",
       "    }\n",
       "</style>\n",
       "<table border=\"1\" class=\"dataframe\">\n",
       "  <thead>\n",
       "    <tr style=\"text-align: right;\">\n",
       "      <th></th>\n",
       "      <th>Flavor</th>\n",
       "      <th>Color</th>\n",
       "      <th>Price per Cone</th>\n",
       "    </tr>\n",
       "  </thead>\n",
       "  <tbody>\n",
       "    <tr>\n",
       "      <th>0</th>\n",
       "      <td>strawberry</td>\n",
       "      <td>pink</td>\n",
       "      <td>3.55</td>\n",
       "    </tr>\n",
       "    <tr>\n",
       "      <th>1</th>\n",
       "      <td>chocolate</td>\n",
       "      <td>light brown</td>\n",
       "      <td>4.75</td>\n",
       "    </tr>\n",
       "    <tr>\n",
       "      <th>5</th>\n",
       "      <td>bubblegum</td>\n",
       "      <td>pink</td>\n",
       "      <td>4.75</td>\n",
       "    </tr>\n",
       "    <tr>\n",
       "      <th>2</th>\n",
       "      <td>chocolate</td>\n",
       "      <td>dark brown</td>\n",
       "      <td>5.25</td>\n",
       "    </tr>\n",
       "    <tr>\n",
       "      <th>3</th>\n",
       "      <td>strawberry</td>\n",
       "      <td>pink</td>\n",
       "      <td>5.25</td>\n",
       "    </tr>\n",
       "    <tr>\n",
       "      <th>4</th>\n",
       "      <td>chocolate</td>\n",
       "      <td>dark brown</td>\n",
       "      <td>5.25</td>\n",
       "    </tr>\n",
       "  </tbody>\n",
       "</table>\n",
       "</div>"
      ],
      "text/plain": [
       "       Flavor        Color  Price per Cone\n",
       "0  strawberry         pink            3.55\n",
       "1   chocolate  light brown            4.75\n",
       "5   bubblegum         pink            4.75\n",
       "2   chocolate   dark brown            5.25\n",
       "3  strawberry         pink            5.25\n",
       "4   chocolate   dark brown            5.25"
      ]
     },
     "execution_count": 23,
     "metadata": {},
     "output_type": "execute_result"
    }
   ],
   "source": [
    "# sorts cones_df in ascending order of 'Price per Cone'\n",
    "cones_df.sort_values(\"Price per Cone\")"
   ]
  },
  {
   "cell_type": "code",
   "execution_count": null,
   "metadata": {
    "cell_id": "228322b6-8781-4d09-8dbb-e5ad59469979",
    "deepnote_cell_type": "code",
    "output_cleared": false,
    "tags": []
   },
   "outputs": [
    {
     "data": {
      "application/vnd.deepnote.dataframe.v2+json": {
       "column_count": 3,
       "columns": [
        {
         "dtype": "object",
         "name": "Flavor",
         "stats": {
          "categories": [
           {
            "count": 3,
            "name": "chocolate"
           },
           {
            "count": 2,
            "name": "strawberry"
           },
           {
            "count": 1,
            "name": "bubblegum"
           }
          ],
          "nan_count": 0,
          "unique_count": 3
         }
        },
        {
         "dtype": "object",
         "name": "Color",
         "stats": {
          "categories": [
           {
            "count": 3,
            "name": "pink"
           },
           {
            "count": 2,
            "name": "dark brown"
           },
           {
            "count": 1,
            "name": "light brown"
           }
          ],
          "nan_count": 0,
          "unique_count": 3
         }
        },
        {
         "dtype": "float64",
         "name": "Price per Cone",
         "stats": {
          "histogram": [
           {
            "bin_end": 3.7199999999999998,
            "bin_start": 3.55,
            "count": 1
           },
           {
            "bin_end": 3.8899999999999997,
            "bin_start": 3.7199999999999998,
            "count": 0
           },
           {
            "bin_end": 4.06,
            "bin_start": 3.8899999999999997,
            "count": 0
           },
           {
            "bin_end": 4.2299999999999995,
            "bin_start": 4.06,
            "count": 0
           },
           {
            "bin_end": 4.4,
            "bin_start": 4.2299999999999995,
            "count": 0
           },
           {
            "bin_end": 4.57,
            "bin_start": 4.4,
            "count": 0
           },
           {
            "bin_end": 4.74,
            "bin_start": 4.57,
            "count": 0
           },
           {
            "bin_end": 4.91,
            "bin_start": 4.74,
            "count": 2
           },
           {
            "bin_end": 5.08,
            "bin_start": 4.91,
            "count": 0
           },
           {
            "bin_end": 5.25,
            "bin_start": 5.08,
            "count": 3
           }
          ],
          "max": 5.25,
          "min": 3.55,
          "nan_count": 0,
          "unique_count": 3
         }
        },
        {
         "dtype": "int64",
         "name": "_deepnote_index_column"
        }
       ],
       "row_count": 6,
       "rows_bottom": null,
       "rows_top": [
        {
         "Color": "dark brown",
         "Flavor": "chocolate",
         "Price per Cone": 5.25,
         "_deepnote_index_column": 2
        },
        {
         "Color": "pink",
         "Flavor": "strawberry",
         "Price per Cone": 5.25,
         "_deepnote_index_column": 3
        },
        {
         "Color": "dark brown",
         "Flavor": "chocolate",
         "Price per Cone": 5.25,
         "_deepnote_index_column": 4
        },
        {
         "Color": "light brown",
         "Flavor": "chocolate",
         "Price per Cone": 4.75,
         "_deepnote_index_column": 1
        },
        {
         "Color": "pink",
         "Flavor": "bubblegum",
         "Price per Cone": 4.75,
         "_deepnote_index_column": 5
        },
        {
         "Color": "pink",
         "Flavor": "strawberry",
         "Price per Cone": 3.55,
         "_deepnote_index_column": 0
        }
       ]
      },
      "text/html": [
       "<div>\n",
       "<style scoped>\n",
       "    .dataframe tbody tr th:only-of-type {\n",
       "        vertical-align: middle;\n",
       "    }\n",
       "\n",
       "    .dataframe tbody tr th {\n",
       "        vertical-align: top;\n",
       "    }\n",
       "\n",
       "    .dataframe thead th {\n",
       "        text-align: right;\n",
       "    }\n",
       "</style>\n",
       "<table border=\"1\" class=\"dataframe\">\n",
       "  <thead>\n",
       "    <tr style=\"text-align: right;\">\n",
       "      <th></th>\n",
       "      <th>Flavor</th>\n",
       "      <th>Color</th>\n",
       "      <th>Price per Cone</th>\n",
       "    </tr>\n",
       "  </thead>\n",
       "  <tbody>\n",
       "    <tr>\n",
       "      <th>2</th>\n",
       "      <td>chocolate</td>\n",
       "      <td>dark brown</td>\n",
       "      <td>5.25</td>\n",
       "    </tr>\n",
       "    <tr>\n",
       "      <th>3</th>\n",
       "      <td>strawberry</td>\n",
       "      <td>pink</td>\n",
       "      <td>5.25</td>\n",
       "    </tr>\n",
       "    <tr>\n",
       "      <th>4</th>\n",
       "      <td>chocolate</td>\n",
       "      <td>dark brown</td>\n",
       "      <td>5.25</td>\n",
       "    </tr>\n",
       "    <tr>\n",
       "      <th>1</th>\n",
       "      <td>chocolate</td>\n",
       "      <td>light brown</td>\n",
       "      <td>4.75</td>\n",
       "    </tr>\n",
       "    <tr>\n",
       "      <th>5</th>\n",
       "      <td>bubblegum</td>\n",
       "      <td>pink</td>\n",
       "      <td>4.75</td>\n",
       "    </tr>\n",
       "    <tr>\n",
       "      <th>0</th>\n",
       "      <td>strawberry</td>\n",
       "      <td>pink</td>\n",
       "      <td>3.55</td>\n",
       "    </tr>\n",
       "  </tbody>\n",
       "</table>\n",
       "</div>"
      ],
      "text/plain": [
       "       Flavor        Color  Price per Cone\n",
       "2   chocolate   dark brown            5.25\n",
       "3  strawberry         pink            5.25\n",
       "4   chocolate   dark brown            5.25\n",
       "1   chocolate  light brown            4.75\n",
       "5   bubblegum         pink            4.75\n",
       "0  strawberry         pink            3.55"
      ]
     },
     "execution_count": 24,
     "metadata": {},
     "output_type": "execute_result"
    }
   ],
   "source": [
    "# sorts cones_df in descending order of 'Price per Cone'\n",
    "cones_df.sort_values(\"Price per Cone\", ascending = False)"
   ]
  },
  {
   "cell_type": "markdown",
   "metadata": {
    "cell_id": "33388a9c-3f69-411f-a939-34880c3c3a60",
    "deepnote_cell_type": "markdown",
    "output_cleared": false,
    "tags": []
   },
   "source": [
    "Similar to `tbl.sort(col_name)`, there is also an `inplace` argument to edit the original dataframe. "
   ]
  },
  {
   "cell_type": "code",
   "execution_count": null,
   "metadata": {
    "cell_id": "e2503f4f-7a23-4ffd-879a-18c4e26b6ab6",
    "deepnote_cell_type": "code",
    "output_cleared": false,
    "tags": []
   },
   "outputs": [
    {
     "data": {
      "application/vnd.deepnote.dataframe.v2+json": {
       "column_count": 3,
       "columns": [
        {
         "dtype": "object",
         "name": "Flavor",
         "stats": {
          "categories": [
           {
            "count": 3,
            "name": "chocolate"
           },
           {
            "count": 2,
            "name": "strawberry"
           },
           {
            "count": 1,
            "name": "bubblegum"
           }
          ],
          "nan_count": 0,
          "unique_count": 3
         }
        },
        {
         "dtype": "object",
         "name": "Color",
         "stats": {
          "categories": [
           {
            "count": 3,
            "name": "pink"
           },
           {
            "count": 2,
            "name": "dark brown"
           },
           {
            "count": 1,
            "name": "light brown"
           }
          ],
          "nan_count": 0,
          "unique_count": 3
         }
        },
        {
         "dtype": "float64",
         "name": "Price per Cone",
         "stats": {
          "histogram": [
           {
            "bin_end": 3.7199999999999998,
            "bin_start": 3.55,
            "count": 1
           },
           {
            "bin_end": 3.8899999999999997,
            "bin_start": 3.7199999999999998,
            "count": 0
           },
           {
            "bin_end": 4.06,
            "bin_start": 3.8899999999999997,
            "count": 0
           },
           {
            "bin_end": 4.2299999999999995,
            "bin_start": 4.06,
            "count": 0
           },
           {
            "bin_end": 4.4,
            "bin_start": 4.2299999999999995,
            "count": 0
           },
           {
            "bin_end": 4.57,
            "bin_start": 4.4,
            "count": 0
           },
           {
            "bin_end": 4.74,
            "bin_start": 4.57,
            "count": 0
           },
           {
            "bin_end": 4.91,
            "bin_start": 4.74,
            "count": 2
           },
           {
            "bin_end": 5.08,
            "bin_start": 4.91,
            "count": 0
           },
           {
            "bin_end": 5.25,
            "bin_start": 5.08,
            "count": 3
           }
          ],
          "max": 5.25,
          "min": 3.55,
          "nan_count": 0,
          "unique_count": 3
         }
        },
        {
         "dtype": "int64",
         "name": "_deepnote_index_column"
        }
       ],
       "row_count": 6,
       "rows_bottom": null,
       "rows_top": [
        {
         "Color": "dark brown",
         "Flavor": "chocolate",
         "Price per Cone": 5.25,
         "_deepnote_index_column": 2
        },
        {
         "Color": "pink",
         "Flavor": "strawberry",
         "Price per Cone": 5.25,
         "_deepnote_index_column": 3
        },
        {
         "Color": "dark brown",
         "Flavor": "chocolate",
         "Price per Cone": 5.25,
         "_deepnote_index_column": 4
        },
        {
         "Color": "light brown",
         "Flavor": "chocolate",
         "Price per Cone": 4.75,
         "_deepnote_index_column": 1
        },
        {
         "Color": "pink",
         "Flavor": "bubblegum",
         "Price per Cone": 4.75,
         "_deepnote_index_column": 5
        },
        {
         "Color": "pink",
         "Flavor": "strawberry",
         "Price per Cone": 3.55,
         "_deepnote_index_column": 0
        }
       ]
      },
      "text/html": [
       "<div>\n",
       "<style scoped>\n",
       "    .dataframe tbody tr th:only-of-type {\n",
       "        vertical-align: middle;\n",
       "    }\n",
       "\n",
       "    .dataframe tbody tr th {\n",
       "        vertical-align: top;\n",
       "    }\n",
       "\n",
       "    .dataframe thead th {\n",
       "        text-align: right;\n",
       "    }\n",
       "</style>\n",
       "<table border=\"1\" class=\"dataframe\">\n",
       "  <thead>\n",
       "    <tr style=\"text-align: right;\">\n",
       "      <th></th>\n",
       "      <th>Flavor</th>\n",
       "      <th>Color</th>\n",
       "      <th>Price per Cone</th>\n",
       "    </tr>\n",
       "  </thead>\n",
       "  <tbody>\n",
       "    <tr>\n",
       "      <th>2</th>\n",
       "      <td>chocolate</td>\n",
       "      <td>dark brown</td>\n",
       "      <td>5.25</td>\n",
       "    </tr>\n",
       "    <tr>\n",
       "      <th>3</th>\n",
       "      <td>strawberry</td>\n",
       "      <td>pink</td>\n",
       "      <td>5.25</td>\n",
       "    </tr>\n",
       "    <tr>\n",
       "      <th>4</th>\n",
       "      <td>chocolate</td>\n",
       "      <td>dark brown</td>\n",
       "      <td>5.25</td>\n",
       "    </tr>\n",
       "    <tr>\n",
       "      <th>1</th>\n",
       "      <td>chocolate</td>\n",
       "      <td>light brown</td>\n",
       "      <td>4.75</td>\n",
       "    </tr>\n",
       "    <tr>\n",
       "      <th>5</th>\n",
       "      <td>bubblegum</td>\n",
       "      <td>pink</td>\n",
       "      <td>4.75</td>\n",
       "    </tr>\n",
       "    <tr>\n",
       "      <th>0</th>\n",
       "      <td>strawberry</td>\n",
       "      <td>pink</td>\n",
       "      <td>3.55</td>\n",
       "    </tr>\n",
       "  </tbody>\n",
       "</table>\n",
       "</div>"
      ],
      "text/plain": [
       "       Flavor        Color  Price per Cone\n",
       "2   chocolate   dark brown            5.25\n",
       "3  strawberry         pink            5.25\n",
       "4   chocolate   dark brown            5.25\n",
       "1   chocolate  light brown            4.75\n",
       "5   bubblegum         pink            4.75\n",
       "0  strawberry         pink            3.55"
      ]
     },
     "execution_count": 25,
     "metadata": {},
     "output_type": "execute_result"
    }
   ],
   "source": [
    "# modify cones_df by sorting it in descending order of 'Price per Cone'\n",
    "cones_df.sort_values(\"Price per Cone\", ascending = False, inplace = True)\n",
    "cones_df"
   ]
  },
  {
   "cell_type": "markdown",
   "metadata": {
    "cell_id": "c2b081ed-a2b6-47f3-bdc1-2b80cc4dec30",
    "deepnote_cell_type": "markdown",
    "output_cleared": false
   },
   "source": [
    "We can also sort a table by its index using [`sort_index`](https://pandas.pydata.org/pandas-docs/stable/reference/api/pandas.DataFrame.sort_index.html). The function works very similarly as `sort_values`, but does not require us to pass in a column since we are sorting the index."
   ]
  },
  {
   "cell_type": "code",
   "execution_count": null,
   "metadata": {
    "cell_id": "4d97d071-0c4a-49a1-b5a0-f927e26bc158",
    "deepnote_cell_type": "code",
    "output_cleared": false
   },
   "outputs": [
    {
     "data": {
      "application/vnd.deepnote.dataframe.v2+json": {
       "column_count": 3,
       "columns": [
        {
         "dtype": "object",
         "name": "Flavor",
         "stats": {
          "categories": [
           {
            "count": 3,
            "name": "chocolate"
           },
           {
            "count": 2,
            "name": "strawberry"
           },
           {
            "count": 1,
            "name": "bubblegum"
           }
          ],
          "nan_count": 0,
          "unique_count": 3
         }
        },
        {
         "dtype": "object",
         "name": "Color",
         "stats": {
          "categories": [
           {
            "count": 3,
            "name": "pink"
           },
           {
            "count": 2,
            "name": "dark brown"
           },
           {
            "count": 1,
            "name": "light brown"
           }
          ],
          "nan_count": 0,
          "unique_count": 3
         }
        },
        {
         "dtype": "float64",
         "name": "Price per Cone",
         "stats": {
          "histogram": [
           {
            "bin_end": 3.7199999999999998,
            "bin_start": 3.55,
            "count": 1
           },
           {
            "bin_end": 3.8899999999999997,
            "bin_start": 3.7199999999999998,
            "count": 0
           },
           {
            "bin_end": 4.06,
            "bin_start": 3.8899999999999997,
            "count": 0
           },
           {
            "bin_end": 4.2299999999999995,
            "bin_start": 4.06,
            "count": 0
           },
           {
            "bin_end": 4.4,
            "bin_start": 4.2299999999999995,
            "count": 0
           },
           {
            "bin_end": 4.57,
            "bin_start": 4.4,
            "count": 0
           },
           {
            "bin_end": 4.74,
            "bin_start": 4.57,
            "count": 0
           },
           {
            "bin_end": 4.91,
            "bin_start": 4.74,
            "count": 2
           },
           {
            "bin_end": 5.08,
            "bin_start": 4.91,
            "count": 0
           },
           {
            "bin_end": 5.25,
            "bin_start": 5.08,
            "count": 3
           }
          ],
          "max": 5.25,
          "min": 3.55,
          "nan_count": 0,
          "unique_count": 3
         }
        },
        {
         "dtype": "int64",
         "name": "_deepnote_index_column"
        }
       ],
       "row_count": 6,
       "rows_bottom": null,
       "rows_top": [
        {
         "Color": "pink",
         "Flavor": "strawberry",
         "Price per Cone": 3.55,
         "_deepnote_index_column": 0
        },
        {
         "Color": "light brown",
         "Flavor": "chocolate",
         "Price per Cone": 4.75,
         "_deepnote_index_column": 1
        },
        {
         "Color": "dark brown",
         "Flavor": "chocolate",
         "Price per Cone": 5.25,
         "_deepnote_index_column": 2
        },
        {
         "Color": "pink",
         "Flavor": "strawberry",
         "Price per Cone": 5.25,
         "_deepnote_index_column": 3
        },
        {
         "Color": "dark brown",
         "Flavor": "chocolate",
         "Price per Cone": 5.25,
         "_deepnote_index_column": 4
        },
        {
         "Color": "pink",
         "Flavor": "bubblegum",
         "Price per Cone": 4.75,
         "_deepnote_index_column": 5
        }
       ]
      },
      "text/html": [
       "<div>\n",
       "<style scoped>\n",
       "    .dataframe tbody tr th:only-of-type {\n",
       "        vertical-align: middle;\n",
       "    }\n",
       "\n",
       "    .dataframe tbody tr th {\n",
       "        vertical-align: top;\n",
       "    }\n",
       "\n",
       "    .dataframe thead th {\n",
       "        text-align: right;\n",
       "    }\n",
       "</style>\n",
       "<table border=\"1\" class=\"dataframe\">\n",
       "  <thead>\n",
       "    <tr style=\"text-align: right;\">\n",
       "      <th></th>\n",
       "      <th>Flavor</th>\n",
       "      <th>Color</th>\n",
       "      <th>Price per Cone</th>\n",
       "    </tr>\n",
       "  </thead>\n",
       "  <tbody>\n",
       "    <tr>\n",
       "      <th>0</th>\n",
       "      <td>strawberry</td>\n",
       "      <td>pink</td>\n",
       "      <td>3.55</td>\n",
       "    </tr>\n",
       "    <tr>\n",
       "      <th>1</th>\n",
       "      <td>chocolate</td>\n",
       "      <td>light brown</td>\n",
       "      <td>4.75</td>\n",
       "    </tr>\n",
       "    <tr>\n",
       "      <th>2</th>\n",
       "      <td>chocolate</td>\n",
       "      <td>dark brown</td>\n",
       "      <td>5.25</td>\n",
       "    </tr>\n",
       "    <tr>\n",
       "      <th>3</th>\n",
       "      <td>strawberry</td>\n",
       "      <td>pink</td>\n",
       "      <td>5.25</td>\n",
       "    </tr>\n",
       "    <tr>\n",
       "      <th>4</th>\n",
       "      <td>chocolate</td>\n",
       "      <td>dark brown</td>\n",
       "      <td>5.25</td>\n",
       "    </tr>\n",
       "    <tr>\n",
       "      <th>5</th>\n",
       "      <td>bubblegum</td>\n",
       "      <td>pink</td>\n",
       "      <td>4.75</td>\n",
       "    </tr>\n",
       "  </tbody>\n",
       "</table>\n",
       "</div>"
      ],
      "text/plain": [
       "       Flavor        Color  Price per Cone\n",
       "0  strawberry         pink            3.55\n",
       "1   chocolate  light brown            4.75\n",
       "2   chocolate   dark brown            5.25\n",
       "3  strawberry         pink            5.25\n",
       "4   chocolate   dark brown            5.25\n",
       "5   bubblegum         pink            4.75"
      ]
     },
     "execution_count": 26,
     "metadata": {},
     "output_type": "execute_result"
    }
   ],
   "source": [
    "cones_df.sort_index(inplace=True)\n",
    "cones_df"
   ]
  },
  {
   "cell_type": "markdown",
   "metadata": {
    "cell_id": "02302c94-7eac-4fb9-9bb8-4af834e1d00a",
    "deepnote_cell_type": "markdown",
    "output_cleared": false,
    "tags": []
   },
   "source": [
    "## Merging Dataframes "
   ]
  },
  {
   "cell_type": "markdown",
   "metadata": {
    "cell_id": "a797d819-ae05-4c20-a7b0-21a661747922",
    "deepnote_cell_type": "markdown",
    "output_cleared": false,
    "tags": []
   },
   "source": [
    "Like the `join` function in `datascience`, we use [`merge`](https://pandas.pydata.org/pandas-docs/stable/reference/api/pandas.DataFrame.merge.html) in `pandas` to join two dataframes based on some common characteristics. \n",
    "\n",
    "Here is the `cones_df`. Notice that the `Flavor` column has three unique values: 'strawberry', 'chocolate', and 'bubblegum'."
   ]
  },
  {
   "cell_type": "code",
   "execution_count": null,
   "metadata": {
    "cell_id": "d6fc9ac8-9308-4aaa-85bb-bec97a388dd2",
    "deepnote_cell_type": "code",
    "output_cleared": false,
    "tags": []
   },
   "outputs": [
    {
     "data": {
      "application/vnd.deepnote.dataframe.v2+json": {
       "column_count": 3,
       "columns": [
        {
         "dtype": "object",
         "name": "Flavor",
         "stats": {
          "categories": [
           {
            "count": 3,
            "name": "chocolate"
           },
           {
            "count": 2,
            "name": "strawberry"
           },
           {
            "count": 1,
            "name": "bubblegum"
           }
          ],
          "nan_count": 0,
          "unique_count": 3
         }
        },
        {
         "dtype": "object",
         "name": "Color",
         "stats": {
          "categories": [
           {
            "count": 3,
            "name": "pink"
           },
           {
            "count": 2,
            "name": "dark brown"
           },
           {
            "count": 1,
            "name": "light brown"
           }
          ],
          "nan_count": 0,
          "unique_count": 3
         }
        },
        {
         "dtype": "float64",
         "name": "Price per Cone",
         "stats": {
          "histogram": [
           {
            "bin_end": 3.7199999999999998,
            "bin_start": 3.55,
            "count": 1
           },
           {
            "bin_end": 3.8899999999999997,
            "bin_start": 3.7199999999999998,
            "count": 0
           },
           {
            "bin_end": 4.06,
            "bin_start": 3.8899999999999997,
            "count": 0
           },
           {
            "bin_end": 4.2299999999999995,
            "bin_start": 4.06,
            "count": 0
           },
           {
            "bin_end": 4.4,
            "bin_start": 4.2299999999999995,
            "count": 0
           },
           {
            "bin_end": 4.57,
            "bin_start": 4.4,
            "count": 0
           },
           {
            "bin_end": 4.74,
            "bin_start": 4.57,
            "count": 0
           },
           {
            "bin_end": 4.91,
            "bin_start": 4.74,
            "count": 2
           },
           {
            "bin_end": 5.08,
            "bin_start": 4.91,
            "count": 0
           },
           {
            "bin_end": 5.25,
            "bin_start": 5.08,
            "count": 3
           }
          ],
          "max": 5.25,
          "min": 3.55,
          "nan_count": 0,
          "unique_count": 3
         }
        },
        {
         "dtype": "int64",
         "name": "_deepnote_index_column"
        }
       ],
       "row_count": 6,
       "rows_bottom": null,
       "rows_top": [
        {
         "Color": "pink",
         "Flavor": "strawberry",
         "Price per Cone": 3.55,
         "_deepnote_index_column": 0
        },
        {
         "Color": "light brown",
         "Flavor": "chocolate",
         "Price per Cone": 4.75,
         "_deepnote_index_column": 1
        },
        {
         "Color": "dark brown",
         "Flavor": "chocolate",
         "Price per Cone": 5.25,
         "_deepnote_index_column": 2
        },
        {
         "Color": "pink",
         "Flavor": "strawberry",
         "Price per Cone": 5.25,
         "_deepnote_index_column": 3
        },
        {
         "Color": "dark brown",
         "Flavor": "chocolate",
         "Price per Cone": 5.25,
         "_deepnote_index_column": 4
        },
        {
         "Color": "pink",
         "Flavor": "bubblegum",
         "Price per Cone": 4.75,
         "_deepnote_index_column": 5
        }
       ]
      },
      "text/html": [
       "<div>\n",
       "<style scoped>\n",
       "    .dataframe tbody tr th:only-of-type {\n",
       "        vertical-align: middle;\n",
       "    }\n",
       "\n",
       "    .dataframe tbody tr th {\n",
       "        vertical-align: top;\n",
       "    }\n",
       "\n",
       "    .dataframe thead th {\n",
       "        text-align: right;\n",
       "    }\n",
       "</style>\n",
       "<table border=\"1\" class=\"dataframe\">\n",
       "  <thead>\n",
       "    <tr style=\"text-align: right;\">\n",
       "      <th></th>\n",
       "      <th>Flavor</th>\n",
       "      <th>Color</th>\n",
       "      <th>Price per Cone</th>\n",
       "    </tr>\n",
       "  </thead>\n",
       "  <tbody>\n",
       "    <tr>\n",
       "      <th>0</th>\n",
       "      <td>strawberry</td>\n",
       "      <td>pink</td>\n",
       "      <td>3.55</td>\n",
       "    </tr>\n",
       "    <tr>\n",
       "      <th>1</th>\n",
       "      <td>chocolate</td>\n",
       "      <td>light brown</td>\n",
       "      <td>4.75</td>\n",
       "    </tr>\n",
       "    <tr>\n",
       "      <th>2</th>\n",
       "      <td>chocolate</td>\n",
       "      <td>dark brown</td>\n",
       "      <td>5.25</td>\n",
       "    </tr>\n",
       "    <tr>\n",
       "      <th>3</th>\n",
       "      <td>strawberry</td>\n",
       "      <td>pink</td>\n",
       "      <td>5.25</td>\n",
       "    </tr>\n",
       "    <tr>\n",
       "      <th>4</th>\n",
       "      <td>chocolate</td>\n",
       "      <td>dark brown</td>\n",
       "      <td>5.25</td>\n",
       "    </tr>\n",
       "    <tr>\n",
       "      <th>5</th>\n",
       "      <td>bubblegum</td>\n",
       "      <td>pink</td>\n",
       "      <td>4.75</td>\n",
       "    </tr>\n",
       "  </tbody>\n",
       "</table>\n",
       "</div>"
      ],
      "text/plain": [
       "       Flavor        Color  Price per Cone\n",
       "0  strawberry         pink            3.55\n",
       "1   chocolate  light brown            4.75\n",
       "2   chocolate   dark brown            5.25\n",
       "3  strawberry         pink            5.25\n",
       "4   chocolate   dark brown            5.25\n",
       "5   bubblegum         pink            4.75"
      ]
     },
     "execution_count": 27,
     "metadata": {},
     "output_type": "execute_result"
    }
   ],
   "source": [
    "cones_df"
   ]
  },
  {
   "cell_type": "markdown",
   "metadata": {
    "cell_id": "626a7419-cc4d-480a-8e00-c0775c2dcebf",
    "deepnote_cell_type": "markdown",
    "output_cleared": false,
    "tags": []
   },
   "source": [
    "We will create a new dataframe called `ratings`. It has a column called `Kind` with the values 'strawberry', 'chocolate' and 'vanilla',"
   ]
  },
  {
   "cell_type": "code",
   "execution_count": null,
   "metadata": {
    "cell_id": "12574b68-ee5b-451f-b9e6-2fb3d2941d73",
    "deepnote_cell_type": "code",
    "output_cleared": false,
    "tags": []
   },
   "outputs": [
    {
     "data": {
      "application/vnd.deepnote.dataframe.v2+json": {
       "column_count": 3,
       "columns": [
        {
         "dtype": "object",
         "name": "Kind",
         "stats": {
          "categories": [
           {
            "count": 1,
            "name": "strawberry"
           },
           {
            "count": 1,
            "name": "chocolate"
           },
           {
            "count": 1,
            "name": "vanilla"
           }
          ],
          "nan_count": 0,
          "unique_count": 3
         }
        },
        {
         "dtype": "float64",
         "name": "Stars",
         "stats": {
          "histogram": [
           {
            "bin_end": 2.65,
            "bin_start": 2.5,
            "count": 1
           },
           {
            "bin_end": 2.8,
            "bin_start": 2.65,
            "count": 0
           },
           {
            "bin_end": 2.95,
            "bin_start": 2.8,
            "count": 0
           },
           {
            "bin_end": 3.1,
            "bin_start": 2.95,
            "count": 0
           },
           {
            "bin_end": 3.25,
            "bin_start": 3.1,
            "count": 0
           },
           {
            "bin_end": 3.4,
            "bin_start": 3.25,
            "count": 0
           },
           {
            "bin_end": 3.55,
            "bin_start": 3.4,
            "count": 1
           },
           {
            "bin_end": 3.7,
            "bin_start": 3.55,
            "count": 0
           },
           {
            "bin_end": 3.8499999999999996,
            "bin_start": 3.7,
            "count": 0
           },
           {
            "bin_end": 4,
            "bin_start": 3.8499999999999996,
            "count": 1
           }
          ],
          "max": 4,
          "min": 2.5,
          "nan_count": 0,
          "unique_count": 3
         }
        },
        {
         "dtype": "int64",
         "name": "No. of Reviewers",
         "stats": {
          "histogram": [
           {
            "bin_end": 10.5,
            "bin_start": 10,
            "count": 1
           },
           {
            "bin_end": 11,
            "bin_start": 10.5,
            "count": 0
           },
           {
            "bin_end": 11.5,
            "bin_start": 11,
            "count": 0
           },
           {
            "bin_end": 12,
            "bin_start": 11.5,
            "count": 0
           },
           {
            "bin_end": 12.5,
            "bin_start": 12,
            "count": 1
           },
           {
            "bin_end": 13,
            "bin_start": 12.5,
            "count": 0
           },
           {
            "bin_end": 13.5,
            "bin_start": 13,
            "count": 0
           },
           {
            "bin_end": 14,
            "bin_start": 13.5,
            "count": 0
           },
           {
            "bin_end": 14.5,
            "bin_start": 14,
            "count": 0
           },
           {
            "bin_end": 15,
            "bin_start": 14.5,
            "count": 1
           }
          ],
          "max": 15,
          "min": 10,
          "nan_count": 0,
          "unique_count": 3
         }
        },
        {
         "dtype": "int64",
         "name": "_deepnote_index_column"
        }
       ],
       "row_count": 3,
       "rows_bottom": null,
       "rows_top": [
        {
         "Kind": "strawberry",
         "No. of Reviewers": 10,
         "Stars": 2.5,
         "_deepnote_index_column": 0
        },
        {
         "Kind": "chocolate",
         "No. of Reviewers": 15,
         "Stars": 3.5,
         "_deepnote_index_column": 1
        },
        {
         "Kind": "vanilla",
         "No. of Reviewers": 12,
         "Stars": 4,
         "_deepnote_index_column": 2
        }
       ]
      },
      "text/html": [
       "<div>\n",
       "<style scoped>\n",
       "    .dataframe tbody tr th:only-of-type {\n",
       "        vertical-align: middle;\n",
       "    }\n",
       "\n",
       "    .dataframe tbody tr th {\n",
       "        vertical-align: top;\n",
       "    }\n",
       "\n",
       "    .dataframe thead th {\n",
       "        text-align: right;\n",
       "    }\n",
       "</style>\n",
       "<table border=\"1\" class=\"dataframe\">\n",
       "  <thead>\n",
       "    <tr style=\"text-align: right;\">\n",
       "      <th></th>\n",
       "      <th>Kind</th>\n",
       "      <th>Stars</th>\n",
       "      <th>No. of Reviewers</th>\n",
       "    </tr>\n",
       "  </thead>\n",
       "  <tbody>\n",
       "    <tr>\n",
       "      <th>0</th>\n",
       "      <td>strawberry</td>\n",
       "      <td>2.5</td>\n",
       "      <td>10</td>\n",
       "    </tr>\n",
       "    <tr>\n",
       "      <th>1</th>\n",
       "      <td>chocolate</td>\n",
       "      <td>3.5</td>\n",
       "      <td>15</td>\n",
       "    </tr>\n",
       "    <tr>\n",
       "      <th>2</th>\n",
       "      <td>vanilla</td>\n",
       "      <td>4.0</td>\n",
       "      <td>12</td>\n",
       "    </tr>\n",
       "  </tbody>\n",
       "</table>\n",
       "</div>"
      ],
      "text/plain": [
       "         Kind  Stars  No. of Reviewers\n",
       "0  strawberry    2.5                10\n",
       "1   chocolate    3.5                15\n",
       "2     vanilla    4.0                12"
      ]
     },
     "execution_count": 28,
     "metadata": {},
     "output_type": "execute_result"
    }
   ],
   "source": [
    "ratings = pd.DataFrame({\n",
    "    'Kind': ['strawberry', 'chocolate', 'vanilla'],\n",
    "    'Stars': [2.5, 3.5, 4],\n",
    "    'No. of Reviewers': [10, 15, 12]}\n",
    ")\n",
    "ratings"
   ]
  },
  {
   "cell_type": "markdown",
   "metadata": {
    "cell_id": "7516199d-4e88-4d8d-a13e-9f1e1e62f179",
    "deepnote_cell_type": "markdown",
    "output_cleared": false,
    "tags": []
   },
   "source": [
    "`cones_df` and `ratings` have common values of 'strawberry' and 'chocolate'. \n",
    "It might be useful to have a dataframe with both the price information from `cones_df` and rating information from `ratings`. \n",
    "Consequently, we are going to join these two dataframes based on the common values in the `Flavor` and `Kind` columns of `cones_df` and `ratings` respectively. \n",
    "\n",
    "The type of [merge](https://pandas.pydata.org/pandas-docs/stable/reference/api/pandas.DataFrame.merge.html) we are going to do is called an 'inner join'; this is the most common type of merge and the only one we'll cover (you can learn more about different types of joins [here](https://www.analyticsvidhya.com/blog/2020/02/joins-in-pandas-master-the-different-types-of-joins-in-python/)).\n",
    "Essentially, an 'inner join' only includes the rows that have common values in both of the dataframes.\n",
    "\n",
    "The syntax of a merge is as follows: `left_df.merge(right_df, how = 'type of join', left_on = 'column(s) of left df', right_on = 'column(s) of right df')`."
   ]
  },
  {
   "cell_type": "code",
   "execution_count": null,
   "metadata": {
    "cell_id": "d02d87ba-0cd3-444d-9f9d-911ef0400f3e",
    "deepnote_cell_type": "code",
    "output_cleared": false,
    "tags": []
   },
   "outputs": [
    {
     "data": {
      "application/vnd.deepnote.dataframe.v2+json": {
       "column_count": 6,
       "columns": [
        {
         "dtype": "object",
         "name": "Flavor",
         "stats": {
          "categories": [
           {
            "count": 3,
            "name": "chocolate"
           },
           {
            "count": 2,
            "name": "strawberry"
           }
          ],
          "nan_count": 0,
          "unique_count": 2
         }
        },
        {
         "dtype": "object",
         "name": "Color",
         "stats": {
          "categories": [
           {
            "count": 2,
            "name": "pink"
           },
           {
            "count": 2,
            "name": "dark brown"
           },
           {
            "count": 1,
            "name": "light brown"
           }
          ],
          "nan_count": 0,
          "unique_count": 3
         }
        },
        {
         "dtype": "float64",
         "name": "Price per Cone",
         "stats": {
          "histogram": [
           {
            "bin_end": 3.7199999999999998,
            "bin_start": 3.55,
            "count": 1
           },
           {
            "bin_end": 3.8899999999999997,
            "bin_start": 3.7199999999999998,
            "count": 0
           },
           {
            "bin_end": 4.06,
            "bin_start": 3.8899999999999997,
            "count": 0
           },
           {
            "bin_end": 4.2299999999999995,
            "bin_start": 4.06,
            "count": 0
           },
           {
            "bin_end": 4.4,
            "bin_start": 4.2299999999999995,
            "count": 0
           },
           {
            "bin_end": 4.57,
            "bin_start": 4.4,
            "count": 0
           },
           {
            "bin_end": 4.74,
            "bin_start": 4.57,
            "count": 0
           },
           {
            "bin_end": 4.91,
            "bin_start": 4.74,
            "count": 1
           },
           {
            "bin_end": 5.08,
            "bin_start": 4.91,
            "count": 0
           },
           {
            "bin_end": 5.25,
            "bin_start": 5.08,
            "count": 3
           }
          ],
          "max": 5.25,
          "min": 3.55,
          "nan_count": 0,
          "unique_count": 3
         }
        },
        {
         "dtype": "object",
         "name": "Kind",
         "stats": {
          "categories": [
           {
            "count": 3,
            "name": "chocolate"
           },
           {
            "count": 2,
            "name": "strawberry"
           }
          ],
          "nan_count": 0,
          "unique_count": 2
         }
        },
        {
         "dtype": "float64",
         "name": "Stars",
         "stats": {
          "histogram": [
           {
            "bin_end": 2.6,
            "bin_start": 2.5,
            "count": 2
           },
           {
            "bin_end": 2.7,
            "bin_start": 2.6,
            "count": 0
           },
           {
            "bin_end": 2.8,
            "bin_start": 2.7,
            "count": 0
           },
           {
            "bin_end": 2.9,
            "bin_start": 2.8,
            "count": 0
           },
           {
            "bin_end": 3,
            "bin_start": 2.9,
            "count": 0
           },
           {
            "bin_end": 3.1,
            "bin_start": 3,
            "count": 0
           },
           {
            "bin_end": 3.2,
            "bin_start": 3.1,
            "count": 0
           },
           {
            "bin_end": 3.3,
            "bin_start": 3.2,
            "count": 0
           },
           {
            "bin_end": 3.4,
            "bin_start": 3.3,
            "count": 0
           },
           {
            "bin_end": 3.5,
            "bin_start": 3.4,
            "count": 3
           }
          ],
          "max": 3.5,
          "min": 2.5,
          "nan_count": 0,
          "unique_count": 2
         }
        },
        {
         "dtype": "int64",
         "name": "No. of Reviewers",
         "stats": {
          "histogram": [
           {
            "bin_end": 10.5,
            "bin_start": 10,
            "count": 2
           },
           {
            "bin_end": 11,
            "bin_start": 10.5,
            "count": 0
           },
           {
            "bin_end": 11.5,
            "bin_start": 11,
            "count": 0
           },
           {
            "bin_end": 12,
            "bin_start": 11.5,
            "count": 0
           },
           {
            "bin_end": 12.5,
            "bin_start": 12,
            "count": 0
           },
           {
            "bin_end": 13,
            "bin_start": 12.5,
            "count": 0
           },
           {
            "bin_end": 13.5,
            "bin_start": 13,
            "count": 0
           },
           {
            "bin_end": 14,
            "bin_start": 13.5,
            "count": 0
           },
           {
            "bin_end": 14.5,
            "bin_start": 14,
            "count": 0
           },
           {
            "bin_end": 15,
            "bin_start": 14.5,
            "count": 3
           }
          ],
          "max": 15,
          "min": 10,
          "nan_count": 0,
          "unique_count": 2
         }
        },
        {
         "dtype": "int64",
         "name": "_deepnote_index_column"
        }
       ],
       "row_count": 5,
       "rows_bottom": null,
       "rows_top": [
        {
         "Color": "pink",
         "Flavor": "strawberry",
         "Kind": "strawberry",
         "No. of Reviewers": 10,
         "Price per Cone": 3.55,
         "Stars": 2.5,
         "_deepnote_index_column": 0
        },
        {
         "Color": "pink",
         "Flavor": "strawberry",
         "Kind": "strawberry",
         "No. of Reviewers": 10,
         "Price per Cone": 5.25,
         "Stars": 2.5,
         "_deepnote_index_column": 1
        },
        {
         "Color": "light brown",
         "Flavor": "chocolate",
         "Kind": "chocolate",
         "No. of Reviewers": 15,
         "Price per Cone": 4.75,
         "Stars": 3.5,
         "_deepnote_index_column": 2
        },
        {
         "Color": "dark brown",
         "Flavor": "chocolate",
         "Kind": "chocolate",
         "No. of Reviewers": 15,
         "Price per Cone": 5.25,
         "Stars": 3.5,
         "_deepnote_index_column": 3
        },
        {
         "Color": "dark brown",
         "Flavor": "chocolate",
         "Kind": "chocolate",
         "No. of Reviewers": 15,
         "Price per Cone": 5.25,
         "Stars": 3.5,
         "_deepnote_index_column": 4
        }
       ]
      },
      "text/html": [
       "<div>\n",
       "<style scoped>\n",
       "    .dataframe tbody tr th:only-of-type {\n",
       "        vertical-align: middle;\n",
       "    }\n",
       "\n",
       "    .dataframe tbody tr th {\n",
       "        vertical-align: top;\n",
       "    }\n",
       "\n",
       "    .dataframe thead th {\n",
       "        text-align: right;\n",
       "    }\n",
       "</style>\n",
       "<table border=\"1\" class=\"dataframe\">\n",
       "  <thead>\n",
       "    <tr style=\"text-align: right;\">\n",
       "      <th></th>\n",
       "      <th>Flavor</th>\n",
       "      <th>Color</th>\n",
       "      <th>Price per Cone</th>\n",
       "      <th>Kind</th>\n",
       "      <th>Stars</th>\n",
       "      <th>No. of Reviewers</th>\n",
       "    </tr>\n",
       "  </thead>\n",
       "  <tbody>\n",
       "    <tr>\n",
       "      <th>0</th>\n",
       "      <td>strawberry</td>\n",
       "      <td>pink</td>\n",
       "      <td>3.55</td>\n",
       "      <td>strawberry</td>\n",
       "      <td>2.5</td>\n",
       "      <td>10</td>\n",
       "    </tr>\n",
       "    <tr>\n",
       "      <th>1</th>\n",
       "      <td>strawberry</td>\n",
       "      <td>pink</td>\n",
       "      <td>5.25</td>\n",
       "      <td>strawberry</td>\n",
       "      <td>2.5</td>\n",
       "      <td>10</td>\n",
       "    </tr>\n",
       "    <tr>\n",
       "      <th>2</th>\n",
       "      <td>chocolate</td>\n",
       "      <td>light brown</td>\n",
       "      <td>4.75</td>\n",
       "      <td>chocolate</td>\n",
       "      <td>3.5</td>\n",
       "      <td>15</td>\n",
       "    </tr>\n",
       "    <tr>\n",
       "      <th>3</th>\n",
       "      <td>chocolate</td>\n",
       "      <td>dark brown</td>\n",
       "      <td>5.25</td>\n",
       "      <td>chocolate</td>\n",
       "      <td>3.5</td>\n",
       "      <td>15</td>\n",
       "    </tr>\n",
       "    <tr>\n",
       "      <th>4</th>\n",
       "      <td>chocolate</td>\n",
       "      <td>dark brown</td>\n",
       "      <td>5.25</td>\n",
       "      <td>chocolate</td>\n",
       "      <td>3.5</td>\n",
       "      <td>15</td>\n",
       "    </tr>\n",
       "  </tbody>\n",
       "</table>\n",
       "</div>"
      ],
      "text/plain": [
       "       Flavor        Color  Price per Cone        Kind  Stars  \\\n",
       "0  strawberry         pink            3.55  strawberry    2.5   \n",
       "1  strawberry         pink            5.25  strawberry    2.5   \n",
       "2   chocolate  light brown            4.75   chocolate    3.5   \n",
       "3   chocolate   dark brown            5.25   chocolate    3.5   \n",
       "4   chocolate   dark brown            5.25   chocolate    3.5   \n",
       "\n",
       "   No. of Reviewers  \n",
       "0                10  \n",
       "1                10  \n",
       "2                15  \n",
       "3                15  \n",
       "4                15  "
      ]
     },
     "execution_count": 29,
     "metadata": {},
     "output_type": "execute_result"
    }
   ],
   "source": [
    "# join cones_df with ratings\n",
    "cones_df.merge(ratings, how = 'inner', left_on = 'Flavor', right_on = 'Kind')"
   ]
  },
  {
   "cell_type": "markdown",
   "metadata": {
    "cell_id": "f8c366ea-7588-4817-8355-d249fb7aad06",
    "deepnote_cell_type": "markdown",
    "output_cleared": false,
    "tags": []
   },
   "source": [
    "After we merge the dataframes, we get all the columns in the two dataframes. \n",
    "For example, for every instance of `strawberry` in the `cones_df`, merging will match each row with `strawberry` in the `rating` dataframe into the resulting dataframe. \n",
    "Since there are two rows that have `strawberry` in the `cones_df`, we have two rows for `strawberry` in the merged dataframe; the rows from the `ratings` dataframe are just repeated.\n",
    "\n",
    "Thus, the row corresponding to `bubblegum` in the `cones_df` is not included in the merged table as there is no `bubblegum` value in `ratings`. \n",
    "Similarly, the row with `vanilla` in `ratings` is not included as `vanilla` does not feature in `cones_df`.\n",
    "\n",
    "Like other functions in pandas, `merge` creates a new dataframe and does not change the original two dataframes."
   ]
  },
  {
   "cell_type": "markdown",
   "metadata": {
    "cell_id": "6c45e61c-09a3-4953-8b10-cf4baf593fcb",
    "deepnote_cell_type": "markdown",
    "output_cleared": false,
    "tags": []
   },
   "source": [
    "## Applying Functions to Columns"
   ]
  },
  {
   "cell_type": "markdown",
   "metadata": {
    "cell_id": "57f40008-9b8d-480c-99a4-f8eb68366614",
    "deepnote_cell_type": "markdown",
    "output_cleared": false
   },
   "source": [
    "In the `datascience` library, you can use the `apply` function to transform the data of a column from our table via a function.\n",
    "In the example below, we define a function `double` that doubles any input, and will consequently double the price of each ice-cream."
   ]
  },
  {
   "cell_type": "code",
   "execution_count": null,
   "metadata": {
    "cell_id": "5fce803f-b013-4b24-be06-9584ee90b0e7",
    "deepnote_cell_type": "code",
    "output_cleared": false
   },
   "outputs": [
    {
     "data": {
      "text/plain": [
       "array([ 7.1,  9.5, 10.5, 10.5, 10.5,  9.5])"
      ]
     },
     "execution_count": 30,
     "metadata": {},
     "output_type": "execute_result"
    }
   ],
   "source": [
    "# double the price of each cone\n",
    "def double(x):\n",
    "    return x * 2\n",
    "\n",
    "cones_tbl.apply(double, \"Price per Cone\")"
   ]
  },
  {
   "cell_type": "markdown",
   "metadata": {
    "cell_id": "e77dd9d8-6708-4373-800a-ded097ddf3ff",
    "deepnote_cell_type": "markdown",
    "output_cleared": false,
    "tags": []
   },
   "source": [
    "In `pandas`, rather than using the `apply` method, we use the [`map`](https://pandas.pydata.org/pandas-docs/stable/reference/api/pandas.Series.map.html) method on\n",
    "a series. Since the series is being called on, we only need pass in the function itself."
   ]
  },
  {
   "cell_type": "code",
   "execution_count": null,
   "metadata": {
    "cell_id": "203dbb55-c721-4e3b-9aa5-1d692368f11a",
    "deepnote_cell_type": "code",
    "output_cleared": false,
    "tags": []
   },
   "outputs": [
    {
     "data": {
      "text/plain": [
       "0     7.1\n",
       "1     9.5\n",
       "2    10.5\n",
       "3    10.5\n",
       "4    10.5\n",
       "5     9.5\n",
       "Name: Price per Cone, dtype: float64"
      ]
     },
     "execution_count": 31,
     "metadata": {},
     "output_type": "execute_result"
    }
   ],
   "source": [
    "doubled_price_per_cone = cones_df[\"Price per Cone\"].map(double)\n",
    "doubled_price_per_cone"
   ]
  },
  {
   "cell_type": "markdown",
   "metadata": {
    "cell_id": "1aaef6e6-a875-424f-95ea-55f8746e2d21",
    "deepnote_cell_type": "markdown",
    "output_cleared": false,
    "tags": []
   },
   "source": [
    "## (Optional Section): Lambda Functions "
   ]
  },
  {
   "cell_type": "markdown",
   "metadata": {
    "cell_id": "a32c5604-7153-4f62-8b71-3d714f427914",
    "deepnote_cell_type": "markdown",
    "output_cleared": false,
    "tags": []
   },
   "source": [
    "You should have already learned about functions, but now let's take that a bit further. \n",
    "Below is a classical example of a function: the `adder`. This adder function takes in two parameters `a`\n",
    "and `b` and adds them togehter."
   ]
  },
  {
   "cell_type": "code",
   "execution_count": null,
   "metadata": {
    "cell_id": "9490b3d9-1297-4611-9a8f-2812bfd78a2b",
    "deepnote_cell_type": "code",
    "output_cleared": false,
    "tags": []
   },
   "outputs": [],
   "source": [
    "# returns the sum of the 2 input arguments\n",
    "def adder(a, b):\n",
    "    return a + b\n",
    "\n",
    "adder(2, 3)"
   ]
  },
  {
   "cell_type": "markdown",
   "metadata": {
    "cell_id": "dcc3a7b7-9ec2-4ab3-9b33-900c9e7d6353",
    "deepnote_cell_type": "markdown",
    "output_cleared": false,
    "tags": []
   },
   "source": [
    "However, the above code to denote such a simple function could be more concise and more conveniently written. \n",
    "This is where the lambda function comes in: below is the same `adder` function but instead of the formal definition of a\n",
    "function, we can compress the `adder` to be just one line."
   ]
  },
  {
   "cell_type": "code",
   "execution_count": null,
   "metadata": {
    "cell_id": "b3a82c52-936b-433e-8124-74d617a5abd5",
    "deepnote_cell_type": "code",
    "output_cleared": false,
    "tags": []
   },
   "outputs": [],
   "source": [
    "# set lambda_adder to be a function that behaves just like the adder function\n",
    "lambda_adder = lambda a, b: a + b  \n",
    "lambda_adder(2, 3)"
   ]
  },
  {
   "cell_type": "markdown",
   "metadata": {
    "cell_id": "a3940156-5086-41a2-8532-87447c380b21",
    "deepnote_cell_type": "markdown",
    "output_cleared": false,
    "tags": []
   },
   "source": [
    "This might seem rather unnecessary, but lambda functions are typically not intended to be used like this.\n",
    "Below is an example of how thye are supposed to be used in `pandas`. If a function or method requires a function as input\n",
    "and the function is simple, we can use a lambda rather than a formal function definition."
   ]
  },
  {
   "cell_type": "code",
   "execution_count": null,
   "metadata": {
    "cell_id": "1059ce04-ae43-4948-9e8d-12c29ad4ca0b",
    "deepnote_cell_type": "code",
    "output_cleared": false,
    "tags": []
   },
   "outputs": [],
   "source": [
    "# we use a lambda function instead of the double function above\n",
    "doubled_price_per_cone = cones_df[\"Price per Cone\"].map(lambda x: x * 2)\n",
    "doubled_price_per_cone"
   ]
  },
  {
   "cell_type": "markdown",
   "metadata": {
    "cell_id": "137fcdc8-d9bd-4cc2-9f64-11690ee754d2",
    "deepnote_cell_type": "markdown",
    "output_cleared": false,
    "tags": []
   },
   "source": [
    "## GroupBy Objects and Aggregation Functions "
   ]
  },
  {
   "cell_type": "markdown",
   "metadata": {
    "cell_id": "cb1a9ad5-e3cb-4b1d-b1c3-5bcc475f45b4",
    "deepnote_cell_type": "markdown",
    "output_cleared": false,
    "tags": []
   },
   "source": [
    "Suppose we wanted to find the average price for each ice cream flavor: in `datascience`, we can achieve this by calling the `group` method and specify `np.mean` as the aggregation function."
   ]
  },
  {
   "cell_type": "code",
   "execution_count": null,
   "metadata": {
    "cell_id": "48f28893-7575-4230-9a70-55f0db2b1809",
    "deepnote_cell_type": "code",
    "output_cleared": false,
    "tags": []
   },
   "outputs": [],
   "source": [
    "cones_tbl.select('Flavor', 'Price per Cone').group('Flavor', np.mean)"
   ]
  },
  {
   "cell_type": "markdown",
   "metadata": {
    "cell_id": "6b96147b-c94b-4b33-bcdf-0d8bb944b659",
    "deepnote_cell_type": "markdown",
    "output_cleared": false,
    "tags": []
   },
   "source": [
    "Grouping in `pandas` is done with the [groupby](https://pandas.pydata.org/pandas-docs/stable/reference/api/pandas.DataFrame.groupby.html) method.\n",
    "This process is slightly more involved because calling `groupby` returns a \"groupby\" object, which we then use to can aggregate on a column. "
   ]
  },
  {
   "cell_type": "code",
   "execution_count": null,
   "metadata": {
    "cell_id": "eefce3a3-1a77-41f0-a44d-de903914e464",
    "deepnote_cell_type": "code",
    "output_cleared": false,
    "tags": []
   },
   "outputs": [],
   "source": [
    "# A groupby object is returned\n",
    "cones_df[['Flavor', 'Price per Cone']].groupby('Flavor')"
   ]
  },
  {
   "cell_type": "markdown",
   "metadata": {
    "cell_id": "4ece7faa-1d40-459f-ac11-4c3d0590c256",
    "deepnote_cell_type": "markdown",
    "output_cleared": false,
    "tags": []
   },
   "source": [
    "In addition, we will aggregate on the \"groupby\" object by using the `agg` function, and passing in the aggregation function."
   ]
  },
  {
   "cell_type": "code",
   "execution_count": null,
   "metadata": {
    "cell_id": "5f16ec2c-d858-4dd6-a804-f44c61e79ac5",
    "deepnote_cell_type": "code",
    "output_cleared": false,
    "tags": []
   },
   "outputs": [],
   "source": [
    "# We specify an aggregation function by calling .agg() on the resulting groupby object\n",
    "\n",
    "cones_df[['Flavor', 'Price per Cone']].groupby('Flavor').agg(np.mean)"
   ]
  },
  {
   "cell_type": "markdown",
   "metadata": {
    "cell_id": "39624e80-4d64-4e0f-8847-2be5ea73889e",
    "deepnote_cell_type": "markdown",
    "output_cleared": false,
    "tags": []
   },
   "source": [
    "Note that the column we group by automatically becomes the index of the new dataframe. We can prevent this by setting `as_index=False` in our call to `groupby`."
   ]
  },
  {
   "cell_type": "code",
   "execution_count": null,
   "metadata": {
    "cell_id": "2493ba2a-8dd1-4663-be13-7d98d0eb8e71",
    "deepnote_cell_type": "code",
    "output_cleared": false,
    "tags": []
   },
   "outputs": [],
   "source": [
    "cones_df[['Flavor', 'Price per Cone']].groupby('Flavor', as_index=False).agg(np.mean)"
   ]
  },
  {
   "cell_type": "markdown",
   "metadata": {
    "cell_id": "3d819cc8-3c0b-4cc0-a1f5-efe979068c0b",
    "deepnote_cell_type": "markdown",
    "output_cleared": false,
    "tags": []
   },
   "source": [
    "More generally, grouping with `datascience` takes the form:\n",
    "\n",
    "`tbl.group(column, func)`\n",
    "\n",
    "The equivalent expression in `pandas` is:\n",
    "\n",
    "`df.groupby(column, as_index=False).agg(func)`"
   ]
  },
  {
   "cell_type": "markdown",
   "metadata": {
    "cell_id": "2dd5bbd3-edaf-4c30-b903-868fb4442804",
    "deepnote_cell_type": "markdown",
    "output_cleared": false,
    "tags": []
   },
   "source": [
    "## Aggregating multiple columns"
   ]
  },
  {
   "cell_type": "markdown",
   "metadata": {
    "cell_id": "a13fa739-0662-4877-839c-a6dd3dd9519d",
    "deepnote_cell_type": "markdown",
    "output_cleared": false,
    "tags": []
   },
   "source": [
    "In the examples above, we purposely removed the \"Color\" column before grouping. What happens if we try to aggregate both the \"Color\" and \"Price\" columns?"
   ]
  },
  {
   "cell_type": "code",
   "execution_count": null,
   "metadata": {
    "cell_id": "2a129b40-60a5-4a77-a5ba-bfe01dfc066b",
    "deepnote_cell_type": "code",
    "output_cleared": false,
    "tags": []
   },
   "outputs": [],
   "source": [
    "# datascience\n",
    "cones_tbl.group('Flavor', np.mean)"
   ]
  },
  {
   "cell_type": "code",
   "execution_count": null,
   "metadata": {
    "cell_id": "e6d79e21-4b5c-49ab-857b-3d9576b066ce",
    "deepnote_cell_type": "code",
    "output_cleared": false,
    "tags": []
   },
   "outputs": [],
   "source": [
    "# pandas\n",
    "cones_df.groupby('Flavor', as_index=False).agg(np.mean)"
   ]
  },
  {
   "cell_type": "markdown",
   "metadata": {
    "cell_id": "37973291-30f6-49d2-9a23-37df4c249f60",
    "deepnote_cell_type": "markdown",
    "output_cleared": false,
    "tags": []
   },
   "source": [
    "Since the \"Color\" column consists of strings and it doesn't make sense to find the mean value of strings, the aggregation is not successful. \n",
    "However, we can see that the situation is handled differently by both libraries — `datascience` keeps the column as a blank column, while `pandas` drops the column entirely."
   ]
  },
  {
   "cell_type": "markdown",
   "metadata": {
    "cell_id": "cc00320e-8ca6-455a-a96d-ae987d91a672",
    "deepnote_cell_type": "markdown",
    "output_cleared": false,
    "tags": []
   },
   "source": [
    "A limitation of the `datascience` package is that we can only specify one aggregation function. \n",
    "In `pandas`, we can pass in multiple aggregation functions as a list to [`agg`](https://pandas.pydata.org/pandas-docs/version/0.23.1/generated/pandas.core.groupby.DataFrameGroupBy.agg.html)."
   ]
  },
  {
   "cell_type": "code",
   "execution_count": null,
   "metadata": {
    "cell_id": "39432c13-70a7-4591-9d31-cc5ffd6237a1",
    "deepnote_cell_type": "code",
    "output_cleared": false,
    "tags": []
   },
   "outputs": [],
   "source": [
    "# aggregate \"Price per Cone\" with both sum and mean functions\n",
    "cones_df.groupby('Flavor', as_index=False).agg([np.sum, np.mean])"
   ]
  },
  {
   "cell_type": "markdown",
   "metadata": {
    "cell_id": "304258e0-8e1d-40e8-9cf1-a17d008a5776",
    "deepnote_cell_type": "markdown",
    "output_cleared": false,
    "tags": []
   },
   "source": [
    "We can also specify an aggregation for each column by passing in a dictionary. \n",
    "\n",
    "Here, `' '.join` is a function taht will concatenate an array of strings and put a space in between each string."
   ]
  },
  {
   "cell_type": "code",
   "execution_count": null,
   "metadata": {
    "cell_id": "f2a4bdce-2fe2-4abf-adf0-543174b0a7c5",
    "deepnote_cell_type": "code",
    "output_cleared": false,
    "tags": []
   },
   "outputs": [],
   "source": [
    "# aggregate the Color column by joining the strings, and aggregate the Price per Cone column by tkaing the mean\n",
    "cones_df.groupby('Flavor', as_index=False).agg({'Color': ' '.join, 'Price per Cone': np.mean})"
   ]
  },
  {
   "cell_type": "markdown",
   "metadata": {
    "cell_id": "5d600d30-23cc-4b89-b14f-0f3ae5273dbd",
    "deepnote_cell_type": "markdown",
    "output_cleared": false,
    "tags": []
   },
   "source": [
    "In addition, we can also write our own aggregation function and pass that in. Suppose we wanted to find half the mean price of each ice cream flavor."
   ]
  },
  {
   "cell_type": "code",
   "execution_count": null,
   "metadata": {
    "cell_id": "7cecc9d9-df40-45ba-8c02-a02370bf7361",
    "deepnote_cell_type": "code",
    "output_cleared": false,
    "tags": []
   },
   "outputs": [],
   "source": [
    "# aggregate all relevant columns using the half_mean function defined below\n",
    "def half_mean(array):\n",
    "    return np.mean(array)/2\n",
    "\n",
    "cones_df.groupby('Flavor', as_index=False).agg(half_mean)"
   ]
  },
  {
   "cell_type": "markdown",
   "metadata": {
    "cell_id": "80fd37c9-e8e2-435a-a658-7dc02a5c1d5f",
    "deepnote_cell_type": "markdown",
    "output_cleared": false,
    "tags": []
   },
   "source": [
    "Lastly, we can omit `agg` entirely for some of the more common aggregation functions like sum, mean, max, and min."
   ]
  },
  {
   "cell_type": "code",
   "execution_count": null,
   "metadata": {
    "cell_id": "2ee256f0-087b-4fff-b02e-d1422c5e265b",
    "deepnote_cell_type": "code",
    "output_cleared": false,
    "tags": []
   },
   "outputs": [],
   "source": [
    "# aggregate all relevant columns by taking the sum\n",
    "cones_df.groupby('Flavor', as_index=False).sum()"
   ]
  },
  {
   "cell_type": "code",
   "execution_count": null,
   "metadata": {
    "cell_id": "aef2b309-673b-4d86-b195-67fca1114add",
    "deepnote_cell_type": "code",
    "output_cleared": false,
    "tags": []
   },
   "outputs": [],
   "source": [
    "# aggregate all relevant columns by taking the mean\n",
    "cones_df.groupby('Flavor', as_index=False).mean()"
   ]
  },
  {
   "cell_type": "code",
   "execution_count": null,
   "metadata": {
    "cell_id": "5d52fcd4-716b-4cf2-93e6-eb4e65820f8e",
    "deepnote_cell_type": "code",
    "output_cleared": false,
    "tags": []
   },
   "outputs": [],
   "source": [
    "# aggregate all relevant columns by taking the max\n",
    "cones_df.groupby('Flavor', as_index=False).max()"
   ]
  },
  {
   "cell_type": "code",
   "execution_count": null,
   "metadata": {
    "cell_id": "7f470f05-20d8-4dac-94a1-c5ace43be9d5",
    "deepnote_cell_type": "code",
    "output_cleared": false,
    "tags": []
   },
   "outputs": [],
   "source": [
    "# aggregate all relevant columns by taking the min\n",
    "cones_df.groupby('Flavor', as_index=False).min()"
   ]
  },
  {
   "cell_type": "markdown",
   "metadata": {
    "cell_id": "deac1d89-a2ef-4b68-84b5-56960d051c17",
    "deepnote_cell_type": "markdown",
    "output_cleared": false,
    "tags": []
   },
   "source": [
    "## Pivot"
   ]
  },
  {
   "cell_type": "markdown",
   "metadata": {
    "cell_id": "7d89ab3d-507a-4748-8b25-0e623b248e71",
    "deepnote_cell_type": "markdown",
    "output_cleared": false
   },
   "source": [
    "Pivot tables are useful for us to 'break-up' our data into bins in 2 dimensions along 2 different features.\n",
    "For example, we can use a pivot table would like to see the relationship between Flavor and Color on the price of ice-cream.\n",
    "\n",
    "Let's try it using the `datascience` package first. Here is the `cones_tbl`.\n",
    "\n",
    "The syntax for a pivot table in `datascience` is `tbl.pivot(feature_for_columns, feature_for_rows, values = feature_for_values, collect = aggregation_function)`. Here, we look at the average price for each combination of Color and Flavor."
   ]
  },
  {
   "cell_type": "code",
   "execution_count": null,
   "metadata": {
    "cell_id": "c11b9776-f8b9-414b-967f-913577bb657d",
    "deepnote_cell_type": "code",
    "output_cleared": false,
    "tags": []
   },
   "outputs": [],
   "source": [
    "cones_tbl.pivot('Flavor', 'Color', values = 'Price per Cone', collect = np.mean)"
   ]
  },
  {
   "cell_type": "markdown",
   "metadata": {
    "cell_id": "52c7e04b-c45e-4768-8c22-062c0d1de1b4",
    "deepnote_cell_type": "markdown",
    "output_cleared": false
   },
   "source": [
    "Let us try to replicate this table in `pandas`. Here is the `cones_df` printed for reference.\n",
    "\n",
    "The syntax for a pivot table is:\n",
    "```python\n",
    "pd.pivot_table(df, values = feature_for_values, \n",
    "               index = feature_for_rows, columns = feature_for_columns, \n",
    "               aggfunc = aggregation_function)\n",
    "```\n",
    "\n",
    "Let us try to sum prices."
   ]
  },
  {
   "cell_type": "code",
   "execution_count": null,
   "metadata": {
    "cell_id": "12f62022-0238-4d10-8d6a-275ed5a37d6b",
    "deepnote_cell_type": "code",
    "output_cleared": false
   },
   "outputs": [],
   "source": [
    "pd.pivot_table(cones_df, values='Price per Cone', index = 'Flavor', columns = 'Color', aggfunc = sum)"
   ]
  },
  {
   "cell_type": "markdown",
   "metadata": {
    "cell_id": "d50e41db-9631-4923-839e-3f002ee8c739",
    "deepnote_cell_type": "markdown",
    "output_cleared": false
   },
   "source": [
    "In `datascience`, when a combination is not in the dataset (like bubblegum and dark brown), the pivot table will show a `0`. In `pandas`, the table will show `NaN` (Not a Number). Also, as you can see, in `pandas` the values of Flavor have become the index.\n",
    "\n",
    "To do the default pivot table of counts in `pandas`, we would pass in the `len` function, which returns the length of an array:"
   ]
  },
  {
   "cell_type": "code",
   "execution_count": null,
   "metadata": {
    "cell_id": "bf1ef6e4-97e6-460d-9b0c-3818632b59be",
    "deepnote_cell_type": "code",
    "output_cleared": false
   },
   "outputs": [],
   "source": [
    "pd.pivot_table(cones_df, values='Price per Cone', index = 'Flavor', columns = 'Color', aggfunc = len)"
   ]
  },
  {
   "cell_type": "markdown",
   "metadata": {
    "cell_id": "f2603378-3e65-44f9-8a34-7243819c9640",
    "deepnote_cell_type": "markdown",
    "output_cleared": false,
    "tags": []
   },
   "source": [
    "## Lists and List Comprehensions "
   ]
  },
  {
   "cell_type": "markdown",
   "metadata": {
    "cell_id": "23f85ab1-4513-44fb-9391-27a54677c4b7",
    "deepnote_cell_type": "markdown",
    "output_cleared": false,
    "tags": []
   },
   "source": [
    "Throughout Data 8, we've been dealing with `datascience` and `numpy` arrays. The reason why we use these arrays\n",
    "is because they are very fast in processing large mathematical computations on columns of data. However, using these arrays is\n",
    "sometimes not the best solution and can instead be slower than the more conventional python `list` objects.\n",
    "Lists are just like `numpy` and `datascience` arrays but are built straight into python. \n",
    "Below are examples of a `numpy` array and a `list` containing the \n",
    "same information."
   ]
  },
  {
   "cell_type": "code",
   "execution_count": null,
   "metadata": {
    "cell_id": "2426e430-3445-4826-81d5-48b89b9794d4",
    "deepnote_cell_type": "code",
    "output_cleared": false,
    "tags": []
   },
   "outputs": [
    {
     "data": {
      "text/plain": [
       "array([1, 2, 3, 4, 5])"
      ]
     },
     "execution_count": 33,
     "metadata": {},
     "output_type": "execute_result"
    }
   ],
   "source": [
    "# Like an array but native!\n",
    "datascience_array = make_array(1, 2, 3, 4, 5)\n",
    "datascience_array"
   ]
  },
  {
   "cell_type": "code",
   "execution_count": null,
   "metadata": {
    "cell_id": "c7a21f10-cecf-4193-938a-57ef5408ed16",
    "deepnote_cell_type": "code",
    "output_cleared": false,
    "tags": []
   },
   "outputs": [
    {
     "data": {
      "text/plain": [
       "[1, 2, 3, 4, 5]"
      ]
     },
     "execution_count": 34,
     "metadata": {},
     "output_type": "execute_result"
    }
   ],
   "source": [
    "python_list = [1, 2, 3, 4, 5]\n",
    "python_list"
   ]
  },
  {
   "cell_type": "markdown",
   "metadata": {
    "cell_id": "b5ceb4d5-225b-4385-adb3-db70ec772b14",
    "deepnote_cell_type": "markdown",
    "output_cleared": false,
    "tags": []
   },
   "source": [
    "Just like that `numpy` array, we can add new elements to python `list`s. Here we append\n",
    "elements to both a `numpy` array and a python `list`."
   ]
  },
  {
   "cell_type": "code",
   "execution_count": null,
   "metadata": {
    "cell_id": "3eb678e0-ae1b-447a-97a1-745ae0d1d6a0",
    "deepnote_cell_type": "code",
    "output_cleared": false,
    "tags": []
   },
   "outputs": [
    {
     "data": {
      "text/plain": [
       "array([1, 2, 3, 4, 5, 6])"
      ]
     },
     "execution_count": 35,
     "metadata": {},
     "output_type": "execute_result"
    }
   ],
   "source": [
    "# Adding elements to datascience arrays\n",
    "datascience_array = np.append(datascience_array, 6)\n",
    "datascience_array"
   ]
  },
  {
   "cell_type": "code",
   "execution_count": null,
   "metadata": {
    "cell_id": "7c7eacb5-123f-48c0-b132-c99bf8f29a6e",
    "deepnote_cell_type": "code",
    "output_cleared": false,
    "tags": []
   },
   "outputs": [
    {
     "data": {
      "text/plain": [
       "[1, 2, 3, 4, 5, 6, 7, 8, 9]"
      ]
     },
     "execution_count": 36,
     "metadata": {},
     "output_type": "execute_result"
    }
   ],
   "source": [
    "# Adding elements to python lists\n",
    "python_list.append(6)  # List appending\n",
    "python_list += [7]  # List concatenation\n",
    "python_list.extend([8, 9])  # List extensions\n",
    "python_list"
   ]
  },
  {
   "cell_type": "markdown",
   "metadata": {
    "cell_id": "d445d2f6-466d-4d59-8914-e8db52319274",
    "deepnote_cell_type": "markdown",
    "output_cleared": false,
    "tags": []
   },
   "source": [
    "We can index the python `list` similarly to a `numpy` array. \n",
    "But instead of using `.item` in python, we directly use square brackets."
   ]
  },
  {
   "cell_type": "code",
   "execution_count": null,
   "metadata": {
    "cell_id": "277d7da2-32d5-4ecf-bdcc-59b3f95e64c5",
    "deepnote_cell_type": "code",
    "output_cleared": false,
    "tags": []
   },
   "outputs": [
    {
     "data": {
      "text/plain": [
       "6"
      ]
     },
     "execution_count": 37,
     "metadata": {},
     "output_type": "execute_result"
    }
   ],
   "source": [
    "datascience_array.item(5)"
   ]
  },
  {
   "cell_type": "code",
   "execution_count": null,
   "metadata": {
    "cell_id": "c064fbf1-3c05-4d95-9b0c-4f2a363ec8af",
    "deepnote_cell_type": "code",
    "output_cleared": false,
    "tags": []
   },
   "outputs": [
    {
     "data": {
      "text/plain": [
       "6"
      ]
     },
     "execution_count": 38,
     "metadata": {},
     "output_type": "execute_result"
    }
   ],
   "source": [
    "python_list[5]  "
   ]
  },
  {
   "cell_type": "markdown",
   "metadata": {
    "cell_id": "0815c96a-e187-4e57-9d67-c5c9a318d743",
    "deepnote_cell_type": "markdown",
    "output_cleared": false,
    "tags": []
   },
   "source": []
  },
  {
   "cell_type": "markdown",
   "metadata": {
    "cell_id": "951ceb8a-8e14-4531-8062-63e1f381d545",
    "deepnote_cell_type": "markdown",
    "output_cleared": false,
    "tags": []
   },
   "source": [
    "In `datascience`, if we wanted to create a list or array and repeatedly append elements into it, we would first use `make_array` to create an array then use `np.append` to add to it."
   ]
  },
  {
   "cell_type": "code",
   "execution_count": null,
   "metadata": {
    "cell_id": "92ae54d3-67e3-48dd-8eed-11c422d388a9",
    "deepnote_cell_type": "code",
    "output_cleared": false,
    "tags": []
   },
   "outputs": [
    {
     "data": {
      "text/plain": [
       "array([ 2.,  4.,  6.,  8., 10., 12.])"
      ]
     },
     "execution_count": 39,
     "metadata": {},
     "output_type": "execute_result"
    }
   ],
   "source": [
    "doubled_for_loop_ds = make_array()\n",
    "for item in datascience_array:\n",
    "    doubled_for_loop_ds = np.append(doubled_for_loop_ds, item * 2)\n",
    "doubled_for_loop_ds"
   ]
  },
  {
   "cell_type": "markdown",
   "metadata": {
    "cell_id": "929f4617-b86d-4bd0-b535-cd8c4be135ac",
    "deepnote_cell_type": "markdown",
    "output_cleared": false,
    "tags": []
   },
   "source": [
    "In python, we can do a very similar procedure:"
   ]
  },
  {
   "cell_type": "code",
   "execution_count": null,
   "metadata": {
    "cell_id": "9706518c-2af8-4f19-abd0-37052ad60b5c",
    "deepnote_cell_type": "code",
    "output_cleared": false,
    "tags": []
   },
   "outputs": [],
   "source": [
    "doubled_for_loop_python = []\n",
    "for item in python_list:\n",
    "    doubled_for_loop_python.append(item * 2)"
   ]
  },
  {
   "cell_type": "markdown",
   "metadata": {
    "cell_id": "14a5488d-5cfc-46b2-a65f-75fb87357d1c",
    "deepnote_cell_type": "markdown",
    "output_cleared": false,
    "tags": []
   },
   "source": [
    "However, there is a much more concise and quicker way of doing the same thing in python, called a list comprehension.\n",
    "Try to see if you can guess how it works: "
   ]
  },
  {
   "cell_type": "code",
   "execution_count": null,
   "metadata": {
    "cell_id": "26d637e8-29fe-4720-a9ea-e9b2c2d8215e",
    "deepnote_cell_type": "code",
    "output_cleared": false,
    "tags": []
   },
   "outputs": [
    {
     "name": "stdout",
     "output_type": "stream",
     "text": [
      "[ 2  4  6  8 10 12]\n",
      "[1, 2, 3, 4, 5, 6, 7, 8, 9]\n",
      "[2, 4, 6, 8, 10, 12, 14, 16, 18]\n"
     ]
    }
   ],
   "source": [
    "# Doubling values\n",
    "datascience_array = datascience_array * 2\n",
    "doubled_list = [2 * item for item in python_list]\n",
    "\n",
    "print(datascience_array)\n",
    "print(python_list)\n",
    "print(doubled_list)"
   ]
  },
  {
   "cell_type": "markdown",
   "metadata": {
    "cell_id": "ae72528d-00b0-458f-beec-e9bd65520eb0",
    "deepnote_cell_type": "markdown",
    "output_cleared": false,
    "tags": []
   },
   "source": [
    "A list comprehension has the following syntax: `[operation for element in list]`. \n",
    "In the above case, we multiplied each `element` (which we named item) by 2 to create a doubled list."
   ]
  },
  {
   "cell_type": "markdown",
   "metadata": {
    "cell_id": "7c5e88cd-e92d-44de-a67e-ba37378f7b56",
    "deepnote_cell_type": "markdown",
    "output_cleared": false,
    "tags": []
   },
   "source": [
    "## Dictionaries"
   ]
  },
  {
   "cell_type": "markdown",
   "metadata": {
    "cell_id": "a9cafea4-360e-4487-a1dd-a3e3ab365ed2",
    "deepnote_cell_type": "markdown",
    "output_cleared": false,
    "tags": []
   },
   "source": [
    "A dictionary is one of the most flexible ways to store data in python. It is an unordered collection of data values. It consists of key/value pairs. The `key` is the identifier that maps to the `value`. \n",
    "\n",
    "The syntax of a dictionary is `{key: value, key: value, ...}`. Here are some examples to show the versatility of dictionaries."
   ]
  },
  {
   "cell_type": "code",
   "execution_count": null,
   "metadata": {
    "cell_id": "d9390cfe-ac00-46ce-b8dd-dff6fea14d5f",
    "deepnote_cell_type": "code",
    "output_cleared": false,
    "tags": []
   },
   "outputs": [],
   "source": [
    "# empty dictionary\n",
    "dictionary = {}\n",
    "dictionary"
   ]
  },
  {
   "cell_type": "code",
   "execution_count": null,
   "metadata": {
    "cell_id": "f2ff0f8c-ec0c-4efc-bc13-bd678634790a",
    "deepnote_cell_type": "code",
    "output_cleared": false,
    "tags": []
   },
   "outputs": [],
   "source": [
    "# dictionary with one key-value pair\n",
    "dictionary = {'name': 'Alan'}\n",
    "dictionary"
   ]
  },
  {
   "cell_type": "markdown",
   "metadata": {
    "cell_id": "ccb4afbb-95ee-41e2-8e41-fb9286a2ec51",
    "deepnote_cell_type": "markdown",
    "output_cleared": false,
    "tags": []
   },
   "source": [
    "The `key` in the above example is the string 'name' and the corresponding `value` is 'Alan'."
   ]
  },
  {
   "cell_type": "code",
   "execution_count": null,
   "metadata": {
    "cell_id": "41aa27ca-54fa-4b0f-85c5-86af4f0d73ca",
    "deepnote_cell_type": "code",
    "output_cleared": false,
    "tags": []
   },
   "outputs": [],
   "source": [
    "# dictionary with multiple key value pairs\n",
    "dictionary = {'name': 'Alan', 7: 3, 'assortment': [6,4,8,'five']}\n",
    "dictionary"
   ]
  },
  {
   "cell_type": "markdown",
   "metadata": {
    "cell_id": "48aab6f6-2a2b-465a-9f93-e7afe452cac9",
    "deepnote_cell_type": "markdown",
    "output_cleared": false,
    "tags": []
   },
   "source": [
    "Note the following things in the above example.\n",
    "\n",
    "1. There are multiple keys: 'name', 7, 'assortment'\n",
    "2. The keys need not be just strings. The integer 7 serves as a key.\n",
    "3. We can store different type of values with different keys. \n",
    "Over here, the value associated with `name` is the string `Alan`. The value associated with `7` is the integer `3`. The value associated with `assortment` is the list `[6,4,8,'five']`."
   ]
  },
  {
   "cell_type": "markdown",
   "metadata": {
    "cell_id": "28135bbe-c388-4127-b6d8-6aa3c51ac649",
    "deepnote_cell_type": "markdown",
    "output_cleared": false,
    "tags": []
   },
   "source": [
    "You can add an item to a existing dictionary like this."
   ]
  },
  {
   "cell_type": "code",
   "execution_count": null,
   "metadata": {
    "cell_id": "dcddc199-af53-4958-83c7-a231e0ba1693",
    "deepnote_cell_type": "code",
    "output_cleared": false,
    "tags": []
   },
   "outputs": [],
   "source": [
    "dictionary[\"new_key\"] = \"new_value\"\n",
    "dictionary"
   ]
  },
  {
   "cell_type": "markdown",
   "metadata": {
    "cell_id": "30a399ab-4eb2-430f-b33d-0dab0e9f513b",
    "deepnote_cell_type": "markdown",
    "output_cleared": false,
    "tags": []
   },
   "source": [
    "We have added the key `new_key` with the value `new_value` to the dictionary. We can also remove a values from a dictionary like this."
   ]
  },
  {
   "cell_type": "code",
   "execution_count": null,
   "metadata": {
    "cell_id": "79b964db-16ec-4b30-b209-f2eef3c8ee75",
    "deepnote_cell_type": "code",
    "output_cleared": false,
    "tags": []
   },
   "outputs": [],
   "source": [
    "dictionary.pop(\"new_key\")\n",
    "dictionary"
   ]
  },
  {
   "cell_type": "markdown",
   "metadata": {
    "cell_id": "94f390b3-b6aa-40bc-9481-baf104d18315",
    "deepnote_cell_type": "markdown",
    "output_cleared": false,
    "tags": []
   },
   "source": [
    "You can extract the values of a particular key from a dictionary like this: `dictionary[value]`."
   ]
  },
  {
   "cell_type": "code",
   "execution_count": null,
   "metadata": {
    "cell_id": "b3c583a6-6bb9-4e61-92be-180ecee0019b",
    "deepnote_cell_type": "code",
    "output_cleared": false,
    "tags": []
   },
   "outputs": [],
   "source": [
    "dictionary['name']"
   ]
  },
  {
   "cell_type": "markdown",
   "metadata": {
    "cell_id": "811e7bef-b055-4500-a02f-ea43613f8c47",
    "deepnote_cell_type": "markdown",
    "output_cleared": false,
    "tags": []
   },
   "source": [
    "\n",
    "Note that if you index into a array or a list like `list[1]`, you get the element at index 1. \n",
    "But since a dictionary is unordered, `dictionary[1]` is looking for the integer key `1` and not the element at position 1. "
   ]
  },
  {
   "cell_type": "code",
   "execution_count": null,
   "metadata": {
    "cell_id": "476cf5b0-fd7e-4ec2-90b7-9e09268a4e25",
    "deepnote_cell_type": "code",
    "output_cleared": false,
    "tags": []
   },
   "outputs": [],
   "source": [
    "# this gives use the value associted with integer key 7\n",
    "dictionary[7]"
   ]
  },
  {
   "cell_type": "markdown",
   "metadata": {
    "cell_id": "7f6ac354-db63-4524-a5d3-aecd80e742cb",
    "deepnote_cell_type": "markdown",
    "output_cleared": false,
    "tags": []
   },
   "source": [
    "You can extract all the keys of a dictionary as a list using `dictionay.keys()`."
   ]
  },
  {
   "cell_type": "code",
   "execution_count": null,
   "metadata": {
    "cell_id": "ff893477-64d5-41bf-bed1-ef21580fb23e",
    "deepnote_cell_type": "code",
    "output_cleared": false,
    "tags": []
   },
   "outputs": [],
   "source": [
    "dictionary.keys()"
   ]
  },
  {
   "cell_type": "markdown",
   "metadata": {
    "cell_id": "2af8607f-7438-4910-99ee-a7827554c543",
    "deepnote_cell_type": "markdown",
    "output_cleared": false,
    "tags": []
   },
   "source": [
    "It is helpful in situations like for loops."
   ]
  },
  {
   "cell_type": "code",
   "execution_count": null,
   "metadata": {
    "cell_id": "f88afdc8-8839-4d26-b031-94a4ea1d2927",
    "deepnote_cell_type": "code",
    "output_cleared": false,
    "tags": []
   },
   "outputs": [],
   "source": [
    "for key in dict.keys():\n",
    "    print(dict[key])"
   ]
  },
  {
   "cell_type": "markdown",
   "metadata": {
    "cell_id": "a0943679-ccee-425b-8471-2ec94148e0be",
    "deepnote_cell_type": "markdown",
    "output_cleared": false,
    "tags": []
   },
   "source": [
    "A very good use of dictionaries is to build a pandas dataframe from scratch like this."
   ]
  },
  {
   "cell_type": "code",
   "execution_count": null,
   "metadata": {
    "cell_id": "ebcac7e0-373c-43ed-906b-21304d7fa8e1",
    "deepnote_cell_type": "code",
    "output_cleared": false,
    "tags": []
   },
   "outputs": [],
   "source": [
    "flowers_dict = {'Number of petals': [8, 34, 5],'Name': ['lotus', 'sunflower', 'rose'],'Color': ['pink', 'yellow', 'red']}\n",
    "flowers_dict"
   ]
  },
  {
   "cell_type": "code",
   "execution_count": null,
   "metadata": {
    "cell_id": "a7d23c87-852f-457f-a5e6-2d258472579f",
    "deepnote_cell_type": "code",
    "output_cleared": false,
    "tags": []
   },
   "outputs": [],
   "source": [
    "flowers_df = pd.DataFrame(data = flowers_dict)\n",
    "flowers_df"
   ]
  },
  {
   "cell_type": "markdown",
   "metadata": {
    "cell_id": "5cbe432d-e04a-4258-a77e-4e108fe4f6e1",
    "deepnote_cell_type": "markdown",
    "output_cleared": false,
    "tags": []
   },
   "source": [
    "The keys of the dictionary are automatically the column headers and the values assocatied with the key are the column values."
   ]
  },
  {
   "cell_type": "code",
   "execution_count": null,
   "metadata": {
    "cell_id": "0b05ae61-6abb-4ded-b3c0-916419c87e28",
    "deepnote_cell_type": "code",
    "output_cleared": false,
    "tags": []
   },
   "outputs": [],
   "source": []
  }
 ],
 "metadata": {
  "deepnote_execution_queue": [],
  "deepnote_notebook_id": "c029285f-2779-44ed-b4bb-cef9198c7c31",
  "kernelspec": {
   "display_name": "Python 3",
   "language": "python",
   "name": "python3"
  },
  "language_info": {
   "codemirror_mode": {
    "name": "ipython",
    "version": 3
   },
   "file_extension": ".py",
   "mimetype": "text/x-python",
   "name": "python",
   "nbconvert_exporter": "python",
   "pygments_lexer": "ipython3",
   "version": "3.6.5"
  }
 },
 "nbformat": 4,
 "nbformat_minor": 2
}
