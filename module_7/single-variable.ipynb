{
 "cells": [
  {
   "cell_type": "markdown",
   "metadata": {
    "cell_id": "00000-2a89d9df-aa26-471d-ae3a-6501d45aa935",
    "deepnote_cell_type": "markdown",
    "output_cleared": false,
    "slideshow": {
     "slide_type": "-"
    }
   },
   "source": [
    "# Single Variable Regression \n",
    "\n",
    "things to add: \n",
    "* explaining the slope and intercept and what they represent in real world data, and their significance. \n",
    "* correlation -how to interrpret, correlation vs causation. "
   ]
  },
  {
   "cell_type": "code",
   "execution_count": null,
   "metadata": {
    "cell_id": "00001-640a1200-cf9e-4864-9032-703b853358bc",
    "deepnote_cell_type": "code",
    "execution_millis": 1493,
    "execution_start": 1602193434620,
    "output_cleared": false,
    "slideshow": {
     "slide_type": "-"
    },
    "source_hash": "97ccac17",
    "tags": [
     "remove_cell"
    ]
   },
   "outputs": [
    {
     "ename": "ModuleNotFoundError",
     "evalue": "No module named 'datascience'",
     "output_type": "error",
     "traceback": [
      "\u001b[0;31m---------------------------------------------------------------------------\u001b[0m",
      "\u001b[0;31mModuleNotFoundError\u001b[0m                       Traceback (most recent call last)",
      "\u001b[0;32m<ipython-input-1-0b5693727589>\u001b[0m in \u001b[0;36m<module>\u001b[0;34m\u001b[0m\n\u001b[1;32m      6\u001b[0m \u001b[0;32mfrom\u001b[0m \u001b[0mmpl_toolkits\u001b[0m\u001b[0;34m.\u001b[0m\u001b[0mmplot3d\u001b[0m \u001b[0;32mimport\u001b[0m \u001b[0mAxes3D\u001b[0m\u001b[0;34m\u001b[0m\u001b[0;34m\u001b[0m\u001b[0m\n\u001b[1;32m      7\u001b[0m \u001b[0;32mfrom\u001b[0m \u001b[0mmatplotlib\u001b[0m \u001b[0;32mimport\u001b[0m \u001b[0mpatches\u001b[0m\u001b[0;34m\u001b[0m\u001b[0;34m\u001b[0m\u001b[0m\n\u001b[0;32m----> 8\u001b[0;31m \u001b[0;32mfrom\u001b[0m \u001b[0mdatascience\u001b[0m \u001b[0;32mimport\u001b[0m \u001b[0;34m*\u001b[0m\u001b[0;34m\u001b[0m\u001b[0;34m\u001b[0m\u001b[0m\n\u001b[0m\u001b[1;32m      9\u001b[0m \u001b[0mget_ipython\u001b[0m\u001b[0;34m(\u001b[0m\u001b[0;34m)\u001b[0m\u001b[0;34m.\u001b[0m\u001b[0mrun_line_magic\u001b[0m\u001b[0;34m(\u001b[0m\u001b[0;34m'matplotlib'\u001b[0m\u001b[0;34m,\u001b[0m \u001b[0;34m'inline'\u001b[0m\u001b[0;34m)\u001b[0m\u001b[0;34m\u001b[0m\u001b[0;34m\u001b[0m\u001b[0m\n\u001b[1;32m     10\u001b[0m \u001b[0;32mfrom\u001b[0m \u001b[0msklearn\u001b[0m\u001b[0;34m.\u001b[0m\u001b[0mmetrics\u001b[0m \u001b[0;32mimport\u001b[0m \u001b[0mmean_squared_error\u001b[0m\u001b[0;34m\u001b[0m\u001b[0;34m\u001b[0m\u001b[0m\n",
      "\u001b[0;31mModuleNotFoundError\u001b[0m: No module named 'datascience'"
     ]
    }
   ],
   "source": [
    "import numpy as np\n",
    "import pandas as pd\n",
    "import matplotlib.pyplot as plt\n",
    "import warnings\n",
    "warnings.simplefilter(\"ignore\")\n",
    "from mpl_toolkits.mplot3d import Axes3D\n",
    "from matplotlib import patches\n",
    "from datascience import *\n",
    "%matplotlib inline\n",
    "from sklearn.metrics import mean_squared_error\n",
    "from ipywidgets import interact, interactive, fixed\n",
    "import ipywidgets as widgets"
   ]
  },
  {
   "cell_type": "markdown",
   "metadata": {
    "cell_id": "00002-6c5a5c7a-a025-4b04-b57c-5cdfd514a68b",
    "deepnote_cell_type": "markdown",
    "output_cleared": false,
    "tags": []
   },
   "source": [
    "Before diving into this module, we'd like to extend a MASSIVE thank you to the Data 88 team for providing the source code for this module! Many of the concepts from\n",
    "Data 88 were borrowed and repurposed for this course so thank you so much! With that said, onto the math!"
   ]
  },
  {
   "cell_type": "markdown",
   "metadata": {
    "cell_id": "00002-7f36665b-a6db-466c-9c5e-a580fb36fc3f",
    "deepnote_cell_type": "markdown",
    "output_cleared": false,
    "slideshow": {
     "slide_type": "-"
    }
   },
   "source": [
    "Suppose we have some data that look like this:"
   ]
  },
  {
   "cell_type": "markdown",
   "metadata": {
    "cell_id": "00003-bca145d6-679d-4391-8994-ce2ed7531d56",
    "deepnote_cell_type": "markdown",
    "output_cleared": false,
    "slideshow": {
     "slide_type": "-"
    }
   },
   "source": [
    "![title](figure1.png)"
   ]
  },
  {
   "cell_type": "markdown",
   "metadata": {
    "cell_id": "00004-cd2377ca-f768-4336-bdb5-ebbf901dd71c",
    "deepnote_cell_type": "markdown",
    "output_cleared": false,
    "slideshow": {
     "slide_type": "-"
    }
   },
   "source": [
    "In Data 8 we learned that $x$ and $y$ above have some **correlation coefficient** $r$, which is a measure of the strength of the linear relationship between the two variables.\n",
    "\n",
    "It looks like there is some positive linear association between $x$ and $y$ such that larger values of $x$ correspond to larger values of $y$. We therefore expect $r$ to be some positive number between 0 and 1, but not exactly 0 or exactly 1.\n",
    "\n",
    "First, let's convert the data (stored in the arrays `x` and `y`) to standard units. To convert a set of data points to standard units, we subtract out the mean of the data and scale by the standard deviation. This has the effect of changing the data so that the data in standard units have mean 0 and  standard deviation 1. Below we construct a function that does this.\n",
    "\n",
    "$$\n",
    "x_{su} = \\dfrac{x - \\mu_x}{\\sigma_x}\n",
    "$$"
   ]
  },
  {
   "cell_type": "code",
   "execution_count": null,
   "metadata": {
    "cell_id": "00005-37939845-f1d0-403b-9cce-af60e4f32862",
    "deepnote_cell_type": "code",
    "execution_millis": 4,
    "execution_start": 1602193450703,
    "output_cleared": false,
    "slideshow": {
     "slide_type": "-"
    },
    "source_hash": "5ce7c53c"
   },
   "outputs": [],
   "source": [
    "##this will also work on lists!\n",
    "def standard_units(array):\n",
    "    return (array - np.mean(array)) / np.std(array)\n"
   ]
  },
  {
   "cell_type": "code",
   "execution_count": null,
   "metadata": {
    "cell_id": "00006-bbbb843b-6e74-44f4-b96d-3cfeeb7bb775",
    "deepnote_cell_type": "code",
    "execution_millis": 10,
    "execution_start": 1602193452400,
    "output_cleared": false,
    "slideshow": {
     "slide_type": "-"
    },
    "source_hash": "f5f938f4",
    "tags": [
     "remove_cell"
    ]
   },
   "outputs": [],
   "source": [
    "\n",
    "# Hide this.\n",
    "np.random.seed(42)\n",
    "x = np.random.uniform(0, 10, 100)\n",
    "noise = np.random.randn(100) * 4\n",
    "y = 1.5 * x + noise"
   ]
  },
  {
   "cell_type": "code",
   "execution_count": null,
   "metadata": {
    "cell_id": "00007-d90257fd-6eb7-489d-900d-3331eee693da",
    "deepnote_cell_type": "code",
    "execution_millis": 2,
    "execution_start": 1602193452924,
    "output_cleared": false,
    "source_hash": "4c4cb9f9"
   },
   "outputs": [],
   "source": [
    "x_standard = standard_units(x)\n",
    "y_standard = standard_units(y)"
   ]
  },
  {
   "cell_type": "code",
   "execution_count": null,
   "metadata": {
    "cell_id": "00008-8a23c584-ec21-4ff6-845e-426c7437cfb3",
    "deepnote_cell_type": "code",
    "execution_millis": 700,
    "execution_start": 1602193454797,
    "output_cleared": false,
    "slideshow": {
     "slide_type": "-"
    },
    "source_hash": "1c53c7da",
    "tags": [
     "remove_input"
    ]
   },
   "outputs": [
    {
     "data": {
      "image/png": "[encoded data removed]",
      "text/plain": [
       "<Figure size 576x432 with 1 Axes>"
      ]
     },
     "metadata": {
      "needs_background": "light"
     },
     "output_type": "display_data"
    }
   ],
   "source": [
    "plt.figure(figsize=(8,6))\n",
    "plt.scatter(x_standard, y_standard)\n",
    "plt.xlabel('$x_{standard}$')\n",
    "plt.ylabel('$y_{standard}$');"
   ]
  },
  {
   "cell_type": "markdown",
   "metadata": {
    "cell_id": "00009-30e7d9a2-6f54-415d-bbea-62386da91c57",
    "deepnote_cell_type": "markdown",
    "output_cleared": false
   },
   "source": [
    "The plot looks the same as before, except now the axes are scaled such that we measure $x$ and $y$ in standard units. Now recall that $r$ is calculated as the average of the product of two variables, when the variables are measured in standard units. Below we define a function that calculates $r$, assuming that the inputs have already been converted to standard units."
   ]
  },
  {
   "cell_type": "code",
   "execution_count": null,
   "metadata": {
    "cell_id": "00010-f9b0fd74-2c47-43c6-92f7-d2bd7298e307",
    "deepnote_cell_type": "code",
    "execution_millis": 2,
    "execution_start": 1602193456334,
    "output_cleared": false,
    "source_hash": "83ce6264"
   },
   "outputs": [],
   "source": [
    "def correlation(array1, array2):\n",
    "    return np.mean(array1 * array2)"
   ]
  },
  {
   "cell_type": "markdown",
   "metadata": {
    "cell_id": "00011-e11b8839-6c95-4e1d-931c-0802d16cb75c",
    "deepnote_cell_type": "markdown",
    "output_cleared": false,
    "slideshow": {
     "slide_type": "-"
    }
   },
   "source": [
    "The correlation between these two variable can now be calculated through this function:"
   ]
  },
  {
   "cell_type": "code",
   "execution_count": null,
   "metadata": {
    "cell_id": "00012-9abf45e2-7922-4916-96e0-60c2acba16c6",
    "deepnote_cell_type": "code",
    "execution_millis": 10,
    "execution_start": 1602193457530,
    "output_cleared": false,
    "source_hash": "daaa4672"
   },
   "outputs": [
    {
     "data": {
      "text/plain": [
       "0.7351364076052979"
      ]
     },
     "execution_count": 11,
     "metadata": {},
     "output_type": "execute_result"
    }
   ],
   "source": [
    "correlation(x_standard, y_standard)"
   ]
  },
  {
   "cell_type": "markdown",
   "metadata": {
    "cell_id": "00013-0b8da561-cfe1-4c7e-bcde-8d894ec07a31",
    "deepnote_cell_type": "markdown",
    "output_cleared": false
   },
   "source": [
    "Recall from Data 8 that we use $r$ to form a line called the *regression line*, which makes predictions for $y$ given some $x$. Our prediction for $y$ in standard units is $r \\cdot x$. If we want to fit this regression line in the original units, recall that the slope of this line is given by\n",
    "\n",
    "$$\n",
    "\\text{slope} = r \\cdot \\dfrac{\\hat{\\sigma}_y}{\\hat{\\sigma}_x}\n",
    "$$\n",
    "\n",
    "and the intercept is given by\n",
    "\n",
    "$$\n",
    "\\text{intercept} = \\hat{\\mu}_y - \\text{slope} \\cdot \\hat{\\mu}_x\n",
    "$$\n",
    "\n",
    "where $\\hat{\\sigma}_x$ is the observed standard deviation of a variable $x$ and $\\hat{\\mu}_x$ is the observed mean. Our regression line will have the form\n",
    "\n",
    "$$\n",
    "y = \\hat{\\alpha} + \\hat{\\beta} x\n",
    "$$\n",
    "\n",
    "where $\\hat{\\alpha}$ is the intercept from above and $\\hat{\\beta}$ the slope.\n",
    "\n",
    "Below we plot this line."
   ]
  },
  {
   "cell_type": "code",
   "execution_count": null,
   "metadata": {
    "cell_id": "00014-870df1c5-2529-4b2e-9378-17e0f6e6eb7d",
    "deepnote_cell_type": "code",
    "execution_millis": 10,
    "execution_start": 1602193458539,
    "output_cleared": false,
    "source_hash": "892df0aa"
   },
   "outputs": [],
   "source": [
    "r = correlation(x_standard, y_standard)\n",
    "slope = r * np.std(y) / np.std(x)\n",
    "intercept = np.mean(y) - slope * np.mean(x)"
   ]
  },
  {
   "cell_type": "code",
   "execution_count": null,
   "metadata": {
    "cell_id": "00015-2f62e2bc-0619-40ed-8003-943be8d10d3e",
    "deepnote_cell_type": "code",
    "execution_millis": 261,
    "execution_start": 1602193459192,
    "output_cleared": false,
    "source_hash": "163797f8",
    "tags": [
     "remove_input"
    ]
   },
   "outputs": [
    {
     "data": {
      "image/png": "[encoded data removed]",
      "text/plain": [
       "<Figure size 576x432 with 1 Axes>"
      ]
     },
     "metadata": {
      "needs_background": "light"
     },
     "output_type": "display_data"
    }
   ],
   "source": [
    "plt.figure(figsize=(8,6))\n",
    "plt.scatter(x, y)\n",
    "plt.plot(np.linspace(0, 10), slope * np.linspace(0, 10) + intercept, color='tab:orange')\n",
    "plt.xlabel('$x$')\n",
    "plt.ylabel('$y$');"
   ]
  },
  {
   "cell_type": "markdown",
   "metadata": {
    "cell_id": "00017-12ed93d7-8c1c-408e-a851-d4d20f11e09d",
    "deepnote_cell_type": "markdown",
    "output_cleared": false,
    "tags": []
   },
   "source": [
    "## Introduction to scikit-learn for Regression"
   ]
  },
  {
   "cell_type": "markdown",
   "metadata": {
    "cell_id": "00017-2b43e85d-c107-4a2f-a59c-802056903aa3",
    "deepnote_cell_type": "markdown",
    "output_cleared": false,
    "tags": []
   },
   "source": [
    "Now that you understand how to manually calculate the slope and intercept, we can introduce a python package called `scikit-learn`, which can be used to fit a wide variety of statistical and machine learning models. The benefit of using this module is that the process of estimating the slope and intercept(s) is automated, which can come in handy especially when we move on to multivariate regression with more than one predictor variable. "
   ]
  },
  {
   "cell_type": "code",
   "execution_count": null,
   "metadata": {
    "cell_id": "00019-516f4dee-6094-4f6b-9f6c-149ad1f043e8",
    "deepnote_cell_type": "code",
    "execution_millis": 1122,
    "execution_start": 1602193461139,
    "output_cleared": false,
    "source_hash": "f5a59c66",
    "tags": []
   },
   "outputs": [],
   "source": [
    "from sklearn import linear_model as lm"
   ]
  },
  {
   "cell_type": "markdown",
   "metadata": {
    "cell_id": "00020-e62b6602-d7cd-4e24-974c-1fc4a6fa7d3c",
    "deepnote_cell_type": "markdown",
    "output_cleared": false,
    "tags": []
   },
   "source": [
    "With this linear_model package, we can fit a wide variety of regression models, but as stated before, the focus of this will be OLS regression. The first thing we need to do is to fit the model based on our data. `lm.fit()` takes two arguments: the first is what’s called a “design matrix,” or X, and the second is the vector of true values, or y.\n",
    "\n",
    "A design matrix ‘X’ is essentially a table containing all of the predictor values, with a row for each data point, and a column for each variable being used for prediction. In the case of single variable regression, the design matrix will only have one column, but it’s important to keep in mind that the `.fit` method will only accept a table or pandas DataFrame, rather than an array or Series. \n",
    "\n",
    "The vector of true values is just that— an array or Series containing the true y values of the variable we want to predict. This should always be a single column."
   ]
  },
  {
   "cell_type": "code",
   "execution_count": null,
   "metadata": {
    "cell_id": "00021-70942a0f-45ca-403e-b68b-a467ebb847b7",
    "deepnote_cell_type": "code",
    "execution_millis": 2,
    "execution_start": 1602193597214,
    "output_cleared": false,
    "source_hash": "dafee7b8",
    "tags": []
   },
   "outputs": [
    {
     "data": {
      "text/plain": [
       "LinearRegression()"
      ]
     },
     "execution_count": 17,
     "metadata": {},
     "output_type": "execute_result"
    }
   ],
   "source": [
    "# assign model to a variable \n",
    "model1 = lm.LinearRegression()\n",
    "\n",
    "# fit model based on data\n",
    "# the reshape method is used to change the shape of an array or matrix\n",
    "# the first param of -1 means each row becomes its own array, and the second param of 1 \n",
    "# means there is one total column, which is what we want for our single feature in x\n",
    "model1.fit(x.reshape(-1, 1), y)"
   ]
  },
  {
   "cell_type": "markdown",
   "metadata": {
    "cell_id": "00022-5242cfd6-b7b4-48e0-8518-2992dd21dbb5",
    "deepnote_cell_type": "markdown",
    "output_cleared": false,
    "tags": []
   },
   "source": [
    "Now that we have a linear regression model fitted, let’s check out the coefficients to see if they match up with our manually calculated values. "
   ]
  },
  {
   "cell_type": "markdown",
   "metadata": {
    "cell_id": "00016-ae9da516-934f-4745-ae83-2f0bd6d1d689",
    "deepnote_cell_type": "markdown",
    "output_cleared": false
   },
   "source": [
    "This is the slope you calculated manually along with the slope calculate by sklearn:"
   ]
  },
  {
   "cell_type": "code",
   "execution_count": null,
   "metadata": {
    "cell_id": "00017-42882cc1-df7d-4665-8c10-4171a745414b",
    "deepnote_cell_type": "code",
    "output_cleared": false,
    "tags": [
     "remove_input"
    ]
   },
   "outputs": [
    {
     "name": "stdout",
     "output_type": "stream",
     "text": [
      "Slope:  1.3160907091507876\n",
      "sklearn Slope:  1.316090709150787\n"
     ]
    }
   ],
   "source": [
    "print('Slope: ', slope)\n",
    "print('sklearn Slope: ', model1.coef_[0])"
   ]
  },
  {
   "cell_type": "markdown",
   "metadata": {
    "cell_id": "00025-f65bef1e-8797-49fe-98e7-b1d32f60ddbd",
    "deepnote_cell_type": "markdown",
    "output_cleared": false,
    "tags": []
   },
   "source": [
    "We can check the intercepts as well:"
   ]
  },
  {
   "cell_type": "code",
   "execution_count": null,
   "metadata": {
    "cell_id": "00026-77d5ae2d-30ef-471f-a5ba-970707cbb694",
    "deepnote_cell_type": "code",
    "output_cleared": false,
    "tags": []
   },
   "outputs": [
    {
     "name": "stdout",
     "output_type": "stream",
     "text": [
      "Intercept:  0.8603846301869913\n",
      "sklearn Intercept:  0.860384630186994\n"
     ]
    }
   ],
   "source": [
    "print('Intercept: ', intercept)\n",
    "print('sklearn Intercept: ', model1.intercept_)"
   ]
  },
  {
   "cell_type": "markdown",
   "metadata": {
    "cell_id": "00018-a88c589d-5e2f-423a-8e67-9bda52c091bf",
    "deepnote_cell_type": "markdown",
    "output_cleared": false
   },
   "source": [
    "To generate the data above, we started with some range of $x$ values, and generated $y$ as a linear function of $x$ with some random noise added in. Take a look:"
   ]
  },
  {
   "cell_type": "code",
   "execution_count": null,
   "metadata": {
    "cell_id": "00019-090c80d9-0323-4e26-8d73-6a9b8cede8d9",
    "deepnote_cell_type": "code",
    "output_cleared": false
   },
   "outputs": [],
   "source": [
    "np.random.seed(42)\n",
    "x = np.random.uniform(0, 10, 100)\n",
    "noise = np.random.randn(100) * 4\n",
    "y = 1.5 * x + noise"
   ]
  },
  {
   "cell_type": "markdown",
   "metadata": {
    "cell_id": "00020-9a5a480a-8768-4212-808a-8a0b9bb5a9c6",
    "deepnote_cell_type": "markdown",
    "output_cleared": false
   },
   "source": [
    "Notice how I defined $y$:\n",
    "\n",
    "$$\n",
    "y = 1.5 \\cdot x + u\n",
    "$$\n",
    "\n",
    "where $u$ is some normally-distributed random noise whose average is 0. So, while there is some randomness to the data, on average the \"true\" slope of the relationship is 1.5. Yet we predicted it to be roughly 1.3!\n",
    "\n",
    "This highlights the following fact: Suppose we have some random data that we believe has a linear relationship. The least-squares slope we generate from the data is an *estimate* of the \"true\" slope of that data. Because of this, the estimated slope is a random variable that depends on the data we happen to have.\n",
    "\n",
    "To highlight this fact, let's repeat the procedure above but with a different [random seed](https://en.wikipedia.org/wiki/Random_seed), in order to get data with the same underlying relationship but different values."
   ]
  },
  {
   "cell_type": "code",
   "execution_count": null,
   "metadata": {
    "cell_id": "00021-5c6d2a3c-643f-48ed-8daf-245719a3ef8c",
    "deepnote_cell_type": "code",
    "output_cleared": false
   },
   "outputs": [],
   "source": [
    "np.random.seed(189)\n",
    "x = np.random.uniform(0, 10, 100)\n",
    "noise = np.random.randn(100) * 4\n",
    "y = 1.5 * x + noise\n",
    "\n",
    "r = correlation(x_standard, y_standard)\n",
    "slope = r * np.std(y) / np.std(x)\n",
    "intercept = np.mean(y) - slope * np.mean(x)"
   ]
  },
  {
   "cell_type": "code",
   "execution_count": null,
   "metadata": {
    "cell_id": "00031-f541a82c-851b-460f-8b97-7da94539099d",
    "deepnote_cell_type": "code",
    "output_cleared": false,
    "tags": []
   },
   "outputs": [
    {
     "data": {
      "text/plain": [
       "LinearRegression()"
      ]
     },
     "execution_count": 16,
     "metadata": {},
     "output_type": "execute_result"
    }
   ],
   "source": [
    "# once again, we can do this process with sklearn\n",
    "\n",
    "model2 = lm.LinearRegression()\n",
    "model2.fit(x.reshape(-1, 1), y)"
   ]
  },
  {
   "cell_type": "code",
   "execution_count": null,
   "metadata": {
    "cell_id": "00022-9bc6ea0e-b193-4a60-bc4d-5b51f7697397",
    "deepnote_cell_type": "code",
    "output_cleared": false,
    "tags": [
     "remove_input"
    ]
   },
   "outputs": [
    {
     "name": "stdout",
     "output_type": "stream",
     "text": [
      "Slope:  1.5590151265266388\n",
      "sklearn Slope:  1.6040518410350635\n"
     ]
    },
    {
     "data": {
      "image/png": "[encoded data removed]",
      "text/plain": [
       "<Figure size 576x432 with 1 Axes>"
      ]
     },
     "metadata": {
      "needs_background": "light"
     },
     "output_type": "display_data"
    }
   ],
   "source": [
    "plt.figure(figsize=(8,6))\n",
    "plt.scatter(x, y)\n",
    "plt.plot(np.linspace(0, 10), slope * np.linspace(0, 10) + intercept, color='tab:orange')\n",
    "plt.xlabel('$x$')\n",
    "plt.ylabel('$y$');\n",
    "print('Slope: ', slope)\n",
    "print('sklearn Slope: ', model2.coef_[0])"
   ]
  },
  {
   "cell_type": "markdown",
   "metadata": {
    "cell_id": "00023-e7953e40-451c-405c-8c1b-7ba1fdc7489d",
    "deepnote_cell_type": "markdown",
    "output_cleared": false
   },
   "source": [
    "Now the estimated slope is roughly 1.6, even though the underlying data was still generated using a slope of 1.5. This is a very important concept that we will revisit soon.\n",
    "\n",
    "Keep in mind, however, that correlation in data *does not* imply causation. In this example we know the true causal relationship between $x$ and $y$ because we defined it ourselves. However, when using real data you do not see the \"true\" relation and thus cannot conclude causality from correlation. It could simply be that both your variables depend on an unseen third variable and have no causal effect on one another. Or even worse, while unlikely it could be the case that slight linear trends in two variables is a complete coincidence."
   ]
  },
  {
   "cell_type": "markdown",
   "metadata": {
    "cell_id": "00024-87b7b8a8-3395-4d86-9632-d77898a62b05",
    "deepnote_cell_type": "markdown",
    "output_cleared": false
   },
   "source": [
    "## Root-Mean-Squared Error"
   ]
  },
  {
   "cell_type": "markdown",
   "metadata": {
    "cell_id": "00025-73e18919-376c-478f-b6b3-1ba030bd1a7d",
    "deepnote_cell_type": "markdown",
    "output_cleared": false
   },
   "source": [
    "While we can arbitrarily pick $\\hat{\\alpha}$ and $\\hat{\\beta}$ values, we do want to pick the values that help predict $\\hat{y}$ that are closest to actual $y$ values. To achieve this, we want to minimize a **loss function** that quantifies how far off our prediction $\\hat{y}$ is from $y$ for some known data points. One of the most common loss functions is called the **root-mean-squared error**, and is defined as\n",
    "\n",
    "$$\n",
    "\\text{RMSE} = \\sqrt{ \\frac{1}{n} \\sum_{i=1}^n \\left ( y_i - \\hat{y}_i \\right ) ^2 }\n",
    "$$\n",
    "\n",
    "where $n$ is the number of observations. The effect of this is to take the mean of the distance of each value of $\\hat{y}$ from its corresponding value in $y$; squaring these values keeps them positive, and then we take the square root to correct the units of the error.\n",
    "\n",
    "Plugging in the formula $\\hat{y}$ in RMSE formula, we get,\n",
    "\n",
    "$$\n",
    "\\text{RMSE} = \\sqrt{ \\frac{1}{n} \\sum_{i=1}^n \\left ( y_i - (\\hat{\\alpha} + \\hat{\\beta}x_i) \\right ) ^2 }\n",
    "$$\n",
    "\n",
    "We want to pick $\\hat{\\alpha}$ and $\\hat{\\beta}$ that minimize this formula. Recall from calculus that to find the minimum of a function, we take its first derivative, set that expression equal to 0, and solve for some variable. The process is the same here, although there are two variables we are solving for. By doing a bit of calculus, we get the following formulas for $\\hat{\\alpha}$ and $\\hat{\\beta}$\n",
    "\n",
    "$$\\Large\n",
    "\\hat{\\beta} = r\\frac {\\hat{\\sigma}_y} {\\hat{\\sigma}_x} \\qquad \\qquad\n",
    "\\hat{\\alpha} = \\hat{\\mu}_y - \\hat{\\beta}\\hat{\\mu}_x\n",
    "$$\n",
    "\n",
    "where $r$ is the **correlation** between $x$ and $y$, $\\hat{\\sigma}_y$ is the standard deviation of $y$, $\\hat{\\sigma}_x$ is the standard deviation of $x$, $\\hat{\\mu}_y$ is the average of all our $y$ values, and $\\hat{\\mu}_x$ is the average of all our $x$ values. (As an aside, note the hats on our $\\sigma$'s and $\\mu$'s; this is because these are _empirical estimates_ of the parameters of these distributions, rather than the true values.) These are the same values we had above!\n",
    "\n",
    "Note that our formula for $\\hat{\\beta}$ involves the **correlation coefficient** $r$ of $x$ and $y$. The correlation coefficient of two variables is a measure of the strength of a linear relationship between them. $r$ goes from -1 to 1, where $|r|=1$ is a perfect linear relationship and $r=0$ is no linear relationship. The formula for $r$ is\n",
    "\n",
    "$$\n",
    "r = \\frac{1}{n}\\sum^n_{i=1} \\left ( \\frac{x_i - \\hat{\\mu}_x}{\\hat{\\sigma}_x} \\right ) \\left ( \\frac{y_i - \\hat{\\mu}_y}{\\hat{\\sigma}_y} \\right )\n",
    "$$\n",
    "\n",
    "(Note: the form $\\frac{x_i - \\hat{\\mu}_x}{\\hat{\\sigma}_x}$ of a variable $x$ is it's representation in standard units, as mentioned above.)\n",
    "\n",
    "To calculate the RMSE, we will write an `rmse` function that makes use of sklearn's `mean_squared_error` function."
   ]
  },
  {
   "cell_type": "code",
   "execution_count": null,
   "metadata": {
    "cell_id": "00026-483afdeb-335e-40cc-b5c1-d73d143295f8",
    "deepnote_cell_type": "code",
    "output_cleared": false
   },
   "outputs": [],
   "source": [
    "def rmse(target, pred):\n",
    "    return np.sqrt(mean_squared_error(target, pred))"
   ]
  },
  {
   "cell_type": "markdown",
   "metadata": {
    "cell_id": "00027-3e5c1fa8-dc12-440e-b3b0-38efe31e86a4",
    "deepnote_cell_type": "markdown",
    "output_cleared": false
   },
   "source": [
    "To get a better idea of what the RMSE represents, the figures below show a small dataset, a proposed regression line, and the squared error that we are summing in the RMSE. The data points are\n",
    "\n",
    "| $x$ | $y$ |\n",
    "|-----|-----|\n",
    "| 0 | 1 |\n",
    "| 1 | .5 |\n",
    "| 2 | -1 |\n",
    "| 3 | 2 |\n",
    "| 4 | -3 |\n",
    "\n",
    "Here are the proposed regression lines and their errors:\n",
    "\n",
    "<img src=\"se_slope_1.png\" width=\"600\" />\n",
    "\n",
    "<img src=\"se_slope_-1.png\" width=\"600\" />"
   ]
  },
  {
   "cell_type": "code",
   "execution_count": null,
   "metadata": {
    "cell_id": "00028-863aa9ee-6dff-4e47-a9cb-a6b6f6b74925",
    "deepnote_cell_type": "code",
    "output_cleared": false,
    "tags": [
     "remove_cell"
    ]
   },
   "outputs": [
    {
     "name": "stdout",
     "output_type": "stream",
     "text": [
      "RMSE: 1.746424919657298\n"
     ]
    },
    {
     "data": {
      "image/png": "[encoded data removed]",
      "text/plain": [
       "<Figure size 360x360 with 1 Axes>"
      ]
     },
     "metadata": {
      "needs_background": "light"
     },
     "output_type": "display_data"
    }
   ],
   "source": [
    "d = pd.DataFrame({\n",
    "    'x': [0,  1,  2,  3,  4],\n",
    "    'y': [1, .5, -1,  2, -3]})\n",
    "\n",
    "def plot_line_and_errors(slope, intercept):\n",
    "    print(\"RMSE:\", rmse(slope * d['x'] + intercept, d['y']))\n",
    "    plt.figure(figsize=(5,5))\n",
    "    points = make_array(-2, 7)\n",
    "    p = plt.plot(points, slope*points + intercept, color='orange', label='Proposed line')\n",
    "    ax = p[0].axes\n",
    "    \n",
    "    predicted_ys = slope * d['x'] + intercept\n",
    "    diffs = predicted_ys - d['y']\n",
    "    for i in np.arange(d.shape[0]):\n",
    "        x = d['x'][i]\n",
    "        y = d['y'][i]\n",
    "        diff = diffs[i]\n",
    "        \n",
    "        if diff > 0:\n",
    "            bottom_left_x = x\n",
    "            bottom_left_y = y\n",
    "        else:\n",
    "            bottom_left_x = x + diff\n",
    "            bottom_left_y = y + diff\n",
    "        \n",
    "        ax.add_patch(patches.Rectangle(make_array(bottom_left_x, bottom_left_y), abs(diff), abs(diff), color='red', alpha=.3, label=('Squared error' if i == 0 else None)))\n",
    "        plt.plot(make_array(x, x), make_array(y, y + diff), color='red', alpha=.6, label=('Error' if i == 0 else None))\n",
    "    \n",
    "    plt.scatter(d['x'], d['y'], color='blue', label='Points')\n",
    "    \n",
    "    plt.xlim(-4, 8)\n",
    "    plt.ylim(-6, 6)\n",
    "    plt.gca().set_aspect('equal', adjustable='box')\n",
    "    \n",
    "    plt.legend(bbox_to_anchor=(1.8, .8))\n",
    "    plt.show()\n",
    "\n",
    "interact(plot_line_and_errors, slope=widgets.FloatSlider(min=-4, max=4, step=.1), intercept=widgets.FloatSlider(min=-4, max=4, step=.1));"
   ]
  },
  {
   "cell_type": "markdown",
   "metadata": {
    "cell_id": "00029-ceb51e96-5fd4-4e9d-9b99-3ebaf28294e1",
    "deepnote_cell_type": "markdown",
    "output_cleared": false
   },
   "source": [
    "## Considering Noise in real-world data"
   ]
  },
  {
   "cell_type": "markdown",
   "metadata": {
    "cell_id": "00030-41193124-6de6-4da1-80d4-103e5eb11e2c",
    "deepnote_cell_type": "markdown",
    "output_cleared": false
   },
   "source": [
    "The regression line can have two purposes:\n",
    "\n",
    "* Of particular interest to data scientists is the line's ability to predict values of $y$ for new values of $x$ that we didn't see before.\n",
    "\n",
    "* Specifically, to see the line's ability to estimate the \"true\" underlying slope of the data via its slope.\n",
    "\n",
    "This is why regression is such a powerful tool and forms the backbone of many fields outside of pure data science. If we believe that our data satisfy certain \n",
    "assumptions, then we can use the slope of the regression line to estimate the \"true\" relation between the variables in question and learn more about the world we live in.\n",
    "\n",
    "To account for a more \"true\" relationship similar to real life, we usually add another variable $\\varepsilon$ to the linear relationship as follows:\n",
    "\n",
    "$$\n",
    "y = \\alpha + \\beta \\cdot x + \\varepsilon\n",
    "$$\n",
    "\n",
    "where $y$ and $x$ are values for any arbitrary point, $\\alpha$ is the intercept, $\\beta$ is the slope, and $\\varepsilon$ is some noise caused by the randomness we see in real-world scenarios. This is entirely analogous to the code from earlier that determined the true linear relationship between the data:\n",
    "\n",
    "```python\n",
    "y = 1.5 * x + noise\n",
    "```\n",
    "\n",
    "Here, $\\beta = 1.5$, $\\alpha = 0$, and $\\varepsilon = \\text{noise}$.\n",
    "\n",
    "When we fit a regression line onto the data, we express the line as:\n",
    "\n",
    "$$\n",
    "\\hat{y} = \\hat{\\alpha} + \\hat{\\beta} \\cdot x\n",
    "$$\n",
    "\n",
    "Here, we put hats over the slope and intercept terms because they are *estimates* of the true slope and intercept terms. Similarly, we put a hat over $y$ because this is the $y$ value that the regression line predicts.\n",
    "\n",
    "Notice how the noise term $\\varepsilon$ does not appear in the expression for the regression line. This is because the noise term is a random variable that has no relation with $x$, and is thus impossible to predict from the data. Furthermore, the noise term has a mean value of 0, so on average we actually don't expect the noise term to have any impact on the underlying trends of the data.\n",
    "\n",
    "For the Data 8 demonstration above, we forced these conditions to be true. However, with real data these are assumptions that we have to make, and is something that data scientists spend a lot of time thinking about."
   ]
  },
  {
   "cell_type": "markdown",
   "metadata": {
    "cell_id": "00031-6e2c8954-7921-4b07-b326-ac0e19f64acc",
    "deepnote_cell_type": "markdown",
    "output_cleared": false
   },
   "source": [
    "### Years of Schooling and Earnings"
   ]
  },
  {
   "cell_type": "markdown",
   "metadata": {
    "cell_id": "00032-9b894e58-1276-46c0-914b-107c71ee389d",
    "deepnote_cell_type": "markdown",
    "output_cleared": false
   },
   "source": [
    "Consider a case where we want to study how years of schooling relate to a person's earnings. This should be of particular interest to college students. Below we import a dataset that has the hourly wage, years of schooling, and other information on thousands of people sampled in the March 2012 Current Population Survey."
   ]
  },
  {
   "cell_type": "code",
   "execution_count": null,
   "metadata": {
    "cell_id": "00033-11ec8b31-1519-4f74-9f65-3a8c0c308017",
    "deepnote_cell_type": "code",
    "output_cleared": false
   },
   "outputs": [
    {
     "data": {
      "application/vnd.deepnote.dataframe.v2+json": {
       "column_count": 14,
       "columns": [
        {
         "dtype": "int64",
         "name": "state",
         "stats": {
          "histogram": [
           {
            "bin_end": 19.4,
            "bin_start": 11,
            "count": 2331
           },
           {
            "bin_end": 27.8,
            "bin_start": 19.4,
            "count": 1972
           },
           {
            "bin_end": 36.2,
            "bin_start": 27.8,
            "count": 2520
           },
           {
            "bin_end": 44.6,
            "bin_start": 36.2,
            "count": 1570
           },
           {
            "bin_end": 53,
            "bin_start": 44.6,
            "count": 1879
           },
           {
            "bin_end": 61.400000000000006,
            "bin_start": 53,
            "count": 3415
           },
           {
            "bin_end": 69.80000000000001,
            "bin_start": 61.400000000000006,
            "count": 676
           },
           {
            "bin_end": 78.2,
            "bin_start": 69.80000000000001,
            "count": 1956
           },
           {
            "bin_end": 86.60000000000001,
            "bin_start": 78.2,
            "count": 1690
           },
           {
            "bin_end": 95,
            "bin_start": 86.60000000000001,
            "count": 3898
           }
          ],
          "max": 95,
          "min": 11,
          "nan_count": 0,
          "unique_count": 51
         }
        },
        {
         "dtype": "int64",
         "name": "age",
         "stats": {
          "histogram": [
           {
            "bin_end": 35.9,
            "bin_start": 35,
            "count": 2121
           },
           {
            "bin_end": 36.8,
            "bin_start": 35.9,
            "count": 2059
           },
           {
            "bin_end": 37.7,
            "bin_start": 36.8,
            "count": 2046
           },
           {
            "bin_end": 38.6,
            "bin_start": 37.7,
            "count": 2094
           },
           {
            "bin_end": 39.5,
            "bin_start": 38.6,
            "count": 2153
           },
           {
            "bin_end": 40.4,
            "bin_start": 39.5,
            "count": 2215
           },
           {
            "bin_end": 41.3,
            "bin_start": 40.4,
            "count": 2494
           },
           {
            "bin_end": 42.2,
            "bin_start": 41.3,
            "count": 2376
           },
           {
            "bin_end": 43.1,
            "bin_start": 42.2,
            "count": 2212
           },
           {
            "bin_end": 44,
            "bin_start": 43.1,
            "count": 2137
           }
          ],
          "max": 44,
          "min": 35,
          "nan_count": 0,
          "unique_count": 10
         }
        },
        {
         "dtype": "int64",
         "name": "wagesal",
         "stats": {
          "histogram": [
           {
            "bin_end": 110001.7,
            "bin_start": 2,
            "count": 20357
           },
           {
            "bin_end": 220001.4,
            "bin_start": 110001.7,
            "count": 1262
           },
           {
            "bin_end": 330001.1,
            "bin_start": 220001.4,
            "count": 164
           },
           {
            "bin_end": 440000.8,
            "bin_start": 330001.1,
            "count": 46
           },
           {
            "bin_end": 550000.5,
            "bin_start": 440000.8,
            "count": 22
           },
           {
            "bin_end": 660000.2,
            "bin_start": 550000.5,
            "count": 8
           },
           {
            "bin_end": 769999.9,
            "bin_start": 660000.2,
            "count": 9
           },
           {
            "bin_end": 879999.6,
            "bin_start": 769999.9,
            "count": 8
           },
           {
            "bin_end": 989999.2999999999,
            "bin_start": 879999.6,
            "count": 6
           },
           {
            "bin_end": 1099999,
            "bin_start": 989999.2999999999,
            "count": 25
           }
          ],
          "max": 1099999,
          "min": 2,
          "nan_count": 0,
          "unique_count": 1792
         }
        },
        {
         "dtype": "int64",
         "name": "imm",
         "stats": {
          "histogram": [
           {
            "bin_end": 0.1,
            "bin_start": 0,
            "count": 17455
           },
           {
            "bin_end": 0.2,
            "bin_start": 0.1,
            "count": 0
           },
           {
            "bin_end": 0.30000000000000004,
            "bin_start": 0.2,
            "count": 0
           },
           {
            "bin_end": 0.4,
            "bin_start": 0.30000000000000004,
            "count": 0
           },
           {
            "bin_end": 0.5,
            "bin_start": 0.4,
            "count": 0
           },
           {
            "bin_end": 0.6000000000000001,
            "bin_start": 0.5,
            "count": 0
           },
           {
            "bin_end": 0.7000000000000001,
            "bin_start": 0.6000000000000001,
            "count": 0
           },
           {
            "bin_end": 0.8,
            "bin_start": 0.7000000000000001,
            "count": 0
           },
           {
            "bin_end": 0.9,
            "bin_start": 0.8,
            "count": 0
           },
           {
            "bin_end": 1,
            "bin_start": 0.9,
            "count": 4452
           }
          ],
          "max": 1,
          "min": 0,
          "nan_count": 0,
          "unique_count": 2
         }
        },
        {
         "dtype": "int64",
         "name": "hispanic"
        },
        {
         "dtype": "int64",
         "name": "black"
        },
        {
         "dtype": "int64",
         "name": "asian"
        },
        {
         "dtype": "int64",
         "name": "educ"
        },
        {
         "dtype": "float64",
         "name": "wage"
        },
        {
         "dtype": "float64",
         "name": "logwage"
        },
        {
         "dtype": "int64",
         "name": "female"
        },
        {
         "dtype": "int64",
         "name": "fedwkr"
        },
        {
         "dtype": "int64",
         "name": "statewkr"
        },
        {
         "dtype": "int64",
         "name": "localwkr"
        },
        {
         "dtype": "int64",
         "name": "_deepnote_index_column"
        }
       ],
       "row_count": 21907,
       "rows_bottom": [
        {
         "_deepnote_index_column": 21871,
         "age": 43,
         "asian": 1,
         "black": 0,
         "educ": 16,
         "fedwkr": 0,
         "female": 1,
         "hispanic": 0,
         "imm": 1,
         "localwkr": 0,
         "logwage": 2.878550019,
         "state": 95,
         "statewkr": 0,
         "wage": 17.78846154,
         "wagesal": 37000
        },
        {
         "_deepnote_index_column": 21872,
         "age": 44,
         "asian": 1,
         "black": 0,
         "educ": 14,
         "fedwkr": 0,
         "female": 1,
         "hispanic": 0,
         "imm": 1,
         "localwkr": 0,
         "logwage": 3.2878686960000003,
         "state": 95,
         "statewkr": 0,
         "wage": 26.78571429,
         "wagesal": 30000
        },
        {
         "_deepnote_index_column": 21873,
         "age": 41,
         "asian": 1,
         "black": 0,
         "educ": 12,
         "fedwkr": 0,
         "female": 0,
         "hispanic": 0,
         "imm": 0,
         "localwkr": 0,
         "logwage": 3.138833117,
         "state": 95,
         "statewkr": 1,
         "wage": 23.07692308,
         "wagesal": 48000
        },
        {
         "_deepnote_index_column": 21874,
         "age": 42,
         "asian": 0,
         "black": 0,
         "educ": 12,
         "fedwkr": 0,
         "female": 0,
         "hispanic": 0,
         "imm": 0,
         "localwkr": 0,
         "logwage": 2.7641396680000003,
         "state": 95,
         "statewkr": 0,
         "wage": 15.86538462,
         "wagesal": 33000
        },
        {
         "_deepnote_index_column": 21875,
         "age": 43,
         "asian": 0,
         "black": 0,
         "educ": 13,
         "fedwkr": 0,
         "female": 1,
         "hispanic": 1,
         "imm": 0,
         "localwkr": 0,
         "logwage": 2.055725015,
         "state": 95,
         "statewkr": 0,
         "wage": 7.8125,
         "wagesal": 15000
        },
        {
         "_deepnote_index_column": 21876,
         "age": 44,
         "asian": 0,
         "black": 0,
         "educ": 20,
         "fedwkr": 0,
         "female": 0,
         "hispanic": 0,
         "imm": 0,
         "localwkr": 1,
         "logwage": 3.649658741,
         "state": 95,
         "statewkr": 0,
         "wage": 38.46153846,
         "wagesal": 80000
        },
        {
         "_deepnote_index_column": 21877,
         "age": 37,
         "asian": 0,
         "black": 0,
         "educ": 13,
         "fedwkr": 0,
         "female": 0,
         "hispanic": 0,
         "imm": 0,
         "localwkr": 0,
         "logwage": 2.931193752,
         "state": 95,
         "statewkr": 0,
         "wage": 18.75,
         "wagesal": 39000
        },
        {
         "_deepnote_index_column": 21878,
         "age": 42,
         "asian": 1,
         "black": 0,
         "educ": 14,
         "fedwkr": 0,
         "female": 0,
         "hispanic": 0,
         "imm": 1,
         "localwkr": 0,
         "logwage": 2.822980168,
         "state": 95,
         "statewkr": 0,
         "wage": 16.82692308,
         "wagesal": 35000
        },
        {
         "_deepnote_index_column": 21879,
         "age": 40,
         "asian": 0,
         "black": 0,
         "educ": 12,
         "fedwkr": 0,
         "female": 1,
         "hispanic": 1,
         "imm": 1,
         "localwkr": 0,
         "logwage": 2.1092137,
         "state": 95,
         "statewkr": 0,
         "wage": 8.241758242000001,
         "wagesal": 15000
        },
        {
         "_deepnote_index_column": 21880,
         "age": 37,
         "asian": 0,
         "black": 0,
         "educ": 12,
         "fedwkr": 0,
         "female": 0,
         "hispanic": 1,
         "imm": 1,
         "localwkr": 0,
         "logwage": 2.95651156,
         "state": 95,
         "statewkr": 0,
         "wage": 19.23076923,
         "wagesal": 40000
        },
        {
         "_deepnote_index_column": 21881,
         "age": 40,
         "asian": 0,
         "black": 0,
         "educ": 14,
         "fedwkr": 0,
         "female": 1,
         "hispanic": 0,
         "imm": 0,
         "localwkr": 0,
         "logwage": 3.218875825,
         "state": 95,
         "statewkr": 0,
         "wage": 25,
         "wagesal": 52000
        },
        {
         "_deepnote_index_column": 21882,
         "age": 37,
         "asian": 1,
         "black": 0,
         "educ": 13,
         "fedwkr": 0,
         "female": 0,
         "hispanic": 0,
         "imm": 0,
         "localwkr": 1,
         "logwage": 4.278267400000001,
         "state": 95,
         "statewkr": 0,
         "wage": 72.11538462,
         "wagesal": 75000
        },
        {
         "_deepnote_index_column": 21883,
         "age": 37,
         "asian": 1,
         "black": 0,
         "educ": 13,
         "fedwkr": 0,
         "female": 0,
         "hispanic": 0,
         "imm": 1,
         "localwkr": 0,
         "logwage": 1.386294361,
         "state": 95,
         "statewkr": 0,
         "wage": 4,
         "wagesal": 3000
        },
        {
         "_deepnote_index_column": 21884,
         "age": 40,
         "asian": 1,
         "black": 0,
         "educ": 13,
         "fedwkr": 0,
         "female": 1,
         "hispanic": 0,
         "imm": 1,
         "localwkr": 0,
         "logwage": 1.386294361,
         "state": 95,
         "statewkr": 0,
         "wage": 4,
         "wagesal": 3000
        },
        {
         "_deepnote_index_column": 21885,
         "age": 36,
         "asian": 1,
         "black": 0,
         "educ": 16,
         "fedwkr": 0,
         "female": 1,
         "hispanic": 0,
         "imm": 0,
         "localwkr": 0,
         "logwage": 2.995732274,
         "state": 95,
         "statewkr": 0,
         "wage": 20,
         "wagesal": 40000
        },
        {
         "_deepnote_index_column": 21886,
         "age": 44,
         "asian": 0,
         "black": 0,
         "educ": 16,
         "fedwkr": 0,
         "female": 1,
         "hispanic": 0,
         "imm": 0,
         "localwkr": 0,
         "logwage": 3.831980298,
         "state": 95,
         "statewkr": 0,
         "wage": 46.15384615,
         "wagesal": 144000
        },
        {
         "_deepnote_index_column": 21887,
         "age": 41,
         "asian": 0,
         "black": 0,
         "educ": 13,
         "fedwkr": 1,
         "female": 0,
         "hispanic": 1,
         "imm": 0,
         "localwkr": 0,
         "logwage": 3.0053493419999997,
         "state": 95,
         "statewkr": 0,
         "wage": 20.19326923,
         "wagesal": 42002
        },
        {
         "_deepnote_index_column": 21888,
         "age": 35,
         "asian": 0,
         "black": 0,
         "educ": 13,
         "fedwkr": 1,
         "female": 1,
         "hispanic": 0,
         "imm": 0,
         "localwkr": 0,
         "logwage": 3.49080954,
         "state": 95,
         "statewkr": 0,
         "wage": 32.8125,
         "wagesal": 52500
        },
        {
         "_deepnote_index_column": 21889,
         "age": 36,
         "asian": 0,
         "black": 0,
         "educ": 16,
         "fedwkr": 0,
         "female": 1,
         "hispanic": 0,
         "imm": 0,
         "localwkr": 0,
         "logwage": 3.58512022,
         "state": 95,
         "statewkr": 0,
         "wage": 36.05769231,
         "wagesal": 30000
        },
        {
         "_deepnote_index_column": 21890,
         "age": 44,
         "asian": 1,
         "black": 0,
         "educ": 16,
         "fedwkr": 1,
         "female": 0,
         "hispanic": 0,
         "imm": 0,
         "localwkr": 0,
         "logwage": 4.135166557,
         "state": 95,
         "statewkr": 0,
         "wage": 62.5,
         "wagesal": 130000
        },
        {
         "_deepnote_index_column": 21891,
         "age": 36,
         "asian": 0,
         "black": 0,
         "educ": 16,
         "fedwkr": 1,
         "female": 0,
         "hispanic": 0,
         "imm": 0,
         "localwkr": 0,
         "logwage": 3.789420683,
         "state": 95,
         "statewkr": 0,
         "wage": 44.23076923,
         "wagesal": 92000
        },
        {
         "_deepnote_index_column": 21892,
         "age": 36,
         "asian": 0,
         "black": 0,
         "educ": 12,
         "fedwkr": 1,
         "female": 1,
         "hispanic": 0,
         "imm": 0,
         "localwkr": 0,
         "logwage": 3.005301725,
         "state": 95,
         "statewkr": 0,
         "wage": 20.19230769,
         "wagesal": 42000
        },
        {
         "_deepnote_index_column": 21893,
         "age": 43,
         "asian": 0,
         "black": 0,
         "educ": 12,
         "fedwkr": 0,
         "female": 1,
         "hispanic": 0,
         "imm": 1,
         "localwkr": 0,
         "logwage": 2.040220829,
         "state": 95,
         "statewkr": 0,
         "wage": 7.692307692000001,
         "wagesal": 12000
        },
        {
         "_deepnote_index_column": 21894,
         "age": 36,
         "asian": 1,
         "black": 0,
         "educ": 12,
         "fedwkr": 0,
         "female": 0,
         "hispanic": 0,
         "imm": 0,
         "localwkr": 0,
         "logwage": 2.95651156,
         "state": 95,
         "statewkr": 0,
         "wage": 19.23076923,
         "wagesal": 35000
        },
        {
         "_deepnote_index_column": 21895,
         "age": 42,
         "asian": 0,
         "black": 0,
         "educ": 12,
         "fedwkr": 0,
         "female": 0,
         "hispanic": 0,
         "imm": 0,
         "localwkr": 0,
         "logwage": 1.9459101490000001,
         "state": 95,
         "statewkr": 0,
         "wage": 7,
         "wagesal": 1820
        },
        {
         "_deepnote_index_column": 21896,
         "age": 42,
         "asian": 0,
         "black": 0,
         "educ": 16,
         "fedwkr": 0,
         "female": 0,
         "hispanic": 0,
         "imm": 0,
         "localwkr": 0,
         "logwage": 3.649658741,
         "state": 95,
         "statewkr": 0,
         "wage": 38.46153846,
         "wagesal": 80000
        },
        {
         "_deepnote_index_column": 21897,
         "age": 42,
         "asian": 0,
         "black": 0,
         "educ": 18,
         "fedwkr": 1,
         "female": 1,
         "hispanic": 0,
         "imm": 0,
         "localwkr": 0,
         "logwage": 3.442019376,
         "state": 95,
         "statewkr": 0,
         "wage": 31.25,
         "wagesal": 65000
        },
        {
         "_deepnote_index_column": 21898,
         "age": 40,
         "asian": 0,
         "black": 0,
         "educ": 12,
         "fedwkr": 0,
         "female": 0,
         "hispanic": 1,
         "imm": 0,
         "localwkr": 0,
         "logwage": 3.179655112,
         "state": 95,
         "statewkr": 0,
         "wage": 24.03846154,
         "wagesal": 50000
        },
        {
         "_deepnote_index_column": 21899,
         "age": 35,
         "asian": 0,
         "black": 0,
         "educ": 12,
         "fedwkr": 0,
         "female": 0,
         "hispanic": 0,
         "imm": 0,
         "localwkr": 0,
         "logwage": 2.7016193110000004,
         "state": 95,
         "statewkr": 1,
         "wage": 14.90384615,
         "wagesal": 31000
        },
        {
         "_deepnote_index_column": 21900,
         "age": 35,
         "asian": 0,
         "black": 0,
         "educ": 12,
         "fedwkr": 0,
         "female": 1,
         "hispanic": 0,
         "imm": 0,
         "localwkr": 0,
         "logwage": 2.517429841,
         "state": 95,
         "statewkr": 0,
         "wage": 12.39669421,
         "wagesal": 30000
        },
        {
         "_deepnote_index_column": 21901,
         "age": 37,
         "asian": 1,
         "black": 0,
         "educ": 12,
         "fedwkr": 0,
         "female": 0,
         "hispanic": 0,
         "imm": 1,
         "localwkr": 0,
         "logwage": 2.014903021,
         "state": 95,
         "statewkr": 0,
         "wage": 7.5,
         "wagesal": 15600
        },
        {
         "_deepnote_index_column": 21902,
         "age": 36,
         "asian": 0,
         "black": 0,
         "educ": 18,
         "fedwkr": 0,
         "female": 0,
         "hispanic": 0,
         "imm": 0,
         "localwkr": 0,
         "logwage": 4.095945844,
         "state": 95,
         "statewkr": 1,
         "wage": 60.09615385,
         "wagesal": 125000
        },
        {
         "_deepnote_index_column": 21903,
         "age": 38,
         "asian": 1,
         "black": 0,
         "educ": 18,
         "fedwkr": 0,
         "female": 1,
         "hispanic": 0,
         "imm": 0,
         "localwkr": 0,
         "logwage": 3.2929837969999998,
         "state": 95,
         "statewkr": 0,
         "wage": 26.92307692,
         "wagesal": 70000
        },
        {
         "_deepnote_index_column": 21904,
         "age": 43,
         "asian": 0,
         "black": 0,
         "educ": 14,
         "fedwkr": 0,
         "female": 1,
         "hispanic": 0,
         "imm": 0,
         "localwkr": 0,
         "logwage": 3.025374053,
         "state": 95,
         "statewkr": 0,
         "wage": 20.601709399999997,
         "wagesal": 48208
        },
        {
         "_deepnote_index_column": 21905,
         "age": 43,
         "asian": 0,
         "black": 0,
         "educ": 18,
         "fedwkr": 0,
         "female": 0,
         "hispanic": 0,
         "imm": 0,
         "localwkr": 0,
         "logwage": 3.58512022,
         "state": 95,
         "statewkr": 0,
         "wage": 36.05769231,
         "wagesal": 75000
        },
        {
         "_deepnote_index_column": 21906,
         "age": 44,
         "asian": 1,
         "black": 0,
         "educ": 20,
         "fedwkr": 0,
         "female": 1,
         "hispanic": 0,
         "imm": 1,
         "localwkr": 0,
         "logwage": 3.179655112,
         "state": 95,
         "statewkr": 1,
         "wage": 24.03846154,
         "wagesal": 50000
        }
       ],
       "rows_top": [
        {
         "_deepnote_index_column": 0,
         "age": 44,
         "asian": 0,
         "black": 0,
         "educ": 14,
         "fedwkr": 1,
         "female": 1,
         "hispanic": 0,
         "imm": 0,
         "localwkr": 0,
         "logwage": 2.209297159,
         "state": 11,
         "statewkr": 0,
         "wage": 9.109311741,
         "wagesal": 18000
        },
        {
         "_deepnote_index_column": 1,
         "age": 39,
         "asian": 0,
         "black": 0,
         "educ": 14,
         "fedwkr": 0,
         "female": 0,
         "hispanic": 0,
         "imm": 0,
         "localwkr": 0,
         "logwage": 2.890371758,
         "state": 11,
         "statewkr": 0,
         "wage": 18,
         "wagesal": 18000
        },
        {
         "_deepnote_index_column": 2,
         "age": 39,
         "asian": 0,
         "black": 0,
         "educ": 12,
         "fedwkr": 0,
         "female": 0,
         "hispanic": 0,
         "imm": 0,
         "localwkr": 1,
         "logwage": 2.8399777439999996,
         "state": 11,
         "statewkr": 0,
         "wage": 17.11538462,
         "wagesal": 35600
        },
        {
         "_deepnote_index_column": 3,
         "age": 39,
         "asian": 0,
         "black": 0,
         "educ": 14,
         "fedwkr": 0,
         "female": 1,
         "hispanic": 0,
         "imm": 0,
         "localwkr": 0,
         "logwage": 1.63475572,
         "state": 11,
         "statewkr": 0,
         "wage": 5.128205128,
         "wagesal": 8000
        },
        {
         "_deepnote_index_column": 4,
         "age": 39,
         "asian": 0,
         "black": 0,
         "educ": 16,
         "fedwkr": 1,
         "female": 0,
         "hispanic": 0,
         "imm": 0,
         "localwkr": 0,
         "logwage": 3.649658741,
         "state": 11,
         "statewkr": 0,
         "wage": 38.46153846,
         "wagesal": 100000
        },
        {
         "_deepnote_index_column": 5,
         "age": 43,
         "asian": 0,
         "black": 0,
         "educ": 12,
         "fedwkr": 0,
         "female": 0,
         "hispanic": 0,
         "imm": 0,
         "localwkr": 0,
         "logwage": 2.3025850930000002,
         "state": 11,
         "statewkr": 0,
         "wage": 10,
         "wagesal": 25000
        },
        {
         "_deepnote_index_column": 6,
         "age": 38,
         "asian": 0,
         "black": 0,
         "educ": 16,
         "fedwkr": 0,
         "female": 1,
         "hispanic": 0,
         "imm": 0,
         "localwkr": 0,
         "logwage": 3.302257434,
         "state": 11,
         "statewkr": 0,
         "wage": 27.17391304,
         "wagesal": 25000
        },
        {
         "_deepnote_index_column": 7,
         "age": 39,
         "asian": 0,
         "black": 0,
         "educ": 13,
         "fedwkr": 0,
         "female": 1,
         "hispanic": 0,
         "imm": 0,
         "localwkr": 0,
         "logwage": 2.813410717,
         "state": 11,
         "statewkr": 0,
         "wage": 16.66666667,
         "wagesal": 26000
        },
        {
         "_deepnote_index_column": 8,
         "age": 39,
         "asian": 0,
         "black": 0,
         "educ": 16,
         "fedwkr": 0,
         "female": 0,
         "hispanic": 0,
         "imm": 0,
         "localwkr": 0,
         "logwage": 2.813410717,
         "state": 11,
         "statewkr": 0,
         "wage": 16.66666667,
         "wagesal": 52000
        },
        {
         "_deepnote_index_column": 9,
         "age": 37,
         "asian": 0,
         "black": 0,
         "educ": 13,
         "fedwkr": 0,
         "female": 1,
         "hispanic": 0,
         "imm": 0,
         "localwkr": 0,
         "logwage": 1.386294361,
         "state": 11,
         "statewkr": 0,
         "wage": 4,
         "wagesal": 4500
        },
        {
         "_deepnote_index_column": 10,
         "age": 42,
         "asian": 0,
         "black": 0,
         "educ": 14,
         "fedwkr": 0,
         "female": 1,
         "hispanic": 0,
         "imm": 0,
         "localwkr": 0,
         "logwage": 2.813410717,
         "state": 11,
         "statewkr": 0,
         "wage": 16.66666667,
         "wagesal": 26000
        },
        {
         "_deepnote_index_column": 11,
         "age": 37,
         "asian": 0,
         "black": 0,
         "educ": 12,
         "fedwkr": 0,
         "female": 0,
         "hispanic": 0,
         "imm": 0,
         "localwkr": 0,
         "logwage": 2.793992631,
         "state": 11,
         "statewkr": 1,
         "wage": 16.34615385,
         "wagesal": 34000
        },
        {
         "_deepnote_index_column": 12,
         "age": 42,
         "asian": 0,
         "black": 0,
         "educ": 13,
         "fedwkr": 0,
         "female": 1,
         "hispanic": 0,
         "imm": 0,
         "localwkr": 0,
         "logwage": 3.442019376,
         "state": 11,
         "statewkr": 0,
         "wage": 31.25,
         "wagesal": 65000
        },
        {
         "_deepnote_index_column": 13,
         "age": 41,
         "asian": 0,
         "black": 0,
         "educ": 12,
         "fedwkr": 0,
         "female": 1,
         "hispanic": 0,
         "imm": 0,
         "localwkr": 0,
         "logwage": 2.8834030889999998,
         "state": 11,
         "statewkr": 0,
         "wage": 17.875,
         "wagesal": 14300
        },
        {
         "_deepnote_index_column": 14,
         "age": 35,
         "asian": 0,
         "black": 0,
         "educ": 14,
         "fedwkr": 0,
         "female": 0,
         "hispanic": 0,
         "imm": 0,
         "localwkr": 0,
         "logwage": 2.053643849,
         "state": 11,
         "statewkr": 0,
         "wage": 7.796257796,
         "wagesal": 15000
        },
        {
         "_deepnote_index_column": 15,
         "age": 39,
         "asian": 0,
         "black": 0,
         "educ": 16,
         "fedwkr": 0,
         "female": 1,
         "hispanic": 0,
         "imm": 0,
         "localwkr": 0,
         "logwage": 3.218875825,
         "state": 11,
         "statewkr": 0,
         "wage": 25,
         "wagesal": 65000
        },
        {
         "_deepnote_index_column": 16,
         "age": 38,
         "asian": 0,
         "black": 0,
         "educ": 14,
         "fedwkr": 1,
         "female": 1,
         "hispanic": 0,
         "imm": 0,
         "localwkr": 0,
         "logwage": 2.95651156,
         "state": 11,
         "statewkr": 0,
         "wage": 19.23076923,
         "wagesal": 40000
        },
        {
         "_deepnote_index_column": 17,
         "age": 37,
         "asian": 0,
         "black": 0,
         "educ": 13,
         "fedwkr": 0,
         "female": 0,
         "hispanic": 0,
         "imm": 0,
         "localwkr": 0,
         "logwage": 3.120140984,
         "state": 11,
         "statewkr": 0,
         "wage": 22.64957265,
         "wagesal": 53000
        },
        {
         "_deepnote_index_column": 18,
         "age": 35,
         "asian": 0,
         "black": 0,
         "educ": 13,
         "fedwkr": 0,
         "female": 1,
         "hispanic": 0,
         "imm": 0,
         "localwkr": 0,
         "logwage": 1.7029282559999999,
         "state": 11,
         "statewkr": 0,
         "wage": 5.49,
         "wagesal": 1098
        },
        {
         "_deepnote_index_column": 19,
         "age": 44,
         "asian": 0,
         "black": 0,
         "educ": 16,
         "fedwkr": 0,
         "female": 1,
         "hispanic": 0,
         "imm": 0,
         "localwkr": 0,
         "logwage": 2.532697314,
         "state": 11,
         "statewkr": 1,
         "wage": 12.58741259,
         "wagesal": 36000
        },
        {
         "_deepnote_index_column": 20,
         "age": 40,
         "asian": 0,
         "black": 0,
         "educ": 16,
         "fedwkr": 0,
         "female": 1,
         "hispanic": 0,
         "imm": 0,
         "localwkr": 0,
         "logwage": 2.95651156,
         "state": 11,
         "statewkr": 0,
         "wage": 19.23076923,
         "wagesal": 40000
        },
        {
         "_deepnote_index_column": 21,
         "age": 44,
         "asian": 0,
         "black": 0,
         "educ": 12,
         "fedwkr": 0,
         "female": 0,
         "hispanic": 0,
         "imm": 0,
         "localwkr": 0,
         "logwage": 2.95651156,
         "state": 11,
         "statewkr": 1,
         "wage": 19.23076923,
         "wagesal": 40000
        },
        {
         "_deepnote_index_column": 22,
         "age": 35,
         "asian": 0,
         "black": 0,
         "educ": 13,
         "fedwkr": 0,
         "female": 1,
         "hispanic": 0,
         "imm": 0,
         "localwkr": 0,
         "logwage": 2.779177545,
         "state": 11,
         "statewkr": 0,
         "wage": 16.10576923,
         "wagesal": 33500
        },
        {
         "_deepnote_index_column": 23,
         "age": 39,
         "asian": 0,
         "black": 0,
         "educ": 12,
         "fedwkr": 0,
         "female": 0,
         "hispanic": 0,
         "imm": 0,
         "localwkr": 0,
         "logwage": 2.793992631,
         "state": 11,
         "statewkr": 0,
         "wage": 16.34615385,
         "wagesal": 34000
        },
        {
         "_deepnote_index_column": 24,
         "age": 35,
         "asian": 0,
         "black": 0,
         "educ": 16,
         "fedwkr": 0,
         "female": 0,
         "hispanic": 0,
         "imm": 0,
         "localwkr": 0,
         "logwage": 2.409967854,
         "state": 11,
         "statewkr": 0,
         "wage": 11.13360324,
         "wagesal": 22000
        },
        {
         "_deepnote_index_column": 25,
         "age": 39,
         "asian": 0,
         "black": 0,
         "educ": 13,
         "fedwkr": 0,
         "female": 1,
         "hispanic": 0,
         "imm": 0,
         "localwkr": 0,
         "logwage": 2.381147415,
         "state": 11,
         "statewkr": 0,
         "wage": 10.81730769,
         "wagesal": 18000
        },
        {
         "_deepnote_index_column": 26,
         "age": 40,
         "asian": 0,
         "black": 0,
         "educ": 12,
         "fedwkr": 0,
         "female": 0,
         "hispanic": 0,
         "imm": 0,
         "localwkr": 0,
         "logwage": 1.386294361,
         "state": 11,
         "statewkr": 0,
         "wage": 4,
         "wagesal": 4500
        },
        {
         "_deepnote_index_column": 27,
         "age": 44,
         "asian": 0,
         "black": 0,
         "educ": 13,
         "fedwkr": 0,
         "female": 1,
         "hispanic": 0,
         "imm": 0,
         "localwkr": 0,
         "logwage": 2.1690537,
         "state": 11,
         "statewkr": 0,
         "wage": 8.75,
         "wagesal": 18200
        },
        {
         "_deepnote_index_column": 28,
         "age": 36,
         "asian": 0,
         "black": 0,
         "educ": 16,
         "fedwkr": 0,
         "female": 1,
         "hispanic": 0,
         "imm": 0,
         "localwkr": 1,
         "logwage": 2.7641396680000003,
         "state": 11,
         "statewkr": 0,
         "wage": 15.86538462,
         "wagesal": 33000
        },
        {
         "_deepnote_index_column": 29,
         "age": 37,
         "asian": 0,
         "black": 0,
         "educ": 14,
         "fedwkr": 0,
         "female": 1,
         "hispanic": 0,
         "imm": 0,
         "localwkr": 0,
         "logwage": 2.26336438,
         "state": 11,
         "statewkr": 0,
         "wage": 9.615384615,
         "wagesal": 12000
        },
        {
         "_deepnote_index_column": 30,
         "age": 40,
         "asian": 0,
         "black": 0,
         "educ": 14,
         "fedwkr": 0,
         "female": 0,
         "hispanic": 0,
         "imm": 0,
         "localwkr": 0,
         "logwage": 2.95651156,
         "state": 11,
         "statewkr": 0,
         "wage": 19.23076923,
         "wagesal": 40000
        },
        {
         "_deepnote_index_column": 31,
         "age": 40,
         "asian": 0,
         "black": 0,
         "educ": 13,
         "fedwkr": 0,
         "female": 1,
         "hispanic": 0,
         "imm": 0,
         "localwkr": 1,
         "logwage": 1.570217199,
         "state": 11,
         "statewkr": 0,
         "wage": 4.807692308,
         "wagesal": 2500
        },
        {
         "_deepnote_index_column": 32,
         "age": 42,
         "asian": 0,
         "black": 0,
         "educ": 14,
         "fedwkr": 0,
         "female": 1,
         "hispanic": 0,
         "imm": 0,
         "localwkr": 0,
         "logwage": 2.858071488,
         "state": 11,
         "statewkr": 0,
         "wage": 17.42788462,
         "wagesal": 29000
        },
        {
         "_deepnote_index_column": 33,
         "age": 43,
         "asian": 0,
         "black": 0,
         "educ": 14,
         "fedwkr": 0,
         "female": 0,
         "hispanic": 0,
         "imm": 0,
         "localwkr": 0,
         "logwage": 2.390116085,
         "state": 11,
         "statewkr": 0,
         "wage": 10.91476091,
         "wagesal": 21000
        },
        {
         "_deepnote_index_column": 34,
         "age": 35,
         "asian": 0,
         "black": 0,
         "educ": 16,
         "fedwkr": 0,
         "female": 0,
         "hispanic": 0,
         "imm": 0,
         "localwkr": 0,
         "logwage": 3.872802292,
         "state": 11,
         "statewkr": 0,
         "wage": 48.07692308,
         "wagesal": 100000
        }
       ]
      },
      "text/html": [
       "<div>\n",
       "<style scoped>\n",
       "    .dataframe tbody tr th:only-of-type {\n",
       "        vertical-align: middle;\n",
       "    }\n",
       "\n",
       "    .dataframe tbody tr th {\n",
       "        vertical-align: top;\n",
       "    }\n",
       "\n",
       "    .dataframe thead th {\n",
       "        text-align: right;\n",
       "    }\n",
       "</style>\n",
       "<table border=\"1\" class=\"dataframe\">\n",
       "  <thead>\n",
       "    <tr style=\"text-align: right;\">\n",
       "      <th></th>\n",
       "      <th>state</th>\n",
       "      <th>age</th>\n",
       "      <th>wagesal</th>\n",
       "      <th>imm</th>\n",
       "      <th>hispanic</th>\n",
       "      <th>black</th>\n",
       "      <th>asian</th>\n",
       "      <th>educ</th>\n",
       "      <th>wage</th>\n",
       "      <th>logwage</th>\n",
       "      <th>female</th>\n",
       "      <th>fedwkr</th>\n",
       "      <th>statewkr</th>\n",
       "      <th>localwkr</th>\n",
       "    </tr>\n",
       "  </thead>\n",
       "  <tbody>\n",
       "    <tr>\n",
       "      <th>0</th>\n",
       "      <td>11</td>\n",
       "      <td>44</td>\n",
       "      <td>18000</td>\n",
       "      <td>0</td>\n",
       "      <td>0</td>\n",
       "      <td>0</td>\n",
       "      <td>0</td>\n",
       "      <td>14</td>\n",
       "      <td>9.109312</td>\n",
       "      <td>2.209297</td>\n",
       "      <td>1</td>\n",
       "      <td>1</td>\n",
       "      <td>0</td>\n",
       "      <td>0</td>\n",
       "    </tr>\n",
       "    <tr>\n",
       "      <th>1</th>\n",
       "      <td>11</td>\n",
       "      <td>39</td>\n",
       "      <td>18000</td>\n",
       "      <td>0</td>\n",
       "      <td>0</td>\n",
       "      <td>0</td>\n",
       "      <td>0</td>\n",
       "      <td>14</td>\n",
       "      <td>18.000000</td>\n",
       "      <td>2.890372</td>\n",
       "      <td>0</td>\n",
       "      <td>0</td>\n",
       "      <td>0</td>\n",
       "      <td>0</td>\n",
       "    </tr>\n",
       "    <tr>\n",
       "      <th>2</th>\n",
       "      <td>11</td>\n",
       "      <td>39</td>\n",
       "      <td>35600</td>\n",
       "      <td>0</td>\n",
       "      <td>0</td>\n",
       "      <td>0</td>\n",
       "      <td>0</td>\n",
       "      <td>12</td>\n",
       "      <td>17.115385</td>\n",
       "      <td>2.839978</td>\n",
       "      <td>0</td>\n",
       "      <td>0</td>\n",
       "      <td>0</td>\n",
       "      <td>1</td>\n",
       "    </tr>\n",
       "    <tr>\n",
       "      <th>3</th>\n",
       "      <td>11</td>\n",
       "      <td>39</td>\n",
       "      <td>8000</td>\n",
       "      <td>0</td>\n",
       "      <td>0</td>\n",
       "      <td>0</td>\n",
       "      <td>0</td>\n",
       "      <td>14</td>\n",
       "      <td>5.128205</td>\n",
       "      <td>1.634756</td>\n",
       "      <td>1</td>\n",
       "      <td>0</td>\n",
       "      <td>0</td>\n",
       "      <td>0</td>\n",
       "    </tr>\n",
       "    <tr>\n",
       "      <th>4</th>\n",
       "      <td>11</td>\n",
       "      <td>39</td>\n",
       "      <td>100000</td>\n",
       "      <td>0</td>\n",
       "      <td>0</td>\n",
       "      <td>0</td>\n",
       "      <td>0</td>\n",
       "      <td>16</td>\n",
       "      <td>38.461538</td>\n",
       "      <td>3.649659</td>\n",
       "      <td>0</td>\n",
       "      <td>1</td>\n",
       "      <td>0</td>\n",
       "      <td>0</td>\n",
       "    </tr>\n",
       "    <tr>\n",
       "      <th>...</th>\n",
       "      <td>...</td>\n",
       "      <td>...</td>\n",
       "      <td>...</td>\n",
       "      <td>...</td>\n",
       "      <td>...</td>\n",
       "      <td>...</td>\n",
       "      <td>...</td>\n",
       "      <td>...</td>\n",
       "      <td>...</td>\n",
       "      <td>...</td>\n",
       "      <td>...</td>\n",
       "      <td>...</td>\n",
       "      <td>...</td>\n",
       "      <td>...</td>\n",
       "    </tr>\n",
       "    <tr>\n",
       "      <th>21902</th>\n",
       "      <td>95</td>\n",
       "      <td>36</td>\n",
       "      <td>125000</td>\n",
       "      <td>0</td>\n",
       "      <td>0</td>\n",
       "      <td>0</td>\n",
       "      <td>0</td>\n",
       "      <td>18</td>\n",
       "      <td>60.096154</td>\n",
       "      <td>4.095946</td>\n",
       "      <td>0</td>\n",
       "      <td>0</td>\n",
       "      <td>1</td>\n",
       "      <td>0</td>\n",
       "    </tr>\n",
       "    <tr>\n",
       "      <th>21903</th>\n",
       "      <td>95</td>\n",
       "      <td>38</td>\n",
       "      <td>70000</td>\n",
       "      <td>0</td>\n",
       "      <td>0</td>\n",
       "      <td>0</td>\n",
       "      <td>1</td>\n",
       "      <td>18</td>\n",
       "      <td>26.923077</td>\n",
       "      <td>3.292984</td>\n",
       "      <td>1</td>\n",
       "      <td>0</td>\n",
       "      <td>0</td>\n",
       "      <td>0</td>\n",
       "    </tr>\n",
       "    <tr>\n",
       "      <th>21904</th>\n",
       "      <td>95</td>\n",
       "      <td>43</td>\n",
       "      <td>48208</td>\n",
       "      <td>0</td>\n",
       "      <td>0</td>\n",
       "      <td>0</td>\n",
       "      <td>0</td>\n",
       "      <td>14</td>\n",
       "      <td>20.601709</td>\n",
       "      <td>3.025374</td>\n",
       "      <td>1</td>\n",
       "      <td>0</td>\n",
       "      <td>0</td>\n",
       "      <td>0</td>\n",
       "    </tr>\n",
       "    <tr>\n",
       "      <th>21905</th>\n",
       "      <td>95</td>\n",
       "      <td>43</td>\n",
       "      <td>75000</td>\n",
       "      <td>0</td>\n",
       "      <td>0</td>\n",
       "      <td>0</td>\n",
       "      <td>0</td>\n",
       "      <td>18</td>\n",
       "      <td>36.057692</td>\n",
       "      <td>3.585120</td>\n",
       "      <td>0</td>\n",
       "      <td>0</td>\n",
       "      <td>0</td>\n",
       "      <td>0</td>\n",
       "    </tr>\n",
       "    <tr>\n",
       "      <th>21906</th>\n",
       "      <td>95</td>\n",
       "      <td>44</td>\n",
       "      <td>50000</td>\n",
       "      <td>1</td>\n",
       "      <td>0</td>\n",
       "      <td>0</td>\n",
       "      <td>1</td>\n",
       "      <td>20</td>\n",
       "      <td>24.038462</td>\n",
       "      <td>3.179655</td>\n",
       "      <td>1</td>\n",
       "      <td>0</td>\n",
       "      <td>1</td>\n",
       "      <td>0</td>\n",
       "    </tr>\n",
       "  </tbody>\n",
       "</table>\n",
       "<p>21907 rows × 14 columns</p>\n",
       "</div>"
      ],
      "text/plain": [
       "       state  age  wagesal  imm  hispanic  black  asian  educ       wage  \\\n",
       "0         11   44    18000    0         0      0      0    14   9.109312   \n",
       "1         11   39    18000    0         0      0      0    14  18.000000   \n",
       "2         11   39    35600    0         0      0      0    12  17.115385   \n",
       "3         11   39     8000    0         0      0      0    14   5.128205   \n",
       "4         11   39   100000    0         0      0      0    16  38.461538   \n",
       "...      ...  ...      ...  ...       ...    ...    ...   ...        ...   \n",
       "21902     95   36   125000    0         0      0      0    18  60.096154   \n",
       "21903     95   38    70000    0         0      0      1    18  26.923077   \n",
       "21904     95   43    48208    0         0      0      0    14  20.601709   \n",
       "21905     95   43    75000    0         0      0      0    18  36.057692   \n",
       "21906     95   44    50000    1         0      0      1    20  24.038462   \n",
       "\n",
       "        logwage  female  fedwkr  statewkr  localwkr  \n",
       "0      2.209297       1       1         0         0  \n",
       "1      2.890372       0       0         0         0  \n",
       "2      2.839978       0       0         0         1  \n",
       "3      1.634756       1       0         0         0  \n",
       "4      3.649659       0       1         0         0  \n",
       "...         ...     ...     ...       ...       ...  \n",
       "21902  4.095946       0       0         1         0  \n",
       "21903  3.292984       1       0         0         0  \n",
       "21904  3.025374       1       0         0         0  \n",
       "21905  3.585120       0       0         0         0  \n",
       "21906  3.179655       1       0         1         0  \n",
       "\n",
       "[21907 rows x 14 columns]"
      ]
     },
     "execution_count": 20,
     "metadata": {},
     "output_type": "execute_result"
    }
   ],
   "source": [
    "cps = pd.read_csv('cps.csv')\n",
    "cps"
   ]
  },
  {
   "cell_type": "markdown",
   "metadata": {
    "cell_id": "00034-9dbca0b3-f829-45e9-ae1b-a653c2668c18",
    "deepnote_cell_type": "markdown",
    "output_cleared": false
   },
   "source": [
    "We want to consider a person's wage and years of schooling. But first..."
   ]
  },
  {
   "cell_type": "markdown",
   "metadata": {
    "cell_id": "00035-0092bfac-d60f-4ee0-9b49-0f7de865001e",
    "deepnote_cell_type": "markdown",
    "output_cleared": false
   },
   "source": [
    "#### Wage and Similar Variables"
   ]
  },
  {
   "cell_type": "markdown",
   "metadata": {
    "cell_id": "00036-bc03b3eb-7b1e-431f-aa75-2bb2eff8164d",
    "deepnote_cell_type": "markdown",
    "output_cleared": false
   },
   "source": [
    "Wage is an interesting variable because it is something that tends to vary by a proportion rather than an absolute amount. To highlight this fact, let's actually consider how the variable GDP behaves. GDP tends to grow by a certain percent each year; no one is particularly interested in how *much* GDP changes from one year to the next, or from one country to another, but rather by *what percent* it changes. If you were to plot GDP over time for a country, it might look something like this:"
   ]
  },
  {
   "cell_type": "code",
   "execution_count": null,
   "metadata": {
    "cell_id": "00037-8825f7e3-b08c-4dc3-b9ae-8cce133258cb",
    "deepnote_cell_type": "code",
    "output_cleared": false
   },
   "outputs": [
    {
     "data": {
      "image/png": "[encoded data removed]",
      "text/plain": [
       "<Figure size 576x432 with 1 Axes>"
      ]
     },
     "metadata": {
      "needs_background": "light"
     },
     "output_type": "display_data"
    }
   ],
   "source": [
    "GDPs = np.array([100])\n",
    "\n",
    "for _ in np.arange(99):\n",
    "    GDPs = np.append(GDPs, GDPs[-1] * 1.05)\n",
    "    \n",
    "plt.figure(figsize=(8,6))\n",
    "plt.plot(np.arange(100), GDPs)\n",
    "plt.xlabel('Years')\n",
    "plt.ylabel('GDP')\n",
    "plt.title('GDP Over Time');"
   ]
  },
  {
   "cell_type": "markdown",
   "metadata": {
    "cell_id": "00038-d1082342-f674-463b-9e49-d83c49005e66",
    "deepnote_cell_type": "markdown",
    "output_cleared": false
   },
   "source": [
    "The starting value for GDP is 100, and GDP grows by 5 percent each year. Look at how how much GDP grows in the later years!\n",
    "\n",
    "While this phenomenon is impressive, it is misleading. At surface level, it seems to imply that something different happened at around year 50 or so that caused GDP to increase considerably in subsequent years. We know that this isn't true, and that this is just a consequence of exponential growth.\n",
    "\n",
    "To counter this effect, for variables that tend to vary from one observation to the next by proportions rather than absolute amounts, we take the natural log of these variables. Let's do that for GDP:"
   ]
  },
  {
   "cell_type": "code",
   "execution_count": null,
   "metadata": {
    "cell_id": "00039-6a087d93-6bad-4aeb-bf27-27b0ae75eab4",
    "deepnote_cell_type": "code",
    "output_cleared": false
   },
   "outputs": [
    {
     "data": {
      "image/png": "[encoded data removed]",
      "text/plain": [
       "<Figure size 576x432 with 1 Axes>"
      ]
     },
     "metadata": {
      "needs_background": "light"
     },
     "output_type": "display_data"
    }
   ],
   "source": [
    "ln_GDPs = np.log(GDPs)\n",
    "\n",
    "plt.figure(figsize=(8,6))\n",
    "plt.plot(np.arange(100), ln_GDPs)\n",
    "plt.xlabel('Years')\n",
    "plt.ylabel('GDP')\n",
    "plt.title('GDP Over Time');"
   ]
  },
  {
   "cell_type": "markdown",
   "metadata": {
    "cell_id": "00040-549130b4-8eee-442c-9413-e39214edaffa",
    "deepnote_cell_type": "markdown",
    "output_cleared": false
   },
   "source": [
    "We've now uncovered a linear relationship between years and GDP! You can interpret the slope of this line as the approximate *percent change* in GDP for an increase in one year. To verify:"
   ]
  },
  {
   "cell_type": "code",
   "execution_count": null,
   "metadata": {
    "cell_id": "00041-74be0dfc-2016-492b-94cd-05940432e3cb",
    "deepnote_cell_type": "code",
    "output_cleared": false
   },
   "outputs": [
    {
     "name": "stdout",
     "output_type": "stream",
     "text": [
      "Slope between years 0 and 1:  0.04879016416943127\n"
     ]
    }
   ],
   "source": [
    "print('Slope between years 0 and 1: ', ln_GDPs[1] - ln_GDPs[0])"
   ]
  },
  {
   "cell_type": "markdown",
   "metadata": {
    "cell_id": "00042-7dbb8c04-2f15-4cc9-8a26-551820c73d23",
    "deepnote_cell_type": "markdown",
    "output_cleared": false,
    "tags": []
   },
   "source": [
    "To uncover the linear relationship between years and GDP, we log-transformed our GDP data. \n",
    "This is actaully a fairly common strategy when trying to do linear regression. \n",
    "Remember the scatter plots that looked more like a parabola than a line in Data 8? \n",
    "With data transformations, we can now fit a linear regression model on those plots as well!\n",
    "A very useful rule to determine which data transformation to use is the \"Tukey and Mosteller's Bulging Rule\", \n",
    "which is represented as a graph below. \n",
    "\n",
    "![Tukey and Mosteller's Bulging Rule](bulge_diagram.png)"
   ]
  },
  {
   "cell_type": "markdown",
   "metadata": {
    "cell_id": "00043-76c30ec1-7a51-4522-a406-7dd1f81aea75",
    "deepnote_cell_type": "markdown",
    "output_cleared": false,
    "tags": []
   },
   "source": [
    "Here the curves represent the shape of the line you might see in your data scatter plot. \n",
    "As seen in the GDP example, our data's curvature follows the curve in the 4th quadrant of the above diagram, \n",
    "so some appropriate trandformations we can do is either log-tansform the y-axis, square root the y-axis, or raise the x-axis to a higher power. \n"
   ]
  },
  {
   "cell_type": "markdown",
   "metadata": {
    "cell_id": "00042-1335ab37-c803-4d1d-8f48-7f706ae2dba5",
    "deepnote_cell_type": "markdown",
    "output_cleared": false
   },
   "source": [
    "It turns out that wage is another one of these variables, and so when we do studies on wage we usually take the natural log of wage instead. Below we plot log wage and years of schooling for the CPS data."
   ]
  },
  {
   "cell_type": "code",
   "execution_count": null,
   "metadata": {
    "cell_id": "00043-59de9371-2159-4dd0-acf6-a6f8e4067773",
    "deepnote_cell_type": "code",
    "output_cleared": false,
    "tags": [
     "remove_input"
    ]
   },
   "outputs": [
    {
     "data": {
      "image/png": "[encoded data removed]",
      "text/plain": [
       "<Figure size 576x432 with 1 Axes>"
      ]
     },
     "metadata": {
      "needs_background": "light"
     },
     "output_type": "display_data"
    }
   ],
   "source": [
    "educ = cps['educ']\n",
    "logwage = cps['logwage']\n",
    "\n",
    "plt.figure(figsize=(8,6))\n",
    "plt.scatter(educ, logwage)\n",
    "plt.xlabel('Years of Education')\n",
    "plt.ylabel('Log Wage')\n",
    "plt.title('Log Wage vs. Years of Education');"
   ]
  },
  {
   "cell_type": "markdown",
   "metadata": {
    "cell_id": "00044-ee689a53-1828-4bec-bfe2-026838098a2e",
    "deepnote_cell_type": "markdown",
    "output_cleared": false
   },
   "source": [
    "Now let's fit a least-squares regression line onto this data. First, we'll do it manually in the Data 8 style above."
   ]
  },
  {
   "cell_type": "code",
   "execution_count": null,
   "metadata": {
    "cell_id": "00045-66452f91-5e25-441c-adce-cc68a2cb4ff9",
    "deepnote_cell_type": "code",
    "output_cleared": false
   },
   "outputs": [],
   "source": [
    "educ_standard = standard_units(educ)\n",
    "logwage_standard = standard_units(logwage)\n",
    "\n",
    "r = correlation(logwage_standard, educ_standard)\n",
    "slope = r * np.std(logwage) / np.std(educ)\n",
    "intercept = np.mean(logwage) - slope * np.mean(educ)"
   ]
  },
  {
   "cell_type": "code",
   "execution_count": null,
   "metadata": {
    "cell_id": "00046-c97e6c83-3593-4127-a031-e10ff44a4cbb",
    "deepnote_cell_type": "code",
    "output_cleared": false,
    "tags": [
     "remove_input"
    ]
   },
   "outputs": [
    {
     "name": "stdout",
     "output_type": "stream",
     "text": [
      "Slope:  0.10781133924799272\n",
      "Intercept:  1.472287673006932\n"
     ]
    },
    {
     "data": {
      "image/png": "[encoded data removed]",
      "text/plain": [
       "<Figure size 576x432 with 1 Axes>"
      ]
     },
     "metadata": {
      "needs_background": "light"
     },
     "output_type": "display_data"
    }
   ],
   "source": [
    "plt.figure(figsize=(8,6))\n",
    "plt.scatter(educ, logwage)\n",
    "plt.plot(np.linspace(0, 20), slope * np.linspace(0, 20) + intercept, color='tab:orange')\n",
    "plt.xlabel('Years of Education')\n",
    "plt.ylabel('Log Wage')\n",
    "plt.title('Log Wage vs. Years of Education');\n",
    "print('Slope: ', slope)\n",
    "print('Intercept: ', intercept)"
   ]
  },
  {
   "cell_type": "markdown",
   "metadata": {
    "cell_id": "00047-93fbc0a4-13d6-4f10-aa53-819b96fe3541",
    "deepnote_cell_type": "markdown",
    "output_cleared": false
   },
   "source": [
    "So from the very simple and straight-forward model above, it seems that we estimate a slope of roughly 0.1, meaning we might expect that a one-year increase in schooling is associated with a 10% increase in wage, on average.\n",
    "\n",
    "We can also see that we have a non-zero intercept term. We should be careful how we interpret this term; from a strictly mathematical point of view, the intercept represents the expected value of $y$ (in this case log wage) when $x = 0$. However, in economics sometimes it makes no sense for $x$ to be 0, and so we cannot use the above interpretation. We won't go into detail this lecture, but regardless of whether the intercept is interpretable, we almost always want to include it."
   ]
  },
  {
   "cell_type": "markdown",
   "metadata": {
    "cell_id": "00048-6b5780fe-4cff-47ad-8237-9ffd641d6488",
    "deepnote_cell_type": "markdown",
    "output_cleared": false
   },
   "source": [
    "## Uncertainty in $\\hat{\\beta}$"
   ]
  },
  {
   "cell_type": "markdown",
   "metadata": {
    "cell_id": "00049-f28dc10f-1022-4607-9847-98bb1e8f4c8f",
    "deepnote_cell_type": "markdown",
    "output_cleared": false
   },
   "source": [
    "We mentioned earlier that the slope we estimate from regression is exactly that: an estimate of the \"true\" underlying slope. Because of this, the estimate $\\hat{\\beta}$ is a random variable that depends on the underlying data.\n",
    "\n",
    "Let's assume there is the following true linear relation between log wage and years of schooling,\n",
    "\n",
    "$$\n",
    "\\text{logwage} = \\alpha + \\beta \\cdot \\text{years of schooling} + \\varepsilon\n",
    "$$\n",
    "\n",
    "and we try to estimate $\\alpha$ and $\\beta$.\n",
    "\n",
    "If our data are \"well-behaved\", then even though there is uncertainty in our estimate $\\hat{\\beta}$, on average $\\hat{\\beta}$ will be $\\beta$; that is to say that the expectation of $\\hat{\\beta}$ is $\\beta$. Additionally, if our data are \"well-behaved\", then $\\hat{\\beta}$ has some normal distribution with mean $\\beta$. We won't worry too much about what assumptions need to be satisfied to make the data \"well-behaved\".\n",
    "\n",
    "You can think of each person as an observation of these variables, and using a sample of people we can estimate the relationship between the two variables. However, due to the noise term and the fact that we only have a finite sample of people, the true relationship is always hidden from us, and we can only hope to get better estimates by designing better experiments and sampling more people.\n",
    "\n",
    "Let's try to get an idea of how \"certain\" we can be of our estimate $\\hat{\\beta}$. We'll do this in classic Data 8 style: bootstrapping. Using our existing sample data, we'll create new samples by bootstrapping from the existing data. Then, for each sample, we'll fit a line, and keep the slope of that line in a list with all of the other slopes. Then, we'll find the standard deviation of that list of slopes."
   ]
  },
  {
   "cell_type": "code",
   "execution_count": null,
   "metadata": {
    "cell_id": "00050-e3e906eb-4374-48bc-8072-7221f6691f8d",
    "deepnote_cell_type": "code",
    "output_cleared": false
   },
   "outputs": [
    {
     "name": "stdout",
     "output_type": "stream",
     "text": [
      "Standard dev. of bootstrapped slopes:  0.0015948419317821463\n"
     ]
    },
    {
     "data": {
      "image/png": "[encoded data removed]",
      "text/plain": [
       "<Figure size 432x288 with 1 Axes>"
      ]
     },
     "metadata": {
      "needs_background": "light"
     },
     "output_type": "display_data"
    }
   ],
   "source": [
    "slopes = np.array([])\n",
    "educ_logwage = cps[['educ', 'logwage']]\n",
    "\n",
    "np.random.seed(42)\n",
    "for i in np.arange(200):\n",
    "    educ_logwage_sample = educ_logwage.sample(frac=1, replace=True)\n",
    "    y = educ_logwage_sample['logwage']\n",
    "    X = educ_logwage_sample['educ']\n",
    "    model = lm.LinearRegression().fit(pd.DataFrame(X), y)\n",
    "    slopes  = np.append(model.coef_[0], slopes)\n",
    "    \n",
    "plt.hist(slopes, density=False)  \n",
    "print('Standard dev. of bootstrapped slopes: ', np.std(slopes))"
   ]
  },
  {
   "cell_type": "markdown",
   "metadata": {
    "cell_id": "00051-0bdf5134-36b1-4a3c-b809-d6ec14cf302c",
    "deepnote_cell_type": "markdown",
    "output_cleared": false
   },
   "source": [
    "Our bootstrapped approximation standard error of 0.00159 is pretty close to the true standard error of 0.00144. \n",
    "\n",
    "Armed with a standard error, we can now form a 95% confidence interval and perform a test of significance to see if $\\hat{\\beta}$ is significantly different from 0."
   ]
  },
  {
   "cell_type": "code",
   "execution_count": null,
   "metadata": {
    "cell_id": "00052-c92f5945-881c-40ea-b4e6-d8bb99d1cbbd",
    "deepnote_cell_type": "code",
    "output_cleared": false
   },
   "outputs": [
    {
     "name": "stdout",
     "output_type": "stream",
     "text": [
      "95% confidence interval: [0.10456031293884159, 0.11093735589830418]\n"
     ]
    }
   ],
   "source": [
    "# Using our resampled slopes\n",
    "lower_bound = percentile(2.5, slopes)\n",
    "upper_bound = percentile(97.5, slopes)\n",
    "print('95% confidence interval: [{}, {}]'.format(lower_bound, upper_bound))"
   ]
  },
  {
   "cell_type": "markdown",
   "metadata": {
    "cell_id": "00053-149a633f-f790-4d3a-93da-e3867e31047a",
    "deepnote_cell_type": "markdown",
    "output_cleared": false
   },
   "source": [
    "The 95% confidence interval does not contain 0, and so $\\beta$ is unlikely to be 0."
   ]
  },
  {
   "cell_type": "markdown",
   "metadata": {
    "cell_id": "00054-d8d33fec-9d45-409d-a61c-306822d07db0",
    "deepnote_cell_type": "markdown",
    "output_cleared": false
   },
   "source": [
    "## Regression with a Binary Variable"
   ]
  },
  {
   "cell_type": "markdown",
   "metadata": {
    "cell_id": "00055-2ce0e7d9-4222-4f8c-a9e3-11ed4af13ee9",
    "deepnote_cell_type": "markdown",
    "output_cleared": false
   },
   "source": [
    "A binary variable is a variable that takes on the value of 1 if some condition is true, and 0 otherwise. These are also called dummy variables or indicator variables. It might sound strange at first, but you can actually perform regression of a variable like log earnings onto a binary variable.\n",
    "\n",
    "Let's import a different dataset that has the following features. Some will be useful to us later."
   ]
  },
  {
   "cell_type": "code",
   "execution_count": null,
   "metadata": {
    "cell_id": "00056-c6b67d1a-1536-452a-82de-eba1ac3ed053",
    "deepnote_cell_type": "code",
    "output_cleared": false
   },
   "outputs": [
    {
     "data": {
      "application/vnd.deepnote.dataframe.v2+json": {
       "column_count": 8,
       "columns": [
        {
         "dtype": "int64",
         "name": "male",
         "stats": {
          "histogram": [
           {
            "bin_end": 0.1,
            "bin_start": 0,
            "count": 2638
           },
           {
            "bin_end": 0.2,
            "bin_start": 0.1,
            "count": 0
           },
           {
            "bin_end": 0.30000000000000004,
            "bin_start": 0.2,
            "count": 0
           },
           {
            "bin_end": 0.4,
            "bin_start": 0.30000000000000004,
            "count": 0
           },
           {
            "bin_end": 0.5,
            "bin_start": 0.4,
            "count": 0
           },
           {
            "bin_end": 0.6000000000000001,
            "bin_start": 0.5,
            "count": 0
           },
           {
            "bin_end": 0.7000000000000001,
            "bin_start": 0.6000000000000001,
            "count": 0
           },
           {
            "bin_end": 0.8,
            "bin_start": 0.7000000000000001,
            "count": 0
           },
           {
            "bin_end": 0.9,
            "bin_start": 0.8,
            "count": 0
           },
           {
            "bin_end": 1,
            "bin_start": 0.9,
            "count": 2775
           }
          ],
          "max": 1,
          "min": 0,
          "nan_count": 0,
          "unique_count": 2
         }
        },
        {
         "dtype": "float64",
         "name": "AFQT",
         "stats": {
          "histogram": [
           {
            "bin_end": 10,
            "bin_start": 0,
            "count": 634
           },
           {
            "bin_end": 20,
            "bin_start": 10,
            "count": 693
           },
           {
            "bin_end": 30,
            "bin_start": 20,
            "count": 600
           },
           {
            "bin_end": 40,
            "bin_start": 30,
            "count": 573
           },
           {
            "bin_end": 50,
            "bin_start": 40,
            "count": 540
           },
           {
            "bin_end": 60,
            "bin_start": 50,
            "count": 513
           },
           {
            "bin_end": 70,
            "bin_start": 60,
            "count": 496
           },
           {
            "bin_end": 80,
            "bin_start": 70,
            "count": 486
           },
           {
            "bin_end": 90,
            "bin_start": 80,
            "count": 450
           },
           {
            "bin_end": 100,
            "bin_start": 90,
            "count": 428
           }
          ],
          "max": 100,
          "min": 0,
          "nan_count": 0,
          "unique_count": 5223
         }
        },
        {
         "dtype": "float64",
         "name": "real_earnings_1999",
         "stats": {
          "histogram": [
           {
            "bin_end": 25937.01486793,
            "bin_start": 6.5442977,
            "count": 1525
           },
           {
            "bin_end": 51867.48543816,
            "bin_start": 25937.01486793,
            "count": 2058
           },
           {
            "bin_end": 77797.95600839001,
            "bin_start": 51867.48543816,
            "count": 1068
           },
           {
            "bin_end": 103728.42657862001,
            "bin_start": 77797.95600839001,
            "count": 381
           },
           {
            "bin_end": 129658.89714885001,
            "bin_start": 103728.42657862001,
            "count": 155
           },
           {
            "bin_end": 155589.36771908,
            "bin_start": 129658.89714885001,
            "count": 77
           },
           {
            "bin_end": 181519.83828931,
            "bin_start": 155589.36771908,
            "count": 0
           },
           {
            "bin_end": 207450.30885954,
            "bin_start": 181519.83828931,
            "count": 0
           },
           {
            "bin_end": 233380.77942977002,
            "bin_start": 207450.30885954,
            "count": 0
           },
           {
            "bin_end": 259311.25,
            "bin_start": 233380.77942977002,
            "count": 149
           }
          ],
          "max": 259311.25,
          "min": 6.5442977,
          "nan_count": 0,
          "unique_count": 627
         }
        },
        {
         "dtype": "float64",
         "name": "weeks_worked_1999",
         "stats": {
          "histogram": [
           {
            "bin_end": 5.2,
            "bin_start": 0,
            "count": 93
           },
           {
            "bin_end": 10.4,
            "bin_start": 5.2,
            "count": 50
           },
           {
            "bin_end": 15.600000000000001,
            "bin_start": 10.4,
            "count": 54
           },
           {
            "bin_end": 20.8,
            "bin_start": 15.600000000000001,
            "count": 61
           },
           {
            "bin_end": 26,
            "bin_start": 20.8,
            "count": 55
           },
           {
            "bin_end": 31.200000000000003,
            "bin_start": 26,
            "count": 90
           },
           {
            "bin_end": 36.4,
            "bin_start": 31.200000000000003,
            "count": 89
           },
           {
            "bin_end": 41.6,
            "bin_start": 36.4,
            "count": 93
           },
           {
            "bin_end": 46.800000000000004,
            "bin_start": 41.6,
            "count": 150
           },
           {
            "bin_end": 52,
            "bin_start": 46.800000000000004,
            "count": 4678
           }
          ],
          "max": 52,
          "min": 0,
          "nan_count": 0,
          "unique_count": 53
         }
        },
        {
         "dtype": "float64",
         "name": "log_earn_1999",
         "stats": {
          "histogram": [
           {
            "bin_end": 2.9373131169500475,
            "bin_start": 1.8785940903195035,
            "count": 4
           },
           {
            "bin_end": 3.996032143580592,
            "bin_start": 2.9373131169500475,
            "count": 10
           },
           {
            "bin_end": 5.054751170211136,
            "bin_start": 3.996032143580592,
            "count": 3
           },
           {
            "bin_end": 6.11347019684168,
            "bin_start": 5.054751170211136,
            "count": 16
           },
           {
            "bin_end": 7.172189223472224,
            "bin_start": 6.11347019684168,
            "count": 31
           },
           {
            "bin_end": 8.230908250102768,
            "bin_start": 7.172189223472224,
            "count": 118
           },
           {
            "bin_end": 9.289627276733313,
            "bin_start": 8.230908250102768,
            "count": 312
           },
           {
            "bin_end": 10.348346303363858,
            "bin_start": 9.289627276733313,
            "count": 1480
           },
           {
            "bin_end": 11.407065329994403,
            "bin_start": 10.348346303363858,
            "count": 2913
           },
           {
            "bin_end": 12.465784356624944,
            "bin_start": 11.407065329994403,
            "count": 526
           }
          ],
          "max": 12.465784356624944,
          "min": 1.8785940903195035,
          "nan_count": 0,
          "unique_count": 627
         }
        },
        {
         "dtype": "int64",
         "name": "college",
         "stats": {
          "histogram": [
           {
            "bin_end": 0.1,
            "bin_start": 0,
            "count": 4274
           },
           {
            "bin_end": 0.2,
            "bin_start": 0.1,
            "count": 0
           },
           {
            "bin_end": 0.30000000000000004,
            "bin_start": 0.2,
            "count": 0
           },
           {
            "bin_end": 0.4,
            "bin_start": 0.30000000000000004,
            "count": 0
           },
           {
            "bin_end": 0.5,
            "bin_start": 0.4,
            "count": 0
           },
           {
            "bin_end": 0.6000000000000001,
            "bin_start": 0.5,
            "count": 0
           },
           {
            "bin_end": 0.7000000000000001,
            "bin_start": 0.6000000000000001,
            "count": 0
           },
           {
            "bin_end": 0.8,
            "bin_start": 0.7000000000000001,
            "count": 0
           },
           {
            "bin_end": 0.9,
            "bin_start": 0.8,
            "count": 0
           },
           {
            "bin_end": 1,
            "bin_start": 0.9,
            "count": 1139
           }
          ],
          "max": 1,
          "min": 0,
          "nan_count": 0,
          "unique_count": 2
         }
        },
        {
         "dtype": "int64",
         "name": "mother_college",
         "stats": {
          "histogram": [
           {
            "bin_end": 0.1,
            "bin_start": 0,
            "count": 4960
           },
           {
            "bin_end": 0.2,
            "bin_start": 0.1,
            "count": 0
           },
           {
            "bin_end": 0.30000000000000004,
            "bin_start": 0.2,
            "count": 0
           },
           {
            "bin_end": 0.4,
            "bin_start": 0.30000000000000004,
            "count": 0
           },
           {
            "bin_end": 0.5,
            "bin_start": 0.4,
            "count": 0
           },
           {
            "bin_end": 0.6000000000000001,
            "bin_start": 0.5,
            "count": 0
           },
           {
            "bin_end": 0.7000000000000001,
            "bin_start": 0.6000000000000001,
            "count": 0
           },
           {
            "bin_end": 0.8,
            "bin_start": 0.7000000000000001,
            "count": 0
           },
           {
            "bin_end": 0.9,
            "bin_start": 0.8,
            "count": 0
           },
           {
            "bin_end": 1,
            "bin_start": 0.9,
            "count": 453
           }
          ],
          "max": 1,
          "min": 0,
          "nan_count": 0,
          "unique_count": 2
         }
        },
        {
         "dtype": "int64",
         "name": "father_college",
         "stats": {
          "histogram": [
           {
            "bin_end": 0.1,
            "bin_start": 0,
            "count": 4645
           },
           {
            "bin_end": 0.2,
            "bin_start": 0.1,
            "count": 0
           },
           {
            "bin_end": 0.30000000000000004,
            "bin_start": 0.2,
            "count": 0
           },
           {
            "bin_end": 0.4,
            "bin_start": 0.30000000000000004,
            "count": 0
           },
           {
            "bin_end": 0.5,
            "bin_start": 0.4,
            "count": 0
           },
           {
            "bin_end": 0.6000000000000001,
            "bin_start": 0.5,
            "count": 0
           },
           {
            "bin_end": 0.7000000000000001,
            "bin_start": 0.6000000000000001,
            "count": 0
           },
           {
            "bin_end": 0.8,
            "bin_start": 0.7000000000000001,
            "count": 0
           },
           {
            "bin_end": 0.9,
            "bin_start": 0.8,
            "count": 0
           },
           {
            "bin_end": 1,
            "bin_start": 0.9,
            "count": 768
           }
          ],
          "max": 1,
          "min": 0,
          "nan_count": 0,
          "unique_count": 2
         }
        },
        {
         "dtype": "int64",
         "name": "_deepnote_index_column"
        }
       ],
       "row_count": 5413,
       "rows_bottom": [
        {
         "AFQT": 88.359001,
         "_deepnote_index_column": 5350,
         "college": 1,
         "father_college": 1,
         "log_earn_1999": 8.968670921002103,
         "male": 0,
         "mother_college": 0,
         "real_earnings_1999": 7853.1572,
         "weeks_worked_1999": 52
        },
        {
         "AFQT": 51.243,
         "_deepnote_index_column": 5351,
         "college": 0,
         "father_college": 1,
         "log_earn_1999": 10.732259564198387,
         "male": 1,
         "mother_college": 0,
         "real_earnings_1999": 45810.086,
         "weeks_worked_1999": 52
        },
        {
         "AFQT": 85.384003,
         "_deepnote_index_column": 5352,
         "college": 1,
         "father_college": 0,
         "log_earn_1999": 10.760430428431354,
         "male": 1,
         "mother_college": 0,
         "real_earnings_1999": 47118.945,
         "weeks_worked_1999": 52
        },
        {
         "AFQT": 62.245998,
         "_deepnote_index_column": 5353,
         "college": 1,
         "father_college": 1,
         "log_earn_1999": 11.396419120247044,
         "male": 1,
         "mother_college": 1,
         "real_earnings_1999": 89002.445,
         "weeks_worked_1999": 52
        },
        {
         "AFQT": 83.987999,
         "_deepnote_index_column": 5354,
         "college": 0,
         "father_college": 1,
         "log_earn_1999": 10.78330563028161,
         "male": 0,
         "mother_college": 0,
         "real_earnings_1999": 48209.223,
         "weeks_worked_1999": 52
        },
        {
         "AFQT": 76.524002,
         "_deepnote_index_column": 5355,
         "college": 1,
         "father_college": 1,
         "log_earn_1999": 11.202263130685015,
         "male": 1,
         "mother_college": 0,
         "real_earnings_1999": 73296.133,
         "weeks_worked_1999": 52
        },
        {
         "AFQT": 29.096001,
         "_deepnote_index_column": 5356,
         "college": 0,
         "father_college": 0,
         "log_earn_1999": 10.121350465790703,
         "male": 0,
         "mother_college": 0,
         "real_earnings_1999": 24868.332,
         "weeks_worked_1999": 52
        },
        {
         "AFQT": 56.116001,
         "_deepnote_index_column": 5357,
         "college": 1,
         "father_college": 0,
         "log_earn_1999": 11.271255988528685,
         "male": 1,
         "mother_college": 0,
         "real_earnings_1999": 78531.57,
         "weeks_worked_1999": 52
        },
        {
         "AFQT": 74.244003,
         "_deepnote_index_column": 5358,
         "college": 1,
         "father_college": 0,
         "log_earn_1999": 10.914581099163088,
         "male": 1,
         "mother_college": 1,
         "real_earnings_1999": 54972.102,
         "weeks_worked_1999": 52
        },
        {
         "AFQT": 54.283001,
         "_deepnote_index_column": 5359,
         "college": 1,
         "father_college": 1,
         "log_earn_1999": 10.840473121412122,
         "male": 1,
         "mother_college": 0,
         "real_earnings_1999": 51045.523,
         "weeks_worked_1999": 52
        },
        {
         "AFQT": 24.049999,
         "_deepnote_index_column": 5360,
         "college": 0,
         "father_college": 0,
         "log_earn_1999": 10.211864464438543,
         "male": 0,
         "mother_college": 0,
         "real_earnings_1999": 27224.279,
         "weeks_worked_1999": 52
        },
        {
         "AFQT": 20.531,
         "_deepnote_index_column": 5361,
         "college": 0,
         "father_college": 0,
         "log_earn_1999": 11.165895487019448,
         "male": 1,
         "mother_college": 0,
         "real_earnings_1999": 70678.414,
         "weeks_worked_1999": 52
        },
        {
         "AFQT": 7.223,
         "_deepnote_index_column": 5362,
         "college": 0,
         "father_college": 0,
         "log_earn_1999": 9.949500148546363,
         "male": 0,
         "mother_college": 0,
         "real_earnings_1999": 20941.752,
         "weeks_worked_1999": 52
        },
        {
         "AFQT": 15.880999999999998,
         "_deepnote_index_column": 5363,
         "college": 0,
         "father_college": 0,
         "log_earn_1999": 10.983573958522674,
         "male": 1,
         "mother_college": 0,
         "real_earnings_1999": 58898.68,
         "weeks_worked_1999": 52
        },
        {
         "AFQT": 64.32399699999999,
         "_deepnote_index_column": 5364,
         "college": 0,
         "father_college": 0,
         "log_earn_1999": 10.35496528848886,
         "male": 0,
         "mother_college": 0,
         "real_earnings_1999": 31412.629,
         "weeks_worked_1999": 52
        },
        {
         "AFQT": 72.168999,
         "_deepnote_index_column": 5365,
         "college": 1,
         "father_college": 0,
         "log_earn_1999": 10.902604904171326,
         "male": 1,
         "mother_college": 0,
         "real_earnings_1999": 54317.672,
         "weeks_worked_1999": 52
        },
        {
         "AFQT": 27.983,
         "_deepnote_index_column": 5366,
         "college": 0,
         "father_college": 0,
         "log_earn_1999": 10.31240569206338,
         "male": 0,
         "mother_college": 0,
         "real_earnings_1999": 30103.77,
         "weeks_worked_1999": 52
        },
        {
         "AFQT": 32.592999,
         "_deepnote_index_column": 5367,
         "college": 0,
         "father_college": 0,
         "log_earn_1999": 11.782081612294672,
         "male": 1,
         "mother_college": 0,
         "real_earnings_1999": 130885.95,
         "weeks_worked_1999": 52
        },
        {
         "AFQT": 22.983,
         "_deepnote_index_column": 5368,
         "college": 0,
         "father_college": 0,
         "log_earn_1999": 9.815968755921842,
         "male": 1,
         "mother_college": 0,
         "real_earnings_1999": 18324.033,
         "weeks_worked_1999": 52
        },
        {
         "AFQT": 10.769,
         "_deepnote_index_column": 5369,
         "college": 0,
         "father_college": 0,
         "log_earn_1999": 10.010124747891506,
         "male": 0,
         "mother_college": 0,
         "real_earnings_1999": 22250.611,
         "weeks_worked_1999": 52
        },
        {
         "AFQT": 33.410999,
         "_deepnote_index_column": 5370,
         "college": 0,
         "father_college": 0,
         "log_earn_1999": 9.986314135476745,
         "male": 0,
         "mother_college": 0,
         "real_earnings_1999": 21727.068,
         "weeks_worked_1999": 51
        },
        {
         "AFQT": 29.169001,
         "_deepnote_index_column": 5371,
         "college": 0,
         "father_college": 0,
         "log_earn_1999": 10.914581099163088,
         "male": 1,
         "mother_college": 0,
         "real_earnings_1999": 54972.102,
         "weeks_worked_1999": 52
        },
        {
         "AFQT": 31.207001,
         "_deepnote_index_column": 5372,
         "college": 0,
         "father_college": 0,
         "log_earn_1999": 9.661818076094585,
         "male": 0,
         "mother_college": 0,
         "real_earnings_1999": 15706.313999999997,
         "weeks_worked_1999": 52
        },
        {
         "AFQT": 18.221001,
         "_deepnote_index_column": 5373,
         "college": 0,
         "father_college": 0,
         "log_earn_1999": 11.219962700843098,
         "male": 1,
         "mother_college": 0,
         "real_earnings_1999": 74604.992,
         "weeks_worked_1999": 52
        },
        {
         "AFQT": 33.639999,
         "_deepnote_index_column": 5374,
         "college": 0,
         "father_college": 0,
         "log_earn_1999": 11.676721139082623,
         "male": 1,
         "mother_college": 0,
         "real_earnings_1999": 117797.36,
         "weeks_worked_1999": 52
        },
        {
         "AFQT": 25.624001,
         "_deepnote_index_column": 5375,
         "college": 0,
         "father_college": 0,
         "log_earn_1999": 6.685888449811253,
         "male": 0,
         "mother_college": 0,
         "real_earnings_1999": 801.02203,
         "weeks_worked_1999": 1
        },
        {
         "AFQT": 86.028999,
         "_deepnote_index_column": 5376,
         "college": 1,
         "father_college": 0,
         "log_earn_1999": 11.4673709354845,
         "male": 0,
         "mother_college": 0,
         "real_earnings_1999": 95546.75,
         "weeks_worked_1999": 52
        },
        {
         "AFQT": 28.365999,
         "_deepnote_index_column": 5377,
         "college": 0,
         "father_college": 0,
         "log_earn_1999": 10.395787266455262,
         "male": 0,
         "mother_college": 0,
         "real_earnings_1999": 32721.488,
         "weeks_worked_1999": 52
        },
        {
         "AFQT": 78.009003,
         "_deepnote_index_column": 5378,
         "college": 1,
         "father_college": 0,
         "log_earn_1999": 11.53362034115278,
         "male": 1,
         "mother_college": 0,
         "real_earnings_1999": 102091.05,
         "weeks_worked_1999": 52
        },
        {
         "AFQT": 12.2,
         "_deepnote_index_column": 5379,
         "college": 0,
         "father_college": 0,
         "log_earn_1999": 10.35496528848886,
         "male": 1,
         "mother_college": 0,
         "real_earnings_1999": 31412.629,
         "weeks_worked_1999": 52
        },
        {
         "AFQT": 60.411999,
         "_deepnote_index_column": 5380,
         "college": 1,
         "father_college": 0,
         "log_earn_1999": 10.435007993713599,
         "male": 1,
         "mother_college": 0,
         "real_earnings_1999": 34030.348,
         "weeks_worked_1999": 52
        },
        {
         "AFQT": 24.993999,
         "_deepnote_index_column": 5381,
         "college": 0,
         "father_college": 0,
         "log_earn_1999": 11.128155159580777,
         "male": 0,
         "mother_college": 0,
         "real_earnings_1999": 68060.695,
         "weeks_worked_1999": 52
        },
        {
         "AFQT": 78.359001,
         "_deepnote_index_column": 5382,
         "college": 0,
         "father_college": 0,
         "log_earn_1999": 11.411017925367437,
         "male": 1,
         "mother_college": 0,
         "real_earnings_1999": 90311.305,
         "weeks_worked_1999": 52
        },
        {
         "AFQT": 70.956001,
         "_deepnote_index_column": 5383,
         "college": 0,
         "father_college": 0,
         "log_earn_1999": 10.673418976196944,
         "male": 1,
         "mother_college": 0,
         "real_earnings_1999": 43192.363,
         "weeks_worked_1999": 52
        },
        {
         "AFQT": 3.773,
         "_deepnote_index_column": 5384,
         "college": 0,
         "father_college": 0,
         "log_earn_1999": 10.983573958522674,
         "male": 1,
         "mother_college": 0,
         "real_earnings_1999": 58898.68,
         "weeks_worked_1999": 52
        },
        {
         "AFQT": 7.688000200000001,
         "_deepnote_index_column": 5385,
         "college": 0,
         "father_college": 0,
         "log_earn_1999": 9.661818076094585,
         "male": 1,
         "mother_college": 1,
         "real_earnings_1999": 15706.313999999997,
         "weeks_worked_1999": 52
        },
        {
         "AFQT": 13.859000000000002,
         "_deepnote_index_column": 5386,
         "college": 0,
         "father_college": 0,
         "log_earn_1999": 9.884961652876255,
         "male": 0,
         "mother_college": 0,
         "real_earnings_1999": 19632.893,
         "weeks_worked_1999": 52
        },
        {
         "AFQT": 5.7639999,
         "_deepnote_index_column": 5387,
         "college": 0,
         "father_college": 0,
         "log_earn_1999": 10.732259564198387,
         "male": 1,
         "mother_college": 0,
         "real_earnings_1999": 45810.086,
         "weeks_worked_1999": 52
        },
        {
         "AFQT": 96.460999,
         "_deepnote_index_column": 5388,
         "college": 1,
         "father_college": 0,
         "log_earn_1999": 12.465784356624944,
         "male": 1,
         "mother_college": 1,
         "real_earnings_1999": 259311.25,
         "weeks_worked_1999": 35
        },
        {
         "AFQT": 33.337002000000005,
         "_deepnote_index_column": 5389,
         "college": 0,
         "father_college": 0,
         "log_earn_1999": 10.732259564198387,
         "male": 0,
         "mother_college": 0,
         "real_earnings_1999": 45810.086,
         "weeks_worked_1999": 52
        },
        {
         "AFQT": 32.171001000000004,
         "_deepnote_index_column": 5390,
         "college": 0,
         "father_college": 0,
         "log_earn_1999": 10.26795391439326,
         "male": 0,
         "mother_college": 0,
         "real_earnings_1999": 28794.91,
         "weeks_worked_1999": 52
        },
        {
         "AFQT": 7.044000099999999,
         "_deepnote_index_column": 5391,
         "college": 0,
         "father_college": 0,
         "log_earn_1999": 4.874326409714929,
         "male": 0,
         "mother_college": 0,
         "real_earnings_1999": 130.88596,
         "weeks_worked_1999": 3
        },
        {
         "AFQT": 10.265999999999998,
         "_deepnote_index_column": 5392,
         "college": 0,
         "father_college": 0,
         "log_earn_1999": 10.578108807968738,
         "male": 1,
         "mother_college": 0,
         "real_earnings_1999": 39265.785,
         "weeks_worked_1999": 52
        },
        {
         "AFQT": 9.7869997,
         "_deepnote_index_column": 5393,
         "college": 0,
         "father_college": 0,
         "log_earn_1999": 9.884961652876255,
         "male": 1,
         "mother_college": 0,
         "real_earnings_1999": 19632.893,
         "weeks_worked_1999": 43
        },
        {
         "AFQT": 50.460999,
         "_deepnote_index_column": 5394,
         "college": 0,
         "father_college": 0,
         "log_earn_1999": 11.631258749212089,
         "male": 1,
         "mother_college": 0,
         "real_earnings_1999": 112561.92,
         "weeks_worked_1999": 52
        },
        {
         "AFQT": 5.9559999,
         "_deepnote_index_column": 5395,
         "college": 0,
         "father_college": 0,
         "log_earn_1999": 8.88165955327337,
         "male": 1,
         "mother_college": 0,
         "real_earnings_1999": 7198.7275,
         "weeks_worked_1999": 25
        },
        {
         "AFQT": 30.566,
         "_deepnote_index_column": 5396,
         "college": 0,
         "father_college": 0,
         "log_earn_1999": 9.815968755921842,
         "male": 0,
         "mother_college": 0,
         "real_earnings_1999": 18324.033,
         "weeks_worked_1999": 52
        },
        {
         "AFQT": 8.0480003,
         "_deepnote_index_column": 5397,
         "college": 0,
         "father_college": 0,
         "log_earn_1999": 9.949500148546363,
         "male": 0,
         "mother_college": 0,
         "real_earnings_1999": 20941.752,
         "weeks_worked_1999": 52
        },
        {
         "AFQT": 59.724998,
         "_deepnote_index_column": 5398,
         "college": 1,
         "father_college": 1,
         "log_earn_1999": 10.914581099163088,
         "male": 0,
         "mother_college": 0,
         "real_earnings_1999": 54972.102,
         "weeks_worked_1999": 52
        },
        {
         "AFQT": 23.066,
         "_deepnote_index_column": 5399,
         "college": 0,
         "father_college": 0,
         "log_earn_1999": 10.544207269465883,
         "male": 0,
         "mother_college": 0,
         "real_earnings_1999": 37956.926,
         "weeks_worked_1999": 52
        },
        {
         "AFQT": 24.827,
         "_deepnote_index_column": 5400,
         "college": 0,
         "father_college": 0,
         "log_earn_1999": 10.578108807968738,
         "male": 1,
         "mother_college": 0,
         "real_earnings_1999": 39265.785,
         "weeks_worked_1999": 52
        },
        {
         "AFQT": 76.013,
         "_deepnote_index_column": 5401,
         "college": 1,
         "father_college": 0,
         "log_earn_1999": 12.465784356624944,
         "male": 1,
         "mother_college": 0,
         "real_earnings_1999": 259311.25,
         "weeks_worked_1999": 52
        },
        {
         "AFQT": 92.429001,
         "_deepnote_index_column": 5402,
         "college": 1,
         "father_college": 0,
         "log_earn_1999": 11.87739182682736,
         "male": 1,
         "mother_college": 0,
         "real_earnings_1999": 143974.55,
         "weeks_worked_1999": 52
        },
        {
         "AFQT": 20.629,
         "_deepnote_index_column": 5403,
         "college": 0,
         "father_college": 0,
         "log_earn_1999": 10.172643738061769,
         "male": 0,
         "mother_college": 0,
         "real_earnings_1999": 26177.191000000006,
         "weeks_worked_1999": 52
        },
        {
         "AFQT": 1.726,
         "_deepnote_index_column": 5404,
         "college": 0,
         "father_college": 0,
         "log_earn_1999": 10.172643738061769,
         "male": 0,
         "mother_college": 0,
         "real_earnings_1999": 26177.191000000006,
         "weeks_worked_1999": 52
        },
        {
         "AFQT": 4.2919998,
         "_deepnote_index_column": 5405,
         "college": 0,
         "father_college": 0,
         "log_earn_1999": 9.815968755921842,
         "male": 0,
         "mother_college": 0,
         "real_earnings_1999": 18324.033,
         "weeks_worked_1999": 51
        },
        {
         "AFQT": 12.648,
         "_deepnote_index_column": 5406,
         "college": 0,
         "father_college": 0,
         "log_earn_1999": 9.661818076094585,
         "male": 1,
         "mother_college": 0,
         "real_earnings_1999": 15706.313999999997,
         "weeks_worked_1999": 52
        },
        {
         "AFQT": 0.949,
         "_deepnote_index_column": 5407,
         "college": 0,
         "father_college": 0,
         "log_earn_1999": 7.176911426306583,
         "male": 0,
         "mother_college": 0,
         "real_earnings_1999": 1308.8595,
         "weeks_worked_1999": 31
        },
        {
         "AFQT": 60.433998,
         "_deepnote_index_column": 5408,
         "college": 0,
         "father_college": 0,
         "log_earn_1999": 10.814497646350649,
         "male": 0,
         "mother_college": 0,
         "real_earnings_1999": 49736.664,
         "weeks_worked_1999": 41
        },
        {
         "AFQT": 53.075001,
         "_deepnote_index_column": 5409,
         "college": 0,
         "father_college": 0,
         "log_earn_1999": 10.395787266455262,
         "male": 1,
         "mother_college": 0,
         "real_earnings_1999": 32721.488,
         "weeks_worked_1999": 52
        },
        {
         "AFQT": 64.363998,
         "_deepnote_index_column": 5410,
         "college": 0,
         "father_college": 0,
         "log_earn_1999": 10.951968625727329,
         "male": 1,
         "mother_college": 1,
         "real_earnings_1999": 57066.277,
         "weeks_worked_1999": 52
        },
        {
         "AFQT": 25.284,
         "_deepnote_index_column": 5411,
         "college": 0,
         "father_college": 1,
         "log_earn_1999": 10.865790937722313,
         "male": 1,
         "mother_college": 1,
         "real_earnings_1999": 52354.383,
         "weeks_worked_1999": 50
        },
        {
         "AFQT": 12.893,
         "_deepnote_index_column": 5412,
         "college": 0,
         "father_college": 0,
         "log_earn_1999": 10.010124747891506,
         "male": 1,
         "mother_college": 0,
         "real_earnings_1999": 22250.611,
         "weeks_worked_1999": 48
        }
       ],
       "rows_top": [
        {
         "AFQT": 99.392998,
         "_deepnote_index_column": 0,
         "college": 1,
         "father_college": 0,
         "log_earn_1999": 10.865790937722313,
         "male": 1,
         "mother_college": 0,
         "real_earnings_1999": 52354.383,
         "weeks_worked_1999": 52
        },
        {
         "AFQT": 47.411999,
         "_deepnote_index_column": 1,
         "college": 0,
         "father_college": 0,
         "log_earn_1999": 10.395787266455262,
         "male": 1,
         "mother_college": 0,
         "real_earnings_1999": 32721.488,
         "weeks_worked_1999": 52
        },
        {
         "AFQT": 44.021999,
         "_deepnote_index_column": 2,
         "college": 0,
         "father_college": 0,
         "log_earn_1999": 10.487454431335381,
         "male": 0,
         "mother_college": 0,
         "real_earnings_1999": 35862.75,
         "weeks_worked_1999": 52
        },
        {
         "AFQT": 59.682999,
         "_deepnote_index_column": 3,
         "college": 0,
         "father_college": 0,
         "log_earn_1999": 11.128155159580777,
         "male": 1,
         "mother_college": 0,
         "real_earnings_1999": 68060.695,
         "weeks_worked_1999": 52
        },
        {
         "AFQT": 72.313004,
         "_deepnote_index_column": 4,
         "college": 1,
         "father_college": 1,
         "log_earn_1999": 11.271255988528685,
         "male": 1,
         "mother_college": 0,
         "real_earnings_1999": 78531.57,
         "weeks_worked_1999": 52
        },
        {
         "AFQT": 98.797997,
         "_deepnote_index_column": 5,
         "college": 1,
         "father_college": 0,
         "log_earn_1999": 11.048112469048805,
         "male": 0,
         "mother_college": 0,
         "real_earnings_1999": 62825.258,
         "weeks_worked_1999": 52
        },
        {
         "AFQT": 50.283001,
         "_deepnote_index_column": 6,
         "college": 0,
         "father_college": 0,
         "log_earn_1999": 10.814497646350649,
         "male": 0,
         "mother_college": 0,
         "real_earnings_1999": 49736.664,
         "weeks_worked_1999": 52
        },
        {
         "AFQT": 89.668999,
         "_deepnote_index_column": 7,
         "college": 0,
         "father_college": 0,
         "log_earn_1999": 11.048112469048805,
         "male": 1,
         "mother_college": 0,
         "real_earnings_1999": 62825.258,
         "weeks_worked_1999": 52
        },
        {
         "AFQT": 95.976997,
         "_deepnote_index_column": 8,
         "college": 0,
         "father_college": 1,
         "log_earn_1999": 12.465784356624944,
         "male": 1,
         "mother_college": 0,
         "real_earnings_1999": 259311.25,
         "weeks_worked_1999": 52
        },
        {
         "AFQT": 67.021004,
         "_deepnote_index_column": 9,
         "college": 1,
         "father_college": 1,
         "log_earn_1999": 11.128155159580777,
         "male": 0,
         "mother_college": 0,
         "real_earnings_1999": 68060.695,
         "weeks_worked_1999": 52
        },
        {
         "AFQT": 88.416,
         "_deepnote_index_column": 10,
         "college": 1,
         "father_college": 1,
         "log_earn_1999": 11.5836306828882,
         "male": 0,
         "mother_college": 0,
         "real_earnings_1999": 107326.48,
         "weeks_worked_1999": 52
        },
        {
         "AFQT": 89.167,
         "_deepnote_index_column": 11,
         "college": 1,
         "father_college": 0,
         "log_earn_1999": 10.760430428431354,
         "male": 0,
         "mother_college": 0,
         "real_earnings_1999": 47118.945,
         "weeks_worked_1999": 52
        },
        {
         "AFQT": 51.389999,
         "_deepnote_index_column": 12,
         "college": 0,
         "father_college": 1,
         "log_earn_1999": 10.172643738061769,
         "male": 0,
         "mother_college": 0,
         "real_earnings_1999": 26177.191000000006,
         "weeks_worked_1999": 52
        },
        {
         "AFQT": 96.674004,
         "_deepnote_index_column": 13,
         "college": 1,
         "father_college": 1,
         "log_earn_1999": 9.751506434174116,
         "male": 0,
         "mother_college": 0,
         "real_earnings_1999": 17180.09,
         "weeks_worked_1999": 44
        },
        {
         "AFQT": 92.783997,
         "_deepnote_index_column": 14,
         "college": 0,
         "father_college": 1,
         "log_earn_1999": 10.35496528848886,
         "male": 0,
         "mother_college": 0,
         "real_earnings_1999": 31412.629,
         "weeks_worked_1999": 52
        },
        {
         "AFQT": 25.905001,
         "_deepnote_index_column": 15,
         "college": 0,
         "father_college": 0,
         "log_earn_1999": 11.088934462295684,
         "male": 0,
         "mother_college": 0,
         "real_earnings_1999": 65442.977,
         "weeks_worked_1999": 52
        },
        {
         "AFQT": 6.0689998,
         "_deepnote_index_column": 16,
         "college": 0,
         "father_college": 0,
         "log_earn_1999": 10.732259564198387,
         "male": 1,
         "mother_college": 0,
         "real_earnings_1999": 45810.086,
         "weeks_worked_1999": 29
        },
        {
         "AFQT": 56.290001,
         "_deepnote_index_column": 17,
         "college": 0,
         "father_college": 0,
         "log_earn_1999": 9.741860813153657,
         "male": 0,
         "mother_college": 0,
         "real_earnings_1999": 17015.174,
         "weeks_worked_1999": 52
        },
        {
         "AFQT": 12.788,
         "_deepnote_index_column": 18,
         "college": 0,
         "father_college": 0,
         "log_earn_1999": 10.961101094953204,
         "male": 0,
         "mother_college": 0,
         "real_earnings_1999": 57589.82,
         "weeks_worked_1999": 52
        },
        {
         "AFQT": 26.851,
         "_deepnote_index_column": 19,
         "college": 0,
         "father_college": 0,
         "log_earn_1999": 11.219962700843098,
         "male": 1,
         "mother_college": 0,
         "real_earnings_1999": 74604.992,
         "weeks_worked_1999": 52
        },
        {
         "AFQT": 57.095001,
         "_deepnote_index_column": 20,
         "college": 0,
         "father_college": 0,
         "log_earn_1999": 11.921843538060616,
         "male": 1,
         "mother_college": 0,
         "real_earnings_1999": 150518.84,
         "weeks_worked_1999": 52
        },
        {
         "AFQT": 22.326,
         "_deepnote_index_column": 21,
         "college": 0,
         "father_college": 0,
         "log_earn_1999": 11.088934462295684,
         "male": 1,
         "mother_college": 0,
         "real_earnings_1999": 65442.977,
         "weeks_worked_1999": 52
        },
        {
         "AFQT": 15.325,
         "_deepnote_index_column": 22,
         "college": 0,
         "father_college": 0,
         "log_earn_1999": 8.968670921002103,
         "male": 0,
         "mother_college": 0,
         "real_earnings_1999": 7853.1572,
         "weeks_worked_1999": 48
        },
        {
         "AFQT": 78.095001,
         "_deepnote_index_column": 23,
         "college": 1,
         "father_college": 0,
         "log_earn_1999": 10.578108807968738,
         "male": 0,
         "mother_college": 0,
         "real_earnings_1999": 39265.785,
         "weeks_worked_1999": 52
        },
        {
         "AFQT": 75.473,
         "_deepnote_index_column": 24,
         "college": 0,
         "father_college": 1,
         "log_earn_1999": 11.351298690325113,
         "male": 1,
         "mother_college": 0,
         "real_earnings_1999": 85075.867,
         "weeks_worked_1999": 47
        },
        {
         "AFQT": 71.225998,
         "_deepnote_index_column": 25,
         "college": 0,
         "father_college": 0,
         "log_earn_1999": 10.68429900731858,
         "male": 0,
         "mother_college": 0,
         "real_earnings_1999": 43664.863,
         "weeks_worked_1999": 52
        },
        {
         "AFQT": 78.741997,
         "_deepnote_index_column": 26,
         "college": 0,
         "father_college": 0,
         "log_earn_1999": 10.472748306459504,
         "male": 0,
         "mother_college": 0,
         "real_earnings_1999": 35339.207,
         "weeks_worked_1999": 52
        },
        {
         "AFQT": 43.640999,
         "_deepnote_index_column": 27,
         "college": 0,
         "father_college": 0,
         "log_earn_1999": 7.359233046769197,
         "male": 1,
         "mother_college": 0,
         "real_earnings_1999": 1570.6315,
         "weeks_worked_1999": 9
        },
        {
         "AFQT": 30.83,
         "_deepnote_index_column": 28,
         "college": 0,
         "father_college": 0,
         "log_earn_1999": 8.093202204022173,
         "male": 0,
         "mother_college": 0,
         "real_earnings_1999": 3272.1489,
         "weeks_worked_1999": 19
        },
        {
         "AFQT": 91.625,
         "_deepnote_index_column": 29,
         "college": 1,
         "father_college": 1,
         "log_earn_1999": 10.938111586420142,
         "male": 0,
         "mother_college": 0,
         "real_earnings_1999": 56280.961,
         "weeks_worked_1999": 52
        },
        {
         "AFQT": 98.841003,
         "_deepnote_index_column": 30,
         "college": 0,
         "father_college": 1,
         "log_earn_1999": 10.610898643114696,
         "male": 1,
         "mother_college": 0,
         "real_earnings_1999": 40574.645,
         "weeks_worked_1999": 52
        },
        {
         "AFQT": 82.980003,
         "_deepnote_index_column": 31,
         "college": 0,
         "father_college": 1,
         "log_earn_1999": 11.088934462295684,
         "male": 1,
         "mother_college": 0,
         "real_earnings_1999": 65442.977,
         "weeks_worked_1999": 52
        },
        {
         "AFQT": 99.150002,
         "_deepnote_index_column": 32,
         "college": 0,
         "father_college": 1,
         "log_earn_1999": 10.865790937722313,
         "male": 0,
         "mother_college": 0,
         "real_earnings_1999": 52354.383,
         "weeks_worked_1999": 52
        },
        {
         "AFQT": 36.383999,
         "_deepnote_index_column": 33,
         "college": 0,
         "father_college": 1,
         "log_earn_1999": 10.703271950922744,
         "male": 0,
         "mother_college": 0,
         "real_earnings_1999": 44501.223,
         "weeks_worked_1999": 52
        },
        {
         "AFQT": 87.933998,
         "_deepnote_index_column": 34,
         "college": 1,
         "father_college": 0,
         "log_earn_1999": 11.921843538060616,
         "male": 1,
         "mother_college": 0,
         "real_earnings_1999": 150518.84,
         "weeks_worked_1999": 52
        },
        {
         "AFQT": 80.538002,
         "_deepnote_index_column": 35,
         "college": 1,
         "father_college": 1,
         "log_earn_1999": 10.760430428431354,
         "male": 0,
         "mother_college": 0,
         "real_earnings_1999": 47118.945,
         "weeks_worked_1999": 52
        },
        {
         "AFQT": 83.378998,
         "_deepnote_index_column": 36,
         "college": 1,
         "father_college": 1,
         "log_earn_1999": 10.578108807968738,
         "male": 0,
         "mother_college": 0,
         "real_earnings_1999": 39265.785,
         "weeks_worked_1999": 52
        },
        {
         "AFQT": 42.779999,
         "_deepnote_index_column": 37,
         "college": 0,
         "father_college": 1,
         "log_earn_1999": 10.578108807968738,
         "male": 1,
         "mother_college": 1,
         "real_earnings_1999": 39265.785,
         "weeks_worked_1999": 52
        },
        {
         "AFQT": 96.834999,
         "_deepnote_index_column": 38,
         "college": 1,
         "father_college": 1,
         "log_earn_1999": 11.202263130685015,
         "male": 0,
         "mother_college": 1,
         "real_earnings_1999": 73296.133,
         "weeks_worked_1999": 52
        },
        {
         "AFQT": 96.084,
         "_deepnote_index_column": 39,
         "college": 1,
         "father_college": 1,
         "log_earn_1999": 12.465784356624944,
         "male": 1,
         "mother_college": 1,
         "real_earnings_1999": 259311.25,
         "weeks_worked_1999": 52
        },
        {
         "AFQT": 78.759003,
         "_deepnote_index_column": 40,
         "college": 1,
         "father_college": 1,
         "log_earn_1999": 9.91775143790882,
         "male": 1,
         "mother_college": 0,
         "real_earnings_1999": 20287.322,
         "weeks_worked_1999": 46
        },
        {
         "AFQT": 29.497,
         "_deepnote_index_column": 41,
         "college": 1,
         "father_college": 1,
         "log_earn_1999": 9.574806733833316,
         "male": 1,
         "mother_college": 0,
         "real_earnings_1999": 14397.455,
         "weeks_worked_1999": 18
        },
        {
         "AFQT": 7.198,
         "_deepnote_index_column": 42,
         "college": 0,
         "father_college": 0,
         "log_earn_1999": 9.884961652876255,
         "male": 0,
         "mother_college": 0,
         "real_earnings_1999": 19632.893,
         "weeks_worked_1999": 52
        },
        {
         "AFQT": 12.463,
         "_deepnote_index_column": 43,
         "college": 0,
         "father_college": 0,
         "log_earn_1999": 9.815968755921842,
         "male": 1,
         "mother_college": 0,
         "real_earnings_1999": 18324.033,
         "weeks_worked_1999": 42
        },
        {
         "AFQT": 80.797997,
         "_deepnote_index_column": 44,
         "college": 1,
         "father_college": 0,
         "log_earn_1999": 10.610898643114696,
         "male": 1,
         "mother_college": 0,
         "real_earnings_1999": 40574.645,
         "weeks_worked_1999": 52
        },
        {
         "AFQT": 84.980003,
         "_deepnote_index_column": 45,
         "college": 1,
         "father_college": 0,
         "log_earn_1999": 10.865790937722313,
         "male": 0,
         "mother_college": 0,
         "real_earnings_1999": 52354.383,
         "weeks_worked_1999": 52
        },
        {
         "AFQT": 80.297997,
         "_deepnote_index_column": 46,
         "college": 1,
         "father_college": 0,
         "log_earn_1999": 11.676721139082623,
         "male": 1,
         "mother_college": 0,
         "real_earnings_1999": 117797.36,
         "weeks_worked_1999": 52
        },
        {
         "AFQT": 44.375,
         "_deepnote_index_column": 47,
         "college": 0,
         "father_college": 0,
         "log_earn_1999": 10.061712179702047,
         "male": 0,
         "mother_college": 0,
         "real_earnings_1999": 23428.586,
         "weeks_worked_1999": 47
        },
        {
         "AFQT": 28.438,
         "_deepnote_index_column": 48,
         "college": 0,
         "father_college": 0,
         "log_earn_1999": 10.865790937722313,
         "male": 1,
         "mother_college": 0,
         "real_earnings_1999": 52354.383,
         "weeks_worked_1999": 52
        },
        {
         "AFQT": 34.573002,
         "_deepnote_index_column": 49,
         "college": 0,
         "father_college": 0,
         "log_earn_1999": 10.172643738061769,
         "male": 0,
         "mother_college": 0,
         "real_earnings_1999": 26177.191000000006,
         "weeks_worked_1999": 52
        },
        {
         "AFQT": 59.410999,
         "_deepnote_index_column": 50,
         "college": 0,
         "father_college": 0,
         "log_earn_1999": 10.509115936481788,
         "male": 0,
         "mother_college": 0,
         "real_earnings_1999": 36648.066,
         "weeks_worked_1999": 52
        },
        {
         "AFQT": 81.787003,
         "_deepnote_index_column": 51,
         "college": 0,
         "father_college": 0,
         "log_earn_1999": 10.457822679433752,
         "male": 0,
         "mother_college": 0,
         "real_earnings_1999": 34815.664,
         "weeks_worked_1999": 51
        },
        {
         "AFQT": 87.65100100000002,
         "_deepnote_index_column": 52,
         "college": 1,
         "father_college": 0,
         "log_earn_1999": 11.43959137329375,
         "male": 1,
         "mother_college": 0,
         "real_earnings_1999": 92929.031,
         "weeks_worked_1999": 52
        },
        {
         "AFQT": 65.347,
         "_deepnote_index_column": 53,
         "college": 1,
         "father_college": 0,
         "log_earn_1999": 10.827569732095847,
         "male": 1,
         "mother_college": 0,
         "real_earnings_1999": 50391.09400000001,
         "weeks_worked_1999": 52
        },
        {
         "AFQT": 96.818001,
         "_deepnote_index_column": 54,
         "college": 1,
         "father_college": 0,
         "log_earn_1999": 11.088934462295684,
         "male": 1,
         "mother_college": 0,
         "real_earnings_1999": 65442.977,
         "weeks_worked_1999": 52
        },
        {
         "AFQT": 64.696999,
         "_deepnote_index_column": 55,
         "college": 0,
         "father_college": 0,
         "log_earn_1999": 11.237354450025828,
         "male": 1,
         "mother_college": 0,
         "real_earnings_1999": 75913.852,
         "weeks_worked_1999": 52
        },
        {
         "AFQT": 46.195,
         "_deepnote_index_column": 56,
         "college": 0,
         "father_college": 0,
         "log_earn_1999": 10.642647329106307,
         "male": 0,
         "mother_college": 0,
         "real_earnings_1999": 41883.504,
         "weeks_worked_1999": 52
        },
        {
         "AFQT": 98.348999,
         "_deepnote_index_column": 57,
         "college": 0,
         "father_college": 0,
         "log_earn_1999": 11.202263130685015,
         "male": 1,
         "mother_college": 0,
         "real_earnings_1999": 73296.133,
         "weeks_worked_1999": 52
        },
        {
         "AFQT": 27.671,
         "_deepnote_index_column": 58,
         "college": 1,
         "father_college": 0,
         "log_earn_1999": 10.703271950922744,
         "male": 1,
         "mother_college": 0,
         "real_earnings_1999": 44501.223,
         "weeks_worked_1999": 52
        },
        {
         "AFQT": 97.847,
         "_deepnote_index_column": 59,
         "college": 1,
         "father_college": 0,
         "log_earn_1999": 11.271255988528685,
         "male": 1,
         "mother_college": 1,
         "real_earnings_1999": 78531.57,
         "weeks_worked_1999": 52
        },
        {
         "AFQT": 92.617996,
         "_deepnote_index_column": 60,
         "college": 1,
         "father_college": 0,
         "log_earn_1999": 10.642647329106307,
         "male": 0,
         "mother_college": 1,
         "real_earnings_1999": 41883.504,
         "weeks_worked_1999": 52
        },
        {
         "AFQT": 32.106998,
         "_deepnote_index_column": 61,
         "college": 0,
         "father_college": 0,
         "log_earn_1999": 9.150992526608695,
         "male": 1,
         "mother_college": 0,
         "real_earnings_1999": 9423.7891,
         "weeks_worked_1999": 0
        }
       ]
      },
      "text/html": [
       "<div>\n",
       "<style scoped>\n",
       "    .dataframe tbody tr th:only-of-type {\n",
       "        vertical-align: middle;\n",
       "    }\n",
       "\n",
       "    .dataframe tbody tr th {\n",
       "        vertical-align: top;\n",
       "    }\n",
       "\n",
       "    .dataframe thead th {\n",
       "        text-align: right;\n",
       "    }\n",
       "</style>\n",
       "<table border=\"1\" class=\"dataframe\">\n",
       "  <thead>\n",
       "    <tr style=\"text-align: right;\">\n",
       "      <th></th>\n",
       "      <th>male</th>\n",
       "      <th>AFQT</th>\n",
       "      <th>real_earnings_1999</th>\n",
       "      <th>weeks_worked_1999</th>\n",
       "      <th>log_earn_1999</th>\n",
       "      <th>college</th>\n",
       "      <th>mother_college</th>\n",
       "      <th>father_college</th>\n",
       "    </tr>\n",
       "  </thead>\n",
       "  <tbody>\n",
       "    <tr>\n",
       "      <th>0</th>\n",
       "      <td>1</td>\n",
       "      <td>99.392998</td>\n",
       "      <td>52354.383</td>\n",
       "      <td>52.0</td>\n",
       "      <td>10.865791</td>\n",
       "      <td>1</td>\n",
       "      <td>0</td>\n",
       "      <td>0</td>\n",
       "    </tr>\n",
       "    <tr>\n",
       "      <th>1</th>\n",
       "      <td>1</td>\n",
       "      <td>47.411999</td>\n",
       "      <td>32721.488</td>\n",
       "      <td>52.0</td>\n",
       "      <td>10.395787</td>\n",
       "      <td>0</td>\n",
       "      <td>0</td>\n",
       "      <td>0</td>\n",
       "    </tr>\n",
       "    <tr>\n",
       "      <th>2</th>\n",
       "      <td>0</td>\n",
       "      <td>44.021999</td>\n",
       "      <td>35862.750</td>\n",
       "      <td>52.0</td>\n",
       "      <td>10.487454</td>\n",
       "      <td>0</td>\n",
       "      <td>0</td>\n",
       "      <td>0</td>\n",
       "    </tr>\n",
       "    <tr>\n",
       "      <th>3</th>\n",
       "      <td>1</td>\n",
       "      <td>59.682999</td>\n",
       "      <td>68060.695</td>\n",
       "      <td>52.0</td>\n",
       "      <td>11.128155</td>\n",
       "      <td>0</td>\n",
       "      <td>0</td>\n",
       "      <td>0</td>\n",
       "    </tr>\n",
       "    <tr>\n",
       "      <th>4</th>\n",
       "      <td>1</td>\n",
       "      <td>72.313004</td>\n",
       "      <td>78531.570</td>\n",
       "      <td>52.0</td>\n",
       "      <td>11.271256</td>\n",
       "      <td>1</td>\n",
       "      <td>0</td>\n",
       "      <td>1</td>\n",
       "    </tr>\n",
       "    <tr>\n",
       "      <th>...</th>\n",
       "      <td>...</td>\n",
       "      <td>...</td>\n",
       "      <td>...</td>\n",
       "      <td>...</td>\n",
       "      <td>...</td>\n",
       "      <td>...</td>\n",
       "      <td>...</td>\n",
       "      <td>...</td>\n",
       "    </tr>\n",
       "    <tr>\n",
       "      <th>5408</th>\n",
       "      <td>0</td>\n",
       "      <td>60.433998</td>\n",
       "      <td>49736.664</td>\n",
       "      <td>41.0</td>\n",
       "      <td>10.814498</td>\n",
       "      <td>0</td>\n",
       "      <td>0</td>\n",
       "      <td>0</td>\n",
       "    </tr>\n",
       "    <tr>\n",
       "      <th>5409</th>\n",
       "      <td>1</td>\n",
       "      <td>53.075001</td>\n",
       "      <td>32721.488</td>\n",
       "      <td>52.0</td>\n",
       "      <td>10.395787</td>\n",
       "      <td>0</td>\n",
       "      <td>0</td>\n",
       "      <td>0</td>\n",
       "    </tr>\n",
       "    <tr>\n",
       "      <th>5410</th>\n",
       "      <td>1</td>\n",
       "      <td>64.363998</td>\n",
       "      <td>57066.277</td>\n",
       "      <td>52.0</td>\n",
       "      <td>10.951969</td>\n",
       "      <td>0</td>\n",
       "      <td>1</td>\n",
       "      <td>0</td>\n",
       "    </tr>\n",
       "    <tr>\n",
       "      <th>5411</th>\n",
       "      <td>1</td>\n",
       "      <td>25.284000</td>\n",
       "      <td>52354.383</td>\n",
       "      <td>50.0</td>\n",
       "      <td>10.865791</td>\n",
       "      <td>0</td>\n",
       "      <td>1</td>\n",
       "      <td>1</td>\n",
       "    </tr>\n",
       "    <tr>\n",
       "      <th>5412</th>\n",
       "      <td>1</td>\n",
       "      <td>12.893000</td>\n",
       "      <td>22250.611</td>\n",
       "      <td>48.0</td>\n",
       "      <td>10.010125</td>\n",
       "      <td>0</td>\n",
       "      <td>0</td>\n",
       "      <td>0</td>\n",
       "    </tr>\n",
       "  </tbody>\n",
       "</table>\n",
       "<p>5413 rows × 8 columns</p>\n",
       "</div>"
      ],
      "text/plain": [
       "      male       AFQT  real_earnings_1999  weeks_worked_1999  log_earn_1999  \\\n",
       "0        1  99.392998           52354.383               52.0      10.865791   \n",
       "1        1  47.411999           32721.488               52.0      10.395787   \n",
       "2        0  44.021999           35862.750               52.0      10.487454   \n",
       "3        1  59.682999           68060.695               52.0      11.128155   \n",
       "4        1  72.313004           78531.570               52.0      11.271256   \n",
       "...    ...        ...                 ...                ...            ...   \n",
       "5408     0  60.433998           49736.664               41.0      10.814498   \n",
       "5409     1  53.075001           32721.488               52.0      10.395787   \n",
       "5410     1  64.363998           57066.277               52.0      10.951969   \n",
       "5411     1  25.284000           52354.383               50.0      10.865791   \n",
       "5412     1  12.893000           22250.611               48.0      10.010125   \n",
       "\n",
       "      college  mother_college  father_college  \n",
       "0           1               0               0  \n",
       "1           0               0               0  \n",
       "2           0               0               0  \n",
       "3           0               0               0  \n",
       "4           1               0               1  \n",
       "...       ...             ...             ...  \n",
       "5408        0               0               0  \n",
       "5409        0               0               0  \n",
       "5410        0               1               0  \n",
       "5411        0               1               1  \n",
       "5412        0               0               0  \n",
       "\n",
       "[5413 rows x 8 columns]"
      ]
     },
     "execution_count": 29,
     "metadata": {},
     "output_type": "execute_result"
    }
   ],
   "source": [
    "nlsy = pd.read_csv('nlsy_cleaned_small.csv')\n",
    "nlsy"
   ]
  },
  {
   "cell_type": "markdown",
   "metadata": {
    "cell_id": "00057-f479a7ff-79a3-4388-9fc5-7d250ebfc23b",
    "deepnote_cell_type": "markdown",
    "output_cleared": false
   },
   "source": [
    "Now let's visualize log earnings vs. the binary variable corresponding to whether or not an observation went to college."
   ]
  },
  {
   "cell_type": "code",
   "execution_count": null,
   "metadata": {
    "cell_id": "00058-4a738c6f-7d8d-439e-8372-fa26fd119193",
    "deepnote_cell_type": "code",
    "output_cleared": false,
    "tags": [
     "remove_input"
    ]
   },
   "outputs": [
    {
     "data": {
      "image/png": "[encoded data removed]",
      "text/plain": [
       "<Figure size 576x432 with 1 Axes>"
      ]
     },
     "metadata": {
      "needs_background": "light"
     },
     "output_type": "display_data"
    }
   ],
   "source": [
    "coll = nlsy['college']\n",
    "logearn = nlsy['log_earn_1999']\n",
    "\n",
    "plt.figure(figsize=(8,6))\n",
    "plt.scatter(coll, logearn)\n",
    "plt.xlabel('College')\n",
    "plt.ylabel('Log Earnings')\n",
    "plt.title('Log Earnings vs. College Completion')\n",
    "plt.xticks([0,1]);"
   ]
  },
  {
   "cell_type": "code",
   "execution_count": null,
   "metadata": {
    "cell_id": "00059-d8dc7ad0-a106-4244-9ff5-f5f51b1b75a0",
    "deepnote_cell_type": "code",
    "output_cleared": false,
    "tags": [
     "remove_input"
    ]
   },
   "outputs": [
    {
     "data": {
      "image/png": "[encoded data removed]",
      "text/plain": [
       "<Figure size 576x432 with 1 Axes>"
      ]
     },
     "metadata": {
      "needs_background": "light"
     },
     "output_type": "display_data"
    }
   ],
   "source": [
    "no_college = nlsy[coll == 0]['log_earn_1999']\n",
    "has_college = nlsy[coll == 1]['log_earn_1999']\n",
    "\n",
    "plt.figure(figsize=(8,6))\n",
    "plt.xlabel('College')\n",
    "plt.ylabel('Log Earnings')\n",
    "plt.title('Log Earnings vs. College Completion')\n",
    "plt.violinplot(no_college, positions = [0], points=20, widths=0.3, showmeans=True, showextrema=True, showmedians=False)\n",
    "plt.violinplot(has_college, positions = [1], points=20, widths=0.3, showmeans=True, showextrema=True, showmedians=False);"
   ]
  },
  {
   "cell_type": "markdown",
   "metadata": {
    "cell_id": "00060-f90c0c18-2c16-492b-86ea-5f876f0e2d67",
    "deepnote_cell_type": "markdown",
    "output_cleared": false
   },
   "source": [
    "Now let's fit a regression model:"
   ]
  },
  {
   "cell_type": "code",
   "execution_count": null,
   "metadata": {
    "cell_id": "00061-9949367c-4fa3-47b5-a597-974c2ba1a894",
    "deepnote_cell_type": "code",
    "output_cleared": false
   },
   "outputs": [
    {
     "name": "stdout",
     "output_type": "stream",
     "text": [
      "y = 0.72389 * x + 10.27883\n"
     ]
    }
   ],
   "source": [
    "coll_standard = standard_units(coll)\n",
    "logearn_standard = standard_units(logearn)\n",
    "\n",
    "r = correlation(logearn_standard, coll_standard)\n",
    "slope = r * np.std(logearn) / np.std(coll)\n",
    "intercept = np.mean(logearn) - slope * np.mean(coll)\n",
    "\n",
    "print(\"y = {:.5f} * x + {:.5f}\".format(slope, intercept))"
   ]
  },
  {
   "cell_type": "markdown",
   "metadata": {
    "cell_id": "00062-039b6c71-af65-48bc-b450-c6f4c2ae4d98",
    "deepnote_cell_type": "markdown",
    "output_cleared": false
   },
   "source": [
    "Wow! This regression would imply that we expect, on average, observations who went to college to have 70% higher earnings than those who did not go to college. Let's now plot this line on the data:"
   ]
  },
  {
   "cell_type": "code",
   "execution_count": null,
   "metadata": {
    "cell_id": "00063-7ae7a96a-e25d-4c51-982b-d06e7caf2cb6",
    "deepnote_cell_type": "code",
    "output_cleared": false,
    "tags": [
     "remove_input"
    ]
   },
   "outputs": [
    {
     "data": {
      "image/png": "[encoded data removed]",
      "text/plain": [
       "<Figure size 576x432 with 1 Axes>"
      ]
     },
     "metadata": {
      "needs_background": "light"
     },
     "output_type": "display_data"
    }
   ],
   "source": [
    "plt.figure(figsize=(8,6))\n",
    "plt.scatter(coll, logearn)\n",
    "plt.plot(np.linspace(0, 1), slope * np.linspace(0, 1) + intercept, color='tab:orange')\n",
    "plt.xlabel('College')\n",
    "plt.ylabel('Log Earnings')\n",
    "plt.title('Log Earnings vs. College Completion')\n",
    "plt.xticks([0,1]);"
   ]
  },
  {
   "cell_type": "code",
   "execution_count": null,
   "metadata": {
    "cell_id": "00064-49fc5427-d71b-4bff-9207-56b9aab061d1",
    "deepnote_cell_type": "code",
    "output_cleared": false,
    "tags": [
     "remove_input"
    ]
   },
   "outputs": [
    {
     "data": {
      "image/png": "[encoded data removed]",
      "text/plain": [
       "<Figure size 576x432 with 1 Axes>"
      ]
     },
     "metadata": {
      "needs_background": "light"
     },
     "output_type": "display_data"
    }
   ],
   "source": [
    "no_college = nlsy[coll == 0]['log_earn_1999']\n",
    "has_college = nlsy[coll == 1]['log_earn_1999']\n",
    "\n",
    "plt.figure(figsize=(8,6))\n",
    "plt.plot(np.linspace(0, 1), slope * np.linspace(0, 1) + intercept, color='tab:green')\n",
    "plt.xlabel('College')\n",
    "plt.ylabel('Log Earnings')\n",
    "plt.title('Log Earnings vs. College Completion')\n",
    "plt.violinplot(no_college, positions = [0], points=20, widths=0.3, showmeans=True, showextrema=True, showmedians=False)\n",
    "plt.violinplot(has_college, positions = [1], points=20, widths=0.3, showmeans=True, showextrema=True, showmedians=False);"
   ]
  },
  {
   "cell_type": "markdown",
   "metadata": {
    "cell_id": "00065-1fcdefb9-8e43-4f28-bf91-5f165fca4ad3",
    "deepnote_cell_type": "markdown",
    "output_cleared": false
   },
   "source": [
    "When we perform a simple regression onto just a dummy variable, it is an important fact that $\\hat{\\alpha}$ is the mean value of $y$ for all observations in the sample where $x = 0$, and $\\hat{\\beta}$ is the difference between the mean value of $y$ for observations in the sample where $x = 1$ and observations where $x = 0$. Proving this claim is beyond our scope this week, but let's verify it with our data:"
   ]
  },
  {
   "cell_type": "code",
   "execution_count": null,
   "metadata": {
    "cell_id": "00066-e31a8b10-e320-451f-b23c-367cf29bd3f7",
    "deepnote_cell_type": "code",
    "output_cleared": false
   },
   "outputs": [
    {
     "name": "stdout",
     "output_type": "stream",
     "text": [
      "Avg logearn for coll = 1:  11.002722859240283\n",
      "Avg logearn for coll = 0:  10.278831734712744\n",
      "Difference between the two:  0.7238911245275386\n"
     ]
    }
   ],
   "source": [
    "avg_logearn_coll = np.mean(logearn[coll == 1])\n",
    "avg_logearn_nocoll = np.mean(logearn[coll == 0])\n",
    "\n",
    "print('Avg logearn for coll = 1: ', avg_logearn_coll)\n",
    "print('Avg logearn for coll = 0: ', avg_logearn_nocoll)\n",
    "print('Difference between the two: ', avg_logearn_coll - avg_logearn_nocoll)"
   ]
  },
  {
   "cell_type": "code",
   "execution_count": null,
   "metadata": {
    "cell_id": "00067-58980966-5886-43ca-9524-6ffea1f9e96f",
    "deepnote_cell_type": "code",
    "output_cleared": false
   },
   "outputs": [
    {
     "name": "stdout",
     "output_type": "stream",
     "text": [
      "Intercept:  10.278831734712744\n",
      "Slope:  0.72389112452754\n"
     ]
    }
   ],
   "source": [
    "print('Intercept: ', intercept)\n",
    "print('Slope: ', slope)"
   ]
  },
  {
   "cell_type": "markdown",
   "metadata": {
    "cell_id": "00068-aebc4d99-f63b-49da-acce-bb03ccb12da3",
    "deepnote_cell_type": "markdown",
    "output_cleared": false,
    "tags": []
   },
   "source": [
    "## Dummy Variables\n",
    "\n",
    "Cotinuing on from the idea of binary variabes, there is a special name for user-generated binary variables called dummy variables. \n",
    "\n",
    "But in which scenaio would the data analyst want to create new binary variables from the data they already have?"
   ]
  },
  {
   "cell_type": "markdown",
   "metadata": {
    "cell_id": "00069-a3b28a26-b586-4195-b933-59a02af5e218",
    "deepnote_cell_type": "markdown",
    "output_cleared": false,
    "tags": []
   },
   "source": [
    "### Motivation\n",
    "\n",
    "Dummy variables are used to encode categorical data. There are 2 cases when this may occur:\n",
    "\n",
    "* A variable has non-numeric values, e.g. having `M` or `F` for  `sex`, `HS` or `college` or `Masters` for `education`, and so on.\n",
    "* A variable has categorical numeric values, e.g. the star ratings of a business on Yelp. \n",
    "\n",
    "In the first case, the reason is obvious: we need a way to model a qualitative variable in our model, which is inherently quantitative.\n",
    "\n",
    "In the second, the reason is more subtle. Even though the data may be quantitative, we would instead like to think of them as belonging in groups or bins; for Yelp stars, there are 3 star restaurants, 3.5 star restaurants, and so on. Typically, the data are not continuous, and doing arithmetic operations such as finding the difference between 2 observations would not too meaningful."
   ]
  },
  {
   "cell_type": "markdown",
   "metadata": {
    "cell_id": "00070-70b812cb-a3f9-4e8a-a876-95cbb444b41f",
    "deepnote_cell_type": "markdown",
    "output_cleared": false,
    "tags": []
   },
   "source": [
    "### How Dummy Variables Work\n",
    "\n",
    "A dummy variable encoding turns the original column of data into many columns, with each new column representing a unique value of the original column. For each observation's value that we seek to encode, the value's corresponding column will be marked with a 1, while all other columns will be marked with a 0. \n",
    "\n",
    "For example, if we had a column for sex where `male` and `female` were the only unique values, it would be turned into 2 columns: `male` and `female`. An observation that is male will have the `male` column be 1 and the `female` column be 0."
   ]
  },
  {
   "cell_type": "markdown",
   "metadata": {
    "cell_id": "00071-24a86362-ce34-46c3-ab84-91047267d71f",
    "deepnote_cell_type": "markdown",
    "output_cleared": false,
    "tags": []
   },
   "source": [
    "### Creating Dummy Variables\n",
    "\n",
    "Let's start by creating dummy variables for the `sex` column of `defaults`.\n",
    "\n",
    "In pandas, getting the corresponding dummy variables for a column is actaully pretty straight forward: `pd.get_dummies(data)`\n",
    "You can put a Seies in as the data argument, or, if your data is entirely categorical and you want to generate dummie variables for the entire dataframe, the `data` argument can also be an entire dataframe.\n",
    "\n"
   ]
  },
  {
   "cell_type": "code",
   "execution_count": null,
   "metadata": {
    "cell_id": "00072-a4b66153-8672-4f52-bd4c-aad94acea07e",
    "deepnote_cell_type": "code",
    "output_cleared": false,
    "tags": []
   },
   "outputs": [
    {
     "data": {
      "application/vnd.deepnote.dataframe.v2+json": {
       "column_count": 18,
       "columns": [
        {
         "dtype": "int64",
         "name": "credit",
         "stats": {
          "histogram": [
           {
            "bin_end": 30000,
            "bin_start": 20000,
            "count": 1
           },
           {
            "bin_end": 40000,
            "bin_start": 30000,
            "count": 0
           },
           {
            "bin_end": 50000,
            "bin_start": 40000,
            "count": 0
           },
           {
            "bin_end": 60000,
            "bin_start": 50000,
            "count": 2
           },
           {
            "bin_end": 70000,
            "bin_start": 60000,
            "count": 0
           },
           {
            "bin_end": 80000,
            "bin_start": 70000,
            "count": 0
           },
           {
            "bin_end": 90000,
            "bin_start": 80000,
            "count": 0
           },
           {
            "bin_end": 100000,
            "bin_start": 90000,
            "count": 1
           },
           {
            "bin_end": 110000,
            "bin_start": 100000,
            "count": 0
           },
           {
            "bin_end": 120000,
            "bin_start": 110000,
            "count": 1
           }
          ],
          "max": 120000,
          "min": 20000,
          "nan_count": 0,
          "unique_count": 4
         }
        },
        {
         "dtype": "object",
         "name": "sex",
         "stats": {
          "categories": [
           {
            "count": 4,
            "name": "female"
           },
           {
            "count": 1,
            "name": "male"
           }
          ],
          "nan_count": 0,
          "unique_count": 2
         }
        },
        {
         "dtype": "object",
         "name": "education",
         "stats": {
          "categories": [
           {
            "count": 5,
            "name": "undergraduate"
           }
          ],
          "nan_count": 0,
          "unique_count": 1
         }
        },
        {
         "dtype": "object",
         "name": "marital_status",
         "stats": {
          "categories": [
           {
            "count": 3,
            "name": "married"
           },
           {
            "count": 2,
            "name": "single"
           }
          ],
          "nan_count": 0,
          "unique_count": 2
         }
        },
        {
         "dtype": "int64",
         "name": "age",
         "stats": {
          "histogram": [
           {
            "bin_end": 27.3,
            "bin_start": 24,
            "count": 2
           },
           {
            "bin_end": 30.6,
            "bin_start": 27.3,
            "count": 0
           },
           {
            "bin_end": 33.9,
            "bin_start": 30.6,
            "count": 0
           },
           {
            "bin_end": 37.2,
            "bin_start": 33.9,
            "count": 2
           },
           {
            "bin_end": 40.5,
            "bin_start": 37.2,
            "count": 0
           },
           {
            "bin_end": 43.8,
            "bin_start": 40.5,
            "count": 0
           },
           {
            "bin_end": 47.099999999999994,
            "bin_start": 43.8,
            "count": 0
           },
           {
            "bin_end": 50.4,
            "bin_start": 47.099999999999994,
            "count": 0
           },
           {
            "bin_end": 53.7,
            "bin_start": 50.4,
            "count": 0
           },
           {
            "bin_end": 57,
            "bin_start": 53.7,
            "count": 1
           }
          ],
          "max": 57,
          "min": 24,
          "nan_count": 0,
          "unique_count": 5
         }
        },
        {
         "dtype": "int64",
         "name": "bill_sep05",
         "stats": {
          "histogram": [
           {
            "bin_end": 7112.8,
            "bin_start": 2682,
            "count": 2
           },
           {
            "bin_end": 11543.6,
            "bin_start": 7112.8,
            "count": 1
           },
           {
            "bin_end": 15974.400000000001,
            "bin_start": 11543.6,
            "count": 0
           },
           {
            "bin_end": 20405.2,
            "bin_start": 15974.400000000001,
            "count": 0
           },
           {
            "bin_end": 24836,
            "bin_start": 20405.2,
            "count": 0
           },
           {
            "bin_end": 29266.800000000003,
            "bin_start": 24836,
            "count": 1
           },
           {
            "bin_end": 33697.600000000006,
            "bin_start": 29266.800000000003,
            "count": 0
           },
           {
            "bin_end": 38128.4,
            "bin_start": 33697.600000000006,
            "count": 0
           },
           {
            "bin_end": 42559.200000000004,
            "bin_start": 38128.4,
            "count": 0
           },
           {
            "bin_end": 46990,
            "bin_start": 42559.200000000004,
            "count": 1
           }
          ],
          "max": 46990,
          "min": 2682,
          "nan_count": 0,
          "unique_count": 5
         }
        },
        {
         "dtype": "int64",
         "name": "bill_aug05",
         "stats": {
          "histogram": [
           {
            "bin_end": 6375.8,
            "bin_start": 1725,
            "count": 3
           },
           {
            "bin_end": 11026.6,
            "bin_start": 6375.8,
            "count": 0
           },
           {
            "bin_end": 15677.400000000001,
            "bin_start": 11026.6,
            "count": 1
           },
           {
            "bin_end": 20328.2,
            "bin_start": 15677.400000000001,
            "count": 0
           },
           {
            "bin_end": 24979,
            "bin_start": 20328.2,
            "count": 0
           },
           {
            "bin_end": 29629.800000000003,
            "bin_start": 24979,
            "count": 0
           },
           {
            "bin_end": 34280.600000000006,
            "bin_start": 29629.800000000003,
            "count": 0
           },
           {
            "bin_end": 38931.4,
            "bin_start": 34280.600000000006,
            "count": 0
           },
           {
            "bin_end": 43582.200000000004,
            "bin_start": 38931.4,
            "count": 0
           },
           {
            "bin_end": 48233,
            "bin_start": 43582.200000000004,
            "count": 1
           }
          ],
          "max": 48233,
          "min": 1725,
          "nan_count": 0,
          "unique_count": 5
         }
        },
        {
         "dtype": "int64",
         "name": "bill_jul05",
         "stats": {
          "histogram": [
           {
            "bin_end": 5549.2,
            "bin_start": 689,
            "count": 2
           },
           {
            "bin_end": 10409.4,
            "bin_start": 5549.2,
            "count": 0
           },
           {
            "bin_end": 15269.599999999999,
            "bin_start": 10409.4,
            "count": 1
           },
           {
            "bin_end": 20129.8,
            "bin_start": 15269.599999999999,
            "count": 0
           },
           {
            "bin_end": 24990,
            "bin_start": 20129.8,
            "count": 0
           },
           {
            "bin_end": 29850.199999999997,
            "bin_start": 24990,
            "count": 0
           },
           {
            "bin_end": 34710.4,
            "bin_start": 29850.199999999997,
            "count": 0
           },
           {
            "bin_end": 39570.6,
            "bin_start": 34710.4,
            "count": 1
           },
           {
            "bin_end": 44430.799999999996,
            "bin_start": 39570.6,
            "count": 0
           },
           {
            "bin_end": 49291,
            "bin_start": 44430.799999999996,
            "count": 1
           }
          ],
          "max": 49291,
          "min": 689,
          "nan_count": 0,
          "unique_count": 5
         }
        },
        {
         "dtype": "int64",
         "name": "bill_jun05",
         "stats": {
          "histogram": [
           {
            "bin_end": 2831.4,
            "bin_start": 0,
            "count": 1
           },
           {
            "bin_end": 5662.8,
            "bin_start": 2831.4,
            "count": 1
           },
           {
            "bin_end": 8494.2,
            "bin_start": 5662.8,
            "count": 0
           },
           {
            "bin_end": 11325.6,
            "bin_start": 8494.2,
            "count": 0
           },
           {
            "bin_end": 14157,
            "bin_start": 11325.6,
            "count": 0
           },
           {
            "bin_end": 16988.4,
            "bin_start": 14157,
            "count": 1
           },
           {
            "bin_end": 19819.8,
            "bin_start": 16988.4,
            "count": 0
           },
           {
            "bin_end": 22651.2,
            "bin_start": 19819.8,
            "count": 1
           },
           {
            "bin_end": 25482.600000000002,
            "bin_start": 22651.2,
            "count": 0
           },
           {
            "bin_end": 28314,
            "bin_start": 25482.600000000002,
            "count": 1
           }
          ],
          "max": 28314,
          "min": 0,
          "nan_count": 0,
          "unique_count": 5
         }
        },
        {
         "dtype": "int64",
         "name": "bill_may05",
         "stats": {
          "histogram": [
           {
            "bin_end": 2895.9,
            "bin_start": 0,
            "count": 1
           },
           {
            "bin_end": 5791.8,
            "bin_start": 2895.9,
            "count": 1
           },
           {
            "bin_end": 8687.7,
            "bin_start": 5791.8,
            "count": 0
           },
           {
            "bin_end": 11583.6,
            "bin_start": 8687.7,
            "count": 0
           },
           {
            "bin_end": 14479.5,
            "bin_start": 11583.6,
            "count": 0
           },
           {
            "bin_end": 17375.4,
            "bin_start": 14479.5,
            "count": 1
           },
           {
            "bin_end": 20271.3,
            "bin_start": 17375.4,
            "count": 1
           },
           {
            "bin_end": 23167.2,
            "bin_start": 20271.3,
            "count": 0
           },
           {
            "bin_end": 26063.100000000002,
            "bin_start": 23167.2,
            "count": 0
           },
           {
            "bin_end": 28959,
            "bin_start": 26063.100000000002,
            "count": 1
           }
          ],
          "max": 28959,
          "min": 0,
          "nan_count": 0,
          "unique_count": 5
         }
        },
        {
         "dtype": "int64",
         "name": "bill_apr05",
         "stats": {
          "histogram": [
           {
            "bin_end": 2954.7,
            "bin_start": 0,
            "count": 1
           },
           {
            "bin_end": 5909.4,
            "bin_start": 2954.7,
            "count": 1
           },
           {
            "bin_end": 8864.099999999999,
            "bin_start": 5909.4,
            "count": 0
           },
           {
            "bin_end": 11818.8,
            "bin_start": 8864.099999999999,
            "count": 0
           },
           {
            "bin_end": 14773.5,
            "bin_start": 11818.8,
            "count": 0
           },
           {
            "bin_end": 17728.199999999997,
            "bin_start": 14773.5,
            "count": 1
           },
           {
            "bin_end": 20682.899999999998,
            "bin_start": 17728.199999999997,
            "count": 1
           },
           {
            "bin_end": 23637.6,
            "bin_start": 20682.899999999998,
            "count": 0
           },
           {
            "bin_end": 26592.3,
            "bin_start": 23637.6,
            "count": 0
           },
           {
            "bin_end": 29547,
            "bin_start": 26592.3,
            "count": 1
           }
          ],
          "max": 29547,
          "min": 0,
          "nan_count": 0,
          "unique_count": 5
         }
        },
        {
         "dtype": "int64",
         "name": "paid_sep05",
         "stats": {
          "histogram": [
           {
            "bin_end": 200,
            "bin_start": 0,
            "count": 2
           },
           {
            "bin_end": 400,
            "bin_start": 200,
            "count": 0
           },
           {
            "bin_end": 600,
            "bin_start": 400,
            "count": 0
           },
           {
            "bin_end": 800,
            "bin_start": 600,
            "count": 0
           },
           {
            "bin_end": 1000,
            "bin_start": 800,
            "count": 0
           },
           {
            "bin_end": 1200,
            "bin_start": 1000,
            "count": 0
           },
           {
            "bin_end": 1400,
            "bin_start": 1200,
            "count": 0
           },
           {
            "bin_end": 1600,
            "bin_start": 1400,
            "count": 1
           },
           {
            "bin_end": 1800,
            "bin_start": 1600,
            "count": 0
           },
           {
            "bin_end": 2000,
            "bin_start": 1800,
            "count": 2
           }
          ],
          "max": 2000,
          "min": 0,
          "nan_count": 0,
          "unique_count": 3
         }
        },
        {
         "dtype": "int64",
         "name": "paid_aug05",
         "stats": {
          "histogram": [
           {
            "bin_end": 4288.2,
            "bin_start": 689,
            "count": 4
           },
           {
            "bin_end": 7887.4,
            "bin_start": 4288.2,
            "count": 0
           },
           {
            "bin_end": 11486.599999999999,
            "bin_start": 7887.4,
            "count": 0
           },
           {
            "bin_end": 15085.8,
            "bin_start": 11486.599999999999,
            "count": 0
           },
           {
            "bin_end": 18685,
            "bin_start": 15085.8,
            "count": 0
           },
           {
            "bin_end": 22284.199999999997,
            "bin_start": 18685,
            "count": 0
           },
           {
            "bin_end": 25883.399999999998,
            "bin_start": 22284.199999999997,
            "count": 0
           },
           {
            "bin_end": 29482.6,
            "bin_start": 25883.399999999998,
            "count": 0
           },
           {
            "bin_end": 33081.8,
            "bin_start": 29482.6,
            "count": 0
           },
           {
            "bin_end": 36681,
            "bin_start": 33081.8,
            "count": 1
           }
          ],
          "max": 36681,
          "min": 689,
          "nan_count": 0,
          "unique_count": 5
         }
        },
        {
         "dtype": "int64",
         "name": "paid_jul05",
         "stats": {
          "histogram": [
           {
            "bin_end": 1000,
            "bin_start": 0,
            "count": 1
           },
           {
            "bin_end": 2000,
            "bin_start": 1000,
            "count": 3
           },
           {
            "bin_end": 3000,
            "bin_start": 2000,
            "count": 0
           },
           {
            "bin_end": 4000,
            "bin_start": 3000,
            "count": 0
           },
           {
            "bin_end": 5000,
            "bin_start": 4000,
            "count": 0
           },
           {
            "bin_end": 6000,
            "bin_start": 5000,
            "count": 0
           },
           {
            "bin_end": 7000,
            "bin_start": 6000,
            "count": 0
           },
           {
            "bin_end": 8000,
            "bin_start": 7000,
            "count": 0
           },
           {
            "bin_end": 9000,
            "bin_start": 8000,
            "count": 0
           },
           {
            "bin_end": 10000,
            "bin_start": 9000,
            "count": 1
           }
          ],
          "max": 10000,
          "min": 0,
          "nan_count": 0,
          "unique_count": 4
         }
        },
        {
         "dtype": "int64",
         "name": "paid_jun05",
         "stats": {
          "histogram": [
           {
            "bin_end": 900,
            "bin_start": 0,
            "count": 1
           },
           {
            "bin_end": 1800,
            "bin_start": 900,
            "count": 3
           },
           {
            "bin_end": 2700,
            "bin_start": 1800,
            "count": 0
           },
           {
            "bin_end": 3600,
            "bin_start": 2700,
            "count": 0
           },
           {
            "bin_end": 4500,
            "bin_start": 3600,
            "count": 0
           },
           {
            "bin_end": 5400,
            "bin_start": 4500,
            "count": 0
           },
           {
            "bin_end": 6300,
            "bin_start": 5400,
            "count": 0
           },
           {
            "bin_end": 7200,
            "bin_start": 6300,
            "count": 0
           },
           {
            "bin_end": 8100,
            "bin_start": 7200,
            "count": 0
           },
           {
            "bin_end": 9000,
            "bin_start": 8100,
            "count": 1
           }
          ],
          "max": 9000,
          "min": 0,
          "nan_count": 0,
          "unique_count": 4
         }
        },
        {
         "dtype": "int64",
         "name": "paid_may05",
         "stats": {
          "histogram": [
           {
            "bin_end": 106.9,
            "bin_start": 0,
            "count": 2
           },
           {
            "bin_end": 213.8,
            "bin_start": 106.9,
            "count": 0
           },
           {
            "bin_end": 320.70000000000005,
            "bin_start": 213.8,
            "count": 0
           },
           {
            "bin_end": 427.6,
            "bin_start": 320.70000000000005,
            "count": 0
           },
           {
            "bin_end": 534.5,
            "bin_start": 427.6,
            "count": 0
           },
           {
            "bin_end": 641.4000000000001,
            "bin_start": 534.5,
            "count": 0
           },
           {
            "bin_end": 748.3000000000001,
            "bin_start": 641.4000000000001,
            "count": 1
           },
           {
            "bin_end": 855.2,
            "bin_start": 748.3000000000001,
            "count": 0
           },
           {
            "bin_end": 962.1,
            "bin_start": 855.2,
            "count": 0
           },
           {
            "bin_end": 1069,
            "bin_start": 962.1,
            "count": 2
           }
          ],
          "max": 1069,
          "min": 0,
          "nan_count": 0,
          "unique_count": 4
         }
        },
        {
         "dtype": "int64",
         "name": "paid_apr05",
         "stats": {
          "histogram": [
           {
            "bin_end": 500,
            "bin_start": 0,
            "count": 1
           },
           {
            "bin_end": 1000,
            "bin_start": 500,
            "count": 1
           },
           {
            "bin_end": 1500,
            "bin_start": 1000,
            "count": 1
           },
           {
            "bin_end": 2000,
            "bin_start": 1500,
            "count": 0
           },
           {
            "bin_end": 2500,
            "bin_start": 2000,
            "count": 1
           },
           {
            "bin_end": 3000,
            "bin_start": 2500,
            "count": 0
           },
           {
            "bin_end": 3500,
            "bin_start": 3000,
            "count": 0
           },
           {
            "bin_end": 4000,
            "bin_start": 3500,
            "count": 0
           },
           {
            "bin_end": 4500,
            "bin_start": 4000,
            "count": 0
           },
           {
            "bin_end": 5000,
            "bin_start": 4500,
            "count": 1
           }
          ],
          "max": 5000,
          "min": 0,
          "nan_count": 0,
          "unique_count": 5
         }
        },
        {
         "dtype": "int64",
         "name": "default",
         "stats": {
          "histogram": [
           {
            "bin_end": 0.1,
            "bin_start": 0,
            "count": 3
           },
           {
            "bin_end": 0.2,
            "bin_start": 0.1,
            "count": 0
           },
           {
            "bin_end": 0.30000000000000004,
            "bin_start": 0.2,
            "count": 0
           },
           {
            "bin_end": 0.4,
            "bin_start": 0.30000000000000004,
            "count": 0
           },
           {
            "bin_end": 0.5,
            "bin_start": 0.4,
            "count": 0
           },
           {
            "bin_end": 0.6000000000000001,
            "bin_start": 0.5,
            "count": 0
           },
           {
            "bin_end": 0.7000000000000001,
            "bin_start": 0.6000000000000001,
            "count": 0
           },
           {
            "bin_end": 0.8,
            "bin_start": 0.7000000000000001,
            "count": 0
           },
           {
            "bin_end": 0.9,
            "bin_start": 0.8,
            "count": 0
           },
           {
            "bin_end": 1,
            "bin_start": 0.9,
            "count": 2
           }
          ],
          "max": 1,
          "min": 0,
          "nan_count": 0,
          "unique_count": 2
         }
        },
        {
         "dtype": "int64",
         "name": "_deepnote_index_column"
        }
       ],
       "row_count": 5,
       "rows_bottom": null,
       "rows_top": [
        {
         "_deepnote_index_column": 0,
         "age": 24,
         "bill_apr05": 0,
         "bill_aug05": 3102,
         "bill_jul05": 689,
         "bill_jun05": 0,
         "bill_may05": 0,
         "bill_sep05": 3913,
         "credit": 20000,
         "default": 1,
         "education": "undergraduate",
         "marital_status": "married",
         "paid_apr05": 0,
         "paid_aug05": 689,
         "paid_jul05": 0,
         "paid_jun05": 0,
         "paid_may05": 0,
         "paid_sep05": 0,
         "sex": "female"
        },
        {
         "_deepnote_index_column": 1,
         "age": 26,
         "bill_apr05": 3261,
         "bill_aug05": 1725,
         "bill_jul05": 2682,
         "bill_jun05": 3272,
         "bill_may05": 3455,
         "bill_sep05": 2682,
         "credit": 120000,
         "default": 1,
         "education": "undergraduate",
         "marital_status": "single",
         "paid_apr05": 2000,
         "paid_aug05": 1000,
         "paid_jul05": 1000,
         "paid_jun05": 1000,
         "paid_may05": 0,
         "paid_sep05": 0,
         "sex": "female"
        },
        {
         "_deepnote_index_column": 2,
         "age": 34,
         "bill_apr05": 15549,
         "bill_aug05": 14027,
         "bill_jul05": 13559,
         "bill_jun05": 14331,
         "bill_may05": 14948,
         "bill_sep05": 29239,
         "credit": 90000,
         "default": 0,
         "education": "undergraduate",
         "marital_status": "single",
         "paid_apr05": 5000,
         "paid_aug05": 1500,
         "paid_jul05": 1000,
         "paid_jun05": 1000,
         "paid_may05": 1000,
         "paid_sep05": 1518,
         "sex": "female"
        },
        {
         "_deepnote_index_column": 3,
         "age": 37,
         "bill_apr05": 29547,
         "bill_aug05": 48233,
         "bill_jul05": 49291,
         "bill_jun05": 28314,
         "bill_may05": 28959,
         "bill_sep05": 46990,
         "credit": 50000,
         "default": 0,
         "education": "undergraduate",
         "marital_status": "married",
         "paid_apr05": 1000,
         "paid_aug05": 2019,
         "paid_jul05": 1200,
         "paid_jun05": 1100,
         "paid_may05": 1069,
         "paid_sep05": 2000,
         "sex": "female"
        },
        {
         "_deepnote_index_column": 4,
         "age": 57,
         "bill_apr05": 19131,
         "bill_aug05": 5670,
         "bill_jul05": 35835,
         "bill_jun05": 20940,
         "bill_may05": 19146,
         "bill_sep05": 8617,
         "credit": 50000,
         "default": 0,
         "education": "undergraduate",
         "marital_status": "married",
         "paid_apr05": 679,
         "paid_aug05": 36681,
         "paid_jul05": 10000,
         "paid_jun05": 9000,
         "paid_may05": 689,
         "paid_sep05": 2000,
         "sex": "male"
        }
       ]
      },
      "text/html": [
       "<div>\n",
       "<style scoped>\n",
       "    .dataframe tbody tr th:only-of-type {\n",
       "        vertical-align: middle;\n",
       "    }\n",
       "\n",
       "    .dataframe tbody tr th {\n",
       "        vertical-align: top;\n",
       "    }\n",
       "\n",
       "    .dataframe thead th {\n",
       "        text-align: right;\n",
       "    }\n",
       "</style>\n",
       "<table border=\"1\" class=\"dataframe\">\n",
       "  <thead>\n",
       "    <tr style=\"text-align: right;\">\n",
       "      <th></th>\n",
       "      <th>credit</th>\n",
       "      <th>sex</th>\n",
       "      <th>education</th>\n",
       "      <th>marital_status</th>\n",
       "      <th>age</th>\n",
       "      <th>bill_sep05</th>\n",
       "      <th>bill_aug05</th>\n",
       "      <th>bill_jul05</th>\n",
       "      <th>bill_jun05</th>\n",
       "      <th>bill_may05</th>\n",
       "      <th>bill_apr05</th>\n",
       "      <th>paid_sep05</th>\n",
       "      <th>paid_aug05</th>\n",
       "      <th>paid_jul05</th>\n",
       "      <th>paid_jun05</th>\n",
       "      <th>paid_may05</th>\n",
       "      <th>paid_apr05</th>\n",
       "      <th>default</th>\n",
       "    </tr>\n",
       "  </thead>\n",
       "  <tbody>\n",
       "    <tr>\n",
       "      <th>0</th>\n",
       "      <td>20000</td>\n",
       "      <td>female</td>\n",
       "      <td>undergraduate</td>\n",
       "      <td>married</td>\n",
       "      <td>24</td>\n",
       "      <td>3913</td>\n",
       "      <td>3102</td>\n",
       "      <td>689</td>\n",
       "      <td>0</td>\n",
       "      <td>0</td>\n",
       "      <td>0</td>\n",
       "      <td>0</td>\n",
       "      <td>689</td>\n",
       "      <td>0</td>\n",
       "      <td>0</td>\n",
       "      <td>0</td>\n",
       "      <td>0</td>\n",
       "      <td>1</td>\n",
       "    </tr>\n",
       "    <tr>\n",
       "      <th>1</th>\n",
       "      <td>120000</td>\n",
       "      <td>female</td>\n",
       "      <td>undergraduate</td>\n",
       "      <td>single</td>\n",
       "      <td>26</td>\n",
       "      <td>2682</td>\n",
       "      <td>1725</td>\n",
       "      <td>2682</td>\n",
       "      <td>3272</td>\n",
       "      <td>3455</td>\n",
       "      <td>3261</td>\n",
       "      <td>0</td>\n",
       "      <td>1000</td>\n",
       "      <td>1000</td>\n",
       "      <td>1000</td>\n",
       "      <td>0</td>\n",
       "      <td>2000</td>\n",
       "      <td>1</td>\n",
       "    </tr>\n",
       "    <tr>\n",
       "      <th>2</th>\n",
       "      <td>90000</td>\n",
       "      <td>female</td>\n",
       "      <td>undergraduate</td>\n",
       "      <td>single</td>\n",
       "      <td>34</td>\n",
       "      <td>29239</td>\n",
       "      <td>14027</td>\n",
       "      <td>13559</td>\n",
       "      <td>14331</td>\n",
       "      <td>14948</td>\n",
       "      <td>15549</td>\n",
       "      <td>1518</td>\n",
       "      <td>1500</td>\n",
       "      <td>1000</td>\n",
       "      <td>1000</td>\n",
       "      <td>1000</td>\n",
       "      <td>5000</td>\n",
       "      <td>0</td>\n",
       "    </tr>\n",
       "    <tr>\n",
       "      <th>3</th>\n",
       "      <td>50000</td>\n",
       "      <td>female</td>\n",
       "      <td>undergraduate</td>\n",
       "      <td>married</td>\n",
       "      <td>37</td>\n",
       "      <td>46990</td>\n",
       "      <td>48233</td>\n",
       "      <td>49291</td>\n",
       "      <td>28314</td>\n",
       "      <td>28959</td>\n",
       "      <td>29547</td>\n",
       "      <td>2000</td>\n",
       "      <td>2019</td>\n",
       "      <td>1200</td>\n",
       "      <td>1100</td>\n",
       "      <td>1069</td>\n",
       "      <td>1000</td>\n",
       "      <td>0</td>\n",
       "    </tr>\n",
       "    <tr>\n",
       "      <th>4</th>\n",
       "      <td>50000</td>\n",
       "      <td>male</td>\n",
       "      <td>undergraduate</td>\n",
       "      <td>married</td>\n",
       "      <td>57</td>\n",
       "      <td>8617</td>\n",
       "      <td>5670</td>\n",
       "      <td>35835</td>\n",
       "      <td>20940</td>\n",
       "      <td>19146</td>\n",
       "      <td>19131</td>\n",
       "      <td>2000</td>\n",
       "      <td>36681</td>\n",
       "      <td>10000</td>\n",
       "      <td>9000</td>\n",
       "      <td>689</td>\n",
       "      <td>679</td>\n",
       "      <td>0</td>\n",
       "    </tr>\n",
       "  </tbody>\n",
       "</table>\n",
       "</div>"
      ],
      "text/plain": [
       "   credit     sex      education marital_status  age  bill_sep05  bill_aug05  \\\n",
       "0   20000  female  undergraduate        married   24        3913        3102   \n",
       "1  120000  female  undergraduate         single   26        2682        1725   \n",
       "2   90000  female  undergraduate         single   34       29239       14027   \n",
       "3   50000  female  undergraduate        married   37       46990       48233   \n",
       "4   50000    male  undergraduate        married   57        8617        5670   \n",
       "\n",
       "   bill_jul05  bill_jun05  bill_may05  bill_apr05  paid_sep05  paid_aug05  \\\n",
       "0         689           0           0           0           0         689   \n",
       "1        2682        3272        3455        3261           0        1000   \n",
       "2       13559       14331       14948       15549        1518        1500   \n",
       "3       49291       28314       28959       29547        2000        2019   \n",
       "4       35835       20940       19146       19131        2000       36681   \n",
       "\n",
       "   paid_jul05  paid_jun05  paid_may05  paid_apr05  default  \n",
       "0           0           0           0           0        1  \n",
       "1        1000        1000           0        2000        1  \n",
       "2        1000        1000        1000        5000        0  \n",
       "3        1200        1100        1069        1000        0  \n",
       "4       10000        9000         689         679        0  "
      ]
     },
     "execution_count": 37,
     "metadata": {},
     "output_type": "execute_result"
    }
   ],
   "source": [
    "defaults = pd.read_csv(\"defaults.csv\")\n",
    "defaults.head()"
   ]
  },
  {
   "cell_type": "code",
   "execution_count": null,
   "metadata": {
    "cell_id": "00073-596b8cec-a3df-4e11-b315-8c9dd2ecfe45",
    "deepnote_cell_type": "code",
    "output_cleared": false,
    "tags": []
   },
   "outputs": [
    {
     "data": {
      "application/vnd.deepnote.dataframe.v2+json": {
       "column_count": 2,
       "columns": [
        {
         "dtype": "uint8",
         "name": "female",
         "stats": {
          "histogram": [
           {
            "bin_end": 0.1,
            "bin_start": 0,
            "count": 1
           },
           {
            "bin_end": 0.2,
            "bin_start": 0.1,
            "count": 0
           },
           {
            "bin_end": 0.30000000000000004,
            "bin_start": 0.2,
            "count": 0
           },
           {
            "bin_end": 0.4,
            "bin_start": 0.30000000000000004,
            "count": 0
           },
           {
            "bin_end": 0.5,
            "bin_start": 0.4,
            "count": 0
           },
           {
            "bin_end": 0.6000000000000001,
            "bin_start": 0.5,
            "count": 0
           },
           {
            "bin_end": 0.7000000000000001,
            "bin_start": 0.6000000000000001,
            "count": 0
           },
           {
            "bin_end": 0.8,
            "bin_start": 0.7000000000000001,
            "count": 0
           },
           {
            "bin_end": 0.9,
            "bin_start": 0.8,
            "count": 0
           },
           {
            "bin_end": 1,
            "bin_start": 0.9,
            "count": 4
           }
          ],
          "max": 1,
          "min": 0,
          "nan_count": 0,
          "unique_count": 2
         }
        },
        {
         "dtype": "uint8",
         "name": "male",
         "stats": {
          "histogram": [
           {
            "bin_end": 0.1,
            "bin_start": 0,
            "count": 4
           },
           {
            "bin_end": 0.2,
            "bin_start": 0.1,
            "count": 0
           },
           {
            "bin_end": 0.30000000000000004,
            "bin_start": 0.2,
            "count": 0
           },
           {
            "bin_end": 0.4,
            "bin_start": 0.30000000000000004,
            "count": 0
           },
           {
            "bin_end": 0.5,
            "bin_start": 0.4,
            "count": 0
           },
           {
            "bin_end": 0.6000000000000001,
            "bin_start": 0.5,
            "count": 0
           },
           {
            "bin_end": 0.7000000000000001,
            "bin_start": 0.6000000000000001,
            "count": 0
           },
           {
            "bin_end": 0.8,
            "bin_start": 0.7000000000000001,
            "count": 0
           },
           {
            "bin_end": 0.9,
            "bin_start": 0.8,
            "count": 0
           },
           {
            "bin_end": 1,
            "bin_start": 0.9,
            "count": 1
           }
          ],
          "max": 1,
          "min": 0,
          "nan_count": 0,
          "unique_count": 2
         }
        },
        {
         "dtype": "int64",
         "name": "_deepnote_index_column"
        }
       ],
       "row_count": 5,
       "rows_bottom": null,
       "rows_top": [
        {
         "_deepnote_index_column": 0,
         "female": 1,
         "male": 0
        },
        {
         "_deepnote_index_column": 1,
         "female": 1,
         "male": 0
        },
        {
         "_deepnote_index_column": 2,
         "female": 1,
         "male": 0
        },
        {
         "_deepnote_index_column": 3,
         "female": 1,
         "male": 0
        },
        {
         "_deepnote_index_column": 4,
         "female": 0,
         "male": 1
        }
       ]
      },
      "text/html": [
       "<div>\n",
       "<style scoped>\n",
       "    .dataframe tbody tr th:only-of-type {\n",
       "        vertical-align: middle;\n",
       "    }\n",
       "\n",
       "    .dataframe tbody tr th {\n",
       "        vertical-align: top;\n",
       "    }\n",
       "\n",
       "    .dataframe thead th {\n",
       "        text-align: right;\n",
       "    }\n",
       "</style>\n",
       "<table border=\"1\" class=\"dataframe\">\n",
       "  <thead>\n",
       "    <tr style=\"text-align: right;\">\n",
       "      <th></th>\n",
       "      <th>female</th>\n",
       "      <th>male</th>\n",
       "    </tr>\n",
       "  </thead>\n",
       "  <tbody>\n",
       "    <tr>\n",
       "      <th>0</th>\n",
       "      <td>1</td>\n",
       "      <td>0</td>\n",
       "    </tr>\n",
       "    <tr>\n",
       "      <th>1</th>\n",
       "      <td>1</td>\n",
       "      <td>0</td>\n",
       "    </tr>\n",
       "    <tr>\n",
       "      <th>2</th>\n",
       "      <td>1</td>\n",
       "      <td>0</td>\n",
       "    </tr>\n",
       "    <tr>\n",
       "      <th>3</th>\n",
       "      <td>1</td>\n",
       "      <td>0</td>\n",
       "    </tr>\n",
       "    <tr>\n",
       "      <th>4</th>\n",
       "      <td>0</td>\n",
       "      <td>1</td>\n",
       "    </tr>\n",
       "  </tbody>\n",
       "</table>\n",
       "</div>"
      ],
      "text/plain": [
       "   female  male\n",
       "0       1     0\n",
       "1       1     0\n",
       "2       1     0\n",
       "3       1     0\n",
       "4       0     1"
      ]
     },
     "execution_count": 38,
     "metadata": {},
     "output_type": "execute_result"
    }
   ],
   "source": [
    "pd.get_dummies(defaults['sex']).head()"
   ]
  },
  {
   "cell_type": "markdown",
   "metadata": {
    "cell_id": "00074-9e88cc84-7c4f-4a69-9796-1ae8d812644d",
    "deepnote_cell_type": "markdown",
    "output_cleared": false,
    "tags": []
   },
   "source": [
    "As we can see above, `pd.get_dummies(data)` will do most of the work for us, but do we really need both columns to tell the sex of a row?\n",
    "In this case, the `male` column is just 1-the `female` column, and vise versa. So we can keep only one of the columns and get the same information \n",
    "In practice, it's always better to not keep redundant information. Not only does this slim down your dataset, but it also saves you from something called colinearity when doing multi-variate regression on these dummy variables. \n",
    "A more detailed explanation of what colinearity is is going to be covered in the multivariate regression section, for now just see the benefits of throwing away redundant dummy variables to be slimming down your dataset. \n",
    "\n",
    "\n",
    "Luckily for us, pandas also support the \"throwing away\" of redundant information when generating dummy variables! This time, let's try to generate dummy variables for the columns `sex`, `education`, and `marital_status`, throwing away all possible redundant information. "
   ]
  },
  {
   "cell_type": "code",
   "execution_count": null,
   "metadata": {
    "cell_id": "00075-44a8c94b-304c-4382-933a-7f4ee60be791",
    "deepnote_cell_type": "code",
    "output_cleared": false,
    "tags": []
   },
   "outputs": [
    {
     "data": {
      "application/vnd.deepnote.dataframe.v2+json": {
       "column_count": 6,
       "columns": [
        {
         "dtype": "uint8",
         "name": "sex_male",
         "stats": {
          "histogram": [
           {
            "bin_end": 0.1,
            "bin_start": 0,
            "count": 4
           },
           {
            "bin_end": 0.2,
            "bin_start": 0.1,
            "count": 0
           },
           {
            "bin_end": 0.30000000000000004,
            "bin_start": 0.2,
            "count": 0
           },
           {
            "bin_end": 0.4,
            "bin_start": 0.30000000000000004,
            "count": 0
           },
           {
            "bin_end": 0.5,
            "bin_start": 0.4,
            "count": 0
           },
           {
            "bin_end": 0.6000000000000001,
            "bin_start": 0.5,
            "count": 0
           },
           {
            "bin_end": 0.7000000000000001,
            "bin_start": 0.6000000000000001,
            "count": 0
           },
           {
            "bin_end": 0.8,
            "bin_start": 0.7000000000000001,
            "count": 0
           },
           {
            "bin_end": 0.9,
            "bin_start": 0.8,
            "count": 0
           },
           {
            "bin_end": 1,
            "bin_start": 0.9,
            "count": 1
           }
          ],
          "max": 1,
          "min": 0,
          "nan_count": 0,
          "unique_count": 2
         }
        },
        {
         "dtype": "uint8",
         "name": "education_gradaute",
         "stats": {
          "histogram": [
           {
            "bin_end": -0.4,
            "bin_start": -0.5,
            "count": 0
           },
           {
            "bin_end": -0.3,
            "bin_start": -0.4,
            "count": 0
           },
           {
            "bin_end": -0.19999999999999996,
            "bin_start": -0.3,
            "count": 0
           },
           {
            "bin_end": -0.09999999999999998,
            "bin_start": -0.19999999999999996,
            "count": 0
           },
           {
            "bin_end": 0,
            "bin_start": -0.09999999999999998,
            "count": 0
           },
           {
            "bin_end": 0.10000000000000009,
            "bin_start": 0,
            "count": 5
           },
           {
            "bin_end": 0.20000000000000007,
            "bin_start": 0.10000000000000009,
            "count": 0
           },
           {
            "bin_end": 0.30000000000000004,
            "bin_start": 0.20000000000000007,
            "count": 0
           },
           {
            "bin_end": 0.4,
            "bin_start": 0.30000000000000004,
            "count": 0
           },
           {
            "bin_end": 0.5,
            "bin_start": 0.4,
            "count": 0
           }
          ],
          "max": 0,
          "min": 0,
          "nan_count": 0,
          "unique_count": 1
         }
        },
        {
         "dtype": "uint8",
         "name": "education_other",
         "stats": {
          "histogram": [
           {
            "bin_end": -0.4,
            "bin_start": -0.5,
            "count": 0
           },
           {
            "bin_end": -0.3,
            "bin_start": -0.4,
            "count": 0
           },
           {
            "bin_end": -0.19999999999999996,
            "bin_start": -0.3,
            "count": 0
           },
           {
            "bin_end": -0.09999999999999998,
            "bin_start": -0.19999999999999996,
            "count": 0
           },
           {
            "bin_end": 0,
            "bin_start": -0.09999999999999998,
            "count": 0
           },
           {
            "bin_end": 0.10000000000000009,
            "bin_start": 0,
            "count": 5
           },
           {
            "bin_end": 0.20000000000000007,
            "bin_start": 0.10000000000000009,
            "count": 0
           },
           {
            "bin_end": 0.30000000000000004,
            "bin_start": 0.20000000000000007,
            "count": 0
           },
           {
            "bin_end": 0.4,
            "bin_start": 0.30000000000000004,
            "count": 0
           },
           {
            "bin_end": 0.5,
            "bin_start": 0.4,
            "count": 0
           }
          ],
          "max": 0,
          "min": 0,
          "nan_count": 0,
          "unique_count": 1
         }
        },
        {
         "dtype": "uint8",
         "name": "education_undergraduate",
         "stats": {
          "histogram": [
           {
            "bin_end": 0.6,
            "bin_start": 0.5,
            "count": 0
           },
           {
            "bin_end": 0.7,
            "bin_start": 0.6,
            "count": 0
           },
           {
            "bin_end": 0.8,
            "bin_start": 0.7,
            "count": 0
           },
           {
            "bin_end": 0.9,
            "bin_start": 0.8,
            "count": 0
           },
           {
            "bin_end": 1,
            "bin_start": 0.9,
            "count": 0
           },
           {
            "bin_end": 1.1,
            "bin_start": 1,
            "count": 5
           },
           {
            "bin_end": 1.2000000000000002,
            "bin_start": 1.1,
            "count": 0
           },
           {
            "bin_end": 1.3,
            "bin_start": 1.2000000000000002,
            "count": 0
           },
           {
            "bin_end": 1.4,
            "bin_start": 1.3,
            "count": 0
           },
           {
            "bin_end": 1.5,
            "bin_start": 1.4,
            "count": 0
           }
          ],
          "max": 1,
          "min": 1,
          "nan_count": 0,
          "unique_count": 1
         }
        },
        {
         "dtype": "uint8",
         "name": "marital_status_other",
         "stats": {
          "histogram": [
           {
            "bin_end": -0.4,
            "bin_start": -0.5,
            "count": 0
           },
           {
            "bin_end": -0.3,
            "bin_start": -0.4,
            "count": 0
           },
           {
            "bin_end": -0.19999999999999996,
            "bin_start": -0.3,
            "count": 0
           },
           {
            "bin_end": -0.09999999999999998,
            "bin_start": -0.19999999999999996,
            "count": 0
           },
           {
            "bin_end": 0,
            "bin_start": -0.09999999999999998,
            "count": 0
           },
           {
            "bin_end": 0.10000000000000009,
            "bin_start": 0,
            "count": 5
           },
           {
            "bin_end": 0.20000000000000007,
            "bin_start": 0.10000000000000009,
            "count": 0
           },
           {
            "bin_end": 0.30000000000000004,
            "bin_start": 0.20000000000000007,
            "count": 0
           },
           {
            "bin_end": 0.4,
            "bin_start": 0.30000000000000004,
            "count": 0
           },
           {
            "bin_end": 0.5,
            "bin_start": 0.4,
            "count": 0
           }
          ],
          "max": 0,
          "min": 0,
          "nan_count": 0,
          "unique_count": 1
         }
        },
        {
         "dtype": "uint8",
         "name": "marital_status_single",
         "stats": {
          "histogram": [
           {
            "bin_end": 0.1,
            "bin_start": 0,
            "count": 3
           },
           {
            "bin_end": 0.2,
            "bin_start": 0.1,
            "count": 0
           },
           {
            "bin_end": 0.30000000000000004,
            "bin_start": 0.2,
            "count": 0
           },
           {
            "bin_end": 0.4,
            "bin_start": 0.30000000000000004,
            "count": 0
           },
           {
            "bin_end": 0.5,
            "bin_start": 0.4,
            "count": 0
           },
           {
            "bin_end": 0.6000000000000001,
            "bin_start": 0.5,
            "count": 0
           },
           {
            "bin_end": 0.7000000000000001,
            "bin_start": 0.6000000000000001,
            "count": 0
           },
           {
            "bin_end": 0.8,
            "bin_start": 0.7000000000000001,
            "count": 0
           },
           {
            "bin_end": 0.9,
            "bin_start": 0.8,
            "count": 0
           },
           {
            "bin_end": 1,
            "bin_start": 0.9,
            "count": 2
           }
          ],
          "max": 1,
          "min": 0,
          "nan_count": 0,
          "unique_count": 2
         }
        },
        {
         "dtype": "int64",
         "name": "_deepnote_index_column"
        }
       ],
       "row_count": 5,
       "rows_bottom": null,
       "rows_top": [
        {
         "_deepnote_index_column": 0,
         "education_gradaute": 0,
         "education_other": 0,
         "education_undergraduate": 1,
         "marital_status_other": 0,
         "marital_status_single": 0,
         "sex_male": 0
        },
        {
         "_deepnote_index_column": 1,
         "education_gradaute": 0,
         "education_other": 0,
         "education_undergraduate": 1,
         "marital_status_other": 0,
         "marital_status_single": 1,
         "sex_male": 0
        },
        {
         "_deepnote_index_column": 2,
         "education_gradaute": 0,
         "education_other": 0,
         "education_undergraduate": 1,
         "marital_status_other": 0,
         "marital_status_single": 1,
         "sex_male": 0
        },
        {
         "_deepnote_index_column": 3,
         "education_gradaute": 0,
         "education_other": 0,
         "education_undergraduate": 1,
         "marital_status_other": 0,
         "marital_status_single": 0,
         "sex_male": 0
        },
        {
         "_deepnote_index_column": 4,
         "education_gradaute": 0,
         "education_other": 0,
         "education_undergraduate": 1,
         "marital_status_other": 0,
         "marital_status_single": 0,
         "sex_male": 1
        }
       ]
      },
      "text/html": [
       "<div>\n",
       "<style scoped>\n",
       "    .dataframe tbody tr th:only-of-type {\n",
       "        vertical-align: middle;\n",
       "    }\n",
       "\n",
       "    .dataframe tbody tr th {\n",
       "        vertical-align: top;\n",
       "    }\n",
       "\n",
       "    .dataframe thead th {\n",
       "        text-align: right;\n",
       "    }\n",
       "</style>\n",
       "<table border=\"1\" class=\"dataframe\">\n",
       "  <thead>\n",
       "    <tr style=\"text-align: right;\">\n",
       "      <th></th>\n",
       "      <th>sex_male</th>\n",
       "      <th>education_gradaute</th>\n",
       "      <th>education_other</th>\n",
       "      <th>education_undergraduate</th>\n",
       "      <th>marital_status_other</th>\n",
       "      <th>marital_status_single</th>\n",
       "    </tr>\n",
       "  </thead>\n",
       "  <tbody>\n",
       "    <tr>\n",
       "      <th>0</th>\n",
       "      <td>0</td>\n",
       "      <td>0</td>\n",
       "      <td>0</td>\n",
       "      <td>1</td>\n",
       "      <td>0</td>\n",
       "      <td>0</td>\n",
       "    </tr>\n",
       "    <tr>\n",
       "      <th>1</th>\n",
       "      <td>0</td>\n",
       "      <td>0</td>\n",
       "      <td>0</td>\n",
       "      <td>1</td>\n",
       "      <td>0</td>\n",
       "      <td>1</td>\n",
       "    </tr>\n",
       "    <tr>\n",
       "      <th>2</th>\n",
       "      <td>0</td>\n",
       "      <td>0</td>\n",
       "      <td>0</td>\n",
       "      <td>1</td>\n",
       "      <td>0</td>\n",
       "      <td>1</td>\n",
       "    </tr>\n",
       "    <tr>\n",
       "      <th>3</th>\n",
       "      <td>0</td>\n",
       "      <td>0</td>\n",
       "      <td>0</td>\n",
       "      <td>1</td>\n",
       "      <td>0</td>\n",
       "      <td>0</td>\n",
       "    </tr>\n",
       "    <tr>\n",
       "      <th>4</th>\n",
       "      <td>1</td>\n",
       "      <td>0</td>\n",
       "      <td>0</td>\n",
       "      <td>1</td>\n",
       "      <td>0</td>\n",
       "      <td>0</td>\n",
       "    </tr>\n",
       "  </tbody>\n",
       "</table>\n",
       "</div>"
      ],
      "text/plain": [
       "   sex_male  education_gradaute  education_other  education_undergraduate  \\\n",
       "0         0                   0                0                        1   \n",
       "1         0                   0                0                        1   \n",
       "2         0                   0                0                        1   \n",
       "3         0                   0                0                        1   \n",
       "4         1                   0                0                        1   \n",
       "\n",
       "   marital_status_other  marital_status_single  \n",
       "0                     0                      0  \n",
       "1                     0                      1  \n",
       "2                     0                      1  \n",
       "3                     0                      0  \n",
       "4                     0                      0  "
      ]
     },
     "execution_count": 39,
     "metadata": {},
     "output_type": "execute_result"
    }
   ],
   "source": [
    "pd.get_dummies(defaults[[\"sex\", \"education\", \"marital_status\"]], drop_first=True).head()"
   ]
  },
  {
   "cell_type": "markdown",
   "metadata": {
    "cell_id": "00068-02c86340-60d6-4e31-beec-5342caf2fc5f",
    "deepnote_cell_type": "markdown",
    "output_cleared": false
   },
   "source": [
    "With the parameter `drop_first` set to True, pandas drops the first column of every dummy-encoded categorical variable.\n",
    "\n",
    "Since we already know that all the categories should add up to a column of all ones, one dummy-encoded category from every column containes redundant information. \n",
    "By throwing out the first ever category for every column:sex_female for the sex column, education_diploma for the education column, and marital_status_married for the marital_status column, pandas successfully excludes duplicate information from the returned dataframe. "
   ]
  },
  {
   "cell_type": "markdown",
   "metadata": {
    "cell_id": "00080-8af0e6e3-b451-4c68-a6b6-72c7e5987d98",
    "deepnote_cell_type": "markdown",
    "output_cleared": false,
    "tags": []
   },
   "source": [
    "# At this point transition to multivariable notebook"
   ]
  },
  {
   "cell_type": "markdown",
   "metadata": {
    "cell_id": "00087-63129b5b-63ff-43ff-bd60-972406331fed",
    "deepnote_cell_type": "markdown",
    "output_cleared": false,
    "tags": []
   },
   "source": [
    "## New markdown cell"
   ]
  }
 ],
 "metadata": {
  "celltoolbar": "Tags",
  "deepnote_execution_queue": [],
  "deepnote_notebook_id": "e33b0ed3-335c-4799-886e-76cd443c4535",
  "kernelspec": {
   "display_name": "Python 3",
   "language": "python",
   "name": "python3"
  },
  "language_info": {
   "codemirror_mode": {
    "name": "ipython",
    "version": 3
   },
   "file_extension": ".py",
   "mimetype": "text/x-python",
   "name": "python",
   "nbconvert_exporter": "python",
   "pygments_lexer": "ipython3",
   "version": "3.6.5"
  },
  "varInspector": {
   "cols": {
    "lenName": 16,
    "lenType": 16,
    "lenVar": 40
   },
   "kernels_config": {
    "python": {
     "delete_cmd_postfix": "",
     "delete_cmd_prefix": "del ",
     "library": "var_list.py",
     "varRefreshCmd": "print(var_dic_list())"
    },
    "r": {
     "delete_cmd_postfix": ") ",
     "delete_cmd_prefix": "rm(",
     "library": "var_list.r",
     "varRefreshCmd": "cat(var_dic_list()) "
    }
   },
   "types_to_exclude": [
    "module",
    "function",
    "builtin_function_or_method",
    "instance",
    "_Feature"
   ],
   "window_display": false
  }
 },
 "nbformat": 4,
 "nbformat_minor": 2
}
