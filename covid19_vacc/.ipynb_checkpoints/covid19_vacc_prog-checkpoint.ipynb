{
 "cells": [
  {
   "cell_type": "markdown",
   "metadata": {},
   "source": [
    "# World Vaccination Progress EDA\n",
    "\n",
    "Okay, we have a vaccine; that's exciting news! But how are we doing? Is the vaccination progressing quick enough? This lecture, we will explore a dataset downloaded from `kaggle`, you can follow [this link](https://www.kaggle.com/gpreda/covid-world-vaccination-progress) to learn more about this dataset. The dataset is collected by the organization [Our World in Data](https://ourworldindata.org/) that publish papers about solutions to world issues."
   ]
  },
  {
   "cell_type": "code",
   "execution_count": 1,
   "metadata": {},
   "outputs": [],
   "source": [
    "# list of imports\n",
    "import scipy as sp\n",
    "import numpy as np\n",
    "import warnings\n",
    "warnings.simplefilter(action='ignore', category=FutureWarning)\n",
    "\n",
    "import pandas as pd\n",
    "import datascience\n",
    "import matplotlib.pyplot as plt\n",
    "%matplotlib inline\n",
    "from datascience import Table\n",
    "import seaborn as sns"
   ]
  },
  {
   "cell_type": "markdown",
   "metadata": {},
   "source": [
    "We very briefly walked through how to interact with an API (it's very simple!) If you are interested, you can look at more in the official `github` page: https://github.com/Kaggle/kaggle-api"
   ]
  },
  {
   "cell_type": "code",
   "execution_count": 2,
   "metadata": {},
   "outputs": [
    {
     "name": "stdout",
     "output_type": "stream",
     "text": [
      "ref                                                title                                              size  lastUpdated          downloadCount  voteCount  usabilityRating  \r\n",
      "-------------------------------------------------  ------------------------------------------------  -----  -------------------  -------------  ---------  ---------------  \r\n",
      "gpreda/covid-world-vaccination-progress            COVID-19 World Vaccination Progress               101KB  2021-03-01 08:15:06          19482        888  1.0              \r\n",
      "fedesoriano/coronavirus-covid19-vaccinations-data  COVID-19 World Vaccination Progress Data            3MB  2021-01-27 06:37:50            186          7  1.0              \r\n",
      "keplaxo/twitter-vaccination-dataset                Twitter Vaccination Dataset                       305MB  2020-04-15 17:33:37            346         13  0.9411765        \r\n",
      "padmajabuggaveeti/covid-vaccination-dataset-2021   COVID VACCINATION DATASET - 2021                   29KB  2021-01-27 11:04:44             75          5  0.5882353        \r\n",
      "mpwolke/cusersmarildownloadsvaccinationcsv         Covid-19 Vaccination Doses Administered            681B  2020-12-28 21:06:44              7          2  1.0              \r\n",
      "teesoong/covid-vaccination-forecast                Covid Vaccination forecast                          2KB  2021-02-27 14:33:03             10          2  0.47058824       \r\n",
      "alechelyar/facebook-antivaccination-dataset        Facebook Anti-Vaccination Dataset                  53MB  2019-04-02 17:24:22            206          8  0.3529412        \r\n",
      "rtatman/animal-bites                               Animal Bites                                       95KB  2017-09-15 17:21:38           3496         60  0.85294116       \r\n"
     ]
    }
   ],
   "source": [
    "# kaggle API\n",
    "! kaggle datasets list -s \"covid vaccination\" --sort-by 'hottest' | head -10"
   ]
  },
  {
   "cell_type": "code",
   "execution_count": 4,
   "metadata": {},
   "outputs": [
    {
     "name": "stdout",
     "output_type": "stream",
     "text": [
      "name,size,creationDate\r",
      "\r\n",
      "country_vaccinations.csv,880KB,2021-03-01 08:15:06\r",
      "\r\n"
     ]
    }
   ],
   "source": [
    "# find the files in dataset\n",
    "! kaggle datasets files gpreda/covid-world-vaccination-progress -v"
   ]
  },
  {
   "cell_type": "code",
   "execution_count": 7,
   "metadata": {},
   "outputs": [
    {
     "name": "stdout",
     "output_type": "stream",
     "text": [
      "country_vaccinations.csv: Skipping, found more recently modified local copy (use --force to force download)\n",
      ">>> check if data is there\n",
      "country_vaccinations.csv\n"
     ]
    }
   ],
   "source": [
    "# download the file in csv format\n",
    "! kaggle datasets download -f country_vaccinations.csv -p \"./data\" gpreda/covid-world-vaccination-progress\n",
    "! echo \">>> check if data is there\"\n",
    "! ls \"./data\""
   ]
  },
  {
   "cell_type": "markdown",
   "metadata": {},
   "source": [
    "Data wrangling and EDA are the most initial steps in our data science lifecyle. Most often than not in research, the data is newly collected or simulated; no one has had time to write up extensive descriptions of the data. Therefore, an important step is getting to know our data."
   ]
  },
  {
   "cell_type": "code",
   "execution_count": 9,
   "metadata": {},
   "outputs": [
    {
     "data": {
      "text/plain": [
       "country                                 object\n",
       "iso_code                                object\n",
       "date                                    object\n",
       "total_vaccinations                     float64\n",
       "people_vaccinated                      float64\n",
       "people_fully_vaccinated                float64\n",
       "daily_vaccinations_raw                 float64\n",
       "daily_vaccinations                     float64\n",
       "total_vaccinations_per_hundred         float64\n",
       "people_vaccinated_per_hundred          float64\n",
       "people_fully_vaccinated_per_hundred    float64\n",
       "daily_vaccinations_per_million         float64\n",
       "vaccines                                object\n",
       "source_name                             object\n",
       "source_website                          object\n",
       "dtype: object"
      ]
     },
     "execution_count": 9,
     "metadata": {},
     "output_type": "execute_result"
    }
   ],
   "source": [
    "# read data in\n",
    "path = \"./data/\"\n",
    "filename = \"country_vaccinations.csv\"\n",
    "read_path = path + filename\n",
    "vax = pd.read_csv(read_path)\n",
    "# what columns does it have\n",
    "# what are data types\n",
    "vax.dtypes"
   ]
  },
  {
   "cell_type": "markdown",
   "metadata": {},
   "source": [
    "Now that we have the data, let's load it in and look at what it has to offer. To learn more about this dataset, it is often helpful to look at its `README` file or just directly go to `kaggle` and read the descriptions. https://www.kaggle.com/gpreda/covid-world-vaccination-progress\n",
    "\n",
    "The description of columns is usually called a `data dictionary`. By reading the documentation we learn that this data is directly sourced from John Hopkins University: https://github.com/owid/covid-19-data/tree/master/public/data. This is sometimes important to know because different organizations, institutions, or even individuals often collect and record data following different conventions (how are `NA` values represented, how are categorical values stored, etc.). You can explore the data source's description a little more closely: https://ourworldindata.org/coronavirus-source-data."
   ]
  },
  {
   "cell_type": "code",
   "execution_count": 10,
   "metadata": {},
   "outputs": [
    {
     "data": {
      "text/plain": [
       "Index                                    128\n",
       "country                                35480\n",
       "iso_code                               35480\n",
       "date                                   35480\n",
       "total_vaccinations                     35480\n",
       "people_vaccinated                      35480\n",
       "people_fully_vaccinated                35480\n",
       "daily_vaccinations_raw                 35480\n",
       "daily_vaccinations                     35480\n",
       "total_vaccinations_per_hundred         35480\n",
       "people_vaccinated_per_hundred          35480\n",
       "people_fully_vaccinated_per_hundred    35480\n",
       "daily_vaccinations_per_million         35480\n",
       "vaccines                               35480\n",
       "source_name                            35480\n",
       "source_website                         35480\n",
       "dtype: int64"
      ]
     },
     "metadata": {},
     "output_type": "display_data"
    },
    {
     "name": "stdout",
     "output_type": "stream",
     "text": [
      "519.85 kB\n"
     ]
    }
   ],
   "source": [
    "# how much space does this dataset take?\n",
    "display(vax.memory_usage())\n",
    "# how many kilobytes?\n",
    "print(\"{} kB\".format(np.round(vax.memory_usage().sum()/2**10, 2)))"
   ]
  },
  {
   "cell_type": "markdown",
   "metadata": {},
   "source": [
    "A more comprehensive description of the data types is `df.info` function."
   ]
  },
  {
   "cell_type": "code",
   "execution_count": 11,
   "metadata": {},
   "outputs": [
    {
     "name": "stdout",
     "output_type": "stream",
     "text": [
      "<class 'pandas.core.frame.DataFrame'>\n",
      "RangeIndex: 4435 entries, 0 to 4434\n",
      "Data columns (total 15 columns):\n",
      "country                                4435 non-null object\n",
      "iso_code                               4131 non-null object\n",
      "date                                   4435 non-null object\n",
      "total_vaccinations                     2916 non-null float64\n",
      "people_vaccinated                      2483 non-null float64\n",
      "people_fully_vaccinated                1662 non-null float64\n",
      "daily_vaccinations_raw                 2467 non-null float64\n",
      "daily_vaccinations                     4281 non-null float64\n",
      "total_vaccinations_per_hundred         2916 non-null float64\n",
      "people_vaccinated_per_hundred          2483 non-null float64\n",
      "people_fully_vaccinated_per_hundred    1662 non-null float64\n",
      "daily_vaccinations_per_million         4281 non-null float64\n",
      "vaccines                               4435 non-null object\n",
      "source_name                            4435 non-null object\n",
      "source_website                         4435 non-null object\n",
      "dtypes: float64(9), object(6)\n",
      "memory usage: 519.9+ KB\n"
     ]
    }
   ],
   "source": [
    "vax.info();\n",
    "# vax.dim, vix.shape, vix.dtypes"
   ]
  },
  {
   "cell_type": "markdown",
   "metadata": {},
   "source": [
    "```'b'       boolean\n",
    "'i'       (signed) integer\n",
    "'u'       unsigned integer\n",
    "'f'       floating-point\n",
    "'c'       complex-floating point\n",
    "'O'       (Python) objects\n",
    "'S', 'a'  (byte-)string\n",
    "'U'       Unicode\n",
    "'V'       raw data (void)```"
   ]
  },
  {
   "cell_type": "code",
   "execution_count": 13,
   "metadata": {},
   "outputs": [
    {
     "data": {
      "text/plain": [
       "dtype('O')"
      ]
     },
     "execution_count": 13,
     "metadata": {},
     "output_type": "execute_result"
    }
   ],
   "source": [
    "# what are these \"object\" values, let's look at \"country\" for example\n",
    "countries = vax['country']\n",
    "countries.dtype # probably not very helpful"
   ]
  },
  {
   "cell_type": "code",
   "execution_count": 14,
   "metadata": {},
   "outputs": [
    {
     "data": {
      "text/plain": [
       "str"
      ]
     },
     "execution_count": 14,
     "metadata": {},
     "output_type": "execute_result"
    }
   ],
   "source": [
    "type(countries[0])"
   ]
  },
  {
   "cell_type": "markdown",
   "metadata": {},
   "source": [
    "Now that we know what the columns are and (roughly) what they represent, let's also look at the table as a whole.\n",
    "\n",
    "### Q: What is the granularity of this dataset?\n",
    "\n",
    "Discussion: Is it better to have more granularity, or less granularity?"
   ]
  },
  {
   "cell_type": "code",
   "execution_count": 15,
   "metadata": {},
   "outputs": [
    {
     "data": {
      "text/html": [
       "<div>\n",
       "<style scoped>\n",
       "    .dataframe tbody tr th:only-of-type {\n",
       "        vertical-align: middle;\n",
       "    }\n",
       "\n",
       "    .dataframe tbody tr th {\n",
       "        vertical-align: top;\n",
       "    }\n",
       "\n",
       "    .dataframe thead th {\n",
       "        text-align: right;\n",
       "    }\n",
       "</style>\n",
       "<table border=\"1\" class=\"dataframe\">\n",
       "  <thead>\n",
       "    <tr style=\"text-align: right;\">\n",
       "      <th></th>\n",
       "      <th>country</th>\n",
       "      <th>iso_code</th>\n",
       "      <th>date</th>\n",
       "      <th>total_vaccinations</th>\n",
       "      <th>people_vaccinated</th>\n",
       "      <th>people_fully_vaccinated</th>\n",
       "      <th>daily_vaccinations_raw</th>\n",
       "      <th>daily_vaccinations</th>\n",
       "      <th>total_vaccinations_per_hundred</th>\n",
       "      <th>people_vaccinated_per_hundred</th>\n",
       "      <th>people_fully_vaccinated_per_hundred</th>\n",
       "      <th>daily_vaccinations_per_million</th>\n",
       "      <th>vaccines</th>\n",
       "      <th>source_name</th>\n",
       "      <th>source_website</th>\n",
       "    </tr>\n",
       "  </thead>\n",
       "  <tbody>\n",
       "    <tr>\n",
       "      <td>0</td>\n",
       "      <td>Albania</td>\n",
       "      <td>ALB</td>\n",
       "      <td>2021-01-10</td>\n",
       "      <td>0.0</td>\n",
       "      <td>0.0</td>\n",
       "      <td>NaN</td>\n",
       "      <td>NaN</td>\n",
       "      <td>NaN</td>\n",
       "      <td>0.00</td>\n",
       "      <td>0.00</td>\n",
       "      <td>NaN</td>\n",
       "      <td>NaN</td>\n",
       "      <td>Pfizer/BioNTech</td>\n",
       "      <td>Ministry of Health</td>\n",
       "      <td>https://shendetesia.gov.al/covid19-ministria-e...</td>\n",
       "    </tr>\n",
       "    <tr>\n",
       "      <td>1</td>\n",
       "      <td>Albania</td>\n",
       "      <td>ALB</td>\n",
       "      <td>2021-01-11</td>\n",
       "      <td>NaN</td>\n",
       "      <td>NaN</td>\n",
       "      <td>NaN</td>\n",
       "      <td>NaN</td>\n",
       "      <td>64.0</td>\n",
       "      <td>NaN</td>\n",
       "      <td>NaN</td>\n",
       "      <td>NaN</td>\n",
       "      <td>22.0</td>\n",
       "      <td>Pfizer/BioNTech</td>\n",
       "      <td>Ministry of Health</td>\n",
       "      <td>https://shendetesia.gov.al/covid19-ministria-e...</td>\n",
       "    </tr>\n",
       "    <tr>\n",
       "      <td>2</td>\n",
       "      <td>Albania</td>\n",
       "      <td>ALB</td>\n",
       "      <td>2021-01-12</td>\n",
       "      <td>128.0</td>\n",
       "      <td>128.0</td>\n",
       "      <td>NaN</td>\n",
       "      <td>NaN</td>\n",
       "      <td>64.0</td>\n",
       "      <td>0.00</td>\n",
       "      <td>0.00</td>\n",
       "      <td>NaN</td>\n",
       "      <td>22.0</td>\n",
       "      <td>Pfizer/BioNTech</td>\n",
       "      <td>Ministry of Health</td>\n",
       "      <td>https://shendetesia.gov.al/covid19-ministria-e...</td>\n",
       "    </tr>\n",
       "    <tr>\n",
       "      <td>3</td>\n",
       "      <td>Albania</td>\n",
       "      <td>ALB</td>\n",
       "      <td>2021-01-13</td>\n",
       "      <td>188.0</td>\n",
       "      <td>188.0</td>\n",
       "      <td>NaN</td>\n",
       "      <td>60.0</td>\n",
       "      <td>63.0</td>\n",
       "      <td>0.01</td>\n",
       "      <td>0.01</td>\n",
       "      <td>NaN</td>\n",
       "      <td>22.0</td>\n",
       "      <td>Pfizer/BioNTech</td>\n",
       "      <td>Ministry of Health</td>\n",
       "      <td>https://shendetesia.gov.al/covid19-ministria-e...</td>\n",
       "    </tr>\n",
       "    <tr>\n",
       "      <td>4</td>\n",
       "      <td>Albania</td>\n",
       "      <td>ALB</td>\n",
       "      <td>2021-01-14</td>\n",
       "      <td>266.0</td>\n",
       "      <td>266.0</td>\n",
       "      <td>NaN</td>\n",
       "      <td>78.0</td>\n",
       "      <td>66.0</td>\n",
       "      <td>0.01</td>\n",
       "      <td>0.01</td>\n",
       "      <td>NaN</td>\n",
       "      <td>23.0</td>\n",
       "      <td>Pfizer/BioNTech</td>\n",
       "      <td>Ministry of Health</td>\n",
       "      <td>https://shendetesia.gov.al/covid19-ministria-e...</td>\n",
       "    </tr>\n",
       "  </tbody>\n",
       "</table>\n",
       "</div>"
      ],
      "text/plain": [
       "   country iso_code        date  total_vaccinations  people_vaccinated  \\\n",
       "0  Albania      ALB  2021-01-10                 0.0                0.0   \n",
       "1  Albania      ALB  2021-01-11                 NaN                NaN   \n",
       "2  Albania      ALB  2021-01-12               128.0              128.0   \n",
       "3  Albania      ALB  2021-01-13               188.0              188.0   \n",
       "4  Albania      ALB  2021-01-14               266.0              266.0   \n",
       "\n",
       "   people_fully_vaccinated  daily_vaccinations_raw  daily_vaccinations  \\\n",
       "0                      NaN                     NaN                 NaN   \n",
       "1                      NaN                     NaN                64.0   \n",
       "2                      NaN                     NaN                64.0   \n",
       "3                      NaN                    60.0                63.0   \n",
       "4                      NaN                    78.0                66.0   \n",
       "\n",
       "   total_vaccinations_per_hundred  people_vaccinated_per_hundred  \\\n",
       "0                            0.00                           0.00   \n",
       "1                             NaN                            NaN   \n",
       "2                            0.00                           0.00   \n",
       "3                            0.01                           0.01   \n",
       "4                            0.01                           0.01   \n",
       "\n",
       "   people_fully_vaccinated_per_hundred  daily_vaccinations_per_million  \\\n",
       "0                                  NaN                             NaN   \n",
       "1                                  NaN                            22.0   \n",
       "2                                  NaN                            22.0   \n",
       "3                                  NaN                            22.0   \n",
       "4                                  NaN                            23.0   \n",
       "\n",
       "          vaccines         source_name  \\\n",
       "0  Pfizer/BioNTech  Ministry of Health   \n",
       "1  Pfizer/BioNTech  Ministry of Health   \n",
       "2  Pfizer/BioNTech  Ministry of Health   \n",
       "3  Pfizer/BioNTech  Ministry of Health   \n",
       "4  Pfizer/BioNTech  Ministry of Health   \n",
       "\n",
       "                                      source_website  \n",
       "0  https://shendetesia.gov.al/covid19-ministria-e...  \n",
       "1  https://shendetesia.gov.al/covid19-ministria-e...  \n",
       "2  https://shendetesia.gov.al/covid19-ministria-e...  \n",
       "3  https://shendetesia.gov.al/covid19-ministria-e...  \n",
       "4  https://shendetesia.gov.al/covid19-ministria-e...  "
      ]
     },
     "execution_count": 15,
     "metadata": {},
     "output_type": "execute_result"
    }
   ],
   "source": [
    "vax.head()"
   ]
  },
  {
   "cell_type": "markdown",
   "metadata": {},
   "source": [
    "We have quite a few numerical features, such as `people_vaccinated`, `daily_vaccinations` ... We may be generally interested in some statistics."
   ]
  },
  {
   "cell_type": "code",
   "execution_count": 20,
   "metadata": {},
   "outputs": [
    {
     "data": {
      "text/plain": [
       "55316.880168185"
      ]
     },
     "execution_count": 20,
     "metadata": {},
     "output_type": "execute_result"
    }
   ],
   "source": [
    "# compute mean\n",
    "sum(vax['daily_vaccinations'])/len(vax['daily_vaccinations']) # comments?\n",
    "vax['daily_vaccinations'].mean()"
   ]
  },
  {
   "cell_type": "markdown",
   "metadata": {},
   "source": [
    "We have some `NaN` values, this can be due to a few different reasons depending on context. But remember: \n",
    "**If there is no data, it does not mean that there is no problem**.\n",
    "\n",
    "### Q: Is getting rid of data points that contain `NaN`'s a good idea?"
   ]
  },
  {
   "cell_type": "markdown",
   "metadata": {},
   "source": [
    "Now that we know in general:\n",
    "* the (physical) size of data\n",
    "* the dimensions of data\n",
    "* what each row / column represents\n",
    "* the data types contained in this data\n",
    "* analmolies\n",
    "\n",
    "Now we can dive into the data values themselves and find out what properties this dataset has."
   ]
  },
  {
   "cell_type": "code",
   "execution_count": 24,
   "metadata": {},
   "outputs": [
    {
     "data": {
      "text/html": [
       "<div>\n",
       "<style scoped>\n",
       "    .dataframe tbody tr th:only-of-type {\n",
       "        vertical-align: middle;\n",
       "    }\n",
       "\n",
       "    .dataframe tbody tr th {\n",
       "        vertical-align: top;\n",
       "    }\n",
       "\n",
       "    .dataframe thead th {\n",
       "        text-align: right;\n",
       "    }\n",
       "</style>\n",
       "<table border=\"1\" class=\"dataframe\">\n",
       "  <thead>\n",
       "    <tr style=\"text-align: right;\">\n",
       "      <th></th>\n",
       "      <th>index</th>\n",
       "      <th>country</th>\n",
       "      <th>iso_code</th>\n",
       "      <th>date</th>\n",
       "      <th>total_vaccinations</th>\n",
       "      <th>people_vaccinated</th>\n",
       "      <th>people_fully_vaccinated</th>\n",
       "      <th>daily_vaccinations_raw</th>\n",
       "      <th>daily_vaccinations</th>\n",
       "      <th>total_vaccinations_per_hundred</th>\n",
       "      <th>people_vaccinated_per_hundred</th>\n",
       "      <th>people_fully_vaccinated_per_hundred</th>\n",
       "      <th>daily_vaccinations_per_million</th>\n",
       "      <th>vaccines</th>\n",
       "      <th>source_name</th>\n",
       "      <th>source_website</th>\n",
       "    </tr>\n",
       "  </thead>\n",
       "  <tbody>\n",
       "    <tr>\n",
       "      <td>0</td>\n",
       "      <td>4342</td>\n",
       "      <td>United States</td>\n",
       "      <td>USA</td>\n",
       "      <td>2021-02-27</td>\n",
       "      <td>72806180.0</td>\n",
       "      <td>48435536.0</td>\n",
       "      <td>23698627.0</td>\n",
       "      <td>2352116.0</td>\n",
       "      <td>1645240.0</td>\n",
       "      <td>21.77</td>\n",
       "      <td>14.48</td>\n",
       "      <td>7.09</td>\n",
       "      <td>4919.0</td>\n",
       "      <td>Moderna, Pfizer/BioNTech</td>\n",
       "      <td>Centers for Disease Control and Prevention</td>\n",
       "      <td>https://covid.cdc.gov/covid-data-tracker/#vacc...</td>\n",
       "    </tr>\n",
       "    <tr>\n",
       "      <td>1</td>\n",
       "      <td>3417</td>\n",
       "      <td>Romania</td>\n",
       "      <td>ROU</td>\n",
       "      <td>2021-02-27</td>\n",
       "      <td>1521737.0</td>\n",
       "      <td>905142.0</td>\n",
       "      <td>616595.0</td>\n",
       "      <td>15704.0</td>\n",
       "      <td>24351.0</td>\n",
       "      <td>7.91</td>\n",
       "      <td>4.71</td>\n",
       "      <td>3.21</td>\n",
       "      <td>1266.0</td>\n",
       "      <td>Moderna, Oxford/AstraZeneca, Pfizer/BioNTech</td>\n",
       "      <td>Government of Romania</td>\n",
       "      <td>https://vaccinare-covid.gov.ro/wp-content/uplo...</td>\n",
       "    </tr>\n",
       "    <tr>\n",
       "      <td>2</td>\n",
       "      <td>580</td>\n",
       "      <td>Brazil</td>\n",
       "      <td>BRA</td>\n",
       "      <td>2021-02-27</td>\n",
       "      <td>8322042.0</td>\n",
       "      <td>6437836.0</td>\n",
       "      <td>1884206.0</td>\n",
       "      <td>220255.0</td>\n",
       "      <td>215553.0</td>\n",
       "      <td>3.92</td>\n",
       "      <td>3.03</td>\n",
       "      <td>0.89</td>\n",
       "      <td>1014.0</td>\n",
       "      <td>Oxford/AstraZeneca, Sinovac</td>\n",
       "      <td>Regional governments via Coronavirus Brasil</td>\n",
       "      <td>https://coronavirusbra1.github.io/</td>\n",
       "    </tr>\n",
       "    <tr>\n",
       "      <td>3</td>\n",
       "      <td>1981</td>\n",
       "      <td>Indonesia</td>\n",
       "      <td>IDN</td>\n",
       "      <td>2021-02-27</td>\n",
       "      <td>2598535.0</td>\n",
       "      <td>1616165.0</td>\n",
       "      <td>982370.0</td>\n",
       "      <td>149084.0</td>\n",
       "      <td>91687.0</td>\n",
       "      <td>0.95</td>\n",
       "      <td>0.59</td>\n",
       "      <td>0.36</td>\n",
       "      <td>335.0</td>\n",
       "      <td>Sinovac</td>\n",
       "      <td>Ministry of Health</td>\n",
       "      <td>https://www.kemkes.go.id/</td>\n",
       "    </tr>\n",
       "    <tr>\n",
       "      <td>4</td>\n",
       "      <td>2794</td>\n",
       "      <td>Morocco</td>\n",
       "      <td>MAR</td>\n",
       "      <td>2021-02-27</td>\n",
       "      <td>3597903.0</td>\n",
       "      <td>3435997.0</td>\n",
       "      <td>161906.0</td>\n",
       "      <td>173608.0</td>\n",
       "      <td>162387.0</td>\n",
       "      <td>9.75</td>\n",
       "      <td>9.31</td>\n",
       "      <td>0.44</td>\n",
       "      <td>4399.0</td>\n",
       "      <td>Oxford/AstraZeneca, Sinopharm/Beijing</td>\n",
       "      <td>Ministry of Health</td>\n",
       "      <td>http://www.covidmaroc.ma/Documents/BULLETIN/27...</td>\n",
       "    </tr>\n",
       "  </tbody>\n",
       "</table>\n",
       "</div>"
      ],
      "text/plain": [
       "   index        country iso_code        date  total_vaccinations  \\\n",
       "0   4342  United States      USA  2021-02-27          72806180.0   \n",
       "1   3417        Romania      ROU  2021-02-27           1521737.0   \n",
       "2    580         Brazil      BRA  2021-02-27           8322042.0   \n",
       "3   1981      Indonesia      IDN  2021-02-27           2598535.0   \n",
       "4   2794        Morocco      MAR  2021-02-27           3597903.0   \n",
       "\n",
       "   people_vaccinated  people_fully_vaccinated  daily_vaccinations_raw  \\\n",
       "0         48435536.0               23698627.0               2352116.0   \n",
       "1           905142.0                 616595.0                 15704.0   \n",
       "2          6437836.0                1884206.0                220255.0   \n",
       "3          1616165.0                 982370.0                149084.0   \n",
       "4          3435997.0                 161906.0                173608.0   \n",
       "\n",
       "   daily_vaccinations  total_vaccinations_per_hundred  \\\n",
       "0           1645240.0                           21.77   \n",
       "1             24351.0                            7.91   \n",
       "2            215553.0                            3.92   \n",
       "3             91687.0                            0.95   \n",
       "4            162387.0                            9.75   \n",
       "\n",
       "   people_vaccinated_per_hundred  people_fully_vaccinated_per_hundred  \\\n",
       "0                          14.48                                 7.09   \n",
       "1                           4.71                                 3.21   \n",
       "2                           3.03                                 0.89   \n",
       "3                           0.59                                 0.36   \n",
       "4                           9.31                                 0.44   \n",
       "\n",
       "   daily_vaccinations_per_million  \\\n",
       "0                          4919.0   \n",
       "1                          1266.0   \n",
       "2                          1014.0   \n",
       "3                           335.0   \n",
       "4                          4399.0   \n",
       "\n",
       "                                       vaccines  \\\n",
       "0                      Moderna, Pfizer/BioNTech   \n",
       "1  Moderna, Oxford/AstraZeneca, Pfizer/BioNTech   \n",
       "2                   Oxford/AstraZeneca, Sinovac   \n",
       "3                                       Sinovac   \n",
       "4         Oxford/AstraZeneca, Sinopharm/Beijing   \n",
       "\n",
       "                                   source_name  \\\n",
       "0   Centers for Disease Control and Prevention   \n",
       "1                        Government of Romania   \n",
       "2  Regional governments via Coronavirus Brasil   \n",
       "3                           Ministry of Health   \n",
       "4                           Ministry of Health   \n",
       "\n",
       "                                      source_website  \n",
       "0  https://covid.cdc.gov/covid-data-tracker/#vacc...  \n",
       "1  https://vaccinare-covid.gov.ro/wp-content/uplo...  \n",
       "2                 https://coronavirusbra1.github.io/  \n",
       "3                          https://www.kemkes.go.id/  \n",
       "4  http://www.covidmaroc.ma/Documents/BULLETIN/27...  "
      ]
     },
     "metadata": {},
     "output_type": "display_data"
    },
    {
     "name": "stdout",
     "output_type": "stream",
     "text": [
      "(1316, 16)\n"
     ]
    }
   ],
   "source": [
    "# what happens if we get rid of NaN's\n",
    "vax_clean = vax.dropna()\n",
    "vax_clean = vax_clean.sort_values(by=\"date\", ascending=False).reset_index()\n",
    "display(vax_clean.head())\n",
    "print(vax_clean.shape)\n",
    "\n",
    "# so getting rid of NaN's may not always be the best idea"
   ]
  },
  {
   "cell_type": "markdown",
   "metadata": {},
   "source": [
    "How many countries are represented?"
   ]
  },
  {
   "cell_type": "code",
   "execution_count": 28,
   "metadata": {},
   "outputs": [
    {
     "data": {
      "text/plain": [
       "array(['Albania', 'Algeria', 'Andorra', 'Anguilla', 'Argentina',\n",
       "       'Australia', 'Austria', 'Azerbaijan', 'Bahrain', 'Bangladesh',\n",
       "       'Barbados', 'Belarus', 'Belgium', 'Bermuda', 'Bolivia', 'Brazil',\n",
       "       'Bulgaria', 'Cambodia', 'Canada', 'Cayman Islands', 'Chile',\n",
       "       'China', 'Colombia', 'Costa Rica', 'Croatia', 'Cyprus', 'Czechia',\n",
       "       'Denmark', 'Dominican Republic', 'Ecuador', 'Egypt', 'El Salvador',\n",
       "       'England', 'Estonia', 'Faeroe Islands', 'Falkland Islands',\n",
       "       'Finland', 'France', 'Germany', 'Gibraltar', 'Greece', 'Greenland',\n",
       "       'Guernsey', 'Guyana', 'Hungary', 'Iceland', 'India', 'Indonesia',\n",
       "       'Iran', 'Ireland', 'Isle of Man', 'Israel', 'Italy', 'Japan',\n",
       "       'Jersey', 'Kazakhstan', 'Kuwait', 'Latvia', 'Lebanon',\n",
       "       'Liechtenstein', 'Lithuania', 'Luxembourg', 'Macao', 'Maldives',\n",
       "       'Malta', 'Mauritius', 'Mexico', 'Monaco', 'Montenegro', 'Morocco',\n",
       "       'Myanmar', 'Nepal', 'Netherlands', 'New Zealand',\n",
       "       'Northern Cyprus', 'Northern Ireland', 'Norway', 'Oman',\n",
       "       'Pakistan', 'Panama', 'Paraguay', 'Peru', 'Poland', 'Portugal',\n",
       "       'Qatar', 'Romania', 'Russia', 'Saint Helena', 'Saudi Arabia',\n",
       "       'Scotland', 'Senegal', 'Serbia', 'Seychelles', 'Singapore',\n",
       "       'Slovakia', 'Slovenia', 'South Africa', 'South Korea', 'Spain',\n",
       "       'Sri Lanka', 'Sweden', 'Switzerland', 'Trinidad and Tobago',\n",
       "       'Turkey', 'Turks and Caicos Islands', 'Ukraine',\n",
       "       'United Arab Emirates', 'United Kingdom', 'United States',\n",
       "       'Venezuela', 'Wales', 'Zimbabwe'], dtype=object)"
      ]
     },
     "execution_count": 28,
     "metadata": {},
     "output_type": "execute_result"
    }
   ],
   "source": [
    "np.unique(vax['country'])"
   ]
  },
  {
   "cell_type": "markdown",
   "metadata": {},
   "source": [
    "How much data do we have on each country, are they equal?"
   ]
  },
  {
   "cell_type": "code",
   "execution_count": 30,
   "metadata": {},
   "outputs": [
    {
     "data": {
      "text/plain": [
       "Lithuania         82\n",
       "Scotland          76\n",
       "United Kingdom    76\n",
       "Wales             76\n",
       "England           76\n",
       "                  ..\n",
       "Senegal            5\n",
       "South Korea        3\n",
       "Ukraine            3\n",
       "Saint Helena       1\n",
       "Greenland          1\n",
       "Name: country, Length: 112, dtype: int64"
      ]
     },
     "execution_count": 30,
     "metadata": {},
     "output_type": "execute_result"
    }
   ],
   "source": [
    "vax['country'].value_counts()"
   ]
  },
  {
   "cell_type": "markdown",
   "metadata": {},
   "source": [
    "What is the range of dates?"
   ]
  },
  {
   "cell_type": "code",
   "execution_count": 33,
   "metadata": {},
   "outputs": [
    {
     "name": "stdout",
     "output_type": "stream",
     "text": [
      "the dates are from 2020-12-08 to 2021-02-27\n"
     ]
    },
    {
     "data": {
      "text/plain": [
       "('2020-12-08', '2021-02-27')"
      ]
     },
     "execution_count": 33,
     "metadata": {},
     "output_type": "execute_result"
    }
   ],
   "source": [
    "# these achieves the same goal\n",
    "print(\"the dates are from {} to {}\".format(np.amin(vax['date']), np.amax(vax['date'])))\n",
    "# or you can do this\n",
    "(vax['date'].min(), vax['date'].max())\n",
    "# so, about 3 months worth of data"
   ]
  },
  {
   "cell_type": "markdown",
   "metadata": {},
   "source": [
    "How is the world vaccination progressing? Namely, on average, how many people get vaccinated everyday?"
   ]
  },
  {
   "cell_type": "code",
   "execution_count": 34,
   "metadata": {},
   "outputs": [
    {
     "name": "stdout",
     "output_type": "stream",
     "text": [
      "daily vaccination average: 55316.880168185\n",
      "daily vaccination average: 55316.880168185\n"
     ]
    }
   ],
   "source": [
    "# these achieves the same goal\n",
    "print(\"daily vaccination average: {}\".format(vax['daily_vaccinations'].mean()))\n",
    "# or you can do this\n",
    "print(\"daily vaccination average: {}\".format(np.mean(vax['daily_vaccinations'])))\n",
    "# that's a bit slow, but we are making progress"
   ]
  },
  {
   "cell_type": "code",
   "execution_count": null,
   "metadata": {},
   "outputs": [],
   "source": [
    "# you can do numerical computations on pd.Series directly\n",
    "vax['people_fully_vaccinated'] / vax['']"
   ]
  },
  {
   "cell_type": "markdown",
   "metadata": {},
   "source": [
    "Here is a quick way: `df.describe` gives you some quick statistics of your numerical data. It has a few advantages, but need to be careful about interpretability."
   ]
  },
  {
   "cell_type": "code",
   "execution_count": 35,
   "metadata": {},
   "outputs": [
    {
     "data": {
      "text/html": [
       "<div>\n",
       "<style scoped>\n",
       "    .dataframe tbody tr th:only-of-type {\n",
       "        vertical-align: middle;\n",
       "    }\n",
       "\n",
       "    .dataframe tbody tr th {\n",
       "        vertical-align: top;\n",
       "    }\n",
       "\n",
       "    .dataframe thead th {\n",
       "        text-align: right;\n",
       "    }\n",
       "</style>\n",
       "<table border=\"1\" class=\"dataframe\">\n",
       "  <thead>\n",
       "    <tr style=\"text-align: right;\">\n",
       "      <th></th>\n",
       "      <th>total_vaccinations</th>\n",
       "      <th>people_vaccinated</th>\n",
       "      <th>people_fully_vaccinated</th>\n",
       "      <th>daily_vaccinations_raw</th>\n",
       "      <th>daily_vaccinations</th>\n",
       "      <th>total_vaccinations_per_hundred</th>\n",
       "      <th>people_vaccinated_per_hundred</th>\n",
       "      <th>people_fully_vaccinated_per_hundred</th>\n",
       "      <th>daily_vaccinations_per_million</th>\n",
       "    </tr>\n",
       "  </thead>\n",
       "  <tbody>\n",
       "    <tr>\n",
       "      <td>count</td>\n",
       "      <td>2.916000e+03</td>\n",
       "      <td>2.483000e+03</td>\n",
       "      <td>1.662000e+03</td>\n",
       "      <td>2.467000e+03</td>\n",
       "      <td>4.281000e+03</td>\n",
       "      <td>2916.000000</td>\n",
       "      <td>2483.000000</td>\n",
       "      <td>1662.000000</td>\n",
       "      <td>4281.000000</td>\n",
       "    </tr>\n",
       "    <tr>\n",
       "      <td>mean</td>\n",
       "      <td>1.709487e+06</td>\n",
       "      <td>1.481442e+06</td>\n",
       "      <td>4.888581e+05</td>\n",
       "      <td>7.517774e+04</td>\n",
       "      <td>5.531688e+04</td>\n",
       "      <td>7.078261</td>\n",
       "      <td>5.751832</td>\n",
       "      <td>2.262515</td>\n",
       "      <td>2404.288951</td>\n",
       "    </tr>\n",
       "    <tr>\n",
       "      <td>std</td>\n",
       "      <td>5.774372e+06</td>\n",
       "      <td>4.646374e+06</td>\n",
       "      <td>1.899838e+06</td>\n",
       "      <td>2.111072e+05</td>\n",
       "      <td>1.744120e+05</td>\n",
       "      <td>13.147480</td>\n",
       "      <td>9.446641</td>\n",
       "      <td>5.501138</td>\n",
       "      <td>4378.201585</td>\n",
       "    </tr>\n",
       "    <tr>\n",
       "      <td>min</td>\n",
       "      <td>0.000000e+00</td>\n",
       "      <td>0.000000e+00</td>\n",
       "      <td>1.000000e+00</td>\n",
       "      <td>-5.001200e+04</td>\n",
       "      <td>1.000000e+00</td>\n",
       "      <td>0.000000</td>\n",
       "      <td>0.000000</td>\n",
       "      <td>0.000000</td>\n",
       "      <td>0.000000</td>\n",
       "    </tr>\n",
       "    <tr>\n",
       "      <td>25%</td>\n",
       "      <td>3.154575e+04</td>\n",
       "      <td>2.799900e+04</td>\n",
       "      <td>1.119425e+04</td>\n",
       "      <td>2.282000e+03</td>\n",
       "      <td>1.121000e+03</td>\n",
       "      <td>0.620000</td>\n",
       "      <td>0.600000</td>\n",
       "      <td>0.212500</td>\n",
       "      <td>321.000000</td>\n",
       "    </tr>\n",
       "    <tr>\n",
       "      <td>50%</td>\n",
       "      <td>2.049345e+05</td>\n",
       "      <td>1.822800e+05</td>\n",
       "      <td>5.062800e+04</td>\n",
       "      <td>1.183300e+04</td>\n",
       "      <td>5.857000e+03</td>\n",
       "      <td>2.735000</td>\n",
       "      <td>2.530000</td>\n",
       "      <td>0.840000</td>\n",
       "      <td>1064.000000</td>\n",
       "    </tr>\n",
       "    <tr>\n",
       "      <td>75%</td>\n",
       "      <td>8.565680e+05</td>\n",
       "      <td>7.471645e+05</td>\n",
       "      <td>2.607428e+05</td>\n",
       "      <td>5.366500e+04</td>\n",
       "      <td>2.704700e+04</td>\n",
       "      <td>6.675000</td>\n",
       "      <td>5.200000</td>\n",
       "      <td>1.935000</td>\n",
       "      <td>2190.000000</td>\n",
       "    </tr>\n",
       "    <tr>\n",
       "      <td>max</td>\n",
       "      <td>7.280618e+07</td>\n",
       "      <td>4.843554e+07</td>\n",
       "      <td>2.369863e+07</td>\n",
       "      <td>2.352116e+06</td>\n",
       "      <td>1.916190e+06</td>\n",
       "      <td>106.530000</td>\n",
       "      <td>67.410000</td>\n",
       "      <td>39.110000</td>\n",
       "      <td>54264.000000</td>\n",
       "    </tr>\n",
       "  </tbody>\n",
       "</table>\n",
       "</div>"
      ],
      "text/plain": [
       "       total_vaccinations  people_vaccinated  people_fully_vaccinated  \\\n",
       "count        2.916000e+03       2.483000e+03             1.662000e+03   \n",
       "mean         1.709487e+06       1.481442e+06             4.888581e+05   \n",
       "std          5.774372e+06       4.646374e+06             1.899838e+06   \n",
       "min          0.000000e+00       0.000000e+00             1.000000e+00   \n",
       "25%          3.154575e+04       2.799900e+04             1.119425e+04   \n",
       "50%          2.049345e+05       1.822800e+05             5.062800e+04   \n",
       "75%          8.565680e+05       7.471645e+05             2.607428e+05   \n",
       "max          7.280618e+07       4.843554e+07             2.369863e+07   \n",
       "\n",
       "       daily_vaccinations_raw  daily_vaccinations  \\\n",
       "count            2.467000e+03        4.281000e+03   \n",
       "mean             7.517774e+04        5.531688e+04   \n",
       "std              2.111072e+05        1.744120e+05   \n",
       "min             -5.001200e+04        1.000000e+00   \n",
       "25%              2.282000e+03        1.121000e+03   \n",
       "50%              1.183300e+04        5.857000e+03   \n",
       "75%              5.366500e+04        2.704700e+04   \n",
       "max              2.352116e+06        1.916190e+06   \n",
       "\n",
       "       total_vaccinations_per_hundred  people_vaccinated_per_hundred  \\\n",
       "count                     2916.000000                    2483.000000   \n",
       "mean                         7.078261                       5.751832   \n",
       "std                         13.147480                       9.446641   \n",
       "min                          0.000000                       0.000000   \n",
       "25%                          0.620000                       0.600000   \n",
       "50%                          2.735000                       2.530000   \n",
       "75%                          6.675000                       5.200000   \n",
       "max                        106.530000                      67.410000   \n",
       "\n",
       "       people_fully_vaccinated_per_hundred  daily_vaccinations_per_million  \n",
       "count                          1662.000000                     4281.000000  \n",
       "mean                              2.262515                     2404.288951  \n",
       "std                               5.501138                     4378.201585  \n",
       "min                               0.000000                        0.000000  \n",
       "25%                               0.212500                      321.000000  \n",
       "50%                               0.840000                     1064.000000  \n",
       "75%                               1.935000                     2190.000000  \n",
       "max                              39.110000                    54264.000000  "
      ]
     },
     "execution_count": 35,
     "metadata": {},
     "output_type": "execute_result"
    }
   ],
   "source": [
    "vax.describe()"
   ]
  },
  {
   "cell_type": "markdown",
   "metadata": {},
   "source": [
    "Now we understand better the numerical properties of our data. We can start to ask some more complex questions."
   ]
  },
  {
   "cell_type": "markdown",
   "metadata": {},
   "source": [
    "## Q: Who's not vaccinated?"
   ]
  },
  {
   "cell_type": "markdown",
   "metadata": {},
   "source": [
    "$$\n",
    "\\text{(Total number of people vaccinated per hundred) } =\\frac{(\\text{Total number of people fully vaccinated})}{(\\text{Total population up to the date in the country})} \\times 100\\%\n",
    "$$"
   ]
  },
  {
   "cell_type": "code",
   "execution_count": 37,
   "metadata": {},
   "outputs": [
    {
     "data": {
      "text/html": [
       "<div>\n",
       "<style scoped>\n",
       "    .dataframe tbody tr th:only-of-type {\n",
       "        vertical-align: middle;\n",
       "    }\n",
       "\n",
       "    .dataframe tbody tr th {\n",
       "        vertical-align: top;\n",
       "    }\n",
       "\n",
       "    .dataframe thead th {\n",
       "        text-align: right;\n",
       "    }\n",
       "</style>\n",
       "<table border=\"1\" class=\"dataframe\">\n",
       "  <thead>\n",
       "    <tr style=\"text-align: right;\">\n",
       "      <th></th>\n",
       "      <th>country</th>\n",
       "      <th>total_population</th>\n",
       "    </tr>\n",
       "  </thead>\n",
       "  <tbody>\n",
       "    <tr>\n",
       "      <td>23</td>\n",
       "      <td>Albania</td>\n",
       "      <td>5.000000e+03</td>\n",
       "    </tr>\n",
       "    <tr>\n",
       "      <td>30</td>\n",
       "      <td>Albania</td>\n",
       "      <td>1.095000e+06</td>\n",
       "    </tr>\n",
       "    <tr>\n",
       "      <td>38</td>\n",
       "      <td>Albania</td>\n",
       "      <td>1.018333e+06</td>\n",
       "    </tr>\n",
       "    <tr>\n",
       "      <td>39</td>\n",
       "      <td>Albania</td>\n",
       "      <td>5.554545e+05</td>\n",
       "    </tr>\n",
       "    <tr>\n",
       "      <td>43</td>\n",
       "      <td>Albania</td>\n",
       "      <td>2.847826e+05</td>\n",
       "    </tr>\n",
       "    <tr>\n",
       "      <td>...</td>\n",
       "      <td>...</td>\n",
       "      <td>...</td>\n",
       "    </tr>\n",
       "    <tr>\n",
       "      <td>4420</td>\n",
       "      <td>Wales</td>\n",
       "      <td>1.705384e+05</td>\n",
       "    </tr>\n",
       "    <tr>\n",
       "      <td>4421</td>\n",
       "      <td>Wales</td>\n",
       "      <td>1.993241e+05</td>\n",
       "    </tr>\n",
       "    <tr>\n",
       "      <td>4422</td>\n",
       "      <td>Wales</td>\n",
       "      <td>2.296220e+05</td>\n",
       "    </tr>\n",
       "    <tr>\n",
       "      <td>4423</td>\n",
       "      <td>Wales</td>\n",
       "      <td>2.569384e+05</td>\n",
       "    </tr>\n",
       "    <tr>\n",
       "      <td>4424</td>\n",
       "      <td>Wales</td>\n",
       "      <td>2.792505e+05</td>\n",
       "    </tr>\n",
       "  </tbody>\n",
       "</table>\n",
       "<p>1654 rows × 2 columns</p>\n",
       "</div>"
      ],
      "text/plain": [
       "      country  total_population\n",
       "23    Albania      5.000000e+03\n",
       "30    Albania      1.095000e+06\n",
       "38    Albania      1.018333e+06\n",
       "39    Albania      5.554545e+05\n",
       "43    Albania      2.847826e+05\n",
       "...       ...               ...\n",
       "4420    Wales      1.705384e+05\n",
       "4421    Wales      1.993241e+05\n",
       "4422    Wales      2.296220e+05\n",
       "4423    Wales      2.569384e+05\n",
       "4424    Wales      2.792505e+05\n",
       "\n",
       "[1654 rows x 2 columns]"
      ]
     },
     "execution_count": 37,
     "metadata": {},
     "output_type": "execute_result"
    }
   ],
   "source": [
    "vax['total_population'] = vax['people_fully_vaccinated'] / (vax['total_vaccinations_per_hundred'] / 100)\n",
    "vax[['country', 'total_population']].dropna()"
   ]
  },
  {
   "cell_type": "markdown",
   "metadata": {},
   "source": [
    "Now we can see who's not vaccinated in each country."
   ]
  },
  {
   "cell_type": "code",
   "execution_count": 38,
   "metadata": {},
   "outputs": [
    {
     "data": {
      "text/html": [
       "<div>\n",
       "<style scoped>\n",
       "    .dataframe tbody tr th:only-of-type {\n",
       "        vertical-align: middle;\n",
       "    }\n",
       "\n",
       "    .dataframe tbody tr th {\n",
       "        vertical-align: top;\n",
       "    }\n",
       "\n",
       "    .dataframe thead th {\n",
       "        text-align: right;\n",
       "    }\n",
       "</style>\n",
       "<table border=\"1\" class=\"dataframe\">\n",
       "  <thead>\n",
       "    <tr style=\"text-align: right;\">\n",
       "      <th></th>\n",
       "      <th>country</th>\n",
       "      <th>people_unvaccinated</th>\n",
       "    </tr>\n",
       "  </thead>\n",
       "  <tbody>\n",
       "    <tr>\n",
       "      <td>23</td>\n",
       "      <td>Albania</td>\n",
       "      <td>4.999000e+03</td>\n",
       "    </tr>\n",
       "    <tr>\n",
       "      <td>30</td>\n",
       "      <td>Albania</td>\n",
       "      <td>1.094562e+06</td>\n",
       "    </tr>\n",
       "    <tr>\n",
       "      <td>38</td>\n",
       "      <td>Albania</td>\n",
       "      <td>1.017722e+06</td>\n",
       "    </tr>\n",
       "    <tr>\n",
       "      <td>39</td>\n",
       "      <td>Albania</td>\n",
       "      <td>5.548435e+05</td>\n",
       "    </tr>\n",
       "    <tr>\n",
       "      <td>43</td>\n",
       "      <td>Albania</td>\n",
       "      <td>2.841276e+05</td>\n",
       "    </tr>\n",
       "    <tr>\n",
       "      <td>...</td>\n",
       "      <td>...</td>\n",
       "      <td>...</td>\n",
       "    </tr>\n",
       "    <tr>\n",
       "      <td>4420</td>\n",
       "      <td>Wales</td>\n",
       "      <td>1.208094e+05</td>\n",
       "    </tr>\n",
       "    <tr>\n",
       "      <td>4421</td>\n",
       "      <td>Wales</td>\n",
       "      <td>1.400451e+05</td>\n",
       "    </tr>\n",
       "    <tr>\n",
       "      <td>4422</td>\n",
       "      <td>Wales</td>\n",
       "      <td>1.597710e+05</td>\n",
       "    </tr>\n",
       "    <tr>\n",
       "      <td>4423</td>\n",
       "      <td>Wales</td>\n",
       "      <td>1.768764e+05</td>\n",
       "    </tr>\n",
       "    <tr>\n",
       "      <td>4424</td>\n",
       "      <td>Wales</td>\n",
       "      <td>1.901975e+05</td>\n",
       "    </tr>\n",
       "  </tbody>\n",
       "</table>\n",
       "<p>1654 rows × 2 columns</p>\n",
       "</div>"
      ],
      "text/plain": [
       "      country  people_unvaccinated\n",
       "23    Albania         4.999000e+03\n",
       "30    Albania         1.094562e+06\n",
       "38    Albania         1.017722e+06\n",
       "39    Albania         5.548435e+05\n",
       "43    Albania         2.841276e+05\n",
       "...       ...                  ...\n",
       "4420    Wales         1.208094e+05\n",
       "4421    Wales         1.400451e+05\n",
       "4422    Wales         1.597710e+05\n",
       "4423    Wales         1.768764e+05\n",
       "4424    Wales         1.901975e+05\n",
       "\n",
       "[1654 rows x 2 columns]"
      ]
     },
     "execution_count": 38,
     "metadata": {},
     "output_type": "execute_result"
    }
   ],
   "source": [
    "vax['people_unvaccinated'] = vax['total_population'] - vax['people_fully_vaccinated']\n",
    "vax[['country', 'people_unvaccinated']].dropna()"
   ]
  },
  {
   "cell_type": "markdown",
   "metadata": {},
   "source": [
    "We can even ask further questions as to which country is most recently, most vaccinated, and most un-vaccinated?"
   ]
  },
  {
   "cell_type": "code",
   "execution_count": 39,
   "metadata": {},
   "outputs": [],
   "source": [
    "# let's move to the same recorded day\n",
    "vax_curr = vax[vax['date'] == '2021-02-26']"
   ]
  },
  {
   "cell_type": "code",
   "execution_count": 40,
   "metadata": {},
   "outputs": [
    {
     "data": {
      "text/plain": [
       "country                                                                    United States\n",
       "iso_code                                                                             USA\n",
       "date                                                                          2021-02-26\n",
       "total_vaccinations                                                           7.04541e+07\n",
       "people_vaccinated                                                            4.71842e+07\n",
       "people_fully_vaccinated                                                      2.26134e+07\n",
       "daily_vaccinations_raw                                                       2.17995e+06\n",
       "daily_vaccinations                                                           1.55272e+06\n",
       "total_vaccinations_per_hundred                                                     21.07\n",
       "people_vaccinated_per_hundred                                                      14.11\n",
       "people_fully_vaccinated_per_hundred                                                 6.76\n",
       "daily_vaccinations_per_million                                                      4643\n",
       "vaccines                                                        Moderna, Pfizer/BioNTech\n",
       "source_name                                   Centers for Disease Control and Prevention\n",
       "source_website                         https://covid.cdc.gov/covid-data-tracker/#vacc...\n",
       "total_population                                                             1.07325e+08\n",
       "people_unvaccinated                                                          8.47116e+07\n",
       "Name: 4341, dtype: object"
      ]
     },
     "execution_count": 40,
     "metadata": {},
     "output_type": "execute_result"
    }
   ],
   "source": [
    "vax.iloc[vax_curr['people_fully_vaccinated'].idxmax]"
   ]
  },
  {
   "cell_type": "code",
   "execution_count": 41,
   "metadata": {},
   "outputs": [
    {
     "data": {
      "text/plain": [
       "country                                                                      Isle of Man\n",
       "iso_code                                                                             IMN\n",
       "date                                                                          2021-02-26\n",
       "total_vaccinations                                                                 19884\n",
       "people_vaccinated                                                                  13600\n",
       "people_fully_vaccinated                                                             6284\n",
       "daily_vaccinations_raw                                                              1089\n",
       "daily_vaccinations                                                                   391\n",
       "total_vaccinations_per_hundred                                                     23.38\n",
       "people_vaccinated_per_hundred                                                      15.99\n",
       "people_fully_vaccinated_per_hundred                                                 7.39\n",
       "daily_vaccinations_per_million                                                      4598\n",
       "vaccines                                             Oxford/AstraZeneca, Pfizer/BioNTech\n",
       "source_name                                                       Isle of Man Government\n",
       "source_website                         https://covid19.gov.im/general-information/cov...\n",
       "total_population                                                                 26877.7\n",
       "people_unvaccinated                                                              20593.7\n",
       "Name: 2084, dtype: object"
      ]
     },
     "execution_count": 41,
     "metadata": {},
     "output_type": "execute_result"
    }
   ],
   "source": [
    "vax.iloc[vax_curr['people_fully_vaccinated'].idxmin]"
   ]
  },
  {
   "cell_type": "markdown",
   "metadata": {},
   "source": [
    "There are many more topics we can explore (feel free to try to answer these on your own: How effective are vaccines? What's the busiest day, is there a pattern?). Notice that all we are doing are just computing simple statistics, but the key is to learn about our data in that: (1) get familiar with manipulating this dataset and (2) explore the **scope** and **temporality** of this dataset."
   ]
  },
  {
   "cell_type": "markdown",
   "metadata": {},
   "source": [
    "# Visualizing Our Data\n",
    "\n",
    "Depending on our needs and whether the data is categorical / numerical, we can have different ways to look at data. We can understand the dataset in a much more direct and intuitive way by visualizing. We will discuss more in the upcoming lectures.\n",
    "\n",
    "Today, we will be working with `datascience` which provides some useful visualization tools, and see a few examples of more standard packages such as `pandas`, `matplotlib` and `seaborn`."
   ]
  },
  {
   "cell_type": "markdown",
   "metadata": {},
   "source": [
    "## Q: Is the vaccination rate in the United States looking up?"
   ]
  },
  {
   "cell_type": "code",
   "execution_count": 43,
   "metadata": {},
   "outputs": [
    {
     "data": {
      "text/plain": [
       "(70, 17)"
      ]
     },
     "execution_count": 43,
     "metadata": {},
     "output_type": "execute_result"
    }
   ],
   "source": [
    "# focus on the US\n",
    "us_vax = vax[vax['country'] == \"United States\"]\n",
    "us_vax.shape"
   ]
  },
  {
   "cell_type": "markdown",
   "metadata": {},
   "source": [
    "What is a good way to understand the temporal trend of a numerical value?"
   ]
  },
  {
   "cell_type": "code",
   "execution_count": 44,
   "metadata": {},
   "outputs": [
    {
     "data": {
      "image/png": "[encoded data removed]",
      "text/plain": [
       "<Figure size 432x432 with 1 Axes>"
      ]
     },
     "metadata": {
      "needs_background": "light"
     },
     "output_type": "display_data"
    }
   ],
   "source": [
    "us_daily_trend = Table().with_columns([\n",
    "    'date', us_vax['date'], \n",
    "    'daily_vaccinations', us_vax['daily_vaccinations']\n",
    "])\n",
    "\n",
    "# plot\n",
    "#help(us_daily_trend.plot)\n",
    "us_daily_trend.plot('date');\n",
    "plt.xticks(rotation = 45);"
   ]
  },
  {
   "cell_type": "markdown",
   "metadata": {},
   "source": [
    "How to do this in `pandas`? Look at `pd.DataFrame().plot`."
   ]
  },
  {
   "cell_type": "code",
   "execution_count": 49,
   "metadata": {},
   "outputs": [
    {
     "data": {
      "image/png": "[encoded data removed]",
      "text/plain": [
       "<Figure size 432x288 with 1 Axes>"
      ]
     },
     "metadata": {
      "needs_background": "light"
     },
     "output_type": "display_data"
    }
   ],
   "source": [
    "\n",
    "us_vax.plot('date', 'daily_vaccinations', rot=90);"
   ]
  },
  {
   "cell_type": "markdown",
   "metadata": {},
   "source": [
    "We can get even more detailed plots with `matplotlib`."
   ]
  },
  {
   "cell_type": "markdown",
   "metadata": {},
   "source": [
    "Here are a few `stackexchange` posts I consulted. Most often than not, your question has been answered.\n",
    "\n",
    "* https://stackoverflow.com/questions/33382619/plot-a-horizontal-line-using-matplotlib\n",
    "* https://stackoverflow.com/questions/23248435/fill-between-two-vertical-lines-in-matplotlib\n",
    "* https://stackoverflow.com/questions/18089667/how-to-estimate-how-much-memory-a-pandas-dataframe-will-need/47751572\n",
    "* https://stackoverflow.com/questions/20625582/how-to-deal-with-settingwithcopywarning-in-pandas\n",
    "\n",
    "The documentations are also good places to go to, they usually contain useful examples."
   ]
  },
  {
   "cell_type": "code",
   "execution_count": 53,
   "metadata": {},
   "outputs": [
    {
     "data": {
      "image/png": "[encoded data removed]",
      "text/plain": [
       "<Figure size 720x576 with 1 Axes>"
      ]
     },
     "metadata": {},
     "output_type": "display_data"
    }
   ],
   "source": [
    "plt.figure(figsize=(10, 8))\n",
    "plt.xlabel('date'); plt.ylabel('number of vaccinations'); plt.title('daily vaccination trend'); \n",
    "# change date to datetime\n",
    "plt.plot(pd.to_datetime(us_vax['date'], format = '%Y-%m-%d').dt.date, us_vax['daily_vaccinations'], \\\n",
    "         marker='o', label='trend');\n",
    "plt.xticks(rotation = 45); plt.legend(loc='upper left'); plt.grid();\n",
    "plt.axhline(np.mean(us_vax['daily_vaccinations']), color='green', lw=2, label=\"mean level\");\n",
    "\n",
    "plt.fill_betweenx(us_vax['daily_vaccinations'], sorted(list(us_vax['date']))[30], \\\n",
    "                  sorted(list(us_vax['date']))[37], color='yellow', label='high risk period');\n",
    "plt.scatter(sorted(list(us_vax['date']))[36], 1200000, s=250, color=\"purple\", marker='o');\n",
    "plt.style.use('seaborn-dark'); plt.legend();\n",
    "plt.rcParams.update({'font.size': 18})"
   ]
  },
  {
   "cell_type": "code",
   "execution_count": null,
   "metadata": {},
   "outputs": [],
   "source": []
  }
 ],
 "metadata": {
  "kernelspec": {
   "display_name": "Python 3",
   "language": "python",
   "name": "python3"
  },
  "language_info": {
   "codemirror_mode": {
    "name": "ipython",
    "version": 3
   },
   "file_extension": ".py",
   "mimetype": "text/x-python",
   "name": "python",
   "nbconvert_exporter": "python",
   "pygments_lexer": "ipython3",
   "version": "3.7.4"
  }
 },
 "nbformat": 4,
 "nbformat_minor": 2
}
