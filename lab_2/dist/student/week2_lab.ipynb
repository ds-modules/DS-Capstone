{
 "cells": [
  {
   "cell_type": "markdown",
   "metadata": {
    "cell_id": "ce7008e4-e1c4-4d09-a8d1-87ecc42e9672",
    "deepnote_cell_type": "markdown",
    "tags": []
   },
   "source": [
    "## Lab 2: Data Cleaning and Exploratory Data Analysis\n"
   ]
  },
  {
   "cell_type": "markdown",
   "metadata": {
    "cell_id": "00001-8800a531-6487-4282-9426-c1e81aadff01",
    "deepnote_cell_type": "markdown",
    "tags": []
   },
   "source": [
    "The data we will be working with today contains statistics about viral Youtube videos in the US. The full dataset can be found on [Kaggle](https://www.kaggle.com/datasnaek/youtube-new). Since the original dataset is too large, we will only be working with a smaller subset of the original data in this lab. \n",
    "\n",
    "If you would like to scape your own data in trending videos for other projects/purposes, [here](https://github.com/mitchelljy/Trending-YouTube-Scraper) are some resourses/directions to do just that. \n",
    "\n",
    "Our goal in this lab is to identify whether there are patterns between the video's metadata (channel title, category, release time, tags, etc...) and whether it trends in the US."
   ]
  },
  {
   "cell_type": "code",
   "execution_count": 3,
   "metadata": {
    "cell_id": "06851685-a082-4c5a-a0b5-a4480737e237",
    "deepnote_cell_type": "code",
    "execution_millis": 623,
    "execution_start": 1605913928968,
    "output_cleared": false,
    "source_hash": "7543f81b",
    "tags": []
   },
   "outputs": [],
   "source": [
    "import matplotlib.pyplot as plt\n",
    "#import seaborn as sns\n",
    "import pandas as pd\n",
    "import numpy as np\n"
   ]
  },
  {
   "cell_type": "code",
   "execution_count": 4,
   "metadata": {
    "cell_id": "54f73c1f-c026-4889-9372-d0b5c67ac0ee",
    "deepnote_cell_type": "code",
    "execution_millis": 1192,
    "execution_start": 1605913931518,
    "output_cleared": false,
    "source_hash": "55574b9d",
    "tags": []
   },
   "outputs": [],
   "source": [
    "trending_vids = pd.read_csv(\"USvideos_small.csv\")\n",
    "trending_vids.head()"
   ]
  },
  {
   "cell_type": "markdown",
   "metadata": {
    "cell_id": "00005-2a97e889-8615-4610-ab1d-10be2df6e59c",
    "deepnote_cell_type": "markdown",
    "tags": []
   },
   "source": [
    "## Data Cleaning"
   ]
  },
  {
   "cell_type": "markdown",
   "metadata": {
    "cell_id": "00006-3baa728b-eb93-4d66-8586-dc1353344d95",
    "deepnote_cell_type": "markdown",
    "tags": []
   },
   "source": [
    "Before we get into data analysis, we need to inspect the quality of our dataset and identify whether the columns are consistent and in the right format.\n",
    "\n",
    "Specifically, we will check our dataset to see:\n",
    "\n",
    "1. Whether there are missing values in our dataset.\n",
    "2. If the type of the columns in our dataset makes sense.\n",
    "3. Whether there are any rows/columns that we want to drop."
   ]
  },
  {
   "cell_type": "markdown",
   "metadata": {
    "cell_id": "00007-edae3407-5554-4912-bf84-1f55264dd03c",
    "deepnote_cell_type": "markdown",
    "deletable": false,
    "editable": false,
    "tags": []
   },
   "source": [
    "**Question 1.1:** Return a series containing the number of missing entries for each column in our dataset, sorted from most to least missing values. \n",
    "\n",
    "***Hint***: You may find the `df.isna()` method useful.\n",
    "\n",
    "<!--\n",
    "BEGIN QUESTION\n",
    "name: q1_1\n",
    "-->"
   ]
  },
  {
   "cell_type": "code",
   "execution_count": 8,
   "metadata": {
    "cell_id": "00005-3dd65b40-1e3b-452c-8ad1-b1fe594417b5",
    "deepnote_cell_type": "code",
    "execution_millis": 32,
    "execution_start": 1605914009196,
    "output_cleared": false,
    "source_hash": "c65c727a",
    "tags": []
   },
   "outputs": [],
   "source": [
    "missing = trending_vids.isna().....\n",
    "missing\n",
    "\"\"\""
   ]
  },
  {
   "cell_type": "code",
   "execution_count": null,
   "metadata": {
    "deletable": false,
    "editable": false
   },
   "outputs": [],
   "source": [
    "grader.check(\"q1_1\")"
   ]
  },
  {
   "cell_type": "markdown",
   "metadata": {
    "cell_id": "00009-b4f6ce8b-f7f2-472a-aef4-c326e386f882",
    "deepnote_cell_type": "markdown",
    "deletable": false,
    "editable": false,
    "tags": []
   },
   "source": [
    "** Question 1.2:** For simplicity, we will drop all of the rows from our dataframe that contain missing values, though it is possible to impute missing values by filling them in with the column's mean, median, mode, and more complicated methods. \n",
    "\n",
    "Remove all of the rows from `trending_vids` that contain missing values in any column. Reassign `trending_vids`.\n",
    "\n",
    "Check that the number of rows in your new dataset is what you expect based on the results of Question 1.1. \n",
    "\n",
    "<!--\n",
    "BEGIN QUESTION\n",
    "name: q1_2\n",
    "-->"
   ]
  },
  {
   "cell_type": "code",
   "execution_count": 11,
   "metadata": {
    "cell_id": "00010-d17fb185-98d5-4982-b109-27db03145a5a",
    "deepnote_cell_type": "code",
    "execution_millis": 138,
    "execution_start": 1605914198386,
    "output_cleared": false,
    "source_hash": "cfb83425",
    "tags": []
   },
   "outputs": [],
   "source": [
    "trending_vids = trending_vids....\n",
    "trending_vids\n",
    "\"\"\"\n"
   ]
  },
  {
   "cell_type": "code",
   "execution_count": null,
   "metadata": {
    "deletable": false,
    "editable": false
   },
   "outputs": [],
   "source": [
    "grader.check(\"q1_2\")"
   ]
  },
  {
   "cell_type": "markdown",
   "metadata": {
    "cell_id": "00011-ced4ef1e-7d5a-4869-b67e-27d23ca1294a",
    "deepnote_cell_type": "markdown",
    "tags": []
   },
   "source": [
    "Next, we will take a look at the types of our columns to check whether all of our column types make sense. \n",
    "\n",
    "We can see all of the the column types in our dataframe by calling `df.dtypes`"
   ]
  },
  {
   "cell_type": "code",
   "execution_count": 17,
   "metadata": {
    "cell_id": "00012-d9302e72-7b3a-479f-a0ec-08bd86aeb5fc",
    "deepnote_cell_type": "code",
    "execution_millis": 5,
    "execution_start": 1605914379009,
    "output_cleared": false,
    "source_hash": "814b1a43",
    "tags": []
   },
   "outputs": [],
   "source": [
    "trending_vids.dtypes"
   ]
  },
  {
   "cell_type": "markdown",
   "metadata": {
    "cell_id": "00013-fdecd35b-cec2-45be-9ac9-d6512be8f89c",
    "deepnote_cell_type": "markdown",
    "tags": []
   },
   "source": [
    "Let's take a closer look at the `object` data types for the 'trending_date' and 'publish_time' columns."
   ]
  },
  {
   "cell_type": "code",
   "execution_count": 18,
   "metadata": {
    "cell_id": "00013-e4d17ec3-29f9-425d-9aa2-edd2b4b25260",
    "deepnote_cell_type": "code",
    "execution_millis": 51,
    "execution_start": 1605914466746,
    "output_cleared": false,
    "source_hash": "3614d3b4",
    "tags": []
   },
   "outputs": [],
   "source": [
    "trending_vids.loc[:, ['trending_date', 'publish_time']]"
   ]
  },
  {
   "cell_type": "markdown",
   "metadata": {
    "cell_id": "00014-59a71de7-602d-4c1d-95c5-aa260396a64b",
    "deepnote_cell_type": "markdown",
    "deletable": false,
    "editable": false,
    "tags": []
   },
   "source": [
    "**Question 1.3:** Curiously, the `trending_date` and `publish_time` columns are represented as `object` series instead of `datetime` series, which is what they appear to be at first glance. \n",
    "\n",
    "Reassign the `trending_date` and `publish_time` columns to be datetime series in our original dataframe. \n",
    "Make sure that both columns are in the format `YYYY-MM-DD`.\n",
    "\n",
    "You will have to add `20` to the beginning of each date in the `trending_date` column to make the year correct.\n",
    "\n",
    "***Hint***: You may find the `dayfirst` and `yearfirst` parameters of `pd.to_datetime` useful\n",
    "\n",
    "<!--\n",
    "BEGIN QUESTION\n",
    "name: q1_3\n",
    "-->"
   ]
  },
  {
   "cell_type": "code",
   "execution_count": 21,
   "metadata": {
    "cell_id": "00015-01432778-198d-44c6-8c7a-d2d03fe59050",
    "deepnote_cell_type": "code",
    "execution_millis": 24,
    "execution_start": 1605914490765,
    "output_cleared": true,
    "source_hash": null,
    "tags": []
   },
   "outputs": [],
   "source": [
    "trending_vids['trending_date'] = pd.to_datetime(..., dayfirst=..., yearfirst=...)\n",
    "trending_vids['publish_time'] = pd.to_datetime(...)\n",
    "trending_vids\n",
    "\"\"\""
   ]
  },
  {
   "cell_type": "code",
   "execution_count": null,
   "metadata": {
    "deletable": false,
    "editable": false
   },
   "outputs": [],
   "source": [
    "grader.check(\"q1_3\")"
   ]
  },
  {
   "cell_type": "markdown",
   "metadata": {
    "cell_id": "00016-660dda28-2289-4ce5-999f-703b453496b8",
    "deepnote_cell_type": "markdown",
    "deletable": false,
    "editable": false,
    "tags": []
   },
   "source": [
    "**Question 1.4:** Lastly, remove the `thumbnail_link` column from our dataframe. We will not be analyzing images in this lab.\n",
    "\n",
    "<!--\n",
    "BEGIN QUESTION\n",
    "name: q1_4\n",
    "-->"
   ]
  },
  {
   "cell_type": "code",
   "execution_count": 27,
   "metadata": {
    "cell_id": "00017-db6a1614-2b1f-48d3-aefe-c6fc185b77db",
    "deepnote_cell_type": "code",
    "execution_millis": 41,
    "execution_start": 1605914809475,
    "output_cleared": false,
    "source_hash": "3856e2a8",
    "tags": []
   },
   "outputs": [],
   "source": [
    "trending_vids = trending_vids.drop(labels=..., axis=...)\n",
    "\"\"\""
   ]
  },
  {
   "cell_type": "code",
   "execution_count": null,
   "metadata": {
    "deletable": false,
    "editable": false
   },
   "outputs": [],
   "source": [
    "grader.check(\"q1_4\")"
   ]
  },
  {
   "cell_type": "markdown",
   "metadata": {
    "cell_id": "00006-9f520dfa-5c53-417c-b38a-93d6d019f850",
    "deepnote_cell_type": "markdown",
    "tags": []
   },
   "source": [
    "## Exploratory Data Analysis (EDA)\n",
    "\n",
    "In this section we are going to provide you with a set of excercises that will let you get to know the dataset a bit better.\n",
    "When looking at the viral videos data set, many questions natually comes to mind:\n",
    "- Do trending topics change day to day?\n",
    "- What channels are thriving off of the viral videos?\n",
    "- Is there a specific time associated with the highest number of viral videos? \n",
    "Let's find out.\n",
    "\n",
    "As an aspiring influencer, your friend Alan would like to find probable patterns associated with the viral videos. \n",
    "This would greatly help him optimize the release time and content of his videos to gain more subscribers. \n",
    "He knows that you are looking into a dataset that looks into the viral videos in the US and decides to ask you for help."
   ]
  },
  {
   "cell_type": "markdown",
   "metadata": {
    "cell_id": "00007-65ccf23e-4f78-41ca-8815-6aa163c6078f",
    "deepnote_cell_type": "markdown",
    "deletable": false,
    "editable": false,
    "tags": []
   },
   "source": [
    "**Question 2.1:** What topics are trending each day? \n",
    "Assign `topics` to a table with columns `trending_date`, `category_id`, `count`\n",
    "\n",
    "**_Hint:_** you can group a table by multiple columns.\n",
    "\n",
    "<!--\n",
    "BEGIN QUESTION\n",
    "name: q2_1\n",
    "-->"
   ]
  },
  {
   "cell_type": "code",
   "execution_count": 31,
   "metadata": {
    "cell_id": "00006-e6aa7dd6-6a33-4823-972b-21f747c202a7",
    "deepnote_cell_type": "code",
    "execution_millis": 59,
    "execution_start": 1605914991488,
    "output_cleared": false,
    "source_hash": "1a015f39",
    "tags": []
   },
   "outputs": [],
   "source": [
    "topics = trending_vids.groupby([...]).agg({\"title\": 'count'})\n",
    "topics\n",
    "# END PROMPT \"\"\"\n"
   ]
  },
  {
   "cell_type": "markdown",
   "metadata": {
    "cell_id": "00009-28735f28-4f9c-4997-918f-a1f0b418b1d9",
    "deepnote_cell_type": "markdown",
    "deletable": false,
    "editable": false,
    "tags": []
   },
   "source": [
    "**Question 2.2:** What are some of the most controversial videos? \n",
    "Here we will measure the level of controversy assiciated with each video by \n",
    "`number_of_dislikes` / (`number_of_dislikes` + `number_of_likes`)\n",
    "Assign `controversial_vids` to a dataframe containing the \n",
    "`trending_date`, `title`, `channel_title`, `category_id`, and `publish_time`\n",
    "of the 5 most controversial videos by this metric. \n",
    "\n",
    "To help you get started, we already set up another dataframe, `controversy_helper`, \n",
    "that includes all of the relevant columns from `trending_vids`.\n",
    "\n",
    "**_Hint:_** Since the metric we are using isn't a part of the original dataframe, \n",
    "you can add the metric as a column first to your table to simplify the process.\n",
    "\n",
    "\n",
    "<!--\n",
    "BEGIN QUESTION\n",
    "name: q2_2\n",
    "-->"
   ]
  },
  {
   "cell_type": "code",
   "execution_count": 29,
   "metadata": {
    "cell_id": "00011-0ce050ee-2e5a-4229-aac2-be17093e7d34",
    "deepnote_cell_type": "code",
    "execution_millis": 65,
    "execution_start": 1605915139090,
    "output_cleared": false,
    "source_hash": "4af3d125",
    "tags": []
   },
   "outputs": [],
   "source": [
    "relavent_cols = [\"trending_date\", \"title\", \"channel_title\", \"category_id\", \"publish_time\", \"likes\", \"dislikes\"]\n",
    "controversy_helper = trending_vids[relavent_cols]\n",
    "\n",
    "controversy_helper[\"metric\"] = .....\n",
    "controversial_vids = controversy_helper.sort_values(...).drop(...)[...]\n",
    "controversial_vids\n",
    "# END PROMPT \"\"\"\n"
   ]
  },
  {
   "cell_type": "code",
   "execution_count": null,
   "metadata": {
    "deletable": false,
    "editable": false
   },
   "outputs": [],
   "source": [
    "grader.check(\"q2_2\")"
   ]
  },
  {
   "cell_type": "markdown",
   "metadata": {
    "cell_id": "00015-2c3a9290-3f81-4fb0-b363-79bbb934a0da",
    "deepnote_cell_type": "markdown",
    "deletable": false,
    "editable": false,
    "tags": []
   },
   "source": [
    "**Question 2.3:** What are the top 3 channels with the most number of trending videos from this dataset? \n",
    "Maybe Alan can learn a thing or two from their videos in the future.\n",
    "Assign `viral_channels` to a list containing the names of the top 3 channels with the most number of trending videos.\n",
    "\n",
    "\n",
    "<!--\n",
    "BEGIN QUESTION\n",
    "name: q2_3\n",
    "-->\n"
   ]
  },
  {
   "cell_type": "code",
   "execution_count": 34,
   "metadata": {
    "cell_id": "00017-74843eb0-1a6d-4365-9ca9-ff43141a10c1",
    "deepnote_cell_type": "code",
    "execution_millis": 44,
    "execution_start": 1605915346954,
    "output_cleared": false,
    "source_hash": "df6febd5",
    "tags": []
   },
   "outputs": [],
   "source": [
    "channels_grouped = trending_vids.groupby(....).agg(....).sort_values(..., ascending = False)[:3]\n",
    "viral_channels = ....\n",
    "viral_channels\n",
    "# END PROMPT \"\"\"\n"
   ]
  },
  {
   "cell_type": "code",
   "execution_count": null,
   "metadata": {
    "deletable": false,
    "editable": false
   },
   "outputs": [],
   "source": [
    "grader.check(\"q2_3\")"
   ]
  },
  {
   "cell_type": "markdown",
   "metadata": {
    "cell_id": "00026-e20495e7-6e26-475d-b3f0-a5ddb3ba2412",
    "deepnote_cell_type": "markdown",
    "deletable": false,
    "editable": false,
    "tags": []
   },
   "source": [
    "**Question 2.4:** What is the distibution of publish times of trending videos? Is there a certain time in which viral videos are posted at or is the \n",
    "distribution relatively uniform?\n",
    "\n",
    "Assign `viral_times` to a series which contains the hour of every video's publishing time in the dataset. \n",
    "You can create a visualization for this, but the autograder tests will only check for the series. \n",
    "\n",
    "**Hint:** Try using a lambda function to isolate the hour values.\n",
    "<!--\n",
    "BEGIN QUESTION\n",
    "name: q2_4\n",
    "-->"
   ]
  },
  {
   "cell_type": "code",
   "execution_count": 38,
   "metadata": {
    "cell_id": "00027-99c12104-4c73-436e-aec4-6f7b316422cd",
    "deepnote_cell_type": "code",
    "execution_millis": 370,
    "execution_start": 1605915424804,
    "output_cleared": false,
    "source_hash": "2f007e81",
    "tags": []
   },
   "outputs": [],
   "source": [
    "viral_times = trending_vids[\"publish_time\"].apply(.....)\n",
    "viral_times\n",
    "# END PROMPT \"\"\"\n"
   ]
  },
  {
   "cell_type": "code",
   "execution_count": null,
   "metadata": {
    "deletable": false,
    "editable": false
   },
   "outputs": [],
   "source": [
    "grader.check(\"q2_4\")"
   ]
  },
  {
   "cell_type": "markdown",
   "metadata": {
    "cell_id": "00015-d6b65fd9-d180-414d-9086-062d0207706c",
    "deepnote_cell_type": "markdown",
    "tags": []
   },
   "source": [
    "\n",
    "We previously looked at the \"controversy\" rate for a certain video. Does the like/dislike ratio stay consistent between channels? For every\n",
    "youtuber, go ahead and calculate the _overall_ `number of likes / (number of likes + number of dislikes)` for _every_ video. \n"
   ]
  },
  {
   "cell_type": "code",
   "execution_count": 43,
   "metadata": {
    "cell_id": "00030-d17fa011-7c65-4506-9100-9131856c3aff",
    "deepnote_cell_type": "code",
    "execution_millis": 43,
    "execution_start": 1605915589160,
    "output_cleared": false,
    "source_hash": "88124ecf",
    "tags": []
   },
   "outputs": [],
   "source": [
    "grouped_channels = trending_vids.groupby(\"channel_title\").agg(sum)[[\"likes\", \"dislikes\"]]\n",
    "grouped_channels.head()"
   ]
  },
  {
   "cell_type": "markdown",
   "metadata": {
    "deletable": false,
    "editable": false
   },
   "source": [
    "**Question 2.5:** Add a column 'controversy metric' to the provided dataframe `grouped_channels`\n",
    "\n",
    "We used a very simplistic formula for this question, but feel free to dig deeper in case that interests you! Things that you can explore are the average ratios as well\n",
    "as whether or not some videos drag down the controversy for a youtuber.\n",
    "\n",
    "<!--\n",
    "BEGIN QUESTION\n",
    "name: q2_5\n",
    "-->"
   ]
  },
  {
   "cell_type": "code",
   "execution_count": 57,
   "metadata": {
    "cell_id": "00029-f198df30-f09b-4ee6-bd1f-fe154232bb79",
    "deepnote_cell_type": "code",
    "execution_millis": 91,
    "execution_start": 1605915590428,
    "output_cleared": false,
    "source_hash": "86edc197",
    "tags": []
   },
   "outputs": [],
   "source": [
    "# add the controversy_metric channel to the dataframe\n",
    "grouped_channels[\"controversy_metric\"] = .....\n",
    "grouped_channels.sort_values(\"controversy_metric\", ascending = False)\n",
    "# END PROMPT \"\"\"\n"
   ]
  },
  {
   "cell_type": "code",
   "execution_count": null,
   "metadata": {
    "deletable": false,
    "editable": false
   },
   "outputs": [],
   "source": [
    "grader.check(\"q2_5\")"
   ]
  },
  {
   "cell_type": "markdown",
   "metadata": {
    "deletable": false,
    "editable": false
   },
   "source": [
    "---\n",
    "\n",
    "To double-check your work, the cell below will rerun all of the autograder tests."
   ]
  },
  {
   "cell_type": "code",
   "execution_count": null,
   "metadata": {
    "deletable": false,
    "editable": false
   },
   "outputs": [],
   "source": [
    "grader.check_all()"
   ]
  },
  {
   "cell_type": "markdown",
   "metadata": {
    "deletable": false,
    "editable": false
   },
   "source": [
    "## Submission\n",
    "\n",
    "Make sure you have run all cells in your notebook in order before running the cell below, so that all images/graphs appear in the output. The cell below will generate a zip file for you to submit. **Please save before exporting!**"
   ]
  },
  {
   "cell_type": "code",
   "execution_count": null,
   "metadata": {
    "deletable": false,
    "editable": false
   },
   "outputs": [],
   "source": [
    "# Save your notebook first, then run this cell to export your submission.\n",
    "grader.export(pdf=False)"
   ]
  },
  {
   "cell_type": "markdown",
   "metadata": {},
   "source": [
    " "
   ]
  }
 ],
 "metadata": {
  "deepnote_execution_queue": [],
  "deepnote_notebook_id": "33506c13-4c3a-435e-8e54-beb1a06ea92c",
  "kernelspec": {
   "display_name": "Python 3",
   "language": "python",
   "name": "python3"
  },
  "language_info": {
   "codemirror_mode": {
    "name": "ipython",
    "version": 3
   },
   "file_extension": ".py",
   "mimetype": "text/x-python",
   "name": "python",
   "nbconvert_exporter": "python",
   "pygments_lexer": "ipython3",
   "version": "3.8.1"
  }
 },
 "nbformat": 4,
 "nbformat_minor": 2
}
