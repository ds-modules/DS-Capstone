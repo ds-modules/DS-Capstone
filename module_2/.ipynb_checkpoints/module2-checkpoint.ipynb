{
 "cells": [
  {
   "cell_type": "markdown",
   "metadata": {
    "cell_id": "7ba56f5b-f087-4991-809f-becc1b374a26",
    "deepnote_cell_type": "markdown",
    "tags": []
   },
   "source": [
    "# Module 2: From `datascience` to `pandas`"
   ]
  },
  {
   "cell_type": "markdown",
   "metadata": {
    "cell_id": "40f60939-bcf4-4b1e-a0f5-7bcd5c9750e0",
    "deepnote_cell_type": "markdown",
    "tags": []
   },
   "source": [
    "## Why `pandas`?\n",
    "\n",
    "Like the `datascience` package you learned and used in Data 8, `pandas` is a Python library used for data manipulation and analysis.\n",
    "However, `datascience` was developed as a pedagogical tool for Data 8, intended to help students become familiarized with python syntax as well as syntax associated with tabular data analysis. \n",
    "We decided to teach `datascience` first since its syntax is more intuitive and easier to use for students without much programming experience.\n",
    "On the other hand, `pandas` is an industrial strength package that is used in most data analysis projects in the real world. \n",
    "Learning how to use pandas would also make your projects easier to understand for other data scientists and extend the scope of influence your projects may have.\n",
    "\n",
    "\n",
    "Now that you've completed Data 8, it's a good time to translate the functions you've learned to `pandas`. \n",
    "Throughout this notebook, we will go over `pandas` by showing similar functions in both the `datascience` syntax and `pandas` syntax, as well as introduce you to some of the other functionalities that `pandas` provides."
   ]
  },
  {
   "cell_type": "markdown",
   "metadata": {
    "cell_id": "fcc6b4ec-39d1-4b6c-b124-43b7269765ae",
    "deepnote_cell_type": "markdown",
    "tags": []
   },
   "source": [
    "We will first import the packages we need. The following 3 lines imports `pandas`, `datascience`, and `numpy` respectively. \n",
    "Note that we imported `pandas` as `pd`, which means that when we call functions in `pandas`, we will always reference them with `pd` first.\n",
    "In Data 8, you saw something similar when we imported `numpy` as `np`: functions like taking `np.mean` or `np.random.choice` are all from the `numpy` package.\n"
   ]
  },
  {
   "cell_type": "code",
   "execution_count": null,
   "metadata": {
    "cell_id": "11511ebc-854a-49ba-9a47-3925bae72adb",
    "deepnote_cell_type": "code",
    "tags": []
   },
   "outputs": [
    {
     "name": "stderr",
     "output_type": "stream",
     "text": [
      "/opt/venv/lib/python3.7/site-packages/datascience/tables.py:17: MatplotlibDeprecationWarning: The 'warn' parameter of use() is deprecated since Matplotlib 3.1 and will be removed in 3.3.  If any parameter follows 'warn', they should be pass as keyword, not positionally.\n",
      "  matplotlib.use('agg', warn=False)\n",
      "/opt/venv/lib/python3.7/site-packages/datascience/util.py:10: MatplotlibDeprecationWarning: The 'warn' parameter of use() is deprecated since Matplotlib 3.1 and will be removed in 3.3.  If any parameter follows 'warn', they should be pass as keyword, not positionally.\n",
      "  matplotlib.use('agg', warn=False)\n"
     ]
    }
   ],
   "source": [
    "import pandas as pd # This is how we import pandas into the environment. Typically, we use pd to refer to all pandas modules for short. \n",
    "from datascience import *\n",
    "import numpy as np"
   ]
  },
  {
   "cell_type": "markdown",
   "metadata": {
    "cell_id": "877edf14-5e9c-4254-a631-00fff3b0a299",
    "deepnote_cell_type": "markdown",
    "tags": []
   },
   "source": [
    "## Creating a Table"
   ]
  },
  {
   "cell_type": "markdown",
   "metadata": {
    "cell_id": "b2c442fc-d356-41dd-816b-91bc06c3d82f",
    "deepnote_cell_type": "markdown",
    "tags": []
   },
   "source": [
    "### Reading in a Dataset\n",
    "\n",
    "Most of the time, the data we want to analyze will be in a separate file, typically as a `.csv` file. \n",
    "In this case, we want to read the files in and convert them into a tabular format."
   ]
  },
  {
   "cell_type": "markdown",
   "metadata": {
    "cell_id": "0c29348d-59e5-4d8a-8816-38ab02e0a9eb",
    "deepnote_cell_type": "markdown",
    "tags": []
   },
   "source": [
    "Using the `datascience` package, we will want to read in the file as a table. \n",
    "To do this, we use the function `Table.read_table(file_path)`. \n",
    "In the example below, the `baby.csv` file is in the same folder as this notebook, so the relative file path from this notebook to the csv file is just `baby.csv`."
   ]
  },
  {
   "cell_type": "code",
   "execution_count": null,
   "metadata": {
    "cell_id": "082a5002-cc8f-4075-9dc0-34026a360de7",
    "deepnote_cell_type": "code",
    "tags": []
   },
   "outputs": [
    {
     "data": {
      "text/html": [
       "<table border=\"1\" class=\"dataframe\">\n",
       "    <thead>\n",
       "        <tr>\n",
       "            <th>Birth.Weight</th> <th>Gestational.Days</th> <th>Maternal.Age</th> <th>Maternal.Height</th> <th>Maternal.Pregnancy.Weight</th> <th>Maternal.Smoker</th>\n",
       "        </tr>\n",
       "    </thead>\n",
       "    <tbody>\n",
       "        <tr>\n",
       "            <td>120         </td> <td>284             </td> <td>27          </td> <td>62             </td> <td>100                      </td> <td>False          </td>\n",
       "        </tr>\n",
       "        <tr>\n",
       "            <td>113         </td> <td>282             </td> <td>33          </td> <td>64             </td> <td>135                      </td> <td>False          </td>\n",
       "        </tr>\n",
       "        <tr>\n",
       "            <td>128         </td> <td>279             </td> <td>28          </td> <td>64             </td> <td>115                      </td> <td>True           </td>\n",
       "        </tr>\n",
       "        <tr>\n",
       "            <td>108         </td> <td>282             </td> <td>23          </td> <td>67             </td> <td>125                      </td> <td>True           </td>\n",
       "        </tr>\n",
       "        <tr>\n",
       "            <td>136         </td> <td>286             </td> <td>25          </td> <td>62             </td> <td>93                       </td> <td>False          </td>\n",
       "        </tr>\n",
       "    </tbody>\n",
       "</table>\n",
       "<p>... (1169 rows omitted)</p>"
      ],
      "text/plain": [
       "<IPython.core.display.HTML object>"
      ]
     },
     "metadata": {},
     "output_type": "display_data"
    }
   ],
   "source": [
    "# datascience\n",
    "baby_tbl = Table.read_table(\"baby.csv\")\n",
    "baby_tbl.show(5)"
   ]
  },
  {
   "cell_type": "markdown",
   "metadata": {
    "cell_id": "cf7a7bf5-45b8-4cc2-9bf9-ff17cfa2d3b5",
    "deepnote_cell_type": "markdown",
    "tags": []
   },
   "source": [
    "The syntax for reading in csv files in `pandas` is almost identical. \n",
    "`pandas` has a specific function to read in csv files called `pd.read_csv(file_path)`, with the same relative file path as its argument. \n",
    "the `dataframe.head()` function will display the first 5 rows of the data frame by default. \n",
    "If you want to specify the number of rows displayed, you can use`dataframe.head(num_rows)`.\n",
    "Similarly, if you want to see the last few rows of the data frame, you can use `dataframe.tail(num_rows)`. Try it out for yourself!"
   ]
  },
  {
   "cell_type": "code",
   "execution_count": null,
   "metadata": {
    "cell_id": "46962898-d7f6-44a3-8daa-52473fc4157f",
    "deepnote_cell_type": "code",
    "tags": []
   },
   "outputs": [
    {
     "name": "stderr",
     "output_type": "stream",
     "text": [
      "<string>:6: RuntimeWarning: Converting input from bool to <class 'numpy.uint8'> for compatibility.\n"
     ]
    },
    {
     "data": {
      "application/vnd.deepnote.dataframe+json": {
       "numColumns": 6,
       "numElements": 5,
       "variableDetails": {
        "columns": [
         {
          "name": "Birth.Weight",
          "stats": {
           "25%": 113,
           "50%": 120,
           "75%": 128,
           "count": 5,
           "max": 136,
           "mean": 121,
           "min": 108,
           "nan_count": 0,
           "std": 11.269427669584644
          }
         },
         {
          "name": "Gestational.Days",
          "stats": {
           "25%": 282,
           "50%": 282,
           "75%": 284,
           "count": 5,
           "max": 286,
           "mean": 282.6,
           "min": 279,
           "nan_count": 0,
           "std": 2.6076809620810595
          }
         },
         {
          "name": "Maternal.Age",
          "stats": {
           "25%": 25,
           "50%": 27,
           "75%": 28,
           "count": 5,
           "max": 33,
           "mean": 27.2,
           "min": 23,
           "nan_count": 0,
           "std": 3.7682887362833544
          }
         },
         {
          "name": "Maternal.Height",
          "stats": {
           "25%": 62,
           "50%": 64,
           "75%": 64,
           "count": 5,
           "max": 67,
           "mean": 63.8,
           "min": 62,
           "nan_count": 0,
           "std": 2.0493901531919194
          }
         },
         {
          "name": "Maternal.Pregnancy.Weight",
          "stats": {
           "25%": 100,
           "50%": 115,
           "75%": 125,
           "count": 5,
           "max": 135,
           "mean": 113.6,
           "min": 93,
           "nan_count": 0,
           "std": 17.314733610425545
          }
         },
         {
          "name": "Maternal.Smoker",
          "stats": {
           "count": 5,
           "freq": 3,
           "nan_count": 0,
           "top": false,
           "unique": 2
          }
         }
        ],
        "dataframe": {
         "0": {
          "Birth.Weight": 120,
          "Gestational.Days": 284,
          "Maternal.Age": 27,
          "Maternal.Height": 62,
          "Maternal.Pregnancy.Weight": 100,
          "Maternal.Smoker": false
         },
         "1": {
          "Birth.Weight": 113,
          "Gestational.Days": 282,
          "Maternal.Age": 33,
          "Maternal.Height": 64,
          "Maternal.Pregnancy.Weight": 135,
          "Maternal.Smoker": false
         },
         "2": {
          "Birth.Weight": 128,
          "Gestational.Days": 279,
          "Maternal.Age": 28,
          "Maternal.Height": 64,
          "Maternal.Pregnancy.Weight": 115,
          "Maternal.Smoker": true
         },
         "3": {
          "Birth.Weight": 108,
          "Gestational.Days": 282,
          "Maternal.Age": 23,
          "Maternal.Height": 67,
          "Maternal.Pregnancy.Weight": 125,
          "Maternal.Smoker": true
         },
         "4": {
          "Birth.Weight": 136,
          "Gestational.Days": 286,
          "Maternal.Age": 25,
          "Maternal.Height": 62,
          "Maternal.Pregnancy.Weight": 93,
          "Maternal.Smoker": false
         }
        },
        "frequencyInfo": [
         {
          "frequencyData": [
           {
            "x": 108,
            "y": 1
           },
           {
            "x": 110.8,
            "y": 1
           },
           {
            "x": 113.6,
            "y": 0
           },
           {
            "x": 116.4,
            "y": 0
           },
           {
            "x": 119.2,
            "y": 1
           },
           {
            "x": 122,
            "y": 0
           },
           {
            "x": 124.8,
            "y": 0
           },
           {
            "x": 127.6,
            "y": 1
           },
           {
            "x": 130.4,
            "y": 0
           },
           {
            "x": 133.2,
            "y": 1
           }
          ],
          "type": "hist"
         },
         {
          "frequencyData": [
           {
            "x": 279,
            "y": 1
           },
           {
            "x": 279.7,
            "y": 0
           },
           {
            "x": 280.4,
            "y": 0
           },
           {
            "x": 281.1,
            "y": 0
           },
           {
            "x": 281.8,
            "y": 2
           },
           {
            "x": 282.5,
            "y": 0
           },
           {
            "x": 283.2,
            "y": 0
           },
           {
            "x": 283.9,
            "y": 1
           },
           {
            "x": 284.6,
            "y": 0
           },
           {
            "x": 285.3,
            "y": 1
           }
          ],
          "type": "hist"
         },
         {
          "frequencyData": [
           {
            "x": 23,
            "y": 1
           },
           {
            "x": 24,
            "y": 0
           },
           {
            "x": 25,
            "y": 1
           },
           {
            "x": 26,
            "y": 0
           },
           {
            "x": 27,
            "y": 1
           },
           {
            "x": 28,
            "y": 1
           },
           {
            "x": 29,
            "y": 0
           },
           {
            "x": 30,
            "y": 0
           },
           {
            "x": 31,
            "y": 0
           },
           {
            "x": 32,
            "y": 1
           }
          ],
          "type": "hist"
         },
         {
          "frequencyData": [
           {
            "x": 62,
            "y": 2
           },
           {
            "x": 62.5,
            "y": 0
           },
           {
            "x": 63,
            "y": 0
           },
           {
            "x": 63.5,
            "y": 0
           },
           {
            "x": 64,
            "y": 2
           },
           {
            "x": 64.5,
            "y": 0
           },
           {
            "x": 65,
            "y": 0
           },
           {
            "x": 65.5,
            "y": 0
           },
           {
            "x": 66,
            "y": 0
           },
           {
            "x": 66.5,
            "y": 1
           }
          ],
          "type": "hist"
         },
         {
          "frequencyData": [
           {
            "x": 93,
            "y": 1
           },
           {
            "x": 97.2,
            "y": 1
           },
           {
            "x": 101.4,
            "y": 0
           },
           {
            "x": 105.6,
            "y": 0
           },
           {
            "x": 109.8,
            "y": 0
           },
           {
            "x": 114,
            "y": 1
           },
           {
            "x": 118.2,
            "y": 0
           },
           {
            "x": 122.4,
            "y": 1
           },
           {
            "x": 126.6,
            "y": 0
           },
           {
            "x": 130.8,
            "y": 1
           }
          ],
          "type": "hist"
         },
         {
          "frequencyData": [
           {
            "x": 0,
            "y": 3
           },
           {
            "x": 0.1,
            "y": 0
           },
           {
            "x": 0.2,
            "y": 0
           },
           {
            "x": 0.30000000000000004,
            "y": 0
           },
           {
            "x": 0.4,
            "y": 0
           },
           {
            "x": 0.5,
            "y": 0
           },
           {
            "x": 0.6000000000000001,
            "y": 0
           },
           {
            "x": 0.7000000000000001,
            "y": 0
           },
           {
            "x": 0.8,
            "y": 0
           },
           {
            "x": 0.9,
            "y": 2
           }
          ],
          "type": "hist"
         }
        ]
       }
      },
      "text/html": [
       "<div>\n",
       "<style scoped>\n",
       "    .dataframe tbody tr th:only-of-type {\n",
       "        vertical-align: middle;\n",
       "    }\n",
       "\n",
       "    .dataframe tbody tr th {\n",
       "        vertical-align: top;\n",
       "    }\n",
       "\n",
       "    .dataframe thead th {\n",
       "        text-align: right;\n",
       "    }\n",
       "</style>\n",
       "<table border=\"1\" class=\"dataframe\">\n",
       "  <thead>\n",
       "    <tr style=\"text-align: right;\">\n",
       "      <th></th>\n",
       "      <th>Birth.Weight</th>\n",
       "      <th>Gestational.Days</th>\n",
       "      <th>Maternal.Age</th>\n",
       "      <th>Maternal.Height</th>\n",
       "      <th>Maternal.Pregnancy.Weight</th>\n",
       "      <th>Maternal.Smoker</th>\n",
       "    </tr>\n",
       "  </thead>\n",
       "  <tbody>\n",
       "    <tr>\n",
       "      <th>0</th>\n",
       "      <td>120</td>\n",
       "      <td>284</td>\n",
       "      <td>27</td>\n",
       "      <td>62</td>\n",
       "      <td>100</td>\n",
       "      <td>False</td>\n",
       "    </tr>\n",
       "    <tr>\n",
       "      <th>1</th>\n",
       "      <td>113</td>\n",
       "      <td>282</td>\n",
       "      <td>33</td>\n",
       "      <td>64</td>\n",
       "      <td>135</td>\n",
       "      <td>False</td>\n",
       "    </tr>\n",
       "    <tr>\n",
       "      <th>2</th>\n",
       "      <td>128</td>\n",
       "      <td>279</td>\n",
       "      <td>28</td>\n",
       "      <td>64</td>\n",
       "      <td>115</td>\n",
       "      <td>True</td>\n",
       "    </tr>\n",
       "    <tr>\n",
       "      <th>3</th>\n",
       "      <td>108</td>\n",
       "      <td>282</td>\n",
       "      <td>23</td>\n",
       "      <td>67</td>\n",
       "      <td>125</td>\n",
       "      <td>True</td>\n",
       "    </tr>\n",
       "    <tr>\n",
       "      <th>4</th>\n",
       "      <td>136</td>\n",
       "      <td>286</td>\n",
       "      <td>25</td>\n",
       "      <td>62</td>\n",
       "      <td>93</td>\n",
       "      <td>False</td>\n",
       "    </tr>\n",
       "  </tbody>\n",
       "</table>\n",
       "</div>"
      ],
      "text/plain": [
       "   Birth.Weight  Gestational.Days  Maternal.Age  Maternal.Height  \\\n",
       "0           120               284            27               62   \n",
       "1           113               282            33               64   \n",
       "2           128               279            28               64   \n",
       "3           108               282            23               67   \n",
       "4           136               286            25               62   \n",
       "\n",
       "   Maternal.Pregnancy.Weight  Maternal.Smoker  \n",
       "0                        100            False  \n",
       "1                        135            False  \n",
       "2                        115             True  \n",
       "3                        125             True  \n",
       "4                         93            False  "
      ]
     },
     "execution_count": 3,
     "metadata": {},
     "output_type": "execute_result"
    }
   ],
   "source": [
    "# pandas\n",
    "baby_df = pd.read_csv(\"baby.csv\")\n",
    "baby_df.head(5)"
   ]
  },
  {
   "cell_type": "markdown",
   "metadata": {
    "cell_id": "4ad0d71e-66e0-44fe-b9d5-11a248453bfd",
    "deepnote_cell_type": "markdown",
    "tags": []
   },
   "source": [
    "### Creating a Table from Scratch\n",
    "Often times, data in tabular format is preferred for analysis. \n",
    "But what if you already have the data, just not in tabular format? \n",
    "For example, if your data is scattered in arrays and lists, you can use that to build your own table from scratch."
   ]
  },
  {
   "cell_type": "markdown",
   "metadata": {
    "cell_id": "95333897-60aa-4886-aa90-ea32123cf527",
    "deepnote_cell_type": "markdown",
    "tags": []
   },
   "source": [
    "Using the `datascience` package, we can first create a blank table with a call to Table(), \n",
    "then add in the arrays as columns to this blank table as shown below."
   ]
  },
  {
   "cell_type": "code",
   "execution_count": null,
   "metadata": {
    "cell_id": "11c881db-4615-43a5-b170-318a19f45f5c",
    "deepnote_cell_type": "code",
    "tags": []
   },
   "outputs": [
    {
     "data": {
      "text/html": [
       "<table border=\"1\" class=\"dataframe\">\n",
       "    <thead>\n",
       "        <tr>\n",
       "            <th>Number of petals</th> <th>Name</th> <th>Color</th>\n",
       "        </tr>\n",
       "    </thead>\n",
       "    <tbody>\n",
       "        <tr>\n",
       "            <td>8               </td> <td>lotus    </td> <td>pink  </td>\n",
       "        </tr>\n",
       "        <tr>\n",
       "            <td>34              </td> <td>sunflower</td> <td>yellow</td>\n",
       "        </tr>\n",
       "        <tr>\n",
       "            <td>5               </td> <td>rose     </td> <td>red   </td>\n",
       "        </tr>\n",
       "    </tbody>\n",
       "</table>"
      ],
      "text/plain": [
       "Number of petals | Name      | Color\n",
       "8                | lotus     | pink\n",
       "34               | sunflower | yellow\n",
       "5                | rose      | red"
      ]
     },
     "execution_count": 6,
     "metadata": {},
     "output_type": "execute_result"
    }
   ],
   "source": [
    "# datascience\n",
    "flowers_tbl = Table().with_columns(\n",
    "    'Number of petals', make_array(8, 34, 5),\n",
    "    'Name', make_array('lotus', 'sunflower', 'rose'),\n",
    "    'Color', make_array('pink', 'yellow', 'red')\n",
    ") \n",
    "flowers_tbl"
   ]
  },
  {
   "cell_type": "markdown",
   "metadata": {
    "cell_id": "c5f0fffc-9761-4610-97ac-744c910ceaee",
    "deepnote_cell_type": "markdown",
    "tags": []
   },
   "source": [
    "There are multiple ways to do this in `pandas`. \n",
    "One way is intuitively very similar to how we did it with `datascience`. \n",
    "\n",
    "Here we use a dictionary object to represent the data -- don't worry if you're not familiar with them. \n",
    "We pass into the `data` argument `{\"colname1\": column1, \"colname2\": column2, ...}`.\n",
    "Notably, we build the `DataFrame` by the columns, using each list as a column and associating each column with its appropriate name. "
   ]
  },
  {
   "cell_type": "code",
   "execution_count": null,
   "metadata": {
    "cell_id": "70ca2e6f-104c-40cc-a39b-e070a44298a8",
    "deepnote_cell_type": "code",
    "tags": []
   },
   "outputs": [
    {
     "data": {
      "application/vnd.deepnote.dataframe+json": {
       "numColumns": 3,
       "numElements": 3,
       "variableDetails": {
        "columns": [
         {
          "name": "Number of petals",
          "stats": {
           "25%": 6.5,
           "50%": 8,
           "75%": 21,
           "count": 3,
           "max": 34,
           "mean": 15.666666666666666,
           "min": 5,
           "nan_count": 0,
           "std": 15.947831618540915
          }
         },
         {
          "name": "Name",
          "stats": {
           "count": 3,
           "freq": 1,
           "nan_count": 0,
           "top": "rose",
           "unique": 3
          }
         },
         {
          "name": "Color",
          "stats": {
           "count": 3,
           "freq": 1,
           "nan_count": 0,
           "top": "red",
           "unique": 3
          }
         }
        ],
        "dataframe": {
         "0": {
          "Color": "pink",
          "Name": "lotus",
          "Number of petals": 8
         },
         "1": {
          "Color": "yellow",
          "Name": "sunflower",
          "Number of petals": 34
         },
         "2": {
          "Color": "red",
          "Name": "rose",
          "Number of petals": 5
         }
        },
        "frequencyInfo": [
         {
          "frequencyData": [
           {
            "x": 5,
            "y": 1
           },
           {
            "x": 7.9,
            "y": 1
           },
           {
            "x": 10.8,
            "y": 0
           },
           {
            "x": 13.7,
            "y": 0
           },
           {
            "x": 16.6,
            "y": 0
           },
           {
            "x": 19.5,
            "y": 0
           },
           {
            "x": 22.4,
            "y": 0
           },
           {
            "x": 25.3,
            "y": 0
           },
           {
            "x": 28.2,
            "y": 0
           },
           {
            "x": 31.099999999999998,
            "y": 1
           }
          ],
          "type": "hist"
         },
         {
          "frequencyData": [
           {
            "frequency": 0.3333333333333333,
            "name": "lotus"
           },
           {
            "frequency": 0.3333333333333333,
            "name": "sunflower"
           },
           {
            "frequency": 0.3333333333333333,
            "name": "rose"
           }
          ],
          "type": "freq"
         },
         {
          "frequencyData": [
           {
            "frequency": 0.3333333333333333,
            "name": "pink"
           },
           {
            "frequency": 0.3333333333333333,
            "name": "yellow"
           },
           {
            "frequency": 0.3333333333333333,
            "name": "red"
           }
          ],
          "type": "freq"
         }
        ]
       }
      },
      "text/html": [
       "<div>\n",
       "<style scoped>\n",
       "    .dataframe tbody tr th:only-of-type {\n",
       "        vertical-align: middle;\n",
       "    }\n",
       "\n",
       "    .dataframe tbody tr th {\n",
       "        vertical-align: top;\n",
       "    }\n",
       "\n",
       "    .dataframe thead th {\n",
       "        text-align: right;\n",
       "    }\n",
       "</style>\n",
       "<table border=\"1\" class=\"dataframe\">\n",
       "  <thead>\n",
       "    <tr style=\"text-align: right;\">\n",
       "      <th></th>\n",
       "      <th>Number of petals</th>\n",
       "      <th>Name</th>\n",
       "      <th>Color</th>\n",
       "    </tr>\n",
       "  </thead>\n",
       "  <tbody>\n",
       "    <tr>\n",
       "      <th>0</th>\n",
       "      <td>8</td>\n",
       "      <td>lotus</td>\n",
       "      <td>pink</td>\n",
       "    </tr>\n",
       "    <tr>\n",
       "      <th>1</th>\n",
       "      <td>34</td>\n",
       "      <td>sunflower</td>\n",
       "      <td>yellow</td>\n",
       "    </tr>\n",
       "    <tr>\n",
       "      <th>2</th>\n",
       "      <td>5</td>\n",
       "      <td>rose</td>\n",
       "      <td>red</td>\n",
       "    </tr>\n",
       "  </tbody>\n",
       "</table>\n",
       "</div>"
      ],
      "text/plain": [
       "   Number of petals       Name   Color\n",
       "0                 8      lotus    pink\n",
       "1                34  sunflower  yellow\n",
       "2                 5       rose     red"
      ]
     },
     "execution_count": 7,
     "metadata": {},
     "output_type": "execute_result"
    }
   ],
   "source": [
    "# pandas - method 1\n",
    "flowers_df = pd.DataFrame(data = {'Number of petals': [8, 34, 5], \n",
    "                         'Name': ['lotus', 'sunflower', 'rose'],\n",
    "                         'Color': ['pink', 'yellow', 'red']})\n",
    "flowers_df"
   ]
  },
  {
   "cell_type": "markdown",
   "metadata": {
    "cell_id": "2687911f-ed84-4f3a-8e9b-b32116e60c7b",
    "deepnote_cell_type": "markdown",
    "tags": []
   },
   "source": [
    "Another way to build the same table from scratch is by building it with rows. \n",
    "With this method, the data should be a list of lists, where each inner list contains the entries of one row. \n",
    "You might also notice that there is now a second argument, `columns`. \n",
    "Since we are passing in rows, we do not have the column names inside the `data` argument. \n",
    "This is why we use the `columns` argument to specify column names."
   ]
  },
  {
   "cell_type": "code",
   "execution_count": null,
   "metadata": {
    "cell_id": "66095a39-6f2d-4986-945d-12b6c7123f8a",
    "deepnote_cell_type": "code",
    "tags": []
   },
   "outputs": [
    {
     "data": {
      "application/vnd.deepnote.dataframe+json": {
       "numColumns": 3,
       "numElements": 3,
       "variableDetails": {
        "columns": [
         {
          "name": "Number of petals",
          "stats": {
           "25%": 6.5,
           "50%": 8,
           "75%": 21,
           "count": 3,
           "max": 34,
           "mean": 15.666666666666666,
           "min": 5,
           "nan_count": 0,
           "std": 15.947831618540915
          }
         },
         {
          "name": "Name",
          "stats": {
           "count": 3,
           "freq": 1,
           "nan_count": 0,
           "top": "rose",
           "unique": 3
          }
         },
         {
          "name": "Color",
          "stats": {
           "count": 3,
           "freq": 1,
           "nan_count": 0,
           "top": "red",
           "unique": 3
          }
         }
        ],
        "dataframe": {
         "0": {
          "Color": "pink",
          "Name": "lotus",
          "Number of petals": 8
         },
         "1": {
          "Color": "yellow",
          "Name": "sunflower",
          "Number of petals": 34
         },
         "2": {
          "Color": "red",
          "Name": "rose",
          "Number of petals": 5
         }
        },
        "frequencyInfo": [
         {
          "frequencyData": [
           {
            "x": 5,
            "y": 1
           },
           {
            "x": 7.9,
            "y": 1
           },
           {
            "x": 10.8,
            "y": 0
           },
           {
            "x": 13.7,
            "y": 0
           },
           {
            "x": 16.6,
            "y": 0
           },
           {
            "x": 19.5,
            "y": 0
           },
           {
            "x": 22.4,
            "y": 0
           },
           {
            "x": 25.3,
            "y": 0
           },
           {
            "x": 28.2,
            "y": 0
           },
           {
            "x": 31.099999999999998,
            "y": 1
           }
          ],
          "type": "hist"
         },
         {
          "frequencyData": [
           {
            "frequency": 0.3333333333333333,
            "name": "lotus"
           },
           {
            "frequency": 0.3333333333333333,
            "name": "sunflower"
           },
           {
            "frequency": 0.3333333333333333,
            "name": "rose"
           }
          ],
          "type": "freq"
         },
         {
          "frequencyData": [
           {
            "frequency": 0.3333333333333333,
            "name": "pink"
           },
           {
            "frequency": 0.3333333333333333,
            "name": "yellow"
           },
           {
            "frequency": 0.3333333333333333,
            "name": "red"
           }
          ],
          "type": "freq"
         }
        ]
       }
      },
      "text/html": [
       "<div>\n",
       "<style scoped>\n",
       "    .dataframe tbody tr th:only-of-type {\n",
       "        vertical-align: middle;\n",
       "    }\n",
       "\n",
       "    .dataframe tbody tr th {\n",
       "        vertical-align: top;\n",
       "    }\n",
       "\n",
       "    .dataframe thead th {\n",
       "        text-align: right;\n",
       "    }\n",
       "</style>\n",
       "<table border=\"1\" class=\"dataframe\">\n",
       "  <thead>\n",
       "    <tr style=\"text-align: right;\">\n",
       "      <th></th>\n",
       "      <th>Number of petals</th>\n",
       "      <th>Name</th>\n",
       "      <th>Color</th>\n",
       "    </tr>\n",
       "  </thead>\n",
       "  <tbody>\n",
       "    <tr>\n",
       "      <th>0</th>\n",
       "      <td>8</td>\n",
       "      <td>lotus</td>\n",
       "      <td>pink</td>\n",
       "    </tr>\n",
       "    <tr>\n",
       "      <th>1</th>\n",
       "      <td>34</td>\n",
       "      <td>sunflower</td>\n",
       "      <td>yellow</td>\n",
       "    </tr>\n",
       "    <tr>\n",
       "      <th>2</th>\n",
       "      <td>5</td>\n",
       "      <td>rose</td>\n",
       "      <td>red</td>\n",
       "    </tr>\n",
       "  </tbody>\n",
       "</table>\n",
       "</div>"
      ],
      "text/plain": [
       "   Number of petals       Name   Color\n",
       "0                 8      lotus    pink\n",
       "1                34  sunflower  yellow\n",
       "2                 5       rose     red"
      ]
     },
     "execution_count": 8,
     "metadata": {},
     "output_type": "execute_result"
    }
   ],
   "source": [
    "# pandas - method 2\n",
    "flowers_df = pd.DataFrame(data = [[8, 'lotus', 'pink'], \n",
    "                                  [34, 'sunflower', 'yellow'],\n",
    "                                  [5, 'rose', 'red']], \n",
    "                         columns = ['Number of petals', 'Name', 'Color'])\n",
    "flowers_df"
   ]
  },
  {
   "cell_type": "markdown",
   "metadata": {
    "cell_id": "a6f240be-fee2-474f-99fe-4139e3d27004",
    "deepnote_cell_type": "markdown",
    "tags": []
   },
   "source": [
    "## `pandas` datatypes"
   ]
  },
  {
   "cell_type": "markdown",
   "metadata": {
    "cell_id": "701795a3-d0c6-4862-8c42-8b6d8a4b6570",
    "deepnote_cell_type": "markdown",
    "tags": []
   },
   "source": [
    "### Series vs. Arrays\n",
    "\n",
    "\n",
    "One of the primary data types we saw when analyzing tabular data with the `datascience` package is the array.\n",
    "In `datascience`, the columns of the tables consisted of arrays. In `pandas`, there is a very similar, but slightly different data type called a `Series`.\n"
   ]
  },
  {
   "cell_type": "markdown",
   "metadata": {
    "cell_id": "7fc61512-5f61-4044-9e39-7423ebc61fb7",
    "deepnote_cell_type": "markdown",
    "tags": []
   },
   "source": [
    " You can access the values of a column in a Table using the `tbl.column(column_name)` function as follows. \n",
    " When using `tbl.column`, the values of the selected column will be returned as an array."
   ]
  },
  {
   "cell_type": "code",
   "execution_count": null,
   "metadata": {
    "cell_id": "3e24aa4b-2ec5-4a2c-a425-5057b197e97b",
    "deepnote_cell_type": "code",
    "tags": []
   },
   "outputs": [
    {
     "data": {
      "text/plain": [
       "array([120, 113, 128, ..., 130, 125, 117])"
      ]
     },
     "execution_count": 9,
     "metadata": {},
     "output_type": "execute_result"
    }
   ],
   "source": [
    "## datascience\n",
    "baby_tbl.column(\"Birth.Weight\")"
   ]
  },
  {
   "cell_type": "markdown",
   "metadata": {
    "cell_id": "e02d1165-554a-4811-9c83-633a8538bcc9",
    "deepnote_cell_type": "markdown",
    "tags": []
   },
   "source": [
    "Similarly in `pandas`, you can access the values of a particular column by using `dataframe[column_name]`. \n",
    "The data frame object is introduced in the next section, for now you can just understand it as the `pandas` equivalent to a table. \n",
    "`dataframe[column_name]` will return a `Series` instead of an array. \n"
   ]
  },
  {
   "cell_type": "code",
   "execution_count": null,
   "metadata": {
    "cell_id": "af308f1e-b43e-43b8-be67-2cbb2fc62331",
    "deepnote_cell_type": "code",
    "tags": []
   },
   "outputs": [
    {
     "data": {
      "text/plain": [
       "0       120\n",
       "1       113\n",
       "2       128\n",
       "3       108\n",
       "4       136\n",
       "       ... \n",
       "1169    113\n",
       "1170    128\n",
       "1171    130\n",
       "1172    125\n",
       "1173    117\n",
       "Name: Birth.Weight, Length: 1174, dtype: int64"
      ]
     },
     "execution_count": 10,
     "metadata": {},
     "output_type": "execute_result"
    }
   ],
   "source": [
    "## pandas\n",
    "baby_df[\"Birth.Weight\"]"
   ]
  },
  {
   "cell_type": "markdown",
   "metadata": {
    "cell_id": "5ea7d79e-36de-4125-9134-b1edc045cc1d",
    "deepnote_cell_type": "markdown",
    "tags": []
   },
   "source": [
    "A `Series` object is basically an array with indices for each data point. \n",
    "In the above example, the first element in the `Birth.Weight` column is the integer 120. The corresponding index is 0.\n",
    "\n",
    "If we want just the data as an array without the index, we can use the `Series.values` attribute."
   ]
  },
  {
   "cell_type": "code",
   "execution_count": null,
   "metadata": {
    "cell_id": "66c73cbd-1bb9-409d-8a49-01346b606fd3",
    "deepnote_cell_type": "code",
    "tags": []
   },
   "outputs": [
    {
     "data": {
      "text/plain": [
       "array([120, 113, 128, ..., 130, 125, 117])"
      ]
     },
     "execution_count": 11,
     "metadata": {},
     "output_type": "execute_result"
    }
   ],
   "source": [
    "baby_df[\"Birth.Weight\"].values"
   ]
  },
  {
   "cell_type": "markdown",
   "metadata": {
    "cell_id": "04642746-d01d-45f2-9d38-5ffc2d1b1678",
    "deepnote_cell_type": "markdown",
    "tags": []
   },
   "source": [
    "### DataFrames vs. Tables\n",
    "\n",
    "The following is our standard `datascience` Table. It is basically a collection of arrays, with column names."
   ]
  },
  {
   "cell_type": "code",
   "execution_count": null,
   "metadata": {
    "cell_id": "f77ed6aa-5a7f-4d9d-853f-b8b3ea974831",
    "deepnote_cell_type": "code",
    "tags": []
   },
   "outputs": [
    {
     "data": {
      "text/html": [
       "<table border=\"1\" class=\"dataframe\">\n",
       "    <thead>\n",
       "        <tr>\n",
       "            <th>Birth.Weight</th> <th>Gestational.Days</th> <th>Maternal.Age</th> <th>Maternal.Height</th> <th>Maternal.Pregnancy.Weight</th> <th>Maternal.Smoker</th>\n",
       "        </tr>\n",
       "    </thead>\n",
       "    <tbody>\n",
       "        <tr>\n",
       "            <td>120         </td> <td>284             </td> <td>27          </td> <td>62             </td> <td>100                      </td> <td>False          </td>\n",
       "        </tr>\n",
       "        <tr>\n",
       "            <td>113         </td> <td>282             </td> <td>33          </td> <td>64             </td> <td>135                      </td> <td>False          </td>\n",
       "        </tr>\n",
       "        <tr>\n",
       "            <td>128         </td> <td>279             </td> <td>28          </td> <td>64             </td> <td>115                      </td> <td>True           </td>\n",
       "        </tr>\n",
       "        <tr>\n",
       "            <td>108         </td> <td>282             </td> <td>23          </td> <td>67             </td> <td>125                      </td> <td>True           </td>\n",
       "        </tr>\n",
       "        <tr>\n",
       "            <td>136         </td> <td>286             </td> <td>25          </td> <td>62             </td> <td>93                       </td> <td>False          </td>\n",
       "        </tr>\n",
       "        <tr>\n",
       "            <td>138         </td> <td>244             </td> <td>33          </td> <td>62             </td> <td>178                      </td> <td>False          </td>\n",
       "        </tr>\n",
       "        <tr>\n",
       "            <td>132         </td> <td>245             </td> <td>23          </td> <td>65             </td> <td>140                      </td> <td>False          </td>\n",
       "        </tr>\n",
       "        <tr>\n",
       "            <td>120         </td> <td>289             </td> <td>25          </td> <td>62             </td> <td>125                      </td> <td>False          </td>\n",
       "        </tr>\n",
       "        <tr>\n",
       "            <td>143         </td> <td>299             </td> <td>30          </td> <td>66             </td> <td>136                      </td> <td>True           </td>\n",
       "        </tr>\n",
       "        <tr>\n",
       "            <td>140         </td> <td>351             </td> <td>27          </td> <td>68             </td> <td>120                      </td> <td>False          </td>\n",
       "        </tr>\n",
       "    </tbody>\n",
       "</table>\n",
       "<p>... (1164 rows omitted)</p>"
      ],
      "text/plain": [
       "Birth.Weight | Gestational.Days | Maternal.Age | Maternal.Height | Maternal.Pregnancy.Weight | Maternal.Smoker\n",
       "120          | 284              | 27           | 62              | 100                       | False\n",
       "113          | 282              | 33           | 64              | 135                       | False\n",
       "128          | 279              | 28           | 64              | 115                       | True\n",
       "108          | 282              | 23           | 67              | 125                       | True\n",
       "136          | 286              | 25           | 62              | 93                        | False\n",
       "138          | 244              | 33           | 62              | 178                       | False\n",
       "132          | 245              | 23           | 65              | 140                       | False\n",
       "120          | 289              | 25           | 62              | 125                       | False\n",
       "143          | 299              | 30           | 66              | 136                       | True\n",
       "140          | 351              | 27           | 68              | 120                       | False\n",
       "... (1164 rows omitted)"
      ]
     },
     "execution_count": 10,
     "metadata": {},
     "output_type": "execute_result"
    }
   ],
   "source": [
    "# datascience\n",
    "baby_tbl.head()"
   ]
  },
  {
   "cell_type": "markdown",
   "metadata": {
    "cell_id": "a416cc09-4a2a-4562-a8c3-d7ec2759678a",
    "deepnote_cell_type": "markdown",
    "tags": []
   },
   "source": [
    "A `pandas`  `DataFrame` can be thought of as a collection of Series, all of which have the same index. \n",
    "The resulting `DataFrame` consists of columns where each column is a `Series` and each row has a unique index."
   ]
  },
  {
   "cell_type": "code",
   "execution_count": null,
   "metadata": {
    "cell_id": "7037f026-04ee-4027-bd84-c2854d1e4fe9",
    "deepnote_cell_type": "code",
    "tags": []
   },
   "outputs": [
    {
     "data": {
      "application/vnd.deepnote.dataframe+json": {
       "numColumns": 6,
       "numElements": 1174,
       "variableDetails": {
        "columns": [
         {
          "name": "Birth.Weight",
          "stats": {
           "25%": 108,
           "50%": 120,
           "75%": 131,
           "count": 1174,
           "max": 176,
           "mean": 119.46252129471891,
           "min": 55,
           "nan_count": 0,
           "std": 18.32867144332099
          }
         },
         {
          "name": "Gestational.Days",
          "stats": {
           "25%": 272,
           "50%": 280,
           "75%": 288,
           "count": 1174,
           "max": 353,
           "mean": 279.1013628620102,
           "min": 148,
           "nan_count": 0,
           "std": 16.0103051271294
          }
         },
         {
          "name": "Maternal.Age",
          "stats": {
           "25%": 23,
           "50%": 26,
           "75%": 31,
           "count": 1174,
           "max": 45,
           "mean": 27.228279386712096,
           "min": 15,
           "nan_count": 0,
           "std": 5.817838716855793
          }
         },
         {
          "name": "Maternal.Height",
          "stats": {
           "25%": 62,
           "50%": 64,
           "75%": 66,
           "count": 1174,
           "max": 72,
           "mean": 64.04940374787053,
           "min": 53,
           "nan_count": 0,
           "std": 2.5261015226020382
          }
         },
         {
          "name": "Maternal.Pregnancy.Weight",
          "stats": {
           "25%": 114.25,
           "50%": 125,
           "75%": 139,
           "count": 1174,
           "max": 250,
           "mean": 128.4787052810903,
           "min": 87,
           "nan_count": 0,
           "std": 20.73428219976096
          }
         },
         {
          "name": "Maternal.Smoker",
          "stats": {
           "count": 1174,
           "freq": 715,
           "nan_count": 0,
           "top": false,
           "unique": 2
          }
         }
        ],
        "dataframe": {
         "1066": {
          "Birth.Weight": 163,
          "Gestational.Days": 298,
          "Maternal.Age": 37,
          "Maternal.Height": 61,
          "Maternal.Pregnancy.Weight": 98,
          "Maternal.Smoker": false
         },
         "1107": {
          "Birth.Weight": 112,
          "Gestational.Days": 268,
          "Maternal.Age": 25,
          "Maternal.Height": 59,
          "Maternal.Pregnancy.Weight": 103,
          "Maternal.Smoker": false
         },
         "208": {
          "Birth.Weight": 115,
          "Gestational.Days": 268,
          "Maternal.Age": 28,
          "Maternal.Height": 66,
          "Maternal.Pregnancy.Weight": 128,
          "Maternal.Smoker": false
         },
         "410": {
          "Birth.Weight": 116,
          "Gestational.Days": 293,
          "Maternal.Age": 28,
          "Maternal.Height": 62,
          "Maternal.Pregnancy.Weight": 108,
          "Maternal.Smoker": false
         },
         "430": {
          "Birth.Weight": 68,
          "Gestational.Days": 223,
          "Maternal.Age": 32,
          "Maternal.Height": 66,
          "Maternal.Pregnancy.Weight": 149,
          "Maternal.Smoker": true
         },
         "58": {
          "Birth.Weight": 124,
          "Gestational.Days": 288,
          "Maternal.Age": 22,
          "Maternal.Height": 67,
          "Maternal.Pregnancy.Weight": 118,
          "Maternal.Smoker": false
         },
         "665": {
          "Birth.Weight": 120,
          "Gestational.Days": 294,
          "Maternal.Age": 23,
          "Maternal.Height": 66,
          "Maternal.Pregnancy.Weight": 128,
          "Maternal.Smoker": true
         },
         "675": {
          "Birth.Weight": 117,
          "Gestational.Days": 298,
          "Maternal.Age": 22,
          "Maternal.Height": 64,
          "Maternal.Pregnancy.Weight": 160,
          "Maternal.Smoker": false
         },
         "811": {
          "Birth.Weight": 124,
          "Gestational.Days": 284,
          "Maternal.Age": 17,
          "Maternal.Height": 62,
          "Maternal.Pregnancy.Weight": 112,
          "Maternal.Smoker": false
         },
         "832": {
          "Birth.Weight": 87,
          "Gestational.Days": 275,
          "Maternal.Age": 28,
          "Maternal.Height": 63,
          "Maternal.Pregnancy.Weight": 110,
          "Maternal.Smoker": true
         }
        },
        "frequencyInfo": [
         {
          "frequencyData": [
           {
            "x": 55,
            "y": 6
           },
           {
            "x": 67.1,
            "y": 20
           },
           {
            "x": 79.2,
            "y": 52
           },
           {
            "x": 91.3,
            "y": 142
           },
           {
            "x": 103.4,
            "y": 247
           },
           {
            "x": 115.5,
            "y": 325
           },
           {
            "x": 127.6,
            "y": 237
           },
           {
            "x": 139.7,
            "y": 98
           },
           {
            "x": 151.8,
            "y": 36
           },
           {
            "x": 163.89999999999998,
            "y": 11
           }
          ],
          "type": "hist"
         },
         {
          "frequencyData": [
           {
            "x": 148,
            "y": 1
           },
           {
            "x": 168.5,
            "y": 1
           },
           {
            "x": 189,
            "y": 1
           },
           {
            "x": 209.5,
            "y": 6
           },
           {
            "x": 230,
            "y": 47
           },
           {
            "x": 250.5,
            "y": 200
           },
           {
            "x": 271,
            "y": 725
           },
           {
            "x": 291.5,
            "y": 166
           },
           {
            "x": 312,
            "y": 24
           },
           {
            "x": 332.5,
            "y": 3
           }
          ],
          "type": "hist"
         },
         {
          "frequencyData": [
           {
            "x": 15,
            "y": 8
           },
           {
            "x": 18,
            "y": 121
           },
           {
            "x": 21,
            "y": 232
           },
           {
            "x": 24,
            "y": 240
           },
           {
            "x": 27,
            "y": 205
           },
           {
            "x": 30,
            "y": 138
           },
           {
            "x": 33,
            "y": 102
           },
           {
            "x": 36,
            "y": 69
           },
           {
            "x": 39,
            "y": 47
           },
           {
            "x": 42,
            "y": 12
           }
          ],
          "type": "hist"
         },
         {
          "frequencyData": [
           {
            "x": 53,
            "y": 2
           },
           {
            "x": 54.9,
            "y": 1
           },
           {
            "x": 56.8,
            "y": 11
           },
           {
            "x": 58.7,
            "y": 78
           },
           {
            "x": 60.6,
            "y": 226
           },
           {
            "x": 62.5,
            "y": 340
           },
           {
            "x": 64.4,
            "y": 324
           },
           {
            "x": 66.3,
            "y": 154
           },
           {
            "x": 68.2,
            "y": 32
           },
           {
            "x": 70.1,
            "y": 6
           }
          ],
          "type": "hist"
         },
         {
          "frequencyData": [
           {
            "x": 87,
            "y": 84
           },
           {
            "x": 103.3,
            "y": 327
           },
           {
            "x": 119.6,
            "y": 435
           },
           {
            "x": 135.9,
            "y": 200
           },
           {
            "x": 152.2,
            "y": 69
           },
           {
            "x": 168.5,
            "y": 36
           },
           {
            "x": 184.8,
            "y": 14
           },
           {
            "x": 201.10000000000002,
            "y": 7
           },
           {
            "x": 217.4,
            "y": 1
           },
           {
            "x": 233.70000000000002,
            "y": 1
           }
          ],
          "type": "hist"
         },
         {
          "frequencyData": [
           {
            "x": 0,
            "y": 715
           },
           {
            "x": 0.1,
            "y": 0
           },
           {
            "x": 0.2,
            "y": 0
           },
           {
            "x": 0.30000000000000004,
            "y": 0
           },
           {
            "x": 0.4,
            "y": 0
           },
           {
            "x": 0.5,
            "y": 0
           },
           {
            "x": 0.6000000000000001,
            "y": 0
           },
           {
            "x": 0.7000000000000001,
            "y": 0
           },
           {
            "x": 0.8,
            "y": 0
           },
           {
            "x": 0.9,
            "y": 459
           }
          ],
          "type": "hist"
         }
        ]
       }
      },
      "text/html": [
       "<div>\n",
       "<style scoped>\n",
       "    .dataframe tbody tr th:only-of-type {\n",
       "        vertical-align: middle;\n",
       "    }\n",
       "\n",
       "    .dataframe tbody tr th {\n",
       "        vertical-align: top;\n",
       "    }\n",
       "\n",
       "    .dataframe thead th {\n",
       "        text-align: right;\n",
       "    }\n",
       "</style>\n",
       "<table border=\"1\" class=\"dataframe\">\n",
       "  <thead>\n",
       "    <tr style=\"text-align: right;\">\n",
       "      <th></th>\n",
       "      <th>Birth.Weight</th>\n",
       "      <th>Gestational.Days</th>\n",
       "      <th>Maternal.Age</th>\n",
       "      <th>Maternal.Height</th>\n",
       "      <th>Maternal.Pregnancy.Weight</th>\n",
       "      <th>Maternal.Smoker</th>\n",
       "    </tr>\n",
       "  </thead>\n",
       "  <tbody>\n",
       "    <tr>\n",
       "      <th>0</th>\n",
       "      <td>120</td>\n",
       "      <td>284</td>\n",
       "      <td>27</td>\n",
       "      <td>62</td>\n",
       "      <td>100</td>\n",
       "      <td>False</td>\n",
       "    </tr>\n",
       "    <tr>\n",
       "      <th>1</th>\n",
       "      <td>113</td>\n",
       "      <td>282</td>\n",
       "      <td>33</td>\n",
       "      <td>64</td>\n",
       "      <td>135</td>\n",
       "      <td>False</td>\n",
       "    </tr>\n",
       "    <tr>\n",
       "      <th>2</th>\n",
       "      <td>128</td>\n",
       "      <td>279</td>\n",
       "      <td>28</td>\n",
       "      <td>64</td>\n",
       "      <td>115</td>\n",
       "      <td>True</td>\n",
       "    </tr>\n",
       "    <tr>\n",
       "      <th>3</th>\n",
       "      <td>108</td>\n",
       "      <td>282</td>\n",
       "      <td>23</td>\n",
       "      <td>67</td>\n",
       "      <td>125</td>\n",
       "      <td>True</td>\n",
       "    </tr>\n",
       "    <tr>\n",
       "      <th>4</th>\n",
       "      <td>136</td>\n",
       "      <td>286</td>\n",
       "      <td>25</td>\n",
       "      <td>62</td>\n",
       "      <td>93</td>\n",
       "      <td>False</td>\n",
       "    </tr>\n",
       "    <tr>\n",
       "      <th>5</th>\n",
       "      <td>138</td>\n",
       "      <td>244</td>\n",
       "      <td>33</td>\n",
       "      <td>62</td>\n",
       "      <td>178</td>\n",
       "      <td>False</td>\n",
       "    </tr>\n",
       "    <tr>\n",
       "      <th>6</th>\n",
       "      <td>132</td>\n",
       "      <td>245</td>\n",
       "      <td>23</td>\n",
       "      <td>65</td>\n",
       "      <td>140</td>\n",
       "      <td>False</td>\n",
       "    </tr>\n",
       "    <tr>\n",
       "      <th>7</th>\n",
       "      <td>120</td>\n",
       "      <td>289</td>\n",
       "      <td>25</td>\n",
       "      <td>62</td>\n",
       "      <td>125</td>\n",
       "      <td>False</td>\n",
       "    </tr>\n",
       "    <tr>\n",
       "      <th>8</th>\n",
       "      <td>143</td>\n",
       "      <td>299</td>\n",
       "      <td>30</td>\n",
       "      <td>66</td>\n",
       "      <td>136</td>\n",
       "      <td>True</td>\n",
       "    </tr>\n",
       "    <tr>\n",
       "      <th>9</th>\n",
       "      <td>140</td>\n",
       "      <td>351</td>\n",
       "      <td>27</td>\n",
       "      <td>68</td>\n",
       "      <td>120</td>\n",
       "      <td>False</td>\n",
       "    </tr>\n",
       "    <tr>\n",
       "      <th>10</th>\n",
       "      <td>144</td>\n",
       "      <td>282</td>\n",
       "      <td>32</td>\n",
       "      <td>64</td>\n",
       "      <td>124</td>\n",
       "      <td>True</td>\n",
       "    </tr>\n",
       "    <tr>\n",
       "      <th>11</th>\n",
       "      <td>141</td>\n",
       "      <td>279</td>\n",
       "      <td>23</td>\n",
       "      <td>63</td>\n",
       "      <td>128</td>\n",
       "      <td>True</td>\n",
       "    </tr>\n",
       "    <tr>\n",
       "      <th>12</th>\n",
       "      <td>110</td>\n",
       "      <td>281</td>\n",
       "      <td>36</td>\n",
       "      <td>61</td>\n",
       "      <td>99</td>\n",
       "      <td>True</td>\n",
       "    </tr>\n",
       "    <tr>\n",
       "      <th>13</th>\n",
       "      <td>114</td>\n",
       "      <td>273</td>\n",
       "      <td>30</td>\n",
       "      <td>63</td>\n",
       "      <td>154</td>\n",
       "      <td>False</td>\n",
       "    </tr>\n",
       "    <tr>\n",
       "      <th>14</th>\n",
       "      <td>115</td>\n",
       "      <td>285</td>\n",
       "      <td>38</td>\n",
       "      <td>63</td>\n",
       "      <td>130</td>\n",
       "      <td>False</td>\n",
       "    </tr>\n",
       "    <tr>\n",
       "      <th>15</th>\n",
       "      <td>92</td>\n",
       "      <td>255</td>\n",
       "      <td>25</td>\n",
       "      <td>65</td>\n",
       "      <td>125</td>\n",
       "      <td>True</td>\n",
       "    </tr>\n",
       "    <tr>\n",
       "      <th>16</th>\n",
       "      <td>115</td>\n",
       "      <td>261</td>\n",
       "      <td>33</td>\n",
       "      <td>60</td>\n",
       "      <td>125</td>\n",
       "      <td>True</td>\n",
       "    </tr>\n",
       "    <tr>\n",
       "      <th>17</th>\n",
       "      <td>144</td>\n",
       "      <td>261</td>\n",
       "      <td>33</td>\n",
       "      <td>68</td>\n",
       "      <td>170</td>\n",
       "      <td>False</td>\n",
       "    </tr>\n",
       "    <tr>\n",
       "      <th>18</th>\n",
       "      <td>119</td>\n",
       "      <td>288</td>\n",
       "      <td>43</td>\n",
       "      <td>66</td>\n",
       "      <td>142</td>\n",
       "      <td>True</td>\n",
       "    </tr>\n",
       "    <tr>\n",
       "      <th>19</th>\n",
       "      <td>105</td>\n",
       "      <td>270</td>\n",
       "      <td>22</td>\n",
       "      <td>56</td>\n",
       "      <td>93</td>\n",
       "      <td>False</td>\n",
       "    </tr>\n",
       "    <tr>\n",
       "      <th>20</th>\n",
       "      <td>115</td>\n",
       "      <td>274</td>\n",
       "      <td>27</td>\n",
       "      <td>67</td>\n",
       "      <td>175</td>\n",
       "      <td>True</td>\n",
       "    </tr>\n",
       "    <tr>\n",
       "      <th>21</th>\n",
       "      <td>137</td>\n",
       "      <td>287</td>\n",
       "      <td>25</td>\n",
       "      <td>66</td>\n",
       "      <td>145</td>\n",
       "      <td>False</td>\n",
       "    </tr>\n",
       "    <tr>\n",
       "      <th>22</th>\n",
       "      <td>122</td>\n",
       "      <td>276</td>\n",
       "      <td>30</td>\n",
       "      <td>68</td>\n",
       "      <td>182</td>\n",
       "      <td>False</td>\n",
       "    </tr>\n",
       "    <tr>\n",
       "      <th>23</th>\n",
       "      <td>131</td>\n",
       "      <td>294</td>\n",
       "      <td>23</td>\n",
       "      <td>65</td>\n",
       "      <td>122</td>\n",
       "      <td>False</td>\n",
       "    </tr>\n",
       "    <tr>\n",
       "      <th>24</th>\n",
       "      <td>103</td>\n",
       "      <td>261</td>\n",
       "      <td>27</td>\n",
       "      <td>65</td>\n",
       "      <td>112</td>\n",
       "      <td>True</td>\n",
       "    </tr>\n",
       "    <tr>\n",
       "      <th>25</th>\n",
       "      <td>146</td>\n",
       "      <td>280</td>\n",
       "      <td>26</td>\n",
       "      <td>58</td>\n",
       "      <td>106</td>\n",
       "      <td>False</td>\n",
       "    </tr>\n",
       "    <tr>\n",
       "      <th>26</th>\n",
       "      <td>114</td>\n",
       "      <td>266</td>\n",
       "      <td>20</td>\n",
       "      <td>65</td>\n",
       "      <td>175</td>\n",
       "      <td>True</td>\n",
       "    </tr>\n",
       "    <tr>\n",
       "      <th>27</th>\n",
       "      <td>125</td>\n",
       "      <td>292</td>\n",
       "      <td>32</td>\n",
       "      <td>65</td>\n",
       "      <td>125</td>\n",
       "      <td>False</td>\n",
       "    </tr>\n",
       "    <tr>\n",
       "      <th>28</th>\n",
       "      <td>114</td>\n",
       "      <td>274</td>\n",
       "      <td>28</td>\n",
       "      <td>66</td>\n",
       "      <td>132</td>\n",
       "      <td>True</td>\n",
       "    </tr>\n",
       "    <tr>\n",
       "      <th>29</th>\n",
       "      <td>122</td>\n",
       "      <td>270</td>\n",
       "      <td>26</td>\n",
       "      <td>61</td>\n",
       "      <td>105</td>\n",
       "      <td>False</td>\n",
       "    </tr>\n",
       "    <tr>\n",
       "      <th>...</th>\n",
       "      <td>...</td>\n",
       "      <td>...</td>\n",
       "      <td>...</td>\n",
       "      <td>...</td>\n",
       "      <td>...</td>\n",
       "      <td>...</td>\n",
       "    </tr>\n",
       "    <tr>\n",
       "      <th>1144</th>\n",
       "      <td>114</td>\n",
       "      <td>266</td>\n",
       "      <td>29</td>\n",
       "      <td>64</td>\n",
       "      <td>113</td>\n",
       "      <td>False</td>\n",
       "    </tr>\n",
       "    <tr>\n",
       "      <th>1145</th>\n",
       "      <td>127</td>\n",
       "      <td>242</td>\n",
       "      <td>17</td>\n",
       "      <td>61</td>\n",
       "      <td>135</td>\n",
       "      <td>True</td>\n",
       "    </tr>\n",
       "    <tr>\n",
       "      <th>1146</th>\n",
       "      <td>87</td>\n",
       "      <td>247</td>\n",
       "      <td>18</td>\n",
       "      <td>66</td>\n",
       "      <td>125</td>\n",
       "      <td>True</td>\n",
       "    </tr>\n",
       "    <tr>\n",
       "      <th>1147</th>\n",
       "      <td>141</td>\n",
       "      <td>281</td>\n",
       "      <td>29</td>\n",
       "      <td>54</td>\n",
       "      <td>156</td>\n",
       "      <td>True</td>\n",
       "    </tr>\n",
       "    <tr>\n",
       "      <th>1148</th>\n",
       "      <td>144</td>\n",
       "      <td>283</td>\n",
       "      <td>25</td>\n",
       "      <td>66</td>\n",
       "      <td>140</td>\n",
       "      <td>False</td>\n",
       "    </tr>\n",
       "    <tr>\n",
       "      <th>1149</th>\n",
       "      <td>116</td>\n",
       "      <td>273</td>\n",
       "      <td>33</td>\n",
       "      <td>66</td>\n",
       "      <td>130</td>\n",
       "      <td>True</td>\n",
       "    </tr>\n",
       "    <tr>\n",
       "      <th>1150</th>\n",
       "      <td>75</td>\n",
       "      <td>265</td>\n",
       "      <td>21</td>\n",
       "      <td>65</td>\n",
       "      <td>103</td>\n",
       "      <td>True</td>\n",
       "    </tr>\n",
       "    <tr>\n",
       "      <th>1151</th>\n",
       "      <td>138</td>\n",
       "      <td>286</td>\n",
       "      <td>28</td>\n",
       "      <td>68</td>\n",
       "      <td>120</td>\n",
       "      <td>False</td>\n",
       "    </tr>\n",
       "    <tr>\n",
       "      <th>1152</th>\n",
       "      <td>99</td>\n",
       "      <td>271</td>\n",
       "      <td>39</td>\n",
       "      <td>69</td>\n",
       "      <td>151</td>\n",
       "      <td>False</td>\n",
       "    </tr>\n",
       "    <tr>\n",
       "      <th>1153</th>\n",
       "      <td>118</td>\n",
       "      <td>293</td>\n",
       "      <td>21</td>\n",
       "      <td>63</td>\n",
       "      <td>103</td>\n",
       "      <td>False</td>\n",
       "    </tr>\n",
       "    <tr>\n",
       "      <th>1154</th>\n",
       "      <td>97</td>\n",
       "      <td>266</td>\n",
       "      <td>24</td>\n",
       "      <td>62</td>\n",
       "      <td>109</td>\n",
       "      <td>False</td>\n",
       "    </tr>\n",
       "    <tr>\n",
       "      <th>1155</th>\n",
       "      <td>146</td>\n",
       "      <td>319</td>\n",
       "      <td>28</td>\n",
       "      <td>66</td>\n",
       "      <td>145</td>\n",
       "      <td>False</td>\n",
       "    </tr>\n",
       "    <tr>\n",
       "      <th>1156</th>\n",
       "      <td>81</td>\n",
       "      <td>285</td>\n",
       "      <td>19</td>\n",
       "      <td>63</td>\n",
       "      <td>150</td>\n",
       "      <td>True</td>\n",
       "    </tr>\n",
       "    <tr>\n",
       "      <th>1157</th>\n",
       "      <td>110</td>\n",
       "      <td>321</td>\n",
       "      <td>28</td>\n",
       "      <td>66</td>\n",
       "      <td>180</td>\n",
       "      <td>False</td>\n",
       "    </tr>\n",
       "    <tr>\n",
       "      <th>1158</th>\n",
       "      <td>135</td>\n",
       "      <td>284</td>\n",
       "      <td>19</td>\n",
       "      <td>60</td>\n",
       "      <td>95</td>\n",
       "      <td>False</td>\n",
       "    </tr>\n",
       "    <tr>\n",
       "      <th>1159</th>\n",
       "      <td>114</td>\n",
       "      <td>290</td>\n",
       "      <td>21</td>\n",
       "      <td>65</td>\n",
       "      <td>120</td>\n",
       "      <td>True</td>\n",
       "    </tr>\n",
       "    <tr>\n",
       "      <th>1160</th>\n",
       "      <td>124</td>\n",
       "      <td>288</td>\n",
       "      <td>21</td>\n",
       "      <td>64</td>\n",
       "      <td>116</td>\n",
       "      <td>True</td>\n",
       "    </tr>\n",
       "    <tr>\n",
       "      <th>1161</th>\n",
       "      <td>115</td>\n",
       "      <td>262</td>\n",
       "      <td>23</td>\n",
       "      <td>64</td>\n",
       "      <td>136</td>\n",
       "      <td>True</td>\n",
       "    </tr>\n",
       "    <tr>\n",
       "      <th>1162</th>\n",
       "      <td>143</td>\n",
       "      <td>281</td>\n",
       "      <td>28</td>\n",
       "      <td>65</td>\n",
       "      <td>135</td>\n",
       "      <td>True</td>\n",
       "    </tr>\n",
       "    <tr>\n",
       "      <th>1163</th>\n",
       "      <td>113</td>\n",
       "      <td>287</td>\n",
       "      <td>29</td>\n",
       "      <td>70</td>\n",
       "      <td>145</td>\n",
       "      <td>True</td>\n",
       "    </tr>\n",
       "    <tr>\n",
       "      <th>1164</th>\n",
       "      <td>109</td>\n",
       "      <td>244</td>\n",
       "      <td>21</td>\n",
       "      <td>63</td>\n",
       "      <td>102</td>\n",
       "      <td>True</td>\n",
       "    </tr>\n",
       "    <tr>\n",
       "      <th>1165</th>\n",
       "      <td>103</td>\n",
       "      <td>278</td>\n",
       "      <td>30</td>\n",
       "      <td>60</td>\n",
       "      <td>87</td>\n",
       "      <td>True</td>\n",
       "    </tr>\n",
       "    <tr>\n",
       "      <th>1166</th>\n",
       "      <td>118</td>\n",
       "      <td>276</td>\n",
       "      <td>34</td>\n",
       "      <td>64</td>\n",
       "      <td>116</td>\n",
       "      <td>False</td>\n",
       "    </tr>\n",
       "    <tr>\n",
       "      <th>1167</th>\n",
       "      <td>127</td>\n",
       "      <td>290</td>\n",
       "      <td>27</td>\n",
       "      <td>65</td>\n",
       "      <td>121</td>\n",
       "      <td>False</td>\n",
       "    </tr>\n",
       "    <tr>\n",
       "      <th>1168</th>\n",
       "      <td>132</td>\n",
       "      <td>270</td>\n",
       "      <td>27</td>\n",
       "      <td>65</td>\n",
       "      <td>126</td>\n",
       "      <td>False</td>\n",
       "    </tr>\n",
       "    <tr>\n",
       "      <th>1169</th>\n",
       "      <td>113</td>\n",
       "      <td>275</td>\n",
       "      <td>27</td>\n",
       "      <td>60</td>\n",
       "      <td>100</td>\n",
       "      <td>False</td>\n",
       "    </tr>\n",
       "    <tr>\n",
       "      <th>1170</th>\n",
       "      <td>128</td>\n",
       "      <td>265</td>\n",
       "      <td>24</td>\n",
       "      <td>67</td>\n",
       "      <td>120</td>\n",
       "      <td>False</td>\n",
       "    </tr>\n",
       "    <tr>\n",
       "      <th>1171</th>\n",
       "      <td>130</td>\n",
       "      <td>291</td>\n",
       "      <td>30</td>\n",
       "      <td>65</td>\n",
       "      <td>150</td>\n",
       "      <td>True</td>\n",
       "    </tr>\n",
       "    <tr>\n",
       "      <th>1172</th>\n",
       "      <td>125</td>\n",
       "      <td>281</td>\n",
       "      <td>21</td>\n",
       "      <td>65</td>\n",
       "      <td>110</td>\n",
       "      <td>False</td>\n",
       "    </tr>\n",
       "    <tr>\n",
       "      <th>1173</th>\n",
       "      <td>117</td>\n",
       "      <td>297</td>\n",
       "      <td>38</td>\n",
       "      <td>65</td>\n",
       "      <td>129</td>\n",
       "      <td>False</td>\n",
       "    </tr>\n",
       "  </tbody>\n",
       "</table>\n",
       "<p>1174 rows × 6 columns</p>\n",
       "</div>"
      ],
      "text/plain": [
       "      Birth.Weight  Gestational.Days  Maternal.Age  Maternal.Height  \\\n",
       "0              120               284            27               62   \n",
       "1              113               282            33               64   \n",
       "2              128               279            28               64   \n",
       "3              108               282            23               67   \n",
       "4              136               286            25               62   \n",
       "...            ...               ...           ...              ...   \n",
       "1169           113               275            27               60   \n",
       "1170           128               265            24               67   \n",
       "1171           130               291            30               65   \n",
       "1172           125               281            21               65   \n",
       "1173           117               297            38               65   \n",
       "\n",
       "      Maternal.Pregnancy.Weight  Maternal.Smoker  \n",
       "0                           100            False  \n",
       "1                           135            False  \n",
       "2                           115             True  \n",
       "3                           125             True  \n",
       "4                            93            False  \n",
       "...                         ...              ...  \n",
       "1169                        100            False  \n",
       "1170                        120            False  \n",
       "1171                        150             True  \n",
       "1172                        110            False  \n",
       "1173                        129            False  \n",
       "\n",
       "[1174 rows x 6 columns]"
      ]
     },
     "execution_count": 11,
     "metadata": {},
     "output_type": "execute_result"
    }
   ],
   "source": [
    "# pandas\n",
    "baby_df.head()"
   ]
  },
  {
   "cell_type": "markdown",
   "metadata": {
    "cell_id": "8728b2bb-5077-4f0e-8f5c-2207a209e39b",
    "deepnote_cell_type": "markdown",
    "tags": []
   },
   "source": [
    "The number of rows in the `Table` can be found as such:"
   ]
  },
  {
   "cell_type": "code",
   "execution_count": null,
   "metadata": {
    "cell_id": "295fe502-0793-4ba3-a6e2-e8432710dd4e",
    "deepnote_cell_type": "code",
    "tags": []
   },
   "outputs": [
    {
     "data": {
      "text/plain": [
       "1174"
      ]
     },
     "execution_count": 16,
     "metadata": {},
     "output_type": "execute_result"
    }
   ],
   "source": [
    "# datascience\n",
    "baby_tbl.num_rows"
   ]
  },
  {
   "cell_type": "markdown",
   "metadata": {
    "cell_id": "ca9eb869-9a78-46ea-934a-1d33e2ea3c12",
    "deepnote_cell_type": "markdown",
    "tags": []
   },
   "source": [
    "Similarly, for the number of columns:"
   ]
  },
  {
   "cell_type": "code",
   "execution_count": null,
   "metadata": {
    "cell_id": "8725f192-5a91-4f9b-97ad-983aec68fc58",
    "deepnote_cell_type": "code",
    "tags": []
   },
   "outputs": [
    {
     "data": {
      "text/plain": [
       "6"
      ]
     },
     "execution_count": 17,
     "metadata": {},
     "output_type": "execute_result"
    }
   ],
   "source": [
    "# datascience\n",
    "baby_tbl.num_columns"
   ]
  },
  {
   "cell_type": "markdown",
   "metadata": {
    "cell_id": "bced6eff-01c1-4f6a-a53e-efa36e9fbda8",
    "deepnote_cell_type": "markdown",
    "tags": []
   },
   "source": [
    "The number of rows and columns in a `DataFrame` can be accessed together using the  `.shape` attribute. \n",
    "Notice that the index is not counted as a column."
   ]
  },
  {
   "cell_type": "code",
   "execution_count": null,
   "metadata": {
    "cell_id": "548b0347-8bfd-4776-bed2-9e5e797a3756",
    "deepnote_cell_type": "code",
    "tags": []
   },
   "outputs": [
    {
     "data": {
      "text/plain": [
       "(1174, 6)"
      ]
     },
     "execution_count": 18,
     "metadata": {},
     "output_type": "execute_result"
    }
   ],
   "source": [
    "# pandas\n",
    "baby_df.shape"
   ]
  },
  {
   "cell_type": "markdown",
   "metadata": {
    "cell_id": "90e4a8b7-e764-40d5-8f51-45a0f0f1b565",
    "deepnote_cell_type": "markdown",
    "tags": []
   },
   "source": [
    "To get just the number of rows, we want the 0th element."
   ]
  },
  {
   "cell_type": "code",
   "execution_count": null,
   "metadata": {
    "cell_id": "4739d819-af18-42ac-950d-2de2e648b02c",
    "deepnote_cell_type": "code",
    "tags": []
   },
   "outputs": [
    {
     "data": {
      "text/plain": [
       "1174"
      ]
     },
     "execution_count": 34,
     "metadata": {},
     "output_type": "execute_result"
    }
   ],
   "source": [
    "# pandas\n",
    "baby_df.shape[0]"
   ]
  },
  {
   "cell_type": "markdown",
   "metadata": {
    "cell_id": "0c6a9ed0-2688-4bcc-88f3-c546de3084fa",
    "deepnote_cell_type": "markdown",
    "tags": []
   },
   "source": [
    "For just the number of columns, we want the 1st element."
   ]
  },
  {
   "cell_type": "code",
   "execution_count": null,
   "metadata": {
    "cell_id": "06269c30-0f62-4a33-877b-aecd60a83a31",
    "deepnote_cell_type": "code",
    "tags": []
   },
   "outputs": [
    {
     "data": {
      "text/plain": [
       "6"
      ]
     },
     "execution_count": 33,
     "metadata": {},
     "output_type": "execute_result"
    }
   ],
   "source": [
    "# pandas\n",
    "baby_df.shape[1]"
   ]
  },
  {
   "cell_type": "markdown",
   "metadata": {
    "cell_id": "a455a1ba-2c17-4ae2-9df8-6cbc6896c6d6",
    "deepnote_cell_type": "markdown",
    "tags": []
   },
   "source": [
    "### Indices"
   ]
  },
  {
   "cell_type": "markdown",
   "metadata": {
    "cell_id": "07027392-ad08-4f29-ac6c-5acd02856d4e",
    "deepnote_cell_type": "markdown",
    "tags": []
   },
   "source": [
    "The row labels of a `DataFrame` are collectively called the index. \n",
    "It helps to identify each row. \n",
    "By default, the index values are the row numbers, with the first row having index 0."
   ]
  },
  {
   "cell_type": "code",
   "execution_count": null,
   "metadata": {
    "cell_id": "f146a2b5-6713-45e5-90df-c85f77d134fc",
    "deepnote_cell_type": "code",
    "tags": []
   },
   "outputs": [
    {
     "data": {
      "application/vnd.deepnote.dataframe+json": {
       "numColumns": 6,
       "numElements": 5,
       "variableDetails": {
        "columns": [
         {
          "name": "Birth.Weight",
          "stats": {
           "25%": 113,
           "50%": 120,
           "75%": 128,
           "count": 5,
           "max": 136,
           "mean": 121,
           "min": 108,
           "nan_count": 0,
           "std": 11.269427669584644
          }
         },
         {
          "name": "Gestational.Days",
          "stats": {
           "25%": 282,
           "50%": 282,
           "75%": 284,
           "count": 5,
           "max": 286,
           "mean": 282.6,
           "min": 279,
           "nan_count": 0,
           "std": 2.6076809620810595
          }
         },
         {
          "name": "Maternal.Age",
          "stats": {
           "25%": 25,
           "50%": 27,
           "75%": 28,
           "count": 5,
           "max": 33,
           "mean": 27.2,
           "min": 23,
           "nan_count": 0,
           "std": 3.7682887362833544
          }
         },
         {
          "name": "Maternal.Height",
          "stats": {
           "25%": 62,
           "50%": 64,
           "75%": 64,
           "count": 5,
           "max": 67,
           "mean": 63.8,
           "min": 62,
           "nan_count": 0,
           "std": 2.0493901531919194
          }
         },
         {
          "name": "Maternal.Pregnancy.Weight",
          "stats": {
           "25%": 100,
           "50%": 115,
           "75%": 125,
           "count": 5,
           "max": 135,
           "mean": 113.6,
           "min": 93,
           "nan_count": 0,
           "std": 17.314733610425545
          }
         },
         {
          "name": "Maternal.Smoker",
          "stats": {
           "count": 5,
           "freq": 3,
           "nan_count": 0,
           "top": false,
           "unique": 2
          }
         }
        ],
        "dataframe": {
         "0": {
          "Birth.Weight": 120,
          "Gestational.Days": 284,
          "Maternal.Age": 27,
          "Maternal.Height": 62,
          "Maternal.Pregnancy.Weight": 100,
          "Maternal.Smoker": false
         },
         "1": {
          "Birth.Weight": 113,
          "Gestational.Days": 282,
          "Maternal.Age": 33,
          "Maternal.Height": 64,
          "Maternal.Pregnancy.Weight": 135,
          "Maternal.Smoker": false
         },
         "2": {
          "Birth.Weight": 128,
          "Gestational.Days": 279,
          "Maternal.Age": 28,
          "Maternal.Height": 64,
          "Maternal.Pregnancy.Weight": 115,
          "Maternal.Smoker": true
         },
         "3": {
          "Birth.Weight": 108,
          "Gestational.Days": 282,
          "Maternal.Age": 23,
          "Maternal.Height": 67,
          "Maternal.Pregnancy.Weight": 125,
          "Maternal.Smoker": true
         },
         "4": {
          "Birth.Weight": 136,
          "Gestational.Days": 286,
          "Maternal.Age": 25,
          "Maternal.Height": 62,
          "Maternal.Pregnancy.Weight": 93,
          "Maternal.Smoker": false
         }
        },
        "frequencyInfo": [
         {
          "frequencyData": [
           {
            "x": 108,
            "y": 1
           },
           {
            "x": 110.8,
            "y": 1
           },
           {
            "x": 113.6,
            "y": 0
           },
           {
            "x": 116.4,
            "y": 0
           },
           {
            "x": 119.2,
            "y": 1
           },
           {
            "x": 122,
            "y": 0
           },
           {
            "x": 124.8,
            "y": 0
           },
           {
            "x": 127.6,
            "y": 1
           },
           {
            "x": 130.4,
            "y": 0
           },
           {
            "x": 133.2,
            "y": 1
           }
          ],
          "type": "hist"
         },
         {
          "frequencyData": [
           {
            "x": 279,
            "y": 1
           },
           {
            "x": 279.7,
            "y": 0
           },
           {
            "x": 280.4,
            "y": 0
           },
           {
            "x": 281.1,
            "y": 0
           },
           {
            "x": 281.8,
            "y": 2
           },
           {
            "x": 282.5,
            "y": 0
           },
           {
            "x": 283.2,
            "y": 0
           },
           {
            "x": 283.9,
            "y": 1
           },
           {
            "x": 284.6,
            "y": 0
           },
           {
            "x": 285.3,
            "y": 1
           }
          ],
          "type": "hist"
         },
         {
          "frequencyData": [
           {
            "x": 23,
            "y": 1
           },
           {
            "x": 24,
            "y": 0
           },
           {
            "x": 25,
            "y": 1
           },
           {
            "x": 26,
            "y": 0
           },
           {
            "x": 27,
            "y": 1
           },
           {
            "x": 28,
            "y": 1
           },
           {
            "x": 29,
            "y": 0
           },
           {
            "x": 30,
            "y": 0
           },
           {
            "x": 31,
            "y": 0
           },
           {
            "x": 32,
            "y": 1
           }
          ],
          "type": "hist"
         },
         {
          "frequencyData": [
           {
            "x": 62,
            "y": 2
           },
           {
            "x": 62.5,
            "y": 0
           },
           {
            "x": 63,
            "y": 0
           },
           {
            "x": 63.5,
            "y": 0
           },
           {
            "x": 64,
            "y": 2
           },
           {
            "x": 64.5,
            "y": 0
           },
           {
            "x": 65,
            "y": 0
           },
           {
            "x": 65.5,
            "y": 0
           },
           {
            "x": 66,
            "y": 0
           },
           {
            "x": 66.5,
            "y": 1
           }
          ],
          "type": "hist"
         },
         {
          "frequencyData": [
           {
            "x": 93,
            "y": 1
           },
           {
            "x": 97.2,
            "y": 1
           },
           {
            "x": 101.4,
            "y": 0
           },
           {
            "x": 105.6,
            "y": 0
           },
           {
            "x": 109.8,
            "y": 0
           },
           {
            "x": 114,
            "y": 1
           },
           {
            "x": 118.2,
            "y": 0
           },
           {
            "x": 122.4,
            "y": 1
           },
           {
            "x": 126.6,
            "y": 0
           },
           {
            "x": 130.8,
            "y": 1
           }
          ],
          "type": "hist"
         },
         {
          "frequencyData": [
           {
            "x": 0,
            "y": 3
           },
           {
            "x": 0.1,
            "y": 0
           },
           {
            "x": 0.2,
            "y": 0
           },
           {
            "x": 0.30000000000000004,
            "y": 0
           },
           {
            "x": 0.4,
            "y": 0
           },
           {
            "x": 0.5,
            "y": 0
           },
           {
            "x": 0.6000000000000001,
            "y": 0
           },
           {
            "x": 0.7000000000000001,
            "y": 0
           },
           {
            "x": 0.8,
            "y": 0
           },
           {
            "x": 0.9,
            "y": 2
           }
          ],
          "type": "hist"
         }
        ]
       }
      },
      "text/html": [
       "<div>\n",
       "<style scoped>\n",
       "    .dataframe tbody tr th:only-of-type {\n",
       "        vertical-align: middle;\n",
       "    }\n",
       "\n",
       "    .dataframe tbody tr th {\n",
       "        vertical-align: top;\n",
       "    }\n",
       "\n",
       "    .dataframe thead th {\n",
       "        text-align: right;\n",
       "    }\n",
       "</style>\n",
       "<table border=\"1\" class=\"dataframe\">\n",
       "  <thead>\n",
       "    <tr style=\"text-align: right;\">\n",
       "      <th></th>\n",
       "      <th>Birth.Weight</th>\n",
       "      <th>Gestational.Days</th>\n",
       "      <th>Maternal.Age</th>\n",
       "      <th>Maternal.Height</th>\n",
       "      <th>Maternal.Pregnancy.Weight</th>\n",
       "      <th>Maternal.Smoker</th>\n",
       "    </tr>\n",
       "  </thead>\n",
       "  <tbody>\n",
       "    <tr>\n",
       "      <th>0</th>\n",
       "      <td>120</td>\n",
       "      <td>284</td>\n",
       "      <td>27</td>\n",
       "      <td>62</td>\n",
       "      <td>100</td>\n",
       "      <td>False</td>\n",
       "    </tr>\n",
       "    <tr>\n",
       "      <th>1</th>\n",
       "      <td>113</td>\n",
       "      <td>282</td>\n",
       "      <td>33</td>\n",
       "      <td>64</td>\n",
       "      <td>135</td>\n",
       "      <td>False</td>\n",
       "    </tr>\n",
       "    <tr>\n",
       "      <th>2</th>\n",
       "      <td>128</td>\n",
       "      <td>279</td>\n",
       "      <td>28</td>\n",
       "      <td>64</td>\n",
       "      <td>115</td>\n",
       "      <td>True</td>\n",
       "    </tr>\n",
       "    <tr>\n",
       "      <th>3</th>\n",
       "      <td>108</td>\n",
       "      <td>282</td>\n",
       "      <td>23</td>\n",
       "      <td>67</td>\n",
       "      <td>125</td>\n",
       "      <td>True</td>\n",
       "    </tr>\n",
       "    <tr>\n",
       "      <th>4</th>\n",
       "      <td>136</td>\n",
       "      <td>286</td>\n",
       "      <td>25</td>\n",
       "      <td>62</td>\n",
       "      <td>93</td>\n",
       "      <td>False</td>\n",
       "    </tr>\n",
       "  </tbody>\n",
       "</table>\n",
       "</div>"
      ],
      "text/plain": [
       "   Birth.Weight  Gestational.Days  Maternal.Age  Maternal.Height  \\\n",
       "0           120               284            27               62   \n",
       "1           113               282            33               64   \n",
       "2           128               279            28               64   \n",
       "3           108               282            23               67   \n",
       "4           136               286            25               62   \n",
       "\n",
       "   Maternal.Pregnancy.Weight  Maternal.Smoker  \n",
       "0                        100            False  \n",
       "1                        135            False  \n",
       "2                        115             True  \n",
       "3                        125             True  \n",
       "4                         93            False  "
      ]
     },
     "execution_count": 35,
     "metadata": {},
     "output_type": "execute_result"
    }
   ],
   "source": [
    "# pandas\n",
    "baby_df.head()"
   ]
  },
  {
   "cell_type": "markdown",
   "metadata": {
    "cell_id": "d0eaa07c-b5d9-4c9d-b814-8fdaef1de43c",
    "deepnote_cell_type": "markdown",
    "tags": []
   },
   "source": [
    "We can access the index of a `DataFrame` by calling `DataFrame.index`."
   ]
  },
  {
   "cell_type": "code",
   "execution_count": null,
   "metadata": {
    "cell_id": "4672bf65-e234-43c3-b005-0a656f661cb7",
    "deepnote_cell_type": "code",
    "tags": []
   },
   "outputs": [
    {
     "data": {
      "text/plain": [
       "RangeIndex(start=0, stop=1174, step=1)"
      ]
     },
     "execution_count": 79,
     "metadata": {},
     "output_type": "execute_result"
    }
   ],
   "source": [
    "baby_df.index"
   ]
  },
  {
   "cell_type": "markdown",
   "metadata": {
    "cell_id": "9ba0f920-80aa-4945-b8bc-33c8e36df1f5",
    "deepnote_cell_type": "markdown",
    "tags": []
   },
   "source": [
    "That doesn't seem too meaningful. \n",
    "We can access the values of the index using `.values`."
   ]
  },
  {
   "cell_type": "code",
   "execution_count": null,
   "metadata": {
    "cell_id": "ad1306d7-1561-4667-a4b7-8bf2d0d12c2c",
    "deepnote_cell_type": "code",
    "tags": []
   },
   "outputs": [
    {
     "data": {
      "text/plain": [
       "array([   0,    1,    2, ..., 1171, 1172, 1173])"
      ]
     },
     "execution_count": 36,
     "metadata": {},
     "output_type": "execute_result"
    }
   ],
   "source": [
    "# pandas\n",
    "baby_df.index.values"
   ]
  },
  {
   "cell_type": "markdown",
   "metadata": {
    "cell_id": "f8ee088d-661f-4a67-81f8-72da770d3104",
    "deepnote_cell_type": "markdown",
    "tags": []
   },
   "source": [
    "In addition, we can set the index to whatever we want it to be. \n",
    "So, instead of index going from 0 to 1173, we can change it to go from 1 to 1174."
   ]
  },
  {
   "cell_type": "code",
   "execution_count": null,
   "metadata": {
    "cell_id": "63e4e4d6-6c9b-4ba4-b08f-2d1ac050ebaf",
    "deepnote_cell_type": "code",
    "tags": []
   },
   "outputs": [
    {
     "data": {
      "application/vnd.deepnote.dataframe+json": {
       "numColumns": 6,
       "numElements": 1174,
       "variableDetails": {
        "columns": [
         {
          "name": "Birth.Weight",
          "stats": {
           "25%": 108,
           "50%": 120,
           "75%": 131,
           "count": 1174,
           "max": 176,
           "mean": 119.46252129471891,
           "min": 55,
           "nan_count": 0,
           "std": 18.32867144332099
          }
         },
         {
          "name": "Gestational.Days",
          "stats": {
           "25%": 272,
           "50%": 280,
           "75%": 288,
           "count": 1174,
           "max": 353,
           "mean": 279.1013628620102,
           "min": 148,
           "nan_count": 0,
           "std": 16.0103051271294
          }
         },
         {
          "name": "Maternal.Age",
          "stats": {
           "25%": 23,
           "50%": 26,
           "75%": 31,
           "count": 1174,
           "max": 45,
           "mean": 27.228279386712096,
           "min": 15,
           "nan_count": 0,
           "std": 5.817838716855793
          }
         },
         {
          "name": "Maternal.Height",
          "stats": {
           "25%": 62,
           "50%": 64,
           "75%": 66,
           "count": 1174,
           "max": 72,
           "mean": 64.04940374787053,
           "min": 53,
           "nan_count": 0,
           "std": 2.5261015226020382
          }
         },
         {
          "name": "Maternal.Pregnancy.Weight",
          "stats": {
           "25%": 114.25,
           "50%": 125,
           "75%": 139,
           "count": 1174,
           "max": 250,
           "mean": 128.4787052810903,
           "min": 87,
           "nan_count": 0,
           "std": 20.73428219976096
          }
         },
         {
          "name": "Maternal.Smoker",
          "stats": {
           "count": 1174,
           "freq": 715,
           "nan_count": 0,
           "top": false,
           "unique": 2
          }
         }
        ],
        "dataframe": {
         "1067": {
          "Birth.Weight": 163,
          "Gestational.Days": 298,
          "Maternal.Age": 37,
          "Maternal.Height": 61,
          "Maternal.Pregnancy.Weight": 98,
          "Maternal.Smoker": false
         },
         "1108": {
          "Birth.Weight": 112,
          "Gestational.Days": 268,
          "Maternal.Age": 25,
          "Maternal.Height": 59,
          "Maternal.Pregnancy.Weight": 103,
          "Maternal.Smoker": false
         },
         "209": {
          "Birth.Weight": 115,
          "Gestational.Days": 268,
          "Maternal.Age": 28,
          "Maternal.Height": 66,
          "Maternal.Pregnancy.Weight": 128,
          "Maternal.Smoker": false
         },
         "411": {
          "Birth.Weight": 116,
          "Gestational.Days": 293,
          "Maternal.Age": 28,
          "Maternal.Height": 62,
          "Maternal.Pregnancy.Weight": 108,
          "Maternal.Smoker": false
         },
         "431": {
          "Birth.Weight": 68,
          "Gestational.Days": 223,
          "Maternal.Age": 32,
          "Maternal.Height": 66,
          "Maternal.Pregnancy.Weight": 149,
          "Maternal.Smoker": true
         },
         "59": {
          "Birth.Weight": 124,
          "Gestational.Days": 288,
          "Maternal.Age": 22,
          "Maternal.Height": 67,
          "Maternal.Pregnancy.Weight": 118,
          "Maternal.Smoker": false
         },
         "666": {
          "Birth.Weight": 120,
          "Gestational.Days": 294,
          "Maternal.Age": 23,
          "Maternal.Height": 66,
          "Maternal.Pregnancy.Weight": 128,
          "Maternal.Smoker": true
         },
         "676": {
          "Birth.Weight": 117,
          "Gestational.Days": 298,
          "Maternal.Age": 22,
          "Maternal.Height": 64,
          "Maternal.Pregnancy.Weight": 160,
          "Maternal.Smoker": false
         },
         "812": {
          "Birth.Weight": 124,
          "Gestational.Days": 284,
          "Maternal.Age": 17,
          "Maternal.Height": 62,
          "Maternal.Pregnancy.Weight": 112,
          "Maternal.Smoker": false
         },
         "833": {
          "Birth.Weight": 87,
          "Gestational.Days": 275,
          "Maternal.Age": 28,
          "Maternal.Height": 63,
          "Maternal.Pregnancy.Weight": 110,
          "Maternal.Smoker": true
         }
        },
        "frequencyInfo": [
         {
          "frequencyData": [
           {
            "x": 55,
            "y": 6
           },
           {
            "x": 67.1,
            "y": 20
           },
           {
            "x": 79.2,
            "y": 52
           },
           {
            "x": 91.3,
            "y": 142
           },
           {
            "x": 103.4,
            "y": 247
           },
           {
            "x": 115.5,
            "y": 325
           },
           {
            "x": 127.6,
            "y": 237
           },
           {
            "x": 139.7,
            "y": 98
           },
           {
            "x": 151.8,
            "y": 36
           },
           {
            "x": 163.89999999999998,
            "y": 11
           }
          ],
          "type": "hist"
         },
         {
          "frequencyData": [
           {
            "x": 148,
            "y": 1
           },
           {
            "x": 168.5,
            "y": 1
           },
           {
            "x": 189,
            "y": 1
           },
           {
            "x": 209.5,
            "y": 6
           },
           {
            "x": 230,
            "y": 47
           },
           {
            "x": 250.5,
            "y": 200
           },
           {
            "x": 271,
            "y": 725
           },
           {
            "x": 291.5,
            "y": 166
           },
           {
            "x": 312,
            "y": 24
           },
           {
            "x": 332.5,
            "y": 3
           }
          ],
          "type": "hist"
         },
         {
          "frequencyData": [
           {
            "x": 15,
            "y": 8
           },
           {
            "x": 18,
            "y": 121
           },
           {
            "x": 21,
            "y": 232
           },
           {
            "x": 24,
            "y": 240
           },
           {
            "x": 27,
            "y": 205
           },
           {
            "x": 30,
            "y": 138
           },
           {
            "x": 33,
            "y": 102
           },
           {
            "x": 36,
            "y": 69
           },
           {
            "x": 39,
            "y": 47
           },
           {
            "x": 42,
            "y": 12
           }
          ],
          "type": "hist"
         },
         {
          "frequencyData": [
           {
            "x": 53,
            "y": 2
           },
           {
            "x": 54.9,
            "y": 1
           },
           {
            "x": 56.8,
            "y": 11
           },
           {
            "x": 58.7,
            "y": 78
           },
           {
            "x": 60.6,
            "y": 226
           },
           {
            "x": 62.5,
            "y": 340
           },
           {
            "x": 64.4,
            "y": 324
           },
           {
            "x": 66.3,
            "y": 154
           },
           {
            "x": 68.2,
            "y": 32
           },
           {
            "x": 70.1,
            "y": 6
           }
          ],
          "type": "hist"
         },
         {
          "frequencyData": [
           {
            "x": 87,
            "y": 84
           },
           {
            "x": 103.3,
            "y": 327
           },
           {
            "x": 119.6,
            "y": 435
           },
           {
            "x": 135.9,
            "y": 200
           },
           {
            "x": 152.2,
            "y": 69
           },
           {
            "x": 168.5,
            "y": 36
           },
           {
            "x": 184.8,
            "y": 14
           },
           {
            "x": 201.10000000000002,
            "y": 7
           },
           {
            "x": 217.4,
            "y": 1
           },
           {
            "x": 233.70000000000002,
            "y": 1
           }
          ],
          "type": "hist"
         },
         {
          "frequencyData": [
           {
            "x": 0,
            "y": 715
           },
           {
            "x": 0.1,
            "y": 0
           },
           {
            "x": 0.2,
            "y": 0
           },
           {
            "x": 0.30000000000000004,
            "y": 0
           },
           {
            "x": 0.4,
            "y": 0
           },
           {
            "x": 0.5,
            "y": 0
           },
           {
            "x": 0.6000000000000001,
            "y": 0
           },
           {
            "x": 0.7000000000000001,
            "y": 0
           },
           {
            "x": 0.8,
            "y": 0
           },
           {
            "x": 0.9,
            "y": 459
           }
          ],
          "type": "hist"
         }
        ]
       }
      },
      "text/html": [
       "<div>\n",
       "<style scoped>\n",
       "    .dataframe tbody tr th:only-of-type {\n",
       "        vertical-align: middle;\n",
       "    }\n",
       "\n",
       "    .dataframe tbody tr th {\n",
       "        vertical-align: top;\n",
       "    }\n",
       "\n",
       "    .dataframe thead th {\n",
       "        text-align: right;\n",
       "    }\n",
       "</style>\n",
       "<table border=\"1\" class=\"dataframe\">\n",
       "  <thead>\n",
       "    <tr style=\"text-align: right;\">\n",
       "      <th></th>\n",
       "      <th>Birth.Weight</th>\n",
       "      <th>Gestational.Days</th>\n",
       "      <th>Maternal.Age</th>\n",
       "      <th>Maternal.Height</th>\n",
       "      <th>Maternal.Pregnancy.Weight</th>\n",
       "      <th>Maternal.Smoker</th>\n",
       "    </tr>\n",
       "  </thead>\n",
       "  <tbody>\n",
       "    <tr>\n",
       "      <th>1</th>\n",
       "      <td>120</td>\n",
       "      <td>284</td>\n",
       "      <td>27</td>\n",
       "      <td>62</td>\n",
       "      <td>100</td>\n",
       "      <td>False</td>\n",
       "    </tr>\n",
       "    <tr>\n",
       "      <th>2</th>\n",
       "      <td>113</td>\n",
       "      <td>282</td>\n",
       "      <td>33</td>\n",
       "      <td>64</td>\n",
       "      <td>135</td>\n",
       "      <td>False</td>\n",
       "    </tr>\n",
       "    <tr>\n",
       "      <th>3</th>\n",
       "      <td>128</td>\n",
       "      <td>279</td>\n",
       "      <td>28</td>\n",
       "      <td>64</td>\n",
       "      <td>115</td>\n",
       "      <td>True</td>\n",
       "    </tr>\n",
       "    <tr>\n",
       "      <th>4</th>\n",
       "      <td>108</td>\n",
       "      <td>282</td>\n",
       "      <td>23</td>\n",
       "      <td>67</td>\n",
       "      <td>125</td>\n",
       "      <td>True</td>\n",
       "    </tr>\n",
       "    <tr>\n",
       "      <th>5</th>\n",
       "      <td>136</td>\n",
       "      <td>286</td>\n",
       "      <td>25</td>\n",
       "      <td>62</td>\n",
       "      <td>93</td>\n",
       "      <td>False</td>\n",
       "    </tr>\n",
       "    <tr>\n",
       "      <th>6</th>\n",
       "      <td>138</td>\n",
       "      <td>244</td>\n",
       "      <td>33</td>\n",
       "      <td>62</td>\n",
       "      <td>178</td>\n",
       "      <td>False</td>\n",
       "    </tr>\n",
       "    <tr>\n",
       "      <th>7</th>\n",
       "      <td>132</td>\n",
       "      <td>245</td>\n",
       "      <td>23</td>\n",
       "      <td>65</td>\n",
       "      <td>140</td>\n",
       "      <td>False</td>\n",
       "    </tr>\n",
       "    <tr>\n",
       "      <th>8</th>\n",
       "      <td>120</td>\n",
       "      <td>289</td>\n",
       "      <td>25</td>\n",
       "      <td>62</td>\n",
       "      <td>125</td>\n",
       "      <td>False</td>\n",
       "    </tr>\n",
       "    <tr>\n",
       "      <th>9</th>\n",
       "      <td>143</td>\n",
       "      <td>299</td>\n",
       "      <td>30</td>\n",
       "      <td>66</td>\n",
       "      <td>136</td>\n",
       "      <td>True</td>\n",
       "    </tr>\n",
       "    <tr>\n",
       "      <th>10</th>\n",
       "      <td>140</td>\n",
       "      <td>351</td>\n",
       "      <td>27</td>\n",
       "      <td>68</td>\n",
       "      <td>120</td>\n",
       "      <td>False</td>\n",
       "    </tr>\n",
       "    <tr>\n",
       "      <th>11</th>\n",
       "      <td>144</td>\n",
       "      <td>282</td>\n",
       "      <td>32</td>\n",
       "      <td>64</td>\n",
       "      <td>124</td>\n",
       "      <td>True</td>\n",
       "    </tr>\n",
       "    <tr>\n",
       "      <th>12</th>\n",
       "      <td>141</td>\n",
       "      <td>279</td>\n",
       "      <td>23</td>\n",
       "      <td>63</td>\n",
       "      <td>128</td>\n",
       "      <td>True</td>\n",
       "    </tr>\n",
       "    <tr>\n",
       "      <th>13</th>\n",
       "      <td>110</td>\n",
       "      <td>281</td>\n",
       "      <td>36</td>\n",
       "      <td>61</td>\n",
       "      <td>99</td>\n",
       "      <td>True</td>\n",
       "    </tr>\n",
       "    <tr>\n",
       "      <th>14</th>\n",
       "      <td>114</td>\n",
       "      <td>273</td>\n",
       "      <td>30</td>\n",
       "      <td>63</td>\n",
       "      <td>154</td>\n",
       "      <td>False</td>\n",
       "    </tr>\n",
       "    <tr>\n",
       "      <th>15</th>\n",
       "      <td>115</td>\n",
       "      <td>285</td>\n",
       "      <td>38</td>\n",
       "      <td>63</td>\n",
       "      <td>130</td>\n",
       "      <td>False</td>\n",
       "    </tr>\n",
       "    <tr>\n",
       "      <th>16</th>\n",
       "      <td>92</td>\n",
       "      <td>255</td>\n",
       "      <td>25</td>\n",
       "      <td>65</td>\n",
       "      <td>125</td>\n",
       "      <td>True</td>\n",
       "    </tr>\n",
       "    <tr>\n",
       "      <th>17</th>\n",
       "      <td>115</td>\n",
       "      <td>261</td>\n",
       "      <td>33</td>\n",
       "      <td>60</td>\n",
       "      <td>125</td>\n",
       "      <td>True</td>\n",
       "    </tr>\n",
       "    <tr>\n",
       "      <th>18</th>\n",
       "      <td>144</td>\n",
       "      <td>261</td>\n",
       "      <td>33</td>\n",
       "      <td>68</td>\n",
       "      <td>170</td>\n",
       "      <td>False</td>\n",
       "    </tr>\n",
       "    <tr>\n",
       "      <th>19</th>\n",
       "      <td>119</td>\n",
       "      <td>288</td>\n",
       "      <td>43</td>\n",
       "      <td>66</td>\n",
       "      <td>142</td>\n",
       "      <td>True</td>\n",
       "    </tr>\n",
       "    <tr>\n",
       "      <th>20</th>\n",
       "      <td>105</td>\n",
       "      <td>270</td>\n",
       "      <td>22</td>\n",
       "      <td>56</td>\n",
       "      <td>93</td>\n",
       "      <td>False</td>\n",
       "    </tr>\n",
       "    <tr>\n",
       "      <th>21</th>\n",
       "      <td>115</td>\n",
       "      <td>274</td>\n",
       "      <td>27</td>\n",
       "      <td>67</td>\n",
       "      <td>175</td>\n",
       "      <td>True</td>\n",
       "    </tr>\n",
       "    <tr>\n",
       "      <th>22</th>\n",
       "      <td>137</td>\n",
       "      <td>287</td>\n",
       "      <td>25</td>\n",
       "      <td>66</td>\n",
       "      <td>145</td>\n",
       "      <td>False</td>\n",
       "    </tr>\n",
       "    <tr>\n",
       "      <th>23</th>\n",
       "      <td>122</td>\n",
       "      <td>276</td>\n",
       "      <td>30</td>\n",
       "      <td>68</td>\n",
       "      <td>182</td>\n",
       "      <td>False</td>\n",
       "    </tr>\n",
       "    <tr>\n",
       "      <th>24</th>\n",
       "      <td>131</td>\n",
       "      <td>294</td>\n",
       "      <td>23</td>\n",
       "      <td>65</td>\n",
       "      <td>122</td>\n",
       "      <td>False</td>\n",
       "    </tr>\n",
       "    <tr>\n",
       "      <th>25</th>\n",
       "      <td>103</td>\n",
       "      <td>261</td>\n",
       "      <td>27</td>\n",
       "      <td>65</td>\n",
       "      <td>112</td>\n",
       "      <td>True</td>\n",
       "    </tr>\n",
       "    <tr>\n",
       "      <th>26</th>\n",
       "      <td>146</td>\n",
       "      <td>280</td>\n",
       "      <td>26</td>\n",
       "      <td>58</td>\n",
       "      <td>106</td>\n",
       "      <td>False</td>\n",
       "    </tr>\n",
       "    <tr>\n",
       "      <th>27</th>\n",
       "      <td>114</td>\n",
       "      <td>266</td>\n",
       "      <td>20</td>\n",
       "      <td>65</td>\n",
       "      <td>175</td>\n",
       "      <td>True</td>\n",
       "    </tr>\n",
       "    <tr>\n",
       "      <th>28</th>\n",
       "      <td>125</td>\n",
       "      <td>292</td>\n",
       "      <td>32</td>\n",
       "      <td>65</td>\n",
       "      <td>125</td>\n",
       "      <td>False</td>\n",
       "    </tr>\n",
       "    <tr>\n",
       "      <th>29</th>\n",
       "      <td>114</td>\n",
       "      <td>274</td>\n",
       "      <td>28</td>\n",
       "      <td>66</td>\n",
       "      <td>132</td>\n",
       "      <td>True</td>\n",
       "    </tr>\n",
       "    <tr>\n",
       "      <th>30</th>\n",
       "      <td>122</td>\n",
       "      <td>270</td>\n",
       "      <td>26</td>\n",
       "      <td>61</td>\n",
       "      <td>105</td>\n",
       "      <td>False</td>\n",
       "    </tr>\n",
       "    <tr>\n",
       "      <th>...</th>\n",
       "      <td>...</td>\n",
       "      <td>...</td>\n",
       "      <td>...</td>\n",
       "      <td>...</td>\n",
       "      <td>...</td>\n",
       "      <td>...</td>\n",
       "    </tr>\n",
       "    <tr>\n",
       "      <th>1145</th>\n",
       "      <td>114</td>\n",
       "      <td>266</td>\n",
       "      <td>29</td>\n",
       "      <td>64</td>\n",
       "      <td>113</td>\n",
       "      <td>False</td>\n",
       "    </tr>\n",
       "    <tr>\n",
       "      <th>1146</th>\n",
       "      <td>127</td>\n",
       "      <td>242</td>\n",
       "      <td>17</td>\n",
       "      <td>61</td>\n",
       "      <td>135</td>\n",
       "      <td>True</td>\n",
       "    </tr>\n",
       "    <tr>\n",
       "      <th>1147</th>\n",
       "      <td>87</td>\n",
       "      <td>247</td>\n",
       "      <td>18</td>\n",
       "      <td>66</td>\n",
       "      <td>125</td>\n",
       "      <td>True</td>\n",
       "    </tr>\n",
       "    <tr>\n",
       "      <th>1148</th>\n",
       "      <td>141</td>\n",
       "      <td>281</td>\n",
       "      <td>29</td>\n",
       "      <td>54</td>\n",
       "      <td>156</td>\n",
       "      <td>True</td>\n",
       "    </tr>\n",
       "    <tr>\n",
       "      <th>1149</th>\n",
       "      <td>144</td>\n",
       "      <td>283</td>\n",
       "      <td>25</td>\n",
       "      <td>66</td>\n",
       "      <td>140</td>\n",
       "      <td>False</td>\n",
       "    </tr>\n",
       "    <tr>\n",
       "      <th>1150</th>\n",
       "      <td>116</td>\n",
       "      <td>273</td>\n",
       "      <td>33</td>\n",
       "      <td>66</td>\n",
       "      <td>130</td>\n",
       "      <td>True</td>\n",
       "    </tr>\n",
       "    <tr>\n",
       "      <th>1151</th>\n",
       "      <td>75</td>\n",
       "      <td>265</td>\n",
       "      <td>21</td>\n",
       "      <td>65</td>\n",
       "      <td>103</td>\n",
       "      <td>True</td>\n",
       "    </tr>\n",
       "    <tr>\n",
       "      <th>1152</th>\n",
       "      <td>138</td>\n",
       "      <td>286</td>\n",
       "      <td>28</td>\n",
       "      <td>68</td>\n",
       "      <td>120</td>\n",
       "      <td>False</td>\n",
       "    </tr>\n",
       "    <tr>\n",
       "      <th>1153</th>\n",
       "      <td>99</td>\n",
       "      <td>271</td>\n",
       "      <td>39</td>\n",
       "      <td>69</td>\n",
       "      <td>151</td>\n",
       "      <td>False</td>\n",
       "    </tr>\n",
       "    <tr>\n",
       "      <th>1154</th>\n",
       "      <td>118</td>\n",
       "      <td>293</td>\n",
       "      <td>21</td>\n",
       "      <td>63</td>\n",
       "      <td>103</td>\n",
       "      <td>False</td>\n",
       "    </tr>\n",
       "    <tr>\n",
       "      <th>1155</th>\n",
       "      <td>97</td>\n",
       "      <td>266</td>\n",
       "      <td>24</td>\n",
       "      <td>62</td>\n",
       "      <td>109</td>\n",
       "      <td>False</td>\n",
       "    </tr>\n",
       "    <tr>\n",
       "      <th>1156</th>\n",
       "      <td>146</td>\n",
       "      <td>319</td>\n",
       "      <td>28</td>\n",
       "      <td>66</td>\n",
       "      <td>145</td>\n",
       "      <td>False</td>\n",
       "    </tr>\n",
       "    <tr>\n",
       "      <th>1157</th>\n",
       "      <td>81</td>\n",
       "      <td>285</td>\n",
       "      <td>19</td>\n",
       "      <td>63</td>\n",
       "      <td>150</td>\n",
       "      <td>True</td>\n",
       "    </tr>\n",
       "    <tr>\n",
       "      <th>1158</th>\n",
       "      <td>110</td>\n",
       "      <td>321</td>\n",
       "      <td>28</td>\n",
       "      <td>66</td>\n",
       "      <td>180</td>\n",
       "      <td>False</td>\n",
       "    </tr>\n",
       "    <tr>\n",
       "      <th>1159</th>\n",
       "      <td>135</td>\n",
       "      <td>284</td>\n",
       "      <td>19</td>\n",
       "      <td>60</td>\n",
       "      <td>95</td>\n",
       "      <td>False</td>\n",
       "    </tr>\n",
       "    <tr>\n",
       "      <th>1160</th>\n",
       "      <td>114</td>\n",
       "      <td>290</td>\n",
       "      <td>21</td>\n",
       "      <td>65</td>\n",
       "      <td>120</td>\n",
       "      <td>True</td>\n",
       "    </tr>\n",
       "    <tr>\n",
       "      <th>1161</th>\n",
       "      <td>124</td>\n",
       "      <td>288</td>\n",
       "      <td>21</td>\n",
       "      <td>64</td>\n",
       "      <td>116</td>\n",
       "      <td>True</td>\n",
       "    </tr>\n",
       "    <tr>\n",
       "      <th>1162</th>\n",
       "      <td>115</td>\n",
       "      <td>262</td>\n",
       "      <td>23</td>\n",
       "      <td>64</td>\n",
       "      <td>136</td>\n",
       "      <td>True</td>\n",
       "    </tr>\n",
       "    <tr>\n",
       "      <th>1163</th>\n",
       "      <td>143</td>\n",
       "      <td>281</td>\n",
       "      <td>28</td>\n",
       "      <td>65</td>\n",
       "      <td>135</td>\n",
       "      <td>True</td>\n",
       "    </tr>\n",
       "    <tr>\n",
       "      <th>1164</th>\n",
       "      <td>113</td>\n",
       "      <td>287</td>\n",
       "      <td>29</td>\n",
       "      <td>70</td>\n",
       "      <td>145</td>\n",
       "      <td>True</td>\n",
       "    </tr>\n",
       "    <tr>\n",
       "      <th>1165</th>\n",
       "      <td>109</td>\n",
       "      <td>244</td>\n",
       "      <td>21</td>\n",
       "      <td>63</td>\n",
       "      <td>102</td>\n",
       "      <td>True</td>\n",
       "    </tr>\n",
       "    <tr>\n",
       "      <th>1166</th>\n",
       "      <td>103</td>\n",
       "      <td>278</td>\n",
       "      <td>30</td>\n",
       "      <td>60</td>\n",
       "      <td>87</td>\n",
       "      <td>True</td>\n",
       "    </tr>\n",
       "    <tr>\n",
       "      <th>1167</th>\n",
       "      <td>118</td>\n",
       "      <td>276</td>\n",
       "      <td>34</td>\n",
       "      <td>64</td>\n",
       "      <td>116</td>\n",
       "      <td>False</td>\n",
       "    </tr>\n",
       "    <tr>\n",
       "      <th>1168</th>\n",
       "      <td>127</td>\n",
       "      <td>290</td>\n",
       "      <td>27</td>\n",
       "      <td>65</td>\n",
       "      <td>121</td>\n",
       "      <td>False</td>\n",
       "    </tr>\n",
       "    <tr>\n",
       "      <th>1169</th>\n",
       "      <td>132</td>\n",
       "      <td>270</td>\n",
       "      <td>27</td>\n",
       "      <td>65</td>\n",
       "      <td>126</td>\n",
       "      <td>False</td>\n",
       "    </tr>\n",
       "    <tr>\n",
       "      <th>1170</th>\n",
       "      <td>113</td>\n",
       "      <td>275</td>\n",
       "      <td>27</td>\n",
       "      <td>60</td>\n",
       "      <td>100</td>\n",
       "      <td>False</td>\n",
       "    </tr>\n",
       "    <tr>\n",
       "      <th>1171</th>\n",
       "      <td>128</td>\n",
       "      <td>265</td>\n",
       "      <td>24</td>\n",
       "      <td>67</td>\n",
       "      <td>120</td>\n",
       "      <td>False</td>\n",
       "    </tr>\n",
       "    <tr>\n",
       "      <th>1172</th>\n",
       "      <td>130</td>\n",
       "      <td>291</td>\n",
       "      <td>30</td>\n",
       "      <td>65</td>\n",
       "      <td>150</td>\n",
       "      <td>True</td>\n",
       "    </tr>\n",
       "    <tr>\n",
       "      <th>1173</th>\n",
       "      <td>125</td>\n",
       "      <td>281</td>\n",
       "      <td>21</td>\n",
       "      <td>65</td>\n",
       "      <td>110</td>\n",
       "      <td>False</td>\n",
       "    </tr>\n",
       "    <tr>\n",
       "      <th>1174</th>\n",
       "      <td>117</td>\n",
       "      <td>297</td>\n",
       "      <td>38</td>\n",
       "      <td>65</td>\n",
       "      <td>129</td>\n",
       "      <td>False</td>\n",
       "    </tr>\n",
       "  </tbody>\n",
       "</table>\n",
       "<p>1174 rows × 6 columns</p>\n",
       "</div>"
      ],
      "text/plain": [
       "      Birth.Weight  Gestational.Days  Maternal.Age  Maternal.Height  \\\n",
       "1              120               284            27               62   \n",
       "2              113               282            33               64   \n",
       "3              128               279            28               64   \n",
       "4              108               282            23               67   \n",
       "5              136               286            25               62   \n",
       "...            ...               ...           ...              ...   \n",
       "1170           113               275            27               60   \n",
       "1171           128               265            24               67   \n",
       "1172           130               291            30               65   \n",
       "1173           125               281            21               65   \n",
       "1174           117               297            38               65   \n",
       "\n",
       "      Maternal.Pregnancy.Weight  Maternal.Smoker  \n",
       "1                           100            False  \n",
       "2                           135            False  \n",
       "3                           115             True  \n",
       "4                           125             True  \n",
       "5                            93            False  \n",
       "...                         ...              ...  \n",
       "1170                        100            False  \n",
       "1171                        120            False  \n",
       "1172                        150             True  \n",
       "1173                        110            False  \n",
       "1174                        129            False  \n",
       "\n",
       "[1174 rows x 6 columns]"
      ]
     },
     "execution_count": 37,
     "metadata": {},
     "output_type": "execute_result"
    }
   ],
   "source": [
    "# pandas\n",
    "baby_df.set_index(np.arange(1, 1175))"
   ]
  },
  {
   "cell_type": "markdown",
   "metadata": {
    "cell_id": "d62bc736-27f1-4188-824a-55a275e4264b",
    "deepnote_cell_type": "markdown",
    "tags": []
   },
   "source": [
    "Let's look at another example."
   ]
  },
  {
   "cell_type": "code",
   "execution_count": null,
   "metadata": {
    "cell_id": "a4b6adea-381d-4ffd-9a0c-091162782981",
    "deepnote_cell_type": "code",
    "tags": []
   },
   "outputs": [
    {
     "data": {
      "application/vnd.deepnote.dataframe+json": {
       "numColumns": 3,
       "numElements": 3,
       "variableDetails": {
        "columns": [
         {
          "name": "Number of petals",
          "stats": {
           "25%": 6.5,
           "50%": 8,
           "75%": 21,
           "count": 3,
           "max": 34,
           "mean": 15.666666666666666,
           "min": 5,
           "nan_count": 0,
           "std": 15.947831618540915
          }
         },
         {
          "name": "Name",
          "stats": {
           "count": 3,
           "freq": 1,
           "nan_count": 0,
           "top": "rose",
           "unique": 3
          }
         },
         {
          "name": "Color",
          "stats": {
           "count": 3,
           "freq": 1,
           "nan_count": 0,
           "top": "red",
           "unique": 3
          }
         }
        ],
        "dataframe": {
         "0": {
          "Color": "pink",
          "Name": "lotus",
          "Number of petals": 8
         },
         "1": {
          "Color": "yellow",
          "Name": "sunflower",
          "Number of petals": 34
         },
         "2": {
          "Color": "red",
          "Name": "rose",
          "Number of petals": 5
         }
        },
        "frequencyInfo": [
         {
          "frequencyData": [
           {
            "x": 5,
            "y": 1
           },
           {
            "x": 7.9,
            "y": 1
           },
           {
            "x": 10.8,
            "y": 0
           },
           {
            "x": 13.7,
            "y": 0
           },
           {
            "x": 16.6,
            "y": 0
           },
           {
            "x": 19.5,
            "y": 0
           },
           {
            "x": 22.4,
            "y": 0
           },
           {
            "x": 25.3,
            "y": 0
           },
           {
            "x": 28.2,
            "y": 0
           },
           {
            "x": 31.099999999999998,
            "y": 1
           }
          ],
          "type": "hist"
         },
         {
          "frequencyData": [
           {
            "frequency": 0.3333333333333333,
            "name": "lotus"
           },
           {
            "frequency": 0.3333333333333333,
            "name": "sunflower"
           },
           {
            "frequency": 0.3333333333333333,
            "name": "rose"
           }
          ],
          "type": "freq"
         },
         {
          "frequencyData": [
           {
            "frequency": 0.3333333333333333,
            "name": "pink"
           },
           {
            "frequency": 0.3333333333333333,
            "name": "yellow"
           },
           {
            "frequency": 0.3333333333333333,
            "name": "red"
           }
          ],
          "type": "freq"
         }
        ]
       }
      },
      "text/html": [
       "<div>\n",
       "<style scoped>\n",
       "    .dataframe tbody tr th:only-of-type {\n",
       "        vertical-align: middle;\n",
       "    }\n",
       "\n",
       "    .dataframe tbody tr th {\n",
       "        vertical-align: top;\n",
       "    }\n",
       "\n",
       "    .dataframe thead th {\n",
       "        text-align: right;\n",
       "    }\n",
       "</style>\n",
       "<table border=\"1\" class=\"dataframe\">\n",
       "  <thead>\n",
       "    <tr style=\"text-align: right;\">\n",
       "      <th></th>\n",
       "      <th>Number of petals</th>\n",
       "      <th>Name</th>\n",
       "      <th>Color</th>\n",
       "    </tr>\n",
       "  </thead>\n",
       "  <tbody>\n",
       "    <tr>\n",
       "      <th>0</th>\n",
       "      <td>8</td>\n",
       "      <td>lotus</td>\n",
       "      <td>pink</td>\n",
       "    </tr>\n",
       "    <tr>\n",
       "      <th>1</th>\n",
       "      <td>34</td>\n",
       "      <td>sunflower</td>\n",
       "      <td>yellow</td>\n",
       "    </tr>\n",
       "    <tr>\n",
       "      <th>2</th>\n",
       "      <td>5</td>\n",
       "      <td>rose</td>\n",
       "      <td>red</td>\n",
       "    </tr>\n",
       "  </tbody>\n",
       "</table>\n",
       "</div>"
      ],
      "text/plain": [
       "   Number of petals       Name   Color\n",
       "0                 8      lotus    pink\n",
       "1                34  sunflower  yellow\n",
       "2                 5       rose     red"
      ]
     },
     "execution_count": 38,
     "metadata": {},
     "output_type": "execute_result"
    }
   ],
   "source": [
    "flowers_df"
   ]
  },
  {
   "cell_type": "markdown",
   "metadata": {
    "cell_id": "b8630eaa-dc0a-472b-868c-fa3d763fd31a",
    "deepnote_cell_type": "markdown",
    "tags": []
   },
   "source": [
    "The labels in an index of a `DataFrame` do not have to be intergers; they can also be strings. \n",
    "We can also use one of the data columns to be the index itself. \n",
    "\n",
    "Here is an example in which we are setting the index to be the `Name` column."
   ]
  },
  {
   "cell_type": "code",
   "execution_count": null,
   "metadata": {
    "cell_id": "2c07ecbd-6e43-4e38-a1cc-b43668adc170",
    "deepnote_cell_type": "code",
    "tags": []
   },
   "outputs": [
    {
     "data": {
      "application/vnd.deepnote.dataframe+json": {
       "numColumns": 2,
       "numElements": 3,
       "variableDetails": {
        "columns": [
         {
          "name": "Number of petals",
          "stats": {
           "25%": 6.5,
           "50%": 8,
           "75%": 21,
           "count": 3,
           "max": 34,
           "mean": 15.666666666666666,
           "min": 5,
           "nan_count": 0,
           "std": 15.947831618540915
          }
         },
         {
          "name": "Color",
          "stats": {
           "count": 3,
           "freq": 1,
           "nan_count": 0,
           "top": "red",
           "unique": 3
          }
         }
        ],
        "dataframe": {
         "lotus": {
          "Color": "pink",
          "Number of petals": 8
         },
         "rose": {
          "Color": "red",
          "Number of petals": 5
         },
         "sunflower": {
          "Color": "yellow",
          "Number of petals": 34
         }
        },
        "frequencyInfo": [
         {
          "frequencyData": [
           {
            "x": 5,
            "y": 1
           },
           {
            "x": 7.9,
            "y": 1
           },
           {
            "x": 10.8,
            "y": 0
           },
           {
            "x": 13.7,
            "y": 0
           },
           {
            "x": 16.6,
            "y": 0
           },
           {
            "x": 19.5,
            "y": 0
           },
           {
            "x": 22.4,
            "y": 0
           },
           {
            "x": 25.3,
            "y": 0
           },
           {
            "x": 28.2,
            "y": 0
           },
           {
            "x": 31.099999999999998,
            "y": 1
           }
          ],
          "type": "hist"
         },
         {
          "frequencyData": [
           {
            "frequency": 0.3333333333333333,
            "name": "pink"
           },
           {
            "frequency": 0.3333333333333333,
            "name": "yellow"
           },
           {
            "frequency": 0.3333333333333333,
            "name": "red"
           }
          ],
          "type": "freq"
         }
        ]
       }
      },
      "text/html": [
       "<div>\n",
       "<style scoped>\n",
       "    .dataframe tbody tr th:only-of-type {\n",
       "        vertical-align: middle;\n",
       "    }\n",
       "\n",
       "    .dataframe tbody tr th {\n",
       "        vertical-align: top;\n",
       "    }\n",
       "\n",
       "    .dataframe thead th {\n",
       "        text-align: right;\n",
       "    }\n",
       "</style>\n",
       "<table border=\"1\" class=\"dataframe\">\n",
       "  <thead>\n",
       "    <tr style=\"text-align: right;\">\n",
       "      <th></th>\n",
       "      <th>Number of petals</th>\n",
       "      <th>Color</th>\n",
       "    </tr>\n",
       "    <tr>\n",
       "      <th>Name</th>\n",
       "      <th></th>\n",
       "      <th></th>\n",
       "    </tr>\n",
       "  </thead>\n",
       "  <tbody>\n",
       "    <tr>\n",
       "      <th>lotus</th>\n",
       "      <td>8</td>\n",
       "      <td>pink</td>\n",
       "    </tr>\n",
       "    <tr>\n",
       "      <th>sunflower</th>\n",
       "      <td>34</td>\n",
       "      <td>yellow</td>\n",
       "    </tr>\n",
       "    <tr>\n",
       "      <th>rose</th>\n",
       "      <td>5</td>\n",
       "      <td>red</td>\n",
       "    </tr>\n",
       "  </tbody>\n",
       "</table>\n",
       "</div>"
      ],
      "text/plain": [
       "           Number of petals   Color\n",
       "Name                               \n",
       "lotus                     8    pink\n",
       "sunflower                34  yellow\n",
       "rose                      5     red"
      ]
     },
     "execution_count": 43,
     "metadata": {},
     "output_type": "execute_result"
    }
   ],
   "source": [
    "# pandas\n",
    "flowers_df = flowers_df.set_index('Name')\n",
    "flowers_df"
   ]
  },
  {
   "cell_type": "markdown",
   "metadata": {
    "cell_id": "7e66fbc9-843b-4f66-a371-b82dfef93167",
    "deepnote_cell_type": "markdown",
    "tags": []
   },
   "source": [
    "## Subsetting Data"
   ]
  },
  {
   "cell_type": "markdown",
   "metadata": {
    "cell_id": "08ca157f-174c-4594-80fc-254657a82ad3",
    "deepnote_cell_type": "markdown",
    "tags": []
   },
   "source": [
    "### Selecting Columns\n",
    "\n",
    "Sometimes the entire dataset contains too many columns, and we are only interested in some of the columns. \n",
    "In these situations, we would want to be able to select and display a subset of the columns from the original table. \n",
    "We dicuss some of these methods below. "
   ]
  },
  {
   "cell_type": "markdown",
   "metadata": {
    "cell_id": "49d30871-9bf9-4150-b43b-c2fef485f269",
    "deepnote_cell_type": "markdown",
    "tags": []
   },
   "source": [
    "In the `datascience` package, the `select` function is used. \n",
    "If we want the returned columns to be a table as well, we use the syntax `tbl.select(col_name1, col_name2, ...)`"
   ]
  },
  {
   "cell_type": "code",
   "execution_count": null,
   "metadata": {
    "cell_id": "8a3b9b22-ef08-4a98-b5e7-a355ef47cbd4",
    "deepnote_cell_type": "code",
    "tags": []
   },
   "outputs": [
    {
     "data": {
      "text/html": [
       "<table border=\"1\" class=\"dataframe\">\n",
       "    <thead>\n",
       "        <tr>\n",
       "            <th>Number of petals</th> <th>Name</th>\n",
       "        </tr>\n",
       "    </thead>\n",
       "    <tbody>\n",
       "        <tr>\n",
       "            <td>8               </td> <td>lotus    </td>\n",
       "        </tr>\n",
       "        <tr>\n",
       "            <td>34              </td> <td>sunflower</td>\n",
       "        </tr>\n",
       "        <tr>\n",
       "            <td>5               </td> <td>rose     </td>\n",
       "        </tr>\n",
       "    </tbody>\n",
       "</table>"
      ],
      "text/plain": [
       "Number of petals | Name\n",
       "8                | lotus\n",
       "34               | sunflower\n",
       "5                | rose"
      ]
     },
     "execution_count": 21,
     "metadata": {},
     "output_type": "execute_result"
    }
   ],
   "source": [
    "# datascience\n",
    "# Selects the columns \"Number of petals\" and \"Color\".\n",
    "flowers_tbl.select(\"Number of petals\", \"Name\")"
   ]
  },
  {
   "cell_type": "markdown",
   "metadata": {
    "cell_id": "d60947cd-d703-4d30-8f41-7b9c92b03750",
    "deepnote_cell_type": "markdown",
    "tags": []
   },
   "source": [
    "In `pandas`, there are many ways to achieve the same result. For one, we can use the function `loc`, shown below. \n",
    "\n",
    "The first argument of `loc` is which rows we want to select, and since we want all of the rows, just a colon \":\" would indicate all rows. \n",
    "The second argument selects the columns we want. \n",
    "\n",
    "If we want more than one column, we need to pass in the column names as a list for the `loc` to return a dataframe object. "
   ]
  },
  {
   "cell_type": "code",
   "execution_count": null,
   "metadata": {
    "cell_id": "a65ca6ce-ec75-401b-9025-3b7c787dd1d0",
    "deepnote_cell_type": "code",
    "tags": []
   },
   "outputs": [
    {
     "data": {
      "application/vnd.deepnote.dataframe+json": {
       "numColumns": 2,
       "numElements": 3,
       "variableDetails": {
        "columns": [
         {
          "name": "Number of petals",
          "stats": {
           "25%": 6.5,
           "50%": 8,
           "75%": 21,
           "count": 3,
           "max": 34,
           "mean": 15.666666666666666,
           "min": 5,
           "nan_count": 0,
           "std": 15.947831618540915
          }
         },
         {
          "name": "Color",
          "stats": {
           "count": 3,
           "freq": 1,
           "nan_count": 0,
           "top": "red",
           "unique": 3
          }
         }
        ],
        "dataframe": {
         "0": {
          "Color": "pink",
          "Number of petals": 8
         },
         "1": {
          "Color": "yellow",
          "Number of petals": 34
         },
         "2": {
          "Color": "red",
          "Number of petals": 5
         }
        },
        "frequencyInfo": [
         {
          "frequencyData": [
           {
            "x": 5,
            "y": 1
           },
           {
            "x": 7.9,
            "y": 1
           },
           {
            "x": 10.8,
            "y": 0
           },
           {
            "x": 13.7,
            "y": 0
           },
           {
            "x": 16.6,
            "y": 0
           },
           {
            "x": 19.5,
            "y": 0
           },
           {
            "x": 22.4,
            "y": 0
           },
           {
            "x": 25.3,
            "y": 0
           },
           {
            "x": 28.2,
            "y": 0
           },
           {
            "x": 31.099999999999998,
            "y": 1
           }
          ],
          "type": "hist"
         },
         {
          "frequencyData": [
           {
            "frequency": 0.3333333333333333,
            "name": "pink"
           },
           {
            "frequency": 0.3333333333333333,
            "name": "yellow"
           },
           {
            "frequency": 0.3333333333333333,
            "name": "red"
           }
          ],
          "type": "freq"
         }
        ]
       }
      },
      "text/html": [
       "<div>\n",
       "<style scoped>\n",
       "    .dataframe tbody tr th:only-of-type {\n",
       "        vertical-align: middle;\n",
       "    }\n",
       "\n",
       "    .dataframe tbody tr th {\n",
       "        vertical-align: top;\n",
       "    }\n",
       "\n",
       "    .dataframe thead th {\n",
       "        text-align: right;\n",
       "    }\n",
       "</style>\n",
       "<table border=\"1\" class=\"dataframe\">\n",
       "  <thead>\n",
       "    <tr style=\"text-align: right;\">\n",
       "      <th></th>\n",
       "      <th>Number of petals</th>\n",
       "      <th>Color</th>\n",
       "    </tr>\n",
       "  </thead>\n",
       "  <tbody>\n",
       "    <tr>\n",
       "      <th>0</th>\n",
       "      <td>8</td>\n",
       "      <td>pink</td>\n",
       "    </tr>\n",
       "    <tr>\n",
       "      <th>1</th>\n",
       "      <td>34</td>\n",
       "      <td>yellow</td>\n",
       "    </tr>\n",
       "    <tr>\n",
       "      <th>2</th>\n",
       "      <td>5</td>\n",
       "      <td>red</td>\n",
       "    </tr>\n",
       "  </tbody>\n",
       "</table>\n",
       "</div>"
      ],
      "text/plain": [
       "   Number of petals   Color\n",
       "0                 8    pink\n",
       "1                34  yellow\n",
       "2                 5     red"
      ]
     },
     "execution_count": 28,
     "metadata": {},
     "output_type": "execute_result"
    }
   ],
   "source": [
    "# pandas\n",
    "# Selects all rows and the columns \"Number of petals\" and \"Color\".\n",
    "flowers_df.loc[:,[\"Number of petals\", \"Color\"]]"
   ]
  },
  {
   "cell_type": "markdown",
   "metadata": {
    "cell_id": "a4995b31-3242-4dda-ba63-9f20bbb049a0",
    "deepnote_cell_type": "markdown",
    "tags": []
   },
   "source": [
    "If you pass in a single column name as a list, it will still return a dataframe object with one column."
   ]
  },
  {
   "cell_type": "code",
   "execution_count": null,
   "metadata": {
    "cell_id": "f9787f30-1a48-46ba-9caf-27c6fcad4151",
    "deepnote_cell_type": "code",
    "tags": []
   },
   "outputs": [
    {
     "data": {
      "application/vnd.deepnote.dataframe+json": {
       "numColumns": 1,
       "numElements": 3,
       "variableDetails": {
        "columns": [
         {
          "name": "Number of petals",
          "stats": {
           "25%": 6.5,
           "50%": 8,
           "75%": 21,
           "count": 3,
           "max": 34,
           "mean": 15.666666666666666,
           "min": 5,
           "nan_count": 0,
           "std": 15.947831618540915
          }
         }
        ],
        "dataframe": {
         "0": {
          "Number of petals": 8
         },
         "1": {
          "Number of petals": 34
         },
         "2": {
          "Number of petals": 5
         }
        },
        "frequencyInfo": [
         {
          "frequencyData": [
           {
            "x": 5,
            "y": 1
           },
           {
            "x": 7.9,
            "y": 1
           },
           {
            "x": 10.8,
            "y": 0
           },
           {
            "x": 13.7,
            "y": 0
           },
           {
            "x": 16.6,
            "y": 0
           },
           {
            "x": 19.5,
            "y": 0
           },
           {
            "x": 22.4,
            "y": 0
           },
           {
            "x": 25.3,
            "y": 0
           },
           {
            "x": 28.2,
            "y": 0
           },
           {
            "x": 31.099999999999998,
            "y": 1
           }
          ],
          "type": "hist"
         }
        ]
       }
      },
      "text/html": [
       "<div>\n",
       "<style scoped>\n",
       "    .dataframe tbody tr th:only-of-type {\n",
       "        vertical-align: middle;\n",
       "    }\n",
       "\n",
       "    .dataframe tbody tr th {\n",
       "        vertical-align: top;\n",
       "    }\n",
       "\n",
       "    .dataframe thead th {\n",
       "        text-align: right;\n",
       "    }\n",
       "</style>\n",
       "<table border=\"1\" class=\"dataframe\">\n",
       "  <thead>\n",
       "    <tr style=\"text-align: right;\">\n",
       "      <th></th>\n",
       "      <th>Number of petals</th>\n",
       "    </tr>\n",
       "  </thead>\n",
       "  <tbody>\n",
       "    <tr>\n",
       "      <th>0</th>\n",
       "      <td>8</td>\n",
       "    </tr>\n",
       "    <tr>\n",
       "      <th>1</th>\n",
       "      <td>34</td>\n",
       "    </tr>\n",
       "    <tr>\n",
       "      <th>2</th>\n",
       "      <td>5</td>\n",
       "    </tr>\n",
       "  </tbody>\n",
       "</table>\n",
       "</div>"
      ],
      "text/plain": [
       "   Number of petals\n",
       "0                 8\n",
       "1                34\n",
       "2                 5"
      ]
     },
     "execution_count": 29,
     "metadata": {},
     "output_type": "execute_result"
    }
   ],
   "source": [
    "# pandas\n",
    "# Selects all rows but only the column \"Number of petals\". Returns a DataFrame object.\n",
    "flowers_df.loc[:,[\"Number of petals\"]]"
   ]
  },
  {
   "cell_type": "markdown",
   "metadata": {
    "cell_id": "db7be398-3111-495b-a63a-5cbf13bf19ed",
    "deepnote_cell_type": "markdown",
    "tags": []
   },
   "source": [
    "But if you pass in the column name as a string, pandas will recognize that you only have one column, and return a `Series` instead."
   ]
  },
  {
   "cell_type": "code",
   "execution_count": null,
   "metadata": {
    "cell_id": "21a0d354-b2cb-4f7d-8ab3-7faa388d55f4",
    "deepnote_cell_type": "code",
    "tags": []
   },
   "outputs": [
    {
     "data": {
      "text/plain": [
       "0     8\n",
       "1    34\n",
       "2     5\n",
       "Name: Number of petals, dtype: int64"
      ]
     },
     "execution_count": 30,
     "metadata": {},
     "output_type": "execute_result"
    }
   ],
   "source": [
    "# pandas\n",
    "# Selects all rows but only the column \"Number of petals\". Returns a series object.\n",
    "flowers_df.loc[:,\"Number of petals\"]"
   ]
  },
  {
   "cell_type": "markdown",
   "metadata": {
    "cell_id": "b7272aaa-2818-4941-9216-f29ccb21ccb3",
    "deepnote_cell_type": "markdown",
    "tags": []
   },
   "source": [
    "Another way to subset data in `pandas` is to use `iloc`. \n",
    "\n",
    "Unlike `loc`, which accepts column names as arguments, `iloc` only accepts numerical indices as its arguments. \n",
    "The order of arguments remain the same, with the rows being the first argument and the columns being the second argument. \n",
    "Here the `0:1` denotes a range and means that we want all columns indexed 0 through 1. \n",
    "In Python, ranges are generally left inclusive and right exclusive (so that only column 0 is selected here)."
   ]
  },
  {
   "cell_type": "code",
   "execution_count": null,
   "metadata": {
    "cell_id": "c0f27955-d63b-4d87-bb92-3d19f545f412",
    "deepnote_cell_type": "code",
    "tags": []
   },
   "outputs": [
    {
     "data": {
      "application/vnd.deepnote.dataframe+json": {
       "numColumns": 1,
       "numElements": 3,
       "variableDetails": {
        "columns": [
         {
          "name": "Number of petals",
          "stats": {
           "25%": 6.5,
           "50%": 8,
           "75%": 21,
           "count": 3,
           "max": 34,
           "mean": 15.666666666666666,
           "min": 5,
           "nan_count": 0,
           "std": 15.947831618540915
          }
         }
        ],
        "dataframe": {
         "0": {
          "Number of petals": 8
         },
         "1": {
          "Number of petals": 34
         },
         "2": {
          "Number of petals": 5
         }
        },
        "frequencyInfo": [
         {
          "frequencyData": [
           {
            "x": 5,
            "y": 1
           },
           {
            "x": 7.9,
            "y": 1
           },
           {
            "x": 10.8,
            "y": 0
           },
           {
            "x": 13.7,
            "y": 0
           },
           {
            "x": 16.6,
            "y": 0
           },
           {
            "x": 19.5,
            "y": 0
           },
           {
            "x": 22.4,
            "y": 0
           },
           {
            "x": 25.3,
            "y": 0
           },
           {
            "x": 28.2,
            "y": 0
           },
           {
            "x": 31.099999999999998,
            "y": 1
           }
          ],
          "type": "hist"
         }
        ]
       }
      },
      "text/html": [
       "<div>\n",
       "<style scoped>\n",
       "    .dataframe tbody tr th:only-of-type {\n",
       "        vertical-align: middle;\n",
       "    }\n",
       "\n",
       "    .dataframe tbody tr th {\n",
       "        vertical-align: top;\n",
       "    }\n",
       "\n",
       "    .dataframe thead th {\n",
       "        text-align: right;\n",
       "    }\n",
       "</style>\n",
       "<table border=\"1\" class=\"dataframe\">\n",
       "  <thead>\n",
       "    <tr style=\"text-align: right;\">\n",
       "      <th></th>\n",
       "      <th>Number of petals</th>\n",
       "    </tr>\n",
       "  </thead>\n",
       "  <tbody>\n",
       "    <tr>\n",
       "      <th>0</th>\n",
       "      <td>8</td>\n",
       "    </tr>\n",
       "    <tr>\n",
       "      <th>1</th>\n",
       "      <td>34</td>\n",
       "    </tr>\n",
       "    <tr>\n",
       "      <th>2</th>\n",
       "      <td>5</td>\n",
       "    </tr>\n",
       "  </tbody>\n",
       "</table>\n",
       "</div>"
      ],
      "text/plain": [
       "   Number of petals\n",
       "0                 8\n",
       "1                34\n",
       "2                 5"
      ]
     },
     "execution_count": 39,
     "metadata": {},
     "output_type": "execute_result"
    }
   ],
   "source": [
    "# pandas\n",
    "# Selects all rows and the 0th-1st column (not inclusive of the 1st column)\n",
    "flowers_df.iloc[:,0:1]"
   ]
  },
  {
   "cell_type": "markdown",
   "metadata": {
    "cell_id": "229825a4-b3be-4665-9b2d-191f596df7ac",
    "deepnote_cell_type": "markdown",
    "tags": []
   },
   "source": [
    "As a side note, we can also subset tables' rows by selecting row indices. \n",
    "Since we've set the index of the flowers table to be the name of the flower, we can directly pass in the row indices as a list as the first argument. \n",
    "Note that here, `loc` is actually left and right inclusive."
   ]
  },
  {
   "cell_type": "code",
   "execution_count": null,
   "metadata": {
    "cell_id": "d692fb1a-0b0c-4d53-b62f-3f6c00f8b14e",
    "deepnote_cell_type": "code",
    "tags": []
   },
   "outputs": [
    {
     "data": {
      "application/vnd.deepnote.dataframe+json": {
       "numColumns": 2,
       "numElements": 2,
       "variableDetails": {
        "columns": [
         {
          "name": "Number of petals",
          "stats": {
           "25%": 14.5,
           "50%": 21,
           "75%": 27.5,
           "count": 2,
           "max": 34,
           "mean": 21,
           "min": 8,
           "nan_count": 0,
           "std": 18.384776310850235
          }
         },
         {
          "name": "Color",
          "stats": {
           "count": 2,
           "freq": 1,
           "nan_count": 0,
           "top": "pink",
           "unique": 2
          }
         }
        ],
        "dataframe": {
         "lotus": {
          "Color": "pink",
          "Number of petals": 8
         },
         "sunflower": {
          "Color": "yellow",
          "Number of petals": 34
         }
        },
        "frequencyInfo": [
         {
          "frequencyData": [
           {
            "x": 8,
            "y": 1
           },
           {
            "x": 10.6,
            "y": 0
           },
           {
            "x": 13.2,
            "y": 0
           },
           {
            "x": 15.8,
            "y": 0
           },
           {
            "x": 18.4,
            "y": 0
           },
           {
            "x": 21,
            "y": 0
           },
           {
            "x": 23.6,
            "y": 0
           },
           {
            "x": 26.2,
            "y": 0
           },
           {
            "x": 28.8,
            "y": 0
           },
           {
            "x": 31.400000000000002,
            "y": 1
           }
          ],
          "type": "hist"
         },
         {
          "frequencyData": [
           {
            "frequency": 0.5,
            "name": "yellow"
           },
           {
            "frequency": 0.5,
            "name": "pink"
           }
          ],
          "type": "freq"
         }
        ]
       }
      },
      "text/html": [
       "<div>\n",
       "<style scoped>\n",
       "    .dataframe tbody tr th:only-of-type {\n",
       "        vertical-align: middle;\n",
       "    }\n",
       "\n",
       "    .dataframe tbody tr th {\n",
       "        vertical-align: top;\n",
       "    }\n",
       "\n",
       "    .dataframe thead th {\n",
       "        text-align: right;\n",
       "    }\n",
       "</style>\n",
       "<table border=\"1\" class=\"dataframe\">\n",
       "  <thead>\n",
       "    <tr style=\"text-align: right;\">\n",
       "      <th></th>\n",
       "      <th>Number of petals</th>\n",
       "      <th>Color</th>\n",
       "    </tr>\n",
       "    <tr>\n",
       "      <th>Name</th>\n",
       "      <th></th>\n",
       "      <th></th>\n",
       "    </tr>\n",
       "  </thead>\n",
       "  <tbody>\n",
       "    <tr>\n",
       "      <th>sunflower</th>\n",
       "      <td>34</td>\n",
       "      <td>yellow</td>\n",
       "    </tr>\n",
       "    <tr>\n",
       "      <th>lotus</th>\n",
       "      <td>8</td>\n",
       "      <td>pink</td>\n",
       "    </tr>\n",
       "  </tbody>\n",
       "</table>\n",
       "</div>"
      ],
      "text/plain": [
       "           Number of petals   Color\n",
       "Name                               \n",
       "sunflower                34  yellow\n",
       "lotus                     8    pink"
      ]
     },
     "execution_count": 46,
     "metadata": {},
     "output_type": "execute_result"
    }
   ],
   "source": [
    "# pandas\n",
    "# Selects the rows with index values \"sunflower\" and \"lotus\", and all columns\n",
    "flowers_df.loc[[\"sunflower\", \"lotus\"], :]"
   ]
  },
  {
   "cell_type": "code",
   "execution_count": null,
   "metadata": {
    "cell_id": "2223e2e1-738b-4078-b2b2-4ba6740129e6",
    "deepnote_cell_type": "code",
    "tags": []
   },
   "outputs": [
    {
     "data": {
      "application/vnd.deepnote.dataframe+json": {
       "numColumns": 6,
       "numElements": 4,
       "variableDetails": {
        "columns": [
         {
          "name": "Birth.Weight",
          "stats": {
           "25%": 111.75,
           "50%": 116.5,
           "75%": 122,
           "count": 4,
           "max": 128,
           "mean": 117.25,
           "min": 108,
           "nan_count": 0,
           "std": 8.69386757049665
          }
         },
         {
          "name": "Gestational.Days",
          "stats": {
           "25%": 281.25,
           "50%": 282,
           "75%": 282.5,
           "count": 4,
           "max": 284,
           "mean": 281.75,
           "min": 279,
           "nan_count": 0,
           "std": 2.0615528128088303
          }
         },
         {
          "name": "Maternal.Age",
          "stats": {
           "25%": 26,
           "50%": 27.5,
           "75%": 29.25,
           "count": 4,
           "max": 33,
           "mean": 27.75,
           "min": 23,
           "nan_count": 0,
           "std": 4.112987559751022
          }
         },
         {
          "name": "Maternal.Height",
          "stats": {
           "25%": 63.5,
           "50%": 64,
           "75%": 64.75,
           "count": 4,
           "max": 67,
           "mean": 64.25,
           "min": 62,
           "nan_count": 0,
           "std": 2.0615528128088303
          }
         },
         {
          "name": "Maternal.Pregnancy.Weight",
          "stats": {
           "25%": 111.25,
           "50%": 120,
           "75%": 127.5,
           "count": 4,
           "max": 135,
           "mean": 118.75,
           "min": 100,
           "nan_count": 0,
           "std": 14.930394055974098
          }
         },
         {
          "name": "Maternal.Smoker",
          "stats": {
           "count": 4,
           "freq": 2,
           "nan_count": 0,
           "top": true,
           "unique": 2
          }
         }
        ],
        "dataframe": {
         "0": {
          "Birth.Weight": 120,
          "Gestational.Days": 284,
          "Maternal.Age": 27,
          "Maternal.Height": 62,
          "Maternal.Pregnancy.Weight": 100,
          "Maternal.Smoker": false
         },
         "1": {
          "Birth.Weight": 113,
          "Gestational.Days": 282,
          "Maternal.Age": 33,
          "Maternal.Height": 64,
          "Maternal.Pregnancy.Weight": 135,
          "Maternal.Smoker": false
         },
         "2": {
          "Birth.Weight": 128,
          "Gestational.Days": 279,
          "Maternal.Age": 28,
          "Maternal.Height": 64,
          "Maternal.Pregnancy.Weight": 115,
          "Maternal.Smoker": true
         },
         "3": {
          "Birth.Weight": 108,
          "Gestational.Days": 282,
          "Maternal.Age": 23,
          "Maternal.Height": 67,
          "Maternal.Pregnancy.Weight": 125,
          "Maternal.Smoker": true
         }
        },
        "frequencyInfo": [
         {
          "frequencyData": [
           {
            "x": 108,
            "y": 1
           },
           {
            "x": 110,
            "y": 0
           },
           {
            "x": 112,
            "y": 1
           },
           {
            "x": 114,
            "y": 0
           },
           {
            "x": 116,
            "y": 0
           },
           {
            "x": 118,
            "y": 0
           },
           {
            "x": 120,
            "y": 1
           },
           {
            "x": 122,
            "y": 0
           },
           {
            "x": 124,
            "y": 0
           },
           {
            "x": 126,
            "y": 1
           }
          ],
          "type": "hist"
         },
         {
          "frequencyData": [
           {
            "x": 279,
            "y": 1
           },
           {
            "x": 279.5,
            "y": 0
           },
           {
            "x": 280,
            "y": 0
           },
           {
            "x": 280.5,
            "y": 0
           },
           {
            "x": 281,
            "y": 0
           },
           {
            "x": 281.5,
            "y": 0
           },
           {
            "x": 282,
            "y": 2
           },
           {
            "x": 282.5,
            "y": 0
           },
           {
            "x": 283,
            "y": 0
           },
           {
            "x": 283.5,
            "y": 1
           }
          ],
          "type": "hist"
         },
         {
          "frequencyData": [
           {
            "x": 23,
            "y": 1
           },
           {
            "x": 24,
            "y": 0
           },
           {
            "x": 25,
            "y": 0
           },
           {
            "x": 26,
            "y": 0
           },
           {
            "x": 27,
            "y": 1
           },
           {
            "x": 28,
            "y": 1
           },
           {
            "x": 29,
            "y": 0
           },
           {
            "x": 30,
            "y": 0
           },
           {
            "x": 31,
            "y": 0
           },
           {
            "x": 32,
            "y": 1
           }
          ],
          "type": "hist"
         },
         {
          "frequencyData": [
           {
            "x": 62,
            "y": 1
           },
           {
            "x": 62.5,
            "y": 0
           },
           {
            "x": 63,
            "y": 0
           },
           {
            "x": 63.5,
            "y": 0
           },
           {
            "x": 64,
            "y": 2
           },
           {
            "x": 64.5,
            "y": 0
           },
           {
            "x": 65,
            "y": 0
           },
           {
            "x": 65.5,
            "y": 0
           },
           {
            "x": 66,
            "y": 0
           },
           {
            "x": 66.5,
            "y": 1
           }
          ],
          "type": "hist"
         },
         {
          "frequencyData": [
           {
            "x": 100,
            "y": 1
           },
           {
            "x": 103.5,
            "y": 0
           },
           {
            "x": 107,
            "y": 0
           },
           {
            "x": 110.5,
            "y": 0
           },
           {
            "x": 114,
            "y": 1
           },
           {
            "x": 117.5,
            "y": 0
           },
           {
            "x": 121,
            "y": 0
           },
           {
            "x": 124.5,
            "y": 1
           },
           {
            "x": 128,
            "y": 0
           },
           {
            "x": 131.5,
            "y": 1
           }
          ],
          "type": "hist"
         },
         {
          "frequencyData": [
           {
            "x": 0,
            "y": 2
           },
           {
            "x": 0.1,
            "y": 0
           },
           {
            "x": 0.2,
            "y": 0
           },
           {
            "x": 0.30000000000000004,
            "y": 0
           },
           {
            "x": 0.4,
            "y": 0
           },
           {
            "x": 0.5,
            "y": 0
           },
           {
            "x": 0.6000000000000001,
            "y": 0
           },
           {
            "x": 0.7000000000000001,
            "y": 0
           },
           {
            "x": 0.8,
            "y": 0
           },
           {
            "x": 0.9,
            "y": 2
           }
          ],
          "type": "hist"
         }
        ]
       }
      },
      "text/html": [
       "<div>\n",
       "<style scoped>\n",
       "    .dataframe tbody tr th:only-of-type {\n",
       "        vertical-align: middle;\n",
       "    }\n",
       "\n",
       "    .dataframe tbody tr th {\n",
       "        vertical-align: top;\n",
       "    }\n",
       "\n",
       "    .dataframe thead th {\n",
       "        text-align: right;\n",
       "    }\n",
       "</style>\n",
       "<table border=\"1\" class=\"dataframe\">\n",
       "  <thead>\n",
       "    <tr style=\"text-align: right;\">\n",
       "      <th></th>\n",
       "      <th>Birth.Weight</th>\n",
       "      <th>Gestational.Days</th>\n",
       "      <th>Maternal.Age</th>\n",
       "      <th>Maternal.Height</th>\n",
       "      <th>Maternal.Pregnancy.Weight</th>\n",
       "      <th>Maternal.Smoker</th>\n",
       "    </tr>\n",
       "  </thead>\n",
       "  <tbody>\n",
       "    <tr>\n",
       "      <th>0</th>\n",
       "      <td>120</td>\n",
       "      <td>284</td>\n",
       "      <td>27</td>\n",
       "      <td>62</td>\n",
       "      <td>100</td>\n",
       "      <td>False</td>\n",
       "    </tr>\n",
       "    <tr>\n",
       "      <th>1</th>\n",
       "      <td>113</td>\n",
       "      <td>282</td>\n",
       "      <td>33</td>\n",
       "      <td>64</td>\n",
       "      <td>135</td>\n",
       "      <td>False</td>\n",
       "    </tr>\n",
       "    <tr>\n",
       "      <th>2</th>\n",
       "      <td>128</td>\n",
       "      <td>279</td>\n",
       "      <td>28</td>\n",
       "      <td>64</td>\n",
       "      <td>115</td>\n",
       "      <td>True</td>\n",
       "    </tr>\n",
       "    <tr>\n",
       "      <th>3</th>\n",
       "      <td>108</td>\n",
       "      <td>282</td>\n",
       "      <td>23</td>\n",
       "      <td>67</td>\n",
       "      <td>125</td>\n",
       "      <td>True</td>\n",
       "    </tr>\n",
       "  </tbody>\n",
       "</table>\n",
       "</div>"
      ],
      "text/plain": [
       "   Birth.Weight  Gestational.Days  Maternal.Age  Maternal.Height  \\\n",
       "0           120               284            27               62   \n",
       "1           113               282            33               64   \n",
       "2           128               279            28               64   \n",
       "3           108               282            23               67   \n",
       "\n",
       "   Maternal.Pregnancy.Weight  Maternal.Smoker  \n",
       "0                        100            False  \n",
       "1                        135            False  \n",
       "2                        115             True  \n",
       "3                        125             True  "
      ]
     },
     "execution_count": 48,
     "metadata": {},
     "output_type": "execute_result"
    }
   ],
   "source": [
    "# pandas\n",
    "# Selects the rows with index values from 0 to 3 (inclusive of 0 and 3), and all columns\n",
    "baby_df.loc[0:3,:]"
   ]
  },
  {
   "cell_type": "markdown",
   "metadata": {
    "cell_id": "3281692c-414b-43a5-b831-40daba6e0982",
    "deepnote_cell_type": "markdown",
    "tags": []
   },
   "source": [
    "`loc` and `iloc` are very powerful functions in `pandas`. \n",
    "Here are 2 more examples on the `baby` table, let's see what they do:"
   ]
  },
  {
   "cell_type": "code",
   "execution_count": null,
   "metadata": {
    "cell_id": "c3ced44f-b673-48f8-912a-8c80888dd3ef",
    "deepnote_cell_type": "code",
    "tags": []
   },
   "outputs": [
    {
     "data": {
      "application/vnd.deepnote.dataframe+json": {
       "numColumns": 2,
       "numElements": 1174,
       "variableDetails": {
        "columns": [
         {
          "name": "Birth.Weight",
          "stats": {
           "25%": 108,
           "50%": 120,
           "75%": 131,
           "count": 1174,
           "max": 176,
           "mean": 119.46252129471891,
           "min": 55,
           "nan_count": 0,
           "std": 18.32867144332099
          }
         },
         {
          "name": "Maternal.Age",
          "stats": {
           "25%": 23,
           "50%": 26,
           "75%": 31,
           "count": 1174,
           "max": 45,
           "mean": 27.228279386712096,
           "min": 15,
           "nan_count": 0,
           "std": 5.817838716855793
          }
         }
        ],
        "dataframe": {
         "1066": {
          "Birth.Weight": 163,
          "Maternal.Age": 37
         },
         "1107": {
          "Birth.Weight": 112,
          "Maternal.Age": 25
         },
         "208": {
          "Birth.Weight": 115,
          "Maternal.Age": 28
         },
         "410": {
          "Birth.Weight": 116,
          "Maternal.Age": 28
         },
         "430": {
          "Birth.Weight": 68,
          "Maternal.Age": 32
         },
         "58": {
          "Birth.Weight": 124,
          "Maternal.Age": 22
         },
         "665": {
          "Birth.Weight": 120,
          "Maternal.Age": 23
         },
         "675": {
          "Birth.Weight": 117,
          "Maternal.Age": 22
         },
         "811": {
          "Birth.Weight": 124,
          "Maternal.Age": 17
         },
         "832": {
          "Birth.Weight": 87,
          "Maternal.Age": 28
         }
        },
        "frequencyInfo": [
         {
          "frequencyData": [
           {
            "x": 55,
            "y": 6
           },
           {
            "x": 67.1,
            "y": 20
           },
           {
            "x": 79.2,
            "y": 52
           },
           {
            "x": 91.3,
            "y": 142
           },
           {
            "x": 103.4,
            "y": 247
           },
           {
            "x": 115.5,
            "y": 325
           },
           {
            "x": 127.6,
            "y": 237
           },
           {
            "x": 139.7,
            "y": 98
           },
           {
            "x": 151.8,
            "y": 36
           },
           {
            "x": 163.89999999999998,
            "y": 11
           }
          ],
          "type": "hist"
         },
         {
          "frequencyData": [
           {
            "x": 15,
            "y": 8
           },
           {
            "x": 18,
            "y": 121
           },
           {
            "x": 21,
            "y": 232
           },
           {
            "x": 24,
            "y": 240
           },
           {
            "x": 27,
            "y": 205
           },
           {
            "x": 30,
            "y": 138
           },
           {
            "x": 33,
            "y": 102
           },
           {
            "x": 36,
            "y": 69
           },
           {
            "x": 39,
            "y": 47
           },
           {
            "x": 42,
            "y": 12
           }
          ],
          "type": "hist"
         }
        ]
       }
      },
      "text/html": [
       "<div>\n",
       "<style scoped>\n",
       "    .dataframe tbody tr th:only-of-type {\n",
       "        vertical-align: middle;\n",
       "    }\n",
       "\n",
       "    .dataframe tbody tr th {\n",
       "        vertical-align: top;\n",
       "    }\n",
       "\n",
       "    .dataframe thead th {\n",
       "        text-align: right;\n",
       "    }\n",
       "</style>\n",
       "<table border=\"1\" class=\"dataframe\">\n",
       "  <thead>\n",
       "    <tr style=\"text-align: right;\">\n",
       "      <th></th>\n",
       "      <th>Birth.Weight</th>\n",
       "      <th>Maternal.Age</th>\n",
       "    </tr>\n",
       "  </thead>\n",
       "  <tbody>\n",
       "    <tr>\n",
       "      <th>0</th>\n",
       "      <td>120</td>\n",
       "      <td>27</td>\n",
       "    </tr>\n",
       "    <tr>\n",
       "      <th>1</th>\n",
       "      <td>113</td>\n",
       "      <td>33</td>\n",
       "    </tr>\n",
       "    <tr>\n",
       "      <th>2</th>\n",
       "      <td>128</td>\n",
       "      <td>28</td>\n",
       "    </tr>\n",
       "    <tr>\n",
       "      <th>3</th>\n",
       "      <td>108</td>\n",
       "      <td>23</td>\n",
       "    </tr>\n",
       "    <tr>\n",
       "      <th>4</th>\n",
       "      <td>136</td>\n",
       "      <td>25</td>\n",
       "    </tr>\n",
       "    <tr>\n",
       "      <th>5</th>\n",
       "      <td>138</td>\n",
       "      <td>33</td>\n",
       "    </tr>\n",
       "    <tr>\n",
       "      <th>6</th>\n",
       "      <td>132</td>\n",
       "      <td>23</td>\n",
       "    </tr>\n",
       "    <tr>\n",
       "      <th>7</th>\n",
       "      <td>120</td>\n",
       "      <td>25</td>\n",
       "    </tr>\n",
       "    <tr>\n",
       "      <th>8</th>\n",
       "      <td>143</td>\n",
       "      <td>30</td>\n",
       "    </tr>\n",
       "    <tr>\n",
       "      <th>9</th>\n",
       "      <td>140</td>\n",
       "      <td>27</td>\n",
       "    </tr>\n",
       "    <tr>\n",
       "      <th>10</th>\n",
       "      <td>144</td>\n",
       "      <td>32</td>\n",
       "    </tr>\n",
       "    <tr>\n",
       "      <th>11</th>\n",
       "      <td>141</td>\n",
       "      <td>23</td>\n",
       "    </tr>\n",
       "    <tr>\n",
       "      <th>12</th>\n",
       "      <td>110</td>\n",
       "      <td>36</td>\n",
       "    </tr>\n",
       "    <tr>\n",
       "      <th>13</th>\n",
       "      <td>114</td>\n",
       "      <td>30</td>\n",
       "    </tr>\n",
       "    <tr>\n",
       "      <th>14</th>\n",
       "      <td>115</td>\n",
       "      <td>38</td>\n",
       "    </tr>\n",
       "    <tr>\n",
       "      <th>15</th>\n",
       "      <td>92</td>\n",
       "      <td>25</td>\n",
       "    </tr>\n",
       "    <tr>\n",
       "      <th>16</th>\n",
       "      <td>115</td>\n",
       "      <td>33</td>\n",
       "    </tr>\n",
       "    <tr>\n",
       "      <th>17</th>\n",
       "      <td>144</td>\n",
       "      <td>33</td>\n",
       "    </tr>\n",
       "    <tr>\n",
       "      <th>18</th>\n",
       "      <td>119</td>\n",
       "      <td>43</td>\n",
       "    </tr>\n",
       "    <tr>\n",
       "      <th>19</th>\n",
       "      <td>105</td>\n",
       "      <td>22</td>\n",
       "    </tr>\n",
       "    <tr>\n",
       "      <th>20</th>\n",
       "      <td>115</td>\n",
       "      <td>27</td>\n",
       "    </tr>\n",
       "    <tr>\n",
       "      <th>21</th>\n",
       "      <td>137</td>\n",
       "      <td>25</td>\n",
       "    </tr>\n",
       "    <tr>\n",
       "      <th>22</th>\n",
       "      <td>122</td>\n",
       "      <td>30</td>\n",
       "    </tr>\n",
       "    <tr>\n",
       "      <th>23</th>\n",
       "      <td>131</td>\n",
       "      <td>23</td>\n",
       "    </tr>\n",
       "    <tr>\n",
       "      <th>24</th>\n",
       "      <td>103</td>\n",
       "      <td>27</td>\n",
       "    </tr>\n",
       "    <tr>\n",
       "      <th>25</th>\n",
       "      <td>146</td>\n",
       "      <td>26</td>\n",
       "    </tr>\n",
       "    <tr>\n",
       "      <th>26</th>\n",
       "      <td>114</td>\n",
       "      <td>20</td>\n",
       "    </tr>\n",
       "    <tr>\n",
       "      <th>27</th>\n",
       "      <td>125</td>\n",
       "      <td>32</td>\n",
       "    </tr>\n",
       "    <tr>\n",
       "      <th>28</th>\n",
       "      <td>114</td>\n",
       "      <td>28</td>\n",
       "    </tr>\n",
       "    <tr>\n",
       "      <th>29</th>\n",
       "      <td>122</td>\n",
       "      <td>26</td>\n",
       "    </tr>\n",
       "    <tr>\n",
       "      <th>...</th>\n",
       "      <td>...</td>\n",
       "      <td>...</td>\n",
       "    </tr>\n",
       "    <tr>\n",
       "      <th>1144</th>\n",
       "      <td>114</td>\n",
       "      <td>29</td>\n",
       "    </tr>\n",
       "    <tr>\n",
       "      <th>1145</th>\n",
       "      <td>127</td>\n",
       "      <td>17</td>\n",
       "    </tr>\n",
       "    <tr>\n",
       "      <th>1146</th>\n",
       "      <td>87</td>\n",
       "      <td>18</td>\n",
       "    </tr>\n",
       "    <tr>\n",
       "      <th>1147</th>\n",
       "      <td>141</td>\n",
       "      <td>29</td>\n",
       "    </tr>\n",
       "    <tr>\n",
       "      <th>1148</th>\n",
       "      <td>144</td>\n",
       "      <td>25</td>\n",
       "    </tr>\n",
       "    <tr>\n",
       "      <th>1149</th>\n",
       "      <td>116</td>\n",
       "      <td>33</td>\n",
       "    </tr>\n",
       "    <tr>\n",
       "      <th>1150</th>\n",
       "      <td>75</td>\n",
       "      <td>21</td>\n",
       "    </tr>\n",
       "    <tr>\n",
       "      <th>1151</th>\n",
       "      <td>138</td>\n",
       "      <td>28</td>\n",
       "    </tr>\n",
       "    <tr>\n",
       "      <th>1152</th>\n",
       "      <td>99</td>\n",
       "      <td>39</td>\n",
       "    </tr>\n",
       "    <tr>\n",
       "      <th>1153</th>\n",
       "      <td>118</td>\n",
       "      <td>21</td>\n",
       "    </tr>\n",
       "    <tr>\n",
       "      <th>1154</th>\n",
       "      <td>97</td>\n",
       "      <td>24</td>\n",
       "    </tr>\n",
       "    <tr>\n",
       "      <th>1155</th>\n",
       "      <td>146</td>\n",
       "      <td>28</td>\n",
       "    </tr>\n",
       "    <tr>\n",
       "      <th>1156</th>\n",
       "      <td>81</td>\n",
       "      <td>19</td>\n",
       "    </tr>\n",
       "    <tr>\n",
       "      <th>1157</th>\n",
       "      <td>110</td>\n",
       "      <td>28</td>\n",
       "    </tr>\n",
       "    <tr>\n",
       "      <th>1158</th>\n",
       "      <td>135</td>\n",
       "      <td>19</td>\n",
       "    </tr>\n",
       "    <tr>\n",
       "      <th>1159</th>\n",
       "      <td>114</td>\n",
       "      <td>21</td>\n",
       "    </tr>\n",
       "    <tr>\n",
       "      <th>1160</th>\n",
       "      <td>124</td>\n",
       "      <td>21</td>\n",
       "    </tr>\n",
       "    <tr>\n",
       "      <th>1161</th>\n",
       "      <td>115</td>\n",
       "      <td>23</td>\n",
       "    </tr>\n",
       "    <tr>\n",
       "      <th>1162</th>\n",
       "      <td>143</td>\n",
       "      <td>28</td>\n",
       "    </tr>\n",
       "    <tr>\n",
       "      <th>1163</th>\n",
       "      <td>113</td>\n",
       "      <td>29</td>\n",
       "    </tr>\n",
       "    <tr>\n",
       "      <th>1164</th>\n",
       "      <td>109</td>\n",
       "      <td>21</td>\n",
       "    </tr>\n",
       "    <tr>\n",
       "      <th>1165</th>\n",
       "      <td>103</td>\n",
       "      <td>30</td>\n",
       "    </tr>\n",
       "    <tr>\n",
       "      <th>1166</th>\n",
       "      <td>118</td>\n",
       "      <td>34</td>\n",
       "    </tr>\n",
       "    <tr>\n",
       "      <th>1167</th>\n",
       "      <td>127</td>\n",
       "      <td>27</td>\n",
       "    </tr>\n",
       "    <tr>\n",
       "      <th>1168</th>\n",
       "      <td>132</td>\n",
       "      <td>27</td>\n",
       "    </tr>\n",
       "    <tr>\n",
       "      <th>1169</th>\n",
       "      <td>113</td>\n",
       "      <td>27</td>\n",
       "    </tr>\n",
       "    <tr>\n",
       "      <th>1170</th>\n",
       "      <td>128</td>\n",
       "      <td>24</td>\n",
       "    </tr>\n",
       "    <tr>\n",
       "      <th>1171</th>\n",
       "      <td>130</td>\n",
       "      <td>30</td>\n",
       "    </tr>\n",
       "    <tr>\n",
       "      <th>1172</th>\n",
       "      <td>125</td>\n",
       "      <td>21</td>\n",
       "    </tr>\n",
       "    <tr>\n",
       "      <th>1173</th>\n",
       "      <td>117</td>\n",
       "      <td>38</td>\n",
       "    </tr>\n",
       "  </tbody>\n",
       "</table>\n",
       "<p>1174 rows × 2 columns</p>\n",
       "</div>"
      ],
      "text/plain": [
       "      Birth.Weight  Maternal.Age\n",
       "0              120            27\n",
       "1              113            33\n",
       "2              128            28\n",
       "3              108            23\n",
       "4              136            25\n",
       "...            ...           ...\n",
       "1169           113            27\n",
       "1170           128            24\n",
       "1171           130            30\n",
       "1172           125            21\n",
       "1173           117            38\n",
       "\n",
       "[1174 rows x 2 columns]"
      ]
     },
     "execution_count": 51,
     "metadata": {},
     "output_type": "execute_result"
    }
   ],
   "source": [
    "# pandas\n",
    "# Selects the 0th and 2nd column, and all rows of the table\n",
    "baby_df.iloc[:, [0,2]]"
   ]
  },
  {
   "cell_type": "markdown",
   "metadata": {
    "cell_id": "41971f6b-fde9-476d-b94f-30de0e219f3d",
    "deepnote_cell_type": "markdown",
    "tags": []
   },
   "source": [
    "If we want to only select a subset of columns from the table, there exists a special case short-cut where we drop the `.loc` and `:` entirely:"
   ]
  },
  {
   "cell_type": "code",
   "execution_count": null,
   "metadata": {
    "cell_id": "e57f0619-0c74-484d-915d-50b55b25fa9c",
    "deepnote_cell_type": "code",
    "tags": []
   },
   "outputs": [
    {
     "data": {
      "application/vnd.deepnote.dataframe+json": {
       "numColumns": 2,
       "numElements": 1174,
       "variableDetails": {
        "columns": [
         {
          "name": "Birth.Weight",
          "stats": {
           "25%": 108,
           "50%": 120,
           "75%": 131,
           "count": 1174,
           "max": 176,
           "mean": 119.46252129471891,
           "min": 55,
           "nan_count": 0,
           "std": 18.32867144332099
          }
         },
         {
          "name": "Maternal.Age",
          "stats": {
           "25%": 23,
           "50%": 26,
           "75%": 31,
           "count": 1174,
           "max": 45,
           "mean": 27.228279386712096,
           "min": 15,
           "nan_count": 0,
           "std": 5.817838716855793
          }
         }
        ],
        "dataframe": {
         "1066": {
          "Birth.Weight": 163,
          "Maternal.Age": 37
         },
         "1107": {
          "Birth.Weight": 112,
          "Maternal.Age": 25
         },
         "208": {
          "Birth.Weight": 115,
          "Maternal.Age": 28
         },
         "410": {
          "Birth.Weight": 116,
          "Maternal.Age": 28
         },
         "430": {
          "Birth.Weight": 68,
          "Maternal.Age": 32
         },
         "58": {
          "Birth.Weight": 124,
          "Maternal.Age": 22
         },
         "665": {
          "Birth.Weight": 120,
          "Maternal.Age": 23
         },
         "675": {
          "Birth.Weight": 117,
          "Maternal.Age": 22
         },
         "811": {
          "Birth.Weight": 124,
          "Maternal.Age": 17
         },
         "832": {
          "Birth.Weight": 87,
          "Maternal.Age": 28
         }
        },
        "frequencyInfo": [
         {
          "frequencyData": [
           {
            "x": 55,
            "y": 6
           },
           {
            "x": 67.1,
            "y": 20
           },
           {
            "x": 79.2,
            "y": 52
           },
           {
            "x": 91.3,
            "y": 142
           },
           {
            "x": 103.4,
            "y": 247
           },
           {
            "x": 115.5,
            "y": 325
           },
           {
            "x": 127.6,
            "y": 237
           },
           {
            "x": 139.7,
            "y": 98
           },
           {
            "x": 151.8,
            "y": 36
           },
           {
            "x": 163.89999999999998,
            "y": 11
           }
          ],
          "type": "hist"
         },
         {
          "frequencyData": [
           {
            "x": 15,
            "y": 8
           },
           {
            "x": 18,
            "y": 121
           },
           {
            "x": 21,
            "y": 232
           },
           {
            "x": 24,
            "y": 240
           },
           {
            "x": 27,
            "y": 205
           },
           {
            "x": 30,
            "y": 138
           },
           {
            "x": 33,
            "y": 102
           },
           {
            "x": 36,
            "y": 69
           },
           {
            "x": 39,
            "y": 47
           },
           {
            "x": 42,
            "y": 12
           }
          ],
          "type": "hist"
         }
        ]
       }
      },
      "text/html": [
       "<div>\n",
       "<style scoped>\n",
       "    .dataframe tbody tr th:only-of-type {\n",
       "        vertical-align: middle;\n",
       "    }\n",
       "\n",
       "    .dataframe tbody tr th {\n",
       "        vertical-align: top;\n",
       "    }\n",
       "\n",
       "    .dataframe thead th {\n",
       "        text-align: right;\n",
       "    }\n",
       "</style>\n",
       "<table border=\"1\" class=\"dataframe\">\n",
       "  <thead>\n",
       "    <tr style=\"text-align: right;\">\n",
       "      <th></th>\n",
       "      <th>Birth.Weight</th>\n",
       "      <th>Maternal.Age</th>\n",
       "    </tr>\n",
       "  </thead>\n",
       "  <tbody>\n",
       "    <tr>\n",
       "      <th>0</th>\n",
       "      <td>120</td>\n",
       "      <td>27</td>\n",
       "    </tr>\n",
       "    <tr>\n",
       "      <th>1</th>\n",
       "      <td>113</td>\n",
       "      <td>33</td>\n",
       "    </tr>\n",
       "    <tr>\n",
       "      <th>2</th>\n",
       "      <td>128</td>\n",
       "      <td>28</td>\n",
       "    </tr>\n",
       "    <tr>\n",
       "      <th>3</th>\n",
       "      <td>108</td>\n",
       "      <td>23</td>\n",
       "    </tr>\n",
       "    <tr>\n",
       "      <th>4</th>\n",
       "      <td>136</td>\n",
       "      <td>25</td>\n",
       "    </tr>\n",
       "    <tr>\n",
       "      <th>5</th>\n",
       "      <td>138</td>\n",
       "      <td>33</td>\n",
       "    </tr>\n",
       "    <tr>\n",
       "      <th>6</th>\n",
       "      <td>132</td>\n",
       "      <td>23</td>\n",
       "    </tr>\n",
       "    <tr>\n",
       "      <th>7</th>\n",
       "      <td>120</td>\n",
       "      <td>25</td>\n",
       "    </tr>\n",
       "    <tr>\n",
       "      <th>8</th>\n",
       "      <td>143</td>\n",
       "      <td>30</td>\n",
       "    </tr>\n",
       "    <tr>\n",
       "      <th>9</th>\n",
       "      <td>140</td>\n",
       "      <td>27</td>\n",
       "    </tr>\n",
       "    <tr>\n",
       "      <th>10</th>\n",
       "      <td>144</td>\n",
       "      <td>32</td>\n",
       "    </tr>\n",
       "    <tr>\n",
       "      <th>11</th>\n",
       "      <td>141</td>\n",
       "      <td>23</td>\n",
       "    </tr>\n",
       "    <tr>\n",
       "      <th>12</th>\n",
       "      <td>110</td>\n",
       "      <td>36</td>\n",
       "    </tr>\n",
       "    <tr>\n",
       "      <th>13</th>\n",
       "      <td>114</td>\n",
       "      <td>30</td>\n",
       "    </tr>\n",
       "    <tr>\n",
       "      <th>14</th>\n",
       "      <td>115</td>\n",
       "      <td>38</td>\n",
       "    </tr>\n",
       "    <tr>\n",
       "      <th>15</th>\n",
       "      <td>92</td>\n",
       "      <td>25</td>\n",
       "    </tr>\n",
       "    <tr>\n",
       "      <th>16</th>\n",
       "      <td>115</td>\n",
       "      <td>33</td>\n",
       "    </tr>\n",
       "    <tr>\n",
       "      <th>17</th>\n",
       "      <td>144</td>\n",
       "      <td>33</td>\n",
       "    </tr>\n",
       "    <tr>\n",
       "      <th>18</th>\n",
       "      <td>119</td>\n",
       "      <td>43</td>\n",
       "    </tr>\n",
       "    <tr>\n",
       "      <th>19</th>\n",
       "      <td>105</td>\n",
       "      <td>22</td>\n",
       "    </tr>\n",
       "    <tr>\n",
       "      <th>20</th>\n",
       "      <td>115</td>\n",
       "      <td>27</td>\n",
       "    </tr>\n",
       "    <tr>\n",
       "      <th>21</th>\n",
       "      <td>137</td>\n",
       "      <td>25</td>\n",
       "    </tr>\n",
       "    <tr>\n",
       "      <th>22</th>\n",
       "      <td>122</td>\n",
       "      <td>30</td>\n",
       "    </tr>\n",
       "    <tr>\n",
       "      <th>23</th>\n",
       "      <td>131</td>\n",
       "      <td>23</td>\n",
       "    </tr>\n",
       "    <tr>\n",
       "      <th>24</th>\n",
       "      <td>103</td>\n",
       "      <td>27</td>\n",
       "    </tr>\n",
       "    <tr>\n",
       "      <th>25</th>\n",
       "      <td>146</td>\n",
       "      <td>26</td>\n",
       "    </tr>\n",
       "    <tr>\n",
       "      <th>26</th>\n",
       "      <td>114</td>\n",
       "      <td>20</td>\n",
       "    </tr>\n",
       "    <tr>\n",
       "      <th>27</th>\n",
       "      <td>125</td>\n",
       "      <td>32</td>\n",
       "    </tr>\n",
       "    <tr>\n",
       "      <th>28</th>\n",
       "      <td>114</td>\n",
       "      <td>28</td>\n",
       "    </tr>\n",
       "    <tr>\n",
       "      <th>29</th>\n",
       "      <td>122</td>\n",
       "      <td>26</td>\n",
       "    </tr>\n",
       "    <tr>\n",
       "      <th>...</th>\n",
       "      <td>...</td>\n",
       "      <td>...</td>\n",
       "    </tr>\n",
       "    <tr>\n",
       "      <th>1144</th>\n",
       "      <td>114</td>\n",
       "      <td>29</td>\n",
       "    </tr>\n",
       "    <tr>\n",
       "      <th>1145</th>\n",
       "      <td>127</td>\n",
       "      <td>17</td>\n",
       "    </tr>\n",
       "    <tr>\n",
       "      <th>1146</th>\n",
       "      <td>87</td>\n",
       "      <td>18</td>\n",
       "    </tr>\n",
       "    <tr>\n",
       "      <th>1147</th>\n",
       "      <td>141</td>\n",
       "      <td>29</td>\n",
       "    </tr>\n",
       "    <tr>\n",
       "      <th>1148</th>\n",
       "      <td>144</td>\n",
       "      <td>25</td>\n",
       "    </tr>\n",
       "    <tr>\n",
       "      <th>1149</th>\n",
       "      <td>116</td>\n",
       "      <td>33</td>\n",
       "    </tr>\n",
       "    <tr>\n",
       "      <th>1150</th>\n",
       "      <td>75</td>\n",
       "      <td>21</td>\n",
       "    </tr>\n",
       "    <tr>\n",
       "      <th>1151</th>\n",
       "      <td>138</td>\n",
       "      <td>28</td>\n",
       "    </tr>\n",
       "    <tr>\n",
       "      <th>1152</th>\n",
       "      <td>99</td>\n",
       "      <td>39</td>\n",
       "    </tr>\n",
       "    <tr>\n",
       "      <th>1153</th>\n",
       "      <td>118</td>\n",
       "      <td>21</td>\n",
       "    </tr>\n",
       "    <tr>\n",
       "      <th>1154</th>\n",
       "      <td>97</td>\n",
       "      <td>24</td>\n",
       "    </tr>\n",
       "    <tr>\n",
       "      <th>1155</th>\n",
       "      <td>146</td>\n",
       "      <td>28</td>\n",
       "    </tr>\n",
       "    <tr>\n",
       "      <th>1156</th>\n",
       "      <td>81</td>\n",
       "      <td>19</td>\n",
       "    </tr>\n",
       "    <tr>\n",
       "      <th>1157</th>\n",
       "      <td>110</td>\n",
       "      <td>28</td>\n",
       "    </tr>\n",
       "    <tr>\n",
       "      <th>1158</th>\n",
       "      <td>135</td>\n",
       "      <td>19</td>\n",
       "    </tr>\n",
       "    <tr>\n",
       "      <th>1159</th>\n",
       "      <td>114</td>\n",
       "      <td>21</td>\n",
       "    </tr>\n",
       "    <tr>\n",
       "      <th>1160</th>\n",
       "      <td>124</td>\n",
       "      <td>21</td>\n",
       "    </tr>\n",
       "    <tr>\n",
       "      <th>1161</th>\n",
       "      <td>115</td>\n",
       "      <td>23</td>\n",
       "    </tr>\n",
       "    <tr>\n",
       "      <th>1162</th>\n",
       "      <td>143</td>\n",
       "      <td>28</td>\n",
       "    </tr>\n",
       "    <tr>\n",
       "      <th>1163</th>\n",
       "      <td>113</td>\n",
       "      <td>29</td>\n",
       "    </tr>\n",
       "    <tr>\n",
       "      <th>1164</th>\n",
       "      <td>109</td>\n",
       "      <td>21</td>\n",
       "    </tr>\n",
       "    <tr>\n",
       "      <th>1165</th>\n",
       "      <td>103</td>\n",
       "      <td>30</td>\n",
       "    </tr>\n",
       "    <tr>\n",
       "      <th>1166</th>\n",
       "      <td>118</td>\n",
       "      <td>34</td>\n",
       "    </tr>\n",
       "    <tr>\n",
       "      <th>1167</th>\n",
       "      <td>127</td>\n",
       "      <td>27</td>\n",
       "    </tr>\n",
       "    <tr>\n",
       "      <th>1168</th>\n",
       "      <td>132</td>\n",
       "      <td>27</td>\n",
       "    </tr>\n",
       "    <tr>\n",
       "      <th>1169</th>\n",
       "      <td>113</td>\n",
       "      <td>27</td>\n",
       "    </tr>\n",
       "    <tr>\n",
       "      <th>1170</th>\n",
       "      <td>128</td>\n",
       "      <td>24</td>\n",
       "    </tr>\n",
       "    <tr>\n",
       "      <th>1171</th>\n",
       "      <td>130</td>\n",
       "      <td>30</td>\n",
       "    </tr>\n",
       "    <tr>\n",
       "      <th>1172</th>\n",
       "      <td>125</td>\n",
       "      <td>21</td>\n",
       "    </tr>\n",
       "    <tr>\n",
       "      <th>1173</th>\n",
       "      <td>117</td>\n",
       "      <td>38</td>\n",
       "    </tr>\n",
       "  </tbody>\n",
       "</table>\n",
       "<p>1174 rows × 2 columns</p>\n",
       "</div>"
      ],
      "text/plain": [
       "      Birth.Weight  Maternal.Age\n",
       "0              120            27\n",
       "1              113            33\n",
       "2              128            28\n",
       "3              108            23\n",
       "4              136            25\n",
       "...            ...           ...\n",
       "1169           113            27\n",
       "1170           128            24\n",
       "1171           130            30\n",
       "1172           125            21\n",
       "1173           117            38\n",
       "\n",
       "[1174 rows x 2 columns]"
      ]
     },
     "execution_count": 71,
     "metadata": {},
     "output_type": "execute_result"
    }
   ],
   "source": [
    "# pandas\n",
    "# Selects the columns \"Birth.Weight\" and \"Maternal.Age\" with all rows\n",
    "baby_df[[\"Birth.Weight\", \"Maternal.Age\"]]"
   ]
  },
  {
   "cell_type": "markdown",
   "metadata": {
    "cell_id": "45183d63-9f93-4a41-bcc6-317084cbfd96",
    "deepnote_cell_type": "markdown",
    "tags": []
   },
   "source": [
    "### Getting a Value\n",
    "\n",
    "What if you want to single out one entry of your entire table? \n",
    "This often occurs when we want to max or min value after sorting the table, for example:\n",
    "- *What is the name of the flower with the most number of petals?*\n",
    "- *How heavy was the baby that went through the longest gestational days?*"
   ]
  },
  {
   "cell_type": "markdown",
   "metadata": {
    "cell_id": "cd210ba6-1aae-4e44-bd99-2e346d82ffae",
    "deepnote_cell_type": "markdown",
    "tags": []
   },
   "source": [
    "When we want a specific entry using the `datascience` package, we need to first use `tbl.column` to fetch an array out of a table, then use `.item` to retrieve the element's value. \n",
    "In the code below, we get the birth weight of the first baby recorded in this dataset. "
   ]
  },
  {
   "cell_type": "code",
   "execution_count": null,
   "metadata": {
    "cell_id": "372dda90-522d-4e82-8cda-6145f97c8242",
    "deepnote_cell_type": "code",
    "tags": []
   },
   "outputs": [
    {
     "data": {
      "text/plain": [
       "120"
      ]
     },
     "execution_count": 45,
     "metadata": {},
     "output_type": "execute_result"
    }
   ],
   "source": [
    "# datascience\n",
    "# Get the first item from the \"Birth.Weight\" column\n",
    "baby_tbl.column(\"Birth.Weight\").item(0)"
   ]
  },
  {
   "cell_type": "markdown",
   "metadata": {
    "cell_id": "98f93488-45f0-406c-9d23-95a425bad24f",
    "deepnote_cell_type": "markdown",
    "tags": []
   },
   "source": [
    "In `pandas`, the syntax for getting a single element is a lot less verbose. \n",
    "Remember `loc` and `iloc`? Since these functions have the ability to subset rows and columns at the same time, we are going to use that functionality here. \n",
    "\n",
    "We pass in 0 as the row selector, since we only want the first entry of the \"Birth.Weight\" column (the entry at the 0th index)."
   ]
  },
  {
   "cell_type": "code",
   "execution_count": null,
   "metadata": {
    "cell_id": "4f456705-6562-4e87-bed7-5642b6e24582",
    "deepnote_cell_type": "code",
    "tags": []
   },
   "outputs": [
    {
     "data": {
      "text/plain": [
       "120"
      ]
     },
     "execution_count": 64,
     "metadata": {},
     "output_type": "execute_result"
    }
   ],
   "source": [
    "# pandas\n",
    "# Get the value at row with index 0 and column with label \"Birth.Weight\".\n",
    "baby_df.loc[0,\"Birth.Weight\"]"
   ]
  },
  {
   "cell_type": "markdown",
   "metadata": {
    "cell_id": "a2d0dbcf-e073-48b6-a3bf-7c32f7f74606",
    "deepnote_cell_type": "markdown",
    "tags": []
   },
   "source": [
    "Similarly with iloc, we are just passing in 0 as the first and second argument since we want the entry located at the first row and first column, which are both indexed at 0."
   ]
  },
  {
   "cell_type": "code",
   "execution_count": null,
   "metadata": {
    "cell_id": "c036a9b5-0652-476e-bfe0-37b7c53bc0ac",
    "deepnote_cell_type": "code",
    "tags": []
   },
   "outputs": [
    {
     "data": {
      "text/plain": [
       "120"
      ]
     },
     "execution_count": 65,
     "metadata": {},
     "output_type": "execute_result"
    }
   ],
   "source": [
    "# pandas\n",
    "# Get the value at the 0th row and 0th column.\n",
    "baby_df.iloc[0,0]"
   ]
  },
  {
   "cell_type": "code",
   "execution_count": null,
   "metadata": {
    "cell_id": "6cf14c0a-9339-4e19-92e8-0154897f0a81",
    "deepnote_cell_type": "code",
    "tags": []
   },
   "outputs": [
    {
     "data": {
      "text/plain": [
       "0    120\n",
       "1    113\n",
       "2    128\n",
       "3    108\n",
       "4    136\n",
       "5    138\n",
       "Name: Birth.Weight, dtype: int64"
      ]
     },
     "execution_count": 66,
     "metadata": {},
     "output_type": "execute_result"
    }
   ],
   "source": [
    "# pandas\n",
    "# Get the rows with indices 0 to 5 (inclusive) of the \"Birth.Weight\" column\n",
    "baby_df.loc[0:5, \"Birth.Weight\"]"
   ]
  },
  {
   "cell_type": "code",
   "execution_count": null,
   "metadata": {
    "cell_id": "84fc9309-f2d8-4bd9-8eb8-9e4b6a85be44",
    "deepnote_cell_type": "code",
    "tags": []
   },
   "outputs": [
    {
     "data": {
      "application/vnd.deepnote.dataframe+json": {
       "numColumns": 5,
       "numElements": 2,
       "variableDetails": {
        "columns": [
         {
          "name": "Birth.Weight",
          "stats": {
           "25%": 114.75,
           "50%": 116.5,
           "75%": 118.25,
           "count": 2,
           "max": 120,
           "mean": 116.5,
           "min": 113,
           "nan_count": 0,
           "std": 4.949747468305833
          }
         },
         {
          "name": "Gestational.Days",
          "stats": {
           "25%": 282.5,
           "50%": 283,
           "75%": 283.5,
           "count": 2,
           "max": 284,
           "mean": 283,
           "min": 282,
           "nan_count": 0,
           "std": 1.4142135623730951
          }
         },
         {
          "name": "Maternal.Age",
          "stats": {
           "25%": 28.5,
           "50%": 30,
           "75%": 31.5,
           "count": 2,
           "max": 33,
           "mean": 30,
           "min": 27,
           "nan_count": 0,
           "std": 4.242640687119285
          }
         },
         {
          "name": "Maternal.Height",
          "stats": {
           "25%": 62.5,
           "50%": 63,
           "75%": 63.5,
           "count": 2,
           "max": 64,
           "mean": 63,
           "min": 62,
           "nan_count": 0,
           "std": 1.4142135623730951
          }
         },
         {
          "name": "Maternal.Pregnancy.Weight",
          "stats": {
           "25%": 108.75,
           "50%": 117.5,
           "75%": 126.25,
           "count": 2,
           "max": 135,
           "mean": 117.5,
           "min": 100,
           "nan_count": 0,
           "std": 24.748737341529164
          }
         }
        ],
        "dataframe": {
         "0": {
          "Birth.Weight": 120,
          "Gestational.Days": 284,
          "Maternal.Age": 27,
          "Maternal.Height": 62,
          "Maternal.Pregnancy.Weight": 100
         },
         "1": {
          "Birth.Weight": 113,
          "Gestational.Days": 282,
          "Maternal.Age": 33,
          "Maternal.Height": 64,
          "Maternal.Pregnancy.Weight": 135
         }
        },
        "frequencyInfo": [
         {
          "frequencyData": [
           {
            "x": 113,
            "y": 1
           },
           {
            "x": 113.7,
            "y": 0
           },
           {
            "x": 114.4,
            "y": 0
           },
           {
            "x": 115.1,
            "y": 0
           },
           {
            "x": 115.8,
            "y": 0
           },
           {
            "x": 116.5,
            "y": 0
           },
           {
            "x": 117.2,
            "y": 0
           },
           {
            "x": 117.9,
            "y": 0
           },
           {
            "x": 118.6,
            "y": 0
           },
           {
            "x": 119.3,
            "y": 1
           }
          ],
          "type": "hist"
         },
         {
          "frequencyData": [
           {
            "x": 282,
            "y": 1
           },
           {
            "x": 282.2,
            "y": 0
           },
           {
            "x": 282.4,
            "y": 0
           },
           {
            "x": 282.6,
            "y": 0
           },
           {
            "x": 282.8,
            "y": 0
           },
           {
            "x": 283,
            "y": 0
           },
           {
            "x": 283.2,
            "y": 0
           },
           {
            "x": 283.4,
            "y": 0
           },
           {
            "x": 283.6,
            "y": 0
           },
           {
            "x": 283.8,
            "y": 1
           }
          ],
          "type": "hist"
         },
         {
          "frequencyData": [
           {
            "x": 27,
            "y": 1
           },
           {
            "x": 27.6,
            "y": 0
           },
           {
            "x": 28.2,
            "y": 0
           },
           {
            "x": 28.8,
            "y": 0
           },
           {
            "x": 29.4,
            "y": 0
           },
           {
            "x": 30,
            "y": 0
           },
           {
            "x": 30.6,
            "y": 0
           },
           {
            "x": 31.2,
            "y": 0
           },
           {
            "x": 31.8,
            "y": 0
           },
           {
            "x": 32.4,
            "y": 1
           }
          ],
          "type": "hist"
         },
         {
          "frequencyData": [
           {
            "x": 62,
            "y": 1
           },
           {
            "x": 62.2,
            "y": 0
           },
           {
            "x": 62.4,
            "y": 0
           },
           {
            "x": 62.6,
            "y": 0
           },
           {
            "x": 62.8,
            "y": 0
           },
           {
            "x": 63,
            "y": 0
           },
           {
            "x": 63.2,
            "y": 0
           },
           {
            "x": 63.4,
            "y": 0
           },
           {
            "x": 63.6,
            "y": 0
           },
           {
            "x": 63.8,
            "y": 1
           }
          ],
          "type": "hist"
         },
         {
          "frequencyData": [
           {
            "x": 100,
            "y": 1
           },
           {
            "x": 103.5,
            "y": 0
           },
           {
            "x": 107,
            "y": 0
           },
           {
            "x": 110.5,
            "y": 0
           },
           {
            "x": 114,
            "y": 0
           },
           {
            "x": 117.5,
            "y": 0
           },
           {
            "x": 121,
            "y": 0
           },
           {
            "x": 124.5,
            "y": 0
           },
           {
            "x": 128,
            "y": 0
           },
           {
            "x": 131.5,
            "y": 1
           }
          ],
          "type": "hist"
         }
        ]
       }
      },
      "text/html": [
       "<div>\n",
       "<style scoped>\n",
       "    .dataframe tbody tr th:only-of-type {\n",
       "        vertical-align: middle;\n",
       "    }\n",
       "\n",
       "    .dataframe tbody tr th {\n",
       "        vertical-align: top;\n",
       "    }\n",
       "\n",
       "    .dataframe thead th {\n",
       "        text-align: right;\n",
       "    }\n",
       "</style>\n",
       "<table border=\"1\" class=\"dataframe\">\n",
       "  <thead>\n",
       "    <tr style=\"text-align: right;\">\n",
       "      <th></th>\n",
       "      <th>Birth.Weight</th>\n",
       "      <th>Gestational.Days</th>\n",
       "      <th>Maternal.Age</th>\n",
       "      <th>Maternal.Height</th>\n",
       "      <th>Maternal.Pregnancy.Weight</th>\n",
       "    </tr>\n",
       "  </thead>\n",
       "  <tbody>\n",
       "    <tr>\n",
       "      <th>0</th>\n",
       "      <td>120</td>\n",
       "      <td>284</td>\n",
       "      <td>27</td>\n",
       "      <td>62</td>\n",
       "      <td>100</td>\n",
       "    </tr>\n",
       "    <tr>\n",
       "      <th>1</th>\n",
       "      <td>113</td>\n",
       "      <td>282</td>\n",
       "      <td>33</td>\n",
       "      <td>64</td>\n",
       "      <td>135</td>\n",
       "    </tr>\n",
       "  </tbody>\n",
       "</table>\n",
       "</div>"
      ],
      "text/plain": [
       "   Birth.Weight  Gestational.Days  Maternal.Age  Maternal.Height  \\\n",
       "0           120               284            27               62   \n",
       "1           113               282            33               64   \n",
       "\n",
       "   Maternal.Pregnancy.Weight  \n",
       "0                        100  \n",
       "1                        135  "
      ]
     },
     "execution_count": 67,
     "metadata": {},
     "output_type": "execute_result"
    }
   ],
   "source": [
    "# pandas\n",
    "# Select the first five columns of the first two rows\n",
    "baby_df.iloc[0:2, 0:5]"
   ]
  },
  {
   "cell_type": "markdown",
   "metadata": {
    "cell_id": "369cf336-7fac-4ba2-a920-10e56e839c45",
    "deepnote_cell_type": "markdown",
    "tags": []
   },
   "source": [
    "# Methods"
   ]
  },
  {
   "cell_type": "markdown",
   "metadata": {
    "cell_id": "748a800f-1253-454b-bde6-115d896e3799",
    "deepnote_cell_type": "markdown",
    "tags": []
   },
   "source": [
    "## Filtering and Boolean Indexing"
   ]
  },
  {
   "cell_type": "markdown",
   "metadata": {
    "cell_id": "13e57797-dff5-4f68-ae18-e6e94d8fb47e",
    "deepnote_cell_type": "markdown",
    "tags": []
   },
   "source": [
    "With the `datascience` package, we can filter a table by only returning rows that satisfy a specific condition. "
   ]
  },
  {
   "cell_type": "code",
   "execution_count": null,
   "metadata": {
    "cell_id": "eaf96eea-75b5-435b-bcc9-a823e8fd230e",
    "deepnote_cell_type": "code",
    "tags": []
   },
   "outputs": [
    {
     "data": {
      "text/html": [
       "<table border=\"1\" class=\"dataframe\">\n",
       "    <thead>\n",
       "        <tr>\n",
       "            <th>Birth.Weight</th> <th>Gestational.Days</th> <th>Maternal.Age</th> <th>Maternal.Height</th> <th>Maternal.Pregnancy.Weight</th> <th>Maternal.Smoker</th>\n",
       "        </tr>\n",
       "    </thead>\n",
       "    <tbody>\n",
       "        <tr>\n",
       "            <td>128         </td> <td>279             </td> <td>28          </td> <td>64             </td> <td>115                      </td> <td>True           </td>\n",
       "        </tr>\n",
       "        <tr>\n",
       "            <td>136         </td> <td>286             </td> <td>25          </td> <td>62             </td> <td>93                       </td> <td>False          </td>\n",
       "        </tr>\n",
       "        <tr>\n",
       "            <td>138         </td> <td>244             </td> <td>33          </td> <td>62             </td> <td>178                      </td> <td>False          </td>\n",
       "        </tr>\n",
       "        <tr>\n",
       "            <td>132         </td> <td>245             </td> <td>23          </td> <td>65             </td> <td>140                      </td> <td>False          </td>\n",
       "        </tr>\n",
       "        <tr>\n",
       "            <td>143         </td> <td>299             </td> <td>30          </td> <td>66             </td> <td>136                      </td> <td>True           </td>\n",
       "        </tr>\n",
       "        <tr>\n",
       "            <td>140         </td> <td>351             </td> <td>27          </td> <td>68             </td> <td>120                      </td> <td>False          </td>\n",
       "        </tr>\n",
       "        <tr>\n",
       "            <td>144         </td> <td>282             </td> <td>32          </td> <td>64             </td> <td>124                      </td> <td>True           </td>\n",
       "        </tr>\n",
       "        <tr>\n",
       "            <td>141         </td> <td>279             </td> <td>23          </td> <td>63             </td> <td>128                      </td> <td>True           </td>\n",
       "        </tr>\n",
       "        <tr>\n",
       "            <td>144         </td> <td>261             </td> <td>33          </td> <td>68             </td> <td>170                      </td> <td>False          </td>\n",
       "        </tr>\n",
       "        <tr>\n",
       "            <td>137         </td> <td>287             </td> <td>25          </td> <td>66             </td> <td>145                      </td> <td>False          </td>\n",
       "        </tr>\n",
       "    </tbody>\n",
       "</table>\n",
       "<p>... (558 rows omitted)</p>"
      ],
      "text/plain": [
       "Birth.Weight | Gestational.Days | Maternal.Age | Maternal.Height | Maternal.Pregnancy.Weight | Maternal.Smoker\n",
       "128          | 279              | 28           | 64              | 115                       | True\n",
       "136          | 286              | 25           | 62              | 93                        | False\n",
       "138          | 244              | 33           | 62              | 178                       | False\n",
       "132          | 245              | 23           | 65              | 140                       | False\n",
       "143          | 299              | 30           | 66              | 136                       | True\n",
       "140          | 351              | 27           | 68              | 120                       | False\n",
       "144          | 282              | 32           | 64              | 124                       | True\n",
       "141          | 279              | 23           | 63              | 128                       | True\n",
       "144          | 261              | 33           | 68              | 170                       | False\n",
       "137          | 287              | 25           | 66              | 145                       | False\n",
       "... (558 rows omitted)"
      ]
     },
     "execution_count": 53,
     "metadata": {},
     "output_type": "execute_result"
    }
   ],
   "source": [
    "# datascience\n",
    "# Returns all of the rows where \"Birth.Weight\" is greater than 120\n",
    "baby_tbl.where('Birth.Weight', are.above(120))"
   ]
  },
  {
   "cell_type": "markdown",
   "metadata": {
    "cell_id": "bb373f7f-ed89-405a-965a-7eb7f8eabea2",
    "deepnote_cell_type": "markdown",
    "tags": []
   },
   "source": [
    "Equivalently, we can do this in `pandas` by \"boolean indexing\". \n",
    "The expression below returns a boolean series where an entry is `True` if it satisfies the condition and `False` if it doesn't."
   ]
  },
  {
   "cell_type": "code",
   "execution_count": null,
   "metadata": {
    "cell_id": "d8de53d4-37f0-4a42-b79b-2c406fdbe44b",
    "deepnote_cell_type": "code",
    "tags": []
   },
   "outputs": [
    {
     "data": {
      "text/plain": [
       "0       False\n",
       "1       False\n",
       "2        True\n",
       "3       False\n",
       "4        True\n",
       "        ...  \n",
       "1169    False\n",
       "1170     True\n",
       "1171     True\n",
       "1172     True\n",
       "1173    False\n",
       "Name: Birth.Weight, Length: 1174, dtype: bool"
      ]
     },
     "execution_count": 54,
     "metadata": {},
     "output_type": "execute_result"
    }
   ],
   "source": [
    "# pandas\n",
    "baby_df['Birth.Weight'] > 120"
   ]
  },
  {
   "cell_type": "markdown",
   "metadata": {
    "cell_id": "da6b7639-6dd2-4529-9605-f0d454ebdfe0",
    "deepnote_cell_type": "markdown",
    "tags": []
   },
   "source": [
    "If we want to filter our `pandas` dataframe for all rows that satisfies Birth.Weight > 120, we can pass the boolean series into the row argument of `.loc`. \n",
    "The idea is that we only want the rows where the \"boolean index\" is `True`. "
   ]
  },
  {
   "cell_type": "code",
   "execution_count": null,
   "metadata": {
    "cell_id": "6f7dbfc2-b3dc-4824-a3da-e1823c6c2348",
    "deepnote_cell_type": "code",
    "tags": []
   },
   "outputs": [
    {
     "data": {
      "application/vnd.deepnote.dataframe+json": {
       "numColumns": 6,
       "numElements": 568,
       "variableDetails": {
        "columns": [
         {
          "name": "Birth.Weight",
          "stats": {
           "25%": 126,
           "50%": 131,
           "75%": 140,
           "count": 568,
           "max": 176,
           "mean": 134.1549295774648,
           "min": 121,
           "nan_count": 0,
           "std": 10.877412659629652
          }
         },
         {
          "name": "Gestational.Days",
          "stats": {
           "25%": 277,
           "50%": 284,
           "75%": 290,
           "count": 568,
           "max": 353,
           "mean": 283.61091549295776,
           "min": 225,
           "nan_count": 0,
           "std": 13.183350378516174
          }
         },
         {
          "name": "Maternal.Age",
          "stats": {
           "25%": 23,
           "50%": 27,
           "75%": 30.25,
           "count": 568,
           "max": 45,
           "mean": 27.283450704225352,
           "min": 17,
           "nan_count": 0,
           "std": 5.7874407043057365
          }
         },
         {
          "name": "Maternal.Height",
          "stats": {
           "25%": 63,
           "50%": 65,
           "75%": 66,
           "count": 568,
           "max": 72,
           "mean": 64.58978873239437,
           "min": 53,
           "nan_count": 0,
           "std": 2.470075142073995
          }
         },
         {
          "name": "Maternal.Pregnancy.Weight",
          "stats": {
           "25%": 118,
           "50%": 129,
           "75%": 140,
           "count": 568,
           "max": 250,
           "mean": 131.63908450704224,
           "min": 89,
           "nan_count": 0,
           "std": 20.965370470105082
          }
         },
         {
          "name": "Maternal.Smoker",
          "stats": {
           "count": 568,
           "freq": 406,
           "nan_count": 0,
           "top": false,
           "unique": 2
          }
         }
        ],
        "dataframe": {
         "101": {
          "Birth.Weight": 137,
          "Gestational.Days": 274,
          "Maternal.Age": 29,
          "Maternal.Height": 65,
          "Maternal.Pregnancy.Weight": 154,
          "Maternal.Smoker": false
         },
         "1065": {
          "Birth.Weight": 133,
          "Gestational.Days": 289,
          "Maternal.Age": 22,
          "Maternal.Height": 65,
          "Maternal.Pregnancy.Weight": 123,
          "Maternal.Smoker": true
         },
         "1089": {
          "Birth.Weight": 156,
          "Gestational.Days": 300,
          "Maternal.Age": 27,
          "Maternal.Height": 65,
          "Maternal.Pregnancy.Weight": 120,
          "Maternal.Smoker": true
         },
         "1108": {
          "Birth.Weight": 139,
          "Gestational.Days": 311,
          "Maternal.Age": 37,
          "Maternal.Height": 66,
          "Maternal.Pregnancy.Weight": 135,
          "Maternal.Smoker": false
         },
         "149": {
          "Birth.Weight": 125,
          "Gestational.Days": 262,
          "Maternal.Age": 36,
          "Maternal.Height": 66,
          "Maternal.Pregnancy.Weight": 190,
          "Maternal.Smoker": false
         },
         "194": {
          "Birth.Weight": 127,
          "Gestational.Days": 270,
          "Maternal.Age": 25,
          "Maternal.Height": 62,
          "Maternal.Pregnancy.Weight": 150,
          "Maternal.Smoker": false
         },
         "403": {
          "Birth.Weight": 132,
          "Gestational.Days": 278,
          "Maternal.Age": 20,
          "Maternal.Height": 64,
          "Maternal.Pregnancy.Weight": 150,
          "Maternal.Smoker": true
         },
         "417": {
          "Birth.Weight": 132,
          "Gestational.Days": 281,
          "Maternal.Age": 21,
          "Maternal.Height": 67,
          "Maternal.Pregnancy.Weight": 140,
          "Maternal.Smoker": false
         },
         "513": {
          "Birth.Weight": 124,
          "Gestational.Days": 300,
          "Maternal.Age": 28,
          "Maternal.Height": 63,
          "Maternal.Pregnancy.Weight": 95,
          "Maternal.Smoker": false
         },
         "839": {
          "Birth.Weight": 151,
          "Gestational.Days": 286,
          "Maternal.Age": 22,
          "Maternal.Height": 66,
          "Maternal.Pregnancy.Weight": 130,
          "Maternal.Smoker": false
         }
        },
        "frequencyInfo": [
         {
          "frequencyData": [
           {
            "x": 121,
            "y": 158
           },
           {
            "x": 126.5,
            "y": 130
           },
           {
            "x": 132,
            "y": 103
           },
           {
            "x": 137.5,
            "y": 60
           },
           {
            "x": 143,
            "y": 58
           },
           {
            "x": 148.5,
            "y": 19
           },
           {
            "x": 154,
            "y": 19
           },
           {
            "x": 159.5,
            "y": 11
           },
           {
            "x": 165,
            "y": 5
           },
           {
            "x": 170.5,
            "y": 5
           }
          ],
          "type": "hist"
         },
         {
          "frequencyData": [
           {
            "x": 225,
            "y": 2
           },
           {
            "x": 237.8,
            "y": 7
           },
           {
            "x": 250.6,
            "y": 21
           },
           {
            "x": 263.4,
            "y": 109
           },
           {
            "x": 276.2,
            "y": 250
           },
           {
            "x": 289,
            "y": 144
           },
           {
            "x": 301.8,
            "y": 23
           },
           {
            "x": 314.6,
            "y": 8
           },
           {
            "x": 327.4,
            "y": 2
           },
           {
            "x": 340.2,
            "y": 2
           }
          ],
          "type": "hist"
         },
         {
          "frequencyData": [
           {
            "x": 17,
            "y": 35
           },
           {
            "x": 19.8,
            "y": 94
           },
           {
            "x": 22.6,
            "y": 114
           },
           {
            "x": 25.4,
            "y": 116
           },
           {
            "x": 28.2,
            "y": 67
           },
           {
            "x": 31,
            "y": 55
           },
           {
            "x": 33.8,
            "y": 36
           },
           {
            "x": 36.599999999999994,
            "y": 32
           },
           {
            "x": 39.4,
            "y": 15
           },
           {
            "x": 42.2,
            "y": 4
           }
          ],
          "type": "hist"
         },
         {
          "frequencyData": [
           {
            "x": 53,
            "y": 2
           },
           {
            "x": 54.9,
            "y": 0
           },
           {
            "x": 56.8,
            "y": 4
           },
           {
            "x": 58.7,
            "y": 16
           },
           {
            "x": 60.6,
            "y": 87
           },
           {
            "x": 62.5,
            "y": 156
           },
           {
            "x": 64.4,
            "y": 184
           },
           {
            "x": 66.3,
            "y": 93
           },
           {
            "x": 68.2,
            "y": 21
           },
           {
            "x": 70.1,
            "y": 5
           }
          ],
          "type": "hist"
         },
         {
          "frequencyData": [
           {
            "x": 89,
            "y": 34
           },
           {
            "x": 105.1,
            "y": 146
           },
           {
            "x": 121.2,
            "y": 222
           },
           {
            "x": 137.3,
            "y": 95
           },
           {
            "x": 153.4,
            "y": 39
           },
           {
            "x": 169.5,
            "y": 19
           },
           {
            "x": 185.60000000000002,
            "y": 6
           },
           {
            "x": 201.70000000000002,
            "y": 5
           },
           {
            "x": 217.8,
            "y": 1
           },
           {
            "x": 233.9,
            "y": 1
           }
          ],
          "type": "hist"
         },
         {
          "frequencyData": [
           {
            "x": 0,
            "y": 406
           },
           {
            "x": 0.1,
            "y": 0
           },
           {
            "x": 0.2,
            "y": 0
           },
           {
            "x": 0.30000000000000004,
            "y": 0
           },
           {
            "x": 0.4,
            "y": 0
           },
           {
            "x": 0.5,
            "y": 0
           },
           {
            "x": 0.6000000000000001,
            "y": 0
           },
           {
            "x": 0.7000000000000001,
            "y": 0
           },
           {
            "x": 0.8,
            "y": 0
           },
           {
            "x": 0.9,
            "y": 162
           }
          ],
          "type": "hist"
         }
        ]
       }
      },
      "text/html": [
       "<div>\n",
       "<style scoped>\n",
       "    .dataframe tbody tr th:only-of-type {\n",
       "        vertical-align: middle;\n",
       "    }\n",
       "\n",
       "    .dataframe tbody tr th {\n",
       "        vertical-align: top;\n",
       "    }\n",
       "\n",
       "    .dataframe thead th {\n",
       "        text-align: right;\n",
       "    }\n",
       "</style>\n",
       "<table border=\"1\" class=\"dataframe\">\n",
       "  <thead>\n",
       "    <tr style=\"text-align: right;\">\n",
       "      <th></th>\n",
       "      <th>Birth.Weight</th>\n",
       "      <th>Gestational.Days</th>\n",
       "      <th>Maternal.Age</th>\n",
       "      <th>Maternal.Height</th>\n",
       "      <th>Maternal.Pregnancy.Weight</th>\n",
       "      <th>Maternal.Smoker</th>\n",
       "    </tr>\n",
       "  </thead>\n",
       "  <tbody>\n",
       "    <tr>\n",
       "      <th>2</th>\n",
       "      <td>128</td>\n",
       "      <td>279</td>\n",
       "      <td>28</td>\n",
       "      <td>64</td>\n",
       "      <td>115</td>\n",
       "      <td>True</td>\n",
       "    </tr>\n",
       "    <tr>\n",
       "      <th>4</th>\n",
       "      <td>136</td>\n",
       "      <td>286</td>\n",
       "      <td>25</td>\n",
       "      <td>62</td>\n",
       "      <td>93</td>\n",
       "      <td>False</td>\n",
       "    </tr>\n",
       "    <tr>\n",
       "      <th>5</th>\n",
       "      <td>138</td>\n",
       "      <td>244</td>\n",
       "      <td>33</td>\n",
       "      <td>62</td>\n",
       "      <td>178</td>\n",
       "      <td>False</td>\n",
       "    </tr>\n",
       "    <tr>\n",
       "      <th>6</th>\n",
       "      <td>132</td>\n",
       "      <td>245</td>\n",
       "      <td>23</td>\n",
       "      <td>65</td>\n",
       "      <td>140</td>\n",
       "      <td>False</td>\n",
       "    </tr>\n",
       "    <tr>\n",
       "      <th>8</th>\n",
       "      <td>143</td>\n",
       "      <td>299</td>\n",
       "      <td>30</td>\n",
       "      <td>66</td>\n",
       "      <td>136</td>\n",
       "      <td>True</td>\n",
       "    </tr>\n",
       "    <tr>\n",
       "      <th>9</th>\n",
       "      <td>140</td>\n",
       "      <td>351</td>\n",
       "      <td>27</td>\n",
       "      <td>68</td>\n",
       "      <td>120</td>\n",
       "      <td>False</td>\n",
       "    </tr>\n",
       "    <tr>\n",
       "      <th>10</th>\n",
       "      <td>144</td>\n",
       "      <td>282</td>\n",
       "      <td>32</td>\n",
       "      <td>64</td>\n",
       "      <td>124</td>\n",
       "      <td>True</td>\n",
       "    </tr>\n",
       "    <tr>\n",
       "      <th>11</th>\n",
       "      <td>141</td>\n",
       "      <td>279</td>\n",
       "      <td>23</td>\n",
       "      <td>63</td>\n",
       "      <td>128</td>\n",
       "      <td>True</td>\n",
       "    </tr>\n",
       "    <tr>\n",
       "      <th>17</th>\n",
       "      <td>144</td>\n",
       "      <td>261</td>\n",
       "      <td>33</td>\n",
       "      <td>68</td>\n",
       "      <td>170</td>\n",
       "      <td>False</td>\n",
       "    </tr>\n",
       "    <tr>\n",
       "      <th>21</th>\n",
       "      <td>137</td>\n",
       "      <td>287</td>\n",
       "      <td>25</td>\n",
       "      <td>66</td>\n",
       "      <td>145</td>\n",
       "      <td>False</td>\n",
       "    </tr>\n",
       "    <tr>\n",
       "      <th>22</th>\n",
       "      <td>122</td>\n",
       "      <td>276</td>\n",
       "      <td>30</td>\n",
       "      <td>68</td>\n",
       "      <td>182</td>\n",
       "      <td>False</td>\n",
       "    </tr>\n",
       "    <tr>\n",
       "      <th>23</th>\n",
       "      <td>131</td>\n",
       "      <td>294</td>\n",
       "      <td>23</td>\n",
       "      <td>65</td>\n",
       "      <td>122</td>\n",
       "      <td>False</td>\n",
       "    </tr>\n",
       "    <tr>\n",
       "      <th>25</th>\n",
       "      <td>146</td>\n",
       "      <td>280</td>\n",
       "      <td>26</td>\n",
       "      <td>58</td>\n",
       "      <td>106</td>\n",
       "      <td>False</td>\n",
       "    </tr>\n",
       "    <tr>\n",
       "      <th>27</th>\n",
       "      <td>125</td>\n",
       "      <td>292</td>\n",
       "      <td>32</td>\n",
       "      <td>65</td>\n",
       "      <td>125</td>\n",
       "      <td>False</td>\n",
       "    </tr>\n",
       "    <tr>\n",
       "      <th>29</th>\n",
       "      <td>122</td>\n",
       "      <td>270</td>\n",
       "      <td>26</td>\n",
       "      <td>61</td>\n",
       "      <td>105</td>\n",
       "      <td>False</td>\n",
       "    </tr>\n",
       "    <tr>\n",
       "      <th>31</th>\n",
       "      <td>130</td>\n",
       "      <td>268</td>\n",
       "      <td>30</td>\n",
       "      <td>66</td>\n",
       "      <td>123</td>\n",
       "      <td>False</td>\n",
       "    </tr>\n",
       "    <tr>\n",
       "      <th>34</th>\n",
       "      <td>134</td>\n",
       "      <td>283</td>\n",
       "      <td>22</td>\n",
       "      <td>67</td>\n",
       "      <td>130</td>\n",
       "      <td>False</td>\n",
       "    </tr>\n",
       "    <tr>\n",
       "      <th>36</th>\n",
       "      <td>134</td>\n",
       "      <td>288</td>\n",
       "      <td>23</td>\n",
       "      <td>63</td>\n",
       "      <td>92</td>\n",
       "      <td>True</td>\n",
       "    </tr>\n",
       "    <tr>\n",
       "      <th>37</th>\n",
       "      <td>122</td>\n",
       "      <td>267</td>\n",
       "      <td>27</td>\n",
       "      <td>65</td>\n",
       "      <td>101</td>\n",
       "      <td>True</td>\n",
       "    </tr>\n",
       "    <tr>\n",
       "      <th>38</th>\n",
       "      <td>129</td>\n",
       "      <td>293</td>\n",
       "      <td>30</td>\n",
       "      <td>61</td>\n",
       "      <td>160</td>\n",
       "      <td>False</td>\n",
       "    </tr>\n",
       "    <tr>\n",
       "      <th>42</th>\n",
       "      <td>143</td>\n",
       "      <td>274</td>\n",
       "      <td>27</td>\n",
       "      <td>63</td>\n",
       "      <td>110</td>\n",
       "      <td>True</td>\n",
       "    </tr>\n",
       "    <tr>\n",
       "      <th>43</th>\n",
       "      <td>155</td>\n",
       "      <td>294</td>\n",
       "      <td>32</td>\n",
       "      <td>66</td>\n",
       "      <td>150</td>\n",
       "      <td>False</td>\n",
       "    </tr>\n",
       "    <tr>\n",
       "      <th>45</th>\n",
       "      <td>122</td>\n",
       "      <td>275</td>\n",
       "      <td>26</td>\n",
       "      <td>66</td>\n",
       "      <td>147</td>\n",
       "      <td>False</td>\n",
       "    </tr>\n",
       "    <tr>\n",
       "      <th>46</th>\n",
       "      <td>145</td>\n",
       "      <td>291</td>\n",
       "      <td>26</td>\n",
       "      <td>63</td>\n",
       "      <td>119</td>\n",
       "      <td>True</td>\n",
       "    </tr>\n",
       "    <tr>\n",
       "      <th>50</th>\n",
       "      <td>143</td>\n",
       "      <td>286</td>\n",
       "      <td>31</td>\n",
       "      <td>64</td>\n",
       "      <td>126</td>\n",
       "      <td>False</td>\n",
       "    </tr>\n",
       "    <tr>\n",
       "      <th>51</th>\n",
       "      <td>146</td>\n",
       "      <td>267</td>\n",
       "      <td>30</td>\n",
       "      <td>67</td>\n",
       "      <td>132</td>\n",
       "      <td>False</td>\n",
       "    </tr>\n",
       "    <tr>\n",
       "      <th>52</th>\n",
       "      <td>124</td>\n",
       "      <td>275</td>\n",
       "      <td>22</td>\n",
       "      <td>60</td>\n",
       "      <td>130</td>\n",
       "      <td>False</td>\n",
       "    </tr>\n",
       "    <tr>\n",
       "      <th>53</th>\n",
       "      <td>124</td>\n",
       "      <td>278</td>\n",
       "      <td>26</td>\n",
       "      <td>70</td>\n",
       "      <td>145</td>\n",
       "      <td>True</td>\n",
       "    </tr>\n",
       "    <tr>\n",
       "      <th>54</th>\n",
       "      <td>145</td>\n",
       "      <td>257</td>\n",
       "      <td>33</td>\n",
       "      <td>65</td>\n",
       "      <td>140</td>\n",
       "      <td>False</td>\n",
       "    </tr>\n",
       "    <tr>\n",
       "      <th>58</th>\n",
       "      <td>124</td>\n",
       "      <td>288</td>\n",
       "      <td>22</td>\n",
       "      <td>67</td>\n",
       "      <td>118</td>\n",
       "      <td>False</td>\n",
       "    </tr>\n",
       "    <tr>\n",
       "      <th>...</th>\n",
       "      <td>...</td>\n",
       "      <td>...</td>\n",
       "      <td>...</td>\n",
       "      <td>...</td>\n",
       "      <td>...</td>\n",
       "      <td>...</td>\n",
       "    </tr>\n",
       "    <tr>\n",
       "      <th>1099</th>\n",
       "      <td>141</td>\n",
       "      <td>293</td>\n",
       "      <td>28</td>\n",
       "      <td>61</td>\n",
       "      <td>125</td>\n",
       "      <td>False</td>\n",
       "    </tr>\n",
       "    <tr>\n",
       "      <th>1100</th>\n",
       "      <td>131</td>\n",
       "      <td>259</td>\n",
       "      <td>19</td>\n",
       "      <td>63</td>\n",
       "      <td>134</td>\n",
       "      <td>False</td>\n",
       "    </tr>\n",
       "    <tr>\n",
       "      <th>1101</th>\n",
       "      <td>130</td>\n",
       "      <td>290</td>\n",
       "      <td>19</td>\n",
       "      <td>65</td>\n",
       "      <td>123</td>\n",
       "      <td>True</td>\n",
       "    </tr>\n",
       "    <tr>\n",
       "      <th>1102</th>\n",
       "      <td>132</td>\n",
       "      <td>270</td>\n",
       "      <td>26</td>\n",
       "      <td>67</td>\n",
       "      <td>140</td>\n",
       "      <td>False</td>\n",
       "    </tr>\n",
       "    <tr>\n",
       "      <th>1104</th>\n",
       "      <td>160</td>\n",
       "      <td>291</td>\n",
       "      <td>34</td>\n",
       "      <td>64</td>\n",
       "      <td>110</td>\n",
       "      <td>True</td>\n",
       "    </tr>\n",
       "    <tr>\n",
       "      <th>1108</th>\n",
       "      <td>139</td>\n",
       "      <td>311</td>\n",
       "      <td>37</td>\n",
       "      <td>66</td>\n",
       "      <td>135</td>\n",
       "      <td>False</td>\n",
       "    </tr>\n",
       "    <tr>\n",
       "      <th>1110</th>\n",
       "      <td>130</td>\n",
       "      <td>294</td>\n",
       "      <td>32</td>\n",
       "      <td>63</td>\n",
       "      <td>110</td>\n",
       "      <td>True</td>\n",
       "    </tr>\n",
       "    <tr>\n",
       "      <th>1114</th>\n",
       "      <td>123</td>\n",
       "      <td>353</td>\n",
       "      <td>26</td>\n",
       "      <td>63</td>\n",
       "      <td>115</td>\n",
       "      <td>False</td>\n",
       "    </tr>\n",
       "    <tr>\n",
       "      <th>1116</th>\n",
       "      <td>124</td>\n",
       "      <td>289</td>\n",
       "      <td>21</td>\n",
       "      <td>67</td>\n",
       "      <td>145</td>\n",
       "      <td>True</td>\n",
       "    </tr>\n",
       "    <tr>\n",
       "      <th>1117</th>\n",
       "      <td>138</td>\n",
       "      <td>292</td>\n",
       "      <td>25</td>\n",
       "      <td>65</td>\n",
       "      <td>130</td>\n",
       "      <td>True</td>\n",
       "    </tr>\n",
       "    <tr>\n",
       "      <th>1119</th>\n",
       "      <td>128</td>\n",
       "      <td>241</td>\n",
       "      <td>17</td>\n",
       "      <td>64</td>\n",
       "      <td>126</td>\n",
       "      <td>False</td>\n",
       "    </tr>\n",
       "    <tr>\n",
       "      <th>1124</th>\n",
       "      <td>126</td>\n",
       "      <td>298</td>\n",
       "      <td>24</td>\n",
       "      <td>61</td>\n",
       "      <td>112</td>\n",
       "      <td>False</td>\n",
       "    </tr>\n",
       "    <tr>\n",
       "      <th>1125</th>\n",
       "      <td>122</td>\n",
       "      <td>275</td>\n",
       "      <td>20</td>\n",
       "      <td>65</td>\n",
       "      <td>127</td>\n",
       "      <td>False</td>\n",
       "    </tr>\n",
       "    <tr>\n",
       "      <th>1126</th>\n",
       "      <td>152</td>\n",
       "      <td>295</td>\n",
       "      <td>39</td>\n",
       "      <td>62</td>\n",
       "      <td>140</td>\n",
       "      <td>False</td>\n",
       "    </tr>\n",
       "    <tr>\n",
       "      <th>1128</th>\n",
       "      <td>132</td>\n",
       "      <td>302</td>\n",
       "      <td>36</td>\n",
       "      <td>63</td>\n",
       "      <td>145</td>\n",
       "      <td>True</td>\n",
       "    </tr>\n",
       "    <tr>\n",
       "      <th>1132</th>\n",
       "      <td>139</td>\n",
       "      <td>291</td>\n",
       "      <td>24</td>\n",
       "      <td>65</td>\n",
       "      <td>160</td>\n",
       "      <td>False</td>\n",
       "    </tr>\n",
       "    <tr>\n",
       "      <th>1141</th>\n",
       "      <td>130</td>\n",
       "      <td>297</td>\n",
       "      <td>32</td>\n",
       "      <td>58</td>\n",
       "      <td>130</td>\n",
       "      <td>False</td>\n",
       "    </tr>\n",
       "    <tr>\n",
       "      <th>1145</th>\n",
       "      <td>127</td>\n",
       "      <td>242</td>\n",
       "      <td>17</td>\n",
       "      <td>61</td>\n",
       "      <td>135</td>\n",
       "      <td>True</td>\n",
       "    </tr>\n",
       "    <tr>\n",
       "      <th>1147</th>\n",
       "      <td>141</td>\n",
       "      <td>281</td>\n",
       "      <td>29</td>\n",
       "      <td>54</td>\n",
       "      <td>156</td>\n",
       "      <td>True</td>\n",
       "    </tr>\n",
       "    <tr>\n",
       "      <th>1148</th>\n",
       "      <td>144</td>\n",
       "      <td>283</td>\n",
       "      <td>25</td>\n",
       "      <td>66</td>\n",
       "      <td>140</td>\n",
       "      <td>False</td>\n",
       "    </tr>\n",
       "    <tr>\n",
       "      <th>1151</th>\n",
       "      <td>138</td>\n",
       "      <td>286</td>\n",
       "      <td>28</td>\n",
       "      <td>68</td>\n",
       "      <td>120</td>\n",
       "      <td>False</td>\n",
       "    </tr>\n",
       "    <tr>\n",
       "      <th>1155</th>\n",
       "      <td>146</td>\n",
       "      <td>319</td>\n",
       "      <td>28</td>\n",
       "      <td>66</td>\n",
       "      <td>145</td>\n",
       "      <td>False</td>\n",
       "    </tr>\n",
       "    <tr>\n",
       "      <th>1158</th>\n",
       "      <td>135</td>\n",
       "      <td>284</td>\n",
       "      <td>19</td>\n",
       "      <td>60</td>\n",
       "      <td>95</td>\n",
       "      <td>False</td>\n",
       "    </tr>\n",
       "    <tr>\n",
       "      <th>1160</th>\n",
       "      <td>124</td>\n",
       "      <td>288</td>\n",
       "      <td>21</td>\n",
       "      <td>64</td>\n",
       "      <td>116</td>\n",
       "      <td>True</td>\n",
       "    </tr>\n",
       "    <tr>\n",
       "      <th>1162</th>\n",
       "      <td>143</td>\n",
       "      <td>281</td>\n",
       "      <td>28</td>\n",
       "      <td>65</td>\n",
       "      <td>135</td>\n",
       "      <td>True</td>\n",
       "    </tr>\n",
       "    <tr>\n",
       "      <th>1167</th>\n",
       "      <td>127</td>\n",
       "      <td>290</td>\n",
       "      <td>27</td>\n",
       "      <td>65</td>\n",
       "      <td>121</td>\n",
       "      <td>False</td>\n",
       "    </tr>\n",
       "    <tr>\n",
       "      <th>1168</th>\n",
       "      <td>132</td>\n",
       "      <td>270</td>\n",
       "      <td>27</td>\n",
       "      <td>65</td>\n",
       "      <td>126</td>\n",
       "      <td>False</td>\n",
       "    </tr>\n",
       "    <tr>\n",
       "      <th>1170</th>\n",
       "      <td>128</td>\n",
       "      <td>265</td>\n",
       "      <td>24</td>\n",
       "      <td>67</td>\n",
       "      <td>120</td>\n",
       "      <td>False</td>\n",
       "    </tr>\n",
       "    <tr>\n",
       "      <th>1171</th>\n",
       "      <td>130</td>\n",
       "      <td>291</td>\n",
       "      <td>30</td>\n",
       "      <td>65</td>\n",
       "      <td>150</td>\n",
       "      <td>True</td>\n",
       "    </tr>\n",
       "    <tr>\n",
       "      <th>1172</th>\n",
       "      <td>125</td>\n",
       "      <td>281</td>\n",
       "      <td>21</td>\n",
       "      <td>65</td>\n",
       "      <td>110</td>\n",
       "      <td>False</td>\n",
       "    </tr>\n",
       "  </tbody>\n",
       "</table>\n",
       "<p>568 rows × 6 columns</p>\n",
       "</div>"
      ],
      "text/plain": [
       "      Birth.Weight  Gestational.Days  Maternal.Age  Maternal.Height  \\\n",
       "2              128               279            28               64   \n",
       "4              136               286            25               62   \n",
       "5              138               244            33               62   \n",
       "6              132               245            23               65   \n",
       "8              143               299            30               66   \n",
       "...            ...               ...           ...              ...   \n",
       "1167           127               290            27               65   \n",
       "1168           132               270            27               65   \n",
       "1170           128               265            24               67   \n",
       "1171           130               291            30               65   \n",
       "1172           125               281            21               65   \n",
       "\n",
       "      Maternal.Pregnancy.Weight  Maternal.Smoker  \n",
       "2                           115             True  \n",
       "4                            93            False  \n",
       "5                           178            False  \n",
       "6                           140            False  \n",
       "8                           136             True  \n",
       "...                         ...              ...  \n",
       "1167                        121            False  \n",
       "1168                        126            False  \n",
       "1170                        120            False  \n",
       "1171                        150             True  \n",
       "1172                        110            False  \n",
       "\n",
       "[568 rows x 6 columns]"
      ]
     },
     "execution_count": 55,
     "metadata": {},
     "output_type": "execute_result"
    }
   ],
   "source": [
    "# pandas\n",
    "# Select all rows that are True in the boolean series baby_df['Birth.Weight'] > 120.\n",
    "baby_df.loc[baby_df['Birth.Weight'] > 120, :]"
   ]
  },
  {
   "cell_type": "markdown",
   "metadata": {
    "cell_id": "e8e27dd5-e116-42f3-8fe2-cb6a2439c55f",
    "deepnote_cell_type": "markdown",
    "tags": []
   },
   "source": [
    "Notably, `.loc` returns all columns by default so we can omit the column argument and get the same result."
   ]
  },
  {
   "cell_type": "code",
   "execution_count": null,
   "metadata": {
    "cell_id": "b756d93c-2ce9-413e-8ab2-a9060a922138",
    "deepnote_cell_type": "code",
    "tags": []
   },
   "outputs": [
    {
     "data": {
      "application/vnd.deepnote.dataframe+json": {
       "numColumns": 6,
       "numElements": 568,
       "variableDetails": {
        "columns": [
         {
          "name": "Birth.Weight",
          "stats": {
           "25%": 126,
           "50%": 131,
           "75%": 140,
           "count": 568,
           "max": 176,
           "mean": 134.1549295774648,
           "min": 121,
           "nan_count": 0,
           "std": 10.877412659629652
          }
         },
         {
          "name": "Gestational.Days",
          "stats": {
           "25%": 277,
           "50%": 284,
           "75%": 290,
           "count": 568,
           "max": 353,
           "mean": 283.61091549295776,
           "min": 225,
           "nan_count": 0,
           "std": 13.183350378516174
          }
         },
         {
          "name": "Maternal.Age",
          "stats": {
           "25%": 23,
           "50%": 27,
           "75%": 30.25,
           "count": 568,
           "max": 45,
           "mean": 27.283450704225352,
           "min": 17,
           "nan_count": 0,
           "std": 5.7874407043057365
          }
         },
         {
          "name": "Maternal.Height",
          "stats": {
           "25%": 63,
           "50%": 65,
           "75%": 66,
           "count": 568,
           "max": 72,
           "mean": 64.58978873239437,
           "min": 53,
           "nan_count": 0,
           "std": 2.470075142073995
          }
         },
         {
          "name": "Maternal.Pregnancy.Weight",
          "stats": {
           "25%": 118,
           "50%": 129,
           "75%": 140,
           "count": 568,
           "max": 250,
           "mean": 131.63908450704224,
           "min": 89,
           "nan_count": 0,
           "std": 20.965370470105082
          }
         },
         {
          "name": "Maternal.Smoker",
          "stats": {
           "count": 568,
           "freq": 406,
           "nan_count": 0,
           "top": false,
           "unique": 2
          }
         }
        ],
        "dataframe": {
         "101": {
          "Birth.Weight": 137,
          "Gestational.Days": 274,
          "Maternal.Age": 29,
          "Maternal.Height": 65,
          "Maternal.Pregnancy.Weight": 154,
          "Maternal.Smoker": false
         },
         "1065": {
          "Birth.Weight": 133,
          "Gestational.Days": 289,
          "Maternal.Age": 22,
          "Maternal.Height": 65,
          "Maternal.Pregnancy.Weight": 123,
          "Maternal.Smoker": true
         },
         "1089": {
          "Birth.Weight": 156,
          "Gestational.Days": 300,
          "Maternal.Age": 27,
          "Maternal.Height": 65,
          "Maternal.Pregnancy.Weight": 120,
          "Maternal.Smoker": true
         },
         "1108": {
          "Birth.Weight": 139,
          "Gestational.Days": 311,
          "Maternal.Age": 37,
          "Maternal.Height": 66,
          "Maternal.Pregnancy.Weight": 135,
          "Maternal.Smoker": false
         },
         "149": {
          "Birth.Weight": 125,
          "Gestational.Days": 262,
          "Maternal.Age": 36,
          "Maternal.Height": 66,
          "Maternal.Pregnancy.Weight": 190,
          "Maternal.Smoker": false
         },
         "194": {
          "Birth.Weight": 127,
          "Gestational.Days": 270,
          "Maternal.Age": 25,
          "Maternal.Height": 62,
          "Maternal.Pregnancy.Weight": 150,
          "Maternal.Smoker": false
         },
         "403": {
          "Birth.Weight": 132,
          "Gestational.Days": 278,
          "Maternal.Age": 20,
          "Maternal.Height": 64,
          "Maternal.Pregnancy.Weight": 150,
          "Maternal.Smoker": true
         },
         "417": {
          "Birth.Weight": 132,
          "Gestational.Days": 281,
          "Maternal.Age": 21,
          "Maternal.Height": 67,
          "Maternal.Pregnancy.Weight": 140,
          "Maternal.Smoker": false
         },
         "513": {
          "Birth.Weight": 124,
          "Gestational.Days": 300,
          "Maternal.Age": 28,
          "Maternal.Height": 63,
          "Maternal.Pregnancy.Weight": 95,
          "Maternal.Smoker": false
         },
         "839": {
          "Birth.Weight": 151,
          "Gestational.Days": 286,
          "Maternal.Age": 22,
          "Maternal.Height": 66,
          "Maternal.Pregnancy.Weight": 130,
          "Maternal.Smoker": false
         }
        },
        "frequencyInfo": [
         {
          "frequencyData": [
           {
            "x": 121,
            "y": 158
           },
           {
            "x": 126.5,
            "y": 130
           },
           {
            "x": 132,
            "y": 103
           },
           {
            "x": 137.5,
            "y": 60
           },
           {
            "x": 143,
            "y": 58
           },
           {
            "x": 148.5,
            "y": 19
           },
           {
            "x": 154,
            "y": 19
           },
           {
            "x": 159.5,
            "y": 11
           },
           {
            "x": 165,
            "y": 5
           },
           {
            "x": 170.5,
            "y": 5
           }
          ],
          "type": "hist"
         },
         {
          "frequencyData": [
           {
            "x": 225,
            "y": 2
           },
           {
            "x": 237.8,
            "y": 7
           },
           {
            "x": 250.6,
            "y": 21
           },
           {
            "x": 263.4,
            "y": 109
           },
           {
            "x": 276.2,
            "y": 250
           },
           {
            "x": 289,
            "y": 144
           },
           {
            "x": 301.8,
            "y": 23
           },
           {
            "x": 314.6,
            "y": 8
           },
           {
            "x": 327.4,
            "y": 2
           },
           {
            "x": 340.2,
            "y": 2
           }
          ],
          "type": "hist"
         },
         {
          "frequencyData": [
           {
            "x": 17,
            "y": 35
           },
           {
            "x": 19.8,
            "y": 94
           },
           {
            "x": 22.6,
            "y": 114
           },
           {
            "x": 25.4,
            "y": 116
           },
           {
            "x": 28.2,
            "y": 67
           },
           {
            "x": 31,
            "y": 55
           },
           {
            "x": 33.8,
            "y": 36
           },
           {
            "x": 36.599999999999994,
            "y": 32
           },
           {
            "x": 39.4,
            "y": 15
           },
           {
            "x": 42.2,
            "y": 4
           }
          ],
          "type": "hist"
         },
         {
          "frequencyData": [
           {
            "x": 53,
            "y": 2
           },
           {
            "x": 54.9,
            "y": 0
           },
           {
            "x": 56.8,
            "y": 4
           },
           {
            "x": 58.7,
            "y": 16
           },
           {
            "x": 60.6,
            "y": 87
           },
           {
            "x": 62.5,
            "y": 156
           },
           {
            "x": 64.4,
            "y": 184
           },
           {
            "x": 66.3,
            "y": 93
           },
           {
            "x": 68.2,
            "y": 21
           },
           {
            "x": 70.1,
            "y": 5
           }
          ],
          "type": "hist"
         },
         {
          "frequencyData": [
           {
            "x": 89,
            "y": 34
           },
           {
            "x": 105.1,
            "y": 146
           },
           {
            "x": 121.2,
            "y": 222
           },
           {
            "x": 137.3,
            "y": 95
           },
           {
            "x": 153.4,
            "y": 39
           },
           {
            "x": 169.5,
            "y": 19
           },
           {
            "x": 185.60000000000002,
            "y": 6
           },
           {
            "x": 201.70000000000002,
            "y": 5
           },
           {
            "x": 217.8,
            "y": 1
           },
           {
            "x": 233.9,
            "y": 1
           }
          ],
          "type": "hist"
         },
         {
          "frequencyData": [
           {
            "x": 0,
            "y": 406
           },
           {
            "x": 0.1,
            "y": 0
           },
           {
            "x": 0.2,
            "y": 0
           },
           {
            "x": 0.30000000000000004,
            "y": 0
           },
           {
            "x": 0.4,
            "y": 0
           },
           {
            "x": 0.5,
            "y": 0
           },
           {
            "x": 0.6000000000000001,
            "y": 0
           },
           {
            "x": 0.7000000000000001,
            "y": 0
           },
           {
            "x": 0.8,
            "y": 0
           },
           {
            "x": 0.9,
            "y": 162
           }
          ],
          "type": "hist"
         }
        ]
       }
      },
      "text/html": [
       "<div>\n",
       "<style scoped>\n",
       "    .dataframe tbody tr th:only-of-type {\n",
       "        vertical-align: middle;\n",
       "    }\n",
       "\n",
       "    .dataframe tbody tr th {\n",
       "        vertical-align: top;\n",
       "    }\n",
       "\n",
       "    .dataframe thead th {\n",
       "        text-align: right;\n",
       "    }\n",
       "</style>\n",
       "<table border=\"1\" class=\"dataframe\">\n",
       "  <thead>\n",
       "    <tr style=\"text-align: right;\">\n",
       "      <th></th>\n",
       "      <th>Birth.Weight</th>\n",
       "      <th>Gestational.Days</th>\n",
       "      <th>Maternal.Age</th>\n",
       "      <th>Maternal.Height</th>\n",
       "      <th>Maternal.Pregnancy.Weight</th>\n",
       "      <th>Maternal.Smoker</th>\n",
       "    </tr>\n",
       "  </thead>\n",
       "  <tbody>\n",
       "    <tr>\n",
       "      <th>2</th>\n",
       "      <td>128</td>\n",
       "      <td>279</td>\n",
       "      <td>28</td>\n",
       "      <td>64</td>\n",
       "      <td>115</td>\n",
       "      <td>True</td>\n",
       "    </tr>\n",
       "    <tr>\n",
       "      <th>4</th>\n",
       "      <td>136</td>\n",
       "      <td>286</td>\n",
       "      <td>25</td>\n",
       "      <td>62</td>\n",
       "      <td>93</td>\n",
       "      <td>False</td>\n",
       "    </tr>\n",
       "    <tr>\n",
       "      <th>5</th>\n",
       "      <td>138</td>\n",
       "      <td>244</td>\n",
       "      <td>33</td>\n",
       "      <td>62</td>\n",
       "      <td>178</td>\n",
       "      <td>False</td>\n",
       "    </tr>\n",
       "    <tr>\n",
       "      <th>6</th>\n",
       "      <td>132</td>\n",
       "      <td>245</td>\n",
       "      <td>23</td>\n",
       "      <td>65</td>\n",
       "      <td>140</td>\n",
       "      <td>False</td>\n",
       "    </tr>\n",
       "    <tr>\n",
       "      <th>8</th>\n",
       "      <td>143</td>\n",
       "      <td>299</td>\n",
       "      <td>30</td>\n",
       "      <td>66</td>\n",
       "      <td>136</td>\n",
       "      <td>True</td>\n",
       "    </tr>\n",
       "    <tr>\n",
       "      <th>9</th>\n",
       "      <td>140</td>\n",
       "      <td>351</td>\n",
       "      <td>27</td>\n",
       "      <td>68</td>\n",
       "      <td>120</td>\n",
       "      <td>False</td>\n",
       "    </tr>\n",
       "    <tr>\n",
       "      <th>10</th>\n",
       "      <td>144</td>\n",
       "      <td>282</td>\n",
       "      <td>32</td>\n",
       "      <td>64</td>\n",
       "      <td>124</td>\n",
       "      <td>True</td>\n",
       "    </tr>\n",
       "    <tr>\n",
       "      <th>11</th>\n",
       "      <td>141</td>\n",
       "      <td>279</td>\n",
       "      <td>23</td>\n",
       "      <td>63</td>\n",
       "      <td>128</td>\n",
       "      <td>True</td>\n",
       "    </tr>\n",
       "    <tr>\n",
       "      <th>17</th>\n",
       "      <td>144</td>\n",
       "      <td>261</td>\n",
       "      <td>33</td>\n",
       "      <td>68</td>\n",
       "      <td>170</td>\n",
       "      <td>False</td>\n",
       "    </tr>\n",
       "    <tr>\n",
       "      <th>21</th>\n",
       "      <td>137</td>\n",
       "      <td>287</td>\n",
       "      <td>25</td>\n",
       "      <td>66</td>\n",
       "      <td>145</td>\n",
       "      <td>False</td>\n",
       "    </tr>\n",
       "    <tr>\n",
       "      <th>22</th>\n",
       "      <td>122</td>\n",
       "      <td>276</td>\n",
       "      <td>30</td>\n",
       "      <td>68</td>\n",
       "      <td>182</td>\n",
       "      <td>False</td>\n",
       "    </tr>\n",
       "    <tr>\n",
       "      <th>23</th>\n",
       "      <td>131</td>\n",
       "      <td>294</td>\n",
       "      <td>23</td>\n",
       "      <td>65</td>\n",
       "      <td>122</td>\n",
       "      <td>False</td>\n",
       "    </tr>\n",
       "    <tr>\n",
       "      <th>25</th>\n",
       "      <td>146</td>\n",
       "      <td>280</td>\n",
       "      <td>26</td>\n",
       "      <td>58</td>\n",
       "      <td>106</td>\n",
       "      <td>False</td>\n",
       "    </tr>\n",
       "    <tr>\n",
       "      <th>27</th>\n",
       "      <td>125</td>\n",
       "      <td>292</td>\n",
       "      <td>32</td>\n",
       "      <td>65</td>\n",
       "      <td>125</td>\n",
       "      <td>False</td>\n",
       "    </tr>\n",
       "    <tr>\n",
       "      <th>29</th>\n",
       "      <td>122</td>\n",
       "      <td>270</td>\n",
       "      <td>26</td>\n",
       "      <td>61</td>\n",
       "      <td>105</td>\n",
       "      <td>False</td>\n",
       "    </tr>\n",
       "    <tr>\n",
       "      <th>31</th>\n",
       "      <td>130</td>\n",
       "      <td>268</td>\n",
       "      <td>30</td>\n",
       "      <td>66</td>\n",
       "      <td>123</td>\n",
       "      <td>False</td>\n",
       "    </tr>\n",
       "    <tr>\n",
       "      <th>34</th>\n",
       "      <td>134</td>\n",
       "      <td>283</td>\n",
       "      <td>22</td>\n",
       "      <td>67</td>\n",
       "      <td>130</td>\n",
       "      <td>False</td>\n",
       "    </tr>\n",
       "    <tr>\n",
       "      <th>36</th>\n",
       "      <td>134</td>\n",
       "      <td>288</td>\n",
       "      <td>23</td>\n",
       "      <td>63</td>\n",
       "      <td>92</td>\n",
       "      <td>True</td>\n",
       "    </tr>\n",
       "    <tr>\n",
       "      <th>37</th>\n",
       "      <td>122</td>\n",
       "      <td>267</td>\n",
       "      <td>27</td>\n",
       "      <td>65</td>\n",
       "      <td>101</td>\n",
       "      <td>True</td>\n",
       "    </tr>\n",
       "    <tr>\n",
       "      <th>38</th>\n",
       "      <td>129</td>\n",
       "      <td>293</td>\n",
       "      <td>30</td>\n",
       "      <td>61</td>\n",
       "      <td>160</td>\n",
       "      <td>False</td>\n",
       "    </tr>\n",
       "    <tr>\n",
       "      <th>42</th>\n",
       "      <td>143</td>\n",
       "      <td>274</td>\n",
       "      <td>27</td>\n",
       "      <td>63</td>\n",
       "      <td>110</td>\n",
       "      <td>True</td>\n",
       "    </tr>\n",
       "    <tr>\n",
       "      <th>43</th>\n",
       "      <td>155</td>\n",
       "      <td>294</td>\n",
       "      <td>32</td>\n",
       "      <td>66</td>\n",
       "      <td>150</td>\n",
       "      <td>False</td>\n",
       "    </tr>\n",
       "    <tr>\n",
       "      <th>45</th>\n",
       "      <td>122</td>\n",
       "      <td>275</td>\n",
       "      <td>26</td>\n",
       "      <td>66</td>\n",
       "      <td>147</td>\n",
       "      <td>False</td>\n",
       "    </tr>\n",
       "    <tr>\n",
       "      <th>46</th>\n",
       "      <td>145</td>\n",
       "      <td>291</td>\n",
       "      <td>26</td>\n",
       "      <td>63</td>\n",
       "      <td>119</td>\n",
       "      <td>True</td>\n",
       "    </tr>\n",
       "    <tr>\n",
       "      <th>50</th>\n",
       "      <td>143</td>\n",
       "      <td>286</td>\n",
       "      <td>31</td>\n",
       "      <td>64</td>\n",
       "      <td>126</td>\n",
       "      <td>False</td>\n",
       "    </tr>\n",
       "    <tr>\n",
       "      <th>51</th>\n",
       "      <td>146</td>\n",
       "      <td>267</td>\n",
       "      <td>30</td>\n",
       "      <td>67</td>\n",
       "      <td>132</td>\n",
       "      <td>False</td>\n",
       "    </tr>\n",
       "    <tr>\n",
       "      <th>52</th>\n",
       "      <td>124</td>\n",
       "      <td>275</td>\n",
       "      <td>22</td>\n",
       "      <td>60</td>\n",
       "      <td>130</td>\n",
       "      <td>False</td>\n",
       "    </tr>\n",
       "    <tr>\n",
       "      <th>53</th>\n",
       "      <td>124</td>\n",
       "      <td>278</td>\n",
       "      <td>26</td>\n",
       "      <td>70</td>\n",
       "      <td>145</td>\n",
       "      <td>True</td>\n",
       "    </tr>\n",
       "    <tr>\n",
       "      <th>54</th>\n",
       "      <td>145</td>\n",
       "      <td>257</td>\n",
       "      <td>33</td>\n",
       "      <td>65</td>\n",
       "      <td>140</td>\n",
       "      <td>False</td>\n",
       "    </tr>\n",
       "    <tr>\n",
       "      <th>58</th>\n",
       "      <td>124</td>\n",
       "      <td>288</td>\n",
       "      <td>22</td>\n",
       "      <td>67</td>\n",
       "      <td>118</td>\n",
       "      <td>False</td>\n",
       "    </tr>\n",
       "    <tr>\n",
       "      <th>...</th>\n",
       "      <td>...</td>\n",
       "      <td>...</td>\n",
       "      <td>...</td>\n",
       "      <td>...</td>\n",
       "      <td>...</td>\n",
       "      <td>...</td>\n",
       "    </tr>\n",
       "    <tr>\n",
       "      <th>1099</th>\n",
       "      <td>141</td>\n",
       "      <td>293</td>\n",
       "      <td>28</td>\n",
       "      <td>61</td>\n",
       "      <td>125</td>\n",
       "      <td>False</td>\n",
       "    </tr>\n",
       "    <tr>\n",
       "      <th>1100</th>\n",
       "      <td>131</td>\n",
       "      <td>259</td>\n",
       "      <td>19</td>\n",
       "      <td>63</td>\n",
       "      <td>134</td>\n",
       "      <td>False</td>\n",
       "    </tr>\n",
       "    <tr>\n",
       "      <th>1101</th>\n",
       "      <td>130</td>\n",
       "      <td>290</td>\n",
       "      <td>19</td>\n",
       "      <td>65</td>\n",
       "      <td>123</td>\n",
       "      <td>True</td>\n",
       "    </tr>\n",
       "    <tr>\n",
       "      <th>1102</th>\n",
       "      <td>132</td>\n",
       "      <td>270</td>\n",
       "      <td>26</td>\n",
       "      <td>67</td>\n",
       "      <td>140</td>\n",
       "      <td>False</td>\n",
       "    </tr>\n",
       "    <tr>\n",
       "      <th>1104</th>\n",
       "      <td>160</td>\n",
       "      <td>291</td>\n",
       "      <td>34</td>\n",
       "      <td>64</td>\n",
       "      <td>110</td>\n",
       "      <td>True</td>\n",
       "    </tr>\n",
       "    <tr>\n",
       "      <th>1108</th>\n",
       "      <td>139</td>\n",
       "      <td>311</td>\n",
       "      <td>37</td>\n",
       "      <td>66</td>\n",
       "      <td>135</td>\n",
       "      <td>False</td>\n",
       "    </tr>\n",
       "    <tr>\n",
       "      <th>1110</th>\n",
       "      <td>130</td>\n",
       "      <td>294</td>\n",
       "      <td>32</td>\n",
       "      <td>63</td>\n",
       "      <td>110</td>\n",
       "      <td>True</td>\n",
       "    </tr>\n",
       "    <tr>\n",
       "      <th>1114</th>\n",
       "      <td>123</td>\n",
       "      <td>353</td>\n",
       "      <td>26</td>\n",
       "      <td>63</td>\n",
       "      <td>115</td>\n",
       "      <td>False</td>\n",
       "    </tr>\n",
       "    <tr>\n",
       "      <th>1116</th>\n",
       "      <td>124</td>\n",
       "      <td>289</td>\n",
       "      <td>21</td>\n",
       "      <td>67</td>\n",
       "      <td>145</td>\n",
       "      <td>True</td>\n",
       "    </tr>\n",
       "    <tr>\n",
       "      <th>1117</th>\n",
       "      <td>138</td>\n",
       "      <td>292</td>\n",
       "      <td>25</td>\n",
       "      <td>65</td>\n",
       "      <td>130</td>\n",
       "      <td>True</td>\n",
       "    </tr>\n",
       "    <tr>\n",
       "      <th>1119</th>\n",
       "      <td>128</td>\n",
       "      <td>241</td>\n",
       "      <td>17</td>\n",
       "      <td>64</td>\n",
       "      <td>126</td>\n",
       "      <td>False</td>\n",
       "    </tr>\n",
       "    <tr>\n",
       "      <th>1124</th>\n",
       "      <td>126</td>\n",
       "      <td>298</td>\n",
       "      <td>24</td>\n",
       "      <td>61</td>\n",
       "      <td>112</td>\n",
       "      <td>False</td>\n",
       "    </tr>\n",
       "    <tr>\n",
       "      <th>1125</th>\n",
       "      <td>122</td>\n",
       "      <td>275</td>\n",
       "      <td>20</td>\n",
       "      <td>65</td>\n",
       "      <td>127</td>\n",
       "      <td>False</td>\n",
       "    </tr>\n",
       "    <tr>\n",
       "      <th>1126</th>\n",
       "      <td>152</td>\n",
       "      <td>295</td>\n",
       "      <td>39</td>\n",
       "      <td>62</td>\n",
       "      <td>140</td>\n",
       "      <td>False</td>\n",
       "    </tr>\n",
       "    <tr>\n",
       "      <th>1128</th>\n",
       "      <td>132</td>\n",
       "      <td>302</td>\n",
       "      <td>36</td>\n",
       "      <td>63</td>\n",
       "      <td>145</td>\n",
       "      <td>True</td>\n",
       "    </tr>\n",
       "    <tr>\n",
       "      <th>1132</th>\n",
       "      <td>139</td>\n",
       "      <td>291</td>\n",
       "      <td>24</td>\n",
       "      <td>65</td>\n",
       "      <td>160</td>\n",
       "      <td>False</td>\n",
       "    </tr>\n",
       "    <tr>\n",
       "      <th>1141</th>\n",
       "      <td>130</td>\n",
       "      <td>297</td>\n",
       "      <td>32</td>\n",
       "      <td>58</td>\n",
       "      <td>130</td>\n",
       "      <td>False</td>\n",
       "    </tr>\n",
       "    <tr>\n",
       "      <th>1145</th>\n",
       "      <td>127</td>\n",
       "      <td>242</td>\n",
       "      <td>17</td>\n",
       "      <td>61</td>\n",
       "      <td>135</td>\n",
       "      <td>True</td>\n",
       "    </tr>\n",
       "    <tr>\n",
       "      <th>1147</th>\n",
       "      <td>141</td>\n",
       "      <td>281</td>\n",
       "      <td>29</td>\n",
       "      <td>54</td>\n",
       "      <td>156</td>\n",
       "      <td>True</td>\n",
       "    </tr>\n",
       "    <tr>\n",
       "      <th>1148</th>\n",
       "      <td>144</td>\n",
       "      <td>283</td>\n",
       "      <td>25</td>\n",
       "      <td>66</td>\n",
       "      <td>140</td>\n",
       "      <td>False</td>\n",
       "    </tr>\n",
       "    <tr>\n",
       "      <th>1151</th>\n",
       "      <td>138</td>\n",
       "      <td>286</td>\n",
       "      <td>28</td>\n",
       "      <td>68</td>\n",
       "      <td>120</td>\n",
       "      <td>False</td>\n",
       "    </tr>\n",
       "    <tr>\n",
       "      <th>1155</th>\n",
       "      <td>146</td>\n",
       "      <td>319</td>\n",
       "      <td>28</td>\n",
       "      <td>66</td>\n",
       "      <td>145</td>\n",
       "      <td>False</td>\n",
       "    </tr>\n",
       "    <tr>\n",
       "      <th>1158</th>\n",
       "      <td>135</td>\n",
       "      <td>284</td>\n",
       "      <td>19</td>\n",
       "      <td>60</td>\n",
       "      <td>95</td>\n",
       "      <td>False</td>\n",
       "    </tr>\n",
       "    <tr>\n",
       "      <th>1160</th>\n",
       "      <td>124</td>\n",
       "      <td>288</td>\n",
       "      <td>21</td>\n",
       "      <td>64</td>\n",
       "      <td>116</td>\n",
       "      <td>True</td>\n",
       "    </tr>\n",
       "    <tr>\n",
       "      <th>1162</th>\n",
       "      <td>143</td>\n",
       "      <td>281</td>\n",
       "      <td>28</td>\n",
       "      <td>65</td>\n",
       "      <td>135</td>\n",
       "      <td>True</td>\n",
       "    </tr>\n",
       "    <tr>\n",
       "      <th>1167</th>\n",
       "      <td>127</td>\n",
       "      <td>290</td>\n",
       "      <td>27</td>\n",
       "      <td>65</td>\n",
       "      <td>121</td>\n",
       "      <td>False</td>\n",
       "    </tr>\n",
       "    <tr>\n",
       "      <th>1168</th>\n",
       "      <td>132</td>\n",
       "      <td>270</td>\n",
       "      <td>27</td>\n",
       "      <td>65</td>\n",
       "      <td>126</td>\n",
       "      <td>False</td>\n",
       "    </tr>\n",
       "    <tr>\n",
       "      <th>1170</th>\n",
       "      <td>128</td>\n",
       "      <td>265</td>\n",
       "      <td>24</td>\n",
       "      <td>67</td>\n",
       "      <td>120</td>\n",
       "      <td>False</td>\n",
       "    </tr>\n",
       "    <tr>\n",
       "      <th>1171</th>\n",
       "      <td>130</td>\n",
       "      <td>291</td>\n",
       "      <td>30</td>\n",
       "      <td>65</td>\n",
       "      <td>150</td>\n",
       "      <td>True</td>\n",
       "    </tr>\n",
       "    <tr>\n",
       "      <th>1172</th>\n",
       "      <td>125</td>\n",
       "      <td>281</td>\n",
       "      <td>21</td>\n",
       "      <td>65</td>\n",
       "      <td>110</td>\n",
       "      <td>False</td>\n",
       "    </tr>\n",
       "  </tbody>\n",
       "</table>\n",
       "<p>568 rows × 6 columns</p>\n",
       "</div>"
      ],
      "text/plain": [
       "      Birth.Weight  Gestational.Days  Maternal.Age  Maternal.Height  \\\n",
       "2              128               279            28               64   \n",
       "4              136               286            25               62   \n",
       "5              138               244            33               62   \n",
       "6              132               245            23               65   \n",
       "8              143               299            30               66   \n",
       "...            ...               ...           ...              ...   \n",
       "1167           127               290            27               65   \n",
       "1168           132               270            27               65   \n",
       "1170           128               265            24               67   \n",
       "1171           130               291            30               65   \n",
       "1172           125               281            21               65   \n",
       "\n",
       "      Maternal.Pregnancy.Weight  Maternal.Smoker  \n",
       "2                           115             True  \n",
       "4                            93            False  \n",
       "5                           178            False  \n",
       "6                           140            False  \n",
       "8                           136             True  \n",
       "...                         ...              ...  \n",
       "1167                        121            False  \n",
       "1168                        126            False  \n",
       "1170                        120            False  \n",
       "1171                        150             True  \n",
       "1172                        110            False  \n",
       "\n",
       "[568 rows x 6 columns]"
      ]
     },
     "execution_count": 56,
     "metadata": {},
     "output_type": "execute_result"
    }
   ],
   "source": [
    "# pandas\n",
    "# Select all rows that are True in the boolean series baby_df['Birth.Weight'] > 120.\n",
    "baby_df.loc[baby_df['Birth.Weight'] > 120]"
   ]
  },
  {
   "cell_type": "markdown",
   "metadata": {
    "cell_id": "2c157959-1b58-40b7-b15f-58524024ed6b",
    "deepnote_cell_type": "markdown",
    "tags": []
   },
   "source": [
    "Boolean indexing is a very popular way to conduct filtering in `pandas`. As such, there exists another special case short-ahnd where we don't need the `.loc` or the `:`."
   ]
  },
  {
   "cell_type": "code",
   "execution_count": null,
   "metadata": {
    "cell_id": "e99dd6c4-6283-4883-bbda-5e73dccb3d13",
    "deepnote_cell_type": "code",
    "tags": []
   },
   "outputs": [
    {
     "data": {
      "application/vnd.deepnote.dataframe+json": {
       "numColumns": 6,
       "numElements": 568,
       "variableDetails": {
        "columns": [
         {
          "name": "Birth.Weight",
          "stats": {
           "25%": 126,
           "50%": 131,
           "75%": 140,
           "count": 568,
           "max": 176,
           "mean": 134.1549295774648,
           "min": 121,
           "nan_count": 0,
           "std": 10.877412659629652
          }
         },
         {
          "name": "Gestational.Days",
          "stats": {
           "25%": 277,
           "50%": 284,
           "75%": 290,
           "count": 568,
           "max": 353,
           "mean": 283.61091549295776,
           "min": 225,
           "nan_count": 0,
           "std": 13.183350378516174
          }
         },
         {
          "name": "Maternal.Age",
          "stats": {
           "25%": 23,
           "50%": 27,
           "75%": 30.25,
           "count": 568,
           "max": 45,
           "mean": 27.283450704225352,
           "min": 17,
           "nan_count": 0,
           "std": 5.7874407043057365
          }
         },
         {
          "name": "Maternal.Height",
          "stats": {
           "25%": 63,
           "50%": 65,
           "75%": 66,
           "count": 568,
           "max": 72,
           "mean": 64.58978873239437,
           "min": 53,
           "nan_count": 0,
           "std": 2.470075142073995
          }
         },
         {
          "name": "Maternal.Pregnancy.Weight",
          "stats": {
           "25%": 118,
           "50%": 129,
           "75%": 140,
           "count": 568,
           "max": 250,
           "mean": 131.63908450704224,
           "min": 89,
           "nan_count": 0,
           "std": 20.965370470105082
          }
         },
         {
          "name": "Maternal.Smoker",
          "stats": {
           "count": 568,
           "freq": 406,
           "nan_count": 0,
           "top": false,
           "unique": 2
          }
         }
        ],
        "dataframe": {
         "101": {
          "Birth.Weight": 137,
          "Gestational.Days": 274,
          "Maternal.Age": 29,
          "Maternal.Height": 65,
          "Maternal.Pregnancy.Weight": 154,
          "Maternal.Smoker": false
         },
         "1065": {
          "Birth.Weight": 133,
          "Gestational.Days": 289,
          "Maternal.Age": 22,
          "Maternal.Height": 65,
          "Maternal.Pregnancy.Weight": 123,
          "Maternal.Smoker": true
         },
         "1089": {
          "Birth.Weight": 156,
          "Gestational.Days": 300,
          "Maternal.Age": 27,
          "Maternal.Height": 65,
          "Maternal.Pregnancy.Weight": 120,
          "Maternal.Smoker": true
         },
         "1108": {
          "Birth.Weight": 139,
          "Gestational.Days": 311,
          "Maternal.Age": 37,
          "Maternal.Height": 66,
          "Maternal.Pregnancy.Weight": 135,
          "Maternal.Smoker": false
         },
         "149": {
          "Birth.Weight": 125,
          "Gestational.Days": 262,
          "Maternal.Age": 36,
          "Maternal.Height": 66,
          "Maternal.Pregnancy.Weight": 190,
          "Maternal.Smoker": false
         },
         "194": {
          "Birth.Weight": 127,
          "Gestational.Days": 270,
          "Maternal.Age": 25,
          "Maternal.Height": 62,
          "Maternal.Pregnancy.Weight": 150,
          "Maternal.Smoker": false
         },
         "403": {
          "Birth.Weight": 132,
          "Gestational.Days": 278,
          "Maternal.Age": 20,
          "Maternal.Height": 64,
          "Maternal.Pregnancy.Weight": 150,
          "Maternal.Smoker": true
         },
         "417": {
          "Birth.Weight": 132,
          "Gestational.Days": 281,
          "Maternal.Age": 21,
          "Maternal.Height": 67,
          "Maternal.Pregnancy.Weight": 140,
          "Maternal.Smoker": false
         },
         "513": {
          "Birth.Weight": 124,
          "Gestational.Days": 300,
          "Maternal.Age": 28,
          "Maternal.Height": 63,
          "Maternal.Pregnancy.Weight": 95,
          "Maternal.Smoker": false
         },
         "839": {
          "Birth.Weight": 151,
          "Gestational.Days": 286,
          "Maternal.Age": 22,
          "Maternal.Height": 66,
          "Maternal.Pregnancy.Weight": 130,
          "Maternal.Smoker": false
         }
        },
        "frequencyInfo": [
         {
          "frequencyData": [
           {
            "x": 121,
            "y": 158
           },
           {
            "x": 126.5,
            "y": 130
           },
           {
            "x": 132,
            "y": 103
           },
           {
            "x": 137.5,
            "y": 60
           },
           {
            "x": 143,
            "y": 58
           },
           {
            "x": 148.5,
            "y": 19
           },
           {
            "x": 154,
            "y": 19
           },
           {
            "x": 159.5,
            "y": 11
           },
           {
            "x": 165,
            "y": 5
           },
           {
            "x": 170.5,
            "y": 5
           }
          ],
          "type": "hist"
         },
         {
          "frequencyData": [
           {
            "x": 225,
            "y": 2
           },
           {
            "x": 237.8,
            "y": 7
           },
           {
            "x": 250.6,
            "y": 21
           },
           {
            "x": 263.4,
            "y": 109
           },
           {
            "x": 276.2,
            "y": 250
           },
           {
            "x": 289,
            "y": 144
           },
           {
            "x": 301.8,
            "y": 23
           },
           {
            "x": 314.6,
            "y": 8
           },
           {
            "x": 327.4,
            "y": 2
           },
           {
            "x": 340.2,
            "y": 2
           }
          ],
          "type": "hist"
         },
         {
          "frequencyData": [
           {
            "x": 17,
            "y": 35
           },
           {
            "x": 19.8,
            "y": 94
           },
           {
            "x": 22.6,
            "y": 114
           },
           {
            "x": 25.4,
            "y": 116
           },
           {
            "x": 28.2,
            "y": 67
           },
           {
            "x": 31,
            "y": 55
           },
           {
            "x": 33.8,
            "y": 36
           },
           {
            "x": 36.599999999999994,
            "y": 32
           },
           {
            "x": 39.4,
            "y": 15
           },
           {
            "x": 42.2,
            "y": 4
           }
          ],
          "type": "hist"
         },
         {
          "frequencyData": [
           {
            "x": 53,
            "y": 2
           },
           {
            "x": 54.9,
            "y": 0
           },
           {
            "x": 56.8,
            "y": 4
           },
           {
            "x": 58.7,
            "y": 16
           },
           {
            "x": 60.6,
            "y": 87
           },
           {
            "x": 62.5,
            "y": 156
           },
           {
            "x": 64.4,
            "y": 184
           },
           {
            "x": 66.3,
            "y": 93
           },
           {
            "x": 68.2,
            "y": 21
           },
           {
            "x": 70.1,
            "y": 5
           }
          ],
          "type": "hist"
         },
         {
          "frequencyData": [
           {
            "x": 89,
            "y": 34
           },
           {
            "x": 105.1,
            "y": 146
           },
           {
            "x": 121.2,
            "y": 222
           },
           {
            "x": 137.3,
            "y": 95
           },
           {
            "x": 153.4,
            "y": 39
           },
           {
            "x": 169.5,
            "y": 19
           },
           {
            "x": 185.60000000000002,
            "y": 6
           },
           {
            "x": 201.70000000000002,
            "y": 5
           },
           {
            "x": 217.8,
            "y": 1
           },
           {
            "x": 233.9,
            "y": 1
           }
          ],
          "type": "hist"
         },
         {
          "frequencyData": [
           {
            "x": 0,
            "y": 406
           },
           {
            "x": 0.1,
            "y": 0
           },
           {
            "x": 0.2,
            "y": 0
           },
           {
            "x": 0.30000000000000004,
            "y": 0
           },
           {
            "x": 0.4,
            "y": 0
           },
           {
            "x": 0.5,
            "y": 0
           },
           {
            "x": 0.6000000000000001,
            "y": 0
           },
           {
            "x": 0.7000000000000001,
            "y": 0
           },
           {
            "x": 0.8,
            "y": 0
           },
           {
            "x": 0.9,
            "y": 162
           }
          ],
          "type": "hist"
         }
        ]
       }
      },
      "text/html": [
       "<div>\n",
       "<style scoped>\n",
       "    .dataframe tbody tr th:only-of-type {\n",
       "        vertical-align: middle;\n",
       "    }\n",
       "\n",
       "    .dataframe tbody tr th {\n",
       "        vertical-align: top;\n",
       "    }\n",
       "\n",
       "    .dataframe thead th {\n",
       "        text-align: right;\n",
       "    }\n",
       "</style>\n",
       "<table border=\"1\" class=\"dataframe\">\n",
       "  <thead>\n",
       "    <tr style=\"text-align: right;\">\n",
       "      <th></th>\n",
       "      <th>Birth.Weight</th>\n",
       "      <th>Gestational.Days</th>\n",
       "      <th>Maternal.Age</th>\n",
       "      <th>Maternal.Height</th>\n",
       "      <th>Maternal.Pregnancy.Weight</th>\n",
       "      <th>Maternal.Smoker</th>\n",
       "    </tr>\n",
       "  </thead>\n",
       "  <tbody>\n",
       "    <tr>\n",
       "      <th>2</th>\n",
       "      <td>128</td>\n",
       "      <td>279</td>\n",
       "      <td>28</td>\n",
       "      <td>64</td>\n",
       "      <td>115</td>\n",
       "      <td>True</td>\n",
       "    </tr>\n",
       "    <tr>\n",
       "      <th>4</th>\n",
       "      <td>136</td>\n",
       "      <td>286</td>\n",
       "      <td>25</td>\n",
       "      <td>62</td>\n",
       "      <td>93</td>\n",
       "      <td>False</td>\n",
       "    </tr>\n",
       "    <tr>\n",
       "      <th>5</th>\n",
       "      <td>138</td>\n",
       "      <td>244</td>\n",
       "      <td>33</td>\n",
       "      <td>62</td>\n",
       "      <td>178</td>\n",
       "      <td>False</td>\n",
       "    </tr>\n",
       "    <tr>\n",
       "      <th>6</th>\n",
       "      <td>132</td>\n",
       "      <td>245</td>\n",
       "      <td>23</td>\n",
       "      <td>65</td>\n",
       "      <td>140</td>\n",
       "      <td>False</td>\n",
       "    </tr>\n",
       "    <tr>\n",
       "      <th>8</th>\n",
       "      <td>143</td>\n",
       "      <td>299</td>\n",
       "      <td>30</td>\n",
       "      <td>66</td>\n",
       "      <td>136</td>\n",
       "      <td>True</td>\n",
       "    </tr>\n",
       "    <tr>\n",
       "      <th>9</th>\n",
       "      <td>140</td>\n",
       "      <td>351</td>\n",
       "      <td>27</td>\n",
       "      <td>68</td>\n",
       "      <td>120</td>\n",
       "      <td>False</td>\n",
       "    </tr>\n",
       "    <tr>\n",
       "      <th>10</th>\n",
       "      <td>144</td>\n",
       "      <td>282</td>\n",
       "      <td>32</td>\n",
       "      <td>64</td>\n",
       "      <td>124</td>\n",
       "      <td>True</td>\n",
       "    </tr>\n",
       "    <tr>\n",
       "      <th>11</th>\n",
       "      <td>141</td>\n",
       "      <td>279</td>\n",
       "      <td>23</td>\n",
       "      <td>63</td>\n",
       "      <td>128</td>\n",
       "      <td>True</td>\n",
       "    </tr>\n",
       "    <tr>\n",
       "      <th>17</th>\n",
       "      <td>144</td>\n",
       "      <td>261</td>\n",
       "      <td>33</td>\n",
       "      <td>68</td>\n",
       "      <td>170</td>\n",
       "      <td>False</td>\n",
       "    </tr>\n",
       "    <tr>\n",
       "      <th>21</th>\n",
       "      <td>137</td>\n",
       "      <td>287</td>\n",
       "      <td>25</td>\n",
       "      <td>66</td>\n",
       "      <td>145</td>\n",
       "      <td>False</td>\n",
       "    </tr>\n",
       "    <tr>\n",
       "      <th>22</th>\n",
       "      <td>122</td>\n",
       "      <td>276</td>\n",
       "      <td>30</td>\n",
       "      <td>68</td>\n",
       "      <td>182</td>\n",
       "      <td>False</td>\n",
       "    </tr>\n",
       "    <tr>\n",
       "      <th>23</th>\n",
       "      <td>131</td>\n",
       "      <td>294</td>\n",
       "      <td>23</td>\n",
       "      <td>65</td>\n",
       "      <td>122</td>\n",
       "      <td>False</td>\n",
       "    </tr>\n",
       "    <tr>\n",
       "      <th>25</th>\n",
       "      <td>146</td>\n",
       "      <td>280</td>\n",
       "      <td>26</td>\n",
       "      <td>58</td>\n",
       "      <td>106</td>\n",
       "      <td>False</td>\n",
       "    </tr>\n",
       "    <tr>\n",
       "      <th>27</th>\n",
       "      <td>125</td>\n",
       "      <td>292</td>\n",
       "      <td>32</td>\n",
       "      <td>65</td>\n",
       "      <td>125</td>\n",
       "      <td>False</td>\n",
       "    </tr>\n",
       "    <tr>\n",
       "      <th>29</th>\n",
       "      <td>122</td>\n",
       "      <td>270</td>\n",
       "      <td>26</td>\n",
       "      <td>61</td>\n",
       "      <td>105</td>\n",
       "      <td>False</td>\n",
       "    </tr>\n",
       "    <tr>\n",
       "      <th>31</th>\n",
       "      <td>130</td>\n",
       "      <td>268</td>\n",
       "      <td>30</td>\n",
       "      <td>66</td>\n",
       "      <td>123</td>\n",
       "      <td>False</td>\n",
       "    </tr>\n",
       "    <tr>\n",
       "      <th>34</th>\n",
       "      <td>134</td>\n",
       "      <td>283</td>\n",
       "      <td>22</td>\n",
       "      <td>67</td>\n",
       "      <td>130</td>\n",
       "      <td>False</td>\n",
       "    </tr>\n",
       "    <tr>\n",
       "      <th>36</th>\n",
       "      <td>134</td>\n",
       "      <td>288</td>\n",
       "      <td>23</td>\n",
       "      <td>63</td>\n",
       "      <td>92</td>\n",
       "      <td>True</td>\n",
       "    </tr>\n",
       "    <tr>\n",
       "      <th>37</th>\n",
       "      <td>122</td>\n",
       "      <td>267</td>\n",
       "      <td>27</td>\n",
       "      <td>65</td>\n",
       "      <td>101</td>\n",
       "      <td>True</td>\n",
       "    </tr>\n",
       "    <tr>\n",
       "      <th>38</th>\n",
       "      <td>129</td>\n",
       "      <td>293</td>\n",
       "      <td>30</td>\n",
       "      <td>61</td>\n",
       "      <td>160</td>\n",
       "      <td>False</td>\n",
       "    </tr>\n",
       "    <tr>\n",
       "      <th>42</th>\n",
       "      <td>143</td>\n",
       "      <td>274</td>\n",
       "      <td>27</td>\n",
       "      <td>63</td>\n",
       "      <td>110</td>\n",
       "      <td>True</td>\n",
       "    </tr>\n",
       "    <tr>\n",
       "      <th>43</th>\n",
       "      <td>155</td>\n",
       "      <td>294</td>\n",
       "      <td>32</td>\n",
       "      <td>66</td>\n",
       "      <td>150</td>\n",
       "      <td>False</td>\n",
       "    </tr>\n",
       "    <tr>\n",
       "      <th>45</th>\n",
       "      <td>122</td>\n",
       "      <td>275</td>\n",
       "      <td>26</td>\n",
       "      <td>66</td>\n",
       "      <td>147</td>\n",
       "      <td>False</td>\n",
       "    </tr>\n",
       "    <tr>\n",
       "      <th>46</th>\n",
       "      <td>145</td>\n",
       "      <td>291</td>\n",
       "      <td>26</td>\n",
       "      <td>63</td>\n",
       "      <td>119</td>\n",
       "      <td>True</td>\n",
       "    </tr>\n",
       "    <tr>\n",
       "      <th>50</th>\n",
       "      <td>143</td>\n",
       "      <td>286</td>\n",
       "      <td>31</td>\n",
       "      <td>64</td>\n",
       "      <td>126</td>\n",
       "      <td>False</td>\n",
       "    </tr>\n",
       "    <tr>\n",
       "      <th>51</th>\n",
       "      <td>146</td>\n",
       "      <td>267</td>\n",
       "      <td>30</td>\n",
       "      <td>67</td>\n",
       "      <td>132</td>\n",
       "      <td>False</td>\n",
       "    </tr>\n",
       "    <tr>\n",
       "      <th>52</th>\n",
       "      <td>124</td>\n",
       "      <td>275</td>\n",
       "      <td>22</td>\n",
       "      <td>60</td>\n",
       "      <td>130</td>\n",
       "      <td>False</td>\n",
       "    </tr>\n",
       "    <tr>\n",
       "      <th>53</th>\n",
       "      <td>124</td>\n",
       "      <td>278</td>\n",
       "      <td>26</td>\n",
       "      <td>70</td>\n",
       "      <td>145</td>\n",
       "      <td>True</td>\n",
       "    </tr>\n",
       "    <tr>\n",
       "      <th>54</th>\n",
       "      <td>145</td>\n",
       "      <td>257</td>\n",
       "      <td>33</td>\n",
       "      <td>65</td>\n",
       "      <td>140</td>\n",
       "      <td>False</td>\n",
       "    </tr>\n",
       "    <tr>\n",
       "      <th>58</th>\n",
       "      <td>124</td>\n",
       "      <td>288</td>\n",
       "      <td>22</td>\n",
       "      <td>67</td>\n",
       "      <td>118</td>\n",
       "      <td>False</td>\n",
       "    </tr>\n",
       "    <tr>\n",
       "      <th>...</th>\n",
       "      <td>...</td>\n",
       "      <td>...</td>\n",
       "      <td>...</td>\n",
       "      <td>...</td>\n",
       "      <td>...</td>\n",
       "      <td>...</td>\n",
       "    </tr>\n",
       "    <tr>\n",
       "      <th>1099</th>\n",
       "      <td>141</td>\n",
       "      <td>293</td>\n",
       "      <td>28</td>\n",
       "      <td>61</td>\n",
       "      <td>125</td>\n",
       "      <td>False</td>\n",
       "    </tr>\n",
       "    <tr>\n",
       "      <th>1100</th>\n",
       "      <td>131</td>\n",
       "      <td>259</td>\n",
       "      <td>19</td>\n",
       "      <td>63</td>\n",
       "      <td>134</td>\n",
       "      <td>False</td>\n",
       "    </tr>\n",
       "    <tr>\n",
       "      <th>1101</th>\n",
       "      <td>130</td>\n",
       "      <td>290</td>\n",
       "      <td>19</td>\n",
       "      <td>65</td>\n",
       "      <td>123</td>\n",
       "      <td>True</td>\n",
       "    </tr>\n",
       "    <tr>\n",
       "      <th>1102</th>\n",
       "      <td>132</td>\n",
       "      <td>270</td>\n",
       "      <td>26</td>\n",
       "      <td>67</td>\n",
       "      <td>140</td>\n",
       "      <td>False</td>\n",
       "    </tr>\n",
       "    <tr>\n",
       "      <th>1104</th>\n",
       "      <td>160</td>\n",
       "      <td>291</td>\n",
       "      <td>34</td>\n",
       "      <td>64</td>\n",
       "      <td>110</td>\n",
       "      <td>True</td>\n",
       "    </tr>\n",
       "    <tr>\n",
       "      <th>1108</th>\n",
       "      <td>139</td>\n",
       "      <td>311</td>\n",
       "      <td>37</td>\n",
       "      <td>66</td>\n",
       "      <td>135</td>\n",
       "      <td>False</td>\n",
       "    </tr>\n",
       "    <tr>\n",
       "      <th>1110</th>\n",
       "      <td>130</td>\n",
       "      <td>294</td>\n",
       "      <td>32</td>\n",
       "      <td>63</td>\n",
       "      <td>110</td>\n",
       "      <td>True</td>\n",
       "    </tr>\n",
       "    <tr>\n",
       "      <th>1114</th>\n",
       "      <td>123</td>\n",
       "      <td>353</td>\n",
       "      <td>26</td>\n",
       "      <td>63</td>\n",
       "      <td>115</td>\n",
       "      <td>False</td>\n",
       "    </tr>\n",
       "    <tr>\n",
       "      <th>1116</th>\n",
       "      <td>124</td>\n",
       "      <td>289</td>\n",
       "      <td>21</td>\n",
       "      <td>67</td>\n",
       "      <td>145</td>\n",
       "      <td>True</td>\n",
       "    </tr>\n",
       "    <tr>\n",
       "      <th>1117</th>\n",
       "      <td>138</td>\n",
       "      <td>292</td>\n",
       "      <td>25</td>\n",
       "      <td>65</td>\n",
       "      <td>130</td>\n",
       "      <td>True</td>\n",
       "    </tr>\n",
       "    <tr>\n",
       "      <th>1119</th>\n",
       "      <td>128</td>\n",
       "      <td>241</td>\n",
       "      <td>17</td>\n",
       "      <td>64</td>\n",
       "      <td>126</td>\n",
       "      <td>False</td>\n",
       "    </tr>\n",
       "    <tr>\n",
       "      <th>1124</th>\n",
       "      <td>126</td>\n",
       "      <td>298</td>\n",
       "      <td>24</td>\n",
       "      <td>61</td>\n",
       "      <td>112</td>\n",
       "      <td>False</td>\n",
       "    </tr>\n",
       "    <tr>\n",
       "      <th>1125</th>\n",
       "      <td>122</td>\n",
       "      <td>275</td>\n",
       "      <td>20</td>\n",
       "      <td>65</td>\n",
       "      <td>127</td>\n",
       "      <td>False</td>\n",
       "    </tr>\n",
       "    <tr>\n",
       "      <th>1126</th>\n",
       "      <td>152</td>\n",
       "      <td>295</td>\n",
       "      <td>39</td>\n",
       "      <td>62</td>\n",
       "      <td>140</td>\n",
       "      <td>False</td>\n",
       "    </tr>\n",
       "    <tr>\n",
       "      <th>1128</th>\n",
       "      <td>132</td>\n",
       "      <td>302</td>\n",
       "      <td>36</td>\n",
       "      <td>63</td>\n",
       "      <td>145</td>\n",
       "      <td>True</td>\n",
       "    </tr>\n",
       "    <tr>\n",
       "      <th>1132</th>\n",
       "      <td>139</td>\n",
       "      <td>291</td>\n",
       "      <td>24</td>\n",
       "      <td>65</td>\n",
       "      <td>160</td>\n",
       "      <td>False</td>\n",
       "    </tr>\n",
       "    <tr>\n",
       "      <th>1141</th>\n",
       "      <td>130</td>\n",
       "      <td>297</td>\n",
       "      <td>32</td>\n",
       "      <td>58</td>\n",
       "      <td>130</td>\n",
       "      <td>False</td>\n",
       "    </tr>\n",
       "    <tr>\n",
       "      <th>1145</th>\n",
       "      <td>127</td>\n",
       "      <td>242</td>\n",
       "      <td>17</td>\n",
       "      <td>61</td>\n",
       "      <td>135</td>\n",
       "      <td>True</td>\n",
       "    </tr>\n",
       "    <tr>\n",
       "      <th>1147</th>\n",
       "      <td>141</td>\n",
       "      <td>281</td>\n",
       "      <td>29</td>\n",
       "      <td>54</td>\n",
       "      <td>156</td>\n",
       "      <td>True</td>\n",
       "    </tr>\n",
       "    <tr>\n",
       "      <th>1148</th>\n",
       "      <td>144</td>\n",
       "      <td>283</td>\n",
       "      <td>25</td>\n",
       "      <td>66</td>\n",
       "      <td>140</td>\n",
       "      <td>False</td>\n",
       "    </tr>\n",
       "    <tr>\n",
       "      <th>1151</th>\n",
       "      <td>138</td>\n",
       "      <td>286</td>\n",
       "      <td>28</td>\n",
       "      <td>68</td>\n",
       "      <td>120</td>\n",
       "      <td>False</td>\n",
       "    </tr>\n",
       "    <tr>\n",
       "      <th>1155</th>\n",
       "      <td>146</td>\n",
       "      <td>319</td>\n",
       "      <td>28</td>\n",
       "      <td>66</td>\n",
       "      <td>145</td>\n",
       "      <td>False</td>\n",
       "    </tr>\n",
       "    <tr>\n",
       "      <th>1158</th>\n",
       "      <td>135</td>\n",
       "      <td>284</td>\n",
       "      <td>19</td>\n",
       "      <td>60</td>\n",
       "      <td>95</td>\n",
       "      <td>False</td>\n",
       "    </tr>\n",
       "    <tr>\n",
       "      <th>1160</th>\n",
       "      <td>124</td>\n",
       "      <td>288</td>\n",
       "      <td>21</td>\n",
       "      <td>64</td>\n",
       "      <td>116</td>\n",
       "      <td>True</td>\n",
       "    </tr>\n",
       "    <tr>\n",
       "      <th>1162</th>\n",
       "      <td>143</td>\n",
       "      <td>281</td>\n",
       "      <td>28</td>\n",
       "      <td>65</td>\n",
       "      <td>135</td>\n",
       "      <td>True</td>\n",
       "    </tr>\n",
       "    <tr>\n",
       "      <th>1167</th>\n",
       "      <td>127</td>\n",
       "      <td>290</td>\n",
       "      <td>27</td>\n",
       "      <td>65</td>\n",
       "      <td>121</td>\n",
       "      <td>False</td>\n",
       "    </tr>\n",
       "    <tr>\n",
       "      <th>1168</th>\n",
       "      <td>132</td>\n",
       "      <td>270</td>\n",
       "      <td>27</td>\n",
       "      <td>65</td>\n",
       "      <td>126</td>\n",
       "      <td>False</td>\n",
       "    </tr>\n",
       "    <tr>\n",
       "      <th>1170</th>\n",
       "      <td>128</td>\n",
       "      <td>265</td>\n",
       "      <td>24</td>\n",
       "      <td>67</td>\n",
       "      <td>120</td>\n",
       "      <td>False</td>\n",
       "    </tr>\n",
       "    <tr>\n",
       "      <th>1171</th>\n",
       "      <td>130</td>\n",
       "      <td>291</td>\n",
       "      <td>30</td>\n",
       "      <td>65</td>\n",
       "      <td>150</td>\n",
       "      <td>True</td>\n",
       "    </tr>\n",
       "    <tr>\n",
       "      <th>1172</th>\n",
       "      <td>125</td>\n",
       "      <td>281</td>\n",
       "      <td>21</td>\n",
       "      <td>65</td>\n",
       "      <td>110</td>\n",
       "      <td>False</td>\n",
       "    </tr>\n",
       "  </tbody>\n",
       "</table>\n",
       "<p>568 rows × 6 columns</p>\n",
       "</div>"
      ],
      "text/plain": [
       "      Birth.Weight  Gestational.Days  Maternal.Age  Maternal.Height  \\\n",
       "2              128               279            28               64   \n",
       "4              136               286            25               62   \n",
       "5              138               244            33               62   \n",
       "6              132               245            23               65   \n",
       "8              143               299            30               66   \n",
       "...            ...               ...           ...              ...   \n",
       "1167           127               290            27               65   \n",
       "1168           132               270            27               65   \n",
       "1170           128               265            24               67   \n",
       "1171           130               291            30               65   \n",
       "1172           125               281            21               65   \n",
       "\n",
       "      Maternal.Pregnancy.Weight  Maternal.Smoker  \n",
       "2                           115             True  \n",
       "4                            93            False  \n",
       "5                           178            False  \n",
       "6                           140            False  \n",
       "8                           136             True  \n",
       "...                         ...              ...  \n",
       "1167                        121            False  \n",
       "1168                        126            False  \n",
       "1170                        120            False  \n",
       "1171                        150             True  \n",
       "1172                        110            False  \n",
       "\n",
       "[568 rows x 6 columns]"
      ]
     },
     "execution_count": 72,
     "metadata": {},
     "output_type": "execute_result"
    }
   ],
   "source": [
    "# pandas\n",
    "# Select all rows that are True in the boolean series baby_df['Birth.Weight'] > 120.\n",
    "baby_df[baby_df['Birth.Weight'] > 120]"
   ]
  },
  {
   "cell_type": "markdown",
   "metadata": {
    "cell_id": "79556ac0-28aa-4eeb-a583-d4a0757a1e3e",
    "deepnote_cell_type": "markdown",
    "tags": []
   },
   "source": [
    "In general, a filtering expression of the form `tbl.where(column, predicate)` in the `datascience` library takes the form `df.loc[criterion]` in `pandas`. \n",
    "Here are a few more examples:"
   ]
  },
  {
   "cell_type": "code",
   "execution_count": null,
   "metadata": {
    "cell_id": "eaf95cd9-d917-41bb-bb1e-82165aeb9d99",
    "deepnote_cell_type": "code",
    "tags": []
   },
   "outputs": [
    {
     "data": {
      "text/html": [
       "<table border=\"1\" class=\"dataframe\">\n",
       "    <thead>\n",
       "        <tr>\n",
       "            <th>Birth.Weight</th> <th>Gestational.Days</th> <th>Maternal.Age</th> <th>Maternal.Height</th> <th>Maternal.Pregnancy.Weight</th> <th>Maternal.Smoker</th>\n",
       "        </tr>\n",
       "    </thead>\n",
       "    <tbody>\n",
       "        <tr>\n",
       "            <td>113         </td> <td>282             </td> <td>33          </td> <td>64             </td> <td>135                      </td> <td>False          </td>\n",
       "        </tr>\n",
       "        <tr>\n",
       "            <td>128         </td> <td>279             </td> <td>28          </td> <td>64             </td> <td>115                      </td> <td>True           </td>\n",
       "        </tr>\n",
       "        <tr>\n",
       "            <td>108         </td> <td>282             </td> <td>23          </td> <td>67             </td> <td>125                      </td> <td>True           </td>\n",
       "        </tr>\n",
       "        <tr>\n",
       "            <td>132         </td> <td>245             </td> <td>23          </td> <td>65             </td> <td>140                      </td> <td>False          </td>\n",
       "        </tr>\n",
       "        <tr>\n",
       "            <td>143         </td> <td>299             </td> <td>30          </td> <td>66             </td> <td>136                      </td> <td>True           </td>\n",
       "        </tr>\n",
       "        <tr>\n",
       "            <td>140         </td> <td>351             </td> <td>27          </td> <td>68             </td> <td>120                      </td> <td>False          </td>\n",
       "        </tr>\n",
       "        <tr>\n",
       "            <td>144         </td> <td>282             </td> <td>32          </td> <td>64             </td> <td>124                      </td> <td>True           </td>\n",
       "        </tr>\n",
       "        <tr>\n",
       "            <td>141         </td> <td>279             </td> <td>23          </td> <td>63             </td> <td>128                      </td> <td>True           </td>\n",
       "        </tr>\n",
       "        <tr>\n",
       "            <td>114         </td> <td>273             </td> <td>30          </td> <td>63             </td> <td>154                      </td> <td>False          </td>\n",
       "        </tr>\n",
       "        <tr>\n",
       "            <td>115         </td> <td>285             </td> <td>38          </td> <td>63             </td> <td>130                      </td> <td>False          </td>\n",
       "        </tr>\n",
       "    </tbody>\n",
       "</table>\n",
       "<p>... (846 rows omitted)</p>"
      ],
      "text/plain": [
       "Birth.Weight | Gestational.Days | Maternal.Age | Maternal.Height | Maternal.Pregnancy.Weight | Maternal.Smoker\n",
       "113          | 282              | 33           | 64              | 135                       | False\n",
       "128          | 279              | 28           | 64              | 115                       | True\n",
       "108          | 282              | 23           | 67              | 125                       | True\n",
       "132          | 245              | 23           | 65              | 140                       | False\n",
       "143          | 299              | 30           | 66              | 136                       | True\n",
       "140          | 351              | 27           | 68              | 120                       | False\n",
       "144          | 282              | 32           | 64              | 124                       | True\n",
       "141          | 279              | 23           | 63              | 128                       | True\n",
       "114          | 273              | 30           | 63              | 154                       | False\n",
       "115          | 285              | 38           | 63              | 130                       | False\n",
       "... (846 rows omitted)"
      ]
     },
     "execution_count": 73,
     "metadata": {},
     "output_type": "execute_result"
    }
   ],
   "source": [
    "# datascience\n",
    "# Return all rows where Maternal.Height is greater than or equal to 63.\n",
    "baby_tbl.where('Maternal.Height', are.above_or_equal_to(63))"
   ]
  },
  {
   "cell_type": "code",
   "execution_count": null,
   "metadata": {
    "cell_id": "9d31de60-1174-4acc-888f-04602848b912",
    "deepnote_cell_type": "code",
    "tags": []
   },
   "outputs": [
    {
     "data": {
      "application/vnd.deepnote.dataframe+json": {
       "numColumns": 6,
       "numElements": 856,
       "variableDetails": {
        "columns": [
         {
          "name": "Birth.Weight",
          "stats": {
           "25%": 110,
           "50%": 122,
           "75%": 133,
           "count": 856,
           "max": 176,
           "mean": 121.25817757009345,
           "min": 55,
           "nan_count": 0,
           "std": 18.485459522308016
          }
         },
         {
          "name": "Gestational.Days",
          "stats": {
           "25%": 273,
           "50%": 281,
           "75%": 288,
           "count": 856,
           "max": 353,
           "mean": 279.5397196261682,
           "min": 148,
           "nan_count": 0,
           "std": 16.476268581024257
          }
         },
         {
          "name": "Maternal.Age",
          "stats": {
           "25%": 23,
           "50%": 26,
           "75%": 31,
           "count": 856,
           "max": 44,
           "mean": 27.203271028037385,
           "min": 15,
           "nan_count": 0,
           "std": 5.845439151894807
          }
         },
         {
          "name": "Maternal.Height",
          "stats": {
           "25%": 64,
           "50%": 65,
           "75%": 66,
           "count": 856,
           "max": 72,
           "mean": 65.2161214953271,
           "min": 63,
           "nan_count": 0,
           "std": 1.7654969723821752
          }
         },
         {
          "name": "Maternal.Pregnancy.Weight",
          "stats": {
           "25%": 120,
           "50%": 130,
           "75%": 142,
           "count": 856,
           "max": 250,
           "mean": 132.75584112149534,
           "min": 92,
           "nan_count": 0,
           "std": 20.03680738171431
          }
         },
         {
          "name": "Maternal.Smoker",
          "stats": {
           "count": 856,
           "freq": 512,
           "nan_count": 0,
           "top": false,
           "unique": 2
          }
         }
        ],
        "dataframe": {
         "1072": {
          "Birth.Weight": 102,
          "Gestational.Days": 285,
          "Maternal.Age": 29,
          "Maternal.Height": 63,
          "Maternal.Pregnancy.Weight": 117,
          "Maternal.Smoker": true
         },
         "1128": {
          "Birth.Weight": 132,
          "Gestational.Days": 302,
          "Maternal.Age": 36,
          "Maternal.Height": 63,
          "Maternal.Pregnancy.Weight": 145,
          "Maternal.Smoker": true
         },
         "167": {
          "Birth.Weight": 113,
          "Gestational.Days": 277,
          "Maternal.Age": 23,
          "Maternal.Height": 65,
          "Maternal.Pregnancy.Weight": 192,
          "Maternal.Smoker": true
         },
         "283": {
          "Birth.Weight": 110,
          "Gestational.Days": 285,
          "Maternal.Age": 19,
          "Maternal.Height": 64,
          "Maternal.Pregnancy.Weight": 130,
          "Maternal.Smoker": false
         },
         "361": {
          "Birth.Weight": 98,
          "Gestational.Days": 275,
          "Maternal.Age": 25,
          "Maternal.Height": 65,
          "Maternal.Pregnancy.Weight": 112,
          "Maternal.Smoker": true
         },
         "510": {
          "Birth.Weight": 111,
          "Gestational.Days": 300,
          "Maternal.Age": 20,
          "Maternal.Height": 64,
          "Maternal.Pregnancy.Weight": 108,
          "Maternal.Smoker": true
         },
         "827": {
          "Birth.Weight": 100,
          "Gestational.Days": 272,
          "Maternal.Age": 30,
          "Maternal.Height": 64,
          "Maternal.Pregnancy.Weight": 150,
          "Maternal.Smoker": true
         },
         "969": {
          "Birth.Weight": 143,
          "Gestational.Days": 313,
          "Maternal.Age": 20,
          "Maternal.Height": 68,
          "Maternal.Pregnancy.Weight": 150,
          "Maternal.Smoker": false
         },
         "970": {
          "Birth.Weight": 145,
          "Gestational.Days": 304,
          "Maternal.Age": 25,
          "Maternal.Height": 63,
          "Maternal.Pregnancy.Weight": 109,
          "Maternal.Smoker": true
         },
         "973": {
          "Birth.Weight": 134,
          "Gestational.Days": 286,
          "Maternal.Age": 25,
          "Maternal.Height": 64,
          "Maternal.Pregnancy.Weight": 125,
          "Maternal.Smoker": false
         }
        },
        "frequencyInfo": [
         {
          "frequencyData": [
           {
            "x": 55,
            "y": 4
           },
           {
            "x": 67.1,
            "y": 13
           },
           {
            "x": 79.2,
            "y": 34
           },
           {
            "x": 91.3,
            "y": 93
           },
           {
            "x": 103.4,
            "y": 153
           },
           {
            "x": 115.5,
            "y": 242
           },
           {
            "x": 127.6,
            "y": 192
           },
           {
            "x": 139.7,
            "y": 84
           },
           {
            "x": 151.8,
            "y": 31
           },
           {
            "x": 163.89999999999998,
            "y": 10
           }
          ],
          "type": "hist"
         },
         {
          "frequencyData": [
           {
            "x": 148,
            "y": 1
           },
           {
            "x": 168.5,
            "y": 1
           },
           {
            "x": 189,
            "y": 1
           },
           {
            "x": 209.5,
            "y": 4
           },
           {
            "x": 230,
            "y": 34
           },
           {
            "x": 250.5,
            "y": 132
           },
           {
            "x": 271,
            "y": 537
           },
           {
            "x": 291.5,
            "y": 125
           },
           {
            "x": 312,
            "y": 18
           },
           {
            "x": 332.5,
            "y": 3
           }
          ],
          "type": "hist"
         },
         {
          "frequencyData": [
           {
            "x": 15,
            "y": 6
           },
           {
            "x": 17.9,
            "y": 91
           },
           {
            "x": 20.8,
            "y": 173
           },
           {
            "x": 23.7,
            "y": 169
           },
           {
            "x": 26.6,
            "y": 149
           },
           {
            "x": 29.5,
            "y": 104
           },
           {
            "x": 32.4,
            "y": 72
           },
           {
            "x": 35.3,
            "y": 49
           },
           {
            "x": 38.2,
            "y": 34
           },
           {
            "x": 41.099999999999994,
            "y": 9
           }
          ],
          "type": "hist"
         },
         {
          "frequencyData": [
           {
            "x": 63,
            "y": 161
           },
           {
            "x": 63.9,
            "y": 179
           },
           {
            "x": 64.8,
            "y": 176
           },
           {
            "x": 65.7,
            "y": 148
           },
           {
            "x": 66.6,
            "y": 102
           },
           {
            "x": 67.5,
            "y": 52
           },
           {
            "x": 68.4,
            "y": 19
           },
           {
            "x": 69.3,
            "y": 13
           },
           {
            "x": 70.2,
            "y": 5
           },
           {
            "x": 71.1,
            "y": 1
           }
          ],
          "type": "hist"
         },
         {
          "frequencyData": [
           {
            "x": 92,
            "y": 42
           },
           {
            "x": 107.8,
            "y": 239
           },
           {
            "x": 123.6,
            "y": 317
           },
           {
            "x": 139.4,
            "y": 168
           },
           {
            "x": 155.2,
            "y": 48
           },
           {
            "x": 171,
            "y": 23
           },
           {
            "x": 186.8,
            "y": 12
           },
           {
            "x": 202.60000000000002,
            "y": 5
           },
           {
            "x": 218.4,
            "y": 1
           },
           {
            "x": 234.20000000000002,
            "y": 1
           }
          ],
          "type": "hist"
         },
         {
          "frequencyData": [
           {
            "x": 0,
            "y": 512
           },
           {
            "x": 0.1,
            "y": 0
           },
           {
            "x": 0.2,
            "y": 0
           },
           {
            "x": 0.30000000000000004,
            "y": 0
           },
           {
            "x": 0.4,
            "y": 0
           },
           {
            "x": 0.5,
            "y": 0
           },
           {
            "x": 0.6000000000000001,
            "y": 0
           },
           {
            "x": 0.7000000000000001,
            "y": 0
           },
           {
            "x": 0.8,
            "y": 0
           },
           {
            "x": 0.9,
            "y": 344
           }
          ],
          "type": "hist"
         }
        ]
       }
      },
      "text/html": [
       "<div>\n",
       "<style scoped>\n",
       "    .dataframe tbody tr th:only-of-type {\n",
       "        vertical-align: middle;\n",
       "    }\n",
       "\n",
       "    .dataframe tbody tr th {\n",
       "        vertical-align: top;\n",
       "    }\n",
       "\n",
       "    .dataframe thead th {\n",
       "        text-align: right;\n",
       "    }\n",
       "</style>\n",
       "<table border=\"1\" class=\"dataframe\">\n",
       "  <thead>\n",
       "    <tr style=\"text-align: right;\">\n",
       "      <th></th>\n",
       "      <th>Birth.Weight</th>\n",
       "      <th>Gestational.Days</th>\n",
       "      <th>Maternal.Age</th>\n",
       "      <th>Maternal.Height</th>\n",
       "      <th>Maternal.Pregnancy.Weight</th>\n",
       "      <th>Maternal.Smoker</th>\n",
       "    </tr>\n",
       "  </thead>\n",
       "  <tbody>\n",
       "    <tr>\n",
       "      <th>1</th>\n",
       "      <td>113</td>\n",
       "      <td>282</td>\n",
       "      <td>33</td>\n",
       "      <td>64</td>\n",
       "      <td>135</td>\n",
       "      <td>False</td>\n",
       "    </tr>\n",
       "    <tr>\n",
       "      <th>2</th>\n",
       "      <td>128</td>\n",
       "      <td>279</td>\n",
       "      <td>28</td>\n",
       "      <td>64</td>\n",
       "      <td>115</td>\n",
       "      <td>True</td>\n",
       "    </tr>\n",
       "    <tr>\n",
       "      <th>3</th>\n",
       "      <td>108</td>\n",
       "      <td>282</td>\n",
       "      <td>23</td>\n",
       "      <td>67</td>\n",
       "      <td>125</td>\n",
       "      <td>True</td>\n",
       "    </tr>\n",
       "    <tr>\n",
       "      <th>6</th>\n",
       "      <td>132</td>\n",
       "      <td>245</td>\n",
       "      <td>23</td>\n",
       "      <td>65</td>\n",
       "      <td>140</td>\n",
       "      <td>False</td>\n",
       "    </tr>\n",
       "    <tr>\n",
       "      <th>8</th>\n",
       "      <td>143</td>\n",
       "      <td>299</td>\n",
       "      <td>30</td>\n",
       "      <td>66</td>\n",
       "      <td>136</td>\n",
       "      <td>True</td>\n",
       "    </tr>\n",
       "    <tr>\n",
       "      <th>9</th>\n",
       "      <td>140</td>\n",
       "      <td>351</td>\n",
       "      <td>27</td>\n",
       "      <td>68</td>\n",
       "      <td>120</td>\n",
       "      <td>False</td>\n",
       "    </tr>\n",
       "    <tr>\n",
       "      <th>10</th>\n",
       "      <td>144</td>\n",
       "      <td>282</td>\n",
       "      <td>32</td>\n",
       "      <td>64</td>\n",
       "      <td>124</td>\n",
       "      <td>True</td>\n",
       "    </tr>\n",
       "    <tr>\n",
       "      <th>11</th>\n",
       "      <td>141</td>\n",
       "      <td>279</td>\n",
       "      <td>23</td>\n",
       "      <td>63</td>\n",
       "      <td>128</td>\n",
       "      <td>True</td>\n",
       "    </tr>\n",
       "    <tr>\n",
       "      <th>13</th>\n",
       "      <td>114</td>\n",
       "      <td>273</td>\n",
       "      <td>30</td>\n",
       "      <td>63</td>\n",
       "      <td>154</td>\n",
       "      <td>False</td>\n",
       "    </tr>\n",
       "    <tr>\n",
       "      <th>14</th>\n",
       "      <td>115</td>\n",
       "      <td>285</td>\n",
       "      <td>38</td>\n",
       "      <td>63</td>\n",
       "      <td>130</td>\n",
       "      <td>False</td>\n",
       "    </tr>\n",
       "    <tr>\n",
       "      <th>15</th>\n",
       "      <td>92</td>\n",
       "      <td>255</td>\n",
       "      <td>25</td>\n",
       "      <td>65</td>\n",
       "      <td>125</td>\n",
       "      <td>True</td>\n",
       "    </tr>\n",
       "    <tr>\n",
       "      <th>17</th>\n",
       "      <td>144</td>\n",
       "      <td>261</td>\n",
       "      <td>33</td>\n",
       "      <td>68</td>\n",
       "      <td>170</td>\n",
       "      <td>False</td>\n",
       "    </tr>\n",
       "    <tr>\n",
       "      <th>18</th>\n",
       "      <td>119</td>\n",
       "      <td>288</td>\n",
       "      <td>43</td>\n",
       "      <td>66</td>\n",
       "      <td>142</td>\n",
       "      <td>True</td>\n",
       "    </tr>\n",
       "    <tr>\n",
       "      <th>20</th>\n",
       "      <td>115</td>\n",
       "      <td>274</td>\n",
       "      <td>27</td>\n",
       "      <td>67</td>\n",
       "      <td>175</td>\n",
       "      <td>True</td>\n",
       "    </tr>\n",
       "    <tr>\n",
       "      <th>21</th>\n",
       "      <td>137</td>\n",
       "      <td>287</td>\n",
       "      <td>25</td>\n",
       "      <td>66</td>\n",
       "      <td>145</td>\n",
       "      <td>False</td>\n",
       "    </tr>\n",
       "    <tr>\n",
       "      <th>22</th>\n",
       "      <td>122</td>\n",
       "      <td>276</td>\n",
       "      <td>30</td>\n",
       "      <td>68</td>\n",
       "      <td>182</td>\n",
       "      <td>False</td>\n",
       "    </tr>\n",
       "    <tr>\n",
       "      <th>23</th>\n",
       "      <td>131</td>\n",
       "      <td>294</td>\n",
       "      <td>23</td>\n",
       "      <td>65</td>\n",
       "      <td>122</td>\n",
       "      <td>False</td>\n",
       "    </tr>\n",
       "    <tr>\n",
       "      <th>24</th>\n",
       "      <td>103</td>\n",
       "      <td>261</td>\n",
       "      <td>27</td>\n",
       "      <td>65</td>\n",
       "      <td>112</td>\n",
       "      <td>True</td>\n",
       "    </tr>\n",
       "    <tr>\n",
       "      <th>26</th>\n",
       "      <td>114</td>\n",
       "      <td>266</td>\n",
       "      <td>20</td>\n",
       "      <td>65</td>\n",
       "      <td>175</td>\n",
       "      <td>True</td>\n",
       "    </tr>\n",
       "    <tr>\n",
       "      <th>27</th>\n",
       "      <td>125</td>\n",
       "      <td>292</td>\n",
       "      <td>32</td>\n",
       "      <td>65</td>\n",
       "      <td>125</td>\n",
       "      <td>False</td>\n",
       "    </tr>\n",
       "    <tr>\n",
       "      <th>28</th>\n",
       "      <td>114</td>\n",
       "      <td>274</td>\n",
       "      <td>28</td>\n",
       "      <td>66</td>\n",
       "      <td>132</td>\n",
       "      <td>True</td>\n",
       "    </tr>\n",
       "    <tr>\n",
       "      <th>31</th>\n",
       "      <td>130</td>\n",
       "      <td>268</td>\n",
       "      <td>30</td>\n",
       "      <td>66</td>\n",
       "      <td>123</td>\n",
       "      <td>False</td>\n",
       "    </tr>\n",
       "    <tr>\n",
       "      <th>33</th>\n",
       "      <td>113</td>\n",
       "      <td>281</td>\n",
       "      <td>24</td>\n",
       "      <td>65</td>\n",
       "      <td>120</td>\n",
       "      <td>False</td>\n",
       "    </tr>\n",
       "    <tr>\n",
       "      <th>34</th>\n",
       "      <td>134</td>\n",
       "      <td>283</td>\n",
       "      <td>22</td>\n",
       "      <td>67</td>\n",
       "      <td>130</td>\n",
       "      <td>False</td>\n",
       "    </tr>\n",
       "    <tr>\n",
       "      <th>35</th>\n",
       "      <td>107</td>\n",
       "      <td>279</td>\n",
       "      <td>24</td>\n",
       "      <td>63</td>\n",
       "      <td>115</td>\n",
       "      <td>False</td>\n",
       "    </tr>\n",
       "    <tr>\n",
       "      <th>36</th>\n",
       "      <td>134</td>\n",
       "      <td>288</td>\n",
       "      <td>23</td>\n",
       "      <td>63</td>\n",
       "      <td>92</td>\n",
       "      <td>True</td>\n",
       "    </tr>\n",
       "    <tr>\n",
       "      <th>37</th>\n",
       "      <td>122</td>\n",
       "      <td>267</td>\n",
       "      <td>27</td>\n",
       "      <td>65</td>\n",
       "      <td>101</td>\n",
       "      <td>True</td>\n",
       "    </tr>\n",
       "    <tr>\n",
       "      <th>39</th>\n",
       "      <td>110</td>\n",
       "      <td>278</td>\n",
       "      <td>23</td>\n",
       "      <td>63</td>\n",
       "      <td>177</td>\n",
       "      <td>False</td>\n",
       "    </tr>\n",
       "    <tr>\n",
       "      <th>41</th>\n",
       "      <td>87</td>\n",
       "      <td>248</td>\n",
       "      <td>37</td>\n",
       "      <td>65</td>\n",
       "      <td>130</td>\n",
       "      <td>True</td>\n",
       "    </tr>\n",
       "    <tr>\n",
       "      <th>42</th>\n",
       "      <td>143</td>\n",
       "      <td>274</td>\n",
       "      <td>27</td>\n",
       "      <td>63</td>\n",
       "      <td>110</td>\n",
       "      <td>True</td>\n",
       "    </tr>\n",
       "    <tr>\n",
       "      <th>...</th>\n",
       "      <td>...</td>\n",
       "      <td>...</td>\n",
       "      <td>...</td>\n",
       "      <td>...</td>\n",
       "      <td>...</td>\n",
       "      <td>...</td>\n",
       "    </tr>\n",
       "    <tr>\n",
       "      <th>1136</th>\n",
       "      <td>102</td>\n",
       "      <td>281</td>\n",
       "      <td>19</td>\n",
       "      <td>67</td>\n",
       "      <td>135</td>\n",
       "      <td>True</td>\n",
       "    </tr>\n",
       "    <tr>\n",
       "      <th>1137</th>\n",
       "      <td>120</td>\n",
       "      <td>300</td>\n",
       "      <td>34</td>\n",
       "      <td>63</td>\n",
       "      <td>150</td>\n",
       "      <td>True</td>\n",
       "    </tr>\n",
       "    <tr>\n",
       "      <th>1138</th>\n",
       "      <td>102</td>\n",
       "      <td>338</td>\n",
       "      <td>19</td>\n",
       "      <td>64</td>\n",
       "      <td>170</td>\n",
       "      <td>False</td>\n",
       "    </tr>\n",
       "    <tr>\n",
       "      <th>1139</th>\n",
       "      <td>97</td>\n",
       "      <td>255</td>\n",
       "      <td>22</td>\n",
       "      <td>63</td>\n",
       "      <td>107</td>\n",
       "      <td>True</td>\n",
       "    </tr>\n",
       "    <tr>\n",
       "      <th>1140</th>\n",
       "      <td>113</td>\n",
       "      <td>285</td>\n",
       "      <td>22</td>\n",
       "      <td>70</td>\n",
       "      <td>145</td>\n",
       "      <td>False</td>\n",
       "    </tr>\n",
       "    <tr>\n",
       "      <th>1142</th>\n",
       "      <td>97</td>\n",
       "      <td>260</td>\n",
       "      <td>25</td>\n",
       "      <td>63</td>\n",
       "      <td>115</td>\n",
       "      <td>True</td>\n",
       "    </tr>\n",
       "    <tr>\n",
       "      <th>1144</th>\n",
       "      <td>114</td>\n",
       "      <td>266</td>\n",
       "      <td>29</td>\n",
       "      <td>64</td>\n",
       "      <td>113</td>\n",
       "      <td>False</td>\n",
       "    </tr>\n",
       "    <tr>\n",
       "      <th>1146</th>\n",
       "      <td>87</td>\n",
       "      <td>247</td>\n",
       "      <td>18</td>\n",
       "      <td>66</td>\n",
       "      <td>125</td>\n",
       "      <td>True</td>\n",
       "    </tr>\n",
       "    <tr>\n",
       "      <th>1148</th>\n",
       "      <td>144</td>\n",
       "      <td>283</td>\n",
       "      <td>25</td>\n",
       "      <td>66</td>\n",
       "      <td>140</td>\n",
       "      <td>False</td>\n",
       "    </tr>\n",
       "    <tr>\n",
       "      <th>1149</th>\n",
       "      <td>116</td>\n",
       "      <td>273</td>\n",
       "      <td>33</td>\n",
       "      <td>66</td>\n",
       "      <td>130</td>\n",
       "      <td>True</td>\n",
       "    </tr>\n",
       "    <tr>\n",
       "      <th>1150</th>\n",
       "      <td>75</td>\n",
       "      <td>265</td>\n",
       "      <td>21</td>\n",
       "      <td>65</td>\n",
       "      <td>103</td>\n",
       "      <td>True</td>\n",
       "    </tr>\n",
       "    <tr>\n",
       "      <th>1151</th>\n",
       "      <td>138</td>\n",
       "      <td>286</td>\n",
       "      <td>28</td>\n",
       "      <td>68</td>\n",
       "      <td>120</td>\n",
       "      <td>False</td>\n",
       "    </tr>\n",
       "    <tr>\n",
       "      <th>1152</th>\n",
       "      <td>99</td>\n",
       "      <td>271</td>\n",
       "      <td>39</td>\n",
       "      <td>69</td>\n",
       "      <td>151</td>\n",
       "      <td>False</td>\n",
       "    </tr>\n",
       "    <tr>\n",
       "      <th>1153</th>\n",
       "      <td>118</td>\n",
       "      <td>293</td>\n",
       "      <td>21</td>\n",
       "      <td>63</td>\n",
       "      <td>103</td>\n",
       "      <td>False</td>\n",
       "    </tr>\n",
       "    <tr>\n",
       "      <th>1155</th>\n",
       "      <td>146</td>\n",
       "      <td>319</td>\n",
       "      <td>28</td>\n",
       "      <td>66</td>\n",
       "      <td>145</td>\n",
       "      <td>False</td>\n",
       "    </tr>\n",
       "    <tr>\n",
       "      <th>1156</th>\n",
       "      <td>81</td>\n",
       "      <td>285</td>\n",
       "      <td>19</td>\n",
       "      <td>63</td>\n",
       "      <td>150</td>\n",
       "      <td>True</td>\n",
       "    </tr>\n",
       "    <tr>\n",
       "      <th>1157</th>\n",
       "      <td>110</td>\n",
       "      <td>321</td>\n",
       "      <td>28</td>\n",
       "      <td>66</td>\n",
       "      <td>180</td>\n",
       "      <td>False</td>\n",
       "    </tr>\n",
       "    <tr>\n",
       "      <th>1159</th>\n",
       "      <td>114</td>\n",
       "      <td>290</td>\n",
       "      <td>21</td>\n",
       "      <td>65</td>\n",
       "      <td>120</td>\n",
       "      <td>True</td>\n",
       "    </tr>\n",
       "    <tr>\n",
       "      <th>1160</th>\n",
       "      <td>124</td>\n",
       "      <td>288</td>\n",
       "      <td>21</td>\n",
       "      <td>64</td>\n",
       "      <td>116</td>\n",
       "      <td>True</td>\n",
       "    </tr>\n",
       "    <tr>\n",
       "      <th>1161</th>\n",
       "      <td>115</td>\n",
       "      <td>262</td>\n",
       "      <td>23</td>\n",
       "      <td>64</td>\n",
       "      <td>136</td>\n",
       "      <td>True</td>\n",
       "    </tr>\n",
       "    <tr>\n",
       "      <th>1162</th>\n",
       "      <td>143</td>\n",
       "      <td>281</td>\n",
       "      <td>28</td>\n",
       "      <td>65</td>\n",
       "      <td>135</td>\n",
       "      <td>True</td>\n",
       "    </tr>\n",
       "    <tr>\n",
       "      <th>1163</th>\n",
       "      <td>113</td>\n",
       "      <td>287</td>\n",
       "      <td>29</td>\n",
       "      <td>70</td>\n",
       "      <td>145</td>\n",
       "      <td>True</td>\n",
       "    </tr>\n",
       "    <tr>\n",
       "      <th>1164</th>\n",
       "      <td>109</td>\n",
       "      <td>244</td>\n",
       "      <td>21</td>\n",
       "      <td>63</td>\n",
       "      <td>102</td>\n",
       "      <td>True</td>\n",
       "    </tr>\n",
       "    <tr>\n",
       "      <th>1166</th>\n",
       "      <td>118</td>\n",
       "      <td>276</td>\n",
       "      <td>34</td>\n",
       "      <td>64</td>\n",
       "      <td>116</td>\n",
       "      <td>False</td>\n",
       "    </tr>\n",
       "    <tr>\n",
       "      <th>1167</th>\n",
       "      <td>127</td>\n",
       "      <td>290</td>\n",
       "      <td>27</td>\n",
       "      <td>65</td>\n",
       "      <td>121</td>\n",
       "      <td>False</td>\n",
       "    </tr>\n",
       "    <tr>\n",
       "      <th>1168</th>\n",
       "      <td>132</td>\n",
       "      <td>270</td>\n",
       "      <td>27</td>\n",
       "      <td>65</td>\n",
       "      <td>126</td>\n",
       "      <td>False</td>\n",
       "    </tr>\n",
       "    <tr>\n",
       "      <th>1170</th>\n",
       "      <td>128</td>\n",
       "      <td>265</td>\n",
       "      <td>24</td>\n",
       "      <td>67</td>\n",
       "      <td>120</td>\n",
       "      <td>False</td>\n",
       "    </tr>\n",
       "    <tr>\n",
       "      <th>1171</th>\n",
       "      <td>130</td>\n",
       "      <td>291</td>\n",
       "      <td>30</td>\n",
       "      <td>65</td>\n",
       "      <td>150</td>\n",
       "      <td>True</td>\n",
       "    </tr>\n",
       "    <tr>\n",
       "      <th>1172</th>\n",
       "      <td>125</td>\n",
       "      <td>281</td>\n",
       "      <td>21</td>\n",
       "      <td>65</td>\n",
       "      <td>110</td>\n",
       "      <td>False</td>\n",
       "    </tr>\n",
       "    <tr>\n",
       "      <th>1173</th>\n",
       "      <td>117</td>\n",
       "      <td>297</td>\n",
       "      <td>38</td>\n",
       "      <td>65</td>\n",
       "      <td>129</td>\n",
       "      <td>False</td>\n",
       "    </tr>\n",
       "  </tbody>\n",
       "</table>\n",
       "<p>856 rows × 6 columns</p>\n",
       "</div>"
      ],
      "text/plain": [
       "      Birth.Weight  Gestational.Days  Maternal.Age  Maternal.Height  \\\n",
       "1              113               282            33               64   \n",
       "2              128               279            28               64   \n",
       "3              108               282            23               67   \n",
       "6              132               245            23               65   \n",
       "8              143               299            30               66   \n",
       "...            ...               ...           ...              ...   \n",
       "1168           132               270            27               65   \n",
       "1170           128               265            24               67   \n",
       "1171           130               291            30               65   \n",
       "1172           125               281            21               65   \n",
       "1173           117               297            38               65   \n",
       "\n",
       "      Maternal.Pregnancy.Weight  Maternal.Smoker  \n",
       "1                           135            False  \n",
       "2                           115             True  \n",
       "3                           125             True  \n",
       "6                           140            False  \n",
       "8                           136             True  \n",
       "...                         ...              ...  \n",
       "1168                        126            False  \n",
       "1170                        120            False  \n",
       "1171                        150             True  \n",
       "1172                        110            False  \n",
       "1173                        129            False  \n",
       "\n",
       "[856 rows x 6 columns]"
      ]
     },
     "execution_count": 74,
     "metadata": {},
     "output_type": "execute_result"
    }
   ],
   "source": [
    "# pandas\n",
    "# Return all rows where Maternal.Height is greater than or equal to 63.\n",
    "baby_df[baby_df['Maternal.Height'] >= 63]"
   ]
  },
  {
   "cell_type": "code",
   "execution_count": null,
   "metadata": {
    "cell_id": "b67bd6c5-eb61-41ea-9540-d46698a657b7",
    "deepnote_cell_type": "code",
    "tags": []
   },
   "outputs": [
    {
     "data": {
      "text/html": [
       "<table border=\"1\" class=\"dataframe\">\n",
       "    <thead>\n",
       "        <tr>\n",
       "            <th>Birth.Weight</th> <th>Gestational.Days</th> <th>Maternal.Age</th> <th>Maternal.Height</th> <th>Maternal.Pregnancy.Weight</th> <th>Maternal.Smoker</th>\n",
       "        </tr>\n",
       "    </thead>\n",
       "    <tbody>\n",
       "        <tr>\n",
       "            <td>128         </td> <td>279             </td> <td>28          </td> <td>64             </td> <td>115                      </td> <td>True           </td>\n",
       "        </tr>\n",
       "        <tr>\n",
       "            <td>108         </td> <td>282             </td> <td>23          </td> <td>67             </td> <td>125                      </td> <td>True           </td>\n",
       "        </tr>\n",
       "        <tr>\n",
       "            <td>143         </td> <td>299             </td> <td>30          </td> <td>66             </td> <td>136                      </td> <td>True           </td>\n",
       "        </tr>\n",
       "        <tr>\n",
       "            <td>144         </td> <td>282             </td> <td>32          </td> <td>64             </td> <td>124                      </td> <td>True           </td>\n",
       "        </tr>\n",
       "        <tr>\n",
       "            <td>141         </td> <td>279             </td> <td>23          </td> <td>63             </td> <td>128                      </td> <td>True           </td>\n",
       "        </tr>\n",
       "        <tr>\n",
       "            <td>110         </td> <td>281             </td> <td>36          </td> <td>61             </td> <td>99                       </td> <td>True           </td>\n",
       "        </tr>\n",
       "        <tr>\n",
       "            <td>92          </td> <td>255             </td> <td>25          </td> <td>65             </td> <td>125                      </td> <td>True           </td>\n",
       "        </tr>\n",
       "        <tr>\n",
       "            <td>115         </td> <td>261             </td> <td>33          </td> <td>60             </td> <td>125                      </td> <td>True           </td>\n",
       "        </tr>\n",
       "        <tr>\n",
       "            <td>119         </td> <td>288             </td> <td>43          </td> <td>66             </td> <td>142                      </td> <td>True           </td>\n",
       "        </tr>\n",
       "        <tr>\n",
       "            <td>115         </td> <td>274             </td> <td>27          </td> <td>67             </td> <td>175                      </td> <td>True           </td>\n",
       "        </tr>\n",
       "    </tbody>\n",
       "</table>\n",
       "<p>... (449 rows omitted)</p>"
      ],
      "text/plain": [
       "Birth.Weight | Gestational.Days | Maternal.Age | Maternal.Height | Maternal.Pregnancy.Weight | Maternal.Smoker\n",
       "128          | 279              | 28           | 64              | 115                       | True\n",
       "108          | 282              | 23           | 67              | 125                       | True\n",
       "143          | 299              | 30           | 66              | 136                       | True\n",
       "144          | 282              | 32           | 64              | 124                       | True\n",
       "141          | 279              | 23           | 63              | 128                       | True\n",
       "110          | 281              | 36           | 61              | 99                        | True\n",
       "92           | 255              | 25           | 65              | 125                       | True\n",
       "115          | 261              | 33           | 60              | 125                       | True\n",
       "119          | 288              | 43           | 66              | 142                       | True\n",
       "115          | 274              | 27           | 67              | 175                       | True\n",
       "... (449 rows omitted)"
      ]
     },
     "execution_count": 59,
     "metadata": {},
     "output_type": "execute_result"
    }
   ],
   "source": [
    "# datascience\n",
    "# Return all rows where Maternal.Smoker is True.\n",
    "baby_tbl.where('Maternal.Smoker', are.equal_to(True))"
   ]
  },
  {
   "cell_type": "code",
   "execution_count": null,
   "metadata": {
    "cell_id": "46f081ab-0ccb-4648-a6d8-07f7e45afa95",
    "deepnote_cell_type": "code",
    "tags": []
   },
   "outputs": [
    {
     "data": {
      "application/vnd.deepnote.dataframe+json": {
       "numColumns": 6,
       "numElements": 459,
       "variableDetails": {
        "columns": [
         {
          "name": "Birth.Weight",
          "stats": {
           "25%": 101,
           "50%": 115,
           "75%": 126,
           "count": 459,
           "max": 163,
           "mean": 113.81917211328977,
           "min": 58,
           "nan_count": 0,
           "std": 18.295010373139494
          }
         },
         {
          "name": "Gestational.Days",
          "stats": {
           "25%": 271,
           "50%": 278,
           "75%": 286,
           "count": 459,
           "max": 330,
           "mean": 277.8976034858388,
           "min": 223,
           "nan_count": 0,
           "std": 15.201426858149071
          }
         },
         {
          "name": "Maternal.Age",
          "stats": {
           "25%": 22,
           "50%": 26,
           "75%": 30,
           "count": 459,
           "max": 43,
           "mean": 26.736383442265794,
           "min": 15,
           "nan_count": 0,
           "std": 5.713139379049088
          }
         },
         {
          "name": "Maternal.Height",
          "stats": {
           "25%": 62.5,
           "50%": 64,
           "75%": 66,
           "count": 459,
           "max": 72,
           "mean": 64.10457516339869,
           "min": 53,
           "nan_count": 0,
           "std": 2.603734466232717
          }
         },
         {
          "name": "Maternal.Pregnancy.Weight",
          "stats": {
           "25%": 112,
           "50%": 125,
           "75%": 136.5,
           "count": 459,
           "max": 215,
           "mean": 126.9193899782135,
           "min": 87,
           "nan_count": 0,
           "std": 19.991920716884735
          }
         },
         {
          "name": "Maternal.Smoker",
          "stats": {
           "count": 459,
           "freq": 459,
           "nan_count": 0,
           "top": true,
           "unique": 1
          }
         }
        ],
        "dataframe": {
         "1060": {
          "Birth.Weight": 113,
          "Gestational.Days": 282,
          "Maternal.Age": 30,
          "Maternal.Height": 64,
          "Maternal.Pregnancy.Weight": 118,
          "Maternal.Smoker": true
         },
         "1133": {
          "Birth.Weight": 103,
          "Gestational.Days": 273,
          "Maternal.Age": 36,
          "Maternal.Height": 65,
          "Maternal.Pregnancy.Weight": 158,
          "Maternal.Smoker": true
         },
         "210": {
          "Birth.Weight": 130,
          "Gestational.Days": 282,
          "Maternal.Age": 21,
          "Maternal.Height": 62,
          "Maternal.Pregnancy.Weight": 106,
          "Maternal.Smoker": true
         },
         "318": {
          "Birth.Weight": 133,
          "Gestational.Days": 292,
          "Maternal.Age": 30,
          "Maternal.Height": 65,
          "Maternal.Pregnancy.Weight": 112,
          "Maternal.Smoker": true
         },
         "403": {
          "Birth.Weight": 132,
          "Gestational.Days": 278,
          "Maternal.Age": 20,
          "Maternal.Height": 64,
          "Maternal.Pregnancy.Weight": 150,
          "Maternal.Smoker": true
         },
         "491": {
          "Birth.Weight": 114,
          "Gestational.Days": 293,
          "Maternal.Age": 20,
          "Maternal.Height": 66,
          "Maternal.Pregnancy.Weight": 180,
          "Maternal.Smoker": true
         },
         "554": {
          "Birth.Weight": 115,
          "Gestational.Days": 283,
          "Maternal.Age": 31,
          "Maternal.Height": 66,
          "Maternal.Pregnancy.Weight": 127,
          "Maternal.Smoker": true
         },
         "563": {
          "Birth.Weight": 85,
          "Gestational.Days": 270,
          "Maternal.Age": 19,
          "Maternal.Height": 63,
          "Maternal.Pregnancy.Weight": 118,
          "Maternal.Smoker": true
         },
         "753": {
          "Birth.Weight": 96,
          "Gestational.Days": 280,
          "Maternal.Age": 34,
          "Maternal.Height": 62,
          "Maternal.Pregnancy.Weight": 127,
          "Maternal.Smoker": true
         },
         "80": {
          "Birth.Weight": 114,
          "Gestational.Days": 274,
          "Maternal.Age": 33,
          "Maternal.Height": 67,
          "Maternal.Pregnancy.Weight": 148,
          "Maternal.Smoker": true
         }
        },
        "frequencyInfo": [
         {
          "frequencyData": [
           {
            "x": 58,
            "y": 3
           },
           {
            "x": 68.5,
            "y": 12
           },
           {
            "x": 79,
            "y": 25
           },
           {
            "x": 89.5,
            "y": 59
           },
           {
            "x": 100,
            "y": 97
           },
           {
            "x": 110.5,
            "y": 101
           },
           {
            "x": 121,
            "y": 93
           },
           {
            "x": 131.5,
            "y": 33
           },
           {
            "x": 142,
            "y": 26
           },
           {
            "x": 152.5,
            "y": 10
           }
          ],
          "type": "hist"
         },
         {
          "frequencyData": [
           {
            "x": 223,
            "y": 5
           },
           {
            "x": 233.7,
            "y": 9
           },
           {
            "x": 244.4,
            "y": 21
           },
           {
            "x": 255.1,
            "y": 30
           },
           {
            "x": 265.8,
            "y": 133
           },
           {
            "x": 276.5,
            "y": 165
           },
           {
            "x": 287.2,
            "y": 66
           },
           {
            "x": 297.9,
            "y": 19
           },
           {
            "x": 308.6,
            "y": 6
           },
           {
            "x": 319.3,
            "y": 5
           }
          ],
          "type": "hist"
         },
         {
          "frequencyData": [
           {
            "x": 15,
            "y": 4
           },
           {
            "x": 17.8,
            "y": 57
           },
           {
            "x": 20.6,
            "y": 100
           },
           {
            "x": 23.4,
            "y": 83
           },
           {
            "x": 26.2,
            "y": 55
           },
           {
            "x": 29,
            "y": 69
           },
           {
            "x": 31.799999999999997,
            "y": 38
           },
           {
            "x": 34.599999999999994,
            "y": 31
           },
           {
            "x": 37.4,
            "y": 11
           },
           {
            "x": 40.2,
            "y": 11
           }
          ],
          "type": "hist"
         },
         {
          "frequencyData": [
           {
            "x": 53,
            "y": 2
           },
           {
            "x": 54.9,
            "y": 0
           },
           {
            "x": 56.8,
            "y": 6
           },
           {
            "x": 58.7,
            "y": 29
           },
           {
            "x": 60.6,
            "y": 78
           },
           {
            "x": 62.5,
            "y": 133
           },
           {
            "x": 64.4,
            "y": 135
           },
           {
            "x": 66.3,
            "y": 58
           },
           {
            "x": 68.2,
            "y": 14
           },
           {
            "x": 70.1,
            "y": 4
           }
          ],
          "type": "hist"
         },
         {
          "frequencyData": [
           {
            "x": 87,
            "y": 14
           },
           {
            "x": 99.8,
            "y": 113
           },
           {
            "x": 112.6,
            "y": 119
           },
           {
            "x": 125.4,
            "y": 106
           },
           {
            "x": 138.2,
            "y": 63
           },
           {
            "x": 151,
            "y": 19
           },
           {
            "x": 163.8,
            "y": 14
           },
           {
            "x": 176.60000000000002,
            "y": 5
           },
           {
            "x": 189.4,
            "y": 5
           },
           {
            "x": 202.2,
            "y": 1
           }
          ],
          "type": "hist"
         },
         {
          "frequencyData": [
           {
            "x": 0.5,
            "y": 0
           },
           {
            "x": 0.6,
            "y": 0
           },
           {
            "x": 0.7,
            "y": 0
           },
           {
            "x": 0.8,
            "y": 0
           },
           {
            "x": 0.9,
            "y": 0
           },
           {
            "x": 1,
            "y": 459
           },
           {
            "x": 1.1,
            "y": 0
           },
           {
            "x": 1.2000000000000002,
            "y": 0
           },
           {
            "x": 1.3,
            "y": 0
           },
           {
            "x": 1.4,
            "y": 0
           }
          ],
          "type": "hist"
         }
        ]
       }
      },
      "text/html": [
       "<div>\n",
       "<style scoped>\n",
       "    .dataframe tbody tr th:only-of-type {\n",
       "        vertical-align: middle;\n",
       "    }\n",
       "\n",
       "    .dataframe tbody tr th {\n",
       "        vertical-align: top;\n",
       "    }\n",
       "\n",
       "    .dataframe thead th {\n",
       "        text-align: right;\n",
       "    }\n",
       "</style>\n",
       "<table border=\"1\" class=\"dataframe\">\n",
       "  <thead>\n",
       "    <tr style=\"text-align: right;\">\n",
       "      <th></th>\n",
       "      <th>Birth.Weight</th>\n",
       "      <th>Gestational.Days</th>\n",
       "      <th>Maternal.Age</th>\n",
       "      <th>Maternal.Height</th>\n",
       "      <th>Maternal.Pregnancy.Weight</th>\n",
       "      <th>Maternal.Smoker</th>\n",
       "    </tr>\n",
       "  </thead>\n",
       "  <tbody>\n",
       "    <tr>\n",
       "      <th>2</th>\n",
       "      <td>128</td>\n",
       "      <td>279</td>\n",
       "      <td>28</td>\n",
       "      <td>64</td>\n",
       "      <td>115</td>\n",
       "      <td>True</td>\n",
       "    </tr>\n",
       "    <tr>\n",
       "      <th>3</th>\n",
       "      <td>108</td>\n",
       "      <td>282</td>\n",
       "      <td>23</td>\n",
       "      <td>67</td>\n",
       "      <td>125</td>\n",
       "      <td>True</td>\n",
       "    </tr>\n",
       "    <tr>\n",
       "      <th>8</th>\n",
       "      <td>143</td>\n",
       "      <td>299</td>\n",
       "      <td>30</td>\n",
       "      <td>66</td>\n",
       "      <td>136</td>\n",
       "      <td>True</td>\n",
       "    </tr>\n",
       "    <tr>\n",
       "      <th>10</th>\n",
       "      <td>144</td>\n",
       "      <td>282</td>\n",
       "      <td>32</td>\n",
       "      <td>64</td>\n",
       "      <td>124</td>\n",
       "      <td>True</td>\n",
       "    </tr>\n",
       "    <tr>\n",
       "      <th>11</th>\n",
       "      <td>141</td>\n",
       "      <td>279</td>\n",
       "      <td>23</td>\n",
       "      <td>63</td>\n",
       "      <td>128</td>\n",
       "      <td>True</td>\n",
       "    </tr>\n",
       "    <tr>\n",
       "      <th>12</th>\n",
       "      <td>110</td>\n",
       "      <td>281</td>\n",
       "      <td>36</td>\n",
       "      <td>61</td>\n",
       "      <td>99</td>\n",
       "      <td>True</td>\n",
       "    </tr>\n",
       "    <tr>\n",
       "      <th>15</th>\n",
       "      <td>92</td>\n",
       "      <td>255</td>\n",
       "      <td>25</td>\n",
       "      <td>65</td>\n",
       "      <td>125</td>\n",
       "      <td>True</td>\n",
       "    </tr>\n",
       "    <tr>\n",
       "      <th>16</th>\n",
       "      <td>115</td>\n",
       "      <td>261</td>\n",
       "      <td>33</td>\n",
       "      <td>60</td>\n",
       "      <td>125</td>\n",
       "      <td>True</td>\n",
       "    </tr>\n",
       "    <tr>\n",
       "      <th>18</th>\n",
       "      <td>119</td>\n",
       "      <td>288</td>\n",
       "      <td>43</td>\n",
       "      <td>66</td>\n",
       "      <td>142</td>\n",
       "      <td>True</td>\n",
       "    </tr>\n",
       "    <tr>\n",
       "      <th>20</th>\n",
       "      <td>115</td>\n",
       "      <td>274</td>\n",
       "      <td>27</td>\n",
       "      <td>67</td>\n",
       "      <td>175</td>\n",
       "      <td>True</td>\n",
       "    </tr>\n",
       "    <tr>\n",
       "      <th>24</th>\n",
       "      <td>103</td>\n",
       "      <td>261</td>\n",
       "      <td>27</td>\n",
       "      <td>65</td>\n",
       "      <td>112</td>\n",
       "      <td>True</td>\n",
       "    </tr>\n",
       "    <tr>\n",
       "      <th>26</th>\n",
       "      <td>114</td>\n",
       "      <td>266</td>\n",
       "      <td>20</td>\n",
       "      <td>65</td>\n",
       "      <td>175</td>\n",
       "      <td>True</td>\n",
       "    </tr>\n",
       "    <tr>\n",
       "      <th>28</th>\n",
       "      <td>114</td>\n",
       "      <td>274</td>\n",
       "      <td>28</td>\n",
       "      <td>66</td>\n",
       "      <td>132</td>\n",
       "      <td>True</td>\n",
       "    </tr>\n",
       "    <tr>\n",
       "      <th>36</th>\n",
       "      <td>134</td>\n",
       "      <td>288</td>\n",
       "      <td>23</td>\n",
       "      <td>63</td>\n",
       "      <td>92</td>\n",
       "      <td>True</td>\n",
       "    </tr>\n",
       "    <tr>\n",
       "      <th>37</th>\n",
       "      <td>122</td>\n",
       "      <td>267</td>\n",
       "      <td>27</td>\n",
       "      <td>65</td>\n",
       "      <td>101</td>\n",
       "      <td>True</td>\n",
       "    </tr>\n",
       "    <tr>\n",
       "      <th>41</th>\n",
       "      <td>87</td>\n",
       "      <td>248</td>\n",
       "      <td>37</td>\n",
       "      <td>65</td>\n",
       "      <td>130</td>\n",
       "      <td>True</td>\n",
       "    </tr>\n",
       "    <tr>\n",
       "      <th>42</th>\n",
       "      <td>143</td>\n",
       "      <td>274</td>\n",
       "      <td>27</td>\n",
       "      <td>63</td>\n",
       "      <td>110</td>\n",
       "      <td>True</td>\n",
       "    </tr>\n",
       "    <tr>\n",
       "      <th>46</th>\n",
       "      <td>145</td>\n",
       "      <td>291</td>\n",
       "      <td>26</td>\n",
       "      <td>63</td>\n",
       "      <td>119</td>\n",
       "      <td>True</td>\n",
       "    </tr>\n",
       "    <tr>\n",
       "      <th>48</th>\n",
       "      <td>108</td>\n",
       "      <td>283</td>\n",
       "      <td>31</td>\n",
       "      <td>65</td>\n",
       "      <td>148</td>\n",
       "      <td>True</td>\n",
       "    </tr>\n",
       "    <tr>\n",
       "      <th>53</th>\n",
       "      <td>124</td>\n",
       "      <td>278</td>\n",
       "      <td>26</td>\n",
       "      <td>70</td>\n",
       "      <td>145</td>\n",
       "      <td>True</td>\n",
       "    </tr>\n",
       "    <tr>\n",
       "      <th>59</th>\n",
       "      <td>122</td>\n",
       "      <td>280</td>\n",
       "      <td>23</td>\n",
       "      <td>65</td>\n",
       "      <td>125</td>\n",
       "      <td>True</td>\n",
       "    </tr>\n",
       "    <tr>\n",
       "      <th>60</th>\n",
       "      <td>101</td>\n",
       "      <td>245</td>\n",
       "      <td>23</td>\n",
       "      <td>63</td>\n",
       "      <td>130</td>\n",
       "      <td>True</td>\n",
       "    </tr>\n",
       "    <tr>\n",
       "      <th>61</th>\n",
       "      <td>128</td>\n",
       "      <td>283</td>\n",
       "      <td>28</td>\n",
       "      <td>63</td>\n",
       "      <td>125</td>\n",
       "      <td>True</td>\n",
       "    </tr>\n",
       "    <tr>\n",
       "      <th>62</th>\n",
       "      <td>104</td>\n",
       "      <td>282</td>\n",
       "      <td>36</td>\n",
       "      <td>65</td>\n",
       "      <td>115</td>\n",
       "      <td>True</td>\n",
       "    </tr>\n",
       "    <tr>\n",
       "      <th>64</th>\n",
       "      <td>137</td>\n",
       "      <td>274</td>\n",
       "      <td>26</td>\n",
       "      <td>69</td>\n",
       "      <td>137</td>\n",
       "      <td>True</td>\n",
       "    </tr>\n",
       "    <tr>\n",
       "      <th>65</th>\n",
       "      <td>103</td>\n",
       "      <td>273</td>\n",
       "      <td>31</td>\n",
       "      <td>63</td>\n",
       "      <td>170</td>\n",
       "      <td>True</td>\n",
       "    </tr>\n",
       "    <tr>\n",
       "      <th>69</th>\n",
       "      <td>133</td>\n",
       "      <td>284</td>\n",
       "      <td>25</td>\n",
       "      <td>66</td>\n",
       "      <td>125</td>\n",
       "      <td>True</td>\n",
       "    </tr>\n",
       "    <tr>\n",
       "      <th>71</th>\n",
       "      <td>91</td>\n",
       "      <td>270</td>\n",
       "      <td>24</td>\n",
       "      <td>60</td>\n",
       "      <td>149</td>\n",
       "      <td>True</td>\n",
       "    </tr>\n",
       "    <tr>\n",
       "      <th>73</th>\n",
       "      <td>153</td>\n",
       "      <td>286</td>\n",
       "      <td>26</td>\n",
       "      <td>63</td>\n",
       "      <td>107</td>\n",
       "      <td>True</td>\n",
       "    </tr>\n",
       "    <tr>\n",
       "      <th>76</th>\n",
       "      <td>99</td>\n",
       "      <td>272</td>\n",
       "      <td>27</td>\n",
       "      <td>62</td>\n",
       "      <td>103</td>\n",
       "      <td>True</td>\n",
       "    </tr>\n",
       "    <tr>\n",
       "      <th>...</th>\n",
       "      <td>...</td>\n",
       "      <td>...</td>\n",
       "      <td>...</td>\n",
       "      <td>...</td>\n",
       "      <td>...</td>\n",
       "      <td>...</td>\n",
       "    </tr>\n",
       "    <tr>\n",
       "      <th>1116</th>\n",
       "      <td>124</td>\n",
       "      <td>289</td>\n",
       "      <td>21</td>\n",
       "      <td>67</td>\n",
       "      <td>145</td>\n",
       "      <td>True</td>\n",
       "    </tr>\n",
       "    <tr>\n",
       "      <th>1117</th>\n",
       "      <td>138</td>\n",
       "      <td>292</td>\n",
       "      <td>25</td>\n",
       "      <td>65</td>\n",
       "      <td>130</td>\n",
       "      <td>True</td>\n",
       "    </tr>\n",
       "    <tr>\n",
       "      <th>1118</th>\n",
       "      <td>88</td>\n",
       "      <td>276</td>\n",
       "      <td>25</td>\n",
       "      <td>63</td>\n",
       "      <td>103</td>\n",
       "      <td>True</td>\n",
       "    </tr>\n",
       "    <tr>\n",
       "      <th>1120</th>\n",
       "      <td>82</td>\n",
       "      <td>274</td>\n",
       "      <td>31</td>\n",
       "      <td>64</td>\n",
       "      <td>101</td>\n",
       "      <td>True</td>\n",
       "    </tr>\n",
       "    <tr>\n",
       "      <th>1123</th>\n",
       "      <td>97</td>\n",
       "      <td>269</td>\n",
       "      <td>20</td>\n",
       "      <td>65</td>\n",
       "      <td>137</td>\n",
       "      <td>True</td>\n",
       "    </tr>\n",
       "    <tr>\n",
       "      <th>1127</th>\n",
       "      <td>116</td>\n",
       "      <td>274</td>\n",
       "      <td>21</td>\n",
       "      <td>62</td>\n",
       "      <td>110</td>\n",
       "      <td>True</td>\n",
       "    </tr>\n",
       "    <tr>\n",
       "      <th>1128</th>\n",
       "      <td>132</td>\n",
       "      <td>302</td>\n",
       "      <td>36</td>\n",
       "      <td>63</td>\n",
       "      <td>145</td>\n",
       "      <td>True</td>\n",
       "    </tr>\n",
       "    <tr>\n",
       "      <th>1130</th>\n",
       "      <td>119</td>\n",
       "      <td>277</td>\n",
       "      <td>18</td>\n",
       "      <td>61</td>\n",
       "      <td>89</td>\n",
       "      <td>True</td>\n",
       "    </tr>\n",
       "    <tr>\n",
       "      <th>1131</th>\n",
       "      <td>106</td>\n",
       "      <td>312</td>\n",
       "      <td>24</td>\n",
       "      <td>62</td>\n",
       "      <td>135</td>\n",
       "      <td>True</td>\n",
       "    </tr>\n",
       "    <tr>\n",
       "      <th>1133</th>\n",
       "      <td>103</td>\n",
       "      <td>273</td>\n",
       "      <td>36</td>\n",
       "      <td>65</td>\n",
       "      <td>158</td>\n",
       "      <td>True</td>\n",
       "    </tr>\n",
       "    <tr>\n",
       "      <th>1134</th>\n",
       "      <td>112</td>\n",
       "      <td>299</td>\n",
       "      <td>24</td>\n",
       "      <td>67</td>\n",
       "      <td>145</td>\n",
       "      <td>True</td>\n",
       "    </tr>\n",
       "    <tr>\n",
       "      <th>1135</th>\n",
       "      <td>96</td>\n",
       "      <td>276</td>\n",
       "      <td>33</td>\n",
       "      <td>64</td>\n",
       "      <td>127</td>\n",
       "      <td>True</td>\n",
       "    </tr>\n",
       "    <tr>\n",
       "      <th>1136</th>\n",
       "      <td>102</td>\n",
       "      <td>281</td>\n",
       "      <td>19</td>\n",
       "      <td>67</td>\n",
       "      <td>135</td>\n",
       "      <td>True</td>\n",
       "    </tr>\n",
       "    <tr>\n",
       "      <th>1137</th>\n",
       "      <td>120</td>\n",
       "      <td>300</td>\n",
       "      <td>34</td>\n",
       "      <td>63</td>\n",
       "      <td>150</td>\n",
       "      <td>True</td>\n",
       "    </tr>\n",
       "    <tr>\n",
       "      <th>1139</th>\n",
       "      <td>97</td>\n",
       "      <td>255</td>\n",
       "      <td>22</td>\n",
       "      <td>63</td>\n",
       "      <td>107</td>\n",
       "      <td>True</td>\n",
       "    </tr>\n",
       "    <tr>\n",
       "      <th>1142</th>\n",
       "      <td>97</td>\n",
       "      <td>260</td>\n",
       "      <td>25</td>\n",
       "      <td>63</td>\n",
       "      <td>115</td>\n",
       "      <td>True</td>\n",
       "    </tr>\n",
       "    <tr>\n",
       "      <th>1145</th>\n",
       "      <td>127</td>\n",
       "      <td>242</td>\n",
       "      <td>17</td>\n",
       "      <td>61</td>\n",
       "      <td>135</td>\n",
       "      <td>True</td>\n",
       "    </tr>\n",
       "    <tr>\n",
       "      <th>1146</th>\n",
       "      <td>87</td>\n",
       "      <td>247</td>\n",
       "      <td>18</td>\n",
       "      <td>66</td>\n",
       "      <td>125</td>\n",
       "      <td>True</td>\n",
       "    </tr>\n",
       "    <tr>\n",
       "      <th>1147</th>\n",
       "      <td>141</td>\n",
       "      <td>281</td>\n",
       "      <td>29</td>\n",
       "      <td>54</td>\n",
       "      <td>156</td>\n",
       "      <td>True</td>\n",
       "    </tr>\n",
       "    <tr>\n",
       "      <th>1149</th>\n",
       "      <td>116</td>\n",
       "      <td>273</td>\n",
       "      <td>33</td>\n",
       "      <td>66</td>\n",
       "      <td>130</td>\n",
       "      <td>True</td>\n",
       "    </tr>\n",
       "    <tr>\n",
       "      <th>1150</th>\n",
       "      <td>75</td>\n",
       "      <td>265</td>\n",
       "      <td>21</td>\n",
       "      <td>65</td>\n",
       "      <td>103</td>\n",
       "      <td>True</td>\n",
       "    </tr>\n",
       "    <tr>\n",
       "      <th>1156</th>\n",
       "      <td>81</td>\n",
       "      <td>285</td>\n",
       "      <td>19</td>\n",
       "      <td>63</td>\n",
       "      <td>150</td>\n",
       "      <td>True</td>\n",
       "    </tr>\n",
       "    <tr>\n",
       "      <th>1159</th>\n",
       "      <td>114</td>\n",
       "      <td>290</td>\n",
       "      <td>21</td>\n",
       "      <td>65</td>\n",
       "      <td>120</td>\n",
       "      <td>True</td>\n",
       "    </tr>\n",
       "    <tr>\n",
       "      <th>1160</th>\n",
       "      <td>124</td>\n",
       "      <td>288</td>\n",
       "      <td>21</td>\n",
       "      <td>64</td>\n",
       "      <td>116</td>\n",
       "      <td>True</td>\n",
       "    </tr>\n",
       "    <tr>\n",
       "      <th>1161</th>\n",
       "      <td>115</td>\n",
       "      <td>262</td>\n",
       "      <td>23</td>\n",
       "      <td>64</td>\n",
       "      <td>136</td>\n",
       "      <td>True</td>\n",
       "    </tr>\n",
       "    <tr>\n",
       "      <th>1162</th>\n",
       "      <td>143</td>\n",
       "      <td>281</td>\n",
       "      <td>28</td>\n",
       "      <td>65</td>\n",
       "      <td>135</td>\n",
       "      <td>True</td>\n",
       "    </tr>\n",
       "    <tr>\n",
       "      <th>1163</th>\n",
       "      <td>113</td>\n",
       "      <td>287</td>\n",
       "      <td>29</td>\n",
       "      <td>70</td>\n",
       "      <td>145</td>\n",
       "      <td>True</td>\n",
       "    </tr>\n",
       "    <tr>\n",
       "      <th>1164</th>\n",
       "      <td>109</td>\n",
       "      <td>244</td>\n",
       "      <td>21</td>\n",
       "      <td>63</td>\n",
       "      <td>102</td>\n",
       "      <td>True</td>\n",
       "    </tr>\n",
       "    <tr>\n",
       "      <th>1165</th>\n",
       "      <td>103</td>\n",
       "      <td>278</td>\n",
       "      <td>30</td>\n",
       "      <td>60</td>\n",
       "      <td>87</td>\n",
       "      <td>True</td>\n",
       "    </tr>\n",
       "    <tr>\n",
       "      <th>1171</th>\n",
       "      <td>130</td>\n",
       "      <td>291</td>\n",
       "      <td>30</td>\n",
       "      <td>65</td>\n",
       "      <td>150</td>\n",
       "      <td>True</td>\n",
       "    </tr>\n",
       "  </tbody>\n",
       "</table>\n",
       "<p>459 rows × 6 columns</p>\n",
       "</div>"
      ],
      "text/plain": [
       "      Birth.Weight  Gestational.Days  Maternal.Age  Maternal.Height  \\\n",
       "2              128               279            28               64   \n",
       "3              108               282            23               67   \n",
       "8              143               299            30               66   \n",
       "10             144               282            32               64   \n",
       "11             141               279            23               63   \n",
       "...            ...               ...           ...              ...   \n",
       "1162           143               281            28               65   \n",
       "1163           113               287            29               70   \n",
       "1164           109               244            21               63   \n",
       "1165           103               278            30               60   \n",
       "1171           130               291            30               65   \n",
       "\n",
       "      Maternal.Pregnancy.Weight  Maternal.Smoker  \n",
       "2                           115             True  \n",
       "3                           125             True  \n",
       "8                           136             True  \n",
       "10                          124             True  \n",
       "11                          128             True  \n",
       "...                         ...              ...  \n",
       "1162                        135             True  \n",
       "1163                        145             True  \n",
       "1164                        102             True  \n",
       "1165                         87             True  \n",
       "1171                        150             True  \n",
       "\n",
       "[459 rows x 6 columns]"
      ]
     },
     "execution_count": 60,
     "metadata": {},
     "output_type": "execute_result"
    }
   ],
   "source": [
    "# pandas\n",
    "# Return all rows where Maternal.Smoker is True.\n",
    "baby_df.loc[baby_df['Maternal.Smoker'] == True]"
   ]
  },
  {
   "cell_type": "markdown",
   "metadata": {
    "cell_id": "937cb1df-974d-4068-b254-17c1b1c707e3",
    "deepnote_cell_type": "markdown",
    "tags": []
   },
   "source": [
    "## Filtering on Multiple Conditions"
   ]
  },
  {
   "cell_type": "markdown",
   "metadata": {
    "cell_id": "eea83949-4736-4b2e-87be-9f976820ca02",
    "deepnote_cell_type": "markdown",
    "tags": []
   },
   "source": [
    "We can also filter on multiple conditions. \n",
    "If we want records (rows) where all of the conditions are true, we separate our criterion by the `&` symbol, where `&` represents *and*.\n",
    "\n",
    "`df.loc[(boolean series 1) & (boolean series 2) & (boolean series 2)]`\n",
    "\n",
    "If we just want one of the conditions to be true, we separate our criterion by `|` symbols, where `|` represents *or*.\n",
    "\n",
    "`df.loc[(boolean series 1) | (boolean series 2) | (boolean series 2)]`\n",
    "\n",
    "\n"
   ]
  },
  {
   "cell_type": "code",
   "execution_count": null,
   "metadata": {
    "cell_id": "f7a80844-c7b4-4685-97f6-a087ddea3122",
    "deepnote_cell_type": "code",
    "tags": []
   },
   "outputs": [
    {
     "data": {
      "text/html": [
       "<table border=\"1\" class=\"dataframe\">\n",
       "    <thead>\n",
       "        <tr>\n",
       "            <th>Birth.Weight</th> <th>Gestational.Days</th> <th>Maternal.Age</th> <th>Maternal.Height</th> <th>Maternal.Pregnancy.Weight</th> <th>Maternal.Smoker</th>\n",
       "        </tr>\n",
       "    </thead>\n",
       "    <tbody>\n",
       "        <tr>\n",
       "            <td>128         </td> <td>279             </td> <td>28          </td> <td>64             </td> <td>115                      </td> <td>True           </td>\n",
       "        </tr>\n",
       "        <tr>\n",
       "            <td>141         </td> <td>279             </td> <td>23          </td> <td>63             </td> <td>128                      </td> <td>True           </td>\n",
       "        </tr>\n",
       "        <tr>\n",
       "            <td>114         </td> <td>273             </td> <td>30          </td> <td>63             </td> <td>154                      </td> <td>False          </td>\n",
       "        </tr>\n",
       "        <tr>\n",
       "            <td>105         </td> <td>270             </td> <td>22          </td> <td>56             </td> <td>93                       </td> <td>False          </td>\n",
       "        </tr>\n",
       "        <tr>\n",
       "            <td>115         </td> <td>274             </td> <td>27          </td> <td>67             </td> <td>175                      </td> <td>True           </td>\n",
       "        </tr>\n",
       "        <tr>\n",
       "            <td>122         </td> <td>276             </td> <td>30          </td> <td>68             </td> <td>182                      </td> <td>False          </td>\n",
       "        </tr>\n",
       "        <tr>\n",
       "            <td>114         </td> <td>274             </td> <td>28          </td> <td>66             </td> <td>132                      </td> <td>True           </td>\n",
       "        </tr>\n",
       "        <tr>\n",
       "            <td>122         </td> <td>270             </td> <td>26          </td> <td>61             </td> <td>105                      </td> <td>False          </td>\n",
       "        </tr>\n",
       "        <tr>\n",
       "            <td>93          </td> <td>278             </td> <td>34          </td> <td>61             </td> <td>146                      </td> <td>False          </td>\n",
       "        </tr>\n",
       "        <tr>\n",
       "            <td>119         </td> <td>275             </td> <td>23          </td> <td>60             </td> <td>105                      </td> <td>False          </td>\n",
       "        </tr>\n",
       "    </tbody>\n",
       "</table>\n",
       "<p>... (338 rows omitted)</p>"
      ],
      "text/plain": [
       "Birth.Weight | Gestational.Days | Maternal.Age | Maternal.Height | Maternal.Pregnancy.Weight | Maternal.Smoker\n",
       "128          | 279              | 28           | 64              | 115                       | True\n",
       "141          | 279              | 23           | 63              | 128                       | True\n",
       "114          | 273              | 30           | 63              | 154                       | False\n",
       "105          | 270              | 22           | 56              | 93                        | False\n",
       "115          | 274              | 27           | 67              | 175                       | True\n",
       "122          | 276              | 30           | 68              | 182                       | False\n",
       "114          | 274              | 28           | 66              | 132                       | True\n",
       "122          | 270              | 26           | 61              | 105                       | False\n",
       "93           | 278              | 34           | 61              | 146                       | False\n",
       "119          | 275              | 23           | 60              | 105                       | False\n",
       "... (338 rows omitted)"
      ]
     },
     "execution_count": 77,
     "metadata": {},
     "output_type": "execute_result"
    }
   ],
   "source": [
    "# datascience\n",
    "# Return all rows where Gestational.Days is between 270 and 280.\n",
    "baby_tbl.where('Gestational.Days', are.between(270, 280))"
   ]
  },
  {
   "cell_type": "code",
   "execution_count": null,
   "metadata": {
    "cell_id": "93dbcc4f-9e97-4960-b63c-e41cb912430d",
    "deepnote_cell_type": "code",
    "tags": []
   },
   "outputs": [
    {
     "data": {
      "application/vnd.deepnote.dataframe+json": {
       "numColumns": 6,
       "numElements": 348,
       "variableDetails": {
        "columns": [
         {
          "name": "Birth.Weight",
          "stats": {
           "25%": 107,
           "50%": 118,
           "75%": 127,
           "count": 348,
           "max": 160,
           "mean": 116.94540229885058,
           "min": 71,
           "nan_count": 0,
           "std": 15.325475827776952
          }
         },
         {
          "name": "Gestational.Days",
          "stats": {
           "25%": 273,
           "50%": 275,
           "75%": 277,
           "count": 348,
           "max": 279,
           "mean": 274.8477011494253,
           "min": 270,
           "nan_count": 0,
           "std": 2.8299184624456752
          }
         },
         {
          "name": "Maternal.Age",
          "stats": {
           "25%": 23,
           "50%": 26,
           "75%": 30.25,
           "count": 348,
           "max": 43,
           "mean": 27.17528735632184,
           "min": 17,
           "nan_count": 0,
           "std": 5.758418838991963
          }
         },
         {
          "name": "Maternal.Height",
          "stats": {
           "25%": 62,
           "50%": 64,
           "75%": 66,
           "count": 348,
           "max": 72,
           "mean": 64.00287356321839,
           "min": 56,
           "nan_count": 0,
           "std": 2.5929393857780894
          }
         },
         {
          "name": "Maternal.Pregnancy.Weight",
          "stats": {
           "25%": 115,
           "50%": 127,
           "75%": 140.5,
           "count": 348,
           "max": 220,
           "mean": 129.42241379310346,
           "min": 87,
           "nan_count": 0,
           "std": 21.442699272290422
          }
         },
         {
          "name": "Maternal.Smoker",
          "stats": {
           "count": 348,
           "freq": 199,
           "nan_count": 0,
           "top": false,
           "unique": 2
          }
         }
        ],
        "dataframe": {
         "1043": {
          "Birth.Weight": 119,
          "Gestational.Days": 275,
          "Maternal.Age": 27,
          "Maternal.Height": 59,
          "Maternal.Pregnancy.Weight": 113,
          "Maternal.Smoker": true
         },
         "349": {
          "Birth.Weight": 98,
          "Gestational.Days": 276,
          "Maternal.Age": 22,
          "Maternal.Height": 61,
          "Maternal.Pregnancy.Weight": 121,
          "Maternal.Smoker": false
         },
         "391": {
          "Birth.Weight": 115,
          "Gestational.Days": 276,
          "Maternal.Age": 18,
          "Maternal.Height": 63,
          "Maternal.Pregnancy.Weight": 110,
          "Maternal.Smoker": false
         },
         "499": {
          "Birth.Weight": 123,
          "Gestational.Days": 277,
          "Maternal.Age": 20,
          "Maternal.Height": 65,
          "Maternal.Pregnancy.Weight": 160,
          "Maternal.Smoker": false
         },
         "540": {
          "Birth.Weight": 121,
          "Gestational.Days": 273,
          "Maternal.Age": 32,
          "Maternal.Height": 64,
          "Maternal.Pregnancy.Weight": 112,
          "Maternal.Smoker": false
         },
         "650": {
          "Birth.Weight": 128,
          "Gestational.Days": 271,
          "Maternal.Age": 29,
          "Maternal.Height": 65,
          "Maternal.Pregnancy.Weight": 126,
          "Maternal.Smoker": true
         },
         "714": {
          "Birth.Weight": 129,
          "Gestational.Days": 277,
          "Maternal.Age": 24,
          "Maternal.Height": 68,
          "Maternal.Pregnancy.Weight": 142,
          "Maternal.Smoker": false
         },
         "843": {
          "Birth.Weight": 96,
          "Gestational.Days": 278,
          "Maternal.Age": 18,
          "Maternal.Height": 60,
          "Maternal.Pregnancy.Weight": 120,
          "Maternal.Smoker": true
         },
         "888": {
          "Birth.Weight": 89,
          "Gestational.Days": 275,
          "Maternal.Age": 34,
          "Maternal.Height": 66,
          "Maternal.Pregnancy.Weight": 170,
          "Maternal.Smoker": false
         },
         "947": {
          "Birth.Weight": 122,
          "Gestational.Days": 278,
          "Maternal.Age": 37,
          "Maternal.Height": 68,
          "Maternal.Pregnancy.Weight": 114,
          "Maternal.Smoker": false
         }
        },
        "frequencyInfo": [
         {
          "frequencyData": [
           {
            "x": 71,
            "y": 3
           },
           {
            "x": 79.9,
            "y": 14
           },
           {
            "x": 88.8,
            "y": 17
           },
           {
            "x": 97.7,
            "y": 50
           },
           {
            "x": 106.6,
            "y": 69
           },
           {
            "x": 115.5,
            "y": 92
           },
           {
            "x": 124.4,
            "y": 57
           },
           {
            "x": 133.3,
            "y": 29
           },
           {
            "x": 142.2,
            "y": 14
           },
           {
            "x": 151.10000000000002,
            "y": 3
           }
          ],
          "type": "hist"
         },
         {
          "frequencyData": [
           {
            "x": 270,
            "y": 34
           },
           {
            "x": 270.9,
            "y": 25
           },
           {
            "x": 271.8,
            "y": 22
           },
           {
            "x": 272.7,
            "y": 37
           },
           {
            "x": 273.6,
            "y": 34
           },
           {
            "x": 274.5,
            "y": 38
           },
           {
            "x": 275.4,
            "y": 39
           },
           {
            "x": 276.3,
            "y": 41
           },
           {
            "x": 277.2,
            "y": 42
           },
           {
            "x": 278.1,
            "y": 36
           }
          ],
          "type": "hist"
         },
         {
          "frequencyData": [
           {
            "x": 17,
            "y": 20
           },
           {
            "x": 19.6,
            "y": 57
           },
           {
            "x": 22.2,
            "y": 49
           },
           {
            "x": 24.8,
            "y": 83
           },
           {
            "x": 27.4,
            "y": 32
           },
           {
            "x": 30,
            "y": 41
           },
           {
            "x": 32.6,
            "y": 32
           },
           {
            "x": 35.2,
            "y": 11
           },
           {
            "x": 37.8,
            "y": 12
           },
           {
            "x": 40.400000000000006,
            "y": 11
           }
          ],
          "type": "hist"
         },
         {
          "frequencyData": [
           {
            "x": 56,
            "y": 1
           },
           {
            "x": 57.6,
            "y": 5
           },
           {
            "x": 59.2,
            "y": 23
           },
           {
            "x": 60.8,
            "y": 73
           },
           {
            "x": 62.4,
            "y": 55
           },
           {
            "x": 64,
            "y": 89
           },
           {
            "x": 65.6,
            "y": 67
           },
           {
            "x": 67.2,
            "y": 19
           },
           {
            "x": 68.8,
            "y": 13
           },
           {
            "x": 70.4,
            "y": 3
           }
          ],
          "type": "hist"
         },
         {
          "frequencyData": [
           {
            "x": 87,
            "y": 16
           },
           {
            "x": 100.3,
            "y": 66
           },
           {
            "x": 113.6,
            "y": 91
           },
           {
            "x": 126.9,
            "y": 88
           },
           {
            "x": 140.2,
            "y": 41
           },
           {
            "x": 153.5,
            "y": 29
           },
           {
            "x": 166.8,
            "y": 9
           },
           {
            "x": 180.10000000000002,
            "y": 4
           },
           {
            "x": 193.4,
            "y": 0
           },
           {
            "x": 206.7,
            "y": 4
           }
          ],
          "type": "hist"
         },
         {
          "frequencyData": [
           {
            "x": 0,
            "y": 199
           },
           {
            "x": 0.1,
            "y": 0
           },
           {
            "x": 0.2,
            "y": 0
           },
           {
            "x": 0.30000000000000004,
            "y": 0
           },
           {
            "x": 0.4,
            "y": 0
           },
           {
            "x": 0.5,
            "y": 0
           },
           {
            "x": 0.6000000000000001,
            "y": 0
           },
           {
            "x": 0.7000000000000001,
            "y": 0
           },
           {
            "x": 0.8,
            "y": 0
           },
           {
            "x": 0.9,
            "y": 149
           }
          ],
          "type": "hist"
         }
        ]
       }
      },
      "text/html": [
       "<div>\n",
       "<style scoped>\n",
       "    .dataframe tbody tr th:only-of-type {\n",
       "        vertical-align: middle;\n",
       "    }\n",
       "\n",
       "    .dataframe tbody tr th {\n",
       "        vertical-align: top;\n",
       "    }\n",
       "\n",
       "    .dataframe thead th {\n",
       "        text-align: right;\n",
       "    }\n",
       "</style>\n",
       "<table border=\"1\" class=\"dataframe\">\n",
       "  <thead>\n",
       "    <tr style=\"text-align: right;\">\n",
       "      <th></th>\n",
       "      <th>Birth.Weight</th>\n",
       "      <th>Gestational.Days</th>\n",
       "      <th>Maternal.Age</th>\n",
       "      <th>Maternal.Height</th>\n",
       "      <th>Maternal.Pregnancy.Weight</th>\n",
       "      <th>Maternal.Smoker</th>\n",
       "    </tr>\n",
       "  </thead>\n",
       "  <tbody>\n",
       "    <tr>\n",
       "      <th>2</th>\n",
       "      <td>128</td>\n",
       "      <td>279</td>\n",
       "      <td>28</td>\n",
       "      <td>64</td>\n",
       "      <td>115</td>\n",
       "      <td>True</td>\n",
       "    </tr>\n",
       "    <tr>\n",
       "      <th>11</th>\n",
       "      <td>141</td>\n",
       "      <td>279</td>\n",
       "      <td>23</td>\n",
       "      <td>63</td>\n",
       "      <td>128</td>\n",
       "      <td>True</td>\n",
       "    </tr>\n",
       "    <tr>\n",
       "      <th>13</th>\n",
       "      <td>114</td>\n",
       "      <td>273</td>\n",
       "      <td>30</td>\n",
       "      <td>63</td>\n",
       "      <td>154</td>\n",
       "      <td>False</td>\n",
       "    </tr>\n",
       "    <tr>\n",
       "      <th>19</th>\n",
       "      <td>105</td>\n",
       "      <td>270</td>\n",
       "      <td>22</td>\n",
       "      <td>56</td>\n",
       "      <td>93</td>\n",
       "      <td>False</td>\n",
       "    </tr>\n",
       "    <tr>\n",
       "      <th>20</th>\n",
       "      <td>115</td>\n",
       "      <td>274</td>\n",
       "      <td>27</td>\n",
       "      <td>67</td>\n",
       "      <td>175</td>\n",
       "      <td>True</td>\n",
       "    </tr>\n",
       "    <tr>\n",
       "      <th>22</th>\n",
       "      <td>122</td>\n",
       "      <td>276</td>\n",
       "      <td>30</td>\n",
       "      <td>68</td>\n",
       "      <td>182</td>\n",
       "      <td>False</td>\n",
       "    </tr>\n",
       "    <tr>\n",
       "      <th>28</th>\n",
       "      <td>114</td>\n",
       "      <td>274</td>\n",
       "      <td>28</td>\n",
       "      <td>66</td>\n",
       "      <td>132</td>\n",
       "      <td>True</td>\n",
       "    </tr>\n",
       "    <tr>\n",
       "      <th>29</th>\n",
       "      <td>122</td>\n",
       "      <td>270</td>\n",
       "      <td>26</td>\n",
       "      <td>61</td>\n",
       "      <td>105</td>\n",
       "      <td>False</td>\n",
       "    </tr>\n",
       "    <tr>\n",
       "      <th>30</th>\n",
       "      <td>93</td>\n",
       "      <td>278</td>\n",
       "      <td>34</td>\n",
       "      <td>61</td>\n",
       "      <td>146</td>\n",
       "      <td>False</td>\n",
       "    </tr>\n",
       "    <tr>\n",
       "      <th>32</th>\n",
       "      <td>119</td>\n",
       "      <td>275</td>\n",
       "      <td>23</td>\n",
       "      <td>60</td>\n",
       "      <td>105</td>\n",
       "      <td>False</td>\n",
       "    </tr>\n",
       "    <tr>\n",
       "      <th>35</th>\n",
       "      <td>107</td>\n",
       "      <td>279</td>\n",
       "      <td>24</td>\n",
       "      <td>63</td>\n",
       "      <td>115</td>\n",
       "      <td>False</td>\n",
       "    </tr>\n",
       "    <tr>\n",
       "      <th>39</th>\n",
       "      <td>110</td>\n",
       "      <td>278</td>\n",
       "      <td>23</td>\n",
       "      <td>63</td>\n",
       "      <td>177</td>\n",
       "      <td>False</td>\n",
       "    </tr>\n",
       "    <tr>\n",
       "      <th>40</th>\n",
       "      <td>111</td>\n",
       "      <td>270</td>\n",
       "      <td>27</td>\n",
       "      <td>61</td>\n",
       "      <td>119</td>\n",
       "      <td>False</td>\n",
       "    </tr>\n",
       "    <tr>\n",
       "      <th>42</th>\n",
       "      <td>143</td>\n",
       "      <td>274</td>\n",
       "      <td>27</td>\n",
       "      <td>63</td>\n",
       "      <td>110</td>\n",
       "      <td>True</td>\n",
       "    </tr>\n",
       "    <tr>\n",
       "      <th>44</th>\n",
       "      <td>110</td>\n",
       "      <td>272</td>\n",
       "      <td>25</td>\n",
       "      <td>60</td>\n",
       "      <td>90</td>\n",
       "      <td>False</td>\n",
       "    </tr>\n",
       "    <tr>\n",
       "      <th>45</th>\n",
       "      <td>122</td>\n",
       "      <td>275</td>\n",
       "      <td>26</td>\n",
       "      <td>66</td>\n",
       "      <td>147</td>\n",
       "      <td>False</td>\n",
       "    </tr>\n",
       "    <tr>\n",
       "      <th>52</th>\n",
       "      <td>124</td>\n",
       "      <td>275</td>\n",
       "      <td>22</td>\n",
       "      <td>60</td>\n",
       "      <td>130</td>\n",
       "      <td>False</td>\n",
       "    </tr>\n",
       "    <tr>\n",
       "      <th>53</th>\n",
       "      <td>124</td>\n",
       "      <td>278</td>\n",
       "      <td>26</td>\n",
       "      <td>70</td>\n",
       "      <td>145</td>\n",
       "      <td>True</td>\n",
       "    </tr>\n",
       "    <tr>\n",
       "      <th>55</th>\n",
       "      <td>106</td>\n",
       "      <td>273</td>\n",
       "      <td>28</td>\n",
       "      <td>60</td>\n",
       "      <td>116</td>\n",
       "      <td>False</td>\n",
       "    </tr>\n",
       "    <tr>\n",
       "      <th>57</th>\n",
       "      <td>107</td>\n",
       "      <td>273</td>\n",
       "      <td>24</td>\n",
       "      <td>61</td>\n",
       "      <td>96</td>\n",
       "      <td>False</td>\n",
       "    </tr>\n",
       "    <tr>\n",
       "      <th>64</th>\n",
       "      <td>137</td>\n",
       "      <td>274</td>\n",
       "      <td>26</td>\n",
       "      <td>69</td>\n",
       "      <td>137</td>\n",
       "      <td>True</td>\n",
       "    </tr>\n",
       "    <tr>\n",
       "      <th>65</th>\n",
       "      <td>103</td>\n",
       "      <td>273</td>\n",
       "      <td>31</td>\n",
       "      <td>63</td>\n",
       "      <td>170</td>\n",
       "      <td>True</td>\n",
       "    </tr>\n",
       "    <tr>\n",
       "      <th>66</th>\n",
       "      <td>142</td>\n",
       "      <td>276</td>\n",
       "      <td>38</td>\n",
       "      <td>63</td>\n",
       "      <td>170</td>\n",
       "      <td>False</td>\n",
       "    </tr>\n",
       "    <tr>\n",
       "      <th>70</th>\n",
       "      <td>120</td>\n",
       "      <td>274</td>\n",
       "      <td>24</td>\n",
       "      <td>62</td>\n",
       "      <td>120</td>\n",
       "      <td>False</td>\n",
       "    </tr>\n",
       "    <tr>\n",
       "      <th>71</th>\n",
       "      <td>91</td>\n",
       "      <td>270</td>\n",
       "      <td>24</td>\n",
       "      <td>60</td>\n",
       "      <td>149</td>\n",
       "      <td>True</td>\n",
       "    </tr>\n",
       "    <tr>\n",
       "      <th>72</th>\n",
       "      <td>127</td>\n",
       "      <td>274</td>\n",
       "      <td>21</td>\n",
       "      <td>62</td>\n",
       "      <td>110</td>\n",
       "      <td>False</td>\n",
       "    </tr>\n",
       "    <tr>\n",
       "      <th>74</th>\n",
       "      <td>121</td>\n",
       "      <td>276</td>\n",
       "      <td>39</td>\n",
       "      <td>63</td>\n",
       "      <td>130</td>\n",
       "      <td>False</td>\n",
       "    </tr>\n",
       "    <tr>\n",
       "      <th>75</th>\n",
       "      <td>120</td>\n",
       "      <td>277</td>\n",
       "      <td>27</td>\n",
       "      <td>63</td>\n",
       "      <td>126</td>\n",
       "      <td>False</td>\n",
       "    </tr>\n",
       "    <tr>\n",
       "      <th>76</th>\n",
       "      <td>99</td>\n",
       "      <td>272</td>\n",
       "      <td>27</td>\n",
       "      <td>62</td>\n",
       "      <td>103</td>\n",
       "      <td>True</td>\n",
       "    </tr>\n",
       "    <tr>\n",
       "      <th>80</th>\n",
       "      <td>114</td>\n",
       "      <td>274</td>\n",
       "      <td>33</td>\n",
       "      <td>67</td>\n",
       "      <td>148</td>\n",
       "      <td>True</td>\n",
       "    </tr>\n",
       "    <tr>\n",
       "      <th>...</th>\n",
       "      <td>...</td>\n",
       "      <td>...</td>\n",
       "      <td>...</td>\n",
       "      <td>...</td>\n",
       "      <td>...</td>\n",
       "      <td>...</td>\n",
       "    </tr>\n",
       "    <tr>\n",
       "      <th>1052</th>\n",
       "      <td>129</td>\n",
       "      <td>275</td>\n",
       "      <td>24</td>\n",
       "      <td>65</td>\n",
       "      <td>135</td>\n",
       "      <td>False</td>\n",
       "    </tr>\n",
       "    <tr>\n",
       "      <th>1054</th>\n",
       "      <td>110</td>\n",
       "      <td>276</td>\n",
       "      <td>31</td>\n",
       "      <td>70</td>\n",
       "      <td>155</td>\n",
       "      <td>False</td>\n",
       "    </tr>\n",
       "    <tr>\n",
       "      <th>1055</th>\n",
       "      <td>118</td>\n",
       "      <td>273</td>\n",
       "      <td>21</td>\n",
       "      <td>63</td>\n",
       "      <td>120</td>\n",
       "      <td>False</td>\n",
       "    </tr>\n",
       "    <tr>\n",
       "      <th>1061</th>\n",
       "      <td>117</td>\n",
       "      <td>270</td>\n",
       "      <td>23</td>\n",
       "      <td>58</td>\n",
       "      <td>115</td>\n",
       "      <td>False</td>\n",
       "    </tr>\n",
       "    <tr>\n",
       "      <th>1063</th>\n",
       "      <td>128</td>\n",
       "      <td>277</td>\n",
       "      <td>39</td>\n",
       "      <td>61</td>\n",
       "      <td>120</td>\n",
       "      <td>False</td>\n",
       "    </tr>\n",
       "    <tr>\n",
       "      <th>1068</th>\n",
       "      <td>126</td>\n",
       "      <td>271</td>\n",
       "      <td>21</td>\n",
       "      <td>60</td>\n",
       "      <td>105</td>\n",
       "      <td>False</td>\n",
       "    </tr>\n",
       "    <tr>\n",
       "      <th>1071</th>\n",
       "      <td>140</td>\n",
       "      <td>274</td>\n",
       "      <td>41</td>\n",
       "      <td>63</td>\n",
       "      <td>122</td>\n",
       "      <td>False</td>\n",
       "    </tr>\n",
       "    <tr>\n",
       "      <th>1075</th>\n",
       "      <td>98</td>\n",
       "      <td>279</td>\n",
       "      <td>18</td>\n",
       "      <td>65</td>\n",
       "      <td>115</td>\n",
       "      <td>True</td>\n",
       "    </tr>\n",
       "    <tr>\n",
       "      <th>1079</th>\n",
       "      <td>137</td>\n",
       "      <td>276</td>\n",
       "      <td>25</td>\n",
       "      <td>64</td>\n",
       "      <td>127</td>\n",
       "      <td>False</td>\n",
       "    </tr>\n",
       "    <tr>\n",
       "      <th>1087</th>\n",
       "      <td>106</td>\n",
       "      <td>279</td>\n",
       "      <td>29</td>\n",
       "      <td>63</td>\n",
       "      <td>125</td>\n",
       "      <td>True</td>\n",
       "    </tr>\n",
       "    <tr>\n",
       "      <th>1098</th>\n",
       "      <td>112</td>\n",
       "      <td>270</td>\n",
       "      <td>29</td>\n",
       "      <td>61</td>\n",
       "      <td>124</td>\n",
       "      <td>False</td>\n",
       "    </tr>\n",
       "    <tr>\n",
       "      <th>1102</th>\n",
       "      <td>132</td>\n",
       "      <td>270</td>\n",
       "      <td>26</td>\n",
       "      <td>67</td>\n",
       "      <td>140</td>\n",
       "      <td>False</td>\n",
       "    </tr>\n",
       "    <tr>\n",
       "      <th>1112</th>\n",
       "      <td>82</td>\n",
       "      <td>270</td>\n",
       "      <td>21</td>\n",
       "      <td>65</td>\n",
       "      <td>150</td>\n",
       "      <td>True</td>\n",
       "    </tr>\n",
       "    <tr>\n",
       "      <th>1115</th>\n",
       "      <td>115</td>\n",
       "      <td>278</td>\n",
       "      <td>27</td>\n",
       "      <td>59</td>\n",
       "      <td>95</td>\n",
       "      <td>False</td>\n",
       "    </tr>\n",
       "    <tr>\n",
       "      <th>1118</th>\n",
       "      <td>88</td>\n",
       "      <td>276</td>\n",
       "      <td>25</td>\n",
       "      <td>63</td>\n",
       "      <td>103</td>\n",
       "      <td>True</td>\n",
       "    </tr>\n",
       "    <tr>\n",
       "      <th>1120</th>\n",
       "      <td>82</td>\n",
       "      <td>274</td>\n",
       "      <td>31</td>\n",
       "      <td>64</td>\n",
       "      <td>101</td>\n",
       "      <td>True</td>\n",
       "    </tr>\n",
       "    <tr>\n",
       "      <th>1121</th>\n",
       "      <td>100</td>\n",
       "      <td>274</td>\n",
       "      <td>24</td>\n",
       "      <td>63</td>\n",
       "      <td>113</td>\n",
       "      <td>False</td>\n",
       "    </tr>\n",
       "    <tr>\n",
       "      <th>1122</th>\n",
       "      <td>114</td>\n",
       "      <td>271</td>\n",
       "      <td>32</td>\n",
       "      <td>61</td>\n",
       "      <td>130</td>\n",
       "      <td>False</td>\n",
       "    </tr>\n",
       "    <tr>\n",
       "      <th>1125</th>\n",
       "      <td>122</td>\n",
       "      <td>275</td>\n",
       "      <td>20</td>\n",
       "      <td>65</td>\n",
       "      <td>127</td>\n",
       "      <td>False</td>\n",
       "    </tr>\n",
       "    <tr>\n",
       "      <th>1127</th>\n",
       "      <td>116</td>\n",
       "      <td>274</td>\n",
       "      <td>21</td>\n",
       "      <td>62</td>\n",
       "      <td>110</td>\n",
       "      <td>True</td>\n",
       "    </tr>\n",
       "    <tr>\n",
       "      <th>1130</th>\n",
       "      <td>119</td>\n",
       "      <td>277</td>\n",
       "      <td>18</td>\n",
       "      <td>61</td>\n",
       "      <td>89</td>\n",
       "      <td>True</td>\n",
       "    </tr>\n",
       "    <tr>\n",
       "      <th>1133</th>\n",
       "      <td>103</td>\n",
       "      <td>273</td>\n",
       "      <td>36</td>\n",
       "      <td>65</td>\n",
       "      <td>158</td>\n",
       "      <td>True</td>\n",
       "    </tr>\n",
       "    <tr>\n",
       "      <th>1135</th>\n",
       "      <td>96</td>\n",
       "      <td>276</td>\n",
       "      <td>33</td>\n",
       "      <td>64</td>\n",
       "      <td>127</td>\n",
       "      <td>True</td>\n",
       "    </tr>\n",
       "    <tr>\n",
       "      <th>1143</th>\n",
       "      <td>116</td>\n",
       "      <td>273</td>\n",
       "      <td>31</td>\n",
       "      <td>61</td>\n",
       "      <td>120</td>\n",
       "      <td>False</td>\n",
       "    </tr>\n",
       "    <tr>\n",
       "      <th>1149</th>\n",
       "      <td>116</td>\n",
       "      <td>273</td>\n",
       "      <td>33</td>\n",
       "      <td>66</td>\n",
       "      <td>130</td>\n",
       "      <td>True</td>\n",
       "    </tr>\n",
       "    <tr>\n",
       "      <th>1152</th>\n",
       "      <td>99</td>\n",
       "      <td>271</td>\n",
       "      <td>39</td>\n",
       "      <td>69</td>\n",
       "      <td>151</td>\n",
       "      <td>False</td>\n",
       "    </tr>\n",
       "    <tr>\n",
       "      <th>1165</th>\n",
       "      <td>103</td>\n",
       "      <td>278</td>\n",
       "      <td>30</td>\n",
       "      <td>60</td>\n",
       "      <td>87</td>\n",
       "      <td>True</td>\n",
       "    </tr>\n",
       "    <tr>\n",
       "      <th>1166</th>\n",
       "      <td>118</td>\n",
       "      <td>276</td>\n",
       "      <td>34</td>\n",
       "      <td>64</td>\n",
       "      <td>116</td>\n",
       "      <td>False</td>\n",
       "    </tr>\n",
       "    <tr>\n",
       "      <th>1168</th>\n",
       "      <td>132</td>\n",
       "      <td>270</td>\n",
       "      <td>27</td>\n",
       "      <td>65</td>\n",
       "      <td>126</td>\n",
       "      <td>False</td>\n",
       "    </tr>\n",
       "    <tr>\n",
       "      <th>1169</th>\n",
       "      <td>113</td>\n",
       "      <td>275</td>\n",
       "      <td>27</td>\n",
       "      <td>60</td>\n",
       "      <td>100</td>\n",
       "      <td>False</td>\n",
       "    </tr>\n",
       "  </tbody>\n",
       "</table>\n",
       "<p>348 rows × 6 columns</p>\n",
       "</div>"
      ],
      "text/plain": [
       "      Birth.Weight  Gestational.Days  Maternal.Age  Maternal.Height  \\\n",
       "2              128               279            28               64   \n",
       "11             141               279            23               63   \n",
       "13             114               273            30               63   \n",
       "19             105               270            22               56   \n",
       "20             115               274            27               67   \n",
       "...            ...               ...           ...              ...   \n",
       "1152            99               271            39               69   \n",
       "1165           103               278            30               60   \n",
       "1166           118               276            34               64   \n",
       "1168           132               270            27               65   \n",
       "1169           113               275            27               60   \n",
       "\n",
       "      Maternal.Pregnancy.Weight  Maternal.Smoker  \n",
       "2                           115             True  \n",
       "11                          128             True  \n",
       "13                          154            False  \n",
       "19                           93            False  \n",
       "20                          175             True  \n",
       "...                         ...              ...  \n",
       "1152                        151            False  \n",
       "1165                         87             True  \n",
       "1166                        116            False  \n",
       "1168                        126            False  \n",
       "1169                        100            False  \n",
       "\n",
       "[348 rows x 6 columns]"
      ]
     },
     "execution_count": 75,
     "metadata": {},
     "output_type": "execute_result"
    }
   ],
   "source": [
    "# pandas\n",
    "# Select all rows where Gestational.Days are above or equal to 270, but less than 280.\n",
    "baby_df.loc[(baby_df['Gestational.Days'] >= 270) & (baby_df['Gestational.Days'] < 280)]"
   ]
  },
  {
   "cell_type": "code",
   "execution_count": null,
   "metadata": {
    "cell_id": "f0cf1926-ff59-4b6c-b5b4-18039eede5e7",
    "deepnote_cell_type": "code",
    "tags": []
   },
   "outputs": [],
   "source": []
  }
 ],
 "metadata": {
  "deepnote_execution_queue": [],
  "deepnote_notebook_id": "73294928-b4ef-415c-bd47-2056dd8d9195",
  "kernelspec": {
   "display_name": "Python 3",
   "language": "python",
   "name": "python3"
  },
  "language_info": {
   "codemirror_mode": {
    "name": "ipython",
    "version": 3
   },
   "file_extension": ".py",
   "mimetype": "text/x-python",
   "name": "python",
   "nbconvert_exporter": "python",
   "pygments_lexer": "ipython3",
   "version": "3.6.5"
  }
 },
 "nbformat": 4,
 "nbformat_minor": 2
}
