{
 "cells": [
  {
   "cell_type": "markdown",
   "metadata": {
    "cell_id": "7ba56f5b-f087-4991-809f-becc1b374a26",
    "deepnote_cell_type": "markdown",
    "tags": []
   },
   "source": [
    "# Module 2: From `datascience` to `pandas`"
   ]
  },
  {
   "cell_type": "markdown",
   "metadata": {
    "cell_id": "40f60939-bcf4-4b1e-a0f5-7bcd5c9750e0",
    "deepnote_cell_type": "markdown",
    "tags": []
   },
   "source": [
    "## Why `pandas`?\n",
    "\n",
    "Like the `datascience` package you learned and used in Data 8, `pandas` is a Python library used for data manipulation and analysis.\n",
    "However, `datascience` was developed as a pedagogical tool for Data 8, intended to help students become familiarized with python syntax as well as syntax associated with tabular data analysis. \n",
    "We decided to teach `datascience` first since its syntax is more intuitive and easier to use for students without much programming experience.\n",
    "On the other hand, `pandas` is an industrial strength package that is used in most data analysis projects in the real world. \n",
    "Learning how to use pandas would also make your projects easier to understand for other data scientists and extend the scope of influence your projects may have.\n",
    "\n",
    "\n",
    "Now that you've completed Data 8, it's a good time to translate the functions you've learned to `pandas`. \n",
    "Throughout this notebook, we will go over `pandas` by showing similar functions in both the `datascience` syntax and `pandas` syntax, as well as introduce you to some of the other functionalities that `pandas` provides."
   ]
  },
  {
   "cell_type": "markdown",
   "metadata": {
    "cell_id": "fcc6b4ec-39d1-4b6c-b124-43b7269765ae",
    "deepnote_cell_type": "markdown",
    "tags": []
   },
   "source": [
    "We will first import the packages we need. The following 3 lines imports `pandas`, `datascience`, and `numpy` respectively. \n",
    "Note that we imported `pandas` as `pd`, which means that when we call functions in `pandas`, we will always reference them with `pd` first.\n",
    "In Data 8, you saw something similar when we imported `numpy` as `np`: functions like taking `np.mean` or `np.random.choice` are all from the `numpy` package.\n"
   ]
  },
  {
   "cell_type": "code",
   "execution_count": 1,
   "metadata": {
    "cell_id": "11511ebc-854a-49ba-9a47-3925bae72adb",
    "deepnote_cell_type": "code",
    "tags": []
   },
   "outputs": [],
   "source": [
    "import pandas as pd # This is how we import pandas into the environment. Typically, we use pd to refer to all pandas modules for short. \n",
    "from datascience import *\n",
    "import numpy as np"
   ]
  },
  {
   "cell_type": "markdown",
   "metadata": {
    "cell_id": "877edf14-5e9c-4254-a631-00fff3b0a299",
    "deepnote_cell_type": "markdown",
    "tags": []
   },
   "source": [
    "## Creating a Table"
   ]
  },
  {
   "cell_type": "markdown",
   "metadata": {
    "cell_id": "b2c442fc-d356-41dd-816b-91bc06c3d82f",
    "deepnote_cell_type": "markdown",
    "tags": []
   },
   "source": [
    "### Reading in a Dataset\n",
    "\n",
    "Most of the time, the data we want to analyze will be in a separate file, typically as a `.csv` file. \n",
    "In this case, we want to read the files in and convert them into a tabular format."
   ]
  },
  {
   "cell_type": "markdown",
   "metadata": {
    "cell_id": "0c29348d-59e5-4d8a-8816-38ab02e0a9eb",
    "deepnote_cell_type": "markdown",
    "tags": []
   },
   "source": [
    "Using the `datascience` package, we will want to read in the file as a table. \n",
    "To do this, we use the function `Table.read_table(file_path)`. \n",
    "In the example below, the `baby.csv` file is in the same folder as this notebook, so the relative file path from this notebook to the csv file is just `baby.csv`."
   ]
  },
  {
   "cell_type": "code",
   "execution_count": 2,
   "metadata": {
    "cell_id": "082a5002-cc8f-4075-9dc0-34026a360de7",
    "deepnote_cell_type": "code",
    "tags": []
   },
   "outputs": [
    {
     "data": {
      "text/html": [
       "<table border=\"1\" class=\"dataframe\">\n",
       "    <thead>\n",
       "        <tr>\n",
       "            <th>Birth.Weight</th> <th>Gestational.Days</th> <th>Maternal.Age</th> <th>Maternal.Height</th> <th>Maternal.Pregnancy.Weight</th> <th>Maternal.Smoker</th>\n",
       "        </tr>\n",
       "    </thead>\n",
       "    <tbody>\n",
       "        <tr>\n",
       "            <td>120         </td> <td>284             </td> <td>27          </td> <td>62             </td> <td>100                      </td> <td>False          </td>\n",
       "        </tr>\n",
       "        <tr>\n",
       "            <td>113         </td> <td>282             </td> <td>33          </td> <td>64             </td> <td>135                      </td> <td>False          </td>\n",
       "        </tr>\n",
       "        <tr>\n",
       "            <td>128         </td> <td>279             </td> <td>28          </td> <td>64             </td> <td>115                      </td> <td>True           </td>\n",
       "        </tr>\n",
       "        <tr>\n",
       "            <td>108         </td> <td>282             </td> <td>23          </td> <td>67             </td> <td>125                      </td> <td>True           </td>\n",
       "        </tr>\n",
       "        <tr>\n",
       "            <td>136         </td> <td>286             </td> <td>25          </td> <td>62             </td> <td>93                       </td> <td>False          </td>\n",
       "        </tr>\n",
       "    </tbody>\n",
       "</table>\n",
       "<p>... (1169 rows omitted)</p>"
      ],
      "text/plain": [
       "<IPython.core.display.HTML object>"
      ]
     },
     "metadata": {},
     "output_type": "display_data"
    }
   ],
   "source": [
    "# datascience\n",
    "baby_tbl = Table.read_table(\"baby.csv\")\n",
    "baby_tbl.show(5)"
   ]
  },
  {
   "cell_type": "markdown",
   "metadata": {
    "cell_id": "cf7a7bf5-45b8-4cc2-9bf9-ff17cfa2d3b5",
    "deepnote_cell_type": "markdown",
    "tags": []
   },
   "source": [
    "The syntax for reading in csv files in `pandas` is almost identical. \n",
    "`pandas` has a specific function to read in csv files called `pd.read_csv(file_path)`, with the same relative file path as its argument. \n",
    "the `dataframe.head()` function will display the first 5 rows of the data frame by default. \n",
    "If you want to specify the number of rows displayed, you can use`dataframe.head(num_rows)`.\n",
    "Similarly, if you want to see the last few rows of the data frame, you can use `dataframe.tail(num_rows)`. Try it out for yourself!"
   ]
  },
  {
   "cell_type": "code",
   "execution_count": 3,
   "metadata": {
    "cell_id": "46962898-d7f6-44a3-8daa-52473fc4157f",
    "deepnote_cell_type": "code",
    "tags": []
   },
   "outputs": [
    {
     "data": {
      "text/html": [
       "<div>\n",
       "<style scoped>\n",
       "    .dataframe tbody tr th:only-of-type {\n",
       "        vertical-align: middle;\n",
       "    }\n",
       "\n",
       "    .dataframe tbody tr th {\n",
       "        vertical-align: top;\n",
       "    }\n",
       "\n",
       "    .dataframe thead th {\n",
       "        text-align: right;\n",
       "    }\n",
       "</style>\n",
       "<table border=\"1\" class=\"dataframe\">\n",
       "  <thead>\n",
       "    <tr style=\"text-align: right;\">\n",
       "      <th></th>\n",
       "      <th>Birth.Weight</th>\n",
       "      <th>Gestational.Days</th>\n",
       "      <th>Maternal.Age</th>\n",
       "      <th>Maternal.Height</th>\n",
       "      <th>Maternal.Pregnancy.Weight</th>\n",
       "      <th>Maternal.Smoker</th>\n",
       "    </tr>\n",
       "  </thead>\n",
       "  <tbody>\n",
       "    <tr>\n",
       "      <th>0</th>\n",
       "      <td>120</td>\n",
       "      <td>284</td>\n",
       "      <td>27</td>\n",
       "      <td>62</td>\n",
       "      <td>100</td>\n",
       "      <td>False</td>\n",
       "    </tr>\n",
       "    <tr>\n",
       "      <th>1</th>\n",
       "      <td>113</td>\n",
       "      <td>282</td>\n",
       "      <td>33</td>\n",
       "      <td>64</td>\n",
       "      <td>135</td>\n",
       "      <td>False</td>\n",
       "    </tr>\n",
       "    <tr>\n",
       "      <th>2</th>\n",
       "      <td>128</td>\n",
       "      <td>279</td>\n",
       "      <td>28</td>\n",
       "      <td>64</td>\n",
       "      <td>115</td>\n",
       "      <td>True</td>\n",
       "    </tr>\n",
       "    <tr>\n",
       "      <th>3</th>\n",
       "      <td>108</td>\n",
       "      <td>282</td>\n",
       "      <td>23</td>\n",
       "      <td>67</td>\n",
       "      <td>125</td>\n",
       "      <td>True</td>\n",
       "    </tr>\n",
       "    <tr>\n",
       "      <th>4</th>\n",
       "      <td>136</td>\n",
       "      <td>286</td>\n",
       "      <td>25</td>\n",
       "      <td>62</td>\n",
       "      <td>93</td>\n",
       "      <td>False</td>\n",
       "    </tr>\n",
       "  </tbody>\n",
       "</table>\n",
       "</div>"
      ],
      "text/plain": [
       "   Birth.Weight  Gestational.Days  Maternal.Age  Maternal.Height  \\\n",
       "0           120               284            27               62   \n",
       "1           113               282            33               64   \n",
       "2           128               279            28               64   \n",
       "3           108               282            23               67   \n",
       "4           136               286            25               62   \n",
       "\n",
       "   Maternal.Pregnancy.Weight  Maternal.Smoker  \n",
       "0                        100            False  \n",
       "1                        135            False  \n",
       "2                        115             True  \n",
       "3                        125             True  \n",
       "4                         93            False  "
      ]
     },
     "execution_count": 3,
     "metadata": {},
     "output_type": "execute_result"
    }
   ],
   "source": [
    "# pandas\n",
    "baby_df = pd.read_csv(\"baby.csv\")\n",
    "baby_df.head(5)"
   ]
  },
  {
   "cell_type": "markdown",
   "metadata": {
    "cell_id": "4ad0d71e-66e0-44fe-b9d5-11a248453bfd",
    "deepnote_cell_type": "markdown",
    "tags": []
   },
   "source": [
    "### Creating a Table from Scratch\n",
    "Often times, data in tabular format is preferred for analysis. \n",
    "But what if you already have the data, just not in tabular format? \n",
    "For example, if your data is scattered in arrays and lists, you can use that to build your own table from scratch."
   ]
  },
  {
   "cell_type": "markdown",
   "metadata": {
    "cell_id": "95333897-60aa-4886-aa90-ea32123cf527",
    "deepnote_cell_type": "markdown",
    "tags": []
   },
   "source": [
    "Using the `datascience` package, we can first create a blank table with a call to Table(), \n",
    "then add in the arrays as columns to this blank table as shown below."
   ]
  },
  {
   "cell_type": "code",
   "execution_count": 4,
   "metadata": {
    "cell_id": "11c881db-4615-43a5-b170-318a19f45f5c",
    "deepnote_cell_type": "code",
    "tags": []
   },
   "outputs": [
    {
     "data": {
      "text/html": [
       "<table border=\"1\" class=\"dataframe\">\n",
       "    <thead>\n",
       "        <tr>\n",
       "            <th>Number of petals</th> <th>Name</th> <th>Color</th>\n",
       "        </tr>\n",
       "    </thead>\n",
       "    <tbody>\n",
       "        <tr>\n",
       "            <td>8               </td> <td>lotus    </td> <td>pink  </td>\n",
       "        </tr>\n",
       "        <tr>\n",
       "            <td>34              </td> <td>sunflower</td> <td>yellow</td>\n",
       "        </tr>\n",
       "        <tr>\n",
       "            <td>5               </td> <td>rose     </td> <td>red   </td>\n",
       "        </tr>\n",
       "    </tbody>\n",
       "</table>"
      ],
      "text/plain": [
       "Number of petals | Name      | Color\n",
       "8                | lotus     | pink\n",
       "34               | sunflower | yellow\n",
       "5                | rose      | red"
      ]
     },
     "execution_count": 4,
     "metadata": {},
     "output_type": "execute_result"
    }
   ],
   "source": [
    "# datascience\n",
    "flowers_tbl = Table().with_columns(\n",
    "    'Number of petals', make_array(8, 34, 5),\n",
    "    'Name', make_array('lotus', 'sunflower', 'rose'),\n",
    "    'Color', make_array('pink', 'yellow', 'red')\n",
    ") \n",
    "flowers_tbl"
   ]
  },
  {
   "cell_type": "markdown",
   "metadata": {
    "cell_id": "c5f0fffc-9761-4610-97ac-744c910ceaee",
    "deepnote_cell_type": "markdown",
    "tags": []
   },
   "source": [
    "There are multiple ways to do this in `pandas`. \n",
    "One way is intuitively very similar to how we did it with `datascience`. \n",
    "\n",
    "Here we use a dictionary object to represent the data -- don't worry if you're not familiar with them. \n",
    "We pass into the `data` argument `{\"colname1\": column1, \"colname2\": column2, ...}`.\n",
    "Notably, we build the `DataFrame` by the columns, using each list as a column and associating each column with its appropriate name. "
   ]
  },
  {
   "cell_type": "code",
   "execution_count": 5,
   "metadata": {
    "cell_id": "70ca2e6f-104c-40cc-a39b-e070a44298a8",
    "deepnote_cell_type": "code",
    "tags": []
   },
   "outputs": [
    {
     "data": {
      "text/html": [
       "<div>\n",
       "<style scoped>\n",
       "    .dataframe tbody tr th:only-of-type {\n",
       "        vertical-align: middle;\n",
       "    }\n",
       "\n",
       "    .dataframe tbody tr th {\n",
       "        vertical-align: top;\n",
       "    }\n",
       "\n",
       "    .dataframe thead th {\n",
       "        text-align: right;\n",
       "    }\n",
       "</style>\n",
       "<table border=\"1\" class=\"dataframe\">\n",
       "  <thead>\n",
       "    <tr style=\"text-align: right;\">\n",
       "      <th></th>\n",
       "      <th>Number of petals</th>\n",
       "      <th>Name</th>\n",
       "      <th>Color</th>\n",
       "    </tr>\n",
       "  </thead>\n",
       "  <tbody>\n",
       "    <tr>\n",
       "      <th>0</th>\n",
       "      <td>8</td>\n",
       "      <td>lotus</td>\n",
       "      <td>pink</td>\n",
       "    </tr>\n",
       "    <tr>\n",
       "      <th>1</th>\n",
       "      <td>34</td>\n",
       "      <td>sunflower</td>\n",
       "      <td>yellow</td>\n",
       "    </tr>\n",
       "    <tr>\n",
       "      <th>2</th>\n",
       "      <td>5</td>\n",
       "      <td>rose</td>\n",
       "      <td>red</td>\n",
       "    </tr>\n",
       "  </tbody>\n",
       "</table>\n",
       "</div>"
      ],
      "text/plain": [
       "   Number of petals       Name   Color\n",
       "0                 8      lotus    pink\n",
       "1                34  sunflower  yellow\n",
       "2                 5       rose     red"
      ]
     },
     "execution_count": 5,
     "metadata": {},
     "output_type": "execute_result"
    }
   ],
   "source": [
    "# pandas - method 1\n",
    "flowers_df = pd.DataFrame(data = {'Number of petals': [8, 34, 5], \n",
    "                         'Name': ['lotus', 'sunflower', 'rose'],\n",
    "                         'Color': ['pink', 'yellow', 'red']})\n",
    "flowers_df"
   ]
  },
  {
   "cell_type": "markdown",
   "metadata": {
    "cell_id": "2687911f-ed84-4f3a-8e9b-b32116e60c7b",
    "deepnote_cell_type": "markdown",
    "tags": []
   },
   "source": [
    "Another way to build the same table from scratch is by building it with rows. \n",
    "With this method, the data should be a list of lists, where each inner list contains the entries of one row. \n",
    "You might also notice that there is now a second argument, `columns`. \n",
    "Since we are passing in rows, we do not have the column names inside the `data` argument. \n",
    "This is why we use the `columns` argument to specify column names."
   ]
  },
  {
   "cell_type": "code",
   "execution_count": 6,
   "metadata": {
    "cell_id": "66095a39-6f2d-4986-945d-12b6c7123f8a",
    "deepnote_cell_type": "code",
    "tags": []
   },
   "outputs": [
    {
     "data": {
      "text/html": [
       "<div>\n",
       "<style scoped>\n",
       "    .dataframe tbody tr th:only-of-type {\n",
       "        vertical-align: middle;\n",
       "    }\n",
       "\n",
       "    .dataframe tbody tr th {\n",
       "        vertical-align: top;\n",
       "    }\n",
       "\n",
       "    .dataframe thead th {\n",
       "        text-align: right;\n",
       "    }\n",
       "</style>\n",
       "<table border=\"1\" class=\"dataframe\">\n",
       "  <thead>\n",
       "    <tr style=\"text-align: right;\">\n",
       "      <th></th>\n",
       "      <th>Number of petals</th>\n",
       "      <th>Name</th>\n",
       "      <th>Color</th>\n",
       "    </tr>\n",
       "  </thead>\n",
       "  <tbody>\n",
       "    <tr>\n",
       "      <th>0</th>\n",
       "      <td>8</td>\n",
       "      <td>lotus</td>\n",
       "      <td>pink</td>\n",
       "    </tr>\n",
       "    <tr>\n",
       "      <th>1</th>\n",
       "      <td>34</td>\n",
       "      <td>sunflower</td>\n",
       "      <td>yellow</td>\n",
       "    </tr>\n",
       "    <tr>\n",
       "      <th>2</th>\n",
       "      <td>5</td>\n",
       "      <td>rose</td>\n",
       "      <td>red</td>\n",
       "    </tr>\n",
       "  </tbody>\n",
       "</table>\n",
       "</div>"
      ],
      "text/plain": [
       "   Number of petals       Name   Color\n",
       "0                 8      lotus    pink\n",
       "1                34  sunflower  yellow\n",
       "2                 5       rose     red"
      ]
     },
     "execution_count": 6,
     "metadata": {},
     "output_type": "execute_result"
    }
   ],
   "source": [
    "# pandas - method 2\n",
    "flowers_df = pd.DataFrame(data = [[8, 'lotus', 'pink'], \n",
    "                                  [34, 'sunflower', 'yellow'],\n",
    "                                  [5, 'rose', 'red']], \n",
    "                         columns = ['Number of petals', 'Name', 'Color'])\n",
    "flowers_df"
   ]
  },
  {
   "cell_type": "markdown",
   "metadata": {
    "cell_id": "a6f240be-fee2-474f-99fe-4139e3d27004",
    "deepnote_cell_type": "markdown",
    "tags": []
   },
   "source": [
    "## `pandas` datatypes"
   ]
  },
  {
   "cell_type": "markdown",
   "metadata": {
    "cell_id": "701795a3-d0c6-4862-8c42-8b6d8a4b6570",
    "deepnote_cell_type": "markdown",
    "tags": []
   },
   "source": [
    "### Series vs. Arrays\n",
    "\n",
    "\n",
    "One of the primary data types we saw when analyzing tabular data with the `datascience` package is the array.\n",
    "In `datascience`, the columns of the tables consisted of arrays. In `pandas`, there is a very similar, but slightly different data type called a `Series`.\n"
   ]
  },
  {
   "cell_type": "markdown",
   "metadata": {
    "cell_id": "7fc61512-5f61-4044-9e39-7423ebc61fb7",
    "deepnote_cell_type": "markdown",
    "tags": []
   },
   "source": [
    " You can access the values of a column in a Table using the `tbl.column(column_name)` function as follows. \n",
    " When using `tbl.column`, the values of the selected column will be returned as an array."
   ]
  },
  {
   "cell_type": "code",
   "execution_count": 7,
   "metadata": {
    "cell_id": "3e24aa4b-2ec5-4a2c-a425-5057b197e97b",
    "deepnote_cell_type": "code",
    "tags": []
   },
   "outputs": [
    {
     "data": {
      "text/plain": [
       "array([120, 113, 128, ..., 130, 125, 117])"
      ]
     },
     "execution_count": 7,
     "metadata": {},
     "output_type": "execute_result"
    }
   ],
   "source": [
    "## datascience\n",
    "baby_tbl.column(\"Birth.Weight\")"
   ]
  },
  {
   "cell_type": "markdown",
   "metadata": {
    "cell_id": "e02d1165-554a-4811-9c83-633a8538bcc9",
    "deepnote_cell_type": "markdown",
    "tags": []
   },
   "source": [
    "Similarly in `pandas`, you can access the values of a particular column by using `dataframe[column_name]`. \n",
    "The data frame object is introduced in the next section, for now you can just understand it as the `pandas` equivalent to a table. \n",
    "`dataframe[column_name]` will return a `Series` instead of an array. \n"
   ]
  },
  {
   "cell_type": "code",
   "execution_count": 8,
   "metadata": {
    "cell_id": "af308f1e-b43e-43b8-be67-2cbb2fc62331",
    "deepnote_cell_type": "code",
    "tags": []
   },
   "outputs": [
    {
     "data": {
      "text/plain": [
       "0       120\n",
       "1       113\n",
       "2       128\n",
       "3       108\n",
       "4       136\n",
       "5       138\n",
       "6       132\n",
       "7       120\n",
       "8       143\n",
       "9       140\n",
       "10      144\n",
       "11      141\n",
       "12      110\n",
       "13      114\n",
       "14      115\n",
       "15       92\n",
       "16      115\n",
       "17      144\n",
       "18      119\n",
       "19      105\n",
       "20      115\n",
       "21      137\n",
       "22      122\n",
       "23      131\n",
       "24      103\n",
       "25      146\n",
       "26      114\n",
       "27      125\n",
       "28      114\n",
       "29      122\n",
       "       ... \n",
       "1144    114\n",
       "1145    127\n",
       "1146     87\n",
       "1147    141\n",
       "1148    144\n",
       "1149    116\n",
       "1150     75\n",
       "1151    138\n",
       "1152     99\n",
       "1153    118\n",
       "1154     97\n",
       "1155    146\n",
       "1156     81\n",
       "1157    110\n",
       "1158    135\n",
       "1159    114\n",
       "1160    124\n",
       "1161    115\n",
       "1162    143\n",
       "1163    113\n",
       "1164    109\n",
       "1165    103\n",
       "1166    118\n",
       "1167    127\n",
       "1168    132\n",
       "1169    113\n",
       "1170    128\n",
       "1171    130\n",
       "1172    125\n",
       "1173    117\n",
       "Name: Birth.Weight, Length: 1174, dtype: int64"
      ]
     },
     "execution_count": 8,
     "metadata": {},
     "output_type": "execute_result"
    }
   ],
   "source": [
    "## pandas\n",
    "baby_df[\"Birth.Weight\"]"
   ]
  },
  {
   "cell_type": "markdown",
   "metadata": {
    "cell_id": "5ea7d79e-36de-4125-9134-b1edc045cc1d",
    "deepnote_cell_type": "markdown",
    "tags": []
   },
   "source": [
    "A `Series` object is basically an array with indices for each data point. \n",
    "In the above example, the first element in the `Birth.Weight` column is the integer 120. The corresponding index is 0.\n",
    "\n",
    "If we want just the data as an array without the index, we can use the `Series.values` attribute."
   ]
  },
  {
   "cell_type": "code",
   "execution_count": 9,
   "metadata": {
    "cell_id": "66c73cbd-1bb9-409d-8a49-01346b606fd3",
    "deepnote_cell_type": "code",
    "tags": []
   },
   "outputs": [
    {
     "data": {
      "text/plain": [
       "array([120, 113, 128, ..., 130, 125, 117], dtype=int64)"
      ]
     },
     "execution_count": 9,
     "metadata": {},
     "output_type": "execute_result"
    }
   ],
   "source": [
    "baby_df[\"Birth.Weight\"].values"
   ]
  },
  {
   "cell_type": "markdown",
   "metadata": {
    "cell_id": "04642746-d01d-45f2-9d38-5ffc2d1b1678",
    "deepnote_cell_type": "markdown",
    "tags": []
   },
   "source": [
    "### DataFrames vs. Tables\n",
    "\n",
    "The following is our standard `datascience` Table. It is basically a collection of arrays, with column names."
   ]
  },
  {
   "cell_type": "code",
   "execution_count": 10,
   "metadata": {
    "cell_id": "f77ed6aa-5a7f-4d9d-853f-b8b3ea974831",
    "deepnote_cell_type": "code",
    "tags": []
   },
   "outputs": [
    {
     "ename": "AttributeError",
     "evalue": "'Table' object has no attribute 'head'",
     "output_type": "error",
     "traceback": [
      "\u001b[1;31m---------------------------------------------------------------------------\u001b[0m",
      "\u001b[1;31mAttributeError\u001b[0m                            Traceback (most recent call last)",
      "\u001b[1;32m<ipython-input-10-c7f476c982d4>\u001b[0m in \u001b[0;36m<module>\u001b[1;34m()\u001b[0m\n\u001b[0;32m      1\u001b[0m \u001b[1;31m# datascience\u001b[0m\u001b[1;33m\u001b[0m\u001b[1;33m\u001b[0m\u001b[0m\n\u001b[1;32m----> 2\u001b[1;33m \u001b[0mbaby_tbl\u001b[0m\u001b[1;33m.\u001b[0m\u001b[0mhead\u001b[0m\u001b[1;33m(\u001b[0m\u001b[1;33m)\u001b[0m\u001b[1;33m\u001b[0m\u001b[0m\n\u001b[0m",
      "\u001b[1;32m~\\Anaconda3\\lib\\site-packages\\datascience\\tables.py\u001b[0m in \u001b[0;36m__getattr__\u001b[1;34m(self, attr)\u001b[0m\n\u001b[0;32m    204\u001b[0m         \u001b[1;32melse\u001b[0m\u001b[1;33m:\u001b[0m\u001b[1;33m\u001b[0m\u001b[0m\n\u001b[0;32m    205\u001b[0m             \u001b[0mmsg\u001b[0m \u001b[1;33m=\u001b[0m \u001b[1;34m\"'{0}' object has no attribute '{1}'\"\u001b[0m\u001b[1;33m.\u001b[0m\u001b[0mformat\u001b[0m\u001b[1;33m(\u001b[0m\u001b[0mtype\u001b[0m\u001b[1;33m(\u001b[0m\u001b[0mself\u001b[0m\u001b[1;33m)\u001b[0m\u001b[1;33m.\u001b[0m\u001b[0m__name__\u001b[0m\u001b[1;33m,\u001b[0m \u001b[0mattr\u001b[0m\u001b[1;33m)\u001b[0m\u001b[1;33m\u001b[0m\u001b[0m\n\u001b[1;32m--> 206\u001b[1;33m             \u001b[1;32mraise\u001b[0m \u001b[0mAttributeError\u001b[0m\u001b[1;33m(\u001b[0m\u001b[0mmsg\u001b[0m\u001b[1;33m)\u001b[0m\u001b[1;33m\u001b[0m\u001b[0m\n\u001b[0m\u001b[0;32m    207\u001b[0m \u001b[1;33m\u001b[0m\u001b[0m\n\u001b[0;32m    208\u001b[0m     \u001b[1;31m####################\u001b[0m\u001b[1;33m\u001b[0m\u001b[1;33m\u001b[0m\u001b[0m\n",
      "\u001b[1;31mAttributeError\u001b[0m: 'Table' object has no attribute 'head'"
     ]
    }
   ],
   "source": [
    "# datascience\n",
    "baby_tbl.head()"
   ]
  },
  {
   "cell_type": "markdown",
   "metadata": {
    "cell_id": "a416cc09-4a2a-4562-a8c3-d7ec2759678a",
    "deepnote_cell_type": "markdown",
    "tags": []
   },
   "source": [
    "A `pandas`  `DataFrame` can be thought of as a collection of Series, all of which have the same index. \n",
    "The resulting `DataFrame` consists of columns where each column is a `Series` and each row has a unique index."
   ]
  },
  {
   "cell_type": "code",
   "execution_count": null,
   "metadata": {
    "cell_id": "7037f026-04ee-4027-bd84-c2854d1e4fe9",
    "deepnote_cell_type": "code",
    "tags": []
   },
   "outputs": [],
   "source": [
    "# pandas\n",
    "baby_df.head()"
   ]
  },
  {
   "cell_type": "markdown",
   "metadata": {
    "cell_id": "8728b2bb-5077-4f0e-8f5c-2207a209e39b",
    "deepnote_cell_type": "markdown",
    "tags": []
   },
   "source": [
    "The number of rows in the `Table` can be found as such:"
   ]
  },
  {
   "cell_type": "code",
   "execution_count": null,
   "metadata": {
    "cell_id": "295fe502-0793-4ba3-a6e2-e8432710dd4e",
    "deepnote_cell_type": "code",
    "tags": []
   },
   "outputs": [],
   "source": [
    "# datascience\n",
    "baby_tbl.num_rows"
   ]
  },
  {
   "cell_type": "markdown",
   "metadata": {
    "cell_id": "ca9eb869-9a78-46ea-934a-1d33e2ea3c12",
    "deepnote_cell_type": "markdown",
    "tags": []
   },
   "source": [
    "Similarly, for the number of columns:"
   ]
  },
  {
   "cell_type": "code",
   "execution_count": null,
   "metadata": {
    "cell_id": "8725f192-5a91-4f9b-97ad-983aec68fc58",
    "deepnote_cell_type": "code",
    "tags": []
   },
   "outputs": [],
   "source": [
    "# datascience\n",
    "baby_tbl.num_columns"
   ]
  },
  {
   "cell_type": "markdown",
   "metadata": {
    "cell_id": "bced6eff-01c1-4f6a-a53e-efa36e9fbda8",
    "deepnote_cell_type": "markdown",
    "tags": []
   },
   "source": [
    "The number of rows and columns in a `DataFrame` can be accessed together using the  `.shape` attribute. \n",
    "Notice that the index is not counted as a column."
   ]
  },
  {
   "cell_type": "code",
   "execution_count": null,
   "metadata": {
    "cell_id": "548b0347-8bfd-4776-bed2-9e5e797a3756",
    "deepnote_cell_type": "code",
    "tags": []
   },
   "outputs": [],
   "source": [
    "# pandas\n",
    "baby_df.shape"
   ]
  },
  {
   "cell_type": "markdown",
   "metadata": {
    "cell_id": "90e4a8b7-e764-40d5-8f51-45a0f0f1b565",
    "deepnote_cell_type": "markdown",
    "tags": []
   },
   "source": [
    "To get just the number of rows, we want the 0th element."
   ]
  },
  {
   "cell_type": "code",
   "execution_count": null,
   "metadata": {
    "cell_id": "4739d819-af18-42ac-950d-2de2e648b02c",
    "deepnote_cell_type": "code",
    "tags": []
   },
   "outputs": [],
   "source": [
    "# pandas\n",
    "baby_df.shape[0]"
   ]
  },
  {
   "cell_type": "markdown",
   "metadata": {
    "cell_id": "0c6a9ed0-2688-4bcc-88f3-c546de3084fa",
    "deepnote_cell_type": "markdown",
    "tags": []
   },
   "source": [
    "For just the number of columns, we want the 1st element."
   ]
  },
  {
   "cell_type": "code",
   "execution_count": null,
   "metadata": {
    "cell_id": "06269c30-0f62-4a33-877b-aecd60a83a31",
    "deepnote_cell_type": "code",
    "tags": []
   },
   "outputs": [],
   "source": [
    "# pandas\n",
    "baby_df.shape[1]"
   ]
  },
  {
   "cell_type": "markdown",
   "metadata": {
    "cell_id": "a455a1ba-2c17-4ae2-9df8-6cbc6896c6d6",
    "deepnote_cell_type": "markdown",
    "tags": []
   },
   "source": [
    "### Indices"
   ]
  },
  {
   "cell_type": "markdown",
   "metadata": {
    "cell_id": "07027392-ad08-4f29-ac6c-5acd02856d4e",
    "deepnote_cell_type": "markdown",
    "tags": []
   },
   "source": [
    "The row labels of a `DataFrame` are collectively called the index. \n",
    "It helps to identify each row. \n",
    "By default, the index values are the row numbers, with the first row having index 0."
   ]
  },
  {
   "cell_type": "code",
   "execution_count": null,
   "metadata": {
    "cell_id": "f146a2b5-6713-45e5-90df-c85f77d134fc",
    "deepnote_cell_type": "code",
    "tags": []
   },
   "outputs": [],
   "source": [
    "# pandas\n",
    "baby_df.head()"
   ]
  },
  {
   "cell_type": "markdown",
   "metadata": {
    "cell_id": "d0eaa07c-b5d9-4c9d-b814-8fdaef1de43c",
    "deepnote_cell_type": "markdown",
    "tags": []
   },
   "source": [
    "We can access the index of a `DataFrame` by calling `DataFrame.index`."
   ]
  },
  {
   "cell_type": "code",
   "execution_count": null,
   "metadata": {
    "cell_id": "4672bf65-e234-43c3-b005-0a656f661cb7",
    "deepnote_cell_type": "code",
    "tags": []
   },
   "outputs": [],
   "source": [
    "baby_df.index"
   ]
  },
  {
   "cell_type": "markdown",
   "metadata": {
    "cell_id": "9ba0f920-80aa-4945-b8bc-33c8e36df1f5",
    "deepnote_cell_type": "markdown",
    "tags": []
   },
   "source": [
    "That doesn't seem too meaningful. \n",
    "We can access the values of the index using `.values`."
   ]
  },
  {
   "cell_type": "code",
   "execution_count": null,
   "metadata": {
    "cell_id": "ad1306d7-1561-4667-a4b7-8bf2d0d12c2c",
    "deepnote_cell_type": "code",
    "tags": []
   },
   "outputs": [],
   "source": [
    "# pandas\n",
    "baby_df.index.values"
   ]
  },
  {
   "cell_type": "markdown",
   "metadata": {
    "cell_id": "f8ee088d-661f-4a67-81f8-72da770d3104",
    "deepnote_cell_type": "markdown",
    "tags": []
   },
   "source": [
    "In addition, we can set the index to whatever we want it to be. \n",
    "So, instead of index going from 0 to 1173, we can change it to go from 1 to 1174."
   ]
  },
  {
   "cell_type": "code",
   "execution_count": null,
   "metadata": {
    "cell_id": "63e4e4d6-6c9b-4ba4-b08f-2d1ac050ebaf",
    "deepnote_cell_type": "code",
    "tags": []
   },
   "outputs": [],
   "source": [
    "# pandas\n",
    "baby_df.set_index(np.arange(1, 1175))"
   ]
  },
  {
   "cell_type": "markdown",
   "metadata": {
    "cell_id": "d62bc736-27f1-4188-824a-55a275e4264b",
    "deepnote_cell_type": "markdown",
    "tags": []
   },
   "source": [
    "Let's look at another example."
   ]
  },
  {
   "cell_type": "code",
   "execution_count": null,
   "metadata": {
    "cell_id": "a4b6adea-381d-4ffd-9a0c-091162782981",
    "deepnote_cell_type": "code",
    "tags": []
   },
   "outputs": [],
   "source": [
    "flowers_df"
   ]
  },
  {
   "cell_type": "markdown",
   "metadata": {
    "cell_id": "b8630eaa-dc0a-472b-868c-fa3d763fd31a",
    "deepnote_cell_type": "markdown",
    "tags": []
   },
   "source": [
    "The labels in an index of a `DataFrame` do not have to be intergers; they can also be strings. \n",
    "We can also use one of the data columns to be the index itself. \n",
    "\n",
    "Here is an example in which we are setting the index to be the `Name` column."
   ]
  },
  {
   "cell_type": "code",
   "execution_count": null,
   "metadata": {
    "cell_id": "2c07ecbd-6e43-4e38-a1cc-b43668adc170",
    "deepnote_cell_type": "code",
    "tags": []
   },
   "outputs": [],
   "source": [
    "# pandas\n",
    "flowers_df = flowers_df.set_index('Name')\n",
    "flowers_df"
   ]
  },
  {
   "cell_type": "markdown",
   "metadata": {
    "cell_id": "7e66fbc9-843b-4f66-a371-b82dfef93167",
    "deepnote_cell_type": "markdown",
    "tags": []
   },
   "source": [
    "## Subsetting Data"
   ]
  },
  {
   "cell_type": "markdown",
   "metadata": {
    "cell_id": "08ca157f-174c-4594-80fc-254657a82ad3",
    "deepnote_cell_type": "markdown",
    "tags": []
   },
   "source": [
    "### Selecting Columns\n",
    "\n",
    "Sometimes the entire dataset contains too many columns, and we are only interested in some of the columns. \n",
    "In these situations, we would want to be able to select and display a subset of the columns from the original table. \n",
    "We dicuss some of these methods below. "
   ]
  },
  {
   "cell_type": "markdown",
   "metadata": {
    "cell_id": "49d30871-9bf9-4150-b43b-c2fef485f269",
    "deepnote_cell_type": "markdown",
    "tags": []
   },
   "source": [
    "In the `datascience` package, the `select` function is used. \n",
    "If we want the returned columns to be a table as well, we use the syntax `tbl.select(col_name1, col_name2, ...)`"
   ]
  },
  {
   "cell_type": "code",
   "execution_count": null,
   "metadata": {
    "cell_id": "8a3b9b22-ef08-4a98-b5e7-a355ef47cbd4",
    "deepnote_cell_type": "code",
    "tags": []
   },
   "outputs": [],
   "source": [
    "# datascience\n",
    "# Selects the columns \"Number of petals\" and \"Color\".\n",
    "flowers_tbl.select(\"Number of petals\", \"Name\")"
   ]
  },
  {
   "cell_type": "markdown",
   "metadata": {
    "cell_id": "d60947cd-d703-4d30-8f41-7b9c92b03750",
    "deepnote_cell_type": "markdown",
    "tags": []
   },
   "source": [
    "In `pandas`, there are many ways to achieve the same result. For one, we can use the function `loc`, shown below. \n",
    "\n",
    "The first argument of `loc` is which rows we want to select, and since we want all of the rows, just a colon \":\" would indicate all rows. \n",
    "The second argument selects the columns we want. \n",
    "\n",
    "If we want more than one column, we need to pass in the column names as a list for the `loc` to return a dataframe object. "
   ]
  },
  {
   "cell_type": "code",
   "execution_count": null,
   "metadata": {
    "cell_id": "a65ca6ce-ec75-401b-9025-3b7c787dd1d0",
    "deepnote_cell_type": "code",
    "tags": []
   },
   "outputs": [],
   "source": [
    "# pandas\n",
    "# Selects all rows and the columns \"Number of petals\" and \"Color\".\n",
    "flowers_df.loc[:,[\"Number of petals\", \"Color\"]]"
   ]
  },
  {
   "cell_type": "markdown",
   "metadata": {
    "cell_id": "a4995b31-3242-4dda-ba63-9f20bbb049a0",
    "deepnote_cell_type": "markdown",
    "tags": []
   },
   "source": [
    "If you pass in a single column name as a list, it will still return a dataframe object with one column."
   ]
  },
  {
   "cell_type": "code",
   "execution_count": null,
   "metadata": {
    "cell_id": "f9787f30-1a48-46ba-9caf-27c6fcad4151",
    "deepnote_cell_type": "code",
    "tags": []
   },
   "outputs": [],
   "source": [
    "# pandas\n",
    "# Selects all rows but only the column \"Number of petals\". Returns a DataFrame object.\n",
    "flowers_df.loc[:,[\"Number of petals\"]]"
   ]
  },
  {
   "cell_type": "markdown",
   "metadata": {
    "cell_id": "db7be398-3111-495b-a63a-5cbf13bf19ed",
    "deepnote_cell_type": "markdown",
    "tags": []
   },
   "source": [
    "But if you pass in the column name as a string, pandas will recognize that you only have one column, and return a `Series` instead."
   ]
  },
  {
   "cell_type": "code",
   "execution_count": null,
   "metadata": {
    "cell_id": "21a0d354-b2cb-4f7d-8ab3-7faa388d55f4",
    "deepnote_cell_type": "code",
    "tags": []
   },
   "outputs": [],
   "source": [
    "# pandas\n",
    "# Selects all rows but only the column \"Number of petals\". Returns a series object.\n",
    "flowers_df.loc[:,\"Number of petals\"]"
   ]
  },
  {
   "cell_type": "markdown",
   "metadata": {
    "cell_id": "b7272aaa-2818-4941-9216-f29ccb21ccb3",
    "deepnote_cell_type": "markdown",
    "tags": []
   },
   "source": [
    "Another way to subset data in `pandas` is to use `iloc`. \n",
    "\n",
    "Unlike `loc`, which accepts column names as arguments, `iloc` only accepts numerical indices as its arguments. \n",
    "The order of arguments remain the same, with the rows being the first argument and the columns being the second argument. \n",
    "Here the `0:1` denotes a range and means that we want all columns indexed 0 through 1. \n",
    "In Python, ranges are generally left inclusive and right exclusive (so that only column 0 is selected here)."
   ]
  },
  {
   "cell_type": "code",
   "execution_count": null,
   "metadata": {
    "cell_id": "c0f27955-d63b-4d87-bb92-3d19f545f412",
    "deepnote_cell_type": "code",
    "tags": []
   },
   "outputs": [],
   "source": [
    "# pandas\n",
    "# Selects all rows and the 0th-1st column (not inclusive of the 1st column)\n",
    "flowers_df.iloc[:,0:1]"
   ]
  },
  {
   "cell_type": "markdown",
   "metadata": {
    "cell_id": "229825a4-b3be-4665-9b2d-191f596df7ac",
    "deepnote_cell_type": "markdown",
    "tags": []
   },
   "source": [
    "As a side note, we can also subset tables' rows by selecting row indices. \n",
    "Since we've set the index of the flowers table to be the name of the flower, we can directly pass in the row indices as a list as the first argument. \n",
    "Note that here, `loc` is actually left and right inclusive."
   ]
  },
  {
   "cell_type": "code",
   "execution_count": null,
   "metadata": {
    "cell_id": "d692fb1a-0b0c-4d53-b62f-3f6c00f8b14e",
    "deepnote_cell_type": "code",
    "tags": []
   },
   "outputs": [],
   "source": [
    "# pandas\n",
    "# Selects the rows with index values \"sunflower\" and \"lotus\", and all columns\n",
    "flowers_df.loc[[\"sunflower\", \"lotus\"], :]"
   ]
  },
  {
   "cell_type": "code",
   "execution_count": null,
   "metadata": {
    "cell_id": "2223e2e1-738b-4078-b2b2-4ba6740129e6",
    "deepnote_cell_type": "code",
    "tags": []
   },
   "outputs": [],
   "source": [
    "# pandas\n",
    "# Selects the rows with index values from 0 to 3 (inclusive of 0 and 3), and all columns\n",
    "baby_df.loc[0:3,:]"
   ]
  },
  {
   "cell_type": "markdown",
   "metadata": {
    "cell_id": "3281692c-414b-43a5-b831-40daba6e0982",
    "deepnote_cell_type": "markdown",
    "tags": []
   },
   "source": [
    "`loc` and `iloc` are very powerful functions in `pandas`. \n",
    "Here are 2 more examples on the `baby` table, let's see what they do:"
   ]
  },
  {
   "cell_type": "code",
   "execution_count": null,
   "metadata": {
    "cell_id": "c3ced44f-b673-48f8-912a-8c80888dd3ef",
    "deepnote_cell_type": "code",
    "tags": []
   },
   "outputs": [],
   "source": [
    "# pandas\n",
    "# Selects the 0th and 2nd column, and all rows of the table\n",
    "baby_df.iloc[:, [0,2]]"
   ]
  },
  {
   "cell_type": "markdown",
   "metadata": {
    "cell_id": "41971f6b-fde9-476d-b94f-30de0e219f3d",
    "deepnote_cell_type": "markdown",
    "tags": []
   },
   "source": [
    "If we want to only select a subset of columns from the table, there exists a special case short-cut where we drop the `.loc` and `:` entirely:"
   ]
  },
  {
   "cell_type": "code",
   "execution_count": null,
   "metadata": {
    "cell_id": "e57f0619-0c74-484d-915d-50b55b25fa9c",
    "deepnote_cell_type": "code",
    "tags": []
   },
   "outputs": [],
   "source": [
    "# pandas\n",
    "# Selects the columns \"Birth.Weight\" and \"Maternal.Age\" with all rows\n",
    "baby_df[[\"Birth.Weight\", \"Maternal.Age\"]]"
   ]
  },
  {
   "cell_type": "markdown",
   "metadata": {
    "cell_id": "45183d63-9f93-4a41-bcc6-317084cbfd96",
    "deepnote_cell_type": "markdown",
    "tags": []
   },
   "source": [
    "### Getting a Value\n",
    "\n",
    "What if you want to single out one entry of your entire table? \n",
    "This often occurs when we want to max or min value after sorting the table, for example:\n",
    "- *What is the name of the flower with the most number of petals?*\n",
    "- *How heavy was the baby that went through the longest gestational days?*"
   ]
  },
  {
   "cell_type": "markdown",
   "metadata": {
    "cell_id": "cd210ba6-1aae-4e44-bd99-2e346d82ffae",
    "deepnote_cell_type": "markdown",
    "tags": []
   },
   "source": [
    "When we want a specific entry using the `datascience` package, we need to first use `tbl.column` to fetch an array out of a table, then use `.item` to retrieve the element's value. \n",
    "In the code below, we get the birth weight of the first baby recorded in this dataset. "
   ]
  },
  {
   "cell_type": "code",
   "execution_count": null,
   "metadata": {
    "cell_id": "372dda90-522d-4e82-8cda-6145f97c8242",
    "deepnote_cell_type": "code",
    "tags": []
   },
   "outputs": [],
   "source": [
    "# datascience\n",
    "# Get the first item from the \"Birth.Weight\" column\n",
    "baby_tbl.column(\"Birth.Weight\").item(0)"
   ]
  },
  {
   "cell_type": "markdown",
   "metadata": {
    "cell_id": "98f93488-45f0-406c-9d23-95a425bad24f",
    "deepnote_cell_type": "markdown",
    "tags": []
   },
   "source": [
    "In `pandas`, the syntax for getting a single element is a lot less verbose. \n",
    "Remember `loc` and `iloc`? Since these functions have the ability to subset rows and columns at the same time, we are going to use that functionality here. \n",
    "\n",
    "We pass in 0 as the row selector, since we only want the first entry of the \"Birth.Weight\" column (the entry at the 0th index)."
   ]
  },
  {
   "cell_type": "code",
   "execution_count": null,
   "metadata": {
    "cell_id": "4f456705-6562-4e87-bed7-5642b6e24582",
    "deepnote_cell_type": "code",
    "tags": []
   },
   "outputs": [],
   "source": [
    "# pandas\n",
    "# Get the value at row with index 0 and column with label \"Birth.Weight\".\n",
    "baby_df.loc[0,\"Birth.Weight\"]"
   ]
  },
  {
   "cell_type": "markdown",
   "metadata": {
    "cell_id": "a2d0dbcf-e073-48b6-a3bf-7c32f7f74606",
    "deepnote_cell_type": "markdown",
    "tags": []
   },
   "source": [
    "Similarly with iloc, we are just passing in 0 as the first and second argument since we want the entry located at the first row and first column, which are both indexed at 0."
   ]
  },
  {
   "cell_type": "code",
   "execution_count": null,
   "metadata": {
    "cell_id": "c036a9b5-0652-476e-bfe0-37b7c53bc0ac",
    "deepnote_cell_type": "code",
    "tags": []
   },
   "outputs": [],
   "source": [
    "# pandas\n",
    "# Get the value at the 0th row and 0th column.\n",
    "baby_df.iloc[0,0]"
   ]
  },
  {
   "cell_type": "code",
   "execution_count": null,
   "metadata": {
    "cell_id": "6cf14c0a-9339-4e19-92e8-0154897f0a81",
    "deepnote_cell_type": "code",
    "tags": []
   },
   "outputs": [],
   "source": [
    "# pandas\n",
    "# Get the rows with indices 0 to 5 (inclusive) of the \"Birth.Weight\" column\n",
    "baby_df.loc[0:5, \"Birth.Weight\"]"
   ]
  },
  {
   "cell_type": "code",
   "execution_count": null,
   "metadata": {
    "cell_id": "84fc9309-f2d8-4bd9-8eb8-9e4b6a85be44",
    "deepnote_cell_type": "code",
    "tags": []
   },
   "outputs": [],
   "source": [
    "# pandas\n",
    "# Select the first five columns of the first two rows\n",
    "baby_df.iloc[0:2, 0:5]"
   ]
  },
  {
   "cell_type": "markdown",
   "metadata": {
    "cell_id": "369cf336-7fac-4ba2-a920-10e56e839c45",
    "deepnote_cell_type": "markdown",
    "tags": []
   },
   "source": [
    "# Methods"
   ]
  },
  {
   "cell_type": "markdown",
   "metadata": {
    "cell_id": "748a800f-1253-454b-bde6-115d896e3799",
    "deepnote_cell_type": "markdown",
    "tags": []
   },
   "source": [
    "## Filtering and Boolean Indexing"
   ]
  },
  {
   "cell_type": "markdown",
   "metadata": {
    "cell_id": "13e57797-dff5-4f68-ae18-e6e94d8fb47e",
    "deepnote_cell_type": "markdown",
    "tags": []
   },
   "source": [
    "With the `datascience` package, we can filter a table by only returning rows that satisfy a specific condition. "
   ]
  },
  {
   "cell_type": "code",
   "execution_count": null,
   "metadata": {
    "cell_id": "eaf96eea-75b5-435b-bcc9-a823e8fd230e",
    "deepnote_cell_type": "code",
    "tags": []
   },
   "outputs": [],
   "source": [
    "# datascience\n",
    "# Returns all of the rows where \"Birth.Weight\" is greater than 120\n",
    "baby_tbl.where('Birth.Weight', are.above(120))"
   ]
  },
  {
   "cell_type": "markdown",
   "metadata": {
    "cell_id": "bb373f7f-ed89-405a-965a-7eb7f8eabea2",
    "deepnote_cell_type": "markdown",
    "tags": []
   },
   "source": [
    "Equivalently, we can do this in `pandas` by \"boolean indexing\". \n",
    "The expression below returns a boolean series where an entry is `True` if it satisfies the condition and `False` if it doesn't."
   ]
  },
  {
   "cell_type": "code",
   "execution_count": null,
   "metadata": {
    "cell_id": "d8de53d4-37f0-4a42-b79b-2c406fdbe44b",
    "deepnote_cell_type": "code",
    "tags": []
   },
   "outputs": [],
   "source": [
    "# pandas\n",
    "baby_df['Birth.Weight'] > 120"
   ]
  },
  {
   "cell_type": "markdown",
   "metadata": {
    "cell_id": "da6b7639-6dd2-4529-9605-f0d454ebdfe0",
    "deepnote_cell_type": "markdown",
    "tags": []
   },
   "source": [
    "If we want to filter our `pandas` dataframe for all rows that satisfies Birth.Weight > 120, we can pass the boolean series into the row argument of `.loc`. \n",
    "The idea is that we only want the rows where the \"boolean index\" is `True`. "
   ]
  },
  {
   "cell_type": "code",
   "execution_count": null,
   "metadata": {
    "cell_id": "6f7dbfc2-b3dc-4824-a3da-e1823c6c2348",
    "deepnote_cell_type": "code",
    "tags": []
   },
   "outputs": [],
   "source": [
    "# pandas\n",
    "# Select all rows that are True in the boolean series baby_df['Birth.Weight'] > 120.\n",
    "baby_df.loc[baby_df['Birth.Weight'] > 120, :]"
   ]
  },
  {
   "cell_type": "markdown",
   "metadata": {
    "cell_id": "e8e27dd5-e116-42f3-8fe2-cb6a2439c55f",
    "deepnote_cell_type": "markdown",
    "tags": []
   },
   "source": [
    "Notably, `.loc` returns all columns by default so we can omit the column argument and get the same result."
   ]
  },
  {
   "cell_type": "code",
   "execution_count": null,
   "metadata": {
    "cell_id": "b756d93c-2ce9-413e-8ab2-a9060a922138",
    "deepnote_cell_type": "code",
    "tags": []
   },
   "outputs": [],
   "source": [
    "# pandas\n",
    "# Select all rows that are True in the boolean series baby_df['Birth.Weight'] > 120.\n",
    "baby_df.loc[baby_df['Birth.Weight'] > 120]"
   ]
  },
  {
   "cell_type": "markdown",
   "metadata": {
    "cell_id": "2c157959-1b58-40b7-b15f-58524024ed6b",
    "deepnote_cell_type": "markdown",
    "tags": []
   },
   "source": [
    "Boolean indexing is a very popular way to conduct filtering in `pandas`. As such, there exists another special case short-ahnd where we don't need the `.loc` or the `:`."
   ]
  },
  {
   "cell_type": "code",
   "execution_count": null,
   "metadata": {
    "cell_id": "e99dd6c4-6283-4883-bbda-5e73dccb3d13",
    "deepnote_cell_type": "code",
    "tags": []
   },
   "outputs": [],
   "source": [
    "# pandas\n",
    "# Select all rows that are True in the boolean series baby_df['Birth.Weight'] > 120.\n",
    "baby_df[baby_df['Birth.Weight'] > 120]"
   ]
  },
  {
   "cell_type": "markdown",
   "metadata": {
    "cell_id": "79556ac0-28aa-4eeb-a583-d4a0757a1e3e",
    "deepnote_cell_type": "markdown",
    "tags": []
   },
   "source": [
    "In general, a filtering expression of the form `tbl.where(column, predicate)` in the `datascience` library takes the form `df.loc[criterion]` in `pandas`. \n",
    "Here are a few more examples:"
   ]
  },
  {
   "cell_type": "code",
   "execution_count": null,
   "metadata": {
    "cell_id": "eaf95cd9-d917-41bb-bb1e-82165aeb9d99",
    "deepnote_cell_type": "code",
    "tags": []
   },
   "outputs": [],
   "source": [
    "# datascience\n",
    "# Return all rows where Maternal.Height is greater than or equal to 63.\n",
    "baby_tbl.where('Maternal.Height', are.above_or_equal_to(63))"
   ]
  },
  {
   "cell_type": "code",
   "execution_count": null,
   "metadata": {
    "cell_id": "9d31de60-1174-4acc-888f-04602848b912",
    "deepnote_cell_type": "code",
    "tags": []
   },
   "outputs": [],
   "source": [
    "# pandas\n",
    "# Return all rows where Maternal.Height is greater than or equal to 63.\n",
    "baby_df[baby_df['Maternal.Height'] >= 63]"
   ]
  },
  {
   "cell_type": "code",
   "execution_count": null,
   "metadata": {
    "cell_id": "b67bd6c5-eb61-41ea-9540-d46698a657b7",
    "deepnote_cell_type": "code",
    "tags": []
   },
   "outputs": [],
   "source": [
    "# datascience\n",
    "# Return all rows where Maternal.Smoker is True.\n",
    "baby_tbl.where('Maternal.Smoker', are.equal_to(True))"
   ]
  },
  {
   "cell_type": "code",
   "execution_count": null,
   "metadata": {
    "cell_id": "46f081ab-0ccb-4648-a6d8-07f7e45afa95",
    "deepnote_cell_type": "code",
    "tags": []
   },
   "outputs": [],
   "source": [
    "# pandas\n",
    "# Return all rows where Maternal.Smoker is True.\n",
    "baby_df.loc[baby_df['Maternal.Smoker'] == True]"
   ]
  },
  {
   "cell_type": "markdown",
   "metadata": {
    "cell_id": "937cb1df-974d-4068-b254-17c1b1c707e3",
    "deepnote_cell_type": "markdown",
    "tags": []
   },
   "source": [
    "## Filtering on Multiple Conditions"
   ]
  },
  {
   "cell_type": "markdown",
   "metadata": {
    "cell_id": "eea83949-4736-4b2e-87be-9f976820ca02",
    "deepnote_cell_type": "markdown",
    "tags": []
   },
   "source": [
    "We can also filter on multiple conditions. \n",
    "If we want records (rows) where all of the conditions are true, we separate our criterion by the `&` symbol, where `&` represents *and*.\n",
    "\n",
    "`df.loc[(boolean series 1) & (boolean series 2) & (boolean series 2)]`\n",
    "\n",
    "If we just want one of the conditions to be true, we separate our criterion by `|` symbols, where `|` represents *or*.\n",
    "\n",
    "`df.loc[(boolean series 1) | (boolean series 2) | (boolean series 2)]`\n",
    "\n",
    "\n"
   ]
  },
  {
   "cell_type": "code",
   "execution_count": null,
   "metadata": {
    "cell_id": "f7a80844-c7b4-4685-97f6-a087ddea3122",
    "deepnote_cell_type": "code",
    "tags": []
   },
   "outputs": [],
   "source": [
    "# datascience\n",
    "# Return all rows where Gestational.Days is between 270 and 280.\n",
    "baby_tbl.where('Gestational.Days', are.between(270, 280))"
   ]
  },
  {
   "cell_type": "code",
   "execution_count": null,
   "metadata": {
    "cell_id": "93dbcc4f-9e97-4960-b63c-e41cb912430d",
    "deepnote_cell_type": "code",
    "tags": []
   },
   "outputs": [],
   "source": [
    "# pandas\n",
    "# Select all rows where Gestational.Days are above or equal to 270, but less than 280.\n",
    "baby_df.loc[(baby_df['Gestational.Days'] >= 270) & (baby_df['Gestational.Days'] < 280)]"
   ]
  },
  {
   "cell_type": "code",
   "execution_count": null,
   "metadata": {
    "cell_id": "f0cf1926-ff59-4b6c-b5b4-18039eede5e7",
    "deepnote_cell_type": "code",
    "tags": []
   },
   "outputs": [],
   "source": []
  }
 ],
 "metadata": {
  "deepnote_execution_queue": [],
  "deepnote_notebook_id": "73294928-b4ef-415c-bd47-2056dd8d9195",
  "kernelspec": {
   "display_name": "Python 3",
   "language": "python",
   "name": "python3"
  },
  "language_info": {
   "codemirror_mode": {
    "name": "ipython",
    "version": 3
   },
   "file_extension": ".py",
   "mimetype": "text/x-python",
   "name": "python",
   "nbconvert_exporter": "python",
   "pygments_lexer": "ipython3",
   "version": "3.6.5"
  }
 },
 "nbformat": 4,
 "nbformat_minor": 2
}
