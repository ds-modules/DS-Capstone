{
 "cells": [
  {
   "cell_type": "markdown",
   "metadata": {
    "cell_id": "00001-3305d94f-fb0f-4d24-a5b6-43527fd2709d",
    "deepnote_cell_type": "markdown",
    "output_cleared": false,
    "tags": []
   },
   "source": [
    "This lab is adapted from materials in DATA 88E: *Economic Models*, \n",
    "please check out the course for more statistical fun in exploring Econometrics."
   ]
  },
  {
   "cell_type": "markdown",
   "metadata": {
    "cell_id": "00003-225ebec9-4e41-4df4-a2da-f2acbd9ab0fc",
    "deepnote_cell_type": "markdown",
    "output_cleared": false
   },
   "source": [
    "# Lab 3: Data Science and Linear Regression"
   ]
  },
  {
   "cell_type": "markdown",
   "metadata": {
    "cell_id": "00004-91c39159-41ca-489e-b418-cee2fbc381c7",
    "deepnote_cell_type": "markdown",
    "output_cleared": false,
    "tags": [
     "ignore"
    ]
   },
   "source": [
    "This lan focuses on the application of data science techniques from lecture. \n",
    "You will practice single variable ordinary least squares regression in the Data 8 style, \n",
    "go through a guided introduction to multivariate OLS using the package `scikit-learn`, \n",
    "and finally create your own multivariate OLS model.\n",
    "\n",
    "After this lab, you should be able to\n",
    "\n",
    "1. Write and apply the necesssary functions to perform single variable OLS\n",
    "2. Use the `scikit-learn` package to create multivariate OLS models\n",
    "3. Understand how to quantitatively evaluate models using the root-mean-squared error\n",
    "4. Look for and use relationships between variables to select features for regression"
   ]
  },
  {
   "cell_type": "code",
   "execution_count": 1,
   "metadata": {
    "cell_id": "00005-8ff25fe0-084f-4793-b1fd-846d328a6619",
    "deepnote_cell_type": "code",
    "execution_millis": 4,
    "execution_start": 1602366036760,
    "output_cleared": false,
    "source_hash": "653663b5"
   },
   "outputs": [],
   "source": [
    "from datascience import *\n",
    "import numpy as np\n",
    "import pandas as pd\n",
    "import sklearn.linear_model as lm\n",
    "from ipywidgets import interact, Dropdown, IntSlider\n",
    "import matplotlib.pyplot as plt\n",
    "import warnings\n",
    "warnings.simplefilter(action='ignore')\n",
    "import otter\n",
    "grader = otter.Notebook('week3_lab.ipynb')\n",
    "plt.style.use('seaborn-muted')\n",
    "%matplotlib inline\n",
    "plt.rcParams[\"figure.figsize\"] = [10,7]"
   ]
  },
  {
   "cell_type": "markdown",
   "metadata": {
    "cell_id": "00006-ebfda931-6b1e-4e47-af69-55e199c0e2d5",
    "deepnote_cell_type": "markdown",
    "output_cleared": false,
    "tags": [
     "ignore"
    ]
   },
   "source": [
    "In this lab, we will be working with data on credit card defaults and billing. The data covers April to September 2005, with one row for each cardholder. It has the following columns:\n",
    "\n",
    "| Column | Description |\n",
    "|-----|-----|\n",
    "| `credit` | Total amount of credit |\n",
    "| `sex` | Cardholder sex |\n",
    "| `education` | Cardholder education level |\n",
    "| `martial_status` | Cardholder marital status |\n",
    "| `age` | Cardholder age |\n",
    "| `bill_{month}05` | Bill amount for specific month |\n",
    "| `paid_{month}05` | Amount paid in specified month |\n",
    "| `default` | Whether the cardholder defaulted |\n",
    "\n",
    "In the cell below, we load the dataset(dataset obtained from the data88 course)"
   ]
  },
  {
   "cell_type": "code",
   "execution_count": 2,
   "metadata": {
    "cell_id": "00007-eb7f6249-b734-40cf-bd03-d6ca041b83b2",
    "deepnote_cell_type": "code",
    "execution_millis": 137,
    "execution_start": 1602366039811,
    "output_cleared": false,
    "source_hash": "f1d5a31f"
   },
   "outputs": [],
   "source": [
    "defaults_raw = pd.read_csv(\"defaults.csv\")\n",
    "defaults_raw.head(5)"
   ]
  },
  {
   "cell_type": "markdown",
   "metadata": {
    "cell_id": "00008-03f9727a-1c36-4b59-80db-ff9e85a89f24",
    "deepnote_cell_type": "markdown",
    "deletable": false,
    "editable": false,
    "output_cleared": false,
    "tags": [
     "ignore"
    ]
   },
   "source": [
    "**Question 0.1:** Which of the columns in `defaults_raw` would we need dummies for in order to use in an OLS model? Assign `q0_1` to an array of these column _labels_.\n",
    "\n",
    "<!--\n",
    "BEGIN QUESTION\n",
    "name: q0_1\n",
    "-->"
   ]
  },
  {
   "cell_type": "code",
   "execution_count": 3,
   "metadata": {
    "cell_id": "00009-4cfbd807-78ea-4214-be47-5d81a86db2df",
    "deepnote_cell_type": "code",
    "execution_millis": 1,
    "execution_start": 1602366044370,
    "output_cleared": false,
    "scrolled": true,
    "source_hash": "8b6db65e",
    "tags": [
     "ignore"
    ]
   },
   "outputs": [],
   "source": [
    "q0_1 = ...\n",
    "q0_1"
   ]
  },
  {
   "cell_type": "code",
   "execution_count": null,
   "metadata": {
    "deletable": false,
    "editable": false
   },
   "outputs": [],
   "source": [
    "grader.check(\"q0_1\")"
   ]
  },
  {
   "cell_type": "markdown",
   "metadata": {
    "cell_id": "00011-b533cfdb-ba92-4cb5-844f-e11be4a2305d",
    "deepnote_cell_type": "markdown",
    "output_cleared": false,
    "tags": [
     "ignore"
    ]
   },
   "source": [
    "In order to use the columns you chose, we will need to create dummies for them. In lecture, we showed a function (defined in the imports cell) that will get dummies for a variable for you."
   ]
  },
  {
   "cell_type": "markdown",
   "metadata": {
    "cell_id": "00012-0923fa18-c4ef-4e9d-b68b-6946309c4020",
    "deepnote_cell_type": "markdown",
    "deletable": false,
    "editable": false,
    "output_cleared": false
   },
   "source": [
    "**Question 0.2:** Use the `get_dummies` function to get dummies for the variables you listed in Question 0.1. _Make sure you drop the original columns using the `drop` argument._\n",
    "\n",
    "<!--\n",
    "BEGIN QUESTION\n",
    "name: q0_2\n",
    "-->"
   ]
  },
  {
   "cell_type": "code",
   "execution_count": 9,
   "metadata": {
    "cell_id": "00013-320c8356-9a31-4bfe-aa7f-87d1a593d1e5",
    "deepnote_cell_type": "code",
    "execution_millis": 106,
    "execution_start": 1602366045568,
    "output_cleared": false,
    "source_hash": "20676933"
   },
   "outputs": [],
   "source": [
    "defaults = ...\n",
    "defaults"
   ]
  },
  {
   "cell_type": "code",
   "execution_count": null,
   "metadata": {
    "deletable": false,
    "editable": false
   },
   "outputs": [],
   "source": [
    "grader.check(\"q0_2\")"
   ]
  },
  {
   "cell_type": "markdown",
   "metadata": {
    "cell_id": "00015-2bf5d447-10a8-4383-afb9-dfeb2517fe68",
    "deepnote_cell_type": "markdown",
    "output_cleared": false,
    "tags": [
     "ignore"
    ]
   },
   "source": [
    "## Part 1: Single Variable OLS\n",
    "\n",
    "We'll start by doing some single variable linear regression, ala Data 8. To begin, recall that we can model $y$ based on $x$ using the form\n",
    "\n",
    "$$\\Large\n",
    "\\hat{y} = \\hat{\\alpha} + \\hat{\\beta} x\n",
    "$$\n",
    "\n",
    "We can define the **correlation coefficient** of two values to be the mean of the product of their values in standard units."
   ]
  },
  {
   "cell_type": "markdown",
   "metadata": {
    "cell_id": "00016-211dbb4c-aff9-43ad-b4c2-7c95c7d1274e",
    "deepnote_cell_type": "markdown",
    "deletable": false,
    "editable": false,
    "output_cleared": false
   },
   "source": [
    "**Question 1.1:** Complete the `corr` function below to compute the correlation coefficient of two arrays `x` and `y` based on the formula\n",
    "\n",
    "$$\\Large\n",
    "r = \\text{mean} \\left ( x_\\text{SU} \\cdot y_\\text{SU} \\right )\n",
    "$$\n",
    "\n",
    "_Hint:_ You may find the `su` function, which converts an array to standard units, helpful.\n",
    "\n",
    "<!--\n",
    "BEGIN QUESTION\n",
    "name: q1_1\n",
    "-->"
   ]
  },
  {
   "cell_type": "code",
   "execution_count": 13,
   "metadata": {
    "cell_id": "00017-cbf8aa29-b5fa-4626-ab29-fa1ba6cd349e",
    "deepnote_cell_type": "code",
    "execution_millis": 1,
    "execution_start": 1602366047611,
    "output_cleared": false,
    "source_hash": "c3904d48"
   },
   "outputs": [],
   "source": [
    "def su(arr):\n",
    "    \"\"\"Converts array arr to standard units\"\"\"\n",
    "    return (arr - np.mean(arr)) / np.std(arr)\n",
    "\n",
    "def corr(x, y):\n",
    "    \"\"\"Calculates the correlation coefficient of two arrays\"\"\"\n",
    "    ..."
   ]
  },
  {
   "cell_type": "code",
   "execution_count": null,
   "metadata": {
    "deletable": false,
    "editable": false
   },
   "outputs": [],
   "source": [
    "grader.check(\"q1_1\")"
   ]
  },
  {
   "cell_type": "markdown",
   "metadata": {
    "cell_id": "00020-b3cd2e9b-5ccb-4fcc-b3f8-2f5aec78c31f",
    "deepnote_cell_type": "markdown",
    "output_cleared": false,
    "tags": [
     "ignore"
    ]
   },
   "source": [
    "From this $r$ value that we have calculated above, we can compute the slope $\\beta$ and intercept $\\alpha$ of the best-fit line using the formulas below.\n",
    "\n",
    "$$\\Large\n",
    "\\beta = r \\frac{\\hat{\\sigma}_y}{\\hat{\\sigma}_x}\n",
    "\\qquad \\text{ and } \\qquad\n",
    "\\alpha = \\hat{\\mu}_y - \\beta \\cdot \\hat{\\mu}_x\n",
    "$$"
   ]
  },
  {
   "cell_type": "markdown",
   "metadata": {
    "cell_id": "00021-98a9e374-8562-4581-a1f5-022442b979d3",
    "deepnote_cell_type": "markdown",
    "deletable": false,
    "editable": false,
    "output_cleared": false
   },
   "source": [
    "**Question 1.2:** Using your `corr` function, fill in the `slope` and `intercept` functions below which compute the values of $\\beta$ and $\\alpha$ for the line of best fit that predicts `y` based on `x`. Your function should use array arithmetic (i.e. no `for` loops).\n",
    "\n",
    "_Hint:_ You may find your `slope` function useful in `intercept`.\n",
    "\n",
    "<!--\n",
    "BEGIN QUESTION\n",
    "name: q1_2\n",
    "-->"
   ]
  },
  {
   "cell_type": "code",
   "execution_count": 16,
   "metadata": {
    "cell_id": "00022-55da21d1-6b09-4d3d-a528-cd057209d628",
    "deepnote_cell_type": "code",
    "execution_millis": 4,
    "execution_start": 1602366050289,
    "output_cleared": false,
    "source_hash": "2b2ca28c"
   },
   "outputs": [],
   "source": [
    "def slope(x, y):\n",
    "    \"\"\"Computes the slope of the best-fit line of y based on x\"\"\"\n",
    "    ...\n",
    "\n",
    "def intercept(x, y):\n",
    "    \"\"\"Computes the intercept of the best-fit line of y based on x\"\"\"\n",
    "    ..."
   ]
  },
  {
   "cell_type": "code",
   "execution_count": null,
   "metadata": {
    "deletable": false,
    "editable": false
   },
   "outputs": [],
   "source": [
    "grader.check(\"q1_2\")"
   ]
  },
  {
   "cell_type": "markdown",
   "metadata": {
    "cell_id": "00027-464dac0e-547c-42e9-ae41-ffcbe22f484b",
    "deepnote_cell_type": "markdown",
    "output_cleared": false,
    "tags": [
     "ignore"
    ]
   },
   "source": [
    "Now let's look at how we can predict the `bill_sep05` column based on some other column of our data. We'll start by looking at the `credit` as the explanatory variable. To use our functions above, we must extract the values of each column as arrays, which we define below as `x` and `y`. We then compute the fitted values `y_hat` using the slope-intercept formula and plot the results."
   ]
  },
  {
   "cell_type": "markdown",
   "metadata": {
    "cell_id": "00028-ca37677d-de9e-45b9-909e-ee32beec7270",
    "deepnote_cell_type": "markdown",
    "deletable": false,
    "editable": false,
    "output_cleared": false
   },
   "source": [
    "**Question 1.3:** Using the functions you defined in Question 1.2, regress `bill_sep05` on `credit`. Assign your predictions to `y_hat`.\n",
    "\n",
    "<!--\n",
    "BEGIN QUESTION\n",
    "name: q1_3\n",
    "-->"
   ]
  },
  {
   "cell_type": "code",
   "execution_count": 21,
   "metadata": {
    "cell_id": "00029-633d82d6-da17-4a02-b870-912b4c9e30a5",
    "deepnote_cell_type": "code",
    "execution_millis": 1,
    "execution_start": 1602366059259,
    "output_cleared": false,
    "source_hash": "f894652",
    "tags": [
     "ignore"
    ]
   },
   "outputs": [],
   "source": [
    "x = defaults[\"credit\"]\n",
    "y = defaults[\"bill_sep05\"]\n",
    "\n",
    "beta = ...\n",
    "alpha = ...\n",
    "\n",
    "y_hat = ..."
   ]
  },
  {
   "cell_type": "code",
   "execution_count": null,
   "metadata": {
    "deletable": false,
    "editable": false
   },
   "outputs": [],
   "source": [
    "grader.check(\"q1_3\")"
   ]
  },
  {
   "cell_type": "markdown",
   "metadata": {
    "cell_id": "00037-a0cc865a-4f02-4c14-b744-9f829a6ff079",
    "deepnote_cell_type": "markdown",
    "output_cleared": false
   },
   "source": [
    "Now that we have some predictions, let's plot the original data and the regression line."
   ]
  },
  {
   "cell_type": "code",
   "execution_count": 29,
   "metadata": {
    "cell_id": "00038-e678fff3-436a-4bae-952f-e1705ad354de",
    "deepnote_cell_type": "code",
    "execution_millis": 436,
    "execution_start": 1602366070997,
    "output_cleared": false,
    "source_hash": "cae7bea6"
   },
   "outputs": [],
   "source": [
    "plt.scatter(x, y, color=\"tab:blue\", alpha=0.3)\n",
    "plt.plot(x, y_hat, color=\"tab:red\")\n",
    "plt.title(\"Predict September bill with credit\");"
   ]
  },
  {
   "cell_type": "markdown",
   "metadata": {
    "cell_id": "00039-81450fec-43c5-4c33-acff-eaea4691a35e",
    "deepnote_cell_type": "markdown",
    "deletable": false,
    "editable": false,
    "output_cleared": false
   },
   "source": [
    "<!-- BEGIN QUESTION -->\n",
    "\n",
    "**Question 1.4:** Does the line we found fit the data well? Explain.\n",
    "\n",
    "<!--\n",
    "BEGIN QUESTION\n",
    "name: q1_4\n",
    "manual: true\n",
    "-->"
   ]
  },
  {
   "cell_type": "markdown",
   "metadata": {},
   "source": [
    "_Type your answer here, replacing this text._"
   ]
  },
  {
   "cell_type": "markdown",
   "metadata": {
    "cell_id": "00041-837fce5b-5f8f-4690-a879-277f8ad23037",
    "deepnote_cell_type": "markdown",
    "output_cleared": false
   },
   "source": [
    "<!-- END QUESTION -->\n",
    "\n",
    "\n",
    "\n",
    "Let's estimate how confident we are in the significance of our $\\hat{\\beta}$ coefficient."
   ]
  },
  {
   "cell_type": "markdown",
   "metadata": {
    "cell_id": "00042-502f573f-7dc0-4076-980c-18798c4bfdd1",
    "deepnote_cell_type": "markdown",
    "deletable": false,
    "editable": false,
    "output_cleared": false
   },
   "source": [
    "**Question 1.5:** Fill in the code below to bootstrap our $\\hat{\\beta}$ and find the 95% confidence interval. Store the lower and upper bounds as `ci95_lower` and `ci95_upper`, respectively. (The cell may take a couple minutes to run.)\n",
    "\n",
    "_Hint:_ Since we're only interested in $\\hat{\\beta}$, we don't need to find the intercept or fit our $x$ values.\n",
    "\n",
    "<!--\n",
    "BEGIN QUESTION\n",
    "name: q1_5\n",
    "-->"
   ]
  },
  {
   "cell_type": "code",
   "execution_count": 30,
   "metadata": {
    "cell_id": "00044-6bfe2027-65cb-4576-91ec-8378c24e4096",
    "deepnote_cell_type": "code",
    "execution_millis": 1265,
    "execution_start": 1602366072856,
    "output_cleared": false,
    "scrolled": true,
    "source_hash": "f200f01e"
   },
   "outputs": [],
   "source": [
    "## Seed, don't worry about the code, this is just to make sure that randomness is controlled, and we can autograde your solution ##\n",
    "np.random.seed(42)\n",
    "\n",
    "betas = make_array()\n",
    "\n",
    "for i in np.arange(200):\n",
    "    sample = defaults.sample(5000)    # defaults is a huge table, so we'll only sample 5000 rows\n",
    "    sample_x = ...\n",
    "    sample_y = ...\n",
    "    betas = ...\n",
    "\n",
    "ci95_lower = ...\n",
    "ci95_upper = ...\n",
    "\n",
    "print(\"95% CI: ({}, {})\".format(ci95_lower, ci95_upper))"
   ]
  },
  {
   "cell_type": "code",
   "execution_count": null,
   "metadata": {
    "deletable": false,
    "editable": false
   },
   "outputs": [],
   "source": [
    "grader.check(\"q1_5\")"
   ]
  },
  {
   "cell_type": "markdown",
   "metadata": {
    "cell_id": "00049-f1a486bb-8c3e-498c-901d-5ea7d08b1f39",
    "deepnote_cell_type": "markdown",
    "deletable": false,
    "editable": false,
    "output_cleared": false
   },
   "source": [
    "<!-- BEGIN QUESTION -->\n",
    "\n",
    "**Question 1.6:** Using your 95% confidence interval, is it likely that the credit has no effect on the September 2005 bill? Justify your answer.\n",
    "\n",
    "<!--\n",
    "BEGIN QUESTION\n",
    "name: q1_6\n",
    "manual: true\n",
    "-->"
   ]
  },
  {
   "cell_type": "markdown",
   "metadata": {},
   "source": [
    "_Type your answer here, replacing this text._"
   ]
  },
  {
   "cell_type": "markdown",
   "metadata": {
    "cell_id": "00051-28dda703-e44e-42d9-a65f-6816799dfdfb",
    "deepnote_cell_type": "markdown",
    "output_cleared": false,
    "tags": [
     "ignore"
    ]
   },
   "source": [
    "<!-- END QUESTION -->\n",
    "\n",
    "\n",
    "\n",
    "Obviously, we can see that our best-fit line does not predict perfectly. There are plenty of points in the scatterplot that do not fall on the line. But how do we quantify the error of our model? There are many so-called *loss functions*, but in this notebook we will use the **root-mean-squared error**, which is defined as\n",
    "\n",
    "$$\\Large\n",
    "\\text{RMSE} = \\sqrt{ \\frac{1}{n} \\sum_{i=1}^n \\left ( y_i - \\hat{y}_i \\right ) ^2 }\n",
    "$$\n",
    "\n",
    "where $n$ is the number of observations. The effect of this is to take the mean of the distance of each value of $\\hat{y}$ from its corresponding value in $y$; squaring these values keeps them positive, and then we take the square root to correct the units of the error."
   ]
  },
  {
   "cell_type": "markdown",
   "metadata": {
    "cell_id": "00052-7ca175e1-c572-4b06-bfc1-5062de564665",
    "deepnote_cell_type": "markdown",
    "deletable": false,
    "editable": false,
    "output_cleared": false
   },
   "source": [
    "**Question 1.7:** Complete the function `rmse` below which computes the root-mean-squared error of the prediction `y_hat` on `y`. Again, no `for` loops.\n",
    "\n",
    "<!--\n",
    "BEGIN QUESTION\n",
    "name: q1_7\n",
    "-->"
   ]
  },
  {
   "cell_type": "code",
   "execution_count": 35,
   "metadata": {
    "cell_id": "00053-6b7b11cc-952c-4ee4-88c1-5a2cb9821dd0",
    "deepnote_cell_type": "code",
    "execution_millis": 1,
    "execution_start": 1602366076926,
    "output_cleared": false,
    "source_hash": "619055c7"
   },
   "outputs": [],
   "source": [
    "def rmse(y, y_hat):\n",
    "    \"\"\"Computes the RMSE of prediction y_hat based on y\"\"\"\n",
    "    ..."
   ]
  },
  {
   "cell_type": "code",
   "execution_count": null,
   "metadata": {
    "deletable": false,
    "editable": false
   },
   "outputs": [],
   "source": [
    "grader.check(\"q1_7\")"
   ]
  },
  {
   "cell_type": "markdown",
   "metadata": {
    "cell_id": "00056-7442e4df-4809-434e-95ac-0aa4b535f033",
    "deepnote_cell_type": "markdown",
    "deletable": false,
    "editable": false,
    "output_cleared": false,
    "tags": [
     "ignore"
    ]
   },
   "source": [
    "**Question 1.8:** Use your `rmse` function to compute the RMSE of our prediction `y_hat` based on `y` from above.\n",
    "\n",
    "<!--\n",
    "BEGIN QUESTION\n",
    "name: q1_8\n",
    "-->"
   ]
  },
  {
   "cell_type": "code",
   "execution_count": 38,
   "metadata": {
    "cell_id": "00057-f1187624-3bd1-4d4e-9e0d-9a3cf2226873",
    "deepnote_cell_type": "code",
    "execution_millis": 6,
    "execution_start": 1602366081428,
    "output_cleared": false,
    "source_hash": "b74f597f"
   },
   "outputs": [],
   "source": [
    "single_var_error = ...\n",
    "single_var_error"
   ]
  },
  {
   "cell_type": "code",
   "execution_count": null,
   "metadata": {
    "deletable": false,
    "editable": false
   },
   "outputs": [],
   "source": [
    "grader.check(\"q1_8\")"
   ]
  },
  {
   "cell_type": "markdown",
   "metadata": {
    "cell_id": "00060-af7851af-38b9-4bd5-a078-be1e50f71a98",
    "deepnote_cell_type": "markdown",
    "output_cleared": false,
    "tags": [
     "ignore"
    ]
   },
   "source": [
    "Now that we know how to predict based on and quantify the error of a model, let's write a function that will encapsulate this pipeline for us."
   ]
  },
  {
   "cell_type": "markdown",
   "metadata": {
    "cell_id": "00061-51c1f3f5-75c4-4b31-a2cc-9f1a4a158e41",
    "deepnote_cell_type": "markdown",
    "deletable": false,
    "editable": false,
    "output_cleared": false
   },
   "source": [
    "<!-- BEGIN QUESTION -->\n",
    "\n",
    "**Question 1.9:** Fill in the function `pred_and_plot` below which models `bill_sep05` based on a column `col`, plots the scatterplot and line of best fit, and computes the RMSE of the model. Then choose a column you think might be related to `bill_sep05` and use your `pred_and_plot` function to determine its prediction RMSE and plot the regression line.\n",
    "\n",
    "_Hint:_ Your code from Question 1.3 may be helpful here...\n",
    "\n",
    "<!--\n",
    "BEGIN QUESTION\n",
    "name: q1_9\n",
    "manual: true\n",
    "-->"
   ]
  },
  {
   "cell_type": "code",
   "execution_count": 41,
   "metadata": {
    "cell_id": "00062-315be970-e5f2-496b-b25f-0d1776deb2da",
    "deepnote_cell_type": "code",
    "execution_millis": 506,
    "execution_start": 1602366090117,
    "output_cleared": false,
    "source_hash": "93936e26",
    "tags": [
     "include"
    ]
   },
   "outputs": [],
   "source": [
    "def pred_and_plot(col):\n",
    "    \"\"\"Performs single variable OLS to predict bill_sep05 based on col\"\"\"\n",
    "    x = ...\n",
    "    y = ...\n",
    "\n",
    "    beta = ...\n",
    "    alpha = ...\n",
    "\n",
    "    y_hat = ...\n",
    "    \n",
    "    model_rmse = ...\n",
    "    \n",
    "    \n",
    "    ### DO NOT EDIT THE REST OF THIS FUNCTION ###\n",
    "    print(\"RMSE: {:.5f}\".format(rmse(y, y_hat)))\n",
    "\n",
    "    plt.scatter(x, y, color=\"tab:blue\", alpha=0.3)\n",
    "    plt.plot(x, y_hat, color=\"tab:red\")\n",
    "    plt.title(\"Predict September bill with {}\".format(col))\n",
    "\n",
    "\n",
    "### Provide your column name below ###\n",
    "pred_and_plot(\"paid_apr05\")"
   ]
  },
  {
   "cell_type": "markdown",
   "metadata": {
    "cell_id": "00063-847e8ae9-1268-4f88-ab0a-f76692569121",
    "deepnote_cell_type": "markdown",
    "output_cleared": false,
    "tags": [
     "ignore"
    ]
   },
   "source": [
    "<!-- END QUESTION -->\n",
    "\n",
    "\n",
    "\n",
    "In looking through different features, you should have noticed that most of them don't follow a linear relationship very well. In practice, you often need _multiple_ features (explanatory variables) to predict an outcome variable, and it is for this reason that we often use **multiple linear regression** to predict variables."
   ]
  },
  {
   "cell_type": "markdown",
   "metadata": {
    "cell_id": "00064-7a899a1a-fd69-4549-9889-dc4ed29fe07c",
    "deepnote_cell_type": "markdown",
    "output_cleared": false
   },
   "source": [
    "Finally, before moving on to the multivariable case, let's think about using whether or not an individual defaults as a predictor of their September 2005 bill."
   ]
  },
  {
   "cell_type": "markdown",
   "metadata": {
    "cell_id": "00065-a34b99a3-bcd6-4779-9a2b-f35da366e5ec",
    "deepnote_cell_type": "markdown",
    "deletable": false,
    "editable": false,
    "output_cleared": false
   },
   "source": [
    "**Question 1.10:** Assign `default_beta` and `default_alpha` to the slope and intercept of your regression of `bill_sep05` on the `default` column of the table `defaults`.\n",
    "\n",
    "_Hint:_ Our outcome variable hasn't changed, so we can reuse the array `y` defined earlier.\n",
    "\n",
    "<!--\n",
    "BEGIN QUESTION\n",
    "name: q1_10\n",
    "-->"
   ]
  },
  {
   "cell_type": "code",
   "execution_count": 42,
   "metadata": {
    "cell_id": "00066-c3d134e1-d3d4-475b-b606-203751b0634a",
    "deepnote_cell_type": "code",
    "execution_millis": 13,
    "execution_start": 1602366091710,
    "output_cleared": false,
    "source_hash": "2096008b"
   },
   "outputs": [],
   "source": [
    "default_x = ...\n",
    "\n",
    "default_beta = ...\n",
    "default_alpha = ...\n",
    "\n",
    "print(\"y_hat = {} * x + {}\".format(default_beta, default_alpha))"
   ]
  },
  {
   "cell_type": "code",
   "execution_count": null,
   "metadata": {
    "deletable": false,
    "editable": false
   },
   "outputs": [],
   "source": [
    "grader.check(\"q1_10\")"
   ]
  },
  {
   "cell_type": "markdown",
   "metadata": {
    "cell_id": "00071-ccebbdd2-780c-4935-82d4-d79891a6ab5a",
    "deepnote_cell_type": "markdown",
    "deletable": false,
    "editable": false,
    "output_cleared": false
   },
   "source": [
    "<!-- BEGIN QUESTION -->\n",
    "\n",
    "**Question 1.11:** Interpret the value of `default_beta`. Basically, what do we expected to happen when `default` changes from 0 to 1? Explain.\n",
    "\n",
    "<!--\n",
    "BEGIN QUESTION\n",
    "name: q1_11\n",
    "manual: true\n",
    "-->"
   ]
  },
  {
   "cell_type": "markdown",
   "metadata": {},
   "source": [
    "_Type your answer here, replacing this text._"
   ]
  },
  {
   "cell_type": "markdown",
   "metadata": {
    "cell_id": "00073-59ab7a41-c5bd-4921-9e7e-f72617fdbf2b",
    "deepnote_cell_type": "markdown",
    "output_cleared": false,
    "tags": [
     "ignore"
    ]
   },
   "source": [
    "<!-- END QUESTION -->\n",
    "\n",
    "\n",
    "\n",
    "## Part 2: Guided Multivariable OLS"
   ]
  },
  {
   "cell_type": "markdown",
   "metadata": {
    "cell_id": "00074-711db055-cf90-4c58-8bb5-c18ee75cd2f7",
    "deepnote_cell_type": "markdown",
    "output_cleared": false,
    "tags": [
     "ignore"
    ]
   },
   "source": [
    "When we predict a variable $y$ based on some set of $p$ explanatory variables $x$, we create a set of weights $\\alpha$ and $\\beta_i$ such that we have\n",
    "\n",
    "$$\\Large\n",
    "y = \\alpha + \\beta_1 x_1 + \\beta_2 x_2 + \\cdots + \\beta_p x_p + \\varepsilon\n",
    "$$\n",
    "\n",
    "Because of the error term $\\varepsilon$, we will instead create predictions $\\hat{y}$, such that \n",
    "\n",
    "$$\\Large\n",
    "\\hat{y} = \\alpha + \\hat{\\beta}_1 x_1 + \\hat{\\beta}_2 x_2 + \\cdots + \\hat{\\beta}_p x_p\n",
    "$$\n",
    "\n",
    "Let's model the September bill based on the other bills in the data set (April to August). Recall from lecture that we can model an outcome variable `Y` based on columns from our data `defaults` by extracting the values of the table into an array. In the cell below, we create the arrays `X` and `Y`."
   ]
  },
  {
   "cell_type": "code",
   "execution_count": 47,
   "metadata": {
    "cell_id": "00075-517cf6fe-134a-4540-ad68-003702fd52e2",
    "deepnote_cell_type": "code",
    "execution_millis": 1,
    "execution_start": 1602366101489,
    "output_cleared": false,
    "source_hash": "ab84c88"
   },
   "outputs": [],
   "source": [
    "X = defaults[[\"bill_aug05\", \"bill_jul05\", \"bill_jun05\", \"bill_may05\", \"bill_apr05\"]]\n",
    "Y = defaults[\"bill_sep05\"]"
   ]
  },
  {
   "cell_type": "markdown",
   "metadata": {
    "cell_id": "00076-1e3043c1-62f9-4aeb-977c-030b8f9fc8eb",
    "deepnote_cell_type": "markdown",
    "output_cleared": false,
    "tags": [
     "ignore"
    ]
   },
   "source": [
    "Recall that we can fit a multivariate OLS model using `statsmodels` by calling the function `sm.OLS` on the outcome and explanatory variables. In the cell below, we create a model based on _all_ the columns in the table (except, of course, the outcome variable)."
   ]
  },
  {
   "cell_type": "code",
   "execution_count": 48,
   "metadata": {
    "cell_id": "00077-0e302962-dd20-4f06-b8c5-39ea35285d20",
    "deepnote_cell_type": "code",
    "execution_millis": 10,
    "execution_start": 1602366103980,
    "output_cleared": false,
    "source_hash": "86426d13"
   },
   "outputs": [],
   "source": [
    "# create an OLS object with the data\n",
    "model = lm.LinearRegression()\n",
    "model.fit(X, Y)\n",
    "model.coef_"
   ]
  },
  {
   "cell_type": "markdown",
   "metadata": {
    "cell_id": "00078-ed62afff-f7e8-41bd-9f2d-fc10eb9e3eb8",
    "deepnote_cell_type": "markdown",
    "deletable": false,
    "editable": false,
    "output_cleared": false,
    "tags": [
     "ignore"
    ]
   },
   "source": [
    "**Question 2.1:** Which beta coefficient corresponds to `bill_jul05`?\n",
    "\n",
    "<ol style=\"list-style-type: lower-alpha;\">\n",
    "    <li>0.91099773</li>\n",
    "    <li>0.04184977</li>\n",
    "    <li>0.0227457</li>\n",
    "    <li>0.01551302</li>\n",
    "    <li>0.00834073</li>\n",
    "</ol>\n",
    "\n",
    "Assign your answer to `q2_1` below.\n",
    "\n",
    "<!--\n",
    "BEGIN QUESTION\n",
    "name: q2_1\n",
    "-->"
   ]
  },
  {
   "cell_type": "code",
   "execution_count": 49,
   "metadata": {
    "cell_id": "00079-d626aeab-6244-4ebc-9172-2c5833a1658d",
    "deepnote_cell_type": "code",
    "execution_millis": 5,
    "execution_start": 1602366110864,
    "output_cleared": false,
    "source_hash": "98c7e383"
   },
   "outputs": [],
   "source": [
    "q2_1 = ..."
   ]
  },
  {
   "cell_type": "code",
   "execution_count": null,
   "metadata": {
    "deletable": false,
    "editable": false
   },
   "outputs": [],
   "source": [
    "grader.check(\"q2_1\")"
   ]
  },
  {
   "cell_type": "markdown",
   "metadata": {
    "cell_id": "00086-6e803164-150a-4009-b80e-4191c8c5a815",
    "deepnote_cell_type": "markdown",
    "deletable": false,
    "editable": false,
    "output_cleared": false
   },
   "source": [
    "<!-- BEGIN QUESTION -->\n",
    "\n",
    "**Question 2.2:** Which three bills are better predictors of `bill_sep05` from the five bills selected? Justify your response.\n",
    "\n",
    "\n",
    "<!--\n",
    "BEGIN QUESTION\n",
    "name: q2_2\n",
    "manual: true\n",
    "-->"
   ]
  },
  {
   "cell_type": "markdown",
   "metadata": {},
   "source": [
    "_Type your answer here, replacing this text._"
   ]
  },
  {
   "cell_type": "markdown",
   "metadata": {
    "cell_id": "00088-887ce5ea-9dad-4e25-a010-e8d744d49a61",
    "deepnote_cell_type": "markdown",
    "output_cleared": false,
    "tags": [
     "ignore"
    ]
   },
   "source": [
    "<!-- END QUESTION -->\n",
    "\n",
    "\n",
    "\n",
    "Now let's look and see what values our model predicts for our outcome variable. Recall that we can extract the fitted values from the result using `model.predict`. "
   ]
  },
  {
   "cell_type": "markdown",
   "metadata": {
    "cell_id": "00089-51c4f4ed-4902-42be-8b6d-d46dd8dc995e",
    "deepnote_cell_type": "markdown",
    "deletable": false,
    "editable": false,
    "output_cleared": false
   },
   "source": [
    "**Question 2.3:** Assign `Y_hat` to the fitted values of `model`. Then assign `multi_rmse` to the RMSE of this prediction based on `Y`.\n",
    "\n",
    "<!--\n",
    "BEGIN QUESTION\n",
    "name: q2_3\n",
    "-->"
   ]
  },
  {
   "cell_type": "code",
   "execution_count": 52,
   "metadata": {
    "cell_id": "00090-0dbdc3f1-8fd8-466e-9880-53adc0261d4a",
    "deepnote_cell_type": "code",
    "execution_millis": 10,
    "execution_start": 1602366116656,
    "output_cleared": false,
    "source_hash": "52c2adc8"
   },
   "outputs": [],
   "source": [
    "Y_hat = ...\n",
    "\n",
    "multi_rmse = ...\n",
    "multi_rmse"
   ]
  },
  {
   "cell_type": "code",
   "execution_count": null,
   "metadata": {
    "deletable": false,
    "editable": false
   },
   "outputs": [],
   "source": [
    "grader.check(\"q2_3\")"
   ]
  },
  {
   "cell_type": "markdown",
   "metadata": {
    "cell_id": "00095-5748e7b9-413d-40cd-ba15-5268d22bf692",
    "deepnote_cell_type": "markdown",
    "output_cleared": false,
    "tags": [
     "ignore"
    ]
   },
   "source": [
    "We see from this RMSE that the prediction is (much) better than the single variable case, but it's still not too good. Let's try and select better features to see if we can lower our RMSE."
   ]
  },
  {
   "cell_type": "markdown",
   "metadata": {
    "cell_id": "00096-fbda6579-fdc1-4ac3-8449-5445855aa572",
    "deepnote_cell_type": "markdown",
    "deletable": false,
    "editable": false,
    "output_cleared": false
   },
   "source": [
    "<!-- BEGIN QUESTION -->\n",
    "\n",
    "**Question 2.4:** What might be a good way to select columns that would lower our prediction RMSE? What kinds of characteristics and relationships should we look for in our feature columns?\n",
    "\n",
    "<!--\n",
    "BEGIN QUESTION\n",
    "name: q2_4\n",
    "manual: true\n",
    "-->"
   ]
  },
  {
   "cell_type": "markdown",
   "metadata": {},
   "source": [
    "_Type your answer here, replacing this text._"
   ]
  },
  {
   "cell_type": "markdown",
   "metadata": {
    "cell_id": "00099-685e8823-708d-4800-966c-08986276a4f3",
    "deepnote_cell_type": "markdown",
    "deletable": false,
    "editable": false,
    "output_cleared": false
   },
   "source": [
    "<!-- END QUESTION -->\n",
    "\n",
    "**Question 2.5:** Now that you have thought about what might make good features, let's implement a new model to see how well we can do. \n",
    "\n",
    "Add one more column label to the array `new_features` below. Then fill in the code below to create a new OLS model based on the columns in `new_features`, storing the fitted values in `new_Y_hat`.\n",
    "\n",
    "_Hint:_ Our outcome variable `Y` hasn't changed, so we can reuse the same array as earlier.\n",
    "\n",
    "<!--\n",
    "BEGIN QUESTION\n",
    "name: q2_5\n",
    "-->"
   ]
  },
  {
   "cell_type": "code",
   "execution_count": 64,
   "metadata": {
    "cell_id": "00100-fc0c2076-2eda-4c62-8bad-98305ee39308",
    "deepnote_cell_type": "code",
    "execution_millis": 14,
    "execution_start": 1602366161649,
    "output_cleared": false,
    "source_hash": "6e26b9ae"
   },
   "outputs": [],
   "source": [
    "new_features = make_array(\"bill_aug05\", \"bill_jul05\", \"bill_jun05\", \"bill_may05\", \"bill_apr05\", ...)\n",
    "\"\"\"\n",
    "\n",
    "\n",
    "new_X = ...\n",
    "\n",
    "new_model = ...\n",
    "new_Y_hat = ...\n",
    "new_Y_hat"
   ]
  },
  {
   "cell_type": "code",
   "execution_count": null,
   "metadata": {
    "deletable": false,
    "editable": false
   },
   "outputs": [],
   "source": [
    "grader.check(\"q2_5\")"
   ]
  },
  {
   "cell_type": "markdown",
   "metadata": {
    "cell_id": "00104-1afffbdb-f1f3-49de-bd82-d091215184d6",
    "deepnote_cell_type": "markdown",
    "output_cleared": false,
    "tags": [
     "ignore"
    ]
   },
   "source": [
    "Now that we have some predictions, let's look at the accuracy of our model."
   ]
  },
  {
   "cell_type": "markdown",
   "metadata": {
    "cell_id": "00105-b949612c-25ae-45bc-a79c-97259720b4c3",
    "deepnote_cell_type": "markdown",
    "deletable": false,
    "editable": false,
    "output_cleared": false
   },
   "source": [
    "**Question 2.6:** Calculate the RMSE of `new_Y_hat` based on `Y` and store this value as `new_rmse`.\n",
    "\n",
    "<!--\n",
    "BEGIN QUESTION\n",
    "name: q2_6\n",
    "-->"
   ]
  },
  {
   "cell_type": "code",
   "execution_count": 68,
   "metadata": {
    "cell_id": "00106-42048bc8-cb41-4ee5-a470-dc1e8c19b859",
    "deepnote_cell_type": "code",
    "execution_millis": 8,
    "execution_start": 1602366168206,
    "output_cleared": false,
    "source_hash": "1ce3a13a"
   },
   "outputs": [],
   "source": [
    "new_rmse = ...\n",
    "new_rmse"
   ]
  },
  {
   "cell_type": "code",
   "execution_count": null,
   "metadata": {
    "deletable": false,
    "editable": false
   },
   "outputs": [],
   "source": [
    "grader.check(\"q2_6\")"
   ]
  },
  {
   "cell_type": "markdown",
   "metadata": {
    "cell_id": "00109-a82fdc74-4926-4cf7-a802-1871cf2b7095",
    "deepnote_cell_type": "markdown",
    "deletable": false,
    "editable": false,
    "output_cleared": false
   },
   "source": [
    "<!-- BEGIN QUESTION -->\n",
    "\n",
    "**Question 2.7:** Did the RMSE go up or down in Question 2.6 compared to Question 2.3? Why do you think so?\n",
    "\n",
    "<!--\n",
    "BEGIN QUESTION\n",
    "name: q2_7\n",
    "manual: true\n",
    "-->"
   ]
  },
  {
   "cell_type": "markdown",
   "metadata": {},
   "source": [
    "_Type your answer here, replacing this text._"
   ]
  },
  {
   "cell_type": "markdown",
   "metadata": {
    "cell_id": "00111-8168734d-3a05-490e-97b7-72d99e7a905b",
    "deepnote_cell_type": "markdown",
    "output_cleared": false,
    "tags": [
     "ignore"
    ]
   },
   "source": [
    "<!-- END QUESTION -->\n",
    "\n",
    "\n",
    "\n",
    "## Part 3: Unguided Multivariable OLS"
   ]
  },
  {
   "cell_type": "markdown",
   "metadata": {
    "cell_id": "00112-68b81ccf-0ac6-4594-95e1-96a0f40f86d6",
    "deepnote_cell_type": "markdown",
    "output_cleared": false,
    "tags": [
     "ignore"
    ]
   },
   "source": [
    "In this section of the assignment, you will use `sklearn` and OLS to create your own model to predict the September 2005 bill based on 5000 sample of the data,\n",
    " and testing that model's accuracy on another 1000 sample of the data. \n",
    "Your model will be scored out of **5 points**, and a portion of your score will be determined based on your RMSE. The scores you will receive are given in the table below.\n",
    "\n",
    "| RMSE | Score (out of 5) |\n",
    "|-----|-----|\n",
    "| $\\le$ 25,000 | 6 |\n",
    "| $\\le$ 30,000 | 5 |\n",
    "| $\\le$ 50,000 | 4 |\n",
    "| $\\le \\infty$ | 3 |\n",
    "\n",
    "Note that it is possible to receive a 6 out of 5 for an especially good model, and that as long as you *create a model*, you are guaranteed a 3 out of 5. **To submit your model, you must assign `my_labels` to an array of the columns you want your model to use. You may not use more than 10 columns and, of course, you can't use the column `bill_sep05` in your features.** Your model RMSE will be calculated using the following code:\n",
    "\n",
    "```python\n",
    "X, Y = defaults[my_labels], defaults[\"bill_sep05\"]\n",
    "train = defaults.sample(5000, replace = False, random_state = 234)\n",
    "train_X = train[my_labels]\n",
    "train_Y = train[\"bill_sep05\"]\n",
    "\n",
    "test = defaults.sample(1000, replace = False, random_state = 234)\n",
    "test_X = test[my_labels]\n",
    "test_y = test[\"bill_sep05\"]\n",
    "\n",
    "\n",
    "model = lm.LinearRegression().fit(train_X, train_Y)\n",
    "Y_hat = model.predict(test_X)\n",
    "rmse(test_Y, Y_hat)\n",
    "```\n",
    "\n",
    "To select your features, use the widget below to look for correlations between variables and the September 2005 bill. It requires your `pred_and_plot` function to work, so you will need to finish that function before using the widget."
   ]
  },
  {
   "cell_type": "code",
   "execution_count": 71,
   "metadata": {
    "cell_id": "00108-d11fbfc1-882b-4773-8277-020c8710deed",
    "deepnote_cell_type": "code",
    "execution_millis": 12,
    "execution_start": 1602366173334,
    "output_cleared": false,
    "source_hash": "f734ec7a",
    "tags": []
   },
   "outputs": [],
   "source": [
    "train = defaults.sample(5000, replace = False, random_state = 234)\n",
    "\n",
    "test = defaults.sample(1000, replace = False, random_state = 234)"
   ]
  },
  {
   "cell_type": "code",
   "execution_count": 72,
   "metadata": {
    "cell_id": "00113-0536bc55-624d-42be-ac21-79ca1444a092",
    "deepnote_cell_type": "code",
    "execution_millis": 344,
    "execution_start": 1602366173376,
    "output_cleared": false,
    "scrolled": false,
    "source_hash": "233c4eeb",
    "tags": [
     "ignore"
    ]
   },
   "outputs": [],
   "source": [
    "interact(pred_and_plot, col=Dropdown(options=train.columns));"
   ]
  },
  {
   "cell_type": "markdown",
   "metadata": {
    "cell_id": "00114-70a15758-14be-4915-b435-16aebceb12b4",
    "deepnote_cell_type": "markdown",
    "output_cleared": false,
    "tags": [
     "ignore"
    ]
   },
   "source": [
    "Add and remove cells below as needed, but *make sure you define `my_labels`*. We have provided code for you to create your `X` array; just fill in the `...` in `my_labels` with your columns and use the space at the bottom to work on your model. Good luck!"
   ]
  },
  {
   "cell_type": "code",
   "execution_count": 73,
   "metadata": {
    "cell_id": "00116-d9e03f08-d20e-43fe-a9ab-d0305e556ad0",
    "deepnote_cell_type": "code",
    "execution_millis": 32,
    "execution_start": 1602366317233,
    "output_cleared": false,
    "source_hash": "3984ea01"
   },
   "outputs": [],
   "source": [
    "my_labels = make_array(...)\n",
    "\n",
    "train_X = train[...]\n",
    "train_Y = train[...]\n",
    "test_X = ...\n",
    "test_Y = ...\n",
    "my_model = ...\n",
    "my_Y_hat = ...\n",
    "rmse(...)\n",
    "\"\"\"\n",
    "\n"
   ]
  },
  {
   "cell_type": "code",
   "execution_count": null,
   "metadata": {
    "deletable": false,
    "editable": false
   },
   "outputs": [],
   "source": [
    "grader.check(\"q3\")"
   ]
  },
  {
   "cell_type": "markdown",
   "metadata": {
    "cell_id": "00125-0f31c047-ccb1-4a3e-aa83-bf124718ff30",
    "deepnote_cell_type": "markdown",
    "output_cleared": false,
    "tags": [
     "ignore"
    ]
   },
   "source": [
    "## Part 4: Reflection\n",
    "\n",
    "In this section of the assignment, you will answer some conceptual questions about the choices you made in creating your model in Part 3. \n",
    "**This section heavily influences your grade, as we are looking to ensure that you are using intuition while modeling. Please answer thoughtfully and *show us the numbers*.**"
   ]
  },
  {
   "cell_type": "markdown",
   "metadata": {
    "cell_id": "00126-addc2b26-e359-4881-b374-9f2bc4b1b0f3",
    "deepnote_cell_type": "markdown",
    "deletable": false,
    "editable": false,
    "output_cleared": false
   },
   "source": [
    "<!-- BEGIN QUESTION -->\n",
    "\n",
    "**Question 4.1:** Explain one choice you made in selecting features while modeling in Part 3 and why you made it. (Your explanation should take at least a few sentences, and should justify your choice mathematically (i.e. with numerical evidence).)\n",
    "\n",
    "<!--\n",
    "BEGIN QUESTION\n",
    "name: q4_1\n",
    "manual: true\n",
    "-->"
   ]
  },
  {
   "cell_type": "markdown",
   "metadata": {},
   "source": [
    "_Type your answer here, replacing this text._"
   ]
  },
  {
   "cell_type": "markdown",
   "metadata": {
    "cell_id": "00128-f92eabba-9013-4a1a-8d05-7e26d4d44447",
    "deepnote_cell_type": "markdown",
    "deletable": false,
    "editable": false,
    "output_cleared": false
   },
   "source": [
    "<!-- END QUESTION -->\n",
    "\n",
    "<!-- BEGIN QUESTION -->\n",
    "\n",
    "**Question 4.2:** Use your `pred_and_plot` function in the cell below to generate a visualization that helped you choose a feature in Part 3.\n",
    "\n",
    "<!--\n",
    "BEGIN QUESTION\n",
    "name: q4_2\n",
    "manual: true\n",
    "-->"
   ]
  },
  {
   "cell_type": "code",
   "execution_count": 79,
   "metadata": {
    "cell_id": "00129-7d6ea36b-03d9-4467-b6b8-4ab3d26ef55b",
    "deepnote_cell_type": "code",
    "execution_millis": 530,
    "execution_start": 1602366196484,
    "output_cleared": false,
    "source_hash": "84fb1b47"
   },
   "outputs": [],
   "source": [
    "..."
   ]
  },
  {
   "cell_type": "markdown",
   "metadata": {
    "cell_id": "00126-0482b465-cfe2-4102-b02c-57b97c0d7fb8",
    "deepnote_cell_type": "markdown",
    "deletable": false,
    "editable": false,
    "output_cleared": false,
    "tags": []
   },
   "source": [
    "<!-- END QUESTION -->\n",
    "\n",
    "<!-- BEGIN QUESTION -->\n",
    "\n",
    "**Question 4.3:** Why do we train and test on different subsets of our data? Wouldn't our model be more effective if we trained on the entire dataset? Explain.\n",
    "\n",
    "<!--\n",
    "BEGIN QUESTION\n",
    "name: q4_3\n",
    "manual: true\n",
    "-->"
   ]
  },
  {
   "cell_type": "markdown",
   "metadata": {},
   "source": [
    "_Type your answer here, replacing this text._"
   ]
  },
  {
   "cell_type": "markdown",
   "metadata": {
    "cell_id": "00132-097f0b55-90f8-49d1-8ae2-38ca89d200aa",
    "deepnote_cell_type": "markdown",
    "output_cleared": false,
    "tags": [
     "ignore"
    ]
   },
   "source": [
    "<!-- END QUESTION -->\n",
    "\n",
    "\n",
    "\n",
    "---\n",
    "\n",
    "### References\n",
    "\n",
    "* Data from https://archive.ics.uci.edu/ml/datasets/default+of+credit+card+clients#"
   ]
  },
  {
   "cell_type": "markdown",
   "metadata": {
    "deletable": false,
    "editable": false
   },
   "source": [
    "---\n",
    "\n",
    "To double-check your work, the cell below will rerun all of the autograder tests."
   ]
  },
  {
   "cell_type": "code",
   "execution_count": null,
   "metadata": {
    "deletable": false,
    "editable": false
   },
   "outputs": [],
   "source": [
    "grader.check_all()"
   ]
  },
  {
   "cell_type": "markdown",
   "metadata": {
    "deletable": false,
    "editable": false
   },
   "source": [
    "## Submission\n",
    "\n",
    "Make sure you have run all cells in your notebook in order before running the cell below, so that all images/graphs appear in the output. The cell below will generate a zip file for you to submit. **Please save before exporting!**"
   ]
  },
  {
   "cell_type": "code",
   "execution_count": null,
   "metadata": {
    "deletable": false,
    "editable": false
   },
   "outputs": [],
   "source": [
    "# Save your notebook first, then run this cell to export your submission.\n",
    "grader.export(pdf=False)"
   ]
  },
  {
   "cell_type": "markdown",
   "metadata": {},
   "source": [
    " "
   ]
  }
 ],
 "metadata": {
  "@webio": {
   "lastCommId": null,
   "lastKernelId": null
  },
  "deepnote_execution_queue": [],
  "deepnote_notebook_id": "5f486002-3d82-4dc3-8fb4-948495f2d365",
  "kernelspec": {
   "display_name": "Python 3",
   "language": "python",
   "name": "python3"
  },
  "language_info": {
   "codemirror_mode": {
    "name": "ipython",
    "version": 3
   },
   "file_extension": ".py",
   "mimetype": "text/x-python",
   "name": "python",
   "nbconvert_exporter": "python",
   "pygments_lexer": "ipython3",
   "version": "3.8.1"
  },
  "varInspector": {
   "cols": {
    "lenName": 16,
    "lenType": 16,
    "lenVar": 40
   },
   "kernels_config": {
    "python": {
     "delete_cmd_postfix": "",
     "delete_cmd_prefix": "del ",
     "library": "var_list.py",
     "varRefreshCmd": "print(var_dic_list())"
    },
    "r": {
     "delete_cmd_postfix": ") ",
     "delete_cmd_prefix": "rm(",
     "library": "var_list.r",
     "varRefreshCmd": "cat(var_dic_list()) "
    }
   },
   "types_to_exclude": [
    "module",
    "function",
    "builtin_function_or_method",
    "instance",
    "_Feature"
   ],
   "window_display": false
  }
 },
 "nbformat": 4,
 "nbformat_minor": 2
}
