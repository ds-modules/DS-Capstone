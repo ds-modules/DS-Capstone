{
 "cells": [
  {
   "cell_type": "markdown",
   "metadata": {
    "cell_id": "00001-3305d94f-fb0f-4d24-a5b6-43527fd2709d",
    "deepnote_cell_type": "markdown",
    "output_cleared": false,
    "tags": []
   },
   "source": [
    "This lab is adapted from materials in DATA 88E: *Economic Models*, \n",
    "please check out the course for more statistical fun in exploring Econometrics."
   ]
  },
  {
   "cell_type": "markdown",
   "metadata": {
    "cell_id": "00003-225ebec9-4e41-4df4-a2da-f2acbd9ab0fc",
    "deepnote_cell_type": "markdown",
    "output_cleared": false
   },
   "source": [
    "# Lab 3: Data Science and Linear Regression"
   ]
  },
  {
   "cell_type": "markdown",
   "metadata": {
    "cell_id": "00004-91c39159-41ca-489e-b418-cee2fbc381c7",
    "deepnote_cell_type": "markdown",
    "output_cleared": false,
    "tags": [
     "ignore"
    ]
   },
   "source": [
    "This lan focuses on the application of data science techniques from lecture. \n",
    "You will practice single variable ordinary least squares regression in the Data 8 style, \n",
    "go through a guided introduction to multivariate OLS using the package `scikit-learn`, \n",
    "and finally create your own multivariate OLS model.\n",
    "\n",
    "After this lab, you should be able to\n",
    "\n",
    "1. Write and apply the necesssary functions to perform single variable OLS\n",
    "2. Use the `scikit-learn` package to create multivariate OLS models\n",
    "3. Understand how to quantitatively evaluate models using the root-mean-squared error\n",
    "4. Look for and use relationships between variables to select features for regression"
   ]
  },
  {
   "cell_type": "code",
   "execution_count": 1,
   "metadata": {
    "cell_id": "00005-8ff25fe0-084f-4793-b1fd-846d328a6619",
    "deepnote_cell_type": "code",
    "execution_millis": 4,
    "execution_start": 1602366036760,
    "output_cleared": false,
    "source_hash": "653663b5"
   },
   "outputs": [],
   "source": [
    "from datascience import *\n",
    "import numpy as np\n",
    "import pandas as pd\n",
    "import sklearn.linear_model as lm\n",
    "from ipywidgets import interact, Dropdown, IntSlider\n",
    "import matplotlib.pyplot as plt\n",
    "import warnings\n",
    "warnings.simplefilter(action='ignore')\n",
    "#import otter\n",
    "#grader = otter.Notebook()\n",
    "plt.style.use('seaborn-muted')\n",
    "%matplotlib inline\n",
    "plt.rcParams[\"figure.figsize\"] = [10,7]"
   ]
  },
  {
   "cell_type": "markdown",
   "metadata": {
    "cell_id": "00006-ebfda931-6b1e-4e47-af69-55e199c0e2d5",
    "deepnote_cell_type": "markdown",
    "output_cleared": false,
    "tags": [
     "ignore"
    ]
   },
   "source": [
    "In this lab, we will be working with data on credit card defaults and billing. The data covers April to September 2005, with one row for each cardholder. It has the following columns:\n",
    "\n",
    "| Column | Description |\n",
    "|-----|-----|\n",
    "| `credit` | Total amount of credit |\n",
    "| `sex` | Cardholder sex |\n",
    "| `education` | Cardholder education level |\n",
    "| `martial_status` | Cardholder marital status |\n",
    "| `age` | Cardholder age |\n",
    "| `bill_{month}05` | Bill amount for specific month |\n",
    "| `paid_{month}05` | Amount paid in specified month |\n",
    "| `default` | Whether the cardholder defaulted |\n",
    "\n",
    "In the cell below, we load the dataset(dataset obtained from the data88 course)"
   ]
  },
  {
   "cell_type": "code",
   "execution_count": 2,
   "metadata": {
    "cell_id": "00007-eb7f6249-b734-40cf-bd03-d6ca041b83b2",
    "deepnote_cell_type": "code",
    "execution_millis": 137,
    "execution_start": 1602366039811,
    "output_cleared": false,
    "source_hash": "f1d5a31f"
   },
   "outputs": [
    {
     "data": {
      "text/html": [
       "<div>\n",
       "<style scoped>\n",
       "    .dataframe tbody tr th:only-of-type {\n",
       "        vertical-align: middle;\n",
       "    }\n",
       "\n",
       "    .dataframe tbody tr th {\n",
       "        vertical-align: top;\n",
       "    }\n",
       "\n",
       "    .dataframe thead th {\n",
       "        text-align: right;\n",
       "    }\n",
       "</style>\n",
       "<table border=\"1\" class=\"dataframe\">\n",
       "  <thead>\n",
       "    <tr style=\"text-align: right;\">\n",
       "      <th></th>\n",
       "      <th>credit</th>\n",
       "      <th>sex</th>\n",
       "      <th>education</th>\n",
       "      <th>marital_status</th>\n",
       "      <th>age</th>\n",
       "      <th>bill_sep05</th>\n",
       "      <th>bill_aug05</th>\n",
       "      <th>bill_jul05</th>\n",
       "      <th>bill_jun05</th>\n",
       "      <th>bill_may05</th>\n",
       "      <th>bill_apr05</th>\n",
       "      <th>paid_sep05</th>\n",
       "      <th>paid_aug05</th>\n",
       "      <th>paid_jul05</th>\n",
       "      <th>paid_jun05</th>\n",
       "      <th>paid_may05</th>\n",
       "      <th>paid_apr05</th>\n",
       "      <th>default</th>\n",
       "    </tr>\n",
       "  </thead>\n",
       "  <tbody>\n",
       "    <tr>\n",
       "      <th>0</th>\n",
       "      <td>20000</td>\n",
       "      <td>female</td>\n",
       "      <td>undergraduate</td>\n",
       "      <td>married</td>\n",
       "      <td>24</td>\n",
       "      <td>3913</td>\n",
       "      <td>3102</td>\n",
       "      <td>689</td>\n",
       "      <td>0</td>\n",
       "      <td>0</td>\n",
       "      <td>0</td>\n",
       "      <td>0</td>\n",
       "      <td>689</td>\n",
       "      <td>0</td>\n",
       "      <td>0</td>\n",
       "      <td>0</td>\n",
       "      <td>0</td>\n",
       "      <td>1</td>\n",
       "    </tr>\n",
       "    <tr>\n",
       "      <th>1</th>\n",
       "      <td>120000</td>\n",
       "      <td>female</td>\n",
       "      <td>undergraduate</td>\n",
       "      <td>single</td>\n",
       "      <td>26</td>\n",
       "      <td>2682</td>\n",
       "      <td>1725</td>\n",
       "      <td>2682</td>\n",
       "      <td>3272</td>\n",
       "      <td>3455</td>\n",
       "      <td>3261</td>\n",
       "      <td>0</td>\n",
       "      <td>1000</td>\n",
       "      <td>1000</td>\n",
       "      <td>1000</td>\n",
       "      <td>0</td>\n",
       "      <td>2000</td>\n",
       "      <td>1</td>\n",
       "    </tr>\n",
       "    <tr>\n",
       "      <th>2</th>\n",
       "      <td>90000</td>\n",
       "      <td>female</td>\n",
       "      <td>undergraduate</td>\n",
       "      <td>single</td>\n",
       "      <td>34</td>\n",
       "      <td>29239</td>\n",
       "      <td>14027</td>\n",
       "      <td>13559</td>\n",
       "      <td>14331</td>\n",
       "      <td>14948</td>\n",
       "      <td>15549</td>\n",
       "      <td>1518</td>\n",
       "      <td>1500</td>\n",
       "      <td>1000</td>\n",
       "      <td>1000</td>\n",
       "      <td>1000</td>\n",
       "      <td>5000</td>\n",
       "      <td>0</td>\n",
       "    </tr>\n",
       "    <tr>\n",
       "      <th>3</th>\n",
       "      <td>50000</td>\n",
       "      <td>female</td>\n",
       "      <td>undergraduate</td>\n",
       "      <td>married</td>\n",
       "      <td>37</td>\n",
       "      <td>46990</td>\n",
       "      <td>48233</td>\n",
       "      <td>49291</td>\n",
       "      <td>28314</td>\n",
       "      <td>28959</td>\n",
       "      <td>29547</td>\n",
       "      <td>2000</td>\n",
       "      <td>2019</td>\n",
       "      <td>1200</td>\n",
       "      <td>1100</td>\n",
       "      <td>1069</td>\n",
       "      <td>1000</td>\n",
       "      <td>0</td>\n",
       "    </tr>\n",
       "    <tr>\n",
       "      <th>4</th>\n",
       "      <td>50000</td>\n",
       "      <td>male</td>\n",
       "      <td>undergraduate</td>\n",
       "      <td>married</td>\n",
       "      <td>57</td>\n",
       "      <td>8617</td>\n",
       "      <td>5670</td>\n",
       "      <td>35835</td>\n",
       "      <td>20940</td>\n",
       "      <td>19146</td>\n",
       "      <td>19131</td>\n",
       "      <td>2000</td>\n",
       "      <td>36681</td>\n",
       "      <td>10000</td>\n",
       "      <td>9000</td>\n",
       "      <td>689</td>\n",
       "      <td>679</td>\n",
       "      <td>0</td>\n",
       "    </tr>\n",
       "  </tbody>\n",
       "</table>\n",
       "</div>"
      ],
      "text/plain": [
       "   credit     sex      education marital_status  age  bill_sep05  bill_aug05  \\\n",
       "0   20000  female  undergraduate        married   24        3913        3102   \n",
       "1  120000  female  undergraduate         single   26        2682        1725   \n",
       "2   90000  female  undergraduate         single   34       29239       14027   \n",
       "3   50000  female  undergraduate        married   37       46990       48233   \n",
       "4   50000    male  undergraduate        married   57        8617        5670   \n",
       "\n",
       "   bill_jul05  bill_jun05  bill_may05  bill_apr05  paid_sep05  paid_aug05  \\\n",
       "0         689           0           0           0           0         689   \n",
       "1        2682        3272        3455        3261           0        1000   \n",
       "2       13559       14331       14948       15549        1518        1500   \n",
       "3       49291       28314       28959       29547        2000        2019   \n",
       "4       35835       20940       19146       19131        2000       36681   \n",
       "\n",
       "   paid_jul05  paid_jun05  paid_may05  paid_apr05  default  \n",
       "0           0           0           0           0        1  \n",
       "1        1000        1000           0        2000        1  \n",
       "2        1000        1000        1000        5000        0  \n",
       "3        1200        1100        1069        1000        0  \n",
       "4       10000        9000         689         679        0  "
      ]
     },
     "execution_count": 2,
     "metadata": {},
     "output_type": "execute_result"
    }
   ],
   "source": [
    "defaults_raw = pd.read_csv(\"defaults.csv\")\n",
    "defaults_raw.head(5)"
   ]
  },
  {
   "cell_type": "markdown",
   "metadata": {
    "cell_id": "00008-03f9727a-1c36-4b59-80db-ff9e85a89f24",
    "deepnote_cell_type": "markdown",
    "deletable": false,
    "editable": false,
    "output_cleared": false,
    "tags": [
     "ignore"
    ]
   },
   "source": [
    "**Question 0.1:** Which of the columns in `defaults_raw` would we need dummies for in order to use in an OLS model? Assign `q0_1` to an array of these column _labels_.\n",
    "\n",
    "<!--\n",
    "BEGIN QUESTION\n",
    "name: q0_1\n",
    "-->"
   ]
  },
  {
   "cell_type": "code",
   "execution_count": 3,
   "metadata": {
    "cell_id": "00009-4cfbd807-78ea-4214-be47-5d81a86db2df",
    "deepnote_cell_type": "code",
    "execution_millis": 1,
    "execution_start": 1602366044370,
    "output_cleared": false,
    "scrolled": true,
    "source_hash": "8b6db65e",
    "tags": [
     "ignore"
    ]
   },
   "outputs": [
    {
     "data": {
      "text/plain": [
       "['sex', 'education', 'marital_status', 'age']"
      ]
     },
     "execution_count": 3,
     "metadata": {},
     "output_type": "execute_result"
    }
   ],
   "source": [
    "q0_1 = [\"sex\", \"education\", \"marital_status\", \"age\"] # last is optional # SOLUTION\n",
    "q0_1"
   ]
  },
  {
   "cell_type": "code",
   "execution_count": null,
   "metadata": {
    "deletable": false,
    "editable": false
   },
   "outputs": [],
   "source": [
    "grader.check(\"q0_1\")"
   ]
  },
  {
   "cell_type": "markdown",
   "metadata": {
    "cell_id": "00011-b533cfdb-ba92-4cb5-844f-e11be4a2305d",
    "deepnote_cell_type": "markdown",
    "output_cleared": false,
    "tags": [
     "ignore"
    ]
   },
   "source": [
    "In order to use the columns you chose, we will need to create dummies for them. In lecture, we showed a function (defined in the imports cell) that will get dummies for a variable for you."
   ]
  },
  {
   "cell_type": "markdown",
   "metadata": {
    "cell_id": "00012-0923fa18-c4ef-4e9d-b68b-6946309c4020",
    "deepnote_cell_type": "markdown",
    "deletable": false,
    "editable": false,
    "output_cleared": false
   },
   "source": [
    "**Question 0.2:** Use the `get_dummies` function to get dummies for the variables you listed in Question 0.1. _Make sure you drop the original columns using the `drop` argument._\n",
    "\n",
    "<!--\n",
    "BEGIN QUESTION\n",
    "name: q0_2\n",
    "-->"
   ]
  },
  {
   "cell_type": "code",
   "execution_count": 9,
   "metadata": {
    "cell_id": "00013-320c8356-9a31-4bfe-aa7f-87d1a593d1e5",
    "deepnote_cell_type": "code",
    "execution_millis": 106,
    "execution_start": 1602366045568,
    "output_cleared": false,
    "source_hash": "20676933"
   },
   "outputs": [
    {
     "data": {
      "text/html": [
       "<div>\n",
       "<style scoped>\n",
       "    .dataframe tbody tr th:only-of-type {\n",
       "        vertical-align: middle;\n",
       "    }\n",
       "\n",
       "    .dataframe tbody tr th {\n",
       "        vertical-align: top;\n",
       "    }\n",
       "\n",
       "    .dataframe thead th {\n",
       "        text-align: right;\n",
       "    }\n",
       "</style>\n",
       "<table border=\"1\" class=\"dataframe\">\n",
       "  <thead>\n",
       "    <tr style=\"text-align: right;\">\n",
       "      <th></th>\n",
       "      <th>credit</th>\n",
       "      <th>age</th>\n",
       "      <th>bill_sep05</th>\n",
       "      <th>bill_aug05</th>\n",
       "      <th>bill_jul05</th>\n",
       "      <th>bill_jun05</th>\n",
       "      <th>bill_may05</th>\n",
       "      <th>bill_apr05</th>\n",
       "      <th>paid_sep05</th>\n",
       "      <th>paid_aug05</th>\n",
       "      <th>...</th>\n",
       "      <th>paid_jun05</th>\n",
       "      <th>paid_may05</th>\n",
       "      <th>paid_apr05</th>\n",
       "      <th>default</th>\n",
       "      <th>sex_male</th>\n",
       "      <th>education_gradaute</th>\n",
       "      <th>education_other</th>\n",
       "      <th>education_undergraduate</th>\n",
       "      <th>marital_status_other</th>\n",
       "      <th>marital_status_single</th>\n",
       "    </tr>\n",
       "  </thead>\n",
       "  <tbody>\n",
       "    <tr>\n",
       "      <th>0</th>\n",
       "      <td>20000</td>\n",
       "      <td>24</td>\n",
       "      <td>3913</td>\n",
       "      <td>3102</td>\n",
       "      <td>689</td>\n",
       "      <td>0</td>\n",
       "      <td>0</td>\n",
       "      <td>0</td>\n",
       "      <td>0</td>\n",
       "      <td>689</td>\n",
       "      <td>...</td>\n",
       "      <td>0</td>\n",
       "      <td>0</td>\n",
       "      <td>0</td>\n",
       "      <td>1</td>\n",
       "      <td>0</td>\n",
       "      <td>0</td>\n",
       "      <td>0</td>\n",
       "      <td>1</td>\n",
       "      <td>0</td>\n",
       "      <td>0</td>\n",
       "    </tr>\n",
       "    <tr>\n",
       "      <th>1</th>\n",
       "      <td>120000</td>\n",
       "      <td>26</td>\n",
       "      <td>2682</td>\n",
       "      <td>1725</td>\n",
       "      <td>2682</td>\n",
       "      <td>3272</td>\n",
       "      <td>3455</td>\n",
       "      <td>3261</td>\n",
       "      <td>0</td>\n",
       "      <td>1000</td>\n",
       "      <td>...</td>\n",
       "      <td>1000</td>\n",
       "      <td>0</td>\n",
       "      <td>2000</td>\n",
       "      <td>1</td>\n",
       "      <td>0</td>\n",
       "      <td>0</td>\n",
       "      <td>0</td>\n",
       "      <td>1</td>\n",
       "      <td>0</td>\n",
       "      <td>1</td>\n",
       "    </tr>\n",
       "    <tr>\n",
       "      <th>2</th>\n",
       "      <td>90000</td>\n",
       "      <td>34</td>\n",
       "      <td>29239</td>\n",
       "      <td>14027</td>\n",
       "      <td>13559</td>\n",
       "      <td>14331</td>\n",
       "      <td>14948</td>\n",
       "      <td>15549</td>\n",
       "      <td>1518</td>\n",
       "      <td>1500</td>\n",
       "      <td>...</td>\n",
       "      <td>1000</td>\n",
       "      <td>1000</td>\n",
       "      <td>5000</td>\n",
       "      <td>0</td>\n",
       "      <td>0</td>\n",
       "      <td>0</td>\n",
       "      <td>0</td>\n",
       "      <td>1</td>\n",
       "      <td>0</td>\n",
       "      <td>1</td>\n",
       "    </tr>\n",
       "    <tr>\n",
       "      <th>3</th>\n",
       "      <td>50000</td>\n",
       "      <td>37</td>\n",
       "      <td>46990</td>\n",
       "      <td>48233</td>\n",
       "      <td>49291</td>\n",
       "      <td>28314</td>\n",
       "      <td>28959</td>\n",
       "      <td>29547</td>\n",
       "      <td>2000</td>\n",
       "      <td>2019</td>\n",
       "      <td>...</td>\n",
       "      <td>1100</td>\n",
       "      <td>1069</td>\n",
       "      <td>1000</td>\n",
       "      <td>0</td>\n",
       "      <td>0</td>\n",
       "      <td>0</td>\n",
       "      <td>0</td>\n",
       "      <td>1</td>\n",
       "      <td>0</td>\n",
       "      <td>0</td>\n",
       "    </tr>\n",
       "    <tr>\n",
       "      <th>4</th>\n",
       "      <td>50000</td>\n",
       "      <td>57</td>\n",
       "      <td>8617</td>\n",
       "      <td>5670</td>\n",
       "      <td>35835</td>\n",
       "      <td>20940</td>\n",
       "      <td>19146</td>\n",
       "      <td>19131</td>\n",
       "      <td>2000</td>\n",
       "      <td>36681</td>\n",
       "      <td>...</td>\n",
       "      <td>9000</td>\n",
       "      <td>689</td>\n",
       "      <td>679</td>\n",
       "      <td>0</td>\n",
       "      <td>1</td>\n",
       "      <td>0</td>\n",
       "      <td>0</td>\n",
       "      <td>1</td>\n",
       "      <td>0</td>\n",
       "      <td>0</td>\n",
       "    </tr>\n",
       "    <tr>\n",
       "      <th>5</th>\n",
       "      <td>50000</td>\n",
       "      <td>37</td>\n",
       "      <td>64400</td>\n",
       "      <td>57069</td>\n",
       "      <td>57608</td>\n",
       "      <td>19394</td>\n",
       "      <td>19619</td>\n",
       "      <td>20024</td>\n",
       "      <td>2500</td>\n",
       "      <td>1815</td>\n",
       "      <td>...</td>\n",
       "      <td>1000</td>\n",
       "      <td>1000</td>\n",
       "      <td>800</td>\n",
       "      <td>0</td>\n",
       "      <td>1</td>\n",
       "      <td>1</td>\n",
       "      <td>0</td>\n",
       "      <td>0</td>\n",
       "      <td>0</td>\n",
       "      <td>1</td>\n",
       "    </tr>\n",
       "    <tr>\n",
       "      <th>6</th>\n",
       "      <td>500000</td>\n",
       "      <td>29</td>\n",
       "      <td>367965</td>\n",
       "      <td>412023</td>\n",
       "      <td>445007</td>\n",
       "      <td>542653</td>\n",
       "      <td>483003</td>\n",
       "      <td>473944</td>\n",
       "      <td>55000</td>\n",
       "      <td>40000</td>\n",
       "      <td>...</td>\n",
       "      <td>20239</td>\n",
       "      <td>13750</td>\n",
       "      <td>13770</td>\n",
       "      <td>0</td>\n",
       "      <td>1</td>\n",
       "      <td>1</td>\n",
       "      <td>0</td>\n",
       "      <td>0</td>\n",
       "      <td>0</td>\n",
       "      <td>1</td>\n",
       "    </tr>\n",
       "    <tr>\n",
       "      <th>7</th>\n",
       "      <td>100000</td>\n",
       "      <td>23</td>\n",
       "      <td>11876</td>\n",
       "      <td>380</td>\n",
       "      <td>601</td>\n",
       "      <td>221</td>\n",
       "      <td>-159</td>\n",
       "      <td>567</td>\n",
       "      <td>380</td>\n",
       "      <td>601</td>\n",
       "      <td>...</td>\n",
       "      <td>581</td>\n",
       "      <td>1687</td>\n",
       "      <td>1542</td>\n",
       "      <td>0</td>\n",
       "      <td>0</td>\n",
       "      <td>0</td>\n",
       "      <td>0</td>\n",
       "      <td>1</td>\n",
       "      <td>0</td>\n",
       "      <td>1</td>\n",
       "    </tr>\n",
       "    <tr>\n",
       "      <th>8</th>\n",
       "      <td>140000</td>\n",
       "      <td>28</td>\n",
       "      <td>11285</td>\n",
       "      <td>14096</td>\n",
       "      <td>12108</td>\n",
       "      <td>12211</td>\n",
       "      <td>11793</td>\n",
       "      <td>3719</td>\n",
       "      <td>3329</td>\n",
       "      <td>0</td>\n",
       "      <td>...</td>\n",
       "      <td>1000</td>\n",
       "      <td>1000</td>\n",
       "      <td>1000</td>\n",
       "      <td>0</td>\n",
       "      <td>0</td>\n",
       "      <td>0</td>\n",
       "      <td>0</td>\n",
       "      <td>0</td>\n",
       "      <td>0</td>\n",
       "      <td>0</td>\n",
       "    </tr>\n",
       "    <tr>\n",
       "      <th>9</th>\n",
       "      <td>20000</td>\n",
       "      <td>35</td>\n",
       "      <td>0</td>\n",
       "      <td>0</td>\n",
       "      <td>0</td>\n",
       "      <td>0</td>\n",
       "      <td>13007</td>\n",
       "      <td>13912</td>\n",
       "      <td>0</td>\n",
       "      <td>0</td>\n",
       "      <td>...</td>\n",
       "      <td>13007</td>\n",
       "      <td>1122</td>\n",
       "      <td>0</td>\n",
       "      <td>0</td>\n",
       "      <td>1</td>\n",
       "      <td>0</td>\n",
       "      <td>0</td>\n",
       "      <td>0</td>\n",
       "      <td>0</td>\n",
       "      <td>1</td>\n",
       "    </tr>\n",
       "    <tr>\n",
       "      <th>10</th>\n",
       "      <td>200000</td>\n",
       "      <td>34</td>\n",
       "      <td>11073</td>\n",
       "      <td>9787</td>\n",
       "      <td>5535</td>\n",
       "      <td>2513</td>\n",
       "      <td>1828</td>\n",
       "      <td>3731</td>\n",
       "      <td>2306</td>\n",
       "      <td>12</td>\n",
       "      <td>...</td>\n",
       "      <td>300</td>\n",
       "      <td>3738</td>\n",
       "      <td>66</td>\n",
       "      <td>0</td>\n",
       "      <td>0</td>\n",
       "      <td>0</td>\n",
       "      <td>0</td>\n",
       "      <td>0</td>\n",
       "      <td>0</td>\n",
       "      <td>1</td>\n",
       "    </tr>\n",
       "    <tr>\n",
       "      <th>11</th>\n",
       "      <td>260000</td>\n",
       "      <td>51</td>\n",
       "      <td>12261</td>\n",
       "      <td>21670</td>\n",
       "      <td>9966</td>\n",
       "      <td>8517</td>\n",
       "      <td>22287</td>\n",
       "      <td>13668</td>\n",
       "      <td>21818</td>\n",
       "      <td>9966</td>\n",
       "      <td>...</td>\n",
       "      <td>22301</td>\n",
       "      <td>0</td>\n",
       "      <td>3640</td>\n",
       "      <td>0</td>\n",
       "      <td>0</td>\n",
       "      <td>1</td>\n",
       "      <td>0</td>\n",
       "      <td>0</td>\n",
       "      <td>0</td>\n",
       "      <td>1</td>\n",
       "    </tr>\n",
       "    <tr>\n",
       "      <th>12</th>\n",
       "      <td>630000</td>\n",
       "      <td>41</td>\n",
       "      <td>12137</td>\n",
       "      <td>6500</td>\n",
       "      <td>6500</td>\n",
       "      <td>6500</td>\n",
       "      <td>6500</td>\n",
       "      <td>2870</td>\n",
       "      <td>1000</td>\n",
       "      <td>6500</td>\n",
       "      <td>...</td>\n",
       "      <td>6500</td>\n",
       "      <td>2870</td>\n",
       "      <td>0</td>\n",
       "      <td>0</td>\n",
       "      <td>0</td>\n",
       "      <td>0</td>\n",
       "      <td>0</td>\n",
       "      <td>1</td>\n",
       "      <td>0</td>\n",
       "      <td>1</td>\n",
       "    </tr>\n",
       "    <tr>\n",
       "      <th>13</th>\n",
       "      <td>70000</td>\n",
       "      <td>30</td>\n",
       "      <td>65802</td>\n",
       "      <td>67369</td>\n",
       "      <td>65701</td>\n",
       "      <td>66782</td>\n",
       "      <td>36137</td>\n",
       "      <td>36894</td>\n",
       "      <td>3200</td>\n",
       "      <td>0</td>\n",
       "      <td>...</td>\n",
       "      <td>3000</td>\n",
       "      <td>1500</td>\n",
       "      <td>0</td>\n",
       "      <td>1</td>\n",
       "      <td>1</td>\n",
       "      <td>0</td>\n",
       "      <td>0</td>\n",
       "      <td>1</td>\n",
       "      <td>0</td>\n",
       "      <td>1</td>\n",
       "    </tr>\n",
       "    <tr>\n",
       "      <th>14</th>\n",
       "      <td>250000</td>\n",
       "      <td>29</td>\n",
       "      <td>70887</td>\n",
       "      <td>67060</td>\n",
       "      <td>63561</td>\n",
       "      <td>59696</td>\n",
       "      <td>56875</td>\n",
       "      <td>55512</td>\n",
       "      <td>3000</td>\n",
       "      <td>3000</td>\n",
       "      <td>...</td>\n",
       "      <td>3000</td>\n",
       "      <td>3000</td>\n",
       "      <td>3000</td>\n",
       "      <td>0</td>\n",
       "      <td>1</td>\n",
       "      <td>1</td>\n",
       "      <td>0</td>\n",
       "      <td>0</td>\n",
       "      <td>0</td>\n",
       "      <td>1</td>\n",
       "    </tr>\n",
       "    <tr>\n",
       "      <th>15</th>\n",
       "      <td>50000</td>\n",
       "      <td>23</td>\n",
       "      <td>50614</td>\n",
       "      <td>29173</td>\n",
       "      <td>28116</td>\n",
       "      <td>28771</td>\n",
       "      <td>29531</td>\n",
       "      <td>30211</td>\n",
       "      <td>0</td>\n",
       "      <td>1500</td>\n",
       "      <td>...</td>\n",
       "      <td>1200</td>\n",
       "      <td>1300</td>\n",
       "      <td>1100</td>\n",
       "      <td>0</td>\n",
       "      <td>0</td>\n",
       "      <td>0</td>\n",
       "      <td>0</td>\n",
       "      <td>0</td>\n",
       "      <td>1</td>\n",
       "      <td>0</td>\n",
       "    </tr>\n",
       "    <tr>\n",
       "      <th>16</th>\n",
       "      <td>20000</td>\n",
       "      <td>24</td>\n",
       "      <td>15376</td>\n",
       "      <td>18010</td>\n",
       "      <td>17428</td>\n",
       "      <td>18338</td>\n",
       "      <td>17905</td>\n",
       "      <td>19104</td>\n",
       "      <td>3200</td>\n",
       "      <td>0</td>\n",
       "      <td>...</td>\n",
       "      <td>0</td>\n",
       "      <td>1650</td>\n",
       "      <td>0</td>\n",
       "      <td>1</td>\n",
       "      <td>1</td>\n",
       "      <td>1</td>\n",
       "      <td>0</td>\n",
       "      <td>0</td>\n",
       "      <td>0</td>\n",
       "      <td>1</td>\n",
       "    </tr>\n",
       "    <tr>\n",
       "      <th>17</th>\n",
       "      <td>320000</td>\n",
       "      <td>49</td>\n",
       "      <td>253286</td>\n",
       "      <td>246536</td>\n",
       "      <td>194663</td>\n",
       "      <td>70074</td>\n",
       "      <td>5856</td>\n",
       "      <td>195599</td>\n",
       "      <td>10358</td>\n",
       "      <td>10000</td>\n",
       "      <td>...</td>\n",
       "      <td>20000</td>\n",
       "      <td>195599</td>\n",
       "      <td>50000</td>\n",
       "      <td>0</td>\n",
       "      <td>1</td>\n",
       "      <td>1</td>\n",
       "      <td>0</td>\n",
       "      <td>0</td>\n",
       "      <td>0</td>\n",
       "      <td>0</td>\n",
       "    </tr>\n",
       "    <tr>\n",
       "      <th>18</th>\n",
       "      <td>360000</td>\n",
       "      <td>49</td>\n",
       "      <td>0</td>\n",
       "      <td>0</td>\n",
       "      <td>0</td>\n",
       "      <td>0</td>\n",
       "      <td>0</td>\n",
       "      <td>0</td>\n",
       "      <td>0</td>\n",
       "      <td>0</td>\n",
       "      <td>...</td>\n",
       "      <td>0</td>\n",
       "      <td>0</td>\n",
       "      <td>0</td>\n",
       "      <td>0</td>\n",
       "      <td>0</td>\n",
       "      <td>1</td>\n",
       "      <td>0</td>\n",
       "      <td>0</td>\n",
       "      <td>0</td>\n",
       "      <td>0</td>\n",
       "    </tr>\n",
       "    <tr>\n",
       "      <th>19</th>\n",
       "      <td>180000</td>\n",
       "      <td>29</td>\n",
       "      <td>0</td>\n",
       "      <td>0</td>\n",
       "      <td>0</td>\n",
       "      <td>0</td>\n",
       "      <td>0</td>\n",
       "      <td>0</td>\n",
       "      <td>0</td>\n",
       "      <td>0</td>\n",
       "      <td>...</td>\n",
       "      <td>0</td>\n",
       "      <td>0</td>\n",
       "      <td>0</td>\n",
       "      <td>0</td>\n",
       "      <td>0</td>\n",
       "      <td>1</td>\n",
       "      <td>0</td>\n",
       "      <td>0</td>\n",
       "      <td>0</td>\n",
       "      <td>1</td>\n",
       "    </tr>\n",
       "    <tr>\n",
       "      <th>20</th>\n",
       "      <td>130000</td>\n",
       "      <td>39</td>\n",
       "      <td>38358</td>\n",
       "      <td>27688</td>\n",
       "      <td>24489</td>\n",
       "      <td>20616</td>\n",
       "      <td>11802</td>\n",
       "      <td>930</td>\n",
       "      <td>3000</td>\n",
       "      <td>1537</td>\n",
       "      <td>...</td>\n",
       "      <td>2000</td>\n",
       "      <td>930</td>\n",
       "      <td>33764</td>\n",
       "      <td>0</td>\n",
       "      <td>0</td>\n",
       "      <td>0</td>\n",
       "      <td>0</td>\n",
       "      <td>0</td>\n",
       "      <td>0</td>\n",
       "      <td>1</td>\n",
       "    </tr>\n",
       "    <tr>\n",
       "      <th>21</th>\n",
       "      <td>120000</td>\n",
       "      <td>39</td>\n",
       "      <td>316</td>\n",
       "      <td>316</td>\n",
       "      <td>316</td>\n",
       "      <td>0</td>\n",
       "      <td>632</td>\n",
       "      <td>316</td>\n",
       "      <td>316</td>\n",
       "      <td>316</td>\n",
       "      <td>...</td>\n",
       "      <td>632</td>\n",
       "      <td>316</td>\n",
       "      <td>0</td>\n",
       "      <td>1</td>\n",
       "      <td>0</td>\n",
       "      <td>0</td>\n",
       "      <td>0</td>\n",
       "      <td>1</td>\n",
       "      <td>0</td>\n",
       "      <td>0</td>\n",
       "    </tr>\n",
       "    <tr>\n",
       "      <th>22</th>\n",
       "      <td>70000</td>\n",
       "      <td>26</td>\n",
       "      <td>41087</td>\n",
       "      <td>42445</td>\n",
       "      <td>45020</td>\n",
       "      <td>44006</td>\n",
       "      <td>46905</td>\n",
       "      <td>46012</td>\n",
       "      <td>2007</td>\n",
       "      <td>3582</td>\n",
       "      <td>...</td>\n",
       "      <td>3601</td>\n",
       "      <td>0</td>\n",
       "      <td>1820</td>\n",
       "      <td>1</td>\n",
       "      <td>0</td>\n",
       "      <td>0</td>\n",
       "      <td>0</td>\n",
       "      <td>1</td>\n",
       "      <td>0</td>\n",
       "      <td>1</td>\n",
       "    </tr>\n",
       "    <tr>\n",
       "      <th>23</th>\n",
       "      <td>450000</td>\n",
       "      <td>40</td>\n",
       "      <td>5512</td>\n",
       "      <td>19420</td>\n",
       "      <td>1473</td>\n",
       "      <td>560</td>\n",
       "      <td>0</td>\n",
       "      <td>0</td>\n",
       "      <td>19428</td>\n",
       "      <td>1473</td>\n",
       "      <td>...</td>\n",
       "      <td>0</td>\n",
       "      <td>0</td>\n",
       "      <td>1128</td>\n",
       "      <td>1</td>\n",
       "      <td>0</td>\n",
       "      <td>1</td>\n",
       "      <td>0</td>\n",
       "      <td>0</td>\n",
       "      <td>0</td>\n",
       "      <td>0</td>\n",
       "    </tr>\n",
       "    <tr>\n",
       "      <th>24</th>\n",
       "      <td>90000</td>\n",
       "      <td>23</td>\n",
       "      <td>4744</td>\n",
       "      <td>7070</td>\n",
       "      <td>0</td>\n",
       "      <td>5398</td>\n",
       "      <td>6360</td>\n",
       "      <td>8292</td>\n",
       "      <td>5757</td>\n",
       "      <td>0</td>\n",
       "      <td>...</td>\n",
       "      <td>1200</td>\n",
       "      <td>2045</td>\n",
       "      <td>2000</td>\n",
       "      <td>0</td>\n",
       "      <td>1</td>\n",
       "      <td>1</td>\n",
       "      <td>0</td>\n",
       "      <td>0</td>\n",
       "      <td>0</td>\n",
       "      <td>1</td>\n",
       "    </tr>\n",
       "    <tr>\n",
       "      <th>25</th>\n",
       "      <td>50000</td>\n",
       "      <td>23</td>\n",
       "      <td>47620</td>\n",
       "      <td>41810</td>\n",
       "      <td>36023</td>\n",
       "      <td>28967</td>\n",
       "      <td>29829</td>\n",
       "      <td>30046</td>\n",
       "      <td>1973</td>\n",
       "      <td>1426</td>\n",
       "      <td>...</td>\n",
       "      <td>1432</td>\n",
       "      <td>1062</td>\n",
       "      <td>997</td>\n",
       "      <td>0</td>\n",
       "      <td>1</td>\n",
       "      <td>0</td>\n",
       "      <td>0</td>\n",
       "      <td>0</td>\n",
       "      <td>0</td>\n",
       "      <td>1</td>\n",
       "    </tr>\n",
       "    <tr>\n",
       "      <th>26</th>\n",
       "      <td>60000</td>\n",
       "      <td>27</td>\n",
       "      <td>-109</td>\n",
       "      <td>-425</td>\n",
       "      <td>259</td>\n",
       "      <td>-57</td>\n",
       "      <td>127</td>\n",
       "      <td>-189</td>\n",
       "      <td>0</td>\n",
       "      <td>1000</td>\n",
       "      <td>...</td>\n",
       "      <td>500</td>\n",
       "      <td>0</td>\n",
       "      <td>1000</td>\n",
       "      <td>1</td>\n",
       "      <td>1</td>\n",
       "      <td>1</td>\n",
       "      <td>0</td>\n",
       "      <td>0</td>\n",
       "      <td>0</td>\n",
       "      <td>1</td>\n",
       "    </tr>\n",
       "    <tr>\n",
       "      <th>27</th>\n",
       "      <td>50000</td>\n",
       "      <td>30</td>\n",
       "      <td>22541</td>\n",
       "      <td>16138</td>\n",
       "      <td>17163</td>\n",
       "      <td>17878</td>\n",
       "      <td>18931</td>\n",
       "      <td>19617</td>\n",
       "      <td>1300</td>\n",
       "      <td>1300</td>\n",
       "      <td>...</td>\n",
       "      <td>1500</td>\n",
       "      <td>1000</td>\n",
       "      <td>1012</td>\n",
       "      <td>0</td>\n",
       "      <td>0</td>\n",
       "      <td>0</td>\n",
       "      <td>0</td>\n",
       "      <td>0</td>\n",
       "      <td>0</td>\n",
       "      <td>1</td>\n",
       "    </tr>\n",
       "    <tr>\n",
       "      <th>28</th>\n",
       "      <td>50000</td>\n",
       "      <td>47</td>\n",
       "      <td>650</td>\n",
       "      <td>3415</td>\n",
       "      <td>3416</td>\n",
       "      <td>2040</td>\n",
       "      <td>30430</td>\n",
       "      <td>257</td>\n",
       "      <td>3415</td>\n",
       "      <td>3421</td>\n",
       "      <td>...</td>\n",
       "      <td>30430</td>\n",
       "      <td>257</td>\n",
       "      <td>0</td>\n",
       "      <td>0</td>\n",
       "      <td>0</td>\n",
       "      <td>0</td>\n",
       "      <td>0</td>\n",
       "      <td>0</td>\n",
       "      <td>0</td>\n",
       "      <td>0</td>\n",
       "    </tr>\n",
       "    <tr>\n",
       "      <th>29</th>\n",
       "      <td>50000</td>\n",
       "      <td>26</td>\n",
       "      <td>15329</td>\n",
       "      <td>16575</td>\n",
       "      <td>17496</td>\n",
       "      <td>17907</td>\n",
       "      <td>18375</td>\n",
       "      <td>11400</td>\n",
       "      <td>1500</td>\n",
       "      <td>1500</td>\n",
       "      <td>...</td>\n",
       "      <td>1000</td>\n",
       "      <td>1600</td>\n",
       "      <td>0</td>\n",
       "      <td>0</td>\n",
       "      <td>1</td>\n",
       "      <td>1</td>\n",
       "      <td>0</td>\n",
       "      <td>0</td>\n",
       "      <td>0</td>\n",
       "      <td>1</td>\n",
       "    </tr>\n",
       "    <tr>\n",
       "      <th>...</th>\n",
       "      <td>...</td>\n",
       "      <td>...</td>\n",
       "      <td>...</td>\n",
       "      <td>...</td>\n",
       "      <td>...</td>\n",
       "      <td>...</td>\n",
       "      <td>...</td>\n",
       "      <td>...</td>\n",
       "      <td>...</td>\n",
       "      <td>...</td>\n",
       "      <td>...</td>\n",
       "      <td>...</td>\n",
       "      <td>...</td>\n",
       "      <td>...</td>\n",
       "      <td>...</td>\n",
       "      <td>...</td>\n",
       "      <td>...</td>\n",
       "      <td>...</td>\n",
       "      <td>...</td>\n",
       "      <td>...</td>\n",
       "      <td>...</td>\n",
       "    </tr>\n",
       "    <tr>\n",
       "      <th>29970</th>\n",
       "      <td>360000</td>\n",
       "      <td>34</td>\n",
       "      <td>33654</td>\n",
       "      <td>52686</td>\n",
       "      <td>64069</td>\n",
       "      <td>49005</td>\n",
       "      <td>8676</td>\n",
       "      <td>19487</td>\n",
       "      <td>52951</td>\n",
       "      <td>64535</td>\n",
       "      <td>...</td>\n",
       "      <td>53</td>\n",
       "      <td>19584</td>\n",
       "      <td>16080</td>\n",
       "      <td>0</td>\n",
       "      <td>1</td>\n",
       "      <td>1</td>\n",
       "      <td>0</td>\n",
       "      <td>0</td>\n",
       "      <td>0</td>\n",
       "      <td>0</td>\n",
       "    </tr>\n",
       "    <tr>\n",
       "      <th>29971</th>\n",
       "      <td>80000</td>\n",
       "      <td>36</td>\n",
       "      <td>65554</td>\n",
       "      <td>66858</td>\n",
       "      <td>68279</td>\n",
       "      <td>69674</td>\n",
       "      <td>71070</td>\n",
       "      <td>73612</td>\n",
       "      <td>2395</td>\n",
       "      <td>2500</td>\n",
       "      <td>...</td>\n",
       "      <td>2556</td>\n",
       "      <td>3700</td>\n",
       "      <td>3000</td>\n",
       "      <td>0</td>\n",
       "      <td>1</td>\n",
       "      <td>0</td>\n",
       "      <td>0</td>\n",
       "      <td>0</td>\n",
       "      <td>0</td>\n",
       "      <td>0</td>\n",
       "    </tr>\n",
       "    <tr>\n",
       "      <th>29972</th>\n",
       "      <td>190000</td>\n",
       "      <td>37</td>\n",
       "      <td>21628</td>\n",
       "      <td>20893</td>\n",
       "      <td>5869</td>\n",
       "      <td>29223</td>\n",
       "      <td>19616</td>\n",
       "      <td>148482</td>\n",
       "      <td>2000</td>\n",
       "      <td>3869</td>\n",
       "      <td>...</td>\n",
       "      <td>10115</td>\n",
       "      <td>148482</td>\n",
       "      <td>4800</td>\n",
       "      <td>0</td>\n",
       "      <td>1</td>\n",
       "      <td>1</td>\n",
       "      <td>0</td>\n",
       "      <td>0</td>\n",
       "      <td>0</td>\n",
       "      <td>0</td>\n",
       "    </tr>\n",
       "    <tr>\n",
       "      <th>29973</th>\n",
       "      <td>230000</td>\n",
       "      <td>35</td>\n",
       "      <td>0</td>\n",
       "      <td>0</td>\n",
       "      <td>0</td>\n",
       "      <td>0</td>\n",
       "      <td>0</td>\n",
       "      <td>0</td>\n",
       "      <td>0</td>\n",
       "      <td>0</td>\n",
       "      <td>...</td>\n",
       "      <td>0</td>\n",
       "      <td>0</td>\n",
       "      <td>0</td>\n",
       "      <td>1</td>\n",
       "      <td>1</td>\n",
       "      <td>0</td>\n",
       "      <td>0</td>\n",
       "      <td>1</td>\n",
       "      <td>0</td>\n",
       "      <td>0</td>\n",
       "    </tr>\n",
       "    <tr>\n",
       "      <th>29974</th>\n",
       "      <td>50000</td>\n",
       "      <td>37</td>\n",
       "      <td>10904</td>\n",
       "      <td>9316</td>\n",
       "      <td>4328</td>\n",
       "      <td>2846</td>\n",
       "      <td>1585</td>\n",
       "      <td>1324</td>\n",
       "      <td>0</td>\n",
       "      <td>3000</td>\n",
       "      <td>...</td>\n",
       "      <td>0</td>\n",
       "      <td>1000</td>\n",
       "      <td>1000</td>\n",
       "      <td>1</td>\n",
       "      <td>1</td>\n",
       "      <td>0</td>\n",
       "      <td>0</td>\n",
       "      <td>1</td>\n",
       "      <td>0</td>\n",
       "      <td>0</td>\n",
       "    </tr>\n",
       "    <tr>\n",
       "      <th>29975</th>\n",
       "      <td>220000</td>\n",
       "      <td>41</td>\n",
       "      <td>45075</td>\n",
       "      <td>8840</td>\n",
       "      <td>1369</td>\n",
       "      <td>5924</td>\n",
       "      <td>1759</td>\n",
       "      <td>1824</td>\n",
       "      <td>8840</td>\n",
       "      <td>6643</td>\n",
       "      <td>...</td>\n",
       "      <td>1759</td>\n",
       "      <td>1824</td>\n",
       "      <td>7022</td>\n",
       "      <td>0</td>\n",
       "      <td>1</td>\n",
       "      <td>0</td>\n",
       "      <td>0</td>\n",
       "      <td>1</td>\n",
       "      <td>0</td>\n",
       "      <td>0</td>\n",
       "    </tr>\n",
       "    <tr>\n",
       "      <th>29976</th>\n",
       "      <td>40000</td>\n",
       "      <td>47</td>\n",
       "      <td>52358</td>\n",
       "      <td>54892</td>\n",
       "      <td>53415</td>\n",
       "      <td>51259</td>\n",
       "      <td>47151</td>\n",
       "      <td>46934</td>\n",
       "      <td>4000</td>\n",
       "      <td>0</td>\n",
       "      <td>...</td>\n",
       "      <td>0</td>\n",
       "      <td>3520</td>\n",
       "      <td>0</td>\n",
       "      <td>1</td>\n",
       "      <td>1</td>\n",
       "      <td>0</td>\n",
       "      <td>0</td>\n",
       "      <td>1</td>\n",
       "      <td>0</td>\n",
       "      <td>1</td>\n",
       "    </tr>\n",
       "    <tr>\n",
       "      <th>29977</th>\n",
       "      <td>420000</td>\n",
       "      <td>34</td>\n",
       "      <td>131939</td>\n",
       "      <td>136721</td>\n",
       "      <td>140011</td>\n",
       "      <td>141695</td>\n",
       "      <td>144839</td>\n",
       "      <td>147954</td>\n",
       "      <td>7000</td>\n",
       "      <td>7000</td>\n",
       "      <td>...</td>\n",
       "      <td>5500</td>\n",
       "      <td>5600</td>\n",
       "      <td>5000</td>\n",
       "      <td>0</td>\n",
       "      <td>1</td>\n",
       "      <td>1</td>\n",
       "      <td>0</td>\n",
       "      <td>0</td>\n",
       "      <td>0</td>\n",
       "      <td>1</td>\n",
       "    </tr>\n",
       "    <tr>\n",
       "      <th>29978</th>\n",
       "      <td>310000</td>\n",
       "      <td>39</td>\n",
       "      <td>238973</td>\n",
       "      <td>237196</td>\n",
       "      <td>233854</td>\n",
       "      <td>219409</td>\n",
       "      <td>216540</td>\n",
       "      <td>210675</td>\n",
       "      <td>10029</td>\n",
       "      <td>9218</td>\n",
       "      <td>...</td>\n",
       "      <td>8049</td>\n",
       "      <td>8040</td>\n",
       "      <td>10059</td>\n",
       "      <td>0</td>\n",
       "      <td>1</td>\n",
       "      <td>0</td>\n",
       "      <td>0</td>\n",
       "      <td>1</td>\n",
       "      <td>0</td>\n",
       "      <td>0</td>\n",
       "    </tr>\n",
       "    <tr>\n",
       "      <th>29979</th>\n",
       "      <td>180000</td>\n",
       "      <td>32</td>\n",
       "      <td>0</td>\n",
       "      <td>0</td>\n",
       "      <td>0</td>\n",
       "      <td>0</td>\n",
       "      <td>0</td>\n",
       "      <td>0</td>\n",
       "      <td>0</td>\n",
       "      <td>0</td>\n",
       "      <td>...</td>\n",
       "      <td>0</td>\n",
       "      <td>0</td>\n",
       "      <td>0</td>\n",
       "      <td>0</td>\n",
       "      <td>1</td>\n",
       "      <td>1</td>\n",
       "      <td>0</td>\n",
       "      <td>0</td>\n",
       "      <td>0</td>\n",
       "      <td>0</td>\n",
       "    </tr>\n",
       "    <tr>\n",
       "      <th>29980</th>\n",
       "      <td>50000</td>\n",
       "      <td>42</td>\n",
       "      <td>43998</td>\n",
       "      <td>49123</td>\n",
       "      <td>49397</td>\n",
       "      <td>50360</td>\n",
       "      <td>19971</td>\n",
       "      <td>19694</td>\n",
       "      <td>10000</td>\n",
       "      <td>4000</td>\n",
       "      <td>...</td>\n",
       "      <td>3000</td>\n",
       "      <td>4500</td>\n",
       "      <td>2000</td>\n",
       "      <td>0</td>\n",
       "      <td>1</td>\n",
       "      <td>0</td>\n",
       "      <td>0</td>\n",
       "      <td>0</td>\n",
       "      <td>0</td>\n",
       "      <td>1</td>\n",
       "    </tr>\n",
       "    <tr>\n",
       "      <th>29981</th>\n",
       "      <td>50000</td>\n",
       "      <td>44</td>\n",
       "      <td>38671</td>\n",
       "      <td>36772</td>\n",
       "      <td>33101</td>\n",
       "      <td>28192</td>\n",
       "      <td>22676</td>\n",
       "      <td>14647</td>\n",
       "      <td>2300</td>\n",
       "      <td>1700</td>\n",
       "      <td>...</td>\n",
       "      <td>517</td>\n",
       "      <td>503</td>\n",
       "      <td>585</td>\n",
       "      <td>0</td>\n",
       "      <td>1</td>\n",
       "      <td>0</td>\n",
       "      <td>0</td>\n",
       "      <td>1</td>\n",
       "      <td>0</td>\n",
       "      <td>0</td>\n",
       "    </tr>\n",
       "    <tr>\n",
       "      <th>29982</th>\n",
       "      <td>90000</td>\n",
       "      <td>36</td>\n",
       "      <td>7752</td>\n",
       "      <td>9112</td>\n",
       "      <td>10306</td>\n",
       "      <td>11328</td>\n",
       "      <td>12036</td>\n",
       "      <td>14329</td>\n",
       "      <td>1500</td>\n",
       "      <td>1500</td>\n",
       "      <td>...</td>\n",
       "      <td>1200</td>\n",
       "      <td>2500</td>\n",
       "      <td>0</td>\n",
       "      <td>1</td>\n",
       "      <td>1</td>\n",
       "      <td>0</td>\n",
       "      <td>0</td>\n",
       "      <td>1</td>\n",
       "      <td>0</td>\n",
       "      <td>0</td>\n",
       "    </tr>\n",
       "    <tr>\n",
       "      <th>29983</th>\n",
       "      <td>20000</td>\n",
       "      <td>44</td>\n",
       "      <td>1822</td>\n",
       "      <td>2872</td>\n",
       "      <td>2712</td>\n",
       "      <td>2882</td>\n",
       "      <td>9235</td>\n",
       "      <td>1719</td>\n",
       "      <td>2890</td>\n",
       "      <td>2720</td>\n",
       "      <td>...</td>\n",
       "      <td>9263</td>\n",
       "      <td>1824</td>\n",
       "      <td>1701</td>\n",
       "      <td>0</td>\n",
       "      <td>1</td>\n",
       "      <td>0</td>\n",
       "      <td>0</td>\n",
       "      <td>1</td>\n",
       "      <td>0</td>\n",
       "      <td>0</td>\n",
       "    </tr>\n",
       "    <tr>\n",
       "      <th>29984</th>\n",
       "      <td>30000</td>\n",
       "      <td>38</td>\n",
       "      <td>315</td>\n",
       "      <td>923</td>\n",
       "      <td>2939</td>\n",
       "      <td>1993</td>\n",
       "      <td>1907</td>\n",
       "      <td>3319</td>\n",
       "      <td>923</td>\n",
       "      <td>2977</td>\n",
       "      <td>...</td>\n",
       "      <td>3057</td>\n",
       "      <td>3319</td>\n",
       "      <td>1000</td>\n",
       "      <td>0</td>\n",
       "      <td>1</td>\n",
       "      <td>0</td>\n",
       "      <td>0</td>\n",
       "      <td>1</td>\n",
       "      <td>0</td>\n",
       "      <td>1</td>\n",
       "    </tr>\n",
       "    <tr>\n",
       "      <th>29985</th>\n",
       "      <td>240000</td>\n",
       "      <td>30</td>\n",
       "      <td>0</td>\n",
       "      <td>0</td>\n",
       "      <td>0</td>\n",
       "      <td>0</td>\n",
       "      <td>0</td>\n",
       "      <td>0</td>\n",
       "      <td>0</td>\n",
       "      <td>0</td>\n",
       "      <td>...</td>\n",
       "      <td>0</td>\n",
       "      <td>0</td>\n",
       "      <td>0</td>\n",
       "      <td>0</td>\n",
       "      <td>1</td>\n",
       "      <td>1</td>\n",
       "      <td>0</td>\n",
       "      <td>0</td>\n",
       "      <td>0</td>\n",
       "      <td>1</td>\n",
       "    </tr>\n",
       "    <tr>\n",
       "      <th>29986</th>\n",
       "      <td>360000</td>\n",
       "      <td>35</td>\n",
       "      <td>2220</td>\n",
       "      <td>0</td>\n",
       "      <td>0</td>\n",
       "      <td>0</td>\n",
       "      <td>0</td>\n",
       "      <td>0</td>\n",
       "      <td>0</td>\n",
       "      <td>0</td>\n",
       "      <td>...</td>\n",
       "      <td>0</td>\n",
       "      <td>0</td>\n",
       "      <td>0</td>\n",
       "      <td>0</td>\n",
       "      <td>1</td>\n",
       "      <td>1</td>\n",
       "      <td>0</td>\n",
       "      <td>0</td>\n",
       "      <td>0</td>\n",
       "      <td>1</td>\n",
       "    </tr>\n",
       "    <tr>\n",
       "      <th>29987</th>\n",
       "      <td>130000</td>\n",
       "      <td>34</td>\n",
       "      <td>23292</td>\n",
       "      <td>14077</td>\n",
       "      <td>15546</td>\n",
       "      <td>108047</td>\n",
       "      <td>93708</td>\n",
       "      <td>97353</td>\n",
       "      <td>3000</td>\n",
       "      <td>2000</td>\n",
       "      <td>...</td>\n",
       "      <td>4000</td>\n",
       "      <td>5027</td>\n",
       "      <td>4005</td>\n",
       "      <td>0</td>\n",
       "      <td>1</td>\n",
       "      <td>1</td>\n",
       "      <td>0</td>\n",
       "      <td>0</td>\n",
       "      <td>0</td>\n",
       "      <td>1</td>\n",
       "    </tr>\n",
       "    <tr>\n",
       "      <th>29988</th>\n",
       "      <td>250000</td>\n",
       "      <td>34</td>\n",
       "      <td>279640</td>\n",
       "      <td>252913</td>\n",
       "      <td>243075</td>\n",
       "      <td>245750</td>\n",
       "      <td>175005</td>\n",
       "      <td>179687</td>\n",
       "      <td>65000</td>\n",
       "      <td>8800</td>\n",
       "      <td>...</td>\n",
       "      <td>6000</td>\n",
       "      <td>7000</td>\n",
       "      <td>6009</td>\n",
       "      <td>0</td>\n",
       "      <td>1</td>\n",
       "      <td>1</td>\n",
       "      <td>0</td>\n",
       "      <td>0</td>\n",
       "      <td>0</td>\n",
       "      <td>0</td>\n",
       "    </tr>\n",
       "    <tr>\n",
       "      <th>29989</th>\n",
       "      <td>150000</td>\n",
       "      <td>35</td>\n",
       "      <td>3425</td>\n",
       "      <td>9009</td>\n",
       "      <td>-3</td>\n",
       "      <td>780</td>\n",
       "      <td>0</td>\n",
       "      <td>0</td>\n",
       "      <td>9054</td>\n",
       "      <td>0</td>\n",
       "      <td>...</td>\n",
       "      <td>0</td>\n",
       "      <td>0</td>\n",
       "      <td>0</td>\n",
       "      <td>0</td>\n",
       "      <td>1</td>\n",
       "      <td>1</td>\n",
       "      <td>0</td>\n",
       "      <td>0</td>\n",
       "      <td>0</td>\n",
       "      <td>1</td>\n",
       "    </tr>\n",
       "    <tr>\n",
       "      <th>29990</th>\n",
       "      <td>140000</td>\n",
       "      <td>41</td>\n",
       "      <td>138325</td>\n",
       "      <td>137142</td>\n",
       "      <td>139110</td>\n",
       "      <td>138262</td>\n",
       "      <td>49675</td>\n",
       "      <td>46121</td>\n",
       "      <td>6000</td>\n",
       "      <td>7000</td>\n",
       "      <td>...</td>\n",
       "      <td>1505</td>\n",
       "      <td>2000</td>\n",
       "      <td>2000</td>\n",
       "      <td>0</td>\n",
       "      <td>1</td>\n",
       "      <td>0</td>\n",
       "      <td>0</td>\n",
       "      <td>1</td>\n",
       "      <td>0</td>\n",
       "      <td>0</td>\n",
       "    </tr>\n",
       "    <tr>\n",
       "      <th>29991</th>\n",
       "      <td>210000</td>\n",
       "      <td>34</td>\n",
       "      <td>2500</td>\n",
       "      <td>2500</td>\n",
       "      <td>2500</td>\n",
       "      <td>2500</td>\n",
       "      <td>2500</td>\n",
       "      <td>2500</td>\n",
       "      <td>0</td>\n",
       "      <td>0</td>\n",
       "      <td>...</td>\n",
       "      <td>0</td>\n",
       "      <td>0</td>\n",
       "      <td>0</td>\n",
       "      <td>1</td>\n",
       "      <td>1</td>\n",
       "      <td>0</td>\n",
       "      <td>0</td>\n",
       "      <td>1</td>\n",
       "      <td>0</td>\n",
       "      <td>0</td>\n",
       "    </tr>\n",
       "    <tr>\n",
       "      <th>29992</th>\n",
       "      <td>10000</td>\n",
       "      <td>43</td>\n",
       "      <td>8802</td>\n",
       "      <td>10400</td>\n",
       "      <td>0</td>\n",
       "      <td>0</td>\n",
       "      <td>0</td>\n",
       "      <td>0</td>\n",
       "      <td>2000</td>\n",
       "      <td>0</td>\n",
       "      <td>...</td>\n",
       "      <td>0</td>\n",
       "      <td>0</td>\n",
       "      <td>0</td>\n",
       "      <td>0</td>\n",
       "      <td>1</td>\n",
       "      <td>0</td>\n",
       "      <td>0</td>\n",
       "      <td>0</td>\n",
       "      <td>0</td>\n",
       "      <td>0</td>\n",
       "    </tr>\n",
       "    <tr>\n",
       "      <th>29993</th>\n",
       "      <td>100000</td>\n",
       "      <td>38</td>\n",
       "      <td>3042</td>\n",
       "      <td>1427</td>\n",
       "      <td>102996</td>\n",
       "      <td>70626</td>\n",
       "      <td>69473</td>\n",
       "      <td>55004</td>\n",
       "      <td>2000</td>\n",
       "      <td>111784</td>\n",
       "      <td>...</td>\n",
       "      <td>3000</td>\n",
       "      <td>2000</td>\n",
       "      <td>2000</td>\n",
       "      <td>0</td>\n",
       "      <td>1</td>\n",
       "      <td>1</td>\n",
       "      <td>0</td>\n",
       "      <td>0</td>\n",
       "      <td>0</td>\n",
       "      <td>1</td>\n",
       "    </tr>\n",
       "    <tr>\n",
       "      <th>29994</th>\n",
       "      <td>80000</td>\n",
       "      <td>34</td>\n",
       "      <td>72557</td>\n",
       "      <td>77708</td>\n",
       "      <td>79384</td>\n",
       "      <td>77519</td>\n",
       "      <td>82607</td>\n",
       "      <td>81158</td>\n",
       "      <td>7000</td>\n",
       "      <td>3500</td>\n",
       "      <td>...</td>\n",
       "      <td>7000</td>\n",
       "      <td>0</td>\n",
       "      <td>4000</td>\n",
       "      <td>1</td>\n",
       "      <td>1</td>\n",
       "      <td>0</td>\n",
       "      <td>0</td>\n",
       "      <td>1</td>\n",
       "      <td>0</td>\n",
       "      <td>1</td>\n",
       "    </tr>\n",
       "    <tr>\n",
       "      <th>29995</th>\n",
       "      <td>220000</td>\n",
       "      <td>39</td>\n",
       "      <td>188948</td>\n",
       "      <td>192815</td>\n",
       "      <td>208365</td>\n",
       "      <td>88004</td>\n",
       "      <td>31237</td>\n",
       "      <td>15980</td>\n",
       "      <td>8500</td>\n",
       "      <td>20000</td>\n",
       "      <td>...</td>\n",
       "      <td>3047</td>\n",
       "      <td>5000</td>\n",
       "      <td>1000</td>\n",
       "      <td>0</td>\n",
       "      <td>1</td>\n",
       "      <td>0</td>\n",
       "      <td>0</td>\n",
       "      <td>0</td>\n",
       "      <td>0</td>\n",
       "      <td>0</td>\n",
       "    </tr>\n",
       "    <tr>\n",
       "      <th>29996</th>\n",
       "      <td>150000</td>\n",
       "      <td>43</td>\n",
       "      <td>1683</td>\n",
       "      <td>1828</td>\n",
       "      <td>3502</td>\n",
       "      <td>8979</td>\n",
       "      <td>5190</td>\n",
       "      <td>0</td>\n",
       "      <td>1837</td>\n",
       "      <td>3526</td>\n",
       "      <td>...</td>\n",
       "      <td>129</td>\n",
       "      <td>0</td>\n",
       "      <td>0</td>\n",
       "      <td>0</td>\n",
       "      <td>1</td>\n",
       "      <td>0</td>\n",
       "      <td>0</td>\n",
       "      <td>0</td>\n",
       "      <td>0</td>\n",
       "      <td>1</td>\n",
       "    </tr>\n",
       "    <tr>\n",
       "      <th>29997</th>\n",
       "      <td>30000</td>\n",
       "      <td>37</td>\n",
       "      <td>3565</td>\n",
       "      <td>3356</td>\n",
       "      <td>2758</td>\n",
       "      <td>20878</td>\n",
       "      <td>20582</td>\n",
       "      <td>19357</td>\n",
       "      <td>0</td>\n",
       "      <td>0</td>\n",
       "      <td>...</td>\n",
       "      <td>4200</td>\n",
       "      <td>2000</td>\n",
       "      <td>3100</td>\n",
       "      <td>1</td>\n",
       "      <td>1</td>\n",
       "      <td>0</td>\n",
       "      <td>0</td>\n",
       "      <td>1</td>\n",
       "      <td>0</td>\n",
       "      <td>1</td>\n",
       "    </tr>\n",
       "    <tr>\n",
       "      <th>29998</th>\n",
       "      <td>80000</td>\n",
       "      <td>41</td>\n",
       "      <td>-1645</td>\n",
       "      <td>78379</td>\n",
       "      <td>76304</td>\n",
       "      <td>52774</td>\n",
       "      <td>11855</td>\n",
       "      <td>48944</td>\n",
       "      <td>85900</td>\n",
       "      <td>3409</td>\n",
       "      <td>...</td>\n",
       "      <td>1926</td>\n",
       "      <td>52964</td>\n",
       "      <td>1804</td>\n",
       "      <td>1</td>\n",
       "      <td>1</td>\n",
       "      <td>0</td>\n",
       "      <td>0</td>\n",
       "      <td>0</td>\n",
       "      <td>0</td>\n",
       "      <td>0</td>\n",
       "    </tr>\n",
       "    <tr>\n",
       "      <th>29999</th>\n",
       "      <td>50000</td>\n",
       "      <td>46</td>\n",
       "      <td>47929</td>\n",
       "      <td>48905</td>\n",
       "      <td>49764</td>\n",
       "      <td>36535</td>\n",
       "      <td>32428</td>\n",
       "      <td>15313</td>\n",
       "      <td>2078</td>\n",
       "      <td>1800</td>\n",
       "      <td>...</td>\n",
       "      <td>1000</td>\n",
       "      <td>1000</td>\n",
       "      <td>1000</td>\n",
       "      <td>1</td>\n",
       "      <td>1</td>\n",
       "      <td>0</td>\n",
       "      <td>0</td>\n",
       "      <td>1</td>\n",
       "      <td>0</td>\n",
       "      <td>0</td>\n",
       "    </tr>\n",
       "  </tbody>\n",
       "</table>\n",
       "<p>30000 rows × 21 columns</p>\n",
       "</div>"
      ],
      "text/plain": [
       "       credit  age  bill_sep05  bill_aug05  bill_jul05  bill_jun05  \\\n",
       "0       20000   24        3913        3102         689           0   \n",
       "1      120000   26        2682        1725        2682        3272   \n",
       "2       90000   34       29239       14027       13559       14331   \n",
       "3       50000   37       46990       48233       49291       28314   \n",
       "4       50000   57        8617        5670       35835       20940   \n",
       "5       50000   37       64400       57069       57608       19394   \n",
       "6      500000   29      367965      412023      445007      542653   \n",
       "7      100000   23       11876         380         601         221   \n",
       "8      140000   28       11285       14096       12108       12211   \n",
       "9       20000   35           0           0           0           0   \n",
       "10     200000   34       11073        9787        5535        2513   \n",
       "11     260000   51       12261       21670        9966        8517   \n",
       "12     630000   41       12137        6500        6500        6500   \n",
       "13      70000   30       65802       67369       65701       66782   \n",
       "14     250000   29       70887       67060       63561       59696   \n",
       "15      50000   23       50614       29173       28116       28771   \n",
       "16      20000   24       15376       18010       17428       18338   \n",
       "17     320000   49      253286      246536      194663       70074   \n",
       "18     360000   49           0           0           0           0   \n",
       "19     180000   29           0           0           0           0   \n",
       "20     130000   39       38358       27688       24489       20616   \n",
       "21     120000   39         316         316         316           0   \n",
       "22      70000   26       41087       42445       45020       44006   \n",
       "23     450000   40        5512       19420        1473         560   \n",
       "24      90000   23        4744        7070           0        5398   \n",
       "25      50000   23       47620       41810       36023       28967   \n",
       "26      60000   27        -109        -425         259         -57   \n",
       "27      50000   30       22541       16138       17163       17878   \n",
       "28      50000   47         650        3415        3416        2040   \n",
       "29      50000   26       15329       16575       17496       17907   \n",
       "...       ...  ...         ...         ...         ...         ...   \n",
       "29970  360000   34       33654       52686       64069       49005   \n",
       "29971   80000   36       65554       66858       68279       69674   \n",
       "29972  190000   37       21628       20893        5869       29223   \n",
       "29973  230000   35           0           0           0           0   \n",
       "29974   50000   37       10904        9316        4328        2846   \n",
       "29975  220000   41       45075        8840        1369        5924   \n",
       "29976   40000   47       52358       54892       53415       51259   \n",
       "29977  420000   34      131939      136721      140011      141695   \n",
       "29978  310000   39      238973      237196      233854      219409   \n",
       "29979  180000   32           0           0           0           0   \n",
       "29980   50000   42       43998       49123       49397       50360   \n",
       "29981   50000   44       38671       36772       33101       28192   \n",
       "29982   90000   36        7752        9112       10306       11328   \n",
       "29983   20000   44        1822        2872        2712        2882   \n",
       "29984   30000   38         315         923        2939        1993   \n",
       "29985  240000   30           0           0           0           0   \n",
       "29986  360000   35        2220           0           0           0   \n",
       "29987  130000   34       23292       14077       15546      108047   \n",
       "29988  250000   34      279640      252913      243075      245750   \n",
       "29989  150000   35        3425        9009          -3         780   \n",
       "29990  140000   41      138325      137142      139110      138262   \n",
       "29991  210000   34        2500        2500        2500        2500   \n",
       "29992   10000   43        8802       10400           0           0   \n",
       "29993  100000   38        3042        1427      102996       70626   \n",
       "29994   80000   34       72557       77708       79384       77519   \n",
       "29995  220000   39      188948      192815      208365       88004   \n",
       "29996  150000   43        1683        1828        3502        8979   \n",
       "29997   30000   37        3565        3356        2758       20878   \n",
       "29998   80000   41       -1645       78379       76304       52774   \n",
       "29999   50000   46       47929       48905       49764       36535   \n",
       "\n",
       "       bill_may05  bill_apr05  paid_sep05  paid_aug05          ...            \\\n",
       "0               0           0           0         689          ...             \n",
       "1            3455        3261           0        1000          ...             \n",
       "2           14948       15549        1518        1500          ...             \n",
       "3           28959       29547        2000        2019          ...             \n",
       "4           19146       19131        2000       36681          ...             \n",
       "5           19619       20024        2500        1815          ...             \n",
       "6          483003      473944       55000       40000          ...             \n",
       "7            -159         567         380         601          ...             \n",
       "8           11793        3719        3329           0          ...             \n",
       "9           13007       13912           0           0          ...             \n",
       "10           1828        3731        2306          12          ...             \n",
       "11          22287       13668       21818        9966          ...             \n",
       "12           6500        2870        1000        6500          ...             \n",
       "13          36137       36894        3200           0          ...             \n",
       "14          56875       55512        3000        3000          ...             \n",
       "15          29531       30211           0        1500          ...             \n",
       "16          17905       19104        3200           0          ...             \n",
       "17           5856      195599       10358       10000          ...             \n",
       "18              0           0           0           0          ...             \n",
       "19              0           0           0           0          ...             \n",
       "20          11802         930        3000        1537          ...             \n",
       "21            632         316         316         316          ...             \n",
       "22          46905       46012        2007        3582          ...             \n",
       "23              0           0       19428        1473          ...             \n",
       "24           6360        8292        5757           0          ...             \n",
       "25          29829       30046        1973        1426          ...             \n",
       "26            127        -189           0        1000          ...             \n",
       "27          18931       19617        1300        1300          ...             \n",
       "28          30430         257        3415        3421          ...             \n",
       "29          18375       11400        1500        1500          ...             \n",
       "...           ...         ...         ...         ...          ...             \n",
       "29970        8676       19487       52951       64535          ...             \n",
       "29971       71070       73612        2395        2500          ...             \n",
       "29972       19616      148482        2000        3869          ...             \n",
       "29973           0           0           0           0          ...             \n",
       "29974        1585        1324           0        3000          ...             \n",
       "29975        1759        1824        8840        6643          ...             \n",
       "29976       47151       46934        4000           0          ...             \n",
       "29977      144839      147954        7000        7000          ...             \n",
       "29978      216540      210675       10029        9218          ...             \n",
       "29979           0           0           0           0          ...             \n",
       "29980       19971       19694       10000        4000          ...             \n",
       "29981       22676       14647        2300        1700          ...             \n",
       "29982       12036       14329        1500        1500          ...             \n",
       "29983        9235        1719        2890        2720          ...             \n",
       "29984        1907        3319         923        2977          ...             \n",
       "29985           0           0           0           0          ...             \n",
       "29986           0           0           0           0          ...             \n",
       "29987       93708       97353        3000        2000          ...             \n",
       "29988      175005      179687       65000        8800          ...             \n",
       "29989           0           0        9054           0          ...             \n",
       "29990       49675       46121        6000        7000          ...             \n",
       "29991        2500        2500           0           0          ...             \n",
       "29992           0           0        2000           0          ...             \n",
       "29993       69473       55004        2000      111784          ...             \n",
       "29994       82607       81158        7000        3500          ...             \n",
       "29995       31237       15980        8500       20000          ...             \n",
       "29996        5190           0        1837        3526          ...             \n",
       "29997       20582       19357           0           0          ...             \n",
       "29998       11855       48944       85900        3409          ...             \n",
       "29999       32428       15313        2078        1800          ...             \n",
       "\n",
       "       paid_jun05  paid_may05  paid_apr05  default  sex_male  \\\n",
       "0               0           0           0        1         0   \n",
       "1            1000           0        2000        1         0   \n",
       "2            1000        1000        5000        0         0   \n",
       "3            1100        1069        1000        0         0   \n",
       "4            9000         689         679        0         1   \n",
       "5            1000        1000         800        0         1   \n",
       "6           20239       13750       13770        0         1   \n",
       "7             581        1687        1542        0         0   \n",
       "8            1000        1000        1000        0         0   \n",
       "9           13007        1122           0        0         1   \n",
       "10            300        3738          66        0         0   \n",
       "11          22301           0        3640        0         0   \n",
       "12           6500        2870           0        0         0   \n",
       "13           3000        1500           0        1         1   \n",
       "14           3000        3000        3000        0         1   \n",
       "15           1200        1300        1100        0         0   \n",
       "16              0        1650           0        1         1   \n",
       "17          20000      195599       50000        0         1   \n",
       "18              0           0           0        0         0   \n",
       "19              0           0           0        0         0   \n",
       "20           2000         930       33764        0         0   \n",
       "21            632         316           0        1         0   \n",
       "22           3601           0        1820        1         0   \n",
       "23              0           0        1128        1         0   \n",
       "24           1200        2045        2000        0         1   \n",
       "25           1432        1062         997        0         1   \n",
       "26            500           0        1000        1         1   \n",
       "27           1500        1000        1012        0         0   \n",
       "28          30430         257           0        0         0   \n",
       "29           1000        1600           0        0         1   \n",
       "...           ...         ...         ...      ...       ...   \n",
       "29970          53       19584       16080        0         1   \n",
       "29971        2556        3700        3000        0         1   \n",
       "29972       10115      148482        4800        0         1   \n",
       "29973           0           0           0        1         1   \n",
       "29974           0        1000        1000        1         1   \n",
       "29975        1759        1824        7022        0         1   \n",
       "29976           0        3520           0        1         1   \n",
       "29977        5500        5600        5000        0         1   \n",
       "29978        8049        8040       10059        0         1   \n",
       "29979           0           0           0        0         1   \n",
       "29980        3000        4500        2000        0         1   \n",
       "29981         517         503         585        0         1   \n",
       "29982        1200        2500           0        1         1   \n",
       "29983        9263        1824        1701        0         1   \n",
       "29984        3057        3319        1000        0         1   \n",
       "29985           0           0           0        0         1   \n",
       "29986           0           0           0        0         1   \n",
       "29987        4000        5027        4005        0         1   \n",
       "29988        6000        7000        6009        0         1   \n",
       "29989           0           0           0        0         1   \n",
       "29990        1505        2000        2000        0         1   \n",
       "29991           0           0           0        1         1   \n",
       "29992           0           0           0        0         1   \n",
       "29993        3000        2000        2000        0         1   \n",
       "29994        7000           0        4000        1         1   \n",
       "29995        3047        5000        1000        0         1   \n",
       "29996         129           0           0        0         1   \n",
       "29997        4200        2000        3100        1         1   \n",
       "29998        1926       52964        1804        1         1   \n",
       "29999        1000        1000        1000        1         1   \n",
       "\n",
       "       education_gradaute  education_other  education_undergraduate  \\\n",
       "0                       0                0                        1   \n",
       "1                       0                0                        1   \n",
       "2                       0                0                        1   \n",
       "3                       0                0                        1   \n",
       "4                       0                0                        1   \n",
       "5                       1                0                        0   \n",
       "6                       1                0                        0   \n",
       "7                       0                0                        1   \n",
       "8                       0                0                        0   \n",
       "9                       0                0                        0   \n",
       "10                      0                0                        0   \n",
       "11                      1                0                        0   \n",
       "12                      0                0                        1   \n",
       "13                      0                0                        1   \n",
       "14                      1                0                        0   \n",
       "15                      0                0                        0   \n",
       "16                      1                0                        0   \n",
       "17                      1                0                        0   \n",
       "18                      1                0                        0   \n",
       "19                      1                0                        0   \n",
       "20                      0                0                        0   \n",
       "21                      0                0                        1   \n",
       "22                      0                0                        1   \n",
       "23                      1                0                        0   \n",
       "24                      1                0                        0   \n",
       "25                      0                0                        0   \n",
       "26                      1                0                        0   \n",
       "27                      0                0                        0   \n",
       "28                      0                0                        0   \n",
       "29                      1                0                        0   \n",
       "...                   ...              ...                      ...   \n",
       "29970                   1                0                        0   \n",
       "29971                   0                0                        0   \n",
       "29972                   1                0                        0   \n",
       "29973                   0                0                        1   \n",
       "29974                   0                0                        1   \n",
       "29975                   0                0                        1   \n",
       "29976                   0                0                        1   \n",
       "29977                   1                0                        0   \n",
       "29978                   0                0                        1   \n",
       "29979                   1                0                        0   \n",
       "29980                   0                0                        0   \n",
       "29981                   0                0                        1   \n",
       "29982                   0                0                        1   \n",
       "29983                   0                0                        1   \n",
       "29984                   0                0                        1   \n",
       "29985                   1                0                        0   \n",
       "29986                   1                0                        0   \n",
       "29987                   1                0                        0   \n",
       "29988                   1                0                        0   \n",
       "29989                   1                0                        0   \n",
       "29990                   0                0                        1   \n",
       "29991                   0                0                        1   \n",
       "29992                   0                0                        0   \n",
       "29993                   1                0                        0   \n",
       "29994                   0                0                        1   \n",
       "29995                   0                0                        0   \n",
       "29996                   0                0                        0   \n",
       "29997                   0                0                        1   \n",
       "29998                   0                0                        0   \n",
       "29999                   0                0                        1   \n",
       "\n",
       "       marital_status_other  marital_status_single  \n",
       "0                         0                      0  \n",
       "1                         0                      1  \n",
       "2                         0                      1  \n",
       "3                         0                      0  \n",
       "4                         0                      0  \n",
       "5                         0                      1  \n",
       "6                         0                      1  \n",
       "7                         0                      1  \n",
       "8                         0                      0  \n",
       "9                         0                      1  \n",
       "10                        0                      1  \n",
       "11                        0                      1  \n",
       "12                        0                      1  \n",
       "13                        0                      1  \n",
       "14                        0                      1  \n",
       "15                        1                      0  \n",
       "16                        0                      1  \n",
       "17                        0                      0  \n",
       "18                        0                      0  \n",
       "19                        0                      1  \n",
       "20                        0                      1  \n",
       "21                        0                      0  \n",
       "22                        0                      1  \n",
       "23                        0                      0  \n",
       "24                        0                      1  \n",
       "25                        0                      1  \n",
       "26                        0                      1  \n",
       "27                        0                      1  \n",
       "28                        0                      0  \n",
       "29                        0                      1  \n",
       "...                     ...                    ...  \n",
       "29970                     0                      0  \n",
       "29971                     0                      0  \n",
       "29972                     0                      0  \n",
       "29973                     0                      0  \n",
       "29974                     0                      0  \n",
       "29975                     0                      0  \n",
       "29976                     0                      1  \n",
       "29977                     0                      1  \n",
       "29978                     0                      0  \n",
       "29979                     0                      0  \n",
       "29980                     0                      1  \n",
       "29981                     0                      0  \n",
       "29982                     0                      0  \n",
       "29983                     0                      0  \n",
       "29984                     0                      1  \n",
       "29985                     0                      1  \n",
       "29986                     0                      1  \n",
       "29987                     0                      1  \n",
       "29988                     0                      0  \n",
       "29989                     0                      1  \n",
       "29990                     0                      0  \n",
       "29991                     0                      0  \n",
       "29992                     0                      0  \n",
       "29993                     0                      1  \n",
       "29994                     0                      1  \n",
       "29995                     0                      0  \n",
       "29996                     0                      1  \n",
       "29997                     0                      1  \n",
       "29998                     0                      0  \n",
       "29999                     0                      0  \n",
       "\n",
       "[30000 rows x 21 columns]"
      ]
     },
     "execution_count": 9,
     "metadata": {},
     "output_type": "execute_result"
    }
   ],
   "source": [
    "defaults = pd.get_dummies(defaults_raw, drop_first=True)             # SOLUTION\n",
    "defaults"
   ]
  },
  {
   "cell_type": "code",
   "execution_count": null,
   "metadata": {
    "deletable": false,
    "editable": false
   },
   "outputs": [],
   "source": [
    "grader.check(\"q0_2\")"
   ]
  },
  {
   "cell_type": "markdown",
   "metadata": {
    "cell_id": "00015-2bf5d447-10a8-4383-afb9-dfeb2517fe68",
    "deepnote_cell_type": "markdown",
    "output_cleared": false,
    "tags": [
     "ignore"
    ]
   },
   "source": [
    "## Part 1: Single Variable OLS\n",
    "\n",
    "We'll start by doing some single variable linear regression, ala Data 8. To begin, recall that we can model $y$ based on $x$ using the form\n",
    "\n",
    "$$\\Large\n",
    "\\hat{y} = \\hat{\\alpha} + \\hat{\\beta} x\n",
    "$$\n",
    "\n",
    "We can define the **correlation coefficient** of two values to be the mean of the product of their values in standard units."
   ]
  },
  {
   "cell_type": "markdown",
   "metadata": {
    "cell_id": "00016-211dbb4c-aff9-43ad-b4c2-7c95c7d1274e",
    "deepnote_cell_type": "markdown",
    "deletable": false,
    "editable": false,
    "output_cleared": false
   },
   "source": [
    "**Question 1.1:** Complete the `corr` function below to compute the correlation coefficient of two arrays `x` and `y` based on the formula\n",
    "\n",
    "$$\\Large\n",
    "r = \\text{mean} \\left ( x_\\text{SU} \\cdot y_\\text{SU} \\right )\n",
    "$$\n",
    "\n",
    "_Hint:_ You may find the `su` function, which converts an array to standard units, helpful.\n",
    "\n",
    "<!--\n",
    "BEGIN QUESTION\n",
    "name: q1_1\n",
    "-->"
   ]
  },
  {
   "cell_type": "code",
   "execution_count": 13,
   "metadata": {
    "cell_id": "00017-cbf8aa29-b5fa-4626-ab29-fa1ba6cd349e",
    "deepnote_cell_type": "code",
    "execution_millis": 1,
    "execution_start": 1602366047611,
    "output_cleared": false,
    "source_hash": "c3904d48"
   },
   "outputs": [],
   "source": [
    "def su(arr):\n",
    "    \"\"\"Converts array arr to standard units\"\"\"\n",
    "    return (arr - np.mean(arr)) / np.std(arr)\n",
    "\n",
    "def corr(x, y):\n",
    "    \"\"\"Calculates the correlation coefficient of two arrays\"\"\"\n",
    "    return np.mean(su(x) * su(y)) # SOLUTION"
   ]
  },
  {
   "cell_type": "code",
   "execution_count": null,
   "metadata": {
    "deletable": false,
    "editable": false
   },
   "outputs": [],
   "source": [
    "grader.check(\"q1_1\")"
   ]
  },
  {
   "cell_type": "markdown",
   "metadata": {
    "cell_id": "00020-b3cd2e9b-5ccb-4fcc-b3f8-2f5aec78c31f",
    "deepnote_cell_type": "markdown",
    "output_cleared": false,
    "tags": [
     "ignore"
    ]
   },
   "source": [
    "From this $r$ value that we have calculated above, we can compute the slope $\\beta$ and intercept $\\alpha$ of the best-fit line using the formulas below.\n",
    "\n",
    "$$\\Large\n",
    "\\beta = r \\frac{\\hat{\\sigma}_y}{\\hat{\\sigma}_x}\n",
    "\\qquad \\text{ and } \\qquad\n",
    "\\alpha = \\hat{\\mu}_y - \\beta \\cdot \\hat{\\mu}_x\n",
    "$$"
   ]
  },
  {
   "cell_type": "markdown",
   "metadata": {
    "cell_id": "00021-98a9e374-8562-4581-a1f5-022442b979d3",
    "deepnote_cell_type": "markdown",
    "deletable": false,
    "editable": false,
    "output_cleared": false
   },
   "source": [
    "**Question 1.2:** Using your `corr` function, fill in the `slope` and `intercept` functions below which compute the values of $\\beta$ and $\\alpha$ for the line of best fit that predicts `y` based on `x`. Your function should use array arithmetic (i.e. no `for` loops).\n",
    "\n",
    "_Hint:_ You may find your `slope` function useful in `intercept`.\n",
    "\n",
    "<!--\n",
    "BEGIN QUESTION\n",
    "name: q1_2\n",
    "-->"
   ]
  },
  {
   "cell_type": "code",
   "execution_count": 16,
   "metadata": {
    "cell_id": "00022-55da21d1-6b09-4d3d-a528-cd057209d628",
    "deepnote_cell_type": "code",
    "execution_millis": 4,
    "execution_start": 1602366050289,
    "output_cleared": false,
    "source_hash": "2b2ca28c"
   },
   "outputs": [],
   "source": [
    "def slope(x, y):\n",
    "    \"\"\"Computes the slope of the best-fit line of y based on x\"\"\"\n",
    "    return np.std(y) * corr(x, y) / np.std(x) # SOLUTION\n",
    "\n",
    "def intercept(x, y):\n",
    "    \"\"\"Computes the intercept of the best-fit line of y based on x\"\"\"\n",
    "    return np.mean(y) - slope(x, y) * np.mean(x) # SOLUTION"
   ]
  },
  {
   "cell_type": "code",
   "execution_count": null,
   "metadata": {
    "deletable": false,
    "editable": false
   },
   "outputs": [],
   "source": [
    "grader.check(\"q1_2\")"
   ]
  },
  {
   "cell_type": "markdown",
   "metadata": {
    "cell_id": "00027-464dac0e-547c-42e9-ae41-ffcbe22f484b",
    "deepnote_cell_type": "markdown",
    "output_cleared": false,
    "tags": [
     "ignore"
    ]
   },
   "source": [
    "Now let's look at how we can predict the `bill_sep05` column based on some other column of our data. We'll start by looking at the `credit` as the explanatory variable. To use our functions above, we must extract the values of each column as arrays, which we define below as `x` and `y`. We then compute the fitted values `y_hat` using the slope-intercept formula and plot the results."
   ]
  },
  {
   "cell_type": "markdown",
   "metadata": {
    "cell_id": "00028-ca37677d-de9e-45b9-909e-ee32beec7270",
    "deepnote_cell_type": "markdown",
    "deletable": false,
    "editable": false,
    "output_cleared": false
   },
   "source": [
    "**Question 1.3:** Using the functions you defined in Question 1.2, regress `bill_sep05` on `credit`. Assign your predictions to `y_hat`.\n",
    "\n",
    "<!--\n",
    "BEGIN QUESTION\n",
    "name: q1_3\n",
    "-->"
   ]
  },
  {
   "cell_type": "code",
   "execution_count": 21,
   "metadata": {
    "cell_id": "00029-633d82d6-da17-4a02-b870-912b4c9e30a5",
    "deepnote_cell_type": "code",
    "execution_millis": 1,
    "execution_start": 1602366059259,
    "output_cleared": false,
    "source_hash": "f894652",
    "tags": [
     "ignore"
    ]
   },
   "outputs": [],
   "source": [
    "x = defaults[\"credit\"]\n",
    "y = defaults[\"bill_sep05\"]\n",
    "\n",
    "beta = slope(x, y)           # SOLUTION\n",
    "alpha = intercept(x, y)      # SOLUTION\n",
    "\n",
    "y_hat = beta * x + alpha     # SOLUTION"
   ]
  },
  {
   "cell_type": "code",
   "execution_count": null,
   "metadata": {
    "deletable": false,
    "editable": false
   },
   "outputs": [],
   "source": [
    "grader.check(\"q1_3\")"
   ]
  },
  {
   "cell_type": "markdown",
   "metadata": {
    "cell_id": "00037-a0cc865a-4f02-4c14-b744-9f829a6ff079",
    "deepnote_cell_type": "markdown",
    "output_cleared": false
   },
   "source": [
    "Now that we have some predictions, let's plot the original data and the regression line."
   ]
  },
  {
   "cell_type": "code",
   "execution_count": 29,
   "metadata": {
    "cell_id": "00038-e678fff3-436a-4bae-952f-e1705ad354de",
    "deepnote_cell_type": "code",
    "execution_millis": 436,
    "execution_start": 1602366070997,
    "output_cleared": false,
    "source_hash": "cae7bea6"
   },
   "outputs": [
    {
     "data": {
      "image/png": "[encoded data removed]",
      "text/plain": [
       "<Figure size 720x504 with 1 Axes>"
      ]
     },
     "metadata": {},
     "output_type": "display_data"
    }
   ],
   "source": [
    "plt.scatter(x, y, color=\"tab:blue\", alpha=0.3)\n",
    "plt.plot(x, y_hat, color=\"tab:red\")\n",
    "plt.title(\"Predict September bill with credit\");"
   ]
  },
  {
   "cell_type": "markdown",
   "metadata": {
    "cell_id": "00039-81450fec-43c5-4c33-acff-eaea4691a35e",
    "deepnote_cell_type": "markdown",
    "deletable": false,
    "editable": false,
    "output_cleared": false
   },
   "source": [
    "<!-- BEGIN QUESTION -->\n",
    "\n",
    "**Question 1.4:** Does the line we found fit the data well? Explain.\n",
    "\n",
    "<!--\n",
    "BEGIN QUESTION\n",
    "name: q1_4\n",
    "manual: true\n",
    "-->"
   ]
  },
  {
   "cell_type": "markdown",
   "metadata": {},
   "source": [
    "_Type your answer here, replacing this text._"
   ]
  },
  {
   "cell_type": "markdown",
   "metadata": {
    "cell_id": "00040-9940b5fb-e3bc-4522-a03c-80a10374149b",
    "deepnote_cell_type": "markdown",
    "output_cleared": false
   },
   "source": [
    "<div class=\"alert alert-danger\">\n",
    "\n",
    "<strong>SOLUTION:</strong> Nope\n",
    "    \n",
    "</div>"
   ]
  },
  {
   "cell_type": "markdown",
   "metadata": {
    "cell_id": "00041-837fce5b-5f8f-4690-a879-277f8ad23037",
    "deepnote_cell_type": "markdown",
    "output_cleared": false
   },
   "source": [
    "<!-- END QUESTION -->\n",
    "\n",
    "\n",
    "\n",
    "Let's estimate how confident we are in the significance of our $\\hat{\\beta}$ coefficient."
   ]
  },
  {
   "cell_type": "markdown",
   "metadata": {
    "cell_id": "00042-502f573f-7dc0-4076-980c-18798c4bfdd1",
    "deepnote_cell_type": "markdown",
    "deletable": false,
    "editable": false,
    "output_cleared": false
   },
   "source": [
    "**Question 1.5:** Fill in the code below to bootstrap our $\\hat{\\beta}$ and find the 95% confidence interval. Store the lower and upper bounds as `ci95_lower` and `ci95_upper`, respectively. (The cell may take a couple minutes to run.)\n",
    "\n",
    "_Hint:_ Since we're only interested in $\\hat{\\beta}$, we don't need to find the intercept or fit our $x$ values.\n",
    "\n",
    "<!--\n",
    "BEGIN QUESTION\n",
    "name: q1_5\n",
    "-->"
   ]
  },
  {
   "cell_type": "code",
   "execution_count": 30,
   "metadata": {
    "cell_id": "00044-6bfe2027-65cb-4576-91ec-8378c24e4096",
    "deepnote_cell_type": "code",
    "execution_millis": 1265,
    "execution_start": 1602366072856,
    "output_cleared": false,
    "scrolled": true,
    "source_hash": "f200f01e"
   },
   "outputs": [
    {
     "name": "stdout",
     "output_type": "stream",
     "text": [
      "95% CI: (0.14202532911896326, 0.18635000023686737)\n"
     ]
    }
   ],
   "source": [
    "## Seed, don't worry about the code, this is just to make sure that randomness is controlled, and we can autograde your solution ##\n",
    "np.random.seed(42)\n",
    "\n",
    "betas = make_array()\n",
    "\n",
    "for i in np.arange(200):\n",
    "    sample = defaults.sample(5000)    # defaults is a huge table, so we'll only sample 5000 rows\n",
    "    sample_x = sample[\"credit\"]                       # SOLUTION\n",
    "    sample_y = sample[\"bill_sep05\"]                   # SOLUTION\n",
    "    betas = np.append(betas, slope(sample_x, sample_y))      # SOLUTION\n",
    "\n",
    "ci95_lower = percentile(2.5, betas)                          # SOLUTION\n",
    "ci95_upper = percentile(97.5, betas)                         # SOLUTION\n",
    "\n",
    "print(\"95% CI: ({}, {})\".format(ci95_lower, ci95_upper))"
   ]
  },
  {
   "cell_type": "code",
   "execution_count": null,
   "metadata": {
    "deletable": false,
    "editable": false
   },
   "outputs": [],
   "source": [
    "grader.check(\"q1_5\")"
   ]
  },
  {
   "cell_type": "markdown",
   "metadata": {
    "cell_id": "00049-f1a486bb-8c3e-498c-901d-5ea7d08b1f39",
    "deepnote_cell_type": "markdown",
    "deletable": false,
    "editable": false,
    "output_cleared": false
   },
   "source": [
    "<!-- BEGIN QUESTION -->\n",
    "\n",
    "**Question 1.6:** Using your 95% confidence interval, is it likely that the credit has no effect on the September 2005 bill? Justify your answer.\n",
    "\n",
    "<!--\n",
    "BEGIN QUESTION\n",
    "name: q1_6\n",
    "manual: true\n",
    "-->"
   ]
  },
  {
   "cell_type": "markdown",
   "metadata": {},
   "source": [
    "_Type your answer here, replacing this text._"
   ]
  },
  {
   "cell_type": "markdown",
   "metadata": {
    "cell_id": "00050-587472e1-9b14-4487-a0ca-b083f24a5ea2",
    "deepnote_cell_type": "markdown",
    "output_cleared": false
   },
   "source": [
    "<div class=\"alert alert-danger\">\n",
    "\n",
    "<strong>SOLUTION:</strong> No, the CI does not contain 0\n",
    "    \n",
    "</div>"
   ]
  },
  {
   "cell_type": "markdown",
   "metadata": {
    "cell_id": "00051-28dda703-e44e-42d9-a65f-6816799dfdfb",
    "deepnote_cell_type": "markdown",
    "output_cleared": false,
    "tags": [
     "ignore"
    ]
   },
   "source": [
    "<!-- END QUESTION -->\n",
    "\n",
    "\n",
    "\n",
    "Obviously, we can see that our best-fit line does not predict perfectly. There are plenty of points in the scatterplot that do not fall on the line. But how do we quantify the error of our model? There are many so-called *loss functions*, but in this notebook we will use the **root-mean-squared error**, which is defined as\n",
    "\n",
    "$$\\Large\n",
    "\\text{RMSE} = \\sqrt{ \\frac{1}{n} \\sum_{i=1}^n \\left ( y_i - \\hat{y}_i \\right ) ^2 }\n",
    "$$\n",
    "\n",
    "where $n$ is the number of observations. The effect of this is to take the mean of the distance of each value of $\\hat{y}$ from its corresponding value in $y$; squaring these values keeps them positive, and then we take the square root to correct the units of the error."
   ]
  },
  {
   "cell_type": "markdown",
   "metadata": {
    "cell_id": "00052-7ca175e1-c572-4b06-bfc1-5062de564665",
    "deepnote_cell_type": "markdown",
    "deletable": false,
    "editable": false,
    "output_cleared": false
   },
   "source": [
    "**Question 1.7:** Complete the function `rmse` below which computes the root-mean-squared error of the prediction `y_hat` on `y`. Again, no `for` loops.\n",
    "\n",
    "<!--\n",
    "BEGIN QUESTION\n",
    "name: q1_7\n",
    "-->"
   ]
  },
  {
   "cell_type": "code",
   "execution_count": 35,
   "metadata": {
    "cell_id": "00053-6b7b11cc-952c-4ee4-88c1-5a2cb9821dd0",
    "deepnote_cell_type": "code",
    "execution_millis": 1,
    "execution_start": 1602366076926,
    "output_cleared": false,
    "source_hash": "619055c7"
   },
   "outputs": [],
   "source": [
    "def rmse(y, y_hat):\n",
    "    \"\"\"Computes the RMSE of prediction y_hat based on y\"\"\"\n",
    "    return np.sqrt(np.mean((y - y_hat)**2)) # SOLUTION"
   ]
  },
  {
   "cell_type": "code",
   "execution_count": null,
   "metadata": {
    "deletable": false,
    "editable": false
   },
   "outputs": [],
   "source": [
    "grader.check(\"q1_7\")"
   ]
  },
  {
   "cell_type": "markdown",
   "metadata": {
    "cell_id": "00056-7442e4df-4809-434e-95ac-0aa4b535f033",
    "deepnote_cell_type": "markdown",
    "deletable": false,
    "editable": false,
    "output_cleared": false,
    "tags": [
     "ignore"
    ]
   },
   "source": [
    "**Question 1.8:** Use your `rmse` function to compute the RMSE of our prediction `y_hat` based on `y` from above.\n",
    "\n",
    "<!--\n",
    "BEGIN QUESTION\n",
    "name: q1_8\n",
    "-->"
   ]
  },
  {
   "cell_type": "code",
   "execution_count": 38,
   "metadata": {
    "cell_id": "00057-f1187624-3bd1-4d4e-9e0d-9a3cf2226873",
    "deepnote_cell_type": "code",
    "execution_millis": 6,
    "execution_start": 1602366081428,
    "output_cleared": false,
    "source_hash": "b74f597f"
   },
   "outputs": [
    {
     "data": {
      "text/plain": [
       "70571.40305975592"
      ]
     },
     "execution_count": 38,
     "metadata": {},
     "output_type": "execute_result"
    }
   ],
   "source": [
    "single_var_error = rmse(y, y_hat) # SOLUTION\n",
    "single_var_error"
   ]
  },
  {
   "cell_type": "code",
   "execution_count": null,
   "metadata": {
    "deletable": false,
    "editable": false
   },
   "outputs": [],
   "source": [
    "grader.check(\"q1_8\")"
   ]
  },
  {
   "cell_type": "markdown",
   "metadata": {
    "cell_id": "00060-af7851af-38b9-4bd5-a078-be1e50f71a98",
    "deepnote_cell_type": "markdown",
    "output_cleared": false,
    "tags": [
     "ignore"
    ]
   },
   "source": [
    "Now that we know how to predict based on and quantify the error of a model, let's write a function that will encapsulate this pipeline for us."
   ]
  },
  {
   "cell_type": "markdown",
   "metadata": {
    "cell_id": "00061-51c1f3f5-75c4-4b31-a2cc-9f1a4a158e41",
    "deepnote_cell_type": "markdown",
    "deletable": false,
    "editable": false,
    "output_cleared": false
   },
   "source": [
    "<!-- BEGIN QUESTION -->\n",
    "\n",
    "**Question 1.9:** Fill in the function `pred_and_plot` below which models `bill_sep05` based on a column `col`, plots the scatterplot and line of best fit, and computes the RMSE of the model. Then choose a column you think might be related to `bill_sep05` and use your `pred_and_plot` function to determine its prediction RMSE and plot the regression line.\n",
    "\n",
    "_Hint:_ Your code from Question 1.3 may be helpful here...\n",
    "\n",
    "<!--\n",
    "BEGIN QUESTION\n",
    "name: q1_9\n",
    "manual: true\n",
    "-->"
   ]
  },
  {
   "cell_type": "code",
   "execution_count": 41,
   "metadata": {
    "cell_id": "00062-315be970-e5f2-496b-b25f-0d1776deb2da",
    "deepnote_cell_type": "code",
    "execution_millis": 506,
    "execution_start": 1602366090117,
    "output_cleared": false,
    "source_hash": "93936e26",
    "tags": [
     "include"
    ]
   },
   "outputs": [
    {
     "name": "stdout",
     "output_type": "stream",
     "text": [
      "RMSE: 72440.79127\n"
     ]
    },
    {
     "data": {
      "image/png": "[encoded data removed]",
      "text/plain": [
       "<Figure size 720x504 with 1 Axes>"
      ]
     },
     "metadata": {},
     "output_type": "display_data"
    }
   ],
   "source": [
    "def pred_and_plot(col):\n",
    "    \"\"\"Performs single variable OLS to predict bill_sep05 based on col\"\"\"\n",
    "    x = defaults[col]           # SOLUTION\n",
    "    y = defaults[\"bill_sep05\"]  # SOLUTION\n",
    "\n",
    "    beta = slope(x, y)                 # SOLUTION\n",
    "    alpha = intercept(x, y)            # SOLUTION\n",
    "\n",
    "    y_hat = beta * x + alpha           # SOLUTION\n",
    "    \n",
    "    model_rmse = rmse(y, y_hat)        # SOLUTION\n",
    "    \n",
    "    \n",
    "    ### DO NOT EDIT THE REST OF THIS FUNCTION ###\n",
    "    print(\"RMSE: {:.5f}\".format(rmse(y, y_hat)))\n",
    "\n",
    "    plt.scatter(x, y, color=\"tab:blue\", alpha=0.3)\n",
    "    plt.plot(x, y_hat, color=\"tab:red\")\n",
    "    plt.title(\"Predict September bill with {}\".format(col))\n",
    "\n",
    "\n",
    "### Provide your column name below ###\n",
    "pred_and_plot(\"paid_apr05\")"
   ]
  },
  {
   "cell_type": "markdown",
   "metadata": {
    "cell_id": "00063-847e8ae9-1268-4f88-ab0a-f76692569121",
    "deepnote_cell_type": "markdown",
    "output_cleared": false,
    "tags": [
     "ignore"
    ]
   },
   "source": [
    "<!-- END QUESTION -->\n",
    "\n",
    "\n",
    "\n",
    "In looking through different features, you should have noticed that most of them don't follow a linear relationship very well. In practice, you often need _multiple_ features (explanatory variables) to predict an outcome variable, and it is for this reason that we often use **multiple linear regression** to predict variables."
   ]
  },
  {
   "cell_type": "markdown",
   "metadata": {
    "cell_id": "00064-7a899a1a-fd69-4549-9889-dc4ed29fe07c",
    "deepnote_cell_type": "markdown",
    "output_cleared": false
   },
   "source": [
    "Finally, before moving on to the multivariable case, let's think about using whether or not an individual defaults as a predictor of their September 2005 bill."
   ]
  },
  {
   "cell_type": "markdown",
   "metadata": {
    "cell_id": "00065-a34b99a3-bcd6-4779-9a2b-f35da366e5ec",
    "deepnote_cell_type": "markdown",
    "deletable": false,
    "editable": false,
    "output_cleared": false
   },
   "source": [
    "**Question 1.10:** Assign `default_beta` and `default_alpha` to the slope and intercept of your regression of `bill_sep05` on the `default` column of the table `defaults`.\n",
    "\n",
    "_Hint:_ Our outcome variable hasn't changed, so we can reuse the array `y` defined earlier.\n",
    "\n",
    "<!--\n",
    "BEGIN QUESTION\n",
    "name: q1_10\n",
    "-->"
   ]
  },
  {
   "cell_type": "code",
   "execution_count": 42,
   "metadata": {
    "cell_id": "00066-c3d134e1-d3d4-475b-b606-203751b0634a",
    "deepnote_cell_type": "code",
    "execution_millis": 13,
    "execution_start": 1602366091710,
    "output_cleared": false,
    "source_hash": "2096008b"
   },
   "outputs": [
    {
     "name": "stdout",
     "output_type": "stream",
     "text": [
      "y_hat = -3485.0649761624823 * x + 51994.22727272714\n"
     ]
    }
   ],
   "source": [
    "default_x = defaults[\"default\"]      # SOLUTION\n",
    "\n",
    "default_beta = slope(default_x, y)          # SOLUTION\n",
    "default_alpha = intercept(default_x, y)     # SOLUTION\n",
    "\n",
    "print(\"y_hat = {} * x + {}\".format(default_beta, default_alpha))"
   ]
  },
  {
   "cell_type": "code",
   "execution_count": null,
   "metadata": {
    "deletable": false,
    "editable": false
   },
   "outputs": [],
   "source": [
    "grader.check(\"q1_10\")"
   ]
  },
  {
   "cell_type": "markdown",
   "metadata": {
    "cell_id": "00071-ccebbdd2-780c-4935-82d4-d79891a6ab5a",
    "deepnote_cell_type": "markdown",
    "deletable": false,
    "editable": false,
    "output_cleared": false
   },
   "source": [
    "<!-- BEGIN QUESTION -->\n",
    "\n",
    "**Question 1.11:** Interpret the value of `default_beta`. Basically, what do we expected to happen when `default` changes from 0 to 1? Explain.\n",
    "\n",
    "<!--\n",
    "BEGIN QUESTION\n",
    "name: q1_11\n",
    "manual: true\n",
    "-->"
   ]
  },
  {
   "cell_type": "markdown",
   "metadata": {},
   "source": [
    "_Type your answer here, replacing this text._"
   ]
  },
  {
   "cell_type": "markdown",
   "metadata": {
    "cell_id": "00072-6a041184-d986-45d4-9893-3e18723d8b40",
    "deepnote_cell_type": "markdown",
    "output_cleared": false
   },
   "source": [
    "<div class=\"alert alert-danger\">\n",
    "\n",
    "<strong>SOLUTION:</strong> We expect the bill to go down by approx \\\\$3,485\n",
    "    \n",
    "</div>"
   ]
  },
  {
   "cell_type": "markdown",
   "metadata": {
    "cell_id": "00073-59ab7a41-c5bd-4921-9e7e-f72617fdbf2b",
    "deepnote_cell_type": "markdown",
    "output_cleared": false,
    "tags": [
     "ignore"
    ]
   },
   "source": [
    "<!-- END QUESTION -->\n",
    "\n",
    "\n",
    "\n",
    "## Part 2: Guided Multivariable OLS"
   ]
  },
  {
   "cell_type": "markdown",
   "metadata": {
    "cell_id": "00074-711db055-cf90-4c58-8bb5-c18ee75cd2f7",
    "deepnote_cell_type": "markdown",
    "output_cleared": false,
    "tags": [
     "ignore"
    ]
   },
   "source": [
    "When we predict a variable $y$ based on some set of $p$ explanatory variables $x$, we create a set of weights $\\alpha$ and $\\beta_i$ such that we have\n",
    "\n",
    "$$\\Large\n",
    "y = \\alpha + \\beta_1 x_1 + \\beta_2 x_2 + \\cdots + \\beta_p x_p + \\varepsilon\n",
    "$$\n",
    "\n",
    "Because of the error term $\\varepsilon$, we will instead create predictions $\\hat{y}$, such that \n",
    "\n",
    "$$\\Large\n",
    "\\hat{y} = \\alpha + \\hat{\\beta}_1 x_1 + \\hat{\\beta}_2 x_2 + \\cdots + \\hat{\\beta}_p x_p\n",
    "$$\n",
    "\n",
    "Let's model the September bill based on the other bills in the data set (April to August). Recall from lecture that we can model an outcome variable `Y` based on columns from our data `defaults` by extracting the values of the table into an array. In the cell below, we create the arrays `X` and `Y`."
   ]
  },
  {
   "cell_type": "code",
   "execution_count": 47,
   "metadata": {
    "cell_id": "00075-517cf6fe-134a-4540-ad68-003702fd52e2",
    "deepnote_cell_type": "code",
    "execution_millis": 1,
    "execution_start": 1602366101489,
    "output_cleared": false,
    "source_hash": "ab84c88"
   },
   "outputs": [],
   "source": [
    "X = defaults[[\"bill_aug05\", \"bill_jul05\", \"bill_jun05\", \"bill_may05\", \"bill_apr05\"]]\n",
    "Y = defaults[\"bill_sep05\"]"
   ]
  },
  {
   "cell_type": "markdown",
   "metadata": {
    "cell_id": "00076-1e3043c1-62f9-4aeb-977c-030b8f9fc8eb",
    "deepnote_cell_type": "markdown",
    "output_cleared": false,
    "tags": [
     "ignore"
    ]
   },
   "source": [
    "Recall that we can fit a multivariate OLS model using `statsmodels` by calling the function `sm.OLS` on the outcome and explanatory variables. In the cell below, we create a model based on _all_ the columns in the table (except, of course, the outcome variable)."
   ]
  },
  {
   "cell_type": "code",
   "execution_count": 48,
   "metadata": {
    "cell_id": "00077-0e302962-dd20-4f06-b8c5-39ea35285d20",
    "deepnote_cell_type": "code",
    "execution_millis": 10,
    "execution_start": 1602366103980,
    "output_cleared": false,
    "source_hash": "86426d13"
   },
   "outputs": [
    {
     "data": {
      "text/plain": [
       "array([0.91099773, 0.04184977, 0.0227457 , 0.01551302, 0.00834073])"
      ]
     },
     "execution_count": 48,
     "metadata": {},
     "output_type": "execute_result"
    }
   ],
   "source": [
    "# create an OLS object with the data\n",
    "model = lm.LinearRegression()\n",
    "model.fit(X, Y)\n",
    "model.coef_"
   ]
  },
  {
   "cell_type": "markdown",
   "metadata": {
    "cell_id": "00078-ed62afff-f7e8-41bd-9f2d-fc10eb9e3eb8",
    "deepnote_cell_type": "markdown",
    "deletable": false,
    "editable": false,
    "output_cleared": false,
    "tags": [
     "ignore"
    ]
   },
   "source": [
    "**Question 2.1:** Which beta coefficient corresponds to `bill_jul05`?\n",
    "\n",
    "<ol style=\"list-style-type: lower-alpha;\">\n",
    "    <li>0.91099773</li>\n",
    "    <li>0.04184977</li>\n",
    "    <li>0.0227457</li>\n",
    "    <li>0.01551302</li>\n",
    "    <li>0.00834073</li>\n",
    "</ol>\n",
    "\n",
    "Assign your answer to `q2_1` below.\n",
    "\n",
    "<!--\n",
    "BEGIN QUESTION\n",
    "name: q2_1\n",
    "-->"
   ]
  },
  {
   "cell_type": "code",
   "execution_count": 49,
   "metadata": {
    "cell_id": "00079-d626aeab-6244-4ebc-9172-2c5833a1658d",
    "deepnote_cell_type": "code",
    "execution_millis": 5,
    "execution_start": 1602366110864,
    "output_cleared": false,
    "source_hash": "98c7e383"
   },
   "outputs": [],
   "source": [
    "q2_1 = \"b\" # SOLUTION"
   ]
  },
  {
   "cell_type": "code",
   "execution_count": null,
   "metadata": {
    "deletable": false,
    "editable": false
   },
   "outputs": [],
   "source": [
    "grader.check(\"q2_1\")"
   ]
  },
  {
   "cell_type": "markdown",
   "metadata": {
    "cell_id": "00086-6e803164-150a-4009-b80e-4191c8c5a815",
    "deepnote_cell_type": "markdown",
    "deletable": false,
    "editable": false,
    "output_cleared": false
   },
   "source": [
    "<!-- BEGIN QUESTION -->\n",
    "\n",
    "**Question 2.2:** Which three bills are better predictors of `bill_sep05` from the five bills selected? Justify your response.\n",
    "\n",
    "\n",
    "<!--\n",
    "BEGIN QUESTION\n",
    "name: q2_2\n",
    "manual: true\n",
    "-->"
   ]
  },
  {
   "cell_type": "markdown",
   "metadata": {},
   "source": [
    "_Type your answer here, replacing this text._"
   ]
  },
  {
   "cell_type": "markdown",
   "metadata": {
    "cell_id": "00087-bf9b27fe-6d0e-4eb0-9e00-0bfc82797f40",
    "deepnote_cell_type": "markdown",
    "output_cleared": false
   },
   "source": [
    "<div class=\"alert alert-danger\">\n",
    "\n",
    "<strong>SOLUTION:</strong> August, July, and June. These are the largest positive coefficients.\n",
    "    \n",
    "</div>"
   ]
  },
  {
   "cell_type": "markdown",
   "metadata": {
    "cell_id": "00088-887ce5ea-9dad-4e25-a010-e8d744d49a61",
    "deepnote_cell_type": "markdown",
    "output_cleared": false,
    "tags": [
     "ignore"
    ]
   },
   "source": [
    "<!-- END QUESTION -->\n",
    "\n",
    "\n",
    "\n",
    "Now let's look and see what values our model predicts for our outcome variable. Recall that we can extract the fitted values from the result using `model.predict`. "
   ]
  },
  {
   "cell_type": "markdown",
   "metadata": {
    "cell_id": "00089-51c4f4ed-4902-42be-8b6d-d46dd8dc995e",
    "deepnote_cell_type": "markdown",
    "deletable": false,
    "editable": false,
    "output_cleared": false
   },
   "source": [
    "**Question 2.3:** Assign `Y_hat` to the fitted values of `model`. Then assign `multi_rmse` to the RMSE of this prediction based on `Y`.\n",
    "\n",
    "<!--\n",
    "BEGIN QUESTION\n",
    "name: q2_3\n",
    "-->"
   ]
  },
  {
   "cell_type": "code",
   "execution_count": 52,
   "metadata": {
    "cell_id": "00090-0dbdc3f1-8fd8-466e-9880-53adc0261d4a",
    "deepnote_cell_type": "code",
    "execution_millis": 10,
    "execution_start": 1602366116656,
    "output_cleared": false,
    "source_hash": "52c2adc8"
   },
   "outputs": [
    {
     "data": {
      "text/plain": [
       "22561.189743524206"
      ]
     },
     "execution_count": 52,
     "metadata": {},
     "output_type": "execute_result"
    }
   ],
   "source": [
    "Y_hat = model.predict(X)    # SOLUTION\n",
    "\n",
    "multi_rmse = rmse(Y, Y_hat)    # SOLUTION\n",
    "multi_rmse"
   ]
  },
  {
   "cell_type": "code",
   "execution_count": null,
   "metadata": {
    "deletable": false,
    "editable": false
   },
   "outputs": [],
   "source": [
    "grader.check(\"q2_3\")"
   ]
  },
  {
   "cell_type": "markdown",
   "metadata": {
    "cell_id": "00095-5748e7b9-413d-40cd-ba15-5268d22bf692",
    "deepnote_cell_type": "markdown",
    "output_cleared": false,
    "tags": [
     "ignore"
    ]
   },
   "source": [
    "We see from this RMSE that the prediction is (much) better than the single variable case, but it's still not too good. Let's try and select better features to see if we can lower our RMSE."
   ]
  },
  {
   "cell_type": "markdown",
   "metadata": {
    "cell_id": "00096-fbda6579-fdc1-4ac3-8449-5445855aa572",
    "deepnote_cell_type": "markdown",
    "deletable": false,
    "editable": false,
    "output_cleared": false
   },
   "source": [
    "<!-- BEGIN QUESTION -->\n",
    "\n",
    "**Question 2.4:** What might be a good way to select columns that would lower our prediction RMSE? What kinds of characteristics and relationships should we look for in our feature columns?\n",
    "\n",
    "<!--\n",
    "BEGIN QUESTION\n",
    "name: q2_4\n",
    "manual: true\n",
    "-->"
   ]
  },
  {
   "cell_type": "markdown",
   "metadata": {},
   "source": [
    "_Type your answer here, replacing this text._"
   ]
  },
  {
   "cell_type": "markdown",
   "metadata": {
    "cell_id": "00097-bd03fa2a-9a1e-4d48-9caa-e9cbdf9a251e",
    "deepnote_cell_type": "markdown",
    "output_cleared": false
   },
   "source": [
    "<div class=\"alert alert-danger\">\n",
    "    \n",
    "<strong>SOLUTION:</strong> In general, since we are using <em>linear</em> regression, variables that are more correlated with the outcome variable are better features (and serve to lower RMSE).\n",
    "\n",
    "</div>"
   ]
  },
  {
   "cell_type": "markdown",
   "metadata": {
    "cell_id": "00099-685e8823-708d-4800-966c-08986276a4f3",
    "deepnote_cell_type": "markdown",
    "deletable": false,
    "editable": false,
    "output_cleared": false
   },
   "source": [
    "<!-- END QUESTION -->\n",
    "\n",
    "**Question 2.5:** Now that you have thought about what might make good features, let's implement a new model to see how well we can do. \n",
    "\n",
    "Add one more column label to the array `new_features` below. Then fill in the code below to create a new OLS model based on the columns in `new_features`, storing the fitted values in `new_Y_hat`.\n",
    "\n",
    "_Hint:_ Our outcome variable `Y` hasn't changed, so we can reuse the same array as earlier.\n",
    "\n",
    "<!--\n",
    "BEGIN QUESTION\n",
    "name: q2_5\n",
    "-->"
   ]
  },
  {
   "cell_type": "code",
   "execution_count": 64,
   "metadata": {
    "cell_id": "00100-fc0c2076-2eda-4c62-8bad-98305ee39308",
    "deepnote_cell_type": "code",
    "execution_millis": 14,
    "execution_start": 1602366161649,
    "output_cleared": false,
    "source_hash": "6e26b9ae"
   },
   "outputs": [
    {
     "data": {
      "text/plain": [
       "array([ 4048.90715865,  4114.37424134, 15896.45055349, ...,\n",
       "        5317.3077061 , 77924.10765779, 49396.63415292])"
      ]
     },
     "execution_count": 64,
     "metadata": {},
     "output_type": "execute_result"
    }
   ],
   "source": [
    "\"\"\" # BEGIN PROMPT\n",
    "new_features = make_array(\"bill_aug05\", \"bill_jul05\", \"bill_jun05\", \"bill_may05\", \"bill_apr05\", ...)\n",
    "# END PROMPT\n",
    "\"\"\"\n",
    "\n",
    "# BEGIN SOLUTION NO PROMPT\n",
    "## SOLUTION ##\n",
    "new_features = make_array(\"bill_aug05\", \"bill_jul05\", \"bill_jun05\", \"bill_may05\", \"bill_apr05\", \"credit\")\n",
    "# END SOLUTION\n",
    "\n",
    "new_X = defaults[new_features]     # SOLUTION\n",
    "\n",
    "new_model = lm.LinearRegression().fit(new_X, Y)    # SOLUTION\n",
    "new_Y_hat = new_model.predict(new_X)              # SOLUTION\n",
    "new_Y_hat"
   ]
  },
  {
   "cell_type": "code",
   "execution_count": null,
   "metadata": {
    "deletable": false,
    "editable": false
   },
   "outputs": [],
   "source": [
    "grader.check(\"q2_5\")"
   ]
  },
  {
   "cell_type": "markdown",
   "metadata": {
    "cell_id": "00104-1afffbdb-f1f3-49de-bd82-d091215184d6",
    "deepnote_cell_type": "markdown",
    "output_cleared": false,
    "tags": [
     "ignore"
    ]
   },
   "source": [
    "Now that we have some predictions, let's look at the accuracy of our model."
   ]
  },
  {
   "cell_type": "markdown",
   "metadata": {
    "cell_id": "00105-b949612c-25ae-45bc-a79c-97259720b4c3",
    "deepnote_cell_type": "markdown",
    "deletable": false,
    "editable": false,
    "output_cleared": false
   },
   "source": [
    "**Question 2.6:** Calculate the RMSE of `new_Y_hat` based on `Y` and store this value as `new_rmse`.\n",
    "\n",
    "<!--\n",
    "BEGIN QUESTION\n",
    "name: q2_6\n",
    "-->"
   ]
  },
  {
   "cell_type": "code",
   "execution_count": 68,
   "metadata": {
    "cell_id": "00106-42048bc8-cb41-4ee5-a470-dc1e8c19b859",
    "deepnote_cell_type": "code",
    "execution_millis": 8,
    "execution_start": 1602366168206,
    "output_cleared": false,
    "source_hash": "1ce3a13a"
   },
   "outputs": [
    {
     "data": {
      "text/plain": [
       "22520.134070208638"
      ]
     },
     "execution_count": 68,
     "metadata": {},
     "output_type": "execute_result"
    }
   ],
   "source": [
    "new_rmse = rmse(Y, new_Y_hat) # SOLUTION\n",
    "new_rmse"
   ]
  },
  {
   "cell_type": "code",
   "execution_count": null,
   "metadata": {
    "deletable": false,
    "editable": false
   },
   "outputs": [],
   "source": [
    "grader.check(\"q2_6\")"
   ]
  },
  {
   "cell_type": "markdown",
   "metadata": {
    "cell_id": "00109-a82fdc74-4926-4cf7-a802-1871cf2b7095",
    "deepnote_cell_type": "markdown",
    "deletable": false,
    "editable": false,
    "output_cleared": false
   },
   "source": [
    "<!-- BEGIN QUESTION -->\n",
    "\n",
    "**Question 2.7:** Did the RMSE go up or down in Question 2.6 compared to Question 2.3? Why do you think so?\n",
    "\n",
    "<!--\n",
    "BEGIN QUESTION\n",
    "name: q2_7\n",
    "manual: true\n",
    "-->"
   ]
  },
  {
   "cell_type": "markdown",
   "metadata": {},
   "source": [
    "_Type your answer here, replacing this text._"
   ]
  },
  {
   "cell_type": "markdown",
   "metadata": {
    "cell_id": "00110-6b3c5e5c-7a40-4d46-96ca-9763063ece42",
    "deepnote_cell_type": "markdown",
    "output_cleared": false
   },
   "source": [
    "<div class=\"alert alert-danger\">\n",
    "    \n",
    "<strong>SOLUTION:</strong> You will get full points as long as you provide a good reason for why you think your RMSE went up or down.\n",
    "\n",
    "</div>"
   ]
  },
  {
   "cell_type": "markdown",
   "metadata": {
    "cell_id": "00111-8168734d-3a05-490e-97b7-72d99e7a905b",
    "deepnote_cell_type": "markdown",
    "output_cleared": false,
    "tags": [
     "ignore"
    ]
   },
   "source": [
    "<!-- END QUESTION -->\n",
    "\n",
    "\n",
    "\n",
    "## Part 3: Unguided Multivariable OLS"
   ]
  },
  {
   "cell_type": "markdown",
   "metadata": {
    "cell_id": "00112-68b81ccf-0ac6-4594-95e1-96a0f40f86d6",
    "deepnote_cell_type": "markdown",
    "output_cleared": false,
    "tags": [
     "ignore"
    ]
   },
   "source": [
    "In this section of the assignment, you will use `sklearn` and OLS to create your own model to predict the September 2005 bill based on 5000 sample of the data,\n",
    " and testing that model's accuracy on another 1000 sample of the data. \n",
    "Your model will be scored out of **5 points**, and a portion of your score will be determined based on your RMSE. The scores you will receive are given in the table below.\n",
    "\n",
    "| RMSE | Score (out of 5) |\n",
    "|-----|-----|\n",
    "| $\\le$ 25,000 | 6 |\n",
    "| $\\le$ 30,000 | 5 |\n",
    "| $\\le$ 50,000 | 4 |\n",
    "| $\\le \\infty$ | 3 |\n",
    "\n",
    "Note that it is possible to receive a 6 out of 5 for an especially good model, and that as long as you *create a model*, you are guaranteed a 3 out of 5. **To submit your model, you must assign `my_labels` to an array of the columns you want your model to use. You may not use more than 10 columns and, of course, you can't use the column `bill_sep05` in your features.** Your model RMSE will be calculated using the following code:\n",
    "\n",
    "```python\n",
    "X, Y = defaults[my_labels], defaults[\"bill_sep05\"]\n",
    "train = defaults.sample(5000, replace = False, random_state = 234)\n",
    "train_X = train[my_labels]\n",
    "train_Y = train[\"bill_sep05\"]\n",
    "\n",
    "test = defaults.sample(1000, replace = False, random_state = 234)\n",
    "test_X = test[my_labels]\n",
    "test_y = test[\"bill_sep05\"]\n",
    "\n",
    "\n",
    "model = lm.LinearRegression().fit(train_X, train_Y)\n",
    "Y_hat = model.predict(test_X)\n",
    "rmse(test_Y, Y_hat)\n",
    "```\n",
    "\n",
    "To select your features, use the widget below to look for correlations between variables and the September 2005 bill. It requires your `pred_and_plot` function to work, so you will need to finish that function before using the widget."
   ]
  },
  {
   "cell_type": "code",
   "execution_count": 71,
   "metadata": {
    "cell_id": "00108-d11fbfc1-882b-4773-8277-020c8710deed",
    "deepnote_cell_type": "code",
    "execution_millis": 12,
    "execution_start": 1602366173334,
    "output_cleared": false,
    "source_hash": "f734ec7a",
    "tags": []
   },
   "outputs": [],
   "source": [
    "train = defaults.sample(5000, replace = False, random_state = 234)\n",
    "\n",
    "test = defaults.sample(1000, replace = False, random_state = 234)"
   ]
  },
  {
   "cell_type": "code",
   "execution_count": 72,
   "metadata": {
    "cell_id": "00113-0536bc55-624d-42be-ac21-79ca1444a092",
    "deepnote_cell_type": "code",
    "execution_millis": 344,
    "execution_start": 1602366173376,
    "output_cleared": false,
    "scrolled": false,
    "source_hash": "233c4eeb",
    "tags": [
     "ignore"
    ]
   },
   "outputs": [
    {
     "data": {
      "application/vnd.jupyter.widget-view+json": {
       "model_id": "f223d400a6a04ed5afbb2bb5abf9bde8",
       "version_major": 2,
       "version_minor": 0
      },
      "text/plain": [
       "interactive(children=(Dropdown(description='col', options=('credit', 'age', 'bill_sep05', 'bill_aug05', 'bill_…"
      ]
     },
     "metadata": {},
     "output_type": "display_data"
    }
   ],
   "source": [
    "interact(pred_and_plot, col=Dropdown(options=train.columns));"
   ]
  },
  {
   "cell_type": "markdown",
   "metadata": {
    "cell_id": "00114-70a15758-14be-4915-b435-16aebceb12b4",
    "deepnote_cell_type": "markdown",
    "output_cleared": false,
    "tags": [
     "ignore"
    ]
   },
   "source": [
    "Add and remove cells below as needed, but *make sure you define `my_labels`*. We have provided code for you to create your `X` array; just fill in the `...` in `my_labels` with your columns and use the space at the bottom to work on your model. Good luck!"
   ]
  },
  {
   "cell_type": "code",
   "execution_count": 73,
   "metadata": {
    "cell_id": "00116-d9e03f08-d20e-43fe-a9ab-d0305e556ad0",
    "deepnote_cell_type": "code",
    "execution_millis": 32,
    "execution_start": 1602366317233,
    "output_cleared": false,
    "source_hash": "3984ea01"
   },
   "outputs": [
    {
     "data": {
      "text/plain": [
       "20407.901899115397"
      ]
     },
     "execution_count": 73,
     "metadata": {},
     "output_type": "execute_result"
    }
   ],
   "source": [
    "\"\"\" # BEGIN PROMPT\n",
    "my_labels = make_array(...)\n",
    "\n",
    "train_X = train[...]\n",
    "train_Y = train[...]\n",
    "test_X = ...\n",
    "test_Y = ...\n",
    "my_model = ...\n",
    "my_Y_hat = ...\n",
    "rmse(...)\n",
    "# END PROMPT\n",
    "\"\"\"\n",
    "# BEGIN SOLUTION NO PROMPT\n",
    "my_labels = ['bill_aug05','bill_jun05','bill_may05','bill_apr05','paid_sep05',\n",
    "                       'paid_aug05','paid_jul05','paid_jun05','paid_may05','paid_apr05']\n",
    "\n",
    "train_X = train[my_labels]\n",
    "train_Y = train[\"bill_sep05\"]\n",
    "test_X = test[my_labels]\n",
    "test_Y = test[\"bill_sep05\"]\n",
    "my_model = lm.LinearRegression().fit(train_X, train_Y)\n",
    "my_Y_hat = my_model.predict(test_X)\n",
    "rmse(test_Y, my_Y_hat)\n",
    "# END SOLUTION\n",
    "\n"
   ]
  },
  {
   "cell_type": "code",
   "execution_count": null,
   "metadata": {
    "deletable": false,
    "editable": false
   },
   "outputs": [],
   "source": [
    "grader.check(\"q3\")"
   ]
  },
  {
   "cell_type": "markdown",
   "metadata": {
    "cell_id": "00125-0f31c047-ccb1-4a3e-aa83-bf124718ff30",
    "deepnote_cell_type": "markdown",
    "output_cleared": false,
    "tags": [
     "ignore"
    ]
   },
   "source": [
    "## Part 4: Reflection\n",
    "\n",
    "In this section of the assignment, you will answer some conceptual questions about the choices you made in creating your model in Part 3. \n",
    "**This section heavily influences your grade, as we are looking to ensure that you are using intuition while modeling. Please answer thoughtfully and *show us the numbers*.**"
   ]
  },
  {
   "cell_type": "markdown",
   "metadata": {
    "cell_id": "00126-addc2b26-e359-4881-b374-9f2bc4b1b0f3",
    "deepnote_cell_type": "markdown",
    "deletable": false,
    "editable": false,
    "output_cleared": false
   },
   "source": [
    "<!-- BEGIN QUESTION -->\n",
    "\n",
    "**Question 4.1:** Explain one choice you made in selecting features while modeling in Part 3 and why you made it. (Your explanation should take at least a few sentences, and should justify your choice mathematically (i.e. with numerical evidence).)\n",
    "\n",
    "<!--\n",
    "BEGIN QUESTION\n",
    "name: q4_1\n",
    "manual: true\n",
    "-->"
   ]
  },
  {
   "cell_type": "markdown",
   "metadata": {},
   "source": [
    "_Type your answer here, replacing this text._"
   ]
  },
  {
   "cell_type": "markdown",
   "metadata": {
    "cell_id": "00127-359fbb56-a5fb-4439-94d1-62ddee2dab51",
    "deepnote_cell_type": "markdown",
    "output_cleared": false
   },
   "source": [
    "<div class=\"alert alert-danger\">\n",
    "    \n",
    "<strong>SOLUTION:</strong> You should describe a choice you made and give mathematical justifications for why you made it. For example, I replace feature A with feature B because A's correlation with $y$ was \\_\\_\\_\\_\\_ but B's was \\_\\_\\_\\_\\_, and this lowered the RMSE from \\_\\_\\_\\_\\_ to \\_\\_\\_\\_\\_.\n",
    "\n",
    "Basically, show me the numbers.\n",
    "\n",
    "</div>"
   ]
  },
  {
   "cell_type": "markdown",
   "metadata": {
    "cell_id": "00128-f92eabba-9013-4a1a-8d05-7e26d4d44447",
    "deepnote_cell_type": "markdown",
    "deletable": false,
    "editable": false,
    "output_cleared": false
   },
   "source": [
    "<!-- END QUESTION -->\n",
    "\n",
    "<!-- BEGIN QUESTION -->\n",
    "\n",
    "**Question 4.2:** Use your `pred_and_plot` function in the cell below to generate a visualization that helped you choose a feature in Part 3.\n",
    "\n",
    "<!--\n",
    "BEGIN QUESTION\n",
    "name: q4_2\n",
    "manual: true\n",
    "-->"
   ]
  },
  {
   "cell_type": "code",
   "execution_count": 79,
   "metadata": {
    "cell_id": "00129-7d6ea36b-03d9-4467-b6b8-4ab3d26ef55b",
    "deepnote_cell_type": "code",
    "execution_millis": 530,
    "execution_start": 1602366196484,
    "output_cleared": false,
    "source_hash": "84fb1b47"
   },
   "outputs": [
    {
     "name": "stdout",
     "output_type": "stream",
     "text": [
      "RMSE: 43919.38150\n"
     ]
    },
    {
     "data": {
      "image/png": "[encoded data removed]",
      "text/plain": [
       "<Figure size 720x504 with 1 Axes>"
      ]
     },
     "metadata": {},
     "output_type": "display_data"
    }
   ],
   "source": [
    "pred_and_plot(\"bill_apr05\") # SOLUTION"
   ]
  },
  {
   "cell_type": "markdown",
   "metadata": {
    "cell_id": "00126-0482b465-cfe2-4102-b02c-57b97c0d7fb8",
    "deepnote_cell_type": "markdown",
    "deletable": false,
    "editable": false,
    "output_cleared": false,
    "tags": []
   },
   "source": [
    "<!-- END QUESTION -->\n",
    "\n",
    "<!-- BEGIN QUESTION -->\n",
    "\n",
    "**Question 4.3:** Why do we train and test on different subsets of our data? Wouldn't our model be more effective if we trained on the entire dataset? Explain.\n",
    "\n",
    "<!--\n",
    "BEGIN QUESTION\n",
    "name: q4_3\n",
    "manual: true\n",
    "-->"
   ]
  },
  {
   "cell_type": "markdown",
   "metadata": {},
   "source": [
    "_Type your answer here, replacing this text._"
   ]
  },
  {
   "cell_type": "markdown",
   "metadata": {
    "cell_id": "00127-b3ab2df1-e97a-4e3b-a4d6-747c92c7ee98",
    "deepnote_cell_type": "markdown",
    "output_cleared": false,
    "tags": []
   },
   "source": [
    "<div class=\"alert alert-danger\">\n",
    "    \n",
    "<strong>SOLUTION:</strong> \n",
    "Training and testing on the same data will give a higher accuracy then what the model is going to perform in the real world. \n",
    "This is concerning since it will give us too high of a confidence in our model, and may lead to erroneous conclusions about our data. \n",
    "\n",
    "</div>"
   ]
  },
  {
   "cell_type": "markdown",
   "metadata": {
    "cell_id": "00132-097f0b55-90f8-49d1-8ae2-38ca89d200aa",
    "deepnote_cell_type": "markdown",
    "output_cleared": false,
    "tags": [
     "ignore"
    ]
   },
   "source": [
    "<!-- END QUESTION -->\n",
    "\n",
    "\n",
    "\n",
    "---\n",
    "\n",
    "### References\n",
    "\n",
    "* Data from https://archive.ics.uci.edu/ml/datasets/default+of+credit+card+clients#"
   ]
  },
  {
   "cell_type": "markdown",
   "metadata": {
    "deletable": false,
    "editable": false
   },
   "source": [
    "---\n",
    "\n",
    "To double-check your work, the cell below will rerun all of the autograder tests."
   ]
  },
  {
   "cell_type": "code",
   "execution_count": null,
   "metadata": {
    "deletable": false,
    "editable": false
   },
   "outputs": [],
   "source": [
    "grader.check_all()"
   ]
  },
  {
   "cell_type": "markdown",
   "metadata": {
    "deletable": false,
    "editable": false
   },
   "source": [
    "## Submission\n",
    "\n",
    "Make sure you have run all cells in your notebook in order before running the cell below, so that all images/graphs appear in the output. The cell below will generate a zip file for you to submit. **Please save before exporting!**"
   ]
  },
  {
   "cell_type": "code",
   "execution_count": null,
   "metadata": {
    "deletable": false,
    "editable": false
   },
   "outputs": [],
   "source": [
    "# Save your notebook first, then run this cell to export your submission.\n",
    "grader.export(pdf=False)"
   ]
  },
  {
   "cell_type": "markdown",
   "metadata": {},
   "source": [
    " "
   ]
  }
 ],
 "metadata": {
  "@webio": {
   "lastCommId": null,
   "lastKernelId": null
  },
  "deepnote_execution_queue": [],
  "deepnote_notebook_id": "5f486002-3d82-4dc3-8fb4-948495f2d365",
  "kernelspec": {
   "display_name": "Python 3",
   "language": "python",
   "name": "python3"
  },
  "language_info": {
   "codemirror_mode": {
    "name": "ipython",
    "version": 3
   },
   "file_extension": ".py",
   "mimetype": "text/x-python",
   "name": "python",
   "nbconvert_exporter": "python",
   "pygments_lexer": "ipython3",
   "version": "3.8.1"
  },
  "varInspector": {
   "cols": {
    "lenName": 16,
    "lenType": 16,
    "lenVar": 40
   },
   "kernels_config": {
    "python": {
     "delete_cmd_postfix": "",
     "delete_cmd_prefix": "del ",
     "library": "var_list.py",
     "varRefreshCmd": "print(var_dic_list())"
    },
    "r": {
     "delete_cmd_postfix": ") ",
     "delete_cmd_prefix": "rm(",
     "library": "var_list.r",
     "varRefreshCmd": "cat(var_dic_list()) "
    }
   },
   "types_to_exclude": [
    "module",
    "function",
    "builtin_function_or_method",
    "instance",
    "_Feature"
   ],
   "window_display": false
  }
 },
 "nbformat": 4,
 "nbformat_minor": 2
}
