{
 "cells": [
  {
   "cell_type": "markdown",
   "metadata": {
    "cell_id": "62dc86fc-ccb2-4721-859c-20ed28628614",
    "deepnote_cell_type": "markdown",
    "tags": []
   },
   "source": [
    "# Lab 1 - Programming in `pandas`: Part 1"
   ]
  },
  {
   "cell_type": "code",
   "execution_count": 1,
   "metadata": {
    "cell_id": "b4229cf9-32d2-4ad1-959c-4b48d72b42ac",
    "deepnote_cell_type": "code",
    "execution_millis": 1,
    "execution_start": 1605561824787,
    "output_cleared": false,
    "source_hash": "c33c0c52",
    "tags": []
   },
   "outputs": [],
   "source": [
    "import pandas as pd\n",
    "import numpy as np\n",
    "import warnings\n",
    "warnings.filterwarnings('ignore')\n",
    "import otter\n",
    "grader = otter.Notebook('week1_lab.ipynb')"
   ]
  },
  {
   "cell_type": "markdown",
   "metadata": {
    "cell_id": "9ef5680e-e78f-40b4-8e01-0dc72fbd7c8f",
    "deepnote_cell_type": "markdown",
    "tags": []
   },
   "source": [
    "Welcome to lab 1! \n",
    "In this lab, you will first download a dataset from an external source, then analyize it using basic `pandas` functions.\n",
    "\n",
    "There are many online sources to find datasets. One of the most well known sites to find datasets is [Kaggle](https://www.kaggle.com), which hosts data science competitions and challenges. \n",
    "In fact, the dataset used in this lab will be from Kaggle. Another site where you can search for datasets is Google's own [Dataset Search Engine](https://datasetsearch.research.google.com/) \n"
   ]
  },
  {
   "cell_type": "markdown",
   "metadata": {
    "cell_id": "3f4547cb-1cb9-4ed2-8d7c-8f7e822858b9",
    "deepnote_cell_type": "markdown",
    "tags": []
   },
   "source": [
    "## Cereals"
   ]
  },
  {
   "cell_type": "markdown",
   "metadata": {
    "cell_id": "954569e6-784e-4244-b8a0-83de57f34520",
    "deepnote_cell_type": "markdown",
    "tags": []
   },
   "source": [
    "Your best friend Shashank has been noticing that his normal breakfast cereal contains too much sugar per serving for his liking. \n",
    "Shashank has recently started his journey on healthy eating and excercising. \n",
    "He would like to know more about which cereal is the best in terms of nutritional value. \n",
    "Not knowing much about data anaysis, Shashank turns to you for help on finding the best cereal. \n",
    "\n",
    "A dataset about cereal and their nutritional value can be found here: https://www.kaggle.com/crawford/80-cereals\n",
    "\n",
    "You can get an overall understanding of what this dataset records by reading the description of the data. "
   ]
  },
  {
   "cell_type": "markdown",
   "metadata": {
    "cell_id": "e4a006e2-b37a-402d-aa71-80b5b99f4b78",
    "deepnote_cell_type": "markdown"
   },
   "source": [
    "###  Question 1 - Getting your Data\n",
    "After reading the dataset description, complete the following steps:\n",
    "\n",
    "1. Download the dataset as a `csv` from Kaggle. You will need to make a Kaggle account to download the dataset.\n",
    "2. Unzip the data into your current directory, if the file downloads as a `zip`\n",
    "3. Rename the `csv` file to be `cereal.csv` and upload it to your current directory"
   ]
  },
  {
   "cell_type": "markdown",
   "metadata": {
    "cell_id": "ce422ca3-d044-48b8-96fd-a911566eb968",
    "deepnote_cell_type": "markdown",
    "deletable": false,
    "editable": false,
    "tags": []
   },
   "source": [
    "Now, we can read in the `csv` as a dataframe using `pandas`.\n",
    "Assign the filepath to `dataset_filepath` as a string and load the cereal dataframe into `cereal`.\n",
    "\n",
    "Since you should have uploaded the file to the same folder where this notebook is located, `dataset_filepath` should just be the name of the `csv`.\n",
    "\n",
    "<!--\n",
    "BEGIN QUESTION\n",
    "name: q1\n",
    "-->"
   ]
  },
  {
   "cell_type": "code",
   "execution_count": 2,
   "metadata": {
    "cell_id": "b8739e3a-0ff3-4007-a263-a165e790a604",
    "deepnote_cell_type": "code",
    "execution_millis": 48,
    "execution_start": 1605561827931,
    "output_cleared": false,
    "source_hash": "6486e8fd",
    "tags": []
   },
   "outputs": [],
   "source": [
    "# File name \n",
    "dataset_filepath = ...\n",
    "\n",
    "# Read in the file using pandas\n",
    "cereal = ...\n",
    "cereal.head()\n",
    "\"\"\""
   ]
  },
  {
   "cell_type": "code",
   "execution_count": null,
   "metadata": {
    "deletable": false,
    "editable": false
   },
   "outputs": [],
   "source": [
    "grader.check(\"q1\")"
   ]
  },
  {
   "cell_type": "markdown",
   "metadata": {
    "cell_id": "41d822ed-1e95-4371-9aa6-d920b36996c5",
    "deepnote_cell_type": "markdown"
   },
   "source": [
    "### Question 2 - Understanding your Data"
   ]
  },
  {
   "cell_type": "markdown",
   "metadata": {
    "cell_id": "0430efa3-eefc-4fa3-b5c9-b5a15cabb1ae",
    "deepnote_cell_type": "markdown",
    "deletable": false,
    "editable": false,
    "tags": []
   },
   "source": [
    "**Question 2.1:** How extensive will your research be using this dataset? \n",
    "To answer this question you need to find out how many different types of cereal we have in this dataset. \n",
    "Assign `num_types` to the total number of cereals recorded.\n",
    "\n",
    "\n",
    "<!--\n",
    "BEGIN QUESTION\n",
    "name: q2_1\n",
    "-->"
   ]
  },
  {
   "cell_type": "code",
   "execution_count": 5,
   "metadata": {
    "cell_id": "d38fa062-ca2e-4811-8430-fff5c88260d3",
    "deepnote_cell_type": "code",
    "execution_millis": 42,
    "execution_start": 1605561923166,
    "output_cleared": false,
    "source_hash": "d78cf1e0"
   },
   "outputs": [],
   "source": [
    "\n",
    "num_types = ...\n",
    "num_types\n",
    "\n",
    "# END PROMPT \"\"\"\n"
   ]
  },
  {
   "cell_type": "code",
   "execution_count": null,
   "metadata": {
    "deletable": false,
    "editable": false
   },
   "outputs": [],
   "source": [
    "grader.check(\"q2_1\")"
   ]
  },
  {
   "cell_type": "markdown",
   "metadata": {
    "cell_id": "7bf2ffc1-bfe6-4ade-926d-e5d3b7199bcd",
    "deepnote_cell_type": "markdown",
    "deletable": false,
    "editable": false,
    "tags": []
   },
   "source": [
    "**Question 2.2:** How many columns does our dataset have? Assign `num_columns` to the number of columns in our dataset.\n",
    "\n",
    "<!--\n",
    "BEGIN QUESTION\n",
    "name: q2_2\n",
    "-->"
   ]
  },
  {
   "cell_type": "code",
   "execution_count": 7,
   "metadata": {
    "cell_id": "52fc2476-cee4-451f-8332-a976bbb57539",
    "deepnote_cell_type": "code",
    "execution_millis": 42,
    "execution_start": 1605562098243,
    "output_cleared": false,
    "source_hash": "1e1b2337",
    "tags": []
   },
   "outputs": [],
   "source": [
    "\n",
    "num_columns = ...\n",
    "num_columns\n",
    "\n",
    "# END PROMPT \"\"\"\n"
   ]
  },
  {
   "cell_type": "code",
   "execution_count": null,
   "metadata": {
    "deletable": false,
    "editable": false
   },
   "outputs": [],
   "source": [
    "grader.check(\"q2_2\")"
   ]
  },
  {
   "cell_type": "markdown",
   "metadata": {
    "cell_id": "047ae36f-dd26-4cd7-8bf1-c22fa8a64a00",
    "deepnote_cell_type": "markdown",
    "deletable": false,
    "editable": false,
    "tags": []
   },
   "source": [
    "**Question 2.3:** To get a general understanding of the data, you would like to look at the first 20 cereals listed in this dataset. Assign \n",
    "`first_twenty` to a dataframe that contains the first 20 rows of the cereal dataset. \n",
    "\n",
    "<!--\n",
    "BEGIN QUESTION\n",
    "name: q2_3\n",
    "-->"
   ]
  },
  {
   "cell_type": "code",
   "execution_count": 9,
   "metadata": {
    "cell_id": "03aa9f29-cb19-418e-aa98-6d9275b04f72",
    "deepnote_cell_type": "code",
    "execution_millis": 35,
    "execution_start": 1605562104906,
    "output_cleared": false,
    "source_hash": "acdfd284",
    "tags": []
   },
   "outputs": [],
   "source": [
    "first_twenty = ...\n",
    "# END PROMPT \"\"\"\n"
   ]
  },
  {
   "cell_type": "code",
   "execution_count": null,
   "metadata": {
    "deletable": false,
    "editable": false
   },
   "outputs": [],
   "source": [
    "grader.check(\"q2_3\")"
   ]
  },
  {
   "cell_type": "markdown",
   "metadata": {
    "cell_id": "6b88b207-c70b-481d-98c5-6ac6a79c3aba",
    "deepnote_cell_type": "markdown"
   },
   "source": [
    "### Question 3 - Indexing your Data"
   ]
  },
  {
   "cell_type": "markdown",
   "metadata": {
    "cell_id": "f6117afe-b94b-4388-8489-a54f5d540d5d",
    "deepnote_cell_type": "markdown",
    "deletable": false,
    "editable": false,
    "tags": []
   },
   "source": [
    "**Question 3.1:** Shashank's current favorite cereal is `Fruity Pebbles`. He would like to know the amount of calories and sugar per serving for this cereal. \n",
    "\n",
    "Assign `pebbles` to a dataframe containing only the amount of calories and sugars per serving of `Fruity Pebbles`.\n",
    "\n",
    "<!--\n",
    "BEGIN QUESTION\n",
    "name: q3_1\n",
    "-->"
   ]
  },
  {
   "cell_type": "code",
   "execution_count": 15,
   "metadata": {
    "cell_id": "6064da6b-dfc6-415b-832f-7f46315dde73",
    "deepnote_cell_type": "code",
    "execution_millis": 4,
    "execution_start": 1605562329570,
    "output_cleared": false,
    "source_hash": "e169d5d7"
   },
   "outputs": [],
   "source": [
    "\n",
    "pebbles = ...\n",
    "pebbles\n",
    "\n",
    "# END PROMPT \"\"\"\n"
   ]
  },
  {
   "cell_type": "code",
   "execution_count": null,
   "metadata": {
    "deletable": false,
    "editable": false
   },
   "outputs": [],
   "source": [
    "grader.check(\"q3_1\")"
   ]
  },
  {
   "cell_type": "markdown",
   "metadata": {
    "cell_id": "b886749e-7e3a-492b-9ae4-375bf9f6f89b",
    "deepnote_cell_type": "markdown",
    "deletable": false,
    "editable": false,
    "tags": []
   },
   "source": [
    "**Question 3.2:** What cereal(s) has the most amount of protein (and consequently is the best for Shashank's gains)? Assign `most_protein` to the name of the cereal with the most protein. If there are multiple cereals with the most protein, you can assign `most_protein` to any of the cereals.\n",
    "\n",
    "_Hint:_ Remeber, if you are doing `series_name[5]`, you are extracting the value with index 5, and not the 5th element. \n",
    "\n",
    "<!--\n",
    "BEGIN QUESTION\n",
    "name: q3_2\n",
    "-->"
   ]
  },
  {
   "cell_type": "code",
   "execution_count": 21,
   "metadata": {
    "cell_id": "b4c3dee6-caf3-4988-893b-dee79947a935",
    "deepnote_cell_type": "code",
    "execution_millis": 2,
    "execution_start": 1605562487779,
    "output_cleared": false,
    "source_hash": "debf0a9f"
   },
   "outputs": [],
   "source": [
    "\"\"\" ##BEGIN PROMPT\n",
    "most_protein = ...\n",
    "most_protein\n",
    "\n",
    "## END PROMPT \"\"\"\n"
   ]
  },
  {
   "cell_type": "code",
   "execution_count": null,
   "metadata": {
    "deletable": false,
    "editable": false
   },
   "outputs": [],
   "source": [
    "grader.check(\"q3_2\")"
   ]
  },
  {
   "cell_type": "markdown",
   "metadata": {
    "cell_id": "69c782da-e593-4209-9feb-2d62c24ec85a",
    "deepnote_cell_type": "markdown",
    "deletable": false,
    "editable": false,
    "tags": []
   },
   "source": [
    "**Question 3.3:** Shashank says that he is also interested in maximizing fiber intake for breakfast.\n",
    "He asks you to find all the cereals with greater than or equal to 4 grams of protein and more than 3 grams of fiber. \n",
    "Assign `qualified_cereals` to all the cereals that have greater than or equal to 4 grams of protein and more than 3 grams of fiber. \n",
    "\n",
    "<!--\n",
    "BEGIN QUESTION\n",
    "name: q3_3\n",
    "-->"
   ]
  },
  {
   "cell_type": "code",
   "execution_count": 23,
   "metadata": {
    "cell_id": "49ec2e95-71d2-4480-bca4-a206c16386ec",
    "deepnote_cell_type": "code",
    "execution_millis": 24,
    "execution_start": 1605562942545,
    "output_cleared": false,
    "source_hash": "bf67670b"
   },
   "outputs": [],
   "source": [
    "\n",
    "qualified_cereals = ...\n",
    "qualified_cereals\n",
    "\n",
    "## END PROMPT \"\"\"\n"
   ]
  },
  {
   "cell_type": "code",
   "execution_count": null,
   "metadata": {
    "deletable": false,
    "editable": false
   },
   "outputs": [],
   "source": [
    "grader.check(\"q3_3\")"
   ]
  },
  {
   "cell_type": "markdown",
   "metadata": {
    "cell_id": "0b6f368a-211f-416d-b5b5-13be49894a24",
    "deepnote_cell_type": "markdown",
    "deletable": false,
    "editable": false,
    "tags": []
   },
   "source": [
    "**Question 3.4:** Suppose we are only interested in the name, protein, fiber, calories, vitamins, and sugar values of all the cereals. \n",
    "Use `.loc` to return a dataframe with all the cereals containing only our columns of interest in the order presented above. Assign this dataframe to the variable `cereal_loc`.\n",
    "\n",
    "<!--\n",
    "BEGIN QUESTION\n",
    "name: q3_4\n",
    "-->"
   ]
  },
  {
   "cell_type": "code",
   "execution_count": 28,
   "metadata": {
    "cell_id": "f4a888b8-c167-4bf6-8868-510c201b792f",
    "deepnote_cell_type": "code",
    "execution_millis": 4,
    "execution_start": 1605563728989,
    "output_cleared": false,
    "source_hash": "aef65d6b",
    "tags": []
   },
   "outputs": [],
   "source": [
    "cereal_loc = ...\n",
    "cereal_loc\n",
    "## END PROMPT \"\"\"\n"
   ]
  },
  {
   "cell_type": "code",
   "execution_count": null,
   "metadata": {
    "deletable": false,
    "editable": false
   },
   "outputs": [],
   "source": [
    "grader.check(\"q3_4\")"
   ]
  },
  {
   "cell_type": "markdown",
   "metadata": {
    "cell_id": "0100d3d6-0360-4d04-bb9b-623d159356bc",
    "deepnote_cell_type": "markdown",
    "deletable": false,
    "editable": false,
    "tags": []
   },
   "source": [
    "**Question 3.5:** After seeing `cereal_loc`, Shashank tells you that he is not interested in the vitamin content of different cereals. Use the  `.drop` funftion to drop all the columns that we do not want. \n",
    "Assign this dataframe to the variable `cereal_drop`.\n",
    "\n",
    "*Hint:* Make sure you are dropping labels along the column axis.\n",
    "\n",
    "<!--\n",
    "BEGIN QUESTION\n",
    "name: q3_5\n",
    "-->"
   ]
  },
  {
   "cell_type": "code",
   "execution_count": 38,
   "metadata": {
    "cell_id": "90c041dc-fccb-4aa5-8f4a-68f45f885854",
    "deepnote_cell_type": "code",
    "execution_millis": 42,
    "execution_start": 1605563902371,
    "output_cleared": false,
    "source_hash": "e5ce46f5"
   },
   "outputs": [],
   "source": [
    "cereal_drop = ...\n",
    "cereal_drop\n",
    "\n",
    "## END PROMPT \"\"\"\n"
   ]
  },
  {
   "cell_type": "code",
   "execution_count": null,
   "metadata": {
    "deletable": false,
    "editable": false
   },
   "outputs": [],
   "source": [
    "grader.check(\"q3_5\")"
   ]
  },
  {
   "cell_type": "markdown",
   "metadata": {
    "cell_id": "80bd3a34-6ec6-4569-8477-6c13daaa59df",
    "deepnote_cell_type": "markdown",
    "deletable": false,
    "editable": false
   },
   "source": [
    "**Question 3.6:** Shashank brings back from Trader Joe's some Honey O's. He tells you the following nutritional information:\n",
    "- Name: Honey O's\n",
    "- Protein: 2 g\n",
    "- Fiber; 2 g\n",
    "- Calories: 110 kcal\n",
    "- Sugars: 9 g\n",
    "\n",
    "Add this new observation into your table `cereal_drop` from 3.5.\n",
    "\n",
    "*Hint:* replace the `...` after `.loc` with the index that you want the new row to be assigned to, and fill in the right hand side of the assignment as a list containing all nessecary nutritional information. The list should have 1 value for each column of the dataframe.\n",
    "\n",
    "<!--\n",
    "BEGIN QUESTION\n",
    "name: q3_6\n",
    "-->"
   ]
  },
  {
   "cell_type": "code",
   "execution_count": 43,
   "metadata": {
    "cell_id": "0321cc93-5e37-4cac-8172-efb527159e0b",
    "deepnote_cell_type": "code",
    "execution_millis": 42,
    "execution_start": 1605563931960,
    "output_cleared": false,
    "source_hash": "f3310ef7"
   },
   "outputs": [],
   "source": [
    "cereal_drop.loc[...] = ...\n",
    "cereal_drop\n",
    "\n",
    "## END PROMPT \"\"\"\n"
   ]
  },
  {
   "cell_type": "code",
   "execution_count": null,
   "metadata": {
    "deletable": false,
    "editable": false
   },
   "outputs": [],
   "source": [
    "grader.check(\"q3_6\")"
   ]
  },
  {
   "cell_type": "markdown",
   "metadata": {
    "cell_id": "a7f0364a-d7d5-40b0-b3d2-bc40699578d2",
    "deepnote_cell_type": "markdown"
   },
   "source": [
    "### Question 4"
   ]
  },
  {
   "cell_type": "markdown",
   "metadata": {
    "cell_id": "d7489e5b-6fb5-4d0f-946e-5dd7fbfb24fa",
    "deepnote_cell_type": "markdown",
    "deletable": false,
    "editable": false
   },
   "source": [
    "You realize that the `cups` column has different cups per serving, so that the nutritional information is not standardized across cereals.\n",
    "Since you normally eat 1 cup of cereal for breakfast, it would be better to see the nutritional values for each cereal per cup. \n",
    "\n",
    "Let's transform the data so that the dataframe reflects the nutritional values of each cereal per cup and store it in a new table called `serving`. `serving` should have all the columns of `cereal_drop`, but the `'calories', 'protein', 'fiber', 'sugars'` columns should reflect serving per 1 cup. \n",
    "\n",
    "*Hint 1:* For example, the serving size for cheerios is 1.25 and the caloric content is 110. We can divide calories by cups (110 / 1.25) to get calories per cup. Similarly, All-Bran with Extra Fiber has 50 calories for 0.5 (or 1/2) cups of serving. Could we divide calories by cups here as well?\n",
    "\n",
    "As a challenge, you can try using `df.div`. You can find the documentation [here](https://pandas.pydata.org/pandas-docs/stable/reference/api/pandas.DataFrame.divide.html). Don't forget the `axis` argument.\n",
    "\n",
    "<!--\n",
    "BEGIN QUESTION\n",
    "name: q4\n",
    "-->"
   ]
  },
  {
   "cell_type": "code",
   "execution_count": 48,
   "metadata": {
    "cell_id": "a08e8125-9438-4ee4-b7a3-a5e903550e6b",
    "deepnote_cell_type": "code",
    "execution_millis": 6,
    "execution_start": 1605564008803,
    "output_cleared": false,
    "source_hash": "3305c778"
   },
   "outputs": [],
   "source": [
    "serving = ...\n",
    "serving\n",
    "\n",
    "## END PROMPT \"\"\"\n"
   ]
  },
  {
   "cell_type": "code",
   "execution_count": null,
   "metadata": {
    "deletable": false,
    "editable": false
   },
   "outputs": [],
   "source": [
    "grader.check(\"q4\")"
   ]
  },
  {
   "cell_type": "markdown",
   "metadata": {
    "cell_id": "6ad8585b-7aef-4ae1-a8e9-c8dc089a8e44",
    "deepnote_cell_type": "markdown",
    "tags": []
   },
   "source": [
    "## Question 5"
   ]
  },
  {
   "cell_type": "markdown",
   "metadata": {
    "cell_id": "9b5608c0-d33b-4b85-a352-3f013406941a",
    "deepnote_cell_type": "markdown",
    "deletable": false,
    "editable": false,
    "tags": []
   },
   "source": [
    "Shashank has tasted all of the different cereals and given them a rating on a scale of 1 (least) to 5(most). The information is stored in the file `ratings.csv`. Your task is to load the file and merge with with the cereal dataset such that each cereal \n",
    "\n",
    "<!--\n",
    "BEGIN QUESTION\n",
    "name: q5\n",
    "-->"
   ]
  },
  {
   "cell_type": "code",
   "execution_count": 54,
   "metadata": {
    "cell_id": "81a28008-8104-473b-8c23-35762b6053d9",
    "deepnote_cell_type": "code",
    "execution_millis": 180,
    "execution_start": 1604823564648,
    "output_cleared": false,
    "source_hash": "354bf7d1"
   },
   "outputs": [],
   "source": [
    "ratings = ...\n",
    "cereal  = ...\n",
    "cereal"
   ]
  },
  {
   "cell_type": "code",
   "execution_count": null,
   "metadata": {
    "deletable": false,
    "editable": false
   },
   "outputs": [],
   "source": [
    "grader.check(\"q5\")"
   ]
  },
  {
   "cell_type": "markdown",
   "metadata": {
    "cell_id": "312cf395-a13a-44fc-8a4f-d42afd24101e",
    "deepnote_cell_type": "markdown",
    "tags": []
   },
   "source": [
    "## GroupBy"
   ]
  },
  {
   "cell_type": "markdown",
   "metadata": {
    "cell_id": "39a78fcb-4558-4839-8947-73cf849a6562",
    "deepnote_cell_type": "markdown",
    "deletable": false,
    "editable": false,
    "tags": []
   },
   "source": [
    "Shashank browses his favorite nutrition blog and sees several articles about the dangers of high sugar consumption. \n",
    "Unfortunately, he also has a big sweet tooth and is worried that he only likes eating cereals that are particularly sweet.\n",
    "\n",
    "Use `.groupby` to return a dataframe with a row for each rating and the average sugar content for the cereals that were given that rating. \n",
    "Make sure that your final dataframe has only one column, `mean_sugars`.\n",
    "\n",
    "Assign the dataframe to `mean_sugar_per_rating`.\n",
    "\n",
    "<!--\n",
    "BEGIN QUESTION\n",
    "name: q6\n",
    "-->"
   ]
  },
  {
   "cell_type": "code",
   "execution_count": 58,
   "metadata": {
    "cell_id": "fb6549e8-ae08-4923-bae8-e8cb6eb9d4f0",
    "deepnote_cell_type": "code",
    "execution_millis": 5,
    "execution_start": 1604823645192,
    "output_cleared": false,
    "source_hash": "4cff50a5",
    "tags": []
   },
   "outputs": [],
   "source": [
    "mean_sugar_per_rating = ...\n",
    "mean_sugar_per_rating = ...\n",
    "mean_sugar_per_rating"
   ]
  },
  {
   "cell_type": "code",
   "execution_count": null,
   "metadata": {
    "deletable": false,
    "editable": false
   },
   "outputs": [],
   "source": [
    "grader.check(\"q6\")"
   ]
  },
  {
   "cell_type": "markdown",
   "metadata": {
    "cell_id": "99e4be64-0c85-4045-a41c-9c0d0e07f96c",
    "deepnote_cell_type": "markdown",
    "tags": []
   },
   "source": [
    "## Pivot"
   ]
  },
  {
   "cell_type": "markdown",
   "metadata": {
    "cell_id": "96cdaaa5-0528-493c-b2ee-2f939059e64d",
    "deepnote_cell_type": "markdown",
    "deletable": false,
    "editable": false,
    "tags": []
   },
   "source": [
    "After giving each cereal his personal rating, Shashank realizes that he wants to also get the cereal with the most\n",
    "protein as well. Shashank is trying to balance his personal taste rating with the amount of protein in each cereal.\n",
    "In the following cell, create a pivot table that compares `shashank_ratings` versus `protein` to visually aid us\n",
    "in balancing Shashank's personal taste and the amount of protein in each cereal. Assign this pivot table to `pivot_df`.\n",
    "\n",
    "<!--\n",
    "BEGIN QUESTION\n",
    "name: q7\n",
    "-->"
   ]
  },
  {
   "cell_type": "code",
   "execution_count": 70,
   "metadata": {
    "cell_id": "a1c86ba4-41ce-401a-af37-36b3bd54faac",
    "deepnote_cell_type": "code",
    "execution_millis": 70,
    "execution_start": 1604823721380,
    "output_cleared": false,
    "source_hash": "e76d6de",
    "tags": []
   },
   "outputs": [],
   "source": [
    "## SOLUTION ##\n",
    "\n",
    "pivot_df = ...\n",
    "pivot_df"
   ]
  },
  {
   "cell_type": "code",
   "execution_count": null,
   "metadata": {
    "deletable": false,
    "editable": false
   },
   "outputs": [],
   "source": [
    "grader.check(\"q7\")"
   ]
  },
  {
   "cell_type": "code",
   "execution_count": null,
   "metadata": {},
   "outputs": [],
   "source": []
  },
  {
   "cell_type": "markdown",
   "metadata": {
    "deletable": false,
    "editable": false
   },
   "source": [
    "---\n",
    "\n",
    "To double-check your work, the cell below will rerun all of the autograder tests."
   ]
  },
  {
   "cell_type": "code",
   "execution_count": null,
   "metadata": {
    "deletable": false,
    "editable": false
   },
   "outputs": [],
   "source": [
    "grader.check_all()"
   ]
  },
  {
   "cell_type": "markdown",
   "metadata": {
    "deletable": false,
    "editable": false
   },
   "source": [
    "## Submission\n",
    "\n",
    "Make sure you have run all cells in your notebook in order before running the cell below, so that all images/graphs appear in the output. The cell below will generate a zip file for you to submit. **Please save before exporting!**"
   ]
  },
  {
   "cell_type": "code",
   "execution_count": null,
   "metadata": {
    "deletable": false,
    "editable": false
   },
   "outputs": [],
   "source": [
    "# Save your notebook first, then run this cell to export your submission.\n",
    "grader.export(pdf=False)"
   ]
  },
  {
   "cell_type": "markdown",
   "metadata": {},
   "source": [
    " "
   ]
  }
 ],
 "metadata": {
  "deepnote_execution_queue": [],
  "deepnote_notebook_id": "0f47af2a-eac2-42c0-bfe9-f49413357e86",
  "kernelspec": {
   "display_name": "Python 3",
   "language": "python",
   "name": "python3"
  },
  "language_info": {
   "codemirror_mode": {
    "name": "ipython",
    "version": 3
   },
   "file_extension": ".py",
   "mimetype": "text/x-python",
   "name": "python",
   "nbconvert_exporter": "python",
   "pygments_lexer": "ipython3",
   "version": "3.8.1"
  }
 },
 "nbformat": 4,
 "nbformat_minor": 2
}
